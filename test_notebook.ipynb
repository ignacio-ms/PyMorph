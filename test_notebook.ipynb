{
 "cells": [
  {
   "cell_type": "code",
   "id": "initial_id",
   "metadata": {
    "collapsed": true,
    "ExecuteTime": {
     "end_time": "2024-07-01T08:45:04.574269Z",
     "start_time": "2024-07-01T08:45:04.045079Z"
    }
   },
   "source": [
    "import nibabel as nib\n",
    "import numpy as np\n",
    "import cv2 as cv"
   ],
   "outputs": [],
   "execution_count": 2
  },
  {
   "metadata": {
    "ExecuteTime": {
     "end_time": "2024-07-01T08:45:34.040304Z",
     "start_time": "2024-07-01T08:45:04.576487Z"
    }
   },
   "cell_type": "code",
   "source": [
    "data_cell = nib.load('data/Gr4/RawImages/Membrane/20190806_E3_mGFP_decon_0.5.nii.gz')\n",
    "data_cell_seg = nib.load('data/Gr4/Segmentation/Membrane/20190806_E3_mGFP_XYZ_predictions_GASP.nii.gz')\n",
    "data_nuclei = nib.load('data/Gr4/RawImages/Nuclei/20190806_E3_DAPI_decon_0.5.nii.gz')\n",
    "data_nuclei_seg = nib.load('data/Gr4/Segmentation/Nuclei/20190806_E3_MASK_EQ_XYZ_decon_filtered.nii.gz')\n",
    "\n",
    "img_cell = data_cell.get_fdata()\n",
    "img_cell_seg = data_cell_seg.get_fdata()\n",
    "img_nuclei = data_nuclei.get_fdata()\n",
    "img_nuclei_seg = data_nuclei_seg.get_fdata()"
   ],
   "id": "c5781365f6ec5377",
   "outputs": [],
   "execution_count": 3
  },
  {
   "metadata": {
    "ExecuteTime": {
     "end_time": "2024-07-01T08:45:34.114365Z",
     "start_time": "2024-07-01T08:45:34.066694Z"
    }
   },
   "cell_type": "code",
   "source": [
    "print(img_cell.shape)\n",
    "print(img_cell_seg.shape)\n",
    "print(img_nuclei.shape)\n",
    "print(img_nuclei_seg.shape)"
   ],
   "id": "951eef4b5ad695fb",
   "outputs": [
    {
     "name": "stdout",
     "output_type": "stream",
     "text": [
      "(1024, 1024, 541, 1)\n",
      "(1024, 1024, 541)\n",
      "(1024, 1024, 541, 1)\n",
      "(1024, 1024, 541)\n"
     ]
    }
   ],
   "execution_count": 4
  },
  {
   "metadata": {
    "ExecuteTime": {
     "end_time": "2024-07-01T08:46:55.797466Z",
     "start_time": "2024-07-01T08:45:34.114365Z"
    }
   },
   "cell_type": "code",
   "source": [
    "img_seg = np.zeros((img_cell.shape[0], img_cell.shape[1], img_cell.shape[2], 3))\n",
    "img_seg[:,:,:,0] = img_cell_seg[:,:,:]\n",
    "img_seg[:,:,:,1] = img_nuclei_seg[:,:,:]\n",
    "print(img_seg.shape)"
   ],
   "id": "89ef609e374852e4",
   "outputs": [
    {
     "name": "stdout",
     "output_type": "stream",
     "text": [
      "(1024, 1024, 541, 3)\n"
     ]
    }
   ],
   "execution_count": 5
  },
  {
   "metadata": {
    "ExecuteTime": {
     "end_time": "2024-07-01T09:45:46.634192Z",
     "start_time": "2024-07-01T09:45:01.906499Z"
    }
   },
   "cell_type": "code",
   "source": [
    "cv.imshow('image', img_seg[:,:,270,:])\n",
    "cv.waitKey(0)\n",
    "cv.destroyAllWindows()"
   ],
   "id": "939ac6a3b7d2f38e",
   "outputs": [],
   "execution_count": 28
  },
  {
   "metadata": {
    "ExecuteTime": {
     "end_time": "2024-07-01T09:54:23.007760Z",
     "start_time": "2024-07-01T09:53:29.228056Z"
    }
   },
   "cell_type": "code",
   "source": [
    "img_m = np.zeros((img_cell.shape[0], img_cell.shape[1], img_cell.shape[2], 3), dtype=np.uint8)\n",
    "img_m[:,:,:,1] = img_cell[:,:,:, 0]\n",
    "img_m[:,:,:,0] = img_nuclei[:,:,:, 0]\n",
    "print(img_m.shape)"
   ],
   "id": "36a46e2993a6b9e9",
   "outputs": [
    {
     "name": "stdout",
     "output_type": "stream",
     "text": [
      "(1024, 1024, 541, 3)\n"
     ]
    }
   ],
   "execution_count": 39
  },
  {
   "metadata": {
    "ExecuteTime": {
     "end_time": "2024-07-01T10:37:50.462586Z",
     "start_time": "2024-07-01T10:37:49.056066Z"
    }
   },
   "cell_type": "code",
   "source": [
    "cv.imshow('image', img_m[:,:,0,:])\n",
    "cv.waitKey(0)\n",
    "cv.destroyAllWindows()"
   ],
   "id": "bd34d72b8c731e8e",
   "outputs": [],
   "execution_count": 49
  },
  {
   "metadata": {
    "ExecuteTime": {
     "end_time": "2024-07-01T10:37:56.511193Z",
     "start_time": "2024-07-01T10:37:56.447860Z"
    }
   },
   "cell_type": "code",
   "source": "cv.imwrite('test_all_4.png', img_m[:,:,0,:])",
   "id": "8f03aac09d28920",
   "outputs": [
    {
     "data": {
      "text/plain": [
       "True"
      ]
     },
     "execution_count": 50,
     "metadata": {},
     "output_type": "execute_result"
    }
   ],
   "execution_count": 50
  },
  {
   "metadata": {
    "ExecuteTime": {
     "end_time": "2024-07-01T09:37:38.466473Z",
     "start_time": "2024-07-01T09:37:38.434478Z"
    }
   },
   "cell_type": "code",
   "source": [
    "img = cv.imread('../data/Gr4/Segmentation/Nuclei/20190806_E6_Fernando.tif')\n",
    "print(img.shape)"
   ],
   "id": "efa83b1a48705d90",
   "outputs": [
    {
     "ename": "AttributeError",
     "evalue": "'NoneType' object has no attribute 'shape'",
     "output_type": "error",
     "traceback": [
      "\u001B[1;31m---------------------------------------------------------------------------\u001B[0m",
      "\u001B[1;31mAttributeError\u001B[0m                            Traceback (most recent call last)",
      "Cell \u001B[1;32mIn[23], line 2\u001B[0m\n\u001B[0;32m      1\u001B[0m img \u001B[38;5;241m=\u001B[39m cv\u001B[38;5;241m.\u001B[39mimread(\u001B[38;5;124m'\u001B[39m\u001B[38;5;124m../data/Gr4/Segmentation/Nuclei/20190806_E6_Fernando.tif\u001B[39m\u001B[38;5;124m'\u001B[39m)\n\u001B[1;32m----> 2\u001B[0m \u001B[38;5;28mprint\u001B[39m(\u001B[43mimg\u001B[49m\u001B[38;5;241;43m.\u001B[39;49m\u001B[43mshape\u001B[49m)\n",
      "\u001B[1;31mAttributeError\u001B[0m: 'NoneType' object has no attribute 'shape'"
     ]
    }
   ],
   "execution_count": 23
  },
  {
   "metadata": {
    "ExecuteTime": {
     "end_time": "2024-07-01T09:37:11.672571Z",
     "start_time": "2024-07-01T09:37:11.656480Z"
    }
   },
   "cell_type": "code",
   "source": [
    "from PIL import Image\n",
    "img = Image.open('../data/Gr4/Segmentation/Nuclei/20190806_E6_Fernando.tif')\n",
    "print(img.size)"
   ],
   "id": "e27df92486996a98",
   "outputs": [
    {
     "name": "stdout",
     "output_type": "stream",
     "text": [
      "(1024, 1024)\n"
     ]
    }
   ],
   "execution_count": 21
  },
  {
   "metadata": {},
   "cell_type": "code",
   "outputs": [],
   "execution_count": null,
   "source": "# import rasterio",
   "id": "703af2848704a868"
  }
 ],
 "metadata": {
  "kernelspec": {
   "display_name": "Python 3",
   "language": "python",
   "name": "python3"
  },
  "language_info": {
   "codemirror_mode": {
    "name": "ipython",
    "version": 2
   },
   "file_extension": ".py",
   "mimetype": "text/x-python",
   "name": "python",
   "nbconvert_exporter": "python",
   "pygments_lexer": "ipython2",
   "version": "2.7.6"
  }
 },
 "nbformat": 4,
 "nbformat_minor": 5
}
