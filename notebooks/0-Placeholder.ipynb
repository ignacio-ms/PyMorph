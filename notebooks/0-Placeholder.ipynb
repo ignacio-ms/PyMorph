{
 "cells": [
  {
   "cell_type": "code",
   "id": "initial_id",
   "metadata": {
    "collapsed": true,
    "ExecuteTime": {
     "end_time": "2024-08-20T10:00:16.456203Z",
     "start_time": "2024-08-20T10:00:16.212484Z"
    }
   },
   "source": [
    "import numpy as np\n",
    "import matplotlib.pyplot as plt\n",
    "\n",
    "from auxiliary import values as v\n",
    "from auxiliary.utils.colors import bcolors as c\n",
    "from auxiliary.data import imaging\n",
    "\n",
    "from filtering import cardiac_region as cr\n",
    "from feature_extraction import feature_extractor as fe"
   ],
   "outputs": [
    {
     "ename": "ImportError",
     "evalue": "cannot import name 'TerminationCondition' from 'scipy.optimize.nonlin' (/home/imarcoss/mambaforge/envs/py310ml/lib/python3.10/site-packages/scipy/optimize/nonlin.py)",
     "output_type": "error",
     "traceback": [
      "\u001B[0;31m---------------------------------------------------------------------------\u001B[0m",
      "\u001B[0;31mImportError\u001B[0m                               Traceback (most recent call last)",
      "Cell \u001B[0;32mIn[7], line 9\u001B[0m\n\u001B[1;32m      6\u001B[0m \u001B[38;5;28;01mfrom\u001B[39;00m \u001B[38;5;21;01mauxiliary\u001B[39;00m\u001B[38;5;21;01m.\u001B[39;00m\u001B[38;5;21;01mdata\u001B[39;00m \u001B[38;5;28;01mimport\u001B[39;00m imaging\n\u001B[1;32m      8\u001B[0m \u001B[38;5;28;01mfrom\u001B[39;00m \u001B[38;5;21;01mfiltering\u001B[39;00m \u001B[38;5;28;01mimport\u001B[39;00m cardiac_region \u001B[38;5;28;01mas\u001B[39;00m cr\n\u001B[0;32m----> 9\u001B[0m \u001B[38;5;28;01mfrom\u001B[39;00m \u001B[38;5;21;01mfeature_extraction\u001B[39;00m \u001B[38;5;28;01mimport\u001B[39;00m feature_extractor \u001B[38;5;28;01mas\u001B[39;00m fe\n",
      "File \u001B[0;32m~/ht_morphogenesis/feature_extraction/feature_extractor.py:10\u001B[0m\n\u001B[1;32m      8\u001B[0m \u001B[38;5;28;01mfrom\u001B[39;00m \u001B[38;5;21;01mskimage\u001B[39;00m \u001B[38;5;28;01mimport\u001B[39;00m morphology\n\u001B[1;32m      9\u001B[0m \u001B[38;5;28;01mimport\u001B[39;00m \u001B[38;5;21;01mSimpleITK\u001B[39;00m \u001B[38;5;28;01mas\u001B[39;00m \u001B[38;5;21;01msitk\u001B[39;00m\n\u001B[0;32m---> 10\u001B[0m \u001B[38;5;28;01mimport\u001B[39;00m \u001B[38;5;21;01mporespy\u001B[39;00m \u001B[38;5;28;01mas\u001B[39;00m \u001B[38;5;21;01mps\u001B[39;00m\n\u001B[1;32m     11\u001B[0m \u001B[38;5;28;01mfrom\u001B[39;00m \u001B[38;5;21;01mradiomics\u001B[39;00m \u001B[38;5;28;01mimport\u001B[39;00m shape, firstorder\n\u001B[1;32m     13\u001B[0m \u001B[38;5;28;01mfrom\u001B[39;00m \u001B[38;5;21;01mcollections\u001B[39;00m \u001B[38;5;28;01mimport\u001B[39;00m Counter\n",
      "File \u001B[0;32m~/mambaforge/envs/py310ml/lib/python3.10/site-packages/porespy/__init__.py:22\u001B[0m\n\u001B[1;32m     20\u001B[0m \u001B[38;5;28;01mfrom\u001B[39;00m \u001B[38;5;21;01m.\u001B[39;00m \u001B[38;5;28;01mimport\u001B[39;00m filters\n\u001B[1;32m     21\u001B[0m \u001B[38;5;28;01mfrom\u001B[39;00m \u001B[38;5;21;01m.\u001B[39;00m \u001B[38;5;28;01mimport\u001B[39;00m metrics\n\u001B[0;32m---> 22\u001B[0m \u001B[38;5;28;01mfrom\u001B[39;00m \u001B[38;5;21;01m.\u001B[39;00m \u001B[38;5;28;01mimport\u001B[39;00m networks\n\u001B[1;32m     23\u001B[0m \u001B[38;5;28;01mfrom\u001B[39;00m \u001B[38;5;21;01m.\u001B[39;00m \u001B[38;5;28;01mimport\u001B[39;00m generators\n\u001B[1;32m     24\u001B[0m \u001B[38;5;28;01mfrom\u001B[39;00m \u001B[38;5;21;01m.\u001B[39;00m \u001B[38;5;28;01mimport\u001B[39;00m simulations\n",
      "File \u001B[0;32m~/mambaforge/envs/py310ml/lib/python3.10/site-packages/porespy/networks/__init__.py:26\u001B[0m\n\u001B[1;32m      1\u001B[0m \u001B[38;5;124mr\u001B[39m\u001B[38;5;124;03m\"\"\"\u001B[39;00m\n\u001B[1;32m      2\u001B[0m \n\u001B[1;32m      3\u001B[0m \u001B[38;5;124;03mCollection of functions for obtaining network representations of images\u001B[39;00m\n\u001B[0;32m   (...)\u001B[0m\n\u001B[1;32m     23\u001B[0m \n\u001B[1;32m     24\u001B[0m \u001B[38;5;124;03m\"\"\"\u001B[39;00m\n\u001B[0;32m---> 26\u001B[0m \u001B[38;5;28;01mfrom\u001B[39;00m \u001B[38;5;21;01m.\u001B[39;00m\u001B[38;5;21;01m_funcs\u001B[39;00m \u001B[38;5;28;01mimport\u001B[39;00m \u001B[38;5;241m*\u001B[39m\n\u001B[1;32m     27\u001B[0m \u001B[38;5;28;01mfrom\u001B[39;00m \u001B[38;5;21;01m.\u001B[39;00m\u001B[38;5;21;01m_maximal_ball\u001B[39;00m \u001B[38;5;28;01mimport\u001B[39;00m \u001B[38;5;241m*\u001B[39m\n\u001B[1;32m     28\u001B[0m \u001B[38;5;28;01mfrom\u001B[39;00m \u001B[38;5;21;01m.\u001B[39;00m\u001B[38;5;21;01m_getnet\u001B[39;00m \u001B[38;5;28;01mimport\u001B[39;00m \u001B[38;5;241m*\u001B[39m\n",
      "File \u001B[0;32m~/mambaforge/envs/py310ml/lib/python3.10/site-packages/porespy/networks/_funcs.py:3\u001B[0m\n\u001B[1;32m      1\u001B[0m \u001B[38;5;28;01mimport\u001B[39;00m \u001B[38;5;21;01mlogging\u001B[39;00m\n\u001B[1;32m      2\u001B[0m \u001B[38;5;28;01mimport\u001B[39;00m \u001B[38;5;21;01mnumpy\u001B[39;00m \u001B[38;5;28;01mas\u001B[39;00m \u001B[38;5;21;01mnp\u001B[39;00m\n\u001B[0;32m----> 3\u001B[0m \u001B[38;5;28;01mimport\u001B[39;00m \u001B[38;5;21;01mopenpnm\u001B[39;00m \u001B[38;5;28;01mas\u001B[39;00m \u001B[38;5;21;01mop\u001B[39;00m\n\u001B[1;32m      4\u001B[0m \u001B[38;5;28;01mimport\u001B[39;00m \u001B[38;5;21;01mscipy\u001B[39;00m\u001B[38;5;21;01m.\u001B[39;00m\u001B[38;5;21;01mndimage\u001B[39;00m \u001B[38;5;28;01mas\u001B[39;00m \u001B[38;5;21;01mspim\u001B[39;00m\n\u001B[1;32m      5\u001B[0m \u001B[38;5;28;01mfrom\u001B[39;00m \u001B[38;5;21;01mskimage\u001B[39;00m\u001B[38;5;21;01m.\u001B[39;00m\u001B[38;5;21;01msegmentation\u001B[39;00m \u001B[38;5;28;01mimport\u001B[39;00m find_boundaries\n",
      "File \u001B[0;32m~/mambaforge/envs/py310ml/lib/python3.10/site-packages/openpnm/__init__.py:22\u001B[0m\n\u001B[1;32m     16\u001B[0m logging\u001B[38;5;241m.\u001B[39mbasicConfig(\n\u001B[1;32m     17\u001B[0m     \u001B[38;5;28mformat\u001B[39m\u001B[38;5;241m=\u001B[39mFORMAT, datefmt\u001B[38;5;241m=\u001B[39m\u001B[38;5;124m\"\u001B[39m\u001B[38;5;124m[\u001B[39m\u001B[38;5;132;01m%X\u001B[39;00m\u001B[38;5;124m]\u001B[39m\u001B[38;5;124m\"\u001B[39m, handlers\u001B[38;5;241m=\u001B[39m[RichHandler(rich_tracebacks\u001B[38;5;241m=\u001B[39m\u001B[38;5;28;01mTrue\u001B[39;00m)]\n\u001B[1;32m     18\u001B[0m )\n\u001B[1;32m     20\u001B[0m \u001B[38;5;28;01mimport\u001B[39;00m \u001B[38;5;21;01mnumpy\u001B[39;00m \u001B[38;5;28;01mas\u001B[39;00m \u001B[38;5;21;01m_np\u001B[39;00m\n\u001B[0;32m---> 22\u001B[0m \u001B[38;5;28;01mfrom\u001B[39;00m \u001B[38;5;21;01m.\u001B[39;00m \u001B[38;5;28;01mimport\u001B[39;00m (\n\u001B[1;32m     23\u001B[0m     _skgraph,\n\u001B[1;32m     24\u001B[0m     algorithms,\n\u001B[1;32m     25\u001B[0m     contrib,\n\u001B[1;32m     26\u001B[0m     core,\n\u001B[1;32m     27\u001B[0m     integrators,\n\u001B[1;32m     28\u001B[0m     io,\n\u001B[1;32m     29\u001B[0m     models,\n\u001B[1;32m     30\u001B[0m     network,\n\u001B[1;32m     31\u001B[0m     phase,\n\u001B[1;32m     32\u001B[0m     solvers,\n\u001B[1;32m     33\u001B[0m     topotools,\n\u001B[1;32m     34\u001B[0m     utils,\n\u001B[1;32m     35\u001B[0m     visualization,\n\u001B[1;32m     36\u001B[0m )\n\u001B[1;32m     37\u001B[0m \u001B[38;5;28;01mfrom\u001B[39;00m \u001B[38;5;21;01m.\u001B[39;00m\u001B[38;5;21;01mutils\u001B[39;00m \u001B[38;5;28;01mimport\u001B[39;00m Project, Workspace\n\u001B[1;32m     39\u001B[0m _np\u001B[38;5;241m.\u001B[39mseterr(divide\u001B[38;5;241m=\u001B[39m\u001B[38;5;124m'\u001B[39m\u001B[38;5;124mignore\u001B[39m\u001B[38;5;124m'\u001B[39m, invalid\u001B[38;5;241m=\u001B[39m\u001B[38;5;124m'\u001B[39m\u001B[38;5;124mignore\u001B[39m\u001B[38;5;124m'\u001B[39m)\n",
      "File \u001B[0;32m~/mambaforge/envs/py310ml/lib/python3.10/site-packages/openpnm/algorithms/__init__.py:13\u001B[0m\n\u001B[1;32m     10\u001B[0m \u001B[38;5;28;01mfrom\u001B[39;00m \u001B[38;5;21;01m.\u001B[39;00m\u001B[38;5;21;01m_algorithm\u001B[39;00m \u001B[38;5;28;01mimport\u001B[39;00m \u001B[38;5;241m*\u001B[39m\n\u001B[1;32m     11\u001B[0m \u001B[38;5;28;01mfrom\u001B[39;00m \u001B[38;5;21;01m.\u001B[39;00m\u001B[38;5;21;01m_transport\u001B[39;00m \u001B[38;5;28;01mimport\u001B[39;00m \u001B[38;5;241m*\u001B[39m\n\u001B[0;32m---> 13\u001B[0m \u001B[38;5;28;01mfrom\u001B[39;00m \u001B[38;5;21;01m.\u001B[39;00m\u001B[38;5;21;01m_reactive_transport\u001B[39;00m \u001B[38;5;28;01mimport\u001B[39;00m \u001B[38;5;241m*\u001B[39m\n\u001B[1;32m     14\u001B[0m \u001B[38;5;28;01mfrom\u001B[39;00m \u001B[38;5;21;01m.\u001B[39;00m\u001B[38;5;21;01m_transient_reactive_transport\u001B[39;00m \u001B[38;5;28;01mimport\u001B[39;00m \u001B[38;5;241m*\u001B[39m\n\u001B[1;32m     16\u001B[0m \u001B[38;5;28;01mfrom\u001B[39;00m \u001B[38;5;21;01m.\u001B[39;00m\u001B[38;5;21;01m_stokes_flow\u001B[39;00m \u001B[38;5;28;01mimport\u001B[39;00m \u001B[38;5;241m*\u001B[39m\n",
      "File \u001B[0;32m~/mambaforge/envs/py310ml/lib/python3.10/site-packages/openpnm/algorithms/_reactive_transport.py:6\u001B[0m\n\u001B[1;32m      4\u001B[0m \u001B[38;5;28;01mimport\u001B[39;00m \u001B[38;5;21;01mnumpy\u001B[39;00m \u001B[38;5;28;01mas\u001B[39;00m \u001B[38;5;21;01mnp\u001B[39;00m\n\u001B[1;32m      5\u001B[0m \u001B[38;5;28;01mfrom\u001B[39;00m \u001B[38;5;21;01mnumpy\u001B[39;00m\u001B[38;5;21;01m.\u001B[39;00m\u001B[38;5;21;01mlinalg\u001B[39;00m \u001B[38;5;28;01mimport\u001B[39;00m norm\n\u001B[0;32m----> 6\u001B[0m \u001B[38;5;28;01mfrom\u001B[39;00m \u001B[38;5;21;01mscipy\u001B[39;00m\u001B[38;5;21;01m.\u001B[39;00m\u001B[38;5;21;01moptimize\u001B[39;00m\u001B[38;5;21;01m.\u001B[39;00m\u001B[38;5;21;01mnonlin\u001B[39;00m \u001B[38;5;28;01mimport\u001B[39;00m TerminationCondition\n\u001B[1;32m      7\u001B[0m \u001B[38;5;28;01mfrom\u001B[39;00m \u001B[38;5;21;01mtqdm\u001B[39;00m\u001B[38;5;21;01m.\u001B[39;00m\u001B[38;5;21;01mauto\u001B[39;00m \u001B[38;5;28;01mimport\u001B[39;00m tqdm\n\u001B[1;32m      9\u001B[0m \u001B[38;5;28;01mfrom\u001B[39;00m \u001B[38;5;21;01mopenpnm\u001B[39;00m\u001B[38;5;21;01m.\u001B[39;00m\u001B[38;5;21;01malgorithms\u001B[39;00m \u001B[38;5;28;01mimport\u001B[39;00m Transport\n",
      "\u001B[0;31mImportError\u001B[0m: cannot import name 'TerminationCondition' from 'scipy.optimize.nonlin' (/home/imarcoss/mambaforge/envs/py310ml/lib/python3.10/site-packages/scipy/optimize/nonlin.py)"
     ]
    }
   ],
   "execution_count": 7
  },
  {
   "metadata": {
    "ExecuteTime": {
     "end_time": "2024-08-20T10:00:20.724258Z",
     "start_time": "2024-08-20T10:00:20.716519Z"
    }
   },
   "cell_type": "code",
   "source": [
    "def filter_by_margin(seg_img, margin=2, verbose=0):\n",
    "    \"\"\"\n",
    "    Remove all cells in contact with the image border.\n",
    "    :param seg_img: Segmented image.\n",
    "    :param margin: Pixels around the border. (default: 2)\n",
    "    :param verbose: Verbosity level. (default: 0)\n",
    "    :return: Filtered segmentation image.\n",
    "    \"\"\"\n",
    "    if verbose:\n",
    "        print(f'{c.OKBLUE}Filtering by margin...{c.ENDC}')\n",
    "\n",
    "    # Get the cell ids in contact with the XY border according to the margin\n",
    "    border = np.zeros(seg_img.shape, dtype=bool)\n",
    "    border[:, :, :margin] = True\n",
    "    border[:, :, -margin:] = True\n",
    "    border[:, :margin, :] = True\n",
    "    border[:, -margin:, :] = True\n",
    "\n",
    "    border_cells = np.unique(seg_img[border])\n",
    "\n",
    "    if verbose:\n",
    "        print(f'\\tRemoving{c.BOLD} {len(border_cells)} {c.ENDC} cells in contact with the border')\n",
    "\n",
    "    # Set to zero the cells in contact with the border\n",
    "    for cell in border_cells:\n",
    "        if cell != 0:\n",
    "            seg_img[seg_img == cell] = 0\n",
    "\n",
    "    return seg_img"
   ],
   "id": "882e2f56506763d7",
   "outputs": [],
   "execution_count": 8
  },
  {
   "metadata": {
    "ExecuteTime": {
     "end_time": "2024-08-20T09:57:10.004773Z",
     "start_time": "2024-08-20T09:57:06.158507Z"
    }
   },
   "cell_type": "code",
   "source": [
    "masks = imaging.read_nii(\n",
    "    v.data_path + 'Gr1/Segmentation/Nuclei/20190208_E2_mask_myocardium_splanchnic.nii.gz',\n",
    "    axes='ZYX',\n",
    "    verbose=1\n",
    ")"
   ],
   "id": "144443a6c3df3232",
   "outputs": [
    {
     "name": "stdout",
     "output_type": "stream",
     "text": [
      "\u001B[94mReading NIfTI\u001B[0m: /run/user/1003/gvfs/smb-share:server=tierra.cnic.es,share=sc/LAB_MT/LAB/Ignacio/Gr1/Segmentation/Nuclei/20190208_E2_mask_myocardium_splanchnic.nii.gz\n"
     ]
    }
   ],
   "execution_count": 3
  },
  {
   "metadata": {},
   "cell_type": "code",
   "outputs": [],
   "execution_count": null,
   "source": "",
   "id": "e52740365d117e7e"
  }
 ],
 "metadata": {
  "kernelspec": {
   "display_name": "Python 3",
   "language": "python",
   "name": "python3"
  },
  "language_info": {
   "codemirror_mode": {
    "name": "ipython",
    "version": 2
   },
   "file_extension": ".py",
   "mimetype": "text/x-python",
   "name": "python",
   "nbconvert_exporter": "python",
   "pygments_lexer": "ipython2",
   "version": "2.7.6"
  }
 },
 "nbformat": 4,
 "nbformat_minor": 5
}
