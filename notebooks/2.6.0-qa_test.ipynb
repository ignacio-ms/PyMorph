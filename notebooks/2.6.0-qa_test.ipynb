{
 "cells": [
  {
   "cell_type": "code",
   "id": "initial_id",
   "metadata": {
    "collapsed": true,
    "ExecuteTime": {
     "end_time": "2024-10-01T14:05:56.376382Z",
     "start_time": "2024-10-01T14:05:50.178233Z"
    }
   },
   "source": [
    "import numpy as np\n",
    "import matplotlib.pyplot as plt\n",
    "import pandas as pd\n",
    "import scipy.ndimage as nd\n",
    "import cv2\n",
    "\n",
    "from auxiliary import values as v\n",
    "# from auxiliary.utils.colors import bcolors as c\n",
    "from auxiliary.data import imaging\n",
    "from auxiliary.utils.timer import LoadingBar\n",
    "\n",
    "from filtering import cardiac_region as cr\n",
    "from filtering.run_filter_tissue import filter_by_tissue\n",
    "from feature_extraction.feature_extractor import filter_by_margin, filter_by_volume\n",
    "from auxiliary.data.dataset_ht import HtDataset\n",
    "from nuclei_segmentation.run_cellpose import predict\n",
    "import json"
   ],
   "outputs": [
    {
     "name": "stdout",
     "output_type": "stream",
     "text": [
      "GPU activated: False\n"
     ]
    }
   ],
   "execution_count": 1
  },
  {
   "metadata": {
    "ExecuteTime": {
     "end_time": "2024-10-01T15:01:38.410513Z",
     "start_time": "2024-10-01T15:01:38.109525Z"
    }
   },
   "cell_type": "code",
   "source": [
    "# img_path = v.data_path + 'Gr1/RawImages/Nuclei/QC_CROP/20190208_E2_DAPI_decon_0.5_crop.nii.gz'\n",
    "# img_path_gt = v.data_path + 'Gr1/Segmentation/Nuclei/QC_CROP/20190208_E2_nuclei_mask_crop_GT.nii.gz'\n",
    "# img_path_pred = v.data_path + 'Gr1/Segmentation/Nuclei/QC_CROP/20190208_E2_nuclei_mask_crop_2D_5_6_45_M_BI_all.nii.gz'\n",
    "# \n",
    "# img = imaging.read_image(img_path, axes='XYZ', verbose=1)\n",
    "# img_gt = imaging.read_image(img_path_gt, axes='XYZ', verbose=1)\n",
    "# img_pred = imaging.read_image(img_path_pred, axes='XYZ', verbose=1)"
   ],
   "id": "22ff8e844ffcce71",
   "outputs": [
    {
     "name": "stdout",
     "output_type": "stream",
     "text": [
      "\u001B[94mReading NIfTI\u001B[0m: /run/user/1003/gvfs/smb-share:server=tierra.cnic.es,share=sc/LAB_MT/LAB/Ignacio/Gr1/RawImages/Nuclei/QC_CROP/20190208_E2_DAPI_decon_0.5_crop.nii.gz\n",
      "\u001B[94mReading NIfTI\u001B[0m: /run/user/1003/gvfs/smb-share:server=tierra.cnic.es,share=sc/LAB_MT/LAB/Ignacio/Gr1/Segmentation/Nuclei/QC_CROP/20190208_E2_nuclei_mask_crop_GT.nii.gz\n",
      "\u001B[94mReading NIfTI\u001B[0m: /run/user/1003/gvfs/smb-share:server=tierra.cnic.es,share=sc/LAB_MT/LAB/Ignacio/Gr1/Segmentation/Nuclei/QC_CROP/20190208_E2_nuclei_mask_crop_2D_5_6_45_M_BI_all.nii.gz\n"
     ]
    }
   ],
   "execution_count": 47
  },
  {
   "metadata": {
    "ExecuteTime": {
     "end_time": "2024-10-01T15:09:36.616914Z",
     "start_time": "2024-10-01T15:09:36.605075Z"
    }
   },
   "cell_type": "code",
   "source": [
    "# cell_id = 70\n",
    "# \n",
    "# margins = cr.get_cell_margins(img_gt, cell_id)\n",
    "# \n",
    "# crop_gt = cr.crop_img(img_gt, margins, verbose=1)\n",
    "# crop_pred = cr.crop_img(img_pred, margins, verbose=1)\n",
    "# \n",
    "# crop_gt[crop_gt != cell_id] = 0\n",
    "# crop_pred[crop_pred != 84] = 0\n",
    "# \n",
    "# imaging.save_tiff_imagej_compatible('crop_gt.tif', crop_gt, axes='YXZ')\n",
    "# imaging.save_tiff_imagej_compatible('crop_pred.tif', crop_pred, axes='YXZ')"
   ],
   "id": "a012804ccdbb13e0",
   "outputs": [
    {
     "name": "stdout",
     "output_type": "stream",
     "text": [
      "\u001B[1mCropped image shape\u001B[0m: (27, 22, 40)\n",
      "\u001B[1mCropped image shape\u001B[0m: (27, 22, 40)\n"
     ]
    },
    {
     "name": "stderr",
     "output_type": "stream",
     "text": [
      "/home/imarcoss/mambaforge/envs/py310ml/lib/python3.10/site-packages/csbdeep/io/__init__.py:43: UserWarning: Converting data type from 'float64' to ImageJ-compatible 'float32'.\n",
      "  warnings.warn(\"Converting data type from '%s' to ImageJ-compatible '%s'.\" % (t, np.dtype(t_new)))\n"
     ]
    }
   ],
   "execution_count": 51
  },
  {
   "metadata": {},
   "cell_type": "markdown",
   "source": "Generate artificial image with circles",
   "id": "52f95aa66436a08a"
  },
  {
   "metadata": {
    "ExecuteTime": {
     "end_time": "2024-10-01T14:14:47.913227Z",
     "start_time": "2024-10-01T14:14:47.900835Z"
    }
   },
   "cell_type": "code",
   "source": [
    "def generate_gt():\n",
    "    img = np.zeros((100, 100), dtype=np.uint8)\n",
    "    \n",
    "    cv2.circle(img, (20, 20), 10, 1, -1)\n",
    "    cv2.circle(img, (40, 40), 7, 2, -1)\n",
    "    \n",
    "    cv2.circle(img, (60, 60), 10, 3, -1)\n",
    "    cv2.circle(img, (70, 70), 11, 4, -1)\n",
    "    \n",
    "    return img\n",
    "\n",
    "def generate_pred(type='perfect'):\n",
    "    img = np.zeros((100, 100), dtype=np.uint8)\n",
    "    \n",
    "    if type == 'perfect':\n",
    "        cv2.circle(img, (20, 20), 10, 1, -1)\n",
    "        cv2.circle(img, (40, 40), 7, 2, -1)\n",
    "        \n",
    "        cv2.circle(img, (60, 60), 10, 3, -1)\n",
    "        cv2.circle(img, (70, 70), 11, 4, -1)     \n",
    "    elif type == 'under':\n",
    "        cv2.circle(img, (20, 20), 7, 1, -1)\n",
    "        cv2.circle(img, (40, 40), 3, 2, -1)\n",
    "        \n",
    "        cv2.circle(img, (60, 60), 7, 3, -1)\n",
    "        cv2.circle(img, (70, 70), 8, 4, -1)\n",
    "    elif type == 'over':\n",
    "        cv2.circle(img, (20, 20), 15, 1, -1)\n",
    "        cv2.circle(img, (40, 40), 11, 2, -1)\n",
    "        \n",
    "        cv2.circle(img, (60, 60), 15, 3, -1)\n",
    "        cv2.circle(img, (70, 70), 16, 4, -1)\n",
    "        \n",
    "    elif type == 'wrong':\n",
    "        cv2.circle(img, (20, 20), 13, 1, -1)\n",
    "        # cv2.circle(img, (40, 40), 9, 2, -1)\n",
    "        \n",
    "        cv2.circle(img, (60, 60), 13, 2, -1)\n",
    "        cv2.circle(img, (60, 70), 12, 3, -1)\n",
    "        \n",
    "        cv2.circle(img, (10, 70), 10, 4, -1)\n",
    "    \n",
    "    return img"
   ],
   "id": "558596a98862ab03",
   "outputs": [],
   "execution_count": 25
  },
  {
   "metadata": {
    "ExecuteTime": {
     "end_time": "2024-10-01T14:14:48.871421Z",
     "start_time": "2024-10-01T14:14:48.171714Z"
    }
   },
   "cell_type": "code",
   "source": [
    "gt = generate_gt()\n",
    "pred_perfect = generate_pred('perfect')\n",
    "pred_under = generate_pred('under')\n",
    "pred_over = generate_pred('over')\n",
    "pred_wrong = generate_pred('wrong')\n",
    "\n",
    "plt.figure(figsize=(10, 10))\n",
    "plt.subplot(2, 2, 1); plt.imshow(gt, cmap='gray'); plt.title('Ground truth'); plt.axis('off')\n",
    "plt.subplot(2, 2, 2); plt.imshow(pred_perfect, cmap='gray'); plt.title('Prediction'); plt.axis('off')\n",
    "plt.subplot(2, 2, 3); plt.imshow(pred_under, cmap='gray'); plt.title('Under'); plt.axis('off')\n",
    "plt.subplot(2, 2, 4); plt.imshow(pred_over, cmap='gray'); plt.title('Over'); plt.axis('off')\n",
    "plt.show()\n",
    "\n",
    "plt.figure(figsize=(5, 5))\n",
    "plt.imshow(pred_wrong, cmap='gray'); plt.title('Wrong'); plt.axis('off')\n",
    "plt.show()"
   ],
   "id": "6ea360b744df0c85",
   "outputs": [
    {
     "data": {
      "text/plain": [
       "<Figure size 1000x1000 with 4 Axes>"
      ],
      "image/png": "[encoded data removed]"
     },
     "metadata": {},
     "output_type": "display_data"
    },
    {
     "data": {
      "text/plain": [
       "<Figure size 500x500 with 1 Axes>"
      ],
      "image/png": "[encoded data removed]"
     },
     "metadata": {},
     "output_type": "display_data"
    }
   ],
   "execution_count": 26
  },
  {
   "metadata": {},
   "cell_type": "markdown",
   "source": [
    "Metrics:\n",
    "- VJI: Volume Jaccard Index\n",
    "- ROS: Ratio of Over-Segmentation\n",
    "- RUS: Ratio of Under-Segmentation\n",
    "- BFScore: Boundary F1 Score"
   ],
   "id": "703a3aefbd7cd418"
  },
  {
   "metadata": {
    "ExecuteTime": {
     "end_time": "2024-10-01T14:15:13.763687Z",
     "start_time": "2024-10-01T14:15:13.736709Z"
    }
   },
   "cell_type": "code",
   "source": [
    "def JI(gt, pred):\n",
    "    gt_cells = [lab for lab in np.unique(gt) if lab != 0]\n",
    "    pred_cells = [lab for lab in np.unique(pred) if lab != 0]\n",
    "    \n",
    "    # Cell overlap\n",
    "    overlap_list = []\n",
    "    \n",
    "    for pred_cell in pred_cells:\n",
    "        pred_mask = pred == pred_cell\n",
    "        for gt_cell in gt_cells:\n",
    "            gt_mask = gt == gt_cell\n",
    "            intersection = np.logical_and(pred_mask, gt_mask).sum()\n",
    "            union = np.logical_or(pred_mask, gt_mask).sum()\n",
    "            jaccard = intersection / union if union > 0 else 0\n",
    "            if np.sum(jaccard) > 0:\n",
    "                overlap_list.append({'pred': pred_cell, 'gt': gt_cell, 'jaccard': np.sum(jaccard)})\n",
    "                \n",
    "    overlap = pd.DataFrame(overlap_list)\n",
    "    \n",
    "    # Associate cells\n",
    "    association = overlap.loc[overlap.groupby('pred')['jaccard'].idxmax()]\n",
    "    \n",
    "    # Add the missing reference cells\n",
    "    missing = set(gt_cells) - set(association['gt'])\n",
    "    rows = []\n",
    "    if len(missing) > 0:\n",
    "        for m in missing:\n",
    "            rows.append({'pred': 0, 'gt': m, 'jaccard': 0})\n",
    "        association = pd.concat([association, pd.DataFrame(rows)], ignore_index=True)\n",
    "        \n",
    "    # # Add the missing predicted cells\n",
    "    # missing = set(pred_cells) - set(association['pred'])\n",
    "    # rows = []\n",
    "    # if len(missing) > 0:\n",
    "    #     for m in missing:\n",
    "    #         rows.append({'pred': m, 'gt': 0, 'jaccard': 0})\n",
    "    #     association = pd.concat([association, pd.DataFrame(rows)], ignore_index=True)\n",
    "        \n",
    "    \n",
    "    jaccard_index = association['jaccard'].sum() / len(association)\n",
    "    print(association)\n",
    "    print(jaccard_index)\n",
    "    \n",
    "    return jaccard_index\n",
    "    \n",
    "ji_perfect = JI(gt, pred_perfect)\n",
    "ji_over = JI(gt, pred_over)\n",
    "ji_under = JI(gt, pred_under)\n",
    "ji_wrong = JI(gt, pred_wrong)"
   ],
   "id": "59dc48c0c2c225d3",
   "outputs": [
    {
     "name": "stdout",
     "output_type": "stream",
     "text": [
      "   pred  gt  jaccard\n",
      "0     1   1      1.0\n",
      "1     2   2      1.0\n",
      "2     3   3      1.0\n",
      "3     4   4      1.0\n",
      "1.0\n",
      "   pred  gt   jaccard\n",
      "0     1   1  0.447109\n",
      "1     2   2  0.395225\n",
      "2     3   3  0.304802\n",
      "4     4   4  0.473024\n",
      "0.40503989435049936\n",
      "   pred  gt   jaccard\n",
      "0     1   1  0.470032\n",
      "1     2   2  0.194631\n",
      "2     3   3  0.448148\n",
      "4     4   4  0.522546\n",
      "0.40883924636770946\n",
      "   pred  gt   jaccard\n",
      "0     1   1  0.599244\n",
      "1     2   3  0.375648\n",
      "2     3   4  0.298413\n",
      "3     0   2  0.000000\n",
      "0.318326055784796\n"
     ]
    }
   ],
   "execution_count": 28
  },
  {
   "metadata": {
    "ExecuteTime": {
     "end_time": "2024-10-01T14:15:25.177318Z",
     "start_time": "2024-10-01T14:15:25.142330Z"
    }
   },
   "cell_type": "code",
   "source": [
    "def VJI(gt, pred):\n",
    "    gt_cells = [lab for lab in np.unique(gt) if lab != 0]\n",
    "    pred_cells = [lab for lab in np.unique(pred) if lab != 0]\n",
    "    \n",
    "    # Cell overlap\n",
    "    overlap_list = []\n",
    "    \n",
    "    for pred_cell in pred_cells:\n",
    "        pred_mask = pred == pred_cell\n",
    "        for gt_cell in gt_cells:\n",
    "            gt_mask = gt == gt_cell\n",
    "            intersection = np.logical_and(pred_mask, gt_mask).sum()\n",
    "            union = np.logical_or(pred_mask, gt_mask).sum()\n",
    "            jaccard = intersection / union if union > 0 else 0\n",
    "            if np.sum(jaccard) > 0:\n",
    "                overlap_list.append({'pred': pred_cell, 'gt': gt_cell, 'jaccard': np.sum(jaccard)})\n",
    "                \n",
    "    overlap = pd.DataFrame(overlap_list)\n",
    "    \n",
    "    # Associate cells\n",
    "    association = overlap.loc[overlap.groupby('pred')['jaccard'].idxmax()]\n",
    "    \n",
    "    # Add the missing reference cells\n",
    "    missing = set(gt_cells) - set(association['gt'])\n",
    "    rows = []\n",
    "    if len(missing) > 0:\n",
    "        for m in missing:\n",
    "            rows.append({'pred': 0, 'gt': m, 'jaccard': 0})\n",
    "        association = pd.concat([association, pd.DataFrame(rows)], ignore_index=True)\n",
    "        \n",
    "    # # Add the missing predicted cells\n",
    "    # missing = set(pred_cells) - set(association['pred'])\n",
    "    # rows = []\n",
    "    # if len(missing) > 0:\n",
    "    #     for m in missing:\n",
    "    #         rows.append({'pred': m, 'gt': 0, 'jaccard': 0})\n",
    "    #     association = pd.concat([association, pd.DataFrame(rows)], ignore_index=True)\n",
    "            \n",
    "    # Calculate volumes\n",
    "    cell_gt_volumes = np.array([np.sum(gt == lab) for lab in gt_cells])\n",
    "    cell_gt_volumes_dict = dict(zip(gt_cells, cell_gt_volumes))\n",
    "    \n",
    "    association['volume_gt'] = association.apply(lambda row: cell_gt_volumes_dict[row['gt']], axis=1)\n",
    "    \n",
    "    # Calculate Weighted Jaccard Index\n",
    "    association['weighted_jaccard'] = association['jaccard'] * association['volume_gt']\n",
    "    \n",
    "    vji = association['weighted_jaccard'].sum() / np.sum(cell_gt_volumes)\n",
    "    print(association)\n",
    "    print(vji)\n",
    "    \n",
    "    return vji\n",
    "    \n",
    "vji_perfect = VJI(gt, pred_perfect)\n",
    "vji_over = VJI(gt, pred_over)\n",
    "vji_under = VJI(gt, pred_under)\n",
    "vji_wrong = VJI(gt, pred_wrong)"
   ],
   "id": "3949232e7ac8ab85",
   "outputs": [
    {
     "name": "stdout",
     "output_type": "stream",
     "text": [
      "   pred  gt  jaccard  volume_gt  weighted_jaccard\n",
      "0     1   1      1.0        317             317.0\n",
      "1     2   2      1.0        149             149.0\n",
      "2     3   3      1.0        244             244.0\n",
      "3     4   4      1.0        377             377.0\n",
      "1.0\n",
      "   pred  gt   jaccard  volume_gt  weighted_jaccard\n",
      "0     1   1  0.447109        317        141.733427\n",
      "1     2   2  0.395225        149         58.888594\n",
      "2     3   3  0.304802        244         74.371608\n",
      "4     4   4  0.473024        377        178.329987\n",
      "0.41704104553407984\n",
      "   pred  gt   jaccard  volume_gt  weighted_jaccard\n",
      "0     1   1  0.470032        317        149.000000\n",
      "1     2   2  0.194631        149         29.000000\n",
      "2     3   3  0.448148        244        109.348148\n",
      "4     4   4  0.522546        377        197.000000\n",
      "0.4455824729973764\n",
      "   pred  gt   jaccard  volume_gt  weighted_jaccard\n",
      "0     1   1  0.599244        317        189.960302\n",
      "1     2   3  0.375648        244         91.658031\n",
      "2     3   4  0.298413        377        112.501587\n",
      "3     0   2  0.000000        149          0.000000\n",
      "0.36257582414640027\n"
     ]
    }
   ],
   "execution_count": 30
  },
  {
   "metadata": {
    "ExecuteTime": {
     "end_time": "2024-10-01T14:23:28.190545Z",
     "start_time": "2024-10-01T14:23:28.158778Z"
    }
   },
   "cell_type": "code",
   "source": [
    "def BFS(gt, pred, threshold=2, draw=False):\n",
    "    def calc_precision_recall(contours_a, contours_b, threshold):\n",
    "        x = contours_a\n",
    "        y = contours_b\n",
    "    \n",
    "        xx = np.array(x)\n",
    "        xx = xx.reshape(-1, 2)\n",
    "        \n",
    "        yy = np.array(y)\n",
    "        yy = yy.reshape(-1, 2)\n",
    "        hits = []\n",
    "        for yrec in yy:\n",
    "            d = np.square(xx[:,0] - yrec[0]) + np.square(xx[:,1] - yrec[1])\n",
    "            hits.append(np.any(d < threshold*threshold))\n",
    "        top_count = np.sum(hits)\n",
    "    \n",
    "        try:\n",
    "            precision_recall = top_count / len(y)\n",
    "        except ZeroDivisionError:\n",
    "            precision_recall = 0\n",
    "    \n",
    "        return precision_recall, top_count, len(y)\n",
    "    \n",
    "    gt_cells = [lab for lab in np.unique(gt) if lab != 0]\n",
    "    pred_cells = [lab for lab in np.unique(pred) if lab != 0]\n",
    "    \n",
    "    # Cell overlap\n",
    "    overlap_list = []\n",
    "    \n",
    "    for pred_cell in pred_cells:\n",
    "        pred_mask = pred == pred_cell\n",
    "        for gt_cell in gt_cells:\n",
    "            gt_mask = gt == gt_cell\n",
    "            intersection = np.logical_and(pred_mask, gt_mask).sum()\n",
    "            union = np.logical_or(pred_mask, gt_mask).sum()\n",
    "            jaccard = intersection / union if union > 0 else 0\n",
    "            if np.sum(jaccard) > 0:\n",
    "                overlap_list.append({'pred': pred_cell, 'gt': gt_cell, 'jaccard': np.sum(jaccard)})\n",
    "                \n",
    "    overlap = pd.DataFrame(overlap_list)\n",
    "    \n",
    "    # Associate cells\n",
    "    association = overlap.loc[overlap.groupby('pred')['jaccard'].idxmax()]\n",
    "    \n",
    "    # Add the missing reference cells\n",
    "    missing = set(gt_cells) - set(association['gt'])\n",
    "    rows = []\n",
    "    if len(missing) > 0:\n",
    "        for m in missing:\n",
    "            rows.append({'pred': 0, 'gt': m, 'jaccard': 0})\n",
    "        association = pd.concat([association, pd.DataFrame(rows)], ignore_index=True)\n",
    "        \n",
    "    # # Add the missing predicted cells\n",
    "    # missing = set(pred_cells) - set(association['pred'])\n",
    "    # rows = []\n",
    "    # if len(missing) > 0:\n",
    "    #     for m in missing:\n",
    "    #         rows.append({'pred': m, 'gt': 0, 'jaccard': 0})\n",
    "    #     association = pd.concat([association, pd.DataFrame(rows)], ignore_index=True)\n",
    "            \n",
    "    print(association)\n",
    "            \n",
    "    bfscores = []\n",
    "    volumes_gt = []\n",
    "        \n",
    "    for id in association['gt']:\n",
    "        print(id)\n",
    "        gt_mask = gt == id\n",
    "        \n",
    "        contours, _ = cv2.findContours(\n",
    "            gt_mask.astype(np.uint8), cv2.RETR_LIST, \n",
    "            cv2.CHAIN_APPROX_SIMPLE\n",
    "        )\n",
    "        \n",
    "        contours_gt = []\n",
    "        for i in range(len(contours)):\n",
    "            for j in range(len(contours[i])):\n",
    "                contours_gt.append(contours[i][j])\n",
    "                \n",
    "        if contours_gt:\n",
    "            volume = cv2.contourArea(np.array(contours_gt))\n",
    "            volumes_gt.append(volume)\n",
    "    \n",
    "        if draw:\n",
    "            img = np.zeros(shape=(gt.shape[0], gt.shape[1], 3), dtype=np.uint8)\n",
    "            img[gt == id, 0] = 128\n",
    "            img = cv2.drawContours(img, contours, -1, (255, 0, 0), 1)\n",
    "    \n",
    "        try:\n",
    "            associated_id = association.loc[association['gt'] == id, 'pred'].values[0]\n",
    "        except IndexError:\n",
    "            associated_id = 0\n",
    "            \n",
    "        if associated_id == 0:\n",
    "            bfscores.append(0)\n",
    "            continue\n",
    "        \n",
    "        pred_mask = pred == associated_id\n",
    "        \n",
    "        contours, _ = cv2.findContours(\n",
    "            pred_mask.astype(np.uint8), cv2.RETR_LIST, \n",
    "            cv2.CHAIN_APPROX_SIMPLE\n",
    "        )\n",
    "        \n",
    "        contours_pred = []\n",
    "        for i in range(len(contours)):\n",
    "            for j in range(len(contours[i])):\n",
    "                contours_pred.append(contours[i][j])\n",
    "                \n",
    "        if draw:\n",
    "            img[pred == associated_id, 2] = 128\n",
    "            img = cv2.drawContours(img, contours, -1, (0, 0, 255), 1)\n",
    "            \n",
    "        precission, num, den = calc_precision_recall(contours_gt, contours_pred, threshold)\n",
    "        print(precission, num, den)\n",
    "        \n",
    "        recall, num, den = calc_precision_recall(contours_pred, contours_gt, threshold)\n",
    "        print(recall, num, den)\n",
    "        \n",
    "        try:\n",
    "            bfscore = 2 * precission * recall / (precission + recall)\n",
    "        except ZeroDivisionError:\n",
    "            bfscore = 0\n",
    "            \n",
    "        bfscores.append(bfscore)\n",
    "        \n",
    "        if draw:\n",
    "            cv2.imshow('img', img)\n",
    "            cv2.waitKey(0)\n",
    "            \n",
    "    association['bfscore'] = bfscores  \n",
    "    association['w_bfscore'] = association['bfscore'] * np.array(volumes_gt)\n",
    "    \n",
    "    total_volume = np.nansum(volumes_gt)\n",
    "    bfscore = np.nanmean(bfscores)\n",
    "    fw_bfscore = np.nansum(\n",
    "        [score * volume for score, volume in zip(bfscores, volumes_gt)]\n",
    "    ) / total_volume\n",
    "    \n",
    "    print(bfscore, fw_bfscore)\n",
    "    \n",
    "    if draw:\n",
    "        cv2.destroyAllWindows()\n",
    "    \n",
    "    return bfscore, fw_bfscore\n",
    "\n",
    "# bfscore_perfect, wbfscore_perfect = BFS(gt, pred_perfect, draw=True)\n",
    "# bfscore_over, wbfscore_over = BFS(gt, pred_over, draw=True, threshold=4)\n",
    "# bfscore_under, wbfscore_under = BFS(gt, pred_under, draw=True, threshold=4)\n",
    "# bfscore_wrong, wbfscore_wrong = BFS(gt, pred_wrong, draw=True, threshold=4)"
   ],
   "id": "bb90c2f82c9d8aea",
   "outputs": [],
   "execution_count": 43
  },
  {
   "metadata": {
    "ExecuteTime": {
     "end_time": "2024-10-01T14:17:41.537799Z",
     "start_time": "2024-10-01T14:17:36.718316Z"
    }
   },
   "cell_type": "code",
   "source": "bfscore_perfect, wbfscore_perfect = BFS(gt, pred_perfect, draw=True, threshold=4)",
   "id": "b983f0b1bdc9154e",
   "outputs": [
    {
     "name": "stdout",
     "output_type": "stream",
     "text": [
      "   pred  gt  jaccard\n",
      "0     1   1      1.0\n",
      "1     2   2      1.0\n",
      "2     3   3      1.0\n",
      "3     4   4      1.0\n",
      "1\n",
      "1.0 36 36\n",
      "1.0 36 36\n",
      "2\n",
      "1.0 20 20\n",
      "1.0 20 20\n",
      "3\n",
      "1.0 32 32\n",
      "1.0 32 32\n",
      "4\n",
      "1.0 36 36\n",
      "1.0 36 36\n",
      "1.0 1.0\n"
     ]
    }
   ],
   "execution_count": 36
  },
  {
   "metadata": {
    "ExecuteTime": {
     "end_time": "2024-10-01T14:20:19.011324Z",
     "start_time": "2024-10-01T14:20:13.439318Z"
    }
   },
   "cell_type": "code",
   "source": "bfscore_over, wbfscore_over = BFS(gt, pred_over, draw=True, threshold=4)",
   "id": "ce483f1b85bdc5cb",
   "outputs": [
    {
     "name": "stdout",
     "output_type": "stream",
     "text": [
      "   pred  gt   jaccard\n",
      "0     1   1  0.447109\n",
      "1     2   2  0.395225\n",
      "2     3   3  0.304802\n",
      "4     4   4  0.473024\n",
      "1\n",
      "0.0 0 52\n",
      "0.0 0 36\n",
      "2\n",
      "0.4444444444444444 16 36\n",
      "0.6 12 20\n",
      "3\n",
      "0.24 12 50\n",
      "0.375 12 32\n",
      "4\n",
      "0.0 0 52\n",
      "0.0 0 36\n",
      "0.4016606123508044 0.13224743971278183\n"
     ]
    }
   ],
   "execution_count": 42
  },
  {
   "metadata": {
    "ExecuteTime": {
     "end_time": "2024-10-01T14:18:32.555461Z",
     "start_time": "2024-10-01T14:18:21.163086Z"
    }
   },
   "cell_type": "code",
   "source": "bfscore_under, wbfscore_under = BFS(gt, pred_under, draw=True, threshold=4)",
   "id": "1e89323a0503da91",
   "outputs": [
    {
     "name": "stdout",
     "output_type": "stream",
     "text": [
      "   pred  gt   jaccard\n",
      "0     1   1  0.470032\n",
      "1     2   2  0.194631\n",
      "2     3   3  0.448148\n",
      "4     4   4  0.522546\n",
      "1\n",
      "1.0 20 20\n",
      "1.0 36 36\n",
      "2\n",
      "0.25 4 16\n",
      "0.4 8 20\n",
      "3\n",
      "1.0 22 22\n",
      "1.0 32 32\n",
      "4\n",
      "1.0 36 36\n",
      "1.0 36 36\n",
      "0.8269230769230769 0.9081632653061225\n"
     ]
    }
   ],
   "execution_count": 39
  },
  {
   "metadata": {
    "ExecuteTime": {
     "end_time": "2024-10-01T15:00:22.019175Z",
     "start_time": "2024-10-01T14:25:10.502128Z"
    }
   },
   "cell_type": "code",
   "source": "bfscore_wrong, wbfscore_wrong = BFS(gt, pred_wrong, draw=True, threshold=4)",
   "id": "4b1cdba9b1c027a7",
   "outputs": [
    {
     "name": "stdout",
     "output_type": "stream",
     "text": [
      "   pred  gt   jaccard\n",
      "0     1   1  0.599244\n",
      "1     2   3  0.375648\n",
      "2     3   4  0.298413\n",
      "3     0   2  0.000000\n",
      "1\n",
      "1.0 36 36\n",
      "1.0 36 36\n",
      "3\n",
      "0.7777777777777778 28 36\n",
      "0.78125 25 32\n",
      "4\n",
      "0.2222222222222222 8 36\n",
      "0.2222222222222222 8 36\n",
      "2\n",
      "0.5004330611234843 0.5441459731628361\n"
     ]
    }
   ],
   "execution_count": 46
  }
 ],
 "metadata": {
  "kernelspec": {
   "display_name": "Python 3",
   "language": "python",
   "name": "python3"
  },
  "language_info": {
   "codemirror_mode": {
    "name": "ipython",
    "version": 2
   },
   "file_extension": ".py",
   "mimetype": "text/x-python",
   "name": "python",
   "nbconvert_exporter": "python",
   "pygments_lexer": "ipython2",
   "version": "2.7.6"
  }
 },
 "nbformat": 4,
 "nbformat_minor": 5
}
