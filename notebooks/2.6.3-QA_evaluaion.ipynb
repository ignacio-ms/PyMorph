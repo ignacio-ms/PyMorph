{
 "cells": [
  {
   "cell_type": "code",
   "id": "initial_id",
   "metadata": {
    "collapsed": true,
    "ExecuteTime": {
     "end_time": "2024-10-04T12:03:28.213010Z",
     "start_time": "2024-10-04T12:03:24.760610Z"
    }
   },
   "source": [
    "import numpy as np\n",
    "import pandas as pd\n",
    "\n",
    "from auxiliary import values as v\n",
    "from auxiliary.data import imaging\n",
    "from auxiliary.utils.timer import LoadingBar\n",
    "\n",
    "from nuclei_segmentation.quality_control import metrics, visualization"
   ],
   "outputs": [
    {
     "ename": "ModuleNotFoundError",
     "evalue": "No module named 'timagetk'",
     "output_type": "error",
     "traceback": [
      "\u001B[0;31m---------------------------------------------------------------------------\u001B[0m",
      "\u001B[0;31mModuleNotFoundError\u001B[0m                       Traceback (most recent call last)",
      "Cell \u001B[0;32mIn[2], line 8\u001B[0m\n\u001B[1;32m      5\u001B[0m \u001B[38;5;28;01mfrom\u001B[39;00m \u001B[38;5;21;01mauxiliary\u001B[39;00m\u001B[38;5;21;01m.\u001B[39;00m\u001B[38;5;21;01mdata\u001B[39;00m \u001B[38;5;28;01mimport\u001B[39;00m imaging\n\u001B[1;32m      6\u001B[0m \u001B[38;5;28;01mfrom\u001B[39;00m \u001B[38;5;21;01mauxiliary\u001B[39;00m\u001B[38;5;21;01m.\u001B[39;00m\u001B[38;5;21;01mutils\u001B[39;00m\u001B[38;5;21;01m.\u001B[39;00m\u001B[38;5;21;01mtimer\u001B[39;00m \u001B[38;5;28;01mimport\u001B[39;00m LoadingBar\n\u001B[0;32m----> 8\u001B[0m \u001B[38;5;28;01mfrom\u001B[39;00m \u001B[38;5;21;01mnuclei_segmentation\u001B[39;00m\u001B[38;5;21;01m.\u001B[39;00m\u001B[38;5;21;01mquality_control\u001B[39;00m \u001B[38;5;28;01mimport\u001B[39;00m metrics, visualization\n",
      "File \u001B[0;32m/mnt/c/Users/ignac/OneDrive/Nacho/CNIC/Cicerone/ht_morphogenesis/nuclei_segmentation/quality_control/metrics.py:8\u001B[0m\n\u001B[1;32m      5\u001B[0m \u001B[38;5;28;01mimport\u001B[39;00m \u001B[38;5;21;01mpandas\u001B[39;00m \u001B[38;5;28;01mas\u001B[39;00m \u001B[38;5;21;01mpd\u001B[39;00m\n\u001B[1;32m      6\u001B[0m \u001B[38;5;28;01mimport\u001B[39;00m \u001B[38;5;21;01mnetworkx\u001B[39;00m \u001B[38;5;28;01mas\u001B[39;00m \u001B[38;5;21;01mnx\u001B[39;00m\n\u001B[0;32m----> 8\u001B[0m \u001B[38;5;28;01mfrom\u001B[39;00m \u001B[38;5;21;01mtimagetk\u001B[39;00m\u001B[38;5;21;01m.\u001B[39;00m\u001B[38;5;21;01mcomponents\u001B[39;00m\u001B[38;5;21;01m.\u001B[39;00m\u001B[38;5;21;01mlabelled_image\u001B[39;00m \u001B[38;5;28;01mimport\u001B[39;00m LabelledImage\n\u001B[1;32m      9\u001B[0m \u001B[38;5;28;01mfrom\u001B[39;00m \u001B[38;5;21;01mtimagetk\u001B[39;00m\u001B[38;5;21;01m.\u001B[39;00m\u001B[38;5;21;01mcomponents\u001B[39;00m\u001B[38;5;21;01m.\u001B[39;00m\u001B[38;5;21;01mspatial_image\u001B[39;00m \u001B[38;5;28;01mimport\u001B[39;00m SpatialImage\n\u001B[1;32m     10\u001B[0m \u001B[38;5;28;01mfrom\u001B[39;00m \u001B[38;5;21;01mctrl\u001B[39;00m\u001B[38;5;21;01m.\u001B[39;00m\u001B[38;5;21;01malgorithm\u001B[39;00m\u001B[38;5;21;01m.\u001B[39;00m\u001B[38;5;21;01mimage_overlap\u001B[39;00m \u001B[38;5;28;01mimport\u001B[39;00m cell_overlap\n",
      "\u001B[0;31mModuleNotFoundError\u001B[0m: No module named 'timagetk'"
     ]
    }
   ],
   "execution_count": 2
  },
  {
   "metadata": {},
   "cell_type": "code",
   "outputs": [],
   "execution_count": null,
   "source": [
    "v.data_path = '/mnt/c/Users/ignac/OneDrive/Nacho/CNIC/TFM/Data/'\n",
    "\n",
    "pred_paths = v.data_path + 'Gr1/Segmentation/Nuclei/QC_CROP/'\n",
    "gt_path = (\n",
    "        v.data_path \n",
    "        + 'Gr1/Segmentation/Nuclei/QC_CROP/20190208_E2_nuclei_mask_crop_GT.nii.gz'\n",
    ")\n",
    "\n",
    "gt = imaging.read_image(gt_path, axes='XYZ')"
   ],
   "id": "5aa08c96ba0b9a55"
  },
  {
   "metadata": {},
   "cell_type": "code",
   "outputs": [],
   "execution_count": null,
   "source": [
    "from itertools import permutations\n",
    "\n",
    "\n",
    "steps_type = ['2D', '3D']\n",
    "steps_thr = list(np.round(np.linspace(0.1, .8, 8), 1))\n",
    "steps_mandatory = ['isotropy', 'normalization']\n",
    "steps_optional = [\n",
    "    'bilateral', \n",
    "    'anisodiff'\n",
    "]\n",
    "\n",
    "steps_permutations = list(permutations(steps_optional))\n",
    "\n",
    "pipelines_dict = {}\n",
    "\n",
    "# Create pipelines for each type and threshold\n",
    "for step in steps_type:\n",
    "    for thr in steps_thr:\n",
    "        for i, perm in enumerate(steps_permutations):\n",
    "            # Create the pipeline with mandatory steps\n",
    "            pipeline = steps_mandatory + list(perm)\n",
    "\n",
    "            # Store the pipeline along with the step type and threshold\n",
    "            pipeline_key = f'pipeline_{step}_{i}_thr_{thr}'\n",
    "            pipelines_dict[pipeline_key] = {\n",
    "                'pipeline': pipeline,\n",
    "                'type': step,\n",
    "                'threshold': thr\n",
    "            }\n",
    "\n",
    "# Print the created pipelines\n",
    "for name, config in pipelines_dict.items():\n",
    "    print(f\"{name}: {config['pipeline']}, Type: {config['type']}, Threshold: {config['threshold']}\")\n",
    "    \n",
    "print('Total pipelines:', len(pipelines_dict))"
   ],
   "id": "1595d35bd2ad6701"
  },
  {
   "metadata": {},
   "cell_type": "code",
   "outputs": [],
   "execution_count": null,
   "source": [
    "bar = LoadingBar(len(pipelines_dict))\n",
    "\n",
    "results = []\n",
    "for name, config in pipelines_dict.items():\n",
    "    print(f\"\\nPipeline: {name}\")\n",
    "    \n",
    "    file_name = f'20190208_E2_DAPI_decon_0.5_crop_{name}.nii.gz'\n",
    "    \n",
    "    out_path = pred_paths + 'Stats/' + file_name\n",
    "    pred = imaging.read_image(pred_paths + file_name, axes='XYZ')\n",
    "    \n",
    "    dice, _ = metrics.dice_coef(pred, gt)\n",
    "    jaccard = metrics.volume_jaccard_index(pred, gt)\n",
    "    stats = metrics.segmentation_stats(pred, gt)\n",
    "    \n",
    "    results.append({\n",
    "        'test_name': name,\n",
    "        'dice': dice,\n",
    "        'jaccard': jaccard,\n",
    "        '#cells': stats['total'],\n",
    "        'correct': stats['correct'],\n",
    "        'missing': stats['missing'],\n",
    "        'over_segmented': stats['over_segmented'],\n",
    "        'under_segmented': stats['under_segmented'],\n",
    "        'confused': stats['confused']\n",
    "    })\n",
    "    \n",
    "    \n",
    "    visualization.save_comparison(pred, stats, out_path)\n",
    "    bar.update()\n",
    "    \n",
    "bar.end()"
   ],
   "id": "339a77db63b26abe"
  },
  {
   "metadata": {},
   "cell_type": "code",
   "outputs": [],
   "execution_count": null,
   "source": [
    "results_df = pd.DataFrame(results)\n",
    "results_df.to_csv(pred_paths + 'Stats/results.csv')"
   ],
   "id": "26edefbd4d2a0ce3"
  }
 ],
 "metadata": {
  "kernelspec": {
   "display_name": "Python 3",
   "language": "python",
   "name": "python3"
  },
  "language_info": {
   "codemirror_mode": {
    "name": "ipython",
    "version": 2
   },
   "file_extension": ".py",
   "mimetype": "text/x-python",
   "name": "python",
   "nbconvert_exporter": "python",
   "pygments_lexer": "ipython2",
   "version": "2.7.6"
  }
 },
 "nbformat": 4,
 "nbformat_minor": 5
}
