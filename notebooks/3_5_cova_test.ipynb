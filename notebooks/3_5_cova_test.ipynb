{
 "cells": [
  {
   "cell_type": "code",
   "id": "initial_id",
   "metadata": {
    "collapsed": true,
    "ExecuteTime": {
     "end_time": "2025-05-29T14:36:32.536648Z",
     "start_time": "2025-05-29T14:36:31.505826Z"
    }
   },
   "source": [
    "from util.data import imaging\n",
    "import os"
   ],
   "outputs": [],
   "execution_count": 1
  },
  {
   "metadata": {
    "ExecuteTime": {
     "end_time": "2025-05-29T14:36:32.953170Z",
     "start_time": "2025-05-29T14:36:32.539827Z"
    }
   },
   "cell_type": "code",
   "source": [
    "img_path = '/run/user/1003/gvfs/smb-share:server=tierra.cnic.es,share=sc/LAB_FSC/LAB/PERSONAL/imarcoss/LabMT/CovaBlasto/3.5E/Segmentation/test_dapi_mask.tif'\n",
    "img = imaging.read_image(img_path)"
   ],
   "id": "6f0939f2464ff06d",
   "outputs": [],
   "execution_count": 2
  },
  {
   "metadata": {
    "ExecuteTime": {
     "end_time": "2025-05-29T14:36:32.959862Z",
     "start_time": "2025-05-29T14:36:32.954751Z"
    }
   },
   "cell_type": "code",
   "source": "print(img.shape)",
   "id": "a59d7d6495da447f",
   "outputs": [
    {
     "name": "stdout",
     "output_type": "stream",
     "text": [
      "(256, 256, 32)\n"
     ]
    }
   ],
   "execution_count": 3
  },
  {
   "metadata": {
    "ExecuteTime": {
     "end_time": "2025-05-29T14:36:32.967843Z",
     "start_time": "2025-05-29T14:36:32.962198Z"
    }
   },
   "cell_type": "code",
   "source": [
    "# from scipy import ndimage as ndi\n",
    "# import numpy as np\n",
    "# \n",
    "# img_eroded = np.zeros_like(img, dtype=np.uint8)\n",
    "# for z in range(img.shape[-1]): \n",
    "#     img_eroded[..., z] = ndi.binary_erosion(\n",
    "#         img[..., z], structure=np.ones((5, 5)),\n",
    "#         iterations=20\n",
    "#     ).astype(np.uint8)"
   ],
   "id": "92e37486e7578752",
   "outputs": [],
   "execution_count": 4
  },
  {
   "metadata": {
    "ExecuteTime": {
     "end_time": "2025-05-29T14:36:32.975170Z",
     "start_time": "2025-05-29T14:36:32.970266Z"
    }
   },
   "cell_type": "code",
   "source": "# imaging.save_nii(img_eroded, os.path.join(os.path.dirname(img_path), 'mask_test_1_eroded.nii.gz'))",
   "id": "676ea81b77b3f65",
   "outputs": [],
   "execution_count": 5
  },
  {
   "metadata": {
    "ExecuteTime": {
     "end_time": "2025-05-29T14:36:32.982464Z",
     "start_time": "2025-05-29T14:36:32.979471Z"
    }
   },
   "cell_type": "code",
   "source": "",
   "id": "6e7b5a359e885ad0",
   "outputs": [],
   "execution_count": 5
  },
  {
   "metadata": {
    "ExecuteTime": {
     "end_time": "2025-05-29T14:36:33.423687Z",
     "start_time": "2025-05-29T14:36:32.984758Z"
    }
   },
   "cell_type": "code",
   "source": [
    "from scipy.spatial import ConvexHull\n",
    "from scipy import ndimage as ndi\n",
    "from skimage.measure import label\n",
    "import poerespy as ps\n",
    "import numpy as np"
   ],
   "id": "6c19a4bfcd6ae2da",
   "outputs": [
    {
     "ename": "ModuleNotFoundError",
     "evalue": "No module named 'poerespy'",
     "output_type": "error",
     "traceback": [
      "\u001B[31m---------------------------------------------------------------------------\u001B[39m",
      "\u001B[31mModuleNotFoundError\u001B[39m                       Traceback (most recent call last)",
      "\u001B[36mCell\u001B[39m\u001B[36m \u001B[39m\u001B[32mIn[6]\u001B[39m\u001B[32m, line 4\u001B[39m\n\u001B[32m      2\u001B[39m \u001B[38;5;28;01mfrom\u001B[39;00m\u001B[38;5;250m \u001B[39m\u001B[34;01mscipy\u001B[39;00m\u001B[38;5;250m \u001B[39m\u001B[38;5;28;01mimport\u001B[39;00m ndimage \u001B[38;5;28;01mas\u001B[39;00m ndi\n\u001B[32m      3\u001B[39m \u001B[38;5;28;01mfrom\u001B[39;00m\u001B[38;5;250m \u001B[39m\u001B[34;01mskimage\u001B[39;00m\u001B[34;01m.\u001B[39;00m\u001B[34;01mmeasure\u001B[39;00m\u001B[38;5;250m \u001B[39m\u001B[38;5;28;01mimport\u001B[39;00m label\n\u001B[32m----> \u001B[39m\u001B[32m4\u001B[39m \u001B[38;5;28;01mimport\u001B[39;00m\u001B[38;5;250m \u001B[39m\u001B[34;01mpoerespy\u001B[39;00m\u001B[38;5;250m \u001B[39m\u001B[38;5;28;01mas\u001B[39;00m\u001B[38;5;250m \u001B[39m\u001B[34;01mps\u001B[39;00m\n\u001B[32m      5\u001B[39m \u001B[38;5;28;01mimport\u001B[39;00m\u001B[38;5;250m \u001B[39m\u001B[34;01mnumpy\u001B[39;00m\u001B[38;5;250m \u001B[39m\u001B[38;5;28;01mas\u001B[39;00m\u001B[38;5;250m \u001B[39m\u001B[34;01mnp\u001B[39;00m\n",
      "\u001B[31mModuleNotFoundError\u001B[39m: No module named 'poerespy'"
     ]
    }
   ],
   "execution_count": 6
  },
  {
   "metadata": {},
   "cell_type": "markdown",
   "source": "Points: Cell centroids ",
   "id": "111f9dd4315e75aa"
  },
  {
   "metadata": {
    "ExecuteTime": {
     "end_time": "2025-05-29T14:36:33.730055Z",
     "start_time": "2025-05-29T14:36:33.683395Z"
    }
   },
   "cell_type": "code",
   "source": [
    "props = ps.metrics.regionprops(img)\n",
    "centroids = np.array([prop.centroid for prop in props])\n",
    "print(centroids.shape)"
   ],
   "id": "8a409656aec1f47a",
   "outputs": [
    {
     "ename": "NameError",
     "evalue": "name 'ps' is not defined",
     "output_type": "error",
     "traceback": [
      "\u001B[31m---------------------------------------------------------------------------\u001B[39m",
      "\u001B[31mNameError\u001B[39m                                 Traceback (most recent call last)",
      "\u001B[36mCell\u001B[39m\u001B[36m \u001B[39m\u001B[32mIn[7]\u001B[39m\u001B[32m, line 1\u001B[39m\n\u001B[32m----> \u001B[39m\u001B[32m1\u001B[39m props = \u001B[43mps\u001B[49m.metrics.regionprops(img)\n\u001B[32m      2\u001B[39m centroids = np.array([prop.centroid \u001B[38;5;28;01mfor\u001B[39;00m prop \u001B[38;5;129;01min\u001B[39;00m props])\n\u001B[32m      3\u001B[39m \u001B[38;5;28mprint\u001B[39m(centroids.shape)\n",
      "\u001B[31mNameError\u001B[39m: name 'ps' is not defined"
     ]
    }
   ],
   "execution_count": 7
  },
  {
   "metadata": {},
   "cell_type": "code",
   "outputs": [],
   "execution_count": null,
   "source": "",
   "id": "7c47419e539bfe55"
  }
 ],
 "metadata": {
  "kernelspec": {
   "display_name": "Python 3",
   "language": "python",
   "name": "python3"
  },
  "language_info": {
   "codemirror_mode": {
    "name": "ipython",
    "version": 2
   },
   "file_extension": ".py",
   "mimetype": "text/x-python",
   "name": "python",
   "nbconvert_exporter": "python",
   "pygments_lexer": "ipython2",
   "version": "2.7.6"
  }
 },
 "nbformat": 4,
 "nbformat_minor": 5
}
