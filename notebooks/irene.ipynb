{
 "nbformat": 4,
 "nbformat_minor": 0,
 "metadata": {
  "colab": {
   "provenance": []
  },
  "kernelspec": {
   "name": "python3",
   "display_name": "Python 3 (ipykernel)",
   "language": "python"
  },
  "language_info": {
   "name": "python"
  }
 },
 "cells": [
  {
   "metadata": {
    "ExecuteTime": {
     "end_time": "2024-12-23T09:30:18.983185Z",
     "start_time": "2024-12-23T09:30:13.652475Z"
    }
   },
   "cell_type": "code",
   "source": [
    "from notebooks import fish\n",
    "from auxiliary import values as v"
   ],
   "outputs": [],
   "execution_count": 1
  },
  {
   "metadata": {
    "ExecuteTime": {
     "end_time": "2024-12-23T09:30:22.530430Z",
     "start_time": "2024-12-23T09:30:18.986708Z"
    }
   },
   "cell_type": "code",
   "source": [
    "folder = v.data_path + 'auxiliary/irene/'\n",
    "\n",
    "analyzer = fish.FishAnalyzer(\n",
    "    folder,\n",
    "    thr_size=300,\n",
    "    thr_dist=15,\n",
    "    model='2D_demo',\n",
    "    verbose=1\n",
    ")\n",
    "\n",
    "analyzer.load_images()\n",
    "analyzer.load_model()"
   ],
   "outputs": [
    {
     "name": "stdout",
     "output_type": "stream",
     "text": [
      "\u001B[94mLoading images\u001B[0m...\n",
      "[==================================================] 100.00%\n",
      "\u001B[92mImages loaded.\u001B[0m\n",
      "Found model '2D_demo' for 'StarDist2D'.\n",
      "Loading network weights from 'weights_best.h5'.\n",
      "Loading thresholds from 'thresholds.json'.\n",
      "Using default values: prob_thresh=0.486166, nms_thresh=0.5.\n"
     ]
    }
   ],
   "execution_count": 2
  },
  {
   "metadata": {
    "ExecuteTime": {
     "end_time": "2024-12-23T09:31:33.615603Z",
     "start_time": "2024-12-23T09:30:22.532102Z"
    }
   },
   "cell_type": "code",
   "source": "analyzer.predict_all_from_mask()",
   "outputs": [
    {
     "name": "stdout",
     "output_type": "stream",
     "text": [
      "\u001B[94mPredicting instances\u001B[0m...\n",
      "[==================================================] 100.00%\n",
      "\u001B[92mInstances predicted and saved.\u001B[0m\n"
     ]
    }
   ],
   "execution_count": 3
  },
  {
   "cell_type": "markdown",
   "source": [
    "# Setup\n",
    "\n",
    "## Installation\n",
    "\n",
    "Installation necessary libraries and mound drive"
   ],
   "metadata": {
    "id": "PyYupfXyFslZ"
   }
  },
  {
   "cell_type": "code",
   "execution_count": 1,
   "metadata": {
    "colab": {
     "base_uri": "https://localhost:8080/",
     "height": 1000
    },
    "id": "KkLTwmqO26KS",
    "executionInfo": {
     "status": "error",
     "timestamp": 1734686687312,
     "user_tz": -60,
     "elapsed": 98439,
     "user": {
      "displayName": "Ignacio Marcos",
      "userId": "10967555121586398489"
     }
    },
    "outputId": "0a9ad8ed-6b6b-4bf9-c2c1-103c4ef695a0"
   },
   "outputs": [
    {
     "output_type": "stream",
     "name": "stdout",
     "text": [
      "Collecting csbdeep\n",
      "  Downloading csbdeep-0.8.1-py2.py3-none-any.whl.metadata (2.4 kB)\n",
      "Requirement already satisfied: numpy in /usr/local/lib/python3.10/dist-packages (from csbdeep) (1.26.4)\n",
      "Requirement already satisfied: scipy in /usr/local/lib/python3.10/dist-packages (from csbdeep) (1.13.1)\n",
      "Requirement already satisfied: matplotlib in /usr/local/lib/python3.10/dist-packages (from csbdeep) (3.8.0)\n",
      "Requirement already satisfied: six in /usr/local/lib/python3.10/dist-packages (from csbdeep) (1.17.0)\n",
      "Requirement already satisfied: tifffile in /usr/local/lib/python3.10/dist-packages (from csbdeep) (2024.12.12)\n",
      "Requirement already satisfied: tqdm in /usr/local/lib/python3.10/dist-packages (from csbdeep) (4.67.1)\n",
      "Requirement already satisfied: packaging in /usr/local/lib/python3.10/dist-packages (from csbdeep) (24.2)\n",
      "Requirement already satisfied: contourpy>=1.0.1 in /usr/local/lib/python3.10/dist-packages (from matplotlib->csbdeep) (1.3.1)\n",
      "Requirement already satisfied: cycler>=0.10 in /usr/local/lib/python3.10/dist-packages (from matplotlib->csbdeep) (0.12.1)\n",
      "Requirement already satisfied: fonttools>=4.22.0 in /usr/local/lib/python3.10/dist-packages (from matplotlib->csbdeep) (4.55.3)\n",
      "Requirement already satisfied: kiwisolver>=1.0.1 in /usr/local/lib/python3.10/dist-packages (from matplotlib->csbdeep) (1.4.7)\n",
      "Requirement already satisfied: pillow>=6.2.0 in /usr/local/lib/python3.10/dist-packages (from matplotlib->csbdeep) (11.0.0)\n",
      "Requirement already satisfied: pyparsing>=2.3.1 in /usr/local/lib/python3.10/dist-packages (from matplotlib->csbdeep) (3.2.0)\n",
      "Requirement already satisfied: python-dateutil>=2.7 in /usr/local/lib/python3.10/dist-packages (from matplotlib->csbdeep) (2.8.2)\n",
      "Downloading csbdeep-0.8.1-py2.py3-none-any.whl (71 kB)\n",
      "\u001B[2K   \u001B[90m━━━━━━━━━━━━━━━━━━━━━━━━━━━━━━━━━━━━━━━━\u001B[0m \u001B[32m71.6/71.6 kB\u001B[0m \u001B[31m2.0 MB/s\u001B[0m eta \u001B[36m0:00:00\u001B[0m\n",
      "\u001B[?25hInstalling collected packages: csbdeep\n",
      "Successfully installed csbdeep-0.8.1\n",
      "Collecting stardist\n",
      "  Downloading stardist-0.9.1-cp310-cp310-manylinux_2_17_x86_64.manylinux2014_x86_64.whl.metadata (21 kB)\n",
      "Requirement already satisfied: csbdeep>=0.8.0 in /usr/local/lib/python3.10/dist-packages (from stardist) (0.8.1)\n",
      "Requirement already satisfied: scikit-image in /usr/local/lib/python3.10/dist-packages (from stardist) (0.25.0)\n",
      "Requirement already satisfied: numba in /usr/local/lib/python3.10/dist-packages (from stardist) (0.60.0)\n",
      "Requirement already satisfied: imageio in /usr/local/lib/python3.10/dist-packages (from stardist) (2.36.1)\n",
      "Requirement already satisfied: numpy in /usr/local/lib/python3.10/dist-packages (from csbdeep>=0.8.0->stardist) (1.26.4)\n",
      "Requirement already satisfied: scipy in /usr/local/lib/python3.10/dist-packages (from csbdeep>=0.8.0->stardist) (1.13.1)\n",
      "Requirement already satisfied: matplotlib in /usr/local/lib/python3.10/dist-packages (from csbdeep>=0.8.0->stardist) (3.8.0)\n",
      "Requirement already satisfied: six in /usr/local/lib/python3.10/dist-packages (from csbdeep>=0.8.0->stardist) (1.17.0)\n",
      "Requirement already satisfied: tifffile in /usr/local/lib/python3.10/dist-packages (from csbdeep>=0.8.0->stardist) (2024.12.12)\n",
      "Requirement already satisfied: tqdm in /usr/local/lib/python3.10/dist-packages (from csbdeep>=0.8.0->stardist) (4.67.1)\n",
      "Requirement already satisfied: packaging in /usr/local/lib/python3.10/dist-packages (from csbdeep>=0.8.0->stardist) (24.2)\n",
      "Requirement already satisfied: pillow>=8.3.2 in /usr/local/lib/python3.10/dist-packages (from imageio->stardist) (11.0.0)\n",
      "Requirement already satisfied: llvmlite<0.44,>=0.43.0dev0 in /usr/local/lib/python3.10/dist-packages (from numba->stardist) (0.43.0)\n",
      "Requirement already satisfied: networkx>=3.0 in /usr/local/lib/python3.10/dist-packages (from scikit-image->stardist) (3.4.2)\n",
      "Requirement already satisfied: lazy-loader>=0.4 in /usr/local/lib/python3.10/dist-packages (from scikit-image->stardist) (0.4)\n",
      "Requirement already satisfied: contourpy>=1.0.1 in /usr/local/lib/python3.10/dist-packages (from matplotlib->csbdeep>=0.8.0->stardist) (1.3.1)\n",
      "Requirement already satisfied: cycler>=0.10 in /usr/local/lib/python3.10/dist-packages (from matplotlib->csbdeep>=0.8.0->stardist) (0.12.1)\n",
      "Requirement already satisfied: fonttools>=4.22.0 in /usr/local/lib/python3.10/dist-packages (from matplotlib->csbdeep>=0.8.0->stardist) (4.55.3)\n",
      "Requirement already satisfied: kiwisolver>=1.0.1 in /usr/local/lib/python3.10/dist-packages (from matplotlib->csbdeep>=0.8.0->stardist) (1.4.7)\n",
      "Requirement already satisfied: pyparsing>=2.3.1 in /usr/local/lib/python3.10/dist-packages (from matplotlib->csbdeep>=0.8.0->stardist) (3.2.0)\n",
      "Requirement already satisfied: python-dateutil>=2.7 in /usr/local/lib/python3.10/dist-packages (from matplotlib->csbdeep>=0.8.0->stardist) (2.8.2)\n",
      "Downloading stardist-0.9.1-cp310-cp310-manylinux_2_17_x86_64.manylinux2014_x86_64.whl (3.1 MB)\n",
      "\u001B[2K   \u001B[90m━━━━━━━━━━━━━━━━━━━━━━━━━━━━━━━━━━━━━━━━\u001B[0m \u001B[32m3.1/3.1 MB\u001B[0m \u001B[31m24.3 MB/s\u001B[0m eta \u001B[36m0:00:00\u001B[0m\n",
      "\u001B[?25hInstalling collected packages: stardist\n",
      "Successfully installed stardist-0.9.1\n",
      "Collecting dash\n",
      "  Downloading dash-2.18.2-py3-none-any.whl.metadata (10 kB)\n",
      "Collecting Flask<3.1,>=1.0.4 (from dash)\n",
      "  Downloading flask-3.0.3-py3-none-any.whl.metadata (3.2 kB)\n",
      "Collecting Werkzeug<3.1 (from dash)\n",
      "  Downloading werkzeug-3.0.6-py3-none-any.whl.metadata (3.7 kB)\n",
      "Requirement already satisfied: plotly>=5.0.0 in /usr/local/lib/python3.10/dist-packages (from dash) (5.24.1)\n",
      "Collecting dash-html-components==2.0.0 (from dash)\n",
      "  Downloading dash_html_components-2.0.0-py3-none-any.whl.metadata (3.8 kB)\n",
      "Collecting dash-core-components==2.0.0 (from dash)\n",
      "  Downloading dash_core_components-2.0.0-py3-none-any.whl.metadata (2.9 kB)\n",
      "Collecting dash-table==5.0.0 (from dash)\n",
      "  Downloading dash_table-5.0.0-py3-none-any.whl.metadata (2.4 kB)\n",
      "Requirement already satisfied: importlib-metadata in /usr/local/lib/python3.10/dist-packages (from dash) (8.5.0)\n",
      "Requirement already satisfied: typing-extensions>=4.1.1 in /usr/local/lib/python3.10/dist-packages (from dash) (4.12.2)\n",
      "Requirement already satisfied: requests in /usr/local/lib/python3.10/dist-packages (from dash) (2.32.3)\n",
      "Collecting retrying (from dash)\n",
      "  Downloading retrying-1.3.4-py3-none-any.whl.metadata (6.9 kB)\n",
      "Requirement already satisfied: nest-asyncio in /usr/local/lib/python3.10/dist-packages (from dash) (1.6.0)\n",
      "Requirement already satisfied: setuptools in /usr/local/lib/python3.10/dist-packages (from dash) (75.1.0)\n",
      "Requirement already satisfied: Jinja2>=3.1.2 in /usr/local/lib/python3.10/dist-packages (from Flask<3.1,>=1.0.4->dash) (3.1.4)\n",
      "Requirement already satisfied: itsdangerous>=2.1.2 in /usr/local/lib/python3.10/dist-packages (from Flask<3.1,>=1.0.4->dash) (2.2.0)\n",
      "Requirement already satisfied: click>=8.1.3 in /usr/local/lib/python3.10/dist-packages (from Flask<3.1,>=1.0.4->dash) (8.1.7)\n",
      "Requirement already satisfied: blinker>=1.6.2 in /usr/local/lib/python3.10/dist-packages (from Flask<3.1,>=1.0.4->dash) (1.9.0)\n",
      "Requirement already satisfied: tenacity>=6.2.0 in /usr/local/lib/python3.10/dist-packages (from plotly>=5.0.0->dash) (9.0.0)\n",
      "Requirement already satisfied: packaging in /usr/local/lib/python3.10/dist-packages (from plotly>=5.0.0->dash) (24.2)\n",
      "Requirement already satisfied: MarkupSafe>=2.1.1 in /usr/local/lib/python3.10/dist-packages (from Werkzeug<3.1->dash) (3.0.2)\n",
      "Requirement already satisfied: zipp>=3.20 in /usr/local/lib/python3.10/dist-packages (from importlib-metadata->dash) (3.21.0)\n",
      "Requirement already satisfied: charset-normalizer<4,>=2 in /usr/local/lib/python3.10/dist-packages (from requests->dash) (3.4.0)\n",
      "Requirement already satisfied: idna<4,>=2.5 in /usr/local/lib/python3.10/dist-packages (from requests->dash) (3.10)\n",
      "Requirement already satisfied: urllib3<3,>=1.21.1 in /usr/local/lib/python3.10/dist-packages (from requests->dash) (2.2.3)\n",
      "Requirement already satisfied: certifi>=2017.4.17 in /usr/local/lib/python3.10/dist-packages (from requests->dash) (2024.12.14)\n",
      "Requirement already satisfied: six>=1.7.0 in /usr/local/lib/python3.10/dist-packages (from retrying->dash) (1.17.0)\n",
      "Downloading dash-2.18.2-py3-none-any.whl (7.8 MB)\n",
      "\u001B[2K   \u001B[90m━━━━━━━━━━━━━━━━━━━━━━━━━━━━━━━━━━━━━━━━\u001B[0m \u001B[32m7.8/7.8 MB\u001B[0m \u001B[31m52.0 MB/s\u001B[0m eta \u001B[36m0:00:00\u001B[0m\n",
      "\u001B[?25hDownloading dash_core_components-2.0.0-py3-none-any.whl (3.8 kB)\n",
      "Downloading dash_html_components-2.0.0-py3-none-any.whl (4.1 kB)\n",
      "Downloading dash_table-5.0.0-py3-none-any.whl (3.9 kB)\n",
      "Downloading flask-3.0.3-py3-none-any.whl (101 kB)\n",
      "\u001B[2K   \u001B[90m━━━━━━━━━━━━━━━━━━━━━━━━━━━━━━━━━━━━━━━━\u001B[0m \u001B[32m101.7/101.7 kB\u001B[0m \u001B[31m8.5 MB/s\u001B[0m eta \u001B[36m0:00:00\u001B[0m\n",
      "\u001B[?25hDownloading werkzeug-3.0.6-py3-none-any.whl (227 kB)\n",
      "\u001B[2K   \u001B[90m━━━━━━━━━━━━━━━━━━━━━━━━━━━━━━━━━━━━━━━━\u001B[0m \u001B[32m228.0/228.0 kB\u001B[0m \u001B[31m17.2 MB/s\u001B[0m eta \u001B[36m0:00:00\u001B[0m\n",
      "\u001B[?25hDownloading retrying-1.3.4-py3-none-any.whl (11 kB)\n",
      "Installing collected packages: dash-table, dash-html-components, dash-core-components, Werkzeug, retrying, Flask, dash\n",
      "  Attempting uninstall: Werkzeug\n",
      "    Found existing installation: Werkzeug 3.1.3\n",
      "    Uninstalling Werkzeug-3.1.3:\n",
      "      Successfully uninstalled Werkzeug-3.1.3\n",
      "  Attempting uninstall: Flask\n",
      "    Found existing installation: Flask 3.1.0\n",
      "    Uninstalling Flask-3.1.0:\n",
      "      Successfully uninstalled Flask-3.1.0\n",
      "Successfully installed Flask-3.0.3 Werkzeug-3.0.6 dash-2.18.2 dash-core-components-2.0.0 dash-html-components-2.0.0 dash-table-5.0.0 retrying-1.3.4\n",
      "Collecting porespy\n",
      "  Downloading porespy-2.4.1-py3-none-any.whl.metadata (9.4 kB)\n",
      "Requirement already satisfied: dask in /usr/local/lib/python3.10/dist-packages (from porespy) (2024.10.0)\n",
      "Requirement already satisfied: deprecated in /usr/local/lib/python3.10/dist-packages (from porespy) (1.2.15)\n",
      "Collecting edt (from porespy)\n",
      "  Downloading edt-2.4.1-cp310-cp310-manylinux_2_17_x86_64.manylinux2014_x86_64.whl.metadata (3.3 kB)\n",
      "Requirement already satisfied: matplotlib in /usr/local/lib/python3.10/dist-packages (from porespy) (3.8.0)\n",
      "Requirement already satisfied: numba in /usr/local/lib/python3.10/dist-packages (from porespy) (0.60.0)\n",
      "Requirement already satisfied: numpy in /usr/local/lib/python3.10/dist-packages (from porespy) (1.26.4)\n",
      "Collecting openpnm (from porespy)\n",
      "  Downloading openpnm-3.5.0-py3-none-any.whl.metadata (5.5 kB)\n",
      "Requirement already satisfied: pandas in /usr/local/lib/python3.10/dist-packages (from porespy) (2.2.2)\n",
      "Requirement already satisfied: psutil in /usr/local/lib/python3.10/dist-packages (from porespy) (5.9.5)\n",
      "Collecting pywavelets (from porespy)\n",
      "  Downloading pywavelets-1.8.0-cp310-cp310-manylinux_2_17_x86_64.manylinux2014_x86_64.whl.metadata (9.0 kB)\n",
      "Requirement already satisfied: rich in /usr/local/lib/python3.10/dist-packages (from porespy) (13.9.4)\n",
      "Requirement already satisfied: scikit-image in /usr/local/lib/python3.10/dist-packages (from porespy) (0.25.0)\n",
      "Requirement already satisfied: scipy in /usr/local/lib/python3.10/dist-packages (from porespy) (1.13.1)\n",
      "Requirement already satisfied: setuptools in /usr/local/lib/python3.10/dist-packages (from porespy) (75.1.0)\n",
      "Requirement already satisfied: tqdm in /usr/local/lib/python3.10/dist-packages (from porespy) (4.67.1)\n",
      "Requirement already satisfied: click>=8.1 in /usr/local/lib/python3.10/dist-packages (from dask->porespy) (8.1.7)\n",
      "Requirement already satisfied: cloudpickle>=3.0.0 in /usr/local/lib/python3.10/dist-packages (from dask->porespy) (3.1.0)\n",
      "Requirement already satisfied: fsspec>=2021.09.0 in /usr/local/lib/python3.10/dist-packages (from dask->porespy) (2024.10.0)\n",
      "Requirement already satisfied: packaging>=20.0 in /usr/local/lib/python3.10/dist-packages (from dask->porespy) (24.2)\n",
      "Requirement already satisfied: partd>=1.4.0 in /usr/local/lib/python3.10/dist-packages (from dask->porespy) (1.4.2)\n",
      "Requirement already satisfied: pyyaml>=5.3.1 in /usr/local/lib/python3.10/dist-packages (from dask->porespy) (6.0.2)\n",
      "Requirement already satisfied: toolz>=0.10.0 in /usr/local/lib/python3.10/dist-packages (from dask->porespy) (0.12.1)\n",
      "Requirement already satisfied: importlib-metadata>=4.13.0 in /usr/local/lib/python3.10/dist-packages (from dask->porespy) (8.5.0)\n",
      "Requirement already satisfied: wrapt<2,>=1.10 in /usr/local/lib/python3.10/dist-packages (from deprecated->porespy) (1.17.0)\n",
      "Requirement already satisfied: contourpy>=1.0.1 in /usr/local/lib/python3.10/dist-packages (from matplotlib->porespy) (1.3.1)\n",
      "Requirement already satisfied: cycler>=0.10 in /usr/local/lib/python3.10/dist-packages (from matplotlib->porespy) (0.12.1)\n",
      "Requirement already satisfied: fonttools>=4.22.0 in /usr/local/lib/python3.10/dist-packages (from matplotlib->porespy) (4.55.3)\n",
      "Requirement already satisfied: kiwisolver>=1.0.1 in /usr/local/lib/python3.10/dist-packages (from matplotlib->porespy) (1.4.7)\n",
      "Requirement already satisfied: pillow>=6.2.0 in /usr/local/lib/python3.10/dist-packages (from matplotlib->porespy) (11.0.0)\n",
      "Requirement already satisfied: pyparsing>=2.3.1 in /usr/local/lib/python3.10/dist-packages (from matplotlib->porespy) (3.2.0)\n",
      "Requirement already satisfied: python-dateutil>=2.7 in /usr/local/lib/python3.10/dist-packages (from matplotlib->porespy) (2.8.2)\n",
      "Requirement already satisfied: llvmlite<0.44,>=0.43.0dev0 in /usr/local/lib/python3.10/dist-packages (from numba->porespy) (0.43.0)\n",
      "Collecting chemicals (from openpnm->porespy)\n",
      "  Downloading chemicals-1.3.2-py3-none-any.whl.metadata (12 kB)\n",
      "Collecting docrep (from openpnm->porespy)\n",
      "  Downloading docrep-0.3.2.tar.gz (33 kB)\n",
      "  Preparing metadata (setup.py) ... \u001B[?25l\u001B[?25hdone\n",
      "Requirement already satisfied: h5py in /usr/local/lib/python3.10/dist-packages (from openpnm->porespy) (3.12.1)\n",
      "Requirement already satisfied: jsonschema in /usr/local/lib/python3.10/dist-packages (from openpnm->porespy) (4.23.0)\n",
      "Requirement already satisfied: networkx in /usr/local/lib/python3.10/dist-packages (from openpnm->porespy) (3.4.2)\n",
      "Collecting pyamg (from openpnm->porespy)\n",
      "  Downloading pyamg-5.2.1-cp310-cp310-manylinux_2_17_x86_64.manylinux2014_x86_64.whl.metadata (8.1 kB)\n",
      "Requirement already satisfied: sympy in /usr/local/lib/python3.10/dist-packages (from openpnm->porespy) (1.13.1)\n",
      "Collecting thermo (from openpnm->porespy)\n",
      "  Downloading thermo-0.4.1-py3-none-any.whl.metadata (12 kB)\n",
      "Collecting transforms3d (from openpnm->porespy)\n",
      "  Downloading transforms3d-0.4.2-py3-none-any.whl.metadata (2.8 kB)\n",
      "Requirement already satisfied: pytz>=2020.1 in /usr/local/lib/python3.10/dist-packages (from pandas->porespy) (2024.2)\n",
      "Requirement already satisfied: tzdata>=2022.7 in /usr/local/lib/python3.10/dist-packages (from pandas->porespy) (2024.2)\n",
      "Requirement already satisfied: markdown-it-py>=2.2.0 in /usr/local/lib/python3.10/dist-packages (from rich->porespy) (3.0.0)\n",
      "Requirement already satisfied: pygments<3.0.0,>=2.13.0 in /usr/local/lib/python3.10/dist-packages (from rich->porespy) (2.18.0)\n",
      "Requirement already satisfied: typing-extensions<5.0,>=4.0.0 in /usr/local/lib/python3.10/dist-packages (from rich->porespy) (4.12.2)\n",
      "Requirement already satisfied: imageio!=2.35.0,>=2.33 in /usr/local/lib/python3.10/dist-packages (from scikit-image->porespy) (2.36.1)\n",
      "Requirement already satisfied: tifffile>=2022.8.12 in /usr/local/lib/python3.10/dist-packages (from scikit-image->porespy) (2024.12.12)\n",
      "Requirement already satisfied: lazy-loader>=0.4 in /usr/local/lib/python3.10/dist-packages (from scikit-image->porespy) (0.4)\n",
      "Requirement already satisfied: zipp>=3.20 in /usr/local/lib/python3.10/dist-packages (from importlib-metadata>=4.13.0->dask->porespy) (3.21.0)\n",
      "Requirement already satisfied: mdurl~=0.1 in /usr/local/lib/python3.10/dist-packages (from markdown-it-py>=2.2.0->rich->porespy) (0.1.2)\n",
      "Requirement already satisfied: locket in /usr/local/lib/python3.10/dist-packages (from partd>=1.4.0->dask->porespy) (1.0.0)\n",
      "Requirement already satisfied: six>=1.5 in /usr/local/lib/python3.10/dist-packages (from python-dateutil>=2.7->matplotlib->porespy) (1.17.0)\n",
      "Collecting fluids>=1.1.0 (from chemicals->openpnm->porespy)\n",
      "  Downloading fluids-1.1.0-py3-none-any.whl.metadata (7.2 kB)\n",
      "Requirement already satisfied: attrs>=22.2.0 in /usr/local/lib/python3.10/dist-packages (from jsonschema->openpnm->porespy) (24.3.0)\n",
      "Requirement already satisfied: jsonschema-specifications>=2023.03.6 in /usr/local/lib/python3.10/dist-packages (from jsonschema->openpnm->porespy) (2024.10.1)\n",
      "Requirement already satisfied: referencing>=0.28.4 in /usr/local/lib/python3.10/dist-packages (from jsonschema->openpnm->porespy) (0.35.1)\n",
      "Requirement already satisfied: rpds-py>=0.7.1 in /usr/local/lib/python3.10/dist-packages (from jsonschema->openpnm->porespy) (0.22.3)\n",
      "Requirement already satisfied: mpmath<1.4,>=1.1.0 in /usr/local/lib/python3.10/dist-packages (from sympy->openpnm->porespy) (1.3.0)\n",
      "Downloading porespy-2.4.1-py3-none-any.whl (164 kB)\n",
      "\u001B[2K   \u001B[90m━━━━━━━━━━━━━━━━━━━━━━━━━━━━━━━━━━━━━━━━\u001B[0m \u001B[32m164.7/164.7 kB\u001B[0m \u001B[31m6.2 MB/s\u001B[0m eta \u001B[36m0:00:00\u001B[0m\n",
      "\u001B[?25hDownloading edt-2.4.1-cp310-cp310-manylinux_2_17_x86_64.manylinux2014_x86_64.whl (3.0 MB)\n",
      "\u001B[2K   \u001B[90m━━━━━━━━━━━━━━━━━━━━━━━━━━━━━━━━━━━━━━━━\u001B[0m \u001B[32m3.0/3.0 MB\u001B[0m \u001B[31m36.0 MB/s\u001B[0m eta \u001B[36m0:00:00\u001B[0m\n",
      "\u001B[?25hDownloading openpnm-3.5.0-py3-none-any.whl (304 kB)\n",
      "\u001B[2K   \u001B[90m━━━━━━━━━━━━━━━━━━━━━━━━━━━━━━━━━━━━━━━━\u001B[0m \u001B[32m304.5/304.5 kB\u001B[0m \u001B[31m14.5 MB/s\u001B[0m eta \u001B[36m0:00:00\u001B[0m\n",
      "\u001B[?25hDownloading pywavelets-1.8.0-cp310-cp310-manylinux_2_17_x86_64.manylinux2014_x86_64.whl (4.5 MB)\n",
      "\u001B[2K   \u001B[90m━━━━━━━━━━━━━━━━━━━━━━━━━━━━━━━━━━━━━━━━\u001B[0m \u001B[32m4.5/4.5 MB\u001B[0m \u001B[31m52.1 MB/s\u001B[0m eta \u001B[36m0:00:00\u001B[0m\n",
      "\u001B[?25hDownloading chemicals-1.3.2-py3-none-any.whl (26.0 MB)\n",
      "\u001B[2K   \u001B[90m━━━━━━━━━━━━━━━━━━━━━━━━━━━━━━━━━━━━━━━━\u001B[0m \u001B[32m26.0/26.0 MB\u001B[0m \u001B[31m23.6 MB/s\u001B[0m eta \u001B[36m0:00:00\u001B[0m\n",
      "\u001B[?25hDownloading pyamg-5.2.1-cp310-cp310-manylinux_2_17_x86_64.manylinux2014_x86_64.whl (2.0 MB)\n",
      "\u001B[2K   \u001B[90m━━━━━━━━━━━━━━━━━━━━━━━━━━━━━━━━━━━━━━━━\u001B[0m \u001B[32m2.0/2.0 MB\u001B[0m \u001B[31m49.2 MB/s\u001B[0m eta \u001B[36m0:00:00\u001B[0m\n",
      "\u001B[?25hDownloading thermo-0.4.1-py3-none-any.whl (10.5 MB)\n",
      "\u001B[2K   \u001B[90m━━━━━━━━━━━━━━━━━━━━━━━━━━━━━━━━━━━━━━━━\u001B[0m \u001B[32m10.5/10.5 MB\u001B[0m \u001B[31m6.8 MB/s\u001B[0m eta \u001B[36m0:00:00\u001B[0m\n",
      "\u001B[?25hDownloading transforms3d-0.4.2-py3-none-any.whl (1.4 MB)\n",
      "\u001B[2K   \u001B[90m━━━━━━━━━━━━━━━━━━━━━━━━━━━━━━━━━━━━━━━━\u001B[0m \u001B[32m1.4/1.4 MB\u001B[0m \u001B[31m44.3 MB/s\u001B[0m eta \u001B[36m0:00:00\u001B[0m\n",
      "\u001B[?25hDownloading fluids-1.1.0-py3-none-any.whl (627 kB)\n",
      "\u001B[2K   \u001B[90m━━━━━━━━━━━━━━━━━━━━━━━━━━━━━━━━━━━━━━━━\u001B[0m \u001B[32m627.5/627.5 kB\u001B[0m \u001B[31m32.1 MB/s\u001B[0m eta \u001B[36m0:00:00\u001B[0m\n",
      "\u001B[?25hBuilding wheels for collected packages: docrep\n",
      "  Building wheel for docrep (setup.py) ... \u001B[?25l\u001B[?25hdone\n",
      "  Created wheel for docrep: filename=docrep-0.3.2-py3-none-any.whl size=19877 sha256=3c53c0e86890556860b79e6483a9939f0e21143448081527b37b1aa4d2b8e870\n",
      "  Stored in directory: /root/.cache/pip/wheels/c3/64/48/03c38d8d906159eaa210b3c548fdb590eb3e2a4a5745ae2172\n",
      "Successfully built docrep\n",
      "Installing collected packages: transforms3d, pywavelets, edt, docrep, pyamg, fluids, chemicals, thermo, openpnm, porespy\n",
      "Successfully installed chemicals-1.3.2 docrep-0.3.2 edt-2.4.1 fluids-1.1.0 openpnm-3.5.0 porespy-2.4.1 pyamg-5.2.1 pywavelets-1.8.0 thermo-0.4.1 transforms3d-0.4.2\n",
      "Collecting imagecodecs\n",
      "  Downloading imagecodecs-2024.9.22-cp310-cp310-manylinux_2_17_x86_64.manylinux2014_x86_64.whl.metadata (20 kB)\n",
      "Requirement already satisfied: numpy in /usr/local/lib/python3.10/dist-packages (from imagecodecs) (1.26.4)\n",
      "Downloading imagecodecs-2024.9.22-cp310-cp310-manylinux_2_17_x86_64.manylinux2014_x86_64.whl (43.3 MB)\n",
      "\u001B[2K   \u001B[90m━━━━━━━━━━━━━━━━━━━━━━━━━━━━━━━━━━━━━━━━\u001B[0m \u001B[32m43.3/43.3 MB\u001B[0m \u001B[31m11.1 MB/s\u001B[0m eta \u001B[36m0:00:00\u001B[0m\n",
      "\u001B[?25hInstalling collected packages: imagecodecs\n",
      "Successfully installed imagecodecs-2024.9.22\n",
      "Collecting pypardiso\n",
      "  Downloading pypardiso-0.4.6-py3-none-any.whl.metadata (4.8 kB)\n",
      "Requirement already satisfied: mkl!=2024.0 in /usr/local/lib/python3.10/dist-packages (from pypardiso) (2025.0.1)\n",
      "Requirement already satisfied: numpy in /usr/local/lib/python3.10/dist-packages (from pypardiso) (1.26.4)\n",
      "Requirement already satisfied: scipy in /usr/local/lib/python3.10/dist-packages (from pypardiso) (1.13.1)\n",
      "Requirement already satisfied: intel-openmp>=2024 in /usr/local/lib/python3.10/dist-packages (from mkl!=2024.0->pypardiso) (2025.0.4)\n",
      "Requirement already satisfied: tbb==2022.* in /usr/local/lib/python3.10/dist-packages (from mkl!=2024.0->pypardiso) (2022.0.0)\n",
      "Requirement already satisfied: tcmlib==1.* in /usr/local/lib/python3.10/dist-packages (from tbb==2022.*->mkl!=2024.0->pypardiso) (1.2.0)\n",
      "Requirement already satisfied: intel-cmplr-lib-ur==2025.0.4 in /usr/local/lib/python3.10/dist-packages (from intel-openmp>=2024->mkl!=2024.0->pypardiso) (2025.0.4)\n",
      "Requirement already satisfied: umf==0.9.* in /usr/local/lib/python3.10/dist-packages (from intel-cmplr-lib-ur==2025.0.4->intel-openmp>=2024->mkl!=2024.0->pypardiso) (0.9.1)\n",
      "Downloading pypardiso-0.4.6-py3-none-any.whl (10 kB)\n",
      "Installing collected packages: pypardiso\n",
      "Successfully installed pypardiso-0.4.6\n",
      "Mounted at /content/drive\n"
     ]
    },
    {
     "output_type": "error",
     "ename": "ImportError",
     "evalue": "cannot import name 'skeletonize_3d' from 'skimage.morphology' (/usr/local/lib/python3.10/dist-packages/skimage/morphology/__init__.py)",
     "traceback": [
      "\u001B[0;31m---------------------------------------------------------------------------\u001B[0m",
      "\u001B[0;31mImportError\u001B[0m                               Traceback (most recent call last)",
      "\u001B[0;32m<ipython-input-1-1bb4c6ace5ca>\u001B[0m in \u001B[0;36m<cell line: 24>\u001B[0;34m()\u001B[0m\n\u001B[1;32m     22\u001B[0m \u001B[0msys\u001B[0m\u001B[0;34m.\u001B[0m\u001B[0mpath\u001B[0m\u001B[0;34m.\u001B[0m\u001B[0mappend\u001B[0m\u001B[0;34m(\u001B[0m\u001B[0;34m'./drive/MyDrive/Lab_MT/IreneProbesExperiments/src'\u001B[0m\u001B[0;34m)\u001B[0m\u001B[0;34m\u001B[0m\u001B[0;34m\u001B[0m\u001B[0m\n\u001B[1;32m     23\u001B[0m \u001B[0;34m\u001B[0m\u001B[0m\n\u001B[0;32m---> 24\u001B[0;31m \u001B[0;32mfrom\u001B[0m \u001B[0mfish\u001B[0m \u001B[0;32mimport\u001B[0m \u001B[0mFishAnalyzer\u001B[0m\u001B[0;34m\u001B[0m\u001B[0;34m\u001B[0m\u001B[0m\n\u001B[0m",
      "\u001B[0;32m/content/./drive/MyDrive/Lab_MT/IreneProbesExperiments/src/fish.py\u001B[0m in \u001B[0;36m<module>\u001B[0;34m\u001B[0m\n\u001B[1;32m     11\u001B[0m \u001B[0;34m\u001B[0m\u001B[0m\n\u001B[1;32m     12\u001B[0m \u001B[0;32mfrom\u001B[0m \u001B[0mdash\u001B[0m \u001B[0;32mimport\u001B[0m \u001B[0mDash\u001B[0m\u001B[0;34m,\u001B[0m \u001B[0mdcc\u001B[0m\u001B[0;34m,\u001B[0m \u001B[0mhtml\u001B[0m\u001B[0;34m,\u001B[0m \u001B[0mInput\u001B[0m\u001B[0;34m,\u001B[0m \u001B[0mOutput\u001B[0m\u001B[0;34m\u001B[0m\u001B[0;34m\u001B[0m\u001B[0m\n\u001B[0;32m---> 13\u001B[0;31m \u001B[0;32mimport\u001B[0m \u001B[0mporespy\u001B[0m \u001B[0;32mas\u001B[0m \u001B[0mps\u001B[0m\u001B[0;34m\u001B[0m\u001B[0;34m\u001B[0m\u001B[0m\n\u001B[0m\u001B[1;32m     14\u001B[0m \u001B[0;34m\u001B[0m\u001B[0m\n\u001B[1;32m     15\u001B[0m \u001B[0;32mimport\u001B[0m \u001B[0mnumpy\u001B[0m \u001B[0;32mas\u001B[0m \u001B[0mnp\u001B[0m\u001B[0;34m\u001B[0m\u001B[0;34m\u001B[0m\u001B[0m\n",
      "\u001B[0;32m/usr/local/lib/python3.10/dist-packages/porespy/__init__.py\u001B[0m in \u001B[0;36m<module>\u001B[0;34m\u001B[0m\n\u001B[1;32m     19\u001B[0m \u001B[0;32mfrom\u001B[0m \u001B[0;34m.\u001B[0m \u001B[0;32mimport\u001B[0m \u001B[0mtools\u001B[0m\u001B[0;34m\u001B[0m\u001B[0;34m\u001B[0m\u001B[0m\n\u001B[1;32m     20\u001B[0m \u001B[0;32mfrom\u001B[0m \u001B[0;34m.\u001B[0m \u001B[0;32mimport\u001B[0m \u001B[0mfilters\u001B[0m\u001B[0;34m\u001B[0m\u001B[0;34m\u001B[0m\u001B[0m\n\u001B[0;32m---> 21\u001B[0;31m \u001B[0;32mfrom\u001B[0m \u001B[0;34m.\u001B[0m \u001B[0;32mimport\u001B[0m \u001B[0mmetrics\u001B[0m\u001B[0;34m\u001B[0m\u001B[0;34m\u001B[0m\u001B[0m\n\u001B[0m\u001B[1;32m     22\u001B[0m \u001B[0;32mfrom\u001B[0m \u001B[0;34m.\u001B[0m \u001B[0;32mimport\u001B[0m \u001B[0mnetworks\u001B[0m\u001B[0;34m\u001B[0m\u001B[0;34m\u001B[0m\u001B[0m\n\u001B[1;32m     23\u001B[0m \u001B[0;32mfrom\u001B[0m \u001B[0;34m.\u001B[0m \u001B[0;32mimport\u001B[0m \u001B[0mgenerators\u001B[0m\u001B[0;34m\u001B[0m\u001B[0;34m\u001B[0m\u001B[0m\n",
      "\u001B[0;32m/usr/local/lib/python3.10/dist-packages/porespy/metrics/__init__.py\u001B[0m in \u001B[0;36m<module>\u001B[0;34m\u001B[0m\n\u001B[1;32m     41\u001B[0m \"\"\"\n\u001B[1;32m     42\u001B[0m \u001B[0;34m\u001B[0m\u001B[0m\n\u001B[0;32m---> 43\u001B[0;31m \u001B[0;32mfrom\u001B[0m \u001B[0;34m.\u001B[0m\u001B[0m_regionprops\u001B[0m \u001B[0;32mimport\u001B[0m \u001B[0;34m*\u001B[0m\u001B[0;34m\u001B[0m\u001B[0;34m\u001B[0m\u001B[0m\n\u001B[0m\u001B[1;32m     44\u001B[0m \u001B[0;32mfrom\u001B[0m \u001B[0;34m.\u001B[0m\u001B[0m_funcs\u001B[0m \u001B[0;32mimport\u001B[0m \u001B[0;34m*\u001B[0m\u001B[0;34m\u001B[0m\u001B[0;34m\u001B[0m\u001B[0m\n\u001B[1;32m     45\u001B[0m \u001B[0;32mfrom\u001B[0m \u001B[0;34m.\u001B[0m\u001B[0m_meshtools\u001B[0m \u001B[0;32mimport\u001B[0m \u001B[0;34m*\u001B[0m\u001B[0;34m\u001B[0m\u001B[0;34m\u001B[0m\u001B[0m\n",
      "\u001B[0;32m/usr/local/lib/python3.10/dist-packages/porespy/metrics/_regionprops.py\u001B[0m in \u001B[0;36m<module>\u001B[0;34m\u001B[0m\n\u001B[1;32m      8\u001B[0m \u001B[0;32mexcept\u001B[0m \u001B[0mImportError\u001B[0m\u001B[0;34m:\u001B[0m\u001B[0;34m\u001B[0m\u001B[0;34m\u001B[0m\u001B[0m\n\u001B[1;32m      9\u001B[0m     \u001B[0;32mfrom\u001B[0m \u001B[0mskimage\u001B[0m\u001B[0;34m.\u001B[0m\u001B[0mmeasure\u001B[0m \u001B[0;32mimport\u001B[0m \u001B[0mmarching_cubes_lewiner\u001B[0m \u001B[0;32mas\u001B[0m \u001B[0mmarching_cubes\u001B[0m\u001B[0;34m\u001B[0m\u001B[0;34m\u001B[0m\u001B[0m\n\u001B[0;32m---> 10\u001B[0;31m \u001B[0;32mfrom\u001B[0m \u001B[0mskimage\u001B[0m\u001B[0;34m.\u001B[0m\u001B[0mmorphology\u001B[0m \u001B[0;32mimport\u001B[0m \u001B[0mskeletonize_3d\u001B[0m\u001B[0;34m,\u001B[0m \u001B[0mball\u001B[0m\u001B[0;34m\u001B[0m\u001B[0;34m\u001B[0m\u001B[0m\n\u001B[0m\u001B[1;32m     11\u001B[0m \u001B[0;32mfrom\u001B[0m \u001B[0mskimage\u001B[0m\u001B[0;34m.\u001B[0m\u001B[0mmeasure\u001B[0m \u001B[0;32mimport\u001B[0m \u001B[0mregionprops\u001B[0m\u001B[0;34m\u001B[0m\u001B[0;34m\u001B[0m\u001B[0m\n\u001B[1;32m     12\u001B[0m \u001B[0;32mfrom\u001B[0m \u001B[0mskimage\u001B[0m\u001B[0;34m.\u001B[0m\u001B[0mmeasure\u001B[0m\u001B[0;34m.\u001B[0m\u001B[0m_regionprops\u001B[0m \u001B[0;32mimport\u001B[0m \u001B[0mRegionProperties\u001B[0m\u001B[0;34m\u001B[0m\u001B[0;34m\u001B[0m\u001B[0m\n",
      "\u001B[0;31mImportError\u001B[0m: cannot import name 'skeletonize_3d' from 'skimage.morphology' (/usr/local/lib/python3.10/dist-packages/skimage/morphology/__init__.py)",
      "",
      "\u001B[0;31m---------------------------------------------------------------------------\u001B[0;32m\nNOTE: If your import is failing due to a missing package, you can\nmanually install dependencies using either !pip or !apt.\n\nTo view examples of installing some common dependencies, click the\n\"Open Examples\" button below.\n\u001B[0;31m---------------------------------------------------------------------------\u001B[0m\n"
     ],
     "errorDetails": {
      "actions": [
       {
        "action": "open_url",
        "actionText": "Open Examples",
        "url": "/notebooks/snippets/importing_libraries.ipynb"
       }
      ]
     }
    }
   ],
   "source": [
    "try:\n",
    "  from csbdeep.utils import normalize\n",
    "  from csbdeep.io import save_tiff_imagej_compatible\n",
    "\n",
    "  from stardist import random_label_cmap, _draw_polygons, export_imagej_rois\n",
    "  from stardist.models import StarDist2D\n",
    "\n",
    "  from dash import Dash, dcc, html, Input, Output\n",
    "  import porespy as ps\n",
    "except Exception as e:\n",
    "  !pip install csbdeep\n",
    "  !pip install stardist\n",
    "  !pip install dash\n",
    "  !pip install porespy\n",
    "  !pip install imagecodecs\n",
    "  !pip install pypardiso\n",
    "\n",
    "from google.colab import drive\n",
    "drive.mount('/content/drive')\n",
    "\n",
    "import sys\n",
    "sys.path.append('./drive/MyDrive/Lab_MT/IreneProbesExperiments/src')\n",
    "\n",
    "from fish import FishAnalyzer"
   ]
  },
  {
   "cell_type": "code",
   "source": [
    "#@markdown # Path to images\n",
    "\n",
    "folder = './drive/MyDrive/Lab_MT/IreneProbesExperiments/Data/' #@param {type:\"string\"}\n",
    "\n",
    "#@markdown # Configuration\n",
    "\n",
    "stardist_model_name = '2D_demo' #@param [\"2D_demo\", \"2D_versatile_fluo\", \"2D_versatile_he\", \"2D_paper_dsb2018\"]\n",
    "threshold_size = 300 #@param {type:\"number\"}\n",
    "threshold_distance = 15 #@param {type:\"number\"}\n",
    "\n",
    "analyzer = FishAnalyzer(\n",
    "    folder,\n",
    "    thr_size=threshold_size,\n",
    "    thr_dist=threshold_distance,\n",
    "    model=stardist_model_name,\n",
    "    verbose=1\n",
    ")\n",
    "\n",
    "analyzer.load_images()\n",
    "analyzer.load_model()"
   ],
   "metadata": {
    "id": "_4-sX77rBTJp",
    "cellView": "form"
   },
   "execution_count": null,
   "outputs": []
  },
  {
   "cell_type": "markdown",
   "source": [
    "# Run all predictions"
   ],
   "metadata": {
    "id": "Ny0SRkwmGNj5"
   }
  },
  {
   "cell_type": "code",
   "source": [
    "analyzer.predict_all()"
   ],
   "metadata": {
    "id": "lr8PpiI6GQNc"
   },
   "execution_count": null,
   "outputs": []
  },
  {
   "cell_type": "markdown",
   "source": [
    "# Predict single image\n",
    "\n",
    "Run cell and select image from the dropdown menu"
   ],
   "metadata": {
    "id": "3DLjpyqXDeJr"
   }
  },
  {
   "cell_type": "code",
   "source": [
    "import ipywidgets as widgets\n",
    "from IPython.display import display\n",
    "\n",
    "img_name = None\n",
    "\n",
    "img_names = analyzer.paths\n",
    "img_name_dropdown = widgets.Dropdown(\n",
    "    options=img_names,\n",
    "    description='Image Name:',\n",
    "    value=None\n",
    ")\n",
    "\n",
    "def on_img_name_change(change):\n",
    "    global img_name\n",
    "    img_name = change['new']\n",
    "    print(f\"Selected image name: {img_name}\")\n",
    "\n",
    "img_name_dropdown.observe(on_img_name_change, names='value')\n",
    "display(img_name_dropdown)"
   ],
   "metadata": {
    "id": "PxjF29MqDdVt"
   },
   "execution_count": null,
   "outputs": []
  },
  {
   "cell_type": "markdown",
   "source": [
    "Once selected the image name run the following code"
   ],
   "metadata": {
    "id": "09cZvCBRIHER"
   }
  },
  {
   "cell_type": "code",
   "source": [
    "assert img_name is not None, 'Select an image name from the above menu'\n",
    "\n",
    "analyzer.predict_single(img_name)"
   ],
   "metadata": {
    "id": "dajbtIPKIG1U"
   },
   "execution_count": null,
   "outputs": []
  },
  {
   "cell_type": "markdown",
   "source": [
    "# Quality Assessment"
   ],
   "metadata": {
    "id": "MroDH8DIGZvP"
   }
  },
  {
   "cell_type": "code",
   "source": [
    "import ipywidgets as widgets\n",
    "from IPython.display import display\n",
    "\n",
    "img_name = None\n",
    "\n",
    "img_names = analyzer.paths\n",
    "img_name_dropdown = widgets.Dropdown(\n",
    "    options=img_names,\n",
    "    description='Image Name:',\n",
    "    value=None\n",
    ")\n",
    "\n",
    "def on_img_name_change(change):\n",
    "    global img_name\n",
    "    img_name = change['new']\n",
    "    print(f\"Selected image name: {img_name}\")\n",
    "\n",
    "img_name_dropdown.observe(on_img_name_change, names='value')\n",
    "display(img_name_dropdown)"
   ],
   "metadata": {
    "id": "ZaOQSPy9GcUQ"
   },
   "execution_count": null,
   "outputs": []
  },
  {
   "cell_type": "code",
   "source": [
    "assert img_name is not None, 'Select an image name from the above menu'\n",
    "\n",
    "analyzer.analyze(img_name)"
   ],
   "metadata": {
    "id": "7DMX38PuThUw"
   },
   "execution_count": null,
   "outputs": []
  }
 ]
}
