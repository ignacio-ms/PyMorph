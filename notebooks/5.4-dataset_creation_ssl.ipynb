{
 "cells": [
  {
   "cell_type": "code",
   "id": "initial_id",
   "metadata": {
    "collapsed": true,
    "ExecuteTime": {
     "end_time": "2024-10-16T09:01:44.518800Z",
     "start_time": "2024-10-16T09:01:41.642831Z"
    }
   },
   "source": [
    "\n",
    "import os\n",
    "\n",
    "import numpy as np\n",
    "import cv2\n",
    "from skimage.morphology import dilation, ball\n",
    "\n",
    "\n",
    "import matplotlib.pyplot as plt\n",
    "import seaborn as sns\n",
    "\n",
    "from util import values as v\n",
    "from util.misc.colors import bcolors as c\n",
    "from util.data import imaging\n",
    "from filtering import cardiac_region as cr\n",
    "\n",
    "# GPU config\n",
    "from util.data.dataset_ht import HtDataset"
   ],
   "outputs": [],
   "execution_count": 1
  },
  {
   "metadata": {},
   "cell_type": "markdown",
   "source": "Membrane",
   "id": "ba05ed3d66d61bb7"
  },
  {
   "metadata": {
    "ExecuteTime": {
     "end_time": "2024-10-16T22:38:44.623077Z",
     "start_time": "2024-10-16T09:41:48.411185Z"
    }
   },
   "cell_type": "code",
   "source": [
    "# specimens = [item for sublist in v.specimens.values() for item in sublist]\n",
    "# specimens = np.random.choice(specimens, 10)\n",
    "specimens = ['0806_E5', '0503_E1', '0308_E3', '0806_E6', '0518_E3', '0403_E2']\n",
    "ht_ds = HtDataset() \n",
    "\n",
    "for specimen in specimens:    \n",
    "    print(f'{c.OKBLUE}Processing specimen:{c.ENDC} {specimen}')\n",
    "\n",
    "    try:\n",
    "        # Check if the specimen has the required files\n",
    "        p_img_raw_mem, _ = ht_ds.read_specimen(specimen, level='Membrane', type='RawImages', verbose=1)\n",
    "        p_img_raw, _ = ht_ds.read_specimen(specimen, level='Nuclei', type='RawImages')\n",
    "        p_img_seg, _ = ht_ds.read_specimen(specimen, level='Membrane', type='Segmentation')\n",
    "        features = ht_ds.get_features(specimen, type='Membrane', verbose=1)\n",
    "\n",
    "        # Read the images\n",
    "        img_raw_mem = imaging.read_image(p_img_raw_mem, verbose=1).astype(np.uint8)\n",
    "        img_raw = imaging.read_image(p_img_raw, verbose=1).astype(np.uint8)\n",
    "        img_seg = imaging.read_image(p_img_seg, verbose=1)\n",
    "\n",
    "        # Get the features\n",
    "        labels, centroids = features['original_labels'], features['centroids']\n",
    "\n",
    "        count = 0\n",
    "        for i, label in enumerate(labels):            \n",
    "            # Get the centroids of the cell\n",
    "            cen = centroids[i].replace('[', '').replace(']', '').split(',')\n",
    "            x, y, z = int(cen[0]), int(cen[1]), int(cen[2])\n",
    "        \n",
    "            # Crop the cell region + Erode the mask\n",
    "            margins = cr.get_cell_margins(img_seg, label, ma=0)\n",
    "            mask = img_seg[\n",
    "                x-25: x+25, y-25: y+25,\n",
    "                int(margins[0][2]): int(margins[1][2])\n",
    "            ]\n",
    "            mask = np.where(mask == label, 255, 0).astype(np.uint8)\n",
    "            mask_dilated = dilation(mask, ball(2))\n",
    "            \n",
    "            # Remove empty z-slices\n",
    "            non_empty_slices = [i for i in range(mask.shape[2]) if np.any(mask[..., i])]\n",
    "            mask = mask[..., non_empty_slices]\n",
    "            mask_dilated = mask_dilated[..., non_empty_slices]\n",
    "        \n",
    "            # Crop the cell region of the raw image\n",
    "            img_cell = img_raw[\n",
    "                x-25: x+25, y-25: y+25,\n",
    "                int(margins[0][2]): int(margins[1][2])\n",
    "            ]\n",
    "            img_cell = img_cell[..., non_empty_slices]\n",
    "\n",
    "            img_mem = img_raw_mem[\n",
    "                x-25: x+25, y-25: y+25,\n",
    "                int(margins[0][2]): int(margins[1][2])\n",
    "            ]\n",
    "            img_mem = img_mem[..., non_empty_slices]\n",
    "        \n",
    "            # Erase the background\n",
    "            img_cell_no_bg = np.where(mask == 0, 0, img_cell)\n",
    "            img_cell_no_bg_dilated = np.where(mask_dilated == 0, 0, img_cell)\n",
    "            \n",
    "            # IQR Filter over the intensities of the cell\n",
    "            img_cell_no_bg, intensities, thresh = imaging.iqr_filter(img_cell_no_bg, get_params=True, verbose=0)\n",
    "\n",
    "            img_cell = img_cell[..., intensities > thresh]\n",
    "            img_mem = img_mem[..., intensities > thresh]\n",
    "            img_cell_no_bg_dilated = img_cell_no_bg_dilated[..., intensities > thresh]\n",
    "\n",
    "            # Merge the images as an 3D RGB image (img_cell and img_mem)\n",
    "            img_all = np.stack([img_cell_no_bg_dilated, img_mem, np.zeros_like(img_cell)], axis=-1)\n",
    "        \n",
    "            # Save the images\n",
    "            img_cell_no_bg = img_cell_no_bg.astype(np.uint8)\n",
    "            if img_cell_no_bg.shape[2] > 0:\n",
    "                # for z in range(img_cell_no_bg.shape[2]):\n",
    "                #     cv2.imshow('Cell', img_cell_no_bg[..., z])\n",
    "                #     cv2.imshow('Cell_all', img_all[..., z, :])\n",
    "                #     cv2.waitKey(0)\n",
    "                #     cv2.destroyAllWindows()\n",
    "                # print(img_cell_no_bg.shape)\n",
    "                # print(img_all.shape)\n",
    "                count += 1\n",
    "                imaging.save_prediction(\n",
    "                    img_cell_no_bg,\n",
    "                    v.data_path + 'CellDivision/images_unlabeled/' + f'{specimen}_{int(label)}.tif',\n",
    "                    axes='XYZ',\n",
    "                    verbose=0\n",
    "                )\n",
    "                imaging.save_prediction(\n",
    "                    img_all,\n",
    "                    v.data_path + 'CellDivision/images_unlabeled_bg/' + f'{specimen}_{int(label)}.tif',\n",
    "                    axes='XYZC',\n",
    "                    verbose=0\n",
    "                )\n",
    "        print(f'\\t{c.BOLD}Saved {count} cells{c.ENDC}')\n",
    "        count = 0\n",
    "\n",
    "    except Exception as e:\n",
    "        import traceback\n",
    "        print(f'{c.FAIL}Error:{c.ENDC} {e}')\n",
    "        traceback.print_exc()\n",
    "        continue\n"
   ],
   "id": "d21c929370db074d",
   "outputs": [
    {
     "name": "stdout",
     "output_type": "stream",
     "text": [
      "\u001B[94mProcessing specimen:\u001B[0m 0806_E5\n",
      "\t\u001B[92mFound\u001B[0m: 20190806_E5_mGFP_decon_0.5.nii.gz\n",
      "\t\u001B[92mFound\u001B[0m: 20190806_E5_cell_properties_radiomics_Membrane_splanchnic.csv\n",
      "\u001B[94mReading NIfTI\u001B[0m: /run/user/1003/gvfs/smb-share:server=tierra.cnic.es,share=sc/LAB_MT/LAB/Ignacio/Gr1/RawImages/Membrane/20190806_E5_mGFP_decon_0.5.nii.gz\n",
      "\u001B[94mReading NIfTI\u001B[0m: /run/user/1003/gvfs/smb-share:server=tierra.cnic.es,share=sc/LAB_MT/LAB/Ignacio/Gr1/RawImages/Nuclei/20190806_E5_DAPI_decon_0.5.nii.gz\n",
      "\u001B[94mReading NIfTI\u001B[0m: /run/user/1003/gvfs/smb-share:server=tierra.cnic.es,share=sc/LAB_MT/LAB/Ignacio/Gr1/Segmentation/Membrane/20190806_E5_mask.nii.gz\n",
      "\t\u001B[1mSaved 733 cells\u001B[0m\n",
      "\u001B[94mProcessing specimen:\u001B[0m 0503_E1\n",
      "\t\u001B[92mFound\u001B[0m: 20190503_E1_mGFP_decon_0.5.nii.gz\n",
      "\t\u001B[92mFound\u001B[0m: 20190503_E1_cell_properties_radiomics_Membrane_splanchnic.csv\n",
      "\u001B[94mReading NIfTI\u001B[0m: /run/user/1003/gvfs/smb-share:server=tierra.cnic.es,share=sc/LAB_MT/LAB/Ignacio/Gr2/RawImages/Membrane/20190503_E1_mGFP_decon_0.5.nii.gz\n",
      "\u001B[94mReading NIfTI\u001B[0m: /run/user/1003/gvfs/smb-share:server=tierra.cnic.es,share=sc/LAB_MT/LAB/Ignacio/Gr2/RawImages/Nuclei/20190503_E1_DAPI_decon_0.5.nii.gz\n",
      "\u001B[94mReading NIfTI\u001B[0m: /run/user/1003/gvfs/smb-share:server=tierra.cnic.es,share=sc/LAB_MT/LAB/Ignacio/Gr2/Segmentation/Membrane/20190503_E1_mask.nii.gz\n",
      "\t\u001B[1mSaved 1174 cells\u001B[0m\n",
      "\u001B[94mProcessing specimen:\u001B[0m 0308_E3\n",
      "\t\u001B[92mFound\u001B[0m: 20190308_E3_mGFP_decon_0.5.nii.gz\n",
      "\t\u001B[92mFound\u001B[0m: 20190308_E3_cell_properties_radiomics_Membrane_myocardium.csv\n",
      "\u001B[94mReading NIfTI\u001B[0m: /run/user/1003/gvfs/smb-share:server=tierra.cnic.es,share=sc/LAB_MT/LAB/Ignacio/Gr3/RawImages/Membrane/20190308_E3_mGFP_decon_0.5.nii.gz\n",
      "\u001B[94mReading NIfTI\u001B[0m: /run/user/1003/gvfs/smb-share:server=tierra.cnic.es,share=sc/LAB_MT/LAB/Ignacio/Gr3/RawImages/Nuclei/20190308_E3_DAPI_decon_0.5.nii.gz\n",
      "\u001B[94mReading NIfTI\u001B[0m: /run/user/1003/gvfs/smb-share:server=tierra.cnic.es,share=sc/LAB_MT/LAB/Ignacio/Gr3/Segmentation/Membrane/20190308_E3_mask.nii.gz\n",
      "\t\u001B[1mSaved 1252 cells\u001B[0m\n",
      "\u001B[94mProcessing specimen:\u001B[0m 0806_E6\n",
      "\t\u001B[92mFound\u001B[0m: 20190806_E6_mGFP_decon_0.5.nii.gz\n",
      "\t\u001B[92mFound\u001B[0m: .~lock.20190806_E6_cell_properties_radiomics_Membrane_myocardium.csv#\n",
      "\u001B[94mReading NIfTI\u001B[0m: /run/user/1003/gvfs/smb-share:server=tierra.cnic.es,share=sc/LAB_MT/LAB/Ignacio/Gr4/RawImages/Membrane/20190806_E6_mGFP_decon_0.5.nii.gz\n",
      "\u001B[94mReading NIfTI\u001B[0m: /run/user/1003/gvfs/smb-share:server=tierra.cnic.es,share=sc/LAB_MT/LAB/Ignacio/Gr4/RawImages/Nuclei/20190806_E6_DAPI_decon_0.5.nii.gz\n",
      "\u001B[94mReading NIfTI\u001B[0m: /run/user/1003/gvfs/smb-share:server=tierra.cnic.es,share=sc/LAB_MT/LAB/Ignacio/Gr4/Segmentation/Membrane/20190806_E6_mask.nii.gz\n",
      "\u001B[91mError:\u001B[0m 'original_labels'\n",
      "\u001B[94mProcessing specimen:\u001B[0m 0518_E3\n",
      "\t\u001B[92mFound\u001B[0m: 20190518_E3_mGFP_decon_0.5.nii.gz\n"
     ]
    },
    {
     "name": "stderr",
     "output_type": "stream",
     "text": [
      "Traceback (most recent call last):\n",
      "  File \"/home/imarcoss/mambaforge/envs/py310ml/lib/python3.10/site-packages/pandas/core/indexes/base.py\", line 3805, in get_loc\n",
      "    return self._engine.get_loc(casted_key)\n",
      "  File \"index.pyx\", line 167, in pandas._libs.index.IndexEngine.get_loc\n",
      "  File \"index.pyx\", line 196, in pandas._libs.index.IndexEngine.get_loc\n",
      "  File \"pandas/_libs/hashtable_class_helper.pxi\", line 7081, in pandas._libs.hashtable.PyObjectHashTable.get_item\n",
      "  File \"pandas/_libs/hashtable_class_helper.pxi\", line 7089, in pandas._libs.hashtable.PyObjectHashTable.get_item\n",
      "KeyError: 'original_labels'\n",
      "\n",
      "The above exception was the direct cause of the following exception:\n",
      "\n",
      "Traceback (most recent call last):\n",
      "  File \"/tmp/ipykernel_3733252/3290627585.py\", line 22, in <module>\n",
      "    labels, centroids = features['original_labels'], features['centroids']\n",
      "  File \"/home/imarcoss/mambaforge/envs/py310ml/lib/python3.10/site-packages/pandas/core/frame.py\", line 4102, in __getitem__\n",
      "    indexer = self.columns.get_loc(key)\n",
      "  File \"/home/imarcoss/mambaforge/envs/py310ml/lib/python3.10/site-packages/pandas/core/indexes/base.py\", line 3812, in get_loc\n",
      "    raise KeyError(key) from err\n",
      "KeyError: 'original_labels'\n"
     ]
    },
    {
     "name": "stdout",
     "output_type": "stream",
     "text": [
      "\t\u001B[92mFound\u001B[0m: 20190518_E3_cell_properties_radiomics_Membrane_myocardium.csv\n",
      "\u001B[94mReading NIfTI\u001B[0m: /run/user/1003/gvfs/smb-share:server=tierra.cnic.es,share=sc/LAB_MT/LAB/Ignacio/Gr5/RawImages/Membrane/20190518_E3_mGFP_decon_0.5.nii.gz\n",
      "\u001B[94mReading NIfTI\u001B[0m: /run/user/1003/gvfs/smb-share:server=tierra.cnic.es,share=sc/LAB_MT/LAB/Ignacio/Gr5/RawImages/Nuclei/20190518_E3_DAPI_decon_0.5.nii.gz\n",
      "\u001B[94mReading NIfTI\u001B[0m: /run/user/1003/gvfs/smb-share:server=tierra.cnic.es,share=sc/LAB_MT/LAB/Ignacio/Gr5/Segmentation/Membrane/20190518_E3_mask.nii.gz\n",
      "\t\u001B[1mSaved 3412 cells\u001B[0m\n",
      "\u001B[94mProcessing specimen:\u001B[0m 0403_E2\n",
      "\t\u001B[92mFound\u001B[0m: 20190403_E2_mGFP_decon_0.5.nii.gz\n",
      "\t\u001B[92mFound\u001B[0m: 20190403_E2_cell_properties_radiomics_Membrane_splanchnic.csv\n",
      "\u001B[94mReading NIfTI\u001B[0m: /run/user/1003/gvfs/smb-share:server=tierra.cnic.es,share=sc/LAB_MT/LAB/Ignacio/Gr7/RawImages/Membrane/20190403_E2_mGFP_decon_0.5.nii.gz\n",
      "\u001B[94mReading NIfTI\u001B[0m: /run/user/1003/gvfs/smb-share:server=tierra.cnic.es,share=sc/LAB_MT/LAB/Ignacio/Gr7/RawImages/Nuclei/20190403_E2_DAPI_decon_0.5.nii.gz\n",
      "\u001B[94mReading NIfTI\u001B[0m: /run/user/1003/gvfs/smb-share:server=tierra.cnic.es,share=sc/LAB_MT/LAB/Ignacio/Gr7/Segmentation/Membrane/20190403_E2_mask.nii.gz\n",
      "\u001B[91mError:\u001B[0m cannot do a non-empty take from an empty axes.\n"
     ]
    },
    {
     "name": "stderr",
     "output_type": "stream",
     "text": [
      "/home/imarcoss/mambaforge/envs/py310ml/lib/python3.10/site-packages/numpy/core/fromnumeric.py:3432: RuntimeWarning: Mean of empty slice.\n",
      "  return _methods._mean(a, axis=axis, dtype=dtype,\n",
      "Traceback (most recent call last):\n",
      "  File \"/tmp/ipykernel_3733252/3290627585.py\", line 62, in <module>\n",
      "    img_cell_no_bg, intensities, thresh = imaging.iqr_filter(img_cell_no_bg, get_params=True, verbose=0)\n",
      "  File \"/home/imarcoss/ht_morphogenesis/auxiliary/data/imaging.py\", line 263, in iqr_filter\n",
      "    q1 = np.percentile(intensities, 35)\n",
      "  File \"<__array_function__ internals>\", line 180, in percentile\n",
      "  File \"/home/imarcoss/mambaforge/envs/py310ml/lib/python3.10/site-packages/numpy/lib/function_base.py\", line 4166, in percentile\n",
      "    return _quantile_unchecked(\n",
      "  File \"/home/imarcoss/mambaforge/envs/py310ml/lib/python3.10/site-packages/numpy/lib/function_base.py\", line 4424, in _quantile_unchecked\n",
      "    r, k = _ureduce(a,\n",
      "  File \"/home/imarcoss/mambaforge/envs/py310ml/lib/python3.10/site-packages/numpy/lib/function_base.py\", line 3725, in _ureduce\n",
      "    r = func(a, **kwargs)\n",
      "  File \"/home/imarcoss/mambaforge/envs/py310ml/lib/python3.10/site-packages/numpy/lib/function_base.py\", line 4593, in _quantile_ureduce_func\n",
      "    result = _quantile(arr,\n",
      "  File \"/home/imarcoss/mambaforge/envs/py310ml/lib/python3.10/site-packages/numpy/lib/function_base.py\", line 4699, in _quantile\n",
      "    take(arr, indices=-1, axis=DATA_AXIS)\n",
      "  File \"<__array_function__ internals>\", line 180, in take\n",
      "  File \"/home/imarcoss/mambaforge/envs/py310ml/lib/python3.10/site-packages/numpy/core/fromnumeric.py\", line 190, in take\n",
      "    return _wrapfunc(a, 'take', indices, axis=axis, out=out, mode=mode)\n",
      "  File \"/home/imarcoss/mambaforge/envs/py310ml/lib/python3.10/site-packages/numpy/core/fromnumeric.py\", line 57, in _wrapfunc\n",
      "    return bound(*args, **kwds)\n",
      "IndexError: cannot do a non-empty take from an empty axes.\n"
     ]
    }
   ],
   "execution_count": 9
  },
  {
   "metadata": {},
   "cell_type": "code",
   "source": "",
   "id": "4079b1da603145d6",
   "outputs": [],
   "execution_count": null
  },
  {
   "metadata": {
    "ExecuteTime": {
     "end_time": "2024-10-17T11:15:10.253183Z",
     "start_time": "2024-10-17T11:15:10.243852Z"
    }
   },
   "cell_type": "code",
   "source": [
    "def plot_global_intensity_hist(stacks, bins=100):\n",
    "    all_intensities = []\n",
    "    for i, stack in enumerate(stacks):\n",
    "        stack = stack * 255\n",
    "        stack = stack.astype(np.uint8)\n",
    "        all_intensities.append(np.mean(stack.flatten()))\n",
    "    \n",
    "    plt.figure(figsize=(10, 5))\n",
    "    sns.histplot(\n",
    "        all_intensities, kde=True, bins=bins, \n",
    "        color='blue', alpha=0.7\n",
    "    )\n",
    "    plt.title('Histogram of intensities')\n",
    "    plt.xlabel('Intensity')\n",
    "    plt.ylabel('Frequency')\n",
    "    plt.show()"
   ],
   "id": "4acc01476b4900dc",
   "outputs": [],
   "execution_count": 10
  },
  {
   "metadata": {
    "ExecuteTime": {
     "end_time": "2024-10-17T11:17:05.210537Z",
     "start_time": "2024-10-17T11:15:14.102430Z"
    }
   },
   "cell_type": "code",
   "source": [
    "from util.data.dataset_unlabeled import UnlabeledDataset\n",
    "\n",
    "\n",
    "data_path = v.data_path + 'CellDivision/images_unlabeled/'\n",
    "unlabeled_ds = UnlabeledDataset(data_path, batch_size=1)\n",
    "\n",
    "plot_global_intensity_hist(unlabeled_ds)"
   ],
   "id": "8c10f2f0b55e3e7f",
   "outputs": [
    {
     "data": {
      "text/plain": [
       "<Figure size 1000x500 with 1 Axes>"
      ],
      "image/png": "[encoded data removed]"
     },
     "metadata": {},
     "output_type": "display_data"
    }
   ],
   "execution_count": 11
  },
  {
   "metadata": {
    "ExecuteTime": {
     "end_time": "2024-10-17T11:21:45.217122Z",
     "start_time": "2024-10-17T11:21:44.878237Z"
    }
   },
   "cell_type": "code",
   "source": [
    "data_path = v.data_path + 'CellDivision/images_unlabeled/'\n",
    "data_path_bg = v.data_path + 'CellDivision/images_unlabeled_bg/'\n",
    "unlabeled_ds = UnlabeledDataset(data_path, batch_size=1)"
   ],
   "id": "a8cd39066db36545",
   "outputs": [],
   "execution_count": 12
  },
  {
   "metadata": {
    "ExecuteTime": {
     "end_time": "2024-10-17T11:26:37.057765Z",
     "start_time": "2024-10-17T11:25:06.156408Z"
    }
   },
   "cell_type": "code",
   "source": [
    "def filter_intensity(stacks, threshold=0.3):\n",
    "    removed = 0\n",
    "    \n",
    "    for i, stack in enumerate(stacks):\n",
    "        stack = stack * 255\n",
    "        stack = stack.astype(np.uint8)\n",
    "        if np.mean(stack.flatten()) < threshold:\n",
    "            removed += 1\n",
    "            \n",
    "            img_path = unlabeled_ds.img_names[i]\n",
    "            os.remove(img_path)\n",
    "            \n",
    "    print(f'Removed {removed} images')\n",
    "    \n",
    "filter_intensity(unlabeled_ds, threshold=0.4)"
   ],
   "id": "5df79ea0a4bd4d68",
   "outputs": [
    {
     "name": "stdout",
     "output_type": "stream",
     "text": [
      "Removed 223 images\n"
     ]
    }
   ],
   "execution_count": 14
  },
  {
   "metadata": {},
   "cell_type": "markdown",
   "source": "Nuclei",
   "id": "90b9da74b04f3481"
  },
  {
   "metadata": {
    "ExecuteTime": {
     "end_time": "2024-08-09T14:19:06.479554Z",
     "start_time": "2024-08-09T13:44:00.276970Z"
    }
   },
   "cell_type": "code",
   "source": [
    "# specimens = [item for sublist in v.specimens.values() for item in sublist]\n",
    "# specimens = np.random.choice(specimens, 10)\n",
    "specimens = ['0808_E5', '0503_E1', '0308_E3', '0806_E6', '0518_E3', '0403_E2']\n",
    "\n",
    "ht_ds = HtDataset() \n",
    "\n",
    "for specimen in specimens:    \n",
    "    print(f'{c.OKBLUE}Processing specimen:{c.ENDC} {specimen}')\n",
    "\n",
    "    try:\n",
    "        # Check if the specimen has the required files\n",
    "        p_img_raw_mem, _ = ht_ds.read_specimen(specimen, level='Membrane', type='RawImages')\n",
    "        p_img_raw, _ = ht_ds.read_specimen(specimen, level='Nuclei', type='RawImages')\n",
    "        p_img_seg, _ = ht_ds.read_specimen(specimen, level='Nuclei', type='Segmentation')\n",
    "        features = ht_ds.get_features(specimen, type='Nuclei')\n",
    "\n",
    "        # Read the images\n",
    "        img_raw_mem = imaging.read_image(p_img_raw_mem, verbose=1).astype(np.uint8)\n",
    "        img_raw = imaging.read_image(p_img_raw, verbose=1).astype(np.uint8)\n",
    "        img_seg = imaging.read_image(p_img_seg, verbose=1)\n",
    "\n",
    "        # Get the features\n",
    "        labels, centroids = features['original_labels'], features['centroids']\n",
    "\n",
    "        count = 0\n",
    "        for i, label in enumerate(labels):\n",
    "            # Get the centroids of the cell\n",
    "            cen = centroids[i].replace('[', '').replace(']', '').split(',')\n",
    "            x, y, z = int(cen[0]), int(cen[1]), int(cen[2])\n",
    "        \n",
    "            # Crop the cell region + Erode the mask\n",
    "            mask = img_seg[x-25: x+25, y-25: y+25, z-10: z+10]\n",
    "            mask = np.where(mask == label, 255, 0).astype(np.uint8)\n",
    "            mask = np.swapaxes(np.swapaxes([\n",
    "                cv2.erode(mask[..., z], np.ones((1, 1)), iterations=1) \n",
    "                for z in range(mask.shape[2])\n",
    "            ], 0, 1), 1, 2)\n",
    "            \n",
    "            # Remove empty z-slices\n",
    "            non_empty_slices = [i for i in range(mask.shape[2]) if np.any(mask[..., i])]\n",
    "            mask = mask[..., non_empty_slices]\n",
    "        \n",
    "            # Crop the cell region of the raw image\n",
    "            img_cell = img_raw[x-25: x+25, y-25: y+25, z-10: z+10]\n",
    "            img_cell = img_cell[..., non_empty_slices]\n",
    "\n",
    "            img_mem = img_raw_mem[x-25: x+25, y-25: y+25, z-10: z+10]\n",
    "            img_mem = img_mem[..., non_empty_slices]\n",
    "        \n",
    "            # Erase the background\n",
    "            img_cell_no_bg = np.where(mask == 0, 0, img_cell)\n",
    "            \n",
    "            # IQR Filter over the intensities of the cell\n",
    "            img_cell_no_bg, intensities, thresh = imaging.iqr_filter(img_cell_no_bg, get_params=True, verbose=0)\n",
    "\n",
    "            img_cell = img_cell[..., intensities > thresh]\n",
    "            img_mem = img_mem[..., intensities > thresh]\n",
    "\n",
    "            # Merge the images as an 3D RGB image (img_cell and img_mem)\n",
    "            img_all = np.stack([img_cell, img_mem, np.zeros_like(img_cell)], axis=-1)\n",
    "        \n",
    "            # Save the images\n",
    "            img_cell_no_bg = img_cell_no_bg.astype(np.uint8)\n",
    "            if img_cell_no_bg.shape[2] > 0:\n",
    "                count += 1\n",
    "                imaging.save_prediction(\n",
    "                    img_cell_no_bg,\n",
    "                    v.data_path + 'CellDivision/images_unlabeled/' + f'{specimen}_{int(label)}.tif',\n",
    "                    verbose=0\n",
    "                )\n",
    "                imaging.save_prediction(\n",
    "                    img_all,\n",
    "                    v.data_path + 'CellDivision/images_unlabeled_bg/' + f'{specimen}_{int(label)}.tif',\n",
    "                    verbose=0\n",
    "                )\n",
    "        count = 0\n",
    "        print(f'\\t{c.BOLD}Saved {count} cells{c.ENDC}')\n",
    "\n",
    "    except Exception as e:\n",
    "        print(f'{c.FAIL}Error:{c.ENDC} {e}')\n",
    "        continue\n"
   ],
   "id": "e6d82cb6d1ae7d8b",
   "outputs": [
    {
     "name": "stdout",
     "output_type": "stream",
     "text": [
      "\u001B[94mProcessing specimen:\u001B[0m 0806_E5\n",
      "\u001B[91mError:\u001B[0m No specimen found: 0806_E5\n",
      "\u001B[94mProcessing specimen:\u001B[0m 0504_E1\n",
      "\u001B[94mReading NIfTI\u001B[0m: /run/user/1003/gvfs/smb-share:server=tierra.cnic.es,share=sc/LAB_MT/LAB/Ignacio/Gr1/RawImages/Nuclei/20190504_E1_DAPI_decon_0.5.nii.gz\n",
      "\u001B[94mReading TIFF\u001B[0m: /run/user/1003/gvfs/smb-share:server=tierra.cnic.es,share=sc/LAB_MT/LAB/Ignacio/Gr1/Segmentation/Nuclei/20190504_E1_Fernando.tif\n",
      "\t\u001B[1mSaved 0 cells\u001B[0m\n",
      "\u001B[94mProcessing specimen:\u001B[0m 0208_E2\n",
      "\u001B[91mError:\u001B[0m No specimen found: 0208_E2\n",
      "\u001B[94mProcessing specimen:\u001B[0m 0521_E4\n",
      "\u001B[91mError:\u001B[0m No specimen found: 0521_E4\n",
      "\u001B[94mProcessing specimen:\u001B[0m 0521_E2\n",
      "\u001B[94mReading NIfTI\u001B[0m: /run/user/1003/gvfs/smb-share:server=tierra.cnic.es,share=sc/LAB_MT/LAB/Ignacio/Gr1/RawImages/Nuclei/20190521_E2_DAPI_decon_0.5.nii.gz\n",
      "\u001B[94mReading TIFF\u001B[0m: /run/user/1003/gvfs/smb-share:server=tierra.cnic.es,share=sc/LAB_MT/LAB/Ignacio/Gr1/Segmentation/Nuclei/20190521_E2_Fernando.tif\n",
      "\t\u001B[1mSaved 0 cells\u001B[0m\n",
      "\u001B[94mProcessing specimen:\u001B[0m 0516_E2\n",
      "\u001B[91mError:\u001B[0m No specimen found: 0516_E2\n",
      "\u001B[94mProcessing specimen:\u001B[0m 0503_E1\n",
      "\u001B[91mError:\u001B[0m No specimen found: 0503_E1\n",
      "\u001B[94mProcessing specimen:\u001B[0m 0209_E1\n",
      "\u001B[91mError:\u001B[0m No specimen found: 0209_E1\n",
      "\u001B[94mProcessing specimen:\u001B[0m 0520_E2\n",
      "\u001B[91mError:\u001B[0m No specimen found: 0520_E2\n",
      "\u001B[94mProcessing specimen:\u001B[0m 0208_E3\n",
      "\u001B[91mError:\u001B[0m No specimen found: 0208_E3\n",
      "\u001B[94mProcessing specimen:\u001B[0m 0209_E2\n",
      "\u001B[91mError:\u001B[0m No specimen found: 0209_E2\n",
      "\u001B[94mProcessing specimen:\u001B[0m 0308_E3\n",
      "\u001B[91mError:\u001B[0m No specimen found: 0308_E3\n",
      "\u001B[94mProcessing specimen:\u001B[0m 0503_E2\n",
      "\u001B[91mError:\u001B[0m No specimen found: 0503_E2\n",
      "\u001B[94mProcessing specimen:\u001B[0m 0516_E3\n",
      "\u001B[91mError:\u001B[0m No specimen found: 0516_E3\n",
      "\u001B[94mProcessing specimen:\u001B[0m 0521_E1\n",
      "\u001B[91mError:\u001B[0m No specimen found: 0521_E1\n",
      "\u001B[94mProcessing specimen:\u001B[0m 0523_E1\n",
      "\u001B[91mError:\u001B[0m No specimen found: 0523_E1\n",
      "\u001B[94mProcessing specimen:\u001B[0m 0806_E3\n",
      "\u001B[91mError:\u001B[0m No specimen found: 0806_E3\n",
      "\u001B[94mProcessing specimen:\u001B[0m 0806_E4\n",
      "\u001B[91mError:\u001B[0m No specimen found: 0806_E4\n",
      "\u001B[94mProcessing specimen:\u001B[0m 0806_E6\n",
      "\u001B[94mReading NIfTI\u001B[0m: /run/user/1003/gvfs/smb-share:server=tierra.cnic.es,share=sc/LAB_MT/LAB/Ignacio/Gr4/RawImages/Nuclei/20190806_E6_DAPI_decon_0.5.nii.gz\n",
      "\u001B[94mReading TIFF\u001B[0m: /run/user/1003/gvfs/smb-share:server=tierra.cnic.es,share=sc/LAB_MT/LAB/Ignacio/Gr4/Segmentation/Nuclei/20190806_E6_Fernando.tif\n",
      "\t\u001B[1mSaved 0 cells\u001B[0m\n",
      "\u001B[94mProcessing specimen:\u001B[0m 0401_E3\n",
      "\u001B[91mError:\u001B[0m No specimen found: 0401_E3\n",
      "\u001B[94mProcessing specimen:\u001B[0m 0123_E1\n",
      "\u001B[91mError:\u001B[0m No specimen found: 0123_E1\n",
      "\u001B[94mProcessing specimen:\u001B[0m 0122_E1\n",
      "\u001B[91mError:\u001B[0m No specimen found: 0122_E1\n",
      "\u001B[94mProcessing specimen:\u001B[0m 0518_E3\n",
      "\u001B[94mReading NIfTI\u001B[0m: /run/user/1003/gvfs/smb-share:server=tierra.cnic.es,share=sc/LAB_MT/LAB/Ignacio/Gr5/RawImages/Nuclei/20190518_E3_DAPI_decon_0.5.nii.gz\n",
      "\u001B[94mReading TIFF\u001B[0m: /run/user/1003/gvfs/smb-share:server=tierra.cnic.es,share=sc/LAB_MT/LAB/Ignacio/Gr5/Segmentation/Nuclei/20190518_E3_Fernando.tif\n",
      "\t\u001B[1mSaved 0 cells\u001B[0m\n",
      "\u001B[94mProcessing specimen:\u001B[0m 0521_E3\n",
      "\u001B[94mReading NIfTI\u001B[0m: /run/user/1003/gvfs/smb-share:server=tierra.cnic.es,share=sc/LAB_MT/LAB/Ignacio/Gr5/RawImages/Nuclei/20190521_E3_DAPI_decon_0.5.nii.gz\n",
      "\u001B[94mReading TIFF\u001B[0m: /run/user/1003/gvfs/smb-share:server=tierra.cnic.es,share=sc/LAB_MT/LAB/Ignacio/Gr5/Segmentation/Nuclei/20190521_E3_Fernando.tif\n",
      "\t\u001B[1mSaved 0 cells\u001B[0m\n",
      "\u001B[94mProcessing specimen:\u001B[0m 0308_E2\n",
      "\u001B[91mError:\u001B[0m No specimen found: 0308_E2\n",
      "\u001B[94mProcessing specimen:\u001B[0m 0401_E1\n",
      "\u001B[91mError:\u001B[0m No specimen found: 0401_E1\n",
      "\u001B[94mProcessing specimen:\u001B[0m 0401_E2\n",
      "\u001B[91mError:\u001B[0m No specimen found: 0401_E2\n",
      "\u001B[94mProcessing specimen:\u001B[0m 0502_E1\n",
      "\u001B[91mError:\u001B[0m No specimen found: 0502_E1\n",
      "\u001B[94mProcessing specimen:\u001B[0m 0517_E2\n",
      "\u001B[91mError:\u001B[0m No specimen found: 0517_E2\n",
      "\u001B[94mProcessing specimen:\u001B[0m 0806_E1\n",
      "\u001B[91mError:\u001B[0m No specimen found: 0806_E1\n",
      "\u001B[94mProcessing specimen:\u001B[0m 0806_E2\n",
      "\u001B[91mError:\u001B[0m No specimen found: 0806_E2\n",
      "\u001B[94mProcessing specimen:\u001B[0m 0308_E4\n",
      "\u001B[91mError:\u001B[0m No specimen found: 0308_E4\n",
      "\u001B[94mProcessing specimen:\u001B[0m 0403_E2\n",
      "\u001B[94mReading NIfTI\u001B[0m: /run/user/1003/gvfs/smb-share:server=tierra.cnic.es,share=sc/LAB_MT/LAB/Ignacio/Gr7/RawImages/Nuclei/20190403_E2_DAPI_decon_0.5.nii.gz\n",
      "\u001B[94mReading TIFF\u001B[0m: /run/user/1003/gvfs/smb-share:server=tierra.cnic.es,share=sc/LAB_MT/LAB/Ignacio/Gr7/Segmentation/Nuclei/20190403_E2_Fernando.tif\n",
      "\t\u001B[1mSaved 0 cells\u001B[0m\n",
      "\u001B[94mProcessing specimen:\u001B[0m 0404_E2\n",
      "\u001B[91mError:\u001B[0m No specimen found: 0404_E2\n",
      "\u001B[94mProcessing specimen:\u001B[0m 0516_E5\n",
      "\u001B[94mReading NIfTI\u001B[0m: /run/user/1003/gvfs/smb-share:server=tierra.cnic.es,share=sc/LAB_MT/LAB/Ignacio/Gr7/RawImages/Nuclei/20190516_E5_DAPI_decon_0.5.nii.gz\n",
      "\u001B[94mReading TIFF\u001B[0m: /run/user/1003/gvfs/smb-share:server=tierra.cnic.es,share=sc/LAB_MT/LAB/Ignacio/Gr7/Segmentation/Nuclei/20190516_E5_Fernando.tif\n",
      "\u001B[91mError:\u001B[0m axis2: axis 1 is out of bounds for array of dimension 1\n",
      "\u001B[94mProcessing specimen:\u001B[0m 0517_E4\n",
      "\u001B[91mError:\u001B[0m No specimen found: 0517_E4\n",
      "\u001B[94mProcessing specimen:\u001B[0m 0402_E1\n",
      "\u001B[94mReading NIfTI\u001B[0m: /run/user/1003/gvfs/smb-share:server=tierra.cnic.es,share=sc/LAB_MT/LAB/Ignacio/Gr8/RawImages/Nuclei/20190402_E1_DAPI_decon_0.5.nii.gz\n",
      "\u001B[94mReading TIFF\u001B[0m: /run/user/1003/gvfs/smb-share:server=tierra.cnic.es,share=sc/LAB_MT/LAB/Ignacio/Gr8/Segmentation/Nuclei/20190402_E1_Fernando.tif\n",
      "\u001B[91mError:\u001B[0m OpenCV(4.10.0) /home/conda/feedstock_root/build_artifacts/libopencv_1718892925693/work/modules/imgproc/src/morph.dispatch.cpp:1010: error: (-215:Assertion failed) !src.empty() in function 'erode'\n",
      "\n",
      "\u001B[94mProcessing specimen:\u001B[0m 0402_E2\n",
      "\u001B[94mReading NIfTI\u001B[0m: /run/user/1003/gvfs/smb-share:server=tierra.cnic.es,share=sc/LAB_MT/LAB/Ignacio/Gr8/RawImages/Nuclei/20190402_E2_DAPI_decon_0.5.nii.gz\n",
      "\u001B[94mReading TIFF\u001B[0m: /run/user/1003/gvfs/smb-share:server=tierra.cnic.es,share=sc/LAB_MT/LAB/Ignacio/Gr8/Segmentation/Nuclei/20190402_E2_Fernando.tif\n",
      "\t\u001B[1mSaved 0 cells\u001B[0m\n",
      "\u001B[94mProcessing specimen:\u001B[0m 0516_E4\n",
      "\u001B[91mError:\u001B[0m No specimen found: 0516_E4\n",
      "\u001B[94mProcessing specimen:\u001B[0m 0517_E1\n",
      "\u001B[91mError:\u001B[0m No specimen found: 0517_E1\n",
      "\u001B[94mProcessing specimen:\u001B[0m 0518_E2\n",
      "\u001B[91mError:\u001B[0m No specimen found: 0518_E2\n",
      "\u001B[94mProcessing specimen:\u001B[0m 0119_E1\n",
      "\u001B[94mReading NIfTI\u001B[0m: /run/user/1003/gvfs/smb-share:server=tierra.cnic.es,share=sc/LAB_MT/LAB/Ignacio/Gr9/RawImages/Nuclei/20190119_E1_DAPI_decon_0.5.nii.gz\n",
      "\u001B[94mReading TIFF\u001B[0m: /run/user/1003/gvfs/smb-share:server=tierra.cnic.es,share=sc/LAB_MT/LAB/Ignacio/Gr4/Segmentation/Nuclei/20190119_E1_Fernando.tif\n",
      "\t\u001B[1mSaved 0 cells\u001B[0m\n",
      "\u001B[94mProcessing specimen:\u001B[0m 0404_E1\n",
      "\u001B[91mError:\u001B[0m No specimen found: 0404_E1\n",
      "\u001B[94mProcessing specimen:\u001B[0m 0515_E2\n",
      "\u001B[94mReading NIfTI\u001B[0m: /run/user/1003/gvfs/smb-share:server=tierra.cnic.es,share=sc/LAB_MT/LAB/Ignacio/Gr9/RawImages/Nuclei/20190515_E2_DAPI_decon_0.5.nii.gz\n",
      "\u001B[94mReading TIFF\u001B[0m: /run/user/1003/gvfs/smb-share:server=tierra.cnic.es,share=sc/LAB_MT/LAB/Ignacio/Gr9/Segmentation/Nuclei/20190515_E2_Fernando.tif\n",
      "\t\u001B[1mSaved 0 cells\u001B[0m\n",
      "\u001B[94mProcessing specimen:\u001B[0m 0516_E1\n",
      "\u001B[94mReading NIfTI\u001B[0m: /run/user/1003/gvfs/smb-share:server=tierra.cnic.es,share=sc/LAB_MT/LAB/Ignacio/Gr9/RawImages/Nuclei/20190516_E1_DAPI_decon_0.5.nii.gz\n",
      "\u001B[94mReading TIFF\u001B[0m: /run/user/1003/gvfs/smb-share:server=tierra.cnic.es,share=sc/LAB_MT/LAB/Ignacio/Gr9/Segmentation/Nuclei/20190516_E1_Fernando.tif\n",
      "\u001B[91mError:\u001B[0m OpenCV(4.10.0) /home/conda/feedstock_root/build_artifacts/libopencv_1718892925693/work/modules/imgproc/src/morph.dispatch.cpp:1010: error: (-215:Assertion failed) !src.empty() in function 'erode'\n",
      "\n",
      "\u001B[94mProcessing specimen:\u001B[0m 0518_E1\n",
      "\u001B[91mError:\u001B[0m No specimen found: 0518_E1\n",
      "\u001B[94mProcessing specimen:\u001B[0m 0520_E1\n",
      "\u001B[91mError:\u001B[0m No specimen found: 0520_E1\n",
      "\u001B[94mProcessing specimen:\u001B[0m 0520_E5\n",
      "\u001B[94mReading NIfTI\u001B[0m: /run/user/1003/gvfs/smb-share:server=tierra.cnic.es,share=sc/LAB_MT/LAB/Ignacio/Gr9/RawImages/Nuclei/20190520_E5_DAPI_decon_0.5.nii.gz\n",
      "\u001B[94mReading TIFF\u001B[0m: /run/user/1003/gvfs/smb-share:server=tierra.cnic.es,share=sc/LAB_MT/LAB/Ignacio/Gr9/Segmentation/Nuclei/20190520_E5_Fernando.tif\n",
      "\u001B[91mError:\u001B[0m OpenCV(4.10.0) /home/conda/feedstock_root/build_artifacts/libopencv_1718892925693/work/modules/imgproc/src/morph.dispatch.cpp:1010: error: (-215:Assertion failed) !src.empty() in function 'erode'\n",
      "\n",
      "\u001B[94mProcessing specimen:\u001B[0m 0515_E1\n",
      "\u001B[94mReading NIfTI\u001B[0m: /run/user/1003/gvfs/smb-share:server=tierra.cnic.es,share=sc/LAB_MT/LAB/Ignacio/Gr10/RawImages/Nuclei/20190515_E1_DAPI_decon_0.5.nii.gz\n",
      "\u001B[94mReading TIFF\u001B[0m: /run/user/1003/gvfs/smb-share:server=tierra.cnic.es,share=sc/LAB_MT/LAB/Ignacio/Gr10/Segmentation/Nuclei/20190515_E1_Fernando.tif\n",
      "\u001B[91mError:\u001B[0m OpenCV(4.10.0) /home/conda/feedstock_root/build_artifacts/libopencv_1718892925693/work/modules/imgproc/src/morph.dispatch.cpp:1010: error: (-215:Assertion failed) !src.empty() in function 'erode'\n",
      "\n",
      "\u001B[94mProcessing specimen:\u001B[0m 0520_E4\n",
      "\u001B[91mError:\u001B[0m No specimen found: 0520_E4\n",
      "\u001B[94mProcessing specimen:\u001B[0m 0515_E3\n",
      "\u001B[91mError:\u001B[0m No specimen found: 0515_E3\n"
     ]
    }
   ],
   "execution_count": 2
  },
  {
   "metadata": {},
   "cell_type": "markdown",
   "source": "Histogram of intensities",
   "id": "5db5a5658a67efb7"
  },
  {
   "metadata": {
    "ExecuteTime": {
     "end_time": "2024-08-09T13:31:16.594907Z",
     "start_time": "2024-08-09T13:31:16.589361Z"
    }
   },
   "cell_type": "code",
   "source": [
    "def plot_global_intensity_hist(stacks, bins=100):\n",
    "    all_intensities = []\n",
    "    for i, stack in enumerate(stacks):\n",
    "        stack = stack * 255\n",
    "        stack = stack.astype(np.uint8)\n",
    "        all_intensities.append(np.mean(stack.flatten()))\n",
    "    \n",
    "    plt.figure(figsize=(10, 5))\n",
    "    sns.histplot(\n",
    "        all_intensities, kde=True, bins=bins, \n",
    "        color='blue', alpha=0.7\n",
    "    )\n",
    "    plt.title('Histogram of intensities')\n",
    "    plt.xlabel('Intensity')\n",
    "    plt.ylabel('Frequency')\n",
    "    plt.show()"
   ],
   "id": "1755e62b91eafc18",
   "outputs": [],
   "execution_count": 12
  },
  {
   "metadata": {
    "ExecuteTime": {
     "end_time": "2024-08-09T13:32:35.494255Z",
     "start_time": "2024-08-09T13:31:17.083976Z"
    }
   },
   "cell_type": "code",
   "source": [
    "from util.data.dataset_unlabeled import UnlabeledDataset\n",
    "\n",
    "\n",
    "data_path = v.data_path + 'CellDivision/images_unlabeled/'\n",
    "unlabeled_ds = UnlabeledDataset(data_path, batch_size=1)\n",
    "\n",
    "plot_global_intensity_hist(unlabeled_ds)"
   ],
   "id": "d8c49bebbc9476a3",
   "outputs": [
    {
     "data": {
      "text/plain": [
       "<Figure size 1000x500 with 1 Axes>"
      ],
      "image/png": "[encoded data removed]"
     },
     "metadata": {},
     "output_type": "display_data"
    }
   ],
   "execution_count": 13
  },
  {
   "metadata": {},
   "cell_type": "markdown",
   "source": "Filter the images based on the intensity",
   "id": "3fad0d1ce37b8e47"
  },
  {
   "metadata": {
    "ExecuteTime": {
     "end_time": "2024-08-09T14:19:08.088659Z",
     "start_time": "2024-08-09T14:19:06.483608Z"
    }
   },
   "cell_type": "code",
   "source": [
    "data_path = v.data_path + 'CellDivision/images_unlabeled/'\n",
    "unlabeled_ds = UnlabeledDataset(data_path, batch_size=1)"
   ],
   "id": "6804222a5f4645d",
   "outputs": [],
   "execution_count": 3
  },
  {
   "metadata": {
    "ExecuteTime": {
     "end_time": "2024-08-09T14:29:20.143614Z",
     "start_time": "2024-08-09T14:19:08.090710Z"
    }
   },
   "cell_type": "code",
   "source": [
    "def filter_intensity(stacks, threshold=0.3):\n",
    "    removed = 0\n",
    "    \n",
    "    for i, (stack, path) in enumerate(stacks):\n",
    "        stack = stack * 255\n",
    "        stack = stack.astype(np.uint8)\n",
    "        if np.mean(stack.flatten()) < threshold:\n",
    "            os.remove(path[0])\n",
    "            removed += 1\n",
    "            \n",
    "    print(f'Removed {removed} images')\n",
    "    \n",
    "filter_intensity(unlabeled_ds)"
   ],
   "id": "580702b91a6cebf3",
   "outputs": [
    {
     "name": "stdout",
     "output_type": "stream",
     "text": [
      "Removed 1683 images\n"
     ]
    }
   ],
   "execution_count": 4
  },
  {
   "metadata": {},
   "cell_type": "code",
   "outputs": [],
   "execution_count": null,
   "source": "",
   "id": "fe8a81ac2bf4d3cb"
  }
 ],
 "metadata": {
  "kernelspec": {
   "display_name": "Python 3",
   "language": "python",
   "name": "python3"
  },
  "language_info": {
   "codemirror_mode": {
    "name": "ipython",
    "version": 2
   },
   "file_extension": ".py",
   "mimetype": "text/x-python",
   "name": "python",
   "nbconvert_exporter": "python",
   "pygments_lexer": "ipython2",
   "version": "2.7.6"
  }
 },
 "nbformat": 4,
 "nbformat_minor": 5
}
