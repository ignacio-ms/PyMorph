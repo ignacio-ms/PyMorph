{
 "cells": [
  {
   "metadata": {},
   "cell_type": "markdown",
   "source": [
    "## 3D Prediction using StarDist\n",
    "\n",
    "Repo: https://github.com/stardist/stardist?tab=readme-ov-file"
   ],
   "id": "9508cde21b667945"
  },
  {
   "metadata": {},
   "cell_type": "markdown",
   "source": "## Libraries",
   "id": "ea68c872c88b424c"
  },
  {
   "metadata": {
    "ExecuteTime": {
     "end_time": "2024-07-18T13:50:20.127878Z",
     "start_time": "2024-07-18T13:50:17.208589Z"
    }
   },
   "cell_type": "code",
   "source": [
    "import re\n",
    "import os\n",
    "import sys\n",
    "import numpy as np\n",
    "import matplotlib.pyplot as plt\n",
    "import matplotlib\n",
    "os.environ['TF_CPP_MIN_LOG_LEVEL'] = '2'\n",
    "matplotlib.rcParams['image.interpolation'] = 'none'\n",
    "%matplotlib inline\n",
    "\n",
    "from glob import glob\n",
    "import nibabel as nib\n",
    "from csbdeep.utils import Path, normalize\n",
    "from csbdeep.io import save_tiff_imagej_compatible\n",
    "\n",
    "from stardist import random_label_cmap\n",
    "from stardist.plot import render_label\n",
    "from stardist.models import StarDist3D\n",
    "\n",
    "import tensorflow as tf\n",
    "\n",
    "# Custom packages\n",
    "from auxiliary import values as v\n",
    "from auxiliary.gpu import (\n",
    "    increase_gpu_memory, \n",
    "    set_gpu_allocator, \n",
    "    clear_session,\n",
    "    set_mixed_precision\n",
    ")\n",
    "from auxiliary import imaging \n"
   ],
   "id": "5c5e8c0d80428b8b",
   "outputs": [],
   "execution_count": 1
  },
  {
   "metadata": {},
   "cell_type": "markdown",
   "source": "### Data",
   "id": "705339edbf072fe9"
  },
  {
   "metadata": {
    "ExecuteTime": {
     "end_time": "2024-07-18T13:50:26.095138Z",
     "start_time": "2024-07-18T13:50:20.129670Z"
    }
   },
   "cell_type": "code",
   "source": [
    "img_name = '20190806_E6_DAPI_decon_0'\n",
    "img_path = v.data_path + f'/Gr4/RawImages/Nuclei/{img_name}.5.nii.gz'\n",
    "test_img = imaging.read_nii(img_path)"
   ],
   "id": "aa43ca673883b51b",
   "outputs": [],
   "execution_count": 2
  },
  {
   "metadata": {
    "ExecuteTime": {
     "end_time": "2024-07-18T13:50:42.153200Z",
     "start_time": "2024-07-18T13:50:26.096554Z"
    }
   },
   "cell_type": "code",
   "source": [
    "import cv2 \n",
    "\n",
    "test_img = test_img.astype(np.uint8).reshape(\n",
    "    test_img.shape[0], \n",
    "    test_img.shape[1], \n",
    "    test_img.shape[2]\n",
    ")\n",
    "\n",
    "# aux = np.zeros((512, 512, test_img.shape[2]))\n",
    "# for i in range(test_img.shape[2]):\n",
    "#     aux[..., i] = cv2.resize(test_img[..., i], (512, 512))\n",
    "test_img_norm = normalize(test_img, 1, 99.8, axis=(0, 1, 2))"
   ],
   "id": "bdc2982b77a5a44f",
   "outputs": [],
   "execution_count": 3
  },
  {
   "metadata": {
    "ExecuteTime": {
     "end_time": "2024-07-18T13:50:42.161288Z",
     "start_time": "2024-07-18T13:50:42.154892Z"
    }
   },
   "cell_type": "code",
   "source": [
    "print(1024*1024*548*4 / 10e8, 1024*1024*548*4*32 / 10e8)\n",
    "print(512*512*548*4 / 10e8, 512*512*548*4*32 / 10e8)\n",
    "print(256*256*548*4 / 10e8, 256*256*548*4*32 / 10e8)\n",
    "print(128*128*548*4 / 10e8, 128*128*548*4*32 / 10e8)"
   ],
   "id": "1d4e97be5f737c52",
   "outputs": [
    {
     "name": "stdout",
     "output_type": "stream",
     "text": [
      "2.298478592 73.551314944\n",
      "0.574619648 18.387828736\n",
      "0.143654912 4.596957184\n",
      "0.035913728 1.149239296\n"
     ]
    }
   ],
   "execution_count": 4
  },
  {
   "metadata": {
    "ExecuteTime": {
     "end_time": "2024-07-18T13:50:54.109383Z",
     "start_time": "2024-07-18T13:50:42.163569Z"
    }
   },
   "cell_type": "code",
   "source": [
    "def crop_sliding_windows(img, ws=128):\n",
    "    \"\"\"\n",
    "    Divide the image into smaller windows of the same size \n",
    "    :param img: \n",
    "    :param ws: \n",
    "    :return: \n",
    "    \"\"\"\n",
    "    n_slices = img.shape[0] // ws\n",
    "    sliding_img = np.zeros(shape=(\n",
    "        ws, ws, img.shape[2],\n",
    "        n_slices * n_slices\n",
    "    ))\n",
    "    \n",
    "    for i in range(n_slices):\n",
    "        for j in range(n_slices):\n",
    "            sliding_img[..., i*j] = img[i * ws: i * ws + ws, j * ws: j * ws + ws, :]\n",
    "            \n",
    "    return sliding_img.astype(np.uint8)\n",
    "    \n",
    "sliding_img = crop_sliding_windows(test_img, 256)"
   ],
   "id": "3beb0ea5a8eb1dc4",
   "outputs": [],
   "execution_count": 5
  },
  {
   "metadata": {
    "ExecuteTime": {
     "end_time": "2024-07-18T13:51:13.204073Z",
     "start_time": "2024-07-18T13:51:13.198585Z"
    }
   },
   "cell_type": "code",
   "source": "print(sliding_img[..., 270, 0].shape)",
   "id": "28527b3b9301b0d2",
   "outputs": [
    {
     "name": "stdout",
     "output_type": "stream",
     "text": [
      "(256, 256)\n"
     ]
    }
   ],
   "execution_count": 7
  },
  {
   "metadata": {},
   "cell_type": "code",
   "outputs": [],
   "execution_count": null,
   "source": [
    "cv2.imshow('img', test_img[..., 270])\n",
    "cv2.waitKey(0)\n",
    "cv2.destroyAllWindows()"
   ],
   "id": "e7e28eed988856c1"
  },
  {
   "metadata": {
    "ExecuteTime": {
     "end_time": "2024-07-18T14:10:11.788668Z",
     "start_time": "2024-07-18T14:09:13.820747Z"
    }
   },
   "cell_type": "code",
   "source": [
    "for i in range(16):\n",
    "    cv2.imshow('img', sliding_img[..., 270, i])\n",
    "    cv2.waitKey(0)\n",
    "    cv2.destroyAllWindows()"
   ],
   "id": "d77e2a63e828458a",
   "outputs": [],
   "execution_count": 13
  },
  {
   "metadata": {
    "ExecuteTime": {
     "end_time": "2024-07-18T08:01:19.039416Z",
     "start_time": "2024-07-18T08:01:19.035877Z"
    }
   },
   "cell_type": "code",
   "source": "print(test_img_norm.shape)",
   "id": "a4b462593958b694",
   "outputs": [
    {
     "name": "stdout",
     "output_type": "stream",
     "text": [
      "(1024, 1024, 548)\n"
     ]
    }
   ],
   "execution_count": 10
  },
  {
   "metadata": {},
   "cell_type": "markdown",
   "source": "### Model",
   "id": "d36fc23b785acff5"
  },
  {
   "metadata": {
    "ExecuteTime": {
     "end_time": "2024-07-18T07:54:56.780903Z",
     "start_time": "2024-07-18T07:54:56.601880Z"
    }
   },
   "cell_type": "code",
   "source": [
    "# set_mixed_precision()\n",
    "increase_gpu_memory()\n",
    "set_gpu_allocator()"
   ],
   "id": "e13e8924043158ea",
   "outputs": [],
   "execution_count": 5
  },
  {
   "metadata": {
    "ExecuteTime": {
     "end_time": "2024-07-18T07:55:09.132193Z",
     "start_time": "2024-07-18T07:55:08.362736Z"
    }
   },
   "cell_type": "code",
   "source": [
    "from stardist.models import StarDist3D\n",
    "\n",
    "model_idx = 0\n",
    "model_names = [\n",
    "    'n1_stardist_96_(1.6, 1, 1)_(48, 64, 64)_(1, 1, 1)',\n",
    "    'n2_stardist_96_(1.6, 1, 1)_(48, 64, 64)_(1, 1, 1)',\n",
    "    'n3_stardist_96_(1.6, 1, 1)_(48, 64, 64)_(1, 1, 1)'\n",
    "]\n",
    "\n",
    "model_path = '../models/stardist_models/' + model_names[model_idx] + '/'\n",
    "model = StarDist3D(None, name=model_names[model_idx], basedir='models')"
   ],
   "id": "598cfc259fa20d94",
   "outputs": [
    {
     "name": "stdout",
     "output_type": "stream",
     "text": [
      "Loading network weights from 'weights_best.h5'.\n",
      "Loading thresholds from 'thresholds.json'.\n",
      "Using default values: prob_thresh=0.587371, nms_thresh=0.3.\n"
     ]
    }
   ],
   "execution_count": 6
  },
  {
   "metadata": {
    "ExecuteTime": {
     "end_time": "2024-07-18T08:03:36.249900Z",
     "start_time": "2024-07-18T08:03:15.718451Z"
    }
   },
   "cell_type": "code",
   "source": [
    "### Predictions and measure metrics\n",
    "import tensorflow as tf\n",
    "\n",
    "\n",
    "clear_session()\n",
    "\n",
    "tf.debugging.set_log_device_placement(True)\n",
    "strategy = tf.distribute.MirroredStrategy() \n",
    "\n",
    "with strategy.scope():\n",
    "    try:\n",
    "        model.predict_instances(test_img_norm)\n",
    "    except tf.errors.ResourceExhaustedError as e:\n",
    "        print(f\"ResourceExhaustedError during inference: {e}\")\n"
   ],
   "id": "2612c0bf6cf9888f",
   "outputs": [
    {
     "name": "stdout",
     "output_type": "stream",
     "text": [
      "INFO:tensorflow:Using MirroredStrategy with devices ('/job:localhost/replica:0/task:0/device:GPU:0', '/job:localhost/replica:0/task:0/device:GPU:1')\n",
      "ResourceExhaustedError during inference: Graph execution error:\n",
      "\n",
      "Detected at node 'model/down_level_0_no_0/Conv3D' defined at (most recent call last):\n",
      "    File \"/home/imarcoss/mambaforge/envs/py310ml/lib/python3.10/threading.py\", line 973, in _bootstrap\n",
      "      self._bootstrap_inner()\n",
      "    File \"/home/imarcoss/mambaforge/envs/py310ml/lib/python3.10/threading.py\", line 1016, in _bootstrap_inner\n",
      "      self.run()\n",
      "    File \"/home/imarcoss/mambaforge/envs/py310ml/lib/python3.10/site-packages/keras/engine/training.py\", line 2143, in run_step\n",
      "      outputs = model.predict_step(data)\n",
      "    File \"/home/imarcoss/mambaforge/envs/py310ml/lib/python3.10/site-packages/keras/engine/training.py\", line 2111, in predict_step\n",
      "      return self(x, training=False)\n",
      "    File \"/home/imarcoss/mambaforge/envs/py310ml/lib/python3.10/site-packages/keras/utils/traceback_utils.py\", line 65, in error_handler\n",
      "      return fn(*args, **kwargs)\n",
      "    File \"/home/imarcoss/mambaforge/envs/py310ml/lib/python3.10/site-packages/keras/engine/training.py\", line 558, in __call__\n",
      "      return super().__call__(*args, **kwargs)\n",
      "    File \"/home/imarcoss/mambaforge/envs/py310ml/lib/python3.10/site-packages/keras/utils/traceback_utils.py\", line 65, in error_handler\n",
      "      return fn(*args, **kwargs)\n",
      "    File \"/home/imarcoss/mambaforge/envs/py310ml/lib/python3.10/site-packages/keras/engine/base_layer.py\", line 1145, in __call__\n",
      "      outputs = call_fn(inputs, *args, **kwargs)\n",
      "    File \"/home/imarcoss/mambaforge/envs/py310ml/lib/python3.10/site-packages/keras/utils/traceback_utils.py\", line 96, in error_handler\n",
      "      return fn(*args, **kwargs)\n",
      "    File \"/home/imarcoss/mambaforge/envs/py310ml/lib/python3.10/site-packages/keras/engine/functional.py\", line 512, in call\n",
      "      return self._run_internal_graph(inputs, training=training, mask=mask)\n",
      "    File \"/home/imarcoss/mambaforge/envs/py310ml/lib/python3.10/site-packages/keras/engine/functional.py\", line 669, in _run_internal_graph\n",
      "      outputs = node.layer(*args, **kwargs)\n",
      "    File \"/home/imarcoss/mambaforge/envs/py310ml/lib/python3.10/site-packages/keras/utils/traceback_utils.py\", line 65, in error_handler\n",
      "      return fn(*args, **kwargs)\n",
      "    File \"/home/imarcoss/mambaforge/envs/py310ml/lib/python3.10/site-packages/keras/engine/base_layer.py\", line 1145, in __call__\n",
      "      outputs = call_fn(inputs, *args, **kwargs)\n",
      "    File \"/home/imarcoss/mambaforge/envs/py310ml/lib/python3.10/site-packages/keras/utils/traceback_utils.py\", line 96, in error_handler\n",
      "      return fn(*args, **kwargs)\n",
      "    File \"/home/imarcoss/mambaforge/envs/py310ml/lib/python3.10/site-packages/keras/layers/convolutional/base_conv.py\", line 290, in call\n",
      "      outputs = self.convolution_op(inputs, self.kernel)\n",
      "    File \"/home/imarcoss/mambaforge/envs/py310ml/lib/python3.10/site-packages/keras/layers/convolutional/base_conv.py\", line 262, in convolution_op\n",
      "      return tf.nn.convolution(\n",
      "Node: 'model/down_level_0_no_0/Conv3D'\n",
      "Detected at node 'model/down_level_0_no_0/Conv3D' defined at (most recent call last):\n",
      "    File \"/home/imarcoss/mambaforge/envs/py310ml/lib/python3.10/threading.py\", line 973, in _bootstrap\n",
      "      self._bootstrap_inner()\n",
      "    File \"/home/imarcoss/mambaforge/envs/py310ml/lib/python3.10/threading.py\", line 1016, in _bootstrap_inner\n",
      "      self.run()\n",
      "    File \"/home/imarcoss/mambaforge/envs/py310ml/lib/python3.10/site-packages/keras/engine/training.py\", line 2143, in run_step\n",
      "      outputs = model.predict_step(data)\n",
      "    File \"/home/imarcoss/mambaforge/envs/py310ml/lib/python3.10/site-packages/keras/engine/training.py\", line 2111, in predict_step\n",
      "      return self(x, training=False)\n",
      "    File \"/home/imarcoss/mambaforge/envs/py310ml/lib/python3.10/site-packages/keras/utils/traceback_utils.py\", line 65, in error_handler\n",
      "      return fn(*args, **kwargs)\n",
      "    File \"/home/imarcoss/mambaforge/envs/py310ml/lib/python3.10/site-packages/keras/engine/training.py\", line 558, in __call__\n",
      "      return super().__call__(*args, **kwargs)\n",
      "    File \"/home/imarcoss/mambaforge/envs/py310ml/lib/python3.10/site-packages/keras/utils/traceback_utils.py\", line 65, in error_handler\n",
      "      return fn(*args, **kwargs)\n",
      "    File \"/home/imarcoss/mambaforge/envs/py310ml/lib/python3.10/site-packages/keras/engine/base_layer.py\", line 1145, in __call__\n",
      "      outputs = call_fn(inputs, *args, **kwargs)\n",
      "    File \"/home/imarcoss/mambaforge/envs/py310ml/lib/python3.10/site-packages/keras/utils/traceback_utils.py\", line 96, in error_handler\n",
      "      return fn(*args, **kwargs)\n",
      "    File \"/home/imarcoss/mambaforge/envs/py310ml/lib/python3.10/site-packages/keras/engine/functional.py\", line 512, in call\n",
      "      return self._run_internal_graph(inputs, training=training, mask=mask)\n",
      "    File \"/home/imarcoss/mambaforge/envs/py310ml/lib/python3.10/site-packages/keras/engine/functional.py\", line 669, in _run_internal_graph\n",
      "      outputs = node.layer(*args, **kwargs)\n",
      "    File \"/home/imarcoss/mambaforge/envs/py310ml/lib/python3.10/site-packages/keras/utils/traceback_utils.py\", line 65, in error_handler\n",
      "      return fn(*args, **kwargs)\n",
      "    File \"/home/imarcoss/mambaforge/envs/py310ml/lib/python3.10/site-packages/keras/engine/base_layer.py\", line 1145, in __call__\n",
      "      outputs = call_fn(inputs, *args, **kwargs)\n",
      "    File \"/home/imarcoss/mambaforge/envs/py310ml/lib/python3.10/site-packages/keras/utils/traceback_utils.py\", line 96, in error_handler\n",
      "      return fn(*args, **kwargs)\n",
      "    File \"/home/imarcoss/mambaforge/envs/py310ml/lib/python3.10/site-packages/keras/layers/convolutional/base_conv.py\", line 290, in call\n",
      "      outputs = self.convolution_op(inputs, self.kernel)\n",
      "    File \"/home/imarcoss/mambaforge/envs/py310ml/lib/python3.10/site-packages/keras/layers/convolutional/base_conv.py\", line 262, in convolution_op\n",
      "      return tf.nn.convolution(\n",
      "Node: 'model/down_level_0_no_0/Conv3D'\n",
      "2 root error(s) found.\n",
      "  (0) RESOURCE_EXHAUSTED:  OOM when allocating tensor with shape[1,32,1024,1024,548] and type float on /job:localhost/replica:0/task:0/device:GPU:0 by allocator gpu_async_0\n",
      "\t [[{{node model/down_level_0_no_0/Conv3D}}]]\n",
      "Hint: If you want to see a list of allocated tensors when OOM happens, add report_tensor_allocations_upon_oom to RunOptions for current allocation info. This isn't available when running in Eager mode.\n",
      "\n",
      "\t [[replica_1/model/dist/BiasAdd/_89]]\n",
      "Hint: If you want to see a list of allocated tensors when OOM happens, add report_tensor_allocations_upon_oom to RunOptions for current allocation info. This isn't available when running in Eager mode.\n",
      "\n",
      "  (1) RESOURCE_EXHAUSTED:  OOM when allocating tensor with shape[1,32,1024,1024,548] and type float on /job:localhost/replica:0/task:0/device:GPU:0 by allocator gpu_async_0\n",
      "\t [[{{node model/down_level_0_no_0/Conv3D}}]]\n",
      "Hint: If you want to see a list of allocated tensors when OOM happens, add report_tensor_allocations_upon_oom to RunOptions for current allocation info. This isn't available when running in Eager mode.\n",
      "\n",
      "0 successful operations.\n",
      "0 derived errors ignored. [Op:__inference_predict_function_4857]\n"
     ]
    },
    {
     "name": "stderr",
     "output_type": "stream",
     "text": [
      "2024-07-18 10:03:36.234985: E tensorflow/compiler/xla/stream_executor/gpu/gpu_cudamallocasync_allocator.cc:306] gpu_async_0 cuMemAllocAsync failed to allocate 73551314944 bytes: CUDA error: out of memory (CUDA_ERROR_OUT_OF_MEMORY)\n",
      " Reported by CUDA: Free memory/Total memory: 2286419968/8169717760\n",
      "2024-07-18 10:03:36.235026: E tensorflow/compiler/xla/stream_executor/gpu/gpu_cudamallocasync_allocator.cc:311] Stats: Limit:                      8589934592\n",
      "InUse:                      5750677514\n",
      "MaxInUse:                   5750677523\n",
      "NumAllocs:                         151\n",
      "MaxAllocSize:               2298478592\n",
      "Reserved:                            0\n",
      "PeakReserved:                        0\n",
      "LargestFreeBlock:                    0\n",
      "\n",
      "2024-07-18 10:03:36.235039: E tensorflow/compiler/xla/stream_executor/gpu/gpu_cudamallocasync_allocator.cc:63] Histogram of current allocation: (allocation_size_in_bytes, nb_allocation_of_that_sizes), ...;\n",
      "2024-07-18 10:03:36.235045: E tensorflow/compiler/xla/stream_executor/gpu/gpu_cudamallocasync_allocator.cc:66] 1, 2\n",
      "2024-07-18 10:03:36.235049: E tensorflow/compiler/xla/stream_executor/gpu/gpu_cudamallocasync_allocator.cc:66] 4, 19\n",
      "2024-07-18 10:03:36.235053: E tensorflow/compiler/xla/stream_executor/gpu/gpu_cudamallocasync_allocator.cc:66] 8, 7\n",
      "2024-07-18 10:03:36.235058: E tensorflow/compiler/xla/stream_executor/gpu/gpu_cudamallocasync_allocator.cc:66] 128, 5\n",
      "2024-07-18 10:03:36.235064: E tensorflow/compiler/xla/stream_executor/gpu/gpu_cudamallocasync_allocator.cc:66] 256, 4\n",
      "2024-07-18 10:03:36.235071: E tensorflow/compiler/xla/stream_executor/gpu/gpu_cudamallocasync_allocator.cc:66] 384, 1\n",
      "2024-07-18 10:03:36.235078: E tensorflow/compiler/xla/stream_executor/gpu/gpu_cudamallocasync_allocator.cc:66] 512, 3\n",
      "2024-07-18 10:03:36.235082: E tensorflow/compiler/xla/stream_executor/gpu/gpu_cudamallocasync_allocator.cc:66] 1028, 1\n",
      "2024-07-18 10:03:36.235085: E tensorflow/compiler/xla/stream_executor/gpu/gpu_cudamallocasync_allocator.cc:66] 3456, 1\n",
      "2024-07-18 10:03:36.235089: E tensorflow/compiler/xla/stream_executor/gpu/gpu_cudamallocasync_allocator.cc:66] 49152, 1\n",
      "2024-07-18 10:03:36.235092: E tensorflow/compiler/xla/stream_executor/gpu/gpu_cudamallocasync_allocator.cc:66] 110592, 2\n",
      "2024-07-18 10:03:36.235096: E tensorflow/compiler/xla/stream_executor/gpu/gpu_cudamallocasync_allocator.cc:66] 221184, 3\n",
      "2024-07-18 10:03:36.235099: E tensorflow/compiler/xla/stream_executor/gpu/gpu_cudamallocasync_allocator.cc:66] 442368, 2\n",
      "2024-07-18 10:03:36.235102: E tensorflow/compiler/xla/stream_executor/gpu/gpu_cudamallocasync_allocator.cc:66] 884736, 3\n",
      "2024-07-18 10:03:36.235106: E tensorflow/compiler/xla/stream_executor/gpu/gpu_cudamallocasync_allocator.cc:66] 1149239296, 1\n",
      "2024-07-18 10:03:36.235109: E tensorflow/compiler/xla/stream_executor/gpu/gpu_cudamallocasync_allocator.cc:66] 2298478592, 2\n",
      "2024-07-18 10:03:36.235115: E tensorflow/compiler/xla/stream_executor/gpu/gpu_cudamallocasync_allocator.cc:97] CU_MEMPOOL_ATTR_RESERVED_MEM_CURRENT: 5771362304\n",
      "2024-07-18 10:03:36.235119: E tensorflow/compiler/xla/stream_executor/gpu/gpu_cudamallocasync_allocator.cc:99] CU_MEMPOOL_ATTR_USED_MEM_CURRENT: 5750677514\n",
      "2024-07-18 10:03:36.235123: E tensorflow/compiler/xla/stream_executor/gpu/gpu_cudamallocasync_allocator.cc:100] CU_MEMPOOL_ATTR_RESERVED_MEM_HIGH: 5771362304\n",
      "2024-07-18 10:03:36.235128: E tensorflow/compiler/xla/stream_executor/gpu/gpu_cudamallocasync_allocator.cc:101] CU_MEMPOOL_ATTR_USED_MEM_HIGH: 5750677523\n"
     ]
    }
   ],
   "execution_count": 12
  },
  {
   "metadata": {},
   "cell_type": "markdown",
   "source": "Save img",
   "id": "5cc40c3cf8405e98"
  },
  {
   "metadata": {},
   "cell_type": "code",
   "source": [
    "# segmented_image = nib.Nifti1Image(labels, X[idx].affine)\n",
    "# file_name = re.search(r'([^/\\\\]+)(?=\\.\\w+\\.\\w+$)', X_names[0]).group()\n",
    "# nib.save(segmented_image, f'../data/Gr4/Predictions/Stardist/{file_name}.nii.gz')"
   ],
   "id": "a99a1c21b59b765",
   "outputs": [],
   "execution_count": null
  },
  {
   "metadata": {},
   "cell_type": "markdown",
   "source": "Plots",
   "id": "3491ab66fd0e8857"
  },
  {
   "metadata": {},
   "cell_type": "code",
   "source": [
    "plt.figure(figsize=(16,10))\n",
    "plt.subplot(121); plt.imshow(test_img, cmap='gray'); plt.axis('off'); plt.title('Raw image')\n",
    "plt.subplot(122); plt.imshow(render_label(labels, img=test_img)); plt.axis('off'); plt.title('Predicted labels')\n",
    "plt.tight_layout()\n",
    "plt.show()"
   ],
   "id": "220928dd424481e6",
   "outputs": [],
   "execution_count": null
  },
  {
   "metadata": {},
   "cell_type": "code",
   "outputs": [],
   "execution_count": null,
   "source": [
    "# plt.figure(figsize=(13,10))\n",
    "# z = max(0, img.shape[0] // 2 - 5)\n",
    "# plt.subplot(121)\n",
    "# plt.imshow((img if img.ndim==3 else img[...,:3])[z], clim=(0,1), cmap='gray')\n",
    "# plt.title('Raw image (XY slice)')\n",
    "# plt.axis('off')\n",
    "# plt.subplot(122)\n",
    "# plt.imshow((img if img.ndim==3 else img[...,:3])[z], clim=(0,1), cmap='gray')\n",
    "# plt.imshow(labels[z], cmap=lbl_cmap, alpha=0.5)\n",
    "# plt.title('Image and predicted labels (XY slice)')\n",
    "# plt.axis('off');"
   ],
   "id": "90a31e5d70458557"
  }
 ],
 "metadata": {
  "kernelspec": {
   "display_name": "Python 3",
   "language": "python",
   "name": "python3"
  },
  "language_info": {
   "codemirror_mode": {
    "name": "ipython",
    "version": 2
   },
   "file_extension": ".py",
   "mimetype": "text/x-python",
   "name": "python",
   "nbconvert_exporter": "python",
   "pygments_lexer": "ipython2",
   "version": "2.7.6"
  }
 },
 "nbformat": 4,
 "nbformat_minor": 5
}
