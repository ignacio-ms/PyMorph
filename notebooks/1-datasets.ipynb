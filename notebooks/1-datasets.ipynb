{
 "cells": [
  {
   "metadata": {},
   "cell_type": "markdown",
   "source": [
    "## Datasets \n",
    "\n",
    "Type of datasets and their functionalities\n",
    "\n",
    "### Libraries and configuration"
   ],
   "id": "cc092e39a7694aac"
  },
  {
   "cell_type": "code",
   "id": "initial_id",
   "metadata": {
    "collapsed": true,
    "ExecuteTime": {
     "end_time": "2024-07-22T11:08:12.581137Z",
     "start_time": "2024-07-22T11:08:12.456011Z"
    }
   },
   "source": [
    "# Standard libraries\n",
    "import numpy as np\n",
    "from PIL import Image\n",
    "\n",
    "# Custom packages \n",
    "from auxiliary import values as v\n",
    "from auxiliary.utils.colors import bcolors as c\n",
    "from auxiliary.data.dataset_ht import HtDataset\n",
    "\n",
    "# Configuration\n",
    "data_path = v.data_path\n",
    "specimens = v.specimens"
   ],
   "outputs": [],
   "execution_count": 2
  },
  {
   "metadata": {},
   "cell_type": "markdown",
   "source": [
    "### 1. HtDataset\n",
    "\n",
    "Datset for managing data paths"
   ],
   "id": "3d4fd236bf789f8d"
  },
  {
   "metadata": {
    "ExecuteTime": {
     "end_time": "2024-07-22T11:08:17.544549Z",
     "start_time": "2024-07-22T11:08:16.908945Z"
    }
   },
   "cell_type": "code",
   "source": [
    "ds = HtDataset()\n",
    "ds.check_specimens(verbose=1)"
   ],
   "id": "946b3a9a98768ee2",
   "outputs": [
    {
     "name": "stdout",
     "output_type": "stream",
     "text": [
      "\u001B[94mGroup\u001B[0m: Gr1\n",
      "\u001B[1mLevel\u001B[0m: Nuclei\n",
      "\t\u001B[92mFound\u001B[0m: 20190521_E4_Fernando.tif\n",
      "\t\u001B[92mFound\u001B[0m: 20190504_E1_Fernando.tif\n",
      "\t\u001B[92mFound\u001B[0m: 20190521_E2_Fernando.tif\n",
      "\t\u001B[91mMissing\u001B[0m: 0208_E2\n",
      "\t\u001B[91mMissing\u001B[0m: 0806_E5\n",
      "\u001B[1mLevel\u001B[0m: Membrane\n",
      "\t\u001B[92mFound\u001B[0m: 20190521_E4_mGFP_XYZ_predictions_GASP.nii.gz\n",
      "\t\u001B[92mFound\u001B[0m: 20190806_E5_mGFP_XYZ_predictions_GASP.nii.gz\n",
      "\t\u001B[92mFound\u001B[0m: 20190521_E2_mGFP_XYZ_predictions_GASP.nii.gz\n",
      "\t\u001B[92mFound\u001B[0m: 20190208_E2_mGFP_XYZ_predictions_GASP.nii.gz\n",
      "\t\u001B[92mFound\u001B[0m: 20190504_E1_mGFP_XYZ_predictions_GASP.nii.gz\n",
      "\u001B[94mGroup\u001B[0m: Gr2\n",
      "\u001B[1mLevel\u001B[0m: Nuclei\n",
      "\t\u001B[92mFound\u001B[0m: 20190503_E1_Fernando.tif\n",
      "\t\u001B[92mFound\u001B[0m: 20190520_E2_Fernando.tif\n",
      "\t\u001B[92mFound\u001B[0m: 20190516_E2_Fernando.tif\n",
      "\t\u001B[92mFound\u001B[0m: 20190208_E3_Fernando.tif\n",
      "\t\u001B[91mMissing\u001B[0m: 0209_E1\n",
      "\u001B[1mLevel\u001B[0m: Membrane\n",
      "\t\u001B[92mFound\u001B[0m: 20190520_E2_mGFP_XYZ_predictions_GASP.nii.gz\n",
      "\t\u001B[92mFound\u001B[0m: 20190209_E1_mGFP_XYZ_predictions_GASP.nii.gz\n",
      "\t\u001B[92mFound\u001B[0m: 20190503_E1_mGFP_XYZ_predictions_GASP.nii.gz\n",
      "\t\u001B[92mFound\u001B[0m: 20190516_E2_mGFP_XYZ_predictions_GASP.nii.gz\n",
      "\t\u001B[92mFound\u001B[0m: 20190208_E3_mGFP_XYZ_predictions_GASP.nii.gz\n",
      "\u001B[94mGroup\u001B[0m: Gr3\n",
      "\u001B[1mLevel\u001B[0m: Nuclei\n",
      "\t\u001B[92mFound\u001B[0m: 20190209_E2_Fernando.tif\n",
      "\t\u001B[92mFound\u001B[0m: 20190308_E3_Fernando.tif\n",
      "\t\u001B[92mFound\u001B[0m: 20190516_E3_MASK_EQ_XYZ_decon_filtered.nii.gz\n",
      "\t\u001B[92mFound\u001B[0m: 20190503_E2_Fernando.tif\n",
      "\u001B[1mLevel\u001B[0m: Membrane\n",
      "\t\u001B[92mFound\u001B[0m: 20190503_E2_mGFP_XYZ_predictions_GASP.nii.gz\n",
      "\t\u001B[92mFound\u001B[0m: 20190209_E2_mGFP_XYZ_predictions_GASP.nii.gz\n",
      "\t\u001B[92mFound\u001B[0m: 20190308_E3_mGFP_XYZ_predictions_GASP.nii.gz\n",
      "\t\u001B[92mFound\u001B[0m: 20190516_E3_mGFP_XYZ_predictions_GASP.nii.gz\n",
      "\u001B[94mGroup\u001B[0m: Gr4\n",
      "\u001B[1mLevel\u001B[0m: Nuclei\n",
      "\t\u001B[92mFound\u001B[0m: 20190806_E3_MASK_EQ_XYZ_decon_filtered.nii.gz\n",
      "\t\u001B[92mFound\u001B[0m: 20190806_E4_Fernando.tif\n",
      "\t\u001B[92mFound\u001B[0m: 20190523_E1_Fernando.tif\n",
      "\t\u001B[92mFound\u001B[0m: 20190806_E6_Fernando.tif\n",
      "\t\u001B[91mMissing\u001B[0m: 0521_E1\n",
      "\u001B[1mLevel\u001B[0m: Membrane\n",
      "\t\u001B[92mFound\u001B[0m: 20190806_E3_mGFP_XYZ_predictions_GASP.nii.gz\n",
      "\t\u001B[92mFound\u001B[0m: 20190806_E4_mGFP_XYZ_predictions_GASP.nii.gz\n",
      "\t\u001B[92mFound\u001B[0m: 20190521_E1_mGFP_XYZ_predictions_GASP.nii.gz\n",
      "\t\u001B[92mFound\u001B[0m: 20190806_E6_mGFP_XYZ_predictions_GASP.nii.gz\n",
      "\t\u001B[92mFound\u001B[0m: 20190523_E1_mGFP_XYZ_predictions_GASP.nii.gz\n",
      "\u001B[94mGroup\u001B[0m: Gr5\n",
      "\u001B[1mLevel\u001B[0m: Nuclei\n",
      "\t\u001B[92mFound\u001B[0m: 20190521_E3_Fernando.tif\n",
      "\t\u001B[92mFound\u001B[0m: 20190401_E3_MASK_EQ_XYZ_decon_filtered.nii.gz\n",
      "\t\u001B[92mFound\u001B[0m: 20190518_E3_Fernando.tif\n",
      "\t\u001B[91mMissing\u001B[0m: 0122_E1\n",
      "\t\u001B[91mNo raw image: /run/user/1003/gvfs/smb-share:server=tierra.cnic.es,share=sc/LAB_MT/LAB/Ignacio/Gr5/RawImages/Nuclei/20190122_E1_DAPI_decon_0.5.nii.gz\u001B[0m\n",
      "\t\u001B[91mMissing\u001B[0m: 0123_E1\n",
      "\t\u001B[91mNo raw image: /run/user/1003/gvfs/smb-share:server=tierra.cnic.es,share=sc/LAB_MT/LAB/Ignacio/Gr5/RawImages/Nuclei/20190123_E1_DAPI_decon_0.5.nii.gz\u001B[0m\n",
      "\u001B[1mLevel\u001B[0m: Membrane\n",
      "\t\u001B[92mFound\u001B[0m: 20190401_E3_mGFP_XYZ_predictions_GASP.nii.gz\n",
      "\t\u001B[91mMissing\u001B[0m: 0122_E1\n",
      "\t\u001B[91mNo raw image: /run/user/1003/gvfs/smb-share:server=tierra.cnic.es,share=sc/LAB_MT/LAB/Ignacio/Gr5/RawImages/Membrane/20190122_E1_mGFP_decon_0.5.nii.gz\u001B[0m\n",
      "\t\u001B[91mMissing\u001B[0m: 0518_E3\n",
      "\t\u001B[91mMissing\u001B[0m: 0521_E3\n",
      "\t\u001B[91mMissing\u001B[0m: 0123_E1\n",
      "\t\u001B[91mNo raw image: /run/user/1003/gvfs/smb-share:server=tierra.cnic.es,share=sc/LAB_MT/LAB/Ignacio/Gr5/RawImages/Membrane/20190123_E1_mGFP_decon_0.5.nii.gz\u001B[0m\n",
      "\u001B[94mGroup\u001B[0m: Gr6\n",
      "\u001B[1mLevel\u001B[0m: Nuclei\n",
      "\t\u001B[92mFound\u001B[0m: 20190401_E2_Fernando.tif\n",
      "\t\u001B[92mFound\u001B[0m: 20190502_E1_Fernando.tif\n",
      "\t\u001B[92mFound\u001B[0m: 20190401_E1_Fernando.tif\n",
      "\t\u001B[92mFound\u001B[0m: 20190806_E1_Fernando.tif\n",
      "\t\u001B[91mMissing\u001B[0m: 0517_E2\n",
      "\t\u001B[91mMissing\u001B[0m: 0806_E2\n",
      "\t\u001B[91mMissing\u001B[0m: 0308_E2\n",
      "\u001B[1mLevel\u001B[0m: Membrane\n",
      "\t\u001B[92mFound\u001B[0m: 20190502_E1_mGFP_XYZ_predictions_GASP.nii.gz\n",
      "\t\u001B[92mFound\u001B[0m: 20190401_E1_mGFP_XYZ_predictions_GASP.nii.gz\n",
      "\t\u001B[92mFound\u001B[0m: 20190517_E2_mGFP_XYZ_predictions_GASP.nii.gz\n",
      "\t\u001B[92mFound\u001B[0m: 20190806_E2_mGFP_XYZ_predictions_GASP.nii.gz\n",
      "\t\u001B[92mFound\u001B[0m: 20190806_E1_mGFP_XYZ_predictions_GASP.nii.gz\n",
      "\t\u001B[92mFound\u001B[0m: 20190401_E2_mGFP_XYZ_predictions_GASP.nii.gz\n",
      "\t\u001B[92mFound\u001B[0m: 20190308_E2_mGFP_XYZ_predictions_GASP.nii.gz\n",
      "\u001B[94mGroup\u001B[0m: Gr7\n",
      "\u001B[1mLevel\u001B[0m: Nuclei\n",
      "\t\u001B[92mFound\u001B[0m: 20190403_E2_Fernando.tif\n",
      "\t\u001B[92mFound\u001B[0m: 20190404_E2_Fernando.tif\n",
      "\t\u001B[92mFound\u001B[0m: 20190516_E5_Fernando.tif\n",
      "\t\u001B[91mMissing\u001B[0m: 0308_E4\n",
      "\t\u001B[91mMissing\u001B[0m: 0517_E4\n",
      "\u001B[1mLevel\u001B[0m: Membrane\n",
      "\t\u001B[92mFound\u001B[0m: 20190404_E2_mGFP_XYZ_predictions_GASP.nii.gz\n",
      "\t\u001B[91mMissing\u001B[0m: 0308_E4\n",
      "\t\u001B[91mMissing\u001B[0m: 0403_E2\n",
      "\t\u001B[91mMissing\u001B[0m: 0517_E4\n",
      "\t\u001B[91mMissing\u001B[0m: 0516_E5\n",
      "\u001B[94mGroup\u001B[0m: Gr8\n",
      "\u001B[1mLevel\u001B[0m: Nuclei\n",
      "\t\u001B[92mFound\u001B[0m: 20190517_E1_MASK_EQ_XYZ_decon_filtered.nii.gz\n",
      "\t\u001B[92mFound\u001B[0m: 20190402_E2_Fernando.tif\n",
      "\t\u001B[92mFound\u001B[0m: 20190402_E1_Fernando.tif\n",
      "\t\u001B[91mMissing\u001B[0m: 0518_E2\n",
      "\t\u001B[91mMissing\u001B[0m: 0516_E4\n",
      "\u001B[1mLevel\u001B[0m: Membrane\n",
      "\t\u001B[92mFound\u001B[0m: 20190517_E1_mGFP_XYZ_predictions_GASP.nii.gz\n",
      "\t\u001B[91mMissing\u001B[0m: 0402_E1\n",
      "\t\u001B[91mMissing\u001B[0m: 0402_E2\n",
      "\t\u001B[91mMissing\u001B[0m: 0518_E2\n",
      "\t\u001B[91mMissing\u001B[0m: 0516_E4\n",
      "\u001B[94mGroup\u001B[0m: Gr9\n",
      "\u001B[1mLevel\u001B[0m: Nuclei\n",
      "\t\u001B[92mFound\u001B[0m: 20190520_E5_Fernando.tif\n",
      "\t\u001B[92mFound\u001B[0m: 20190515_E2_Fernando.tif\n",
      "\t\u001B[92mFound\u001B[0m: 20190516_E1_Fernando.tif\n",
      "\t\u001B[92mFound\u001B[0m: 20190520_E1_MASK_EQ_XYZ_decon_filtered.nii.gz\n",
      "\t\u001B[91mMissing\u001B[0m: 0404_E1\n",
      "\t\u001B[91mMissing\u001B[0m: 0119_E1\n",
      "\t\u001B[91mMissing\u001B[0m: 0518_E1\n",
      "\u001B[1mLevel\u001B[0m: Membrane\n",
      "\t\u001B[92mFound\u001B[0m: 20190520_E1_mGFP_XYZ_predictions_GASP.nii.gz\n",
      "\t\u001B[91mMissing\u001B[0m: 0515_E2\n",
      "\t\u001B[91mMissing\u001B[0m: 0404_E1\n",
      "\t\u001B[91mMissing\u001B[0m: 0516_E1\n",
      "\t\u001B[91mMissing\u001B[0m: 0520_E5\n",
      "\t\u001B[91mMissing\u001B[0m: 0119_E1\n",
      "\t\u001B[91mMissing\u001B[0m: 0518_E1\n",
      "\u001B[94mGroup\u001B[0m: Gr10\n",
      "\u001B[1mLevel\u001B[0m: Nuclei\n",
      "\t\u001B[92mFound\u001B[0m: 20190515_E1_Fernando.tif\n",
      "\t\u001B[92mFound\u001B[0m: 20190520_E4_MASK_EQ_XYZ_decon_filtered.nii.gz\n",
      "\u001B[1mLevel\u001B[0m: Membrane\n",
      "\t\u001B[92mFound\u001B[0m: 20190520_E4_mGFP_XYZ_predictions_GASP.nii.gz\n",
      "\t\u001B[91mMissing\u001B[0m: 0515_E1\n",
      "\u001B[94mGroup\u001B[0m: Gr11\n",
      "\u001B[1mLevel\u001B[0m: Nuclei\n",
      "\t\u001B[91mNo directory\u001B[0m: /run/user/1003/gvfs/smb-share:server=tierra.cnic.es,share=sc/LAB_MT/LAB/Ignacio/Gr11/Segmentation/Nuclei\n",
      "\u001B[1mLevel\u001B[0m: Membrane\n",
      "\t\u001B[91mNo directory\u001B[0m: /run/user/1003/gvfs/smb-share:server=tierra.cnic.es,share=sc/LAB_MT/LAB/Ignacio/Gr11/Segmentation/Membrane\n"
     ]
    }
   ],
   "execution_count": 3
  },
  {
   "metadata": {
    "ExecuteTime": {
     "end_time": "2024-07-22T11:08:23.383517Z",
     "start_time": "2024-07-22T11:08:23.376103Z"
    }
   },
   "cell_type": "code",
   "source": [
    "print(f\"{c.HEADER}Nuclei{c.ENDC} - {len(ds.missing_nuclei)}\")\n",
    "for specimen in ds.missing_nuclei:\n",
    "    print(f\"{c.OKBLUE}{specimen}{c.ENDC}\")\n",
    "    \n",
    "print(f\"{c.HEADER}Membrane{c.ENDC} - {len(ds.missing_membrane)}\")\n",
    "for specimen in ds.missing_membrane:\n",
    "    print(f\"{c.OKBLUE}{specimen}{c.ENDC}\")"
   ],
   "id": "4f62499c29873a7d",
   "outputs": [
    {
     "name": "stdout",
     "output_type": "stream",
     "text": [
      "\u001B[95mNuclei\u001B[0m - 14\n",
      "\u001B[94m/run/user/1003/gvfs/smb-share:server=tierra.cnic.es,share=sc/LAB_MT/LAB/Ignacio/Gr1/RawImages/Nuclei/20190208_E2_DAPI_decon_0.5.nii.gz\u001B[0m\n",
      "\u001B[94m/run/user/1003/gvfs/smb-share:server=tierra.cnic.es,share=sc/LAB_MT/LAB/Ignacio/Gr1/RawImages/Nuclei/20190806_E5_DAPI_decon_0.5.nii.gz\u001B[0m\n",
      "\u001B[94m/run/user/1003/gvfs/smb-share:server=tierra.cnic.es,share=sc/LAB_MT/LAB/Ignacio/Gr2/RawImages/Nuclei/20190209_E1_DAPI_decon_0.5.nii.gz\u001B[0m\n",
      "\u001B[94m/run/user/1003/gvfs/smb-share:server=tierra.cnic.es,share=sc/LAB_MT/LAB/Ignacio/Gr4/RawImages/Nuclei/20190521_E1_DAPI_decon_0.5.nii.gz\u001B[0m\n",
      "\u001B[94m/run/user/1003/gvfs/smb-share:server=tierra.cnic.es,share=sc/LAB_MT/LAB/Ignacio/Gr6/RawImages/Nuclei/20190517_E2_DAPI_decon_0.5.nii.gz\u001B[0m\n",
      "\u001B[94m/run/user/1003/gvfs/smb-share:server=tierra.cnic.es,share=sc/LAB_MT/LAB/Ignacio/Gr6/RawImages/Nuclei/20190806_E2_DAPI_decon_0.5.nii.gz\u001B[0m\n",
      "\u001B[94m/run/user/1003/gvfs/smb-share:server=tierra.cnic.es,share=sc/LAB_MT/LAB/Ignacio/Gr6/RawImages/Nuclei/20190308_E2_DAPI_decon_0.5.nii.gz\u001B[0m\n",
      "\u001B[94m/run/user/1003/gvfs/smb-share:server=tierra.cnic.es,share=sc/LAB_MT/LAB/Ignacio/Gr7/RawImages/Nuclei/20190308_E4_DAPI_decon_0.5.nii.gz\u001B[0m\n",
      "\u001B[94m/run/user/1003/gvfs/smb-share:server=tierra.cnic.es,share=sc/LAB_MT/LAB/Ignacio/Gr7/RawImages/Nuclei/20190517_E4_DAPI_decon_0.5.nii.gz\u001B[0m\n",
      "\u001B[94m/run/user/1003/gvfs/smb-share:server=tierra.cnic.es,share=sc/LAB_MT/LAB/Ignacio/Gr8/RawImages/Nuclei/20190518_E2_DAPI_decon_0.5.nii.gz\u001B[0m\n",
      "\u001B[94m/run/user/1003/gvfs/smb-share:server=tierra.cnic.es,share=sc/LAB_MT/LAB/Ignacio/Gr8/RawImages/Nuclei/20190516_E4_DAPI_decon_0.5.nii.gz\u001B[0m\n",
      "\u001B[94m/run/user/1003/gvfs/smb-share:server=tierra.cnic.es,share=sc/LAB_MT/LAB/Ignacio/Gr9/RawImages/Nuclei/20190404_E1_DAPI_decon_0.5.nii.gz\u001B[0m\n",
      "\u001B[94m/run/user/1003/gvfs/smb-share:server=tierra.cnic.es,share=sc/LAB_MT/LAB/Ignacio/Gr9/RawImages/Nuclei/20190119_E1_DAPI_decon_0.5.nii.gz\u001B[0m\n",
      "\u001B[94m/run/user/1003/gvfs/smb-share:server=tierra.cnic.es,share=sc/LAB_MT/LAB/Ignacio/Gr9/RawImages/Nuclei/20190518_E1_DAPI_decon_0.5.nii.gz\u001B[0m\n",
      "\u001B[95mMembrane\u001B[0m - 17\n",
      "\u001B[94m/run/user/1003/gvfs/smb-share:server=tierra.cnic.es,share=sc/LAB_MT/LAB/Ignacio/Gr5/RawImages/Membrane/20190518_E3_mGFP_decon_0.5.nii.gz\u001B[0m\n",
      "\u001B[94m/run/user/1003/gvfs/smb-share:server=tierra.cnic.es,share=sc/LAB_MT/LAB/Ignacio/Gr5/RawImages/Membrane/20190521_E3_mGFP_decon_0.5.nii.gz\u001B[0m\n",
      "\u001B[94m/run/user/1003/gvfs/smb-share:server=tierra.cnic.es,share=sc/LAB_MT/LAB/Ignacio/Gr7/RawImages/Membrane/20190308_E4_mGFP_decon_0.5.nii.gz\u001B[0m\n",
      "\u001B[94m/run/user/1003/gvfs/smb-share:server=tierra.cnic.es,share=sc/LAB_MT/LAB/Ignacio/Gr7/RawImages/Membrane/20190403_E2_mGFP_decon_0.5.nii.gz\u001B[0m\n",
      "\u001B[94m/run/user/1003/gvfs/smb-share:server=tierra.cnic.es,share=sc/LAB_MT/LAB/Ignacio/Gr7/RawImages/Membrane/20190517_E4_mGFP_decon_0.5.nii.gz\u001B[0m\n",
      "\u001B[94m/run/user/1003/gvfs/smb-share:server=tierra.cnic.es,share=sc/LAB_MT/LAB/Ignacio/Gr7/RawImages/Membrane/20190516_E5_mGFP_decon_0.5.nii.gz\u001B[0m\n",
      "\u001B[94m/run/user/1003/gvfs/smb-share:server=tierra.cnic.es,share=sc/LAB_MT/LAB/Ignacio/Gr8/RawImages/Membrane/20190402_E1_mGFP_decon_0.5.nii.gz\u001B[0m\n",
      "\u001B[94m/run/user/1003/gvfs/smb-share:server=tierra.cnic.es,share=sc/LAB_MT/LAB/Ignacio/Gr8/RawImages/Membrane/20190402_E2_mGFP_decon_0.5.nii.gz\u001B[0m\n",
      "\u001B[94m/run/user/1003/gvfs/smb-share:server=tierra.cnic.es,share=sc/LAB_MT/LAB/Ignacio/Gr8/RawImages/Membrane/20190518_E2_mGFP_decon_0.5.nii.gz\u001B[0m\n",
      "\u001B[94m/run/user/1003/gvfs/smb-share:server=tierra.cnic.es,share=sc/LAB_MT/LAB/Ignacio/Gr8/RawImages/Membrane/20190516_E4_mGFP_decon_0.5.nii.gz\u001B[0m\n",
      "\u001B[94m/run/user/1003/gvfs/smb-share:server=tierra.cnic.es,share=sc/LAB_MT/LAB/Ignacio/Gr9/RawImages/Membrane/20190515_E2_mGFP_decon_0.5.nii.gz\u001B[0m\n",
      "\u001B[94m/run/user/1003/gvfs/smb-share:server=tierra.cnic.es,share=sc/LAB_MT/LAB/Ignacio/Gr9/RawImages/Membrane/20190404_E1_mGFP_decon_0.5.nii.gz\u001B[0m\n",
      "\u001B[94m/run/user/1003/gvfs/smb-share:server=tierra.cnic.es,share=sc/LAB_MT/LAB/Ignacio/Gr9/RawImages/Membrane/20190516_E1_mGFP_decon_0.5.nii.gz\u001B[0m\n",
      "\u001B[94m/run/user/1003/gvfs/smb-share:server=tierra.cnic.es,share=sc/LAB_MT/LAB/Ignacio/Gr9/RawImages/Membrane/20190520_E5_mGFP_decon_0.5.nii.gz\u001B[0m\n",
      "\u001B[94m/run/user/1003/gvfs/smb-share:server=tierra.cnic.es,share=sc/LAB_MT/LAB/Ignacio/Gr9/RawImages/Membrane/20190119_E1_mGFP_decon_0.5.nii.gz\u001B[0m\n",
      "\u001B[94m/run/user/1003/gvfs/smb-share:server=tierra.cnic.es,share=sc/LAB_MT/LAB/Ignacio/Gr9/RawImages/Membrane/20190518_E1_mGFP_decon_0.5.nii.gz\u001B[0m\n",
      "\u001B[94m/run/user/1003/gvfs/smb-share:server=tierra.cnic.es,share=sc/LAB_MT/LAB/Ignacio/Gr10/RawImages/Membrane/20190515_E1_mGFP_decon_0.5.nii.gz\u001B[0m\n"
     ]
    }
   ],
   "execution_count": 4
  },
  {
   "metadata": {
    "ExecuteTime": {
     "end_time": "2024-07-22T11:11:36.049141Z",
     "start_time": "2024-07-22T11:11:35.944029Z"
    }
   },
   "cell_type": "code",
   "source": [
    "from tifffile import imread\n",
    "\n",
    "img_path = v.data_path + 'Gr1/Segmentation/Nuclei/20190521_E2_Fernando.tif'\n",
    "img = imread(img_path)\n",
    "img = np.array(img)\n",
    "print(img.shape)"
   ],
   "id": "874cfcc9f71e4628",
   "outputs": [],
   "execution_count": 11
  },
  {
   "metadata": {
    "ExecuteTime": {
     "end_time": "2024-07-22T11:15:15.840284Z",
     "start_time": "2024-07-22T11:15:15.834381Z"
    }
   },
   "cell_type": "code",
   "source": "print(img.shape)",
   "id": "dcd9b5d7bfbd4277",
   "outputs": [
    {
     "name": "stdout",
     "output_type": "stream",
     "text": [
      "(1024, 1024)\n"
     ]
    }
   ],
   "execution_count": 13
  },
  {
   "metadata": {},
   "cell_type": "code",
   "outputs": [],
   "execution_count": null,
   "source": "",
   "id": "c0b9ac6657559407"
  }
 ],
 "metadata": {
  "kernelspec": {
   "display_name": "Python 3",
   "language": "python",
   "name": "python3"
  },
  "language_info": {
   "codemirror_mode": {
    "name": "ipython",
    "version": 2
   },
   "file_extension": ".py",
   "mimetype": "text/x-python",
   "name": "python",
   "nbconvert_exporter": "python",
   "pygments_lexer": "ipython2",
   "version": "2.7.6"
  }
 },
 "nbformat": 4,
 "nbformat_minor": 5
}
