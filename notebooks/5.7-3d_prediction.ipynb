{
 "cells": [
  {
   "cell_type": "code",
   "id": "initial_id",
   "metadata": {
    "collapsed": true,
    "ExecuteTime": {
     "end_time": "2024-11-05T09:10:04.913632Z",
     "start_time": "2024-11-05T09:10:02.114803Z"
    }
   },
   "source": [
    "import tensorflow as tf\n",
    "import numpy as np\n",
    "import cv2\n",
    "import napari\n",
    "\n",
    "import matplotlib.pyplot as plt\n",
    "\n",
    "from cell_division.nets.transfer_learning import CNN\n",
    "from auxiliary.data.dataset_cell import CellDataset\n",
    "from auxiliary.data.dataset_nuclei import NucleiDataset\n",
    "from auxiliary import values as v\n",
    "from auxiliary.utils import visualizer as vis\n",
    "from auxiliary.utils.colors import bcolors as bc\n",
    "\n",
    "from sklearn.metrics import classification_report, confusion_matrix\n",
    "from cell_division.layers.custom_layers import (\n",
    "    ExtendedLSEPooling,\n",
    "    extended_w_cel_loss\n",
    ")\n",
    "\n",
    "from cell_division.nets.cam import overlay_heatmap, CAM\n",
    "\n",
    "# GPU config\n",
    "from auxiliary.gpu.gpu_tf import (\n",
    "    increase_gpu_memory, \n",
    "    set_gpu_allocator\n",
    ")\n",
    "plt.style.use('default')\n",
    "\n",
    "import os\n",
    "import warnings\n",
    "\n",
    "os.environ['TF_CPP_MIN_LOG_LEVEL'] = '3'  \n",
    "warnings.filterwarnings('ignore')\n",
    "tf.get_logger().setLevel('ERROR')\n",
    "\n",
    "\n",
    "increase_gpu_memory()\n",
    "set_gpu_allocator()\n"
   ],
   "outputs": [],
   "execution_count": 1
  },
  {
   "metadata": {
    "ExecuteTime": {
     "end_time": "2024-11-05T09:10:04.920850Z",
     "start_time": "2024-11-05T09:10:04.915674Z"
    }
   },
   "cell_type": "code",
   "source": [
    "img_dir = v.data_path + 'CellDivision/images_nuclei/'\n",
    "label_train_dir = v.data_path + 'CellDivision/undersampled/train.csv'\n",
    "label_test_dir = v.data_path + 'CellDivision/undersampled/test.csv'\n",
    "label_val_dir = v.data_path + 'CellDivision/undersampled/val.csv'\n",
    "\n",
    "INPUT_SHAPE = (100, 100, 3)\n",
    "BATCH_SIZE = 32"
   ],
   "id": "e5787b71fd51eb4c",
   "outputs": [],
   "execution_count": 2
  },
  {
   "metadata": {
    "ExecuteTime": {
     "end_time": "2024-11-05T09:10:04.964976Z",
     "start_time": "2024-11-05T09:10:04.922332Z"
    }
   },
   "cell_type": "code",
   "source": [
    "train_generator = CellDataset(\n",
    "    img_dir, \n",
    "    label_train_dir,\n",
    "    batch_size=BATCH_SIZE,\n",
    "    resize=INPUT_SHAPE[:2]\n",
    ")\n",
    "\n",
    "val_generator = CellDataset(\n",
    "    img_dir, \n",
    "    label_val_dir,\n",
    "    batch_size=BATCH_SIZE,\n",
    "    resize=INPUT_SHAPE[:2]\n",
    ")\n",
    "\n",
    "test_generator = CellDataset(\n",
    "    img_dir, \n",
    "    label_test_dir,\n",
    "    batch_size=BATCH_SIZE,\n",
    "    resize=INPUT_SHAPE[:2]\n",
    ")"
   ],
   "id": "e02b3da8245c6ca8",
   "outputs": [],
   "execution_count": 3
  },
  {
   "metadata": {
    "ExecuteTime": {
     "end_time": "2024-11-05T09:10:05.950297Z",
     "start_time": "2024-11-05T09:10:04.966711Z"
    }
   },
   "cell_type": "code",
   "source": [
    "model = CNN(\n",
    "    base=tf.keras.applications.VGG16,\n",
    "    input_shape=INPUT_SHAPE,\n",
    "    n_classes=3\n",
    ")\n",
    "model.build_top(activation='softmax', b_type='CAM', pooling=ExtendedLSEPooling)\n",
    "model.compile(\n",
    "    lr=.001,\n",
    "    loss=extended_w_cel_loss()\n",
    ")\n",
    "\n",
    "model.load('../models/cellular_division_models/vgg16_nuclei_under.h5')"
   ],
   "id": "63477812e56a9b7e",
   "outputs": [],
   "execution_count": 4
  },
  {
   "metadata": {
    "ExecuteTime": {
     "end_time": "2024-11-05T09:10:05.955118Z",
     "start_time": "2024-11-05T09:10:05.952298Z"
    }
   },
   "cell_type": "code",
   "source": "",
   "id": "84d139760b26bf44",
   "outputs": [],
   "execution_count": 4
  },
  {
   "metadata": {
    "ExecuteTime": {
     "end_time": "2024-11-05T09:10:05.960129Z",
     "start_time": "2024-11-05T09:10:05.956760Z"
    }
   },
   "cell_type": "code",
   "source": "",
   "id": "25edf117e9f7b6e7",
   "outputs": [],
   "execution_count": 4
  },
  {
   "metadata": {
    "ExecuteTime": {
     "end_time": "2024-11-05T10:38:46.608934Z",
     "start_time": "2024-11-05T10:38:46.591228Z"
    }
   },
   "cell_type": "code",
   "source": [
    "from skimage import morphology\n",
    "from auxiliary.data import imaging\n",
    "from auxiliary.data.dataset_ht import HtDataset\n",
    "from filtering import cardiac_region as cr\n",
    "\n",
    "\n",
    "class NucleiDataset(tf.keras.utils.Sequence):\n",
    "    def __init__(self, specimen, tissue='myocardium', resize=(50, 50), verbose=1):\n",
    "        def parse_centroids(centroid):\n",
    "            centroid = centroid.replace('[', '').replace(']', '').split(',')\n",
    "            x, y, z = int(centroid[0]), int(centroid[1]), int(centroid[2])\n",
    "            return np.array([x, y, z])\n",
    "\n",
    "        self.N_CLASSES = 3\n",
    "        self.CLASS_NAMES = ['Prophase/Metaphase', 'Anaphase/Telophase', 'Interphase']\n",
    "        self.CLASSES = ['0', '1', '2']\n",
    "\n",
    "        self.specimen = specimen\n",
    "\n",
    "        self.batch_size = 32\n",
    "        self.resize = (50, 50)\n",
    "\n",
    "        ds = HtDataset()\n",
    "        self.features = ds.get_features(specimen, 'Nuclei', tissue, verbose=verbose)\n",
    "        self.cell_ids = self.features['cell_id']\n",
    "        centroids = self.features['centroids']\n",
    "        self.centroids = np.array([parse_centroids(c) for c in centroids])\n",
    "\n",
    "        self.seg_path, _ = ds.read_specimen(specimen, 'Nuclei', 'Segmentation', verbose=verbose)\n",
    "        self.raw_path, _ = ds.read_specimen(specimen, 'Nuclei', 'RawImages', verbose=verbose)\n",
    "\n",
    "        self.seg_img = imaging.read_image(self.seg_path, verbose=verbose)\n",
    "        self.raw_img = imaging.read_image(self.raw_path, verbose=verbose)\n",
    "\n",
    "        self.resize = resize\n",
    "\n",
    "        if verbose:\n",
    "            print(f'{bc.OKGREEN}Nuclei Dataset created successfully{bc.ENDC}')\n",
    "            print(f'\\t{bc.OKBLUE}Specimen: {bc.ENDC}{self.specimen}')\n",
    "            print(f'\\t{bc.OKBLUE}Tissue: {bc.ENDC}{tissue}')\n",
    "            print(f'\\t{bc.OKBLUE}Number of Nuclei: {bc.ENDC}{len(self.cell_ids)}')\n",
    "\n",
    "    def __get_image(self, idx):        \n",
    "        cell_id = self.cell_ids[idx]\n",
    "        c = self.centroids[idx]\n",
    "\n",
    "        # Crop cell region + dilatation\n",
    "        margins = cr.get_cell_margins(self.seg_img, cell_id, ma=0)\n",
    "        mask = self.seg_img[\n",
    "            c[0]-25: c[0]+25, c[1]-25: c[1]+25,\n",
    "            int(margins[0][2]): int(margins[1][2])\n",
    "        ]\n",
    "        mask = np.where(mask == cell_id, 255, 0).astype(np.uint8)\n",
    "        mask_dilated = morphology.opening(mask, morphology.ball(3))\n",
    "\n",
    "        # Remove empty z-slices\n",
    "        non_empty_slices = [\n",
    "            i for i in range(mask.shape[2]) \n",
    "            if np.any(mask[..., i])\n",
    "        ]\n",
    "        mask = mask[..., non_empty_slices]\n",
    "        mask_dilated = mask_dilated[..., non_empty_slices]\n",
    "\n",
    "        # Crop raw image\n",
    "        img_cell = self.raw_img[\n",
    "            c[0]-25: c[0]+25, c[1]-25: c[1]+25,\n",
    "            int(margins[0][2]): int(margins[1][2])\n",
    "        ]\n",
    "        img_cell = img_cell[..., non_empty_slices]\n",
    "\n",
    "        # Erse background\n",
    "        img_cell_no_bg = np.where(mask_dilated == 0, 0, img_cell)\n",
    "\n",
    "        # IQR filter ver intensity\n",
    "        img_cell_no_bg, intensities, thr = imaging.iqr_filter(\n",
    "            img_cell_no_bg, get_params=True, verbose=1\n",
    "        )\n",
    "        mask_dilated = mask_dilated[..., intensities > thr]\n",
    "        return img_cell_no_bg, mask_dilated\n",
    "\n",
    "    def __get_cell_id(self, idx):\n",
    "        return self.cell_ids[idx]\n",
    "\n",
    "    def __len__(self):\n",
    "        return len(self.cell_ids)\n",
    "\n",
    "    def __getitem__(self, item):\n",
    "        img, mask = self.__get_image(item)\n",
    "        return (\n",
    "            img.astype(np.uint8),\n",
    "            mask.astype(np.uint8),\n",
    "            self.__get_cell_id(item)\n",
    "        )"
   ],
   "id": "69402436c62aa60f",
   "outputs": [],
   "execution_count": 92
  },
  {
   "metadata": {
    "ExecuteTime": {
     "end_time": "2024-11-05T10:39:01.098644Z",
     "start_time": "2024-11-05T10:38:47.258481Z"
    }
   },
   "cell_type": "code",
   "source": [
    "s = '0404_E1'\n",
    "nuclei = NucleiDataset(s, 'myocardium') "
   ],
   "id": "348b5b2a0823867e",
   "outputs": [
    {
     "name": "stdout",
     "output_type": "stream",
     "text": [
      "\t\u001B[92mFound\u001B[0m: 20190404_E1_cell_properties_radiomics_Nuclei_myocardium.csv\n",
      "\t\u001B[92mFound\u001B[0m: 20190404_E1_mask_all.nii.gz\n",
      "\t\u001B[92mFound\u001B[0m: 20190404_E1_DAPI_decon_0.5.nii.gz\n",
      "\u001B[94mReading NIfTI\u001B[0m: /run/user/1003/gvfs/smb-share:server=tierra.cnic.es,share=sc/LAB_MT/LAB/Ignacio/Gr9/Segmentation/Nuclei/20190404_E1_mask_all.nii.gz\n",
      "\u001B[94mReading NIfTI\u001B[0m: /run/user/1003/gvfs/smb-share:server=tierra.cnic.es,share=sc/LAB_MT/LAB/Ignacio/Gr9/RawImages/Nuclei/20190404_E1_DAPI_decon_0.5.nii.gz\n",
      "\u001B[92mNuclei Dataset created successfully\u001B[0m\n",
      "\t\u001B[94mSpecimen: \u001B[0m0404_E1\n",
      "\t\u001B[94mTissue: \u001B[0mmyocardium\n",
      "\t\u001B[94mNumber of Nuclei: \u001B[0m2232\n"
     ]
    }
   ],
   "execution_count": 93
  },
  {
   "metadata": {
    "ExecuteTime": {
     "end_time": "2024-11-05T10:39:01.104216Z",
     "start_time": "2024-11-05T10:39:01.101309Z"
    }
   },
   "cell_type": "code",
   "source": "",
   "id": "918e6cdb7a7f15e3",
   "outputs": [],
   "execution_count": 93
  },
  {
   "metadata": {
    "ExecuteTime": {
     "end_time": "2024-11-05T10:39:27.896178Z",
     "start_time": "2024-11-05T10:39:19.236992Z"
    }
   },
   "cell_type": "code",
   "source": [
    "idx = 100\n",
    "\n",
    "img, mask, cell_id = nuclei[idx]\n",
    "print(cell_id, img.shape)"
   ],
   "id": "3a87a1a878f52d33",
   "outputs": [
    {
     "name": "stdout",
     "output_type": "stream",
     "text": [
      "\u001B[1mIQR Threshold\u001B[0m: 1.7643920000000002\n",
      "Removing 5 z-slices\n",
      "7221 (50, 50, 12)\n"
     ]
    }
   ],
   "execution_count": 95
  },
  {
   "metadata": {
    "ExecuteTime": {
     "end_time": "2024-11-05T10:39:51.774531Z",
     "start_time": "2024-11-05T10:39:43.402366Z"
    }
   },
   "cell_type": "code",
   "source": [
    "for z in range(img.shape[2]):\n",
    "    cv2.imshow(str(cell_id), mask[..., z].astype(np.uint8))\n",
    "    cv2.waitKey(0)\n",
    "    cv2.destroyAllWindows()"
   ],
   "id": "d75404f6eb18448f",
   "outputs": [],
   "execution_count": 97
  },
  {
   "metadata": {},
   "cell_type": "code",
   "outputs": [],
   "execution_count": null,
   "source": "",
   "id": "dc18fbf212cffb13"
  },
  {
   "metadata": {
    "ExecuteTime": {
     "end_time": "2024-11-05T10:51:52.187970Z",
     "start_time": "2024-11-05T10:51:43.083024Z"
    }
   },
   "cell_type": "code",
   "source": [
    "idx = 250 # 55 100\n",
    "img, mask, cell_id = nuclei[idx]"
   ],
   "id": "46d093b292651cc6",
   "outputs": [
    {
     "name": "stdout",
     "output_type": "stream",
     "text": [
      "\u001B[1mIQR Threshold\u001B[0m: 0.6741079999999999\n",
      "Removing 3 z-slices\n"
     ]
    }
   ],
   "execution_count": 119
  },
  {
   "metadata": {
    "ExecuteTime": {
     "end_time": "2024-11-05T10:41:20.401638Z",
     "start_time": "2024-11-05T10:41:20.262874Z"
    }
   },
   "cell_type": "code",
   "source": [
    "if img.ndim == 3:\n",
    "    n_slices = img.shape[2]\n",
    "\n",
    "    plt.figure(figsize=(15, 5))\n",
    "    img_norm = np.swapaxes(np.swapaxes([\n",
    "        cv2.normalize(img[..., z], None, 0, 255, cv2.NORM_MINMAX)\n",
    "        for z in range(n_slices)\n",
    "    ], 0, 1), 1, 2)\n",
    "    intensities = np.array([np.mean(img_norm[..., z]) for z in range(n_slices)])\n",
    "    intensities_norm = (intensities - np.min(intensities)) / (np.max(intensities) - np.min(intensities))\n",
    "    \n",
    "    areas = np.array([np.sum(mask[..., z]) for z in range(n_slices)])\n",
    "    areas_norm = (areas - np.min(areas)) / (np.max(areas) - np.min(areas))\n",
    "    \n",
    "    plt.plot(intensities_norm)\n",
    "    plt.plot(areas_norm)"
   ],
   "id": "cb135b16ed5b0818",
   "outputs": [
    {
     "data": {
      "text/plain": [
       "<Figure size 1500x500 with 1 Axes>"
      ],
      "image/png": "[encoded data removed]"
     },
     "metadata": {},
     "output_type": "display_data"
    }
   ],
   "execution_count": 102
  },
  {
   "metadata": {
    "jupyter": {
     "is_executing": true
    },
    "ExecuteTime": {
     "start_time": "2024-11-05T10:55:47.098861Z"
    }
   },
   "cell_type": "code",
   "source": [
    "idx = 250 # 55 100\n",
    "img, mask, cell_id = nuclei[idx]"
   ],
   "id": "2bf4e9f95840c172",
   "outputs": [],
   "execution_count": null
  },
  {
   "metadata": {
    "ExecuteTime": {
     "end_time": "2024-11-05T11:05:17.550925Z",
     "start_time": "2024-11-05T11:05:16.477470Z"
    }
   },
   "cell_type": "code",
   "source": [
    "\n",
    "if img.ndim == 3:\n",
    "    n_slices = img.shape[2]\n",
    "    \n",
    "    areas = np.array([np.sum(mask[..., z]) for z in range(n_slices)])\n",
    "    weights = (areas - np.min(areas)) / (np.max(areas) - np.min(areas))\n",
    "    weights /= np.sum(weights)\n",
    "    \n",
    "    preds = []\n",
    "    for z in range(n_slices):\n",
    "        aux = cv2.cvtColor(img[..., z], cv2.COLOR_GRAY2RGB)[np.newaxis, ...]\n",
    "        aux = tf.image.resize(aux, (100, 100))\n",
    "        preds.append(model.predict_proba(aux)[0])\n",
    "        \n",
    "    preds = np.array(preds)\n",
    "\n",
    "    # Majority voting with weights\n",
    "    pred = np.sum(preds * weights[:, np.newaxis], axis=0)\n",
    "    pred = np.argmax(pred)"
   ],
   "id": "aa0411cb76b67031",
   "outputs": [
    {
     "name": "stdout",
     "output_type": "stream",
     "text": [
      "[[4.4107350e-11 4.2747605e-08 1.0000000e+00]\n",
      " [8.8814440e-06 1.4223719e-01 8.5775393e-01]\n",
      " [5.6358768e-11 9.5087479e-08 9.9999988e-01]\n",
      " [4.9139572e-08 6.8485051e-02 9.3151486e-01]\n",
      " [1.7472154e-19 7.8205414e-10 1.0000000e+00]\n",
      " [1.2199176e-12 2.0955083e-06 9.9999785e-01]\n",
      " [7.7947572e-15 1.2787390e-07 9.9999988e-01]\n",
      " [8.2202391e-08 1.7367794e-05 9.9998260e-01]\n",
      " [7.4095724e-06 1.7313197e-01 8.2686055e-01]\n",
      " [4.8524615e-01 5.0341541e-01 1.1338424e-02]\n",
      " [2.1427615e-11 7.3526561e-04 9.9926478e-01]\n",
      " [8.8339012e-22 7.1060510e-12 1.0000000e+00]\n",
      " [3.0538184e-25 7.1927861e-17 1.0000000e+00]\n",
      " [1.5579809e-21 2.3000053e-17 1.0000000e+00]\n",
      " [9.1541141e-14 1.7204765e-10 1.0000000e+00]]\n",
      "[0.         0.00555997 0.01350278 0.03733122 0.07386815 0.09451946\n",
      " 0.11517077 0.12946783 0.13185068 0.12390786 0.10007943 0.08260524\n",
      " 0.05162828 0.02779984 0.0127085 ]\n",
      "[0.06012685 0.08862821 0.85124493]\n",
      "2\n"
     ]
    }
   ],
   "execution_count": 126
  },
  {
   "metadata": {},
   "cell_type": "code",
   "outputs": [],
   "execution_count": null,
   "source": "",
   "id": "763f1429d62419a9"
  },
  {
   "metadata": {},
   "cell_type": "code",
   "outputs": [],
   "execution_count": null,
   "source": "",
   "id": "d99a229d43623c17"
  },
  {
   "metadata": {},
   "cell_type": "code",
   "outputs": [],
   "execution_count": null,
   "source": [
    "\n",
    "\n",
    "model = CNN(\n",
    "    base=tf.keras.applications.VGG16,\n",
    "    input_shape=INPUT_SHAPE,\n",
    "    n_classes=3\n",
    ")\n",
    "model.build_top(activation='softmax', b_type='CAM', pooling=ExtendedLSEPooling)\n",
    "model.compile(\n",
    "    lr=.001,\n",
    "    loss=extended_w_cel_loss()\n",
    ")\n",
    "\n",
    "model.load('../models/cellular_division_models/vgg16_nuclei_under.h5')"
   ],
   "id": "a6ccddb70e936bce"
  }
 ],
 "metadata": {
  "kernelspec": {
   "display_name": "Python 3",
   "language": "python",
   "name": "python3"
  },
  "language_info": {
   "codemirror_mode": {
    "name": "ipython",
    "version": 2
   },
   "file_extension": ".py",
   "mimetype": "text/x-python",
   "name": "python",
   "nbconvert_exporter": "python",
   "pygments_lexer": "ipython2",
   "version": "2.7.6"
  }
 },
 "nbformat": 4,
 "nbformat_minor": 5
}
