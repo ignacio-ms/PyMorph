{
 "cells": [
  {
   "cell_type": "code",
   "id": "initial_id",
   "metadata": {
    "collapsed": true,
    "ExecuteTime": {
     "end_time": "2024-10-06T10:17:58.383106Z",
     "start_time": "2024-10-06T10:17:52.462659Z"
    }
   },
   "source": [
    "import numpy as np\n",
    "import matplotlib.pyplot as plt\n",
    "import pandas as pd\n",
    "\n",
    "from auxiliary import values as v\n",
    "from auxiliary.data import imaging\n",
    "from auxiliary.utils.timer import LoadingBar\n",
    "\n",
    "from nuclei_segmentation import my_cellpose\n",
    "from nuclei_segmentation.quality_control.model_tester import ModelTester"
   ],
   "outputs": [
    {
     "name": "stdout",
     "output_type": "stream",
     "text": [
      "GPU activated: False\n"
     ]
    }
   ],
   "execution_count": 1
  },
  {
   "metadata": {
    "ExecuteTime": {
     "end_time": "2024-10-06T10:17:58.389949Z",
     "start_time": "2024-10-06T10:17:58.385428Z"
    }
   },
   "cell_type": "code",
   "source": [
    "v.data_path = '/mnt/c/Users/ignac/OneDrive/Nacho/CNIC/TFM/Data/'\n",
    "\n",
    "img_path = (\n",
    "        v.data_path \n",
    "        + 'Gr1/RawImages/Nuclei/QC_CROP/20190208_E2_DAPI_decon_0.5_crop.nii.gz'\n",
    ")"
   ],
   "id": "208203db7dd99579",
   "outputs": [],
   "execution_count": 2
  },
  {
   "metadata": {},
   "cell_type": "markdown",
   "source": "Grid search into preprocessing steps ",
   "id": "d7697f3b3a2855bf"
  },
  {
   "metadata": {
    "ExecuteTime": {
     "end_time": "2024-10-06T10:17:58.403668Z",
     "start_time": "2024-10-06T10:17:58.391373Z"
    }
   },
   "cell_type": "code",
   "source": [
    "from itertools import permutations, chain\n",
    "\n",
    "\n",
    "# Cellpose params\n",
    "steps_type = ['2D', '3D']\n",
    "steps_thr = list(np.round(np.linspace(.2, .8, 8), 1))\n",
    "steps_prob_thr = list(np.round(np.linspace(0, .5, 5), 1))\n",
    "\n",
    "# Preprocessing steps\n",
    "normalization_methods = ['norm_minmax', 'norm_percentile']\n",
    "pre_steps_top = ['isotropy']\n",
    "pre_steps_bottom = [\n",
    "    'bilateral', \n",
    "    'anisodiff'\n",
    "]\n",
    "\n",
    "pre_steps_permutations = list(chain(*[\n",
    "    permutations(pre_steps_bottom, r) \n",
    "    for r in range(1, len(pre_steps_bottom) + 1)\n",
    "]))\n",
    "\n",
    "# Postprocessing steps\n",
    "post_steps = [\n",
    "    # 'remove_small_objects',\n",
    "    '3d_connected_component_analysis',\n",
    "    'merge_by_volume',\n",
    "    'clean_boundaries_morphology',\n",
    "]\n",
    "\n",
    "post_steps_permutations = list(chain(*[\n",
    "    permutations(post_steps, r) \n",
    "    for r in range(1, len(post_steps) + 1)\n",
    "])) + [()]\n",
    "\n",
    "pipelines_dict = {}\n",
    "\n",
    "# Create pipelines for each type (2D/3D)\n",
    "for step in steps_type:\n",
    "    # Apply threshold only for 2D\n",
    "    if step == '2D':\n",
    "        for thr in steps_thr:\n",
    "            for norm_method in normalization_methods:\n",
    "                for i, pre_steps in enumerate(pre_steps_permutations):\n",
    "                    for j, post_steps in enumerate(post_steps_permutations):\n",
    "                        pipeline_pre = pre_steps_top + [norm_method] + list(pre_steps)\n",
    "                        pipeline = pipeline_pre + list(post_steps)\n",
    "                        \n",
    "                        # Include threshold for 2D pipelines\n",
    "                        name = f\"pipeline_{step}_thr_{thr}_{norm_method}_{i}_{j}\"\n",
    "                        pipelines_dict[name] = {\n",
    "                            'pipeline': pipeline,\n",
    "                            'type': step,\n",
    "                            'threshold': thr\n",
    "                        }\n",
    "    else:  # For 3D pipelines, ignore thresholds\n",
    "        for norm_method in normalization_methods:\n",
    "            for prob_t in steps_prob_thr:\n",
    "                for i, pre_steps in enumerate(pre_steps_permutations):\n",
    "                    for j, post_steps in enumerate(post_steps_permutations):\n",
    "                        pipeline_pre = pre_steps_top + [norm_method] + list(pre_steps)\n",
    "                        pipeline = pipeline_pre + list(post_steps)\n",
    "                        \n",
    "                        # No threshold for 3D pipelines\n",
    "                        name = f\"pipeline_{step}_prob{prob_t}_{norm_method}_{i}_{j}\"\n",
    "                        pipelines_dict[name] = {\n",
    "                            'pipeline': pipeline,\n",
    "                            'type': step,\n",
    "                            'prob_threshold': prob_t\n",
    "                        }\n",
    "\n",
    "print('Total pipelines:', len(pipelines_dict))"
   ],
   "id": "ce211f6b3d8fb2d3",
   "outputs": [
    {
     "name": "stdout",
     "output_type": "stream",
     "text": [
      "Total pipelines: 1536\n"
     ]
    }
   ],
   "execution_count": 3
  },
  {
   "metadata": {
    "ExecuteTime": {
     "end_time": "2024-10-06T10:17:58.474228Z",
     "start_time": "2024-10-06T10:17:58.405535Z"
    }
   },
   "cell_type": "code",
   "source": [
    "# Print all pipelines\n",
    "for name, config in pipelines_dict.items():\n",
    "    print(name, config)"
   ],
   "id": "4f257f29abc50d4e",
   "outputs": [
    {
     "name": "stdout",
     "output_type": "stream",
     "text": [
      "pipeline_2D_thr_0.2_norm_minmax_0_0 {'pipeline': ['isotropy', 'norm_minmax', 'bilateral', '3d_connected_component_analysis'], 'type': '2D', 'threshold': 0.2}\n",
      "pipeline_2D_thr_0.2_norm_minmax_0_1 {'pipeline': ['isotropy', 'norm_minmax', 'bilateral', 'merge_by_volume'], 'type': '2D', 'threshold': 0.2}\n",
      "pipeline_2D_thr_0.2_norm_minmax_0_2 {'pipeline': ['isotropy', 'norm_minmax', 'bilateral', 'clean_boundaries_morphology'], 'type': '2D', 'threshold': 0.2}\n",
      "pipeline_2D_thr_0.2_norm_minmax_0_3 {'pipeline': ['isotropy', 'norm_minmax', 'bilateral', '3d_connected_component_analysis', 'merge_by_volume'], 'type': '2D', 'threshold': 0.2}\n",
      "pipeline_2D_thr_0.2_norm_minmax_0_4 {'pipeline': ['isotropy', 'norm_minmax', 'bilateral', '3d_connected_component_analysis', 'clean_boundaries_morphology'], 'type': '2D', 'threshold': 0.2}\n",
      "pipeline_2D_thr_0.2_norm_minmax_0_5 {'pipeline': ['isotropy', 'norm_minmax', 'bilateral', 'merge_by_volume', '3d_connected_component_analysis'], 'type': '2D', 'threshold': 0.2}\n",
      "pipeline_2D_thr_0.2_norm_minmax_0_6 {'pipeline': ['isotropy', 'norm_minmax', 'bilateral', 'merge_by_volume', 'clean_boundaries_morphology'], 'type': '2D', 'threshold': 0.2}\n",
      "pipeline_2D_thr_0.2_norm_minmax_0_7 {'pipeline': ['isotropy', 'norm_minmax', 'bilateral', 'clean_boundaries_morphology', '3d_connected_component_analysis'], 'type': '2D', 'threshold': 0.2}\n",
      "pipeline_2D_thr_0.2_norm_minmax_0_8 {'pipeline': ['isotropy', 'norm_minmax', 'bilateral', 'clean_boundaries_morphology', 'merge_by_volume'], 'type': '2D', 'threshold': 0.2}\n",
      "pipeline_2D_thr_0.2_norm_minmax_0_9 {'pipeline': ['isotropy', 'norm_minmax', 'bilateral', '3d_connected_component_analysis', 'merge_by_volume', 'clean_boundaries_morphology'], 'type': '2D', 'threshold': 0.2}\n",
      "pipeline_2D_thr_0.2_norm_minmax_0_10 {'pipeline': ['isotropy', 'norm_minmax', 'bilateral', '3d_connected_component_analysis', 'clean_boundaries_morphology', 'merge_by_volume'], 'type': '2D', 'threshold': 0.2}\n",
      "pipeline_2D_thr_0.2_norm_minmax_0_11 {'pipeline': ['isotropy', 'norm_minmax', 'bilateral', 'merge_by_volume', '3d_connected_component_analysis', 'clean_boundaries_morphology'], 'type': '2D', 'threshold': 0.2}\n",
      "pipeline_2D_thr_0.2_norm_minmax_0_12 {'pipeline': ['isotropy', 'norm_minmax', 'bilateral', 'merge_by_volume', 'clean_boundaries_morphology', '3d_connected_component_analysis'], 'type': '2D', 'threshold': 0.2}\n",
      "pipeline_2D_thr_0.2_norm_minmax_0_13 {'pipeline': ['isotropy', 'norm_minmax', 'bilateral', 'clean_boundaries_morphology', '3d_connected_component_analysis', 'merge_by_volume'], 'type': '2D', 'threshold': 0.2}\n",
      "pipeline_2D_thr_0.2_norm_minmax_0_14 {'pipeline': ['isotropy', 'norm_minmax', 'bilateral', 'clean_boundaries_morphology', 'merge_by_volume', '3d_connected_component_analysis'], 'type': '2D', 'threshold': 0.2}\n",
      "pipeline_2D_thr_0.2_norm_minmax_0_15 {'pipeline': ['isotropy', 'norm_minmax', 'bilateral'], 'type': '2D', 'threshold': 0.2}\n",
      "pipeline_2D_thr_0.2_norm_minmax_1_0 {'pipeline': ['isotropy', 'norm_minmax', 'anisodiff', '3d_connected_component_analysis'], 'type': '2D', 'threshold': 0.2}\n",
      "pipeline_2D_thr_0.2_norm_minmax_1_1 {'pipeline': ['isotropy', 'norm_minmax', 'anisodiff', 'merge_by_volume'], 'type': '2D', 'threshold': 0.2}\n",
      "pipeline_2D_thr_0.2_norm_minmax_1_2 {'pipeline': ['isotropy', 'norm_minmax', 'anisodiff', 'clean_boundaries_morphology'], 'type': '2D', 'threshold': 0.2}\n",
      "pipeline_2D_thr_0.2_norm_minmax_1_3 {'pipeline': ['isotropy', 'norm_minmax', 'anisodiff', '3d_connected_component_analysis', 'merge_by_volume'], 'type': '2D', 'threshold': 0.2}\n",
      "pipeline_2D_thr_0.2_norm_minmax_1_4 {'pipeline': ['isotropy', 'norm_minmax', 'anisodiff', '3d_connected_component_analysis', 'clean_boundaries_morphology'], 'type': '2D', 'threshold': 0.2}\n",
      "pipeline_2D_thr_0.2_norm_minmax_1_5 {'pipeline': ['isotropy', 'norm_minmax', 'anisodiff', 'merge_by_volume', '3d_connected_component_analysis'], 'type': '2D', 'threshold': 0.2}\n",
      "pipeline_2D_thr_0.2_norm_minmax_1_6 {'pipeline': ['isotropy', 'norm_minmax', 'anisodiff', 'merge_by_volume', 'clean_boundaries_morphology'], 'type': '2D', 'threshold': 0.2}\n",
      "pipeline_2D_thr_0.2_norm_minmax_1_7 {'pipeline': ['isotropy', 'norm_minmax', 'anisodiff', 'clean_boundaries_morphology', '3d_connected_component_analysis'], 'type': '2D', 'threshold': 0.2}\n",
      "pipeline_2D_thr_0.2_norm_minmax_1_8 {'pipeline': ['isotropy', 'norm_minmax', 'anisodiff', 'clean_boundaries_morphology', 'merge_by_volume'], 'type': '2D', 'threshold': 0.2}\n",
      "pipeline_2D_thr_0.2_norm_minmax_1_9 {'pipeline': ['isotropy', 'norm_minmax', 'anisodiff', '3d_connected_component_analysis', 'merge_by_volume', 'clean_boundaries_morphology'], 'type': '2D', 'threshold': 0.2}\n",
      "pipeline_2D_thr_0.2_norm_minmax_1_10 {'pipeline': ['isotropy', 'norm_minmax', 'anisodiff', '3d_connected_component_analysis', 'clean_boundaries_morphology', 'merge_by_volume'], 'type': '2D', 'threshold': 0.2}\n",
      "pipeline_2D_thr_0.2_norm_minmax_1_11 {'pipeline': ['isotropy', 'norm_minmax', 'anisodiff', 'merge_by_volume', '3d_connected_component_analysis', 'clean_boundaries_morphology'], 'type': '2D', 'threshold': 0.2}\n",
      "pipeline_2D_thr_0.2_norm_minmax_1_12 {'pipeline': ['isotropy', 'norm_minmax', 'anisodiff', 'merge_by_volume', 'clean_boundaries_morphology', '3d_connected_component_analysis'], 'type': '2D', 'threshold': 0.2}\n",
      "pipeline_2D_thr_0.2_norm_minmax_1_13 {'pipeline': ['isotropy', 'norm_minmax', 'anisodiff', 'clean_boundaries_morphology', '3d_connected_component_analysis', 'merge_by_volume'], 'type': '2D', 'threshold': 0.2}\n",
      "pipeline_2D_thr_0.2_norm_minmax_1_14 {'pipeline': ['isotropy', 'norm_minmax', 'anisodiff', 'clean_boundaries_morphology', 'merge_by_volume', '3d_connected_component_analysis'], 'type': '2D', 'threshold': 0.2}\n",
      "pipeline_2D_thr_0.2_norm_minmax_1_15 {'pipeline': ['isotropy', 'norm_minmax', 'anisodiff'], 'type': '2D', 'threshold': 0.2}\n",
      "pipeline_2D_thr_0.2_norm_minmax_2_0 {'pipeline': ['isotropy', 'norm_minmax', 'bilateral', 'anisodiff', '3d_connected_component_analysis'], 'type': '2D', 'threshold': 0.2}\n",
      "pipeline_2D_thr_0.2_norm_minmax_2_1 {'pipeline': ['isotropy', 'norm_minmax', 'bilateral', 'anisodiff', 'merge_by_volume'], 'type': '2D', 'threshold': 0.2}\n",
      "pipeline_2D_thr_0.2_norm_minmax_2_2 {'pipeline': ['isotropy', 'norm_minmax', 'bilateral', 'anisodiff', 'clean_boundaries_morphology'], 'type': '2D', 'threshold': 0.2}\n",
      "pipeline_2D_thr_0.2_norm_minmax_2_3 {'pipeline': ['isotropy', 'norm_minmax', 'bilateral', 'anisodiff', '3d_connected_component_analysis', 'merge_by_volume'], 'type': '2D', 'threshold': 0.2}\n",
      "pipeline_2D_thr_0.2_norm_minmax_2_4 {'pipeline': ['isotropy', 'norm_minmax', 'bilateral', 'anisodiff', '3d_connected_component_analysis', 'clean_boundaries_morphology'], 'type': '2D', 'threshold': 0.2}\n",
      "pipeline_2D_thr_0.2_norm_minmax_2_5 {'pipeline': ['isotropy', 'norm_minmax', 'bilateral', 'anisodiff', 'merge_by_volume', '3d_connected_component_analysis'], 'type': '2D', 'threshold': 0.2}\n",
      "pipeline_2D_thr_0.2_norm_minmax_2_6 {'pipeline': ['isotropy', 'norm_minmax', 'bilateral', 'anisodiff', 'merge_by_volume', 'clean_boundaries_morphology'], 'type': '2D', 'threshold': 0.2}\n",
      "pipeline_2D_thr_0.2_norm_minmax_2_7 {'pipeline': ['isotropy', 'norm_minmax', 'bilateral', 'anisodiff', 'clean_boundaries_morphology', '3d_connected_component_analysis'], 'type': '2D', 'threshold': 0.2}\n",
      "pipeline_2D_thr_0.2_norm_minmax_2_8 {'pipeline': ['isotropy', 'norm_minmax', 'bilateral', 'anisodiff', 'clean_boundaries_morphology', 'merge_by_volume'], 'type': '2D', 'threshold': 0.2}\n",
      "pipeline_2D_thr_0.2_norm_minmax_2_9 {'pipeline': ['isotropy', 'norm_minmax', 'bilateral', 'anisodiff', '3d_connected_component_analysis', 'merge_by_volume', 'clean_boundaries_morphology'], 'type': '2D', 'threshold': 0.2}\n",
      "pipeline_2D_thr_0.2_norm_minmax_2_10 {'pipeline': ['isotropy', 'norm_minmax', 'bilateral', 'anisodiff', '3d_connected_component_analysis', 'clean_boundaries_morphology', 'merge_by_volume'], 'type': '2D', 'threshold': 0.2}\n",
      "pipeline_2D_thr_0.2_norm_minmax_2_11 {'pipeline': ['isotropy', 'norm_minmax', 'bilateral', 'anisodiff', 'merge_by_volume', '3d_connected_component_analysis', 'clean_boundaries_morphology'], 'type': '2D', 'threshold': 0.2}\n",
      "pipeline_2D_thr_0.2_norm_minmax_2_12 {'pipeline': ['isotropy', 'norm_minmax', 'bilateral', 'anisodiff', 'merge_by_volume', 'clean_boundaries_morphology', '3d_connected_component_analysis'], 'type': '2D', 'threshold': 0.2}\n",
      "pipeline_2D_thr_0.2_norm_minmax_2_13 {'pipeline': ['isotropy', 'norm_minmax', 'bilateral', 'anisodiff', 'clean_boundaries_morphology', '3d_connected_component_analysis', 'merge_by_volume'], 'type': '2D', 'threshold': 0.2}\n",
      "pipeline_2D_thr_0.2_norm_minmax_2_14 {'pipeline': ['isotropy', 'norm_minmax', 'bilateral', 'anisodiff', 'clean_boundaries_morphology', 'merge_by_volume', '3d_connected_component_analysis'], 'type': '2D', 'threshold': 0.2}\n",
      "pipeline_2D_thr_0.2_norm_minmax_2_15 {'pipeline': ['isotropy', 'norm_minmax', 'bilateral', 'anisodiff'], 'type': '2D', 'threshold': 0.2}\n",
      "pipeline_2D_thr_0.2_norm_minmax_3_0 {'pipeline': ['isotropy', 'norm_minmax', 'anisodiff', 'bilateral', '3d_connected_component_analysis'], 'type': '2D', 'threshold': 0.2}\n",
      "pipeline_2D_thr_0.2_norm_minmax_3_1 {'pipeline': ['isotropy', 'norm_minmax', 'anisodiff', 'bilateral', 'merge_by_volume'], 'type': '2D', 'threshold': 0.2}\n",
      "pipeline_2D_thr_0.2_norm_minmax_3_2 {'pipeline': ['isotropy', 'norm_minmax', 'anisodiff', 'bilateral', 'clean_boundaries_morphology'], 'type': '2D', 'threshold': 0.2}\n",
      "pipeline_2D_thr_0.2_norm_minmax_3_3 {'pipeline': ['isotropy', 'norm_minmax', 'anisodiff', 'bilateral', '3d_connected_component_analysis', 'merge_by_volume'], 'type': '2D', 'threshold': 0.2}\n",
      "pipeline_2D_thr_0.2_norm_minmax_3_4 {'pipeline': ['isotropy', 'norm_minmax', 'anisodiff', 'bilateral', '3d_connected_component_analysis', 'clean_boundaries_morphology'], 'type': '2D', 'threshold': 0.2}\n",
      "pipeline_2D_thr_0.2_norm_minmax_3_5 {'pipeline': ['isotropy', 'norm_minmax', 'anisodiff', 'bilateral', 'merge_by_volume', '3d_connected_component_analysis'], 'type': '2D', 'threshold': 0.2}\n",
      "pipeline_2D_thr_0.2_norm_minmax_3_6 {'pipeline': ['isotropy', 'norm_minmax', 'anisodiff', 'bilateral', 'merge_by_volume', 'clean_boundaries_morphology'], 'type': '2D', 'threshold': 0.2}\n",
      "pipeline_2D_thr_0.2_norm_minmax_3_7 {'pipeline': ['isotropy', 'norm_minmax', 'anisodiff', 'bilateral', 'clean_boundaries_morphology', '3d_connected_component_analysis'], 'type': '2D', 'threshold': 0.2}\n",
      "pipeline_2D_thr_0.2_norm_minmax_3_8 {'pipeline': ['isotropy', 'norm_minmax', 'anisodiff', 'bilateral', 'clean_boundaries_morphology', 'merge_by_volume'], 'type': '2D', 'threshold': 0.2}\n",
      "pipeline_2D_thr_0.2_norm_minmax_3_9 {'pipeline': ['isotropy', 'norm_minmax', 'anisodiff', 'bilateral', '3d_connected_component_analysis', 'merge_by_volume', 'clean_boundaries_morphology'], 'type': '2D', 'threshold': 0.2}\n",
      "pipeline_2D_thr_0.2_norm_minmax_3_10 {'pipeline': ['isotropy', 'norm_minmax', 'anisodiff', 'bilateral', '3d_connected_component_analysis', 'clean_boundaries_morphology', 'merge_by_volume'], 'type': '2D', 'threshold': 0.2}\n",
      "pipeline_2D_thr_0.2_norm_minmax_3_11 {'pipeline': ['isotropy', 'norm_minmax', 'anisodiff', 'bilateral', 'merge_by_volume', '3d_connected_component_analysis', 'clean_boundaries_morphology'], 'type': '2D', 'threshold': 0.2}\n",
      "pipeline_2D_thr_0.2_norm_minmax_3_12 {'pipeline': ['isotropy', 'norm_minmax', 'anisodiff', 'bilateral', 'merge_by_volume', 'clean_boundaries_morphology', '3d_connected_component_analysis'], 'type': '2D', 'threshold': 0.2}\n",
      "pipeline_2D_thr_0.2_norm_minmax_3_13 {'pipeline': ['isotropy', 'norm_minmax', 'anisodiff', 'bilateral', 'clean_boundaries_morphology', '3d_connected_component_analysis', 'merge_by_volume'], 'type': '2D', 'threshold': 0.2}\n",
      "pipeline_2D_thr_0.2_norm_minmax_3_14 {'pipeline': ['isotropy', 'norm_minmax', 'anisodiff', 'bilateral', 'clean_boundaries_morphology', 'merge_by_volume', '3d_connected_component_analysis'], 'type': '2D', 'threshold': 0.2}\n",
      "pipeline_2D_thr_0.2_norm_minmax_3_15 {'pipeline': ['isotropy', 'norm_minmax', 'anisodiff', 'bilateral'], 'type': '2D', 'threshold': 0.2}\n",
      "pipeline_2D_thr_0.2_norm_percentile_0_0 {'pipeline': ['isotropy', 'norm_percentile', 'bilateral', '3d_connected_component_analysis'], 'type': '2D', 'threshold': 0.2}\n",
      "pipeline_2D_thr_0.2_norm_percentile_0_1 {'pipeline': ['isotropy', 'norm_percentile', 'bilateral', 'merge_by_volume'], 'type': '2D', 'threshold': 0.2}\n",
      "pipeline_2D_thr_0.2_norm_percentile_0_2 {'pipeline': ['isotropy', 'norm_percentile', 'bilateral', 'clean_boundaries_morphology'], 'type': '2D', 'threshold': 0.2}\n",
      "pipeline_2D_thr_0.2_norm_percentile_0_3 {'pipeline': ['isotropy', 'norm_percentile', 'bilateral', '3d_connected_component_analysis', 'merge_by_volume'], 'type': '2D', 'threshold': 0.2}\n",
      "pipeline_2D_thr_0.2_norm_percentile_0_4 {'pipeline': ['isotropy', 'norm_percentile', 'bilateral', '3d_connected_component_analysis', 'clean_boundaries_morphology'], 'type': '2D', 'threshold': 0.2}\n",
      "pipeline_2D_thr_0.2_norm_percentile_0_5 {'pipeline': ['isotropy', 'norm_percentile', 'bilateral', 'merge_by_volume', '3d_connected_component_analysis'], 'type': '2D', 'threshold': 0.2}\n",
      "pipeline_2D_thr_0.2_norm_percentile_0_6 {'pipeline': ['isotropy', 'norm_percentile', 'bilateral', 'merge_by_volume', 'clean_boundaries_morphology'], 'type': '2D', 'threshold': 0.2}\n",
      "pipeline_2D_thr_0.2_norm_percentile_0_7 {'pipeline': ['isotropy', 'norm_percentile', 'bilateral', 'clean_boundaries_morphology', '3d_connected_component_analysis'], 'type': '2D', 'threshold': 0.2}\n",
      "pipeline_2D_thr_0.2_norm_percentile_0_8 {'pipeline': ['isotropy', 'norm_percentile', 'bilateral', 'clean_boundaries_morphology', 'merge_by_volume'], 'type': '2D', 'threshold': 0.2}\n",
      "pipeline_2D_thr_0.2_norm_percentile_0_9 {'pipeline': ['isotropy', 'norm_percentile', 'bilateral', '3d_connected_component_analysis', 'merge_by_volume', 'clean_boundaries_morphology'], 'type': '2D', 'threshold': 0.2}\n",
      "pipeline_2D_thr_0.2_norm_percentile_0_10 {'pipeline': ['isotropy', 'norm_percentile', 'bilateral', '3d_connected_component_analysis', 'clean_boundaries_morphology', 'merge_by_volume'], 'type': '2D', 'threshold': 0.2}\n",
      "pipeline_2D_thr_0.2_norm_percentile_0_11 {'pipeline': ['isotropy', 'norm_percentile', 'bilateral', 'merge_by_volume', '3d_connected_component_analysis', 'clean_boundaries_morphology'], 'type': '2D', 'threshold': 0.2}\n",
      "pipeline_2D_thr_0.2_norm_percentile_0_12 {'pipeline': ['isotropy', 'norm_percentile', 'bilateral', 'merge_by_volume', 'clean_boundaries_morphology', '3d_connected_component_analysis'], 'type': '2D', 'threshold': 0.2}\n",
      "pipeline_2D_thr_0.2_norm_percentile_0_13 {'pipeline': ['isotropy', 'norm_percentile', 'bilateral', 'clean_boundaries_morphology', '3d_connected_component_analysis', 'merge_by_volume'], 'type': '2D', 'threshold': 0.2}\n",
      "pipeline_2D_thr_0.2_norm_percentile_0_14 {'pipeline': ['isotropy', 'norm_percentile', 'bilateral', 'clean_boundaries_morphology', 'merge_by_volume', '3d_connected_component_analysis'], 'type': '2D', 'threshold': 0.2}\n",
      "pipeline_2D_thr_0.2_norm_percentile_0_15 {'pipeline': ['isotropy', 'norm_percentile', 'bilateral'], 'type': '2D', 'threshold': 0.2}\n",
      "pipeline_2D_thr_0.2_norm_percentile_1_0 {'pipeline': ['isotropy', 'norm_percentile', 'anisodiff', '3d_connected_component_analysis'], 'type': '2D', 'threshold': 0.2}\n",
      "pipeline_2D_thr_0.2_norm_percentile_1_1 {'pipeline': ['isotropy', 'norm_percentile', 'anisodiff', 'merge_by_volume'], 'type': '2D', 'threshold': 0.2}\n",
      "pipeline_2D_thr_0.2_norm_percentile_1_2 {'pipeline': ['isotropy', 'norm_percentile', 'anisodiff', 'clean_boundaries_morphology'], 'type': '2D', 'threshold': 0.2}\n",
      "pipeline_2D_thr_0.2_norm_percentile_1_3 {'pipeline': ['isotropy', 'norm_percentile', 'anisodiff', '3d_connected_component_analysis', 'merge_by_volume'], 'type': '2D', 'threshold': 0.2}\n",
      "pipeline_2D_thr_0.2_norm_percentile_1_4 {'pipeline': ['isotropy', 'norm_percentile', 'anisodiff', '3d_connected_component_analysis', 'clean_boundaries_morphology'], 'type': '2D', 'threshold': 0.2}\n",
      "pipeline_2D_thr_0.2_norm_percentile_1_5 {'pipeline': ['isotropy', 'norm_percentile', 'anisodiff', 'merge_by_volume', '3d_connected_component_analysis'], 'type': '2D', 'threshold': 0.2}\n",
      "pipeline_2D_thr_0.2_norm_percentile_1_6 {'pipeline': ['isotropy', 'norm_percentile', 'anisodiff', 'merge_by_volume', 'clean_boundaries_morphology'], 'type': '2D', 'threshold': 0.2}\n",
      "pipeline_2D_thr_0.2_norm_percentile_1_7 {'pipeline': ['isotropy', 'norm_percentile', 'anisodiff', 'clean_boundaries_morphology', '3d_connected_component_analysis'], 'type': '2D', 'threshold': 0.2}\n",
      "pipeline_2D_thr_0.2_norm_percentile_1_8 {'pipeline': ['isotropy', 'norm_percentile', 'anisodiff', 'clean_boundaries_morphology', 'merge_by_volume'], 'type': '2D', 'threshold': 0.2}\n",
      "pipeline_2D_thr_0.2_norm_percentile_1_9 {'pipeline': ['isotropy', 'norm_percentile', 'anisodiff', '3d_connected_component_analysis', 'merge_by_volume', 'clean_boundaries_morphology'], 'type': '2D', 'threshold': 0.2}\n",
      "pipeline_2D_thr_0.2_norm_percentile_1_10 {'pipeline': ['isotropy', 'norm_percentile', 'anisodiff', '3d_connected_component_analysis', 'clean_boundaries_morphology', 'merge_by_volume'], 'type': '2D', 'threshold': 0.2}\n",
      "pipeline_2D_thr_0.2_norm_percentile_1_11 {'pipeline': ['isotropy', 'norm_percentile', 'anisodiff', 'merge_by_volume', '3d_connected_component_analysis', 'clean_boundaries_morphology'], 'type': '2D', 'threshold': 0.2}\n",
      "pipeline_2D_thr_0.2_norm_percentile_1_12 {'pipeline': ['isotropy', 'norm_percentile', 'anisodiff', 'merge_by_volume', 'clean_boundaries_morphology', '3d_connected_component_analysis'], 'type': '2D', 'threshold': 0.2}\n",
      "pipeline_2D_thr_0.2_norm_percentile_1_13 {'pipeline': ['isotropy', 'norm_percentile', 'anisodiff', 'clean_boundaries_morphology', '3d_connected_component_analysis', 'merge_by_volume'], 'type': '2D', 'threshold': 0.2}\n",
      "pipeline_2D_thr_0.2_norm_percentile_1_14 {'pipeline': ['isotropy', 'norm_percentile', 'anisodiff', 'clean_boundaries_morphology', 'merge_by_volume', '3d_connected_component_analysis'], 'type': '2D', 'threshold': 0.2}\n",
      "pipeline_2D_thr_0.2_norm_percentile_1_15 {'pipeline': ['isotropy', 'norm_percentile', 'anisodiff'], 'type': '2D', 'threshold': 0.2}\n",
      "pipeline_2D_thr_0.2_norm_percentile_2_0 {'pipeline': ['isotropy', 'norm_percentile', 'bilateral', 'anisodiff', '3d_connected_component_analysis'], 'type': '2D', 'threshold': 0.2}\n",
      "pipeline_2D_thr_0.2_norm_percentile_2_1 {'pipeline': ['isotropy', 'norm_percentile', 'bilateral', 'anisodiff', 'merge_by_volume'], 'type': '2D', 'threshold': 0.2}\n",
      "pipeline_2D_thr_0.2_norm_percentile_2_2 {'pipeline': ['isotropy', 'norm_percentile', 'bilateral', 'anisodiff', 'clean_boundaries_morphology'], 'type': '2D', 'threshold': 0.2}\n",
      "pipeline_2D_thr_0.2_norm_percentile_2_3 {'pipeline': ['isotropy', 'norm_percentile', 'bilateral', 'anisodiff', '3d_connected_component_analysis', 'merge_by_volume'], 'type': '2D', 'threshold': 0.2}\n",
      "pipeline_2D_thr_0.2_norm_percentile_2_4 {'pipeline': ['isotropy', 'norm_percentile', 'bilateral', 'anisodiff', '3d_connected_component_analysis', 'clean_boundaries_morphology'], 'type': '2D', 'threshold': 0.2}\n",
      "pipeline_2D_thr_0.2_norm_percentile_2_5 {'pipeline': ['isotropy', 'norm_percentile', 'bilateral', 'anisodiff', 'merge_by_volume', '3d_connected_component_analysis'], 'type': '2D', 'threshold': 0.2}\n",
      "pipeline_2D_thr_0.2_norm_percentile_2_6 {'pipeline': ['isotropy', 'norm_percentile', 'bilateral', 'anisodiff', 'merge_by_volume', 'clean_boundaries_morphology'], 'type': '2D', 'threshold': 0.2}\n",
      "pipeline_2D_thr_0.2_norm_percentile_2_7 {'pipeline': ['isotropy', 'norm_percentile', 'bilateral', 'anisodiff', 'clean_boundaries_morphology', '3d_connected_component_analysis'], 'type': '2D', 'threshold': 0.2}\n",
      "pipeline_2D_thr_0.2_norm_percentile_2_8 {'pipeline': ['isotropy', 'norm_percentile', 'bilateral', 'anisodiff', 'clean_boundaries_morphology', 'merge_by_volume'], 'type': '2D', 'threshold': 0.2}\n",
      "pipeline_2D_thr_0.2_norm_percentile_2_9 {'pipeline': ['isotropy', 'norm_percentile', 'bilateral', 'anisodiff', '3d_connected_component_analysis', 'merge_by_volume', 'clean_boundaries_morphology'], 'type': '2D', 'threshold': 0.2}\n",
      "pipeline_2D_thr_0.2_norm_percentile_2_10 {'pipeline': ['isotropy', 'norm_percentile', 'bilateral', 'anisodiff', '3d_connected_component_analysis', 'clean_boundaries_morphology', 'merge_by_volume'], 'type': '2D', 'threshold': 0.2}\n",
      "pipeline_2D_thr_0.2_norm_percentile_2_11 {'pipeline': ['isotropy', 'norm_percentile', 'bilateral', 'anisodiff', 'merge_by_volume', '3d_connected_component_analysis', 'clean_boundaries_morphology'], 'type': '2D', 'threshold': 0.2}\n",
      "pipeline_2D_thr_0.2_norm_percentile_2_12 {'pipeline': ['isotropy', 'norm_percentile', 'bilateral', 'anisodiff', 'merge_by_volume', 'clean_boundaries_morphology', '3d_connected_component_analysis'], 'type': '2D', 'threshold': 0.2}\n",
      "pipeline_2D_thr_0.2_norm_percentile_2_13 {'pipeline': ['isotropy', 'norm_percentile', 'bilateral', 'anisodiff', 'clean_boundaries_morphology', '3d_connected_component_analysis', 'merge_by_volume'], 'type': '2D', 'threshold': 0.2}\n",
      "pipeline_2D_thr_0.2_norm_percentile_2_14 {'pipeline': ['isotropy', 'norm_percentile', 'bilateral', 'anisodiff', 'clean_boundaries_morphology', 'merge_by_volume', '3d_connected_component_analysis'], 'type': '2D', 'threshold': 0.2}\n",
      "pipeline_2D_thr_0.2_norm_percentile_2_15 {'pipeline': ['isotropy', 'norm_percentile', 'bilateral', 'anisodiff'], 'type': '2D', 'threshold': 0.2}\n",
      "pipeline_2D_thr_0.2_norm_percentile_3_0 {'pipeline': ['isotropy', 'norm_percentile', 'anisodiff', 'bilateral', '3d_connected_component_analysis'], 'type': '2D', 'threshold': 0.2}\n",
      "pipeline_2D_thr_0.2_norm_percentile_3_1 {'pipeline': ['isotropy', 'norm_percentile', 'anisodiff', 'bilateral', 'merge_by_volume'], 'type': '2D', 'threshold': 0.2}\n",
      "pipeline_2D_thr_0.2_norm_percentile_3_2 {'pipeline': ['isotropy', 'norm_percentile', 'anisodiff', 'bilateral', 'clean_boundaries_morphology'], 'type': '2D', 'threshold': 0.2}\n",
      "pipeline_2D_thr_0.2_norm_percentile_3_3 {'pipeline': ['isotropy', 'norm_percentile', 'anisodiff', 'bilateral', '3d_connected_component_analysis', 'merge_by_volume'], 'type': '2D', 'threshold': 0.2}\n",
      "pipeline_2D_thr_0.2_norm_percentile_3_4 {'pipeline': ['isotropy', 'norm_percentile', 'anisodiff', 'bilateral', '3d_connected_component_analysis', 'clean_boundaries_morphology'], 'type': '2D', 'threshold': 0.2}\n",
      "pipeline_2D_thr_0.2_norm_percentile_3_5 {'pipeline': ['isotropy', 'norm_percentile', 'anisodiff', 'bilateral', 'merge_by_volume', '3d_connected_component_analysis'], 'type': '2D', 'threshold': 0.2}\n",
      "pipeline_2D_thr_0.2_norm_percentile_3_6 {'pipeline': ['isotropy', 'norm_percentile', 'anisodiff', 'bilateral', 'merge_by_volume', 'clean_boundaries_morphology'], 'type': '2D', 'threshold': 0.2}\n",
      "pipeline_2D_thr_0.2_norm_percentile_3_7 {'pipeline': ['isotropy', 'norm_percentile', 'anisodiff', 'bilateral', 'clean_boundaries_morphology', '3d_connected_component_analysis'], 'type': '2D', 'threshold': 0.2}\n",
      "pipeline_2D_thr_0.2_norm_percentile_3_8 {'pipeline': ['isotropy', 'norm_percentile', 'anisodiff', 'bilateral', 'clean_boundaries_morphology', 'merge_by_volume'], 'type': '2D', 'threshold': 0.2}\n",
      "pipeline_2D_thr_0.2_norm_percentile_3_9 {'pipeline': ['isotropy', 'norm_percentile', 'anisodiff', 'bilateral', '3d_connected_component_analysis', 'merge_by_volume', 'clean_boundaries_morphology'], 'type': '2D', 'threshold': 0.2}\n",
      "pipeline_2D_thr_0.2_norm_percentile_3_10 {'pipeline': ['isotropy', 'norm_percentile', 'anisodiff', 'bilateral', '3d_connected_component_analysis', 'clean_boundaries_morphology', 'merge_by_volume'], 'type': '2D', 'threshold': 0.2}\n",
      "pipeline_2D_thr_0.2_norm_percentile_3_11 {'pipeline': ['isotropy', 'norm_percentile', 'anisodiff', 'bilateral', 'merge_by_volume', '3d_connected_component_analysis', 'clean_boundaries_morphology'], 'type': '2D', 'threshold': 0.2}\n",
      "pipeline_2D_thr_0.2_norm_percentile_3_12 {'pipeline': ['isotropy', 'norm_percentile', 'anisodiff', 'bilateral', 'merge_by_volume', 'clean_boundaries_morphology', '3d_connected_component_analysis'], 'type': '2D', 'threshold': 0.2}\n",
      "pipeline_2D_thr_0.2_norm_percentile_3_13 {'pipeline': ['isotropy', 'norm_percentile', 'anisodiff', 'bilateral', 'clean_boundaries_morphology', '3d_connected_component_analysis', 'merge_by_volume'], 'type': '2D', 'threshold': 0.2}\n",
      "pipeline_2D_thr_0.2_norm_percentile_3_14 {'pipeline': ['isotropy', 'norm_percentile', 'anisodiff', 'bilateral', 'clean_boundaries_morphology', 'merge_by_volume', '3d_connected_component_analysis'], 'type': '2D', 'threshold': 0.2}\n",
      "pipeline_2D_thr_0.2_norm_percentile_3_15 {'pipeline': ['isotropy', 'norm_percentile', 'anisodiff', 'bilateral'], 'type': '2D', 'threshold': 0.2}\n",
      "pipeline_2D_thr_0.3_norm_minmax_0_0 {'pipeline': ['isotropy', 'norm_minmax', 'bilateral', '3d_connected_component_analysis'], 'type': '2D', 'threshold': 0.3}\n",
      "pipeline_2D_thr_0.3_norm_minmax_0_1 {'pipeline': ['isotropy', 'norm_minmax', 'bilateral', 'merge_by_volume'], 'type': '2D', 'threshold': 0.3}\n",
      "pipeline_2D_thr_0.3_norm_minmax_0_2 {'pipeline': ['isotropy', 'norm_minmax', 'bilateral', 'clean_boundaries_morphology'], 'type': '2D', 'threshold': 0.3}\n",
      "pipeline_2D_thr_0.3_norm_minmax_0_3 {'pipeline': ['isotropy', 'norm_minmax', 'bilateral', '3d_connected_component_analysis', 'merge_by_volume'], 'type': '2D', 'threshold': 0.3}\n",
      "pipeline_2D_thr_0.3_norm_minmax_0_4 {'pipeline': ['isotropy', 'norm_minmax', 'bilateral', '3d_connected_component_analysis', 'clean_boundaries_morphology'], 'type': '2D', 'threshold': 0.3}\n",
      "pipeline_2D_thr_0.3_norm_minmax_0_5 {'pipeline': ['isotropy', 'norm_minmax', 'bilateral', 'merge_by_volume', '3d_connected_component_analysis'], 'type': '2D', 'threshold': 0.3}\n",
      "pipeline_2D_thr_0.3_norm_minmax_0_6 {'pipeline': ['isotropy', 'norm_minmax', 'bilateral', 'merge_by_volume', 'clean_boundaries_morphology'], 'type': '2D', 'threshold': 0.3}\n",
      "pipeline_2D_thr_0.3_norm_minmax_0_7 {'pipeline': ['isotropy', 'norm_minmax', 'bilateral', 'clean_boundaries_morphology', '3d_connected_component_analysis'], 'type': '2D', 'threshold': 0.3}\n",
      "pipeline_2D_thr_0.3_norm_minmax_0_8 {'pipeline': ['isotropy', 'norm_minmax', 'bilateral', 'clean_boundaries_morphology', 'merge_by_volume'], 'type': '2D', 'threshold': 0.3}\n",
      "pipeline_2D_thr_0.3_norm_minmax_0_9 {'pipeline': ['isotropy', 'norm_minmax', 'bilateral', '3d_connected_component_analysis', 'merge_by_volume', 'clean_boundaries_morphology'], 'type': '2D', 'threshold': 0.3}\n",
      "pipeline_2D_thr_0.3_norm_minmax_0_10 {'pipeline': ['isotropy', 'norm_minmax', 'bilateral', '3d_connected_component_analysis', 'clean_boundaries_morphology', 'merge_by_volume'], 'type': '2D', 'threshold': 0.3}\n",
      "pipeline_2D_thr_0.3_norm_minmax_0_11 {'pipeline': ['isotropy', 'norm_minmax', 'bilateral', 'merge_by_volume', '3d_connected_component_analysis', 'clean_boundaries_morphology'], 'type': '2D', 'threshold': 0.3}\n",
      "pipeline_2D_thr_0.3_norm_minmax_0_12 {'pipeline': ['isotropy', 'norm_minmax', 'bilateral', 'merge_by_volume', 'clean_boundaries_morphology', '3d_connected_component_analysis'], 'type': '2D', 'threshold': 0.3}\n",
      "pipeline_2D_thr_0.3_norm_minmax_0_13 {'pipeline': ['isotropy', 'norm_minmax', 'bilateral', 'clean_boundaries_morphology', '3d_connected_component_analysis', 'merge_by_volume'], 'type': '2D', 'threshold': 0.3}\n",
      "pipeline_2D_thr_0.3_norm_minmax_0_14 {'pipeline': ['isotropy', 'norm_minmax', 'bilateral', 'clean_boundaries_morphology', 'merge_by_volume', '3d_connected_component_analysis'], 'type': '2D', 'threshold': 0.3}\n",
      "pipeline_2D_thr_0.3_norm_minmax_0_15 {'pipeline': ['isotropy', 'norm_minmax', 'bilateral'], 'type': '2D', 'threshold': 0.3}\n",
      "pipeline_2D_thr_0.3_norm_minmax_1_0 {'pipeline': ['isotropy', 'norm_minmax', 'anisodiff', '3d_connected_component_analysis'], 'type': '2D', 'threshold': 0.3}\n",
      "pipeline_2D_thr_0.3_norm_minmax_1_1 {'pipeline': ['isotropy', 'norm_minmax', 'anisodiff', 'merge_by_volume'], 'type': '2D', 'threshold': 0.3}\n",
      "pipeline_2D_thr_0.3_norm_minmax_1_2 {'pipeline': ['isotropy', 'norm_minmax', 'anisodiff', 'clean_boundaries_morphology'], 'type': '2D', 'threshold': 0.3}\n",
      "pipeline_2D_thr_0.3_norm_minmax_1_3 {'pipeline': ['isotropy', 'norm_minmax', 'anisodiff', '3d_connected_component_analysis', 'merge_by_volume'], 'type': '2D', 'threshold': 0.3}\n",
      "pipeline_2D_thr_0.3_norm_minmax_1_4 {'pipeline': ['isotropy', 'norm_minmax', 'anisodiff', '3d_connected_component_analysis', 'clean_boundaries_morphology'], 'type': '2D', 'threshold': 0.3}\n",
      "pipeline_2D_thr_0.3_norm_minmax_1_5 {'pipeline': ['isotropy', 'norm_minmax', 'anisodiff', 'merge_by_volume', '3d_connected_component_analysis'], 'type': '2D', 'threshold': 0.3}\n",
      "pipeline_2D_thr_0.3_norm_minmax_1_6 {'pipeline': ['isotropy', 'norm_minmax', 'anisodiff', 'merge_by_volume', 'clean_boundaries_morphology'], 'type': '2D', 'threshold': 0.3}\n",
      "pipeline_2D_thr_0.3_norm_minmax_1_7 {'pipeline': ['isotropy', 'norm_minmax', 'anisodiff', 'clean_boundaries_morphology', '3d_connected_component_analysis'], 'type': '2D', 'threshold': 0.3}\n",
      "pipeline_2D_thr_0.3_norm_minmax_1_8 {'pipeline': ['isotropy', 'norm_minmax', 'anisodiff', 'clean_boundaries_morphology', 'merge_by_volume'], 'type': '2D', 'threshold': 0.3}\n",
      "pipeline_2D_thr_0.3_norm_minmax_1_9 {'pipeline': ['isotropy', 'norm_minmax', 'anisodiff', '3d_connected_component_analysis', 'merge_by_volume', 'clean_boundaries_morphology'], 'type': '2D', 'threshold': 0.3}\n",
      "pipeline_2D_thr_0.3_norm_minmax_1_10 {'pipeline': ['isotropy', 'norm_minmax', 'anisodiff', '3d_connected_component_analysis', 'clean_boundaries_morphology', 'merge_by_volume'], 'type': '2D', 'threshold': 0.3}\n",
      "pipeline_2D_thr_0.3_norm_minmax_1_11 {'pipeline': ['isotropy', 'norm_minmax', 'anisodiff', 'merge_by_volume', '3d_connected_component_analysis', 'clean_boundaries_morphology'], 'type': '2D', 'threshold': 0.3}\n",
      "pipeline_2D_thr_0.3_norm_minmax_1_12 {'pipeline': ['isotropy', 'norm_minmax', 'anisodiff', 'merge_by_volume', 'clean_boundaries_morphology', '3d_connected_component_analysis'], 'type': '2D', 'threshold': 0.3}\n",
      "pipeline_2D_thr_0.3_norm_minmax_1_13 {'pipeline': ['isotropy', 'norm_minmax', 'anisodiff', 'clean_boundaries_morphology', '3d_connected_component_analysis', 'merge_by_volume'], 'type': '2D', 'threshold': 0.3}\n",
      "pipeline_2D_thr_0.3_norm_minmax_1_14 {'pipeline': ['isotropy', 'norm_minmax', 'anisodiff', 'clean_boundaries_morphology', 'merge_by_volume', '3d_connected_component_analysis'], 'type': '2D', 'threshold': 0.3}\n",
      "pipeline_2D_thr_0.3_norm_minmax_1_15 {'pipeline': ['isotropy', 'norm_minmax', 'anisodiff'], 'type': '2D', 'threshold': 0.3}\n",
      "pipeline_2D_thr_0.3_norm_minmax_2_0 {'pipeline': ['isotropy', 'norm_minmax', 'bilateral', 'anisodiff', '3d_connected_component_analysis'], 'type': '2D', 'threshold': 0.3}\n",
      "pipeline_2D_thr_0.3_norm_minmax_2_1 {'pipeline': ['isotropy', 'norm_minmax', 'bilateral', 'anisodiff', 'merge_by_volume'], 'type': '2D', 'threshold': 0.3}\n",
      "pipeline_2D_thr_0.3_norm_minmax_2_2 {'pipeline': ['isotropy', 'norm_minmax', 'bilateral', 'anisodiff', 'clean_boundaries_morphology'], 'type': '2D', 'threshold': 0.3}\n",
      "pipeline_2D_thr_0.3_norm_minmax_2_3 {'pipeline': ['isotropy', 'norm_minmax', 'bilateral', 'anisodiff', '3d_connected_component_analysis', 'merge_by_volume'], 'type': '2D', 'threshold': 0.3}\n",
      "pipeline_2D_thr_0.3_norm_minmax_2_4 {'pipeline': ['isotropy', 'norm_minmax', 'bilateral', 'anisodiff', '3d_connected_component_analysis', 'clean_boundaries_morphology'], 'type': '2D', 'threshold': 0.3}\n",
      "pipeline_2D_thr_0.3_norm_minmax_2_5 {'pipeline': ['isotropy', 'norm_minmax', 'bilateral', 'anisodiff', 'merge_by_volume', '3d_connected_component_analysis'], 'type': '2D', 'threshold': 0.3}\n",
      "pipeline_2D_thr_0.3_norm_minmax_2_6 {'pipeline': ['isotropy', 'norm_minmax', 'bilateral', 'anisodiff', 'merge_by_volume', 'clean_boundaries_morphology'], 'type': '2D', 'threshold': 0.3}\n",
      "pipeline_2D_thr_0.3_norm_minmax_2_7 {'pipeline': ['isotropy', 'norm_minmax', 'bilateral', 'anisodiff', 'clean_boundaries_morphology', '3d_connected_component_analysis'], 'type': '2D', 'threshold': 0.3}\n",
      "pipeline_2D_thr_0.3_norm_minmax_2_8 {'pipeline': ['isotropy', 'norm_minmax', 'bilateral', 'anisodiff', 'clean_boundaries_morphology', 'merge_by_volume'], 'type': '2D', 'threshold': 0.3}\n",
      "pipeline_2D_thr_0.3_norm_minmax_2_9 {'pipeline': ['isotropy', 'norm_minmax', 'bilateral', 'anisodiff', '3d_connected_component_analysis', 'merge_by_volume', 'clean_boundaries_morphology'], 'type': '2D', 'threshold': 0.3}\n",
      "pipeline_2D_thr_0.3_norm_minmax_2_10 {'pipeline': ['isotropy', 'norm_minmax', 'bilateral', 'anisodiff', '3d_connected_component_analysis', 'clean_boundaries_morphology', 'merge_by_volume'], 'type': '2D', 'threshold': 0.3}\n",
      "pipeline_2D_thr_0.3_norm_minmax_2_11 {'pipeline': ['isotropy', 'norm_minmax', 'bilateral', 'anisodiff', 'merge_by_volume', '3d_connected_component_analysis', 'clean_boundaries_morphology'], 'type': '2D', 'threshold': 0.3}\n",
      "pipeline_2D_thr_0.3_norm_minmax_2_12 {'pipeline': ['isotropy', 'norm_minmax', 'bilateral', 'anisodiff', 'merge_by_volume', 'clean_boundaries_morphology', '3d_connected_component_analysis'], 'type': '2D', 'threshold': 0.3}\n",
      "pipeline_2D_thr_0.3_norm_minmax_2_13 {'pipeline': ['isotropy', 'norm_minmax', 'bilateral', 'anisodiff', 'clean_boundaries_morphology', '3d_connected_component_analysis', 'merge_by_volume'], 'type': '2D', 'threshold': 0.3}\n",
      "pipeline_2D_thr_0.3_norm_minmax_2_14 {'pipeline': ['isotropy', 'norm_minmax', 'bilateral', 'anisodiff', 'clean_boundaries_morphology', 'merge_by_volume', '3d_connected_component_analysis'], 'type': '2D', 'threshold': 0.3}\n",
      "pipeline_2D_thr_0.3_norm_minmax_2_15 {'pipeline': ['isotropy', 'norm_minmax', 'bilateral', 'anisodiff'], 'type': '2D', 'threshold': 0.3}\n",
      "pipeline_2D_thr_0.3_norm_minmax_3_0 {'pipeline': ['isotropy', 'norm_minmax', 'anisodiff', 'bilateral', '3d_connected_component_analysis'], 'type': '2D', 'threshold': 0.3}\n",
      "pipeline_2D_thr_0.3_norm_minmax_3_1 {'pipeline': ['isotropy', 'norm_minmax', 'anisodiff', 'bilateral', 'merge_by_volume'], 'type': '2D', 'threshold': 0.3}\n",
      "pipeline_2D_thr_0.3_norm_minmax_3_2 {'pipeline': ['isotropy', 'norm_minmax', 'anisodiff', 'bilateral', 'clean_boundaries_morphology'], 'type': '2D', 'threshold': 0.3}\n",
      "pipeline_2D_thr_0.3_norm_minmax_3_3 {'pipeline': ['isotropy', 'norm_minmax', 'anisodiff', 'bilateral', '3d_connected_component_analysis', 'merge_by_volume'], 'type': '2D', 'threshold': 0.3}\n",
      "pipeline_2D_thr_0.3_norm_minmax_3_4 {'pipeline': ['isotropy', 'norm_minmax', 'anisodiff', 'bilateral', '3d_connected_component_analysis', 'clean_boundaries_morphology'], 'type': '2D', 'threshold': 0.3}\n",
      "pipeline_2D_thr_0.3_norm_minmax_3_5 {'pipeline': ['isotropy', 'norm_minmax', 'anisodiff', 'bilateral', 'merge_by_volume', '3d_connected_component_analysis'], 'type': '2D', 'threshold': 0.3}\n",
      "pipeline_2D_thr_0.3_norm_minmax_3_6 {'pipeline': ['isotropy', 'norm_minmax', 'anisodiff', 'bilateral', 'merge_by_volume', 'clean_boundaries_morphology'], 'type': '2D', 'threshold': 0.3}\n",
      "pipeline_2D_thr_0.3_norm_minmax_3_7 {'pipeline': ['isotropy', 'norm_minmax', 'anisodiff', 'bilateral', 'clean_boundaries_morphology', '3d_connected_component_analysis'], 'type': '2D', 'threshold': 0.3}\n",
      "pipeline_2D_thr_0.3_norm_minmax_3_8 {'pipeline': ['isotropy', 'norm_minmax', 'anisodiff', 'bilateral', 'clean_boundaries_morphology', 'merge_by_volume'], 'type': '2D', 'threshold': 0.3}\n",
      "pipeline_2D_thr_0.3_norm_minmax_3_9 {'pipeline': ['isotropy', 'norm_minmax', 'anisodiff', 'bilateral', '3d_connected_component_analysis', 'merge_by_volume', 'clean_boundaries_morphology'], 'type': '2D', 'threshold': 0.3}\n",
      "pipeline_2D_thr_0.3_norm_minmax_3_10 {'pipeline': ['isotropy', 'norm_minmax', 'anisodiff', 'bilateral', '3d_connected_component_analysis', 'clean_boundaries_morphology', 'merge_by_volume'], 'type': '2D', 'threshold': 0.3}\n",
      "pipeline_2D_thr_0.3_norm_minmax_3_11 {'pipeline': ['isotropy', 'norm_minmax', 'anisodiff', 'bilateral', 'merge_by_volume', '3d_connected_component_analysis', 'clean_boundaries_morphology'], 'type': '2D', 'threshold': 0.3}\n",
      "pipeline_2D_thr_0.3_norm_minmax_3_12 {'pipeline': ['isotropy', 'norm_minmax', 'anisodiff', 'bilateral', 'merge_by_volume', 'clean_boundaries_morphology', '3d_connected_component_analysis'], 'type': '2D', 'threshold': 0.3}\n",
      "pipeline_2D_thr_0.3_norm_minmax_3_13 {'pipeline': ['isotropy', 'norm_minmax', 'anisodiff', 'bilateral', 'clean_boundaries_morphology', '3d_connected_component_analysis', 'merge_by_volume'], 'type': '2D', 'threshold': 0.3}\n",
      "pipeline_2D_thr_0.3_norm_minmax_3_14 {'pipeline': ['isotropy', 'norm_minmax', 'anisodiff', 'bilateral', 'clean_boundaries_morphology', 'merge_by_volume', '3d_connected_component_analysis'], 'type': '2D', 'threshold': 0.3}\n",
      "pipeline_2D_thr_0.3_norm_minmax_3_15 {'pipeline': ['isotropy', 'norm_minmax', 'anisodiff', 'bilateral'], 'type': '2D', 'threshold': 0.3}\n",
      "pipeline_2D_thr_0.3_norm_percentile_0_0 {'pipeline': ['isotropy', 'norm_percentile', 'bilateral', '3d_connected_component_analysis'], 'type': '2D', 'threshold': 0.3}\n",
      "pipeline_2D_thr_0.3_norm_percentile_0_1 {'pipeline': ['isotropy', 'norm_percentile', 'bilateral', 'merge_by_volume'], 'type': '2D', 'threshold': 0.3}\n",
      "pipeline_2D_thr_0.3_norm_percentile_0_2 {'pipeline': ['isotropy', 'norm_percentile', 'bilateral', 'clean_boundaries_morphology'], 'type': '2D', 'threshold': 0.3}\n",
      "pipeline_2D_thr_0.3_norm_percentile_0_3 {'pipeline': ['isotropy', 'norm_percentile', 'bilateral', '3d_connected_component_analysis', 'merge_by_volume'], 'type': '2D', 'threshold': 0.3}\n",
      "pipeline_2D_thr_0.3_norm_percentile_0_4 {'pipeline': ['isotropy', 'norm_percentile', 'bilateral', '3d_connected_component_analysis', 'clean_boundaries_morphology'], 'type': '2D', 'threshold': 0.3}\n",
      "pipeline_2D_thr_0.3_norm_percentile_0_5 {'pipeline': ['isotropy', 'norm_percentile', 'bilateral', 'merge_by_volume', '3d_connected_component_analysis'], 'type': '2D', 'threshold': 0.3}\n",
      "pipeline_2D_thr_0.3_norm_percentile_0_6 {'pipeline': ['isotropy', 'norm_percentile', 'bilateral', 'merge_by_volume', 'clean_boundaries_morphology'], 'type': '2D', 'threshold': 0.3}\n",
      "pipeline_2D_thr_0.3_norm_percentile_0_7 {'pipeline': ['isotropy', 'norm_percentile', 'bilateral', 'clean_boundaries_morphology', '3d_connected_component_analysis'], 'type': '2D', 'threshold': 0.3}\n",
      "pipeline_2D_thr_0.3_norm_percentile_0_8 {'pipeline': ['isotropy', 'norm_percentile', 'bilateral', 'clean_boundaries_morphology', 'merge_by_volume'], 'type': '2D', 'threshold': 0.3}\n",
      "pipeline_2D_thr_0.3_norm_percentile_0_9 {'pipeline': ['isotropy', 'norm_percentile', 'bilateral', '3d_connected_component_analysis', 'merge_by_volume', 'clean_boundaries_morphology'], 'type': '2D', 'threshold': 0.3}\n",
      "pipeline_2D_thr_0.3_norm_percentile_0_10 {'pipeline': ['isotropy', 'norm_percentile', 'bilateral', '3d_connected_component_analysis', 'clean_boundaries_morphology', 'merge_by_volume'], 'type': '2D', 'threshold': 0.3}\n",
      "pipeline_2D_thr_0.3_norm_percentile_0_11 {'pipeline': ['isotropy', 'norm_percentile', 'bilateral', 'merge_by_volume', '3d_connected_component_analysis', 'clean_boundaries_morphology'], 'type': '2D', 'threshold': 0.3}\n",
      "pipeline_2D_thr_0.3_norm_percentile_0_12 {'pipeline': ['isotropy', 'norm_percentile', 'bilateral', 'merge_by_volume', 'clean_boundaries_morphology', '3d_connected_component_analysis'], 'type': '2D', 'threshold': 0.3}\n",
      "pipeline_2D_thr_0.3_norm_percentile_0_13 {'pipeline': ['isotropy', 'norm_percentile', 'bilateral', 'clean_boundaries_morphology', '3d_connected_component_analysis', 'merge_by_volume'], 'type': '2D', 'threshold': 0.3}\n",
      "pipeline_2D_thr_0.3_norm_percentile_0_14 {'pipeline': ['isotropy', 'norm_percentile', 'bilateral', 'clean_boundaries_morphology', 'merge_by_volume', '3d_connected_component_analysis'], 'type': '2D', 'threshold': 0.3}\n",
      "pipeline_2D_thr_0.3_norm_percentile_0_15 {'pipeline': ['isotropy', 'norm_percentile', 'bilateral'], 'type': '2D', 'threshold': 0.3}\n",
      "pipeline_2D_thr_0.3_norm_percentile_1_0 {'pipeline': ['isotropy', 'norm_percentile', 'anisodiff', '3d_connected_component_analysis'], 'type': '2D', 'threshold': 0.3}\n",
      "pipeline_2D_thr_0.3_norm_percentile_1_1 {'pipeline': ['isotropy', 'norm_percentile', 'anisodiff', 'merge_by_volume'], 'type': '2D', 'threshold': 0.3}\n",
      "pipeline_2D_thr_0.3_norm_percentile_1_2 {'pipeline': ['isotropy', 'norm_percentile', 'anisodiff', 'clean_boundaries_morphology'], 'type': '2D', 'threshold': 0.3}\n",
      "pipeline_2D_thr_0.3_norm_percentile_1_3 {'pipeline': ['isotropy', 'norm_percentile', 'anisodiff', '3d_connected_component_analysis', 'merge_by_volume'], 'type': '2D', 'threshold': 0.3}\n",
      "pipeline_2D_thr_0.3_norm_percentile_1_4 {'pipeline': ['isotropy', 'norm_percentile', 'anisodiff', '3d_connected_component_analysis', 'clean_boundaries_morphology'], 'type': '2D', 'threshold': 0.3}\n",
      "pipeline_2D_thr_0.3_norm_percentile_1_5 {'pipeline': ['isotropy', 'norm_percentile', 'anisodiff', 'merge_by_volume', '3d_connected_component_analysis'], 'type': '2D', 'threshold': 0.3}\n",
      "pipeline_2D_thr_0.3_norm_percentile_1_6 {'pipeline': ['isotropy', 'norm_percentile', 'anisodiff', 'merge_by_volume', 'clean_boundaries_morphology'], 'type': '2D', 'threshold': 0.3}\n",
      "pipeline_2D_thr_0.3_norm_percentile_1_7 {'pipeline': ['isotropy', 'norm_percentile', 'anisodiff', 'clean_boundaries_morphology', '3d_connected_component_analysis'], 'type': '2D', 'threshold': 0.3}\n",
      "pipeline_2D_thr_0.3_norm_percentile_1_8 {'pipeline': ['isotropy', 'norm_percentile', 'anisodiff', 'clean_boundaries_morphology', 'merge_by_volume'], 'type': '2D', 'threshold': 0.3}\n",
      "pipeline_2D_thr_0.3_norm_percentile_1_9 {'pipeline': ['isotropy', 'norm_percentile', 'anisodiff', '3d_connected_component_analysis', 'merge_by_volume', 'clean_boundaries_morphology'], 'type': '2D', 'threshold': 0.3}\n",
      "pipeline_2D_thr_0.3_norm_percentile_1_10 {'pipeline': ['isotropy', 'norm_percentile', 'anisodiff', '3d_connected_component_analysis', 'clean_boundaries_morphology', 'merge_by_volume'], 'type': '2D', 'threshold': 0.3}\n",
      "pipeline_2D_thr_0.3_norm_percentile_1_11 {'pipeline': ['isotropy', 'norm_percentile', 'anisodiff', 'merge_by_volume', '3d_connected_component_analysis', 'clean_boundaries_morphology'], 'type': '2D', 'threshold': 0.3}\n",
      "pipeline_2D_thr_0.3_norm_percentile_1_12 {'pipeline': ['isotropy', 'norm_percentile', 'anisodiff', 'merge_by_volume', 'clean_boundaries_morphology', '3d_connected_component_analysis'], 'type': '2D', 'threshold': 0.3}\n",
      "pipeline_2D_thr_0.3_norm_percentile_1_13 {'pipeline': ['isotropy', 'norm_percentile', 'anisodiff', 'clean_boundaries_morphology', '3d_connected_component_analysis', 'merge_by_volume'], 'type': '2D', 'threshold': 0.3}\n",
      "pipeline_2D_thr_0.3_norm_percentile_1_14 {'pipeline': ['isotropy', 'norm_percentile', 'anisodiff', 'clean_boundaries_morphology', 'merge_by_volume', '3d_connected_component_analysis'], 'type': '2D', 'threshold': 0.3}\n",
      "pipeline_2D_thr_0.3_norm_percentile_1_15 {'pipeline': ['isotropy', 'norm_percentile', 'anisodiff'], 'type': '2D', 'threshold': 0.3}\n",
      "pipeline_2D_thr_0.3_norm_percentile_2_0 {'pipeline': ['isotropy', 'norm_percentile', 'bilateral', 'anisodiff', '3d_connected_component_analysis'], 'type': '2D', 'threshold': 0.3}\n",
      "pipeline_2D_thr_0.3_norm_percentile_2_1 {'pipeline': ['isotropy', 'norm_percentile', 'bilateral', 'anisodiff', 'merge_by_volume'], 'type': '2D', 'threshold': 0.3}\n",
      "pipeline_2D_thr_0.3_norm_percentile_2_2 {'pipeline': ['isotropy', 'norm_percentile', 'bilateral', 'anisodiff', 'clean_boundaries_morphology'], 'type': '2D', 'threshold': 0.3}\n",
      "pipeline_2D_thr_0.3_norm_percentile_2_3 {'pipeline': ['isotropy', 'norm_percentile', 'bilateral', 'anisodiff', '3d_connected_component_analysis', 'merge_by_volume'], 'type': '2D', 'threshold': 0.3}\n",
      "pipeline_2D_thr_0.3_norm_percentile_2_4 {'pipeline': ['isotropy', 'norm_percentile', 'bilateral', 'anisodiff', '3d_connected_component_analysis', 'clean_boundaries_morphology'], 'type': '2D', 'threshold': 0.3}\n",
      "pipeline_2D_thr_0.3_norm_percentile_2_5 {'pipeline': ['isotropy', 'norm_percentile', 'bilateral', 'anisodiff', 'merge_by_volume', '3d_connected_component_analysis'], 'type': '2D', 'threshold': 0.3}\n",
      "pipeline_2D_thr_0.3_norm_percentile_2_6 {'pipeline': ['isotropy', 'norm_percentile', 'bilateral', 'anisodiff', 'merge_by_volume', 'clean_boundaries_morphology'], 'type': '2D', 'threshold': 0.3}\n",
      "pipeline_2D_thr_0.3_norm_percentile_2_7 {'pipeline': ['isotropy', 'norm_percentile', 'bilateral', 'anisodiff', 'clean_boundaries_morphology', '3d_connected_component_analysis'], 'type': '2D', 'threshold': 0.3}\n",
      "pipeline_2D_thr_0.3_norm_percentile_2_8 {'pipeline': ['isotropy', 'norm_percentile', 'bilateral', 'anisodiff', 'clean_boundaries_morphology', 'merge_by_volume'], 'type': '2D', 'threshold': 0.3}\n",
      "pipeline_2D_thr_0.3_norm_percentile_2_9 {'pipeline': ['isotropy', 'norm_percentile', 'bilateral', 'anisodiff', '3d_connected_component_analysis', 'merge_by_volume', 'clean_boundaries_morphology'], 'type': '2D', 'threshold': 0.3}\n",
      "pipeline_2D_thr_0.3_norm_percentile_2_10 {'pipeline': ['isotropy', 'norm_percentile', 'bilateral', 'anisodiff', '3d_connected_component_analysis', 'clean_boundaries_morphology', 'merge_by_volume'], 'type': '2D', 'threshold': 0.3}\n",
      "pipeline_2D_thr_0.3_norm_percentile_2_11 {'pipeline': ['isotropy', 'norm_percentile', 'bilateral', 'anisodiff', 'merge_by_volume', '3d_connected_component_analysis', 'clean_boundaries_morphology'], 'type': '2D', 'threshold': 0.3}\n",
      "pipeline_2D_thr_0.3_norm_percentile_2_12 {'pipeline': ['isotropy', 'norm_percentile', 'bilateral', 'anisodiff', 'merge_by_volume', 'clean_boundaries_morphology', '3d_connected_component_analysis'], 'type': '2D', 'threshold': 0.3}\n",
      "pipeline_2D_thr_0.3_norm_percentile_2_13 {'pipeline': ['isotropy', 'norm_percentile', 'bilateral', 'anisodiff', 'clean_boundaries_morphology', '3d_connected_component_analysis', 'merge_by_volume'], 'type': '2D', 'threshold': 0.3}\n",
      "pipeline_2D_thr_0.3_norm_percentile_2_14 {'pipeline': ['isotropy', 'norm_percentile', 'bilateral', 'anisodiff', 'clean_boundaries_morphology', 'merge_by_volume', '3d_connected_component_analysis'], 'type': '2D', 'threshold': 0.3}\n",
      "pipeline_2D_thr_0.3_norm_percentile_2_15 {'pipeline': ['isotropy', 'norm_percentile', 'bilateral', 'anisodiff'], 'type': '2D', 'threshold': 0.3}\n",
      "pipeline_2D_thr_0.3_norm_percentile_3_0 {'pipeline': ['isotropy', 'norm_percentile', 'anisodiff', 'bilateral', '3d_connected_component_analysis'], 'type': '2D', 'threshold': 0.3}\n",
      "pipeline_2D_thr_0.3_norm_percentile_3_1 {'pipeline': ['isotropy', 'norm_percentile', 'anisodiff', 'bilateral', 'merge_by_volume'], 'type': '2D', 'threshold': 0.3}\n",
      "pipeline_2D_thr_0.3_norm_percentile_3_2 {'pipeline': ['isotropy', 'norm_percentile', 'anisodiff', 'bilateral', 'clean_boundaries_morphology'], 'type': '2D', 'threshold': 0.3}\n",
      "pipeline_2D_thr_0.3_norm_percentile_3_3 {'pipeline': ['isotropy', 'norm_percentile', 'anisodiff', 'bilateral', '3d_connected_component_analysis', 'merge_by_volume'], 'type': '2D', 'threshold': 0.3}\n",
      "pipeline_2D_thr_0.3_norm_percentile_3_4 {'pipeline': ['isotropy', 'norm_percentile', 'anisodiff', 'bilateral', '3d_connected_component_analysis', 'clean_boundaries_morphology'], 'type': '2D', 'threshold': 0.3}\n",
      "pipeline_2D_thr_0.3_norm_percentile_3_5 {'pipeline': ['isotropy', 'norm_percentile', 'anisodiff', 'bilateral', 'merge_by_volume', '3d_connected_component_analysis'], 'type': '2D', 'threshold': 0.3}\n",
      "pipeline_2D_thr_0.3_norm_percentile_3_6 {'pipeline': ['isotropy', 'norm_percentile', 'anisodiff', 'bilateral', 'merge_by_volume', 'clean_boundaries_morphology'], 'type': '2D', 'threshold': 0.3}\n",
      "pipeline_2D_thr_0.3_norm_percentile_3_7 {'pipeline': ['isotropy', 'norm_percentile', 'anisodiff', 'bilateral', 'clean_boundaries_morphology', '3d_connected_component_analysis'], 'type': '2D', 'threshold': 0.3}\n",
      "pipeline_2D_thr_0.3_norm_percentile_3_8 {'pipeline': ['isotropy', 'norm_percentile', 'anisodiff', 'bilateral', 'clean_boundaries_morphology', 'merge_by_volume'], 'type': '2D', 'threshold': 0.3}\n",
      "pipeline_2D_thr_0.3_norm_percentile_3_9 {'pipeline': ['isotropy', 'norm_percentile', 'anisodiff', 'bilateral', '3d_connected_component_analysis', 'merge_by_volume', 'clean_boundaries_morphology'], 'type': '2D', 'threshold': 0.3}\n",
      "pipeline_2D_thr_0.3_norm_percentile_3_10 {'pipeline': ['isotropy', 'norm_percentile', 'anisodiff', 'bilateral', '3d_connected_component_analysis', 'clean_boundaries_morphology', 'merge_by_volume'], 'type': '2D', 'threshold': 0.3}\n",
      "pipeline_2D_thr_0.3_norm_percentile_3_11 {'pipeline': ['isotropy', 'norm_percentile', 'anisodiff', 'bilateral', 'merge_by_volume', '3d_connected_component_analysis', 'clean_boundaries_morphology'], 'type': '2D', 'threshold': 0.3}\n",
      "pipeline_2D_thr_0.3_norm_percentile_3_12 {'pipeline': ['isotropy', 'norm_percentile', 'anisodiff', 'bilateral', 'merge_by_volume', 'clean_boundaries_morphology', '3d_connected_component_analysis'], 'type': '2D', 'threshold': 0.3}\n",
      "pipeline_2D_thr_0.3_norm_percentile_3_13 {'pipeline': ['isotropy', 'norm_percentile', 'anisodiff', 'bilateral', 'clean_boundaries_morphology', '3d_connected_component_analysis', 'merge_by_volume'], 'type': '2D', 'threshold': 0.3}\n",
      "pipeline_2D_thr_0.3_norm_percentile_3_14 {'pipeline': ['isotropy', 'norm_percentile', 'anisodiff', 'bilateral', 'clean_boundaries_morphology', 'merge_by_volume', '3d_connected_component_analysis'], 'type': '2D', 'threshold': 0.3}\n",
      "pipeline_2D_thr_0.3_norm_percentile_3_15 {'pipeline': ['isotropy', 'norm_percentile', 'anisodiff', 'bilateral'], 'type': '2D', 'threshold': 0.3}\n",
      "pipeline_2D_thr_0.4_norm_minmax_0_0 {'pipeline': ['isotropy', 'norm_minmax', 'bilateral', '3d_connected_component_analysis'], 'type': '2D', 'threshold': 0.4}\n",
      "pipeline_2D_thr_0.4_norm_minmax_0_1 {'pipeline': ['isotropy', 'norm_minmax', 'bilateral', 'merge_by_volume'], 'type': '2D', 'threshold': 0.4}\n",
      "pipeline_2D_thr_0.4_norm_minmax_0_2 {'pipeline': ['isotropy', 'norm_minmax', 'bilateral', 'clean_boundaries_morphology'], 'type': '2D', 'threshold': 0.4}\n",
      "pipeline_2D_thr_0.4_norm_minmax_0_3 {'pipeline': ['isotropy', 'norm_minmax', 'bilateral', '3d_connected_component_analysis', 'merge_by_volume'], 'type': '2D', 'threshold': 0.4}\n",
      "pipeline_2D_thr_0.4_norm_minmax_0_4 {'pipeline': ['isotropy', 'norm_minmax', 'bilateral', '3d_connected_component_analysis', 'clean_boundaries_morphology'], 'type': '2D', 'threshold': 0.4}\n",
      "pipeline_2D_thr_0.4_norm_minmax_0_5 {'pipeline': ['isotropy', 'norm_minmax', 'bilateral', 'merge_by_volume', '3d_connected_component_analysis'], 'type': '2D', 'threshold': 0.4}\n",
      "pipeline_2D_thr_0.4_norm_minmax_0_6 {'pipeline': ['isotropy', 'norm_minmax', 'bilateral', 'merge_by_volume', 'clean_boundaries_morphology'], 'type': '2D', 'threshold': 0.4}\n",
      "pipeline_2D_thr_0.4_norm_minmax_0_7 {'pipeline': ['isotropy', 'norm_minmax', 'bilateral', 'clean_boundaries_morphology', '3d_connected_component_analysis'], 'type': '2D', 'threshold': 0.4}\n",
      "pipeline_2D_thr_0.4_norm_minmax_0_8 {'pipeline': ['isotropy', 'norm_minmax', 'bilateral', 'clean_boundaries_morphology', 'merge_by_volume'], 'type': '2D', 'threshold': 0.4}\n",
      "pipeline_2D_thr_0.4_norm_minmax_0_9 {'pipeline': ['isotropy', 'norm_minmax', 'bilateral', '3d_connected_component_analysis', 'merge_by_volume', 'clean_boundaries_morphology'], 'type': '2D', 'threshold': 0.4}\n",
      "pipeline_2D_thr_0.4_norm_minmax_0_10 {'pipeline': ['isotropy', 'norm_minmax', 'bilateral', '3d_connected_component_analysis', 'clean_boundaries_morphology', 'merge_by_volume'], 'type': '2D', 'threshold': 0.4}\n",
      "pipeline_2D_thr_0.4_norm_minmax_0_11 {'pipeline': ['isotropy', 'norm_minmax', 'bilateral', 'merge_by_volume', '3d_connected_component_analysis', 'clean_boundaries_morphology'], 'type': '2D', 'threshold': 0.4}\n",
      "pipeline_2D_thr_0.4_norm_minmax_0_12 {'pipeline': ['isotropy', 'norm_minmax', 'bilateral', 'merge_by_volume', 'clean_boundaries_morphology', '3d_connected_component_analysis'], 'type': '2D', 'threshold': 0.4}\n",
      "pipeline_2D_thr_0.4_norm_minmax_0_13 {'pipeline': ['isotropy', 'norm_minmax', 'bilateral', 'clean_boundaries_morphology', '3d_connected_component_analysis', 'merge_by_volume'], 'type': '2D', 'threshold': 0.4}\n",
      "pipeline_2D_thr_0.4_norm_minmax_0_14 {'pipeline': ['isotropy', 'norm_minmax', 'bilateral', 'clean_boundaries_morphology', 'merge_by_volume', '3d_connected_component_analysis'], 'type': '2D', 'threshold': 0.4}\n",
      "pipeline_2D_thr_0.4_norm_minmax_0_15 {'pipeline': ['isotropy', 'norm_minmax', 'bilateral'], 'type': '2D', 'threshold': 0.4}\n",
      "pipeline_2D_thr_0.4_norm_minmax_1_0 {'pipeline': ['isotropy', 'norm_minmax', 'anisodiff', '3d_connected_component_analysis'], 'type': '2D', 'threshold': 0.4}\n",
      "pipeline_2D_thr_0.4_norm_minmax_1_1 {'pipeline': ['isotropy', 'norm_minmax', 'anisodiff', 'merge_by_volume'], 'type': '2D', 'threshold': 0.4}\n",
      "pipeline_2D_thr_0.4_norm_minmax_1_2 {'pipeline': ['isotropy', 'norm_minmax', 'anisodiff', 'clean_boundaries_morphology'], 'type': '2D', 'threshold': 0.4}\n",
      "pipeline_2D_thr_0.4_norm_minmax_1_3 {'pipeline': ['isotropy', 'norm_minmax', 'anisodiff', '3d_connected_component_analysis', 'merge_by_volume'], 'type': '2D', 'threshold': 0.4}\n",
      "pipeline_2D_thr_0.4_norm_minmax_1_4 {'pipeline': ['isotropy', 'norm_minmax', 'anisodiff', '3d_connected_component_analysis', 'clean_boundaries_morphology'], 'type': '2D', 'threshold': 0.4}\n",
      "pipeline_2D_thr_0.4_norm_minmax_1_5 {'pipeline': ['isotropy', 'norm_minmax', 'anisodiff', 'merge_by_volume', '3d_connected_component_analysis'], 'type': '2D', 'threshold': 0.4}\n",
      "pipeline_2D_thr_0.4_norm_minmax_1_6 {'pipeline': ['isotropy', 'norm_minmax', 'anisodiff', 'merge_by_volume', 'clean_boundaries_morphology'], 'type': '2D', 'threshold': 0.4}\n",
      "pipeline_2D_thr_0.4_norm_minmax_1_7 {'pipeline': ['isotropy', 'norm_minmax', 'anisodiff', 'clean_boundaries_morphology', '3d_connected_component_analysis'], 'type': '2D', 'threshold': 0.4}\n",
      "pipeline_2D_thr_0.4_norm_minmax_1_8 {'pipeline': ['isotropy', 'norm_minmax', 'anisodiff', 'clean_boundaries_morphology', 'merge_by_volume'], 'type': '2D', 'threshold': 0.4}\n",
      "pipeline_2D_thr_0.4_norm_minmax_1_9 {'pipeline': ['isotropy', 'norm_minmax', 'anisodiff', '3d_connected_component_analysis', 'merge_by_volume', 'clean_boundaries_morphology'], 'type': '2D', 'threshold': 0.4}\n",
      "pipeline_2D_thr_0.4_norm_minmax_1_10 {'pipeline': ['isotropy', 'norm_minmax', 'anisodiff', '3d_connected_component_analysis', 'clean_boundaries_morphology', 'merge_by_volume'], 'type': '2D', 'threshold': 0.4}\n",
      "pipeline_2D_thr_0.4_norm_minmax_1_11 {'pipeline': ['isotropy', 'norm_minmax', 'anisodiff', 'merge_by_volume', '3d_connected_component_analysis', 'clean_boundaries_morphology'], 'type': '2D', 'threshold': 0.4}\n",
      "pipeline_2D_thr_0.4_norm_minmax_1_12 {'pipeline': ['isotropy', 'norm_minmax', 'anisodiff', 'merge_by_volume', 'clean_boundaries_morphology', '3d_connected_component_analysis'], 'type': '2D', 'threshold': 0.4}\n",
      "pipeline_2D_thr_0.4_norm_minmax_1_13 {'pipeline': ['isotropy', 'norm_minmax', 'anisodiff', 'clean_boundaries_morphology', '3d_connected_component_analysis', 'merge_by_volume'], 'type': '2D', 'threshold': 0.4}\n",
      "pipeline_2D_thr_0.4_norm_minmax_1_14 {'pipeline': ['isotropy', 'norm_minmax', 'anisodiff', 'clean_boundaries_morphology', 'merge_by_volume', '3d_connected_component_analysis'], 'type': '2D', 'threshold': 0.4}\n",
      "pipeline_2D_thr_0.4_norm_minmax_1_15 {'pipeline': ['isotropy', 'norm_minmax', 'anisodiff'], 'type': '2D', 'threshold': 0.4}\n",
      "pipeline_2D_thr_0.4_norm_minmax_2_0 {'pipeline': ['isotropy', 'norm_minmax', 'bilateral', 'anisodiff', '3d_connected_component_analysis'], 'type': '2D', 'threshold': 0.4}\n",
      "pipeline_2D_thr_0.4_norm_minmax_2_1 {'pipeline': ['isotropy', 'norm_minmax', 'bilateral', 'anisodiff', 'merge_by_volume'], 'type': '2D', 'threshold': 0.4}\n",
      "pipeline_2D_thr_0.4_norm_minmax_2_2 {'pipeline': ['isotropy', 'norm_minmax', 'bilateral', 'anisodiff', 'clean_boundaries_morphology'], 'type': '2D', 'threshold': 0.4}\n",
      "pipeline_2D_thr_0.4_norm_minmax_2_3 {'pipeline': ['isotropy', 'norm_minmax', 'bilateral', 'anisodiff', '3d_connected_component_analysis', 'merge_by_volume'], 'type': '2D', 'threshold': 0.4}\n",
      "pipeline_2D_thr_0.4_norm_minmax_2_4 {'pipeline': ['isotropy', 'norm_minmax', 'bilateral', 'anisodiff', '3d_connected_component_analysis', 'clean_boundaries_morphology'], 'type': '2D', 'threshold': 0.4}\n",
      "pipeline_2D_thr_0.4_norm_minmax_2_5 {'pipeline': ['isotropy', 'norm_minmax', 'bilateral', 'anisodiff', 'merge_by_volume', '3d_connected_component_analysis'], 'type': '2D', 'threshold': 0.4}\n",
      "pipeline_2D_thr_0.4_norm_minmax_2_6 {'pipeline': ['isotropy', 'norm_minmax', 'bilateral', 'anisodiff', 'merge_by_volume', 'clean_boundaries_morphology'], 'type': '2D', 'threshold': 0.4}\n",
      "pipeline_2D_thr_0.4_norm_minmax_2_7 {'pipeline': ['isotropy', 'norm_minmax', 'bilateral', 'anisodiff', 'clean_boundaries_morphology', '3d_connected_component_analysis'], 'type': '2D', 'threshold': 0.4}\n",
      "pipeline_2D_thr_0.4_norm_minmax_2_8 {'pipeline': ['isotropy', 'norm_minmax', 'bilateral', 'anisodiff', 'clean_boundaries_morphology', 'merge_by_volume'], 'type': '2D', 'threshold': 0.4}\n",
      "pipeline_2D_thr_0.4_norm_minmax_2_9 {'pipeline': ['isotropy', 'norm_minmax', 'bilateral', 'anisodiff', '3d_connected_component_analysis', 'merge_by_volume', 'clean_boundaries_morphology'], 'type': '2D', 'threshold': 0.4}\n",
      "pipeline_2D_thr_0.4_norm_minmax_2_10 {'pipeline': ['isotropy', 'norm_minmax', 'bilateral', 'anisodiff', '3d_connected_component_analysis', 'clean_boundaries_morphology', 'merge_by_volume'], 'type': '2D', 'threshold': 0.4}\n",
      "pipeline_2D_thr_0.4_norm_minmax_2_11 {'pipeline': ['isotropy', 'norm_minmax', 'bilateral', 'anisodiff', 'merge_by_volume', '3d_connected_component_analysis', 'clean_boundaries_morphology'], 'type': '2D', 'threshold': 0.4}\n",
      "pipeline_2D_thr_0.4_norm_minmax_2_12 {'pipeline': ['isotropy', 'norm_minmax', 'bilateral', 'anisodiff', 'merge_by_volume', 'clean_boundaries_morphology', '3d_connected_component_analysis'], 'type': '2D', 'threshold': 0.4}\n",
      "pipeline_2D_thr_0.4_norm_minmax_2_13 {'pipeline': ['isotropy', 'norm_minmax', 'bilateral', 'anisodiff', 'clean_boundaries_morphology', '3d_connected_component_analysis', 'merge_by_volume'], 'type': '2D', 'threshold': 0.4}\n",
      "pipeline_2D_thr_0.4_norm_minmax_2_14 {'pipeline': ['isotropy', 'norm_minmax', 'bilateral', 'anisodiff', 'clean_boundaries_morphology', 'merge_by_volume', '3d_connected_component_analysis'], 'type': '2D', 'threshold': 0.4}\n",
      "pipeline_2D_thr_0.4_norm_minmax_2_15 {'pipeline': ['isotropy', 'norm_minmax', 'bilateral', 'anisodiff'], 'type': '2D', 'threshold': 0.4}\n",
      "pipeline_2D_thr_0.4_norm_minmax_3_0 {'pipeline': ['isotropy', 'norm_minmax', 'anisodiff', 'bilateral', '3d_connected_component_analysis'], 'type': '2D', 'threshold': 0.4}\n",
      "pipeline_2D_thr_0.4_norm_minmax_3_1 {'pipeline': ['isotropy', 'norm_minmax', 'anisodiff', 'bilateral', 'merge_by_volume'], 'type': '2D', 'threshold': 0.4}\n",
      "pipeline_2D_thr_0.4_norm_minmax_3_2 {'pipeline': ['isotropy', 'norm_minmax', 'anisodiff', 'bilateral', 'clean_boundaries_morphology'], 'type': '2D', 'threshold': 0.4}\n",
      "pipeline_2D_thr_0.4_norm_minmax_3_3 {'pipeline': ['isotropy', 'norm_minmax', 'anisodiff', 'bilateral', '3d_connected_component_analysis', 'merge_by_volume'], 'type': '2D', 'threshold': 0.4}\n",
      "pipeline_2D_thr_0.4_norm_minmax_3_4 {'pipeline': ['isotropy', 'norm_minmax', 'anisodiff', 'bilateral', '3d_connected_component_analysis', 'clean_boundaries_morphology'], 'type': '2D', 'threshold': 0.4}\n",
      "pipeline_2D_thr_0.4_norm_minmax_3_5 {'pipeline': ['isotropy', 'norm_minmax', 'anisodiff', 'bilateral', 'merge_by_volume', '3d_connected_component_analysis'], 'type': '2D', 'threshold': 0.4}\n",
      "pipeline_2D_thr_0.4_norm_minmax_3_6 {'pipeline': ['isotropy', 'norm_minmax', 'anisodiff', 'bilateral', 'merge_by_volume', 'clean_boundaries_morphology'], 'type': '2D', 'threshold': 0.4}\n",
      "pipeline_2D_thr_0.4_norm_minmax_3_7 {'pipeline': ['isotropy', 'norm_minmax', 'anisodiff', 'bilateral', 'clean_boundaries_morphology', '3d_connected_component_analysis'], 'type': '2D', 'threshold': 0.4}\n",
      "pipeline_2D_thr_0.4_norm_minmax_3_8 {'pipeline': ['isotropy', 'norm_minmax', 'anisodiff', 'bilateral', 'clean_boundaries_morphology', 'merge_by_volume'], 'type': '2D', 'threshold': 0.4}\n",
      "pipeline_2D_thr_0.4_norm_minmax_3_9 {'pipeline': ['isotropy', 'norm_minmax', 'anisodiff', 'bilateral', '3d_connected_component_analysis', 'merge_by_volume', 'clean_boundaries_morphology'], 'type': '2D', 'threshold': 0.4}\n",
      "pipeline_2D_thr_0.4_norm_minmax_3_10 {'pipeline': ['isotropy', 'norm_minmax', 'anisodiff', 'bilateral', '3d_connected_component_analysis', 'clean_boundaries_morphology', 'merge_by_volume'], 'type': '2D', 'threshold': 0.4}\n",
      "pipeline_2D_thr_0.4_norm_minmax_3_11 {'pipeline': ['isotropy', 'norm_minmax', 'anisodiff', 'bilateral', 'merge_by_volume', '3d_connected_component_analysis', 'clean_boundaries_morphology'], 'type': '2D', 'threshold': 0.4}\n",
      "pipeline_2D_thr_0.4_norm_minmax_3_12 {'pipeline': ['isotropy', 'norm_minmax', 'anisodiff', 'bilateral', 'merge_by_volume', 'clean_boundaries_morphology', '3d_connected_component_analysis'], 'type': '2D', 'threshold': 0.4}\n",
      "pipeline_2D_thr_0.4_norm_minmax_3_13 {'pipeline': ['isotropy', 'norm_minmax', 'anisodiff', 'bilateral', 'clean_boundaries_morphology', '3d_connected_component_analysis', 'merge_by_volume'], 'type': '2D', 'threshold': 0.4}\n",
      "pipeline_2D_thr_0.4_norm_minmax_3_14 {'pipeline': ['isotropy', 'norm_minmax', 'anisodiff', 'bilateral', 'clean_boundaries_morphology', 'merge_by_volume', '3d_connected_component_analysis'], 'type': '2D', 'threshold': 0.4}\n",
      "pipeline_2D_thr_0.4_norm_minmax_3_15 {'pipeline': ['isotropy', 'norm_minmax', 'anisodiff', 'bilateral'], 'type': '2D', 'threshold': 0.4}\n",
      "pipeline_2D_thr_0.4_norm_percentile_0_0 {'pipeline': ['isotropy', 'norm_percentile', 'bilateral', '3d_connected_component_analysis'], 'type': '2D', 'threshold': 0.4}\n",
      "pipeline_2D_thr_0.4_norm_percentile_0_1 {'pipeline': ['isotropy', 'norm_percentile', 'bilateral', 'merge_by_volume'], 'type': '2D', 'threshold': 0.4}\n",
      "pipeline_2D_thr_0.4_norm_percentile_0_2 {'pipeline': ['isotropy', 'norm_percentile', 'bilateral', 'clean_boundaries_morphology'], 'type': '2D', 'threshold': 0.4}\n",
      "pipeline_2D_thr_0.4_norm_percentile_0_3 {'pipeline': ['isotropy', 'norm_percentile', 'bilateral', '3d_connected_component_analysis', 'merge_by_volume'], 'type': '2D', 'threshold': 0.4}\n",
      "pipeline_2D_thr_0.4_norm_percentile_0_4 {'pipeline': ['isotropy', 'norm_percentile', 'bilateral', '3d_connected_component_analysis', 'clean_boundaries_morphology'], 'type': '2D', 'threshold': 0.4}\n",
      "pipeline_2D_thr_0.4_norm_percentile_0_5 {'pipeline': ['isotropy', 'norm_percentile', 'bilateral', 'merge_by_volume', '3d_connected_component_analysis'], 'type': '2D', 'threshold': 0.4}\n",
      "pipeline_2D_thr_0.4_norm_percentile_0_6 {'pipeline': ['isotropy', 'norm_percentile', 'bilateral', 'merge_by_volume', 'clean_boundaries_morphology'], 'type': '2D', 'threshold': 0.4}\n",
      "pipeline_2D_thr_0.4_norm_percentile_0_7 {'pipeline': ['isotropy', 'norm_percentile', 'bilateral', 'clean_boundaries_morphology', '3d_connected_component_analysis'], 'type': '2D', 'threshold': 0.4}\n",
      "pipeline_2D_thr_0.4_norm_percentile_0_8 {'pipeline': ['isotropy', 'norm_percentile', 'bilateral', 'clean_boundaries_morphology', 'merge_by_volume'], 'type': '2D', 'threshold': 0.4}\n",
      "pipeline_2D_thr_0.4_norm_percentile_0_9 {'pipeline': ['isotropy', 'norm_percentile', 'bilateral', '3d_connected_component_analysis', 'merge_by_volume', 'clean_boundaries_morphology'], 'type': '2D', 'threshold': 0.4}\n",
      "pipeline_2D_thr_0.4_norm_percentile_0_10 {'pipeline': ['isotropy', 'norm_percentile', 'bilateral', '3d_connected_component_analysis', 'clean_boundaries_morphology', 'merge_by_volume'], 'type': '2D', 'threshold': 0.4}\n",
      "pipeline_2D_thr_0.4_norm_percentile_0_11 {'pipeline': ['isotropy', 'norm_percentile', 'bilateral', 'merge_by_volume', '3d_connected_component_analysis', 'clean_boundaries_morphology'], 'type': '2D', 'threshold': 0.4}\n",
      "pipeline_2D_thr_0.4_norm_percentile_0_12 {'pipeline': ['isotropy', 'norm_percentile', 'bilateral', 'merge_by_volume', 'clean_boundaries_morphology', '3d_connected_component_analysis'], 'type': '2D', 'threshold': 0.4}\n",
      "pipeline_2D_thr_0.4_norm_percentile_0_13 {'pipeline': ['isotropy', 'norm_percentile', 'bilateral', 'clean_boundaries_morphology', '3d_connected_component_analysis', 'merge_by_volume'], 'type': '2D', 'threshold': 0.4}\n",
      "pipeline_2D_thr_0.4_norm_percentile_0_14 {'pipeline': ['isotropy', 'norm_percentile', 'bilateral', 'clean_boundaries_morphology', 'merge_by_volume', '3d_connected_component_analysis'], 'type': '2D', 'threshold': 0.4}\n",
      "pipeline_2D_thr_0.4_norm_percentile_0_15 {'pipeline': ['isotropy', 'norm_percentile', 'bilateral'], 'type': '2D', 'threshold': 0.4}\n",
      "pipeline_2D_thr_0.4_norm_percentile_1_0 {'pipeline': ['isotropy', 'norm_percentile', 'anisodiff', '3d_connected_component_analysis'], 'type': '2D', 'threshold': 0.4}\n",
      "pipeline_2D_thr_0.4_norm_percentile_1_1 {'pipeline': ['isotropy', 'norm_percentile', 'anisodiff', 'merge_by_volume'], 'type': '2D', 'threshold': 0.4}\n",
      "pipeline_2D_thr_0.4_norm_percentile_1_2 {'pipeline': ['isotropy', 'norm_percentile', 'anisodiff', 'clean_boundaries_morphology'], 'type': '2D', 'threshold': 0.4}\n",
      "pipeline_2D_thr_0.4_norm_percentile_1_3 {'pipeline': ['isotropy', 'norm_percentile', 'anisodiff', '3d_connected_component_analysis', 'merge_by_volume'], 'type': '2D', 'threshold': 0.4}\n",
      "pipeline_2D_thr_0.4_norm_percentile_1_4 {'pipeline': ['isotropy', 'norm_percentile', 'anisodiff', '3d_connected_component_analysis', 'clean_boundaries_morphology'], 'type': '2D', 'threshold': 0.4}\n",
      "pipeline_2D_thr_0.4_norm_percentile_1_5 {'pipeline': ['isotropy', 'norm_percentile', 'anisodiff', 'merge_by_volume', '3d_connected_component_analysis'], 'type': '2D', 'threshold': 0.4}\n",
      "pipeline_2D_thr_0.4_norm_percentile_1_6 {'pipeline': ['isotropy', 'norm_percentile', 'anisodiff', 'merge_by_volume', 'clean_boundaries_morphology'], 'type': '2D', 'threshold': 0.4}\n",
      "pipeline_2D_thr_0.4_norm_percentile_1_7 {'pipeline': ['isotropy', 'norm_percentile', 'anisodiff', 'clean_boundaries_morphology', '3d_connected_component_analysis'], 'type': '2D', 'threshold': 0.4}\n",
      "pipeline_2D_thr_0.4_norm_percentile_1_8 {'pipeline': ['isotropy', 'norm_percentile', 'anisodiff', 'clean_boundaries_morphology', 'merge_by_volume'], 'type': '2D', 'threshold': 0.4}\n",
      "pipeline_2D_thr_0.4_norm_percentile_1_9 {'pipeline': ['isotropy', 'norm_percentile', 'anisodiff', '3d_connected_component_analysis', 'merge_by_volume', 'clean_boundaries_morphology'], 'type': '2D', 'threshold': 0.4}\n",
      "pipeline_2D_thr_0.4_norm_percentile_1_10 {'pipeline': ['isotropy', 'norm_percentile', 'anisodiff', '3d_connected_component_analysis', 'clean_boundaries_morphology', 'merge_by_volume'], 'type': '2D', 'threshold': 0.4}\n",
      "pipeline_2D_thr_0.4_norm_percentile_1_11 {'pipeline': ['isotropy', 'norm_percentile', 'anisodiff', 'merge_by_volume', '3d_connected_component_analysis', 'clean_boundaries_morphology'], 'type': '2D', 'threshold': 0.4}\n",
      "pipeline_2D_thr_0.4_norm_percentile_1_12 {'pipeline': ['isotropy', 'norm_percentile', 'anisodiff', 'merge_by_volume', 'clean_boundaries_morphology', '3d_connected_component_analysis'], 'type': '2D', 'threshold': 0.4}\n",
      "pipeline_2D_thr_0.4_norm_percentile_1_13 {'pipeline': ['isotropy', 'norm_percentile', 'anisodiff', 'clean_boundaries_morphology', '3d_connected_component_analysis', 'merge_by_volume'], 'type': '2D', 'threshold': 0.4}\n",
      "pipeline_2D_thr_0.4_norm_percentile_1_14 {'pipeline': ['isotropy', 'norm_percentile', 'anisodiff', 'clean_boundaries_morphology', 'merge_by_volume', '3d_connected_component_analysis'], 'type': '2D', 'threshold': 0.4}\n",
      "pipeline_2D_thr_0.4_norm_percentile_1_15 {'pipeline': ['isotropy', 'norm_percentile', 'anisodiff'], 'type': '2D', 'threshold': 0.4}\n",
      "pipeline_2D_thr_0.4_norm_percentile_2_0 {'pipeline': ['isotropy', 'norm_percentile', 'bilateral', 'anisodiff', '3d_connected_component_analysis'], 'type': '2D', 'threshold': 0.4}\n",
      "pipeline_2D_thr_0.4_norm_percentile_2_1 {'pipeline': ['isotropy', 'norm_percentile', 'bilateral', 'anisodiff', 'merge_by_volume'], 'type': '2D', 'threshold': 0.4}\n",
      "pipeline_2D_thr_0.4_norm_percentile_2_2 {'pipeline': ['isotropy', 'norm_percentile', 'bilateral', 'anisodiff', 'clean_boundaries_morphology'], 'type': '2D', 'threshold': 0.4}\n",
      "pipeline_2D_thr_0.4_norm_percentile_2_3 {'pipeline': ['isotropy', 'norm_percentile', 'bilateral', 'anisodiff', '3d_connected_component_analysis', 'merge_by_volume'], 'type': '2D', 'threshold': 0.4}\n",
      "pipeline_2D_thr_0.4_norm_percentile_2_4 {'pipeline': ['isotropy', 'norm_percentile', 'bilateral', 'anisodiff', '3d_connected_component_analysis', 'clean_boundaries_morphology'], 'type': '2D', 'threshold': 0.4}\n",
      "pipeline_2D_thr_0.4_norm_percentile_2_5 {'pipeline': ['isotropy', 'norm_percentile', 'bilateral', 'anisodiff', 'merge_by_volume', '3d_connected_component_analysis'], 'type': '2D', 'threshold': 0.4}\n",
      "pipeline_2D_thr_0.4_norm_percentile_2_6 {'pipeline': ['isotropy', 'norm_percentile', 'bilateral', 'anisodiff', 'merge_by_volume', 'clean_boundaries_morphology'], 'type': '2D', 'threshold': 0.4}\n",
      "pipeline_2D_thr_0.4_norm_percentile_2_7 {'pipeline': ['isotropy', 'norm_percentile', 'bilateral', 'anisodiff', 'clean_boundaries_morphology', '3d_connected_component_analysis'], 'type': '2D', 'threshold': 0.4}\n",
      "pipeline_2D_thr_0.4_norm_percentile_2_8 {'pipeline': ['isotropy', 'norm_percentile', 'bilateral', 'anisodiff', 'clean_boundaries_morphology', 'merge_by_volume'], 'type': '2D', 'threshold': 0.4}\n",
      "pipeline_2D_thr_0.4_norm_percentile_2_9 {'pipeline': ['isotropy', 'norm_percentile', 'bilateral', 'anisodiff', '3d_connected_component_analysis', 'merge_by_volume', 'clean_boundaries_morphology'], 'type': '2D', 'threshold': 0.4}\n",
      "pipeline_2D_thr_0.4_norm_percentile_2_10 {'pipeline': ['isotropy', 'norm_percentile', 'bilateral', 'anisodiff', '3d_connected_component_analysis', 'clean_boundaries_morphology', 'merge_by_volume'], 'type': '2D', 'threshold': 0.4}\n",
      "pipeline_2D_thr_0.4_norm_percentile_2_11 {'pipeline': ['isotropy', 'norm_percentile', 'bilateral', 'anisodiff', 'merge_by_volume', '3d_connected_component_analysis', 'clean_boundaries_morphology'], 'type': '2D', 'threshold': 0.4}\n",
      "pipeline_2D_thr_0.4_norm_percentile_2_12 {'pipeline': ['isotropy', 'norm_percentile', 'bilateral', 'anisodiff', 'merge_by_volume', 'clean_boundaries_morphology', '3d_connected_component_analysis'], 'type': '2D', 'threshold': 0.4}\n",
      "pipeline_2D_thr_0.4_norm_percentile_2_13 {'pipeline': ['isotropy', 'norm_percentile', 'bilateral', 'anisodiff', 'clean_boundaries_morphology', '3d_connected_component_analysis', 'merge_by_volume'], 'type': '2D', 'threshold': 0.4}\n",
      "pipeline_2D_thr_0.4_norm_percentile_2_14 {'pipeline': ['isotropy', 'norm_percentile', 'bilateral', 'anisodiff', 'clean_boundaries_morphology', 'merge_by_volume', '3d_connected_component_analysis'], 'type': '2D', 'threshold': 0.4}\n",
      "pipeline_2D_thr_0.4_norm_percentile_2_15 {'pipeline': ['isotropy', 'norm_percentile', 'bilateral', 'anisodiff'], 'type': '2D', 'threshold': 0.4}\n",
      "pipeline_2D_thr_0.4_norm_percentile_3_0 {'pipeline': ['isotropy', 'norm_percentile', 'anisodiff', 'bilateral', '3d_connected_component_analysis'], 'type': '2D', 'threshold': 0.4}\n",
      "pipeline_2D_thr_0.4_norm_percentile_3_1 {'pipeline': ['isotropy', 'norm_percentile', 'anisodiff', 'bilateral', 'merge_by_volume'], 'type': '2D', 'threshold': 0.4}\n",
      "pipeline_2D_thr_0.4_norm_percentile_3_2 {'pipeline': ['isotropy', 'norm_percentile', 'anisodiff', 'bilateral', 'clean_boundaries_morphology'], 'type': '2D', 'threshold': 0.4}\n",
      "pipeline_2D_thr_0.4_norm_percentile_3_3 {'pipeline': ['isotropy', 'norm_percentile', 'anisodiff', 'bilateral', '3d_connected_component_analysis', 'merge_by_volume'], 'type': '2D', 'threshold': 0.4}\n",
      "pipeline_2D_thr_0.4_norm_percentile_3_4 {'pipeline': ['isotropy', 'norm_percentile', 'anisodiff', 'bilateral', '3d_connected_component_analysis', 'clean_boundaries_morphology'], 'type': '2D', 'threshold': 0.4}\n",
      "pipeline_2D_thr_0.4_norm_percentile_3_5 {'pipeline': ['isotropy', 'norm_percentile', 'anisodiff', 'bilateral', 'merge_by_volume', '3d_connected_component_analysis'], 'type': '2D', 'threshold': 0.4}\n",
      "pipeline_2D_thr_0.4_norm_percentile_3_6 {'pipeline': ['isotropy', 'norm_percentile', 'anisodiff', 'bilateral', 'merge_by_volume', 'clean_boundaries_morphology'], 'type': '2D', 'threshold': 0.4}\n",
      "pipeline_2D_thr_0.4_norm_percentile_3_7 {'pipeline': ['isotropy', 'norm_percentile', 'anisodiff', 'bilateral', 'clean_boundaries_morphology', '3d_connected_component_analysis'], 'type': '2D', 'threshold': 0.4}\n",
      "pipeline_2D_thr_0.4_norm_percentile_3_8 {'pipeline': ['isotropy', 'norm_percentile', 'anisodiff', 'bilateral', 'clean_boundaries_morphology', 'merge_by_volume'], 'type': '2D', 'threshold': 0.4}\n",
      "pipeline_2D_thr_0.4_norm_percentile_3_9 {'pipeline': ['isotropy', 'norm_percentile', 'anisodiff', 'bilateral', '3d_connected_component_analysis', 'merge_by_volume', 'clean_boundaries_morphology'], 'type': '2D', 'threshold': 0.4}\n",
      "pipeline_2D_thr_0.4_norm_percentile_3_10 {'pipeline': ['isotropy', 'norm_percentile', 'anisodiff', 'bilateral', '3d_connected_component_analysis', 'clean_boundaries_morphology', 'merge_by_volume'], 'type': '2D', 'threshold': 0.4}\n",
      "pipeline_2D_thr_0.4_norm_percentile_3_11 {'pipeline': ['isotropy', 'norm_percentile', 'anisodiff', 'bilateral', 'merge_by_volume', '3d_connected_component_analysis', 'clean_boundaries_morphology'], 'type': '2D', 'threshold': 0.4}\n",
      "pipeline_2D_thr_0.4_norm_percentile_3_12 {'pipeline': ['isotropy', 'norm_percentile', 'anisodiff', 'bilateral', 'merge_by_volume', 'clean_boundaries_morphology', '3d_connected_component_analysis'], 'type': '2D', 'threshold': 0.4}\n",
      "pipeline_2D_thr_0.4_norm_percentile_3_13 {'pipeline': ['isotropy', 'norm_percentile', 'anisodiff', 'bilateral', 'clean_boundaries_morphology', '3d_connected_component_analysis', 'merge_by_volume'], 'type': '2D', 'threshold': 0.4}\n",
      "pipeline_2D_thr_0.4_norm_percentile_3_14 {'pipeline': ['isotropy', 'norm_percentile', 'anisodiff', 'bilateral', 'clean_boundaries_morphology', 'merge_by_volume', '3d_connected_component_analysis'], 'type': '2D', 'threshold': 0.4}\n",
      "pipeline_2D_thr_0.4_norm_percentile_3_15 {'pipeline': ['isotropy', 'norm_percentile', 'anisodiff', 'bilateral'], 'type': '2D', 'threshold': 0.4}\n",
      "pipeline_2D_thr_0.5_norm_minmax_0_0 {'pipeline': ['isotropy', 'norm_minmax', 'bilateral', '3d_connected_component_analysis'], 'type': '2D', 'threshold': 0.5}\n",
      "pipeline_2D_thr_0.5_norm_minmax_0_1 {'pipeline': ['isotropy', 'norm_minmax', 'bilateral', 'merge_by_volume'], 'type': '2D', 'threshold': 0.5}\n",
      "pipeline_2D_thr_0.5_norm_minmax_0_2 {'pipeline': ['isotropy', 'norm_minmax', 'bilateral', 'clean_boundaries_morphology'], 'type': '2D', 'threshold': 0.5}\n",
      "pipeline_2D_thr_0.5_norm_minmax_0_3 {'pipeline': ['isotropy', 'norm_minmax', 'bilateral', '3d_connected_component_analysis', 'merge_by_volume'], 'type': '2D', 'threshold': 0.5}\n",
      "pipeline_2D_thr_0.5_norm_minmax_0_4 {'pipeline': ['isotropy', 'norm_minmax', 'bilateral', '3d_connected_component_analysis', 'clean_boundaries_morphology'], 'type': '2D', 'threshold': 0.5}\n",
      "pipeline_2D_thr_0.5_norm_minmax_0_5 {'pipeline': ['isotropy', 'norm_minmax', 'bilateral', 'merge_by_volume', '3d_connected_component_analysis'], 'type': '2D', 'threshold': 0.5}\n",
      "pipeline_2D_thr_0.5_norm_minmax_0_6 {'pipeline': ['isotropy', 'norm_minmax', 'bilateral', 'merge_by_volume', 'clean_boundaries_morphology'], 'type': '2D', 'threshold': 0.5}\n",
      "pipeline_2D_thr_0.5_norm_minmax_0_7 {'pipeline': ['isotropy', 'norm_minmax', 'bilateral', 'clean_boundaries_morphology', '3d_connected_component_analysis'], 'type': '2D', 'threshold': 0.5}\n",
      "pipeline_2D_thr_0.5_norm_minmax_0_8 {'pipeline': ['isotropy', 'norm_minmax', 'bilateral', 'clean_boundaries_morphology', 'merge_by_volume'], 'type': '2D', 'threshold': 0.5}\n",
      "pipeline_2D_thr_0.5_norm_minmax_0_9 {'pipeline': ['isotropy', 'norm_minmax', 'bilateral', '3d_connected_component_analysis', 'merge_by_volume', 'clean_boundaries_morphology'], 'type': '2D', 'threshold': 0.5}\n",
      "pipeline_2D_thr_0.5_norm_minmax_0_10 {'pipeline': ['isotropy', 'norm_minmax', 'bilateral', '3d_connected_component_analysis', 'clean_boundaries_morphology', 'merge_by_volume'], 'type': '2D', 'threshold': 0.5}\n",
      "pipeline_2D_thr_0.5_norm_minmax_0_11 {'pipeline': ['isotropy', 'norm_minmax', 'bilateral', 'merge_by_volume', '3d_connected_component_analysis', 'clean_boundaries_morphology'], 'type': '2D', 'threshold': 0.5}\n",
      "pipeline_2D_thr_0.5_norm_minmax_0_12 {'pipeline': ['isotropy', 'norm_minmax', 'bilateral', 'merge_by_volume', 'clean_boundaries_morphology', '3d_connected_component_analysis'], 'type': '2D', 'threshold': 0.5}\n",
      "pipeline_2D_thr_0.5_norm_minmax_0_13 {'pipeline': ['isotropy', 'norm_minmax', 'bilateral', 'clean_boundaries_morphology', '3d_connected_component_analysis', 'merge_by_volume'], 'type': '2D', 'threshold': 0.5}\n",
      "pipeline_2D_thr_0.5_norm_minmax_0_14 {'pipeline': ['isotropy', 'norm_minmax', 'bilateral', 'clean_boundaries_morphology', 'merge_by_volume', '3d_connected_component_analysis'], 'type': '2D', 'threshold': 0.5}\n",
      "pipeline_2D_thr_0.5_norm_minmax_0_15 {'pipeline': ['isotropy', 'norm_minmax', 'bilateral'], 'type': '2D', 'threshold': 0.5}\n",
      "pipeline_2D_thr_0.5_norm_minmax_1_0 {'pipeline': ['isotropy', 'norm_minmax', 'anisodiff', '3d_connected_component_analysis'], 'type': '2D', 'threshold': 0.5}\n",
      "pipeline_2D_thr_0.5_norm_minmax_1_1 {'pipeline': ['isotropy', 'norm_minmax', 'anisodiff', 'merge_by_volume'], 'type': '2D', 'threshold': 0.5}\n",
      "pipeline_2D_thr_0.5_norm_minmax_1_2 {'pipeline': ['isotropy', 'norm_minmax', 'anisodiff', 'clean_boundaries_morphology'], 'type': '2D', 'threshold': 0.5}\n",
      "pipeline_2D_thr_0.5_norm_minmax_1_3 {'pipeline': ['isotropy', 'norm_minmax', 'anisodiff', '3d_connected_component_analysis', 'merge_by_volume'], 'type': '2D', 'threshold': 0.5}\n",
      "pipeline_2D_thr_0.5_norm_minmax_1_4 {'pipeline': ['isotropy', 'norm_minmax', 'anisodiff', '3d_connected_component_analysis', 'clean_boundaries_morphology'], 'type': '2D', 'threshold': 0.5}\n",
      "pipeline_2D_thr_0.5_norm_minmax_1_5 {'pipeline': ['isotropy', 'norm_minmax', 'anisodiff', 'merge_by_volume', '3d_connected_component_analysis'], 'type': '2D', 'threshold': 0.5}\n",
      "pipeline_2D_thr_0.5_norm_minmax_1_6 {'pipeline': ['isotropy', 'norm_minmax', 'anisodiff', 'merge_by_volume', 'clean_boundaries_morphology'], 'type': '2D', 'threshold': 0.5}\n",
      "pipeline_2D_thr_0.5_norm_minmax_1_7 {'pipeline': ['isotropy', 'norm_minmax', 'anisodiff', 'clean_boundaries_morphology', '3d_connected_component_analysis'], 'type': '2D', 'threshold': 0.5}\n",
      "pipeline_2D_thr_0.5_norm_minmax_1_8 {'pipeline': ['isotropy', 'norm_minmax', 'anisodiff', 'clean_boundaries_morphology', 'merge_by_volume'], 'type': '2D', 'threshold': 0.5}\n",
      "pipeline_2D_thr_0.5_norm_minmax_1_9 {'pipeline': ['isotropy', 'norm_minmax', 'anisodiff', '3d_connected_component_analysis', 'merge_by_volume', 'clean_boundaries_morphology'], 'type': '2D', 'threshold': 0.5}\n",
      "pipeline_2D_thr_0.5_norm_minmax_1_10 {'pipeline': ['isotropy', 'norm_minmax', 'anisodiff', '3d_connected_component_analysis', 'clean_boundaries_morphology', 'merge_by_volume'], 'type': '2D', 'threshold': 0.5}\n",
      "pipeline_2D_thr_0.5_norm_minmax_1_11 {'pipeline': ['isotropy', 'norm_minmax', 'anisodiff', 'merge_by_volume', '3d_connected_component_analysis', 'clean_boundaries_morphology'], 'type': '2D', 'threshold': 0.5}\n",
      "pipeline_2D_thr_0.5_norm_minmax_1_12 {'pipeline': ['isotropy', 'norm_minmax', 'anisodiff', 'merge_by_volume', 'clean_boundaries_morphology', '3d_connected_component_analysis'], 'type': '2D', 'threshold': 0.5}\n",
      "pipeline_2D_thr_0.5_norm_minmax_1_13 {'pipeline': ['isotropy', 'norm_minmax', 'anisodiff', 'clean_boundaries_morphology', '3d_connected_component_analysis', 'merge_by_volume'], 'type': '2D', 'threshold': 0.5}\n",
      "pipeline_2D_thr_0.5_norm_minmax_1_14 {'pipeline': ['isotropy', 'norm_minmax', 'anisodiff', 'clean_boundaries_morphology', 'merge_by_volume', '3d_connected_component_analysis'], 'type': '2D', 'threshold': 0.5}\n",
      "pipeline_2D_thr_0.5_norm_minmax_1_15 {'pipeline': ['isotropy', 'norm_minmax', 'anisodiff'], 'type': '2D', 'threshold': 0.5}\n",
      "pipeline_2D_thr_0.5_norm_minmax_2_0 {'pipeline': ['isotropy', 'norm_minmax', 'bilateral', 'anisodiff', '3d_connected_component_analysis'], 'type': '2D', 'threshold': 0.5}\n",
      "pipeline_2D_thr_0.5_norm_minmax_2_1 {'pipeline': ['isotropy', 'norm_minmax', 'bilateral', 'anisodiff', 'merge_by_volume'], 'type': '2D', 'threshold': 0.5}\n",
      "pipeline_2D_thr_0.5_norm_minmax_2_2 {'pipeline': ['isotropy', 'norm_minmax', 'bilateral', 'anisodiff', 'clean_boundaries_morphology'], 'type': '2D', 'threshold': 0.5}\n",
      "pipeline_2D_thr_0.5_norm_minmax_2_3 {'pipeline': ['isotropy', 'norm_minmax', 'bilateral', 'anisodiff', '3d_connected_component_analysis', 'merge_by_volume'], 'type': '2D', 'threshold': 0.5}\n",
      "pipeline_2D_thr_0.5_norm_minmax_2_4 {'pipeline': ['isotropy', 'norm_minmax', 'bilateral', 'anisodiff', '3d_connected_component_analysis', 'clean_boundaries_morphology'], 'type': '2D', 'threshold': 0.5}\n",
      "pipeline_2D_thr_0.5_norm_minmax_2_5 {'pipeline': ['isotropy', 'norm_minmax', 'bilateral', 'anisodiff', 'merge_by_volume', '3d_connected_component_analysis'], 'type': '2D', 'threshold': 0.5}\n",
      "pipeline_2D_thr_0.5_norm_minmax_2_6 {'pipeline': ['isotropy', 'norm_minmax', 'bilateral', 'anisodiff', 'merge_by_volume', 'clean_boundaries_morphology'], 'type': '2D', 'threshold': 0.5}\n",
      "pipeline_2D_thr_0.5_norm_minmax_2_7 {'pipeline': ['isotropy', 'norm_minmax', 'bilateral', 'anisodiff', 'clean_boundaries_morphology', '3d_connected_component_analysis'], 'type': '2D', 'threshold': 0.5}\n",
      "pipeline_2D_thr_0.5_norm_minmax_2_8 {'pipeline': ['isotropy', 'norm_minmax', 'bilateral', 'anisodiff', 'clean_boundaries_morphology', 'merge_by_volume'], 'type': '2D', 'threshold': 0.5}\n",
      "pipeline_2D_thr_0.5_norm_minmax_2_9 {'pipeline': ['isotropy', 'norm_minmax', 'bilateral', 'anisodiff', '3d_connected_component_analysis', 'merge_by_volume', 'clean_boundaries_morphology'], 'type': '2D', 'threshold': 0.5}\n",
      "pipeline_2D_thr_0.5_norm_minmax_2_10 {'pipeline': ['isotropy', 'norm_minmax', 'bilateral', 'anisodiff', '3d_connected_component_analysis', 'clean_boundaries_morphology', 'merge_by_volume'], 'type': '2D', 'threshold': 0.5}\n",
      "pipeline_2D_thr_0.5_norm_minmax_2_11 {'pipeline': ['isotropy', 'norm_minmax', 'bilateral', 'anisodiff', 'merge_by_volume', '3d_connected_component_analysis', 'clean_boundaries_morphology'], 'type': '2D', 'threshold': 0.5}\n",
      "pipeline_2D_thr_0.5_norm_minmax_2_12 {'pipeline': ['isotropy', 'norm_minmax', 'bilateral', 'anisodiff', 'merge_by_volume', 'clean_boundaries_morphology', '3d_connected_component_analysis'], 'type': '2D', 'threshold': 0.5}\n",
      "pipeline_2D_thr_0.5_norm_minmax_2_13 {'pipeline': ['isotropy', 'norm_minmax', 'bilateral', 'anisodiff', 'clean_boundaries_morphology', '3d_connected_component_analysis', 'merge_by_volume'], 'type': '2D', 'threshold': 0.5}\n",
      "pipeline_2D_thr_0.5_norm_minmax_2_14 {'pipeline': ['isotropy', 'norm_minmax', 'bilateral', 'anisodiff', 'clean_boundaries_morphology', 'merge_by_volume', '3d_connected_component_analysis'], 'type': '2D', 'threshold': 0.5}\n",
      "pipeline_2D_thr_0.5_norm_minmax_2_15 {'pipeline': ['isotropy', 'norm_minmax', 'bilateral', 'anisodiff'], 'type': '2D', 'threshold': 0.5}\n",
      "pipeline_2D_thr_0.5_norm_minmax_3_0 {'pipeline': ['isotropy', 'norm_minmax', 'anisodiff', 'bilateral', '3d_connected_component_analysis'], 'type': '2D', 'threshold': 0.5}\n",
      "pipeline_2D_thr_0.5_norm_minmax_3_1 {'pipeline': ['isotropy', 'norm_minmax', 'anisodiff', 'bilateral', 'merge_by_volume'], 'type': '2D', 'threshold': 0.5}\n",
      "pipeline_2D_thr_0.5_norm_minmax_3_2 {'pipeline': ['isotropy', 'norm_minmax', 'anisodiff', 'bilateral', 'clean_boundaries_morphology'], 'type': '2D', 'threshold': 0.5}\n",
      "pipeline_2D_thr_0.5_norm_minmax_3_3 {'pipeline': ['isotropy', 'norm_minmax', 'anisodiff', 'bilateral', '3d_connected_component_analysis', 'merge_by_volume'], 'type': '2D', 'threshold': 0.5}\n",
      "pipeline_2D_thr_0.5_norm_minmax_3_4 {'pipeline': ['isotropy', 'norm_minmax', 'anisodiff', 'bilateral', '3d_connected_component_analysis', 'clean_boundaries_morphology'], 'type': '2D', 'threshold': 0.5}\n",
      "pipeline_2D_thr_0.5_norm_minmax_3_5 {'pipeline': ['isotropy', 'norm_minmax', 'anisodiff', 'bilateral', 'merge_by_volume', '3d_connected_component_analysis'], 'type': '2D', 'threshold': 0.5}\n",
      "pipeline_2D_thr_0.5_norm_minmax_3_6 {'pipeline': ['isotropy', 'norm_minmax', 'anisodiff', 'bilateral', 'merge_by_volume', 'clean_boundaries_morphology'], 'type': '2D', 'threshold': 0.5}\n",
      "pipeline_2D_thr_0.5_norm_minmax_3_7 {'pipeline': ['isotropy', 'norm_minmax', 'anisodiff', 'bilateral', 'clean_boundaries_morphology', '3d_connected_component_analysis'], 'type': '2D', 'threshold': 0.5}\n",
      "pipeline_2D_thr_0.5_norm_minmax_3_8 {'pipeline': ['isotropy', 'norm_minmax', 'anisodiff', 'bilateral', 'clean_boundaries_morphology', 'merge_by_volume'], 'type': '2D', 'threshold': 0.5}\n",
      "pipeline_2D_thr_0.5_norm_minmax_3_9 {'pipeline': ['isotropy', 'norm_minmax', 'anisodiff', 'bilateral', '3d_connected_component_analysis', 'merge_by_volume', 'clean_boundaries_morphology'], 'type': '2D', 'threshold': 0.5}\n",
      "pipeline_2D_thr_0.5_norm_minmax_3_10 {'pipeline': ['isotropy', 'norm_minmax', 'anisodiff', 'bilateral', '3d_connected_component_analysis', 'clean_boundaries_morphology', 'merge_by_volume'], 'type': '2D', 'threshold': 0.5}\n",
      "pipeline_2D_thr_0.5_norm_minmax_3_11 {'pipeline': ['isotropy', 'norm_minmax', 'anisodiff', 'bilateral', 'merge_by_volume', '3d_connected_component_analysis', 'clean_boundaries_morphology'], 'type': '2D', 'threshold': 0.5}\n",
      "pipeline_2D_thr_0.5_norm_minmax_3_12 {'pipeline': ['isotropy', 'norm_minmax', 'anisodiff', 'bilateral', 'merge_by_volume', 'clean_boundaries_morphology', '3d_connected_component_analysis'], 'type': '2D', 'threshold': 0.5}\n",
      "pipeline_2D_thr_0.5_norm_minmax_3_13 {'pipeline': ['isotropy', 'norm_minmax', 'anisodiff', 'bilateral', 'clean_boundaries_morphology', '3d_connected_component_analysis', 'merge_by_volume'], 'type': '2D', 'threshold': 0.5}\n",
      "pipeline_2D_thr_0.5_norm_minmax_3_14 {'pipeline': ['isotropy', 'norm_minmax', 'anisodiff', 'bilateral', 'clean_boundaries_morphology', 'merge_by_volume', '3d_connected_component_analysis'], 'type': '2D', 'threshold': 0.5}\n",
      "pipeline_2D_thr_0.5_norm_minmax_3_15 {'pipeline': ['isotropy', 'norm_minmax', 'anisodiff', 'bilateral'], 'type': '2D', 'threshold': 0.5}\n",
      "pipeline_2D_thr_0.5_norm_percentile_0_0 {'pipeline': ['isotropy', 'norm_percentile', 'bilateral', '3d_connected_component_analysis'], 'type': '2D', 'threshold': 0.5}\n",
      "pipeline_2D_thr_0.5_norm_percentile_0_1 {'pipeline': ['isotropy', 'norm_percentile', 'bilateral', 'merge_by_volume'], 'type': '2D', 'threshold': 0.5}\n",
      "pipeline_2D_thr_0.5_norm_percentile_0_2 {'pipeline': ['isotropy', 'norm_percentile', 'bilateral', 'clean_boundaries_morphology'], 'type': '2D', 'threshold': 0.5}\n",
      "pipeline_2D_thr_0.5_norm_percentile_0_3 {'pipeline': ['isotropy', 'norm_percentile', 'bilateral', '3d_connected_component_analysis', 'merge_by_volume'], 'type': '2D', 'threshold': 0.5}\n",
      "pipeline_2D_thr_0.5_norm_percentile_0_4 {'pipeline': ['isotropy', 'norm_percentile', 'bilateral', '3d_connected_component_analysis', 'clean_boundaries_morphology'], 'type': '2D', 'threshold': 0.5}\n",
      "pipeline_2D_thr_0.5_norm_percentile_0_5 {'pipeline': ['isotropy', 'norm_percentile', 'bilateral', 'merge_by_volume', '3d_connected_component_analysis'], 'type': '2D', 'threshold': 0.5}\n",
      "pipeline_2D_thr_0.5_norm_percentile_0_6 {'pipeline': ['isotropy', 'norm_percentile', 'bilateral', 'merge_by_volume', 'clean_boundaries_morphology'], 'type': '2D', 'threshold': 0.5}\n",
      "pipeline_2D_thr_0.5_norm_percentile_0_7 {'pipeline': ['isotropy', 'norm_percentile', 'bilateral', 'clean_boundaries_morphology', '3d_connected_component_analysis'], 'type': '2D', 'threshold': 0.5}\n",
      "pipeline_2D_thr_0.5_norm_percentile_0_8 {'pipeline': ['isotropy', 'norm_percentile', 'bilateral', 'clean_boundaries_morphology', 'merge_by_volume'], 'type': '2D', 'threshold': 0.5}\n",
      "pipeline_2D_thr_0.5_norm_percentile_0_9 {'pipeline': ['isotropy', 'norm_percentile', 'bilateral', '3d_connected_component_analysis', 'merge_by_volume', 'clean_boundaries_morphology'], 'type': '2D', 'threshold': 0.5}\n",
      "pipeline_2D_thr_0.5_norm_percentile_0_10 {'pipeline': ['isotropy', 'norm_percentile', 'bilateral', '3d_connected_component_analysis', 'clean_boundaries_morphology', 'merge_by_volume'], 'type': '2D', 'threshold': 0.5}\n",
      "pipeline_2D_thr_0.5_norm_percentile_0_11 {'pipeline': ['isotropy', 'norm_percentile', 'bilateral', 'merge_by_volume', '3d_connected_component_analysis', 'clean_boundaries_morphology'], 'type': '2D', 'threshold': 0.5}\n",
      "pipeline_2D_thr_0.5_norm_percentile_0_12 {'pipeline': ['isotropy', 'norm_percentile', 'bilateral', 'merge_by_volume', 'clean_boundaries_morphology', '3d_connected_component_analysis'], 'type': '2D', 'threshold': 0.5}\n",
      "pipeline_2D_thr_0.5_norm_percentile_0_13 {'pipeline': ['isotropy', 'norm_percentile', 'bilateral', 'clean_boundaries_morphology', '3d_connected_component_analysis', 'merge_by_volume'], 'type': '2D', 'threshold': 0.5}\n",
      "pipeline_2D_thr_0.5_norm_percentile_0_14 {'pipeline': ['isotropy', 'norm_percentile', 'bilateral', 'clean_boundaries_morphology', 'merge_by_volume', '3d_connected_component_analysis'], 'type': '2D', 'threshold': 0.5}\n",
      "pipeline_2D_thr_0.5_norm_percentile_0_15 {'pipeline': ['isotropy', 'norm_percentile', 'bilateral'], 'type': '2D', 'threshold': 0.5}\n",
      "pipeline_2D_thr_0.5_norm_percentile_1_0 {'pipeline': ['isotropy', 'norm_percentile', 'anisodiff', '3d_connected_component_analysis'], 'type': '2D', 'threshold': 0.5}\n",
      "pipeline_2D_thr_0.5_norm_percentile_1_1 {'pipeline': ['isotropy', 'norm_percentile', 'anisodiff', 'merge_by_volume'], 'type': '2D', 'threshold': 0.5}\n",
      "pipeline_2D_thr_0.5_norm_percentile_1_2 {'pipeline': ['isotropy', 'norm_percentile', 'anisodiff', 'clean_boundaries_morphology'], 'type': '2D', 'threshold': 0.5}\n",
      "pipeline_2D_thr_0.5_norm_percentile_1_3 {'pipeline': ['isotropy', 'norm_percentile', 'anisodiff', '3d_connected_component_analysis', 'merge_by_volume'], 'type': '2D', 'threshold': 0.5}\n",
      "pipeline_2D_thr_0.5_norm_percentile_1_4 {'pipeline': ['isotropy', 'norm_percentile', 'anisodiff', '3d_connected_component_analysis', 'clean_boundaries_morphology'], 'type': '2D', 'threshold': 0.5}\n",
      "pipeline_2D_thr_0.5_norm_percentile_1_5 {'pipeline': ['isotropy', 'norm_percentile', 'anisodiff', 'merge_by_volume', '3d_connected_component_analysis'], 'type': '2D', 'threshold': 0.5}\n",
      "pipeline_2D_thr_0.5_norm_percentile_1_6 {'pipeline': ['isotropy', 'norm_percentile', 'anisodiff', 'merge_by_volume', 'clean_boundaries_morphology'], 'type': '2D', 'threshold': 0.5}\n",
      "pipeline_2D_thr_0.5_norm_percentile_1_7 {'pipeline': ['isotropy', 'norm_percentile', 'anisodiff', 'clean_boundaries_morphology', '3d_connected_component_analysis'], 'type': '2D', 'threshold': 0.5}\n",
      "pipeline_2D_thr_0.5_norm_percentile_1_8 {'pipeline': ['isotropy', 'norm_percentile', 'anisodiff', 'clean_boundaries_morphology', 'merge_by_volume'], 'type': '2D', 'threshold': 0.5}\n",
      "pipeline_2D_thr_0.5_norm_percentile_1_9 {'pipeline': ['isotropy', 'norm_percentile', 'anisodiff', '3d_connected_component_analysis', 'merge_by_volume', 'clean_boundaries_morphology'], 'type': '2D', 'threshold': 0.5}\n",
      "pipeline_2D_thr_0.5_norm_percentile_1_10 {'pipeline': ['isotropy', 'norm_percentile', 'anisodiff', '3d_connected_component_analysis', 'clean_boundaries_morphology', 'merge_by_volume'], 'type': '2D', 'threshold': 0.5}\n",
      "pipeline_2D_thr_0.5_norm_percentile_1_11 {'pipeline': ['isotropy', 'norm_percentile', 'anisodiff', 'merge_by_volume', '3d_connected_component_analysis', 'clean_boundaries_morphology'], 'type': '2D', 'threshold': 0.5}\n",
      "pipeline_2D_thr_0.5_norm_percentile_1_12 {'pipeline': ['isotropy', 'norm_percentile', 'anisodiff', 'merge_by_volume', 'clean_boundaries_morphology', '3d_connected_component_analysis'], 'type': '2D', 'threshold': 0.5}\n",
      "pipeline_2D_thr_0.5_norm_percentile_1_13 {'pipeline': ['isotropy', 'norm_percentile', 'anisodiff', 'clean_boundaries_morphology', '3d_connected_component_analysis', 'merge_by_volume'], 'type': '2D', 'threshold': 0.5}\n",
      "pipeline_2D_thr_0.5_norm_percentile_1_14 {'pipeline': ['isotropy', 'norm_percentile', 'anisodiff', 'clean_boundaries_morphology', 'merge_by_volume', '3d_connected_component_analysis'], 'type': '2D', 'threshold': 0.5}\n",
      "pipeline_2D_thr_0.5_norm_percentile_1_15 {'pipeline': ['isotropy', 'norm_percentile', 'anisodiff'], 'type': '2D', 'threshold': 0.5}\n",
      "pipeline_2D_thr_0.5_norm_percentile_2_0 {'pipeline': ['isotropy', 'norm_percentile', 'bilateral', 'anisodiff', '3d_connected_component_analysis'], 'type': '2D', 'threshold': 0.5}\n",
      "pipeline_2D_thr_0.5_norm_percentile_2_1 {'pipeline': ['isotropy', 'norm_percentile', 'bilateral', 'anisodiff', 'merge_by_volume'], 'type': '2D', 'threshold': 0.5}\n",
      "pipeline_2D_thr_0.5_norm_percentile_2_2 {'pipeline': ['isotropy', 'norm_percentile', 'bilateral', 'anisodiff', 'clean_boundaries_morphology'], 'type': '2D', 'threshold': 0.5}\n",
      "pipeline_2D_thr_0.5_norm_percentile_2_3 {'pipeline': ['isotropy', 'norm_percentile', 'bilateral', 'anisodiff', '3d_connected_component_analysis', 'merge_by_volume'], 'type': '2D', 'threshold': 0.5}\n",
      "pipeline_2D_thr_0.5_norm_percentile_2_4 {'pipeline': ['isotropy', 'norm_percentile', 'bilateral', 'anisodiff', '3d_connected_component_analysis', 'clean_boundaries_morphology'], 'type': '2D', 'threshold': 0.5}\n",
      "pipeline_2D_thr_0.5_norm_percentile_2_5 {'pipeline': ['isotropy', 'norm_percentile', 'bilateral', 'anisodiff', 'merge_by_volume', '3d_connected_component_analysis'], 'type': '2D', 'threshold': 0.5}\n",
      "pipeline_2D_thr_0.5_norm_percentile_2_6 {'pipeline': ['isotropy', 'norm_percentile', 'bilateral', 'anisodiff', 'merge_by_volume', 'clean_boundaries_morphology'], 'type': '2D', 'threshold': 0.5}\n",
      "pipeline_2D_thr_0.5_norm_percentile_2_7 {'pipeline': ['isotropy', 'norm_percentile', 'bilateral', 'anisodiff', 'clean_boundaries_morphology', '3d_connected_component_analysis'], 'type': '2D', 'threshold': 0.5}\n",
      "pipeline_2D_thr_0.5_norm_percentile_2_8 {'pipeline': ['isotropy', 'norm_percentile', 'bilateral', 'anisodiff', 'clean_boundaries_morphology', 'merge_by_volume'], 'type': '2D', 'threshold': 0.5}\n",
      "pipeline_2D_thr_0.5_norm_percentile_2_9 {'pipeline': ['isotropy', 'norm_percentile', 'bilateral', 'anisodiff', '3d_connected_component_analysis', 'merge_by_volume', 'clean_boundaries_morphology'], 'type': '2D', 'threshold': 0.5}\n",
      "pipeline_2D_thr_0.5_norm_percentile_2_10 {'pipeline': ['isotropy', 'norm_percentile', 'bilateral', 'anisodiff', '3d_connected_component_analysis', 'clean_boundaries_morphology', 'merge_by_volume'], 'type': '2D', 'threshold': 0.5}\n",
      "pipeline_2D_thr_0.5_norm_percentile_2_11 {'pipeline': ['isotropy', 'norm_percentile', 'bilateral', 'anisodiff', 'merge_by_volume', '3d_connected_component_analysis', 'clean_boundaries_morphology'], 'type': '2D', 'threshold': 0.5}\n",
      "pipeline_2D_thr_0.5_norm_percentile_2_12 {'pipeline': ['isotropy', 'norm_percentile', 'bilateral', 'anisodiff', 'merge_by_volume', 'clean_boundaries_morphology', '3d_connected_component_analysis'], 'type': '2D', 'threshold': 0.5}\n",
      "pipeline_2D_thr_0.5_norm_percentile_2_13 {'pipeline': ['isotropy', 'norm_percentile', 'bilateral', 'anisodiff', 'clean_boundaries_morphology', '3d_connected_component_analysis', 'merge_by_volume'], 'type': '2D', 'threshold': 0.5}\n",
      "pipeline_2D_thr_0.5_norm_percentile_2_14 {'pipeline': ['isotropy', 'norm_percentile', 'bilateral', 'anisodiff', 'clean_boundaries_morphology', 'merge_by_volume', '3d_connected_component_analysis'], 'type': '2D', 'threshold': 0.5}\n",
      "pipeline_2D_thr_0.5_norm_percentile_2_15 {'pipeline': ['isotropy', 'norm_percentile', 'bilateral', 'anisodiff'], 'type': '2D', 'threshold': 0.5}\n",
      "pipeline_2D_thr_0.5_norm_percentile_3_0 {'pipeline': ['isotropy', 'norm_percentile', 'anisodiff', 'bilateral', '3d_connected_component_analysis'], 'type': '2D', 'threshold': 0.5}\n",
      "pipeline_2D_thr_0.5_norm_percentile_3_1 {'pipeline': ['isotropy', 'norm_percentile', 'anisodiff', 'bilateral', 'merge_by_volume'], 'type': '2D', 'threshold': 0.5}\n",
      "pipeline_2D_thr_0.5_norm_percentile_3_2 {'pipeline': ['isotropy', 'norm_percentile', 'anisodiff', 'bilateral', 'clean_boundaries_morphology'], 'type': '2D', 'threshold': 0.5}\n",
      "pipeline_2D_thr_0.5_norm_percentile_3_3 {'pipeline': ['isotropy', 'norm_percentile', 'anisodiff', 'bilateral', '3d_connected_component_analysis', 'merge_by_volume'], 'type': '2D', 'threshold': 0.5}\n",
      "pipeline_2D_thr_0.5_norm_percentile_3_4 {'pipeline': ['isotropy', 'norm_percentile', 'anisodiff', 'bilateral', '3d_connected_component_analysis', 'clean_boundaries_morphology'], 'type': '2D', 'threshold': 0.5}\n",
      "pipeline_2D_thr_0.5_norm_percentile_3_5 {'pipeline': ['isotropy', 'norm_percentile', 'anisodiff', 'bilateral', 'merge_by_volume', '3d_connected_component_analysis'], 'type': '2D', 'threshold': 0.5}\n",
      "pipeline_2D_thr_0.5_norm_percentile_3_6 {'pipeline': ['isotropy', 'norm_percentile', 'anisodiff', 'bilateral', 'merge_by_volume', 'clean_boundaries_morphology'], 'type': '2D', 'threshold': 0.5}\n",
      "pipeline_2D_thr_0.5_norm_percentile_3_7 {'pipeline': ['isotropy', 'norm_percentile', 'anisodiff', 'bilateral', 'clean_boundaries_morphology', '3d_connected_component_analysis'], 'type': '2D', 'threshold': 0.5}\n",
      "pipeline_2D_thr_0.5_norm_percentile_3_8 {'pipeline': ['isotropy', 'norm_percentile', 'anisodiff', 'bilateral', 'clean_boundaries_morphology', 'merge_by_volume'], 'type': '2D', 'threshold': 0.5}\n",
      "pipeline_2D_thr_0.5_norm_percentile_3_9 {'pipeline': ['isotropy', 'norm_percentile', 'anisodiff', 'bilateral', '3d_connected_component_analysis', 'merge_by_volume', 'clean_boundaries_morphology'], 'type': '2D', 'threshold': 0.5}\n",
      "pipeline_2D_thr_0.5_norm_percentile_3_10 {'pipeline': ['isotropy', 'norm_percentile', 'anisodiff', 'bilateral', '3d_connected_component_analysis', 'clean_boundaries_morphology', 'merge_by_volume'], 'type': '2D', 'threshold': 0.5}\n",
      "pipeline_2D_thr_0.5_norm_percentile_3_11 {'pipeline': ['isotropy', 'norm_percentile', 'anisodiff', 'bilateral', 'merge_by_volume', '3d_connected_component_analysis', 'clean_boundaries_morphology'], 'type': '2D', 'threshold': 0.5}\n",
      "pipeline_2D_thr_0.5_norm_percentile_3_12 {'pipeline': ['isotropy', 'norm_percentile', 'anisodiff', 'bilateral', 'merge_by_volume', 'clean_boundaries_morphology', '3d_connected_component_analysis'], 'type': '2D', 'threshold': 0.5}\n",
      "pipeline_2D_thr_0.5_norm_percentile_3_13 {'pipeline': ['isotropy', 'norm_percentile', 'anisodiff', 'bilateral', 'clean_boundaries_morphology', '3d_connected_component_analysis', 'merge_by_volume'], 'type': '2D', 'threshold': 0.5}\n",
      "pipeline_2D_thr_0.5_norm_percentile_3_14 {'pipeline': ['isotropy', 'norm_percentile', 'anisodiff', 'bilateral', 'clean_boundaries_morphology', 'merge_by_volume', '3d_connected_component_analysis'], 'type': '2D', 'threshold': 0.5}\n",
      "pipeline_2D_thr_0.5_norm_percentile_3_15 {'pipeline': ['isotropy', 'norm_percentile', 'anisodiff', 'bilateral'], 'type': '2D', 'threshold': 0.5}\n",
      "pipeline_2D_thr_0.6_norm_minmax_0_0 {'pipeline': ['isotropy', 'norm_minmax', 'bilateral', '3d_connected_component_analysis'], 'type': '2D', 'threshold': 0.6}\n",
      "pipeline_2D_thr_0.6_norm_minmax_0_1 {'pipeline': ['isotropy', 'norm_minmax', 'bilateral', 'merge_by_volume'], 'type': '2D', 'threshold': 0.6}\n",
      "pipeline_2D_thr_0.6_norm_minmax_0_2 {'pipeline': ['isotropy', 'norm_minmax', 'bilateral', 'clean_boundaries_morphology'], 'type': '2D', 'threshold': 0.6}\n",
      "pipeline_2D_thr_0.6_norm_minmax_0_3 {'pipeline': ['isotropy', 'norm_minmax', 'bilateral', '3d_connected_component_analysis', 'merge_by_volume'], 'type': '2D', 'threshold': 0.6}\n",
      "pipeline_2D_thr_0.6_norm_minmax_0_4 {'pipeline': ['isotropy', 'norm_minmax', 'bilateral', '3d_connected_component_analysis', 'clean_boundaries_morphology'], 'type': '2D', 'threshold': 0.6}\n",
      "pipeline_2D_thr_0.6_norm_minmax_0_5 {'pipeline': ['isotropy', 'norm_minmax', 'bilateral', 'merge_by_volume', '3d_connected_component_analysis'], 'type': '2D', 'threshold': 0.6}\n",
      "pipeline_2D_thr_0.6_norm_minmax_0_6 {'pipeline': ['isotropy', 'norm_minmax', 'bilateral', 'merge_by_volume', 'clean_boundaries_morphology'], 'type': '2D', 'threshold': 0.6}\n",
      "pipeline_2D_thr_0.6_norm_minmax_0_7 {'pipeline': ['isotropy', 'norm_minmax', 'bilateral', 'clean_boundaries_morphology', '3d_connected_component_analysis'], 'type': '2D', 'threshold': 0.6}\n",
      "pipeline_2D_thr_0.6_norm_minmax_0_8 {'pipeline': ['isotropy', 'norm_minmax', 'bilateral', 'clean_boundaries_morphology', 'merge_by_volume'], 'type': '2D', 'threshold': 0.6}\n",
      "pipeline_2D_thr_0.6_norm_minmax_0_9 {'pipeline': ['isotropy', 'norm_minmax', 'bilateral', '3d_connected_component_analysis', 'merge_by_volume', 'clean_boundaries_morphology'], 'type': '2D', 'threshold': 0.6}\n",
      "pipeline_2D_thr_0.6_norm_minmax_0_10 {'pipeline': ['isotropy', 'norm_minmax', 'bilateral', '3d_connected_component_analysis', 'clean_boundaries_morphology', 'merge_by_volume'], 'type': '2D', 'threshold': 0.6}\n",
      "pipeline_2D_thr_0.6_norm_minmax_0_11 {'pipeline': ['isotropy', 'norm_minmax', 'bilateral', 'merge_by_volume', '3d_connected_component_analysis', 'clean_boundaries_morphology'], 'type': '2D', 'threshold': 0.6}\n",
      "pipeline_2D_thr_0.6_norm_minmax_0_12 {'pipeline': ['isotropy', 'norm_minmax', 'bilateral', 'merge_by_volume', 'clean_boundaries_morphology', '3d_connected_component_analysis'], 'type': '2D', 'threshold': 0.6}\n",
      "pipeline_2D_thr_0.6_norm_minmax_0_13 {'pipeline': ['isotropy', 'norm_minmax', 'bilateral', 'clean_boundaries_morphology', '3d_connected_component_analysis', 'merge_by_volume'], 'type': '2D', 'threshold': 0.6}\n",
      "pipeline_2D_thr_0.6_norm_minmax_0_14 {'pipeline': ['isotropy', 'norm_minmax', 'bilateral', 'clean_boundaries_morphology', 'merge_by_volume', '3d_connected_component_analysis'], 'type': '2D', 'threshold': 0.6}\n",
      "pipeline_2D_thr_0.6_norm_minmax_0_15 {'pipeline': ['isotropy', 'norm_minmax', 'bilateral'], 'type': '2D', 'threshold': 0.6}\n",
      "pipeline_2D_thr_0.6_norm_minmax_1_0 {'pipeline': ['isotropy', 'norm_minmax', 'anisodiff', '3d_connected_component_analysis'], 'type': '2D', 'threshold': 0.6}\n",
      "pipeline_2D_thr_0.6_norm_minmax_1_1 {'pipeline': ['isotropy', 'norm_minmax', 'anisodiff', 'merge_by_volume'], 'type': '2D', 'threshold': 0.6}\n",
      "pipeline_2D_thr_0.6_norm_minmax_1_2 {'pipeline': ['isotropy', 'norm_minmax', 'anisodiff', 'clean_boundaries_morphology'], 'type': '2D', 'threshold': 0.6}\n",
      "pipeline_2D_thr_0.6_norm_minmax_1_3 {'pipeline': ['isotropy', 'norm_minmax', 'anisodiff', '3d_connected_component_analysis', 'merge_by_volume'], 'type': '2D', 'threshold': 0.6}\n",
      "pipeline_2D_thr_0.6_norm_minmax_1_4 {'pipeline': ['isotropy', 'norm_minmax', 'anisodiff', '3d_connected_component_analysis', 'clean_boundaries_morphology'], 'type': '2D', 'threshold': 0.6}\n",
      "pipeline_2D_thr_0.6_norm_minmax_1_5 {'pipeline': ['isotropy', 'norm_minmax', 'anisodiff', 'merge_by_volume', '3d_connected_component_analysis'], 'type': '2D', 'threshold': 0.6}\n",
      "pipeline_2D_thr_0.6_norm_minmax_1_6 {'pipeline': ['isotropy', 'norm_minmax', 'anisodiff', 'merge_by_volume', 'clean_boundaries_morphology'], 'type': '2D', 'threshold': 0.6}\n",
      "pipeline_2D_thr_0.6_norm_minmax_1_7 {'pipeline': ['isotropy', 'norm_minmax', 'anisodiff', 'clean_boundaries_morphology', '3d_connected_component_analysis'], 'type': '2D', 'threshold': 0.6}\n",
      "pipeline_2D_thr_0.6_norm_minmax_1_8 {'pipeline': ['isotropy', 'norm_minmax', 'anisodiff', 'clean_boundaries_morphology', 'merge_by_volume'], 'type': '2D', 'threshold': 0.6}\n",
      "pipeline_2D_thr_0.6_norm_minmax_1_9 {'pipeline': ['isotropy', 'norm_minmax', 'anisodiff', '3d_connected_component_analysis', 'merge_by_volume', 'clean_boundaries_morphology'], 'type': '2D', 'threshold': 0.6}\n",
      "pipeline_2D_thr_0.6_norm_minmax_1_10 {'pipeline': ['isotropy', 'norm_minmax', 'anisodiff', '3d_connected_component_analysis', 'clean_boundaries_morphology', 'merge_by_volume'], 'type': '2D', 'threshold': 0.6}\n",
      "pipeline_2D_thr_0.6_norm_minmax_1_11 {'pipeline': ['isotropy', 'norm_minmax', 'anisodiff', 'merge_by_volume', '3d_connected_component_analysis', 'clean_boundaries_morphology'], 'type': '2D', 'threshold': 0.6}\n",
      "pipeline_2D_thr_0.6_norm_minmax_1_12 {'pipeline': ['isotropy', 'norm_minmax', 'anisodiff', 'merge_by_volume', 'clean_boundaries_morphology', '3d_connected_component_analysis'], 'type': '2D', 'threshold': 0.6}\n",
      "pipeline_2D_thr_0.6_norm_minmax_1_13 {'pipeline': ['isotropy', 'norm_minmax', 'anisodiff', 'clean_boundaries_morphology', '3d_connected_component_analysis', 'merge_by_volume'], 'type': '2D', 'threshold': 0.6}\n",
      "pipeline_2D_thr_0.6_norm_minmax_1_14 {'pipeline': ['isotropy', 'norm_minmax', 'anisodiff', 'clean_boundaries_morphology', 'merge_by_volume', '3d_connected_component_analysis'], 'type': '2D', 'threshold': 0.6}\n",
      "pipeline_2D_thr_0.6_norm_minmax_1_15 {'pipeline': ['isotropy', 'norm_minmax', 'anisodiff'], 'type': '2D', 'threshold': 0.6}\n",
      "pipeline_2D_thr_0.6_norm_minmax_2_0 {'pipeline': ['isotropy', 'norm_minmax', 'bilateral', 'anisodiff', '3d_connected_component_analysis'], 'type': '2D', 'threshold': 0.6}\n",
      "pipeline_2D_thr_0.6_norm_minmax_2_1 {'pipeline': ['isotropy', 'norm_minmax', 'bilateral', 'anisodiff', 'merge_by_volume'], 'type': '2D', 'threshold': 0.6}\n",
      "pipeline_2D_thr_0.6_norm_minmax_2_2 {'pipeline': ['isotropy', 'norm_minmax', 'bilateral', 'anisodiff', 'clean_boundaries_morphology'], 'type': '2D', 'threshold': 0.6}\n",
      "pipeline_2D_thr_0.6_norm_minmax_2_3 {'pipeline': ['isotropy', 'norm_minmax', 'bilateral', 'anisodiff', '3d_connected_component_analysis', 'merge_by_volume'], 'type': '2D', 'threshold': 0.6}\n",
      "pipeline_2D_thr_0.6_norm_minmax_2_4 {'pipeline': ['isotropy', 'norm_minmax', 'bilateral', 'anisodiff', '3d_connected_component_analysis', 'clean_boundaries_morphology'], 'type': '2D', 'threshold': 0.6}\n",
      "pipeline_2D_thr_0.6_norm_minmax_2_5 {'pipeline': ['isotropy', 'norm_minmax', 'bilateral', 'anisodiff', 'merge_by_volume', '3d_connected_component_analysis'], 'type': '2D', 'threshold': 0.6}\n",
      "pipeline_2D_thr_0.6_norm_minmax_2_6 {'pipeline': ['isotropy', 'norm_minmax', 'bilateral', 'anisodiff', 'merge_by_volume', 'clean_boundaries_morphology'], 'type': '2D', 'threshold': 0.6}\n",
      "pipeline_2D_thr_0.6_norm_minmax_2_7 {'pipeline': ['isotropy', 'norm_minmax', 'bilateral', 'anisodiff', 'clean_boundaries_morphology', '3d_connected_component_analysis'], 'type': '2D', 'threshold': 0.6}\n",
      "pipeline_2D_thr_0.6_norm_minmax_2_8 {'pipeline': ['isotropy', 'norm_minmax', 'bilateral', 'anisodiff', 'clean_boundaries_morphology', 'merge_by_volume'], 'type': '2D', 'threshold': 0.6}\n",
      "pipeline_2D_thr_0.6_norm_minmax_2_9 {'pipeline': ['isotropy', 'norm_minmax', 'bilateral', 'anisodiff', '3d_connected_component_analysis', 'merge_by_volume', 'clean_boundaries_morphology'], 'type': '2D', 'threshold': 0.6}\n",
      "pipeline_2D_thr_0.6_norm_minmax_2_10 {'pipeline': ['isotropy', 'norm_minmax', 'bilateral', 'anisodiff', '3d_connected_component_analysis', 'clean_boundaries_morphology', 'merge_by_volume'], 'type': '2D', 'threshold': 0.6}\n",
      "pipeline_2D_thr_0.6_norm_minmax_2_11 {'pipeline': ['isotropy', 'norm_minmax', 'bilateral', 'anisodiff', 'merge_by_volume', '3d_connected_component_analysis', 'clean_boundaries_morphology'], 'type': '2D', 'threshold': 0.6}\n",
      "pipeline_2D_thr_0.6_norm_minmax_2_12 {'pipeline': ['isotropy', 'norm_minmax', 'bilateral', 'anisodiff', 'merge_by_volume', 'clean_boundaries_morphology', '3d_connected_component_analysis'], 'type': '2D', 'threshold': 0.6}\n",
      "pipeline_2D_thr_0.6_norm_minmax_2_13 {'pipeline': ['isotropy', 'norm_minmax', 'bilateral', 'anisodiff', 'clean_boundaries_morphology', '3d_connected_component_analysis', 'merge_by_volume'], 'type': '2D', 'threshold': 0.6}\n",
      "pipeline_2D_thr_0.6_norm_minmax_2_14 {'pipeline': ['isotropy', 'norm_minmax', 'bilateral', 'anisodiff', 'clean_boundaries_morphology', 'merge_by_volume', '3d_connected_component_analysis'], 'type': '2D', 'threshold': 0.6}\n",
      "pipeline_2D_thr_0.6_norm_minmax_2_15 {'pipeline': ['isotropy', 'norm_minmax', 'bilateral', 'anisodiff'], 'type': '2D', 'threshold': 0.6}\n",
      "pipeline_2D_thr_0.6_norm_minmax_3_0 {'pipeline': ['isotropy', 'norm_minmax', 'anisodiff', 'bilateral', '3d_connected_component_analysis'], 'type': '2D', 'threshold': 0.6}\n",
      "pipeline_2D_thr_0.6_norm_minmax_3_1 {'pipeline': ['isotropy', 'norm_minmax', 'anisodiff', 'bilateral', 'merge_by_volume'], 'type': '2D', 'threshold': 0.6}\n",
      "pipeline_2D_thr_0.6_norm_minmax_3_2 {'pipeline': ['isotropy', 'norm_minmax', 'anisodiff', 'bilateral', 'clean_boundaries_morphology'], 'type': '2D', 'threshold': 0.6}\n",
      "pipeline_2D_thr_0.6_norm_minmax_3_3 {'pipeline': ['isotropy', 'norm_minmax', 'anisodiff', 'bilateral', '3d_connected_component_analysis', 'merge_by_volume'], 'type': '2D', 'threshold': 0.6}\n",
      "pipeline_2D_thr_0.6_norm_minmax_3_4 {'pipeline': ['isotropy', 'norm_minmax', 'anisodiff', 'bilateral', '3d_connected_component_analysis', 'clean_boundaries_morphology'], 'type': '2D', 'threshold': 0.6}\n",
      "pipeline_2D_thr_0.6_norm_minmax_3_5 {'pipeline': ['isotropy', 'norm_minmax', 'anisodiff', 'bilateral', 'merge_by_volume', '3d_connected_component_analysis'], 'type': '2D', 'threshold': 0.6}\n",
      "pipeline_2D_thr_0.6_norm_minmax_3_6 {'pipeline': ['isotropy', 'norm_minmax', 'anisodiff', 'bilateral', 'merge_by_volume', 'clean_boundaries_morphology'], 'type': '2D', 'threshold': 0.6}\n",
      "pipeline_2D_thr_0.6_norm_minmax_3_7 {'pipeline': ['isotropy', 'norm_minmax', 'anisodiff', 'bilateral', 'clean_boundaries_morphology', '3d_connected_component_analysis'], 'type': '2D', 'threshold': 0.6}\n",
      "pipeline_2D_thr_0.6_norm_minmax_3_8 {'pipeline': ['isotropy', 'norm_minmax', 'anisodiff', 'bilateral', 'clean_boundaries_morphology', 'merge_by_volume'], 'type': '2D', 'threshold': 0.6}\n",
      "pipeline_2D_thr_0.6_norm_minmax_3_9 {'pipeline': ['isotropy', 'norm_minmax', 'anisodiff', 'bilateral', '3d_connected_component_analysis', 'merge_by_volume', 'clean_boundaries_morphology'], 'type': '2D', 'threshold': 0.6}\n",
      "pipeline_2D_thr_0.6_norm_minmax_3_10 {'pipeline': ['isotropy', 'norm_minmax', 'anisodiff', 'bilateral', '3d_connected_component_analysis', 'clean_boundaries_morphology', 'merge_by_volume'], 'type': '2D', 'threshold': 0.6}\n",
      "pipeline_2D_thr_0.6_norm_minmax_3_11 {'pipeline': ['isotropy', 'norm_minmax', 'anisodiff', 'bilateral', 'merge_by_volume', '3d_connected_component_analysis', 'clean_boundaries_morphology'], 'type': '2D', 'threshold': 0.6}\n",
      "pipeline_2D_thr_0.6_norm_minmax_3_12 {'pipeline': ['isotropy', 'norm_minmax', 'anisodiff', 'bilateral', 'merge_by_volume', 'clean_boundaries_morphology', '3d_connected_component_analysis'], 'type': '2D', 'threshold': 0.6}\n",
      "pipeline_2D_thr_0.6_norm_minmax_3_13 {'pipeline': ['isotropy', 'norm_minmax', 'anisodiff', 'bilateral', 'clean_boundaries_morphology', '3d_connected_component_analysis', 'merge_by_volume'], 'type': '2D', 'threshold': 0.6}\n",
      "pipeline_2D_thr_0.6_norm_minmax_3_14 {'pipeline': ['isotropy', 'norm_minmax', 'anisodiff', 'bilateral', 'clean_boundaries_morphology', 'merge_by_volume', '3d_connected_component_analysis'], 'type': '2D', 'threshold': 0.6}\n",
      "pipeline_2D_thr_0.6_norm_minmax_3_15 {'pipeline': ['isotropy', 'norm_minmax', 'anisodiff', 'bilateral'], 'type': '2D', 'threshold': 0.6}\n",
      "pipeline_2D_thr_0.6_norm_percentile_0_0 {'pipeline': ['isotropy', 'norm_percentile', 'bilateral', '3d_connected_component_analysis'], 'type': '2D', 'threshold': 0.6}\n",
      "pipeline_2D_thr_0.6_norm_percentile_0_1 {'pipeline': ['isotropy', 'norm_percentile', 'bilateral', 'merge_by_volume'], 'type': '2D', 'threshold': 0.6}\n",
      "pipeline_2D_thr_0.6_norm_percentile_0_2 {'pipeline': ['isotropy', 'norm_percentile', 'bilateral', 'clean_boundaries_morphology'], 'type': '2D', 'threshold': 0.6}\n",
      "pipeline_2D_thr_0.6_norm_percentile_0_3 {'pipeline': ['isotropy', 'norm_percentile', 'bilateral', '3d_connected_component_analysis', 'merge_by_volume'], 'type': '2D', 'threshold': 0.6}\n",
      "pipeline_2D_thr_0.6_norm_percentile_0_4 {'pipeline': ['isotropy', 'norm_percentile', 'bilateral', '3d_connected_component_analysis', 'clean_boundaries_morphology'], 'type': '2D', 'threshold': 0.6}\n",
      "pipeline_2D_thr_0.6_norm_percentile_0_5 {'pipeline': ['isotropy', 'norm_percentile', 'bilateral', 'merge_by_volume', '3d_connected_component_analysis'], 'type': '2D', 'threshold': 0.6}\n",
      "pipeline_2D_thr_0.6_norm_percentile_0_6 {'pipeline': ['isotropy', 'norm_percentile', 'bilateral', 'merge_by_volume', 'clean_boundaries_morphology'], 'type': '2D', 'threshold': 0.6}\n",
      "pipeline_2D_thr_0.6_norm_percentile_0_7 {'pipeline': ['isotropy', 'norm_percentile', 'bilateral', 'clean_boundaries_morphology', '3d_connected_component_analysis'], 'type': '2D', 'threshold': 0.6}\n",
      "pipeline_2D_thr_0.6_norm_percentile_0_8 {'pipeline': ['isotropy', 'norm_percentile', 'bilateral', 'clean_boundaries_morphology', 'merge_by_volume'], 'type': '2D', 'threshold': 0.6}\n",
      "pipeline_2D_thr_0.6_norm_percentile_0_9 {'pipeline': ['isotropy', 'norm_percentile', 'bilateral', '3d_connected_component_analysis', 'merge_by_volume', 'clean_boundaries_morphology'], 'type': '2D', 'threshold': 0.6}\n",
      "pipeline_2D_thr_0.6_norm_percentile_0_10 {'pipeline': ['isotropy', 'norm_percentile', 'bilateral', '3d_connected_component_analysis', 'clean_boundaries_morphology', 'merge_by_volume'], 'type': '2D', 'threshold': 0.6}\n",
      "pipeline_2D_thr_0.6_norm_percentile_0_11 {'pipeline': ['isotropy', 'norm_percentile', 'bilateral', 'merge_by_volume', '3d_connected_component_analysis', 'clean_boundaries_morphology'], 'type': '2D', 'threshold': 0.6}\n",
      "pipeline_2D_thr_0.6_norm_percentile_0_12 {'pipeline': ['isotropy', 'norm_percentile', 'bilateral', 'merge_by_volume', 'clean_boundaries_morphology', '3d_connected_component_analysis'], 'type': '2D', 'threshold': 0.6}\n",
      "pipeline_2D_thr_0.6_norm_percentile_0_13 {'pipeline': ['isotropy', 'norm_percentile', 'bilateral', 'clean_boundaries_morphology', '3d_connected_component_analysis', 'merge_by_volume'], 'type': '2D', 'threshold': 0.6}\n",
      "pipeline_2D_thr_0.6_norm_percentile_0_14 {'pipeline': ['isotropy', 'norm_percentile', 'bilateral', 'clean_boundaries_morphology', 'merge_by_volume', '3d_connected_component_analysis'], 'type': '2D', 'threshold': 0.6}\n",
      "pipeline_2D_thr_0.6_norm_percentile_0_15 {'pipeline': ['isotropy', 'norm_percentile', 'bilateral'], 'type': '2D', 'threshold': 0.6}\n",
      "pipeline_2D_thr_0.6_norm_percentile_1_0 {'pipeline': ['isotropy', 'norm_percentile', 'anisodiff', '3d_connected_component_analysis'], 'type': '2D', 'threshold': 0.6}\n",
      "pipeline_2D_thr_0.6_norm_percentile_1_1 {'pipeline': ['isotropy', 'norm_percentile', 'anisodiff', 'merge_by_volume'], 'type': '2D', 'threshold': 0.6}\n",
      "pipeline_2D_thr_0.6_norm_percentile_1_2 {'pipeline': ['isotropy', 'norm_percentile', 'anisodiff', 'clean_boundaries_morphology'], 'type': '2D', 'threshold': 0.6}\n",
      "pipeline_2D_thr_0.6_norm_percentile_1_3 {'pipeline': ['isotropy', 'norm_percentile', 'anisodiff', '3d_connected_component_analysis', 'merge_by_volume'], 'type': '2D', 'threshold': 0.6}\n",
      "pipeline_2D_thr_0.6_norm_percentile_1_4 {'pipeline': ['isotropy', 'norm_percentile', 'anisodiff', '3d_connected_component_analysis', 'clean_boundaries_morphology'], 'type': '2D', 'threshold': 0.6}\n",
      "pipeline_2D_thr_0.6_norm_percentile_1_5 {'pipeline': ['isotropy', 'norm_percentile', 'anisodiff', 'merge_by_volume', '3d_connected_component_analysis'], 'type': '2D', 'threshold': 0.6}\n",
      "pipeline_2D_thr_0.6_norm_percentile_1_6 {'pipeline': ['isotropy', 'norm_percentile', 'anisodiff', 'merge_by_volume', 'clean_boundaries_morphology'], 'type': '2D', 'threshold': 0.6}\n",
      "pipeline_2D_thr_0.6_norm_percentile_1_7 {'pipeline': ['isotropy', 'norm_percentile', 'anisodiff', 'clean_boundaries_morphology', '3d_connected_component_analysis'], 'type': '2D', 'threshold': 0.6}\n",
      "pipeline_2D_thr_0.6_norm_percentile_1_8 {'pipeline': ['isotropy', 'norm_percentile', 'anisodiff', 'clean_boundaries_morphology', 'merge_by_volume'], 'type': '2D', 'threshold': 0.6}\n",
      "pipeline_2D_thr_0.6_norm_percentile_1_9 {'pipeline': ['isotropy', 'norm_percentile', 'anisodiff', '3d_connected_component_analysis', 'merge_by_volume', 'clean_boundaries_morphology'], 'type': '2D', 'threshold': 0.6}\n",
      "pipeline_2D_thr_0.6_norm_percentile_1_10 {'pipeline': ['isotropy', 'norm_percentile', 'anisodiff', '3d_connected_component_analysis', 'clean_boundaries_morphology', 'merge_by_volume'], 'type': '2D', 'threshold': 0.6}\n",
      "pipeline_2D_thr_0.6_norm_percentile_1_11 {'pipeline': ['isotropy', 'norm_percentile', 'anisodiff', 'merge_by_volume', '3d_connected_component_analysis', 'clean_boundaries_morphology'], 'type': '2D', 'threshold': 0.6}\n",
      "pipeline_2D_thr_0.6_norm_percentile_1_12 {'pipeline': ['isotropy', 'norm_percentile', 'anisodiff', 'merge_by_volume', 'clean_boundaries_morphology', '3d_connected_component_analysis'], 'type': '2D', 'threshold': 0.6}\n",
      "pipeline_2D_thr_0.6_norm_percentile_1_13 {'pipeline': ['isotropy', 'norm_percentile', 'anisodiff', 'clean_boundaries_morphology', '3d_connected_component_analysis', 'merge_by_volume'], 'type': '2D', 'threshold': 0.6}\n",
      "pipeline_2D_thr_0.6_norm_percentile_1_14 {'pipeline': ['isotropy', 'norm_percentile', 'anisodiff', 'clean_boundaries_morphology', 'merge_by_volume', '3d_connected_component_analysis'], 'type': '2D', 'threshold': 0.6}\n",
      "pipeline_2D_thr_0.6_norm_percentile_1_15 {'pipeline': ['isotropy', 'norm_percentile', 'anisodiff'], 'type': '2D', 'threshold': 0.6}\n",
      "pipeline_2D_thr_0.6_norm_percentile_2_0 {'pipeline': ['isotropy', 'norm_percentile', 'bilateral', 'anisodiff', '3d_connected_component_analysis'], 'type': '2D', 'threshold': 0.6}\n",
      "pipeline_2D_thr_0.6_norm_percentile_2_1 {'pipeline': ['isotropy', 'norm_percentile', 'bilateral', 'anisodiff', 'merge_by_volume'], 'type': '2D', 'threshold': 0.6}\n",
      "pipeline_2D_thr_0.6_norm_percentile_2_2 {'pipeline': ['isotropy', 'norm_percentile', 'bilateral', 'anisodiff', 'clean_boundaries_morphology'], 'type': '2D', 'threshold': 0.6}\n",
      "pipeline_2D_thr_0.6_norm_percentile_2_3 {'pipeline': ['isotropy', 'norm_percentile', 'bilateral', 'anisodiff', '3d_connected_component_analysis', 'merge_by_volume'], 'type': '2D', 'threshold': 0.6}\n",
      "pipeline_2D_thr_0.6_norm_percentile_2_4 {'pipeline': ['isotropy', 'norm_percentile', 'bilateral', 'anisodiff', '3d_connected_component_analysis', 'clean_boundaries_morphology'], 'type': '2D', 'threshold': 0.6}\n",
      "pipeline_2D_thr_0.6_norm_percentile_2_5 {'pipeline': ['isotropy', 'norm_percentile', 'bilateral', 'anisodiff', 'merge_by_volume', '3d_connected_component_analysis'], 'type': '2D', 'threshold': 0.6}\n",
      "pipeline_2D_thr_0.6_norm_percentile_2_6 {'pipeline': ['isotropy', 'norm_percentile', 'bilateral', 'anisodiff', 'merge_by_volume', 'clean_boundaries_morphology'], 'type': '2D', 'threshold': 0.6}\n",
      "pipeline_2D_thr_0.6_norm_percentile_2_7 {'pipeline': ['isotropy', 'norm_percentile', 'bilateral', 'anisodiff', 'clean_boundaries_morphology', '3d_connected_component_analysis'], 'type': '2D', 'threshold': 0.6}\n",
      "pipeline_2D_thr_0.6_norm_percentile_2_8 {'pipeline': ['isotropy', 'norm_percentile', 'bilateral', 'anisodiff', 'clean_boundaries_morphology', 'merge_by_volume'], 'type': '2D', 'threshold': 0.6}\n",
      "pipeline_2D_thr_0.6_norm_percentile_2_9 {'pipeline': ['isotropy', 'norm_percentile', 'bilateral', 'anisodiff', '3d_connected_component_analysis', 'merge_by_volume', 'clean_boundaries_morphology'], 'type': '2D', 'threshold': 0.6}\n",
      "pipeline_2D_thr_0.6_norm_percentile_2_10 {'pipeline': ['isotropy', 'norm_percentile', 'bilateral', 'anisodiff', '3d_connected_component_analysis', 'clean_boundaries_morphology', 'merge_by_volume'], 'type': '2D', 'threshold': 0.6}\n",
      "pipeline_2D_thr_0.6_norm_percentile_2_11 {'pipeline': ['isotropy', 'norm_percentile', 'bilateral', 'anisodiff', 'merge_by_volume', '3d_connected_component_analysis', 'clean_boundaries_morphology'], 'type': '2D', 'threshold': 0.6}\n",
      "pipeline_2D_thr_0.6_norm_percentile_2_12 {'pipeline': ['isotropy', 'norm_percentile', 'bilateral', 'anisodiff', 'merge_by_volume', 'clean_boundaries_morphology', '3d_connected_component_analysis'], 'type': '2D', 'threshold': 0.6}\n",
      "pipeline_2D_thr_0.6_norm_percentile_2_13 {'pipeline': ['isotropy', 'norm_percentile', 'bilateral', 'anisodiff', 'clean_boundaries_morphology', '3d_connected_component_analysis', 'merge_by_volume'], 'type': '2D', 'threshold': 0.6}\n",
      "pipeline_2D_thr_0.6_norm_percentile_2_14 {'pipeline': ['isotropy', 'norm_percentile', 'bilateral', 'anisodiff', 'clean_boundaries_morphology', 'merge_by_volume', '3d_connected_component_analysis'], 'type': '2D', 'threshold': 0.6}\n",
      "pipeline_2D_thr_0.6_norm_percentile_2_15 {'pipeline': ['isotropy', 'norm_percentile', 'bilateral', 'anisodiff'], 'type': '2D', 'threshold': 0.6}\n",
      "pipeline_2D_thr_0.6_norm_percentile_3_0 {'pipeline': ['isotropy', 'norm_percentile', 'anisodiff', 'bilateral', '3d_connected_component_analysis'], 'type': '2D', 'threshold': 0.6}\n",
      "pipeline_2D_thr_0.6_norm_percentile_3_1 {'pipeline': ['isotropy', 'norm_percentile', 'anisodiff', 'bilateral', 'merge_by_volume'], 'type': '2D', 'threshold': 0.6}\n",
      "pipeline_2D_thr_0.6_norm_percentile_3_2 {'pipeline': ['isotropy', 'norm_percentile', 'anisodiff', 'bilateral', 'clean_boundaries_morphology'], 'type': '2D', 'threshold': 0.6}\n",
      "pipeline_2D_thr_0.6_norm_percentile_3_3 {'pipeline': ['isotropy', 'norm_percentile', 'anisodiff', 'bilateral', '3d_connected_component_analysis', 'merge_by_volume'], 'type': '2D', 'threshold': 0.6}\n",
      "pipeline_2D_thr_0.6_norm_percentile_3_4 {'pipeline': ['isotropy', 'norm_percentile', 'anisodiff', 'bilateral', '3d_connected_component_analysis', 'clean_boundaries_morphology'], 'type': '2D', 'threshold': 0.6}\n",
      "pipeline_2D_thr_0.6_norm_percentile_3_5 {'pipeline': ['isotropy', 'norm_percentile', 'anisodiff', 'bilateral', 'merge_by_volume', '3d_connected_component_analysis'], 'type': '2D', 'threshold': 0.6}\n",
      "pipeline_2D_thr_0.6_norm_percentile_3_6 {'pipeline': ['isotropy', 'norm_percentile', 'anisodiff', 'bilateral', 'merge_by_volume', 'clean_boundaries_morphology'], 'type': '2D', 'threshold': 0.6}\n",
      "pipeline_2D_thr_0.6_norm_percentile_3_7 {'pipeline': ['isotropy', 'norm_percentile', 'anisodiff', 'bilateral', 'clean_boundaries_morphology', '3d_connected_component_analysis'], 'type': '2D', 'threshold': 0.6}\n",
      "pipeline_2D_thr_0.6_norm_percentile_3_8 {'pipeline': ['isotropy', 'norm_percentile', 'anisodiff', 'bilateral', 'clean_boundaries_morphology', 'merge_by_volume'], 'type': '2D', 'threshold': 0.6}\n",
      "pipeline_2D_thr_0.6_norm_percentile_3_9 {'pipeline': ['isotropy', 'norm_percentile', 'anisodiff', 'bilateral', '3d_connected_component_analysis', 'merge_by_volume', 'clean_boundaries_morphology'], 'type': '2D', 'threshold': 0.6}\n",
      "pipeline_2D_thr_0.6_norm_percentile_3_10 {'pipeline': ['isotropy', 'norm_percentile', 'anisodiff', 'bilateral', '3d_connected_component_analysis', 'clean_boundaries_morphology', 'merge_by_volume'], 'type': '2D', 'threshold': 0.6}\n",
      "pipeline_2D_thr_0.6_norm_percentile_3_11 {'pipeline': ['isotropy', 'norm_percentile', 'anisodiff', 'bilateral', 'merge_by_volume', '3d_connected_component_analysis', 'clean_boundaries_morphology'], 'type': '2D', 'threshold': 0.6}\n",
      "pipeline_2D_thr_0.6_norm_percentile_3_12 {'pipeline': ['isotropy', 'norm_percentile', 'anisodiff', 'bilateral', 'merge_by_volume', 'clean_boundaries_morphology', '3d_connected_component_analysis'], 'type': '2D', 'threshold': 0.6}\n",
      "pipeline_2D_thr_0.6_norm_percentile_3_13 {'pipeline': ['isotropy', 'norm_percentile', 'anisodiff', 'bilateral', 'clean_boundaries_morphology', '3d_connected_component_analysis', 'merge_by_volume'], 'type': '2D', 'threshold': 0.6}\n",
      "pipeline_2D_thr_0.6_norm_percentile_3_14 {'pipeline': ['isotropy', 'norm_percentile', 'anisodiff', 'bilateral', 'clean_boundaries_morphology', 'merge_by_volume', '3d_connected_component_analysis'], 'type': '2D', 'threshold': 0.6}\n",
      "pipeline_2D_thr_0.6_norm_percentile_3_15 {'pipeline': ['isotropy', 'norm_percentile', 'anisodiff', 'bilateral'], 'type': '2D', 'threshold': 0.6}\n",
      "pipeline_2D_thr_0.7_norm_minmax_0_0 {'pipeline': ['isotropy', 'norm_minmax', 'bilateral', '3d_connected_component_analysis'], 'type': '2D', 'threshold': 0.7}\n",
      "pipeline_2D_thr_0.7_norm_minmax_0_1 {'pipeline': ['isotropy', 'norm_minmax', 'bilateral', 'merge_by_volume'], 'type': '2D', 'threshold': 0.7}\n",
      "pipeline_2D_thr_0.7_norm_minmax_0_2 {'pipeline': ['isotropy', 'norm_minmax', 'bilateral', 'clean_boundaries_morphology'], 'type': '2D', 'threshold': 0.7}\n",
      "pipeline_2D_thr_0.7_norm_minmax_0_3 {'pipeline': ['isotropy', 'norm_minmax', 'bilateral', '3d_connected_component_analysis', 'merge_by_volume'], 'type': '2D', 'threshold': 0.7}\n",
      "pipeline_2D_thr_0.7_norm_minmax_0_4 {'pipeline': ['isotropy', 'norm_minmax', 'bilateral', '3d_connected_component_analysis', 'clean_boundaries_morphology'], 'type': '2D', 'threshold': 0.7}\n",
      "pipeline_2D_thr_0.7_norm_minmax_0_5 {'pipeline': ['isotropy', 'norm_minmax', 'bilateral', 'merge_by_volume', '3d_connected_component_analysis'], 'type': '2D', 'threshold': 0.7}\n",
      "pipeline_2D_thr_0.7_norm_minmax_0_6 {'pipeline': ['isotropy', 'norm_minmax', 'bilateral', 'merge_by_volume', 'clean_boundaries_morphology'], 'type': '2D', 'threshold': 0.7}\n",
      "pipeline_2D_thr_0.7_norm_minmax_0_7 {'pipeline': ['isotropy', 'norm_minmax', 'bilateral', 'clean_boundaries_morphology', '3d_connected_component_analysis'], 'type': '2D', 'threshold': 0.7}\n",
      "pipeline_2D_thr_0.7_norm_minmax_0_8 {'pipeline': ['isotropy', 'norm_minmax', 'bilateral', 'clean_boundaries_morphology', 'merge_by_volume'], 'type': '2D', 'threshold': 0.7}\n",
      "pipeline_2D_thr_0.7_norm_minmax_0_9 {'pipeline': ['isotropy', 'norm_minmax', 'bilateral', '3d_connected_component_analysis', 'merge_by_volume', 'clean_boundaries_morphology'], 'type': '2D', 'threshold': 0.7}\n",
      "pipeline_2D_thr_0.7_norm_minmax_0_10 {'pipeline': ['isotropy', 'norm_minmax', 'bilateral', '3d_connected_component_analysis', 'clean_boundaries_morphology', 'merge_by_volume'], 'type': '2D', 'threshold': 0.7}\n",
      "pipeline_2D_thr_0.7_norm_minmax_0_11 {'pipeline': ['isotropy', 'norm_minmax', 'bilateral', 'merge_by_volume', '3d_connected_component_analysis', 'clean_boundaries_morphology'], 'type': '2D', 'threshold': 0.7}\n",
      "pipeline_2D_thr_0.7_norm_minmax_0_12 {'pipeline': ['isotropy', 'norm_minmax', 'bilateral', 'merge_by_volume', 'clean_boundaries_morphology', '3d_connected_component_analysis'], 'type': '2D', 'threshold': 0.7}\n",
      "pipeline_2D_thr_0.7_norm_minmax_0_13 {'pipeline': ['isotropy', 'norm_minmax', 'bilateral', 'clean_boundaries_morphology', '3d_connected_component_analysis', 'merge_by_volume'], 'type': '2D', 'threshold': 0.7}\n",
      "pipeline_2D_thr_0.7_norm_minmax_0_14 {'pipeline': ['isotropy', 'norm_minmax', 'bilateral', 'clean_boundaries_morphology', 'merge_by_volume', '3d_connected_component_analysis'], 'type': '2D', 'threshold': 0.7}\n",
      "pipeline_2D_thr_0.7_norm_minmax_0_15 {'pipeline': ['isotropy', 'norm_minmax', 'bilateral'], 'type': '2D', 'threshold': 0.7}\n",
      "pipeline_2D_thr_0.7_norm_minmax_1_0 {'pipeline': ['isotropy', 'norm_minmax', 'anisodiff', '3d_connected_component_analysis'], 'type': '2D', 'threshold': 0.7}\n",
      "pipeline_2D_thr_0.7_norm_minmax_1_1 {'pipeline': ['isotropy', 'norm_minmax', 'anisodiff', 'merge_by_volume'], 'type': '2D', 'threshold': 0.7}\n",
      "pipeline_2D_thr_0.7_norm_minmax_1_2 {'pipeline': ['isotropy', 'norm_minmax', 'anisodiff', 'clean_boundaries_morphology'], 'type': '2D', 'threshold': 0.7}\n",
      "pipeline_2D_thr_0.7_norm_minmax_1_3 {'pipeline': ['isotropy', 'norm_minmax', 'anisodiff', '3d_connected_component_analysis', 'merge_by_volume'], 'type': '2D', 'threshold': 0.7}\n",
      "pipeline_2D_thr_0.7_norm_minmax_1_4 {'pipeline': ['isotropy', 'norm_minmax', 'anisodiff', '3d_connected_component_analysis', 'clean_boundaries_morphology'], 'type': '2D', 'threshold': 0.7}\n",
      "pipeline_2D_thr_0.7_norm_minmax_1_5 {'pipeline': ['isotropy', 'norm_minmax', 'anisodiff', 'merge_by_volume', '3d_connected_component_analysis'], 'type': '2D', 'threshold': 0.7}\n",
      "pipeline_2D_thr_0.7_norm_minmax_1_6 {'pipeline': ['isotropy', 'norm_minmax', 'anisodiff', 'merge_by_volume', 'clean_boundaries_morphology'], 'type': '2D', 'threshold': 0.7}\n",
      "pipeline_2D_thr_0.7_norm_minmax_1_7 {'pipeline': ['isotropy', 'norm_minmax', 'anisodiff', 'clean_boundaries_morphology', '3d_connected_component_analysis'], 'type': '2D', 'threshold': 0.7}\n",
      "pipeline_2D_thr_0.7_norm_minmax_1_8 {'pipeline': ['isotropy', 'norm_minmax', 'anisodiff', 'clean_boundaries_morphology', 'merge_by_volume'], 'type': '2D', 'threshold': 0.7}\n",
      "pipeline_2D_thr_0.7_norm_minmax_1_9 {'pipeline': ['isotropy', 'norm_minmax', 'anisodiff', '3d_connected_component_analysis', 'merge_by_volume', 'clean_boundaries_morphology'], 'type': '2D', 'threshold': 0.7}\n",
      "pipeline_2D_thr_0.7_norm_minmax_1_10 {'pipeline': ['isotropy', 'norm_minmax', 'anisodiff', '3d_connected_component_analysis', 'clean_boundaries_morphology', 'merge_by_volume'], 'type': '2D', 'threshold': 0.7}\n",
      "pipeline_2D_thr_0.7_norm_minmax_1_11 {'pipeline': ['isotropy', 'norm_minmax', 'anisodiff', 'merge_by_volume', '3d_connected_component_analysis', 'clean_boundaries_morphology'], 'type': '2D', 'threshold': 0.7}\n",
      "pipeline_2D_thr_0.7_norm_minmax_1_12 {'pipeline': ['isotropy', 'norm_minmax', 'anisodiff', 'merge_by_volume', 'clean_boundaries_morphology', '3d_connected_component_analysis'], 'type': '2D', 'threshold': 0.7}\n",
      "pipeline_2D_thr_0.7_norm_minmax_1_13 {'pipeline': ['isotropy', 'norm_minmax', 'anisodiff', 'clean_boundaries_morphology', '3d_connected_component_analysis', 'merge_by_volume'], 'type': '2D', 'threshold': 0.7}\n",
      "pipeline_2D_thr_0.7_norm_minmax_1_14 {'pipeline': ['isotropy', 'norm_minmax', 'anisodiff', 'clean_boundaries_morphology', 'merge_by_volume', '3d_connected_component_analysis'], 'type': '2D', 'threshold': 0.7}\n",
      "pipeline_2D_thr_0.7_norm_minmax_1_15 {'pipeline': ['isotropy', 'norm_minmax', 'anisodiff'], 'type': '2D', 'threshold': 0.7}\n",
      "pipeline_2D_thr_0.7_norm_minmax_2_0 {'pipeline': ['isotropy', 'norm_minmax', 'bilateral', 'anisodiff', '3d_connected_component_analysis'], 'type': '2D', 'threshold': 0.7}\n",
      "pipeline_2D_thr_0.7_norm_minmax_2_1 {'pipeline': ['isotropy', 'norm_minmax', 'bilateral', 'anisodiff', 'merge_by_volume'], 'type': '2D', 'threshold': 0.7}\n",
      "pipeline_2D_thr_0.7_norm_minmax_2_2 {'pipeline': ['isotropy', 'norm_minmax', 'bilateral', 'anisodiff', 'clean_boundaries_morphology'], 'type': '2D', 'threshold': 0.7}\n",
      "pipeline_2D_thr_0.7_norm_minmax_2_3 {'pipeline': ['isotropy', 'norm_minmax', 'bilateral', 'anisodiff', '3d_connected_component_analysis', 'merge_by_volume'], 'type': '2D', 'threshold': 0.7}\n",
      "pipeline_2D_thr_0.7_norm_minmax_2_4 {'pipeline': ['isotropy', 'norm_minmax', 'bilateral', 'anisodiff', '3d_connected_component_analysis', 'clean_boundaries_morphology'], 'type': '2D', 'threshold': 0.7}\n",
      "pipeline_2D_thr_0.7_norm_minmax_2_5 {'pipeline': ['isotropy', 'norm_minmax', 'bilateral', 'anisodiff', 'merge_by_volume', '3d_connected_component_analysis'], 'type': '2D', 'threshold': 0.7}\n",
      "pipeline_2D_thr_0.7_norm_minmax_2_6 {'pipeline': ['isotropy', 'norm_minmax', 'bilateral', 'anisodiff', 'merge_by_volume', 'clean_boundaries_morphology'], 'type': '2D', 'threshold': 0.7}\n",
      "pipeline_2D_thr_0.7_norm_minmax_2_7 {'pipeline': ['isotropy', 'norm_minmax', 'bilateral', 'anisodiff', 'clean_boundaries_morphology', '3d_connected_component_analysis'], 'type': '2D', 'threshold': 0.7}\n",
      "pipeline_2D_thr_0.7_norm_minmax_2_8 {'pipeline': ['isotropy', 'norm_minmax', 'bilateral', 'anisodiff', 'clean_boundaries_morphology', 'merge_by_volume'], 'type': '2D', 'threshold': 0.7}\n",
      "pipeline_2D_thr_0.7_norm_minmax_2_9 {'pipeline': ['isotropy', 'norm_minmax', 'bilateral', 'anisodiff', '3d_connected_component_analysis', 'merge_by_volume', 'clean_boundaries_morphology'], 'type': '2D', 'threshold': 0.7}\n",
      "pipeline_2D_thr_0.7_norm_minmax_2_10 {'pipeline': ['isotropy', 'norm_minmax', 'bilateral', 'anisodiff', '3d_connected_component_analysis', 'clean_boundaries_morphology', 'merge_by_volume'], 'type': '2D', 'threshold': 0.7}\n",
      "pipeline_2D_thr_0.7_norm_minmax_2_11 {'pipeline': ['isotropy', 'norm_minmax', 'bilateral', 'anisodiff', 'merge_by_volume', '3d_connected_component_analysis', 'clean_boundaries_morphology'], 'type': '2D', 'threshold': 0.7}\n",
      "pipeline_2D_thr_0.7_norm_minmax_2_12 {'pipeline': ['isotropy', 'norm_minmax', 'bilateral', 'anisodiff', 'merge_by_volume', 'clean_boundaries_morphology', '3d_connected_component_analysis'], 'type': '2D', 'threshold': 0.7}\n",
      "pipeline_2D_thr_0.7_norm_minmax_2_13 {'pipeline': ['isotropy', 'norm_minmax', 'bilateral', 'anisodiff', 'clean_boundaries_morphology', '3d_connected_component_analysis', 'merge_by_volume'], 'type': '2D', 'threshold': 0.7}\n",
      "pipeline_2D_thr_0.7_norm_minmax_2_14 {'pipeline': ['isotropy', 'norm_minmax', 'bilateral', 'anisodiff', 'clean_boundaries_morphology', 'merge_by_volume', '3d_connected_component_analysis'], 'type': '2D', 'threshold': 0.7}\n",
      "pipeline_2D_thr_0.7_norm_minmax_2_15 {'pipeline': ['isotropy', 'norm_minmax', 'bilateral', 'anisodiff'], 'type': '2D', 'threshold': 0.7}\n",
      "pipeline_2D_thr_0.7_norm_minmax_3_0 {'pipeline': ['isotropy', 'norm_minmax', 'anisodiff', 'bilateral', '3d_connected_component_analysis'], 'type': '2D', 'threshold': 0.7}\n",
      "pipeline_2D_thr_0.7_norm_minmax_3_1 {'pipeline': ['isotropy', 'norm_minmax', 'anisodiff', 'bilateral', 'merge_by_volume'], 'type': '2D', 'threshold': 0.7}\n",
      "pipeline_2D_thr_0.7_norm_minmax_3_2 {'pipeline': ['isotropy', 'norm_minmax', 'anisodiff', 'bilateral', 'clean_boundaries_morphology'], 'type': '2D', 'threshold': 0.7}\n",
      "pipeline_2D_thr_0.7_norm_minmax_3_3 {'pipeline': ['isotropy', 'norm_minmax', 'anisodiff', 'bilateral', '3d_connected_component_analysis', 'merge_by_volume'], 'type': '2D', 'threshold': 0.7}\n",
      "pipeline_2D_thr_0.7_norm_minmax_3_4 {'pipeline': ['isotropy', 'norm_minmax', 'anisodiff', 'bilateral', '3d_connected_component_analysis', 'clean_boundaries_morphology'], 'type': '2D', 'threshold': 0.7}\n",
      "pipeline_2D_thr_0.7_norm_minmax_3_5 {'pipeline': ['isotropy', 'norm_minmax', 'anisodiff', 'bilateral', 'merge_by_volume', '3d_connected_component_analysis'], 'type': '2D', 'threshold': 0.7}\n",
      "pipeline_2D_thr_0.7_norm_minmax_3_6 {'pipeline': ['isotropy', 'norm_minmax', 'anisodiff', 'bilateral', 'merge_by_volume', 'clean_boundaries_morphology'], 'type': '2D', 'threshold': 0.7}\n",
      "pipeline_2D_thr_0.7_norm_minmax_3_7 {'pipeline': ['isotropy', 'norm_minmax', 'anisodiff', 'bilateral', 'clean_boundaries_morphology', '3d_connected_component_analysis'], 'type': '2D', 'threshold': 0.7}\n",
      "pipeline_2D_thr_0.7_norm_minmax_3_8 {'pipeline': ['isotropy', 'norm_minmax', 'anisodiff', 'bilateral', 'clean_boundaries_morphology', 'merge_by_volume'], 'type': '2D', 'threshold': 0.7}\n",
      "pipeline_2D_thr_0.7_norm_minmax_3_9 {'pipeline': ['isotropy', 'norm_minmax', 'anisodiff', 'bilateral', '3d_connected_component_analysis', 'merge_by_volume', 'clean_boundaries_morphology'], 'type': '2D', 'threshold': 0.7}\n",
      "pipeline_2D_thr_0.7_norm_minmax_3_10 {'pipeline': ['isotropy', 'norm_minmax', 'anisodiff', 'bilateral', '3d_connected_component_analysis', 'clean_boundaries_morphology', 'merge_by_volume'], 'type': '2D', 'threshold': 0.7}\n",
      "pipeline_2D_thr_0.7_norm_minmax_3_11 {'pipeline': ['isotropy', 'norm_minmax', 'anisodiff', 'bilateral', 'merge_by_volume', '3d_connected_component_analysis', 'clean_boundaries_morphology'], 'type': '2D', 'threshold': 0.7}\n",
      "pipeline_2D_thr_0.7_norm_minmax_3_12 {'pipeline': ['isotropy', 'norm_minmax', 'anisodiff', 'bilateral', 'merge_by_volume', 'clean_boundaries_morphology', '3d_connected_component_analysis'], 'type': '2D', 'threshold': 0.7}\n",
      "pipeline_2D_thr_0.7_norm_minmax_3_13 {'pipeline': ['isotropy', 'norm_minmax', 'anisodiff', 'bilateral', 'clean_boundaries_morphology', '3d_connected_component_analysis', 'merge_by_volume'], 'type': '2D', 'threshold': 0.7}\n",
      "pipeline_2D_thr_0.7_norm_minmax_3_14 {'pipeline': ['isotropy', 'norm_minmax', 'anisodiff', 'bilateral', 'clean_boundaries_morphology', 'merge_by_volume', '3d_connected_component_analysis'], 'type': '2D', 'threshold': 0.7}\n",
      "pipeline_2D_thr_0.7_norm_minmax_3_15 {'pipeline': ['isotropy', 'norm_minmax', 'anisodiff', 'bilateral'], 'type': '2D', 'threshold': 0.7}\n",
      "pipeline_2D_thr_0.7_norm_percentile_0_0 {'pipeline': ['isotropy', 'norm_percentile', 'bilateral', '3d_connected_component_analysis'], 'type': '2D', 'threshold': 0.7}\n",
      "pipeline_2D_thr_0.7_norm_percentile_0_1 {'pipeline': ['isotropy', 'norm_percentile', 'bilateral', 'merge_by_volume'], 'type': '2D', 'threshold': 0.7}\n",
      "pipeline_2D_thr_0.7_norm_percentile_0_2 {'pipeline': ['isotropy', 'norm_percentile', 'bilateral', 'clean_boundaries_morphology'], 'type': '2D', 'threshold': 0.7}\n",
      "pipeline_2D_thr_0.7_norm_percentile_0_3 {'pipeline': ['isotropy', 'norm_percentile', 'bilateral', '3d_connected_component_analysis', 'merge_by_volume'], 'type': '2D', 'threshold': 0.7}\n",
      "pipeline_2D_thr_0.7_norm_percentile_0_4 {'pipeline': ['isotropy', 'norm_percentile', 'bilateral', '3d_connected_component_analysis', 'clean_boundaries_morphology'], 'type': '2D', 'threshold': 0.7}\n",
      "pipeline_2D_thr_0.7_norm_percentile_0_5 {'pipeline': ['isotropy', 'norm_percentile', 'bilateral', 'merge_by_volume', '3d_connected_component_analysis'], 'type': '2D', 'threshold': 0.7}\n",
      "pipeline_2D_thr_0.7_norm_percentile_0_6 {'pipeline': ['isotropy', 'norm_percentile', 'bilateral', 'merge_by_volume', 'clean_boundaries_morphology'], 'type': '2D', 'threshold': 0.7}\n",
      "pipeline_2D_thr_0.7_norm_percentile_0_7 {'pipeline': ['isotropy', 'norm_percentile', 'bilateral', 'clean_boundaries_morphology', '3d_connected_component_analysis'], 'type': '2D', 'threshold': 0.7}\n",
      "pipeline_2D_thr_0.7_norm_percentile_0_8 {'pipeline': ['isotropy', 'norm_percentile', 'bilateral', 'clean_boundaries_morphology', 'merge_by_volume'], 'type': '2D', 'threshold': 0.7}\n",
      "pipeline_2D_thr_0.7_norm_percentile_0_9 {'pipeline': ['isotropy', 'norm_percentile', 'bilateral', '3d_connected_component_analysis', 'merge_by_volume', 'clean_boundaries_morphology'], 'type': '2D', 'threshold': 0.7}\n",
      "pipeline_2D_thr_0.7_norm_percentile_0_10 {'pipeline': ['isotropy', 'norm_percentile', 'bilateral', '3d_connected_component_analysis', 'clean_boundaries_morphology', 'merge_by_volume'], 'type': '2D', 'threshold': 0.7}\n",
      "pipeline_2D_thr_0.7_norm_percentile_0_11 {'pipeline': ['isotropy', 'norm_percentile', 'bilateral', 'merge_by_volume', '3d_connected_component_analysis', 'clean_boundaries_morphology'], 'type': '2D', 'threshold': 0.7}\n",
      "pipeline_2D_thr_0.7_norm_percentile_0_12 {'pipeline': ['isotropy', 'norm_percentile', 'bilateral', 'merge_by_volume', 'clean_boundaries_morphology', '3d_connected_component_analysis'], 'type': '2D', 'threshold': 0.7}\n",
      "pipeline_2D_thr_0.7_norm_percentile_0_13 {'pipeline': ['isotropy', 'norm_percentile', 'bilateral', 'clean_boundaries_morphology', '3d_connected_component_analysis', 'merge_by_volume'], 'type': '2D', 'threshold': 0.7}\n",
      "pipeline_2D_thr_0.7_norm_percentile_0_14 {'pipeline': ['isotropy', 'norm_percentile', 'bilateral', 'clean_boundaries_morphology', 'merge_by_volume', '3d_connected_component_analysis'], 'type': '2D', 'threshold': 0.7}\n",
      "pipeline_2D_thr_0.7_norm_percentile_0_15 {'pipeline': ['isotropy', 'norm_percentile', 'bilateral'], 'type': '2D', 'threshold': 0.7}\n",
      "pipeline_2D_thr_0.7_norm_percentile_1_0 {'pipeline': ['isotropy', 'norm_percentile', 'anisodiff', '3d_connected_component_analysis'], 'type': '2D', 'threshold': 0.7}\n",
      "pipeline_2D_thr_0.7_norm_percentile_1_1 {'pipeline': ['isotropy', 'norm_percentile', 'anisodiff', 'merge_by_volume'], 'type': '2D', 'threshold': 0.7}\n",
      "pipeline_2D_thr_0.7_norm_percentile_1_2 {'pipeline': ['isotropy', 'norm_percentile', 'anisodiff', 'clean_boundaries_morphology'], 'type': '2D', 'threshold': 0.7}\n",
      "pipeline_2D_thr_0.7_norm_percentile_1_3 {'pipeline': ['isotropy', 'norm_percentile', 'anisodiff', '3d_connected_component_analysis', 'merge_by_volume'], 'type': '2D', 'threshold': 0.7}\n",
      "pipeline_2D_thr_0.7_norm_percentile_1_4 {'pipeline': ['isotropy', 'norm_percentile', 'anisodiff', '3d_connected_component_analysis', 'clean_boundaries_morphology'], 'type': '2D', 'threshold': 0.7}\n",
      "pipeline_2D_thr_0.7_norm_percentile_1_5 {'pipeline': ['isotropy', 'norm_percentile', 'anisodiff', 'merge_by_volume', '3d_connected_component_analysis'], 'type': '2D', 'threshold': 0.7}\n",
      "pipeline_2D_thr_0.7_norm_percentile_1_6 {'pipeline': ['isotropy', 'norm_percentile', 'anisodiff', 'merge_by_volume', 'clean_boundaries_morphology'], 'type': '2D', 'threshold': 0.7}\n",
      "pipeline_2D_thr_0.7_norm_percentile_1_7 {'pipeline': ['isotropy', 'norm_percentile', 'anisodiff', 'clean_boundaries_morphology', '3d_connected_component_analysis'], 'type': '2D', 'threshold': 0.7}\n",
      "pipeline_2D_thr_0.7_norm_percentile_1_8 {'pipeline': ['isotropy', 'norm_percentile', 'anisodiff', 'clean_boundaries_morphology', 'merge_by_volume'], 'type': '2D', 'threshold': 0.7}\n",
      "pipeline_2D_thr_0.7_norm_percentile_1_9 {'pipeline': ['isotropy', 'norm_percentile', 'anisodiff', '3d_connected_component_analysis', 'merge_by_volume', 'clean_boundaries_morphology'], 'type': '2D', 'threshold': 0.7}\n",
      "pipeline_2D_thr_0.7_norm_percentile_1_10 {'pipeline': ['isotropy', 'norm_percentile', 'anisodiff', '3d_connected_component_analysis', 'clean_boundaries_morphology', 'merge_by_volume'], 'type': '2D', 'threshold': 0.7}\n",
      "pipeline_2D_thr_0.7_norm_percentile_1_11 {'pipeline': ['isotropy', 'norm_percentile', 'anisodiff', 'merge_by_volume', '3d_connected_component_analysis', 'clean_boundaries_morphology'], 'type': '2D', 'threshold': 0.7}\n",
      "pipeline_2D_thr_0.7_norm_percentile_1_12 {'pipeline': ['isotropy', 'norm_percentile', 'anisodiff', 'merge_by_volume', 'clean_boundaries_morphology', '3d_connected_component_analysis'], 'type': '2D', 'threshold': 0.7}\n",
      "pipeline_2D_thr_0.7_norm_percentile_1_13 {'pipeline': ['isotropy', 'norm_percentile', 'anisodiff', 'clean_boundaries_morphology', '3d_connected_component_analysis', 'merge_by_volume'], 'type': '2D', 'threshold': 0.7}\n",
      "pipeline_2D_thr_0.7_norm_percentile_1_14 {'pipeline': ['isotropy', 'norm_percentile', 'anisodiff', 'clean_boundaries_morphology', 'merge_by_volume', '3d_connected_component_analysis'], 'type': '2D', 'threshold': 0.7}\n",
      "pipeline_2D_thr_0.7_norm_percentile_1_15 {'pipeline': ['isotropy', 'norm_percentile', 'anisodiff'], 'type': '2D', 'threshold': 0.7}\n",
      "pipeline_2D_thr_0.7_norm_percentile_2_0 {'pipeline': ['isotropy', 'norm_percentile', 'bilateral', 'anisodiff', '3d_connected_component_analysis'], 'type': '2D', 'threshold': 0.7}\n",
      "pipeline_2D_thr_0.7_norm_percentile_2_1 {'pipeline': ['isotropy', 'norm_percentile', 'bilateral', 'anisodiff', 'merge_by_volume'], 'type': '2D', 'threshold': 0.7}\n",
      "pipeline_2D_thr_0.7_norm_percentile_2_2 {'pipeline': ['isotropy', 'norm_percentile', 'bilateral', 'anisodiff', 'clean_boundaries_morphology'], 'type': '2D', 'threshold': 0.7}\n",
      "pipeline_2D_thr_0.7_norm_percentile_2_3 {'pipeline': ['isotropy', 'norm_percentile', 'bilateral', 'anisodiff', '3d_connected_component_analysis', 'merge_by_volume'], 'type': '2D', 'threshold': 0.7}\n",
      "pipeline_2D_thr_0.7_norm_percentile_2_4 {'pipeline': ['isotropy', 'norm_percentile', 'bilateral', 'anisodiff', '3d_connected_component_analysis', 'clean_boundaries_morphology'], 'type': '2D', 'threshold': 0.7}\n",
      "pipeline_2D_thr_0.7_norm_percentile_2_5 {'pipeline': ['isotropy', 'norm_percentile', 'bilateral', 'anisodiff', 'merge_by_volume', '3d_connected_component_analysis'], 'type': '2D', 'threshold': 0.7}\n",
      "pipeline_2D_thr_0.7_norm_percentile_2_6 {'pipeline': ['isotropy', 'norm_percentile', 'bilateral', 'anisodiff', 'merge_by_volume', 'clean_boundaries_morphology'], 'type': '2D', 'threshold': 0.7}\n",
      "pipeline_2D_thr_0.7_norm_percentile_2_7 {'pipeline': ['isotropy', 'norm_percentile', 'bilateral', 'anisodiff', 'clean_boundaries_morphology', '3d_connected_component_analysis'], 'type': '2D', 'threshold': 0.7}\n",
      "pipeline_2D_thr_0.7_norm_percentile_2_8 {'pipeline': ['isotropy', 'norm_percentile', 'bilateral', 'anisodiff', 'clean_boundaries_morphology', 'merge_by_volume'], 'type': '2D', 'threshold': 0.7}\n",
      "pipeline_2D_thr_0.7_norm_percentile_2_9 {'pipeline': ['isotropy', 'norm_percentile', 'bilateral', 'anisodiff', '3d_connected_component_analysis', 'merge_by_volume', 'clean_boundaries_morphology'], 'type': '2D', 'threshold': 0.7}\n",
      "pipeline_2D_thr_0.7_norm_percentile_2_10 {'pipeline': ['isotropy', 'norm_percentile', 'bilateral', 'anisodiff', '3d_connected_component_analysis', 'clean_boundaries_morphology', 'merge_by_volume'], 'type': '2D', 'threshold': 0.7}\n",
      "pipeline_2D_thr_0.7_norm_percentile_2_11 {'pipeline': ['isotropy', 'norm_percentile', 'bilateral', 'anisodiff', 'merge_by_volume', '3d_connected_component_analysis', 'clean_boundaries_morphology'], 'type': '2D', 'threshold': 0.7}\n",
      "pipeline_2D_thr_0.7_norm_percentile_2_12 {'pipeline': ['isotropy', 'norm_percentile', 'bilateral', 'anisodiff', 'merge_by_volume', 'clean_boundaries_morphology', '3d_connected_component_analysis'], 'type': '2D', 'threshold': 0.7}\n",
      "pipeline_2D_thr_0.7_norm_percentile_2_13 {'pipeline': ['isotropy', 'norm_percentile', 'bilateral', 'anisodiff', 'clean_boundaries_morphology', '3d_connected_component_analysis', 'merge_by_volume'], 'type': '2D', 'threshold': 0.7}\n",
      "pipeline_2D_thr_0.7_norm_percentile_2_14 {'pipeline': ['isotropy', 'norm_percentile', 'bilateral', 'anisodiff', 'clean_boundaries_morphology', 'merge_by_volume', '3d_connected_component_analysis'], 'type': '2D', 'threshold': 0.7}\n",
      "pipeline_2D_thr_0.7_norm_percentile_2_15 {'pipeline': ['isotropy', 'norm_percentile', 'bilateral', 'anisodiff'], 'type': '2D', 'threshold': 0.7}\n",
      "pipeline_2D_thr_0.7_norm_percentile_3_0 {'pipeline': ['isotropy', 'norm_percentile', 'anisodiff', 'bilateral', '3d_connected_component_analysis'], 'type': '2D', 'threshold': 0.7}\n",
      "pipeline_2D_thr_0.7_norm_percentile_3_1 {'pipeline': ['isotropy', 'norm_percentile', 'anisodiff', 'bilateral', 'merge_by_volume'], 'type': '2D', 'threshold': 0.7}\n",
      "pipeline_2D_thr_0.7_norm_percentile_3_2 {'pipeline': ['isotropy', 'norm_percentile', 'anisodiff', 'bilateral', 'clean_boundaries_morphology'], 'type': '2D', 'threshold': 0.7}\n",
      "pipeline_2D_thr_0.7_norm_percentile_3_3 {'pipeline': ['isotropy', 'norm_percentile', 'anisodiff', 'bilateral', '3d_connected_component_analysis', 'merge_by_volume'], 'type': '2D', 'threshold': 0.7}\n",
      "pipeline_2D_thr_0.7_norm_percentile_3_4 {'pipeline': ['isotropy', 'norm_percentile', 'anisodiff', 'bilateral', '3d_connected_component_analysis', 'clean_boundaries_morphology'], 'type': '2D', 'threshold': 0.7}\n",
      "pipeline_2D_thr_0.7_norm_percentile_3_5 {'pipeline': ['isotropy', 'norm_percentile', 'anisodiff', 'bilateral', 'merge_by_volume', '3d_connected_component_analysis'], 'type': '2D', 'threshold': 0.7}\n",
      "pipeline_2D_thr_0.7_norm_percentile_3_6 {'pipeline': ['isotropy', 'norm_percentile', 'anisodiff', 'bilateral', 'merge_by_volume', 'clean_boundaries_morphology'], 'type': '2D', 'threshold': 0.7}\n",
      "pipeline_2D_thr_0.7_norm_percentile_3_7 {'pipeline': ['isotropy', 'norm_percentile', 'anisodiff', 'bilateral', 'clean_boundaries_morphology', '3d_connected_component_analysis'], 'type': '2D', 'threshold': 0.7}\n",
      "pipeline_2D_thr_0.7_norm_percentile_3_8 {'pipeline': ['isotropy', 'norm_percentile', 'anisodiff', 'bilateral', 'clean_boundaries_morphology', 'merge_by_volume'], 'type': '2D', 'threshold': 0.7}\n",
      "pipeline_2D_thr_0.7_norm_percentile_3_9 {'pipeline': ['isotropy', 'norm_percentile', 'anisodiff', 'bilateral', '3d_connected_component_analysis', 'merge_by_volume', 'clean_boundaries_morphology'], 'type': '2D', 'threshold': 0.7}\n",
      "pipeline_2D_thr_0.7_norm_percentile_3_10 {'pipeline': ['isotropy', 'norm_percentile', 'anisodiff', 'bilateral', '3d_connected_component_analysis', 'clean_boundaries_morphology', 'merge_by_volume'], 'type': '2D', 'threshold': 0.7}\n",
      "pipeline_2D_thr_0.7_norm_percentile_3_11 {'pipeline': ['isotropy', 'norm_percentile', 'anisodiff', 'bilateral', 'merge_by_volume', '3d_connected_component_analysis', 'clean_boundaries_morphology'], 'type': '2D', 'threshold': 0.7}\n",
      "pipeline_2D_thr_0.7_norm_percentile_3_12 {'pipeline': ['isotropy', 'norm_percentile', 'anisodiff', 'bilateral', 'merge_by_volume', 'clean_boundaries_morphology', '3d_connected_component_analysis'], 'type': '2D', 'threshold': 0.7}\n",
      "pipeline_2D_thr_0.7_norm_percentile_3_13 {'pipeline': ['isotropy', 'norm_percentile', 'anisodiff', 'bilateral', 'clean_boundaries_morphology', '3d_connected_component_analysis', 'merge_by_volume'], 'type': '2D', 'threshold': 0.7}\n",
      "pipeline_2D_thr_0.7_norm_percentile_3_14 {'pipeline': ['isotropy', 'norm_percentile', 'anisodiff', 'bilateral', 'clean_boundaries_morphology', 'merge_by_volume', '3d_connected_component_analysis'], 'type': '2D', 'threshold': 0.7}\n",
      "pipeline_2D_thr_0.7_norm_percentile_3_15 {'pipeline': ['isotropy', 'norm_percentile', 'anisodiff', 'bilateral'], 'type': '2D', 'threshold': 0.7}\n",
      "pipeline_2D_thr_0.8_norm_minmax_0_0 {'pipeline': ['isotropy', 'norm_minmax', 'bilateral', '3d_connected_component_analysis'], 'type': '2D', 'threshold': 0.8}\n",
      "pipeline_2D_thr_0.8_norm_minmax_0_1 {'pipeline': ['isotropy', 'norm_minmax', 'bilateral', 'merge_by_volume'], 'type': '2D', 'threshold': 0.8}\n",
      "pipeline_2D_thr_0.8_norm_minmax_0_2 {'pipeline': ['isotropy', 'norm_minmax', 'bilateral', 'clean_boundaries_morphology'], 'type': '2D', 'threshold': 0.8}\n",
      "pipeline_2D_thr_0.8_norm_minmax_0_3 {'pipeline': ['isotropy', 'norm_minmax', 'bilateral', '3d_connected_component_analysis', 'merge_by_volume'], 'type': '2D', 'threshold': 0.8}\n",
      "pipeline_2D_thr_0.8_norm_minmax_0_4 {'pipeline': ['isotropy', 'norm_minmax', 'bilateral', '3d_connected_component_analysis', 'clean_boundaries_morphology'], 'type': '2D', 'threshold': 0.8}\n",
      "pipeline_2D_thr_0.8_norm_minmax_0_5 {'pipeline': ['isotropy', 'norm_minmax', 'bilateral', 'merge_by_volume', '3d_connected_component_analysis'], 'type': '2D', 'threshold': 0.8}\n",
      "pipeline_2D_thr_0.8_norm_minmax_0_6 {'pipeline': ['isotropy', 'norm_minmax', 'bilateral', 'merge_by_volume', 'clean_boundaries_morphology'], 'type': '2D', 'threshold': 0.8}\n",
      "pipeline_2D_thr_0.8_norm_minmax_0_7 {'pipeline': ['isotropy', 'norm_minmax', 'bilateral', 'clean_boundaries_morphology', '3d_connected_component_analysis'], 'type': '2D', 'threshold': 0.8}\n",
      "pipeline_2D_thr_0.8_norm_minmax_0_8 {'pipeline': ['isotropy', 'norm_minmax', 'bilateral', 'clean_boundaries_morphology', 'merge_by_volume'], 'type': '2D', 'threshold': 0.8}\n",
      "pipeline_2D_thr_0.8_norm_minmax_0_9 {'pipeline': ['isotropy', 'norm_minmax', 'bilateral', '3d_connected_component_analysis', 'merge_by_volume', 'clean_boundaries_morphology'], 'type': '2D', 'threshold': 0.8}\n",
      "pipeline_2D_thr_0.8_norm_minmax_0_10 {'pipeline': ['isotropy', 'norm_minmax', 'bilateral', '3d_connected_component_analysis', 'clean_boundaries_morphology', 'merge_by_volume'], 'type': '2D', 'threshold': 0.8}\n",
      "pipeline_2D_thr_0.8_norm_minmax_0_11 {'pipeline': ['isotropy', 'norm_minmax', 'bilateral', 'merge_by_volume', '3d_connected_component_analysis', 'clean_boundaries_morphology'], 'type': '2D', 'threshold': 0.8}\n",
      "pipeline_2D_thr_0.8_norm_minmax_0_12 {'pipeline': ['isotropy', 'norm_minmax', 'bilateral', 'merge_by_volume', 'clean_boundaries_morphology', '3d_connected_component_analysis'], 'type': '2D', 'threshold': 0.8}\n",
      "pipeline_2D_thr_0.8_norm_minmax_0_13 {'pipeline': ['isotropy', 'norm_minmax', 'bilateral', 'clean_boundaries_morphology', '3d_connected_component_analysis', 'merge_by_volume'], 'type': '2D', 'threshold': 0.8}\n",
      "pipeline_2D_thr_0.8_norm_minmax_0_14 {'pipeline': ['isotropy', 'norm_minmax', 'bilateral', 'clean_boundaries_morphology', 'merge_by_volume', '3d_connected_component_analysis'], 'type': '2D', 'threshold': 0.8}\n",
      "pipeline_2D_thr_0.8_norm_minmax_0_15 {'pipeline': ['isotropy', 'norm_minmax', 'bilateral'], 'type': '2D', 'threshold': 0.8}\n",
      "pipeline_2D_thr_0.8_norm_minmax_1_0 {'pipeline': ['isotropy', 'norm_minmax', 'anisodiff', '3d_connected_component_analysis'], 'type': '2D', 'threshold': 0.8}\n",
      "pipeline_2D_thr_0.8_norm_minmax_1_1 {'pipeline': ['isotropy', 'norm_minmax', 'anisodiff', 'merge_by_volume'], 'type': '2D', 'threshold': 0.8}\n",
      "pipeline_2D_thr_0.8_norm_minmax_1_2 {'pipeline': ['isotropy', 'norm_minmax', 'anisodiff', 'clean_boundaries_morphology'], 'type': '2D', 'threshold': 0.8}\n",
      "pipeline_2D_thr_0.8_norm_minmax_1_3 {'pipeline': ['isotropy', 'norm_minmax', 'anisodiff', '3d_connected_component_analysis', 'merge_by_volume'], 'type': '2D', 'threshold': 0.8}\n",
      "pipeline_2D_thr_0.8_norm_minmax_1_4 {'pipeline': ['isotropy', 'norm_minmax', 'anisodiff', '3d_connected_component_analysis', 'clean_boundaries_morphology'], 'type': '2D', 'threshold': 0.8}\n",
      "pipeline_2D_thr_0.8_norm_minmax_1_5 {'pipeline': ['isotropy', 'norm_minmax', 'anisodiff', 'merge_by_volume', '3d_connected_component_analysis'], 'type': '2D', 'threshold': 0.8}\n",
      "pipeline_2D_thr_0.8_norm_minmax_1_6 {'pipeline': ['isotropy', 'norm_minmax', 'anisodiff', 'merge_by_volume', 'clean_boundaries_morphology'], 'type': '2D', 'threshold': 0.8}\n",
      "pipeline_2D_thr_0.8_norm_minmax_1_7 {'pipeline': ['isotropy', 'norm_minmax', 'anisodiff', 'clean_boundaries_morphology', '3d_connected_component_analysis'], 'type': '2D', 'threshold': 0.8}\n",
      "pipeline_2D_thr_0.8_norm_minmax_1_8 {'pipeline': ['isotropy', 'norm_minmax', 'anisodiff', 'clean_boundaries_morphology', 'merge_by_volume'], 'type': '2D', 'threshold': 0.8}\n",
      "pipeline_2D_thr_0.8_norm_minmax_1_9 {'pipeline': ['isotropy', 'norm_minmax', 'anisodiff', '3d_connected_component_analysis', 'merge_by_volume', 'clean_boundaries_morphology'], 'type': '2D', 'threshold': 0.8}\n",
      "pipeline_2D_thr_0.8_norm_minmax_1_10 {'pipeline': ['isotropy', 'norm_minmax', 'anisodiff', '3d_connected_component_analysis', 'clean_boundaries_morphology', 'merge_by_volume'], 'type': '2D', 'threshold': 0.8}\n",
      "pipeline_2D_thr_0.8_norm_minmax_1_11 {'pipeline': ['isotropy', 'norm_minmax', 'anisodiff', 'merge_by_volume', '3d_connected_component_analysis', 'clean_boundaries_morphology'], 'type': '2D', 'threshold': 0.8}\n",
      "pipeline_2D_thr_0.8_norm_minmax_1_12 {'pipeline': ['isotropy', 'norm_minmax', 'anisodiff', 'merge_by_volume', 'clean_boundaries_morphology', '3d_connected_component_analysis'], 'type': '2D', 'threshold': 0.8}\n",
      "pipeline_2D_thr_0.8_norm_minmax_1_13 {'pipeline': ['isotropy', 'norm_minmax', 'anisodiff', 'clean_boundaries_morphology', '3d_connected_component_analysis', 'merge_by_volume'], 'type': '2D', 'threshold': 0.8}\n",
      "pipeline_2D_thr_0.8_norm_minmax_1_14 {'pipeline': ['isotropy', 'norm_minmax', 'anisodiff', 'clean_boundaries_morphology', 'merge_by_volume', '3d_connected_component_analysis'], 'type': '2D', 'threshold': 0.8}\n",
      "pipeline_2D_thr_0.8_norm_minmax_1_15 {'pipeline': ['isotropy', 'norm_minmax', 'anisodiff'], 'type': '2D', 'threshold': 0.8}\n",
      "pipeline_2D_thr_0.8_norm_minmax_2_0 {'pipeline': ['isotropy', 'norm_minmax', 'bilateral', 'anisodiff', '3d_connected_component_analysis'], 'type': '2D', 'threshold': 0.8}\n",
      "pipeline_2D_thr_0.8_norm_minmax_2_1 {'pipeline': ['isotropy', 'norm_minmax', 'bilateral', 'anisodiff', 'merge_by_volume'], 'type': '2D', 'threshold': 0.8}\n",
      "pipeline_2D_thr_0.8_norm_minmax_2_2 {'pipeline': ['isotropy', 'norm_minmax', 'bilateral', 'anisodiff', 'clean_boundaries_morphology'], 'type': '2D', 'threshold': 0.8}\n",
      "pipeline_2D_thr_0.8_norm_minmax_2_3 {'pipeline': ['isotropy', 'norm_minmax', 'bilateral', 'anisodiff', '3d_connected_component_analysis', 'merge_by_volume'], 'type': '2D', 'threshold': 0.8}\n",
      "pipeline_2D_thr_0.8_norm_minmax_2_4 {'pipeline': ['isotropy', 'norm_minmax', 'bilateral', 'anisodiff', '3d_connected_component_analysis', 'clean_boundaries_morphology'], 'type': '2D', 'threshold': 0.8}\n",
      "pipeline_2D_thr_0.8_norm_minmax_2_5 {'pipeline': ['isotropy', 'norm_minmax', 'bilateral', 'anisodiff', 'merge_by_volume', '3d_connected_component_analysis'], 'type': '2D', 'threshold': 0.8}\n",
      "pipeline_2D_thr_0.8_norm_minmax_2_6 {'pipeline': ['isotropy', 'norm_minmax', 'bilateral', 'anisodiff', 'merge_by_volume', 'clean_boundaries_morphology'], 'type': '2D', 'threshold': 0.8}\n",
      "pipeline_2D_thr_0.8_norm_minmax_2_7 {'pipeline': ['isotropy', 'norm_minmax', 'bilateral', 'anisodiff', 'clean_boundaries_morphology', '3d_connected_component_analysis'], 'type': '2D', 'threshold': 0.8}\n",
      "pipeline_2D_thr_0.8_norm_minmax_2_8 {'pipeline': ['isotropy', 'norm_minmax', 'bilateral', 'anisodiff', 'clean_boundaries_morphology', 'merge_by_volume'], 'type': '2D', 'threshold': 0.8}\n",
      "pipeline_2D_thr_0.8_norm_minmax_2_9 {'pipeline': ['isotropy', 'norm_minmax', 'bilateral', 'anisodiff', '3d_connected_component_analysis', 'merge_by_volume', 'clean_boundaries_morphology'], 'type': '2D', 'threshold': 0.8}\n",
      "pipeline_2D_thr_0.8_norm_minmax_2_10 {'pipeline': ['isotropy', 'norm_minmax', 'bilateral', 'anisodiff', '3d_connected_component_analysis', 'clean_boundaries_morphology', 'merge_by_volume'], 'type': '2D', 'threshold': 0.8}\n",
      "pipeline_2D_thr_0.8_norm_minmax_2_11 {'pipeline': ['isotropy', 'norm_minmax', 'bilateral', 'anisodiff', 'merge_by_volume', '3d_connected_component_analysis', 'clean_boundaries_morphology'], 'type': '2D', 'threshold': 0.8}\n",
      "pipeline_2D_thr_0.8_norm_minmax_2_12 {'pipeline': ['isotropy', 'norm_minmax', 'bilateral', 'anisodiff', 'merge_by_volume', 'clean_boundaries_morphology', '3d_connected_component_analysis'], 'type': '2D', 'threshold': 0.8}\n",
      "pipeline_2D_thr_0.8_norm_minmax_2_13 {'pipeline': ['isotropy', 'norm_minmax', 'bilateral', 'anisodiff', 'clean_boundaries_morphology', '3d_connected_component_analysis', 'merge_by_volume'], 'type': '2D', 'threshold': 0.8}\n",
      "pipeline_2D_thr_0.8_norm_minmax_2_14 {'pipeline': ['isotropy', 'norm_minmax', 'bilateral', 'anisodiff', 'clean_boundaries_morphology', 'merge_by_volume', '3d_connected_component_analysis'], 'type': '2D', 'threshold': 0.8}\n",
      "pipeline_2D_thr_0.8_norm_minmax_2_15 {'pipeline': ['isotropy', 'norm_minmax', 'bilateral', 'anisodiff'], 'type': '2D', 'threshold': 0.8}\n",
      "pipeline_2D_thr_0.8_norm_minmax_3_0 {'pipeline': ['isotropy', 'norm_minmax', 'anisodiff', 'bilateral', '3d_connected_component_analysis'], 'type': '2D', 'threshold': 0.8}\n",
      "pipeline_2D_thr_0.8_norm_minmax_3_1 {'pipeline': ['isotropy', 'norm_minmax', 'anisodiff', 'bilateral', 'merge_by_volume'], 'type': '2D', 'threshold': 0.8}\n",
      "pipeline_2D_thr_0.8_norm_minmax_3_2 {'pipeline': ['isotropy', 'norm_minmax', 'anisodiff', 'bilateral', 'clean_boundaries_morphology'], 'type': '2D', 'threshold': 0.8}\n",
      "pipeline_2D_thr_0.8_norm_minmax_3_3 {'pipeline': ['isotropy', 'norm_minmax', 'anisodiff', 'bilateral', '3d_connected_component_analysis', 'merge_by_volume'], 'type': '2D', 'threshold': 0.8}\n",
      "pipeline_2D_thr_0.8_norm_minmax_3_4 {'pipeline': ['isotropy', 'norm_minmax', 'anisodiff', 'bilateral', '3d_connected_component_analysis', 'clean_boundaries_morphology'], 'type': '2D', 'threshold': 0.8}\n",
      "pipeline_2D_thr_0.8_norm_minmax_3_5 {'pipeline': ['isotropy', 'norm_minmax', 'anisodiff', 'bilateral', 'merge_by_volume', '3d_connected_component_analysis'], 'type': '2D', 'threshold': 0.8}\n",
      "pipeline_2D_thr_0.8_norm_minmax_3_6 {'pipeline': ['isotropy', 'norm_minmax', 'anisodiff', 'bilateral', 'merge_by_volume', 'clean_boundaries_morphology'], 'type': '2D', 'threshold': 0.8}\n",
      "pipeline_2D_thr_0.8_norm_minmax_3_7 {'pipeline': ['isotropy', 'norm_minmax', 'anisodiff', 'bilateral', 'clean_boundaries_morphology', '3d_connected_component_analysis'], 'type': '2D', 'threshold': 0.8}\n",
      "pipeline_2D_thr_0.8_norm_minmax_3_8 {'pipeline': ['isotropy', 'norm_minmax', 'anisodiff', 'bilateral', 'clean_boundaries_morphology', 'merge_by_volume'], 'type': '2D', 'threshold': 0.8}\n",
      "pipeline_2D_thr_0.8_norm_minmax_3_9 {'pipeline': ['isotropy', 'norm_minmax', 'anisodiff', 'bilateral', '3d_connected_component_analysis', 'merge_by_volume', 'clean_boundaries_morphology'], 'type': '2D', 'threshold': 0.8}\n",
      "pipeline_2D_thr_0.8_norm_minmax_3_10 {'pipeline': ['isotropy', 'norm_minmax', 'anisodiff', 'bilateral', '3d_connected_component_analysis', 'clean_boundaries_morphology', 'merge_by_volume'], 'type': '2D', 'threshold': 0.8}\n",
      "pipeline_2D_thr_0.8_norm_minmax_3_11 {'pipeline': ['isotropy', 'norm_minmax', 'anisodiff', 'bilateral', 'merge_by_volume', '3d_connected_component_analysis', 'clean_boundaries_morphology'], 'type': '2D', 'threshold': 0.8}\n",
      "pipeline_2D_thr_0.8_norm_minmax_3_12 {'pipeline': ['isotropy', 'norm_minmax', 'anisodiff', 'bilateral', 'merge_by_volume', 'clean_boundaries_morphology', '3d_connected_component_analysis'], 'type': '2D', 'threshold': 0.8}\n",
      "pipeline_2D_thr_0.8_norm_minmax_3_13 {'pipeline': ['isotropy', 'norm_minmax', 'anisodiff', 'bilateral', 'clean_boundaries_morphology', '3d_connected_component_analysis', 'merge_by_volume'], 'type': '2D', 'threshold': 0.8}\n",
      "pipeline_2D_thr_0.8_norm_minmax_3_14 {'pipeline': ['isotropy', 'norm_minmax', 'anisodiff', 'bilateral', 'clean_boundaries_morphology', 'merge_by_volume', '3d_connected_component_analysis'], 'type': '2D', 'threshold': 0.8}\n",
      "pipeline_2D_thr_0.8_norm_minmax_3_15 {'pipeline': ['isotropy', 'norm_minmax', 'anisodiff', 'bilateral'], 'type': '2D', 'threshold': 0.8}\n",
      "pipeline_2D_thr_0.8_norm_percentile_0_0 {'pipeline': ['isotropy', 'norm_percentile', 'bilateral', '3d_connected_component_analysis'], 'type': '2D', 'threshold': 0.8}\n",
      "pipeline_2D_thr_0.8_norm_percentile_0_1 {'pipeline': ['isotropy', 'norm_percentile', 'bilateral', 'merge_by_volume'], 'type': '2D', 'threshold': 0.8}\n",
      "pipeline_2D_thr_0.8_norm_percentile_0_2 {'pipeline': ['isotropy', 'norm_percentile', 'bilateral', 'clean_boundaries_morphology'], 'type': '2D', 'threshold': 0.8}\n",
      "pipeline_2D_thr_0.8_norm_percentile_0_3 {'pipeline': ['isotropy', 'norm_percentile', 'bilateral', '3d_connected_component_analysis', 'merge_by_volume'], 'type': '2D', 'threshold': 0.8}\n",
      "pipeline_2D_thr_0.8_norm_percentile_0_4 {'pipeline': ['isotropy', 'norm_percentile', 'bilateral', '3d_connected_component_analysis', 'clean_boundaries_morphology'], 'type': '2D', 'threshold': 0.8}\n",
      "pipeline_2D_thr_0.8_norm_percentile_0_5 {'pipeline': ['isotropy', 'norm_percentile', 'bilateral', 'merge_by_volume', '3d_connected_component_analysis'], 'type': '2D', 'threshold': 0.8}\n",
      "pipeline_2D_thr_0.8_norm_percentile_0_6 {'pipeline': ['isotropy', 'norm_percentile', 'bilateral', 'merge_by_volume', 'clean_boundaries_morphology'], 'type': '2D', 'threshold': 0.8}\n",
      "pipeline_2D_thr_0.8_norm_percentile_0_7 {'pipeline': ['isotropy', 'norm_percentile', 'bilateral', 'clean_boundaries_morphology', '3d_connected_component_analysis'], 'type': '2D', 'threshold': 0.8}\n",
      "pipeline_2D_thr_0.8_norm_percentile_0_8 {'pipeline': ['isotropy', 'norm_percentile', 'bilateral', 'clean_boundaries_morphology', 'merge_by_volume'], 'type': '2D', 'threshold': 0.8}\n",
      "pipeline_2D_thr_0.8_norm_percentile_0_9 {'pipeline': ['isotropy', 'norm_percentile', 'bilateral', '3d_connected_component_analysis', 'merge_by_volume', 'clean_boundaries_morphology'], 'type': '2D', 'threshold': 0.8}\n",
      "pipeline_2D_thr_0.8_norm_percentile_0_10 {'pipeline': ['isotropy', 'norm_percentile', 'bilateral', '3d_connected_component_analysis', 'clean_boundaries_morphology', 'merge_by_volume'], 'type': '2D', 'threshold': 0.8}\n",
      "pipeline_2D_thr_0.8_norm_percentile_0_11 {'pipeline': ['isotropy', 'norm_percentile', 'bilateral', 'merge_by_volume', '3d_connected_component_analysis', 'clean_boundaries_morphology'], 'type': '2D', 'threshold': 0.8}\n",
      "pipeline_2D_thr_0.8_norm_percentile_0_12 {'pipeline': ['isotropy', 'norm_percentile', 'bilateral', 'merge_by_volume', 'clean_boundaries_morphology', '3d_connected_component_analysis'], 'type': '2D', 'threshold': 0.8}\n",
      "pipeline_2D_thr_0.8_norm_percentile_0_13 {'pipeline': ['isotropy', 'norm_percentile', 'bilateral', 'clean_boundaries_morphology', '3d_connected_component_analysis', 'merge_by_volume'], 'type': '2D', 'threshold': 0.8}\n",
      "pipeline_2D_thr_0.8_norm_percentile_0_14 {'pipeline': ['isotropy', 'norm_percentile', 'bilateral', 'clean_boundaries_morphology', 'merge_by_volume', '3d_connected_component_analysis'], 'type': '2D', 'threshold': 0.8}\n",
      "pipeline_2D_thr_0.8_norm_percentile_0_15 {'pipeline': ['isotropy', 'norm_percentile', 'bilateral'], 'type': '2D', 'threshold': 0.8}\n",
      "pipeline_2D_thr_0.8_norm_percentile_1_0 {'pipeline': ['isotropy', 'norm_percentile', 'anisodiff', '3d_connected_component_analysis'], 'type': '2D', 'threshold': 0.8}\n",
      "pipeline_2D_thr_0.8_norm_percentile_1_1 {'pipeline': ['isotropy', 'norm_percentile', 'anisodiff', 'merge_by_volume'], 'type': '2D', 'threshold': 0.8}\n",
      "pipeline_2D_thr_0.8_norm_percentile_1_2 {'pipeline': ['isotropy', 'norm_percentile', 'anisodiff', 'clean_boundaries_morphology'], 'type': '2D', 'threshold': 0.8}\n",
      "pipeline_2D_thr_0.8_norm_percentile_1_3 {'pipeline': ['isotropy', 'norm_percentile', 'anisodiff', '3d_connected_component_analysis', 'merge_by_volume'], 'type': '2D', 'threshold': 0.8}\n",
      "pipeline_2D_thr_0.8_norm_percentile_1_4 {'pipeline': ['isotropy', 'norm_percentile', 'anisodiff', '3d_connected_component_analysis', 'clean_boundaries_morphology'], 'type': '2D', 'threshold': 0.8}\n",
      "pipeline_2D_thr_0.8_norm_percentile_1_5 {'pipeline': ['isotropy', 'norm_percentile', 'anisodiff', 'merge_by_volume', '3d_connected_component_analysis'], 'type': '2D', 'threshold': 0.8}\n",
      "pipeline_2D_thr_0.8_norm_percentile_1_6 {'pipeline': ['isotropy', 'norm_percentile', 'anisodiff', 'merge_by_volume', 'clean_boundaries_morphology'], 'type': '2D', 'threshold': 0.8}\n",
      "pipeline_2D_thr_0.8_norm_percentile_1_7 {'pipeline': ['isotropy', 'norm_percentile', 'anisodiff', 'clean_boundaries_morphology', '3d_connected_component_analysis'], 'type': '2D', 'threshold': 0.8}\n",
      "pipeline_2D_thr_0.8_norm_percentile_1_8 {'pipeline': ['isotropy', 'norm_percentile', 'anisodiff', 'clean_boundaries_morphology', 'merge_by_volume'], 'type': '2D', 'threshold': 0.8}\n",
      "pipeline_2D_thr_0.8_norm_percentile_1_9 {'pipeline': ['isotropy', 'norm_percentile', 'anisodiff', '3d_connected_component_analysis', 'merge_by_volume', 'clean_boundaries_morphology'], 'type': '2D', 'threshold': 0.8}\n",
      "pipeline_2D_thr_0.8_norm_percentile_1_10 {'pipeline': ['isotropy', 'norm_percentile', 'anisodiff', '3d_connected_component_analysis', 'clean_boundaries_morphology', 'merge_by_volume'], 'type': '2D', 'threshold': 0.8}\n",
      "pipeline_2D_thr_0.8_norm_percentile_1_11 {'pipeline': ['isotropy', 'norm_percentile', 'anisodiff', 'merge_by_volume', '3d_connected_component_analysis', 'clean_boundaries_morphology'], 'type': '2D', 'threshold': 0.8}\n",
      "pipeline_2D_thr_0.8_norm_percentile_1_12 {'pipeline': ['isotropy', 'norm_percentile', 'anisodiff', 'merge_by_volume', 'clean_boundaries_morphology', '3d_connected_component_analysis'], 'type': '2D', 'threshold': 0.8}\n",
      "pipeline_2D_thr_0.8_norm_percentile_1_13 {'pipeline': ['isotropy', 'norm_percentile', 'anisodiff', 'clean_boundaries_morphology', '3d_connected_component_analysis', 'merge_by_volume'], 'type': '2D', 'threshold': 0.8}\n",
      "pipeline_2D_thr_0.8_norm_percentile_1_14 {'pipeline': ['isotropy', 'norm_percentile', 'anisodiff', 'clean_boundaries_morphology', 'merge_by_volume', '3d_connected_component_analysis'], 'type': '2D', 'threshold': 0.8}\n",
      "pipeline_2D_thr_0.8_norm_percentile_1_15 {'pipeline': ['isotropy', 'norm_percentile', 'anisodiff'], 'type': '2D', 'threshold': 0.8}\n",
      "pipeline_2D_thr_0.8_norm_percentile_2_0 {'pipeline': ['isotropy', 'norm_percentile', 'bilateral', 'anisodiff', '3d_connected_component_analysis'], 'type': '2D', 'threshold': 0.8}\n",
      "pipeline_2D_thr_0.8_norm_percentile_2_1 {'pipeline': ['isotropy', 'norm_percentile', 'bilateral', 'anisodiff', 'merge_by_volume'], 'type': '2D', 'threshold': 0.8}\n",
      "pipeline_2D_thr_0.8_norm_percentile_2_2 {'pipeline': ['isotropy', 'norm_percentile', 'bilateral', 'anisodiff', 'clean_boundaries_morphology'], 'type': '2D', 'threshold': 0.8}\n",
      "pipeline_2D_thr_0.8_norm_percentile_2_3 {'pipeline': ['isotropy', 'norm_percentile', 'bilateral', 'anisodiff', '3d_connected_component_analysis', 'merge_by_volume'], 'type': '2D', 'threshold': 0.8}\n",
      "pipeline_2D_thr_0.8_norm_percentile_2_4 {'pipeline': ['isotropy', 'norm_percentile', 'bilateral', 'anisodiff', '3d_connected_component_analysis', 'clean_boundaries_morphology'], 'type': '2D', 'threshold': 0.8}\n",
      "pipeline_2D_thr_0.8_norm_percentile_2_5 {'pipeline': ['isotropy', 'norm_percentile', 'bilateral', 'anisodiff', 'merge_by_volume', '3d_connected_component_analysis'], 'type': '2D', 'threshold': 0.8}\n",
      "pipeline_2D_thr_0.8_norm_percentile_2_6 {'pipeline': ['isotropy', 'norm_percentile', 'bilateral', 'anisodiff', 'merge_by_volume', 'clean_boundaries_morphology'], 'type': '2D', 'threshold': 0.8}\n",
      "pipeline_2D_thr_0.8_norm_percentile_2_7 {'pipeline': ['isotropy', 'norm_percentile', 'bilateral', 'anisodiff', 'clean_boundaries_morphology', '3d_connected_component_analysis'], 'type': '2D', 'threshold': 0.8}\n",
      "pipeline_2D_thr_0.8_norm_percentile_2_8 {'pipeline': ['isotropy', 'norm_percentile', 'bilateral', 'anisodiff', 'clean_boundaries_morphology', 'merge_by_volume'], 'type': '2D', 'threshold': 0.8}\n",
      "pipeline_2D_thr_0.8_norm_percentile_2_9 {'pipeline': ['isotropy', 'norm_percentile', 'bilateral', 'anisodiff', '3d_connected_component_analysis', 'merge_by_volume', 'clean_boundaries_morphology'], 'type': '2D', 'threshold': 0.8}\n",
      "pipeline_2D_thr_0.8_norm_percentile_2_10 {'pipeline': ['isotropy', 'norm_percentile', 'bilateral', 'anisodiff', '3d_connected_component_analysis', 'clean_boundaries_morphology', 'merge_by_volume'], 'type': '2D', 'threshold': 0.8}\n",
      "pipeline_2D_thr_0.8_norm_percentile_2_11 {'pipeline': ['isotropy', 'norm_percentile', 'bilateral', 'anisodiff', 'merge_by_volume', '3d_connected_component_analysis', 'clean_boundaries_morphology'], 'type': '2D', 'threshold': 0.8}\n",
      "pipeline_2D_thr_0.8_norm_percentile_2_12 {'pipeline': ['isotropy', 'norm_percentile', 'bilateral', 'anisodiff', 'merge_by_volume', 'clean_boundaries_morphology', '3d_connected_component_analysis'], 'type': '2D', 'threshold': 0.8}\n",
      "pipeline_2D_thr_0.8_norm_percentile_2_13 {'pipeline': ['isotropy', 'norm_percentile', 'bilateral', 'anisodiff', 'clean_boundaries_morphology', '3d_connected_component_analysis', 'merge_by_volume'], 'type': '2D', 'threshold': 0.8}\n",
      "pipeline_2D_thr_0.8_norm_percentile_2_14 {'pipeline': ['isotropy', 'norm_percentile', 'bilateral', 'anisodiff', 'clean_boundaries_morphology', 'merge_by_volume', '3d_connected_component_analysis'], 'type': '2D', 'threshold': 0.8}\n",
      "pipeline_2D_thr_0.8_norm_percentile_2_15 {'pipeline': ['isotropy', 'norm_percentile', 'bilateral', 'anisodiff'], 'type': '2D', 'threshold': 0.8}\n",
      "pipeline_2D_thr_0.8_norm_percentile_3_0 {'pipeline': ['isotropy', 'norm_percentile', 'anisodiff', 'bilateral', '3d_connected_component_analysis'], 'type': '2D', 'threshold': 0.8}\n",
      "pipeline_2D_thr_0.8_norm_percentile_3_1 {'pipeline': ['isotropy', 'norm_percentile', 'anisodiff', 'bilateral', 'merge_by_volume'], 'type': '2D', 'threshold': 0.8}\n",
      "pipeline_2D_thr_0.8_norm_percentile_3_2 {'pipeline': ['isotropy', 'norm_percentile', 'anisodiff', 'bilateral', 'clean_boundaries_morphology'], 'type': '2D', 'threshold': 0.8}\n",
      "pipeline_2D_thr_0.8_norm_percentile_3_3 {'pipeline': ['isotropy', 'norm_percentile', 'anisodiff', 'bilateral', '3d_connected_component_analysis', 'merge_by_volume'], 'type': '2D', 'threshold': 0.8}\n",
      "pipeline_2D_thr_0.8_norm_percentile_3_4 {'pipeline': ['isotropy', 'norm_percentile', 'anisodiff', 'bilateral', '3d_connected_component_analysis', 'clean_boundaries_morphology'], 'type': '2D', 'threshold': 0.8}\n",
      "pipeline_2D_thr_0.8_norm_percentile_3_5 {'pipeline': ['isotropy', 'norm_percentile', 'anisodiff', 'bilateral', 'merge_by_volume', '3d_connected_component_analysis'], 'type': '2D', 'threshold': 0.8}\n",
      "pipeline_2D_thr_0.8_norm_percentile_3_6 {'pipeline': ['isotropy', 'norm_percentile', 'anisodiff', 'bilateral', 'merge_by_volume', 'clean_boundaries_morphology'], 'type': '2D', 'threshold': 0.8}\n",
      "pipeline_2D_thr_0.8_norm_percentile_3_7 {'pipeline': ['isotropy', 'norm_percentile', 'anisodiff', 'bilateral', 'clean_boundaries_morphology', '3d_connected_component_analysis'], 'type': '2D', 'threshold': 0.8}\n",
      "pipeline_2D_thr_0.8_norm_percentile_3_8 {'pipeline': ['isotropy', 'norm_percentile', 'anisodiff', 'bilateral', 'clean_boundaries_morphology', 'merge_by_volume'], 'type': '2D', 'threshold': 0.8}\n",
      "pipeline_2D_thr_0.8_norm_percentile_3_9 {'pipeline': ['isotropy', 'norm_percentile', 'anisodiff', 'bilateral', '3d_connected_component_analysis', 'merge_by_volume', 'clean_boundaries_morphology'], 'type': '2D', 'threshold': 0.8}\n",
      "pipeline_2D_thr_0.8_norm_percentile_3_10 {'pipeline': ['isotropy', 'norm_percentile', 'anisodiff', 'bilateral', '3d_connected_component_analysis', 'clean_boundaries_morphology', 'merge_by_volume'], 'type': '2D', 'threshold': 0.8}\n",
      "pipeline_2D_thr_0.8_norm_percentile_3_11 {'pipeline': ['isotropy', 'norm_percentile', 'anisodiff', 'bilateral', 'merge_by_volume', '3d_connected_component_analysis', 'clean_boundaries_morphology'], 'type': '2D', 'threshold': 0.8}\n",
      "pipeline_2D_thr_0.8_norm_percentile_3_12 {'pipeline': ['isotropy', 'norm_percentile', 'anisodiff', 'bilateral', 'merge_by_volume', 'clean_boundaries_morphology', '3d_connected_component_analysis'], 'type': '2D', 'threshold': 0.8}\n",
      "pipeline_2D_thr_0.8_norm_percentile_3_13 {'pipeline': ['isotropy', 'norm_percentile', 'anisodiff', 'bilateral', 'clean_boundaries_morphology', '3d_connected_component_analysis', 'merge_by_volume'], 'type': '2D', 'threshold': 0.8}\n",
      "pipeline_2D_thr_0.8_norm_percentile_3_14 {'pipeline': ['isotropy', 'norm_percentile', 'anisodiff', 'bilateral', 'clean_boundaries_morphology', 'merge_by_volume', '3d_connected_component_analysis'], 'type': '2D', 'threshold': 0.8}\n",
      "pipeline_2D_thr_0.8_norm_percentile_3_15 {'pipeline': ['isotropy', 'norm_percentile', 'anisodiff', 'bilateral'], 'type': '2D', 'threshold': 0.8}\n",
      "pipeline_3D_prob0.0_norm_minmax_0_0 {'pipeline': ['isotropy', 'norm_minmax', 'bilateral', '3d_connected_component_analysis'], 'type': '3D', 'prob_threshold': 0.0}\n",
      "pipeline_3D_prob0.0_norm_minmax_0_1 {'pipeline': ['isotropy', 'norm_minmax', 'bilateral', 'merge_by_volume'], 'type': '3D', 'prob_threshold': 0.0}\n",
      "pipeline_3D_prob0.0_norm_minmax_0_2 {'pipeline': ['isotropy', 'norm_minmax', 'bilateral', 'clean_boundaries_morphology'], 'type': '3D', 'prob_threshold': 0.0}\n",
      "pipeline_3D_prob0.0_norm_minmax_0_3 {'pipeline': ['isotropy', 'norm_minmax', 'bilateral', '3d_connected_component_analysis', 'merge_by_volume'], 'type': '3D', 'prob_threshold': 0.0}\n",
      "pipeline_3D_prob0.0_norm_minmax_0_4 {'pipeline': ['isotropy', 'norm_minmax', 'bilateral', '3d_connected_component_analysis', 'clean_boundaries_morphology'], 'type': '3D', 'prob_threshold': 0.0}\n",
      "pipeline_3D_prob0.0_norm_minmax_0_5 {'pipeline': ['isotropy', 'norm_minmax', 'bilateral', 'merge_by_volume', '3d_connected_component_analysis'], 'type': '3D', 'prob_threshold': 0.0}\n",
      "pipeline_3D_prob0.0_norm_minmax_0_6 {'pipeline': ['isotropy', 'norm_minmax', 'bilateral', 'merge_by_volume', 'clean_boundaries_morphology'], 'type': '3D', 'prob_threshold': 0.0}\n",
      "pipeline_3D_prob0.0_norm_minmax_0_7 {'pipeline': ['isotropy', 'norm_minmax', 'bilateral', 'clean_boundaries_morphology', '3d_connected_component_analysis'], 'type': '3D', 'prob_threshold': 0.0}\n",
      "pipeline_3D_prob0.0_norm_minmax_0_8 {'pipeline': ['isotropy', 'norm_minmax', 'bilateral', 'clean_boundaries_morphology', 'merge_by_volume'], 'type': '3D', 'prob_threshold': 0.0}\n",
      "pipeline_3D_prob0.0_norm_minmax_0_9 {'pipeline': ['isotropy', 'norm_minmax', 'bilateral', '3d_connected_component_analysis', 'merge_by_volume', 'clean_boundaries_morphology'], 'type': '3D', 'prob_threshold': 0.0}\n",
      "pipeline_3D_prob0.0_norm_minmax_0_10 {'pipeline': ['isotropy', 'norm_minmax', 'bilateral', '3d_connected_component_analysis', 'clean_boundaries_morphology', 'merge_by_volume'], 'type': '3D', 'prob_threshold': 0.0}\n",
      "pipeline_3D_prob0.0_norm_minmax_0_11 {'pipeline': ['isotropy', 'norm_minmax', 'bilateral', 'merge_by_volume', '3d_connected_component_analysis', 'clean_boundaries_morphology'], 'type': '3D', 'prob_threshold': 0.0}\n",
      "pipeline_3D_prob0.0_norm_minmax_0_12 {'pipeline': ['isotropy', 'norm_minmax', 'bilateral', 'merge_by_volume', 'clean_boundaries_morphology', '3d_connected_component_analysis'], 'type': '3D', 'prob_threshold': 0.0}\n",
      "pipeline_3D_prob0.0_norm_minmax_0_13 {'pipeline': ['isotropy', 'norm_minmax', 'bilateral', 'clean_boundaries_morphology', '3d_connected_component_analysis', 'merge_by_volume'], 'type': '3D', 'prob_threshold': 0.0}\n",
      "pipeline_3D_prob0.0_norm_minmax_0_14 {'pipeline': ['isotropy', 'norm_minmax', 'bilateral', 'clean_boundaries_morphology', 'merge_by_volume', '3d_connected_component_analysis'], 'type': '3D', 'prob_threshold': 0.0}\n",
      "pipeline_3D_prob0.0_norm_minmax_0_15 {'pipeline': ['isotropy', 'norm_minmax', 'bilateral'], 'type': '3D', 'prob_threshold': 0.0}\n",
      "pipeline_3D_prob0.0_norm_minmax_1_0 {'pipeline': ['isotropy', 'norm_minmax', 'anisodiff', '3d_connected_component_analysis'], 'type': '3D', 'prob_threshold': 0.0}\n",
      "pipeline_3D_prob0.0_norm_minmax_1_1 {'pipeline': ['isotropy', 'norm_minmax', 'anisodiff', 'merge_by_volume'], 'type': '3D', 'prob_threshold': 0.0}\n",
      "pipeline_3D_prob0.0_norm_minmax_1_2 {'pipeline': ['isotropy', 'norm_minmax', 'anisodiff', 'clean_boundaries_morphology'], 'type': '3D', 'prob_threshold': 0.0}\n",
      "pipeline_3D_prob0.0_norm_minmax_1_3 {'pipeline': ['isotropy', 'norm_minmax', 'anisodiff', '3d_connected_component_analysis', 'merge_by_volume'], 'type': '3D', 'prob_threshold': 0.0}\n",
      "pipeline_3D_prob0.0_norm_minmax_1_4 {'pipeline': ['isotropy', 'norm_minmax', 'anisodiff', '3d_connected_component_analysis', 'clean_boundaries_morphology'], 'type': '3D', 'prob_threshold': 0.0}\n",
      "pipeline_3D_prob0.0_norm_minmax_1_5 {'pipeline': ['isotropy', 'norm_minmax', 'anisodiff', 'merge_by_volume', '3d_connected_component_analysis'], 'type': '3D', 'prob_threshold': 0.0}\n",
      "pipeline_3D_prob0.0_norm_minmax_1_6 {'pipeline': ['isotropy', 'norm_minmax', 'anisodiff', 'merge_by_volume', 'clean_boundaries_morphology'], 'type': '3D', 'prob_threshold': 0.0}\n",
      "pipeline_3D_prob0.0_norm_minmax_1_7 {'pipeline': ['isotropy', 'norm_minmax', 'anisodiff', 'clean_boundaries_morphology', '3d_connected_component_analysis'], 'type': '3D', 'prob_threshold': 0.0}\n",
      "pipeline_3D_prob0.0_norm_minmax_1_8 {'pipeline': ['isotropy', 'norm_minmax', 'anisodiff', 'clean_boundaries_morphology', 'merge_by_volume'], 'type': '3D', 'prob_threshold': 0.0}\n",
      "pipeline_3D_prob0.0_norm_minmax_1_9 {'pipeline': ['isotropy', 'norm_minmax', 'anisodiff', '3d_connected_component_analysis', 'merge_by_volume', 'clean_boundaries_morphology'], 'type': '3D', 'prob_threshold': 0.0}\n",
      "pipeline_3D_prob0.0_norm_minmax_1_10 {'pipeline': ['isotropy', 'norm_minmax', 'anisodiff', '3d_connected_component_analysis', 'clean_boundaries_morphology', 'merge_by_volume'], 'type': '3D', 'prob_threshold': 0.0}\n",
      "pipeline_3D_prob0.0_norm_minmax_1_11 {'pipeline': ['isotropy', 'norm_minmax', 'anisodiff', 'merge_by_volume', '3d_connected_component_analysis', 'clean_boundaries_morphology'], 'type': '3D', 'prob_threshold': 0.0}\n",
      "pipeline_3D_prob0.0_norm_minmax_1_12 {'pipeline': ['isotropy', 'norm_minmax', 'anisodiff', 'merge_by_volume', 'clean_boundaries_morphology', '3d_connected_component_analysis'], 'type': '3D', 'prob_threshold': 0.0}\n",
      "pipeline_3D_prob0.0_norm_minmax_1_13 {'pipeline': ['isotropy', 'norm_minmax', 'anisodiff', 'clean_boundaries_morphology', '3d_connected_component_analysis', 'merge_by_volume'], 'type': '3D', 'prob_threshold': 0.0}\n",
      "pipeline_3D_prob0.0_norm_minmax_1_14 {'pipeline': ['isotropy', 'norm_minmax', 'anisodiff', 'clean_boundaries_morphology', 'merge_by_volume', '3d_connected_component_analysis'], 'type': '3D', 'prob_threshold': 0.0}\n",
      "pipeline_3D_prob0.0_norm_minmax_1_15 {'pipeline': ['isotropy', 'norm_minmax', 'anisodiff'], 'type': '3D', 'prob_threshold': 0.0}\n",
      "pipeline_3D_prob0.0_norm_minmax_2_0 {'pipeline': ['isotropy', 'norm_minmax', 'bilateral', 'anisodiff', '3d_connected_component_analysis'], 'type': '3D', 'prob_threshold': 0.0}\n",
      "pipeline_3D_prob0.0_norm_minmax_2_1 {'pipeline': ['isotropy', 'norm_minmax', 'bilateral', 'anisodiff', 'merge_by_volume'], 'type': '3D', 'prob_threshold': 0.0}\n",
      "pipeline_3D_prob0.0_norm_minmax_2_2 {'pipeline': ['isotropy', 'norm_minmax', 'bilateral', 'anisodiff', 'clean_boundaries_morphology'], 'type': '3D', 'prob_threshold': 0.0}\n",
      "pipeline_3D_prob0.0_norm_minmax_2_3 {'pipeline': ['isotropy', 'norm_minmax', 'bilateral', 'anisodiff', '3d_connected_component_analysis', 'merge_by_volume'], 'type': '3D', 'prob_threshold': 0.0}\n",
      "pipeline_3D_prob0.0_norm_minmax_2_4 {'pipeline': ['isotropy', 'norm_minmax', 'bilateral', 'anisodiff', '3d_connected_component_analysis', 'clean_boundaries_morphology'], 'type': '3D', 'prob_threshold': 0.0}\n",
      "pipeline_3D_prob0.0_norm_minmax_2_5 {'pipeline': ['isotropy', 'norm_minmax', 'bilateral', 'anisodiff', 'merge_by_volume', '3d_connected_component_analysis'], 'type': '3D', 'prob_threshold': 0.0}\n",
      "pipeline_3D_prob0.0_norm_minmax_2_6 {'pipeline': ['isotropy', 'norm_minmax', 'bilateral', 'anisodiff', 'merge_by_volume', 'clean_boundaries_morphology'], 'type': '3D', 'prob_threshold': 0.0}\n",
      "pipeline_3D_prob0.0_norm_minmax_2_7 {'pipeline': ['isotropy', 'norm_minmax', 'bilateral', 'anisodiff', 'clean_boundaries_morphology', '3d_connected_component_analysis'], 'type': '3D', 'prob_threshold': 0.0}\n",
      "pipeline_3D_prob0.0_norm_minmax_2_8 {'pipeline': ['isotropy', 'norm_minmax', 'bilateral', 'anisodiff', 'clean_boundaries_morphology', 'merge_by_volume'], 'type': '3D', 'prob_threshold': 0.0}\n",
      "pipeline_3D_prob0.0_norm_minmax_2_9 {'pipeline': ['isotropy', 'norm_minmax', 'bilateral', 'anisodiff', '3d_connected_component_analysis', 'merge_by_volume', 'clean_boundaries_morphology'], 'type': '3D', 'prob_threshold': 0.0}\n",
      "pipeline_3D_prob0.0_norm_minmax_2_10 {'pipeline': ['isotropy', 'norm_minmax', 'bilateral', 'anisodiff', '3d_connected_component_analysis', 'clean_boundaries_morphology', 'merge_by_volume'], 'type': '3D', 'prob_threshold': 0.0}\n",
      "pipeline_3D_prob0.0_norm_minmax_2_11 {'pipeline': ['isotropy', 'norm_minmax', 'bilateral', 'anisodiff', 'merge_by_volume', '3d_connected_component_analysis', 'clean_boundaries_morphology'], 'type': '3D', 'prob_threshold': 0.0}\n",
      "pipeline_3D_prob0.0_norm_minmax_2_12 {'pipeline': ['isotropy', 'norm_minmax', 'bilateral', 'anisodiff', 'merge_by_volume', 'clean_boundaries_morphology', '3d_connected_component_analysis'], 'type': '3D', 'prob_threshold': 0.0}\n",
      "pipeline_3D_prob0.0_norm_minmax_2_13 {'pipeline': ['isotropy', 'norm_minmax', 'bilateral', 'anisodiff', 'clean_boundaries_morphology', '3d_connected_component_analysis', 'merge_by_volume'], 'type': '3D', 'prob_threshold': 0.0}\n",
      "pipeline_3D_prob0.0_norm_minmax_2_14 {'pipeline': ['isotropy', 'norm_minmax', 'bilateral', 'anisodiff', 'clean_boundaries_morphology', 'merge_by_volume', '3d_connected_component_analysis'], 'type': '3D', 'prob_threshold': 0.0}\n",
      "pipeline_3D_prob0.0_norm_minmax_2_15 {'pipeline': ['isotropy', 'norm_minmax', 'bilateral', 'anisodiff'], 'type': '3D', 'prob_threshold': 0.0}\n",
      "pipeline_3D_prob0.0_norm_minmax_3_0 {'pipeline': ['isotropy', 'norm_minmax', 'anisodiff', 'bilateral', '3d_connected_component_analysis'], 'type': '3D', 'prob_threshold': 0.0}\n",
      "pipeline_3D_prob0.0_norm_minmax_3_1 {'pipeline': ['isotropy', 'norm_minmax', 'anisodiff', 'bilateral', 'merge_by_volume'], 'type': '3D', 'prob_threshold': 0.0}\n",
      "pipeline_3D_prob0.0_norm_minmax_3_2 {'pipeline': ['isotropy', 'norm_minmax', 'anisodiff', 'bilateral', 'clean_boundaries_morphology'], 'type': '3D', 'prob_threshold': 0.0}\n",
      "pipeline_3D_prob0.0_norm_minmax_3_3 {'pipeline': ['isotropy', 'norm_minmax', 'anisodiff', 'bilateral', '3d_connected_component_analysis', 'merge_by_volume'], 'type': '3D', 'prob_threshold': 0.0}\n",
      "pipeline_3D_prob0.0_norm_minmax_3_4 {'pipeline': ['isotropy', 'norm_minmax', 'anisodiff', 'bilateral', '3d_connected_component_analysis', 'clean_boundaries_morphology'], 'type': '3D', 'prob_threshold': 0.0}\n",
      "pipeline_3D_prob0.0_norm_minmax_3_5 {'pipeline': ['isotropy', 'norm_minmax', 'anisodiff', 'bilateral', 'merge_by_volume', '3d_connected_component_analysis'], 'type': '3D', 'prob_threshold': 0.0}\n",
      "pipeline_3D_prob0.0_norm_minmax_3_6 {'pipeline': ['isotropy', 'norm_minmax', 'anisodiff', 'bilateral', 'merge_by_volume', 'clean_boundaries_morphology'], 'type': '3D', 'prob_threshold': 0.0}\n",
      "pipeline_3D_prob0.0_norm_minmax_3_7 {'pipeline': ['isotropy', 'norm_minmax', 'anisodiff', 'bilateral', 'clean_boundaries_morphology', '3d_connected_component_analysis'], 'type': '3D', 'prob_threshold': 0.0}\n",
      "pipeline_3D_prob0.0_norm_minmax_3_8 {'pipeline': ['isotropy', 'norm_minmax', 'anisodiff', 'bilateral', 'clean_boundaries_morphology', 'merge_by_volume'], 'type': '3D', 'prob_threshold': 0.0}\n",
      "pipeline_3D_prob0.0_norm_minmax_3_9 {'pipeline': ['isotropy', 'norm_minmax', 'anisodiff', 'bilateral', '3d_connected_component_analysis', 'merge_by_volume', 'clean_boundaries_morphology'], 'type': '3D', 'prob_threshold': 0.0}\n",
      "pipeline_3D_prob0.0_norm_minmax_3_10 {'pipeline': ['isotropy', 'norm_minmax', 'anisodiff', 'bilateral', '3d_connected_component_analysis', 'clean_boundaries_morphology', 'merge_by_volume'], 'type': '3D', 'prob_threshold': 0.0}\n",
      "pipeline_3D_prob0.0_norm_minmax_3_11 {'pipeline': ['isotropy', 'norm_minmax', 'anisodiff', 'bilateral', 'merge_by_volume', '3d_connected_component_analysis', 'clean_boundaries_morphology'], 'type': '3D', 'prob_threshold': 0.0}\n",
      "pipeline_3D_prob0.0_norm_minmax_3_12 {'pipeline': ['isotropy', 'norm_minmax', 'anisodiff', 'bilateral', 'merge_by_volume', 'clean_boundaries_morphology', '3d_connected_component_analysis'], 'type': '3D', 'prob_threshold': 0.0}\n",
      "pipeline_3D_prob0.0_norm_minmax_3_13 {'pipeline': ['isotropy', 'norm_minmax', 'anisodiff', 'bilateral', 'clean_boundaries_morphology', '3d_connected_component_analysis', 'merge_by_volume'], 'type': '3D', 'prob_threshold': 0.0}\n",
      "pipeline_3D_prob0.0_norm_minmax_3_14 {'pipeline': ['isotropy', 'norm_minmax', 'anisodiff', 'bilateral', 'clean_boundaries_morphology', 'merge_by_volume', '3d_connected_component_analysis'], 'type': '3D', 'prob_threshold': 0.0}\n",
      "pipeline_3D_prob0.0_norm_minmax_3_15 {'pipeline': ['isotropy', 'norm_minmax', 'anisodiff', 'bilateral'], 'type': '3D', 'prob_threshold': 0.0}\n",
      "pipeline_3D_prob0.1_norm_minmax_0_0 {'pipeline': ['isotropy', 'norm_minmax', 'bilateral', '3d_connected_component_analysis'], 'type': '3D', 'prob_threshold': 0.1}\n",
      "pipeline_3D_prob0.1_norm_minmax_0_1 {'pipeline': ['isotropy', 'norm_minmax', 'bilateral', 'merge_by_volume'], 'type': '3D', 'prob_threshold': 0.1}\n",
      "pipeline_3D_prob0.1_norm_minmax_0_2 {'pipeline': ['isotropy', 'norm_minmax', 'bilateral', 'clean_boundaries_morphology'], 'type': '3D', 'prob_threshold': 0.1}\n",
      "pipeline_3D_prob0.1_norm_minmax_0_3 {'pipeline': ['isotropy', 'norm_minmax', 'bilateral', '3d_connected_component_analysis', 'merge_by_volume'], 'type': '3D', 'prob_threshold': 0.1}\n",
      "pipeline_3D_prob0.1_norm_minmax_0_4 {'pipeline': ['isotropy', 'norm_minmax', 'bilateral', '3d_connected_component_analysis', 'clean_boundaries_morphology'], 'type': '3D', 'prob_threshold': 0.1}\n",
      "pipeline_3D_prob0.1_norm_minmax_0_5 {'pipeline': ['isotropy', 'norm_minmax', 'bilateral', 'merge_by_volume', '3d_connected_component_analysis'], 'type': '3D', 'prob_threshold': 0.1}\n",
      "pipeline_3D_prob0.1_norm_minmax_0_6 {'pipeline': ['isotropy', 'norm_minmax', 'bilateral', 'merge_by_volume', 'clean_boundaries_morphology'], 'type': '3D', 'prob_threshold': 0.1}\n",
      "pipeline_3D_prob0.1_norm_minmax_0_7 {'pipeline': ['isotropy', 'norm_minmax', 'bilateral', 'clean_boundaries_morphology', '3d_connected_component_analysis'], 'type': '3D', 'prob_threshold': 0.1}\n",
      "pipeline_3D_prob0.1_norm_minmax_0_8 {'pipeline': ['isotropy', 'norm_minmax', 'bilateral', 'clean_boundaries_morphology', 'merge_by_volume'], 'type': '3D', 'prob_threshold': 0.1}\n",
      "pipeline_3D_prob0.1_norm_minmax_0_9 {'pipeline': ['isotropy', 'norm_minmax', 'bilateral', '3d_connected_component_analysis', 'merge_by_volume', 'clean_boundaries_morphology'], 'type': '3D', 'prob_threshold': 0.1}\n",
      "pipeline_3D_prob0.1_norm_minmax_0_10 {'pipeline': ['isotropy', 'norm_minmax', 'bilateral', '3d_connected_component_analysis', 'clean_boundaries_morphology', 'merge_by_volume'], 'type': '3D', 'prob_threshold': 0.1}\n",
      "pipeline_3D_prob0.1_norm_minmax_0_11 {'pipeline': ['isotropy', 'norm_minmax', 'bilateral', 'merge_by_volume', '3d_connected_component_analysis', 'clean_boundaries_morphology'], 'type': '3D', 'prob_threshold': 0.1}\n",
      "pipeline_3D_prob0.1_norm_minmax_0_12 {'pipeline': ['isotropy', 'norm_minmax', 'bilateral', 'merge_by_volume', 'clean_boundaries_morphology', '3d_connected_component_analysis'], 'type': '3D', 'prob_threshold': 0.1}\n",
      "pipeline_3D_prob0.1_norm_minmax_0_13 {'pipeline': ['isotropy', 'norm_minmax', 'bilateral', 'clean_boundaries_morphology', '3d_connected_component_analysis', 'merge_by_volume'], 'type': '3D', 'prob_threshold': 0.1}\n",
      "pipeline_3D_prob0.1_norm_minmax_0_14 {'pipeline': ['isotropy', 'norm_minmax', 'bilateral', 'clean_boundaries_morphology', 'merge_by_volume', '3d_connected_component_analysis'], 'type': '3D', 'prob_threshold': 0.1}\n",
      "pipeline_3D_prob0.1_norm_minmax_0_15 {'pipeline': ['isotropy', 'norm_minmax', 'bilateral'], 'type': '3D', 'prob_threshold': 0.1}\n",
      "pipeline_3D_prob0.1_norm_minmax_1_0 {'pipeline': ['isotropy', 'norm_minmax', 'anisodiff', '3d_connected_component_analysis'], 'type': '3D', 'prob_threshold': 0.1}\n",
      "pipeline_3D_prob0.1_norm_minmax_1_1 {'pipeline': ['isotropy', 'norm_minmax', 'anisodiff', 'merge_by_volume'], 'type': '3D', 'prob_threshold': 0.1}\n",
      "pipeline_3D_prob0.1_norm_minmax_1_2 {'pipeline': ['isotropy', 'norm_minmax', 'anisodiff', 'clean_boundaries_morphology'], 'type': '3D', 'prob_threshold': 0.1}\n",
      "pipeline_3D_prob0.1_norm_minmax_1_3 {'pipeline': ['isotropy', 'norm_minmax', 'anisodiff', '3d_connected_component_analysis', 'merge_by_volume'], 'type': '3D', 'prob_threshold': 0.1}\n",
      "pipeline_3D_prob0.1_norm_minmax_1_4 {'pipeline': ['isotropy', 'norm_minmax', 'anisodiff', '3d_connected_component_analysis', 'clean_boundaries_morphology'], 'type': '3D', 'prob_threshold': 0.1}\n",
      "pipeline_3D_prob0.1_norm_minmax_1_5 {'pipeline': ['isotropy', 'norm_minmax', 'anisodiff', 'merge_by_volume', '3d_connected_component_analysis'], 'type': '3D', 'prob_threshold': 0.1}\n",
      "pipeline_3D_prob0.1_norm_minmax_1_6 {'pipeline': ['isotropy', 'norm_minmax', 'anisodiff', 'merge_by_volume', 'clean_boundaries_morphology'], 'type': '3D', 'prob_threshold': 0.1}\n",
      "pipeline_3D_prob0.1_norm_minmax_1_7 {'pipeline': ['isotropy', 'norm_minmax', 'anisodiff', 'clean_boundaries_morphology', '3d_connected_component_analysis'], 'type': '3D', 'prob_threshold': 0.1}\n",
      "pipeline_3D_prob0.1_norm_minmax_1_8 {'pipeline': ['isotropy', 'norm_minmax', 'anisodiff', 'clean_boundaries_morphology', 'merge_by_volume'], 'type': '3D', 'prob_threshold': 0.1}\n",
      "pipeline_3D_prob0.1_norm_minmax_1_9 {'pipeline': ['isotropy', 'norm_minmax', 'anisodiff', '3d_connected_component_analysis', 'merge_by_volume', 'clean_boundaries_morphology'], 'type': '3D', 'prob_threshold': 0.1}\n",
      "pipeline_3D_prob0.1_norm_minmax_1_10 {'pipeline': ['isotropy', 'norm_minmax', 'anisodiff', '3d_connected_component_analysis', 'clean_boundaries_morphology', 'merge_by_volume'], 'type': '3D', 'prob_threshold': 0.1}\n",
      "pipeline_3D_prob0.1_norm_minmax_1_11 {'pipeline': ['isotropy', 'norm_minmax', 'anisodiff', 'merge_by_volume', '3d_connected_component_analysis', 'clean_boundaries_morphology'], 'type': '3D', 'prob_threshold': 0.1}\n",
      "pipeline_3D_prob0.1_norm_minmax_1_12 {'pipeline': ['isotropy', 'norm_minmax', 'anisodiff', 'merge_by_volume', 'clean_boundaries_morphology', '3d_connected_component_analysis'], 'type': '3D', 'prob_threshold': 0.1}\n",
      "pipeline_3D_prob0.1_norm_minmax_1_13 {'pipeline': ['isotropy', 'norm_minmax', 'anisodiff', 'clean_boundaries_morphology', '3d_connected_component_analysis', 'merge_by_volume'], 'type': '3D', 'prob_threshold': 0.1}\n",
      "pipeline_3D_prob0.1_norm_minmax_1_14 {'pipeline': ['isotropy', 'norm_minmax', 'anisodiff', 'clean_boundaries_morphology', 'merge_by_volume', '3d_connected_component_analysis'], 'type': '3D', 'prob_threshold': 0.1}\n",
      "pipeline_3D_prob0.1_norm_minmax_1_15 {'pipeline': ['isotropy', 'norm_minmax', 'anisodiff'], 'type': '3D', 'prob_threshold': 0.1}\n",
      "pipeline_3D_prob0.1_norm_minmax_2_0 {'pipeline': ['isotropy', 'norm_minmax', 'bilateral', 'anisodiff', '3d_connected_component_analysis'], 'type': '3D', 'prob_threshold': 0.1}\n",
      "pipeline_3D_prob0.1_norm_minmax_2_1 {'pipeline': ['isotropy', 'norm_minmax', 'bilateral', 'anisodiff', 'merge_by_volume'], 'type': '3D', 'prob_threshold': 0.1}\n",
      "pipeline_3D_prob0.1_norm_minmax_2_2 {'pipeline': ['isotropy', 'norm_minmax', 'bilateral', 'anisodiff', 'clean_boundaries_morphology'], 'type': '3D', 'prob_threshold': 0.1}\n",
      "pipeline_3D_prob0.1_norm_minmax_2_3 {'pipeline': ['isotropy', 'norm_minmax', 'bilateral', 'anisodiff', '3d_connected_component_analysis', 'merge_by_volume'], 'type': '3D', 'prob_threshold': 0.1}\n",
      "pipeline_3D_prob0.1_norm_minmax_2_4 {'pipeline': ['isotropy', 'norm_minmax', 'bilateral', 'anisodiff', '3d_connected_component_analysis', 'clean_boundaries_morphology'], 'type': '3D', 'prob_threshold': 0.1}\n",
      "pipeline_3D_prob0.1_norm_minmax_2_5 {'pipeline': ['isotropy', 'norm_minmax', 'bilateral', 'anisodiff', 'merge_by_volume', '3d_connected_component_analysis'], 'type': '3D', 'prob_threshold': 0.1}\n",
      "pipeline_3D_prob0.1_norm_minmax_2_6 {'pipeline': ['isotropy', 'norm_minmax', 'bilateral', 'anisodiff', 'merge_by_volume', 'clean_boundaries_morphology'], 'type': '3D', 'prob_threshold': 0.1}\n",
      "pipeline_3D_prob0.1_norm_minmax_2_7 {'pipeline': ['isotropy', 'norm_minmax', 'bilateral', 'anisodiff', 'clean_boundaries_morphology', '3d_connected_component_analysis'], 'type': '3D', 'prob_threshold': 0.1}\n",
      "pipeline_3D_prob0.1_norm_minmax_2_8 {'pipeline': ['isotropy', 'norm_minmax', 'bilateral', 'anisodiff', 'clean_boundaries_morphology', 'merge_by_volume'], 'type': '3D', 'prob_threshold': 0.1}\n",
      "pipeline_3D_prob0.1_norm_minmax_2_9 {'pipeline': ['isotropy', 'norm_minmax', 'bilateral', 'anisodiff', '3d_connected_component_analysis', 'merge_by_volume', 'clean_boundaries_morphology'], 'type': '3D', 'prob_threshold': 0.1}\n",
      "pipeline_3D_prob0.1_norm_minmax_2_10 {'pipeline': ['isotropy', 'norm_minmax', 'bilateral', 'anisodiff', '3d_connected_component_analysis', 'clean_boundaries_morphology', 'merge_by_volume'], 'type': '3D', 'prob_threshold': 0.1}\n",
      "pipeline_3D_prob0.1_norm_minmax_2_11 {'pipeline': ['isotropy', 'norm_minmax', 'bilateral', 'anisodiff', 'merge_by_volume', '3d_connected_component_analysis', 'clean_boundaries_morphology'], 'type': '3D', 'prob_threshold': 0.1}\n",
      "pipeline_3D_prob0.1_norm_minmax_2_12 {'pipeline': ['isotropy', 'norm_minmax', 'bilateral', 'anisodiff', 'merge_by_volume', 'clean_boundaries_morphology', '3d_connected_component_analysis'], 'type': '3D', 'prob_threshold': 0.1}\n",
      "pipeline_3D_prob0.1_norm_minmax_2_13 {'pipeline': ['isotropy', 'norm_minmax', 'bilateral', 'anisodiff', 'clean_boundaries_morphology', '3d_connected_component_analysis', 'merge_by_volume'], 'type': '3D', 'prob_threshold': 0.1}\n",
      "pipeline_3D_prob0.1_norm_minmax_2_14 {'pipeline': ['isotropy', 'norm_minmax', 'bilateral', 'anisodiff', 'clean_boundaries_morphology', 'merge_by_volume', '3d_connected_component_analysis'], 'type': '3D', 'prob_threshold': 0.1}\n",
      "pipeline_3D_prob0.1_norm_minmax_2_15 {'pipeline': ['isotropy', 'norm_minmax', 'bilateral', 'anisodiff'], 'type': '3D', 'prob_threshold': 0.1}\n",
      "pipeline_3D_prob0.1_norm_minmax_3_0 {'pipeline': ['isotropy', 'norm_minmax', 'anisodiff', 'bilateral', '3d_connected_component_analysis'], 'type': '3D', 'prob_threshold': 0.1}\n",
      "pipeline_3D_prob0.1_norm_minmax_3_1 {'pipeline': ['isotropy', 'norm_minmax', 'anisodiff', 'bilateral', 'merge_by_volume'], 'type': '3D', 'prob_threshold': 0.1}\n",
      "pipeline_3D_prob0.1_norm_minmax_3_2 {'pipeline': ['isotropy', 'norm_minmax', 'anisodiff', 'bilateral', 'clean_boundaries_morphology'], 'type': '3D', 'prob_threshold': 0.1}\n",
      "pipeline_3D_prob0.1_norm_minmax_3_3 {'pipeline': ['isotropy', 'norm_minmax', 'anisodiff', 'bilateral', '3d_connected_component_analysis', 'merge_by_volume'], 'type': '3D', 'prob_threshold': 0.1}\n",
      "pipeline_3D_prob0.1_norm_minmax_3_4 {'pipeline': ['isotropy', 'norm_minmax', 'anisodiff', 'bilateral', '3d_connected_component_analysis', 'clean_boundaries_morphology'], 'type': '3D', 'prob_threshold': 0.1}\n",
      "pipeline_3D_prob0.1_norm_minmax_3_5 {'pipeline': ['isotropy', 'norm_minmax', 'anisodiff', 'bilateral', 'merge_by_volume', '3d_connected_component_analysis'], 'type': '3D', 'prob_threshold': 0.1}\n",
      "pipeline_3D_prob0.1_norm_minmax_3_6 {'pipeline': ['isotropy', 'norm_minmax', 'anisodiff', 'bilateral', 'merge_by_volume', 'clean_boundaries_morphology'], 'type': '3D', 'prob_threshold': 0.1}\n",
      "pipeline_3D_prob0.1_norm_minmax_3_7 {'pipeline': ['isotropy', 'norm_minmax', 'anisodiff', 'bilateral', 'clean_boundaries_morphology', '3d_connected_component_analysis'], 'type': '3D', 'prob_threshold': 0.1}\n",
      "pipeline_3D_prob0.1_norm_minmax_3_8 {'pipeline': ['isotropy', 'norm_minmax', 'anisodiff', 'bilateral', 'clean_boundaries_morphology', 'merge_by_volume'], 'type': '3D', 'prob_threshold': 0.1}\n",
      "pipeline_3D_prob0.1_norm_minmax_3_9 {'pipeline': ['isotropy', 'norm_minmax', 'anisodiff', 'bilateral', '3d_connected_component_analysis', 'merge_by_volume', 'clean_boundaries_morphology'], 'type': '3D', 'prob_threshold': 0.1}\n",
      "pipeline_3D_prob0.1_norm_minmax_3_10 {'pipeline': ['isotropy', 'norm_minmax', 'anisodiff', 'bilateral', '3d_connected_component_analysis', 'clean_boundaries_morphology', 'merge_by_volume'], 'type': '3D', 'prob_threshold': 0.1}\n",
      "pipeline_3D_prob0.1_norm_minmax_3_11 {'pipeline': ['isotropy', 'norm_minmax', 'anisodiff', 'bilateral', 'merge_by_volume', '3d_connected_component_analysis', 'clean_boundaries_morphology'], 'type': '3D', 'prob_threshold': 0.1}\n",
      "pipeline_3D_prob0.1_norm_minmax_3_12 {'pipeline': ['isotropy', 'norm_minmax', 'anisodiff', 'bilateral', 'merge_by_volume', 'clean_boundaries_morphology', '3d_connected_component_analysis'], 'type': '3D', 'prob_threshold': 0.1}\n",
      "pipeline_3D_prob0.1_norm_minmax_3_13 {'pipeline': ['isotropy', 'norm_minmax', 'anisodiff', 'bilateral', 'clean_boundaries_morphology', '3d_connected_component_analysis', 'merge_by_volume'], 'type': '3D', 'prob_threshold': 0.1}\n",
      "pipeline_3D_prob0.1_norm_minmax_3_14 {'pipeline': ['isotropy', 'norm_minmax', 'anisodiff', 'bilateral', 'clean_boundaries_morphology', 'merge_by_volume', '3d_connected_component_analysis'], 'type': '3D', 'prob_threshold': 0.1}\n",
      "pipeline_3D_prob0.1_norm_minmax_3_15 {'pipeline': ['isotropy', 'norm_minmax', 'anisodiff', 'bilateral'], 'type': '3D', 'prob_threshold': 0.1}\n",
      "pipeline_3D_prob0.2_norm_minmax_0_0 {'pipeline': ['isotropy', 'norm_minmax', 'bilateral', '3d_connected_component_analysis'], 'type': '3D', 'prob_threshold': 0.2}\n",
      "pipeline_3D_prob0.2_norm_minmax_0_1 {'pipeline': ['isotropy', 'norm_minmax', 'bilateral', 'merge_by_volume'], 'type': '3D', 'prob_threshold': 0.2}\n",
      "pipeline_3D_prob0.2_norm_minmax_0_2 {'pipeline': ['isotropy', 'norm_minmax', 'bilateral', 'clean_boundaries_morphology'], 'type': '3D', 'prob_threshold': 0.2}\n",
      "pipeline_3D_prob0.2_norm_minmax_0_3 {'pipeline': ['isotropy', 'norm_minmax', 'bilateral', '3d_connected_component_analysis', 'merge_by_volume'], 'type': '3D', 'prob_threshold': 0.2}\n",
      "pipeline_3D_prob0.2_norm_minmax_0_4 {'pipeline': ['isotropy', 'norm_minmax', 'bilateral', '3d_connected_component_analysis', 'clean_boundaries_morphology'], 'type': '3D', 'prob_threshold': 0.2}\n",
      "pipeline_3D_prob0.2_norm_minmax_0_5 {'pipeline': ['isotropy', 'norm_minmax', 'bilateral', 'merge_by_volume', '3d_connected_component_analysis'], 'type': '3D', 'prob_threshold': 0.2}\n",
      "pipeline_3D_prob0.2_norm_minmax_0_6 {'pipeline': ['isotropy', 'norm_minmax', 'bilateral', 'merge_by_volume', 'clean_boundaries_morphology'], 'type': '3D', 'prob_threshold': 0.2}\n",
      "pipeline_3D_prob0.2_norm_minmax_0_7 {'pipeline': ['isotropy', 'norm_minmax', 'bilateral', 'clean_boundaries_morphology', '3d_connected_component_analysis'], 'type': '3D', 'prob_threshold': 0.2}\n",
      "pipeline_3D_prob0.2_norm_minmax_0_8 {'pipeline': ['isotropy', 'norm_minmax', 'bilateral', 'clean_boundaries_morphology', 'merge_by_volume'], 'type': '3D', 'prob_threshold': 0.2}\n",
      "pipeline_3D_prob0.2_norm_minmax_0_9 {'pipeline': ['isotropy', 'norm_minmax', 'bilateral', '3d_connected_component_analysis', 'merge_by_volume', 'clean_boundaries_morphology'], 'type': '3D', 'prob_threshold': 0.2}\n",
      "pipeline_3D_prob0.2_norm_minmax_0_10 {'pipeline': ['isotropy', 'norm_minmax', 'bilateral', '3d_connected_component_analysis', 'clean_boundaries_morphology', 'merge_by_volume'], 'type': '3D', 'prob_threshold': 0.2}\n",
      "pipeline_3D_prob0.2_norm_minmax_0_11 {'pipeline': ['isotropy', 'norm_minmax', 'bilateral', 'merge_by_volume', '3d_connected_component_analysis', 'clean_boundaries_morphology'], 'type': '3D', 'prob_threshold': 0.2}\n",
      "pipeline_3D_prob0.2_norm_minmax_0_12 {'pipeline': ['isotropy', 'norm_minmax', 'bilateral', 'merge_by_volume', 'clean_boundaries_morphology', '3d_connected_component_analysis'], 'type': '3D', 'prob_threshold': 0.2}\n",
      "pipeline_3D_prob0.2_norm_minmax_0_13 {'pipeline': ['isotropy', 'norm_minmax', 'bilateral', 'clean_boundaries_morphology', '3d_connected_component_analysis', 'merge_by_volume'], 'type': '3D', 'prob_threshold': 0.2}\n",
      "pipeline_3D_prob0.2_norm_minmax_0_14 {'pipeline': ['isotropy', 'norm_minmax', 'bilateral', 'clean_boundaries_morphology', 'merge_by_volume', '3d_connected_component_analysis'], 'type': '3D', 'prob_threshold': 0.2}\n",
      "pipeline_3D_prob0.2_norm_minmax_0_15 {'pipeline': ['isotropy', 'norm_minmax', 'bilateral'], 'type': '3D', 'prob_threshold': 0.2}\n",
      "pipeline_3D_prob0.2_norm_minmax_1_0 {'pipeline': ['isotropy', 'norm_minmax', 'anisodiff', '3d_connected_component_analysis'], 'type': '3D', 'prob_threshold': 0.2}\n",
      "pipeline_3D_prob0.2_norm_minmax_1_1 {'pipeline': ['isotropy', 'norm_minmax', 'anisodiff', 'merge_by_volume'], 'type': '3D', 'prob_threshold': 0.2}\n",
      "pipeline_3D_prob0.2_norm_minmax_1_2 {'pipeline': ['isotropy', 'norm_minmax', 'anisodiff', 'clean_boundaries_morphology'], 'type': '3D', 'prob_threshold': 0.2}\n",
      "pipeline_3D_prob0.2_norm_minmax_1_3 {'pipeline': ['isotropy', 'norm_minmax', 'anisodiff', '3d_connected_component_analysis', 'merge_by_volume'], 'type': '3D', 'prob_threshold': 0.2}\n",
      "pipeline_3D_prob0.2_norm_minmax_1_4 {'pipeline': ['isotropy', 'norm_minmax', 'anisodiff', '3d_connected_component_analysis', 'clean_boundaries_morphology'], 'type': '3D', 'prob_threshold': 0.2}\n",
      "pipeline_3D_prob0.2_norm_minmax_1_5 {'pipeline': ['isotropy', 'norm_minmax', 'anisodiff', 'merge_by_volume', '3d_connected_component_analysis'], 'type': '3D', 'prob_threshold': 0.2}\n",
      "pipeline_3D_prob0.2_norm_minmax_1_6 {'pipeline': ['isotropy', 'norm_minmax', 'anisodiff', 'merge_by_volume', 'clean_boundaries_morphology'], 'type': '3D', 'prob_threshold': 0.2}\n",
      "pipeline_3D_prob0.2_norm_minmax_1_7 {'pipeline': ['isotropy', 'norm_minmax', 'anisodiff', 'clean_boundaries_morphology', '3d_connected_component_analysis'], 'type': '3D', 'prob_threshold': 0.2}\n",
      "pipeline_3D_prob0.2_norm_minmax_1_8 {'pipeline': ['isotropy', 'norm_minmax', 'anisodiff', 'clean_boundaries_morphology', 'merge_by_volume'], 'type': '3D', 'prob_threshold': 0.2}\n",
      "pipeline_3D_prob0.2_norm_minmax_1_9 {'pipeline': ['isotropy', 'norm_minmax', 'anisodiff', '3d_connected_component_analysis', 'merge_by_volume', 'clean_boundaries_morphology'], 'type': '3D', 'prob_threshold': 0.2}\n",
      "pipeline_3D_prob0.2_norm_minmax_1_10 {'pipeline': ['isotropy', 'norm_minmax', 'anisodiff', '3d_connected_component_analysis', 'clean_boundaries_morphology', 'merge_by_volume'], 'type': '3D', 'prob_threshold': 0.2}\n",
      "pipeline_3D_prob0.2_norm_minmax_1_11 {'pipeline': ['isotropy', 'norm_minmax', 'anisodiff', 'merge_by_volume', '3d_connected_component_analysis', 'clean_boundaries_morphology'], 'type': '3D', 'prob_threshold': 0.2}\n",
      "pipeline_3D_prob0.2_norm_minmax_1_12 {'pipeline': ['isotropy', 'norm_minmax', 'anisodiff', 'merge_by_volume', 'clean_boundaries_morphology', '3d_connected_component_analysis'], 'type': '3D', 'prob_threshold': 0.2}\n",
      "pipeline_3D_prob0.2_norm_minmax_1_13 {'pipeline': ['isotropy', 'norm_minmax', 'anisodiff', 'clean_boundaries_morphology', '3d_connected_component_analysis', 'merge_by_volume'], 'type': '3D', 'prob_threshold': 0.2}\n",
      "pipeline_3D_prob0.2_norm_minmax_1_14 {'pipeline': ['isotropy', 'norm_minmax', 'anisodiff', 'clean_boundaries_morphology', 'merge_by_volume', '3d_connected_component_analysis'], 'type': '3D', 'prob_threshold': 0.2}\n",
      "pipeline_3D_prob0.2_norm_minmax_1_15 {'pipeline': ['isotropy', 'norm_minmax', 'anisodiff'], 'type': '3D', 'prob_threshold': 0.2}\n",
      "pipeline_3D_prob0.2_norm_minmax_2_0 {'pipeline': ['isotropy', 'norm_minmax', 'bilateral', 'anisodiff', '3d_connected_component_analysis'], 'type': '3D', 'prob_threshold': 0.2}\n",
      "pipeline_3D_prob0.2_norm_minmax_2_1 {'pipeline': ['isotropy', 'norm_minmax', 'bilateral', 'anisodiff', 'merge_by_volume'], 'type': '3D', 'prob_threshold': 0.2}\n",
      "pipeline_3D_prob0.2_norm_minmax_2_2 {'pipeline': ['isotropy', 'norm_minmax', 'bilateral', 'anisodiff', 'clean_boundaries_morphology'], 'type': '3D', 'prob_threshold': 0.2}\n",
      "pipeline_3D_prob0.2_norm_minmax_2_3 {'pipeline': ['isotropy', 'norm_minmax', 'bilateral', 'anisodiff', '3d_connected_component_analysis', 'merge_by_volume'], 'type': '3D', 'prob_threshold': 0.2}\n",
      "pipeline_3D_prob0.2_norm_minmax_2_4 {'pipeline': ['isotropy', 'norm_minmax', 'bilateral', 'anisodiff', '3d_connected_component_analysis', 'clean_boundaries_morphology'], 'type': '3D', 'prob_threshold': 0.2}\n",
      "pipeline_3D_prob0.2_norm_minmax_2_5 {'pipeline': ['isotropy', 'norm_minmax', 'bilateral', 'anisodiff', 'merge_by_volume', '3d_connected_component_analysis'], 'type': '3D', 'prob_threshold': 0.2}\n",
      "pipeline_3D_prob0.2_norm_minmax_2_6 {'pipeline': ['isotropy', 'norm_minmax', 'bilateral', 'anisodiff', 'merge_by_volume', 'clean_boundaries_morphology'], 'type': '3D', 'prob_threshold': 0.2}\n",
      "pipeline_3D_prob0.2_norm_minmax_2_7 {'pipeline': ['isotropy', 'norm_minmax', 'bilateral', 'anisodiff', 'clean_boundaries_morphology', '3d_connected_component_analysis'], 'type': '3D', 'prob_threshold': 0.2}\n",
      "pipeline_3D_prob0.2_norm_minmax_2_8 {'pipeline': ['isotropy', 'norm_minmax', 'bilateral', 'anisodiff', 'clean_boundaries_morphology', 'merge_by_volume'], 'type': '3D', 'prob_threshold': 0.2}\n",
      "pipeline_3D_prob0.2_norm_minmax_2_9 {'pipeline': ['isotropy', 'norm_minmax', 'bilateral', 'anisodiff', '3d_connected_component_analysis', 'merge_by_volume', 'clean_boundaries_morphology'], 'type': '3D', 'prob_threshold': 0.2}\n",
      "pipeline_3D_prob0.2_norm_minmax_2_10 {'pipeline': ['isotropy', 'norm_minmax', 'bilateral', 'anisodiff', '3d_connected_component_analysis', 'clean_boundaries_morphology', 'merge_by_volume'], 'type': '3D', 'prob_threshold': 0.2}\n",
      "pipeline_3D_prob0.2_norm_minmax_2_11 {'pipeline': ['isotropy', 'norm_minmax', 'bilateral', 'anisodiff', 'merge_by_volume', '3d_connected_component_analysis', 'clean_boundaries_morphology'], 'type': '3D', 'prob_threshold': 0.2}\n",
      "pipeline_3D_prob0.2_norm_minmax_2_12 {'pipeline': ['isotropy', 'norm_minmax', 'bilateral', 'anisodiff', 'merge_by_volume', 'clean_boundaries_morphology', '3d_connected_component_analysis'], 'type': '3D', 'prob_threshold': 0.2}\n",
      "pipeline_3D_prob0.2_norm_minmax_2_13 {'pipeline': ['isotropy', 'norm_minmax', 'bilateral', 'anisodiff', 'clean_boundaries_morphology', '3d_connected_component_analysis', 'merge_by_volume'], 'type': '3D', 'prob_threshold': 0.2}\n",
      "pipeline_3D_prob0.2_norm_minmax_2_14 {'pipeline': ['isotropy', 'norm_minmax', 'bilateral', 'anisodiff', 'clean_boundaries_morphology', 'merge_by_volume', '3d_connected_component_analysis'], 'type': '3D', 'prob_threshold': 0.2}\n",
      "pipeline_3D_prob0.2_norm_minmax_2_15 {'pipeline': ['isotropy', 'norm_minmax', 'bilateral', 'anisodiff'], 'type': '3D', 'prob_threshold': 0.2}\n",
      "pipeline_3D_prob0.2_norm_minmax_3_0 {'pipeline': ['isotropy', 'norm_minmax', 'anisodiff', 'bilateral', '3d_connected_component_analysis'], 'type': '3D', 'prob_threshold': 0.2}\n",
      "pipeline_3D_prob0.2_norm_minmax_3_1 {'pipeline': ['isotropy', 'norm_minmax', 'anisodiff', 'bilateral', 'merge_by_volume'], 'type': '3D', 'prob_threshold': 0.2}\n",
      "pipeline_3D_prob0.2_norm_minmax_3_2 {'pipeline': ['isotropy', 'norm_minmax', 'anisodiff', 'bilateral', 'clean_boundaries_morphology'], 'type': '3D', 'prob_threshold': 0.2}\n",
      "pipeline_3D_prob0.2_norm_minmax_3_3 {'pipeline': ['isotropy', 'norm_minmax', 'anisodiff', 'bilateral', '3d_connected_component_analysis', 'merge_by_volume'], 'type': '3D', 'prob_threshold': 0.2}\n",
      "pipeline_3D_prob0.2_norm_minmax_3_4 {'pipeline': ['isotropy', 'norm_minmax', 'anisodiff', 'bilateral', '3d_connected_component_analysis', 'clean_boundaries_morphology'], 'type': '3D', 'prob_threshold': 0.2}\n",
      "pipeline_3D_prob0.2_norm_minmax_3_5 {'pipeline': ['isotropy', 'norm_minmax', 'anisodiff', 'bilateral', 'merge_by_volume', '3d_connected_component_analysis'], 'type': '3D', 'prob_threshold': 0.2}\n",
      "pipeline_3D_prob0.2_norm_minmax_3_6 {'pipeline': ['isotropy', 'norm_minmax', 'anisodiff', 'bilateral', 'merge_by_volume', 'clean_boundaries_morphology'], 'type': '3D', 'prob_threshold': 0.2}\n",
      "pipeline_3D_prob0.2_norm_minmax_3_7 {'pipeline': ['isotropy', 'norm_minmax', 'anisodiff', 'bilateral', 'clean_boundaries_morphology', '3d_connected_component_analysis'], 'type': '3D', 'prob_threshold': 0.2}\n",
      "pipeline_3D_prob0.2_norm_minmax_3_8 {'pipeline': ['isotropy', 'norm_minmax', 'anisodiff', 'bilateral', 'clean_boundaries_morphology', 'merge_by_volume'], 'type': '3D', 'prob_threshold': 0.2}\n",
      "pipeline_3D_prob0.2_norm_minmax_3_9 {'pipeline': ['isotropy', 'norm_minmax', 'anisodiff', 'bilateral', '3d_connected_component_analysis', 'merge_by_volume', 'clean_boundaries_morphology'], 'type': '3D', 'prob_threshold': 0.2}\n",
      "pipeline_3D_prob0.2_norm_minmax_3_10 {'pipeline': ['isotropy', 'norm_minmax', 'anisodiff', 'bilateral', '3d_connected_component_analysis', 'clean_boundaries_morphology', 'merge_by_volume'], 'type': '3D', 'prob_threshold': 0.2}\n",
      "pipeline_3D_prob0.2_norm_minmax_3_11 {'pipeline': ['isotropy', 'norm_minmax', 'anisodiff', 'bilateral', 'merge_by_volume', '3d_connected_component_analysis', 'clean_boundaries_morphology'], 'type': '3D', 'prob_threshold': 0.2}\n",
      "pipeline_3D_prob0.2_norm_minmax_3_12 {'pipeline': ['isotropy', 'norm_minmax', 'anisodiff', 'bilateral', 'merge_by_volume', 'clean_boundaries_morphology', '3d_connected_component_analysis'], 'type': '3D', 'prob_threshold': 0.2}\n",
      "pipeline_3D_prob0.2_norm_minmax_3_13 {'pipeline': ['isotropy', 'norm_minmax', 'anisodiff', 'bilateral', 'clean_boundaries_morphology', '3d_connected_component_analysis', 'merge_by_volume'], 'type': '3D', 'prob_threshold': 0.2}\n",
      "pipeline_3D_prob0.2_norm_minmax_3_14 {'pipeline': ['isotropy', 'norm_minmax', 'anisodiff', 'bilateral', 'clean_boundaries_morphology', 'merge_by_volume', '3d_connected_component_analysis'], 'type': '3D', 'prob_threshold': 0.2}\n",
      "pipeline_3D_prob0.2_norm_minmax_3_15 {'pipeline': ['isotropy', 'norm_minmax', 'anisodiff', 'bilateral'], 'type': '3D', 'prob_threshold': 0.2}\n",
      "pipeline_3D_prob0.4_norm_minmax_0_0 {'pipeline': ['isotropy', 'norm_minmax', 'bilateral', '3d_connected_component_analysis'], 'type': '3D', 'prob_threshold': 0.4}\n",
      "pipeline_3D_prob0.4_norm_minmax_0_1 {'pipeline': ['isotropy', 'norm_minmax', 'bilateral', 'merge_by_volume'], 'type': '3D', 'prob_threshold': 0.4}\n",
      "pipeline_3D_prob0.4_norm_minmax_0_2 {'pipeline': ['isotropy', 'norm_minmax', 'bilateral', 'clean_boundaries_morphology'], 'type': '3D', 'prob_threshold': 0.4}\n",
      "pipeline_3D_prob0.4_norm_minmax_0_3 {'pipeline': ['isotropy', 'norm_minmax', 'bilateral', '3d_connected_component_analysis', 'merge_by_volume'], 'type': '3D', 'prob_threshold': 0.4}\n",
      "pipeline_3D_prob0.4_norm_minmax_0_4 {'pipeline': ['isotropy', 'norm_minmax', 'bilateral', '3d_connected_component_analysis', 'clean_boundaries_morphology'], 'type': '3D', 'prob_threshold': 0.4}\n",
      "pipeline_3D_prob0.4_norm_minmax_0_5 {'pipeline': ['isotropy', 'norm_minmax', 'bilateral', 'merge_by_volume', '3d_connected_component_analysis'], 'type': '3D', 'prob_threshold': 0.4}\n",
      "pipeline_3D_prob0.4_norm_minmax_0_6 {'pipeline': ['isotropy', 'norm_minmax', 'bilateral', 'merge_by_volume', 'clean_boundaries_morphology'], 'type': '3D', 'prob_threshold': 0.4}\n",
      "pipeline_3D_prob0.4_norm_minmax_0_7 {'pipeline': ['isotropy', 'norm_minmax', 'bilateral', 'clean_boundaries_morphology', '3d_connected_component_analysis'], 'type': '3D', 'prob_threshold': 0.4}\n",
      "pipeline_3D_prob0.4_norm_minmax_0_8 {'pipeline': ['isotropy', 'norm_minmax', 'bilateral', 'clean_boundaries_morphology', 'merge_by_volume'], 'type': '3D', 'prob_threshold': 0.4}\n",
      "pipeline_3D_prob0.4_norm_minmax_0_9 {'pipeline': ['isotropy', 'norm_minmax', 'bilateral', '3d_connected_component_analysis', 'merge_by_volume', 'clean_boundaries_morphology'], 'type': '3D', 'prob_threshold': 0.4}\n",
      "pipeline_3D_prob0.4_norm_minmax_0_10 {'pipeline': ['isotropy', 'norm_minmax', 'bilateral', '3d_connected_component_analysis', 'clean_boundaries_morphology', 'merge_by_volume'], 'type': '3D', 'prob_threshold': 0.4}\n",
      "pipeline_3D_prob0.4_norm_minmax_0_11 {'pipeline': ['isotropy', 'norm_minmax', 'bilateral', 'merge_by_volume', '3d_connected_component_analysis', 'clean_boundaries_morphology'], 'type': '3D', 'prob_threshold': 0.4}\n",
      "pipeline_3D_prob0.4_norm_minmax_0_12 {'pipeline': ['isotropy', 'norm_minmax', 'bilateral', 'merge_by_volume', 'clean_boundaries_morphology', '3d_connected_component_analysis'], 'type': '3D', 'prob_threshold': 0.4}\n",
      "pipeline_3D_prob0.4_norm_minmax_0_13 {'pipeline': ['isotropy', 'norm_minmax', 'bilateral', 'clean_boundaries_morphology', '3d_connected_component_analysis', 'merge_by_volume'], 'type': '3D', 'prob_threshold': 0.4}\n",
      "pipeline_3D_prob0.4_norm_minmax_0_14 {'pipeline': ['isotropy', 'norm_minmax', 'bilateral', 'clean_boundaries_morphology', 'merge_by_volume', '3d_connected_component_analysis'], 'type': '3D', 'prob_threshold': 0.4}\n",
      "pipeline_3D_prob0.4_norm_minmax_0_15 {'pipeline': ['isotropy', 'norm_minmax', 'bilateral'], 'type': '3D', 'prob_threshold': 0.4}\n",
      "pipeline_3D_prob0.4_norm_minmax_1_0 {'pipeline': ['isotropy', 'norm_minmax', 'anisodiff', '3d_connected_component_analysis'], 'type': '3D', 'prob_threshold': 0.4}\n",
      "pipeline_3D_prob0.4_norm_minmax_1_1 {'pipeline': ['isotropy', 'norm_minmax', 'anisodiff', 'merge_by_volume'], 'type': '3D', 'prob_threshold': 0.4}\n",
      "pipeline_3D_prob0.4_norm_minmax_1_2 {'pipeline': ['isotropy', 'norm_minmax', 'anisodiff', 'clean_boundaries_morphology'], 'type': '3D', 'prob_threshold': 0.4}\n",
      "pipeline_3D_prob0.4_norm_minmax_1_3 {'pipeline': ['isotropy', 'norm_minmax', 'anisodiff', '3d_connected_component_analysis', 'merge_by_volume'], 'type': '3D', 'prob_threshold': 0.4}\n",
      "pipeline_3D_prob0.4_norm_minmax_1_4 {'pipeline': ['isotropy', 'norm_minmax', 'anisodiff', '3d_connected_component_analysis', 'clean_boundaries_morphology'], 'type': '3D', 'prob_threshold': 0.4}\n",
      "pipeline_3D_prob0.4_norm_minmax_1_5 {'pipeline': ['isotropy', 'norm_minmax', 'anisodiff', 'merge_by_volume', '3d_connected_component_analysis'], 'type': '3D', 'prob_threshold': 0.4}\n",
      "pipeline_3D_prob0.4_norm_minmax_1_6 {'pipeline': ['isotropy', 'norm_minmax', 'anisodiff', 'merge_by_volume', 'clean_boundaries_morphology'], 'type': '3D', 'prob_threshold': 0.4}\n",
      "pipeline_3D_prob0.4_norm_minmax_1_7 {'pipeline': ['isotropy', 'norm_minmax', 'anisodiff', 'clean_boundaries_morphology', '3d_connected_component_analysis'], 'type': '3D', 'prob_threshold': 0.4}\n",
      "pipeline_3D_prob0.4_norm_minmax_1_8 {'pipeline': ['isotropy', 'norm_minmax', 'anisodiff', 'clean_boundaries_morphology', 'merge_by_volume'], 'type': '3D', 'prob_threshold': 0.4}\n",
      "pipeline_3D_prob0.4_norm_minmax_1_9 {'pipeline': ['isotropy', 'norm_minmax', 'anisodiff', '3d_connected_component_analysis', 'merge_by_volume', 'clean_boundaries_morphology'], 'type': '3D', 'prob_threshold': 0.4}\n",
      "pipeline_3D_prob0.4_norm_minmax_1_10 {'pipeline': ['isotropy', 'norm_minmax', 'anisodiff', '3d_connected_component_analysis', 'clean_boundaries_morphology', 'merge_by_volume'], 'type': '3D', 'prob_threshold': 0.4}\n",
      "pipeline_3D_prob0.4_norm_minmax_1_11 {'pipeline': ['isotropy', 'norm_minmax', 'anisodiff', 'merge_by_volume', '3d_connected_component_analysis', 'clean_boundaries_morphology'], 'type': '3D', 'prob_threshold': 0.4}\n",
      "pipeline_3D_prob0.4_norm_minmax_1_12 {'pipeline': ['isotropy', 'norm_minmax', 'anisodiff', 'merge_by_volume', 'clean_boundaries_morphology', '3d_connected_component_analysis'], 'type': '3D', 'prob_threshold': 0.4}\n",
      "pipeline_3D_prob0.4_norm_minmax_1_13 {'pipeline': ['isotropy', 'norm_minmax', 'anisodiff', 'clean_boundaries_morphology', '3d_connected_component_analysis', 'merge_by_volume'], 'type': '3D', 'prob_threshold': 0.4}\n",
      "pipeline_3D_prob0.4_norm_minmax_1_14 {'pipeline': ['isotropy', 'norm_minmax', 'anisodiff', 'clean_boundaries_morphology', 'merge_by_volume', '3d_connected_component_analysis'], 'type': '3D', 'prob_threshold': 0.4}\n",
      "pipeline_3D_prob0.4_norm_minmax_1_15 {'pipeline': ['isotropy', 'norm_minmax', 'anisodiff'], 'type': '3D', 'prob_threshold': 0.4}\n",
      "pipeline_3D_prob0.4_norm_minmax_2_0 {'pipeline': ['isotropy', 'norm_minmax', 'bilateral', 'anisodiff', '3d_connected_component_analysis'], 'type': '3D', 'prob_threshold': 0.4}\n",
      "pipeline_3D_prob0.4_norm_minmax_2_1 {'pipeline': ['isotropy', 'norm_minmax', 'bilateral', 'anisodiff', 'merge_by_volume'], 'type': '3D', 'prob_threshold': 0.4}\n",
      "pipeline_3D_prob0.4_norm_minmax_2_2 {'pipeline': ['isotropy', 'norm_minmax', 'bilateral', 'anisodiff', 'clean_boundaries_morphology'], 'type': '3D', 'prob_threshold': 0.4}\n",
      "pipeline_3D_prob0.4_norm_minmax_2_3 {'pipeline': ['isotropy', 'norm_minmax', 'bilateral', 'anisodiff', '3d_connected_component_analysis', 'merge_by_volume'], 'type': '3D', 'prob_threshold': 0.4}\n",
      "pipeline_3D_prob0.4_norm_minmax_2_4 {'pipeline': ['isotropy', 'norm_minmax', 'bilateral', 'anisodiff', '3d_connected_component_analysis', 'clean_boundaries_morphology'], 'type': '3D', 'prob_threshold': 0.4}\n",
      "pipeline_3D_prob0.4_norm_minmax_2_5 {'pipeline': ['isotropy', 'norm_minmax', 'bilateral', 'anisodiff', 'merge_by_volume', '3d_connected_component_analysis'], 'type': '3D', 'prob_threshold': 0.4}\n",
      "pipeline_3D_prob0.4_norm_minmax_2_6 {'pipeline': ['isotropy', 'norm_minmax', 'bilateral', 'anisodiff', 'merge_by_volume', 'clean_boundaries_morphology'], 'type': '3D', 'prob_threshold': 0.4}\n",
      "pipeline_3D_prob0.4_norm_minmax_2_7 {'pipeline': ['isotropy', 'norm_minmax', 'bilateral', 'anisodiff', 'clean_boundaries_morphology', '3d_connected_component_analysis'], 'type': '3D', 'prob_threshold': 0.4}\n",
      "pipeline_3D_prob0.4_norm_minmax_2_8 {'pipeline': ['isotropy', 'norm_minmax', 'bilateral', 'anisodiff', 'clean_boundaries_morphology', 'merge_by_volume'], 'type': '3D', 'prob_threshold': 0.4}\n",
      "pipeline_3D_prob0.4_norm_minmax_2_9 {'pipeline': ['isotropy', 'norm_minmax', 'bilateral', 'anisodiff', '3d_connected_component_analysis', 'merge_by_volume', 'clean_boundaries_morphology'], 'type': '3D', 'prob_threshold': 0.4}\n",
      "pipeline_3D_prob0.4_norm_minmax_2_10 {'pipeline': ['isotropy', 'norm_minmax', 'bilateral', 'anisodiff', '3d_connected_component_analysis', 'clean_boundaries_morphology', 'merge_by_volume'], 'type': '3D', 'prob_threshold': 0.4}\n",
      "pipeline_3D_prob0.4_norm_minmax_2_11 {'pipeline': ['isotropy', 'norm_minmax', 'bilateral', 'anisodiff', 'merge_by_volume', '3d_connected_component_analysis', 'clean_boundaries_morphology'], 'type': '3D', 'prob_threshold': 0.4}\n",
      "pipeline_3D_prob0.4_norm_minmax_2_12 {'pipeline': ['isotropy', 'norm_minmax', 'bilateral', 'anisodiff', 'merge_by_volume', 'clean_boundaries_morphology', '3d_connected_component_analysis'], 'type': '3D', 'prob_threshold': 0.4}\n",
      "pipeline_3D_prob0.4_norm_minmax_2_13 {'pipeline': ['isotropy', 'norm_minmax', 'bilateral', 'anisodiff', 'clean_boundaries_morphology', '3d_connected_component_analysis', 'merge_by_volume'], 'type': '3D', 'prob_threshold': 0.4}\n",
      "pipeline_3D_prob0.4_norm_minmax_2_14 {'pipeline': ['isotropy', 'norm_minmax', 'bilateral', 'anisodiff', 'clean_boundaries_morphology', 'merge_by_volume', '3d_connected_component_analysis'], 'type': '3D', 'prob_threshold': 0.4}\n",
      "pipeline_3D_prob0.4_norm_minmax_2_15 {'pipeline': ['isotropy', 'norm_minmax', 'bilateral', 'anisodiff'], 'type': '3D', 'prob_threshold': 0.4}\n",
      "pipeline_3D_prob0.4_norm_minmax_3_0 {'pipeline': ['isotropy', 'norm_minmax', 'anisodiff', 'bilateral', '3d_connected_component_analysis'], 'type': '3D', 'prob_threshold': 0.4}\n",
      "pipeline_3D_prob0.4_norm_minmax_3_1 {'pipeline': ['isotropy', 'norm_minmax', 'anisodiff', 'bilateral', 'merge_by_volume'], 'type': '3D', 'prob_threshold': 0.4}\n",
      "pipeline_3D_prob0.4_norm_minmax_3_2 {'pipeline': ['isotropy', 'norm_minmax', 'anisodiff', 'bilateral', 'clean_boundaries_morphology'], 'type': '3D', 'prob_threshold': 0.4}\n",
      "pipeline_3D_prob0.4_norm_minmax_3_3 {'pipeline': ['isotropy', 'norm_minmax', 'anisodiff', 'bilateral', '3d_connected_component_analysis', 'merge_by_volume'], 'type': '3D', 'prob_threshold': 0.4}\n",
      "pipeline_3D_prob0.4_norm_minmax_3_4 {'pipeline': ['isotropy', 'norm_minmax', 'anisodiff', 'bilateral', '3d_connected_component_analysis', 'clean_boundaries_morphology'], 'type': '3D', 'prob_threshold': 0.4}\n",
      "pipeline_3D_prob0.4_norm_minmax_3_5 {'pipeline': ['isotropy', 'norm_minmax', 'anisodiff', 'bilateral', 'merge_by_volume', '3d_connected_component_analysis'], 'type': '3D', 'prob_threshold': 0.4}\n",
      "pipeline_3D_prob0.4_norm_minmax_3_6 {'pipeline': ['isotropy', 'norm_minmax', 'anisodiff', 'bilateral', 'merge_by_volume', 'clean_boundaries_morphology'], 'type': '3D', 'prob_threshold': 0.4}\n",
      "pipeline_3D_prob0.4_norm_minmax_3_7 {'pipeline': ['isotropy', 'norm_minmax', 'anisodiff', 'bilateral', 'clean_boundaries_morphology', '3d_connected_component_analysis'], 'type': '3D', 'prob_threshold': 0.4}\n",
      "pipeline_3D_prob0.4_norm_minmax_3_8 {'pipeline': ['isotropy', 'norm_minmax', 'anisodiff', 'bilateral', 'clean_boundaries_morphology', 'merge_by_volume'], 'type': '3D', 'prob_threshold': 0.4}\n",
      "pipeline_3D_prob0.4_norm_minmax_3_9 {'pipeline': ['isotropy', 'norm_minmax', 'anisodiff', 'bilateral', '3d_connected_component_analysis', 'merge_by_volume', 'clean_boundaries_morphology'], 'type': '3D', 'prob_threshold': 0.4}\n",
      "pipeline_3D_prob0.4_norm_minmax_3_10 {'pipeline': ['isotropy', 'norm_minmax', 'anisodiff', 'bilateral', '3d_connected_component_analysis', 'clean_boundaries_morphology', 'merge_by_volume'], 'type': '3D', 'prob_threshold': 0.4}\n",
      "pipeline_3D_prob0.4_norm_minmax_3_11 {'pipeline': ['isotropy', 'norm_minmax', 'anisodiff', 'bilateral', 'merge_by_volume', '3d_connected_component_analysis', 'clean_boundaries_morphology'], 'type': '3D', 'prob_threshold': 0.4}\n",
      "pipeline_3D_prob0.4_norm_minmax_3_12 {'pipeline': ['isotropy', 'norm_minmax', 'anisodiff', 'bilateral', 'merge_by_volume', 'clean_boundaries_morphology', '3d_connected_component_analysis'], 'type': '3D', 'prob_threshold': 0.4}\n",
      "pipeline_3D_prob0.4_norm_minmax_3_13 {'pipeline': ['isotropy', 'norm_minmax', 'anisodiff', 'bilateral', 'clean_boundaries_morphology', '3d_connected_component_analysis', 'merge_by_volume'], 'type': '3D', 'prob_threshold': 0.4}\n",
      "pipeline_3D_prob0.4_norm_minmax_3_14 {'pipeline': ['isotropy', 'norm_minmax', 'anisodiff', 'bilateral', 'clean_boundaries_morphology', 'merge_by_volume', '3d_connected_component_analysis'], 'type': '3D', 'prob_threshold': 0.4}\n",
      "pipeline_3D_prob0.4_norm_minmax_3_15 {'pipeline': ['isotropy', 'norm_minmax', 'anisodiff', 'bilateral'], 'type': '3D', 'prob_threshold': 0.4}\n",
      "pipeline_3D_prob0.5_norm_minmax_0_0 {'pipeline': ['isotropy', 'norm_minmax', 'bilateral', '3d_connected_component_analysis'], 'type': '3D', 'prob_threshold': 0.5}\n",
      "pipeline_3D_prob0.5_norm_minmax_0_1 {'pipeline': ['isotropy', 'norm_minmax', 'bilateral', 'merge_by_volume'], 'type': '3D', 'prob_threshold': 0.5}\n",
      "pipeline_3D_prob0.5_norm_minmax_0_2 {'pipeline': ['isotropy', 'norm_minmax', 'bilateral', 'clean_boundaries_morphology'], 'type': '3D', 'prob_threshold': 0.5}\n",
      "pipeline_3D_prob0.5_norm_minmax_0_3 {'pipeline': ['isotropy', 'norm_minmax', 'bilateral', '3d_connected_component_analysis', 'merge_by_volume'], 'type': '3D', 'prob_threshold': 0.5}\n",
      "pipeline_3D_prob0.5_norm_minmax_0_4 {'pipeline': ['isotropy', 'norm_minmax', 'bilateral', '3d_connected_component_analysis', 'clean_boundaries_morphology'], 'type': '3D', 'prob_threshold': 0.5}\n",
      "pipeline_3D_prob0.5_norm_minmax_0_5 {'pipeline': ['isotropy', 'norm_minmax', 'bilateral', 'merge_by_volume', '3d_connected_component_analysis'], 'type': '3D', 'prob_threshold': 0.5}\n",
      "pipeline_3D_prob0.5_norm_minmax_0_6 {'pipeline': ['isotropy', 'norm_minmax', 'bilateral', 'merge_by_volume', 'clean_boundaries_morphology'], 'type': '3D', 'prob_threshold': 0.5}\n",
      "pipeline_3D_prob0.5_norm_minmax_0_7 {'pipeline': ['isotropy', 'norm_minmax', 'bilateral', 'clean_boundaries_morphology', '3d_connected_component_analysis'], 'type': '3D', 'prob_threshold': 0.5}\n",
      "pipeline_3D_prob0.5_norm_minmax_0_8 {'pipeline': ['isotropy', 'norm_minmax', 'bilateral', 'clean_boundaries_morphology', 'merge_by_volume'], 'type': '3D', 'prob_threshold': 0.5}\n",
      "pipeline_3D_prob0.5_norm_minmax_0_9 {'pipeline': ['isotropy', 'norm_minmax', 'bilateral', '3d_connected_component_analysis', 'merge_by_volume', 'clean_boundaries_morphology'], 'type': '3D', 'prob_threshold': 0.5}\n",
      "pipeline_3D_prob0.5_norm_minmax_0_10 {'pipeline': ['isotropy', 'norm_minmax', 'bilateral', '3d_connected_component_analysis', 'clean_boundaries_morphology', 'merge_by_volume'], 'type': '3D', 'prob_threshold': 0.5}\n",
      "pipeline_3D_prob0.5_norm_minmax_0_11 {'pipeline': ['isotropy', 'norm_minmax', 'bilateral', 'merge_by_volume', '3d_connected_component_analysis', 'clean_boundaries_morphology'], 'type': '3D', 'prob_threshold': 0.5}\n",
      "pipeline_3D_prob0.5_norm_minmax_0_12 {'pipeline': ['isotropy', 'norm_minmax', 'bilateral', 'merge_by_volume', 'clean_boundaries_morphology', '3d_connected_component_analysis'], 'type': '3D', 'prob_threshold': 0.5}\n",
      "pipeline_3D_prob0.5_norm_minmax_0_13 {'pipeline': ['isotropy', 'norm_minmax', 'bilateral', 'clean_boundaries_morphology', '3d_connected_component_analysis', 'merge_by_volume'], 'type': '3D', 'prob_threshold': 0.5}\n",
      "pipeline_3D_prob0.5_norm_minmax_0_14 {'pipeline': ['isotropy', 'norm_minmax', 'bilateral', 'clean_boundaries_morphology', 'merge_by_volume', '3d_connected_component_analysis'], 'type': '3D', 'prob_threshold': 0.5}\n",
      "pipeline_3D_prob0.5_norm_minmax_0_15 {'pipeline': ['isotropy', 'norm_minmax', 'bilateral'], 'type': '3D', 'prob_threshold': 0.5}\n",
      "pipeline_3D_prob0.5_norm_minmax_1_0 {'pipeline': ['isotropy', 'norm_minmax', 'anisodiff', '3d_connected_component_analysis'], 'type': '3D', 'prob_threshold': 0.5}\n",
      "pipeline_3D_prob0.5_norm_minmax_1_1 {'pipeline': ['isotropy', 'norm_minmax', 'anisodiff', 'merge_by_volume'], 'type': '3D', 'prob_threshold': 0.5}\n",
      "pipeline_3D_prob0.5_norm_minmax_1_2 {'pipeline': ['isotropy', 'norm_minmax', 'anisodiff', 'clean_boundaries_morphology'], 'type': '3D', 'prob_threshold': 0.5}\n",
      "pipeline_3D_prob0.5_norm_minmax_1_3 {'pipeline': ['isotropy', 'norm_minmax', 'anisodiff', '3d_connected_component_analysis', 'merge_by_volume'], 'type': '3D', 'prob_threshold': 0.5}\n",
      "pipeline_3D_prob0.5_norm_minmax_1_4 {'pipeline': ['isotropy', 'norm_minmax', 'anisodiff', '3d_connected_component_analysis', 'clean_boundaries_morphology'], 'type': '3D', 'prob_threshold': 0.5}\n",
      "pipeline_3D_prob0.5_norm_minmax_1_5 {'pipeline': ['isotropy', 'norm_minmax', 'anisodiff', 'merge_by_volume', '3d_connected_component_analysis'], 'type': '3D', 'prob_threshold': 0.5}\n",
      "pipeline_3D_prob0.5_norm_minmax_1_6 {'pipeline': ['isotropy', 'norm_minmax', 'anisodiff', 'merge_by_volume', 'clean_boundaries_morphology'], 'type': '3D', 'prob_threshold': 0.5}\n",
      "pipeline_3D_prob0.5_norm_minmax_1_7 {'pipeline': ['isotropy', 'norm_minmax', 'anisodiff', 'clean_boundaries_morphology', '3d_connected_component_analysis'], 'type': '3D', 'prob_threshold': 0.5}\n",
      "pipeline_3D_prob0.5_norm_minmax_1_8 {'pipeline': ['isotropy', 'norm_minmax', 'anisodiff', 'clean_boundaries_morphology', 'merge_by_volume'], 'type': '3D', 'prob_threshold': 0.5}\n",
      "pipeline_3D_prob0.5_norm_minmax_1_9 {'pipeline': ['isotropy', 'norm_minmax', 'anisodiff', '3d_connected_component_analysis', 'merge_by_volume', 'clean_boundaries_morphology'], 'type': '3D', 'prob_threshold': 0.5}\n",
      "pipeline_3D_prob0.5_norm_minmax_1_10 {'pipeline': ['isotropy', 'norm_minmax', 'anisodiff', '3d_connected_component_analysis', 'clean_boundaries_morphology', 'merge_by_volume'], 'type': '3D', 'prob_threshold': 0.5}\n",
      "pipeline_3D_prob0.5_norm_minmax_1_11 {'pipeline': ['isotropy', 'norm_minmax', 'anisodiff', 'merge_by_volume', '3d_connected_component_analysis', 'clean_boundaries_morphology'], 'type': '3D', 'prob_threshold': 0.5}\n",
      "pipeline_3D_prob0.5_norm_minmax_1_12 {'pipeline': ['isotropy', 'norm_minmax', 'anisodiff', 'merge_by_volume', 'clean_boundaries_morphology', '3d_connected_component_analysis'], 'type': '3D', 'prob_threshold': 0.5}\n",
      "pipeline_3D_prob0.5_norm_minmax_1_13 {'pipeline': ['isotropy', 'norm_minmax', 'anisodiff', 'clean_boundaries_morphology', '3d_connected_component_analysis', 'merge_by_volume'], 'type': '3D', 'prob_threshold': 0.5}\n",
      "pipeline_3D_prob0.5_norm_minmax_1_14 {'pipeline': ['isotropy', 'norm_minmax', 'anisodiff', 'clean_boundaries_morphology', 'merge_by_volume', '3d_connected_component_analysis'], 'type': '3D', 'prob_threshold': 0.5}\n",
      "pipeline_3D_prob0.5_norm_minmax_1_15 {'pipeline': ['isotropy', 'norm_minmax', 'anisodiff'], 'type': '3D', 'prob_threshold': 0.5}\n",
      "pipeline_3D_prob0.5_norm_minmax_2_0 {'pipeline': ['isotropy', 'norm_minmax', 'bilateral', 'anisodiff', '3d_connected_component_analysis'], 'type': '3D', 'prob_threshold': 0.5}\n",
      "pipeline_3D_prob0.5_norm_minmax_2_1 {'pipeline': ['isotropy', 'norm_minmax', 'bilateral', 'anisodiff', 'merge_by_volume'], 'type': '3D', 'prob_threshold': 0.5}\n",
      "pipeline_3D_prob0.5_norm_minmax_2_2 {'pipeline': ['isotropy', 'norm_minmax', 'bilateral', 'anisodiff', 'clean_boundaries_morphology'], 'type': '3D', 'prob_threshold': 0.5}\n",
      "pipeline_3D_prob0.5_norm_minmax_2_3 {'pipeline': ['isotropy', 'norm_minmax', 'bilateral', 'anisodiff', '3d_connected_component_analysis', 'merge_by_volume'], 'type': '3D', 'prob_threshold': 0.5}\n",
      "pipeline_3D_prob0.5_norm_minmax_2_4 {'pipeline': ['isotropy', 'norm_minmax', 'bilateral', 'anisodiff', '3d_connected_component_analysis', 'clean_boundaries_morphology'], 'type': '3D', 'prob_threshold': 0.5}\n",
      "pipeline_3D_prob0.5_norm_minmax_2_5 {'pipeline': ['isotropy', 'norm_minmax', 'bilateral', 'anisodiff', 'merge_by_volume', '3d_connected_component_analysis'], 'type': '3D', 'prob_threshold': 0.5}\n",
      "pipeline_3D_prob0.5_norm_minmax_2_6 {'pipeline': ['isotropy', 'norm_minmax', 'bilateral', 'anisodiff', 'merge_by_volume', 'clean_boundaries_morphology'], 'type': '3D', 'prob_threshold': 0.5}\n",
      "pipeline_3D_prob0.5_norm_minmax_2_7 {'pipeline': ['isotropy', 'norm_minmax', 'bilateral', 'anisodiff', 'clean_boundaries_morphology', '3d_connected_component_analysis'], 'type': '3D', 'prob_threshold': 0.5}\n",
      "pipeline_3D_prob0.5_norm_minmax_2_8 {'pipeline': ['isotropy', 'norm_minmax', 'bilateral', 'anisodiff', 'clean_boundaries_morphology', 'merge_by_volume'], 'type': '3D', 'prob_threshold': 0.5}\n",
      "pipeline_3D_prob0.5_norm_minmax_2_9 {'pipeline': ['isotropy', 'norm_minmax', 'bilateral', 'anisodiff', '3d_connected_component_analysis', 'merge_by_volume', 'clean_boundaries_morphology'], 'type': '3D', 'prob_threshold': 0.5}\n",
      "pipeline_3D_prob0.5_norm_minmax_2_10 {'pipeline': ['isotropy', 'norm_minmax', 'bilateral', 'anisodiff', '3d_connected_component_analysis', 'clean_boundaries_morphology', 'merge_by_volume'], 'type': '3D', 'prob_threshold': 0.5}\n",
      "pipeline_3D_prob0.5_norm_minmax_2_11 {'pipeline': ['isotropy', 'norm_minmax', 'bilateral', 'anisodiff', 'merge_by_volume', '3d_connected_component_analysis', 'clean_boundaries_morphology'], 'type': '3D', 'prob_threshold': 0.5}\n",
      "pipeline_3D_prob0.5_norm_minmax_2_12 {'pipeline': ['isotropy', 'norm_minmax', 'bilateral', 'anisodiff', 'merge_by_volume', 'clean_boundaries_morphology', '3d_connected_component_analysis'], 'type': '3D', 'prob_threshold': 0.5}\n",
      "pipeline_3D_prob0.5_norm_minmax_2_13 {'pipeline': ['isotropy', 'norm_minmax', 'bilateral', 'anisodiff', 'clean_boundaries_morphology', '3d_connected_component_analysis', 'merge_by_volume'], 'type': '3D', 'prob_threshold': 0.5}\n",
      "pipeline_3D_prob0.5_norm_minmax_2_14 {'pipeline': ['isotropy', 'norm_minmax', 'bilateral', 'anisodiff', 'clean_boundaries_morphology', 'merge_by_volume', '3d_connected_component_analysis'], 'type': '3D', 'prob_threshold': 0.5}\n",
      "pipeline_3D_prob0.5_norm_minmax_2_15 {'pipeline': ['isotropy', 'norm_minmax', 'bilateral', 'anisodiff'], 'type': '3D', 'prob_threshold': 0.5}\n",
      "pipeline_3D_prob0.5_norm_minmax_3_0 {'pipeline': ['isotropy', 'norm_minmax', 'anisodiff', 'bilateral', '3d_connected_component_analysis'], 'type': '3D', 'prob_threshold': 0.5}\n",
      "pipeline_3D_prob0.5_norm_minmax_3_1 {'pipeline': ['isotropy', 'norm_minmax', 'anisodiff', 'bilateral', 'merge_by_volume'], 'type': '3D', 'prob_threshold': 0.5}\n",
      "pipeline_3D_prob0.5_norm_minmax_3_2 {'pipeline': ['isotropy', 'norm_minmax', 'anisodiff', 'bilateral', 'clean_boundaries_morphology'], 'type': '3D', 'prob_threshold': 0.5}\n",
      "pipeline_3D_prob0.5_norm_minmax_3_3 {'pipeline': ['isotropy', 'norm_minmax', 'anisodiff', 'bilateral', '3d_connected_component_analysis', 'merge_by_volume'], 'type': '3D', 'prob_threshold': 0.5}\n",
      "pipeline_3D_prob0.5_norm_minmax_3_4 {'pipeline': ['isotropy', 'norm_minmax', 'anisodiff', 'bilateral', '3d_connected_component_analysis', 'clean_boundaries_morphology'], 'type': '3D', 'prob_threshold': 0.5}\n",
      "pipeline_3D_prob0.5_norm_minmax_3_5 {'pipeline': ['isotropy', 'norm_minmax', 'anisodiff', 'bilateral', 'merge_by_volume', '3d_connected_component_analysis'], 'type': '3D', 'prob_threshold': 0.5}\n",
      "pipeline_3D_prob0.5_norm_minmax_3_6 {'pipeline': ['isotropy', 'norm_minmax', 'anisodiff', 'bilateral', 'merge_by_volume', 'clean_boundaries_morphology'], 'type': '3D', 'prob_threshold': 0.5}\n",
      "pipeline_3D_prob0.5_norm_minmax_3_7 {'pipeline': ['isotropy', 'norm_minmax', 'anisodiff', 'bilateral', 'clean_boundaries_morphology', '3d_connected_component_analysis'], 'type': '3D', 'prob_threshold': 0.5}\n",
      "pipeline_3D_prob0.5_norm_minmax_3_8 {'pipeline': ['isotropy', 'norm_minmax', 'anisodiff', 'bilateral', 'clean_boundaries_morphology', 'merge_by_volume'], 'type': '3D', 'prob_threshold': 0.5}\n",
      "pipeline_3D_prob0.5_norm_minmax_3_9 {'pipeline': ['isotropy', 'norm_minmax', 'anisodiff', 'bilateral', '3d_connected_component_analysis', 'merge_by_volume', 'clean_boundaries_morphology'], 'type': '3D', 'prob_threshold': 0.5}\n",
      "pipeline_3D_prob0.5_norm_minmax_3_10 {'pipeline': ['isotropy', 'norm_minmax', 'anisodiff', 'bilateral', '3d_connected_component_analysis', 'clean_boundaries_morphology', 'merge_by_volume'], 'type': '3D', 'prob_threshold': 0.5}\n",
      "pipeline_3D_prob0.5_norm_minmax_3_11 {'pipeline': ['isotropy', 'norm_minmax', 'anisodiff', 'bilateral', 'merge_by_volume', '3d_connected_component_analysis', 'clean_boundaries_morphology'], 'type': '3D', 'prob_threshold': 0.5}\n",
      "pipeline_3D_prob0.5_norm_minmax_3_12 {'pipeline': ['isotropy', 'norm_minmax', 'anisodiff', 'bilateral', 'merge_by_volume', 'clean_boundaries_morphology', '3d_connected_component_analysis'], 'type': '3D', 'prob_threshold': 0.5}\n",
      "pipeline_3D_prob0.5_norm_minmax_3_13 {'pipeline': ['isotropy', 'norm_minmax', 'anisodiff', 'bilateral', 'clean_boundaries_morphology', '3d_connected_component_analysis', 'merge_by_volume'], 'type': '3D', 'prob_threshold': 0.5}\n",
      "pipeline_3D_prob0.5_norm_minmax_3_14 {'pipeline': ['isotropy', 'norm_minmax', 'anisodiff', 'bilateral', 'clean_boundaries_morphology', 'merge_by_volume', '3d_connected_component_analysis'], 'type': '3D', 'prob_threshold': 0.5}\n",
      "pipeline_3D_prob0.5_norm_minmax_3_15 {'pipeline': ['isotropy', 'norm_minmax', 'anisodiff', 'bilateral'], 'type': '3D', 'prob_threshold': 0.5}\n",
      "pipeline_3D_prob0.0_norm_percentile_0_0 {'pipeline': ['isotropy', 'norm_percentile', 'bilateral', '3d_connected_component_analysis'], 'type': '3D', 'prob_threshold': 0.0}\n",
      "pipeline_3D_prob0.0_norm_percentile_0_1 {'pipeline': ['isotropy', 'norm_percentile', 'bilateral', 'merge_by_volume'], 'type': '3D', 'prob_threshold': 0.0}\n",
      "pipeline_3D_prob0.0_norm_percentile_0_2 {'pipeline': ['isotropy', 'norm_percentile', 'bilateral', 'clean_boundaries_morphology'], 'type': '3D', 'prob_threshold': 0.0}\n",
      "pipeline_3D_prob0.0_norm_percentile_0_3 {'pipeline': ['isotropy', 'norm_percentile', 'bilateral', '3d_connected_component_analysis', 'merge_by_volume'], 'type': '3D', 'prob_threshold': 0.0}\n",
      "pipeline_3D_prob0.0_norm_percentile_0_4 {'pipeline': ['isotropy', 'norm_percentile', 'bilateral', '3d_connected_component_analysis', 'clean_boundaries_morphology'], 'type': '3D', 'prob_threshold': 0.0}\n",
      "pipeline_3D_prob0.0_norm_percentile_0_5 {'pipeline': ['isotropy', 'norm_percentile', 'bilateral', 'merge_by_volume', '3d_connected_component_analysis'], 'type': '3D', 'prob_threshold': 0.0}\n",
      "pipeline_3D_prob0.0_norm_percentile_0_6 {'pipeline': ['isotropy', 'norm_percentile', 'bilateral', 'merge_by_volume', 'clean_boundaries_morphology'], 'type': '3D', 'prob_threshold': 0.0}\n",
      "pipeline_3D_prob0.0_norm_percentile_0_7 {'pipeline': ['isotropy', 'norm_percentile', 'bilateral', 'clean_boundaries_morphology', '3d_connected_component_analysis'], 'type': '3D', 'prob_threshold': 0.0}\n",
      "pipeline_3D_prob0.0_norm_percentile_0_8 {'pipeline': ['isotropy', 'norm_percentile', 'bilateral', 'clean_boundaries_morphology', 'merge_by_volume'], 'type': '3D', 'prob_threshold': 0.0}\n",
      "pipeline_3D_prob0.0_norm_percentile_0_9 {'pipeline': ['isotropy', 'norm_percentile', 'bilateral', '3d_connected_component_analysis', 'merge_by_volume', 'clean_boundaries_morphology'], 'type': '3D', 'prob_threshold': 0.0}\n",
      "pipeline_3D_prob0.0_norm_percentile_0_10 {'pipeline': ['isotropy', 'norm_percentile', 'bilateral', '3d_connected_component_analysis', 'clean_boundaries_morphology', 'merge_by_volume'], 'type': '3D', 'prob_threshold': 0.0}\n",
      "pipeline_3D_prob0.0_norm_percentile_0_11 {'pipeline': ['isotropy', 'norm_percentile', 'bilateral', 'merge_by_volume', '3d_connected_component_analysis', 'clean_boundaries_morphology'], 'type': '3D', 'prob_threshold': 0.0}\n",
      "pipeline_3D_prob0.0_norm_percentile_0_12 {'pipeline': ['isotropy', 'norm_percentile', 'bilateral', 'merge_by_volume', 'clean_boundaries_morphology', '3d_connected_component_analysis'], 'type': '3D', 'prob_threshold': 0.0}\n",
      "pipeline_3D_prob0.0_norm_percentile_0_13 {'pipeline': ['isotropy', 'norm_percentile', 'bilateral', 'clean_boundaries_morphology', '3d_connected_component_analysis', 'merge_by_volume'], 'type': '3D', 'prob_threshold': 0.0}\n",
      "pipeline_3D_prob0.0_norm_percentile_0_14 {'pipeline': ['isotropy', 'norm_percentile', 'bilateral', 'clean_boundaries_morphology', 'merge_by_volume', '3d_connected_component_analysis'], 'type': '3D', 'prob_threshold': 0.0}\n",
      "pipeline_3D_prob0.0_norm_percentile_0_15 {'pipeline': ['isotropy', 'norm_percentile', 'bilateral'], 'type': '3D', 'prob_threshold': 0.0}\n",
      "pipeline_3D_prob0.0_norm_percentile_1_0 {'pipeline': ['isotropy', 'norm_percentile', 'anisodiff', '3d_connected_component_analysis'], 'type': '3D', 'prob_threshold': 0.0}\n",
      "pipeline_3D_prob0.0_norm_percentile_1_1 {'pipeline': ['isotropy', 'norm_percentile', 'anisodiff', 'merge_by_volume'], 'type': '3D', 'prob_threshold': 0.0}\n",
      "pipeline_3D_prob0.0_norm_percentile_1_2 {'pipeline': ['isotropy', 'norm_percentile', 'anisodiff', 'clean_boundaries_morphology'], 'type': '3D', 'prob_threshold': 0.0}\n",
      "pipeline_3D_prob0.0_norm_percentile_1_3 {'pipeline': ['isotropy', 'norm_percentile', 'anisodiff', '3d_connected_component_analysis', 'merge_by_volume'], 'type': '3D', 'prob_threshold': 0.0}\n",
      "pipeline_3D_prob0.0_norm_percentile_1_4 {'pipeline': ['isotropy', 'norm_percentile', 'anisodiff', '3d_connected_component_analysis', 'clean_boundaries_morphology'], 'type': '3D', 'prob_threshold': 0.0}\n",
      "pipeline_3D_prob0.0_norm_percentile_1_5 {'pipeline': ['isotropy', 'norm_percentile', 'anisodiff', 'merge_by_volume', '3d_connected_component_analysis'], 'type': '3D', 'prob_threshold': 0.0}\n",
      "pipeline_3D_prob0.0_norm_percentile_1_6 {'pipeline': ['isotropy', 'norm_percentile', 'anisodiff', 'merge_by_volume', 'clean_boundaries_morphology'], 'type': '3D', 'prob_threshold': 0.0}\n",
      "pipeline_3D_prob0.0_norm_percentile_1_7 {'pipeline': ['isotropy', 'norm_percentile', 'anisodiff', 'clean_boundaries_morphology', '3d_connected_component_analysis'], 'type': '3D', 'prob_threshold': 0.0}\n",
      "pipeline_3D_prob0.0_norm_percentile_1_8 {'pipeline': ['isotropy', 'norm_percentile', 'anisodiff', 'clean_boundaries_morphology', 'merge_by_volume'], 'type': '3D', 'prob_threshold': 0.0}\n",
      "pipeline_3D_prob0.0_norm_percentile_1_9 {'pipeline': ['isotropy', 'norm_percentile', 'anisodiff', '3d_connected_component_analysis', 'merge_by_volume', 'clean_boundaries_morphology'], 'type': '3D', 'prob_threshold': 0.0}\n",
      "pipeline_3D_prob0.0_norm_percentile_1_10 {'pipeline': ['isotropy', 'norm_percentile', 'anisodiff', '3d_connected_component_analysis', 'clean_boundaries_morphology', 'merge_by_volume'], 'type': '3D', 'prob_threshold': 0.0}\n",
      "pipeline_3D_prob0.0_norm_percentile_1_11 {'pipeline': ['isotropy', 'norm_percentile', 'anisodiff', 'merge_by_volume', '3d_connected_component_analysis', 'clean_boundaries_morphology'], 'type': '3D', 'prob_threshold': 0.0}\n",
      "pipeline_3D_prob0.0_norm_percentile_1_12 {'pipeline': ['isotropy', 'norm_percentile', 'anisodiff', 'merge_by_volume', 'clean_boundaries_morphology', '3d_connected_component_analysis'], 'type': '3D', 'prob_threshold': 0.0}\n",
      "pipeline_3D_prob0.0_norm_percentile_1_13 {'pipeline': ['isotropy', 'norm_percentile', 'anisodiff', 'clean_boundaries_morphology', '3d_connected_component_analysis', 'merge_by_volume'], 'type': '3D', 'prob_threshold': 0.0}\n",
      "pipeline_3D_prob0.0_norm_percentile_1_14 {'pipeline': ['isotropy', 'norm_percentile', 'anisodiff', 'clean_boundaries_morphology', 'merge_by_volume', '3d_connected_component_analysis'], 'type': '3D', 'prob_threshold': 0.0}\n",
      "pipeline_3D_prob0.0_norm_percentile_1_15 {'pipeline': ['isotropy', 'norm_percentile', 'anisodiff'], 'type': '3D', 'prob_threshold': 0.0}\n",
      "pipeline_3D_prob0.0_norm_percentile_2_0 {'pipeline': ['isotropy', 'norm_percentile', 'bilateral', 'anisodiff', '3d_connected_component_analysis'], 'type': '3D', 'prob_threshold': 0.0}\n",
      "pipeline_3D_prob0.0_norm_percentile_2_1 {'pipeline': ['isotropy', 'norm_percentile', 'bilateral', 'anisodiff', 'merge_by_volume'], 'type': '3D', 'prob_threshold': 0.0}\n",
      "pipeline_3D_prob0.0_norm_percentile_2_2 {'pipeline': ['isotropy', 'norm_percentile', 'bilateral', 'anisodiff', 'clean_boundaries_morphology'], 'type': '3D', 'prob_threshold': 0.0}\n",
      "pipeline_3D_prob0.0_norm_percentile_2_3 {'pipeline': ['isotropy', 'norm_percentile', 'bilateral', 'anisodiff', '3d_connected_component_analysis', 'merge_by_volume'], 'type': '3D', 'prob_threshold': 0.0}\n",
      "pipeline_3D_prob0.0_norm_percentile_2_4 {'pipeline': ['isotropy', 'norm_percentile', 'bilateral', 'anisodiff', '3d_connected_component_analysis', 'clean_boundaries_morphology'], 'type': '3D', 'prob_threshold': 0.0}\n",
      "pipeline_3D_prob0.0_norm_percentile_2_5 {'pipeline': ['isotropy', 'norm_percentile', 'bilateral', 'anisodiff', 'merge_by_volume', '3d_connected_component_analysis'], 'type': '3D', 'prob_threshold': 0.0}\n",
      "pipeline_3D_prob0.0_norm_percentile_2_6 {'pipeline': ['isotropy', 'norm_percentile', 'bilateral', 'anisodiff', 'merge_by_volume', 'clean_boundaries_morphology'], 'type': '3D', 'prob_threshold': 0.0}\n",
      "pipeline_3D_prob0.0_norm_percentile_2_7 {'pipeline': ['isotropy', 'norm_percentile', 'bilateral', 'anisodiff', 'clean_boundaries_morphology', '3d_connected_component_analysis'], 'type': '3D', 'prob_threshold': 0.0}\n",
      "pipeline_3D_prob0.0_norm_percentile_2_8 {'pipeline': ['isotropy', 'norm_percentile', 'bilateral', 'anisodiff', 'clean_boundaries_morphology', 'merge_by_volume'], 'type': '3D', 'prob_threshold': 0.0}\n",
      "pipeline_3D_prob0.0_norm_percentile_2_9 {'pipeline': ['isotropy', 'norm_percentile', 'bilateral', 'anisodiff', '3d_connected_component_analysis', 'merge_by_volume', 'clean_boundaries_morphology'], 'type': '3D', 'prob_threshold': 0.0}\n",
      "pipeline_3D_prob0.0_norm_percentile_2_10 {'pipeline': ['isotropy', 'norm_percentile', 'bilateral', 'anisodiff', '3d_connected_component_analysis', 'clean_boundaries_morphology', 'merge_by_volume'], 'type': '3D', 'prob_threshold': 0.0}\n",
      "pipeline_3D_prob0.0_norm_percentile_2_11 {'pipeline': ['isotropy', 'norm_percentile', 'bilateral', 'anisodiff', 'merge_by_volume', '3d_connected_component_analysis', 'clean_boundaries_morphology'], 'type': '3D', 'prob_threshold': 0.0}\n",
      "pipeline_3D_prob0.0_norm_percentile_2_12 {'pipeline': ['isotropy', 'norm_percentile', 'bilateral', 'anisodiff', 'merge_by_volume', 'clean_boundaries_morphology', '3d_connected_component_analysis'], 'type': '3D', 'prob_threshold': 0.0}\n",
      "pipeline_3D_prob0.0_norm_percentile_2_13 {'pipeline': ['isotropy', 'norm_percentile', 'bilateral', 'anisodiff', 'clean_boundaries_morphology', '3d_connected_component_analysis', 'merge_by_volume'], 'type': '3D', 'prob_threshold': 0.0}\n",
      "pipeline_3D_prob0.0_norm_percentile_2_14 {'pipeline': ['isotropy', 'norm_percentile', 'bilateral', 'anisodiff', 'clean_boundaries_morphology', 'merge_by_volume', '3d_connected_component_analysis'], 'type': '3D', 'prob_threshold': 0.0}\n",
      "pipeline_3D_prob0.0_norm_percentile_2_15 {'pipeline': ['isotropy', 'norm_percentile', 'bilateral', 'anisodiff'], 'type': '3D', 'prob_threshold': 0.0}\n",
      "pipeline_3D_prob0.0_norm_percentile_3_0 {'pipeline': ['isotropy', 'norm_percentile', 'anisodiff', 'bilateral', '3d_connected_component_analysis'], 'type': '3D', 'prob_threshold': 0.0}\n",
      "pipeline_3D_prob0.0_norm_percentile_3_1 {'pipeline': ['isotropy', 'norm_percentile', 'anisodiff', 'bilateral', 'merge_by_volume'], 'type': '3D', 'prob_threshold': 0.0}\n",
      "pipeline_3D_prob0.0_norm_percentile_3_2 {'pipeline': ['isotropy', 'norm_percentile', 'anisodiff', 'bilateral', 'clean_boundaries_morphology'], 'type': '3D', 'prob_threshold': 0.0}\n",
      "pipeline_3D_prob0.0_norm_percentile_3_3 {'pipeline': ['isotropy', 'norm_percentile', 'anisodiff', 'bilateral', '3d_connected_component_analysis', 'merge_by_volume'], 'type': '3D', 'prob_threshold': 0.0}\n",
      "pipeline_3D_prob0.0_norm_percentile_3_4 {'pipeline': ['isotropy', 'norm_percentile', 'anisodiff', 'bilateral', '3d_connected_component_analysis', 'clean_boundaries_morphology'], 'type': '3D', 'prob_threshold': 0.0}\n",
      "pipeline_3D_prob0.0_norm_percentile_3_5 {'pipeline': ['isotropy', 'norm_percentile', 'anisodiff', 'bilateral', 'merge_by_volume', '3d_connected_component_analysis'], 'type': '3D', 'prob_threshold': 0.0}\n",
      "pipeline_3D_prob0.0_norm_percentile_3_6 {'pipeline': ['isotropy', 'norm_percentile', 'anisodiff', 'bilateral', 'merge_by_volume', 'clean_boundaries_morphology'], 'type': '3D', 'prob_threshold': 0.0}\n",
      "pipeline_3D_prob0.0_norm_percentile_3_7 {'pipeline': ['isotropy', 'norm_percentile', 'anisodiff', 'bilateral', 'clean_boundaries_morphology', '3d_connected_component_analysis'], 'type': '3D', 'prob_threshold': 0.0}\n",
      "pipeline_3D_prob0.0_norm_percentile_3_8 {'pipeline': ['isotropy', 'norm_percentile', 'anisodiff', 'bilateral', 'clean_boundaries_morphology', 'merge_by_volume'], 'type': '3D', 'prob_threshold': 0.0}\n",
      "pipeline_3D_prob0.0_norm_percentile_3_9 {'pipeline': ['isotropy', 'norm_percentile', 'anisodiff', 'bilateral', '3d_connected_component_analysis', 'merge_by_volume', 'clean_boundaries_morphology'], 'type': '3D', 'prob_threshold': 0.0}\n",
      "pipeline_3D_prob0.0_norm_percentile_3_10 {'pipeline': ['isotropy', 'norm_percentile', 'anisodiff', 'bilateral', '3d_connected_component_analysis', 'clean_boundaries_morphology', 'merge_by_volume'], 'type': '3D', 'prob_threshold': 0.0}\n",
      "pipeline_3D_prob0.0_norm_percentile_3_11 {'pipeline': ['isotropy', 'norm_percentile', 'anisodiff', 'bilateral', 'merge_by_volume', '3d_connected_component_analysis', 'clean_boundaries_morphology'], 'type': '3D', 'prob_threshold': 0.0}\n",
      "pipeline_3D_prob0.0_norm_percentile_3_12 {'pipeline': ['isotropy', 'norm_percentile', 'anisodiff', 'bilateral', 'merge_by_volume', 'clean_boundaries_morphology', '3d_connected_component_analysis'], 'type': '3D', 'prob_threshold': 0.0}\n",
      "pipeline_3D_prob0.0_norm_percentile_3_13 {'pipeline': ['isotropy', 'norm_percentile', 'anisodiff', 'bilateral', 'clean_boundaries_morphology', '3d_connected_component_analysis', 'merge_by_volume'], 'type': '3D', 'prob_threshold': 0.0}\n",
      "pipeline_3D_prob0.0_norm_percentile_3_14 {'pipeline': ['isotropy', 'norm_percentile', 'anisodiff', 'bilateral', 'clean_boundaries_morphology', 'merge_by_volume', '3d_connected_component_analysis'], 'type': '3D', 'prob_threshold': 0.0}\n",
      "pipeline_3D_prob0.0_norm_percentile_3_15 {'pipeline': ['isotropy', 'norm_percentile', 'anisodiff', 'bilateral'], 'type': '3D', 'prob_threshold': 0.0}\n",
      "pipeline_3D_prob0.1_norm_percentile_0_0 {'pipeline': ['isotropy', 'norm_percentile', 'bilateral', '3d_connected_component_analysis'], 'type': '3D', 'prob_threshold': 0.1}\n",
      "pipeline_3D_prob0.1_norm_percentile_0_1 {'pipeline': ['isotropy', 'norm_percentile', 'bilateral', 'merge_by_volume'], 'type': '3D', 'prob_threshold': 0.1}\n",
      "pipeline_3D_prob0.1_norm_percentile_0_2 {'pipeline': ['isotropy', 'norm_percentile', 'bilateral', 'clean_boundaries_morphology'], 'type': '3D', 'prob_threshold': 0.1}\n",
      "pipeline_3D_prob0.1_norm_percentile_0_3 {'pipeline': ['isotropy', 'norm_percentile', 'bilateral', '3d_connected_component_analysis', 'merge_by_volume'], 'type': '3D', 'prob_threshold': 0.1}\n",
      "pipeline_3D_prob0.1_norm_percentile_0_4 {'pipeline': ['isotropy', 'norm_percentile', 'bilateral', '3d_connected_component_analysis', 'clean_boundaries_morphology'], 'type': '3D', 'prob_threshold': 0.1}\n",
      "pipeline_3D_prob0.1_norm_percentile_0_5 {'pipeline': ['isotropy', 'norm_percentile', 'bilateral', 'merge_by_volume', '3d_connected_component_analysis'], 'type': '3D', 'prob_threshold': 0.1}\n",
      "pipeline_3D_prob0.1_norm_percentile_0_6 {'pipeline': ['isotropy', 'norm_percentile', 'bilateral', 'merge_by_volume', 'clean_boundaries_morphology'], 'type': '3D', 'prob_threshold': 0.1}\n",
      "pipeline_3D_prob0.1_norm_percentile_0_7 {'pipeline': ['isotropy', 'norm_percentile', 'bilateral', 'clean_boundaries_morphology', '3d_connected_component_analysis'], 'type': '3D', 'prob_threshold': 0.1}\n",
      "pipeline_3D_prob0.1_norm_percentile_0_8 {'pipeline': ['isotropy', 'norm_percentile', 'bilateral', 'clean_boundaries_morphology', 'merge_by_volume'], 'type': '3D', 'prob_threshold': 0.1}\n",
      "pipeline_3D_prob0.1_norm_percentile_0_9 {'pipeline': ['isotropy', 'norm_percentile', 'bilateral', '3d_connected_component_analysis', 'merge_by_volume', 'clean_boundaries_morphology'], 'type': '3D', 'prob_threshold': 0.1}\n",
      "pipeline_3D_prob0.1_norm_percentile_0_10 {'pipeline': ['isotropy', 'norm_percentile', 'bilateral', '3d_connected_component_analysis', 'clean_boundaries_morphology', 'merge_by_volume'], 'type': '3D', 'prob_threshold': 0.1}\n",
      "pipeline_3D_prob0.1_norm_percentile_0_11 {'pipeline': ['isotropy', 'norm_percentile', 'bilateral', 'merge_by_volume', '3d_connected_component_analysis', 'clean_boundaries_morphology'], 'type': '3D', 'prob_threshold': 0.1}\n",
      "pipeline_3D_prob0.1_norm_percentile_0_12 {'pipeline': ['isotropy', 'norm_percentile', 'bilateral', 'merge_by_volume', 'clean_boundaries_morphology', '3d_connected_component_analysis'], 'type': '3D', 'prob_threshold': 0.1}\n",
      "pipeline_3D_prob0.1_norm_percentile_0_13 {'pipeline': ['isotropy', 'norm_percentile', 'bilateral', 'clean_boundaries_morphology', '3d_connected_component_analysis', 'merge_by_volume'], 'type': '3D', 'prob_threshold': 0.1}\n",
      "pipeline_3D_prob0.1_norm_percentile_0_14 {'pipeline': ['isotropy', 'norm_percentile', 'bilateral', 'clean_boundaries_morphology', 'merge_by_volume', '3d_connected_component_analysis'], 'type': '3D', 'prob_threshold': 0.1}\n",
      "pipeline_3D_prob0.1_norm_percentile_0_15 {'pipeline': ['isotropy', 'norm_percentile', 'bilateral'], 'type': '3D', 'prob_threshold': 0.1}\n",
      "pipeline_3D_prob0.1_norm_percentile_1_0 {'pipeline': ['isotropy', 'norm_percentile', 'anisodiff', '3d_connected_component_analysis'], 'type': '3D', 'prob_threshold': 0.1}\n",
      "pipeline_3D_prob0.1_norm_percentile_1_1 {'pipeline': ['isotropy', 'norm_percentile', 'anisodiff', 'merge_by_volume'], 'type': '3D', 'prob_threshold': 0.1}\n",
      "pipeline_3D_prob0.1_norm_percentile_1_2 {'pipeline': ['isotropy', 'norm_percentile', 'anisodiff', 'clean_boundaries_morphology'], 'type': '3D', 'prob_threshold': 0.1}\n",
      "pipeline_3D_prob0.1_norm_percentile_1_3 {'pipeline': ['isotropy', 'norm_percentile', 'anisodiff', '3d_connected_component_analysis', 'merge_by_volume'], 'type': '3D', 'prob_threshold': 0.1}\n",
      "pipeline_3D_prob0.1_norm_percentile_1_4 {'pipeline': ['isotropy', 'norm_percentile', 'anisodiff', '3d_connected_component_analysis', 'clean_boundaries_morphology'], 'type': '3D', 'prob_threshold': 0.1}\n",
      "pipeline_3D_prob0.1_norm_percentile_1_5 {'pipeline': ['isotropy', 'norm_percentile', 'anisodiff', 'merge_by_volume', '3d_connected_component_analysis'], 'type': '3D', 'prob_threshold': 0.1}\n",
      "pipeline_3D_prob0.1_norm_percentile_1_6 {'pipeline': ['isotropy', 'norm_percentile', 'anisodiff', 'merge_by_volume', 'clean_boundaries_morphology'], 'type': '3D', 'prob_threshold': 0.1}\n",
      "pipeline_3D_prob0.1_norm_percentile_1_7 {'pipeline': ['isotropy', 'norm_percentile', 'anisodiff', 'clean_boundaries_morphology', '3d_connected_component_analysis'], 'type': '3D', 'prob_threshold': 0.1}\n",
      "pipeline_3D_prob0.1_norm_percentile_1_8 {'pipeline': ['isotropy', 'norm_percentile', 'anisodiff', 'clean_boundaries_morphology', 'merge_by_volume'], 'type': '3D', 'prob_threshold': 0.1}\n",
      "pipeline_3D_prob0.1_norm_percentile_1_9 {'pipeline': ['isotropy', 'norm_percentile', 'anisodiff', '3d_connected_component_analysis', 'merge_by_volume', 'clean_boundaries_morphology'], 'type': '3D', 'prob_threshold': 0.1}\n",
      "pipeline_3D_prob0.1_norm_percentile_1_10 {'pipeline': ['isotropy', 'norm_percentile', 'anisodiff', '3d_connected_component_analysis', 'clean_boundaries_morphology', 'merge_by_volume'], 'type': '3D', 'prob_threshold': 0.1}\n",
      "pipeline_3D_prob0.1_norm_percentile_1_11 {'pipeline': ['isotropy', 'norm_percentile', 'anisodiff', 'merge_by_volume', '3d_connected_component_analysis', 'clean_boundaries_morphology'], 'type': '3D', 'prob_threshold': 0.1}\n",
      "pipeline_3D_prob0.1_norm_percentile_1_12 {'pipeline': ['isotropy', 'norm_percentile', 'anisodiff', 'merge_by_volume', 'clean_boundaries_morphology', '3d_connected_component_analysis'], 'type': '3D', 'prob_threshold': 0.1}\n",
      "pipeline_3D_prob0.1_norm_percentile_1_13 {'pipeline': ['isotropy', 'norm_percentile', 'anisodiff', 'clean_boundaries_morphology', '3d_connected_component_analysis', 'merge_by_volume'], 'type': '3D', 'prob_threshold': 0.1}\n",
      "pipeline_3D_prob0.1_norm_percentile_1_14 {'pipeline': ['isotropy', 'norm_percentile', 'anisodiff', 'clean_boundaries_morphology', 'merge_by_volume', '3d_connected_component_analysis'], 'type': '3D', 'prob_threshold': 0.1}\n",
      "pipeline_3D_prob0.1_norm_percentile_1_15 {'pipeline': ['isotropy', 'norm_percentile', 'anisodiff'], 'type': '3D', 'prob_threshold': 0.1}\n",
      "pipeline_3D_prob0.1_norm_percentile_2_0 {'pipeline': ['isotropy', 'norm_percentile', 'bilateral', 'anisodiff', '3d_connected_component_analysis'], 'type': '3D', 'prob_threshold': 0.1}\n",
      "pipeline_3D_prob0.1_norm_percentile_2_1 {'pipeline': ['isotropy', 'norm_percentile', 'bilateral', 'anisodiff', 'merge_by_volume'], 'type': '3D', 'prob_threshold': 0.1}\n",
      "pipeline_3D_prob0.1_norm_percentile_2_2 {'pipeline': ['isotropy', 'norm_percentile', 'bilateral', 'anisodiff', 'clean_boundaries_morphology'], 'type': '3D', 'prob_threshold': 0.1}\n",
      "pipeline_3D_prob0.1_norm_percentile_2_3 {'pipeline': ['isotropy', 'norm_percentile', 'bilateral', 'anisodiff', '3d_connected_component_analysis', 'merge_by_volume'], 'type': '3D', 'prob_threshold': 0.1}\n",
      "pipeline_3D_prob0.1_norm_percentile_2_4 {'pipeline': ['isotropy', 'norm_percentile', 'bilateral', 'anisodiff', '3d_connected_component_analysis', 'clean_boundaries_morphology'], 'type': '3D', 'prob_threshold': 0.1}\n",
      "pipeline_3D_prob0.1_norm_percentile_2_5 {'pipeline': ['isotropy', 'norm_percentile', 'bilateral', 'anisodiff', 'merge_by_volume', '3d_connected_component_analysis'], 'type': '3D', 'prob_threshold': 0.1}\n",
      "pipeline_3D_prob0.1_norm_percentile_2_6 {'pipeline': ['isotropy', 'norm_percentile', 'bilateral', 'anisodiff', 'merge_by_volume', 'clean_boundaries_morphology'], 'type': '3D', 'prob_threshold': 0.1}\n",
      "pipeline_3D_prob0.1_norm_percentile_2_7 {'pipeline': ['isotropy', 'norm_percentile', 'bilateral', 'anisodiff', 'clean_boundaries_morphology', '3d_connected_component_analysis'], 'type': '3D', 'prob_threshold': 0.1}\n",
      "pipeline_3D_prob0.1_norm_percentile_2_8 {'pipeline': ['isotropy', 'norm_percentile', 'bilateral', 'anisodiff', 'clean_boundaries_morphology', 'merge_by_volume'], 'type': '3D', 'prob_threshold': 0.1}\n",
      "pipeline_3D_prob0.1_norm_percentile_2_9 {'pipeline': ['isotropy', 'norm_percentile', 'bilateral', 'anisodiff', '3d_connected_component_analysis', 'merge_by_volume', 'clean_boundaries_morphology'], 'type': '3D', 'prob_threshold': 0.1}\n",
      "pipeline_3D_prob0.1_norm_percentile_2_10 {'pipeline': ['isotropy', 'norm_percentile', 'bilateral', 'anisodiff', '3d_connected_component_analysis', 'clean_boundaries_morphology', 'merge_by_volume'], 'type': '3D', 'prob_threshold': 0.1}\n",
      "pipeline_3D_prob0.1_norm_percentile_2_11 {'pipeline': ['isotropy', 'norm_percentile', 'bilateral', 'anisodiff', 'merge_by_volume', '3d_connected_component_analysis', 'clean_boundaries_morphology'], 'type': '3D', 'prob_threshold': 0.1}\n",
      "pipeline_3D_prob0.1_norm_percentile_2_12 {'pipeline': ['isotropy', 'norm_percentile', 'bilateral', 'anisodiff', 'merge_by_volume', 'clean_boundaries_morphology', '3d_connected_component_analysis'], 'type': '3D', 'prob_threshold': 0.1}\n",
      "pipeline_3D_prob0.1_norm_percentile_2_13 {'pipeline': ['isotropy', 'norm_percentile', 'bilateral', 'anisodiff', 'clean_boundaries_morphology', '3d_connected_component_analysis', 'merge_by_volume'], 'type': '3D', 'prob_threshold': 0.1}\n",
      "pipeline_3D_prob0.1_norm_percentile_2_14 {'pipeline': ['isotropy', 'norm_percentile', 'bilateral', 'anisodiff', 'clean_boundaries_morphology', 'merge_by_volume', '3d_connected_component_analysis'], 'type': '3D', 'prob_threshold': 0.1}\n",
      "pipeline_3D_prob0.1_norm_percentile_2_15 {'pipeline': ['isotropy', 'norm_percentile', 'bilateral', 'anisodiff'], 'type': '3D', 'prob_threshold': 0.1}\n",
      "pipeline_3D_prob0.1_norm_percentile_3_0 {'pipeline': ['isotropy', 'norm_percentile', 'anisodiff', 'bilateral', '3d_connected_component_analysis'], 'type': '3D', 'prob_threshold': 0.1}\n",
      "pipeline_3D_prob0.1_norm_percentile_3_1 {'pipeline': ['isotropy', 'norm_percentile', 'anisodiff', 'bilateral', 'merge_by_volume'], 'type': '3D', 'prob_threshold': 0.1}\n",
      "pipeline_3D_prob0.1_norm_percentile_3_2 {'pipeline': ['isotropy', 'norm_percentile', 'anisodiff', 'bilateral', 'clean_boundaries_morphology'], 'type': '3D', 'prob_threshold': 0.1}\n",
      "pipeline_3D_prob0.1_norm_percentile_3_3 {'pipeline': ['isotropy', 'norm_percentile', 'anisodiff', 'bilateral', '3d_connected_component_analysis', 'merge_by_volume'], 'type': '3D', 'prob_threshold': 0.1}\n",
      "pipeline_3D_prob0.1_norm_percentile_3_4 {'pipeline': ['isotropy', 'norm_percentile', 'anisodiff', 'bilateral', '3d_connected_component_analysis', 'clean_boundaries_morphology'], 'type': '3D', 'prob_threshold': 0.1}\n",
      "pipeline_3D_prob0.1_norm_percentile_3_5 {'pipeline': ['isotropy', 'norm_percentile', 'anisodiff', 'bilateral', 'merge_by_volume', '3d_connected_component_analysis'], 'type': '3D', 'prob_threshold': 0.1}\n",
      "pipeline_3D_prob0.1_norm_percentile_3_6 {'pipeline': ['isotropy', 'norm_percentile', 'anisodiff', 'bilateral', 'merge_by_volume', 'clean_boundaries_morphology'], 'type': '3D', 'prob_threshold': 0.1}\n",
      "pipeline_3D_prob0.1_norm_percentile_3_7 {'pipeline': ['isotropy', 'norm_percentile', 'anisodiff', 'bilateral', 'clean_boundaries_morphology', '3d_connected_component_analysis'], 'type': '3D', 'prob_threshold': 0.1}\n",
      "pipeline_3D_prob0.1_norm_percentile_3_8 {'pipeline': ['isotropy', 'norm_percentile', 'anisodiff', 'bilateral', 'clean_boundaries_morphology', 'merge_by_volume'], 'type': '3D', 'prob_threshold': 0.1}\n",
      "pipeline_3D_prob0.1_norm_percentile_3_9 {'pipeline': ['isotropy', 'norm_percentile', 'anisodiff', 'bilateral', '3d_connected_component_analysis', 'merge_by_volume', 'clean_boundaries_morphology'], 'type': '3D', 'prob_threshold': 0.1}\n",
      "pipeline_3D_prob0.1_norm_percentile_3_10 {'pipeline': ['isotropy', 'norm_percentile', 'anisodiff', 'bilateral', '3d_connected_component_analysis', 'clean_boundaries_morphology', 'merge_by_volume'], 'type': '3D', 'prob_threshold': 0.1}\n",
      "pipeline_3D_prob0.1_norm_percentile_3_11 {'pipeline': ['isotropy', 'norm_percentile', 'anisodiff', 'bilateral', 'merge_by_volume', '3d_connected_component_analysis', 'clean_boundaries_morphology'], 'type': '3D', 'prob_threshold': 0.1}\n",
      "pipeline_3D_prob0.1_norm_percentile_3_12 {'pipeline': ['isotropy', 'norm_percentile', 'anisodiff', 'bilateral', 'merge_by_volume', 'clean_boundaries_morphology', '3d_connected_component_analysis'], 'type': '3D', 'prob_threshold': 0.1}\n",
      "pipeline_3D_prob0.1_norm_percentile_3_13 {'pipeline': ['isotropy', 'norm_percentile', 'anisodiff', 'bilateral', 'clean_boundaries_morphology', '3d_connected_component_analysis', 'merge_by_volume'], 'type': '3D', 'prob_threshold': 0.1}\n",
      "pipeline_3D_prob0.1_norm_percentile_3_14 {'pipeline': ['isotropy', 'norm_percentile', 'anisodiff', 'bilateral', 'clean_boundaries_morphology', 'merge_by_volume', '3d_connected_component_analysis'], 'type': '3D', 'prob_threshold': 0.1}\n",
      "pipeline_3D_prob0.1_norm_percentile_3_15 {'pipeline': ['isotropy', 'norm_percentile', 'anisodiff', 'bilateral'], 'type': '3D', 'prob_threshold': 0.1}\n",
      "pipeline_3D_prob0.2_norm_percentile_0_0 {'pipeline': ['isotropy', 'norm_percentile', 'bilateral', '3d_connected_component_analysis'], 'type': '3D', 'prob_threshold': 0.2}\n",
      "pipeline_3D_prob0.2_norm_percentile_0_1 {'pipeline': ['isotropy', 'norm_percentile', 'bilateral', 'merge_by_volume'], 'type': '3D', 'prob_threshold': 0.2}\n",
      "pipeline_3D_prob0.2_norm_percentile_0_2 {'pipeline': ['isotropy', 'norm_percentile', 'bilateral', 'clean_boundaries_morphology'], 'type': '3D', 'prob_threshold': 0.2}\n",
      "pipeline_3D_prob0.2_norm_percentile_0_3 {'pipeline': ['isotropy', 'norm_percentile', 'bilateral', '3d_connected_component_analysis', 'merge_by_volume'], 'type': '3D', 'prob_threshold': 0.2}\n",
      "pipeline_3D_prob0.2_norm_percentile_0_4 {'pipeline': ['isotropy', 'norm_percentile', 'bilateral', '3d_connected_component_analysis', 'clean_boundaries_morphology'], 'type': '3D', 'prob_threshold': 0.2}\n",
      "pipeline_3D_prob0.2_norm_percentile_0_5 {'pipeline': ['isotropy', 'norm_percentile', 'bilateral', 'merge_by_volume', '3d_connected_component_analysis'], 'type': '3D', 'prob_threshold': 0.2}\n",
      "pipeline_3D_prob0.2_norm_percentile_0_6 {'pipeline': ['isotropy', 'norm_percentile', 'bilateral', 'merge_by_volume', 'clean_boundaries_morphology'], 'type': '3D', 'prob_threshold': 0.2}\n",
      "pipeline_3D_prob0.2_norm_percentile_0_7 {'pipeline': ['isotropy', 'norm_percentile', 'bilateral', 'clean_boundaries_morphology', '3d_connected_component_analysis'], 'type': '3D', 'prob_threshold': 0.2}\n",
      "pipeline_3D_prob0.2_norm_percentile_0_8 {'pipeline': ['isotropy', 'norm_percentile', 'bilateral', 'clean_boundaries_morphology', 'merge_by_volume'], 'type': '3D', 'prob_threshold': 0.2}\n",
      "pipeline_3D_prob0.2_norm_percentile_0_9 {'pipeline': ['isotropy', 'norm_percentile', 'bilateral', '3d_connected_component_analysis', 'merge_by_volume', 'clean_boundaries_morphology'], 'type': '3D', 'prob_threshold': 0.2}\n",
      "pipeline_3D_prob0.2_norm_percentile_0_10 {'pipeline': ['isotropy', 'norm_percentile', 'bilateral', '3d_connected_component_analysis', 'clean_boundaries_morphology', 'merge_by_volume'], 'type': '3D', 'prob_threshold': 0.2}\n",
      "pipeline_3D_prob0.2_norm_percentile_0_11 {'pipeline': ['isotropy', 'norm_percentile', 'bilateral', 'merge_by_volume', '3d_connected_component_analysis', 'clean_boundaries_morphology'], 'type': '3D', 'prob_threshold': 0.2}\n",
      "pipeline_3D_prob0.2_norm_percentile_0_12 {'pipeline': ['isotropy', 'norm_percentile', 'bilateral', 'merge_by_volume', 'clean_boundaries_morphology', '3d_connected_component_analysis'], 'type': '3D', 'prob_threshold': 0.2}\n",
      "pipeline_3D_prob0.2_norm_percentile_0_13 {'pipeline': ['isotropy', 'norm_percentile', 'bilateral', 'clean_boundaries_morphology', '3d_connected_component_analysis', 'merge_by_volume'], 'type': '3D', 'prob_threshold': 0.2}\n",
      "pipeline_3D_prob0.2_norm_percentile_0_14 {'pipeline': ['isotropy', 'norm_percentile', 'bilateral', 'clean_boundaries_morphology', 'merge_by_volume', '3d_connected_component_analysis'], 'type': '3D', 'prob_threshold': 0.2}\n",
      "pipeline_3D_prob0.2_norm_percentile_0_15 {'pipeline': ['isotropy', 'norm_percentile', 'bilateral'], 'type': '3D', 'prob_threshold': 0.2}\n",
      "pipeline_3D_prob0.2_norm_percentile_1_0 {'pipeline': ['isotropy', 'norm_percentile', 'anisodiff', '3d_connected_component_analysis'], 'type': '3D', 'prob_threshold': 0.2}\n",
      "pipeline_3D_prob0.2_norm_percentile_1_1 {'pipeline': ['isotropy', 'norm_percentile', 'anisodiff', 'merge_by_volume'], 'type': '3D', 'prob_threshold': 0.2}\n",
      "pipeline_3D_prob0.2_norm_percentile_1_2 {'pipeline': ['isotropy', 'norm_percentile', 'anisodiff', 'clean_boundaries_morphology'], 'type': '3D', 'prob_threshold': 0.2}\n",
      "pipeline_3D_prob0.2_norm_percentile_1_3 {'pipeline': ['isotropy', 'norm_percentile', 'anisodiff', '3d_connected_component_analysis', 'merge_by_volume'], 'type': '3D', 'prob_threshold': 0.2}\n",
      "pipeline_3D_prob0.2_norm_percentile_1_4 {'pipeline': ['isotropy', 'norm_percentile', 'anisodiff', '3d_connected_component_analysis', 'clean_boundaries_morphology'], 'type': '3D', 'prob_threshold': 0.2}\n",
      "pipeline_3D_prob0.2_norm_percentile_1_5 {'pipeline': ['isotropy', 'norm_percentile', 'anisodiff', 'merge_by_volume', '3d_connected_component_analysis'], 'type': '3D', 'prob_threshold': 0.2}\n",
      "pipeline_3D_prob0.2_norm_percentile_1_6 {'pipeline': ['isotropy', 'norm_percentile', 'anisodiff', 'merge_by_volume', 'clean_boundaries_morphology'], 'type': '3D', 'prob_threshold': 0.2}\n",
      "pipeline_3D_prob0.2_norm_percentile_1_7 {'pipeline': ['isotropy', 'norm_percentile', 'anisodiff', 'clean_boundaries_morphology', '3d_connected_component_analysis'], 'type': '3D', 'prob_threshold': 0.2}\n",
      "pipeline_3D_prob0.2_norm_percentile_1_8 {'pipeline': ['isotropy', 'norm_percentile', 'anisodiff', 'clean_boundaries_morphology', 'merge_by_volume'], 'type': '3D', 'prob_threshold': 0.2}\n",
      "pipeline_3D_prob0.2_norm_percentile_1_9 {'pipeline': ['isotropy', 'norm_percentile', 'anisodiff', '3d_connected_component_analysis', 'merge_by_volume', 'clean_boundaries_morphology'], 'type': '3D', 'prob_threshold': 0.2}\n",
      "pipeline_3D_prob0.2_norm_percentile_1_10 {'pipeline': ['isotropy', 'norm_percentile', 'anisodiff', '3d_connected_component_analysis', 'clean_boundaries_morphology', 'merge_by_volume'], 'type': '3D', 'prob_threshold': 0.2}\n",
      "pipeline_3D_prob0.2_norm_percentile_1_11 {'pipeline': ['isotropy', 'norm_percentile', 'anisodiff', 'merge_by_volume', '3d_connected_component_analysis', 'clean_boundaries_morphology'], 'type': '3D', 'prob_threshold': 0.2}\n",
      "pipeline_3D_prob0.2_norm_percentile_1_12 {'pipeline': ['isotropy', 'norm_percentile', 'anisodiff', 'merge_by_volume', 'clean_boundaries_morphology', '3d_connected_component_analysis'], 'type': '3D', 'prob_threshold': 0.2}\n",
      "pipeline_3D_prob0.2_norm_percentile_1_13 {'pipeline': ['isotropy', 'norm_percentile', 'anisodiff', 'clean_boundaries_morphology', '3d_connected_component_analysis', 'merge_by_volume'], 'type': '3D', 'prob_threshold': 0.2}\n",
      "pipeline_3D_prob0.2_norm_percentile_1_14 {'pipeline': ['isotropy', 'norm_percentile', 'anisodiff', 'clean_boundaries_morphology', 'merge_by_volume', '3d_connected_component_analysis'], 'type': '3D', 'prob_threshold': 0.2}\n",
      "pipeline_3D_prob0.2_norm_percentile_1_15 {'pipeline': ['isotropy', 'norm_percentile', 'anisodiff'], 'type': '3D', 'prob_threshold': 0.2}\n",
      "pipeline_3D_prob0.2_norm_percentile_2_0 {'pipeline': ['isotropy', 'norm_percentile', 'bilateral', 'anisodiff', '3d_connected_component_analysis'], 'type': '3D', 'prob_threshold': 0.2}\n",
      "pipeline_3D_prob0.2_norm_percentile_2_1 {'pipeline': ['isotropy', 'norm_percentile', 'bilateral', 'anisodiff', 'merge_by_volume'], 'type': '3D', 'prob_threshold': 0.2}\n",
      "pipeline_3D_prob0.2_norm_percentile_2_2 {'pipeline': ['isotropy', 'norm_percentile', 'bilateral', 'anisodiff', 'clean_boundaries_morphology'], 'type': '3D', 'prob_threshold': 0.2}\n",
      "pipeline_3D_prob0.2_norm_percentile_2_3 {'pipeline': ['isotropy', 'norm_percentile', 'bilateral', 'anisodiff', '3d_connected_component_analysis', 'merge_by_volume'], 'type': '3D', 'prob_threshold': 0.2}\n",
      "pipeline_3D_prob0.2_norm_percentile_2_4 {'pipeline': ['isotropy', 'norm_percentile', 'bilateral', 'anisodiff', '3d_connected_component_analysis', 'clean_boundaries_morphology'], 'type': '3D', 'prob_threshold': 0.2}\n",
      "pipeline_3D_prob0.2_norm_percentile_2_5 {'pipeline': ['isotropy', 'norm_percentile', 'bilateral', 'anisodiff', 'merge_by_volume', '3d_connected_component_analysis'], 'type': '3D', 'prob_threshold': 0.2}\n",
      "pipeline_3D_prob0.2_norm_percentile_2_6 {'pipeline': ['isotropy', 'norm_percentile', 'bilateral', 'anisodiff', 'merge_by_volume', 'clean_boundaries_morphology'], 'type': '3D', 'prob_threshold': 0.2}\n",
      "pipeline_3D_prob0.2_norm_percentile_2_7 {'pipeline': ['isotropy', 'norm_percentile', 'bilateral', 'anisodiff', 'clean_boundaries_morphology', '3d_connected_component_analysis'], 'type': '3D', 'prob_threshold': 0.2}\n",
      "pipeline_3D_prob0.2_norm_percentile_2_8 {'pipeline': ['isotropy', 'norm_percentile', 'bilateral', 'anisodiff', 'clean_boundaries_morphology', 'merge_by_volume'], 'type': '3D', 'prob_threshold': 0.2}\n",
      "pipeline_3D_prob0.2_norm_percentile_2_9 {'pipeline': ['isotropy', 'norm_percentile', 'bilateral', 'anisodiff', '3d_connected_component_analysis', 'merge_by_volume', 'clean_boundaries_morphology'], 'type': '3D', 'prob_threshold': 0.2}\n",
      "pipeline_3D_prob0.2_norm_percentile_2_10 {'pipeline': ['isotropy', 'norm_percentile', 'bilateral', 'anisodiff', '3d_connected_component_analysis', 'clean_boundaries_morphology', 'merge_by_volume'], 'type': '3D', 'prob_threshold': 0.2}\n",
      "pipeline_3D_prob0.2_norm_percentile_2_11 {'pipeline': ['isotropy', 'norm_percentile', 'bilateral', 'anisodiff', 'merge_by_volume', '3d_connected_component_analysis', 'clean_boundaries_morphology'], 'type': '3D', 'prob_threshold': 0.2}\n",
      "pipeline_3D_prob0.2_norm_percentile_2_12 {'pipeline': ['isotropy', 'norm_percentile', 'bilateral', 'anisodiff', 'merge_by_volume', 'clean_boundaries_morphology', '3d_connected_component_analysis'], 'type': '3D', 'prob_threshold': 0.2}\n",
      "pipeline_3D_prob0.2_norm_percentile_2_13 {'pipeline': ['isotropy', 'norm_percentile', 'bilateral', 'anisodiff', 'clean_boundaries_morphology', '3d_connected_component_analysis', 'merge_by_volume'], 'type': '3D', 'prob_threshold': 0.2}\n",
      "pipeline_3D_prob0.2_norm_percentile_2_14 {'pipeline': ['isotropy', 'norm_percentile', 'bilateral', 'anisodiff', 'clean_boundaries_morphology', 'merge_by_volume', '3d_connected_component_analysis'], 'type': '3D', 'prob_threshold': 0.2}\n",
      "pipeline_3D_prob0.2_norm_percentile_2_15 {'pipeline': ['isotropy', 'norm_percentile', 'bilateral', 'anisodiff'], 'type': '3D', 'prob_threshold': 0.2}\n",
      "pipeline_3D_prob0.2_norm_percentile_3_0 {'pipeline': ['isotropy', 'norm_percentile', 'anisodiff', 'bilateral', '3d_connected_component_analysis'], 'type': '3D', 'prob_threshold': 0.2}\n",
      "pipeline_3D_prob0.2_norm_percentile_3_1 {'pipeline': ['isotropy', 'norm_percentile', 'anisodiff', 'bilateral', 'merge_by_volume'], 'type': '3D', 'prob_threshold': 0.2}\n",
      "pipeline_3D_prob0.2_norm_percentile_3_2 {'pipeline': ['isotropy', 'norm_percentile', 'anisodiff', 'bilateral', 'clean_boundaries_morphology'], 'type': '3D', 'prob_threshold': 0.2}\n",
      "pipeline_3D_prob0.2_norm_percentile_3_3 {'pipeline': ['isotropy', 'norm_percentile', 'anisodiff', 'bilateral', '3d_connected_component_analysis', 'merge_by_volume'], 'type': '3D', 'prob_threshold': 0.2}\n",
      "pipeline_3D_prob0.2_norm_percentile_3_4 {'pipeline': ['isotropy', 'norm_percentile', 'anisodiff', 'bilateral', '3d_connected_component_analysis', 'clean_boundaries_morphology'], 'type': '3D', 'prob_threshold': 0.2}\n",
      "pipeline_3D_prob0.2_norm_percentile_3_5 {'pipeline': ['isotropy', 'norm_percentile', 'anisodiff', 'bilateral', 'merge_by_volume', '3d_connected_component_analysis'], 'type': '3D', 'prob_threshold': 0.2}\n",
      "pipeline_3D_prob0.2_norm_percentile_3_6 {'pipeline': ['isotropy', 'norm_percentile', 'anisodiff', 'bilateral', 'merge_by_volume', 'clean_boundaries_morphology'], 'type': '3D', 'prob_threshold': 0.2}\n",
      "pipeline_3D_prob0.2_norm_percentile_3_7 {'pipeline': ['isotropy', 'norm_percentile', 'anisodiff', 'bilateral', 'clean_boundaries_morphology', '3d_connected_component_analysis'], 'type': '3D', 'prob_threshold': 0.2}\n",
      "pipeline_3D_prob0.2_norm_percentile_3_8 {'pipeline': ['isotropy', 'norm_percentile', 'anisodiff', 'bilateral', 'clean_boundaries_morphology', 'merge_by_volume'], 'type': '3D', 'prob_threshold': 0.2}\n",
      "pipeline_3D_prob0.2_norm_percentile_3_9 {'pipeline': ['isotropy', 'norm_percentile', 'anisodiff', 'bilateral', '3d_connected_component_analysis', 'merge_by_volume', 'clean_boundaries_morphology'], 'type': '3D', 'prob_threshold': 0.2}\n",
      "pipeline_3D_prob0.2_norm_percentile_3_10 {'pipeline': ['isotropy', 'norm_percentile', 'anisodiff', 'bilateral', '3d_connected_component_analysis', 'clean_boundaries_morphology', 'merge_by_volume'], 'type': '3D', 'prob_threshold': 0.2}\n",
      "pipeline_3D_prob0.2_norm_percentile_3_11 {'pipeline': ['isotropy', 'norm_percentile', 'anisodiff', 'bilateral', 'merge_by_volume', '3d_connected_component_analysis', 'clean_boundaries_morphology'], 'type': '3D', 'prob_threshold': 0.2}\n",
      "pipeline_3D_prob0.2_norm_percentile_3_12 {'pipeline': ['isotropy', 'norm_percentile', 'anisodiff', 'bilateral', 'merge_by_volume', 'clean_boundaries_morphology', '3d_connected_component_analysis'], 'type': '3D', 'prob_threshold': 0.2}\n",
      "pipeline_3D_prob0.2_norm_percentile_3_13 {'pipeline': ['isotropy', 'norm_percentile', 'anisodiff', 'bilateral', 'clean_boundaries_morphology', '3d_connected_component_analysis', 'merge_by_volume'], 'type': '3D', 'prob_threshold': 0.2}\n",
      "pipeline_3D_prob0.2_norm_percentile_3_14 {'pipeline': ['isotropy', 'norm_percentile', 'anisodiff', 'bilateral', 'clean_boundaries_morphology', 'merge_by_volume', '3d_connected_component_analysis'], 'type': '3D', 'prob_threshold': 0.2}\n",
      "pipeline_3D_prob0.2_norm_percentile_3_15 {'pipeline': ['isotropy', 'norm_percentile', 'anisodiff', 'bilateral'], 'type': '3D', 'prob_threshold': 0.2}\n",
      "pipeline_3D_prob0.4_norm_percentile_0_0 {'pipeline': ['isotropy', 'norm_percentile', 'bilateral', '3d_connected_component_analysis'], 'type': '3D', 'prob_threshold': 0.4}\n",
      "pipeline_3D_prob0.4_norm_percentile_0_1 {'pipeline': ['isotropy', 'norm_percentile', 'bilateral', 'merge_by_volume'], 'type': '3D', 'prob_threshold': 0.4}\n",
      "pipeline_3D_prob0.4_norm_percentile_0_2 {'pipeline': ['isotropy', 'norm_percentile', 'bilateral', 'clean_boundaries_morphology'], 'type': '3D', 'prob_threshold': 0.4}\n",
      "pipeline_3D_prob0.4_norm_percentile_0_3 {'pipeline': ['isotropy', 'norm_percentile', 'bilateral', '3d_connected_component_analysis', 'merge_by_volume'], 'type': '3D', 'prob_threshold': 0.4}\n",
      "pipeline_3D_prob0.4_norm_percentile_0_4 {'pipeline': ['isotropy', 'norm_percentile', 'bilateral', '3d_connected_component_analysis', 'clean_boundaries_morphology'], 'type': '3D', 'prob_threshold': 0.4}\n",
      "pipeline_3D_prob0.4_norm_percentile_0_5 {'pipeline': ['isotropy', 'norm_percentile', 'bilateral', 'merge_by_volume', '3d_connected_component_analysis'], 'type': '3D', 'prob_threshold': 0.4}\n",
      "pipeline_3D_prob0.4_norm_percentile_0_6 {'pipeline': ['isotropy', 'norm_percentile', 'bilateral', 'merge_by_volume', 'clean_boundaries_morphology'], 'type': '3D', 'prob_threshold': 0.4}\n",
      "pipeline_3D_prob0.4_norm_percentile_0_7 {'pipeline': ['isotropy', 'norm_percentile', 'bilateral', 'clean_boundaries_morphology', '3d_connected_component_analysis'], 'type': '3D', 'prob_threshold': 0.4}\n",
      "pipeline_3D_prob0.4_norm_percentile_0_8 {'pipeline': ['isotropy', 'norm_percentile', 'bilateral', 'clean_boundaries_morphology', 'merge_by_volume'], 'type': '3D', 'prob_threshold': 0.4}\n",
      "pipeline_3D_prob0.4_norm_percentile_0_9 {'pipeline': ['isotropy', 'norm_percentile', 'bilateral', '3d_connected_component_analysis', 'merge_by_volume', 'clean_boundaries_morphology'], 'type': '3D', 'prob_threshold': 0.4}\n",
      "pipeline_3D_prob0.4_norm_percentile_0_10 {'pipeline': ['isotropy', 'norm_percentile', 'bilateral', '3d_connected_component_analysis', 'clean_boundaries_morphology', 'merge_by_volume'], 'type': '3D', 'prob_threshold': 0.4}\n",
      "pipeline_3D_prob0.4_norm_percentile_0_11 {'pipeline': ['isotropy', 'norm_percentile', 'bilateral', 'merge_by_volume', '3d_connected_component_analysis', 'clean_boundaries_morphology'], 'type': '3D', 'prob_threshold': 0.4}\n",
      "pipeline_3D_prob0.4_norm_percentile_0_12 {'pipeline': ['isotropy', 'norm_percentile', 'bilateral', 'merge_by_volume', 'clean_boundaries_morphology', '3d_connected_component_analysis'], 'type': '3D', 'prob_threshold': 0.4}\n",
      "pipeline_3D_prob0.4_norm_percentile_0_13 {'pipeline': ['isotropy', 'norm_percentile', 'bilateral', 'clean_boundaries_morphology', '3d_connected_component_analysis', 'merge_by_volume'], 'type': '3D', 'prob_threshold': 0.4}\n",
      "pipeline_3D_prob0.4_norm_percentile_0_14 {'pipeline': ['isotropy', 'norm_percentile', 'bilateral', 'clean_boundaries_morphology', 'merge_by_volume', '3d_connected_component_analysis'], 'type': '3D', 'prob_threshold': 0.4}\n",
      "pipeline_3D_prob0.4_norm_percentile_0_15 {'pipeline': ['isotropy', 'norm_percentile', 'bilateral'], 'type': '3D', 'prob_threshold': 0.4}\n",
      "pipeline_3D_prob0.4_norm_percentile_1_0 {'pipeline': ['isotropy', 'norm_percentile', 'anisodiff', '3d_connected_component_analysis'], 'type': '3D', 'prob_threshold': 0.4}\n",
      "pipeline_3D_prob0.4_norm_percentile_1_1 {'pipeline': ['isotropy', 'norm_percentile', 'anisodiff', 'merge_by_volume'], 'type': '3D', 'prob_threshold': 0.4}\n",
      "pipeline_3D_prob0.4_norm_percentile_1_2 {'pipeline': ['isotropy', 'norm_percentile', 'anisodiff', 'clean_boundaries_morphology'], 'type': '3D', 'prob_threshold': 0.4}\n",
      "pipeline_3D_prob0.4_norm_percentile_1_3 {'pipeline': ['isotropy', 'norm_percentile', 'anisodiff', '3d_connected_component_analysis', 'merge_by_volume'], 'type': '3D', 'prob_threshold': 0.4}\n",
      "pipeline_3D_prob0.4_norm_percentile_1_4 {'pipeline': ['isotropy', 'norm_percentile', 'anisodiff', '3d_connected_component_analysis', 'clean_boundaries_morphology'], 'type': '3D', 'prob_threshold': 0.4}\n",
      "pipeline_3D_prob0.4_norm_percentile_1_5 {'pipeline': ['isotropy', 'norm_percentile', 'anisodiff', 'merge_by_volume', '3d_connected_component_analysis'], 'type': '3D', 'prob_threshold': 0.4}\n",
      "pipeline_3D_prob0.4_norm_percentile_1_6 {'pipeline': ['isotropy', 'norm_percentile', 'anisodiff', 'merge_by_volume', 'clean_boundaries_morphology'], 'type': '3D', 'prob_threshold': 0.4}\n",
      "pipeline_3D_prob0.4_norm_percentile_1_7 {'pipeline': ['isotropy', 'norm_percentile', 'anisodiff', 'clean_boundaries_morphology', '3d_connected_component_analysis'], 'type': '3D', 'prob_threshold': 0.4}\n",
      "pipeline_3D_prob0.4_norm_percentile_1_8 {'pipeline': ['isotropy', 'norm_percentile', 'anisodiff', 'clean_boundaries_morphology', 'merge_by_volume'], 'type': '3D', 'prob_threshold': 0.4}\n",
      "pipeline_3D_prob0.4_norm_percentile_1_9 {'pipeline': ['isotropy', 'norm_percentile', 'anisodiff', '3d_connected_component_analysis', 'merge_by_volume', 'clean_boundaries_morphology'], 'type': '3D', 'prob_threshold': 0.4}\n",
      "pipeline_3D_prob0.4_norm_percentile_1_10 {'pipeline': ['isotropy', 'norm_percentile', 'anisodiff', '3d_connected_component_analysis', 'clean_boundaries_morphology', 'merge_by_volume'], 'type': '3D', 'prob_threshold': 0.4}\n",
      "pipeline_3D_prob0.4_norm_percentile_1_11 {'pipeline': ['isotropy', 'norm_percentile', 'anisodiff', 'merge_by_volume', '3d_connected_component_analysis', 'clean_boundaries_morphology'], 'type': '3D', 'prob_threshold': 0.4}\n",
      "pipeline_3D_prob0.4_norm_percentile_1_12 {'pipeline': ['isotropy', 'norm_percentile', 'anisodiff', 'merge_by_volume', 'clean_boundaries_morphology', '3d_connected_component_analysis'], 'type': '3D', 'prob_threshold': 0.4}\n",
      "pipeline_3D_prob0.4_norm_percentile_1_13 {'pipeline': ['isotropy', 'norm_percentile', 'anisodiff', 'clean_boundaries_morphology', '3d_connected_component_analysis', 'merge_by_volume'], 'type': '3D', 'prob_threshold': 0.4}\n",
      "pipeline_3D_prob0.4_norm_percentile_1_14 {'pipeline': ['isotropy', 'norm_percentile', 'anisodiff', 'clean_boundaries_morphology', 'merge_by_volume', '3d_connected_component_analysis'], 'type': '3D', 'prob_threshold': 0.4}\n",
      "pipeline_3D_prob0.4_norm_percentile_1_15 {'pipeline': ['isotropy', 'norm_percentile', 'anisodiff'], 'type': '3D', 'prob_threshold': 0.4}\n",
      "pipeline_3D_prob0.4_norm_percentile_2_0 {'pipeline': ['isotropy', 'norm_percentile', 'bilateral', 'anisodiff', '3d_connected_component_analysis'], 'type': '3D', 'prob_threshold': 0.4}\n",
      "pipeline_3D_prob0.4_norm_percentile_2_1 {'pipeline': ['isotropy', 'norm_percentile', 'bilateral', 'anisodiff', 'merge_by_volume'], 'type': '3D', 'prob_threshold': 0.4}\n",
      "pipeline_3D_prob0.4_norm_percentile_2_2 {'pipeline': ['isotropy', 'norm_percentile', 'bilateral', 'anisodiff', 'clean_boundaries_morphology'], 'type': '3D', 'prob_threshold': 0.4}\n",
      "pipeline_3D_prob0.4_norm_percentile_2_3 {'pipeline': ['isotropy', 'norm_percentile', 'bilateral', 'anisodiff', '3d_connected_component_analysis', 'merge_by_volume'], 'type': '3D', 'prob_threshold': 0.4}\n",
      "pipeline_3D_prob0.4_norm_percentile_2_4 {'pipeline': ['isotropy', 'norm_percentile', 'bilateral', 'anisodiff', '3d_connected_component_analysis', 'clean_boundaries_morphology'], 'type': '3D', 'prob_threshold': 0.4}\n",
      "pipeline_3D_prob0.4_norm_percentile_2_5 {'pipeline': ['isotropy', 'norm_percentile', 'bilateral', 'anisodiff', 'merge_by_volume', '3d_connected_component_analysis'], 'type': '3D', 'prob_threshold': 0.4}\n",
      "pipeline_3D_prob0.4_norm_percentile_2_6 {'pipeline': ['isotropy', 'norm_percentile', 'bilateral', 'anisodiff', 'merge_by_volume', 'clean_boundaries_morphology'], 'type': '3D', 'prob_threshold': 0.4}\n",
      "pipeline_3D_prob0.4_norm_percentile_2_7 {'pipeline': ['isotropy', 'norm_percentile', 'bilateral', 'anisodiff', 'clean_boundaries_morphology', '3d_connected_component_analysis'], 'type': '3D', 'prob_threshold': 0.4}\n",
      "pipeline_3D_prob0.4_norm_percentile_2_8 {'pipeline': ['isotropy', 'norm_percentile', 'bilateral', 'anisodiff', 'clean_boundaries_morphology', 'merge_by_volume'], 'type': '3D', 'prob_threshold': 0.4}\n",
      "pipeline_3D_prob0.4_norm_percentile_2_9 {'pipeline': ['isotropy', 'norm_percentile', 'bilateral', 'anisodiff', '3d_connected_component_analysis', 'merge_by_volume', 'clean_boundaries_morphology'], 'type': '3D', 'prob_threshold': 0.4}\n",
      "pipeline_3D_prob0.4_norm_percentile_2_10 {'pipeline': ['isotropy', 'norm_percentile', 'bilateral', 'anisodiff', '3d_connected_component_analysis', 'clean_boundaries_morphology', 'merge_by_volume'], 'type': '3D', 'prob_threshold': 0.4}\n",
      "pipeline_3D_prob0.4_norm_percentile_2_11 {'pipeline': ['isotropy', 'norm_percentile', 'bilateral', 'anisodiff', 'merge_by_volume', '3d_connected_component_analysis', 'clean_boundaries_morphology'], 'type': '3D', 'prob_threshold': 0.4}\n",
      "pipeline_3D_prob0.4_norm_percentile_2_12 {'pipeline': ['isotropy', 'norm_percentile', 'bilateral', 'anisodiff', 'merge_by_volume', 'clean_boundaries_morphology', '3d_connected_component_analysis'], 'type': '3D', 'prob_threshold': 0.4}\n",
      "pipeline_3D_prob0.4_norm_percentile_2_13 {'pipeline': ['isotropy', 'norm_percentile', 'bilateral', 'anisodiff', 'clean_boundaries_morphology', '3d_connected_component_analysis', 'merge_by_volume'], 'type': '3D', 'prob_threshold': 0.4}\n",
      "pipeline_3D_prob0.4_norm_percentile_2_14 {'pipeline': ['isotropy', 'norm_percentile', 'bilateral', 'anisodiff', 'clean_boundaries_morphology', 'merge_by_volume', '3d_connected_component_analysis'], 'type': '3D', 'prob_threshold': 0.4}\n",
      "pipeline_3D_prob0.4_norm_percentile_2_15 {'pipeline': ['isotropy', 'norm_percentile', 'bilateral', 'anisodiff'], 'type': '3D', 'prob_threshold': 0.4}\n",
      "pipeline_3D_prob0.4_norm_percentile_3_0 {'pipeline': ['isotropy', 'norm_percentile', 'anisodiff', 'bilateral', '3d_connected_component_analysis'], 'type': '3D', 'prob_threshold': 0.4}\n",
      "pipeline_3D_prob0.4_norm_percentile_3_1 {'pipeline': ['isotropy', 'norm_percentile', 'anisodiff', 'bilateral', 'merge_by_volume'], 'type': '3D', 'prob_threshold': 0.4}\n",
      "pipeline_3D_prob0.4_norm_percentile_3_2 {'pipeline': ['isotropy', 'norm_percentile', 'anisodiff', 'bilateral', 'clean_boundaries_morphology'], 'type': '3D', 'prob_threshold': 0.4}\n",
      "pipeline_3D_prob0.4_norm_percentile_3_3 {'pipeline': ['isotropy', 'norm_percentile', 'anisodiff', 'bilateral', '3d_connected_component_analysis', 'merge_by_volume'], 'type': '3D', 'prob_threshold': 0.4}\n",
      "pipeline_3D_prob0.4_norm_percentile_3_4 {'pipeline': ['isotropy', 'norm_percentile', 'anisodiff', 'bilateral', '3d_connected_component_analysis', 'clean_boundaries_morphology'], 'type': '3D', 'prob_threshold': 0.4}\n",
      "pipeline_3D_prob0.4_norm_percentile_3_5 {'pipeline': ['isotropy', 'norm_percentile', 'anisodiff', 'bilateral', 'merge_by_volume', '3d_connected_component_analysis'], 'type': '3D', 'prob_threshold': 0.4}\n",
      "pipeline_3D_prob0.4_norm_percentile_3_6 {'pipeline': ['isotropy', 'norm_percentile', 'anisodiff', 'bilateral', 'merge_by_volume', 'clean_boundaries_morphology'], 'type': '3D', 'prob_threshold': 0.4}\n",
      "pipeline_3D_prob0.4_norm_percentile_3_7 {'pipeline': ['isotropy', 'norm_percentile', 'anisodiff', 'bilateral', 'clean_boundaries_morphology', '3d_connected_component_analysis'], 'type': '3D', 'prob_threshold': 0.4}\n",
      "pipeline_3D_prob0.4_norm_percentile_3_8 {'pipeline': ['isotropy', 'norm_percentile', 'anisodiff', 'bilateral', 'clean_boundaries_morphology', 'merge_by_volume'], 'type': '3D', 'prob_threshold': 0.4}\n",
      "pipeline_3D_prob0.4_norm_percentile_3_9 {'pipeline': ['isotropy', 'norm_percentile', 'anisodiff', 'bilateral', '3d_connected_component_analysis', 'merge_by_volume', 'clean_boundaries_morphology'], 'type': '3D', 'prob_threshold': 0.4}\n",
      "pipeline_3D_prob0.4_norm_percentile_3_10 {'pipeline': ['isotropy', 'norm_percentile', 'anisodiff', 'bilateral', '3d_connected_component_analysis', 'clean_boundaries_morphology', 'merge_by_volume'], 'type': '3D', 'prob_threshold': 0.4}\n",
      "pipeline_3D_prob0.4_norm_percentile_3_11 {'pipeline': ['isotropy', 'norm_percentile', 'anisodiff', 'bilateral', 'merge_by_volume', '3d_connected_component_analysis', 'clean_boundaries_morphology'], 'type': '3D', 'prob_threshold': 0.4}\n",
      "pipeline_3D_prob0.4_norm_percentile_3_12 {'pipeline': ['isotropy', 'norm_percentile', 'anisodiff', 'bilateral', 'merge_by_volume', 'clean_boundaries_morphology', '3d_connected_component_analysis'], 'type': '3D', 'prob_threshold': 0.4}\n",
      "pipeline_3D_prob0.4_norm_percentile_3_13 {'pipeline': ['isotropy', 'norm_percentile', 'anisodiff', 'bilateral', 'clean_boundaries_morphology', '3d_connected_component_analysis', 'merge_by_volume'], 'type': '3D', 'prob_threshold': 0.4}\n",
      "pipeline_3D_prob0.4_norm_percentile_3_14 {'pipeline': ['isotropy', 'norm_percentile', 'anisodiff', 'bilateral', 'clean_boundaries_morphology', 'merge_by_volume', '3d_connected_component_analysis'], 'type': '3D', 'prob_threshold': 0.4}\n",
      "pipeline_3D_prob0.4_norm_percentile_3_15 {'pipeline': ['isotropy', 'norm_percentile', 'anisodiff', 'bilateral'], 'type': '3D', 'prob_threshold': 0.4}\n",
      "pipeline_3D_prob0.5_norm_percentile_0_0 {'pipeline': ['isotropy', 'norm_percentile', 'bilateral', '3d_connected_component_analysis'], 'type': '3D', 'prob_threshold': 0.5}\n",
      "pipeline_3D_prob0.5_norm_percentile_0_1 {'pipeline': ['isotropy', 'norm_percentile', 'bilateral', 'merge_by_volume'], 'type': '3D', 'prob_threshold': 0.5}\n",
      "pipeline_3D_prob0.5_norm_percentile_0_2 {'pipeline': ['isotropy', 'norm_percentile', 'bilateral', 'clean_boundaries_morphology'], 'type': '3D', 'prob_threshold': 0.5}\n",
      "pipeline_3D_prob0.5_norm_percentile_0_3 {'pipeline': ['isotropy', 'norm_percentile', 'bilateral', '3d_connected_component_analysis', 'merge_by_volume'], 'type': '3D', 'prob_threshold': 0.5}\n",
      "pipeline_3D_prob0.5_norm_percentile_0_4 {'pipeline': ['isotropy', 'norm_percentile', 'bilateral', '3d_connected_component_analysis', 'clean_boundaries_morphology'], 'type': '3D', 'prob_threshold': 0.5}\n",
      "pipeline_3D_prob0.5_norm_percentile_0_5 {'pipeline': ['isotropy', 'norm_percentile', 'bilateral', 'merge_by_volume', '3d_connected_component_analysis'], 'type': '3D', 'prob_threshold': 0.5}\n",
      "pipeline_3D_prob0.5_norm_percentile_0_6 {'pipeline': ['isotropy', 'norm_percentile', 'bilateral', 'merge_by_volume', 'clean_boundaries_morphology'], 'type': '3D', 'prob_threshold': 0.5}\n",
      "pipeline_3D_prob0.5_norm_percentile_0_7 {'pipeline': ['isotropy', 'norm_percentile', 'bilateral', 'clean_boundaries_morphology', '3d_connected_component_analysis'], 'type': '3D', 'prob_threshold': 0.5}\n",
      "pipeline_3D_prob0.5_norm_percentile_0_8 {'pipeline': ['isotropy', 'norm_percentile', 'bilateral', 'clean_boundaries_morphology', 'merge_by_volume'], 'type': '3D', 'prob_threshold': 0.5}\n",
      "pipeline_3D_prob0.5_norm_percentile_0_9 {'pipeline': ['isotropy', 'norm_percentile', 'bilateral', '3d_connected_component_analysis', 'merge_by_volume', 'clean_boundaries_morphology'], 'type': '3D', 'prob_threshold': 0.5}\n",
      "pipeline_3D_prob0.5_norm_percentile_0_10 {'pipeline': ['isotropy', 'norm_percentile', 'bilateral', '3d_connected_component_analysis', 'clean_boundaries_morphology', 'merge_by_volume'], 'type': '3D', 'prob_threshold': 0.5}\n",
      "pipeline_3D_prob0.5_norm_percentile_0_11 {'pipeline': ['isotropy', 'norm_percentile', 'bilateral', 'merge_by_volume', '3d_connected_component_analysis', 'clean_boundaries_morphology'], 'type': '3D', 'prob_threshold': 0.5}\n",
      "pipeline_3D_prob0.5_norm_percentile_0_12 {'pipeline': ['isotropy', 'norm_percentile', 'bilateral', 'merge_by_volume', 'clean_boundaries_morphology', '3d_connected_component_analysis'], 'type': '3D', 'prob_threshold': 0.5}\n",
      "pipeline_3D_prob0.5_norm_percentile_0_13 {'pipeline': ['isotropy', 'norm_percentile', 'bilateral', 'clean_boundaries_morphology', '3d_connected_component_analysis', 'merge_by_volume'], 'type': '3D', 'prob_threshold': 0.5}\n",
      "pipeline_3D_prob0.5_norm_percentile_0_14 {'pipeline': ['isotropy', 'norm_percentile', 'bilateral', 'clean_boundaries_morphology', 'merge_by_volume', '3d_connected_component_analysis'], 'type': '3D', 'prob_threshold': 0.5}\n",
      "pipeline_3D_prob0.5_norm_percentile_0_15 {'pipeline': ['isotropy', 'norm_percentile', 'bilateral'], 'type': '3D', 'prob_threshold': 0.5}\n",
      "pipeline_3D_prob0.5_norm_percentile_1_0 {'pipeline': ['isotropy', 'norm_percentile', 'anisodiff', '3d_connected_component_analysis'], 'type': '3D', 'prob_threshold': 0.5}\n",
      "pipeline_3D_prob0.5_norm_percentile_1_1 {'pipeline': ['isotropy', 'norm_percentile', 'anisodiff', 'merge_by_volume'], 'type': '3D', 'prob_threshold': 0.5}\n",
      "pipeline_3D_prob0.5_norm_percentile_1_2 {'pipeline': ['isotropy', 'norm_percentile', 'anisodiff', 'clean_boundaries_morphology'], 'type': '3D', 'prob_threshold': 0.5}\n",
      "pipeline_3D_prob0.5_norm_percentile_1_3 {'pipeline': ['isotropy', 'norm_percentile', 'anisodiff', '3d_connected_component_analysis', 'merge_by_volume'], 'type': '3D', 'prob_threshold': 0.5}\n",
      "pipeline_3D_prob0.5_norm_percentile_1_4 {'pipeline': ['isotropy', 'norm_percentile', 'anisodiff', '3d_connected_component_analysis', 'clean_boundaries_morphology'], 'type': '3D', 'prob_threshold': 0.5}\n",
      "pipeline_3D_prob0.5_norm_percentile_1_5 {'pipeline': ['isotropy', 'norm_percentile', 'anisodiff', 'merge_by_volume', '3d_connected_component_analysis'], 'type': '3D', 'prob_threshold': 0.5}\n",
      "pipeline_3D_prob0.5_norm_percentile_1_6 {'pipeline': ['isotropy', 'norm_percentile', 'anisodiff', 'merge_by_volume', 'clean_boundaries_morphology'], 'type': '3D', 'prob_threshold': 0.5}\n",
      "pipeline_3D_prob0.5_norm_percentile_1_7 {'pipeline': ['isotropy', 'norm_percentile', 'anisodiff', 'clean_boundaries_morphology', '3d_connected_component_analysis'], 'type': '3D', 'prob_threshold': 0.5}\n",
      "pipeline_3D_prob0.5_norm_percentile_1_8 {'pipeline': ['isotropy', 'norm_percentile', 'anisodiff', 'clean_boundaries_morphology', 'merge_by_volume'], 'type': '3D', 'prob_threshold': 0.5}\n",
      "pipeline_3D_prob0.5_norm_percentile_1_9 {'pipeline': ['isotropy', 'norm_percentile', 'anisodiff', '3d_connected_component_analysis', 'merge_by_volume', 'clean_boundaries_morphology'], 'type': '3D', 'prob_threshold': 0.5}\n",
      "pipeline_3D_prob0.5_norm_percentile_1_10 {'pipeline': ['isotropy', 'norm_percentile', 'anisodiff', '3d_connected_component_analysis', 'clean_boundaries_morphology', 'merge_by_volume'], 'type': '3D', 'prob_threshold': 0.5}\n",
      "pipeline_3D_prob0.5_norm_percentile_1_11 {'pipeline': ['isotropy', 'norm_percentile', 'anisodiff', 'merge_by_volume', '3d_connected_component_analysis', 'clean_boundaries_morphology'], 'type': '3D', 'prob_threshold': 0.5}\n",
      "pipeline_3D_prob0.5_norm_percentile_1_12 {'pipeline': ['isotropy', 'norm_percentile', 'anisodiff', 'merge_by_volume', 'clean_boundaries_morphology', '3d_connected_component_analysis'], 'type': '3D', 'prob_threshold': 0.5}\n",
      "pipeline_3D_prob0.5_norm_percentile_1_13 {'pipeline': ['isotropy', 'norm_percentile', 'anisodiff', 'clean_boundaries_morphology', '3d_connected_component_analysis', 'merge_by_volume'], 'type': '3D', 'prob_threshold': 0.5}\n",
      "pipeline_3D_prob0.5_norm_percentile_1_14 {'pipeline': ['isotropy', 'norm_percentile', 'anisodiff', 'clean_boundaries_morphology', 'merge_by_volume', '3d_connected_component_analysis'], 'type': '3D', 'prob_threshold': 0.5}\n",
      "pipeline_3D_prob0.5_norm_percentile_1_15 {'pipeline': ['isotropy', 'norm_percentile', 'anisodiff'], 'type': '3D', 'prob_threshold': 0.5}\n",
      "pipeline_3D_prob0.5_norm_percentile_2_0 {'pipeline': ['isotropy', 'norm_percentile', 'bilateral', 'anisodiff', '3d_connected_component_analysis'], 'type': '3D', 'prob_threshold': 0.5}\n",
      "pipeline_3D_prob0.5_norm_percentile_2_1 {'pipeline': ['isotropy', 'norm_percentile', 'bilateral', 'anisodiff', 'merge_by_volume'], 'type': '3D', 'prob_threshold': 0.5}\n",
      "pipeline_3D_prob0.5_norm_percentile_2_2 {'pipeline': ['isotropy', 'norm_percentile', 'bilateral', 'anisodiff', 'clean_boundaries_morphology'], 'type': '3D', 'prob_threshold': 0.5}\n",
      "pipeline_3D_prob0.5_norm_percentile_2_3 {'pipeline': ['isotropy', 'norm_percentile', 'bilateral', 'anisodiff', '3d_connected_component_analysis', 'merge_by_volume'], 'type': '3D', 'prob_threshold': 0.5}\n",
      "pipeline_3D_prob0.5_norm_percentile_2_4 {'pipeline': ['isotropy', 'norm_percentile', 'bilateral', 'anisodiff', '3d_connected_component_analysis', 'clean_boundaries_morphology'], 'type': '3D', 'prob_threshold': 0.5}\n",
      "pipeline_3D_prob0.5_norm_percentile_2_5 {'pipeline': ['isotropy', 'norm_percentile', 'bilateral', 'anisodiff', 'merge_by_volume', '3d_connected_component_analysis'], 'type': '3D', 'prob_threshold': 0.5}\n",
      "pipeline_3D_prob0.5_norm_percentile_2_6 {'pipeline': ['isotropy', 'norm_percentile', 'bilateral', 'anisodiff', 'merge_by_volume', 'clean_boundaries_morphology'], 'type': '3D', 'prob_threshold': 0.5}\n",
      "pipeline_3D_prob0.5_norm_percentile_2_7 {'pipeline': ['isotropy', 'norm_percentile', 'bilateral', 'anisodiff', 'clean_boundaries_morphology', '3d_connected_component_analysis'], 'type': '3D', 'prob_threshold': 0.5}\n",
      "pipeline_3D_prob0.5_norm_percentile_2_8 {'pipeline': ['isotropy', 'norm_percentile', 'bilateral', 'anisodiff', 'clean_boundaries_morphology', 'merge_by_volume'], 'type': '3D', 'prob_threshold': 0.5}\n",
      "pipeline_3D_prob0.5_norm_percentile_2_9 {'pipeline': ['isotropy', 'norm_percentile', 'bilateral', 'anisodiff', '3d_connected_component_analysis', 'merge_by_volume', 'clean_boundaries_morphology'], 'type': '3D', 'prob_threshold': 0.5}\n",
      "pipeline_3D_prob0.5_norm_percentile_2_10 {'pipeline': ['isotropy', 'norm_percentile', 'bilateral', 'anisodiff', '3d_connected_component_analysis', 'clean_boundaries_morphology', 'merge_by_volume'], 'type': '3D', 'prob_threshold': 0.5}\n",
      "pipeline_3D_prob0.5_norm_percentile_2_11 {'pipeline': ['isotropy', 'norm_percentile', 'bilateral', 'anisodiff', 'merge_by_volume', '3d_connected_component_analysis', 'clean_boundaries_morphology'], 'type': '3D', 'prob_threshold': 0.5}\n",
      "pipeline_3D_prob0.5_norm_percentile_2_12 {'pipeline': ['isotropy', 'norm_percentile', 'bilateral', 'anisodiff', 'merge_by_volume', 'clean_boundaries_morphology', '3d_connected_component_analysis'], 'type': '3D', 'prob_threshold': 0.5}\n",
      "pipeline_3D_prob0.5_norm_percentile_2_13 {'pipeline': ['isotropy', 'norm_percentile', 'bilateral', 'anisodiff', 'clean_boundaries_morphology', '3d_connected_component_analysis', 'merge_by_volume'], 'type': '3D', 'prob_threshold': 0.5}\n",
      "pipeline_3D_prob0.5_norm_percentile_2_14 {'pipeline': ['isotropy', 'norm_percentile', 'bilateral', 'anisodiff', 'clean_boundaries_morphology', 'merge_by_volume', '3d_connected_component_analysis'], 'type': '3D', 'prob_threshold': 0.5}\n",
      "pipeline_3D_prob0.5_norm_percentile_2_15 {'pipeline': ['isotropy', 'norm_percentile', 'bilateral', 'anisodiff'], 'type': '3D', 'prob_threshold': 0.5}\n",
      "pipeline_3D_prob0.5_norm_percentile_3_0 {'pipeline': ['isotropy', 'norm_percentile', 'anisodiff', 'bilateral', '3d_connected_component_analysis'], 'type': '3D', 'prob_threshold': 0.5}\n",
      "pipeline_3D_prob0.5_norm_percentile_3_1 {'pipeline': ['isotropy', 'norm_percentile', 'anisodiff', 'bilateral', 'merge_by_volume'], 'type': '3D', 'prob_threshold': 0.5}\n",
      "pipeline_3D_prob0.5_norm_percentile_3_2 {'pipeline': ['isotropy', 'norm_percentile', 'anisodiff', 'bilateral', 'clean_boundaries_morphology'], 'type': '3D', 'prob_threshold': 0.5}\n",
      "pipeline_3D_prob0.5_norm_percentile_3_3 {'pipeline': ['isotropy', 'norm_percentile', 'anisodiff', 'bilateral', '3d_connected_component_analysis', 'merge_by_volume'], 'type': '3D', 'prob_threshold': 0.5}\n",
      "pipeline_3D_prob0.5_norm_percentile_3_4 {'pipeline': ['isotropy', 'norm_percentile', 'anisodiff', 'bilateral', '3d_connected_component_analysis', 'clean_boundaries_morphology'], 'type': '3D', 'prob_threshold': 0.5}\n",
      "pipeline_3D_prob0.5_norm_percentile_3_5 {'pipeline': ['isotropy', 'norm_percentile', 'anisodiff', 'bilateral', 'merge_by_volume', '3d_connected_component_analysis'], 'type': '3D', 'prob_threshold': 0.5}\n",
      "pipeline_3D_prob0.5_norm_percentile_3_6 {'pipeline': ['isotropy', 'norm_percentile', 'anisodiff', 'bilateral', 'merge_by_volume', 'clean_boundaries_morphology'], 'type': '3D', 'prob_threshold': 0.5}\n",
      "pipeline_3D_prob0.5_norm_percentile_3_7 {'pipeline': ['isotropy', 'norm_percentile', 'anisodiff', 'bilateral', 'clean_boundaries_morphology', '3d_connected_component_analysis'], 'type': '3D', 'prob_threshold': 0.5}\n",
      "pipeline_3D_prob0.5_norm_percentile_3_8 {'pipeline': ['isotropy', 'norm_percentile', 'anisodiff', 'bilateral', 'clean_boundaries_morphology', 'merge_by_volume'], 'type': '3D', 'prob_threshold': 0.5}\n",
      "pipeline_3D_prob0.5_norm_percentile_3_9 {'pipeline': ['isotropy', 'norm_percentile', 'anisodiff', 'bilateral', '3d_connected_component_analysis', 'merge_by_volume', 'clean_boundaries_morphology'], 'type': '3D', 'prob_threshold': 0.5}\n",
      "pipeline_3D_prob0.5_norm_percentile_3_10 {'pipeline': ['isotropy', 'norm_percentile', 'anisodiff', 'bilateral', '3d_connected_component_analysis', 'clean_boundaries_morphology', 'merge_by_volume'], 'type': '3D', 'prob_threshold': 0.5}\n",
      "pipeline_3D_prob0.5_norm_percentile_3_11 {'pipeline': ['isotropy', 'norm_percentile', 'anisodiff', 'bilateral', 'merge_by_volume', '3d_connected_component_analysis', 'clean_boundaries_morphology'], 'type': '3D', 'prob_threshold': 0.5}\n",
      "pipeline_3D_prob0.5_norm_percentile_3_12 {'pipeline': ['isotropy', 'norm_percentile', 'anisodiff', 'bilateral', 'merge_by_volume', 'clean_boundaries_morphology', '3d_connected_component_analysis'], 'type': '3D', 'prob_threshold': 0.5}\n",
      "pipeline_3D_prob0.5_norm_percentile_3_13 {'pipeline': ['isotropy', 'norm_percentile', 'anisodiff', 'bilateral', 'clean_boundaries_morphology', '3d_connected_component_analysis', 'merge_by_volume'], 'type': '3D', 'prob_threshold': 0.5}\n",
      "pipeline_3D_prob0.5_norm_percentile_3_14 {'pipeline': ['isotropy', 'norm_percentile', 'anisodiff', 'bilateral', 'clean_boundaries_morphology', 'merge_by_volume', '3d_connected_component_analysis'], 'type': '3D', 'prob_threshold': 0.5}\n",
      "pipeline_3D_prob0.5_norm_percentile_3_15 {'pipeline': ['isotropy', 'norm_percentile', 'anisodiff', 'bilateral'], 'type': '3D', 'prob_threshold': 0.5}\n"
     ]
    }
   ],
   "execution_count": 4
  },
  {
   "metadata": {
    "ExecuteTime": {
     "end_time": "2024-10-06T10:18:00.521643Z",
     "start_time": "2024-10-06T10:18:00.380987Z"
    }
   },
   "cell_type": "code",
   "source": [
    "model = my_cellpose.load_model('nuclei')\n",
    "tester = ModelTester(model)"
   ],
   "id": "235a2fdf589185b5",
   "outputs": [
    {
     "name": "stdout",
     "output_type": "stream",
     "text": [
      "\u001B[94mLoading model\u001B[0m: nuclei\n"
     ]
    }
   ],
   "execution_count": 6
  },
  {
   "metadata": {
    "ExecuteTime": {
     "end_time": "2024-10-06T13:20:39.057290Z",
     "start_time": "2024-10-06T10:19:26.834249Z"
    }
   },
   "cell_type": "code",
   "source": [
    "bar = LoadingBar(len(pipelines_dict))\n",
    "\n",
    "for name, config in pipelines_dict.items():\n",
    "    print(f\"\\nTesting {name} pipeline\")\n",
    "    \n",
    "    pipeline = config['pipeline']\n",
    "    type = config['type']\n",
    "    thr = config['threshold'] if 'threshold' in config else None\n",
    "    prob_thr = config['prob_threshold'] if 'prob_threshold' in config else 0.0\n",
    "    \n",
    "    tester.run(\n",
    "        img_path, pipeline,\n",
    "        type=type, stitch_threshold=thr,\n",
    "        test_name=name, cellprob_threshold=prob_thr,\n",
    "        verbose=0\n",
    "    )\n",
    "    \n",
    "    bar.update()\n",
    "    \n",
    "bar.end()"
   ],
   "id": "a33db2a830631586",
   "outputs": [
    {
     "name": "stdout",
     "output_type": "stream",
     "text": [
      "\n",
      "Testing pipeline_2D_thr_0.2_norm_minmax_0_0 pipeline\n"
     ]
    },
    {
     "name": "stderr",
     "output_type": "stream",
     "text": [
      "100%|██████████| 19/19 [00:00<00:00, 29.94it/s]"
     ]
    },
    {
     "name": "stdout",
     "output_type": "stream",
     "text": [
      "[                                                  ] 0.07%"
     ]
    },
    {
     "name": "stderr",
     "output_type": "stream",
     "text": [
      "\n"
     ]
    },
    {
     "name": "stdout",
     "output_type": "stream",
     "text": [
      "\n",
      "Testing pipeline_2D_thr_0.2_norm_minmax_0_1 pipeline\n"
     ]
    },
    {
     "name": "stderr",
     "output_type": "stream",
     "text": [
      "100%|██████████| 19/19 [00:00<00:00, 3769.72it/s]"
     ]
    },
    {
     "name": "stdout",
     "output_type": "stream",
     "text": [
      "[                                                  ] 0.13%"
     ]
    },
    {
     "name": "stderr",
     "output_type": "stream",
     "text": [
      "\n"
     ]
    },
    {
     "name": "stdout",
     "output_type": "stream",
     "text": [
      "\n",
      "Testing pipeline_2D_thr_0.2_norm_minmax_0_2 pipeline\n"
     ]
    },
    {
     "name": "stderr",
     "output_type": "stream",
     "text": [
      "100%|██████████| 19/19 [00:00<00:00, 5371.51it/s]"
     ]
    },
    {
     "name": "stdout",
     "output_type": "stream",
     "text": [
      "[                                                  ] 0.20%"
     ]
    },
    {
     "name": "stderr",
     "output_type": "stream",
     "text": [
      "\n"
     ]
    },
    {
     "name": "stdout",
     "output_type": "stream",
     "text": [
      "\n",
      "Testing pipeline_2D_thr_0.2_norm_minmax_0_3 pipeline\n"
     ]
    },
    {
     "name": "stderr",
     "output_type": "stream",
     "text": [
      "100%|██████████| 19/19 [00:00<00:00, 4836.55it/s]"
     ]
    },
    {
     "name": "stdout",
     "output_type": "stream",
     "text": [
      "[                                                  ] 0.26%"
     ]
    },
    {
     "name": "stderr",
     "output_type": "stream",
     "text": [
      "\n"
     ]
    },
    {
     "name": "stdout",
     "output_type": "stream",
     "text": [
      "\n",
      "Testing pipeline_2D_thr_0.2_norm_minmax_0_4 pipeline\n"
     ]
    },
    {
     "name": "stderr",
     "output_type": "stream",
     "text": [
      "100%|██████████| 19/19 [00:00<00:00, 6652.07it/s]"
     ]
    },
    {
     "name": "stdout",
     "output_type": "stream",
     "text": [
      "[                                                  ] 0.33%"
     ]
    },
    {
     "name": "stderr",
     "output_type": "stream",
     "text": [
      "\n"
     ]
    },
    {
     "name": "stdout",
     "output_type": "stream",
     "text": [
      "\n",
      "Testing pipeline_2D_thr_0.2_norm_minmax_0_5 pipeline\n"
     ]
    },
    {
     "name": "stderr",
     "output_type": "stream",
     "text": [
      "100%|██████████| 19/19 [00:00<00:00, 6492.73it/s]"
     ]
    },
    {
     "name": "stdout",
     "output_type": "stream",
     "text": [
      "[                                                  ] 0.39%"
     ]
    },
    {
     "name": "stderr",
     "output_type": "stream",
     "text": [
      "\n"
     ]
    },
    {
     "name": "stdout",
     "output_type": "stream",
     "text": [
      "\n",
      "Testing pipeline_2D_thr_0.2_norm_minmax_0_6 pipeline\n"
     ]
    },
    {
     "name": "stderr",
     "output_type": "stream",
     "text": [
      "100%|██████████| 19/19 [00:00<00:00, 6939.98it/s]"
     ]
    },
    {
     "name": "stdout",
     "output_type": "stream",
     "text": [
      "[                                                  ] 0.46%"
     ]
    },
    {
     "name": "stderr",
     "output_type": "stream",
     "text": [
      "\n"
     ]
    },
    {
     "name": "stdout",
     "output_type": "stream",
     "text": [
      "\n",
      "Testing pipeline_2D_thr_0.2_norm_minmax_0_7 pipeline\n"
     ]
    },
    {
     "name": "stderr",
     "output_type": "stream",
     "text": [
      "100%|██████████| 19/19 [00:00<00:00, 6899.12it/s]"
     ]
    },
    {
     "name": "stdout",
     "output_type": "stream",
     "text": [
      "[                                                  ] 0.52%"
     ]
    },
    {
     "name": "stderr",
     "output_type": "stream",
     "text": [
      "\n"
     ]
    },
    {
     "name": "stdout",
     "output_type": "stream",
     "text": [
      "\n",
      "Testing pipeline_2D_thr_0.2_norm_minmax_0_8 pipeline\n"
     ]
    },
    {
     "name": "stderr",
     "output_type": "stream",
     "text": [
      "100%|██████████| 19/19 [00:00<00:00, 5229.46it/s]"
     ]
    },
    {
     "name": "stdout",
     "output_type": "stream",
     "text": [
      "[                                                  ] 0.59%"
     ]
    },
    {
     "name": "stderr",
     "output_type": "stream",
     "text": [
      "\n"
     ]
    },
    {
     "name": "stdout",
     "output_type": "stream",
     "text": [
      "\n",
      "Testing pipeline_2D_thr_0.2_norm_minmax_0_9 pipeline\n"
     ]
    },
    {
     "name": "stderr",
     "output_type": "stream",
     "text": [
      "100%|██████████| 19/19 [00:00<00:00, 5799.98it/s]"
     ]
    },
    {
     "name": "stdout",
     "output_type": "stream",
     "text": [
      "[                                                  ] 0.65%"
     ]
    },
    {
     "name": "stderr",
     "output_type": "stream",
     "text": [
      "\n"
     ]
    },
    {
     "name": "stdout",
     "output_type": "stream",
     "text": [
      "\n",
      "Testing pipeline_2D_thr_0.2_norm_minmax_0_10 pipeline\n"
     ]
    },
    {
     "name": "stderr",
     "output_type": "stream",
     "text": [
      "100%|██████████| 19/19 [00:00<00:00, 6704.11it/s]"
     ]
    },
    {
     "name": "stdout",
     "output_type": "stream",
     "text": [
      "[                                                  ] 0.72%"
     ]
    },
    {
     "name": "stderr",
     "output_type": "stream",
     "text": [
      "\n"
     ]
    },
    {
     "name": "stdout",
     "output_type": "stream",
     "text": [
      "\n",
      "Testing pipeline_2D_thr_0.2_norm_minmax_0_11 pipeline\n"
     ]
    },
    {
     "name": "stderr",
     "output_type": "stream",
     "text": [
      "100%|██████████| 19/19 [00:00<00:00, 4096.63it/s]"
     ]
    },
    {
     "name": "stdout",
     "output_type": "stream",
     "text": [
      "[                                                  ] 0.78%"
     ]
    },
    {
     "name": "stderr",
     "output_type": "stream",
     "text": [
      "\n"
     ]
    },
    {
     "name": "stdout",
     "output_type": "stream",
     "text": [
      "\n",
      "Testing pipeline_2D_thr_0.2_norm_minmax_0_12 pipeline\n"
     ]
    },
    {
     "name": "stderr",
     "output_type": "stream",
     "text": [
      "100%|██████████| 19/19 [00:00<00:00, 6386.07it/s]"
     ]
    },
    {
     "name": "stdout",
     "output_type": "stream",
     "text": [
      "[                                                  ] 0.85%"
     ]
    },
    {
     "name": "stderr",
     "output_type": "stream",
     "text": [
      "\n"
     ]
    },
    {
     "name": "stdout",
     "output_type": "stream",
     "text": [
      "\n",
      "Testing pipeline_2D_thr_0.2_norm_minmax_0_13 pipeline\n"
     ]
    },
    {
     "name": "stderr",
     "output_type": "stream",
     "text": [
      "100%|██████████| 19/19 [00:00<00:00, 5053.06it/s]"
     ]
    },
    {
     "name": "stdout",
     "output_type": "stream",
     "text": [
      "[                                                  ] 0.91%"
     ]
    },
    {
     "name": "stderr",
     "output_type": "stream",
     "text": [
      "\n"
     ]
    },
    {
     "name": "stdout",
     "output_type": "stream",
     "text": [
      "\n",
      "Testing pipeline_2D_thr_0.2_norm_minmax_0_14 pipeline\n"
     ]
    },
    {
     "name": "stderr",
     "output_type": "stream",
     "text": [
      "100%|██████████| 19/19 [00:00<00:00, 6220.09it/s]"
     ]
    },
    {
     "name": "stdout",
     "output_type": "stream",
     "text": [
      "[                                                  ] 0.98%"
     ]
    },
    {
     "name": "stderr",
     "output_type": "stream",
     "text": [
      "\n"
     ]
    },
    {
     "name": "stdout",
     "output_type": "stream",
     "text": [
      "\n",
      "Testing pipeline_2D_thr_0.2_norm_minmax_0_15 pipeline\n"
     ]
    },
    {
     "name": "stderr",
     "output_type": "stream",
     "text": [
      "100%|██████████| 19/19 [00:00<00:00, 7382.29it/s]"
     ]
    },
    {
     "name": "stdout",
     "output_type": "stream",
     "text": [
      "[                                                  ] 1.04%"
     ]
    },
    {
     "name": "stderr",
     "output_type": "stream",
     "text": [
      "\n"
     ]
    },
    {
     "name": "stdout",
     "output_type": "stream",
     "text": [
      "\n",
      "Testing pipeline_2D_thr_0.2_norm_minmax_1_0 pipeline\n"
     ]
    },
    {
     "name": "stderr",
     "output_type": "stream",
     "text": [
      "100%|██████████| 19/19 [00:00<00:00, 4223.42it/s]"
     ]
    },
    {
     "name": "stdout",
     "output_type": "stream",
     "text": [
      "[                                                  ] 1.11%"
     ]
    },
    {
     "name": "stderr",
     "output_type": "stream",
     "text": [
      "\n"
     ]
    },
    {
     "name": "stdout",
     "output_type": "stream",
     "text": [
      "\n",
      "Testing pipeline_2D_thr_0.2_norm_minmax_1_1 pipeline\n"
     ]
    },
    {
     "name": "stderr",
     "output_type": "stream",
     "text": [
      "100%|██████████| 19/19 [00:00<00:00, 4986.03it/s]"
     ]
    },
    {
     "name": "stdout",
     "output_type": "stream",
     "text": [
      "[                                                  ] 1.17%"
     ]
    },
    {
     "name": "stderr",
     "output_type": "stream",
     "text": [
      "\n"
     ]
    },
    {
     "name": "stdout",
     "output_type": "stream",
     "text": [
      "\n",
      "Testing pipeline_2D_thr_0.2_norm_minmax_1_2 pipeline\n"
     ]
    },
    {
     "name": "stderr",
     "output_type": "stream",
     "text": [
      "100%|██████████| 19/19 [00:00<00:00, 4309.99it/s]"
     ]
    },
    {
     "name": "stdout",
     "output_type": "stream",
     "text": [
      "[                                                  ] 1.24%"
     ]
    },
    {
     "name": "stderr",
     "output_type": "stream",
     "text": [
      "\n"
     ]
    },
    {
     "name": "stdout",
     "output_type": "stream",
     "text": [
      "\n",
      "Testing pipeline_2D_thr_0.2_norm_minmax_1_3 pipeline\n"
     ]
    },
    {
     "name": "stderr",
     "output_type": "stream",
     "text": [
      "100%|██████████| 19/19 [00:00<00:00, 5403.56it/s]"
     ]
    },
    {
     "name": "stdout",
     "output_type": "stream",
     "text": [
      "[                                                  ] 1.30%"
     ]
    },
    {
     "name": "stderr",
     "output_type": "stream",
     "text": [
      "\n"
     ]
    },
    {
     "name": "stdout",
     "output_type": "stream",
     "text": [
      "\n",
      "Testing pipeline_2D_thr_0.2_norm_minmax_1_4 pipeline\n"
     ]
    },
    {
     "name": "stderr",
     "output_type": "stream",
     "text": [
      "100%|██████████| 19/19 [00:00<00:00, 6350.45it/s]"
     ]
    },
    {
     "name": "stdout",
     "output_type": "stream",
     "text": [
      "[                                                  ] 1.37%"
     ]
    },
    {
     "name": "stderr",
     "output_type": "stream",
     "text": [
      "\n"
     ]
    },
    {
     "name": "stdout",
     "output_type": "stream",
     "text": [
      "\n",
      "Testing pipeline_2D_thr_0.2_norm_minmax_1_5 pipeline\n"
     ]
    },
    {
     "name": "stderr",
     "output_type": "stream",
     "text": [
      "100%|██████████| 19/19 [00:00<00:00, 4634.32it/s]"
     ]
    },
    {
     "name": "stdout",
     "output_type": "stream",
     "text": [
      "[                                                  ] 1.43%"
     ]
    },
    {
     "name": "stderr",
     "output_type": "stream",
     "text": [
      "\n"
     ]
    },
    {
     "name": "stdout",
     "output_type": "stream",
     "text": [
      "\n",
      "Testing pipeline_2D_thr_0.2_norm_minmax_1_6 pipeline\n"
     ]
    },
    {
     "name": "stderr",
     "output_type": "stream",
     "text": [
      "100%|██████████| 19/19 [00:00<00:00, 3234.38it/s]"
     ]
    },
    {
     "name": "stdout",
     "output_type": "stream",
     "text": [
      "[                                                  ] 1.50%"
     ]
    },
    {
     "name": "stderr",
     "output_type": "stream",
     "text": [
      "\n"
     ]
    },
    {
     "name": "stdout",
     "output_type": "stream",
     "text": [
      "\n",
      "Testing pipeline_2D_thr_0.2_norm_minmax_1_7 pipeline\n"
     ]
    },
    {
     "name": "stderr",
     "output_type": "stream",
     "text": [
      "100%|██████████| 19/19 [00:00<00:00, 4708.25it/s]"
     ]
    },
    {
     "name": "stdout",
     "output_type": "stream",
     "text": [
      "[                                                  ] 1.56%"
     ]
    },
    {
     "name": "stderr",
     "output_type": "stream",
     "text": [
      "\n"
     ]
    },
    {
     "name": "stdout",
     "output_type": "stream",
     "text": [
      "\n",
      "Testing pipeline_2D_thr_0.2_norm_minmax_1_8 pipeline\n"
     ]
    },
    {
     "name": "stderr",
     "output_type": "stream",
     "text": [
      "100%|██████████| 19/19 [00:00<00:00, 3320.21it/s]"
     ]
    },
    {
     "name": "stdout",
     "output_type": "stream",
     "text": [
      "[                                                  ] 1.63%"
     ]
    },
    {
     "name": "stderr",
     "output_type": "stream",
     "text": [
      "\n"
     ]
    },
    {
     "name": "stdout",
     "output_type": "stream",
     "text": [
      "\n",
      "Testing pipeline_2D_thr_0.2_norm_minmax_1_9 pipeline\n"
     ]
    },
    {
     "name": "stderr",
     "output_type": "stream",
     "text": [
      "100%|██████████| 19/19 [00:00<00:00, 6446.51it/s]"
     ]
    },
    {
     "name": "stdout",
     "output_type": "stream",
     "text": [
      "[                                                  ] 1.69%"
     ]
    },
    {
     "name": "stderr",
     "output_type": "stream",
     "text": [
      "\n"
     ]
    },
    {
     "name": "stdout",
     "output_type": "stream",
     "text": [
      "\n",
      "Testing pipeline_2D_thr_0.2_norm_minmax_1_10 pipeline\n"
     ]
    },
    {
     "name": "stderr",
     "output_type": "stream",
     "text": [
      "100%|██████████| 19/19 [00:00<00:00, 6700.73it/s]"
     ]
    },
    {
     "name": "stdout",
     "output_type": "stream",
     "text": [
      "[                                                  ] 1.76%"
     ]
    },
    {
     "name": "stderr",
     "output_type": "stream",
     "text": [
      "\n"
     ]
    },
    {
     "name": "stdout",
     "output_type": "stream",
     "text": [
      "\n",
      "Testing pipeline_2D_thr_0.2_norm_minmax_1_11 pipeline\n"
     ]
    },
    {
     "name": "stderr",
     "output_type": "stream",
     "text": [
      "100%|██████████| 19/19 [00:00<00:00, 5333.76it/s]"
     ]
    },
    {
     "name": "stdout",
     "output_type": "stream",
     "text": [
      "[                                                  ] 1.82%"
     ]
    },
    {
     "name": "stderr",
     "output_type": "stream",
     "text": [
      "\n"
     ]
    },
    {
     "name": "stdout",
     "output_type": "stream",
     "text": [
      "\n",
      "Testing pipeline_2D_thr_0.2_norm_minmax_1_12 pipeline\n"
     ]
    },
    {
     "name": "stderr",
     "output_type": "stream",
     "text": [
      "100%|██████████| 19/19 [00:00<00:00, 6355.01it/s]"
     ]
    },
    {
     "name": "stdout",
     "output_type": "stream",
     "text": [
      "[                                                  ] 1.89%"
     ]
    },
    {
     "name": "stderr",
     "output_type": "stream",
     "text": [
      "\n"
     ]
    },
    {
     "name": "stdout",
     "output_type": "stream",
     "text": [
      "\n",
      "Testing pipeline_2D_thr_0.2_norm_minmax_1_13 pipeline\n"
     ]
    },
    {
     "name": "stderr",
     "output_type": "stream",
     "text": [
      "100%|██████████| 19/19 [00:00<00:00, 4034.62it/s]"
     ]
    },
    {
     "name": "stdout",
     "output_type": "stream",
     "text": [
      "[                                                  ] 1.95%"
     ]
    },
    {
     "name": "stderr",
     "output_type": "stream",
     "text": [
      "\n"
     ]
    },
    {
     "name": "stdout",
     "output_type": "stream",
     "text": [
      "\n",
      "Testing pipeline_2D_thr_0.2_norm_minmax_1_14 pipeline\n"
     ]
    },
    {
     "name": "stderr",
     "output_type": "stream",
     "text": [
      "100%|██████████| 19/19 [00:00<00:00, 6519.29it/s]"
     ]
    },
    {
     "name": "stdout",
     "output_type": "stream",
     "text": [
      "[=                                                 ] 2.02%"
     ]
    },
    {
     "name": "stderr",
     "output_type": "stream",
     "text": [
      "\n"
     ]
    },
    {
     "name": "stdout",
     "output_type": "stream",
     "text": [
      "\n",
      "Testing pipeline_2D_thr_0.2_norm_minmax_1_15 pipeline\n"
     ]
    },
    {
     "name": "stderr",
     "output_type": "stream",
     "text": [
      "100%|██████████| 19/19 [00:00<00:00, 5120.26it/s]"
     ]
    },
    {
     "name": "stdout",
     "output_type": "stream",
     "text": [
      "[=                                                 ] 2.08%"
     ]
    },
    {
     "name": "stderr",
     "output_type": "stream",
     "text": [
      "\n"
     ]
    },
    {
     "name": "stdout",
     "output_type": "stream",
     "text": [
      "\n",
      "Testing pipeline_2D_thr_0.2_norm_minmax_2_0 pipeline\n"
     ]
    },
    {
     "name": "stderr",
     "output_type": "stream",
     "text": [
      "100%|██████████| 19/19 [00:00<00:00, 4726.40it/s]"
     ]
    },
    {
     "name": "stdout",
     "output_type": "stream",
     "text": [
      "[=                                                 ] 2.15%"
     ]
    },
    {
     "name": "stderr",
     "output_type": "stream",
     "text": [
      "\n"
     ]
    },
    {
     "name": "stdout",
     "output_type": "stream",
     "text": [
      "\n",
      "Testing pipeline_2D_thr_0.2_norm_minmax_2_1 pipeline\n"
     ]
    },
    {
     "name": "stderr",
     "output_type": "stream",
     "text": [
      "100%|██████████| 19/19 [00:00<00:00, 5582.61it/s]"
     ]
    },
    {
     "name": "stdout",
     "output_type": "stream",
     "text": [
      "[=                                                 ] 2.21%"
     ]
    },
    {
     "name": "stderr",
     "output_type": "stream",
     "text": [
      "\n"
     ]
    },
    {
     "name": "stdout",
     "output_type": "stream",
     "text": [
      "\n",
      "Testing pipeline_2D_thr_0.2_norm_minmax_2_2 pipeline\n"
     ]
    },
    {
     "name": "stderr",
     "output_type": "stream",
     "text": [
      "100%|██████████| 19/19 [00:00<00:00, 5809.29it/s]"
     ]
    },
    {
     "name": "stdout",
     "output_type": "stream",
     "text": [
      "[=                                                 ] 2.28%"
     ]
    },
    {
     "name": "stderr",
     "output_type": "stream",
     "text": [
      "\n"
     ]
    },
    {
     "name": "stdout",
     "output_type": "stream",
     "text": [
      "\n",
      "Testing pipeline_2D_thr_0.2_norm_minmax_2_3 pipeline\n"
     ]
    },
    {
     "name": "stderr",
     "output_type": "stream",
     "text": [
      "100%|██████████| 19/19 [00:00<00:00, 4948.88it/s]"
     ]
    },
    {
     "name": "stdout",
     "output_type": "stream",
     "text": [
      "[=                                                 ] 2.34%"
     ]
    },
    {
     "name": "stderr",
     "output_type": "stream",
     "text": [
      "\n"
     ]
    },
    {
     "name": "stdout",
     "output_type": "stream",
     "text": [
      "\n",
      "Testing pipeline_2D_thr_0.2_norm_minmax_2_4 pipeline\n"
     ]
    },
    {
     "name": "stderr",
     "output_type": "stream",
     "text": [
      "100%|██████████| 19/19 [00:00<00:00, 5454.23it/s]"
     ]
    },
    {
     "name": "stdout",
     "output_type": "stream",
     "text": [
      "[=                                                 ] 2.41%"
     ]
    },
    {
     "name": "stderr",
     "output_type": "stream",
     "text": [
      "\n"
     ]
    },
    {
     "name": "stdout",
     "output_type": "stream",
     "text": [
      "\n",
      "Testing pipeline_2D_thr_0.2_norm_minmax_2_5 pipeline\n"
     ]
    },
    {
     "name": "stderr",
     "output_type": "stream",
     "text": [
      "100%|██████████| 19/19 [00:00<00:00, 6369.23it/s]"
     ]
    },
    {
     "name": "stdout",
     "output_type": "stream",
     "text": [
      "[=                                                 ] 2.47%"
     ]
    },
    {
     "name": "stderr",
     "output_type": "stream",
     "text": [
      "\n"
     ]
    },
    {
     "name": "stdout",
     "output_type": "stream",
     "text": [
      "\n",
      "Testing pipeline_2D_thr_0.2_norm_minmax_2_6 pipeline\n"
     ]
    },
    {
     "name": "stderr",
     "output_type": "stream",
     "text": [
      "100%|██████████| 19/19 [00:00<00:00, 6603.56it/s]"
     ]
    },
    {
     "name": "stdout",
     "output_type": "stream",
     "text": [
      "[=                                                 ] 2.54%"
     ]
    },
    {
     "name": "stderr",
     "output_type": "stream",
     "text": [
      "\n"
     ]
    },
    {
     "name": "stdout",
     "output_type": "stream",
     "text": [
      "\n",
      "Testing pipeline_2D_thr_0.2_norm_minmax_2_7 pipeline\n"
     ]
    },
    {
     "name": "stderr",
     "output_type": "stream",
     "text": [
      "100%|██████████| 19/19 [00:00<00:00, 5970.76it/s]\n"
     ]
    },
    {
     "name": "stdout",
     "output_type": "stream",
     "text": [
      "[=                                                 ] 2.60%\n",
      "Testing pipeline_2D_thr_0.2_norm_minmax_2_8 pipeline\n"
     ]
    },
    {
     "name": "stderr",
     "output_type": "stream",
     "text": [
      "100%|██████████| 19/19 [00:00<00:00, 6814.17it/s]"
     ]
    },
    {
     "name": "stdout",
     "output_type": "stream",
     "text": [
      "[=                                                 ] 2.67%"
     ]
    },
    {
     "name": "stderr",
     "output_type": "stream",
     "text": [
      "\n"
     ]
    },
    {
     "name": "stdout",
     "output_type": "stream",
     "text": [
      "\n",
      "Testing pipeline_2D_thr_0.2_norm_minmax_2_9 pipeline\n"
     ]
    },
    {
     "name": "stderr",
     "output_type": "stream",
     "text": [
      "100%|██████████| 19/19 [00:00<00:00, 7054.24it/s]"
     ]
    },
    {
     "name": "stdout",
     "output_type": "stream",
     "text": [
      "[=                                                 ] 2.73%"
     ]
    },
    {
     "name": "stderr",
     "output_type": "stream",
     "text": [
      "\n"
     ]
    },
    {
     "name": "stdout",
     "output_type": "stream",
     "text": [
      "\n",
      "Testing pipeline_2D_thr_0.2_norm_minmax_2_10 pipeline\n"
     ]
    },
    {
     "name": "stderr",
     "output_type": "stream",
     "text": [
      "100%|██████████| 19/19 [00:00<00:00, 5447.52it/s]"
     ]
    },
    {
     "name": "stdout",
     "output_type": "stream",
     "text": [
      "[=                                                 ] 2.80%"
     ]
    },
    {
     "name": "stderr",
     "output_type": "stream",
     "text": [
      "\n"
     ]
    },
    {
     "name": "stdout",
     "output_type": "stream",
     "text": [
      "\n",
      "Testing pipeline_2D_thr_0.2_norm_minmax_2_11 pipeline\n"
     ]
    },
    {
     "name": "stderr",
     "output_type": "stream",
     "text": [
      "100%|██████████| 19/19 [00:00<00:00, 7113.43it/s]"
     ]
    },
    {
     "name": "stdout",
     "output_type": "stream",
     "text": [
      "[=                                                 ] 2.86%"
     ]
    },
    {
     "name": "stderr",
     "output_type": "stream",
     "text": [
      "\n"
     ]
    },
    {
     "name": "stdout",
     "output_type": "stream",
     "text": [
      "\n",
      "Testing pipeline_2D_thr_0.2_norm_minmax_2_12 pipeline\n"
     ]
    },
    {
     "name": "stderr",
     "output_type": "stream",
     "text": [
      "100%|██████████| 19/19 [00:00<00:00, 3899.39it/s]"
     ]
    },
    {
     "name": "stdout",
     "output_type": "stream",
     "text": [
      "[=                                                 ] 2.93%"
     ]
    },
    {
     "name": "stderr",
     "output_type": "stream",
     "text": [
      "\n"
     ]
    },
    {
     "name": "stdout",
     "output_type": "stream",
     "text": [
      "\n",
      "Testing pipeline_2D_thr_0.2_norm_minmax_2_13 pipeline\n"
     ]
    },
    {
     "name": "stderr",
     "output_type": "stream",
     "text": [
      "100%|██████████| 19/19 [00:00<00:00, 7096.96it/s]"
     ]
    },
    {
     "name": "stdout",
     "output_type": "stream",
     "text": [
      "[=                                                 ] 2.99%"
     ]
    },
    {
     "name": "stderr",
     "output_type": "stream",
     "text": [
      "\n"
     ]
    },
    {
     "name": "stdout",
     "output_type": "stream",
     "text": [
      "\n",
      "Testing pipeline_2D_thr_0.2_norm_minmax_2_14 pipeline\n"
     ]
    },
    {
     "name": "stderr",
     "output_type": "stream",
     "text": [
      "100%|██████████| 19/19 [00:00<00:00, 6455.39it/s]"
     ]
    },
    {
     "name": "stdout",
     "output_type": "stream",
     "text": [
      "[=                                                 ] 3.06%"
     ]
    },
    {
     "name": "stderr",
     "output_type": "stream",
     "text": [
      "\n"
     ]
    },
    {
     "name": "stdout",
     "output_type": "stream",
     "text": [
      "\n",
      "Testing pipeline_2D_thr_0.2_norm_minmax_2_15 pipeline\n"
     ]
    },
    {
     "name": "stderr",
     "output_type": "stream",
     "text": [
      "100%|██████████| 19/19 [00:00<00:00, 5603.81it/s]"
     ]
    },
    {
     "name": "stdout",
     "output_type": "stream",
     "text": [
      "[=                                                 ] 3.12%"
     ]
    },
    {
     "name": "stderr",
     "output_type": "stream",
     "text": [
      "\n"
     ]
    },
    {
     "name": "stdout",
     "output_type": "stream",
     "text": [
      "\n",
      "Testing pipeline_2D_thr_0.2_norm_minmax_3_0 pipeline\n"
     ]
    },
    {
     "name": "stderr",
     "output_type": "stream",
     "text": [
      "100%|██████████| 19/19 [00:00<00:00, 6606.85it/s]"
     ]
    },
    {
     "name": "stdout",
     "output_type": "stream",
     "text": [
      "[=                                                 ] 3.19%"
     ]
    },
    {
     "name": "stderr",
     "output_type": "stream",
     "text": [
      "\n"
     ]
    },
    {
     "name": "stdout",
     "output_type": "stream",
     "text": [
      "\n",
      "Testing pipeline_2D_thr_0.2_norm_minmax_3_1 pipeline\n"
     ]
    },
    {
     "name": "stderr",
     "output_type": "stream",
     "text": [
      "100%|██████████| 19/19 [00:00<00:00, 4112.27it/s]"
     ]
    },
    {
     "name": "stdout",
     "output_type": "stream",
     "text": [
      "[=                                                 ] 3.26%"
     ]
    },
    {
     "name": "stderr",
     "output_type": "stream",
     "text": [
      "\n"
     ]
    },
    {
     "name": "stdout",
     "output_type": "stream",
     "text": [
      "\n",
      "Testing pipeline_2D_thr_0.2_norm_minmax_3_2 pipeline\n"
     ]
    },
    {
     "name": "stderr",
     "output_type": "stream",
     "text": [
      "100%|██████████| 19/19 [00:00<00:00, 5739.41it/s]"
     ]
    },
    {
     "name": "stdout",
     "output_type": "stream",
     "text": [
      "[=                                                 ] 3.32%"
     ]
    },
    {
     "name": "stderr",
     "output_type": "stream",
     "text": [
      "\n"
     ]
    },
    {
     "name": "stdout",
     "output_type": "stream",
     "text": [
      "\n",
      "Testing pipeline_2D_thr_0.2_norm_minmax_3_3 pipeline\n"
     ]
    },
    {
     "name": "stderr",
     "output_type": "stream",
     "text": [
      "100%|██████████| 19/19 [00:00<00:00, 3198.16it/s]"
     ]
    },
    {
     "name": "stdout",
     "output_type": "stream",
     "text": [
      "[=                                                 ] 3.39%"
     ]
    },
    {
     "name": "stderr",
     "output_type": "stream",
     "text": [
      "\n"
     ]
    },
    {
     "name": "stdout",
     "output_type": "stream",
     "text": [
      "\n",
      "Testing pipeline_2D_thr_0.2_norm_minmax_3_4 pipeline\n"
     ]
    },
    {
     "name": "stderr",
     "output_type": "stream",
     "text": [
      "100%|██████████| 19/19 [00:00<00:00, 4628.94it/s]"
     ]
    },
    {
     "name": "stdout",
     "output_type": "stream",
     "text": [
      "[=                                                 ] 3.45%"
     ]
    },
    {
     "name": "stderr",
     "output_type": "stream",
     "text": [
      "\n"
     ]
    },
    {
     "name": "stdout",
     "output_type": "stream",
     "text": [
      "\n",
      "Testing pipeline_2D_thr_0.2_norm_minmax_3_5 pipeline\n"
     ]
    },
    {
     "name": "stderr",
     "output_type": "stream",
     "text": [
      "100%|██████████| 19/19 [00:00<00:00, 4957.50it/s]"
     ]
    },
    {
     "name": "stdout",
     "output_type": "stream",
     "text": [
      "[=                                                 ] 3.52%"
     ]
    },
    {
     "name": "stderr",
     "output_type": "stream",
     "text": [
      "\n"
     ]
    },
    {
     "name": "stdout",
     "output_type": "stream",
     "text": [
      "\n",
      "Testing pipeline_2D_thr_0.2_norm_minmax_3_6 pipeline\n"
     ]
    },
    {
     "name": "stderr",
     "output_type": "stream",
     "text": [
      "100%|██████████| 19/19 [00:00<00:00, 5700.01it/s]"
     ]
    },
    {
     "name": "stdout",
     "output_type": "stream",
     "text": [
      "[=                                                 ] 3.58%"
     ]
    },
    {
     "name": "stderr",
     "output_type": "stream",
     "text": [
      "\n"
     ]
    },
    {
     "name": "stdout",
     "output_type": "stream",
     "text": [
      "\n",
      "Testing pipeline_2D_thr_0.2_norm_minmax_3_7 pipeline\n"
     ]
    },
    {
     "name": "stderr",
     "output_type": "stream",
     "text": [
      "100%|██████████| 19/19 [00:00<00:00, 4487.91it/s]"
     ]
    },
    {
     "name": "stdout",
     "output_type": "stream",
     "text": [
      "[=                                                 ] 3.65%"
     ]
    },
    {
     "name": "stderr",
     "output_type": "stream",
     "text": [
      "\n"
     ]
    },
    {
     "name": "stdout",
     "output_type": "stream",
     "text": [
      "\n",
      "Testing pipeline_2D_thr_0.2_norm_minmax_3_8 pipeline\n"
     ]
    },
    {
     "name": "stderr",
     "output_type": "stream",
     "text": [
      "100%|██████████| 19/19 [00:00<00:00, 6447.03it/s]"
     ]
    },
    {
     "name": "stdout",
     "output_type": "stream",
     "text": [
      "[=                                                 ] 3.71%"
     ]
    },
    {
     "name": "stderr",
     "output_type": "stream",
     "text": [
      "\n"
     ]
    },
    {
     "name": "stdout",
     "output_type": "stream",
     "text": [
      "\n",
      "Testing pipeline_2D_thr_0.2_norm_minmax_3_9 pipeline\n"
     ]
    },
    {
     "name": "stderr",
     "output_type": "stream",
     "text": [
      "100%|██████████| 19/19 [00:00<00:00, 5317.39it/s]"
     ]
    },
    {
     "name": "stdout",
     "output_type": "stream",
     "text": [
      "[=                                                 ] 3.78%"
     ]
    },
    {
     "name": "stderr",
     "output_type": "stream",
     "text": [
      "\n"
     ]
    },
    {
     "name": "stdout",
     "output_type": "stream",
     "text": [
      "\n",
      "Testing pipeline_2D_thr_0.2_norm_minmax_3_10 pipeline\n"
     ]
    },
    {
     "name": "stderr",
     "output_type": "stream",
     "text": [
      "100%|██████████| 19/19 [00:00<00:00, 6198.80it/s]"
     ]
    },
    {
     "name": "stdout",
     "output_type": "stream",
     "text": [
      "[=                                                 ] 3.84%"
     ]
    },
    {
     "name": "stderr",
     "output_type": "stream",
     "text": [
      "\n"
     ]
    },
    {
     "name": "stdout",
     "output_type": "stream",
     "text": [
      "\n",
      "Testing pipeline_2D_thr_0.2_norm_minmax_3_11 pipeline\n"
     ]
    },
    {
     "name": "stderr",
     "output_type": "stream",
     "text": [
      "100%|██████████| 19/19 [00:00<00:00, 5851.94it/s]"
     ]
    },
    {
     "name": "stdout",
     "output_type": "stream",
     "text": [
      "[=                                                 ] 3.91%"
     ]
    },
    {
     "name": "stderr",
     "output_type": "stream",
     "text": [
      "\n"
     ]
    },
    {
     "name": "stdout",
     "output_type": "stream",
     "text": [
      "\n",
      "Testing pipeline_2D_thr_0.2_norm_minmax_3_12 pipeline\n"
     ]
    },
    {
     "name": "stderr",
     "output_type": "stream",
     "text": [
      "100%|██████████| 19/19 [00:00<00:00, 6815.34it/s]"
     ]
    },
    {
     "name": "stdout",
     "output_type": "stream",
     "text": [
      "[=                                                 ] 3.97%"
     ]
    },
    {
     "name": "stderr",
     "output_type": "stream",
     "text": [
      "\n"
     ]
    },
    {
     "name": "stdout",
     "output_type": "stream",
     "text": [
      "\n",
      "Testing pipeline_2D_thr_0.2_norm_minmax_3_13 pipeline\n"
     ]
    },
    {
     "name": "stderr",
     "output_type": "stream",
     "text": [
      "100%|██████████| 19/19 [00:00<00:00, 6408.67it/s]"
     ]
    },
    {
     "name": "stdout",
     "output_type": "stream",
     "text": [
      "[==                                                ] 4.04%"
     ]
    },
    {
     "name": "stderr",
     "output_type": "stream",
     "text": [
      "\n"
     ]
    },
    {
     "name": "stdout",
     "output_type": "stream",
     "text": [
      "\n",
      "Testing pipeline_2D_thr_0.2_norm_minmax_3_14 pipeline\n"
     ]
    },
    {
     "name": "stderr",
     "output_type": "stream",
     "text": [
      "100%|██████████| 19/19 [00:00<00:00, 4886.37it/s]"
     ]
    },
    {
     "name": "stdout",
     "output_type": "stream",
     "text": [
      "[==                                                ] 4.10%"
     ]
    },
    {
     "name": "stderr",
     "output_type": "stream",
     "text": [
      "\n"
     ]
    },
    {
     "name": "stdout",
     "output_type": "stream",
     "text": [
      "\n",
      "Testing pipeline_2D_thr_0.2_norm_minmax_3_15 pipeline\n"
     ]
    },
    {
     "name": "stderr",
     "output_type": "stream",
     "text": [
      "100%|██████████| 19/19 [00:00<00:00, 6177.66it/s]"
     ]
    },
    {
     "name": "stdout",
     "output_type": "stream",
     "text": [
      "[==                                                ] 4.17%"
     ]
    },
    {
     "name": "stderr",
     "output_type": "stream",
     "text": [
      "\n"
     ]
    },
    {
     "name": "stdout",
     "output_type": "stream",
     "text": [
      "\n",
      "Testing pipeline_2D_thr_0.2_norm_percentile_0_0 pipeline\n"
     ]
    },
    {
     "name": "stderr",
     "output_type": "stream",
     "text": [
      "100%|██████████| 19/19 [00:00<00:00, 5757.66it/s]"
     ]
    },
    {
     "name": "stdout",
     "output_type": "stream",
     "text": [
      "[==                                                ] 4.23%"
     ]
    },
    {
     "name": "stderr",
     "output_type": "stream",
     "text": [
      "\n"
     ]
    },
    {
     "name": "stdout",
     "output_type": "stream",
     "text": [
      "\n",
      "Testing pipeline_2D_thr_0.2_norm_percentile_0_1 pipeline\n"
     ]
    },
    {
     "name": "stderr",
     "output_type": "stream",
     "text": [
      "100%|██████████| 19/19 [00:00<00:00, 6854.03it/s]"
     ]
    },
    {
     "name": "stdout",
     "output_type": "stream",
     "text": [
      "[==                                                ] 4.30%"
     ]
    },
    {
     "name": "stderr",
     "output_type": "stream",
     "text": [
      "\n"
     ]
    },
    {
     "name": "stdout",
     "output_type": "stream",
     "text": [
      "\n",
      "Testing pipeline_2D_thr_0.2_norm_percentile_0_2 pipeline\n"
     ]
    },
    {
     "name": "stderr",
     "output_type": "stream",
     "text": [
      "100%|██████████| 19/19 [00:00<00:00, 5719.23it/s]"
     ]
    },
    {
     "name": "stdout",
     "output_type": "stream",
     "text": [
      "[==                                                ] 4.36%"
     ]
    },
    {
     "name": "stderr",
     "output_type": "stream",
     "text": [
      "\n"
     ]
    },
    {
     "name": "stdout",
     "output_type": "stream",
     "text": [
      "\n",
      "Testing pipeline_2D_thr_0.2_norm_percentile_0_3 pipeline\n"
     ]
    },
    {
     "name": "stderr",
     "output_type": "stream",
     "text": [
      "100%|██████████| 19/19 [00:00<00:00, 7007.72it/s]"
     ]
    },
    {
     "name": "stdout",
     "output_type": "stream",
     "text": [
      "[==                                                ] 4.43%"
     ]
    },
    {
     "name": "stderr",
     "output_type": "stream",
     "text": [
      "\n"
     ]
    },
    {
     "name": "stdout",
     "output_type": "stream",
     "text": [
      "\n",
      "Testing pipeline_2D_thr_0.2_norm_percentile_0_4 pipeline\n"
     ]
    },
    {
     "name": "stderr",
     "output_type": "stream",
     "text": [
      "100%|██████████| 19/19 [00:00<00:00, 7250.64it/s]"
     ]
    },
    {
     "name": "stdout",
     "output_type": "stream",
     "text": [
      "[==                                                ] 4.49%"
     ]
    },
    {
     "name": "stderr",
     "output_type": "stream",
     "text": [
      "\n"
     ]
    },
    {
     "name": "stdout",
     "output_type": "stream",
     "text": [
      "\n",
      "Testing pipeline_2D_thr_0.2_norm_percentile_0_5 pipeline\n"
     ]
    },
    {
     "name": "stderr",
     "output_type": "stream",
     "text": [
      "100%|██████████| 19/19 [00:00<00:00, 5775.60it/s]"
     ]
    },
    {
     "name": "stdout",
     "output_type": "stream",
     "text": [
      "[==                                                ] 4.56%"
     ]
    },
    {
     "name": "stderr",
     "output_type": "stream",
     "text": [
      "\n"
     ]
    },
    {
     "name": "stdout",
     "output_type": "stream",
     "text": [
      "\n",
      "Testing pipeline_2D_thr_0.2_norm_percentile_0_6 pipeline\n"
     ]
    },
    {
     "name": "stderr",
     "output_type": "stream",
     "text": [
      "100%|██████████| 19/19 [00:00<00:00, 5875.24it/s]"
     ]
    },
    {
     "name": "stdout",
     "output_type": "stream",
     "text": [
      "[==                                                ] 4.62%"
     ]
    },
    {
     "name": "stderr",
     "output_type": "stream",
     "text": [
      "\n"
     ]
    },
    {
     "name": "stdout",
     "output_type": "stream",
     "text": [
      "\n",
      "Testing pipeline_2D_thr_0.2_norm_percentile_0_7 pipeline\n"
     ]
    },
    {
     "name": "stderr",
     "output_type": "stream",
     "text": [
      "100%|██████████| 19/19 [00:00<00:00, 6864.65it/s]"
     ]
    },
    {
     "name": "stdout",
     "output_type": "stream",
     "text": [
      "[==                                                ] 4.69%"
     ]
    },
    {
     "name": "stderr",
     "output_type": "stream",
     "text": [
      "\n"
     ]
    },
    {
     "name": "stdout",
     "output_type": "stream",
     "text": [
      "\n",
      "Testing pipeline_2D_thr_0.2_norm_percentile_0_8 pipeline\n"
     ]
    },
    {
     "name": "stderr",
     "output_type": "stream",
     "text": [
      "100%|██████████| 19/19 [00:00<00:00, 5407.97it/s]"
     ]
    },
    {
     "name": "stdout",
     "output_type": "stream",
     "text": [
      "[==                                                ] 4.75%"
     ]
    },
    {
     "name": "stderr",
     "output_type": "stream",
     "text": [
      "\n"
     ]
    },
    {
     "name": "stdout",
     "output_type": "stream",
     "text": [
      "\n",
      "Testing pipeline_2D_thr_0.2_norm_percentile_0_9 pipeline\n"
     ]
    },
    {
     "name": "stderr",
     "output_type": "stream",
     "text": [
      "100%|██████████| 19/19 [00:00<00:00, 7004.02it/s]"
     ]
    },
    {
     "name": "stdout",
     "output_type": "stream",
     "text": [
      "[==                                                ] 4.82%"
     ]
    },
    {
     "name": "stderr",
     "output_type": "stream",
     "text": [
      "\n"
     ]
    },
    {
     "name": "stdout",
     "output_type": "stream",
     "text": [
      "\n",
      "Testing pipeline_2D_thr_0.2_norm_percentile_0_10 pipeline\n"
     ]
    },
    {
     "name": "stderr",
     "output_type": "stream",
     "text": [
      "100%|██████████| 19/19 [00:00<00:00, 5363.92it/s]"
     ]
    },
    {
     "name": "stdout",
     "output_type": "stream",
     "text": [
      "[==                                                ] 4.88%"
     ]
    },
    {
     "name": "stderr",
     "output_type": "stream",
     "text": [
      "\n"
     ]
    },
    {
     "name": "stdout",
     "output_type": "stream",
     "text": [
      "\n",
      "Testing pipeline_2D_thr_0.2_norm_percentile_0_11 pipeline\n"
     ]
    },
    {
     "name": "stderr",
     "output_type": "stream",
     "text": [
      "100%|██████████| 19/19 [00:00<00:00, 6728.45it/s]"
     ]
    },
    {
     "name": "stdout",
     "output_type": "stream",
     "text": [
      "[==                                                ] 4.95%"
     ]
    },
    {
     "name": "stderr",
     "output_type": "stream",
     "text": [
      "\n"
     ]
    },
    {
     "name": "stdout",
     "output_type": "stream",
     "text": [
      "\n",
      "Testing pipeline_2D_thr_0.2_norm_percentile_0_12 pipeline\n"
     ]
    },
    {
     "name": "stderr",
     "output_type": "stream",
     "text": [
      "100%|██████████| 19/19 [00:00<00:00, 5937.84it/s]"
     ]
    },
    {
     "name": "stdout",
     "output_type": "stream",
     "text": [
      "[==                                                ] 5.01%"
     ]
    },
    {
     "name": "stderr",
     "output_type": "stream",
     "text": [
      "\n"
     ]
    },
    {
     "name": "stdout",
     "output_type": "stream",
     "text": [
      "\n",
      "Testing pipeline_2D_thr_0.2_norm_percentile_0_13 pipeline\n"
     ]
    },
    {
     "name": "stderr",
     "output_type": "stream",
     "text": [
      "100%|██████████| 19/19 [00:00<00:00, 6196.87it/s]"
     ]
    },
    {
     "name": "stdout",
     "output_type": "stream",
     "text": [
      "[==                                                ] 5.08%"
     ]
    },
    {
     "name": "stderr",
     "output_type": "stream",
     "text": [
      "\n"
     ]
    },
    {
     "name": "stdout",
     "output_type": "stream",
     "text": [
      "\n",
      "Testing pipeline_2D_thr_0.2_norm_percentile_0_14 pipeline\n"
     ]
    },
    {
     "name": "stderr",
     "output_type": "stream",
     "text": [
      "100%|██████████| 19/19 [00:00<00:00, 7285.77it/s]"
     ]
    },
    {
     "name": "stdout",
     "output_type": "stream",
     "text": [
      "[==                                                ] 5.14%"
     ]
    },
    {
     "name": "stderr",
     "output_type": "stream",
     "text": [
      "\n"
     ]
    },
    {
     "name": "stdout",
     "output_type": "stream",
     "text": [
      "\n",
      "Testing pipeline_2D_thr_0.2_norm_percentile_0_15 pipeline\n"
     ]
    },
    {
     "name": "stderr",
     "output_type": "stream",
     "text": [
      "100%|██████████| 19/19 [00:00<00:00, 5309.95it/s]"
     ]
    },
    {
     "name": "stdout",
     "output_type": "stream",
     "text": [
      "[==                                                ] 5.21%"
     ]
    },
    {
     "name": "stderr",
     "output_type": "stream",
     "text": [
      "\n"
     ]
    },
    {
     "name": "stdout",
     "output_type": "stream",
     "text": [
      "\n",
      "Testing pipeline_2D_thr_0.2_norm_percentile_1_0 pipeline\n"
     ]
    },
    {
     "name": "stderr",
     "output_type": "stream",
     "text": [
      "100%|██████████| 19/19 [00:00<00:00, 5956.04it/s]"
     ]
    },
    {
     "name": "stdout",
     "output_type": "stream",
     "text": [
      "[==                                                ] 5.27%"
     ]
    },
    {
     "name": "stderr",
     "output_type": "stream",
     "text": [
      "\n"
     ]
    },
    {
     "name": "stdout",
     "output_type": "stream",
     "text": [
      "\n",
      "Testing pipeline_2D_thr_0.2_norm_percentile_1_1 pipeline\n"
     ]
    },
    {
     "name": "stderr",
     "output_type": "stream",
     "text": [
      "100%|██████████| 19/19 [00:00<00:00, 5849.80it/s]"
     ]
    },
    {
     "name": "stdout",
     "output_type": "stream",
     "text": [
      "[==                                                ] 5.34%"
     ]
    },
    {
     "name": "stderr",
     "output_type": "stream",
     "text": [
      "\n"
     ]
    },
    {
     "name": "stdout",
     "output_type": "stream",
     "text": [
      "\n",
      "Testing pipeline_2D_thr_0.2_norm_percentile_1_2 pipeline\n"
     ]
    },
    {
     "name": "stderr",
     "output_type": "stream",
     "text": [
      "100%|██████████| 19/19 [00:00<00:00, 4909.55it/s]"
     ]
    },
    {
     "name": "stdout",
     "output_type": "stream",
     "text": [
      "[==                                                ] 5.40%"
     ]
    },
    {
     "name": "stderr",
     "output_type": "stream",
     "text": [
      "\n"
     ]
    },
    {
     "name": "stdout",
     "output_type": "stream",
     "text": [
      "\n",
      "Testing pipeline_2D_thr_0.2_norm_percentile_1_3 pipeline\n"
     ]
    },
    {
     "name": "stderr",
     "output_type": "stream",
     "text": [
      "100%|██████████| 19/19 [00:00<00:00, 6795.58it/s]"
     ]
    },
    {
     "name": "stdout",
     "output_type": "stream",
     "text": [
      "[==                                                ] 5.47%"
     ]
    },
    {
     "name": "stderr",
     "output_type": "stream",
     "text": [
      "\n"
     ]
    },
    {
     "name": "stdout",
     "output_type": "stream",
     "text": [
      "\n",
      "Testing pipeline_2D_thr_0.2_norm_percentile_1_4 pipeline\n"
     ]
    },
    {
     "name": "stderr",
     "output_type": "stream",
     "text": [
      "100%|██████████| 19/19 [00:00<00:00, 5135.77it/s]"
     ]
    },
    {
     "name": "stdout",
     "output_type": "stream",
     "text": [
      "[==                                                ] 5.53%"
     ]
    },
    {
     "name": "stderr",
     "output_type": "stream",
     "text": [
      "\n"
     ]
    },
    {
     "name": "stdout",
     "output_type": "stream",
     "text": [
      "\n",
      "Testing pipeline_2D_thr_0.2_norm_percentile_1_5 pipeline\n"
     ]
    },
    {
     "name": "stderr",
     "output_type": "stream",
     "text": [
      "100%|██████████| 19/19 [00:00<00:00, 6160.47it/s]"
     ]
    },
    {
     "name": "stdout",
     "output_type": "stream",
     "text": [
      "[==                                                ] 5.60%"
     ]
    },
    {
     "name": "stderr",
     "output_type": "stream",
     "text": [
      "\n"
     ]
    },
    {
     "name": "stdout",
     "output_type": "stream",
     "text": [
      "\n",
      "Testing pipeline_2D_thr_0.2_norm_percentile_1_6 pipeline\n"
     ]
    },
    {
     "name": "stderr",
     "output_type": "stream",
     "text": [
      "100%|██████████| 19/19 [00:00<00:00, 6237.13it/s]"
     ]
    },
    {
     "name": "stdout",
     "output_type": "stream",
     "text": [
      "[==                                                ] 5.66%"
     ]
    },
    {
     "name": "stderr",
     "output_type": "stream",
     "text": [
      "\n"
     ]
    },
    {
     "name": "stdout",
     "output_type": "stream",
     "text": [
      "\n",
      "Testing pipeline_2D_thr_0.2_norm_percentile_1_7 pipeline\n"
     ]
    },
    {
     "name": "stderr",
     "output_type": "stream",
     "text": [
      "100%|██████████| 19/19 [00:00<00:00, 4665.25it/s]"
     ]
    },
    {
     "name": "stdout",
     "output_type": "stream",
     "text": [
      "[==                                                ] 5.73%"
     ]
    },
    {
     "name": "stderr",
     "output_type": "stream",
     "text": [
      "\n"
     ]
    },
    {
     "name": "stdout",
     "output_type": "stream",
     "text": [
      "\n",
      "Testing pipeline_2D_thr_0.2_norm_percentile_1_8 pipeline\n"
     ]
    },
    {
     "name": "stderr",
     "output_type": "stream",
     "text": [
      "100%|██████████| 19/19 [00:00<00:00, 6249.36it/s]"
     ]
    },
    {
     "name": "stdout",
     "output_type": "stream",
     "text": [
      "[==                                                ] 5.79%"
     ]
    },
    {
     "name": "stderr",
     "output_type": "stream",
     "text": [
      "\n"
     ]
    },
    {
     "name": "stdout",
     "output_type": "stream",
     "text": [
      "\n",
      "Testing pipeline_2D_thr_0.2_norm_percentile_1_9 pipeline\n"
     ]
    },
    {
     "name": "stderr",
     "output_type": "stream",
     "text": [
      "100%|██████████| 19/19 [00:00<00:00, 5532.23it/s]"
     ]
    },
    {
     "name": "stdout",
     "output_type": "stream",
     "text": [
      "[==                                                ] 5.86%"
     ]
    },
    {
     "name": "stderr",
     "output_type": "stream",
     "text": [
      "\n"
     ]
    },
    {
     "name": "stdout",
     "output_type": "stream",
     "text": [
      "\n",
      "Testing pipeline_2D_thr_0.2_norm_percentile_1_10 pipeline\n"
     ]
    },
    {
     "name": "stderr",
     "output_type": "stream",
     "text": [
      "100%|██████████| 19/19 [00:00<00:00, 7475.08it/s]"
     ]
    },
    {
     "name": "stdout",
     "output_type": "stream",
     "text": [
      "[==                                                ] 5.92%"
     ]
    },
    {
     "name": "stderr",
     "output_type": "stream",
     "text": [
      "\n"
     ]
    },
    {
     "name": "stdout",
     "output_type": "stream",
     "text": [
      "\n",
      "Testing pipeline_2D_thr_0.2_norm_percentile_1_11 pipeline\n"
     ]
    },
    {
     "name": "stderr",
     "output_type": "stream",
     "text": [
      "100%|██████████| 19/19 [00:00<00:00, 6431.94it/s]"
     ]
    },
    {
     "name": "stdout",
     "output_type": "stream",
     "text": [
      "[==                                                ] 5.99%"
     ]
    },
    {
     "name": "stderr",
     "output_type": "stream",
     "text": [
      "\n"
     ]
    },
    {
     "name": "stdout",
     "output_type": "stream",
     "text": [
      "\n",
      "Testing pipeline_2D_thr_0.2_norm_percentile_1_12 pipeline\n"
     ]
    },
    {
     "name": "stderr",
     "output_type": "stream",
     "text": [
      "100%|██████████| 19/19 [00:00<00:00, 3969.50it/s]"
     ]
    },
    {
     "name": "stdout",
     "output_type": "stream",
     "text": [
      "[===                                               ] 6.05%"
     ]
    },
    {
     "name": "stderr",
     "output_type": "stream",
     "text": [
      "\n"
     ]
    },
    {
     "name": "stdout",
     "output_type": "stream",
     "text": [
      "\n",
      "Testing pipeline_2D_thr_0.2_norm_percentile_1_13 pipeline\n"
     ]
    },
    {
     "name": "stderr",
     "output_type": "stream",
     "text": [
      "100%|██████████| 19/19 [00:00<00:00, 5507.00it/s]"
     ]
    },
    {
     "name": "stdout",
     "output_type": "stream",
     "text": [
      "[===                                               ] 6.12%"
     ]
    },
    {
     "name": "stderr",
     "output_type": "stream",
     "text": [
      "\n"
     ]
    },
    {
     "name": "stdout",
     "output_type": "stream",
     "text": [
      "\n",
      "Testing pipeline_2D_thr_0.2_norm_percentile_1_14 pipeline\n"
     ]
    },
    {
     "name": "stderr",
     "output_type": "stream",
     "text": [
      "100%|██████████| 19/19 [00:00<00:00, 6664.86it/s]"
     ]
    },
    {
     "name": "stdout",
     "output_type": "stream",
     "text": [
      "[===                                               ] 6.18%"
     ]
    },
    {
     "name": "stderr",
     "output_type": "stream",
     "text": [
      "\n"
     ]
    },
    {
     "name": "stdout",
     "output_type": "stream",
     "text": [
      "\n",
      "Testing pipeline_2D_thr_0.2_norm_percentile_1_15 pipeline\n"
     ]
    },
    {
     "name": "stderr",
     "output_type": "stream",
     "text": [
      "100%|██████████| 19/19 [00:00<00:00, 5506.24it/s]"
     ]
    },
    {
     "name": "stdout",
     "output_type": "stream",
     "text": [
      "[===                                               ] 6.25%"
     ]
    },
    {
     "name": "stderr",
     "output_type": "stream",
     "text": [
      "\n"
     ]
    },
    {
     "name": "stdout",
     "output_type": "stream",
     "text": [
      "\n",
      "Testing pipeline_2D_thr_0.2_norm_percentile_2_0 pipeline\n"
     ]
    },
    {
     "name": "stderr",
     "output_type": "stream",
     "text": [
      "100%|██████████| 19/19 [00:00<00:00, 6888.39it/s]"
     ]
    },
    {
     "name": "stdout",
     "output_type": "stream",
     "text": [
      "[===                                               ] 6.32%"
     ]
    },
    {
     "name": "stderr",
     "output_type": "stream",
     "text": [
      "\n"
     ]
    },
    {
     "name": "stdout",
     "output_type": "stream",
     "text": [
      "\n",
      "Testing pipeline_2D_thr_0.2_norm_percentile_2_1 pipeline\n"
     ]
    },
    {
     "name": "stderr",
     "output_type": "stream",
     "text": [
      "100%|██████████| 19/19 [00:00<00:00, 5940.50it/s]"
     ]
    },
    {
     "name": "stdout",
     "output_type": "stream",
     "text": [
      "[===                                               ] 6.38%"
     ]
    },
    {
     "name": "stderr",
     "output_type": "stream",
     "text": [
      "\n"
     ]
    },
    {
     "name": "stdout",
     "output_type": "stream",
     "text": [
      "\n",
      "Testing pipeline_2D_thr_0.2_norm_percentile_2_2 pipeline\n"
     ]
    },
    {
     "name": "stderr",
     "output_type": "stream",
     "text": [
      "100%|██████████| 19/19 [00:00<00:00, 6486.39it/s]"
     ]
    },
    {
     "name": "stdout",
     "output_type": "stream",
     "text": [
      "[===                                               ] 6.45%"
     ]
    },
    {
     "name": "stderr",
     "output_type": "stream",
     "text": [
      "\n"
     ]
    },
    {
     "name": "stdout",
     "output_type": "stream",
     "text": [
      "\n",
      "Testing pipeline_2D_thr_0.2_norm_percentile_2_3 pipeline\n"
     ]
    },
    {
     "name": "stderr",
     "output_type": "stream",
     "text": [
      "100%|██████████| 19/19 [00:00<00:00, 6781.12it/s]"
     ]
    },
    {
     "name": "stdout",
     "output_type": "stream",
     "text": [
      "[===                                               ] 6.51%"
     ]
    },
    {
     "name": "stderr",
     "output_type": "stream",
     "text": [
      "\n"
     ]
    },
    {
     "name": "stdout",
     "output_type": "stream",
     "text": [
      "\n",
      "Testing pipeline_2D_thr_0.2_norm_percentile_2_4 pipeline\n"
     ]
    },
    {
     "name": "stderr",
     "output_type": "stream",
     "text": [
      "100%|██████████| 19/19 [00:00<00:00, 6873.54it/s]"
     ]
    },
    {
     "name": "stdout",
     "output_type": "stream",
     "text": [
      "[===                                               ] 6.58%"
     ]
    },
    {
     "name": "stderr",
     "output_type": "stream",
     "text": [
      "\n"
     ]
    },
    {
     "name": "stdout",
     "output_type": "stream",
     "text": [
      "\n",
      "Testing pipeline_2D_thr_0.2_norm_percentile_2_5 pipeline\n"
     ]
    },
    {
     "name": "stderr",
     "output_type": "stream",
     "text": [
      "100%|██████████| 19/19 [00:00<00:00, 5163.73it/s]"
     ]
    },
    {
     "name": "stdout",
     "output_type": "stream",
     "text": [
      "[===                                               ] 6.64%"
     ]
    },
    {
     "name": "stderr",
     "output_type": "stream",
     "text": [
      "\n"
     ]
    },
    {
     "name": "stdout",
     "output_type": "stream",
     "text": [
      "\n",
      "Testing pipeline_2D_thr_0.2_norm_percentile_2_6 pipeline\n"
     ]
    },
    {
     "name": "stderr",
     "output_type": "stream",
     "text": [
      "100%|██████████| 19/19 [00:00<00:00, 5427.12it/s]"
     ]
    },
    {
     "name": "stdout",
     "output_type": "stream",
     "text": [
      "[===                                               ] 6.71%"
     ]
    },
    {
     "name": "stderr",
     "output_type": "stream",
     "text": [
      "\n"
     ]
    },
    {
     "name": "stdout",
     "output_type": "stream",
     "text": [
      "\n",
      "Testing pipeline_2D_thr_0.2_norm_percentile_2_7 pipeline\n"
     ]
    },
    {
     "name": "stderr",
     "output_type": "stream",
     "text": [
      "100%|██████████| 19/19 [00:00<00:00, 5357.07it/s]"
     ]
    },
    {
     "name": "stdout",
     "output_type": "stream",
     "text": [
      "[===                                               ] 6.77%"
     ]
    },
    {
     "name": "stderr",
     "output_type": "stream",
     "text": [
      "\n"
     ]
    },
    {
     "name": "stdout",
     "output_type": "stream",
     "text": [
      "\n",
      "Testing pipeline_2D_thr_0.2_norm_percentile_2_8 pipeline\n"
     ]
    },
    {
     "name": "stderr",
     "output_type": "stream",
     "text": [
      "100%|██████████| 19/19 [00:00<00:00, 5756.00it/s]"
     ]
    },
    {
     "name": "stdout",
     "output_type": "stream",
     "text": [
      "[===                                               ] 6.84%"
     ]
    },
    {
     "name": "stderr",
     "output_type": "stream",
     "text": [
      "\n"
     ]
    },
    {
     "name": "stdout",
     "output_type": "stream",
     "text": [
      "\n",
      "Testing pipeline_2D_thr_0.2_norm_percentile_2_9 pipeline\n"
     ]
    },
    {
     "name": "stderr",
     "output_type": "stream",
     "text": [
      "100%|██████████| 19/19 [00:00<00:00, 7623.09it/s]"
     ]
    },
    {
     "name": "stdout",
     "output_type": "stream",
     "text": [
      "[===                                               ] 6.90%"
     ]
    },
    {
     "name": "stderr",
     "output_type": "stream",
     "text": [
      "\n"
     ]
    },
    {
     "name": "stdout",
     "output_type": "stream",
     "text": [
      "\n",
      "Testing pipeline_2D_thr_0.2_norm_percentile_2_10 pipeline\n"
     ]
    },
    {
     "name": "stderr",
     "output_type": "stream",
     "text": [
      "100%|██████████| 19/19 [00:00<00:00, 5691.05it/s]"
     ]
    },
    {
     "name": "stdout",
     "output_type": "stream",
     "text": [
      "[===                                               ] 6.97%"
     ]
    },
    {
     "name": "stderr",
     "output_type": "stream",
     "text": [
      "\n"
     ]
    },
    {
     "name": "stdout",
     "output_type": "stream",
     "text": [
      "\n",
      "Testing pipeline_2D_thr_0.2_norm_percentile_2_11 pipeline\n"
     ]
    },
    {
     "name": "stderr",
     "output_type": "stream",
     "text": [
      "100%|██████████| 19/19 [00:00<00:00, 5019.01it/s]"
     ]
    },
    {
     "name": "stdout",
     "output_type": "stream",
     "text": [
      "[===                                               ] 7.03%"
     ]
    },
    {
     "name": "stderr",
     "output_type": "stream",
     "text": [
      "\n"
     ]
    },
    {
     "name": "stdout",
     "output_type": "stream",
     "text": [
      "\n",
      "Testing pipeline_2D_thr_0.2_norm_percentile_2_12 pipeline\n"
     ]
    },
    {
     "name": "stderr",
     "output_type": "stream",
     "text": [
      "100%|██████████| 19/19 [00:00<00:00, 4639.45it/s]"
     ]
    },
    {
     "name": "stdout",
     "output_type": "stream",
     "text": [
      "[===                                               ] 7.10%"
     ]
    },
    {
     "name": "stderr",
     "output_type": "stream",
     "text": [
      "\n"
     ]
    },
    {
     "name": "stdout",
     "output_type": "stream",
     "text": [
      "\n",
      "Testing pipeline_2D_thr_0.2_norm_percentile_2_13 pipeline\n"
     ]
    },
    {
     "name": "stderr",
     "output_type": "stream",
     "text": [
      "100%|██████████| 19/19 [00:00<00:00, 4746.38it/s]"
     ]
    },
    {
     "name": "stdout",
     "output_type": "stream",
     "text": [
      "[===                                               ] 7.16%"
     ]
    },
    {
     "name": "stderr",
     "output_type": "stream",
     "text": [
      "\n"
     ]
    },
    {
     "name": "stdout",
     "output_type": "stream",
     "text": [
      "\n",
      "Testing pipeline_2D_thr_0.2_norm_percentile_2_14 pipeline\n"
     ]
    },
    {
     "name": "stderr",
     "output_type": "stream",
     "text": [
      "100%|██████████| 19/19 [00:00<00:00, 6035.43it/s]"
     ]
    },
    {
     "name": "stdout",
     "output_type": "stream",
     "text": [
      "[===                                               ] 7.23%"
     ]
    },
    {
     "name": "stderr",
     "output_type": "stream",
     "text": [
      "\n"
     ]
    },
    {
     "name": "stdout",
     "output_type": "stream",
     "text": [
      "\n",
      "Testing pipeline_2D_thr_0.2_norm_percentile_2_15 pipeline\n"
     ]
    },
    {
     "name": "stderr",
     "output_type": "stream",
     "text": [
      "100%|██████████| 19/19 [00:00<00:00, 6997.26it/s]"
     ]
    },
    {
     "name": "stdout",
     "output_type": "stream",
     "text": [
      "[===                                               ] 7.29%"
     ]
    },
    {
     "name": "stderr",
     "output_type": "stream",
     "text": [
      "\n"
     ]
    },
    {
     "name": "stdout",
     "output_type": "stream",
     "text": [
      "\n",
      "Testing pipeline_2D_thr_0.2_norm_percentile_3_0 pipeline\n"
     ]
    },
    {
     "name": "stderr",
     "output_type": "stream",
     "text": [
      "100%|██████████| 19/19 [00:00<00:00, 5833.52it/s]"
     ]
    },
    {
     "name": "stdout",
     "output_type": "stream",
     "text": [
      "[===                                               ] 7.36%"
     ]
    },
    {
     "name": "stderr",
     "output_type": "stream",
     "text": [
      "\n"
     ]
    },
    {
     "name": "stdout",
     "output_type": "stream",
     "text": [
      "\n",
      "Testing pipeline_2D_thr_0.2_norm_percentile_3_1 pipeline\n"
     ]
    },
    {
     "name": "stderr",
     "output_type": "stream",
     "text": [
      "100%|██████████| 19/19 [00:00<00:00, 5682.12it/s]"
     ]
    },
    {
     "name": "stdout",
     "output_type": "stream",
     "text": [
      "[===                                               ] 7.42%"
     ]
    },
    {
     "name": "stderr",
     "output_type": "stream",
     "text": [
      "\n"
     ]
    },
    {
     "name": "stdout",
     "output_type": "stream",
     "text": [
      "\n",
      "Testing pipeline_2D_thr_0.2_norm_percentile_3_2 pipeline\n"
     ]
    },
    {
     "name": "stderr",
     "output_type": "stream",
     "text": [
      "100%|██████████| 19/19 [00:00<00:00, 6858.75it/s]"
     ]
    },
    {
     "name": "stdout",
     "output_type": "stream",
     "text": [
      "[===                                               ] 7.49%"
     ]
    },
    {
     "name": "stderr",
     "output_type": "stream",
     "text": [
      "\n"
     ]
    },
    {
     "name": "stdout",
     "output_type": "stream",
     "text": [
      "\n",
      "Testing pipeline_2D_thr_0.2_norm_percentile_3_3 pipeline\n"
     ]
    },
    {
     "name": "stderr",
     "output_type": "stream",
     "text": [
      "100%|██████████| 19/19 [00:00<00:00, 6482.70it/s]"
     ]
    },
    {
     "name": "stdout",
     "output_type": "stream",
     "text": [
      "[===                                               ] 7.55%"
     ]
    },
    {
     "name": "stderr",
     "output_type": "stream",
     "text": [
      "\n"
     ]
    },
    {
     "name": "stdout",
     "output_type": "stream",
     "text": [
      "\n",
      "Testing pipeline_2D_thr_0.2_norm_percentile_3_4 pipeline\n"
     ]
    },
    {
     "name": "stderr",
     "output_type": "stream",
     "text": [
      "100%|██████████| 19/19 [00:00<00:00, 3027.00it/s]"
     ]
    },
    {
     "name": "stdout",
     "output_type": "stream",
     "text": [
      "[===                                               ] 7.62%"
     ]
    },
    {
     "name": "stderr",
     "output_type": "stream",
     "text": [
      "\n"
     ]
    },
    {
     "name": "stdout",
     "output_type": "stream",
     "text": [
      "\n",
      "Testing pipeline_2D_thr_0.2_norm_percentile_3_5 pipeline\n"
     ]
    },
    {
     "name": "stderr",
     "output_type": "stream",
     "text": [
      "100%|██████████| 19/19 [00:00<00:00, 5766.83it/s]"
     ]
    },
    {
     "name": "stdout",
     "output_type": "stream",
     "text": [
      "[===                                               ] 7.68%"
     ]
    },
    {
     "name": "stderr",
     "output_type": "stream",
     "text": [
      "\n"
     ]
    },
    {
     "name": "stdout",
     "output_type": "stream",
     "text": [
      "\n",
      "Testing pipeline_2D_thr_0.2_norm_percentile_3_6 pipeline\n"
     ]
    },
    {
     "name": "stderr",
     "output_type": "stream",
     "text": [
      "100%|██████████| 19/19 [00:00<00:00, 5973.45it/s]"
     ]
    },
    {
     "name": "stdout",
     "output_type": "stream",
     "text": [
      "[===                                               ] 7.75%"
     ]
    },
    {
     "name": "stderr",
     "output_type": "stream",
     "text": [
      "\n"
     ]
    },
    {
     "name": "stdout",
     "output_type": "stream",
     "text": [
      "\n",
      "Testing pipeline_2D_thr_0.2_norm_percentile_3_7 pipeline\n"
     ]
    },
    {
     "name": "stderr",
     "output_type": "stream",
     "text": [
      "100%|██████████| 19/19 [00:00<00:00, 2004.72it/s]"
     ]
    },
    {
     "name": "stdout",
     "output_type": "stream",
     "text": [
      "[===                                               ] 7.81%"
     ]
    },
    {
     "name": "stderr",
     "output_type": "stream",
     "text": [
      "\n"
     ]
    },
    {
     "name": "stdout",
     "output_type": "stream",
     "text": [
      "\n",
      "Testing pipeline_2D_thr_0.2_norm_percentile_3_8 pipeline\n"
     ]
    },
    {
     "name": "stderr",
     "output_type": "stream",
     "text": [
      "100%|██████████| 19/19 [00:00<00:00, 5583.00it/s]"
     ]
    },
    {
     "name": "stdout",
     "output_type": "stream",
     "text": [
      "[===                                               ] 7.88%"
     ]
    },
    {
     "name": "stderr",
     "output_type": "stream",
     "text": [
      "\n"
     ]
    },
    {
     "name": "stdout",
     "output_type": "stream",
     "text": [
      "\n",
      "Testing pipeline_2D_thr_0.2_norm_percentile_3_9 pipeline\n"
     ]
    },
    {
     "name": "stderr",
     "output_type": "stream",
     "text": [
      "100%|██████████| 19/19 [00:00<00:00, 5392.96it/s]"
     ]
    },
    {
     "name": "stdout",
     "output_type": "stream",
     "text": [
      "[===                                               ] 7.94%"
     ]
    },
    {
     "name": "stderr",
     "output_type": "stream",
     "text": [
      "\n"
     ]
    },
    {
     "name": "stdout",
     "output_type": "stream",
     "text": [
      "\n",
      "Testing pipeline_2D_thr_0.2_norm_percentile_3_10 pipeline\n"
     ]
    },
    {
     "name": "stderr",
     "output_type": "stream",
     "text": [
      "100%|██████████| 19/19 [00:00<00:00, 5336.62it/s]"
     ]
    },
    {
     "name": "stdout",
     "output_type": "stream",
     "text": [
      "[====                                              ] 8.01%"
     ]
    },
    {
     "name": "stderr",
     "output_type": "stream",
     "text": [
      "\n"
     ]
    },
    {
     "name": "stdout",
     "output_type": "stream",
     "text": [
      "\n",
      "Testing pipeline_2D_thr_0.2_norm_percentile_3_11 pipeline\n"
     ]
    },
    {
     "name": "stderr",
     "output_type": "stream",
     "text": [
      "100%|██████████| 19/19 [00:00<00:00, 6394.27it/s]"
     ]
    },
    {
     "name": "stdout",
     "output_type": "stream",
     "text": [
      "[====                                              ] 8.07%"
     ]
    },
    {
     "name": "stderr",
     "output_type": "stream",
     "text": [
      "\n"
     ]
    },
    {
     "name": "stdout",
     "output_type": "stream",
     "text": [
      "\n",
      "Testing pipeline_2D_thr_0.2_norm_percentile_3_12 pipeline\n"
     ]
    },
    {
     "name": "stderr",
     "output_type": "stream",
     "text": [
      "100%|██████████| 19/19 [00:00<00:00, 4109.73it/s]"
     ]
    },
    {
     "name": "stdout",
     "output_type": "stream",
     "text": [
      "[====                                              ] 8.14%"
     ]
    },
    {
     "name": "stderr",
     "output_type": "stream",
     "text": [
      "\n"
     ]
    },
    {
     "name": "stdout",
     "output_type": "stream",
     "text": [
      "\n",
      "Testing pipeline_2D_thr_0.2_norm_percentile_3_13 pipeline\n"
     ]
    },
    {
     "name": "stderr",
     "output_type": "stream",
     "text": [
      "100%|██████████| 19/19 [00:00<00:00, 5350.60it/s]"
     ]
    },
    {
     "name": "stdout",
     "output_type": "stream",
     "text": [
      "[====                                              ] 8.20%"
     ]
    },
    {
     "name": "stderr",
     "output_type": "stream",
     "text": [
      "\n"
     ]
    },
    {
     "name": "stdout",
     "output_type": "stream",
     "text": [
      "\n",
      "Testing pipeline_2D_thr_0.2_norm_percentile_3_14 pipeline\n"
     ]
    },
    {
     "name": "stderr",
     "output_type": "stream",
     "text": [
      "100%|██████████| 19/19 [00:00<00:00, 6768.45it/s]"
     ]
    },
    {
     "name": "stdout",
     "output_type": "stream",
     "text": [
      "[====                                              ] 8.27%"
     ]
    },
    {
     "name": "stderr",
     "output_type": "stream",
     "text": [
      "\n"
     ]
    },
    {
     "name": "stdout",
     "output_type": "stream",
     "text": [
      "\n",
      "Testing pipeline_2D_thr_0.2_norm_percentile_3_15 pipeline\n"
     ]
    },
    {
     "name": "stderr",
     "output_type": "stream",
     "text": [
      "100%|██████████| 19/19 [00:00<00:00, 5529.93it/s]"
     ]
    },
    {
     "name": "stdout",
     "output_type": "stream",
     "text": [
      "[====                                              ] 8.33%"
     ]
    },
    {
     "name": "stderr",
     "output_type": "stream",
     "text": [
      "\n"
     ]
    },
    {
     "name": "stdout",
     "output_type": "stream",
     "text": [
      "\n",
      "Testing pipeline_2D_thr_0.3_norm_minmax_0_0 pipeline\n"
     ]
    },
    {
     "name": "stderr",
     "output_type": "stream",
     "text": [
      "100%|██████████| 19/19 [00:00<00:00, 6624.97it/s]"
     ]
    },
    {
     "name": "stdout",
     "output_type": "stream",
     "text": [
      "[====                                              ] 8.40%"
     ]
    },
    {
     "name": "stderr",
     "output_type": "stream",
     "text": [
      "\n"
     ]
    },
    {
     "name": "stdout",
     "output_type": "stream",
     "text": [
      "\n",
      "Testing pipeline_2D_thr_0.3_norm_minmax_0_1 pipeline\n"
     ]
    },
    {
     "name": "stderr",
     "output_type": "stream",
     "text": [
      "100%|██████████| 19/19 [00:00<00:00, 6066.21it/s]"
     ]
    },
    {
     "name": "stdout",
     "output_type": "stream",
     "text": [
      "[====                                              ] 8.46%"
     ]
    },
    {
     "name": "stderr",
     "output_type": "stream",
     "text": [
      "\n"
     ]
    },
    {
     "name": "stdout",
     "output_type": "stream",
     "text": [
      "\n",
      "Testing pipeline_2D_thr_0.3_norm_minmax_0_2 pipeline\n"
     ]
    },
    {
     "name": "stderr",
     "output_type": "stream",
     "text": [
      "100%|██████████| 19/19 [00:00<00:00, 6650.96it/s]"
     ]
    },
    {
     "name": "stdout",
     "output_type": "stream",
     "text": [
      "[====                                              ] 8.53%"
     ]
    },
    {
     "name": "stderr",
     "output_type": "stream",
     "text": [
      "\n"
     ]
    },
    {
     "name": "stdout",
     "output_type": "stream",
     "text": [
      "\n",
      "Testing pipeline_2D_thr_0.3_norm_minmax_0_3 pipeline\n"
     ]
    },
    {
     "name": "stderr",
     "output_type": "stream",
     "text": [
      "100%|██████████| 19/19 [00:00<00:00, 6553.06it/s]"
     ]
    },
    {
     "name": "stdout",
     "output_type": "stream",
     "text": [
      "[====                                              ] 8.59%"
     ]
    },
    {
     "name": "stderr",
     "output_type": "stream",
     "text": [
      "\n"
     ]
    },
    {
     "name": "stdout",
     "output_type": "stream",
     "text": [
      "\n",
      "Testing pipeline_2D_thr_0.3_norm_minmax_0_4 pipeline\n"
     ]
    },
    {
     "name": "stderr",
     "output_type": "stream",
     "text": [
      "100%|██████████| 19/19 [00:00<00:00, 6479.01it/s]"
     ]
    },
    {
     "name": "stdout",
     "output_type": "stream",
     "text": [
      "[====                                              ] 8.66%"
     ]
    },
    {
     "name": "stderr",
     "output_type": "stream",
     "text": [
      "\n"
     ]
    },
    {
     "name": "stdout",
     "output_type": "stream",
     "text": [
      "\n",
      "Testing pipeline_2D_thr_0.3_norm_minmax_0_5 pipeline\n"
     ]
    },
    {
     "name": "stderr",
     "output_type": "stream",
     "text": [
      "100%|██████████| 19/19 [00:00<00:00, 7411.12it/s]"
     ]
    },
    {
     "name": "stdout",
     "output_type": "stream",
     "text": [
      "[====                                              ] 8.72%"
     ]
    },
    {
     "name": "stderr",
     "output_type": "stream",
     "text": [
      "\n"
     ]
    },
    {
     "name": "stdout",
     "output_type": "stream",
     "text": [
      "\n",
      "Testing pipeline_2D_thr_0.3_norm_minmax_0_6 pipeline\n"
     ]
    },
    {
     "name": "stderr",
     "output_type": "stream",
     "text": [
      "100%|██████████| 19/19 [00:00<00:00, 5882.61it/s]"
     ]
    },
    {
     "name": "stdout",
     "output_type": "stream",
     "text": [
      "[====                                              ] 8.79%"
     ]
    },
    {
     "name": "stderr",
     "output_type": "stream",
     "text": [
      "\n"
     ]
    },
    {
     "name": "stdout",
     "output_type": "stream",
     "text": [
      "\n",
      "Testing pipeline_2D_thr_0.3_norm_minmax_0_7 pipeline\n"
     ]
    },
    {
     "name": "stderr",
     "output_type": "stream",
     "text": [
      "100%|██████████| 19/19 [00:00<00:00, 6396.84it/s]"
     ]
    },
    {
     "name": "stdout",
     "output_type": "stream",
     "text": [
      "[====                                              ] 8.85%"
     ]
    },
    {
     "name": "stderr",
     "output_type": "stream",
     "text": [
      "\n"
     ]
    },
    {
     "name": "stdout",
     "output_type": "stream",
     "text": [
      "\n",
      "Testing pipeline_2D_thr_0.3_norm_minmax_0_8 pipeline\n"
     ]
    },
    {
     "name": "stderr",
     "output_type": "stream",
     "text": [
      "100%|██████████| 19/19 [00:00<00:00, 5301.83it/s]"
     ]
    },
    {
     "name": "stdout",
     "output_type": "stream",
     "text": [
      "[====                                              ] 8.92%"
     ]
    },
    {
     "name": "stderr",
     "output_type": "stream",
     "text": [
      "\n"
     ]
    },
    {
     "name": "stdout",
     "output_type": "stream",
     "text": [
      "\n",
      "Testing pipeline_2D_thr_0.3_norm_minmax_0_9 pipeline\n"
     ]
    },
    {
     "name": "stderr",
     "output_type": "stream",
     "text": [
      "100%|██████████| 19/19 [00:00<00:00, 5919.32it/s]"
     ]
    },
    {
     "name": "stdout",
     "output_type": "stream",
     "text": [
      "[====                                              ] 8.98%"
     ]
    },
    {
     "name": "stderr",
     "output_type": "stream",
     "text": [
      "\n"
     ]
    },
    {
     "name": "stdout",
     "output_type": "stream",
     "text": [
      "\n",
      "Testing pipeline_2D_thr_0.3_norm_minmax_0_10 pipeline\n"
     ]
    },
    {
     "name": "stderr",
     "output_type": "stream",
     "text": [
      "100%|██████████| 19/19 [00:00<00:00, 7619.45it/s]"
     ]
    },
    {
     "name": "stdout",
     "output_type": "stream",
     "text": [
      "[====                                              ] 9.05%"
     ]
    },
    {
     "name": "stderr",
     "output_type": "stream",
     "text": [
      "\n"
     ]
    },
    {
     "name": "stdout",
     "output_type": "stream",
     "text": [
      "\n",
      "Testing pipeline_2D_thr_0.3_norm_minmax_0_11 pipeline\n"
     ]
    },
    {
     "name": "stderr",
     "output_type": "stream",
     "text": [
      "100%|██████████| 19/19 [00:00<00:00, 6093.11it/s]"
     ]
    },
    {
     "name": "stdout",
     "output_type": "stream",
     "text": [
      "[====                                              ] 9.11%"
     ]
    },
    {
     "name": "stderr",
     "output_type": "stream",
     "text": [
      "\n"
     ]
    },
    {
     "name": "stdout",
     "output_type": "stream",
     "text": [
      "\n",
      "Testing pipeline_2D_thr_0.3_norm_minmax_0_12 pipeline\n"
     ]
    },
    {
     "name": "stderr",
     "output_type": "stream",
     "text": [
      "100%|██████████| 19/19 [00:00<00:00, 6702.98it/s]"
     ]
    },
    {
     "name": "stdout",
     "output_type": "stream",
     "text": [
      "[====                                              ] 9.18%"
     ]
    },
    {
     "name": "stderr",
     "output_type": "stream",
     "text": [
      "\n"
     ]
    },
    {
     "name": "stdout",
     "output_type": "stream",
     "text": [
      "\n",
      "Testing pipeline_2D_thr_0.3_norm_minmax_0_13 pipeline\n"
     ]
    },
    {
     "name": "stderr",
     "output_type": "stream",
     "text": [
      "100%|██████████| 19/19 [00:00<00:00, 6145.26it/s]"
     ]
    },
    {
     "name": "stdout",
     "output_type": "stream",
     "text": [
      "[====                                              ] 9.24%"
     ]
    },
    {
     "name": "stderr",
     "output_type": "stream",
     "text": [
      "\n"
     ]
    },
    {
     "name": "stdout",
     "output_type": "stream",
     "text": [
      "\n",
      "Testing pipeline_2D_thr_0.3_norm_minmax_0_14 pipeline\n"
     ]
    },
    {
     "name": "stderr",
     "output_type": "stream",
     "text": [
      "100%|██████████| 19/19 [00:00<00:00, 5735.70it/s]"
     ]
    },
    {
     "name": "stdout",
     "output_type": "stream",
     "text": [
      "[====                                              ] 9.31%"
     ]
    },
    {
     "name": "stderr",
     "output_type": "stream",
     "text": [
      "\n"
     ]
    },
    {
     "name": "stdout",
     "output_type": "stream",
     "text": [
      "\n",
      "Testing pipeline_2D_thr_0.3_norm_minmax_0_15 pipeline\n"
     ]
    },
    {
     "name": "stderr",
     "output_type": "stream",
     "text": [
      "100%|██████████| 19/19 [00:00<00:00, 5822.02it/s]"
     ]
    },
    {
     "name": "stdout",
     "output_type": "stream",
     "text": [
      "[====                                              ] 9.38%"
     ]
    },
    {
     "name": "stderr",
     "output_type": "stream",
     "text": [
      "\n"
     ]
    },
    {
     "name": "stdout",
     "output_type": "stream",
     "text": [
      "\n",
      "Testing pipeline_2D_thr_0.3_norm_minmax_1_0 pipeline\n"
     ]
    },
    {
     "name": "stderr",
     "output_type": "stream",
     "text": [
      "100%|██████████| 19/19 [00:00<00:00, 6924.30it/s]"
     ]
    },
    {
     "name": "stdout",
     "output_type": "stream",
     "text": [
      "[====                                              ] 9.44%"
     ]
    },
    {
     "name": "stderr",
     "output_type": "stream",
     "text": [
      "\n"
     ]
    },
    {
     "name": "stdout",
     "output_type": "stream",
     "text": [
      "\n",
      "Testing pipeline_2D_thr_0.3_norm_minmax_1_1 pipeline\n"
     ]
    },
    {
     "name": "stderr",
     "output_type": "stream",
     "text": [
      "100%|██████████| 19/19 [00:00<00:00, 6527.30it/s]"
     ]
    },
    {
     "name": "stdout",
     "output_type": "stream",
     "text": [
      "[====                                              ] 9.51%"
     ]
    },
    {
     "name": "stderr",
     "output_type": "stream",
     "text": [
      "\n"
     ]
    },
    {
     "name": "stdout",
     "output_type": "stream",
     "text": [
      "\n",
      "Testing pipeline_2D_thr_0.3_norm_minmax_1_2 pipeline\n"
     ]
    },
    {
     "name": "stderr",
     "output_type": "stream",
     "text": [
      "100%|██████████| 19/19 [00:00<00:00, 6486.92it/s]"
     ]
    },
    {
     "name": "stdout",
     "output_type": "stream",
     "text": [
      "[====                                              ] 9.57%"
     ]
    },
    {
     "name": "stderr",
     "output_type": "stream",
     "text": [
      "\n"
     ]
    },
    {
     "name": "stdout",
     "output_type": "stream",
     "text": [
      "\n",
      "Testing pipeline_2D_thr_0.3_norm_minmax_1_3 pipeline\n"
     ]
    },
    {
     "name": "stderr",
     "output_type": "stream",
     "text": [
      "100%|██████████| 19/19 [00:00<00:00, 5409.80it/s]"
     ]
    },
    {
     "name": "stdout",
     "output_type": "stream",
     "text": [
      "[====                                              ] 9.64%"
     ]
    },
    {
     "name": "stderr",
     "output_type": "stream",
     "text": [
      "\n"
     ]
    },
    {
     "name": "stdout",
     "output_type": "stream",
     "text": [
      "\n",
      "Testing pipeline_2D_thr_0.3_norm_minmax_1_4 pipeline\n"
     ]
    },
    {
     "name": "stderr",
     "output_type": "stream",
     "text": [
      "100%|██████████| 19/19 [00:00<00:00, 5512.33it/s]"
     ]
    },
    {
     "name": "stdout",
     "output_type": "stream",
     "text": [
      "[====                                              ] 9.70%"
     ]
    },
    {
     "name": "stderr",
     "output_type": "stream",
     "text": [
      "\n"
     ]
    },
    {
     "name": "stdout",
     "output_type": "stream",
     "text": [
      "\n",
      "Testing pipeline_2D_thr_0.3_norm_minmax_1_5 pipeline\n"
     ]
    },
    {
     "name": "stderr",
     "output_type": "stream",
     "text": [
      "100%|██████████| 19/19 [00:00<00:00, 6051.01it/s]"
     ]
    },
    {
     "name": "stdout",
     "output_type": "stream",
     "text": [
      "[====                                              ] 9.77%"
     ]
    },
    {
     "name": "stderr",
     "output_type": "stream",
     "text": [
      "\n"
     ]
    },
    {
     "name": "stdout",
     "output_type": "stream",
     "text": [
      "\n",
      "Testing pipeline_2D_thr_0.3_norm_minmax_1_6 pipeline\n"
     ]
    },
    {
     "name": "stderr",
     "output_type": "stream",
     "text": [
      "100%|██████████| 19/19 [00:00<00:00, 6623.87it/s]"
     ]
    },
    {
     "name": "stdout",
     "output_type": "stream",
     "text": [
      "[====                                              ] 9.83%"
     ]
    },
    {
     "name": "stderr",
     "output_type": "stream",
     "text": [
      "\n"
     ]
    },
    {
     "name": "stdout",
     "output_type": "stream",
     "text": [
      "\n",
      "Testing pipeline_2D_thr_0.3_norm_minmax_1_7 pipeline\n"
     ]
    },
    {
     "name": "stderr",
     "output_type": "stream",
     "text": [
      "100%|██████████| 19/19 [00:00<00:00, 6223.49it/s]"
     ]
    },
    {
     "name": "stdout",
     "output_type": "stream",
     "text": [
      "[====                                              ] 9.90%"
     ]
    },
    {
     "name": "stderr",
     "output_type": "stream",
     "text": [
      "\n"
     ]
    },
    {
     "name": "stdout",
     "output_type": "stream",
     "text": [
      "\n",
      "Testing pipeline_2D_thr_0.3_norm_minmax_1_8 pipeline\n"
     ]
    },
    {
     "name": "stderr",
     "output_type": "stream",
     "text": [
      "100%|██████████| 19/19 [00:00<00:00, 5957.82it/s]"
     ]
    },
    {
     "name": "stdout",
     "output_type": "stream",
     "text": [
      "[====                                              ] 9.96%"
     ]
    },
    {
     "name": "stderr",
     "output_type": "stream",
     "text": [
      "\n"
     ]
    },
    {
     "name": "stdout",
     "output_type": "stream",
     "text": [
      "\n",
      "Testing pipeline_2D_thr_0.3_norm_minmax_1_9 pipeline\n"
     ]
    },
    {
     "name": "stderr",
     "output_type": "stream",
     "text": [
      "100%|██████████| 19/19 [00:00<00:00, 5902.22it/s]"
     ]
    },
    {
     "name": "stdout",
     "output_type": "stream",
     "text": [
      "[=====                                             ] 10.03%"
     ]
    },
    {
     "name": "stderr",
     "output_type": "stream",
     "text": [
      "\n"
     ]
    },
    {
     "name": "stdout",
     "output_type": "stream",
     "text": [
      "\n",
      "Testing pipeline_2D_thr_0.3_norm_minmax_1_10 pipeline\n"
     ]
    },
    {
     "name": "stderr",
     "output_type": "stream",
     "text": [
      "100%|██████████| 19/19 [00:00<00:00, 6629.38it/s]"
     ]
    },
    {
     "name": "stdout",
     "output_type": "stream",
     "text": [
      "[=====                                             ] 10.09%"
     ]
    },
    {
     "name": "stderr",
     "output_type": "stream",
     "text": [
      "\n"
     ]
    },
    {
     "name": "stdout",
     "output_type": "stream",
     "text": [
      "\n",
      "Testing pipeline_2D_thr_0.3_norm_minmax_1_11 pipeline\n"
     ]
    },
    {
     "name": "stderr",
     "output_type": "stream",
     "text": [
      "100%|██████████| 19/19 [00:00<00:00, 5975.24it/s]"
     ]
    },
    {
     "name": "stdout",
     "output_type": "stream",
     "text": [
      "[=====                                             ] 10.16%"
     ]
    },
    {
     "name": "stderr",
     "output_type": "stream",
     "text": [
      "\n"
     ]
    },
    {
     "name": "stdout",
     "output_type": "stream",
     "text": [
      "\n",
      "Testing pipeline_2D_thr_0.3_norm_minmax_1_12 pipeline\n"
     ]
    },
    {
     "name": "stderr",
     "output_type": "stream",
     "text": [
      "100%|██████████| 19/19 [00:00<00:00, 5541.08it/s]"
     ]
    },
    {
     "name": "stdout",
     "output_type": "stream",
     "text": [
      "[=====                                             ] 10.22%"
     ]
    },
    {
     "name": "stderr",
     "output_type": "stream",
     "text": [
      "\n"
     ]
    },
    {
     "name": "stdout",
     "output_type": "stream",
     "text": [
      "\n",
      "Testing pipeline_2D_thr_0.3_norm_minmax_1_13 pipeline\n"
     ]
    },
    {
     "name": "stderr",
     "output_type": "stream",
     "text": [
      "100%|██████████| 19/19 [00:00<00:00, 6807.19it/s]"
     ]
    },
    {
     "name": "stdout",
     "output_type": "stream",
     "text": [
      "[=====                                             ] 10.29%"
     ]
    },
    {
     "name": "stderr",
     "output_type": "stream",
     "text": [
      "\n"
     ]
    },
    {
     "name": "stdout",
     "output_type": "stream",
     "text": [
      "\n",
      "Testing pipeline_2D_thr_0.3_norm_minmax_1_14 pipeline\n"
     ]
    },
    {
     "name": "stderr",
     "output_type": "stream",
     "text": [
      "100%|██████████| 19/19 [00:00<00:00, 5838.23it/s]"
     ]
    },
    {
     "name": "stdout",
     "output_type": "stream",
     "text": [
      "[=====                                             ] 10.35%"
     ]
    },
    {
     "name": "stderr",
     "output_type": "stream",
     "text": [
      "\n"
     ]
    },
    {
     "name": "stdout",
     "output_type": "stream",
     "text": [
      "\n",
      "Testing pipeline_2D_thr_0.3_norm_minmax_1_15 pipeline\n"
     ]
    },
    {
     "name": "stderr",
     "output_type": "stream",
     "text": [
      "100%|██████████| 19/19 [00:00<00:00, 4578.67it/s]"
     ]
    },
    {
     "name": "stdout",
     "output_type": "stream",
     "text": [
      "[=====                                             ] 10.42%"
     ]
    },
    {
     "name": "stderr",
     "output_type": "stream",
     "text": [
      "\n"
     ]
    },
    {
     "name": "stdout",
     "output_type": "stream",
     "text": [
      "\n",
      "Testing pipeline_2D_thr_0.3_norm_minmax_2_0 pipeline\n"
     ]
    },
    {
     "name": "stderr",
     "output_type": "stream",
     "text": [
      "100%|██████████| 19/19 [00:00<00:00, 5140.08it/s]"
     ]
    },
    {
     "name": "stdout",
     "output_type": "stream",
     "text": [
      "[=====                                             ] 10.48%"
     ]
    },
    {
     "name": "stderr",
     "output_type": "stream",
     "text": [
      "\n"
     ]
    },
    {
     "name": "stdout",
     "output_type": "stream",
     "text": [
      "\n",
      "Testing pipeline_2D_thr_0.3_norm_minmax_2_1 pipeline\n"
     ]
    },
    {
     "name": "stderr",
     "output_type": "stream",
     "text": [
      "100%|██████████| 19/19 [00:00<00:00, 6886.60it/s]"
     ]
    },
    {
     "name": "stdout",
     "output_type": "stream",
     "text": [
      "[=====                                             ] 10.55%"
     ]
    },
    {
     "name": "stderr",
     "output_type": "stream",
     "text": [
      "\n"
     ]
    },
    {
     "name": "stdout",
     "output_type": "stream",
     "text": [
      "\n",
      "Testing pipeline_2D_thr_0.3_norm_minmax_2_2 pipeline\n"
     ]
    },
    {
     "name": "stderr",
     "output_type": "stream",
     "text": [
      "100%|██████████| 19/19 [00:00<00:00, 4566.08it/s]"
     ]
    },
    {
     "name": "stdout",
     "output_type": "stream",
     "text": [
      "[=====                                             ] 10.61%"
     ]
    },
    {
     "name": "stderr",
     "output_type": "stream",
     "text": [
      "\n"
     ]
    },
    {
     "name": "stdout",
     "output_type": "stream",
     "text": [
      "\n",
      "Testing pipeline_2D_thr_0.3_norm_minmax_2_3 pipeline\n"
     ]
    },
    {
     "name": "stderr",
     "output_type": "stream",
     "text": [
      "100%|██████████| 19/19 [00:00<00:00, 5556.92it/s]"
     ]
    },
    {
     "name": "stdout",
     "output_type": "stream",
     "text": [
      "[=====                                             ] 10.68%"
     ]
    },
    {
     "name": "stderr",
     "output_type": "stream",
     "text": [
      "\n"
     ]
    },
    {
     "name": "stdout",
     "output_type": "stream",
     "text": [
      "\n",
      "Testing pipeline_2D_thr_0.3_norm_minmax_2_4 pipeline\n"
     ]
    },
    {
     "name": "stderr",
     "output_type": "stream",
     "text": [
      "100%|██████████| 19/19 [00:00<00:00, 6263.11it/s]"
     ]
    },
    {
     "name": "stdout",
     "output_type": "stream",
     "text": [
      "[=====                                             ] 10.74%"
     ]
    },
    {
     "name": "stderr",
     "output_type": "stream",
     "text": [
      "\n"
     ]
    },
    {
     "name": "stdout",
     "output_type": "stream",
     "text": [
      "\n",
      "Testing pipeline_2D_thr_0.3_norm_minmax_2_5 pipeline\n"
     ]
    },
    {
     "name": "stderr",
     "output_type": "stream",
     "text": [
      "100%|██████████| 19/19 [00:00<00:00, 5630.34it/s]"
     ]
    },
    {
     "name": "stdout",
     "output_type": "stream",
     "text": [
      "[=====                                             ] 10.81%"
     ]
    },
    {
     "name": "stderr",
     "output_type": "stream",
     "text": [
      "\n"
     ]
    },
    {
     "name": "stdout",
     "output_type": "stream",
     "text": [
      "\n",
      "Testing pipeline_2D_thr_0.3_norm_minmax_2_6 pipeline\n"
     ]
    },
    {
     "name": "stderr",
     "output_type": "stream",
     "text": [
      "100%|██████████| 19/19 [00:00<00:00, 6641.53it/s]"
     ]
    },
    {
     "name": "stdout",
     "output_type": "stream",
     "text": [
      "[=====                                             ] 10.87%"
     ]
    },
    {
     "name": "stderr",
     "output_type": "stream",
     "text": [
      "\n"
     ]
    },
    {
     "name": "stdout",
     "output_type": "stream",
     "text": [
      "\n",
      "Testing pipeline_2D_thr_0.3_norm_minmax_2_7 pipeline\n"
     ]
    },
    {
     "name": "stderr",
     "output_type": "stream",
     "text": [
      "100%|██████████| 19/19 [00:00<00:00, 5734.87it/s]"
     ]
    },
    {
     "name": "stdout",
     "output_type": "stream",
     "text": [
      "[=====                                             ] 10.94%"
     ]
    },
    {
     "name": "stderr",
     "output_type": "stream",
     "text": [
      "\n"
     ]
    },
    {
     "name": "stdout",
     "output_type": "stream",
     "text": [
      "\n",
      "Testing pipeline_2D_thr_0.3_norm_minmax_2_8 pipeline\n"
     ]
    },
    {
     "name": "stderr",
     "output_type": "stream",
     "text": [
      "100%|██████████| 19/19 [00:00<00:00, 5815.64it/s]"
     ]
    },
    {
     "name": "stdout",
     "output_type": "stream",
     "text": [
      "[=====                                             ] 11.00%"
     ]
    },
    {
     "name": "stderr",
     "output_type": "stream",
     "text": [
      "\n"
     ]
    },
    {
     "name": "stdout",
     "output_type": "stream",
     "text": [
      "\n",
      "Testing pipeline_2D_thr_0.3_norm_minmax_2_9 pipeline\n"
     ]
    },
    {
     "name": "stderr",
     "output_type": "stream",
     "text": [
      "100%|██████████| 19/19 [00:00<00:00, 6518.75it/s]"
     ]
    },
    {
     "name": "stdout",
     "output_type": "stream",
     "text": [
      "[=====                                             ] 11.07%"
     ]
    },
    {
     "name": "stderr",
     "output_type": "stream",
     "text": [
      "\n"
     ]
    },
    {
     "name": "stdout",
     "output_type": "stream",
     "text": [
      "\n",
      "Testing pipeline_2D_thr_0.3_norm_minmax_2_10 pipeline\n"
     ]
    },
    {
     "name": "stderr",
     "output_type": "stream",
     "text": [
      "100%|██████████| 19/19 [00:00<00:00, 7154.94it/s]"
     ]
    },
    {
     "name": "stdout",
     "output_type": "stream",
     "text": [
      "[=====                                             ] 11.13%"
     ]
    },
    {
     "name": "stderr",
     "output_type": "stream",
     "text": [
      "\n"
     ]
    },
    {
     "name": "stdout",
     "output_type": "stream",
     "text": [
      "\n",
      "Testing pipeline_2D_thr_0.3_norm_minmax_2_11 pipeline\n"
     ]
    },
    {
     "name": "stderr",
     "output_type": "stream",
     "text": [
      "100%|██████████| 19/19 [00:00<00:00, 4284.50it/s]"
     ]
    },
    {
     "name": "stdout",
     "output_type": "stream",
     "text": [
      "[=====                                             ] 11.20%"
     ]
    },
    {
     "name": "stderr",
     "output_type": "stream",
     "text": [
      "\n"
     ]
    },
    {
     "name": "stdout",
     "output_type": "stream",
     "text": [
      "\n",
      "Testing pipeline_2D_thr_0.3_norm_minmax_2_12 pipeline\n"
     ]
    },
    {
     "name": "stderr",
     "output_type": "stream",
     "text": [
      "100%|██████████| 19/19 [00:00<00:00, 7289.77it/s]"
     ]
    },
    {
     "name": "stdout",
     "output_type": "stream",
     "text": [
      "[=====                                             ] 11.26%"
     ]
    },
    {
     "name": "stderr",
     "output_type": "stream",
     "text": [
      "\n"
     ]
    },
    {
     "name": "stdout",
     "output_type": "stream",
     "text": [
      "\n",
      "Testing pipeline_2D_thr_0.3_norm_minmax_2_13 pipeline\n"
     ]
    },
    {
     "name": "stderr",
     "output_type": "stream",
     "text": [
      "100%|██████████| 19/19 [00:00<00:00, 6665.98it/s]"
     ]
    },
    {
     "name": "stdout",
     "output_type": "stream",
     "text": [
      "[=====                                             ] 11.33%"
     ]
    },
    {
     "name": "stderr",
     "output_type": "stream",
     "text": [
      "\n"
     ]
    },
    {
     "name": "stdout",
     "output_type": "stream",
     "text": [
      "\n",
      "Testing pipeline_2D_thr_0.3_norm_minmax_2_14 pipeline\n"
     ]
    },
    {
     "name": "stderr",
     "output_type": "stream",
     "text": [
      "100%|██████████| 19/19 [00:00<00:00, 7287.77it/s]"
     ]
    },
    {
     "name": "stdout",
     "output_type": "stream",
     "text": [
      "[=====                                             ] 11.39%"
     ]
    },
    {
     "name": "stderr",
     "output_type": "stream",
     "text": [
      "\n"
     ]
    },
    {
     "name": "stdout",
     "output_type": "stream",
     "text": [
      "\n",
      "Testing pipeline_2D_thr_0.3_norm_minmax_2_15 pipeline\n"
     ]
    },
    {
     "name": "stderr",
     "output_type": "stream",
     "text": [
      "100%|██████████| 19/19 [00:00<00:00, 5580.66it/s]"
     ]
    },
    {
     "name": "stdout",
     "output_type": "stream",
     "text": [
      "[=====                                             ] 11.46%"
     ]
    },
    {
     "name": "stderr",
     "output_type": "stream",
     "text": [
      "\n"
     ]
    },
    {
     "name": "stdout",
     "output_type": "stream",
     "text": [
      "\n",
      "Testing pipeline_2D_thr_0.3_norm_minmax_3_0 pipeline\n"
     ]
    },
    {
     "name": "stderr",
     "output_type": "stream",
     "text": [
      "100%|██████████| 19/19 [00:00<00:00, 6719.37it/s]"
     ]
    },
    {
     "name": "stdout",
     "output_type": "stream",
     "text": [
      "[=====                                             ] 11.52%"
     ]
    },
    {
     "name": "stderr",
     "output_type": "stream",
     "text": [
      "\n"
     ]
    },
    {
     "name": "stdout",
     "output_type": "stream",
     "text": [
      "\n",
      "Testing pipeline_2D_thr_0.3_norm_minmax_3_1 pipeline\n"
     ]
    },
    {
     "name": "stderr",
     "output_type": "stream",
     "text": [
      "100%|██████████| 19/19 [00:00<00:00, 5320.23it/s]"
     ]
    },
    {
     "name": "stdout",
     "output_type": "stream",
     "text": [
      "[=====                                             ] 11.59%"
     ]
    },
    {
     "name": "stderr",
     "output_type": "stream",
     "text": [
      "\n"
     ]
    },
    {
     "name": "stdout",
     "output_type": "stream",
     "text": [
      "\n",
      "Testing pipeline_2D_thr_0.3_norm_minmax_3_2 pipeline\n"
     ]
    },
    {
     "name": "stderr",
     "output_type": "stream",
     "text": [
      "100%|██████████| 19/19 [00:00<00:00, 6135.33it/s]"
     ]
    },
    {
     "name": "stdout",
     "output_type": "stream",
     "text": [
      "[=====                                             ] 11.65%"
     ]
    },
    {
     "name": "stderr",
     "output_type": "stream",
     "text": [
      "\n"
     ]
    },
    {
     "name": "stdout",
     "output_type": "stream",
     "text": [
      "\n",
      "Testing pipeline_2D_thr_0.3_norm_minmax_3_3 pipeline\n"
     ]
    },
    {
     "name": "stderr",
     "output_type": "stream",
     "text": [
      "100%|██████████| 19/19 [00:00<00:00, 6153.81it/s]"
     ]
    },
    {
     "name": "stdout",
     "output_type": "stream",
     "text": [
      "[=====                                             ] 11.72%"
     ]
    },
    {
     "name": "stderr",
     "output_type": "stream",
     "text": [
      "\n"
     ]
    },
    {
     "name": "stdout",
     "output_type": "stream",
     "text": [
      "\n",
      "Testing pipeline_2D_thr_0.3_norm_minmax_3_4 pipeline\n"
     ]
    },
    {
     "name": "stderr",
     "output_type": "stream",
     "text": [
      "100%|██████████| 19/19 [00:00<00:00, 5201.81it/s]"
     ]
    },
    {
     "name": "stdout",
     "output_type": "stream",
     "text": [
      "[=====                                             ] 11.78%"
     ]
    },
    {
     "name": "stderr",
     "output_type": "stream",
     "text": [
      "\n"
     ]
    },
    {
     "name": "stdout",
     "output_type": "stream",
     "text": [
      "\n",
      "Testing pipeline_2D_thr_0.3_norm_minmax_3_5 pipeline\n"
     ]
    },
    {
     "name": "stderr",
     "output_type": "stream",
     "text": [
      "100%|██████████| 19/19 [00:00<00:00, 5606.96it/s]"
     ]
    },
    {
     "name": "stdout",
     "output_type": "stream",
     "text": [
      "[=====                                             ] 11.85%"
     ]
    },
    {
     "name": "stderr",
     "output_type": "stream",
     "text": [
      "\n"
     ]
    },
    {
     "name": "stdout",
     "output_type": "stream",
     "text": [
      "\n",
      "Testing pipeline_2D_thr_0.3_norm_minmax_3_6 pipeline\n"
     ]
    },
    {
     "name": "stderr",
     "output_type": "stream",
     "text": [
      "100%|██████████| 19/19 [00:00<00:00, 5821.17it/s]"
     ]
    },
    {
     "name": "stdout",
     "output_type": "stream",
     "text": [
      "[=====                                             ] 11.91%"
     ]
    },
    {
     "name": "stderr",
     "output_type": "stream",
     "text": [
      "\n"
     ]
    },
    {
     "name": "stdout",
     "output_type": "stream",
     "text": [
      "\n",
      "Testing pipeline_2D_thr_0.3_norm_minmax_3_7 pipeline\n"
     ]
    },
    {
     "name": "stderr",
     "output_type": "stream",
     "text": [
      "100%|██████████| 19/19 [00:00<00:00, 4096.42it/s]"
     ]
    },
    {
     "name": "stdout",
     "output_type": "stream",
     "text": [
      "[=====                                             ] 11.98%"
     ]
    },
    {
     "name": "stderr",
     "output_type": "stream",
     "text": [
      "\n"
     ]
    },
    {
     "name": "stdout",
     "output_type": "stream",
     "text": [
      "\n",
      "Testing pipeline_2D_thr_0.3_norm_minmax_3_8 pipeline\n"
     ]
    },
    {
     "name": "stderr",
     "output_type": "stream",
     "text": [
      "100%|██████████| 19/19 [00:00<00:00, 4349.04it/s]"
     ]
    },
    {
     "name": "stdout",
     "output_type": "stream",
     "text": [
      "[======                                            ] 12.04%"
     ]
    },
    {
     "name": "stderr",
     "output_type": "stream",
     "text": [
      "\n"
     ]
    },
    {
     "name": "stdout",
     "output_type": "stream",
     "text": [
      "\n",
      "Testing pipeline_2D_thr_0.3_norm_minmax_3_9 pipeline\n"
     ]
    },
    {
     "name": "stderr",
     "output_type": "stream",
     "text": [
      "100%|██████████| 19/19 [00:00<00:00, 4750.63it/s]"
     ]
    },
    {
     "name": "stdout",
     "output_type": "stream",
     "text": [
      "[======                                            ] 12.11%"
     ]
    },
    {
     "name": "stderr",
     "output_type": "stream",
     "text": [
      "\n"
     ]
    },
    {
     "name": "stdout",
     "output_type": "stream",
     "text": [
      "\n",
      "Testing pipeline_2D_thr_0.3_norm_minmax_3_10 pipeline\n"
     ]
    },
    {
     "name": "stderr",
     "output_type": "stream",
     "text": [
      "100%|██████████| 19/19 [00:00<00:00, 7047.38it/s]"
     ]
    },
    {
     "name": "stdout",
     "output_type": "stream",
     "text": [
      "[======                                            ] 12.17%"
     ]
    },
    {
     "name": "stderr",
     "output_type": "stream",
     "text": [
      "\n"
     ]
    },
    {
     "name": "stdout",
     "output_type": "stream",
     "text": [
      "\n",
      "Testing pipeline_2D_thr_0.3_norm_minmax_3_11 pipeline\n"
     ]
    },
    {
     "name": "stderr",
     "output_type": "stream",
     "text": [
      "100%|██████████| 19/19 [00:00<00:00, 6283.35it/s]"
     ]
    },
    {
     "name": "stdout",
     "output_type": "stream",
     "text": [
      "[======                                            ] 12.24%"
     ]
    },
    {
     "name": "stderr",
     "output_type": "stream",
     "text": [
      "\n"
     ]
    },
    {
     "name": "stdout",
     "output_type": "stream",
     "text": [
      "\n",
      "Testing pipeline_2D_thr_0.3_norm_minmax_3_12 pipeline\n"
     ]
    },
    {
     "name": "stderr",
     "output_type": "stream",
     "text": [
      "100%|██████████| 19/19 [00:00<00:00, 6101.97it/s]"
     ]
    },
    {
     "name": "stdout",
     "output_type": "stream",
     "text": [
      "[======                                            ] 12.30%"
     ]
    },
    {
     "name": "stderr",
     "output_type": "stream",
     "text": [
      "\n"
     ]
    },
    {
     "name": "stdout",
     "output_type": "stream",
     "text": [
      "\n",
      "Testing pipeline_2D_thr_0.3_norm_minmax_3_13 pipeline\n"
     ]
    },
    {
     "name": "stderr",
     "output_type": "stream",
     "text": [
      "100%|██████████| 19/19 [00:00<00:00, 6078.24it/s]"
     ]
    },
    {
     "name": "stdout",
     "output_type": "stream",
     "text": [
      "[======                                            ] 12.37%"
     ]
    },
    {
     "name": "stderr",
     "output_type": "stream",
     "text": [
      "\n"
     ]
    },
    {
     "name": "stdout",
     "output_type": "stream",
     "text": [
      "\n",
      "Testing pipeline_2D_thr_0.3_norm_minmax_3_14 pipeline\n"
     ]
    },
    {
     "name": "stderr",
     "output_type": "stream",
     "text": [
      "100%|██████████| 19/19 [00:00<00:00, 6329.77it/s]"
     ]
    },
    {
     "name": "stdout",
     "output_type": "stream",
     "text": [
      "[======                                            ] 12.43%"
     ]
    },
    {
     "name": "stderr",
     "output_type": "stream",
     "text": [
      "\n"
     ]
    },
    {
     "name": "stdout",
     "output_type": "stream",
     "text": [
      "\n",
      "Testing pipeline_2D_thr_0.3_norm_minmax_3_15 pipeline\n"
     ]
    },
    {
     "name": "stderr",
     "output_type": "stream",
     "text": [
      "100%|██████████| 19/19 [00:00<00:00, 6270.50it/s]"
     ]
    },
    {
     "name": "stdout",
     "output_type": "stream",
     "text": [
      "[======                                            ] 12.50%"
     ]
    },
    {
     "name": "stderr",
     "output_type": "stream",
     "text": [
      "\n"
     ]
    },
    {
     "name": "stdout",
     "output_type": "stream",
     "text": [
      "\n",
      "Testing pipeline_2D_thr_0.3_norm_percentile_0_0 pipeline\n"
     ]
    },
    {
     "name": "stderr",
     "output_type": "stream",
     "text": [
      "100%|██████████| 19/19 [00:00<00:00, 6183.89it/s]"
     ]
    },
    {
     "name": "stdout",
     "output_type": "stream",
     "text": [
      "[======                                            ] 12.57%"
     ]
    },
    {
     "name": "stderr",
     "output_type": "stream",
     "text": [
      "\n"
     ]
    },
    {
     "name": "stdout",
     "output_type": "stream",
     "text": [
      "\n",
      "Testing pipeline_2D_thr_0.3_norm_percentile_0_1 pipeline\n"
     ]
    },
    {
     "name": "stderr",
     "output_type": "stream",
     "text": [
      "100%|██████████| 19/19 [00:00<00:00, 6541.23it/s]"
     ]
    },
    {
     "name": "stdout",
     "output_type": "stream",
     "text": [
      "[======                                            ] 12.63%"
     ]
    },
    {
     "name": "stderr",
     "output_type": "stream",
     "text": [
      "\n"
     ]
    },
    {
     "name": "stdout",
     "output_type": "stream",
     "text": [
      "\n",
      "Testing pipeline_2D_thr_0.3_norm_percentile_0_2 pipeline\n"
     ]
    },
    {
     "name": "stderr",
     "output_type": "stream",
     "text": [
      "100%|██████████| 19/19 [00:00<00:00, 5989.61it/s]"
     ]
    },
    {
     "name": "stdout",
     "output_type": "stream",
     "text": [
      "[======                                            ] 12.70%"
     ]
    },
    {
     "name": "stderr",
     "output_type": "stream",
     "text": [
      "\n"
     ]
    },
    {
     "name": "stdout",
     "output_type": "stream",
     "text": [
      "\n",
      "Testing pipeline_2D_thr_0.3_norm_percentile_0_3 pipeline\n"
     ]
    },
    {
     "name": "stderr",
     "output_type": "stream",
     "text": [
      "100%|██████████| 19/19 [00:00<00:00, 6540.69it/s]"
     ]
    },
    {
     "name": "stdout",
     "output_type": "stream",
     "text": [
      "[======                                            ] 12.76%"
     ]
    },
    {
     "name": "stderr",
     "output_type": "stream",
     "text": [
      "\n"
     ]
    },
    {
     "name": "stdout",
     "output_type": "stream",
     "text": [
      "\n",
      "Testing pipeline_2D_thr_0.3_norm_percentile_0_4 pipeline\n"
     ]
    },
    {
     "name": "stderr",
     "output_type": "stream",
     "text": [
      "100%|██████████| 19/19 [00:00<00:00, 5861.84it/s]"
     ]
    },
    {
     "name": "stdout",
     "output_type": "stream",
     "text": [
      "[======                                            ] 12.83%"
     ]
    },
    {
     "name": "stderr",
     "output_type": "stream",
     "text": [
      "\n"
     ]
    },
    {
     "name": "stdout",
     "output_type": "stream",
     "text": [
      "\n",
      "Testing pipeline_2D_thr_0.3_norm_percentile_0_5 pipeline\n"
     ]
    },
    {
     "name": "stderr",
     "output_type": "stream",
     "text": [
      "100%|██████████| 19/19 [00:00<00:00, 4110.79it/s]"
     ]
    },
    {
     "name": "stdout",
     "output_type": "stream",
     "text": [
      "[======                                            ] 12.89%"
     ]
    },
    {
     "name": "stderr",
     "output_type": "stream",
     "text": [
      "\n"
     ]
    },
    {
     "name": "stdout",
     "output_type": "stream",
     "text": [
      "\n",
      "Testing pipeline_2D_thr_0.3_norm_percentile_0_6 pipeline\n"
     ]
    },
    {
     "name": "stderr",
     "output_type": "stream",
     "text": [
      "100%|██████████| 19/19 [00:00<00:00, 7717.58it/s]"
     ]
    },
    {
     "name": "stdout",
     "output_type": "stream",
     "text": [
      "[======                                            ] 12.96%"
     ]
    },
    {
     "name": "stderr",
     "output_type": "stream",
     "text": [
      "\n"
     ]
    },
    {
     "name": "stdout",
     "output_type": "stream",
     "text": [
      "\n",
      "Testing pipeline_2D_thr_0.3_norm_percentile_0_7 pipeline\n"
     ]
    },
    {
     "name": "stderr",
     "output_type": "stream",
     "text": [
      "100%|██████████| 19/19 [00:00<00:00, 7152.38it/s]"
     ]
    },
    {
     "name": "stdout",
     "output_type": "stream",
     "text": [
      "[======                                            ] 13.02%"
     ]
    },
    {
     "name": "stderr",
     "output_type": "stream",
     "text": [
      "\n"
     ]
    },
    {
     "name": "stdout",
     "output_type": "stream",
     "text": [
      "\n",
      "Testing pipeline_2D_thr_0.3_norm_percentile_0_8 pipeline\n"
     ]
    },
    {
     "name": "stderr",
     "output_type": "stream",
     "text": [
      "100%|██████████| 19/19 [00:00<00:00, 6003.15it/s]"
     ]
    },
    {
     "name": "stdout",
     "output_type": "stream",
     "text": [
      "[======                                            ] 13.09%"
     ]
    },
    {
     "name": "stderr",
     "output_type": "stream",
     "text": [
      "\n"
     ]
    },
    {
     "name": "stdout",
     "output_type": "stream",
     "text": [
      "\n",
      "Testing pipeline_2D_thr_0.3_norm_percentile_0_9 pipeline\n"
     ]
    },
    {
     "name": "stderr",
     "output_type": "stream",
     "text": [
      "100%|██████████| 19/19 [00:00<00:00, 7046.76it/s]"
     ]
    },
    {
     "name": "stdout",
     "output_type": "stream",
     "text": [
      "[======                                            ] 13.15%"
     ]
    },
    {
     "name": "stderr",
     "output_type": "stream",
     "text": [
      "\n"
     ]
    },
    {
     "name": "stdout",
     "output_type": "stream",
     "text": [
      "\n",
      "Testing pipeline_2D_thr_0.3_norm_percentile_0_10 pipeline\n"
     ]
    },
    {
     "name": "stderr",
     "output_type": "stream",
     "text": [
      "100%|██████████| 19/19 [00:00<00:00, 5207.93it/s]"
     ]
    },
    {
     "name": "stdout",
     "output_type": "stream",
     "text": [
      "[======                                            ] 13.22%"
     ]
    },
    {
     "name": "stderr",
     "output_type": "stream",
     "text": [
      "\n"
     ]
    },
    {
     "name": "stdout",
     "output_type": "stream",
     "text": [
      "\n",
      "Testing pipeline_2D_thr_0.3_norm_percentile_0_11 pipeline\n"
     ]
    },
    {
     "name": "stderr",
     "output_type": "stream",
     "text": [
      "100%|██████████| 19/19 [00:00<00:00, 4313.26it/s]"
     ]
    },
    {
     "name": "stdout",
     "output_type": "stream",
     "text": [
      "[======                                            ] 13.28%"
     ]
    },
    {
     "name": "stderr",
     "output_type": "stream",
     "text": [
      "\n"
     ]
    },
    {
     "name": "stdout",
     "output_type": "stream",
     "text": [
      "\n",
      "Testing pipeline_2D_thr_0.3_norm_percentile_0_12 pipeline\n"
     ]
    },
    {
     "name": "stderr",
     "output_type": "stream",
     "text": [
      "100%|██████████| 19/19 [00:00<00:00, 5851.08it/s]"
     ]
    },
    {
     "name": "stdout",
     "output_type": "stream",
     "text": [
      "[======                                            ] 13.35%"
     ]
    },
    {
     "name": "stderr",
     "output_type": "stream",
     "text": [
      "\n"
     ]
    },
    {
     "name": "stdout",
     "output_type": "stream",
     "text": [
      "\n",
      "Testing pipeline_2D_thr_0.3_norm_percentile_0_13 pipeline\n"
     ]
    },
    {
     "name": "stderr",
     "output_type": "stream",
     "text": [
      "100%|██████████| 19/19 [00:00<00:00, 4940.90it/s]"
     ]
    },
    {
     "name": "stdout",
     "output_type": "stream",
     "text": [
      "[======                                            ] 13.41%"
     ]
    },
    {
     "name": "stderr",
     "output_type": "stream",
     "text": [
      "\n"
     ]
    },
    {
     "name": "stdout",
     "output_type": "stream",
     "text": [
      "\n",
      "Testing pipeline_2D_thr_0.3_norm_percentile_0_14 pipeline\n"
     ]
    },
    {
     "name": "stderr",
     "output_type": "stream",
     "text": [
      "100%|██████████| 19/19 [00:00<00:00, 5725.81it/s]"
     ]
    },
    {
     "name": "stdout",
     "output_type": "stream",
     "text": [
      "[======                                            ] 13.48%"
     ]
    },
    {
     "name": "stderr",
     "output_type": "stream",
     "text": [
      "\n"
     ]
    },
    {
     "name": "stdout",
     "output_type": "stream",
     "text": [
      "\n",
      "Testing pipeline_2D_thr_0.3_norm_percentile_0_15 pipeline\n"
     ]
    },
    {
     "name": "stderr",
     "output_type": "stream",
     "text": [
      "100%|██████████| 19/19 [00:00<00:00, 3552.28it/s]"
     ]
    },
    {
     "name": "stdout",
     "output_type": "stream",
     "text": [
      "[======                                            ] 13.54%"
     ]
    },
    {
     "name": "stderr",
     "output_type": "stream",
     "text": [
      "\n"
     ]
    },
    {
     "name": "stdout",
     "output_type": "stream",
     "text": [
      "\n",
      "Testing pipeline_2D_thr_0.3_norm_percentile_1_0 pipeline\n"
     ]
    },
    {
     "name": "stderr",
     "output_type": "stream",
     "text": [
      "100%|██████████| 19/19 [00:00<00:00, 3152.74it/s]"
     ]
    },
    {
     "name": "stdout",
     "output_type": "stream",
     "text": [
      "[======                                            ] 13.61%"
     ]
    },
    {
     "name": "stderr",
     "output_type": "stream",
     "text": [
      "\n"
     ]
    },
    {
     "name": "stdout",
     "output_type": "stream",
     "text": [
      "\n",
      "Testing pipeline_2D_thr_0.3_norm_percentile_1_1 pipeline\n"
     ]
    },
    {
     "name": "stderr",
     "output_type": "stream",
     "text": [
      "100%|██████████| 19/19 [00:00<00:00, 5738.18it/s]"
     ]
    },
    {
     "name": "stdout",
     "output_type": "stream",
     "text": [
      "[======                                            ] 13.67%"
     ]
    },
    {
     "name": "stderr",
     "output_type": "stream",
     "text": [
      "\n"
     ]
    },
    {
     "name": "stdout",
     "output_type": "stream",
     "text": [
      "\n",
      "Testing pipeline_2D_thr_0.3_norm_percentile_1_2 pipeline\n"
     ]
    },
    {
     "name": "stderr",
     "output_type": "stream",
     "text": [
      "100%|██████████| 19/19 [00:00<00:00, 5372.60it/s]"
     ]
    },
    {
     "name": "stdout",
     "output_type": "stream",
     "text": [
      "[======                                            ] 13.74%"
     ]
    },
    {
     "name": "stderr",
     "output_type": "stream",
     "text": [
      "\n"
     ]
    },
    {
     "name": "stdout",
     "output_type": "stream",
     "text": [
      "\n",
      "Testing pipeline_2D_thr_0.3_norm_percentile_1_3 pipeline\n"
     ]
    },
    {
     "name": "stderr",
     "output_type": "stream",
     "text": [
      "100%|██████████| 19/19 [00:00<00:00, 4780.84it/s]"
     ]
    },
    {
     "name": "stdout",
     "output_type": "stream",
     "text": [
      "[======                                            ] 13.80%"
     ]
    },
    {
     "name": "stderr",
     "output_type": "stream",
     "text": [
      "\n"
     ]
    },
    {
     "name": "stdout",
     "output_type": "stream",
     "text": [
      "\n",
      "Testing pipeline_2D_thr_0.3_norm_percentile_1_4 pipeline\n"
     ]
    },
    {
     "name": "stderr",
     "output_type": "stream",
     "text": [
      "100%|██████████| 19/19 [00:00<00:00, 3698.34it/s]"
     ]
    },
    {
     "name": "stdout",
     "output_type": "stream",
     "text": [
      "[======                                            ] 13.87%"
     ]
    },
    {
     "name": "stderr",
     "output_type": "stream",
     "text": [
      "\n"
     ]
    },
    {
     "name": "stdout",
     "output_type": "stream",
     "text": [
      "\n",
      "Testing pipeline_2D_thr_0.3_norm_percentile_1_5 pipeline\n"
     ]
    },
    {
     "name": "stderr",
     "output_type": "stream",
     "text": [
      "100%|██████████| 19/19 [00:00<00:00, 5105.83it/s]"
     ]
    },
    {
     "name": "stdout",
     "output_type": "stream",
     "text": [
      "[======                                            ] 13.93%"
     ]
    },
    {
     "name": "stderr",
     "output_type": "stream",
     "text": [
      "\n"
     ]
    },
    {
     "name": "stdout",
     "output_type": "stream",
     "text": [
      "\n",
      "Testing pipeline_2D_thr_0.3_norm_percentile_1_6 pipeline\n"
     ]
    },
    {
     "name": "stderr",
     "output_type": "stream",
     "text": [
      "100%|██████████| 19/19 [00:00<00:00, 6973.99it/s]"
     ]
    },
    {
     "name": "stdout",
     "output_type": "stream",
     "text": [
      "[======                                            ] 14.00%"
     ]
    },
    {
     "name": "stderr",
     "output_type": "stream",
     "text": [
      "\n"
     ]
    },
    {
     "name": "stdout",
     "output_type": "stream",
     "text": [
      "\n",
      "Testing pipeline_2D_thr_0.3_norm_percentile_1_7 pipeline\n"
     ]
    },
    {
     "name": "stderr",
     "output_type": "stream",
     "text": [
      "100%|██████████| 19/19 [00:00<00:00, 6533.72it/s]"
     ]
    },
    {
     "name": "stdout",
     "output_type": "stream",
     "text": [
      "[=======                                           ] 14.06%"
     ]
    },
    {
     "name": "stderr",
     "output_type": "stream",
     "text": [
      "\n"
     ]
    },
    {
     "name": "stdout",
     "output_type": "stream",
     "text": [
      "\n",
      "Testing pipeline_2D_thr_0.3_norm_percentile_1_8 pipeline\n"
     ]
    },
    {
     "name": "stderr",
     "output_type": "stream",
     "text": [
      "100%|██████████| 19/19 [00:00<00:00, 6629.93it/s]"
     ]
    },
    {
     "name": "stdout",
     "output_type": "stream",
     "text": [
      "[=======                                           ] 14.13%"
     ]
    },
    {
     "name": "stderr",
     "output_type": "stream",
     "text": [
      "\n"
     ]
    },
    {
     "name": "stdout",
     "output_type": "stream",
     "text": [
      "\n",
      "Testing pipeline_2D_thr_0.3_norm_percentile_1_9 pipeline\n"
     ]
    },
    {
     "name": "stderr",
     "output_type": "stream",
     "text": [
      "100%|██████████| 19/19 [00:00<00:00, 6839.32it/s]"
     ]
    },
    {
     "name": "stdout",
     "output_type": "stream",
     "text": [
      "[=======                                           ] 14.19%"
     ]
    },
    {
     "name": "stderr",
     "output_type": "stream",
     "text": [
      "\n"
     ]
    },
    {
     "name": "stdout",
     "output_type": "stream",
     "text": [
      "\n",
      "Testing pipeline_2D_thr_0.3_norm_percentile_1_10 pipeline\n"
     ]
    },
    {
     "name": "stderr",
     "output_type": "stream",
     "text": [
      "100%|██████████| 19/19 [00:00<00:00, 7200.85it/s]"
     ]
    },
    {
     "name": "stdout",
     "output_type": "stream",
     "text": [
      "[=======                                           ] 14.26%"
     ]
    },
    {
     "name": "stderr",
     "output_type": "stream",
     "text": [
      "\n"
     ]
    },
    {
     "name": "stdout",
     "output_type": "stream",
     "text": [
      "\n",
      "Testing pipeline_2D_thr_0.3_norm_percentile_1_11 pipeline\n"
     ]
    },
    {
     "name": "stderr",
     "output_type": "stream",
     "text": [
      "100%|██████████| 19/19 [00:00<00:00, 5856.67it/s]"
     ]
    },
    {
     "name": "stdout",
     "output_type": "stream",
     "text": [
      "[=======                                           ] 14.32%"
     ]
    },
    {
     "name": "stderr",
     "output_type": "stream",
     "text": [
      "\n"
     ]
    },
    {
     "name": "stdout",
     "output_type": "stream",
     "text": [
      "\n",
      "Testing pipeline_2D_thr_0.3_norm_percentile_1_12 pipeline\n"
     ]
    },
    {
     "name": "stderr",
     "output_type": "stream",
     "text": [
      "100%|██████████| 19/19 [00:00<00:00, 4712.70it/s]"
     ]
    },
    {
     "name": "stdout",
     "output_type": "stream",
     "text": [
      "[=======                                           ] 14.39%"
     ]
    },
    {
     "name": "stderr",
     "output_type": "stream",
     "text": [
      "\n"
     ]
    },
    {
     "name": "stdout",
     "output_type": "stream",
     "text": [
      "\n",
      "Testing pipeline_2D_thr_0.3_norm_percentile_1_13 pipeline\n"
     ]
    },
    {
     "name": "stderr",
     "output_type": "stream",
     "text": [
      "100%|██████████| 19/19 [00:00<00:00, 6392.73it/s]"
     ]
    },
    {
     "name": "stdout",
     "output_type": "stream",
     "text": [
      "[=======                                           ] 14.45%"
     ]
    },
    {
     "name": "stderr",
     "output_type": "stream",
     "text": [
      "\n"
     ]
    },
    {
     "name": "stdout",
     "output_type": "stream",
     "text": [
      "\n",
      "Testing pipeline_2D_thr_0.3_norm_percentile_1_14 pipeline\n"
     ]
    },
    {
     "name": "stderr",
     "output_type": "stream",
     "text": [
      "100%|██████████| 19/19 [00:00<00:00, 6729.02it/s]"
     ]
    },
    {
     "name": "stdout",
     "output_type": "stream",
     "text": [
      "[=======                                           ] 14.52%"
     ]
    },
    {
     "name": "stderr",
     "output_type": "stream",
     "text": [
      "\n"
     ]
    },
    {
     "name": "stdout",
     "output_type": "stream",
     "text": [
      "\n",
      "Testing pipeline_2D_thr_0.3_norm_percentile_1_15 pipeline\n"
     ]
    },
    {
     "name": "stderr",
     "output_type": "stream",
     "text": [
      "100%|██████████| 19/19 [00:00<00:00, 5726.63it/s]"
     ]
    },
    {
     "name": "stdout",
     "output_type": "stream",
     "text": [
      "[=======                                           ] 14.58%"
     ]
    },
    {
     "name": "stderr",
     "output_type": "stream",
     "text": [
      "\n"
     ]
    },
    {
     "name": "stdout",
     "output_type": "stream",
     "text": [
      "\n",
      "Testing pipeline_2D_thr_0.3_norm_percentile_2_0 pipeline\n"
     ]
    },
    {
     "name": "stderr",
     "output_type": "stream",
     "text": [
      "100%|██████████| 19/19 [00:00<00:00, 6078.70it/s]"
     ]
    },
    {
     "name": "stdout",
     "output_type": "stream",
     "text": [
      "[=======                                           ] 14.65%"
     ]
    },
    {
     "name": "stderr",
     "output_type": "stream",
     "text": [
      "\n"
     ]
    },
    {
     "name": "stdout",
     "output_type": "stream",
     "text": [
      "\n",
      "Testing pipeline_2D_thr_0.3_norm_percentile_2_1 pipeline\n"
     ]
    },
    {
     "name": "stderr",
     "output_type": "stream",
     "text": [
      "100%|██████████| 19/19 [00:00<00:00, 6046.88it/s]"
     ]
    },
    {
     "name": "stdout",
     "output_type": "stream",
     "text": [
      "[=======                                           ] 14.71%"
     ]
    },
    {
     "name": "stderr",
     "output_type": "stream",
     "text": [
      "\n"
     ]
    },
    {
     "name": "stdout",
     "output_type": "stream",
     "text": [
      "\n",
      "Testing pipeline_2D_thr_0.3_norm_percentile_2_2 pipeline\n"
     ]
    },
    {
     "name": "stderr",
     "output_type": "stream",
     "text": [
      "100%|██████████| 19/19 [00:00<00:00, 6601.37it/s]"
     ]
    },
    {
     "name": "stdout",
     "output_type": "stream",
     "text": [
      "[=======                                           ] 14.78%"
     ]
    },
    {
     "name": "stderr",
     "output_type": "stream",
     "text": [
      "\n"
     ]
    },
    {
     "name": "stdout",
     "output_type": "stream",
     "text": [
      "\n",
      "Testing pipeline_2D_thr_0.3_norm_percentile_2_3 pipeline\n"
     ]
    },
    {
     "name": "stderr",
     "output_type": "stream",
     "text": [
      "100%|██████████| 19/19 [00:00<00:00, 6427.79it/s]"
     ]
    },
    {
     "name": "stdout",
     "output_type": "stream",
     "text": [
      "[=======                                           ] 14.84%"
     ]
    },
    {
     "name": "stderr",
     "output_type": "stream",
     "text": [
      "\n"
     ]
    },
    {
     "name": "stdout",
     "output_type": "stream",
     "text": [
      "\n",
      "Testing pipeline_2D_thr_0.3_norm_percentile_2_4 pipeline\n"
     ]
    },
    {
     "name": "stderr",
     "output_type": "stream",
     "text": [
      "100%|██████████| 19/19 [00:00<00:00, 7016.36it/s]"
     ]
    },
    {
     "name": "stdout",
     "output_type": "stream",
     "text": [
      "[=======                                           ] 14.91%"
     ]
    },
    {
     "name": "stderr",
     "output_type": "stream",
     "text": [
      "\n"
     ]
    },
    {
     "name": "stdout",
     "output_type": "stream",
     "text": [
      "\n",
      "Testing pipeline_2D_thr_0.3_norm_percentile_2_5 pipeline\n"
     ]
    },
    {
     "name": "stderr",
     "output_type": "stream",
     "text": [
      "100%|██████████| 19/19 [00:00<00:00, 6813.59it/s]"
     ]
    },
    {
     "name": "stdout",
     "output_type": "stream",
     "text": [
      "[=======                                           ] 14.97%"
     ]
    },
    {
     "name": "stderr",
     "output_type": "stream",
     "text": [
      "\n"
     ]
    },
    {
     "name": "stdout",
     "output_type": "stream",
     "text": [
      "\n",
      "Testing pipeline_2D_thr_0.3_norm_percentile_2_6 pipeline\n"
     ]
    },
    {
     "name": "stderr",
     "output_type": "stream",
     "text": [
      "100%|██████████| 19/19 [00:00<00:00, 5342.35it/s]"
     ]
    },
    {
     "name": "stdout",
     "output_type": "stream",
     "text": [
      "[=======                                           ] 15.04%"
     ]
    },
    {
     "name": "stderr",
     "output_type": "stream",
     "text": [
      "\n"
     ]
    },
    {
     "name": "stdout",
     "output_type": "stream",
     "text": [
      "\n",
      "Testing pipeline_2D_thr_0.3_norm_percentile_2_7 pipeline\n"
     ]
    },
    {
     "name": "stderr",
     "output_type": "stream",
     "text": [
      "100%|██████████| 19/19 [00:00<00:00, 7377.50it/s]"
     ]
    },
    {
     "name": "stdout",
     "output_type": "stream",
     "text": [
      "[=======                                           ] 15.10%"
     ]
    },
    {
     "name": "stderr",
     "output_type": "stream",
     "text": [
      "\n"
     ]
    },
    {
     "name": "stdout",
     "output_type": "stream",
     "text": [
      "\n",
      "Testing pipeline_2D_thr_0.3_norm_percentile_2_8 pipeline\n"
     ]
    },
    {
     "name": "stderr",
     "output_type": "stream",
     "text": [
      "100%|██████████| 19/19 [00:00<00:00, 5572.46it/s]"
     ]
    },
    {
     "name": "stdout",
     "output_type": "stream",
     "text": [
      "[=======                                           ] 15.17%"
     ]
    },
    {
     "name": "stderr",
     "output_type": "stream",
     "text": [
      "\n"
     ]
    },
    {
     "name": "stdout",
     "output_type": "stream",
     "text": [
      "\n",
      "Testing pipeline_2D_thr_0.3_norm_percentile_2_9 pipeline\n"
     ]
    },
    {
     "name": "stderr",
     "output_type": "stream",
     "text": [
      "100%|██████████| 19/19 [00:00<00:00, 6230.30it/s]"
     ]
    },
    {
     "name": "stdout",
     "output_type": "stream",
     "text": [
      "[=======                                           ] 15.23%"
     ]
    },
    {
     "name": "stderr",
     "output_type": "stream",
     "text": [
      "\n"
     ]
    },
    {
     "name": "stdout",
     "output_type": "stream",
     "text": [
      "\n",
      "Testing pipeline_2D_thr_0.3_norm_percentile_2_10 pipeline\n"
     ]
    },
    {
     "name": "stderr",
     "output_type": "stream",
     "text": [
      "100%|██████████| 19/19 [00:00<00:00, 5832.24it/s]"
     ]
    },
    {
     "name": "stdout",
     "output_type": "stream",
     "text": [
      "[=======                                           ] 15.30%"
     ]
    },
    {
     "name": "stderr",
     "output_type": "stream",
     "text": [
      "\n"
     ]
    },
    {
     "name": "stdout",
     "output_type": "stream",
     "text": [
      "\n",
      "Testing pipeline_2D_thr_0.3_norm_percentile_2_11 pipeline\n"
     ]
    },
    {
     "name": "stderr",
     "output_type": "stream",
     "text": [
      "100%|██████████| 19/19 [00:00<00:00, 5510.43it/s]"
     ]
    },
    {
     "name": "stdout",
     "output_type": "stream",
     "text": [
      "[=======                                           ] 15.36%"
     ]
    },
    {
     "name": "stderr",
     "output_type": "stream",
     "text": [
      "\n"
     ]
    },
    {
     "name": "stdout",
     "output_type": "stream",
     "text": [
      "\n",
      "Testing pipeline_2D_thr_0.3_norm_percentile_2_12 pipeline\n"
     ]
    },
    {
     "name": "stderr",
     "output_type": "stream",
     "text": [
      "100%|██████████| 19/19 [00:00<00:00, 5795.77it/s]"
     ]
    },
    {
     "name": "stdout",
     "output_type": "stream",
     "text": [
      "[=======                                           ] 15.43%"
     ]
    },
    {
     "name": "stderr",
     "output_type": "stream",
     "text": [
      "\n"
     ]
    },
    {
     "name": "stdout",
     "output_type": "stream",
     "text": [
      "\n",
      "Testing pipeline_2D_thr_0.3_norm_percentile_2_13 pipeline\n"
     ]
    },
    {
     "name": "stderr",
     "output_type": "stream",
     "text": [
      "100%|██████████| 19/19 [00:00<00:00, 6182.93it/s]"
     ]
    },
    {
     "name": "stdout",
     "output_type": "stream",
     "text": [
      "[=======                                           ] 15.49%"
     ]
    },
    {
     "name": "stderr",
     "output_type": "stream",
     "text": [
      "\n"
     ]
    },
    {
     "name": "stdout",
     "output_type": "stream",
     "text": [
      "\n",
      "Testing pipeline_2D_thr_0.3_norm_percentile_2_14 pipeline\n"
     ]
    },
    {
     "name": "stderr",
     "output_type": "stream",
     "text": [
      "100%|██████████| 19/19 [00:00<00:00, 6605.20it/s]"
     ]
    },
    {
     "name": "stdout",
     "output_type": "stream",
     "text": [
      "[=======                                           ] 15.56%"
     ]
    },
    {
     "name": "stderr",
     "output_type": "stream",
     "text": [
      "\n"
     ]
    },
    {
     "name": "stdout",
     "output_type": "stream",
     "text": [
      "\n",
      "Testing pipeline_2D_thr_0.3_norm_percentile_2_15 pipeline\n"
     ]
    },
    {
     "name": "stderr",
     "output_type": "stream",
     "text": [
      "100%|██████████| 19/19 [00:00<00:00, 6483.22it/s]"
     ]
    },
    {
     "name": "stdout",
     "output_type": "stream",
     "text": [
      "[=======                                           ] 15.62%"
     ]
    },
    {
     "name": "stderr",
     "output_type": "stream",
     "text": [
      "\n"
     ]
    },
    {
     "name": "stdout",
     "output_type": "stream",
     "text": [
      "\n",
      "Testing pipeline_2D_thr_0.3_norm_percentile_3_0 pipeline\n"
     ]
    },
    {
     "name": "stderr",
     "output_type": "stream",
     "text": [
      "100%|██████████| 19/19 [00:00<00:00, 5839.51it/s]"
     ]
    },
    {
     "name": "stdout",
     "output_type": "stream",
     "text": [
      "[=======                                           ] 15.69%"
     ]
    },
    {
     "name": "stderr",
     "output_type": "stream",
     "text": [
      "\n"
     ]
    },
    {
     "name": "stdout",
     "output_type": "stream",
     "text": [
      "\n",
      "Testing pipeline_2D_thr_0.3_norm_percentile_3_1 pipeline\n"
     ]
    },
    {
     "name": "stderr",
     "output_type": "stream",
     "text": [
      "100%|██████████| 19/19 [00:00<00:00, 5696.34it/s]"
     ]
    },
    {
     "name": "stdout",
     "output_type": "stream",
     "text": [
      "[=======                                           ] 15.76%"
     ]
    },
    {
     "name": "stderr",
     "output_type": "stream",
     "text": [
      "\n"
     ]
    },
    {
     "name": "stdout",
     "output_type": "stream",
     "text": [
      "\n",
      "Testing pipeline_2D_thr_0.3_norm_percentile_3_2 pipeline\n"
     ]
    },
    {
     "name": "stderr",
     "output_type": "stream",
     "text": [
      "100%|██████████| 19/19 [00:00<00:00, 5893.49it/s]"
     ]
    },
    {
     "name": "stdout",
     "output_type": "stream",
     "text": [
      "[=======                                           ] 15.82%"
     ]
    },
    {
     "name": "stderr",
     "output_type": "stream",
     "text": [
      "\n"
     ]
    },
    {
     "name": "stdout",
     "output_type": "stream",
     "text": [
      "\n",
      "Testing pipeline_2D_thr_0.3_norm_percentile_3_3 pipeline\n"
     ]
    },
    {
     "name": "stderr",
     "output_type": "stream",
     "text": [
      "100%|██████████| 19/19 [00:00<00:00, 6478.48it/s]"
     ]
    },
    {
     "name": "stdout",
     "output_type": "stream",
     "text": [
      "[=======                                           ] 15.89%"
     ]
    },
    {
     "name": "stderr",
     "output_type": "stream",
     "text": [
      "\n"
     ]
    },
    {
     "name": "stdout",
     "output_type": "stream",
     "text": [
      "\n",
      "Testing pipeline_2D_thr_0.3_norm_percentile_3_4 pipeline\n"
     ]
    },
    {
     "name": "stderr",
     "output_type": "stream",
     "text": [
      "100%|██████████| 19/19 [00:00<00:00, 7088.75it/s]"
     ]
    },
    {
     "name": "stdout",
     "output_type": "stream",
     "text": [
      "[=======                                           ] 15.95%"
     ]
    },
    {
     "name": "stderr",
     "output_type": "stream",
     "text": [
      "\n"
     ]
    },
    {
     "name": "stdout",
     "output_type": "stream",
     "text": [
      "\n",
      "Testing pipeline_2D_thr_0.3_norm_percentile_3_5 pipeline\n"
     ]
    },
    {
     "name": "stderr",
     "output_type": "stream",
     "text": [
      "100%|██████████| 19/19 [00:00<00:00, 5821.17it/s]"
     ]
    },
    {
     "name": "stdout",
     "output_type": "stream",
     "text": [
      "[========                                          ] 16.02%"
     ]
    },
    {
     "name": "stderr",
     "output_type": "stream",
     "text": [
      "\n"
     ]
    },
    {
     "name": "stdout",
     "output_type": "stream",
     "text": [
      "\n",
      "Testing pipeline_2D_thr_0.3_norm_percentile_3_6 pipeline\n"
     ]
    },
    {
     "name": "stderr",
     "output_type": "stream",
     "text": [
      "100%|██████████| 19/19 [00:00<00:00, 6782.28it/s]"
     ]
    },
    {
     "name": "stdout",
     "output_type": "stream",
     "text": [
      "[========                                          ] 16.08%"
     ]
    },
    {
     "name": "stderr",
     "output_type": "stream",
     "text": [
      "\n"
     ]
    },
    {
     "name": "stdout",
     "output_type": "stream",
     "text": [
      "\n",
      "Testing pipeline_2D_thr_0.3_norm_percentile_3_7 pipeline\n"
     ]
    },
    {
     "name": "stderr",
     "output_type": "stream",
     "text": [
      "100%|██████████| 19/19 [00:00<00:00, 4972.35it/s]"
     ]
    },
    {
     "name": "stdout",
     "output_type": "stream",
     "text": [
      "[========                                          ] 16.15%"
     ]
    },
    {
     "name": "stderr",
     "output_type": "stream",
     "text": [
      "\n"
     ]
    },
    {
     "name": "stdout",
     "output_type": "stream",
     "text": [
      "\n",
      "Testing pipeline_2D_thr_0.3_norm_percentile_3_8 pipeline\n"
     ]
    },
    {
     "name": "stderr",
     "output_type": "stream",
     "text": [
      "100%|██████████| 19/19 [00:00<00:00, 6676.59it/s]"
     ]
    },
    {
     "name": "stdout",
     "output_type": "stream",
     "text": [
      "[========                                          ] 16.21%"
     ]
    },
    {
     "name": "stderr",
     "output_type": "stream",
     "text": [
      "\n"
     ]
    },
    {
     "name": "stdout",
     "output_type": "stream",
     "text": [
      "\n",
      "Testing pipeline_2D_thr_0.3_norm_percentile_3_9 pipeline\n"
     ]
    },
    {
     "name": "stderr",
     "output_type": "stream",
     "text": [
      "100%|██████████| 19/19 [00:00<00:00, 4786.01it/s]"
     ]
    },
    {
     "name": "stdout",
     "output_type": "stream",
     "text": [
      "[========                                          ] 16.28%"
     ]
    },
    {
     "name": "stderr",
     "output_type": "stream",
     "text": [
      "\n"
     ]
    },
    {
     "name": "stdout",
     "output_type": "stream",
     "text": [
      "\n",
      "Testing pipeline_2D_thr_0.3_norm_percentile_3_10 pipeline\n"
     ]
    },
    {
     "name": "stderr",
     "output_type": "stream",
     "text": [
      "100%|██████████| 19/19 [00:00<00:00, 6790.95it/s]"
     ]
    },
    {
     "name": "stdout",
     "output_type": "stream",
     "text": [
      "[========                                          ] 16.34%"
     ]
    },
    {
     "name": "stderr",
     "output_type": "stream",
     "text": [
      "\n"
     ]
    },
    {
     "name": "stdout",
     "output_type": "stream",
     "text": [
      "\n",
      "Testing pipeline_2D_thr_0.3_norm_percentile_3_11 pipeline\n"
     ]
    },
    {
     "name": "stderr",
     "output_type": "stream",
     "text": [
      "100%|██████████| 19/19 [00:00<00:00, 7167.17it/s]"
     ]
    },
    {
     "name": "stdout",
     "output_type": "stream",
     "text": [
      "[========                                          ] 16.41%"
     ]
    },
    {
     "name": "stderr",
     "output_type": "stream",
     "text": [
      "\n"
     ]
    },
    {
     "name": "stdout",
     "output_type": "stream",
     "text": [
      "\n",
      "Testing pipeline_2D_thr_0.3_norm_percentile_3_12 pipeline\n"
     ]
    },
    {
     "name": "stderr",
     "output_type": "stream",
     "text": [
      "100%|██████████| 19/19 [00:00<00:00, 5293.02it/s]"
     ]
    },
    {
     "name": "stdout",
     "output_type": "stream",
     "text": [
      "[========                                          ] 16.47%"
     ]
    },
    {
     "name": "stderr",
     "output_type": "stream",
     "text": [
      "\n"
     ]
    },
    {
     "name": "stdout",
     "output_type": "stream",
     "text": [
      "\n",
      "Testing pipeline_2D_thr_0.3_norm_percentile_3_13 pipeline\n"
     ]
    },
    {
     "name": "stderr",
     "output_type": "stream",
     "text": [
      "100%|██████████| 19/19 [00:00<00:00, 5608.15it/s]"
     ]
    },
    {
     "name": "stdout",
     "output_type": "stream",
     "text": [
      "[========                                          ] 16.54%"
     ]
    },
    {
     "name": "stderr",
     "output_type": "stream",
     "text": [
      "\n"
     ]
    },
    {
     "name": "stdout",
     "output_type": "stream",
     "text": [
      "\n",
      "Testing pipeline_2D_thr_0.3_norm_percentile_3_14 pipeline\n"
     ]
    },
    {
     "name": "stderr",
     "output_type": "stream",
     "text": [
      "100%|██████████| 19/19 [00:00<00:00, 5441.20it/s]"
     ]
    },
    {
     "name": "stdout",
     "output_type": "stream",
     "text": [
      "[========                                          ] 16.60%"
     ]
    },
    {
     "name": "stderr",
     "output_type": "stream",
     "text": [
      "\n"
     ]
    },
    {
     "name": "stdout",
     "output_type": "stream",
     "text": [
      "\n",
      "Testing pipeline_2D_thr_0.3_norm_percentile_3_15 pipeline\n"
     ]
    },
    {
     "name": "stderr",
     "output_type": "stream",
     "text": [
      "100%|██████████| 19/19 [00:00<00:00, 4265.47it/s]"
     ]
    },
    {
     "name": "stdout",
     "output_type": "stream",
     "text": [
      "[========                                          ] 16.67%"
     ]
    },
    {
     "name": "stderr",
     "output_type": "stream",
     "text": [
      "\n"
     ]
    },
    {
     "name": "stdout",
     "output_type": "stream",
     "text": [
      "\n",
      "Testing pipeline_2D_thr_0.4_norm_minmax_0_0 pipeline\n"
     ]
    },
    {
     "name": "stderr",
     "output_type": "stream",
     "text": [
      "100%|██████████| 19/19 [00:00<00:00, 4990.40it/s]"
     ]
    },
    {
     "name": "stdout",
     "output_type": "stream",
     "text": [
      "[========                                          ] 16.73%"
     ]
    },
    {
     "name": "stderr",
     "output_type": "stream",
     "text": [
      "\n"
     ]
    },
    {
     "name": "stdout",
     "output_type": "stream",
     "text": [
      "\n",
      "Testing pipeline_2D_thr_0.4_norm_minmax_0_1 pipeline\n"
     ]
    },
    {
     "name": "stderr",
     "output_type": "stream",
     "text": [
      "100%|██████████| 19/19 [00:00<00:00, 6496.97it/s]"
     ]
    },
    {
     "name": "stdout",
     "output_type": "stream",
     "text": [
      "[========                                          ] 16.80%"
     ]
    },
    {
     "name": "stderr",
     "output_type": "stream",
     "text": [
      "\n"
     ]
    },
    {
     "name": "stdout",
     "output_type": "stream",
     "text": [
      "\n",
      "Testing pipeline_2D_thr_0.4_norm_minmax_0_2 pipeline\n"
     ]
    },
    {
     "name": "stderr",
     "output_type": "stream",
     "text": [
      "100%|██████████| 19/19 [00:00<00:00, 6120.72it/s]"
     ]
    },
    {
     "name": "stdout",
     "output_type": "stream",
     "text": [
      "[========                                          ] 16.86%"
     ]
    },
    {
     "name": "stderr",
     "output_type": "stream",
     "text": [
      "\n"
     ]
    },
    {
     "name": "stdout",
     "output_type": "stream",
     "text": [
      "\n",
      "Testing pipeline_2D_thr_0.4_norm_minmax_0_3 pipeline\n"
     ]
    },
    {
     "name": "stderr",
     "output_type": "stream",
     "text": [
      "100%|██████████| 19/19 [00:00<00:00, 5734.46it/s]"
     ]
    },
    {
     "name": "stdout",
     "output_type": "stream",
     "text": [
      "[========                                          ] 16.93%"
     ]
    },
    {
     "name": "stderr",
     "output_type": "stream",
     "text": [
      "\n"
     ]
    },
    {
     "name": "stdout",
     "output_type": "stream",
     "text": [
      "\n",
      "Testing pipeline_2D_thr_0.4_norm_minmax_0_4 pipeline\n"
     ]
    },
    {
     "name": "stderr",
     "output_type": "stream",
     "text": [
      "100%|██████████| 19/19 [00:00<00:00, 6750.68it/s]"
     ]
    },
    {
     "name": "stdout",
     "output_type": "stream",
     "text": [
      "[========                                          ] 16.99%"
     ]
    },
    {
     "name": "stderr",
     "output_type": "stream",
     "text": [
      "\n"
     ]
    },
    {
     "name": "stdout",
     "output_type": "stream",
     "text": [
      "\n",
      "Testing pipeline_2D_thr_0.4_norm_minmax_0_5 pipeline\n"
     ]
    },
    {
     "name": "stderr",
     "output_type": "stream",
     "text": [
      "100%|██████████| 19/19 [00:00<00:00, 5761.82it/s]"
     ]
    },
    {
     "name": "stdout",
     "output_type": "stream",
     "text": [
      "[========                                          ] 17.06%"
     ]
    },
    {
     "name": "stderr",
     "output_type": "stream",
     "text": [
      "\n"
     ]
    },
    {
     "name": "stdout",
     "output_type": "stream",
     "text": [
      "\n",
      "Testing pipeline_2D_thr_0.4_norm_minmax_0_6 pipeline\n"
     ]
    },
    {
     "name": "stderr",
     "output_type": "stream",
     "text": [
      "100%|██████████| 19/19 [00:00<00:00, 4952.26it/s]"
     ]
    },
    {
     "name": "stdout",
     "output_type": "stream",
     "text": [
      "[========                                          ] 17.12%"
     ]
    },
    {
     "name": "stderr",
     "output_type": "stream",
     "text": [
      "\n"
     ]
    },
    {
     "name": "stdout",
     "output_type": "stream",
     "text": [
      "\n",
      "Testing pipeline_2D_thr_0.4_norm_minmax_0_7 pipeline\n"
     ]
    },
    {
     "name": "stderr",
     "output_type": "stream",
     "text": [
      "100%|██████████| 19/19 [00:00<00:00, 6387.61it/s]"
     ]
    },
    {
     "name": "stdout",
     "output_type": "stream",
     "text": [
      "[========                                          ] 17.19%"
     ]
    },
    {
     "name": "stderr",
     "output_type": "stream",
     "text": [
      "\n"
     ]
    },
    {
     "name": "stdout",
     "output_type": "stream",
     "text": [
      "\n",
      "Testing pipeline_2D_thr_0.4_norm_minmax_0_8 pipeline\n"
     ]
    },
    {
     "name": "stderr",
     "output_type": "stream",
     "text": [
      "100%|██████████| 19/19 [00:00<00:00, 7188.51it/s]"
     ]
    },
    {
     "name": "stdout",
     "output_type": "stream",
     "text": [
      "[========                                          ] 17.25%"
     ]
    },
    {
     "name": "stderr",
     "output_type": "stream",
     "text": [
      "\n"
     ]
    },
    {
     "name": "stdout",
     "output_type": "stream",
     "text": [
      "\n",
      "Testing pipeline_2D_thr_0.4_norm_minmax_0_9 pipeline\n"
     ]
    },
    {
     "name": "stderr",
     "output_type": "stream",
     "text": [
      "100%|██████████| 19/19 [00:00<00:00, 5842.93it/s]"
     ]
    },
    {
     "name": "stdout",
     "output_type": "stream",
     "text": [
      "[========                                          ] 17.32%"
     ]
    },
    {
     "name": "stderr",
     "output_type": "stream",
     "text": [
      "\n"
     ]
    },
    {
     "name": "stdout",
     "output_type": "stream",
     "text": [
      "\n",
      "Testing pipeline_2D_thr_0.4_norm_minmax_0_10 pipeline\n"
     ]
    },
    {
     "name": "stderr",
     "output_type": "stream",
     "text": [
      "100%|██████████| 19/19 [00:00<00:00, 6890.77it/s]"
     ]
    },
    {
     "name": "stdout",
     "output_type": "stream",
     "text": [
      "[========                                          ] 17.38%"
     ]
    },
    {
     "name": "stderr",
     "output_type": "stream",
     "text": [
      "\n"
     ]
    },
    {
     "name": "stdout",
     "output_type": "stream",
     "text": [
      "\n",
      "Testing pipeline_2D_thr_0.4_norm_minmax_0_11 pipeline\n"
     ]
    },
    {
     "name": "stderr",
     "output_type": "stream",
     "text": [
      "100%|██████████| 19/19 [00:00<00:00, 6232.25it/s]"
     ]
    },
    {
     "name": "stdout",
     "output_type": "stream",
     "text": [
      "[========                                          ] 17.45%"
     ]
    },
    {
     "name": "stderr",
     "output_type": "stream",
     "text": [
      "\n"
     ]
    },
    {
     "name": "stdout",
     "output_type": "stream",
     "text": [
      "\n",
      "Testing pipeline_2D_thr_0.4_norm_minmax_0_12 pipeline\n"
     ]
    },
    {
     "name": "stderr",
     "output_type": "stream",
     "text": [
      "100%|██████████| 19/19 [00:00<00:00, 6388.63it/s]"
     ]
    },
    {
     "name": "stdout",
     "output_type": "stream",
     "text": [
      "[========                                          ] 17.51%"
     ]
    },
    {
     "name": "stderr",
     "output_type": "stream",
     "text": [
      "\n"
     ]
    },
    {
     "name": "stdout",
     "output_type": "stream",
     "text": [
      "\n",
      "Testing pipeline_2D_thr_0.4_norm_minmax_0_13 pipeline\n"
     ]
    },
    {
     "name": "stderr",
     "output_type": "stream",
     "text": [
      "100%|██████████| 19/19 [00:00<00:00, 5851.08it/s]"
     ]
    },
    {
     "name": "stdout",
     "output_type": "stream",
     "text": [
      "[========                                          ] 17.58%"
     ]
    },
    {
     "name": "stderr",
     "output_type": "stream",
     "text": [
      "\n"
     ]
    },
    {
     "name": "stdout",
     "output_type": "stream",
     "text": [
      "\n",
      "Testing pipeline_2D_thr_0.4_norm_minmax_0_14 pipeline\n"
     ]
    },
    {
     "name": "stderr",
     "output_type": "stream",
     "text": [
      "100%|██████████| 19/19 [00:00<00:00, 5501.30it/s]"
     ]
    },
    {
     "name": "stdout",
     "output_type": "stream",
     "text": [
      "[========                                          ] 17.64%"
     ]
    },
    {
     "name": "stderr",
     "output_type": "stream",
     "text": [
      "\n"
     ]
    },
    {
     "name": "stdout",
     "output_type": "stream",
     "text": [
      "\n",
      "Testing pipeline_2D_thr_0.4_norm_minmax_0_15 pipeline\n"
     ]
    },
    {
     "name": "stderr",
     "output_type": "stream",
     "text": [
      "100%|██████████| 19/19 [00:00<00:00, 4821.04it/s]"
     ]
    },
    {
     "name": "stdout",
     "output_type": "stream",
     "text": [
      "[========                                          ] 17.71%"
     ]
    },
    {
     "name": "stderr",
     "output_type": "stream",
     "text": [
      "\n"
     ]
    },
    {
     "name": "stdout",
     "output_type": "stream",
     "text": [
      "\n",
      "Testing pipeline_2D_thr_0.4_norm_minmax_1_0 pipeline\n"
     ]
    },
    {
     "name": "stderr",
     "output_type": "stream",
     "text": [
      "100%|██████████| 19/19 [00:00<00:00, 5161.72it/s]"
     ]
    },
    {
     "name": "stdout",
     "output_type": "stream",
     "text": [
      "[========                                          ] 17.77%"
     ]
    },
    {
     "name": "stderr",
     "output_type": "stream",
     "text": [
      "\n"
     ]
    },
    {
     "name": "stdout",
     "output_type": "stream",
     "text": [
      "\n",
      "Testing pipeline_2D_thr_0.4_norm_minmax_1_1 pipeline\n"
     ]
    },
    {
     "name": "stderr",
     "output_type": "stream",
     "text": [
      "100%|██████████| 19/19 [00:00<00:00, 4947.96it/s]"
     ]
    },
    {
     "name": "stdout",
     "output_type": "stream",
     "text": [
      "[========                                          ] 17.84%"
     ]
    },
    {
     "name": "stderr",
     "output_type": "stream",
     "text": [
      "\n"
     ]
    },
    {
     "name": "stdout",
     "output_type": "stream",
     "text": [
      "\n",
      "Testing pipeline_2D_thr_0.4_norm_minmax_1_2 pipeline\n"
     ]
    },
    {
     "name": "stderr",
     "output_type": "stream",
     "text": [
      "100%|██████████| 19/19 [00:00<00:00, 4196.95it/s]"
     ]
    },
    {
     "name": "stdout",
     "output_type": "stream",
     "text": [
      "[========                                          ] 17.90%"
     ]
    },
    {
     "name": "stderr",
     "output_type": "stream",
     "text": [
      "\n"
     ]
    },
    {
     "name": "stdout",
     "output_type": "stream",
     "text": [
      "\n",
      "Testing pipeline_2D_thr_0.4_norm_minmax_1_3 pipeline\n"
     ]
    },
    {
     "name": "stderr",
     "output_type": "stream",
     "text": [
      "100%|██████████| 19/19 [00:00<00:00, 7797.63it/s]"
     ]
    },
    {
     "name": "stdout",
     "output_type": "stream",
     "text": [
      "[========                                          ] 17.97%"
     ]
    },
    {
     "name": "stderr",
     "output_type": "stream",
     "text": [
      "\n"
     ]
    },
    {
     "name": "stdout",
     "output_type": "stream",
     "text": [
      "\n",
      "Testing pipeline_2D_thr_0.4_norm_minmax_1_4 pipeline\n"
     ]
    },
    {
     "name": "stderr",
     "output_type": "stream",
     "text": [
      "100%|██████████| 19/19 [00:00<00:00, 5713.08it/s]"
     ]
    },
    {
     "name": "stdout",
     "output_type": "stream",
     "text": [
      "[=========                                         ] 18.03%"
     ]
    },
    {
     "name": "stderr",
     "output_type": "stream",
     "text": [
      "\n"
     ]
    },
    {
     "name": "stdout",
     "output_type": "stream",
     "text": [
      "\n",
      "Testing pipeline_2D_thr_0.4_norm_minmax_1_5 pipeline\n"
     ]
    },
    {
     "name": "stderr",
     "output_type": "stream",
     "text": [
      "100%|██████████| 19/19 [00:00<00:00, 6610.13it/s]"
     ]
    },
    {
     "name": "stdout",
     "output_type": "stream",
     "text": [
      "[=========                                         ] 18.10%"
     ]
    },
    {
     "name": "stderr",
     "output_type": "stream",
     "text": [
      "\n"
     ]
    },
    {
     "name": "stdout",
     "output_type": "stream",
     "text": [
      "\n",
      "Testing pipeline_2D_thr_0.4_norm_minmax_1_6 pipeline\n"
     ]
    },
    {
     "name": "stderr",
     "output_type": "stream",
     "text": [
      "100%|██████████| 19/19 [00:00<00:00, 5932.10it/s]"
     ]
    },
    {
     "name": "stdout",
     "output_type": "stream",
     "text": [
      "[=========                                         ] 18.16%"
     ]
    },
    {
     "name": "stderr",
     "output_type": "stream",
     "text": [
      "\n"
     ]
    },
    {
     "name": "stdout",
     "output_type": "stream",
     "text": [
      "\n",
      "Testing pipeline_2D_thr_0.4_norm_minmax_1_7 pipeline\n"
     ]
    },
    {
     "name": "stderr",
     "output_type": "stream",
     "text": [
      "100%|██████████| 19/19 [00:00<00:00, 6679.95it/s]"
     ]
    },
    {
     "name": "stdout",
     "output_type": "stream",
     "text": [
      "[=========                                         ] 18.23%"
     ]
    },
    {
     "name": "stderr",
     "output_type": "stream",
     "text": [
      "\n"
     ]
    },
    {
     "name": "stdout",
     "output_type": "stream",
     "text": [
      "\n",
      "Testing pipeline_2D_thr_0.4_norm_minmax_1_8 pipeline\n"
     ]
    },
    {
     "name": "stderr",
     "output_type": "stream",
     "text": [
      "100%|██████████| 19/19 [00:00<00:00, 7251.96it/s]"
     ]
    },
    {
     "name": "stdout",
     "output_type": "stream",
     "text": [
      "[=========                                         ] 18.29%"
     ]
    },
    {
     "name": "stderr",
     "output_type": "stream",
     "text": [
      "\n"
     ]
    },
    {
     "name": "stdout",
     "output_type": "stream",
     "text": [
      "\n",
      "Testing pipeline_2D_thr_0.4_norm_minmax_1_9 pipeline\n"
     ]
    },
    {
     "name": "stderr",
     "output_type": "stream",
     "text": [
      "100%|██████████| 19/19 [00:00<00:00, 5816.92it/s]"
     ]
    },
    {
     "name": "stdout",
     "output_type": "stream",
     "text": [
      "[=========                                         ] 18.36%"
     ]
    },
    {
     "name": "stderr",
     "output_type": "stream",
     "text": [
      "\n"
     ]
    },
    {
     "name": "stdout",
     "output_type": "stream",
     "text": [
      "\n",
      "Testing pipeline_2D_thr_0.4_norm_minmax_1_10 pipeline\n"
     ]
    },
    {
     "name": "stderr",
     "output_type": "stream",
     "text": [
      "100%|██████████| 19/19 [00:00<00:00, 5437.48it/s]"
     ]
    },
    {
     "name": "stdout",
     "output_type": "stream",
     "text": [
      "[=========                                         ] 18.42%"
     ]
    },
    {
     "name": "stderr",
     "output_type": "stream",
     "text": [
      "\n"
     ]
    },
    {
     "name": "stdout",
     "output_type": "stream",
     "text": [
      "\n",
      "Testing pipeline_2D_thr_0.4_norm_minmax_1_11 pipeline\n"
     ]
    },
    {
     "name": "stderr",
     "output_type": "stream",
     "text": [
      "100%|██████████| 19/19 [00:00<00:00, 5944.04it/s]"
     ]
    },
    {
     "name": "stdout",
     "output_type": "stream",
     "text": [
      "[=========                                         ] 18.49%"
     ]
    },
    {
     "name": "stderr",
     "output_type": "stream",
     "text": [
      "\n"
     ]
    },
    {
     "name": "stdout",
     "output_type": "stream",
     "text": [
      "\n",
      "Testing pipeline_2D_thr_0.4_norm_minmax_1_12 pipeline\n"
     ]
    },
    {
     "name": "stderr",
     "output_type": "stream",
     "text": [
      "100%|██████████| 19/19 [00:00<00:00, 5882.61it/s]"
     ]
    },
    {
     "name": "stdout",
     "output_type": "stream",
     "text": [
      "[=========                                         ] 18.55%"
     ]
    },
    {
     "name": "stderr",
     "output_type": "stream",
     "text": [
      "\n"
     ]
    },
    {
     "name": "stdout",
     "output_type": "stream",
     "text": [
      "\n",
      "Testing pipeline_2D_thr_0.4_norm_minmax_1_13 pipeline\n"
     ]
    },
    {
     "name": "stderr",
     "output_type": "stream",
     "text": [
      "100%|██████████| 19/19 [00:00<00:00, 7389.13it/s]"
     ]
    },
    {
     "name": "stdout",
     "output_type": "stream",
     "text": [
      "[=========                                         ] 18.62%"
     ]
    },
    {
     "name": "stderr",
     "output_type": "stream",
     "text": [
      "\n"
     ]
    },
    {
     "name": "stdout",
     "output_type": "stream",
     "text": [
      "\n",
      "Testing pipeline_2D_thr_0.4_norm_minmax_1_14 pipeline\n"
     ]
    },
    {
     "name": "stderr",
     "output_type": "stream",
     "text": [
      "100%|██████████| 19/19 [00:00<00:00, 5958.26it/s]"
     ]
    },
    {
     "name": "stdout",
     "output_type": "stream",
     "text": [
      "[=========                                         ] 18.68%"
     ]
    },
    {
     "name": "stderr",
     "output_type": "stream",
     "text": [
      "\n"
     ]
    },
    {
     "name": "stdout",
     "output_type": "stream",
     "text": [
      "\n",
      "Testing pipeline_2D_thr_0.4_norm_minmax_1_15 pipeline\n"
     ]
    },
    {
     "name": "stderr",
     "output_type": "stream",
     "text": [
      "100%|██████████| 19/19 [00:00<00:00, 5557.69it/s]"
     ]
    },
    {
     "name": "stdout",
     "output_type": "stream",
     "text": [
      "[=========                                         ] 18.75%"
     ]
    },
    {
     "name": "stderr",
     "output_type": "stream",
     "text": [
      "\n"
     ]
    },
    {
     "name": "stdout",
     "output_type": "stream",
     "text": [
      "\n",
      "Testing pipeline_2D_thr_0.4_norm_minmax_2_0 pipeline\n"
     ]
    },
    {
     "name": "stderr",
     "output_type": "stream",
     "text": [
      "100%|██████████| 19/19 [00:00<00:00, 5726.22it/s]"
     ]
    },
    {
     "name": "stdout",
     "output_type": "stream",
     "text": [
      "[=========                                         ] 18.82%"
     ]
    },
    {
     "name": "stderr",
     "output_type": "stream",
     "text": [
      "\n"
     ]
    },
    {
     "name": "stdout",
     "output_type": "stream",
     "text": [
      "\n",
      "Testing pipeline_2D_thr_0.4_norm_minmax_2_1 pipeline\n"
     ]
    },
    {
     "name": "stderr",
     "output_type": "stream",
     "text": [
      "100%|██████████| 19/19 [00:00<00:00, 6056.99it/s]"
     ]
    },
    {
     "name": "stdout",
     "output_type": "stream",
     "text": [
      "[=========                                         ] 18.88%"
     ]
    },
    {
     "name": "stderr",
     "output_type": "stream",
     "text": [
      "\n"
     ]
    },
    {
     "name": "stdout",
     "output_type": "stream",
     "text": [
      "\n",
      "Testing pipeline_2D_thr_0.4_norm_minmax_2_2 pipeline\n"
     ]
    },
    {
     "name": "stderr",
     "output_type": "stream",
     "text": [
      "100%|██████████| 19/19 [00:00<00:00, 5553.05it/s]"
     ]
    },
    {
     "name": "stdout",
     "output_type": "stream",
     "text": [
      "[=========                                         ] 18.95%"
     ]
    },
    {
     "name": "stderr",
     "output_type": "stream",
     "text": [
      "\n"
     ]
    },
    {
     "name": "stdout",
     "output_type": "stream",
     "text": [
      "\n",
      "Testing pipeline_2D_thr_0.4_norm_minmax_2_3 pipeline\n"
     ]
    },
    {
     "name": "stderr",
     "output_type": "stream",
     "text": [
      "100%|██████████| 19/19 [00:00<00:00, 6312.72it/s]"
     ]
    },
    {
     "name": "stdout",
     "output_type": "stream",
     "text": [
      "[=========                                         ] 19.01%"
     ]
    },
    {
     "name": "stderr",
     "output_type": "stream",
     "text": [
      "\n"
     ]
    },
    {
     "name": "stdout",
     "output_type": "stream",
     "text": [
      "\n",
      "Testing pipeline_2D_thr_0.4_norm_minmax_2_4 pipeline\n"
     ]
    },
    {
     "name": "stderr",
     "output_type": "stream",
     "text": [
      "100%|██████████| 19/19 [00:00<00:00, 5988.26it/s]"
     ]
    },
    {
     "name": "stdout",
     "output_type": "stream",
     "text": [
      "[=========                                         ] 19.08%"
     ]
    },
    {
     "name": "stderr",
     "output_type": "stream",
     "text": [
      "\n"
     ]
    },
    {
     "name": "stdout",
     "output_type": "stream",
     "text": [
      "\n",
      "Testing pipeline_2D_thr_0.4_norm_minmax_2_5 pipeline\n"
     ]
    },
    {
     "name": "stderr",
     "output_type": "stream",
     "text": [
      "100%|██████████| 19/19 [00:00<00:00, 5663.14it/s]"
     ]
    },
    {
     "name": "stdout",
     "output_type": "stream",
     "text": [
      "[=========                                         ] 19.14%"
     ]
    },
    {
     "name": "stderr",
     "output_type": "stream",
     "text": [
      "\n"
     ]
    },
    {
     "name": "stdout",
     "output_type": "stream",
     "text": [
      "\n",
      "Testing pipeline_2D_thr_0.4_norm_minmax_2_6 pipeline\n"
     ]
    },
    {
     "name": "stderr",
     "output_type": "stream",
     "text": [
      "100%|██████████| 19/19 [00:00<00:00, 5273.06it/s]"
     ]
    },
    {
     "name": "stdout",
     "output_type": "stream",
     "text": [
      "[=========                                         ] 19.21%"
     ]
    },
    {
     "name": "stderr",
     "output_type": "stream",
     "text": [
      "\n"
     ]
    },
    {
     "name": "stdout",
     "output_type": "stream",
     "text": [
      "\n",
      "Testing pipeline_2D_thr_0.4_norm_minmax_2_7 pipeline\n"
     ]
    },
    {
     "name": "stderr",
     "output_type": "stream",
     "text": [
      "100%|██████████| 19/19 [00:00<00:00, 5875.24it/s]"
     ]
    },
    {
     "name": "stdout",
     "output_type": "stream",
     "text": [
      "[=========                                         ] 19.27%"
     ]
    },
    {
     "name": "stderr",
     "output_type": "stream",
     "text": [
      "\n"
     ]
    },
    {
     "name": "stdout",
     "output_type": "stream",
     "text": [
      "\n",
      "Testing pipeline_2D_thr_0.4_norm_minmax_2_8 pipeline\n"
     ]
    },
    {
     "name": "stderr",
     "output_type": "stream",
     "text": [
      "100%|██████████| 19/19 [00:00<00:00, 5572.85it/s]"
     ]
    },
    {
     "name": "stdout",
     "output_type": "stream",
     "text": [
      "[=========                                         ] 19.34%"
     ]
    },
    {
     "name": "stderr",
     "output_type": "stream",
     "text": [
      "\n"
     ]
    },
    {
     "name": "stdout",
     "output_type": "stream",
     "text": [
      "\n",
      "Testing pipeline_2D_thr_0.4_norm_minmax_2_9 pipeline\n"
     ]
    },
    {
     "name": "stderr",
     "output_type": "stream",
     "text": [
      "100%|██████████| 19/19 [00:00<00:00, 5071.06it/s]"
     ]
    },
    {
     "name": "stdout",
     "output_type": "stream",
     "text": [
      "[=========                                         ] 19.40%"
     ]
    },
    {
     "name": "stderr",
     "output_type": "stream",
     "text": [
      "\n"
     ]
    },
    {
     "name": "stdout",
     "output_type": "stream",
     "text": [
      "\n",
      "Testing pipeline_2D_thr_0.4_norm_minmax_2_10 pipeline\n"
     ]
    },
    {
     "name": "stderr",
     "output_type": "stream",
     "text": [
      "100%|██████████| 19/19 [00:00<00:00, 4699.08it/s]"
     ]
    },
    {
     "name": "stdout",
     "output_type": "stream",
     "text": [
      "[=========                                         ] 19.47%"
     ]
    },
    {
     "name": "stderr",
     "output_type": "stream",
     "text": [
      "\n"
     ]
    },
    {
     "name": "stdout",
     "output_type": "stream",
     "text": [
      "\n",
      "Testing pipeline_2D_thr_0.4_norm_minmax_2_11 pipeline\n"
     ]
    },
    {
     "name": "stderr",
     "output_type": "stream",
     "text": [
      "100%|██████████| 19/19 [00:00<00:00, 5227.40it/s]"
     ]
    },
    {
     "name": "stdout",
     "output_type": "stream",
     "text": [
      "[=========                                         ] 19.53%"
     ]
    },
    {
     "name": "stderr",
     "output_type": "stream",
     "text": [
      "\n"
     ]
    },
    {
     "name": "stdout",
     "output_type": "stream",
     "text": [
      "\n",
      "Testing pipeline_2D_thr_0.4_norm_minmax_2_12 pipeline\n"
     ]
    },
    {
     "name": "stderr",
     "output_type": "stream",
     "text": [
      "100%|██████████| 19/19 [00:00<00:00, 4059.49it/s]"
     ]
    },
    {
     "name": "stdout",
     "output_type": "stream",
     "text": [
      "[=========                                         ] 19.60%"
     ]
    },
    {
     "name": "stderr",
     "output_type": "stream",
     "text": [
      "\n"
     ]
    },
    {
     "name": "stdout",
     "output_type": "stream",
     "text": [
      "\n",
      "Testing pipeline_2D_thr_0.4_norm_minmax_2_13 pipeline\n"
     ]
    },
    {
     "name": "stderr",
     "output_type": "stream",
     "text": [
      "100%|██████████| 19/19 [00:00<00:00, 4480.84it/s]"
     ]
    },
    {
     "name": "stdout",
     "output_type": "stream",
     "text": [
      "[=========                                         ] 19.66%"
     ]
    },
    {
     "name": "stderr",
     "output_type": "stream",
     "text": [
      "\n"
     ]
    },
    {
     "name": "stdout",
     "output_type": "stream",
     "text": [
      "\n",
      "Testing pipeline_2D_thr_0.4_norm_minmax_2_14 pipeline\n"
     ]
    },
    {
     "name": "stderr",
     "output_type": "stream",
     "text": [
      "100%|██████████| 19/19 [00:00<00:00, 5443.43it/s]"
     ]
    },
    {
     "name": "stdout",
     "output_type": "stream",
     "text": [
      "[=========                                         ] 19.73%"
     ]
    },
    {
     "name": "stderr",
     "output_type": "stream",
     "text": [
      "\n"
     ]
    },
    {
     "name": "stdout",
     "output_type": "stream",
     "text": [
      "\n",
      "Testing pipeline_2D_thr_0.4_norm_minmax_2_15 pipeline\n"
     ]
    },
    {
     "name": "stderr",
     "output_type": "stream",
     "text": [
      "100%|██████████| 19/19 [00:00<00:00, 5370.07it/s]"
     ]
    },
    {
     "name": "stdout",
     "output_type": "stream",
     "text": [
      "[=========                                         ] 19.79%"
     ]
    },
    {
     "name": "stderr",
     "output_type": "stream",
     "text": [
      "\n"
     ]
    },
    {
     "name": "stdout",
     "output_type": "stream",
     "text": [
      "\n",
      "Testing pipeline_2D_thr_0.4_norm_minmax_3_0 pipeline\n"
     ]
    },
    {
     "name": "stderr",
     "output_type": "stream",
     "text": [
      "100%|██████████| 19/19 [00:00<00:00, 5794.92it/s]"
     ]
    },
    {
     "name": "stdout",
     "output_type": "stream",
     "text": [
      "[=========                                         ] 19.86%"
     ]
    },
    {
     "name": "stderr",
     "output_type": "stream",
     "text": [
      "\n"
     ]
    },
    {
     "name": "stdout",
     "output_type": "stream",
     "text": [
      "\n",
      "Testing pipeline_2D_thr_0.4_norm_minmax_3_1 pipeline\n"
     ]
    },
    {
     "name": "stderr",
     "output_type": "stream",
     "text": [
      "100%|██████████| 19/19 [00:00<00:00, 6178.14it/s]"
     ]
    },
    {
     "name": "stdout",
     "output_type": "stream",
     "text": [
      "[=========                                         ] 19.92%"
     ]
    },
    {
     "name": "stderr",
     "output_type": "stream",
     "text": [
      "\n"
     ]
    },
    {
     "name": "stdout",
     "output_type": "stream",
     "text": [
      "\n",
      "Testing pipeline_2D_thr_0.4_norm_minmax_3_2 pipeline\n"
     ]
    },
    {
     "name": "stderr",
     "output_type": "stream",
     "text": [
      "100%|██████████| 19/19 [00:00<00:00, 5778.53it/s]"
     ]
    },
    {
     "name": "stdout",
     "output_type": "stream",
     "text": [
      "[=========                                         ] 19.99%"
     ]
    },
    {
     "name": "stderr",
     "output_type": "stream",
     "text": [
      "\n"
     ]
    },
    {
     "name": "stdout",
     "output_type": "stream",
     "text": [
      "\n",
      "Testing pipeline_2D_thr_0.4_norm_minmax_3_3 pipeline\n"
     ]
    },
    {
     "name": "stderr",
     "output_type": "stream",
     "text": [
      "100%|██████████| 19/19 [00:00<00:00, 5834.38it/s]"
     ]
    },
    {
     "name": "stdout",
     "output_type": "stream",
     "text": [
      "[==========                                        ] 20.05%"
     ]
    },
    {
     "name": "stderr",
     "output_type": "stream",
     "text": [
      "\n"
     ]
    },
    {
     "name": "stdout",
     "output_type": "stream",
     "text": [
      "\n",
      "Testing pipeline_2D_thr_0.4_norm_minmax_3_4 pipeline\n"
     ]
    },
    {
     "name": "stderr",
     "output_type": "stream",
     "text": [
      "100%|██████████| 19/19 [00:00<00:00, 5103.54it/s]"
     ]
    },
    {
     "name": "stdout",
     "output_type": "stream",
     "text": [
      "[==========                                        ] 20.12%"
     ]
    },
    {
     "name": "stderr",
     "output_type": "stream",
     "text": [
      "\n"
     ]
    },
    {
     "name": "stdout",
     "output_type": "stream",
     "text": [
      "\n",
      "Testing pipeline_2D_thr_0.4_norm_minmax_3_5 pipeline\n"
     ]
    },
    {
     "name": "stderr",
     "output_type": "stream",
     "text": [
      "100%|██████████| 19/19 [00:00<00:00, 4926.54it/s]"
     ]
    },
    {
     "name": "stdout",
     "output_type": "stream",
     "text": [
      "[==========                                        ] 20.18%"
     ]
    },
    {
     "name": "stderr",
     "output_type": "stream",
     "text": [
      "\n"
     ]
    },
    {
     "name": "stdout",
     "output_type": "stream",
     "text": [
      "\n",
      "Testing pipeline_2D_thr_0.4_norm_minmax_3_6 pipeline\n"
     ]
    },
    {
     "name": "stderr",
     "output_type": "stream",
     "text": [
      "100%|██████████| 19/19 [00:00<00:00, 5088.22it/s]"
     ]
    },
    {
     "name": "stdout",
     "output_type": "stream",
     "text": [
      "[==========                                        ] 20.25%"
     ]
    },
    {
     "name": "stderr",
     "output_type": "stream",
     "text": [
      "\n"
     ]
    },
    {
     "name": "stdout",
     "output_type": "stream",
     "text": [
      "\n",
      "Testing pipeline_2D_thr_0.4_norm_minmax_3_7 pipeline\n"
     ]
    },
    {
     "name": "stderr",
     "output_type": "stream",
     "text": [
      "100%|██████████| 19/19 [00:00<00:00, 6410.73it/s]"
     ]
    },
    {
     "name": "stdout",
     "output_type": "stream",
     "text": [
      "[==========                                        ] 20.31%"
     ]
    },
    {
     "name": "stderr",
     "output_type": "stream",
     "text": [
      "\n"
     ]
    },
    {
     "name": "stdout",
     "output_type": "stream",
     "text": [
      "\n",
      "Testing pipeline_2D_thr_0.4_norm_minmax_3_8 pipeline\n"
     ]
    },
    {
     "name": "stderr",
     "output_type": "stream",
     "text": [
      "100%|██████████| 19/19 [00:00<00:00, 5361.03it/s]"
     ]
    },
    {
     "name": "stdout",
     "output_type": "stream",
     "text": [
      "[==========                                        ] 20.38%"
     ]
    },
    {
     "name": "stderr",
     "output_type": "stream",
     "text": [
      "\n"
     ]
    },
    {
     "name": "stdout",
     "output_type": "stream",
     "text": [
      "\n",
      "Testing pipeline_2D_thr_0.4_norm_minmax_3_9 pipeline\n"
     ]
    },
    {
     "name": "stderr",
     "output_type": "stream",
     "text": [
      "100%|██████████| 19/19 [00:00<00:00, 5803.36it/s]"
     ]
    },
    {
     "name": "stdout",
     "output_type": "stream",
     "text": [
      "[==========                                        ] 20.44%"
     ]
    },
    {
     "name": "stderr",
     "output_type": "stream",
     "text": [
      "\n"
     ]
    },
    {
     "name": "stdout",
     "output_type": "stream",
     "text": [
      "\n",
      "Testing pipeline_2D_thr_0.4_norm_minmax_3_10 pipeline\n"
     ]
    },
    {
     "name": "stderr",
     "output_type": "stream",
     "text": [
      "100%|██████████| 19/19 [00:00<00:00, 6204.59it/s]"
     ]
    },
    {
     "name": "stdout",
     "output_type": "stream",
     "text": [
      "[==========                                        ] 20.51%"
     ]
    },
    {
     "name": "stderr",
     "output_type": "stream",
     "text": [
      "\n"
     ]
    },
    {
     "name": "stdout",
     "output_type": "stream",
     "text": [
      "\n",
      "Testing pipeline_2D_thr_0.4_norm_minmax_3_11 pipeline\n"
     ]
    },
    {
     "name": "stderr",
     "output_type": "stream",
     "text": [
      "100%|██████████| 19/19 [00:00<00:00, 5575.19it/s]"
     ]
    },
    {
     "name": "stdout",
     "output_type": "stream",
     "text": [
      "[==========                                        ] 20.57%"
     ]
    },
    {
     "name": "stderr",
     "output_type": "stream",
     "text": [
      "\n"
     ]
    },
    {
     "name": "stdout",
     "output_type": "stream",
     "text": [
      "\n",
      "Testing pipeline_2D_thr_0.4_norm_minmax_3_12 pipeline\n"
     ]
    },
    {
     "name": "stderr",
     "output_type": "stream",
     "text": [
      "100%|██████████| 19/19 [00:00<00:00, 6440.78it/s]"
     ]
    },
    {
     "name": "stdout",
     "output_type": "stream",
     "text": [
      "[==========                                        ] 20.64%"
     ]
    },
    {
     "name": "stderr",
     "output_type": "stream",
     "text": [
      "\n"
     ]
    },
    {
     "name": "stdout",
     "output_type": "stream",
     "text": [
      "\n",
      "Testing pipeline_2D_thr_0.4_norm_minmax_3_13 pipeline\n"
     ]
    },
    {
     "name": "stderr",
     "output_type": "stream",
     "text": [
      "100%|██████████| 19/19 [00:00<00:00, 6405.58it/s]"
     ]
    },
    {
     "name": "stdout",
     "output_type": "stream",
     "text": [
      "[==========                                        ] 20.70%"
     ]
    },
    {
     "name": "stderr",
     "output_type": "stream",
     "text": [
      "\n"
     ]
    },
    {
     "name": "stdout",
     "output_type": "stream",
     "text": [
      "\n",
      "Testing pipeline_2D_thr_0.4_norm_minmax_3_14 pipeline\n"
     ]
    },
    {
     "name": "stderr",
     "output_type": "stream",
     "text": [
      "100%|██████████| 19/19 [00:00<00:00, 5844.22it/s]"
     ]
    },
    {
     "name": "stdout",
     "output_type": "stream",
     "text": [
      "[==========                                        ] 20.77%"
     ]
    },
    {
     "name": "stderr",
     "output_type": "stream",
     "text": [
      "\n"
     ]
    },
    {
     "name": "stdout",
     "output_type": "stream",
     "text": [
      "\n",
      "Testing pipeline_2D_thr_0.4_norm_minmax_3_15 pipeline\n"
     ]
    },
    {
     "name": "stderr",
     "output_type": "stream",
     "text": [
      "100%|██████████| 19/19 [00:00<00:00, 6015.38it/s]"
     ]
    },
    {
     "name": "stdout",
     "output_type": "stream",
     "text": [
      "[==========                                        ] 20.83%"
     ]
    },
    {
     "name": "stderr",
     "output_type": "stream",
     "text": [
      "\n"
     ]
    },
    {
     "name": "stdout",
     "output_type": "stream",
     "text": [
      "\n",
      "Testing pipeline_2D_thr_0.4_norm_percentile_0_0 pipeline\n"
     ]
    },
    {
     "name": "stderr",
     "output_type": "stream",
     "text": [
      "100%|██████████| 19/19 [00:00<00:00, 6734.14it/s]"
     ]
    },
    {
     "name": "stdout",
     "output_type": "stream",
     "text": [
      "[==========                                        ] 20.90%"
     ]
    },
    {
     "name": "stderr",
     "output_type": "stream",
     "text": [
      "\n"
     ]
    },
    {
     "name": "stdout",
     "output_type": "stream",
     "text": [
      "\n",
      "Testing pipeline_2D_thr_0.4_norm_percentile_0_1 pipeline\n"
     ]
    },
    {
     "name": "stderr",
     "output_type": "stream",
     "text": [
      "100%|██████████| 19/19 [00:00<00:00, 4524.09it/s]"
     ]
    },
    {
     "name": "stdout",
     "output_type": "stream",
     "text": [
      "[==========                                        ] 20.96%"
     ]
    },
    {
     "name": "stderr",
     "output_type": "stream",
     "text": [
      "\n"
     ]
    },
    {
     "name": "stdout",
     "output_type": "stream",
     "text": [
      "\n",
      "Testing pipeline_2D_thr_0.4_norm_percentile_0_2 pipeline\n"
     ]
    },
    {
     "name": "stderr",
     "output_type": "stream",
     "text": [
      "100%|██████████| 19/19 [00:00<00:00, 5503.58it/s]"
     ]
    },
    {
     "name": "stdout",
     "output_type": "stream",
     "text": [
      "[==========                                        ] 21.03%"
     ]
    },
    {
     "name": "stderr",
     "output_type": "stream",
     "text": [
      "\n"
     ]
    },
    {
     "name": "stdout",
     "output_type": "stream",
     "text": [
      "\n",
      "Testing pipeline_2D_thr_0.4_norm_percentile_0_3 pipeline\n"
     ]
    },
    {
     "name": "stderr",
     "output_type": "stream",
     "text": [
      "100%|██████████| 19/19 [00:00<00:00, 5368.26it/s]"
     ]
    },
    {
     "name": "stdout",
     "output_type": "stream",
     "text": [
      "[==========                                        ] 21.09%"
     ]
    },
    {
     "name": "stderr",
     "output_type": "stream",
     "text": [
      "\n"
     ]
    },
    {
     "name": "stdout",
     "output_type": "stream",
     "text": [
      "\n",
      "Testing pipeline_2D_thr_0.4_norm_percentile_0_4 pipeline\n"
     ]
    },
    {
     "name": "stderr",
     "output_type": "stream",
     "text": [
      "100%|██████████| 19/19 [00:00<00:00, 6868.20it/s]"
     ]
    },
    {
     "name": "stdout",
     "output_type": "stream",
     "text": [
      "[==========                                        ] 21.16%"
     ]
    },
    {
     "name": "stderr",
     "output_type": "stream",
     "text": [
      "\n"
     ]
    },
    {
     "name": "stdout",
     "output_type": "stream",
     "text": [
      "\n",
      "Testing pipeline_2D_thr_0.4_norm_percentile_0_5 pipeline\n"
     ]
    },
    {
     "name": "stderr",
     "output_type": "stream",
     "text": [
      "100%|██████████| 19/19 [00:00<00:00, 6443.91it/s]"
     ]
    },
    {
     "name": "stdout",
     "output_type": "stream",
     "text": [
      "[==========                                        ] 21.22%"
     ]
    },
    {
     "name": "stderr",
     "output_type": "stream",
     "text": [
      "\n"
     ]
    },
    {
     "name": "stdout",
     "output_type": "stream",
     "text": [
      "\n",
      "Testing pipeline_2D_thr_0.4_norm_percentile_0_6 pipeline\n"
     ]
    },
    {
     "name": "stderr",
     "output_type": "stream",
     "text": [
      "100%|██████████| 19/19 [00:00<00:00, 6033.60it/s]"
     ]
    },
    {
     "name": "stdout",
     "output_type": "stream",
     "text": [
      "[==========                                        ] 21.29%"
     ]
    },
    {
     "name": "stderr",
     "output_type": "stream",
     "text": [
      "\n"
     ]
    },
    {
     "name": "stdout",
     "output_type": "stream",
     "text": [
      "\n",
      "Testing pipeline_2D_thr_0.4_norm_percentile_0_7 pipeline\n"
     ]
    },
    {
     "name": "stderr",
     "output_type": "stream",
     "text": [
      "100%|██████████| 19/19 [00:00<00:00, 5447.15it/s]"
     ]
    },
    {
     "name": "stdout",
     "output_type": "stream",
     "text": [
      "[==========                                        ] 21.35%"
     ]
    },
    {
     "name": "stderr",
     "output_type": "stream",
     "text": [
      "\n"
     ]
    },
    {
     "name": "stdout",
     "output_type": "stream",
     "text": [
      "\n",
      "Testing pipeline_2D_thr_0.4_norm_percentile_0_8 pipeline\n"
     ]
    },
    {
     "name": "stderr",
     "output_type": "stream",
     "text": [
      "100%|██████████| 19/19 [00:00<00:00, 6886.60it/s]"
     ]
    },
    {
     "name": "stdout",
     "output_type": "stream",
     "text": [
      "[==========                                        ] 21.42%"
     ]
    },
    {
     "name": "stderr",
     "output_type": "stream",
     "text": [
      "\n"
     ]
    },
    {
     "name": "stdout",
     "output_type": "stream",
     "text": [
      "\n",
      "Testing pipeline_2D_thr_0.4_norm_percentile_0_9 pipeline\n"
     ]
    },
    {
     "name": "stderr",
     "output_type": "stream",
     "text": [
      "100%|██████████| 19/19 [00:00<00:00, 6322.24it/s]"
     ]
    },
    {
     "name": "stdout",
     "output_type": "stream",
     "text": [
      "[==========                                        ] 21.48%"
     ]
    },
    {
     "name": "stderr",
     "output_type": "stream",
     "text": [
      "\n"
     ]
    },
    {
     "name": "stdout",
     "output_type": "stream",
     "text": [
      "\n",
      "Testing pipeline_2D_thr_0.4_norm_percentile_0_10 pipeline\n"
     ]
    },
    {
     "name": "stderr",
     "output_type": "stream",
     "text": [
      "100%|██████████| 19/19 [00:00<00:00, 6761.56it/s]"
     ]
    },
    {
     "name": "stdout",
     "output_type": "stream",
     "text": [
      "[==========                                        ] 21.55%"
     ]
    },
    {
     "name": "stderr",
     "output_type": "stream",
     "text": [
      "\n"
     ]
    },
    {
     "name": "stdout",
     "output_type": "stream",
     "text": [
      "\n",
      "Testing pipeline_2D_thr_0.4_norm_percentile_0_11 pipeline\n"
     ]
    },
    {
     "name": "stderr",
     "output_type": "stream",
     "text": [
      "100%|██████████| 19/19 [00:00<00:00, 7042.40it/s]"
     ]
    },
    {
     "name": "stdout",
     "output_type": "stream",
     "text": [
      "[==========                                        ] 21.61%"
     ]
    },
    {
     "name": "stderr",
     "output_type": "stream",
     "text": [
      "\n"
     ]
    },
    {
     "name": "stdout",
     "output_type": "stream",
     "text": [
      "\n",
      "Testing pipeline_2D_thr_0.4_norm_percentile_0_12 pipeline\n"
     ]
    },
    {
     "name": "stderr",
     "output_type": "stream",
     "text": [
      "100%|██████████| 19/19 [00:00<00:00, 7617.99it/s]"
     ]
    },
    {
     "name": "stdout",
     "output_type": "stream",
     "text": [
      "[==========                                        ] 21.68%"
     ]
    },
    {
     "name": "stderr",
     "output_type": "stream",
     "text": [
      "\n"
     ]
    },
    {
     "name": "stdout",
     "output_type": "stream",
     "text": [
      "\n",
      "Testing pipeline_2D_thr_0.4_norm_percentile_0_13 pipeline\n"
     ]
    },
    {
     "name": "stderr",
     "output_type": "stream",
     "text": [
      "100%|██████████| 19/19 [00:00<00:00, 6311.72it/s]"
     ]
    },
    {
     "name": "stdout",
     "output_type": "stream",
     "text": [
      "[==========                                        ] 21.74%"
     ]
    },
    {
     "name": "stderr",
     "output_type": "stream",
     "text": [
      "\n"
     ]
    },
    {
     "name": "stdout",
     "output_type": "stream",
     "text": [
      "\n",
      "Testing pipeline_2D_thr_0.4_norm_percentile_0_14 pipeline\n"
     ]
    },
    {
     "name": "stderr",
     "output_type": "stream",
     "text": [
      "100%|██████████| 19/19 [00:00<00:00, 6785.17it/s]"
     ]
    },
    {
     "name": "stdout",
     "output_type": "stream",
     "text": [
      "[==========                                        ] 21.81%"
     ]
    },
    {
     "name": "stderr",
     "output_type": "stream",
     "text": [
      "\n"
     ]
    },
    {
     "name": "stdout",
     "output_type": "stream",
     "text": [
      "\n",
      "Testing pipeline_2D_thr_0.4_norm_percentile_0_15 pipeline\n"
     ]
    },
    {
     "name": "stderr",
     "output_type": "stream",
     "text": [
      "100%|██████████| 19/19 [00:00<00:00, 7360.47it/s]"
     ]
    },
    {
     "name": "stdout",
     "output_type": "stream",
     "text": [
      "[==========                                        ] 21.88%"
     ]
    },
    {
     "name": "stderr",
     "output_type": "stream",
     "text": [
      "\n"
     ]
    },
    {
     "name": "stdout",
     "output_type": "stream",
     "text": [
      "\n",
      "Testing pipeline_2D_thr_0.4_norm_percentile_1_0 pipeline\n"
     ]
    },
    {
     "name": "stderr",
     "output_type": "stream",
     "text": [
      "100%|██████████| 19/19 [00:00<00:00, 6945.42it/s]"
     ]
    },
    {
     "name": "stdout",
     "output_type": "stream",
     "text": [
      "[==========                                        ] 21.94%"
     ]
    },
    {
     "name": "stderr",
     "output_type": "stream",
     "text": [
      "\n"
     ]
    },
    {
     "name": "stdout",
     "output_type": "stream",
     "text": [
      "\n",
      "Testing pipeline_2D_thr_0.4_norm_percentile_1_1 pipeline\n"
     ]
    },
    {
     "name": "stderr",
     "output_type": "stream",
     "text": [
      "100%|██████████| 19/19 [00:00<00:00, 5708.99it/s]"
     ]
    },
    {
     "name": "stdout",
     "output_type": "stream",
     "text": [
      "[===========                                       ] 22.01%"
     ]
    },
    {
     "name": "stderr",
     "output_type": "stream",
     "text": [
      "\n"
     ]
    },
    {
     "name": "stdout",
     "output_type": "stream",
     "text": [
      "\n",
      "Testing pipeline_2D_thr_0.4_norm_percentile_1_2 pipeline\n"
     ]
    },
    {
     "name": "stderr",
     "output_type": "stream",
     "text": [
      "100%|██████████| 19/19 [00:00<00:00, 5712.67it/s]"
     ]
    },
    {
     "name": "stdout",
     "output_type": "stream",
     "text": [
      "[===========                                       ] 22.07%"
     ]
    },
    {
     "name": "stderr",
     "output_type": "stream",
     "text": [
      "\n"
     ]
    },
    {
     "name": "stdout",
     "output_type": "stream",
     "text": [
      "\n",
      "Testing pipeline_2D_thr_0.4_norm_percentile_1_3 pipeline\n"
     ]
    },
    {
     "name": "stderr",
     "output_type": "stream",
     "text": [
      "100%|██████████| 19/19 [00:00<00:00, 6499.61it/s]"
     ]
    },
    {
     "name": "stdout",
     "output_type": "stream",
     "text": [
      "[===========                                       ] 22.14%"
     ]
    },
    {
     "name": "stderr",
     "output_type": "stream",
     "text": [
      "\n"
     ]
    },
    {
     "name": "stdout",
     "output_type": "stream",
     "text": [
      "\n",
      "Testing pipeline_2D_thr_0.4_norm_percentile_1_4 pipeline\n"
     ]
    },
    {
     "name": "stderr",
     "output_type": "stream",
     "text": [
      "100%|██████████| 19/19 [00:00<00:00, 6652.07it/s]"
     ]
    },
    {
     "name": "stdout",
     "output_type": "stream",
     "text": [
      "[===========                                       ] 22.20%"
     ]
    },
    {
     "name": "stderr",
     "output_type": "stream",
     "text": [
      "\n"
     ]
    },
    {
     "name": "stdout",
     "output_type": "stream",
     "text": [
      "\n",
      "Testing pipeline_2D_thr_0.4_norm_percentile_1_5 pipeline\n"
     ]
    },
    {
     "name": "stderr",
     "output_type": "stream",
     "text": [
      "100%|██████████| 19/19 [00:00<00:00, 6513.43it/s]"
     ]
    },
    {
     "name": "stdout",
     "output_type": "stream",
     "text": [
      "[===========                                       ] 22.27%"
     ]
    },
    {
     "name": "stderr",
     "output_type": "stream",
     "text": [
      "\n"
     ]
    },
    {
     "name": "stdout",
     "output_type": "stream",
     "text": [
      "\n",
      "Testing pipeline_2D_thr_0.4_norm_percentile_1_6 pipeline\n"
     ]
    },
    {
     "name": "stderr",
     "output_type": "stream",
     "text": [
      "100%|██████████| 19/19 [00:00<00:00, 5798.30it/s]"
     ]
    },
    {
     "name": "stdout",
     "output_type": "stream",
     "text": [
      "[===========                                       ] 22.33%"
     ]
    },
    {
     "name": "stderr",
     "output_type": "stream",
     "text": [
      "\n"
     ]
    },
    {
     "name": "stdout",
     "output_type": "stream",
     "text": [
      "\n",
      "Testing pipeline_2D_thr_0.4_norm_percentile_1_7 pipeline\n"
     ]
    },
    {
     "name": "stderr",
     "output_type": "stream",
     "text": [
      "100%|██████████| 19/19 [00:00<00:00, 5710.63it/s]"
     ]
    },
    {
     "name": "stdout",
     "output_type": "stream",
     "text": [
      "[===========                                       ] 22.40%"
     ]
    },
    {
     "name": "stderr",
     "output_type": "stream",
     "text": [
      "\n"
     ]
    },
    {
     "name": "stdout",
     "output_type": "stream",
     "text": [
      "\n",
      "Testing pipeline_2D_thr_0.4_norm_percentile_1_8 pipeline\n"
     ]
    },
    {
     "name": "stderr",
     "output_type": "stream",
     "text": [
      "100%|██████████| 19/19 [00:00<00:00, 6510.77it/s]"
     ]
    },
    {
     "name": "stdout",
     "output_type": "stream",
     "text": [
      "[===========                                       ] 22.46%"
     ]
    },
    {
     "name": "stderr",
     "output_type": "stream",
     "text": [
      "\n"
     ]
    },
    {
     "name": "stdout",
     "output_type": "stream",
     "text": [
      "\n",
      "Testing pipeline_2D_thr_0.4_norm_percentile_1_9 pipeline\n"
     ]
    },
    {
     "name": "stderr",
     "output_type": "stream",
     "text": [
      "100%|██████████| 19/19 [00:00<00:00, 6588.28it/s]"
     ]
    },
    {
     "name": "stdout",
     "output_type": "stream",
     "text": [
      "[===========                                       ] 22.53%"
     ]
    },
    {
     "name": "stderr",
     "output_type": "stream",
     "text": [
      "\n"
     ]
    },
    {
     "name": "stdout",
     "output_type": "stream",
     "text": [
      "\n",
      "Testing pipeline_2D_thr_0.4_norm_percentile_1_10 pipeline\n"
     ]
    },
    {
     "name": "stderr",
     "output_type": "stream",
     "text": [
      "100%|██████████| 19/19 [00:00<00:00, 5339.12it/s]"
     ]
    },
    {
     "name": "stdout",
     "output_type": "stream",
     "text": [
      "[===========                                       ] 22.59%"
     ]
    },
    {
     "name": "stderr",
     "output_type": "stream",
     "text": [
      "\n"
     ]
    },
    {
     "name": "stdout",
     "output_type": "stream",
     "text": [
      "\n",
      "Testing pipeline_2D_thr_0.4_norm_percentile_1_11 pipeline\n"
     ]
    },
    {
     "name": "stderr",
     "output_type": "stream",
     "text": [
      "100%|██████████| 19/19 [00:00<00:00, 6645.41it/s]"
     ]
    },
    {
     "name": "stdout",
     "output_type": "stream",
     "text": [
      "[===========                                       ] 22.66%"
     ]
    },
    {
     "name": "stderr",
     "output_type": "stream",
     "text": [
      "\n"
     ]
    },
    {
     "name": "stdout",
     "output_type": "stream",
     "text": [
      "\n",
      "Testing pipeline_2D_thr_0.4_norm_percentile_1_12 pipeline\n"
     ]
    },
    {
     "name": "stderr",
     "output_type": "stream",
     "text": [
      "100%|██████████| 19/19 [00:00<00:00, 4947.34it/s]"
     ]
    },
    {
     "name": "stdout",
     "output_type": "stream",
     "text": [
      "[===========                                       ] 22.72%"
     ]
    },
    {
     "name": "stderr",
     "output_type": "stream",
     "text": [
      "\n"
     ]
    },
    {
     "name": "stdout",
     "output_type": "stream",
     "text": [
      "\n",
      "Testing pipeline_2D_thr_0.4_norm_percentile_1_13 pipeline\n"
     ]
    },
    {
     "name": "stderr",
     "output_type": "stream",
     "text": [
      "100%|██████████| 19/19 [00:00<00:00, 6041.83it/s]"
     ]
    },
    {
     "name": "stdout",
     "output_type": "stream",
     "text": [
      "[===========                                       ] 22.79%"
     ]
    },
    {
     "name": "stderr",
     "output_type": "stream",
     "text": [
      "\n"
     ]
    },
    {
     "name": "stdout",
     "output_type": "stream",
     "text": [
      "\n",
      "Testing pipeline_2D_thr_0.4_norm_percentile_1_14 pipeline\n"
     ]
    },
    {
     "name": "stderr",
     "output_type": "stream",
     "text": [
      "100%|██████████| 19/19 [00:00<00:00, 5885.22it/s]"
     ]
    },
    {
     "name": "stdout",
     "output_type": "stream",
     "text": [
      "[===========                                       ] 22.85%"
     ]
    },
    {
     "name": "stderr",
     "output_type": "stream",
     "text": [
      "\n"
     ]
    },
    {
     "name": "stdout",
     "output_type": "stream",
     "text": [
      "\n",
      "Testing pipeline_2D_thr_0.4_norm_percentile_1_15 pipeline\n"
     ]
    },
    {
     "name": "stderr",
     "output_type": "stream",
     "text": [
      "100%|██████████| 19/19 [00:00<00:00, 5152.04it/s]"
     ]
    },
    {
     "name": "stdout",
     "output_type": "stream",
     "text": [
      "[===========                                       ] 22.92%"
     ]
    },
    {
     "name": "stderr",
     "output_type": "stream",
     "text": [
      "\n"
     ]
    },
    {
     "name": "stdout",
     "output_type": "stream",
     "text": [
      "\n",
      "Testing pipeline_2D_thr_0.4_norm_percentile_2_0 pipeline\n"
     ]
    },
    {
     "name": "stderr",
     "output_type": "stream",
     "text": [
      "100%|██████████| 19/19 [00:00<00:00, 6662.63it/s]"
     ]
    },
    {
     "name": "stdout",
     "output_type": "stream",
     "text": [
      "[===========                                       ] 22.98%"
     ]
    },
    {
     "name": "stderr",
     "output_type": "stream",
     "text": [
      "\n"
     ]
    },
    {
     "name": "stdout",
     "output_type": "stream",
     "text": [
      "\n",
      "Testing pipeline_2D_thr_0.4_norm_percentile_2_1 pipeline\n"
     ]
    },
    {
     "name": "stderr",
     "output_type": "stream",
     "text": [
      "100%|██████████| 19/19 [00:00<00:00, 5823.72it/s]"
     ]
    },
    {
     "name": "stdout",
     "output_type": "stream",
     "text": [
      "[===========                                       ] 23.05%"
     ]
    },
    {
     "name": "stderr",
     "output_type": "stream",
     "text": [
      "\n"
     ]
    },
    {
     "name": "stdout",
     "output_type": "stream",
     "text": [
      "\n",
      "Testing pipeline_2D_thr_0.4_norm_percentile_2_2 pipeline\n"
     ]
    },
    {
     "name": "stderr",
     "output_type": "stream",
     "text": [
      "100%|██████████| 19/19 [00:00<00:00, 6337.82it/s]"
     ]
    },
    {
     "name": "stdout",
     "output_type": "stream",
     "text": [
      "[===========                                       ] 23.11%"
     ]
    },
    {
     "name": "stderr",
     "output_type": "stream",
     "text": [
      "\n"
     ]
    },
    {
     "name": "stdout",
     "output_type": "stream",
     "text": [
      "\n",
      "Testing pipeline_2D_thr_0.4_norm_percentile_2_3 pipeline\n"
     ]
    },
    {
     "name": "stderr",
     "output_type": "stream",
     "text": [
      "100%|██████████| 19/19 [00:00<00:00, 6392.22it/s]"
     ]
    },
    {
     "name": "stdout",
     "output_type": "stream",
     "text": [
      "[===========                                       ] 23.18%"
     ]
    },
    {
     "name": "stderr",
     "output_type": "stream",
     "text": [
      "\n"
     ]
    },
    {
     "name": "stdout",
     "output_type": "stream",
     "text": [
      "\n",
      "Testing pipeline_2D_thr_0.4_norm_percentile_2_4 pipeline\n"
     ]
    },
    {
     "name": "stderr",
     "output_type": "stream",
     "text": [
      "100%|██████████| 19/19 [00:00<00:00, 6851.08it/s]"
     ]
    },
    {
     "name": "stdout",
     "output_type": "stream",
     "text": [
      "[===========                                       ] 23.24%"
     ]
    },
    {
     "name": "stderr",
     "output_type": "stream",
     "text": [
      "\n"
     ]
    },
    {
     "name": "stdout",
     "output_type": "stream",
     "text": [
      "\n",
      "Testing pipeline_2D_thr_0.4_norm_percentile_2_5 pipeline\n"
     ]
    },
    {
     "name": "stderr",
     "output_type": "stream",
     "text": [
      "100%|██████████| 19/19 [00:00<00:00, 7607.81it/s]"
     ]
    },
    {
     "name": "stdout",
     "output_type": "stream",
     "text": [
      "[===========                                       ] 23.31%"
     ]
    },
    {
     "name": "stderr",
     "output_type": "stream",
     "text": [
      "\n"
     ]
    },
    {
     "name": "stdout",
     "output_type": "stream",
     "text": [
      "\n",
      "Testing pipeline_2D_thr_0.4_norm_percentile_2_6 pipeline\n"
     ]
    },
    {
     "name": "stderr",
     "output_type": "stream",
     "text": [
      "100%|██████████| 19/19 [00:00<00:00, 6349.44it/s]"
     ]
    },
    {
     "name": "stdout",
     "output_type": "stream",
     "text": [
      "[===========                                       ] 23.37%"
     ]
    },
    {
     "name": "stderr",
     "output_type": "stream",
     "text": [
      "\n"
     ]
    },
    {
     "name": "stdout",
     "output_type": "stream",
     "text": [
      "\n",
      "Testing pipeline_2D_thr_0.4_norm_percentile_2_7 pipeline\n"
     ]
    },
    {
     "name": "stderr",
     "output_type": "stream",
     "text": [
      "100%|██████████| 19/19 [00:00<00:00, 6588.28it/s]"
     ]
    },
    {
     "name": "stdout",
     "output_type": "stream",
     "text": [
      "[===========                                       ] 23.44%"
     ]
    },
    {
     "name": "stderr",
     "output_type": "stream",
     "text": [
      "\n"
     ]
    },
    {
     "name": "stdout",
     "output_type": "stream",
     "text": [
      "\n",
      "Testing pipeline_2D_thr_0.4_norm_percentile_2_8 pipeline\n"
     ]
    },
    {
     "name": "stderr",
     "output_type": "stream",
     "text": [
      "100%|██████████| 19/19 [00:00<00:00, 6227.87it/s]"
     ]
    },
    {
     "name": "stdout",
     "output_type": "stream",
     "text": [
      "[===========                                       ] 23.50%"
     ]
    },
    {
     "name": "stderr",
     "output_type": "stream",
     "text": [
      "\n"
     ]
    },
    {
     "name": "stdout",
     "output_type": "stream",
     "text": [
      "\n",
      "Testing pipeline_2D_thr_0.4_norm_percentile_2_9 pipeline\n"
     ]
    },
    {
     "name": "stderr",
     "output_type": "stream",
     "text": [
      "100%|██████████| 19/19 [00:00<00:00, 6242.50it/s]"
     ]
    },
    {
     "name": "stdout",
     "output_type": "stream",
     "text": [
      "[===========                                       ] 23.57%"
     ]
    },
    {
     "name": "stderr",
     "output_type": "stream",
     "text": [
      "\n"
     ]
    },
    {
     "name": "stdout",
     "output_type": "stream",
     "text": [
      "\n",
      "Testing pipeline_2D_thr_0.4_norm_percentile_2_10 pipeline\n"
     ]
    },
    {
     "name": "stderr",
     "output_type": "stream",
     "text": [
      "100%|██████████| 19/19 [00:00<00:00, 6884.82it/s]"
     ]
    },
    {
     "name": "stdout",
     "output_type": "stream",
     "text": [
      "[===========                                       ] 23.63%"
     ]
    },
    {
     "name": "stderr",
     "output_type": "stream",
     "text": [
      "\n"
     ]
    },
    {
     "name": "stdout",
     "output_type": "stream",
     "text": [
      "\n",
      "Testing pipeline_2D_thr_0.4_norm_percentile_2_11 pipeline\n"
     ]
    },
    {
     "name": "stderr",
     "output_type": "stream",
     "text": [
      "100%|██████████| 19/19 [00:00<00:00, 6678.83it/s]"
     ]
    },
    {
     "name": "stdout",
     "output_type": "stream",
     "text": [
      "[===========                                       ] 23.70%"
     ]
    },
    {
     "name": "stderr",
     "output_type": "stream",
     "text": [
      "\n"
     ]
    },
    {
     "name": "stdout",
     "output_type": "stream",
     "text": [
      "\n",
      "Testing pipeline_2D_thr_0.4_norm_percentile_2_12 pipeline\n"
     ]
    },
    {
     "name": "stderr",
     "output_type": "stream",
     "text": [
      "100%|██████████| 19/19 [00:00<00:00, 5428.60it/s]"
     ]
    },
    {
     "name": "stdout",
     "output_type": "stream",
     "text": [
      "[===========                                       ] 23.76%"
     ]
    },
    {
     "name": "stderr",
     "output_type": "stream",
     "text": [
      "\n"
     ]
    },
    {
     "name": "stdout",
     "output_type": "stream",
     "text": [
      "\n",
      "Testing pipeline_2D_thr_0.4_norm_percentile_2_13 pipeline\n"
     ]
    },
    {
     "name": "stderr",
     "output_type": "stream",
     "text": [
      "100%|██████████| 19/19 [00:00<00:00, 5189.28it/s]"
     ]
    },
    {
     "name": "stdout",
     "output_type": "stream",
     "text": [
      "[===========                                       ] 23.83%"
     ]
    },
    {
     "name": "stderr",
     "output_type": "stream",
     "text": [
      "\n"
     ]
    },
    {
     "name": "stdout",
     "output_type": "stream",
     "text": [
      "\n",
      "Testing pipeline_2D_thr_0.4_norm_percentile_2_14 pipeline\n"
     ]
    },
    {
     "name": "stderr",
     "output_type": "stream",
     "text": [
      "100%|██████████| 19/19 [00:00<00:00, 6171.44it/s]"
     ]
    },
    {
     "name": "stdout",
     "output_type": "stream",
     "text": [
      "[===========                                       ] 23.89%"
     ]
    },
    {
     "name": "stderr",
     "output_type": "stream",
     "text": [
      "\n"
     ]
    },
    {
     "name": "stdout",
     "output_type": "stream",
     "text": [
      "\n",
      "Testing pipeline_2D_thr_0.4_norm_percentile_2_15 pipeline\n"
     ]
    },
    {
     "name": "stderr",
     "output_type": "stream",
     "text": [
      "100%|██████████| 19/19 [00:00<00:00, 5686.18it/s]"
     ]
    },
    {
     "name": "stdout",
     "output_type": "stream",
     "text": [
      "[===========                                       ] 23.96%"
     ]
    },
    {
     "name": "stderr",
     "output_type": "stream",
     "text": [
      "\n"
     ]
    },
    {
     "name": "stdout",
     "output_type": "stream",
     "text": [
      "\n",
      "Testing pipeline_2D_thr_0.4_norm_percentile_3_0 pipeline\n"
     ]
    },
    {
     "name": "stderr",
     "output_type": "stream",
     "text": [
      "100%|██████████| 19/19 [00:00<00:00, 7180.73it/s]"
     ]
    },
    {
     "name": "stdout",
     "output_type": "stream",
     "text": [
      "[============                                      ] 24.02%"
     ]
    },
    {
     "name": "stderr",
     "output_type": "stream",
     "text": [
      "\n"
     ]
    },
    {
     "name": "stdout",
     "output_type": "stream",
     "text": [
      "\n",
      "Testing pipeline_2D_thr_0.4_norm_percentile_3_1 pipeline\n"
     ]
    },
    {
     "name": "stderr",
     "output_type": "stream",
     "text": [
      "100%|██████████| 19/19 [00:00<00:00, 5896.11it/s]"
     ]
    },
    {
     "name": "stdout",
     "output_type": "stream",
     "text": [
      "[============                                      ] 24.09%"
     ]
    },
    {
     "name": "stderr",
     "output_type": "stream",
     "text": [
      "\n"
     ]
    },
    {
     "name": "stdout",
     "output_type": "stream",
     "text": [
      "\n",
      "Testing pipeline_2D_thr_0.4_norm_percentile_3_2 pipeline\n"
     ]
    },
    {
     "name": "stderr",
     "output_type": "stream",
     "text": [
      "100%|██████████| 19/19 [00:00<00:00, 5702.45it/s]"
     ]
    },
    {
     "name": "stdout",
     "output_type": "stream",
     "text": [
      "[============                                      ] 24.15%"
     ]
    },
    {
     "name": "stderr",
     "output_type": "stream",
     "text": [
      "\n"
     ]
    },
    {
     "name": "stdout",
     "output_type": "stream",
     "text": [
      "\n",
      "Testing pipeline_2D_thr_0.4_norm_percentile_3_3 pipeline\n"
     ]
    },
    {
     "name": "stderr",
     "output_type": "stream",
     "text": [
      "100%|██████████| 19/19 [00:00<00:00, 5628.75it/s]"
     ]
    },
    {
     "name": "stdout",
     "output_type": "stream",
     "text": [
      "[============                                      ] 24.22%"
     ]
    },
    {
     "name": "stderr",
     "output_type": "stream",
     "text": [
      "\n"
     ]
    },
    {
     "name": "stdout",
     "output_type": "stream",
     "text": [
      "\n",
      "Testing pipeline_2D_thr_0.4_norm_percentile_3_4 pipeline\n"
     ]
    },
    {
     "name": "stderr",
     "output_type": "stream",
     "text": [
      "100%|██████████| 19/19 [00:00<00:00, 7297.78it/s]"
     ]
    },
    {
     "name": "stdout",
     "output_type": "stream",
     "text": [
      "[============                                      ] 24.28%"
     ]
    },
    {
     "name": "stderr",
     "output_type": "stream",
     "text": [
      "\n"
     ]
    },
    {
     "name": "stdout",
     "output_type": "stream",
     "text": [
      "\n",
      "Testing pipeline_2D_thr_0.4_norm_percentile_3_5 pipeline\n"
     ]
    },
    {
     "name": "stderr",
     "output_type": "stream",
     "text": [
      "100%|██████████| 19/19 [00:00<00:00, 5889.57it/s]"
     ]
    },
    {
     "name": "stdout",
     "output_type": "stream",
     "text": [
      "[============                                      ] 24.35%"
     ]
    },
    {
     "name": "stderr",
     "output_type": "stream",
     "text": [
      "\n"
     ]
    },
    {
     "name": "stdout",
     "output_type": "stream",
     "text": [
      "\n",
      "Testing pipeline_2D_thr_0.4_norm_percentile_3_6 pipeline\n"
     ]
    },
    {
     "name": "stderr",
     "output_type": "stream",
     "text": [
      "100%|██████████| 19/19 [00:00<00:00, 6735.28it/s]"
     ]
    },
    {
     "name": "stdout",
     "output_type": "stream",
     "text": [
      "[============                                      ] 24.41%"
     ]
    },
    {
     "name": "stderr",
     "output_type": "stream",
     "text": [
      "\n"
     ]
    },
    {
     "name": "stdout",
     "output_type": "stream",
     "text": [
      "\n",
      "Testing pipeline_2D_thr_0.4_norm_percentile_3_7 pipeline\n"
     ]
    },
    {
     "name": "stderr",
     "output_type": "stream",
     "text": [
      "100%|██████████| 19/19 [00:00<00:00, 6089.85it/s]"
     ]
    },
    {
     "name": "stdout",
     "output_type": "stream",
     "text": [
      "[============                                      ] 24.48%"
     ]
    },
    {
     "name": "stderr",
     "output_type": "stream",
     "text": [
      "\n"
     ]
    },
    {
     "name": "stdout",
     "output_type": "stream",
     "text": [
      "\n",
      "Testing pipeline_2D_thr_0.4_norm_percentile_3_8 pipeline\n"
     ]
    },
    {
     "name": "stderr",
     "output_type": "stream",
     "text": [
      "100%|██████████| 19/19 [00:00<00:00, 6982.54it/s]"
     ]
    },
    {
     "name": "stdout",
     "output_type": "stream",
     "text": [
      "[============                                      ] 24.54%"
     ]
    },
    {
     "name": "stderr",
     "output_type": "stream",
     "text": [
      "\n"
     ]
    },
    {
     "name": "stdout",
     "output_type": "stream",
     "text": [
      "\n",
      "Testing pipeline_2D_thr_0.4_norm_percentile_3_9 pipeline\n"
     ]
    },
    {
     "name": "stderr",
     "output_type": "stream",
     "text": [
      "100%|██████████| 19/19 [00:00<00:00, 3574.74it/s]"
     ]
    },
    {
     "name": "stdout",
     "output_type": "stream",
     "text": [
      "[============                                      ] 24.61%"
     ]
    },
    {
     "name": "stderr",
     "output_type": "stream",
     "text": [
      "\n"
     ]
    },
    {
     "name": "stdout",
     "output_type": "stream",
     "text": [
      "\n",
      "Testing pipeline_2D_thr_0.4_norm_percentile_3_10 pipeline\n"
     ]
    },
    {
     "name": "stderr",
     "output_type": "stream",
     "text": [
      "100%|██████████| 19/19 [00:00<00:00, 6007.67it/s]"
     ]
    },
    {
     "name": "stdout",
     "output_type": "stream",
     "text": [
      "[============                                      ] 24.67%"
     ]
    },
    {
     "name": "stderr",
     "output_type": "stream",
     "text": [
      "\n"
     ]
    },
    {
     "name": "stdout",
     "output_type": "stream",
     "text": [
      "\n",
      "Testing pipeline_2D_thr_0.4_norm_percentile_3_11 pipeline\n"
     ]
    },
    {
     "name": "stderr",
     "output_type": "stream",
     "text": [
      "100%|██████████| 19/19 [00:00<00:00, 4352.36it/s]"
     ]
    },
    {
     "name": "stdout",
     "output_type": "stream",
     "text": [
      "[============                                      ] 24.74%"
     ]
    },
    {
     "name": "stderr",
     "output_type": "stream",
     "text": [
      "\n"
     ]
    },
    {
     "name": "stdout",
     "output_type": "stream",
     "text": [
      "\n",
      "Testing pipeline_2D_thr_0.4_norm_percentile_3_12 pipeline\n"
     ]
    },
    {
     "name": "stderr",
     "output_type": "stream",
     "text": [
      "100%|██████████| 19/19 [00:00<00:00, 5773.51it/s]"
     ]
    },
    {
     "name": "stdout",
     "output_type": "stream",
     "text": [
      "[============                                      ] 24.80%"
     ]
    },
    {
     "name": "stderr",
     "output_type": "stream",
     "text": [
      "\n"
     ]
    },
    {
     "name": "stdout",
     "output_type": "stream",
     "text": [
      "\n",
      "Testing pipeline_2D_thr_0.4_norm_percentile_3_13 pipeline\n"
     ]
    },
    {
     "name": "stderr",
     "output_type": "stream",
     "text": [
      "100%|██████████| 19/19 [00:00<00:00, 5704.90it/s]"
     ]
    },
    {
     "name": "stdout",
     "output_type": "stream",
     "text": [
      "[============                                      ] 24.87%"
     ]
    },
    {
     "name": "stderr",
     "output_type": "stream",
     "text": [
      "\n"
     ]
    },
    {
     "name": "stdout",
     "output_type": "stream",
     "text": [
      "\n",
      "Testing pipeline_2D_thr_0.4_norm_percentile_3_14 pipeline\n"
     ]
    },
    {
     "name": "stderr",
     "output_type": "stream",
     "text": [
      "100%|██████████| 19/19 [00:00<00:00, 5692.27it/s]"
     ]
    },
    {
     "name": "stdout",
     "output_type": "stream",
     "text": [
      "[============                                      ] 24.93%"
     ]
    },
    {
     "name": "stderr",
     "output_type": "stream",
     "text": [
      "\n"
     ]
    },
    {
     "name": "stdout",
     "output_type": "stream",
     "text": [
      "\n",
      "Testing pipeline_2D_thr_0.4_norm_percentile_3_15 pipeline\n"
     ]
    },
    {
     "name": "stderr",
     "output_type": "stream",
     "text": [
      "100%|██████████| 19/19 [00:00<00:00, 6578.49it/s]"
     ]
    },
    {
     "name": "stdout",
     "output_type": "stream",
     "text": [
      "[============                                      ] 25.00%"
     ]
    },
    {
     "name": "stderr",
     "output_type": "stream",
     "text": [
      "\n"
     ]
    },
    {
     "name": "stdout",
     "output_type": "stream",
     "text": [
      "\n",
      "Testing pipeline_2D_thr_0.5_norm_minmax_0_0 pipeline\n"
     ]
    },
    {
     "name": "stderr",
     "output_type": "stream",
     "text": [
      "100%|██████████| 19/19 [00:00<00:00, 5942.71it/s]"
     ]
    },
    {
     "name": "stdout",
     "output_type": "stream",
     "text": [
      "[============                                      ] 25.07%"
     ]
    },
    {
     "name": "stderr",
     "output_type": "stream",
     "text": [
      "\n"
     ]
    },
    {
     "name": "stdout",
     "output_type": "stream",
     "text": [
      "\n",
      "Testing pipeline_2D_thr_0.5_norm_minmax_0_1 pipeline\n"
     ]
    },
    {
     "name": "stderr",
     "output_type": "stream",
     "text": [
      "100%|██████████| 19/19 [00:00<00:00, 5987.81it/s]"
     ]
    },
    {
     "name": "stdout",
     "output_type": "stream",
     "text": [
      "[============                                      ] 25.13%"
     ]
    },
    {
     "name": "stderr",
     "output_type": "stream",
     "text": [
      "\n"
     ]
    },
    {
     "name": "stdout",
     "output_type": "stream",
     "text": [
      "\n",
      "Testing pipeline_2D_thr_0.5_norm_minmax_0_2 pipeline\n"
     ]
    },
    {
     "name": "stderr",
     "output_type": "stream",
     "text": [
      "100%|██████████| 19/19 [00:00<00:00, 7055.49it/s]"
     ]
    },
    {
     "name": "stdout",
     "output_type": "stream",
     "text": [
      "[============                                      ] 25.20%"
     ]
    },
    {
     "name": "stderr",
     "output_type": "stream",
     "text": [
      "\n"
     ]
    },
    {
     "name": "stdout",
     "output_type": "stream",
     "text": [
      "\n",
      "Testing pipeline_2D_thr_0.5_norm_minmax_0_3 pipeline\n"
     ]
    },
    {
     "name": "stderr",
     "output_type": "stream",
     "text": [
      "100%|██████████| 19/19 [00:00<00:00, 6772.48it/s]"
     ]
    },
    {
     "name": "stdout",
     "output_type": "stream",
     "text": [
      "[============                                      ] 25.26%"
     ]
    },
    {
     "name": "stderr",
     "output_type": "stream",
     "text": [
      "\n"
     ]
    },
    {
     "name": "stdout",
     "output_type": "stream",
     "text": [
      "\n",
      "Testing pipeline_2D_thr_0.5_norm_minmax_0_4 pipeline\n"
     ]
    },
    {
     "name": "stderr",
     "output_type": "stream",
     "text": [
      "100%|██████████| 19/19 [00:00<00:00, 4281.51it/s]"
     ]
    },
    {
     "name": "stdout",
     "output_type": "stream",
     "text": [
      "[============                                      ] 25.33%"
     ]
    },
    {
     "name": "stderr",
     "output_type": "stream",
     "text": [
      "\n"
     ]
    },
    {
     "name": "stdout",
     "output_type": "stream",
     "text": [
      "\n",
      "Testing pipeline_2D_thr_0.5_norm_minmax_0_5 pipeline\n"
     ]
    },
    {
     "name": "stderr",
     "output_type": "stream",
     "text": [
      "100%|██████████| 19/19 [00:00<00:00, 6334.30it/s]"
     ]
    },
    {
     "name": "stdout",
     "output_type": "stream",
     "text": [
      "[============                                      ] 25.39%"
     ]
    },
    {
     "name": "stderr",
     "output_type": "stream",
     "text": [
      "\n"
     ]
    },
    {
     "name": "stdout",
     "output_type": "stream",
     "text": [
      "\n",
      "Testing pipeline_2D_thr_0.5_norm_minmax_0_6 pipeline\n"
     ]
    },
    {
     "name": "stderr",
     "output_type": "stream",
     "text": [
      "100%|██████████| 19/19 [00:00<00:00, 4376.50it/s]"
     ]
    },
    {
     "name": "stdout",
     "output_type": "stream",
     "text": [
      "[============                                      ] 25.46%"
     ]
    },
    {
     "name": "stderr",
     "output_type": "stream",
     "text": [
      "\n"
     ]
    },
    {
     "name": "stdout",
     "output_type": "stream",
     "text": [
      "\n",
      "Testing pipeline_2D_thr_0.5_norm_minmax_0_7 pipeline\n"
     ]
    },
    {
     "name": "stderr",
     "output_type": "stream",
     "text": [
      "100%|██████████| 19/19 [00:00<00:00, 6107.59it/s]"
     ]
    },
    {
     "name": "stdout",
     "output_type": "stream",
     "text": [
      "[============                                      ] 25.52%"
     ]
    },
    {
     "name": "stderr",
     "output_type": "stream",
     "text": [
      "\n"
     ]
    },
    {
     "name": "stdout",
     "output_type": "stream",
     "text": [
      "\n",
      "Testing pipeline_2D_thr_0.5_norm_minmax_0_8 pipeline\n"
     ]
    },
    {
     "name": "stderr",
     "output_type": "stream",
     "text": [
      "100%|██████████| 19/19 [00:00<00:00, 5424.53it/s]"
     ]
    },
    {
     "name": "stdout",
     "output_type": "stream",
     "text": [
      "[============                                      ] 25.59%"
     ]
    },
    {
     "name": "stderr",
     "output_type": "stream",
     "text": [
      "\n"
     ]
    },
    {
     "name": "stdout",
     "output_type": "stream",
     "text": [
      "\n",
      "Testing pipeline_2D_thr_0.5_norm_minmax_0_9 pipeline\n"
     ]
    },
    {
     "name": "stderr",
     "output_type": "stream",
     "text": [
      "100%|██████████| 19/19 [00:00<00:00, 6381.47it/s]"
     ]
    },
    {
     "name": "stdout",
     "output_type": "stream",
     "text": [
      "[============                                      ] 25.65%"
     ]
    },
    {
     "name": "stderr",
     "output_type": "stream",
     "text": [
      "\n"
     ]
    },
    {
     "name": "stdout",
     "output_type": "stream",
     "text": [
      "\n",
      "Testing pipeline_2D_thr_0.5_norm_minmax_0_10 pipeline\n"
     ]
    },
    {
     "name": "stderr",
     "output_type": "stream",
     "text": [
      "100%|██████████| 19/19 [00:00<00:00, 6411.76it/s]"
     ]
    },
    {
     "name": "stdout",
     "output_type": "stream",
     "text": [
      "[============                                      ] 25.72%"
     ]
    },
    {
     "name": "stderr",
     "output_type": "stream",
     "text": [
      "\n"
     ]
    },
    {
     "name": "stdout",
     "output_type": "stream",
     "text": [
      "\n",
      "Testing pipeline_2D_thr_0.5_norm_minmax_0_11 pipeline\n"
     ]
    },
    {
     "name": "stderr",
     "output_type": "stream",
     "text": [
      "100%|██████████| 19/19 [00:00<00:00, 7327.31it/s]"
     ]
    },
    {
     "name": "stdout",
     "output_type": "stream",
     "text": [
      "[============                                      ] 25.78%"
     ]
    },
    {
     "name": "stderr",
     "output_type": "stream",
     "text": [
      "\n"
     ]
    },
    {
     "name": "stdout",
     "output_type": "stream",
     "text": [
      "\n",
      "Testing pipeline_2D_thr_0.5_norm_minmax_0_12 pipeline\n"
     ]
    },
    {
     "name": "stderr",
     "output_type": "stream",
     "text": [
      "100%|██████████| 19/19 [00:00<00:00, 6116.96it/s]"
     ]
    },
    {
     "name": "stdout",
     "output_type": "stream",
     "text": [
      "[============                                      ] 25.85%"
     ]
    },
    {
     "name": "stderr",
     "output_type": "stream",
     "text": [
      "\n"
     ]
    },
    {
     "name": "stdout",
     "output_type": "stream",
     "text": [
      "\n",
      "Testing pipeline_2D_thr_0.5_norm_minmax_0_13 pipeline\n"
     ]
    },
    {
     "name": "stderr",
     "output_type": "stream",
     "text": [
      "100%|██████████| 19/19 [00:00<00:00, 5579.88it/s]"
     ]
    },
    {
     "name": "stdout",
     "output_type": "stream",
     "text": [
      "[============                                      ] 25.91%"
     ]
    },
    {
     "name": "stderr",
     "output_type": "stream",
     "text": [
      "\n"
     ]
    },
    {
     "name": "stdout",
     "output_type": "stream",
     "text": [
      "\n",
      "Testing pipeline_2D_thr_0.5_norm_minmax_0_14 pipeline\n"
     ]
    },
    {
     "name": "stderr",
     "output_type": "stream",
     "text": [
      "100%|██████████| 19/19 [00:00<00:00, 7160.09it/s]"
     ]
    },
    {
     "name": "stdout",
     "output_type": "stream",
     "text": [
      "[============                                      ] 25.98%"
     ]
    },
    {
     "name": "stderr",
     "output_type": "stream",
     "text": [
      "\n"
     ]
    },
    {
     "name": "stdout",
     "output_type": "stream",
     "text": [
      "\n",
      "Testing pipeline_2D_thr_0.5_norm_minmax_0_15 pipeline\n"
     ]
    },
    {
     "name": "stderr",
     "output_type": "stream",
     "text": [
      "100%|██████████| 19/19 [00:00<00:00, 5601.84it/s]"
     ]
    },
    {
     "name": "stdout",
     "output_type": "stream",
     "text": [
      "[=============                                     ] 26.04%"
     ]
    },
    {
     "name": "stderr",
     "output_type": "stream",
     "text": [
      "\n"
     ]
    },
    {
     "name": "stdout",
     "output_type": "stream",
     "text": [
      "\n",
      "Testing pipeline_2D_thr_0.5_norm_minmax_1_0 pipeline\n"
     ]
    },
    {
     "name": "stderr",
     "output_type": "stream",
     "text": [
      "100%|██████████| 19/19 [00:00<00:00, 5735.70it/s]"
     ]
    },
    {
     "name": "stdout",
     "output_type": "stream",
     "text": [
      "[=============                                     ] 26.11%"
     ]
    },
    {
     "name": "stderr",
     "output_type": "stream",
     "text": [
      "\n"
     ]
    },
    {
     "name": "stdout",
     "output_type": "stream",
     "text": [
      "\n",
      "Testing pipeline_2D_thr_0.5_norm_minmax_1_1 pipeline\n"
     ]
    },
    {
     "name": "stderr",
     "output_type": "stream",
     "text": [
      "100%|██████████| 19/19 [00:00<00:00, 6270.50it/s]"
     ]
    },
    {
     "name": "stdout",
     "output_type": "stream",
     "text": [
      "[=============                                     ] 26.17%"
     ]
    },
    {
     "name": "stderr",
     "output_type": "stream",
     "text": [
      "\n"
     ]
    },
    {
     "name": "stdout",
     "output_type": "stream",
     "text": [
      "\n",
      "Testing pipeline_2D_thr_0.5_norm_minmax_1_2 pipeline\n"
     ]
    },
    {
     "name": "stderr",
     "output_type": "stream",
     "text": [
      "100%|██████████| 19/19 [00:00<00:00, 7293.77it/s]"
     ]
    },
    {
     "name": "stdout",
     "output_type": "stream",
     "text": [
      "[=============                                     ] 26.24%"
     ]
    },
    {
     "name": "stderr",
     "output_type": "stream",
     "text": [
      "\n"
     ]
    },
    {
     "name": "stdout",
     "output_type": "stream",
     "text": [
      "\n",
      "Testing pipeline_2D_thr_0.5_norm_minmax_1_3 pipeline\n"
     ]
    },
    {
     "name": "stderr",
     "output_type": "stream",
     "text": [
      "100%|██████████| 19/19 [00:00<00:00, 5720.05it/s]"
     ]
    },
    {
     "name": "stdout",
     "output_type": "stream",
     "text": [
      "[=============                                     ] 26.30%"
     ]
    },
    {
     "name": "stderr",
     "output_type": "stream",
     "text": [
      "\n"
     ]
    },
    {
     "name": "stdout",
     "output_type": "stream",
     "text": [
      "\n",
      "Testing pipeline_2D_thr_0.5_norm_minmax_1_4 pipeline\n"
     ]
    },
    {
     "name": "stderr",
     "output_type": "stream",
     "text": [
      "100%|██████████| 19/19 [00:00<00:00, 5910.10it/s]"
     ]
    },
    {
     "name": "stdout",
     "output_type": "stream",
     "text": [
      "[=============                                     ] 26.37%"
     ]
    },
    {
     "name": "stderr",
     "output_type": "stream",
     "text": [
      "\n"
     ]
    },
    {
     "name": "stdout",
     "output_type": "stream",
     "text": [
      "\n",
      "Testing pipeline_2D_thr_0.5_norm_minmax_1_5 pipeline\n"
     ]
    },
    {
     "name": "stderr",
     "output_type": "stream",
     "text": [
      "100%|██████████| 19/19 [00:00<00:00, 6359.57it/s]"
     ]
    },
    {
     "name": "stdout",
     "output_type": "stream",
     "text": [
      "[=============                                     ] 26.43%"
     ]
    },
    {
     "name": "stderr",
     "output_type": "stream",
     "text": [
      "\n"
     ]
    },
    {
     "name": "stdout",
     "output_type": "stream",
     "text": [
      "\n",
      "Testing pipeline_2D_thr_0.5_norm_minmax_1_6 pipeline\n"
     ]
    },
    {
     "name": "stderr",
     "output_type": "stream",
     "text": [
      "100%|██████████| 19/19 [00:00<00:00, 5376.59it/s]"
     ]
    },
    {
     "name": "stdout",
     "output_type": "stream",
     "text": [
      "[=============                                     ] 26.50%"
     ]
    },
    {
     "name": "stderr",
     "output_type": "stream",
     "text": [
      "\n"
     ]
    },
    {
     "name": "stdout",
     "output_type": "stream",
     "text": [
      "\n",
      "Testing pipeline_2D_thr_0.5_norm_minmax_1_7 pipeline\n"
     ]
    },
    {
     "name": "stderr",
     "output_type": "stream",
     "text": [
      "100%|██████████| 19/19 [00:00<00:00, 6054.23it/s]"
     ]
    },
    {
     "name": "stdout",
     "output_type": "stream",
     "text": [
      "[=============                                     ] 26.56%"
     ]
    },
    {
     "name": "stderr",
     "output_type": "stream",
     "text": [
      "\n"
     ]
    },
    {
     "name": "stdout",
     "output_type": "stream",
     "text": [
      "\n",
      "Testing pipeline_2D_thr_0.5_norm_minmax_1_8 pipeline\n"
     ]
    },
    {
     "name": "stderr",
     "output_type": "stream",
     "text": [
      "100%|██████████| 19/19 [00:00<00:00, 6245.93it/s]"
     ]
    },
    {
     "name": "stdout",
     "output_type": "stream",
     "text": [
      "[=============                                     ] 26.63%"
     ]
    },
    {
     "name": "stderr",
     "output_type": "stream",
     "text": [
      "\n"
     ]
    },
    {
     "name": "stdout",
     "output_type": "stream",
     "text": [
      "\n",
      "Testing pipeline_2D_thr_0.5_norm_minmax_1_9 pipeline\n"
     ]
    },
    {
     "name": "stderr",
     "output_type": "stream",
     "text": [
      "100%|██████████| 19/19 [00:00<00:00, 6020.38it/s]"
     ]
    },
    {
     "name": "stdout",
     "output_type": "stream",
     "text": [
      "[=============                                     ] 26.69%"
     ]
    },
    {
     "name": "stderr",
     "output_type": "stream",
     "text": [
      "\n"
     ]
    },
    {
     "name": "stdout",
     "output_type": "stream",
     "text": [
      "\n",
      "Testing pipeline_2D_thr_0.5_norm_minmax_1_10 pipeline\n"
     ]
    },
    {
     "name": "stderr",
     "output_type": "stream",
     "text": [
      "100%|██████████| 19/19 [00:00<00:00, 5391.50it/s]"
     ]
    },
    {
     "name": "stdout",
     "output_type": "stream",
     "text": [
      "[=============                                     ] 26.76%"
     ]
    },
    {
     "name": "stderr",
     "output_type": "stream",
     "text": [
      "\n"
     ]
    },
    {
     "name": "stdout",
     "output_type": "stream",
     "text": [
      "\n",
      "Testing pipeline_2D_thr_0.5_norm_minmax_1_11 pipeline\n"
     ]
    },
    {
     "name": "stderr",
     "output_type": "stream",
     "text": [
      "100%|██████████| 19/19 [00:00<00:00, 5917.56it/s]"
     ]
    },
    {
     "name": "stdout",
     "output_type": "stream",
     "text": [
      "[=============                                     ] 26.82%"
     ]
    },
    {
     "name": "stderr",
     "output_type": "stream",
     "text": [
      "\n"
     ]
    },
    {
     "name": "stdout",
     "output_type": "stream",
     "text": [
      "\n",
      "Testing pipeline_2D_thr_0.5_norm_minmax_1_12 pipeline\n"
     ]
    },
    {
     "name": "stderr",
     "output_type": "stream",
     "text": [
      "100%|██████████| 19/19 [00:00<00:00, 6136.75it/s]"
     ]
    },
    {
     "name": "stdout",
     "output_type": "stream",
     "text": [
      "[=============                                     ] 26.89%"
     ]
    },
    {
     "name": "stderr",
     "output_type": "stream",
     "text": [
      "\n"
     ]
    },
    {
     "name": "stdout",
     "output_type": "stream",
     "text": [
      "\n",
      "Testing pipeline_2D_thr_0.5_norm_minmax_1_13 pipeline\n"
     ]
    },
    {
     "name": "stderr",
     "output_type": "stream",
     "text": [
      "100%|██████████| 19/19 [00:00<00:00, 5389.68it/s]"
     ]
    },
    {
     "name": "stdout",
     "output_type": "stream",
     "text": [
      "[=============                                     ] 26.95%"
     ]
    },
    {
     "name": "stderr",
     "output_type": "stream",
     "text": [
      "\n"
     ]
    },
    {
     "name": "stdout",
     "output_type": "stream",
     "text": [
      "\n",
      "Testing pipeline_2D_thr_0.5_norm_minmax_1_14 pipeline\n"
     ]
    },
    {
     "name": "stderr",
     "output_type": "stream",
     "text": [
      "100%|██████████| 19/19 [00:00<00:00, 6905.10it/s]"
     ]
    },
    {
     "name": "stdout",
     "output_type": "stream",
     "text": [
      "[=============                                     ] 27.02%"
     ]
    },
    {
     "name": "stderr",
     "output_type": "stream",
     "text": [
      "\n"
     ]
    },
    {
     "name": "stdout",
     "output_type": "stream",
     "text": [
      "\n",
      "Testing pipeline_2D_thr_0.5_norm_minmax_1_15 pipeline\n"
     ]
    },
    {
     "name": "stderr",
     "output_type": "stream",
     "text": [
      "100%|██████████| 19/19 [00:00<00:00, 6291.29it/s]"
     ]
    },
    {
     "name": "stdout",
     "output_type": "stream",
     "text": [
      "[=============                                     ] 27.08%"
     ]
    },
    {
     "name": "stderr",
     "output_type": "stream",
     "text": [
      "\n"
     ]
    },
    {
     "name": "stdout",
     "output_type": "stream",
     "text": [
      "\n",
      "Testing pipeline_2D_thr_0.5_norm_minmax_2_0 pipeline\n"
     ]
    },
    {
     "name": "stderr",
     "output_type": "stream",
     "text": [
      "100%|██████████| 19/19 [00:00<00:00, 6676.59it/s]"
     ]
    },
    {
     "name": "stdout",
     "output_type": "stream",
     "text": [
      "[=============                                     ] 27.15%"
     ]
    },
    {
     "name": "stderr",
     "output_type": "stream",
     "text": [
      "\n"
     ]
    },
    {
     "name": "stdout",
     "output_type": "stream",
     "text": [
      "\n",
      "Testing pipeline_2D_thr_0.5_norm_minmax_2_1 pipeline\n"
     ]
    },
    {
     "name": "stderr",
     "output_type": "stream",
     "text": [
      "100%|██████████| 19/19 [00:00<00:00, 5277.60it/s]"
     ]
    },
    {
     "name": "stdout",
     "output_type": "stream",
     "text": [
      "[=============                                     ] 27.21%"
     ]
    },
    {
     "name": "stderr",
     "output_type": "stream",
     "text": [
      "\n"
     ]
    },
    {
     "name": "stdout",
     "output_type": "stream",
     "text": [
      "\n",
      "Testing pipeline_2D_thr_0.5_norm_minmax_2_2 pipeline\n"
     ]
    },
    {
     "name": "stderr",
     "output_type": "stream",
     "text": [
      "100%|██████████| 19/19 [00:00<00:00, 5294.08it/s]"
     ]
    },
    {
     "name": "stdout",
     "output_type": "stream",
     "text": [
      "[=============                                     ] 27.28%"
     ]
    },
    {
     "name": "stderr",
     "output_type": "stream",
     "text": [
      "\n"
     ]
    },
    {
     "name": "stdout",
     "output_type": "stream",
     "text": [
      "\n",
      "Testing pipeline_2D_thr_0.5_norm_minmax_2_3 pipeline\n"
     ]
    },
    {
     "name": "stderr",
     "output_type": "stream",
     "text": [
      "100%|██████████| 19/19 [00:00<00:00, 5513.86it/s]"
     ]
    },
    {
     "name": "stdout",
     "output_type": "stream",
     "text": [
      "[=============                                     ] 27.34%"
     ]
    },
    {
     "name": "stderr",
     "output_type": "stream",
     "text": [
      "\n"
     ]
    },
    {
     "name": "stdout",
     "output_type": "stream",
     "text": [
      "\n",
      "Testing pipeline_2D_thr_0.5_norm_minmax_2_4 pipeline\n"
     ]
    },
    {
     "name": "stderr",
     "output_type": "stream",
     "text": [
      "100%|██████████| 19/19 [00:00<00:00, 5419.73it/s]"
     ]
    },
    {
     "name": "stdout",
     "output_type": "stream",
     "text": [
      "[=============                                     ] 27.41%"
     ]
    },
    {
     "name": "stderr",
     "output_type": "stream",
     "text": [
      "\n"
     ]
    },
    {
     "name": "stdout",
     "output_type": "stream",
     "text": [
      "\n",
      "Testing pipeline_2D_thr_0.5_norm_minmax_2_5 pipeline\n"
     ]
    },
    {
     "name": "stderr",
     "output_type": "stream",
     "text": [
      "100%|██████████| 19/19 [00:00<00:00, 5423.79it/s]"
     ]
    },
    {
     "name": "stdout",
     "output_type": "stream",
     "text": [
      "[=============                                     ] 27.47%"
     ]
    },
    {
     "name": "stderr",
     "output_type": "stream",
     "text": [
      "\n"
     ]
    },
    {
     "name": "stdout",
     "output_type": "stream",
     "text": [
      "\n",
      "Testing pipeline_2D_thr_0.5_norm_minmax_2_6 pipeline\n"
     ]
    },
    {
     "name": "stderr",
     "output_type": "stream",
     "text": [
      "100%|██████████| 19/19 [00:00<00:00, 6010.84it/s]"
     ]
    },
    {
     "name": "stdout",
     "output_type": "stream",
     "text": [
      "[=============                                     ] 27.54%"
     ]
    },
    {
     "name": "stderr",
     "output_type": "stream",
     "text": [
      "\n"
     ]
    },
    {
     "name": "stdout",
     "output_type": "stream",
     "text": [
      "\n",
      "Testing pipeline_2D_thr_0.5_norm_minmax_2_7 pipeline\n"
     ]
    },
    {
     "name": "stderr",
     "output_type": "stream",
     "text": [
      "100%|██████████| 19/19 [00:00<00:00, 6007.22it/s]"
     ]
    },
    {
     "name": "stdout",
     "output_type": "stream",
     "text": [
      "[=============                                     ] 27.60%"
     ]
    },
    {
     "name": "stderr",
     "output_type": "stream",
     "text": [
      "\n"
     ]
    },
    {
     "name": "stdout",
     "output_type": "stream",
     "text": [
      "\n",
      "Testing pipeline_2D_thr_0.5_norm_minmax_2_8 pipeline\n"
     ]
    },
    {
     "name": "stderr",
     "output_type": "stream",
     "text": [
      "100%|██████████| 19/19 [00:00<00:00, 7037.42it/s]"
     ]
    },
    {
     "name": "stdout",
     "output_type": "stream",
     "text": [
      "[=============                                     ] 27.67%"
     ]
    },
    {
     "name": "stderr",
     "output_type": "stream",
     "text": [
      "\n"
     ]
    },
    {
     "name": "stdout",
     "output_type": "stream",
     "text": [
      "\n",
      "Testing pipeline_2D_thr_0.5_norm_minmax_2_9 pipeline\n"
     ]
    },
    {
     "name": "stderr",
     "output_type": "stream",
     "text": [
      "100%|██████████| 19/19 [00:00<00:00, 5510.04it/s]"
     ]
    },
    {
     "name": "stdout",
     "output_type": "stream",
     "text": [
      "[=============                                     ] 27.73%"
     ]
    },
    {
     "name": "stderr",
     "output_type": "stream",
     "text": [
      "\n"
     ]
    },
    {
     "name": "stdout",
     "output_type": "stream",
     "text": [
      "\n",
      "Testing pipeline_2D_thr_0.5_norm_minmax_2_10 pipeline\n"
     ]
    },
    {
     "name": "stderr",
     "output_type": "stream",
     "text": [
      "100%|██████████| 19/19 [00:00<00:00, 5633.92it/s]"
     ]
    },
    {
     "name": "stdout",
     "output_type": "stream",
     "text": [
      "[=============                                     ] 27.80%"
     ]
    },
    {
     "name": "stderr",
     "output_type": "stream",
     "text": [
      "\n"
     ]
    },
    {
     "name": "stdout",
     "output_type": "stream",
     "text": [
      "\n",
      "Testing pipeline_2D_thr_0.5_norm_minmax_2_11 pipeline\n"
     ]
    },
    {
     "name": "stderr",
     "output_type": "stream",
     "text": [
      "100%|██████████| 19/19 [00:00<00:00, 6248.87it/s]"
     ]
    },
    {
     "name": "stdout",
     "output_type": "stream",
     "text": [
      "[=============                                     ] 27.86%"
     ]
    },
    {
     "name": "stderr",
     "output_type": "stream",
     "text": [
      "\n"
     ]
    },
    {
     "name": "stdout",
     "output_type": "stream",
     "text": [
      "\n",
      "Testing pipeline_2D_thr_0.5_norm_minmax_2_12 pipeline\n"
     ]
    },
    {
     "name": "stderr",
     "output_type": "stream",
     "text": [
      "100%|██████████| 19/19 [00:00<00:00, 5897.42it/s]"
     ]
    },
    {
     "name": "stdout",
     "output_type": "stream",
     "text": [
      "[=============                                     ] 27.93%"
     ]
    },
    {
     "name": "stderr",
     "output_type": "stream",
     "text": [
      "\n"
     ]
    },
    {
     "name": "stdout",
     "output_type": "stream",
     "text": [
      "\n",
      "Testing pipeline_2D_thr_0.5_norm_minmax_2_13 pipeline\n"
     ]
    },
    {
     "name": "stderr",
     "output_type": "stream",
     "text": [
      "100%|██████████| 19/19 [00:00<00:00, 7309.16it/s]"
     ]
    },
    {
     "name": "stdout",
     "output_type": "stream",
     "text": [
      "[=============                                     ] 27.99%"
     ]
    },
    {
     "name": "stderr",
     "output_type": "stream",
     "text": [
      "\n"
     ]
    },
    {
     "name": "stdout",
     "output_type": "stream",
     "text": [
      "\n",
      "Testing pipeline_2D_thr_0.5_norm_minmax_2_14 pipeline\n"
     ]
    },
    {
     "name": "stderr",
     "output_type": "stream",
     "text": [
      "100%|██████████| 19/19 [00:00<00:00, 6143.84it/s]"
     ]
    },
    {
     "name": "stdout",
     "output_type": "stream",
     "text": [
      "[==============                                    ] 28.06%"
     ]
    },
    {
     "name": "stderr",
     "output_type": "stream",
     "text": [
      "\n"
     ]
    },
    {
     "name": "stdout",
     "output_type": "stream",
     "text": [
      "\n",
      "Testing pipeline_2D_thr_0.5_norm_minmax_2_15 pipeline\n"
     ]
    },
    {
     "name": "stderr",
     "output_type": "stream",
     "text": [
      "100%|██████████| 19/19 [00:00<00:00, 6179.09it/s]"
     ]
    },
    {
     "name": "stdout",
     "output_type": "stream",
     "text": [
      "[==============                                    ] 28.12%"
     ]
    },
    {
     "name": "stderr",
     "output_type": "stream",
     "text": [
      "\n"
     ]
    },
    {
     "name": "stdout",
     "output_type": "stream",
     "text": [
      "\n",
      "Testing pipeline_2D_thr_0.5_norm_minmax_3_0 pipeline\n"
     ]
    },
    {
     "name": "stderr",
     "output_type": "stream",
     "text": [
      "100%|██████████| 19/19 [00:00<00:00, 6831.11it/s]"
     ]
    },
    {
     "name": "stdout",
     "output_type": "stream",
     "text": [
      "[==============                                    ] 28.19%"
     ]
    },
    {
     "name": "stderr",
     "output_type": "stream",
     "text": [
      "\n"
     ]
    },
    {
     "name": "stdout",
     "output_type": "stream",
     "text": [
      "\n",
      "Testing pipeline_2D_thr_0.5_norm_minmax_3_1 pipeline\n"
     ]
    },
    {
     "name": "stderr",
     "output_type": "stream",
     "text": [
      "100%|██████████| 19/19 [00:00<00:00, 5764.32it/s]"
     ]
    },
    {
     "name": "stdout",
     "output_type": "stream",
     "text": [
      "[==============                                    ] 28.26%"
     ]
    },
    {
     "name": "stderr",
     "output_type": "stream",
     "text": [
      "\n"
     ]
    },
    {
     "name": "stdout",
     "output_type": "stream",
     "text": [
      "\n",
      "Testing pipeline_2D_thr_0.5_norm_minmax_3_2 pipeline\n"
     ]
    },
    {
     "name": "stderr",
     "output_type": "stream",
     "text": [
      "100%|██████████| 19/19 [00:00<00:00, 6533.72it/s]"
     ]
    },
    {
     "name": "stdout",
     "output_type": "stream",
     "text": [
      "[==============                                    ] 28.32%"
     ]
    },
    {
     "name": "stderr",
     "output_type": "stream",
     "text": [
      "\n"
     ]
    },
    {
     "name": "stdout",
     "output_type": "stream",
     "text": [
      "\n",
      "Testing pipeline_2D_thr_0.5_norm_minmax_3_3 pipeline\n"
     ]
    },
    {
     "name": "stderr",
     "output_type": "stream",
     "text": [
      "100%|██████████| 19/19 [00:00<00:00, 4717.72it/s]"
     ]
    },
    {
     "name": "stdout",
     "output_type": "stream",
     "text": [
      "[==============                                    ] 28.39%"
     ]
    },
    {
     "name": "stderr",
     "output_type": "stream",
     "text": [
      "\n"
     ]
    },
    {
     "name": "stdout",
     "output_type": "stream",
     "text": [
      "\n",
      "Testing pipeline_2D_thr_0.5_norm_minmax_3_4 pipeline\n"
     ]
    },
    {
     "name": "stderr",
     "output_type": "stream",
     "text": [
      "100%|██████████| 19/19 [00:00<00:00, 6583.92it/s]"
     ]
    },
    {
     "name": "stdout",
     "output_type": "stream",
     "text": [
      "[==============                                    ] 28.45%"
     ]
    },
    {
     "name": "stderr",
     "output_type": "stream",
     "text": [
      "\n"
     ]
    },
    {
     "name": "stdout",
     "output_type": "stream",
     "text": [
      "\n",
      "Testing pipeline_2D_thr_0.5_norm_minmax_3_5 pipeline\n"
     ]
    },
    {
     "name": "stderr",
     "output_type": "stream",
     "text": [
      "100%|██████████| 19/19 [00:00<00:00, 6568.18it/s]"
     ]
    },
    {
     "name": "stdout",
     "output_type": "stream",
     "text": [
      "[==============                                    ] 28.52%"
     ]
    },
    {
     "name": "stderr",
     "output_type": "stream",
     "text": [
      "\n"
     ]
    },
    {
     "name": "stdout",
     "output_type": "stream",
     "text": [
      "\n",
      "Testing pipeline_2D_thr_0.5_norm_minmax_3_6 pipeline\n"
     ]
    },
    {
     "name": "stderr",
     "output_type": "stream",
     "text": [
      "100%|██████████| 19/19 [00:00<00:00, 5231.18it/s]"
     ]
    },
    {
     "name": "stdout",
     "output_type": "stream",
     "text": [
      "[==============                                    ] 28.58%"
     ]
    },
    {
     "name": "stderr",
     "output_type": "stream",
     "text": [
      "\n"
     ]
    },
    {
     "name": "stdout",
     "output_type": "stream",
     "text": [
      "\n",
      "Testing pipeline_2D_thr_0.5_norm_minmax_3_7 pipeline\n"
     ]
    },
    {
     "name": "stderr",
     "output_type": "stream",
     "text": [
      "100%|██████████| 19/19 [00:00<00:00, 4031.76it/s]"
     ]
    },
    {
     "name": "stdout",
     "output_type": "stream",
     "text": [
      "[==============                                    ] 28.65%"
     ]
    },
    {
     "name": "stderr",
     "output_type": "stream",
     "text": [
      "\n"
     ]
    },
    {
     "name": "stdout",
     "output_type": "stream",
     "text": [
      "\n",
      "Testing pipeline_2D_thr_0.5_norm_minmax_3_8 pipeline\n"
     ]
    },
    {
     "name": "stderr",
     "output_type": "stream",
     "text": [
      "100%|██████████| 19/19 [00:00<00:00, 6231.28it/s]"
     ]
    },
    {
     "name": "stdout",
     "output_type": "stream",
     "text": [
      "[==============                                    ] 28.71%"
     ]
    },
    {
     "name": "stderr",
     "output_type": "stream",
     "text": [
      "\n"
     ]
    },
    {
     "name": "stdout",
     "output_type": "stream",
     "text": [
      "\n",
      "Testing pipeline_2D_thr_0.5_norm_minmax_3_9 pipeline\n"
     ]
    },
    {
     "name": "stderr",
     "output_type": "stream",
     "text": [
      "100%|██████████| 19/19 [00:00<00:00, 5558.47it/s]"
     ]
    },
    {
     "name": "stdout",
     "output_type": "stream",
     "text": [
      "[==============                                    ] 28.78%"
     ]
    },
    {
     "name": "stderr",
     "output_type": "stream",
     "text": [
      "\n"
     ]
    },
    {
     "name": "stdout",
     "output_type": "stream",
     "text": [
      "\n",
      "Testing pipeline_2D_thr_0.5_norm_minmax_3_10 pipeline\n"
     ]
    },
    {
     "name": "stderr",
     "output_type": "stream",
     "text": [
      "100%|██████████| 19/19 [00:00<00:00, 6817.09it/s]"
     ]
    },
    {
     "name": "stdout",
     "output_type": "stream",
     "text": [
      "[==============                                    ] 28.84%"
     ]
    },
    {
     "name": "stderr",
     "output_type": "stream",
     "text": [
      "\n"
     ]
    },
    {
     "name": "stdout",
     "output_type": "stream",
     "text": [
      "\n",
      "Testing pipeline_2D_thr_0.5_norm_minmax_3_11 pipeline\n"
     ]
    },
    {
     "name": "stderr",
     "output_type": "stream",
     "text": [
      "100%|██████████| 19/19 [00:00<00:00, 6019.02it/s]"
     ]
    },
    {
     "name": "stdout",
     "output_type": "stream",
     "text": [
      "[==============                                    ] 28.91%"
     ]
    },
    {
     "name": "stderr",
     "output_type": "stream",
     "text": [
      "\n"
     ]
    },
    {
     "name": "stdout",
     "output_type": "stream",
     "text": [
      "\n",
      "Testing pipeline_2D_thr_0.5_norm_minmax_3_12 pipeline\n"
     ]
    },
    {
     "name": "stderr",
     "output_type": "stream",
     "text": [
      "100%|██████████| 19/19 [00:00<00:00, 5923.28it/s]"
     ]
    },
    {
     "name": "stdout",
     "output_type": "stream",
     "text": [
      "[==============                                    ] 28.97%"
     ]
    },
    {
     "name": "stderr",
     "output_type": "stream",
     "text": [
      "\n"
     ]
    },
    {
     "name": "stdout",
     "output_type": "stream",
     "text": [
      "\n",
      "Testing pipeline_2D_thr_0.5_norm_minmax_3_13 pipeline\n"
     ]
    },
    {
     "name": "stderr",
     "output_type": "stream",
     "text": [
      "100%|██████████| 19/19 [00:00<00:00, 6284.34it/s]"
     ]
    },
    {
     "name": "stdout",
     "output_type": "stream",
     "text": [
      "[==============                                    ] 29.04%"
     ]
    },
    {
     "name": "stderr",
     "output_type": "stream",
     "text": [
      "\n"
     ]
    },
    {
     "name": "stdout",
     "output_type": "stream",
     "text": [
      "\n",
      "Testing pipeline_2D_thr_0.5_norm_minmax_3_14 pipeline\n"
     ]
    },
    {
     "name": "stderr",
     "output_type": "stream",
     "text": [
      "100%|██████████| 19/19 [00:00<00:00, 6027.67it/s]"
     ]
    },
    {
     "name": "stdout",
     "output_type": "stream",
     "text": [
      "[==============                                    ] 29.10%"
     ]
    },
    {
     "name": "stderr",
     "output_type": "stream",
     "text": [
      "\n"
     ]
    },
    {
     "name": "stdout",
     "output_type": "stream",
     "text": [
      "\n",
      "Testing pipeline_2D_thr_0.5_norm_minmax_3_15 pipeline\n"
     ]
    },
    {
     "name": "stderr",
     "output_type": "stream",
     "text": [
      "100%|██████████| 19/19 [00:00<00:00, 5650.30it/s]"
     ]
    },
    {
     "name": "stdout",
     "output_type": "stream",
     "text": [
      "[==============                                    ] 29.17%"
     ]
    },
    {
     "name": "stderr",
     "output_type": "stream",
     "text": [
      "\n"
     ]
    },
    {
     "name": "stdout",
     "output_type": "stream",
     "text": [
      "\n",
      "Testing pipeline_2D_thr_0.5_norm_percentile_0_0 pipeline\n"
     ]
    },
    {
     "name": "stderr",
     "output_type": "stream",
     "text": [
      "100%|██████████| 19/19 [00:00<00:00, 6098.70it/s]"
     ]
    },
    {
     "name": "stdout",
     "output_type": "stream",
     "text": [
      "[==============                                    ] 29.23%"
     ]
    },
    {
     "name": "stderr",
     "output_type": "stream",
     "text": [
      "\n"
     ]
    },
    {
     "name": "stdout",
     "output_type": "stream",
     "text": [
      "\n",
      "Testing pipeline_2D_thr_0.5_norm_percentile_0_1 pipeline\n"
     ]
    },
    {
     "name": "stderr",
     "output_type": "stream",
     "text": [
      "100%|██████████| 19/19 [00:00<00:00, 6280.88it/s]"
     ]
    },
    {
     "name": "stdout",
     "output_type": "stream",
     "text": [
      "[==============                                    ] 29.30%"
     ]
    },
    {
     "name": "stderr",
     "output_type": "stream",
     "text": [
      "\n"
     ]
    },
    {
     "name": "stdout",
     "output_type": "stream",
     "text": [
      "\n",
      "Testing pipeline_2D_thr_0.5_norm_percentile_0_2 pipeline\n"
     ]
    },
    {
     "name": "stderr",
     "output_type": "stream",
     "text": [
      "100%|██████████| 19/19 [00:00<00:00, 5529.16it/s]"
     ]
    },
    {
     "name": "stdout",
     "output_type": "stream",
     "text": [
      "[==============                                    ] 29.36%"
     ]
    },
    {
     "name": "stderr",
     "output_type": "stream",
     "text": [
      "\n"
     ]
    },
    {
     "name": "stdout",
     "output_type": "stream",
     "text": [
      "\n",
      "Testing pipeline_2D_thr_0.5_norm_percentile_0_3 pipeline\n"
     ]
    },
    {
     "name": "stderr",
     "output_type": "stream",
     "text": [
      "100%|██████████| 19/19 [00:00<00:00, 7056.74it/s]"
     ]
    },
    {
     "name": "stdout",
     "output_type": "stream",
     "text": [
      "[==============                                    ] 29.43%"
     ]
    },
    {
     "name": "stderr",
     "output_type": "stream",
     "text": [
      "\n"
     ]
    },
    {
     "name": "stdout",
     "output_type": "stream",
     "text": [
      "\n",
      "Testing pipeline_2D_thr_0.5_norm_percentile_0_4 pipeline\n"
     ]
    },
    {
     "name": "stderr",
     "output_type": "stream",
     "text": [
      "100%|██████████| 19/19 [00:00<00:00, 5734.05it/s]"
     ]
    },
    {
     "name": "stdout",
     "output_type": "stream",
     "text": [
      "[==============                                    ] 29.49%"
     ]
    },
    {
     "name": "stderr",
     "output_type": "stream",
     "text": [
      "\n"
     ]
    },
    {
     "name": "stdout",
     "output_type": "stream",
     "text": [
      "\n",
      "Testing pipeline_2D_thr_0.5_norm_percentile_0_5 pipeline\n"
     ]
    },
    {
     "name": "stderr",
     "output_type": "stream",
     "text": [
      "100%|██████████| 19/19 [00:00<00:00, 6063.44it/s]"
     ]
    },
    {
     "name": "stdout",
     "output_type": "stream",
     "text": [
      "[==============                                    ] 29.56%"
     ]
    },
    {
     "name": "stderr",
     "output_type": "stream",
     "text": [
      "\n"
     ]
    },
    {
     "name": "stdout",
     "output_type": "stream",
     "text": [
      "\n",
      "Testing pipeline_2D_thr_0.5_norm_percentile_0_6 pipeline\n"
     ]
    },
    {
     "name": "stderr",
     "output_type": "stream",
     "text": [
      "100%|██████████| 19/19 [00:00<00:00, 5936.96it/s]"
     ]
    },
    {
     "name": "stdout",
     "output_type": "stream",
     "text": [
      "[==============                                    ] 29.62%"
     ]
    },
    {
     "name": "stderr",
     "output_type": "stream",
     "text": [
      "\n"
     ]
    },
    {
     "name": "stdout",
     "output_type": "stream",
     "text": [
      "\n",
      "Testing pipeline_2D_thr_0.5_norm_percentile_0_7 pipeline\n"
     ]
    },
    {
     "name": "stderr",
     "output_type": "stream",
     "text": [
      "100%|██████████| 19/19 [00:00<00:00, 6872.94it/s]"
     ]
    },
    {
     "name": "stdout",
     "output_type": "stream",
     "text": [
      "[==============                                    ] 29.69%"
     ]
    },
    {
     "name": "stderr",
     "output_type": "stream",
     "text": [
      "\n"
     ]
    },
    {
     "name": "stdout",
     "output_type": "stream",
     "text": [
      "\n",
      "Testing pipeline_2D_thr_0.5_norm_percentile_0_8 pipeline\n"
     ]
    },
    {
     "name": "stderr",
     "output_type": "stream",
     "text": [
      "100%|██████████| 19/19 [00:00<00:00, 6728.45it/s]"
     ]
    },
    {
     "name": "stdout",
     "output_type": "stream",
     "text": [
      "[==============                                    ] 29.75%"
     ]
    },
    {
     "name": "stderr",
     "output_type": "stream",
     "text": [
      "\n"
     ]
    },
    {
     "name": "stdout",
     "output_type": "stream",
     "text": [
      "\n",
      "Testing pipeline_2D_thr_0.5_norm_percentile_0_9 pipeline\n"
     ]
    },
    {
     "name": "stderr",
     "output_type": "stream",
     "text": [
      "100%|██████████| 19/19 [00:00<00:00, 6199.28it/s]"
     ]
    },
    {
     "name": "stdout",
     "output_type": "stream",
     "text": [
      "[==============                                    ] 29.82%"
     ]
    },
    {
     "name": "stderr",
     "output_type": "stream",
     "text": [
      "\n"
     ]
    },
    {
     "name": "stdout",
     "output_type": "stream",
     "text": [
      "\n",
      "Testing pipeline_2D_thr_0.5_norm_percentile_0_10 pipeline\n"
     ]
    },
    {
     "name": "stderr",
     "output_type": "stream",
     "text": [
      "100%|██████████| 19/19 [00:00<00:00, 6763.28it/s]"
     ]
    },
    {
     "name": "stdout",
     "output_type": "stream",
     "text": [
      "[==============                                    ] 29.88%"
     ]
    },
    {
     "name": "stderr",
     "output_type": "stream",
     "text": [
      "\n"
     ]
    },
    {
     "name": "stdout",
     "output_type": "stream",
     "text": [
      "\n",
      "Testing pipeline_2D_thr_0.5_norm_percentile_0_11 pipeline\n"
     ]
    },
    {
     "name": "stderr",
     "output_type": "stream",
     "text": [
      "100%|██████████| 19/19 [00:00<00:00, 6774.21it/s]"
     ]
    },
    {
     "name": "stdout",
     "output_type": "stream",
     "text": [
      "[==============                                    ] 29.95%"
     ]
    },
    {
     "name": "stderr",
     "output_type": "stream",
     "text": [
      "\n"
     ]
    },
    {
     "name": "stdout",
     "output_type": "stream",
     "text": [
      "\n",
      "Testing pipeline_2D_thr_0.5_norm_percentile_0_12 pipeline\n"
     ]
    },
    {
     "name": "stderr",
     "output_type": "stream",
     "text": [
      "100%|██████████| 19/19 [00:00<00:00, 5758.08it/s]"
     ]
    },
    {
     "name": "stdout",
     "output_type": "stream",
     "text": [
      "[===============                                   ] 30.01%"
     ]
    },
    {
     "name": "stderr",
     "output_type": "stream",
     "text": [
      "\n"
     ]
    },
    {
     "name": "stdout",
     "output_type": "stream",
     "text": [
      "\n",
      "Testing pipeline_2D_thr_0.5_norm_percentile_0_13 pipeline\n"
     ]
    },
    {
     "name": "stderr",
     "output_type": "stream",
     "text": [
      "100%|██████████| 19/19 [00:00<00:00, 6076.85it/s]"
     ]
    },
    {
     "name": "stdout",
     "output_type": "stream",
     "text": [
      "[===============                                   ] 30.08%"
     ]
    },
    {
     "name": "stderr",
     "output_type": "stream",
     "text": [
      "\n"
     ]
    },
    {
     "name": "stdout",
     "output_type": "stream",
     "text": [
      "\n",
      "Testing pipeline_2D_thr_0.5_norm_percentile_0_14 pipeline\n"
     ]
    },
    {
     "name": "stderr",
     "output_type": "stream",
     "text": [
      "100%|██████████| 19/19 [00:00<00:00, 6528.90it/s]"
     ]
    },
    {
     "name": "stdout",
     "output_type": "stream",
     "text": [
      "[===============                                   ] 30.14%"
     ]
    },
    {
     "name": "stderr",
     "output_type": "stream",
     "text": [
      "\n"
     ]
    },
    {
     "name": "stdout",
     "output_type": "stream",
     "text": [
      "\n",
      "Testing pipeline_2D_thr_0.5_norm_percentile_0_15 pipeline\n"
     ]
    },
    {
     "name": "stderr",
     "output_type": "stream",
     "text": [
      "100%|██████████| 19/19 [00:00<00:00, 5798.30it/s]"
     ]
    },
    {
     "name": "stdout",
     "output_type": "stream",
     "text": [
      "[===============                                   ] 30.21%"
     ]
    },
    {
     "name": "stderr",
     "output_type": "stream",
     "text": [
      "\n"
     ]
    },
    {
     "name": "stdout",
     "output_type": "stream",
     "text": [
      "\n",
      "Testing pipeline_2D_thr_0.5_norm_percentile_1_0 pipeline\n"
     ]
    },
    {
     "name": "stderr",
     "output_type": "stream",
     "text": [
      "100%|██████████| 19/19 [00:00<00:00, 6656.51it/s]"
     ]
    },
    {
     "name": "stdout",
     "output_type": "stream",
     "text": [
      "[===============                                   ] 30.27%"
     ]
    },
    {
     "name": "stderr",
     "output_type": "stream",
     "text": [
      "\n"
     ]
    },
    {
     "name": "stdout",
     "output_type": "stream",
     "text": [
      "\n",
      "Testing pipeline_2D_thr_0.5_norm_percentile_1_1 pipeline\n"
     ]
    },
    {
     "name": "stderr",
     "output_type": "stream",
     "text": [
      "100%|██████████| 19/19 [00:00<00:00, 5599.48it/s]"
     ]
    },
    {
     "name": "stdout",
     "output_type": "stream",
     "text": [
      "[===============                                   ] 30.34%"
     ]
    },
    {
     "name": "stderr",
     "output_type": "stream",
     "text": [
      "\n"
     ]
    },
    {
     "name": "stdout",
     "output_type": "stream",
     "text": [
      "\n",
      "Testing pipeline_2D_thr_0.5_norm_percentile_1_2 pipeline\n"
     ]
    },
    {
     "name": "stderr",
     "output_type": "stream",
     "text": [
      "100%|██████████| 19/19 [00:00<00:00, 6033.60it/s]"
     ]
    },
    {
     "name": "stdout",
     "output_type": "stream",
     "text": [
      "[===============                                   ] 30.40%"
     ]
    },
    {
     "name": "stderr",
     "output_type": "stream",
     "text": [
      "\n"
     ]
    },
    {
     "name": "stdout",
     "output_type": "stream",
     "text": [
      "\n",
      "Testing pipeline_2D_thr_0.5_norm_percentile_1_3 pipeline\n"
     ]
    },
    {
     "name": "stderr",
     "output_type": "stream",
     "text": [
      "100%|██████████| 19/19 [00:00<00:00, 5066.23it/s]"
     ]
    },
    {
     "name": "stdout",
     "output_type": "stream",
     "text": [
      "[===============                                   ] 30.47%"
     ]
    },
    {
     "name": "stderr",
     "output_type": "stream",
     "text": [
      "\n"
     ]
    },
    {
     "name": "stdout",
     "output_type": "stream",
     "text": [
      "\n",
      "Testing pipeline_2D_thr_0.5_norm_percentile_1_4 pipeline\n"
     ]
    },
    {
     "name": "stderr",
     "output_type": "stream",
     "text": [
      "100%|██████████| 19/19 [00:00<00:00, 5536.84it/s]"
     ]
    },
    {
     "name": "stdout",
     "output_type": "stream",
     "text": [
      "[===============                                   ] 30.53%"
     ]
    },
    {
     "name": "stderr",
     "output_type": "stream",
     "text": [
      "\n"
     ]
    },
    {
     "name": "stdout",
     "output_type": "stream",
     "text": [
      "\n",
      "Testing pipeline_2D_thr_0.5_norm_percentile_1_5 pipeline\n"
     ]
    },
    {
     "name": "stderr",
     "output_type": "stream",
     "text": [
      "100%|██████████| 19/19 [00:00<00:00, 6341.35it/s]"
     ]
    },
    {
     "name": "stdout",
     "output_type": "stream",
     "text": [
      "[===============                                   ] 30.60%"
     ]
    },
    {
     "name": "stderr",
     "output_type": "stream",
     "text": [
      "\n"
     ]
    },
    {
     "name": "stdout",
     "output_type": "stream",
     "text": [
      "\n",
      "Testing pipeline_2D_thr_0.5_norm_percentile_1_6 pipeline\n"
     ]
    },
    {
     "name": "stderr",
     "output_type": "stream",
     "text": [
      "100%|██████████| 19/19 [00:00<00:00, 5229.46it/s]"
     ]
    },
    {
     "name": "stdout",
     "output_type": "stream",
     "text": [
      "[===============                                   ] 30.66%"
     ]
    },
    {
     "name": "stderr",
     "output_type": "stream",
     "text": [
      "\n"
     ]
    },
    {
     "name": "stdout",
     "output_type": "stream",
     "text": [
      "\n",
      "Testing pipeline_2D_thr_0.5_norm_percentile_1_7 pipeline\n"
     ]
    },
    {
     "name": "stderr",
     "output_type": "stream",
     "text": [
      "100%|██████████| 19/19 [00:00<00:00, 5308.18it/s]"
     ]
    },
    {
     "name": "stdout",
     "output_type": "stream",
     "text": [
      "[===============                                   ] 30.73%"
     ]
    },
    {
     "name": "stderr",
     "output_type": "stream",
     "text": [
      "\n"
     ]
    },
    {
     "name": "stdout",
     "output_type": "stream",
     "text": [
      "\n",
      "Testing pipeline_2D_thr_0.5_norm_percentile_1_8 pipeline\n"
     ]
    },
    {
     "name": "stderr",
     "output_type": "stream",
     "text": [
      "100%|██████████| 19/19 [00:00<00:00, 6484.28it/s]"
     ]
    },
    {
     "name": "stdout",
     "output_type": "stream",
     "text": [
      "[===============                                   ] 30.79%"
     ]
    },
    {
     "name": "stderr",
     "output_type": "stream",
     "text": [
      "\n"
     ]
    },
    {
     "name": "stdout",
     "output_type": "stream",
     "text": [
      "\n",
      "Testing pipeline_2D_thr_0.5_norm_percentile_1_9 pipeline\n"
     ]
    },
    {
     "name": "stderr",
     "output_type": "stream",
     "text": [
      "100%|██████████| 19/19 [00:00<00:00, 6919.49it/s]"
     ]
    },
    {
     "name": "stdout",
     "output_type": "stream",
     "text": [
      "[===============                                   ] 30.86%"
     ]
    },
    {
     "name": "stderr",
     "output_type": "stream",
     "text": [
      "\n"
     ]
    },
    {
     "name": "stdout",
     "output_type": "stream",
     "text": [
      "\n",
      "Testing pipeline_2D_thr_0.5_norm_percentile_1_10 pipeline\n"
     ]
    },
    {
     "name": "stderr",
     "output_type": "stream",
     "text": [
      "100%|██████████| 19/19 [00:00<00:00, 6054.23it/s]"
     ]
    },
    {
     "name": "stdout",
     "output_type": "stream",
     "text": [
      "[===============                                   ] 30.92%"
     ]
    },
    {
     "name": "stderr",
     "output_type": "stream",
     "text": [
      "\n"
     ]
    },
    {
     "name": "stdout",
     "output_type": "stream",
     "text": [
      "\n",
      "Testing pipeline_2D_thr_0.5_norm_percentile_1_11 pipeline\n"
     ]
    },
    {
     "name": "stderr",
     "output_type": "stream",
     "text": [
      "100%|██████████| 19/19 [00:00<00:00, 4149.10it/s]"
     ]
    },
    {
     "name": "stdout",
     "output_type": "stream",
     "text": [
      "[===============                                   ] 30.99%"
     ]
    },
    {
     "name": "stderr",
     "output_type": "stream",
     "text": [
      "\n"
     ]
    },
    {
     "name": "stdout",
     "output_type": "stream",
     "text": [
      "\n",
      "Testing pipeline_2D_thr_0.5_norm_percentile_1_12 pipeline\n"
     ]
    },
    {
     "name": "stderr",
     "output_type": "stream",
     "text": [
      "100%|██████████| 19/19 [00:00<00:00, 6414.34it/s]"
     ]
    },
    {
     "name": "stdout",
     "output_type": "stream",
     "text": [
      "[===============                                   ] 31.05%"
     ]
    },
    {
     "name": "stderr",
     "output_type": "stream",
     "text": [
      "\n"
     ]
    },
    {
     "name": "stdout",
     "output_type": "stream",
     "text": [
      "\n",
      "Testing pipeline_2D_thr_0.5_norm_percentile_1_13 pipeline\n"
     ]
    },
    {
     "name": "stderr",
     "output_type": "stream",
     "text": [
      "100%|██████████| 19/19 [00:00<00:00, 5281.10it/s]"
     ]
    },
    {
     "name": "stdout",
     "output_type": "stream",
     "text": [
      "[===============                                   ] 31.12%"
     ]
    },
    {
     "name": "stderr",
     "output_type": "stream",
     "text": [
      "\n"
     ]
    },
    {
     "name": "stdout",
     "output_type": "stream",
     "text": [
      "\n",
      "Testing pipeline_2D_thr_0.5_norm_percentile_1_14 pipeline\n"
     ]
    },
    {
     "name": "stderr",
     "output_type": "stream",
     "text": [
      "100%|██████████| 19/19 [00:00<00:00, 7169.11it/s]"
     ]
    },
    {
     "name": "stdout",
     "output_type": "stream",
     "text": [
      "[===============                                   ] 31.18%"
     ]
    },
    {
     "name": "stderr",
     "output_type": "stream",
     "text": [
      "\n"
     ]
    },
    {
     "name": "stdout",
     "output_type": "stream",
     "text": [
      "\n",
      "Testing pipeline_2D_thr_0.5_norm_percentile_1_15 pipeline\n"
     ]
    },
    {
     "name": "stderr",
     "output_type": "stream",
     "text": [
      "100%|██████████| 19/19 [00:00<00:00, 6972.16it/s]"
     ]
    },
    {
     "name": "stdout",
     "output_type": "stream",
     "text": [
      "[===============                                   ] 31.25%"
     ]
    },
    {
     "name": "stderr",
     "output_type": "stream",
     "text": [
      "\n"
     ]
    },
    {
     "name": "stdout",
     "output_type": "stream",
     "text": [
      "\n",
      "Testing pipeline_2D_thr_0.5_norm_percentile_2_0 pipeline\n"
     ]
    },
    {
     "name": "stderr",
     "output_type": "stream",
     "text": [
      "100%|██████████| 19/19 [00:00<00:00, 5206.57it/s]"
     ]
    },
    {
     "name": "stdout",
     "output_type": "stream",
     "text": [
      "[===============                                   ] 31.32%"
     ]
    },
    {
     "name": "stderr",
     "output_type": "stream",
     "text": [
      "\n"
     ]
    },
    {
     "name": "stdout",
     "output_type": "stream",
     "text": [
      "\n",
      "Testing pipeline_2D_thr_0.5_norm_percentile_2_1 pipeline\n"
     ]
    },
    {
     "name": "stderr",
     "output_type": "stream",
     "text": [
      "100%|██████████| 19/19 [00:00<00:00, 4666.07it/s]"
     ]
    },
    {
     "name": "stdout",
     "output_type": "stream",
     "text": [
      "[===============                                   ] 31.38%"
     ]
    },
    {
     "name": "stderr",
     "output_type": "stream",
     "text": [
      "\n"
     ]
    },
    {
     "name": "stdout",
     "output_type": "stream",
     "text": [
      "\n",
      "Testing pipeline_2D_thr_0.5_norm_percentile_2_2 pipeline\n"
     ]
    },
    {
     "name": "stderr",
     "output_type": "stream",
     "text": [
      "100%|██████████| 19/19 [00:00<00:00, 5774.77it/s]"
     ]
    },
    {
     "name": "stdout",
     "output_type": "stream",
     "text": [
      "[===============                                   ] 31.45%"
     ]
    },
    {
     "name": "stderr",
     "output_type": "stream",
     "text": [
      "\n"
     ]
    },
    {
     "name": "stdout",
     "output_type": "stream",
     "text": [
      "\n",
      "Testing pipeline_2D_thr_0.5_norm_percentile_2_3 pipeline\n"
     ]
    },
    {
     "name": "stderr",
     "output_type": "stream",
     "text": [
      "100%|██████████| 19/19 [00:00<00:00, 6482.17it/s]"
     ]
    },
    {
     "name": "stdout",
     "output_type": "stream",
     "text": [
      "[===============                                   ] 31.51%"
     ]
    },
    {
     "name": "stderr",
     "output_type": "stream",
     "text": [
      "\n"
     ]
    },
    {
     "name": "stdout",
     "output_type": "stream",
     "text": [
      "\n",
      "Testing pipeline_2D_thr_0.5_norm_percentile_2_4 pipeline\n"
     ]
    },
    {
     "name": "stderr",
     "output_type": "stream",
     "text": [
      "100%|██████████| 19/19 [00:00<00:00, 7279.78it/s]"
     ]
    },
    {
     "name": "stdout",
     "output_type": "stream",
     "text": [
      "[===============                                   ] 31.58%"
     ]
    },
    {
     "name": "stderr",
     "output_type": "stream",
     "text": [
      "\n"
     ]
    },
    {
     "name": "stdout",
     "output_type": "stream",
     "text": [
      "\n",
      "Testing pipeline_2D_thr_0.5_norm_percentile_2_5 pipeline\n"
     ]
    },
    {
     "name": "stderr",
     "output_type": "stream",
     "text": [
      "100%|██████████| 19/19 [00:00<00:00, 6243.48it/s]"
     ]
    },
    {
     "name": "stdout",
     "output_type": "stream",
     "text": [
      "[===============                                   ] 31.64%"
     ]
    },
    {
     "name": "stderr",
     "output_type": "stream",
     "text": [
      "\n"
     ]
    },
    {
     "name": "stdout",
     "output_type": "stream",
     "text": [
      "\n",
      "Testing pipeline_2D_thr_0.5_norm_percentile_2_6 pipeline\n"
     ]
    },
    {
     "name": "stderr",
     "output_type": "stream",
     "text": [
      "100%|██████████| 19/19 [00:00<00:00, 6718.24it/s]"
     ]
    },
    {
     "name": "stdout",
     "output_type": "stream",
     "text": [
      "[===============                                   ] 31.71%"
     ]
    },
    {
     "name": "stderr",
     "output_type": "stream",
     "text": [
      "\n"
     ]
    },
    {
     "name": "stdout",
     "output_type": "stream",
     "text": [
      "\n",
      "Testing pipeline_2D_thr_0.5_norm_percentile_2_7 pipeline\n"
     ]
    },
    {
     "name": "stderr",
     "output_type": "stream",
     "text": [
      "100%|██████████| 19/19 [00:00<00:00, 6200.25it/s]"
     ]
    },
    {
     "name": "stdout",
     "output_type": "stream",
     "text": [
      "[===============                                   ] 31.77%"
     ]
    },
    {
     "name": "stderr",
     "output_type": "stream",
     "text": [
      "\n"
     ]
    },
    {
     "name": "stdout",
     "output_type": "stream",
     "text": [
      "\n",
      "Testing pipeline_2D_thr_0.5_norm_percentile_2_8 pipeline\n"
     ]
    },
    {
     "name": "stderr",
     "output_type": "stream",
     "text": [
      "100%|██████████| 19/19 [00:00<00:00, 6706.37it/s]"
     ]
    },
    {
     "name": "stdout",
     "output_type": "stream",
     "text": [
      "[===============                                   ] 31.84%"
     ]
    },
    {
     "name": "stderr",
     "output_type": "stream",
     "text": [
      "\n"
     ]
    },
    {
     "name": "stdout",
     "output_type": "stream",
     "text": [
      "\n",
      "Testing pipeline_2D_thr_0.5_norm_percentile_2_9 pipeline\n"
     ]
    },
    {
     "name": "stderr",
     "output_type": "stream",
     "text": [
      "100%|██████████| 19/19 [00:00<00:00, 5025.65it/s]"
     ]
    },
    {
     "name": "stdout",
     "output_type": "stream",
     "text": [
      "[===============                                   ] 31.90%"
     ]
    },
    {
     "name": "stderr",
     "output_type": "stream",
     "text": [
      "\n"
     ]
    },
    {
     "name": "stdout",
     "output_type": "stream",
     "text": [
      "\n",
      "Testing pipeline_2D_thr_0.5_norm_percentile_2_10 pipeline\n"
     ]
    },
    {
     "name": "stderr",
     "output_type": "stream",
     "text": [
      "100%|██████████| 19/19 [00:00<00:00, 7004.02it/s]"
     ]
    },
    {
     "name": "stdout",
     "output_type": "stream",
     "text": [
      "[===============                                   ] 31.97%"
     ]
    },
    {
     "name": "stderr",
     "output_type": "stream",
     "text": [
      "\n"
     ]
    },
    {
     "name": "stdout",
     "output_type": "stream",
     "text": [
      "\n",
      "Testing pipeline_2D_thr_0.5_norm_percentile_2_11 pipeline\n"
     ]
    },
    {
     "name": "stderr",
     "output_type": "stream",
     "text": [
      "100%|██████████| 19/19 [00:00<00:00, 6252.79it/s]"
     ]
    },
    {
     "name": "stdout",
     "output_type": "stream",
     "text": [
      "[================                                  ] 32.03%"
     ]
    },
    {
     "name": "stderr",
     "output_type": "stream",
     "text": [
      "\n"
     ]
    },
    {
     "name": "stdout",
     "output_type": "stream",
     "text": [
      "\n",
      "Testing pipeline_2D_thr_0.5_norm_percentile_2_12 pipeline\n"
     ]
    },
    {
     "name": "stderr",
     "output_type": "stream",
     "text": [
      "100%|██████████| 19/19 [00:00<00:00, 5568.57it/s]"
     ]
    },
    {
     "name": "stdout",
     "output_type": "stream",
     "text": [
      "[================                                  ] 32.10%"
     ]
    },
    {
     "name": "stderr",
     "output_type": "stream",
     "text": [
      "\n"
     ]
    },
    {
     "name": "stdout",
     "output_type": "stream",
     "text": [
      "\n",
      "Testing pipeline_2D_thr_0.5_norm_percentile_2_13 pipeline\n"
     ]
    },
    {
     "name": "stderr",
     "output_type": "stream",
     "text": [
      "100%|██████████| 19/19 [00:00<00:00, 5694.30it/s]\n"
     ]
    },
    {
     "name": "stdout",
     "output_type": "stream",
     "text": [
      "[================                                  ] 32.16%\n",
      "Testing pipeline_2D_thr_0.5_norm_percentile_2_14 pipeline\n"
     ]
    },
    {
     "name": "stderr",
     "output_type": "stream",
     "text": [
      "100%|██████████| 19/19 [00:00<00:00, 5501.30it/s]"
     ]
    },
    {
     "name": "stdout",
     "output_type": "stream",
     "text": [
      "[================                                  ] 32.23%"
     ]
    },
    {
     "name": "stderr",
     "output_type": "stream",
     "text": [
      "\n"
     ]
    },
    {
     "name": "stdout",
     "output_type": "stream",
     "text": [
      "\n",
      "Testing pipeline_2D_thr_0.5_norm_percentile_2_15 pipeline\n"
     ]
    },
    {
     "name": "stderr",
     "output_type": "stream",
     "text": [
      "100%|██████████| 19/19 [00:00<00:00, 5708.17it/s]"
     ]
    },
    {
     "name": "stdout",
     "output_type": "stream",
     "text": [
      "[================                                  ] 32.29%"
     ]
    },
    {
     "name": "stderr",
     "output_type": "stream",
     "text": [
      "\n"
     ]
    },
    {
     "name": "stdout",
     "output_type": "stream",
     "text": [
      "\n",
      "Testing pipeline_2D_thr_0.5_norm_percentile_3_0 pipeline\n"
     ]
    },
    {
     "name": "stderr",
     "output_type": "stream",
     "text": [
      "100%|██████████| 19/19 [00:00<00:00, 6318.73it/s]"
     ]
    },
    {
     "name": "stdout",
     "output_type": "stream",
     "text": [
      "[================                                  ] 32.36%"
     ]
    },
    {
     "name": "stderr",
     "output_type": "stream",
     "text": [
      "\n"
     ]
    },
    {
     "name": "stdout",
     "output_type": "stream",
     "text": [
      "\n",
      "Testing pipeline_2D_thr_0.5_norm_percentile_3_1 pipeline\n"
     ]
    },
    {
     "name": "stderr",
     "output_type": "stream",
     "text": [
      "100%|██████████| 19/19 [00:00<00:00, 6762.14it/s]"
     ]
    },
    {
     "name": "stdout",
     "output_type": "stream",
     "text": [
      "[================                                  ] 32.42%"
     ]
    },
    {
     "name": "stderr",
     "output_type": "stream",
     "text": [
      "\n"
     ]
    },
    {
     "name": "stdout",
     "output_type": "stream",
     "text": [
      "\n",
      "Testing pipeline_2D_thr_0.5_norm_percentile_3_2 pipeline\n"
     ]
    },
    {
     "name": "stderr",
     "output_type": "stream",
     "text": [
      "100%|██████████| 19/19 [00:00<00:00, 5191.98it/s]"
     ]
    },
    {
     "name": "stdout",
     "output_type": "stream",
     "text": [
      "[================                                  ] 32.49%"
     ]
    },
    {
     "name": "stderr",
     "output_type": "stream",
     "text": [
      "\n"
     ]
    },
    {
     "name": "stdout",
     "output_type": "stream",
     "text": [
      "\n",
      "Testing pipeline_2D_thr_0.5_norm_percentile_3_3 pipeline\n"
     ]
    },
    {
     "name": "stderr",
     "output_type": "stream",
     "text": [
      "100%|██████████| 19/19 [00:00<00:00, 6470.59it/s]"
     ]
    },
    {
     "name": "stdout",
     "output_type": "stream",
     "text": [
      "[================                                  ] 32.55%"
     ]
    },
    {
     "name": "stderr",
     "output_type": "stream",
     "text": [
      "\n"
     ]
    },
    {
     "name": "stdout",
     "output_type": "stream",
     "text": [
      "\n",
      "Testing pipeline_2D_thr_0.5_norm_percentile_3_4 pipeline\n"
     ]
    },
    {
     "name": "stderr",
     "output_type": "stream",
     "text": [
      "100%|██████████| 19/19 [00:00<00:00, 6294.77it/s]"
     ]
    },
    {
     "name": "stdout",
     "output_type": "stream",
     "text": [
      "[================                                  ] 32.62%"
     ]
    },
    {
     "name": "stderr",
     "output_type": "stream",
     "text": [
      "\n"
     ]
    },
    {
     "name": "stdout",
     "output_type": "stream",
     "text": [
      "\n",
      "Testing pipeline_2D_thr_0.5_norm_percentile_3_5 pipeline\n"
     ]
    },
    {
     "name": "stderr",
     "output_type": "stream",
     "text": [
      "100%|██████████| 19/19 [00:00<00:00, 6300.24it/s]"
     ]
    },
    {
     "name": "stdout",
     "output_type": "stream",
     "text": [
      "[================                                  ] 32.68%"
     ]
    },
    {
     "name": "stderr",
     "output_type": "stream",
     "text": [
      "\n"
     ]
    },
    {
     "name": "stdout",
     "output_type": "stream",
     "text": [
      "\n",
      "Testing pipeline_2D_thr_0.5_norm_percentile_3_6 pipeline\n"
     ]
    },
    {
     "name": "stderr",
     "output_type": "stream",
     "text": [
      "100%|██████████| 19/19 [00:00<00:00, 6638.22it/s]"
     ]
    },
    {
     "name": "stdout",
     "output_type": "stream",
     "text": [
      "[================                                  ] 32.75%"
     ]
    },
    {
     "name": "stderr",
     "output_type": "stream",
     "text": [
      "\n"
     ]
    },
    {
     "name": "stdout",
     "output_type": "stream",
     "text": [
      "\n",
      "Testing pipeline_2D_thr_0.5_norm_percentile_3_7 pipeline\n"
     ]
    },
    {
     "name": "stderr",
     "output_type": "stream",
     "text": [
      "100%|██████████| 19/19 [00:00<00:00, 5930.77it/s]"
     ]
    },
    {
     "name": "stdout",
     "output_type": "stream",
     "text": [
      "[================                                  ] 32.81%"
     ]
    },
    {
     "name": "stderr",
     "output_type": "stream",
     "text": [
      "\n"
     ]
    },
    {
     "name": "stdout",
     "output_type": "stream",
     "text": [
      "\n",
      "Testing pipeline_2D_thr_0.5_norm_percentile_3_8 pipeline\n"
     ]
    },
    {
     "name": "stderr",
     "output_type": "stream",
     "text": [
      "100%|██████████| 19/19 [00:00<00:00, 5197.74it/s]"
     ]
    },
    {
     "name": "stdout",
     "output_type": "stream",
     "text": [
      "[================                                  ] 32.88%"
     ]
    },
    {
     "name": "stderr",
     "output_type": "stream",
     "text": [
      "\n"
     ]
    },
    {
     "name": "stdout",
     "output_type": "stream",
     "text": [
      "\n",
      "Testing pipeline_2D_thr_0.5_norm_percentile_3_9 pipeline\n"
     ]
    },
    {
     "name": "stderr",
     "output_type": "stream",
     "text": [
      "100%|██████████| 19/19 [00:00<00:00, 5974.79it/s]"
     ]
    },
    {
     "name": "stdout",
     "output_type": "stream",
     "text": [
      "[================                                  ] 32.94%"
     ]
    },
    {
     "name": "stderr",
     "output_type": "stream",
     "text": [
      "\n"
     ]
    },
    {
     "name": "stdout",
     "output_type": "stream",
     "text": [
      "\n",
      "Testing pipeline_2D_thr_0.5_norm_percentile_3_10 pipeline\n"
     ]
    },
    {
     "name": "stderr",
     "output_type": "stream",
     "text": [
      "100%|██████████| 19/19 [00:00<00:00, 7078.68it/s]"
     ]
    },
    {
     "name": "stdout",
     "output_type": "stream",
     "text": [
      "[================                                  ] 33.01%"
     ]
    },
    {
     "name": "stderr",
     "output_type": "stream",
     "text": [
      "\n"
     ]
    },
    {
     "name": "stdout",
     "output_type": "stream",
     "text": [
      "\n",
      "Testing pipeline_2D_thr_0.5_norm_percentile_3_11 pipeline\n"
     ]
    },
    {
     "name": "stderr",
     "output_type": "stream",
     "text": [
      "100%|██████████| 19/19 [00:00<00:00, 5879.14it/s]"
     ]
    },
    {
     "name": "stdout",
     "output_type": "stream",
     "text": [
      "[================                                  ] 33.07%"
     ]
    },
    {
     "name": "stderr",
     "output_type": "stream",
     "text": [
      "\n"
     ]
    },
    {
     "name": "stdout",
     "output_type": "stream",
     "text": [
      "\n",
      "Testing pipeline_2D_thr_0.5_norm_percentile_3_12 pipeline\n"
     ]
    },
    {
     "name": "stderr",
     "output_type": "stream",
     "text": [
      "100%|██████████| 19/19 [00:00<00:00, 5312.08it/s]"
     ]
    },
    {
     "name": "stdout",
     "output_type": "stream",
     "text": [
      "[================                                  ] 33.14%"
     ]
    },
    {
     "name": "stderr",
     "output_type": "stream",
     "text": [
      "\n"
     ]
    },
    {
     "name": "stdout",
     "output_type": "stream",
     "text": [
      "\n",
      "Testing pipeline_2D_thr_0.5_norm_percentile_3_13 pipeline\n"
     ]
    },
    {
     "name": "stderr",
     "output_type": "stream",
     "text": [
      "100%|██████████| 19/19 [00:00<00:00, 4939.06it/s]"
     ]
    },
    {
     "name": "stdout",
     "output_type": "stream",
     "text": [
      "[================                                  ] 33.20%"
     ]
    },
    {
     "name": "stderr",
     "output_type": "stream",
     "text": [
      "\n"
     ]
    },
    {
     "name": "stdout",
     "output_type": "stream",
     "text": [
      "\n",
      "Testing pipeline_2D_thr_0.5_norm_percentile_3_14 pipeline\n"
     ]
    },
    {
     "name": "stderr",
     "output_type": "stream",
     "text": [
      "100%|██████████| 19/19 [00:00<00:00, 5904.84it/s]"
     ]
    },
    {
     "name": "stdout",
     "output_type": "stream",
     "text": [
      "[================                                  ] 33.27%"
     ]
    },
    {
     "name": "stderr",
     "output_type": "stream",
     "text": [
      "\n"
     ]
    },
    {
     "name": "stdout",
     "output_type": "stream",
     "text": [
      "\n",
      "Testing pipeline_2D_thr_0.5_norm_percentile_3_15 pipeline\n"
     ]
    },
    {
     "name": "stderr",
     "output_type": "stream",
     "text": [
      "100%|██████████| 19/19 [00:00<00:00, 7041.78it/s]"
     ]
    },
    {
     "name": "stdout",
     "output_type": "stream",
     "text": [
      "[================                                  ] 33.33%"
     ]
    },
    {
     "name": "stderr",
     "output_type": "stream",
     "text": [
      "\n"
     ]
    },
    {
     "name": "stdout",
     "output_type": "stream",
     "text": [
      "\n",
      "Testing pipeline_2D_thr_0.6_norm_minmax_0_0 pipeline\n"
     ]
    },
    {
     "name": "stderr",
     "output_type": "stream",
     "text": [
      "100%|██████████| 19/19 [00:00<00:00, 4930.51it/s]"
     ]
    },
    {
     "name": "stdout",
     "output_type": "stream",
     "text": [
      "[================                                  ] 33.40%"
     ]
    },
    {
     "name": "stderr",
     "output_type": "stream",
     "text": [
      "\n"
     ]
    },
    {
     "name": "stdout",
     "output_type": "stream",
     "text": [
      "\n",
      "Testing pipeline_2D_thr_0.6_norm_minmax_0_1 pipeline\n"
     ]
    },
    {
     "name": "stderr",
     "output_type": "stream",
     "text": [
      "100%|██████████| 19/19 [00:00<00:00, 6124.95it/s]"
     ]
    },
    {
     "name": "stdout",
     "output_type": "stream",
     "text": [
      "[================                                  ] 33.46%"
     ]
    },
    {
     "name": "stderr",
     "output_type": "stream",
     "text": [
      "\n"
     ]
    },
    {
     "name": "stdout",
     "output_type": "stream",
     "text": [
      "\n",
      "Testing pipeline_2D_thr_0.6_norm_minmax_0_2 pipeline\n"
     ]
    },
    {
     "name": "stderr",
     "output_type": "stream",
     "text": [
      "100%|██████████| 19/19 [00:00<00:00, 5902.66it/s]"
     ]
    },
    {
     "name": "stdout",
     "output_type": "stream",
     "text": [
      "[================                                  ] 33.53%"
     ]
    },
    {
     "name": "stderr",
     "output_type": "stream",
     "text": [
      "\n"
     ]
    },
    {
     "name": "stdout",
     "output_type": "stream",
     "text": [
      "\n",
      "Testing pipeline_2D_thr_0.6_norm_minmax_0_3 pipeline\n"
     ]
    },
    {
     "name": "stderr",
     "output_type": "stream",
     "text": [
      "100%|██████████| 19/19 [00:00<00:00, 5810.56it/s]"
     ]
    },
    {
     "name": "stdout",
     "output_type": "stream",
     "text": [
      "[================                                  ] 33.59%"
     ]
    },
    {
     "name": "stderr",
     "output_type": "stream",
     "text": [
      "\n"
     ]
    },
    {
     "name": "stdout",
     "output_type": "stream",
     "text": [
      "\n",
      "Testing pipeline_2D_thr_0.6_norm_minmax_0_4 pipeline\n"
     ]
    },
    {
     "name": "stderr",
     "output_type": "stream",
     "text": [
      "100%|██████████| 19/19 [00:00<00:00, 6408.67it/s]"
     ]
    },
    {
     "name": "stdout",
     "output_type": "stream",
     "text": [
      "[================                                  ] 33.66%"
     ]
    },
    {
     "name": "stderr",
     "output_type": "stream",
     "text": [
      "\n"
     ]
    },
    {
     "name": "stdout",
     "output_type": "stream",
     "text": [
      "\n",
      "Testing pipeline_2D_thr_0.6_norm_minmax_0_5 pipeline\n"
     ]
    },
    {
     "name": "stderr",
     "output_type": "stream",
     "text": [
      "100%|██████████| 19/19 [00:00<00:00, 6038.17it/s]"
     ]
    },
    {
     "name": "stdout",
     "output_type": "stream",
     "text": [
      "[================                                  ] 33.72%"
     ]
    },
    {
     "name": "stderr",
     "output_type": "stream",
     "text": [
      "\n"
     ]
    },
    {
     "name": "stdout",
     "output_type": "stream",
     "text": [
      "\n",
      "Testing pipeline_2D_thr_0.6_norm_minmax_0_6 pipeline\n"
     ]
    },
    {
     "name": "stderr",
     "output_type": "stream",
     "text": [
      "100%|██████████| 19/19 [00:00<00:00, 6233.71it/s]"
     ]
    },
    {
     "name": "stdout",
     "output_type": "stream",
     "text": [
      "[================                                  ] 33.79%"
     ]
    },
    {
     "name": "stderr",
     "output_type": "stream",
     "text": [
      "\n"
     ]
    },
    {
     "name": "stdout",
     "output_type": "stream",
     "text": [
      "\n",
      "Testing pipeline_2D_thr_0.6_norm_minmax_0_7 pipeline\n"
     ]
    },
    {
     "name": "stderr",
     "output_type": "stream",
     "text": [
      "100%|██████████| 19/19 [00:00<00:00, 5216.80it/s]"
     ]
    },
    {
     "name": "stdout",
     "output_type": "stream",
     "text": [
      "[================                                  ] 33.85%"
     ]
    },
    {
     "name": "stderr",
     "output_type": "stream",
     "text": [
      "\n"
     ]
    },
    {
     "name": "stdout",
     "output_type": "stream",
     "text": [
      "\n",
      "Testing pipeline_2D_thr_0.6_norm_minmax_0_8 pipeline\n"
     ]
    },
    {
     "name": "stderr",
     "output_type": "stream",
     "text": [
      "100%|██████████| 19/19 [00:00<00:00, 6166.19it/s]"
     ]
    },
    {
     "name": "stdout",
     "output_type": "stream",
     "text": [
      "[================                                  ] 33.92%"
     ]
    },
    {
     "name": "stderr",
     "output_type": "stream",
     "text": [
      "\n"
     ]
    },
    {
     "name": "stdout",
     "output_type": "stream",
     "text": [
      "\n",
      "Testing pipeline_2D_thr_0.6_norm_minmax_0_9 pipeline\n"
     ]
    },
    {
     "name": "stderr",
     "output_type": "stream",
     "text": [
      "100%|██████████| 19/19 [00:00<00:00, 6636.56it/s]"
     ]
    },
    {
     "name": "stdout",
     "output_type": "stream",
     "text": [
      "[================                                  ] 33.98%"
     ]
    },
    {
     "name": "stderr",
     "output_type": "stream",
     "text": [
      "\n"
     ]
    },
    {
     "name": "stdout",
     "output_type": "stream",
     "text": [
      "\n",
      "Testing pipeline_2D_thr_0.6_norm_minmax_0_10 pipeline\n"
     ]
    },
    {
     "name": "stderr",
     "output_type": "stream",
     "text": [
      "100%|██████████| 19/19 [00:00<00:00, 6183.89it/s]"
     ]
    },
    {
     "name": "stdout",
     "output_type": "stream",
     "text": [
      "[=================                                 ] 34.05%"
     ]
    },
    {
     "name": "stderr",
     "output_type": "stream",
     "text": [
      "\n"
     ]
    },
    {
     "name": "stdout",
     "output_type": "stream",
     "text": [
      "\n",
      "Testing pipeline_2D_thr_0.6_norm_minmax_0_11 pipeline\n"
     ]
    },
    {
     "name": "stderr",
     "output_type": "stream",
     "text": [
      "100%|██████████| 19/19 [00:00<00:00, 6411.76it/s]"
     ]
    },
    {
     "name": "stdout",
     "output_type": "stream",
     "text": [
      "[=================                                 ] 34.11%"
     ]
    },
    {
     "name": "stderr",
     "output_type": "stream",
     "text": [
      "\n"
     ]
    },
    {
     "name": "stdout",
     "output_type": "stream",
     "text": [
      "\n",
      "Testing pipeline_2D_thr_0.6_norm_minmax_0_12 pipeline\n"
     ]
    },
    {
     "name": "stderr",
     "output_type": "stream",
     "text": [
      "100%|██████████| 19/19 [00:00<00:00, 4062.80it/s]"
     ]
    },
    {
     "name": "stdout",
     "output_type": "stream",
     "text": [
      "[=================                                 ] 34.18%"
     ]
    },
    {
     "name": "stderr",
     "output_type": "stream",
     "text": [
      "\n"
     ]
    },
    {
     "name": "stdout",
     "output_type": "stream",
     "text": [
      "\n",
      "Testing pipeline_2D_thr_0.6_norm_minmax_0_13 pipeline\n"
     ]
    },
    {
     "name": "stderr",
     "output_type": "stream",
     "text": [
      "100%|██████████| 19/19 [00:00<00:00, 6279.89it/s]"
     ]
    },
    {
     "name": "stdout",
     "output_type": "stream",
     "text": [
      "[=================                                 ] 34.24%"
     ]
    },
    {
     "name": "stderr",
     "output_type": "stream",
     "text": [
      "\n"
     ]
    },
    {
     "name": "stdout",
     "output_type": "stream",
     "text": [
      "\n",
      "Testing pipeline_2D_thr_0.6_norm_minmax_0_14 pipeline\n"
     ]
    },
    {
     "name": "stderr",
     "output_type": "stream",
     "text": [
      "100%|██████████| 19/19 [00:00<00:00, 5256.71it/s]"
     ]
    },
    {
     "name": "stdout",
     "output_type": "stream",
     "text": [
      "[=================                                 ] 34.31%"
     ]
    },
    {
     "name": "stderr",
     "output_type": "stream",
     "text": [
      "\n"
     ]
    },
    {
     "name": "stdout",
     "output_type": "stream",
     "text": [
      "\n",
      "Testing pipeline_2D_thr_0.6_norm_minmax_0_15 pipeline\n"
     ]
    },
    {
     "name": "stderr",
     "output_type": "stream",
     "text": [
      "100%|██████████| 19/19 [00:00<00:00, 5535.30it/s]"
     ]
    },
    {
     "name": "stdout",
     "output_type": "stream",
     "text": [
      "[=================                                 ] 34.38%"
     ]
    },
    {
     "name": "stderr",
     "output_type": "stream",
     "text": [
      "\n"
     ]
    },
    {
     "name": "stdout",
     "output_type": "stream",
     "text": [
      "\n",
      "Testing pipeline_2D_thr_0.6_norm_minmax_1_0 pipeline\n"
     ]
    },
    {
     "name": "stderr",
     "output_type": "stream",
     "text": [
      "100%|██████████| 19/19 [00:00<00:00, 6025.84it/s]"
     ]
    },
    {
     "name": "stdout",
     "output_type": "stream",
     "text": [
      "[=================                                 ] 34.44%"
     ]
    },
    {
     "name": "stderr",
     "output_type": "stream",
     "text": [
      "\n"
     ]
    },
    {
     "name": "stdout",
     "output_type": "stream",
     "text": [
      "\n",
      "Testing pipeline_2D_thr_0.6_norm_minmax_1_1 pipeline\n"
     ]
    },
    {
     "name": "stderr",
     "output_type": "stream",
     "text": [
      "100%|██████████| 19/19 [00:00<00:00, 6504.39it/s]"
     ]
    },
    {
     "name": "stdout",
     "output_type": "stream",
     "text": [
      "[=================                                 ] 34.51%"
     ]
    },
    {
     "name": "stderr",
     "output_type": "stream",
     "text": [
      "\n"
     ]
    },
    {
     "name": "stdout",
     "output_type": "stream",
     "text": [
      "\n",
      "Testing pipeline_2D_thr_0.6_norm_minmax_1_2 pipeline\n"
     ]
    },
    {
     "name": "stderr",
     "output_type": "stream",
     "text": [
      "100%|██████████| 19/19 [00:00<00:00, 5533.38it/s]"
     ]
    },
    {
     "name": "stdout",
     "output_type": "stream",
     "text": [
      "[=================                                 ] 34.57%"
     ]
    },
    {
     "name": "stderr",
     "output_type": "stream",
     "text": [
      "\n"
     ]
    },
    {
     "name": "stdout",
     "output_type": "stream",
     "text": [
      "\n",
      "Testing pipeline_2D_thr_0.6_norm_minmax_1_3 pipeline\n"
     ]
    },
    {
     "name": "stderr",
     "output_type": "stream",
     "text": [
      "100%|██████████| 19/19 [00:00<00:00, 5243.22it/s]"
     ]
    },
    {
     "name": "stdout",
     "output_type": "stream",
     "text": [
      "[=================                                 ] 34.64%"
     ]
    },
    {
     "name": "stderr",
     "output_type": "stream",
     "text": [
      "\n"
     ]
    },
    {
     "name": "stdout",
     "output_type": "stream",
     "text": [
      "\n",
      "Testing pipeline_2D_thr_0.6_norm_minmax_1_4 pipeline\n"
     ]
    },
    {
     "name": "stderr",
     "output_type": "stream",
     "text": [
      "100%|██████████| 19/19 [00:00<00:00, 3438.10it/s]"
     ]
    },
    {
     "name": "stdout",
     "output_type": "stream",
     "text": [
      "[=================                                 ] 34.70%"
     ]
    },
    {
     "name": "stderr",
     "output_type": "stream",
     "text": [
      "\n"
     ]
    },
    {
     "name": "stdout",
     "output_type": "stream",
     "text": [
      "\n",
      "Testing pipeline_2D_thr_0.6_norm_minmax_1_5 pipeline\n"
     ]
    },
    {
     "name": "stderr",
     "output_type": "stream",
     "text": [
      "100%|██████████| 19/19 [00:00<00:00, 5974.79it/s]"
     ]
    },
    {
     "name": "stdout",
     "output_type": "stream",
     "text": [
      "[=================                                 ] 34.77%"
     ]
    },
    {
     "name": "stderr",
     "output_type": "stream",
     "text": [
      "\n"
     ]
    },
    {
     "name": "stdout",
     "output_type": "stream",
     "text": [
      "\n",
      "Testing pipeline_2D_thr_0.6_norm_minmax_1_6 pipeline\n"
     ]
    },
    {
     "name": "stderr",
     "output_type": "stream",
     "text": [
      "100%|██████████| 19/19 [00:00<00:00, 4470.54it/s]"
     ]
    },
    {
     "name": "stdout",
     "output_type": "stream",
     "text": [
      "[=================                                 ] 34.83%"
     ]
    },
    {
     "name": "stderr",
     "output_type": "stream",
     "text": [
      "\n"
     ]
    },
    {
     "name": "stdout",
     "output_type": "stream",
     "text": [
      "\n",
      "Testing pipeline_2D_thr_0.6_norm_minmax_1_7 pipeline\n"
     ]
    },
    {
     "name": "stderr",
     "output_type": "stream",
     "text": [
      "100%|██████████| 19/19 [00:00<00:00, 5791.97it/s]"
     ]
    },
    {
     "name": "stdout",
     "output_type": "stream",
     "text": [
      "[=================                                 ] 34.90%"
     ]
    },
    {
     "name": "stderr",
     "output_type": "stream",
     "text": [
      "\n"
     ]
    },
    {
     "name": "stdout",
     "output_type": "stream",
     "text": [
      "\n",
      "Testing pipeline_2D_thr_0.6_norm_minmax_1_8 pipeline\n"
     ]
    },
    {
     "name": "stderr",
     "output_type": "stream",
     "text": [
      "100%|██████████| 19/19 [00:00<00:00, 5014.27it/s]"
     ]
    },
    {
     "name": "stdout",
     "output_type": "stream",
     "text": [
      "[=================                                 ] 34.96%"
     ]
    },
    {
     "name": "stderr",
     "output_type": "stream",
     "text": [
      "\n"
     ]
    },
    {
     "name": "stdout",
     "output_type": "stream",
     "text": [
      "\n",
      "Testing pipeline_2D_thr_0.6_norm_minmax_1_9 pipeline\n"
     ]
    },
    {
     "name": "stderr",
     "output_type": "stream",
     "text": [
      "100%|██████████| 19/19 [00:00<00:00, 6055.61it/s]"
     ]
    },
    {
     "name": "stdout",
     "output_type": "stream",
     "text": [
      "[=================                                 ] 35.03%"
     ]
    },
    {
     "name": "stderr",
     "output_type": "stream",
     "text": [
      "\n"
     ]
    },
    {
     "name": "stdout",
     "output_type": "stream",
     "text": [
      "\n",
      "Testing pipeline_2D_thr_0.6_norm_minmax_1_10 pipeline\n"
     ]
    },
    {
     "name": "stderr",
     "output_type": "stream",
     "text": [
      "100%|██████████| 19/19 [00:00<00:00, 6121.19it/s]"
     ]
    },
    {
     "name": "stdout",
     "output_type": "stream",
     "text": [
      "[=================                                 ] 35.09%"
     ]
    },
    {
     "name": "stderr",
     "output_type": "stream",
     "text": [
      "\n"
     ]
    },
    {
     "name": "stdout",
     "output_type": "stream",
     "text": [
      "\n",
      "Testing pipeline_2D_thr_0.6_norm_minmax_1_11 pipeline\n"
     ]
    },
    {
     "name": "stderr",
     "output_type": "stream",
     "text": [
      "100%|██████████| 19/19 [00:00<00:00, 4969.86it/s]"
     ]
    },
    {
     "name": "stdout",
     "output_type": "stream",
     "text": [
      "[=================                                 ] 35.16%"
     ]
    },
    {
     "name": "stderr",
     "output_type": "stream",
     "text": [
      "\n"
     ]
    },
    {
     "name": "stdout",
     "output_type": "stream",
     "text": [
      "\n",
      "Testing pipeline_2D_thr_0.6_norm_minmax_1_12 pipeline\n"
     ]
    },
    {
     "name": "stderr",
     "output_type": "stream",
     "text": [
      "100%|██████████| 19/19 [00:00<00:00, 5361.40it/s]"
     ]
    },
    {
     "name": "stdout",
     "output_type": "stream",
     "text": [
      "[=================                                 ] 35.22%"
     ]
    },
    {
     "name": "stderr",
     "output_type": "stream",
     "text": [
      "\n"
     ]
    },
    {
     "name": "stdout",
     "output_type": "stream",
     "text": [
      "\n",
      "Testing pipeline_2D_thr_0.6_norm_minmax_1_13 pipeline\n"
     ]
    },
    {
     "name": "stderr",
     "output_type": "stream",
     "text": [
      "100%|██████████| 19/19 [00:00<00:00, 5425.64it/s]"
     ]
    },
    {
     "name": "stdout",
     "output_type": "stream",
     "text": [
      "[=================                                 ] 35.29%"
     ]
    },
    {
     "name": "stderr",
     "output_type": "stream",
     "text": [
      "\n"
     ]
    },
    {
     "name": "stdout",
     "output_type": "stream",
     "text": [
      "\n",
      "Testing pipeline_2D_thr_0.6_norm_minmax_1_14 pipeline\n"
     ]
    },
    {
     "name": "stderr",
     "output_type": "stream",
     "text": [
      "100%|██████████| 19/19 [00:00<00:00, 6074.07it/s]"
     ]
    },
    {
     "name": "stdout",
     "output_type": "stream",
     "text": [
      "[=================                                 ] 35.35%"
     ]
    },
    {
     "name": "stderr",
     "output_type": "stream",
     "text": [
      "\n"
     ]
    },
    {
     "name": "stdout",
     "output_type": "stream",
     "text": [
      "\n",
      "Testing pipeline_2D_thr_0.6_norm_minmax_1_15 pipeline\n"
     ]
    },
    {
     "name": "stderr",
     "output_type": "stream",
     "text": [
      "100%|██████████| 19/19 [00:00<00:00, 6319.73it/s]"
     ]
    },
    {
     "name": "stdout",
     "output_type": "stream",
     "text": [
      "[=================                                 ] 35.42%"
     ]
    },
    {
     "name": "stderr",
     "output_type": "stream",
     "text": [
      "\n"
     ]
    },
    {
     "name": "stdout",
     "output_type": "stream",
     "text": [
      "\n",
      "Testing pipeline_2D_thr_0.6_norm_minmax_2_0 pipeline\n"
     ]
    },
    {
     "name": "stderr",
     "output_type": "stream",
     "text": [
      "100%|██████████| 19/19 [00:00<00:00, 4934.17it/s]"
     ]
    },
    {
     "name": "stdout",
     "output_type": "stream",
     "text": [
      "[=================                                 ] 35.48%"
     ]
    },
    {
     "name": "stderr",
     "output_type": "stream",
     "text": [
      "\n"
     ]
    },
    {
     "name": "stdout",
     "output_type": "stream",
     "text": [
      "\n",
      "Testing pipeline_2D_thr_0.6_norm_minmax_2_1 pipeline\n"
     ]
    },
    {
     "name": "stderr",
     "output_type": "stream",
     "text": [
      "100%|██████████| 19/19 [00:00<00:00, 5303.95it/s]"
     ]
    },
    {
     "name": "stdout",
     "output_type": "stream",
     "text": [
      "[=================                                 ] 35.55%"
     ]
    },
    {
     "name": "stderr",
     "output_type": "stream",
     "text": [
      "\n"
     ]
    },
    {
     "name": "stdout",
     "output_type": "stream",
     "text": [
      "\n",
      "Testing pipeline_2D_thr_0.6_norm_minmax_2_2 pipeline\n"
     ]
    },
    {
     "name": "stderr",
     "output_type": "stream",
     "text": [
      "100%|██████████| 19/19 [00:00<00:00, 5378.40it/s]"
     ]
    },
    {
     "name": "stdout",
     "output_type": "stream",
     "text": [
      "[=================                                 ] 35.61%"
     ]
    },
    {
     "name": "stderr",
     "output_type": "stream",
     "text": [
      "\n"
     ]
    },
    {
     "name": "stdout",
     "output_type": "stream",
     "text": [
      "\n",
      "Testing pipeline_2D_thr_0.6_norm_minmax_2_3 pipeline\n"
     ]
    },
    {
     "name": "stderr",
     "output_type": "stream",
     "text": [
      "100%|██████████| 19/19 [00:00<00:00, 5588.48it/s]"
     ]
    },
    {
     "name": "stdout",
     "output_type": "stream",
     "text": [
      "[=================                                 ] 35.68%"
     ]
    },
    {
     "name": "stderr",
     "output_type": "stream",
     "text": [
      "\n"
     ]
    },
    {
     "name": "stdout",
     "output_type": "stream",
     "text": [
      "\n",
      "Testing pipeline_2D_thr_0.6_norm_minmax_2_4 pipeline\n"
     ]
    },
    {
     "name": "stderr",
     "output_type": "stream",
     "text": [
      "100%|██████████| 19/19 [00:00<00:00, 4540.58it/s]"
     ]
    },
    {
     "name": "stdout",
     "output_type": "stream",
     "text": [
      "[=================                                 ] 35.74%"
     ]
    },
    {
     "name": "stderr",
     "output_type": "stream",
     "text": [
      "\n"
     ]
    },
    {
     "name": "stdout",
     "output_type": "stream",
     "text": [
      "\n",
      "Testing pipeline_2D_thr_0.6_norm_minmax_2_5 pipeline\n"
     ]
    },
    {
     "name": "stderr",
     "output_type": "stream",
     "text": [
      "100%|██████████| 19/19 [00:00<00:00, 6566.02it/s]"
     ]
    },
    {
     "name": "stdout",
     "output_type": "stream",
     "text": [
      "[=================                                 ] 35.81%"
     ]
    },
    {
     "name": "stderr",
     "output_type": "stream",
     "text": [
      "\n"
     ]
    },
    {
     "name": "stdout",
     "output_type": "stream",
     "text": [
      "\n",
      "Testing pipeline_2D_thr_0.6_norm_minmax_2_6 pipeline\n"
     ]
    },
    {
     "name": "stderr",
     "output_type": "stream",
     "text": [
      "100%|██████████| 19/19 [00:00<00:00, 5425.27it/s]"
     ]
    },
    {
     "name": "stdout",
     "output_type": "stream",
     "text": [
      "[=================                                 ] 35.87%"
     ]
    },
    {
     "name": "stderr",
     "output_type": "stream",
     "text": [
      "\n"
     ]
    },
    {
     "name": "stdout",
     "output_type": "stream",
     "text": [
      "\n",
      "Testing pipeline_2D_thr_0.6_norm_minmax_2_7 pipeline\n"
     ]
    },
    {
     "name": "stderr",
     "output_type": "stream",
     "text": [
      "100%|██████████| 19/19 [00:00<00:00, 4612.59it/s]"
     ]
    },
    {
     "name": "stdout",
     "output_type": "stream",
     "text": [
      "[=================                                 ] 35.94%"
     ]
    },
    {
     "name": "stderr",
     "output_type": "stream",
     "text": [
      "\n"
     ]
    },
    {
     "name": "stdout",
     "output_type": "stream",
     "text": [
      "\n",
      "Testing pipeline_2D_thr_0.6_norm_minmax_2_8 pipeline\n"
     ]
    },
    {
     "name": "stderr",
     "output_type": "stream",
     "text": [
      "100%|██████████| 19/19 [00:00<00:00, 5106.48it/s]"
     ]
    },
    {
     "name": "stdout",
     "output_type": "stream",
     "text": [
      "[==================                                ] 36.00%"
     ]
    },
    {
     "name": "stderr",
     "output_type": "stream",
     "text": [
      "\n"
     ]
    },
    {
     "name": "stdout",
     "output_type": "stream",
     "text": [
      "\n",
      "Testing pipeline_2D_thr_0.6_norm_minmax_2_9 pipeline\n"
     ]
    },
    {
     "name": "stderr",
     "output_type": "stream",
     "text": [
      "100%|██████████| 19/19 [00:00<00:00, 5435.63it/s]"
     ]
    },
    {
     "name": "stdout",
     "output_type": "stream",
     "text": [
      "[==================                                ] 36.07%"
     ]
    },
    {
     "name": "stderr",
     "output_type": "stream",
     "text": [
      "\n"
     ]
    },
    {
     "name": "stdout",
     "output_type": "stream",
     "text": [
      "\n",
      "Testing pipeline_2D_thr_0.6_norm_minmax_2_10 pipeline\n"
     ]
    },
    {
     "name": "stderr",
     "output_type": "stream",
     "text": [
      "100%|██████████| 19/19 [00:00<00:00, 5345.93it/s]"
     ]
    },
    {
     "name": "stdout",
     "output_type": "stream",
     "text": [
      "[==================                                ] 36.13%"
     ]
    },
    {
     "name": "stderr",
     "output_type": "stream",
     "text": [
      "\n"
     ]
    },
    {
     "name": "stdout",
     "output_type": "stream",
     "text": [
      "\n",
      "Testing pipeline_2D_thr_0.6_norm_minmax_2_11 pipeline\n"
     ]
    },
    {
     "name": "stderr",
     "output_type": "stream",
     "text": [
      "100%|██████████| 19/19 [00:00<00:00, 5396.61it/s]"
     ]
    },
    {
     "name": "stdout",
     "output_type": "stream",
     "text": [
      "[==================                                ] 36.20%"
     ]
    },
    {
     "name": "stderr",
     "output_type": "stream",
     "text": [
      "\n"
     ]
    },
    {
     "name": "stdout",
     "output_type": "stream",
     "text": [
      "\n",
      "Testing pipeline_2D_thr_0.6_norm_minmax_2_12 pipeline\n"
     ]
    },
    {
     "name": "stderr",
     "output_type": "stream",
     "text": [
      "100%|██████████| 19/19 [00:00<00:00, 6200.25it/s]"
     ]
    },
    {
     "name": "stdout",
     "output_type": "stream",
     "text": [
      "[==================                                ] 36.26%"
     ]
    },
    {
     "name": "stderr",
     "output_type": "stream",
     "text": [
      "\n"
     ]
    },
    {
     "name": "stdout",
     "output_type": "stream",
     "text": [
      "\n",
      "Testing pipeline_2D_thr_0.6_norm_minmax_2_13 pipeline\n"
     ]
    },
    {
     "name": "stderr",
     "output_type": "stream",
     "text": [
      "100%|██████████| 19/19 [00:00<00:00, 6017.65it/s]"
     ]
    },
    {
     "name": "stdout",
     "output_type": "stream",
     "text": [
      "[==================                                ] 36.33%"
     ]
    },
    {
     "name": "stderr",
     "output_type": "stream",
     "text": [
      "\n"
     ]
    },
    {
     "name": "stdout",
     "output_type": "stream",
     "text": [
      "\n",
      "Testing pipeline_2D_thr_0.6_norm_minmax_2_14 pipeline\n"
     ]
    },
    {
     "name": "stderr",
     "output_type": "stream",
     "text": [
      "100%|██████████| 19/19 [00:00<00:00, 5821.17it/s]"
     ]
    },
    {
     "name": "stdout",
     "output_type": "stream",
     "text": [
      "[==================                                ] 36.39%"
     ]
    },
    {
     "name": "stderr",
     "output_type": "stream",
     "text": [
      "\n"
     ]
    },
    {
     "name": "stdout",
     "output_type": "stream",
     "text": [
      "\n",
      "Testing pipeline_2D_thr_0.6_norm_minmax_2_15 pipeline\n"
     ]
    },
    {
     "name": "stderr",
     "output_type": "stream",
     "text": [
      "100%|██████████| 19/19 [00:00<00:00, 5204.53it/s]"
     ]
    },
    {
     "name": "stdout",
     "output_type": "stream",
     "text": [
      "[==================                                ] 36.46%"
     ]
    },
    {
     "name": "stderr",
     "output_type": "stream",
     "text": [
      "\n"
     ]
    },
    {
     "name": "stdout",
     "output_type": "stream",
     "text": [
      "\n",
      "Testing pipeline_2D_thr_0.6_norm_minmax_3_0 pipeline\n"
     ]
    },
    {
     "name": "stderr",
     "output_type": "stream",
     "text": [
      "100%|██████████| 19/19 [00:00<00:00, 6902.11it/s]"
     ]
    },
    {
     "name": "stdout",
     "output_type": "stream",
     "text": [
      "[==================                                ] 36.52%"
     ]
    },
    {
     "name": "stderr",
     "output_type": "stream",
     "text": [
      "\n"
     ]
    },
    {
     "name": "stdout",
     "output_type": "stream",
     "text": [
      "\n",
      "Testing pipeline_2D_thr_0.6_norm_minmax_3_1 pipeline\n"
     ]
    },
    {
     "name": "stderr",
     "output_type": "stream",
     "text": [
      "100%|██████████| 19/19 [00:00<00:00, 5940.05it/s]"
     ]
    },
    {
     "name": "stdout",
     "output_type": "stream",
     "text": [
      "[==================                                ] 36.59%"
     ]
    },
    {
     "name": "stderr",
     "output_type": "stream",
     "text": [
      "\n"
     ]
    },
    {
     "name": "stdout",
     "output_type": "stream",
     "text": [
      "\n",
      "Testing pipeline_2D_thr_0.6_norm_minmax_3_2 pipeline\n"
     ]
    },
    {
     "name": "stderr",
     "output_type": "stream",
     "text": [
      "100%|██████████| 19/19 [00:00<00:00, 5209.29it/s]"
     ]
    },
    {
     "name": "stdout",
     "output_type": "stream",
     "text": [
      "[==================                                ] 36.65%"
     ]
    },
    {
     "name": "stderr",
     "output_type": "stream",
     "text": [
      "\n"
     ]
    },
    {
     "name": "stdout",
     "output_type": "stream",
     "text": [
      "\n",
      "Testing pipeline_2D_thr_0.6_norm_minmax_3_3 pipeline\n"
     ]
    },
    {
     "name": "stderr",
     "output_type": "stream",
     "text": [
      "100%|██████████| 19/19 [00:00<00:00, 5449.76it/s]"
     ]
    },
    {
     "name": "stdout",
     "output_type": "stream",
     "text": [
      "[==================                                ] 36.72%"
     ]
    },
    {
     "name": "stderr",
     "output_type": "stream",
     "text": [
      "\n"
     ]
    },
    {
     "name": "stdout",
     "output_type": "stream",
     "text": [
      "\n",
      "Testing pipeline_2D_thr_0.6_norm_minmax_3_4 pipeline\n"
     ]
    },
    {
     "name": "stderr",
     "output_type": "stream",
     "text": [
      "100%|██████████| 19/19 [00:00<00:00, 5780.21it/s]"
     ]
    },
    {
     "name": "stdout",
     "output_type": "stream",
     "text": [
      "[==================                                ] 36.78%"
     ]
    },
    {
     "name": "stderr",
     "output_type": "stream",
     "text": [
      "\n"
     ]
    },
    {
     "name": "stdout",
     "output_type": "stream",
     "text": [
      "\n",
      "Testing pipeline_2D_thr_0.6_norm_minmax_3_5 pipeline\n"
     ]
    },
    {
     "name": "stderr",
     "output_type": "stream",
     "text": [
      "100%|██████████| 19/19 [00:00<00:00, 5173.45it/s]"
     ]
    },
    {
     "name": "stdout",
     "output_type": "stream",
     "text": [
      "[==================                                ] 36.85%"
     ]
    },
    {
     "name": "stderr",
     "output_type": "stream",
     "text": [
      "\n"
     ]
    },
    {
     "name": "stdout",
     "output_type": "stream",
     "text": [
      "\n",
      "Testing pipeline_2D_thr_0.6_norm_minmax_3_6 pipeline\n"
     ]
    },
    {
     "name": "stderr",
     "output_type": "stream",
     "text": [
      "100%|██████████| 19/19 [00:00<00:00, 5836.94it/s]"
     ]
    },
    {
     "name": "stdout",
     "output_type": "stream",
     "text": [
      "[==================                                ] 36.91%"
     ]
    },
    {
     "name": "stderr",
     "output_type": "stream",
     "text": [
      "\n"
     ]
    },
    {
     "name": "stdout",
     "output_type": "stream",
     "text": [
      "\n",
      "Testing pipeline_2D_thr_0.6_norm_minmax_3_7 pipeline\n"
     ]
    },
    {
     "name": "stderr",
     "output_type": "stream",
     "text": [
      "100%|██████████| 19/19 [00:00<00:00, 6204.11it/s]"
     ]
    },
    {
     "name": "stdout",
     "output_type": "stream",
     "text": [
      "[==================                                ] 36.98%"
     ]
    },
    {
     "name": "stderr",
     "output_type": "stream",
     "text": [
      "\n"
     ]
    },
    {
     "name": "stdout",
     "output_type": "stream",
     "text": [
      "\n",
      "Testing pipeline_2D_thr_0.6_norm_minmax_3_8 pipeline\n"
     ]
    },
    {
     "name": "stderr",
     "output_type": "stream",
     "text": [
      "100%|██████████| 19/19 [00:00<00:00, 5127.18it/s]"
     ]
    },
    {
     "name": "stdout",
     "output_type": "stream",
     "text": [
      "[==================                                ] 37.04%"
     ]
    },
    {
     "name": "stderr",
     "output_type": "stream",
     "text": [
      "\n"
     ]
    },
    {
     "name": "stdout",
     "output_type": "stream",
     "text": [
      "\n",
      "Testing pipeline_2D_thr_0.6_norm_minmax_3_9 pipeline\n"
     ]
    },
    {
     "name": "stderr",
     "output_type": "stream",
     "text": [
      "100%|██████████| 19/19 [00:00<00:00, 6142.42it/s]"
     ]
    },
    {
     "name": "stdout",
     "output_type": "stream",
     "text": [
      "[==================                                ] 37.11%"
     ]
    },
    {
     "name": "stderr",
     "output_type": "stream",
     "text": [
      "\n"
     ]
    },
    {
     "name": "stdout",
     "output_type": "stream",
     "text": [
      "\n",
      "Testing pipeline_2D_thr_0.6_norm_minmax_3_10 pipeline\n"
     ]
    },
    {
     "name": "stderr",
     "output_type": "stream",
     "text": [
      "100%|██████████| 19/19 [00:00<00:00, 5006.39it/s]"
     ]
    },
    {
     "name": "stdout",
     "output_type": "stream",
     "text": [
      "[==================                                ] 37.17%"
     ]
    },
    {
     "name": "stderr",
     "output_type": "stream",
     "text": [
      "\n"
     ]
    },
    {
     "name": "stdout",
     "output_type": "stream",
     "text": [
      "\n",
      "Testing pipeline_2D_thr_0.6_norm_minmax_3_11 pipeline\n"
     ]
    },
    {
     "name": "stderr",
     "output_type": "stream",
     "text": [
      "100%|██████████| 19/19 [00:00<00:00, 5508.90it/s]"
     ]
    },
    {
     "name": "stdout",
     "output_type": "stream",
     "text": [
      "[==================                                ] 37.24%"
     ]
    },
    {
     "name": "stderr",
     "output_type": "stream",
     "text": [
      "\n"
     ]
    },
    {
     "name": "stdout",
     "output_type": "stream",
     "text": [
      "\n",
      "Testing pipeline_2D_thr_0.6_norm_minmax_3_12 pipeline\n"
     ]
    },
    {
     "name": "stderr",
     "output_type": "stream",
     "text": [
      "100%|██████████| 19/19 [00:00<00:00, 5798.30it/s]"
     ]
    },
    {
     "name": "stdout",
     "output_type": "stream",
     "text": [
      "[==================                                ] 37.30%"
     ]
    },
    {
     "name": "stderr",
     "output_type": "stream",
     "text": [
      "\n"
     ]
    },
    {
     "name": "stdout",
     "output_type": "stream",
     "text": [
      "\n",
      "Testing pipeline_2D_thr_0.6_norm_minmax_3_13 pipeline\n"
     ]
    },
    {
     "name": "stderr",
     "output_type": "stream",
     "text": [
      "100%|██████████| 19/19 [00:00<00:00, 5331.27it/s]"
     ]
    },
    {
     "name": "stdout",
     "output_type": "stream",
     "text": [
      "[==================                                ] 37.37%"
     ]
    },
    {
     "name": "stderr",
     "output_type": "stream",
     "text": [
      "\n"
     ]
    },
    {
     "name": "stdout",
     "output_type": "stream",
     "text": [
      "\n",
      "Testing pipeline_2D_thr_0.6_norm_minmax_3_14 pipeline\n"
     ]
    },
    {
     "name": "stderr",
     "output_type": "stream",
     "text": [
      "100%|██████████| 19/19 [00:00<00:00, 6185.81it/s]"
     ]
    },
    {
     "name": "stdout",
     "output_type": "stream",
     "text": [
      "[==================                                ] 37.43%"
     ]
    },
    {
     "name": "stderr",
     "output_type": "stream",
     "text": [
      "\n"
     ]
    },
    {
     "name": "stdout",
     "output_type": "stream",
     "text": [
      "\n",
      "Testing pipeline_2D_thr_0.6_norm_minmax_3_15 pipeline\n"
     ]
    },
    {
     "name": "stderr",
     "output_type": "stream",
     "text": [
      "100%|██████████| 19/19 [00:00<00:00, 5891.31it/s]"
     ]
    },
    {
     "name": "stdout",
     "output_type": "stream",
     "text": [
      "[==================                                ] 37.50%"
     ]
    },
    {
     "name": "stderr",
     "output_type": "stream",
     "text": [
      "\n"
     ]
    },
    {
     "name": "stdout",
     "output_type": "stream",
     "text": [
      "\n",
      "Testing pipeline_2D_thr_0.6_norm_percentile_0_0 pipeline\n"
     ]
    },
    {
     "name": "stderr",
     "output_type": "stream",
     "text": [
      "100%|██████████| 19/19 [00:00<00:00, 6225.92it/s]"
     ]
    },
    {
     "name": "stdout",
     "output_type": "stream",
     "text": [
      "[==================                                ] 37.57%"
     ]
    },
    {
     "name": "stderr",
     "output_type": "stream",
     "text": [
      "\n"
     ]
    },
    {
     "name": "stdout",
     "output_type": "stream",
     "text": [
      "\n",
      "Testing pipeline_2D_thr_0.6_norm_percentile_0_1 pipeline\n"
     ]
    },
    {
     "name": "stderr",
     "output_type": "stream",
     "text": [
      "100%|██████████| 19/19 [00:00<00:00, 5396.25it/s]"
     ]
    },
    {
     "name": "stdout",
     "output_type": "stream",
     "text": [
      "[==================                                ] 37.63%"
     ]
    },
    {
     "name": "stderr",
     "output_type": "stream",
     "text": [
      "\n"
     ]
    },
    {
     "name": "stdout",
     "output_type": "stream",
     "text": [
      "\n",
      "Testing pipeline_2D_thr_0.6_norm_percentile_0_2 pipeline\n"
     ]
    },
    {
     "name": "stderr",
     "output_type": "stream",
     "text": [
      "100%|██████████| 19/19 [00:00<00:00, 5358.51it/s]"
     ]
    },
    {
     "name": "stdout",
     "output_type": "stream",
     "text": [
      "[==================                                ] 37.70%"
     ]
    },
    {
     "name": "stderr",
     "output_type": "stream",
     "text": [
      "\n"
     ]
    },
    {
     "name": "stdout",
     "output_type": "stream",
     "text": [
      "\n",
      "Testing pipeline_2D_thr_0.6_norm_percentile_0_3 pipeline\n"
     ]
    },
    {
     "name": "stderr",
     "output_type": "stream",
     "text": [
      "100%|██████████| 19/19 [00:00<00:00, 6686.67it/s]"
     ]
    },
    {
     "name": "stdout",
     "output_type": "stream",
     "text": [
      "[==================                                ] 37.76%"
     ]
    },
    {
     "name": "stderr",
     "output_type": "stream",
     "text": [
      "\n"
     ]
    },
    {
     "name": "stdout",
     "output_type": "stream",
     "text": [
      "\n",
      "Testing pipeline_2D_thr_0.6_norm_percentile_0_4 pipeline\n"
     ]
    },
    {
     "name": "stderr",
     "output_type": "stream",
     "text": [
      "100%|██████████| 19/19 [00:00<00:00, 5552.66it/s]"
     ]
    },
    {
     "name": "stdout",
     "output_type": "stream",
     "text": [
      "[==================                                ] 37.83%"
     ]
    },
    {
     "name": "stderr",
     "output_type": "stream",
     "text": [
      "\n"
     ]
    },
    {
     "name": "stdout",
     "output_type": "stream",
     "text": [
      "\n",
      "Testing pipeline_2D_thr_0.6_norm_percentile_0_5 pipeline\n"
     ]
    },
    {
     "name": "stderr",
     "output_type": "stream",
     "text": [
      "100%|██████████| 19/19 [00:00<00:00, 5559.63it/s]"
     ]
    },
    {
     "name": "stdout",
     "output_type": "stream",
     "text": [
      "[==================                                ] 37.89%"
     ]
    },
    {
     "name": "stderr",
     "output_type": "stream",
     "text": [
      "\n"
     ]
    },
    {
     "name": "stdout",
     "output_type": "stream",
     "text": [
      "\n",
      "Testing pipeline_2D_thr_0.6_norm_percentile_0_6 pipeline\n"
     ]
    },
    {
     "name": "stderr",
     "output_type": "stream",
     "text": [
      "100%|██████████| 19/19 [00:00<00:00, 6037.26it/s]"
     ]
    },
    {
     "name": "stdout",
     "output_type": "stream",
     "text": [
      "[==================                                ] 37.96%"
     ]
    },
    {
     "name": "stderr",
     "output_type": "stream",
     "text": [
      "\n"
     ]
    },
    {
     "name": "stdout",
     "output_type": "stream",
     "text": [
      "\n",
      "Testing pipeline_2D_thr_0.6_norm_percentile_0_7 pipeline\n"
     ]
    },
    {
     "name": "stderr",
     "output_type": "stream",
     "text": [
      "100%|██████████| 19/19 [00:00<00:00, 5688.61it/s]"
     ]
    },
    {
     "name": "stdout",
     "output_type": "stream",
     "text": [
      "[===================                               ] 38.02%"
     ]
    },
    {
     "name": "stderr",
     "output_type": "stream",
     "text": [
      "\n"
     ]
    },
    {
     "name": "stdout",
     "output_type": "stream",
     "text": [
      "\n",
      "Testing pipeline_2D_thr_0.6_norm_percentile_0_8 pipeline\n"
     ]
    },
    {
     "name": "stderr",
     "output_type": "stream",
     "text": [
      "100%|██████████| 19/19 [00:00<00:00, 6118.37it/s]"
     ]
    },
    {
     "name": "stdout",
     "output_type": "stream",
     "text": [
      "[===================                               ] 38.09%"
     ]
    },
    {
     "name": "stderr",
     "output_type": "stream",
     "text": [
      "\n"
     ]
    },
    {
     "name": "stdout",
     "output_type": "stream",
     "text": [
      "\n",
      "Testing pipeline_2D_thr_0.6_norm_percentile_0_9 pipeline\n"
     ]
    },
    {
     "name": "stderr",
     "output_type": "stream",
     "text": [
      "100%|██████████| 19/19 [00:00<00:00, 6699.60it/s]"
     ]
    },
    {
     "name": "stdout",
     "output_type": "stream",
     "text": [
      "[===================                               ] 38.15%"
     ]
    },
    {
     "name": "stderr",
     "output_type": "stream",
     "text": [
      "\n"
     ]
    },
    {
     "name": "stdout",
     "output_type": "stream",
     "text": [
      "\n",
      "Testing pipeline_2D_thr_0.6_norm_percentile_0_10 pipeline\n"
     ]
    },
    {
     "name": "stderr",
     "output_type": "stream",
     "text": [
      "100%|██████████| 19/19 [00:00<00:00, 5987.36it/s]"
     ]
    },
    {
     "name": "stdout",
     "output_type": "stream",
     "text": [
      "[===================                               ] 38.22%"
     ]
    },
    {
     "name": "stderr",
     "output_type": "stream",
     "text": [
      "\n"
     ]
    },
    {
     "name": "stdout",
     "output_type": "stream",
     "text": [
      "\n",
      "Testing pipeline_2D_thr_0.6_norm_percentile_0_11 pipeline\n"
     ]
    },
    {
     "name": "stderr",
     "output_type": "stream",
     "text": [
      "100%|██████████| 19/19 [00:00<00:00, 5131.80it/s]"
     ]
    },
    {
     "name": "stdout",
     "output_type": "stream",
     "text": [
      "[===================                               ] 38.28%"
     ]
    },
    {
     "name": "stderr",
     "output_type": "stream",
     "text": [
      "\n"
     ]
    },
    {
     "name": "stdout",
     "output_type": "stream",
     "text": [
      "\n",
      "Testing pipeline_2D_thr_0.6_norm_percentile_0_12 pipeline\n"
     ]
    },
    {
     "name": "stderr",
     "output_type": "stream",
     "text": [
      "100%|██████████| 19/19 [00:00<00:00, 4638.64it/s]"
     ]
    },
    {
     "name": "stdout",
     "output_type": "stream",
     "text": [
      "[===================                               ] 38.35%"
     ]
    },
    {
     "name": "stderr",
     "output_type": "stream",
     "text": [
      "\n"
     ]
    },
    {
     "name": "stdout",
     "output_type": "stream",
     "text": [
      "\n",
      "Testing pipeline_2D_thr_0.6_norm_percentile_0_13 pipeline\n"
     ]
    },
    {
     "name": "stderr",
     "output_type": "stream",
     "text": [
      "100%|██████████| 19/19 [00:00<00:00, 6160.47it/s]"
     ]
    },
    {
     "name": "stdout",
     "output_type": "stream",
     "text": [
      "[===================                               ] 38.41%"
     ]
    },
    {
     "name": "stderr",
     "output_type": "stream",
     "text": [
      "\n"
     ]
    },
    {
     "name": "stdout",
     "output_type": "stream",
     "text": [
      "\n",
      "Testing pipeline_2D_thr_0.6_norm_percentile_0_14 pipeline\n"
     ]
    },
    {
     "name": "stderr",
     "output_type": "stream",
     "text": [
      "100%|██████████| 19/19 [00:00<00:00, 5874.81it/s]"
     ]
    },
    {
     "name": "stdout",
     "output_type": "stream",
     "text": [
      "[===================                               ] 38.48%"
     ]
    },
    {
     "name": "stderr",
     "output_type": "stream",
     "text": [
      "\n"
     ]
    },
    {
     "name": "stdout",
     "output_type": "stream",
     "text": [
      "\n",
      "Testing pipeline_2D_thr_0.6_norm_percentile_0_15 pipeline\n"
     ]
    },
    {
     "name": "stderr",
     "output_type": "stream",
     "text": [
      "100%|██████████| 19/19 [00:00<00:00, 6004.50it/s]"
     ]
    },
    {
     "name": "stdout",
     "output_type": "stream",
     "text": [
      "[===================                               ] 38.54%"
     ]
    },
    {
     "name": "stderr",
     "output_type": "stream",
     "text": [
      "\n"
     ]
    },
    {
     "name": "stdout",
     "output_type": "stream",
     "text": [
      "\n",
      "Testing pipeline_2D_thr_0.6_norm_percentile_1_0 pipeline\n"
     ]
    },
    {
     "name": "stderr",
     "output_type": "stream",
     "text": [
      "100%|██████████| 19/19 [00:00<00:00, 6168.57it/s]"
     ]
    },
    {
     "name": "stdout",
     "output_type": "stream",
     "text": [
      "[===================                               ] 38.61%"
     ]
    },
    {
     "name": "stderr",
     "output_type": "stream",
     "text": [
      "\n"
     ]
    },
    {
     "name": "stdout",
     "output_type": "stream",
     "text": [
      "\n",
      "Testing pipeline_2D_thr_0.6_norm_percentile_1_1 pipeline\n"
     ]
    },
    {
     "name": "stderr",
     "output_type": "stream",
     "text": [
      "100%|██████████| 19/19 [00:00<00:00, 5692.68it/s]"
     ]
    },
    {
     "name": "stdout",
     "output_type": "stream",
     "text": [
      "[===================                               ] 38.67%"
     ]
    },
    {
     "name": "stderr",
     "output_type": "stream",
     "text": [
      "\n"
     ]
    },
    {
     "name": "stdout",
     "output_type": "stream",
     "text": [
      "\n",
      "Testing pipeline_2D_thr_0.6_norm_percentile_1_2 pipeline\n"
     ]
    },
    {
     "name": "stderr",
     "output_type": "stream",
     "text": [
      "100%|██████████| 19/19 [00:00<00:00, 4356.65it/s]"
     ]
    },
    {
     "name": "stdout",
     "output_type": "stream",
     "text": [
      "[===================                               ] 38.74%"
     ]
    },
    {
     "name": "stderr",
     "output_type": "stream",
     "text": [
      "\n"
     ]
    },
    {
     "name": "stdout",
     "output_type": "stream",
     "text": [
      "\n",
      "Testing pipeline_2D_thr_0.6_norm_percentile_1_3 pipeline\n"
     ]
    },
    {
     "name": "stderr",
     "output_type": "stream",
     "text": [
      "100%|██████████| 19/19 [00:00<00:00, 5976.14it/s]"
     ]
    },
    {
     "name": "stdout",
     "output_type": "stream",
     "text": [
      "[===================                               ] 38.80%"
     ]
    },
    {
     "name": "stderr",
     "output_type": "stream",
     "text": [
      "\n"
     ]
    },
    {
     "name": "stdout",
     "output_type": "stream",
     "text": [
      "\n",
      "Testing pipeline_2D_thr_0.6_norm_percentile_1_4 pipeline\n"
     ]
    },
    {
     "name": "stderr",
     "output_type": "stream",
     "text": [
      "100%|██████████| 19/19 [00:00<00:00, 6541.76it/s]"
     ]
    },
    {
     "name": "stdout",
     "output_type": "stream",
     "text": [
      "[===================                               ] 38.87%"
     ]
    },
    {
     "name": "stderr",
     "output_type": "stream",
     "text": [
      "\n"
     ]
    },
    {
     "name": "stdout",
     "output_type": "stream",
     "text": [
      "\n",
      "Testing pipeline_2D_thr_0.6_norm_percentile_1_5 pipeline\n"
     ]
    },
    {
     "name": "stderr",
     "output_type": "stream",
     "text": [
      "100%|██████████| 19/19 [00:00<00:00, 5522.26it/s]"
     ]
    },
    {
     "name": "stdout",
     "output_type": "stream",
     "text": [
      "[===================                               ] 38.93%"
     ]
    },
    {
     "name": "stderr",
     "output_type": "stream",
     "text": [
      "\n"
     ]
    },
    {
     "name": "stdout",
     "output_type": "stream",
     "text": [
      "\n",
      "Testing pipeline_2D_thr_0.6_norm_percentile_1_6 pipeline\n"
     ]
    },
    {
     "name": "stderr",
     "output_type": "stream",
     "text": [
      "100%|██████████| 19/19 [00:00<00:00, 6133.91it/s]"
     ]
    },
    {
     "name": "stdout",
     "output_type": "stream",
     "text": [
      "[===================                               ] 39.00%"
     ]
    },
    {
     "name": "stderr",
     "output_type": "stream",
     "text": [
      "\n"
     ]
    },
    {
     "name": "stdout",
     "output_type": "stream",
     "text": [
      "\n",
      "Testing pipeline_2D_thr_0.6_norm_percentile_1_7 pipeline\n"
     ]
    },
    {
     "name": "stderr",
     "output_type": "stream",
     "text": [
      "100%|██████████| 19/19 [00:00<00:00, 5307.48it/s]"
     ]
    },
    {
     "name": "stdout",
     "output_type": "stream",
     "text": [
      "[===================                               ] 39.06%"
     ]
    },
    {
     "name": "stderr",
     "output_type": "stream",
     "text": [
      "\n"
     ]
    },
    {
     "name": "stdout",
     "output_type": "stream",
     "text": [
      "\n",
      "Testing pipeline_2D_thr_0.6_norm_percentile_1_8 pipeline\n"
     ]
    },
    {
     "name": "stderr",
     "output_type": "stream",
     "text": [
      "100%|██████████| 19/19 [00:00<00:00, 6588.82it/s]"
     ]
    },
    {
     "name": "stdout",
     "output_type": "stream",
     "text": [
      "[===================                               ] 39.13%"
     ]
    },
    {
     "name": "stderr",
     "output_type": "stream",
     "text": [
      "\n"
     ]
    },
    {
     "name": "stdout",
     "output_type": "stream",
     "text": [
      "\n",
      "Testing pipeline_2D_thr_0.6_norm_percentile_1_9 pipeline\n"
     ]
    },
    {
     "name": "stderr",
     "output_type": "stream",
     "text": [
      "100%|██████████| 19/19 [00:00<00:00, 5570.90it/s]"
     ]
    },
    {
     "name": "stdout",
     "output_type": "stream",
     "text": [
      "[===================                               ] 39.19%"
     ]
    },
    {
     "name": "stderr",
     "output_type": "stream",
     "text": [
      "\n"
     ]
    },
    {
     "name": "stdout",
     "output_type": "stream",
     "text": [
      "\n",
      "Testing pipeline_2D_thr_0.6_norm_percentile_1_10 pipeline\n"
     ]
    },
    {
     "name": "stderr",
     "output_type": "stream",
     "text": [
      "100%|██████████| 19/19 [00:00<00:00, 6203.14it/s]"
     ]
    },
    {
     "name": "stdout",
     "output_type": "stream",
     "text": [
      "[===================                               ] 39.26%"
     ]
    },
    {
     "name": "stderr",
     "output_type": "stream",
     "text": [
      "\n"
     ]
    },
    {
     "name": "stdout",
     "output_type": "stream",
     "text": [
      "\n",
      "Testing pipeline_2D_thr_0.6_norm_percentile_1_11 pipeline\n"
     ]
    },
    {
     "name": "stderr",
     "output_type": "stream",
     "text": [
      "100%|██████████| 19/19 [00:00<00:00, 4634.86it/s]"
     ]
    },
    {
     "name": "stdout",
     "output_type": "stream",
     "text": [
      "[===================                               ] 39.32%"
     ]
    },
    {
     "name": "stderr",
     "output_type": "stream",
     "text": [
      "\n"
     ]
    },
    {
     "name": "stdout",
     "output_type": "stream",
     "text": [
      "\n",
      "Testing pipeline_2D_thr_0.6_norm_percentile_1_12 pipeline\n"
     ]
    },
    {
     "name": "stderr",
     "output_type": "stream",
     "text": [
      "100%|██████████| 19/19 [00:00<00:00, 6273.95it/s]"
     ]
    },
    {
     "name": "stdout",
     "output_type": "stream",
     "text": [
      "[===================                               ] 39.39%"
     ]
    },
    {
     "name": "stderr",
     "output_type": "stream",
     "text": [
      "\n"
     ]
    },
    {
     "name": "stdout",
     "output_type": "stream",
     "text": [
      "\n",
      "Testing pipeline_2D_thr_0.6_norm_percentile_1_13 pipeline\n"
     ]
    },
    {
     "name": "stderr",
     "output_type": "stream",
     "text": [
      "100%|██████████| 19/19 [00:00<00:00, 5439.34it/s]"
     ]
    },
    {
     "name": "stdout",
     "output_type": "stream",
     "text": [
      "[===================                               ] 39.45%"
     ]
    },
    {
     "name": "stderr",
     "output_type": "stream",
     "text": [
      "\n"
     ]
    },
    {
     "name": "stdout",
     "output_type": "stream",
     "text": [
      "\n",
      "Testing pipeline_2D_thr_0.6_norm_percentile_1_14 pipeline\n"
     ]
    },
    {
     "name": "stderr",
     "output_type": "stream",
     "text": [
      "100%|██████████| 19/19 [00:00<00:00, 6484.28it/s]"
     ]
    },
    {
     "name": "stdout",
     "output_type": "stream",
     "text": [
      "[===================                               ] 39.52%"
     ]
    },
    {
     "name": "stderr",
     "output_type": "stream",
     "text": [
      "\n"
     ]
    },
    {
     "name": "stdout",
     "output_type": "stream",
     "text": [
      "\n",
      "Testing pipeline_2D_thr_0.6_norm_percentile_1_15 pipeline\n"
     ]
    },
    {
     "name": "stderr",
     "output_type": "stream",
     "text": [
      "100%|██████████| 19/19 [00:00<00:00, 6601.37it/s]"
     ]
    },
    {
     "name": "stdout",
     "output_type": "stream",
     "text": [
      "[===================                               ] 39.58%"
     ]
    },
    {
     "name": "stderr",
     "output_type": "stream",
     "text": [
      "\n"
     ]
    },
    {
     "name": "stdout",
     "output_type": "stream",
     "text": [
      "\n",
      "Testing pipeline_2D_thr_0.6_norm_percentile_2_0 pipeline\n"
     ]
    },
    {
     "name": "stderr",
     "output_type": "stream",
     "text": [
      "100%|██████████| 19/19 [00:00<00:00, 6240.55it/s]"
     ]
    },
    {
     "name": "stdout",
     "output_type": "stream",
     "text": [
      "[===================                               ] 39.65%"
     ]
    },
    {
     "name": "stderr",
     "output_type": "stream",
     "text": [
      "\n"
     ]
    },
    {
     "name": "stdout",
     "output_type": "stream",
     "text": [
      "\n",
      "Testing pipeline_2D_thr_0.6_norm_percentile_2_1 pipeline\n"
     ]
    },
    {
     "name": "stderr",
     "output_type": "stream",
     "text": [
      "100%|██████████| 19/19 [00:00<00:00, 5546.86it/s]"
     ]
    },
    {
     "name": "stdout",
     "output_type": "stream",
     "text": [
      "[===================                               ] 39.71%"
     ]
    },
    {
     "name": "stderr",
     "output_type": "stream",
     "text": [
      "\n"
     ]
    },
    {
     "name": "stdout",
     "output_type": "stream",
     "text": [
      "\n",
      "Testing pipeline_2D_thr_0.6_norm_percentile_2_2 pipeline\n"
     ]
    },
    {
     "name": "stderr",
     "output_type": "stream",
     "text": [
      "100%|██████████| 19/19 [00:00<00:00, 6254.75it/s]"
     ]
    },
    {
     "name": "stdout",
     "output_type": "stream",
     "text": [
      "[===================                               ] 39.78%"
     ]
    },
    {
     "name": "stderr",
     "output_type": "stream",
     "text": [
      "\n"
     ]
    },
    {
     "name": "stdout",
     "output_type": "stream",
     "text": [
      "\n",
      "Testing pipeline_2D_thr_0.6_norm_percentile_2_3 pipeline\n"
     ]
    },
    {
     "name": "stderr",
     "output_type": "stream",
     "text": [
      "100%|██████████| 19/19 [00:00<00:00, 5278.30it/s]"
     ]
    },
    {
     "name": "stdout",
     "output_type": "stream",
     "text": [
      "[===================                               ] 39.84%"
     ]
    },
    {
     "name": "stderr",
     "output_type": "stream",
     "text": [
      "\n"
     ]
    },
    {
     "name": "stdout",
     "output_type": "stream",
     "text": [
      "\n",
      "Testing pipeline_2D_thr_0.6_norm_percentile_2_4 pipeline\n"
     ]
    },
    {
     "name": "stderr",
     "output_type": "stream",
     "text": [
      "100%|██████████| 19/19 [00:00<00:00, 5651.50it/s]"
     ]
    },
    {
     "name": "stdout",
     "output_type": "stream",
     "text": [
      "[===================                               ] 39.91%"
     ]
    },
    {
     "name": "stderr",
     "output_type": "stream",
     "text": [
      "\n"
     ]
    },
    {
     "name": "stdout",
     "output_type": "stream",
     "text": [
      "\n",
      "Testing pipeline_2D_thr_0.6_norm_percentile_2_5 pipeline\n"
     ]
    },
    {
     "name": "stderr",
     "output_type": "stream",
     "text": [
      "100%|██████████| 19/19 [00:00<00:00, 5771.00it/s]"
     ]
    },
    {
     "name": "stdout",
     "output_type": "stream",
     "text": [
      "[===================                               ] 39.97%"
     ]
    },
    {
     "name": "stderr",
     "output_type": "stream",
     "text": [
      "\n"
     ]
    },
    {
     "name": "stdout",
     "output_type": "stream",
     "text": [
      "\n",
      "Testing pipeline_2D_thr_0.6_norm_percentile_2_6 pipeline\n"
     ]
    },
    {
     "name": "stderr",
     "output_type": "stream",
     "text": [
      "100%|██████████| 19/19 [00:00<00:00, 5208.95it/s]"
     ]
    },
    {
     "name": "stdout",
     "output_type": "stream",
     "text": [
      "[====================                              ] 40.04%"
     ]
    },
    {
     "name": "stderr",
     "output_type": "stream",
     "text": [
      "\n"
     ]
    },
    {
     "name": "stdout",
     "output_type": "stream",
     "text": [
      "\n",
      "Testing pipeline_2D_thr_0.6_norm_percentile_2_7 pipeline\n"
     ]
    },
    {
     "name": "stderr",
     "output_type": "stream",
     "text": [
      "100%|██████████| 19/19 [00:00<00:00, 6125.42it/s]"
     ]
    },
    {
     "name": "stdout",
     "output_type": "stream",
     "text": [
      "[====================                              ] 40.10%"
     ]
    },
    {
     "name": "stderr",
     "output_type": "stream",
     "text": [
      "\n"
     ]
    },
    {
     "name": "stdout",
     "output_type": "stream",
     "text": [
      "\n",
      "Testing pipeline_2D_thr_0.6_norm_percentile_2_8 pipeline\n"
     ]
    },
    {
     "name": "stderr",
     "output_type": "stream",
     "text": [
      "100%|██████████| 19/19 [00:00<00:00, 6891.37it/s]"
     ]
    },
    {
     "name": "stdout",
     "output_type": "stream",
     "text": [
      "[====================                              ] 40.17%"
     ]
    },
    {
     "name": "stderr",
     "output_type": "stream",
     "text": [
      "\n"
     ]
    },
    {
     "name": "stdout",
     "output_type": "stream",
     "text": [
      "\n",
      "Testing pipeline_2D_thr_0.6_norm_percentile_2_9 pipeline\n"
     ]
    },
    {
     "name": "stderr",
     "output_type": "stream",
     "text": [
      "100%|██████████| 19/19 [00:00<00:00, 5283.20it/s]"
     ]
    },
    {
     "name": "stdout",
     "output_type": "stream",
     "text": [
      "[====================                              ] 40.23%"
     ]
    },
    {
     "name": "stderr",
     "output_type": "stream",
     "text": [
      "\n"
     ]
    },
    {
     "name": "stdout",
     "output_type": "stream",
     "text": [
      "\n",
      "Testing pipeline_2D_thr_0.6_norm_percentile_2_10 pipeline\n"
     ]
    },
    {
     "name": "stderr",
     "output_type": "stream",
     "text": [
      "100%|██████████| 19/19 [00:00<00:00, 6599.19it/s]"
     ]
    },
    {
     "name": "stdout",
     "output_type": "stream",
     "text": [
      "[====================                              ] 40.30%"
     ]
    },
    {
     "name": "stderr",
     "output_type": "stream",
     "text": [
      "\n"
     ]
    },
    {
     "name": "stdout",
     "output_type": "stream",
     "text": [
      "\n",
      "Testing pipeline_2D_thr_0.6_norm_percentile_2_11 pipeline\n"
     ]
    },
    {
     "name": "stderr",
     "output_type": "stream",
     "text": [
      "100%|██████████| 19/19 [00:00<00:00, 5925.04it/s]"
     ]
    },
    {
     "name": "stdout",
     "output_type": "stream",
     "text": [
      "[====================                              ] 40.36%"
     ]
    },
    {
     "name": "stderr",
     "output_type": "stream",
     "text": [
      "\n"
     ]
    },
    {
     "name": "stdout",
     "output_type": "stream",
     "text": [
      "\n",
      "Testing pipeline_2D_thr_0.6_norm_percentile_2_12 pipeline\n"
     ]
    },
    {
     "name": "stderr",
     "output_type": "stream",
     "text": [
      "100%|██████████| 19/19 [00:00<00:00, 6131.55it/s]"
     ]
    },
    {
     "name": "stdout",
     "output_type": "stream",
     "text": [
      "[====================                              ] 40.43%"
     ]
    },
    {
     "name": "stderr",
     "output_type": "stream",
     "text": [
      "\n"
     ]
    },
    {
     "name": "stdout",
     "output_type": "stream",
     "text": [
      "\n",
      "Testing pipeline_2D_thr_0.6_norm_percentile_2_13 pipeline\n"
     ]
    },
    {
     "name": "stderr",
     "output_type": "stream",
     "text": [
      "100%|██████████| 19/19 [00:00<00:00, 5458.71it/s]"
     ]
    },
    {
     "name": "stdout",
     "output_type": "stream",
     "text": [
      "[====================                              ] 40.49%"
     ]
    },
    {
     "name": "stderr",
     "output_type": "stream",
     "text": [
      "\n"
     ]
    },
    {
     "name": "stdout",
     "output_type": "stream",
     "text": [
      "\n",
      "Testing pipeline_2D_thr_0.6_norm_percentile_2_14 pipeline\n"
     ]
    },
    {
     "name": "stderr",
     "output_type": "stream",
     "text": [
      "100%|██████████| 19/19 [00:00<00:00, 5885.22it/s]"
     ]
    },
    {
     "name": "stdout",
     "output_type": "stream",
     "text": [
      "[====================                              ] 40.56%"
     ]
    },
    {
     "name": "stderr",
     "output_type": "stream",
     "text": [
      "\n"
     ]
    },
    {
     "name": "stdout",
     "output_type": "stream",
     "text": [
      "\n",
      "Testing pipeline_2D_thr_0.6_norm_percentile_2_15 pipeline\n"
     ]
    },
    {
     "name": "stderr",
     "output_type": "stream",
     "text": [
      "100%|██████████| 19/19 [00:00<00:00, 5932.54it/s]\n"
     ]
    },
    {
     "name": "stdout",
     "output_type": "stream",
     "text": [
      "[====================                              ] 40.62%\n",
      "Testing pipeline_2D_thr_0.6_norm_percentile_3_0 pipeline\n"
     ]
    },
    {
     "name": "stderr",
     "output_type": "stream",
     "text": [
      "100%|██████████| 19/19 [00:00<00:00, 6465.86it/s]"
     ]
    },
    {
     "name": "stdout",
     "output_type": "stream",
     "text": [
      "[====================                              ] 40.69%"
     ]
    },
    {
     "name": "stderr",
     "output_type": "stream",
     "text": [
      "\n"
     ]
    },
    {
     "name": "stdout",
     "output_type": "stream",
     "text": [
      "\n",
      "Testing pipeline_2D_thr_0.6_norm_percentile_3_1 pipeline\n"
     ]
    },
    {
     "name": "stderr",
     "output_type": "stream",
     "text": [
      "100%|██████████| 19/19 [00:00<00:00, 6365.16it/s]"
     ]
    },
    {
     "name": "stdout",
     "output_type": "stream",
     "text": [
      "[====================                              ] 40.76%"
     ]
    },
    {
     "name": "stderr",
     "output_type": "stream",
     "text": [
      "\n"
     ]
    },
    {
     "name": "stdout",
     "output_type": "stream",
     "text": [
      "\n",
      "Testing pipeline_2D_thr_0.6_norm_percentile_3_2 pipeline\n"
     ]
    },
    {
     "name": "stderr",
     "output_type": "stream",
     "text": [
      "100%|██████████| 19/19 [00:00<00:00, 4910.76it/s]"
     ]
    },
    {
     "name": "stdout",
     "output_type": "stream",
     "text": [
      "[====================                              ] 40.82%"
     ]
    },
    {
     "name": "stderr",
     "output_type": "stream",
     "text": [
      "\n"
     ]
    },
    {
     "name": "stdout",
     "output_type": "stream",
     "text": [
      "\n",
      "Testing pipeline_2D_thr_0.6_norm_percentile_3_3 pipeline\n"
     ]
    },
    {
     "name": "stderr",
     "output_type": "stream",
     "text": [
      "100%|██████████| 19/19 [00:00<00:00, 5035.18it/s]"
     ]
    },
    {
     "name": "stdout",
     "output_type": "stream",
     "text": [
      "[====================                              ] 40.89%"
     ]
    },
    {
     "name": "stderr",
     "output_type": "stream",
     "text": [
      "\n"
     ]
    },
    {
     "name": "stdout",
     "output_type": "stream",
     "text": [
      "\n",
      "Testing pipeline_2D_thr_0.6_norm_percentile_3_4 pipeline\n"
     ]
    },
    {
     "name": "stderr",
     "output_type": "stream",
     "text": [
      "100%|██████████| 19/19 [00:00<00:00, 5066.55it/s]"
     ]
    },
    {
     "name": "stdout",
     "output_type": "stream",
     "text": [
      "[====================                              ] 40.95%"
     ]
    },
    {
     "name": "stderr",
     "output_type": "stream",
     "text": [
      "\n"
     ]
    },
    {
     "name": "stdout",
     "output_type": "stream",
     "text": [
      "\n",
      "Testing pipeline_2D_thr_0.6_norm_percentile_3_5 pipeline\n"
     ]
    },
    {
     "name": "stderr",
     "output_type": "stream",
     "text": [
      "100%|██████████| 19/19 [00:00<00:00, 6398.89it/s]"
     ]
    },
    {
     "name": "stdout",
     "output_type": "stream",
     "text": [
      "[====================                              ] 41.02%"
     ]
    },
    {
     "name": "stderr",
     "output_type": "stream",
     "text": [
      "\n"
     ]
    },
    {
     "name": "stdout",
     "output_type": "stream",
     "text": [
      "\n",
      "Testing pipeline_2D_thr_0.6_norm_percentile_3_6 pipeline\n"
     ]
    },
    {
     "name": "stderr",
     "output_type": "stream",
     "text": [
      "100%|██████████| 19/19 [00:00<00:00, 5638.70it/s]"
     ]
    },
    {
     "name": "stdout",
     "output_type": "stream",
     "text": [
      "[====================                              ] 41.08%"
     ]
    },
    {
     "name": "stderr",
     "output_type": "stream",
     "text": [
      "\n"
     ]
    },
    {
     "name": "stdout",
     "output_type": "stream",
     "text": [
      "\n",
      "Testing pipeline_2D_thr_0.6_norm_percentile_3_7 pipeline\n"
     ]
    },
    {
     "name": "stderr",
     "output_type": "stream",
     "text": [
      "100%|██████████| 19/19 [00:00<00:00, 6028.12it/s]"
     ]
    },
    {
     "name": "stdout",
     "output_type": "stream",
     "text": [
      "[====================                              ] 41.15%"
     ]
    },
    {
     "name": "stderr",
     "output_type": "stream",
     "text": [
      "\n"
     ]
    },
    {
     "name": "stdout",
     "output_type": "stream",
     "text": [
      "\n",
      "Testing pipeline_2D_thr_0.6_norm_percentile_3_8 pipeline\n"
     ]
    },
    {
     "name": "stderr",
     "output_type": "stream",
     "text": [
      "100%|██████████| 19/19 [00:00<00:00, 5164.73it/s]"
     ]
    },
    {
     "name": "stdout",
     "output_type": "stream",
     "text": [
      "[====================                              ] 41.21%"
     ]
    },
    {
     "name": "stderr",
     "output_type": "stream",
     "text": [
      "\n"
     ]
    },
    {
     "name": "stdout",
     "output_type": "stream",
     "text": [
      "\n",
      "Testing pipeline_2D_thr_0.6_norm_percentile_3_9 pipeline\n"
     ]
    },
    {
     "name": "stderr",
     "output_type": "stream",
     "text": [
      "100%|██████████| 19/19 [00:00<00:00, 5481.62it/s]"
     ]
    },
    {
     "name": "stdout",
     "output_type": "stream",
     "text": [
      "[====================                              ] 41.28%"
     ]
    },
    {
     "name": "stderr",
     "output_type": "stream",
     "text": [
      "\n"
     ]
    },
    {
     "name": "stdout",
     "output_type": "stream",
     "text": [
      "\n",
      "Testing pipeline_2D_thr_0.6_norm_percentile_3_10 pipeline\n"
     ]
    },
    {
     "name": "stderr",
     "output_type": "stream",
     "text": [
      "100%|██████████| 19/19 [00:00<00:00, 6810.68it/s]"
     ]
    },
    {
     "name": "stdout",
     "output_type": "stream",
     "text": [
      "[====================                              ] 41.34%"
     ]
    },
    {
     "name": "stderr",
     "output_type": "stream",
     "text": [
      "\n"
     ]
    },
    {
     "name": "stdout",
     "output_type": "stream",
     "text": [
      "\n",
      "Testing pipeline_2D_thr_0.6_norm_percentile_3_11 pipeline\n"
     ]
    },
    {
     "name": "stderr",
     "output_type": "stream",
     "text": [
      "100%|██████████| 19/19 [00:00<00:00, 6097.77it/s]"
     ]
    },
    {
     "name": "stdout",
     "output_type": "stream",
     "text": [
      "[====================                              ] 41.41%"
     ]
    },
    {
     "name": "stderr",
     "output_type": "stream",
     "text": [
      "\n"
     ]
    },
    {
     "name": "stdout",
     "output_type": "stream",
     "text": [
      "\n",
      "Testing pipeline_2D_thr_0.6_norm_percentile_3_12 pipeline\n"
     ]
    },
    {
     "name": "stderr",
     "output_type": "stream",
     "text": [
      "100%|██████████| 19/19 [00:00<00:00, 6626.62it/s]"
     ]
    },
    {
     "name": "stdout",
     "output_type": "stream",
     "text": [
      "[====================                              ] 41.47%"
     ]
    },
    {
     "name": "stderr",
     "output_type": "stream",
     "text": [
      "\n"
     ]
    },
    {
     "name": "stdout",
     "output_type": "stream",
     "text": [
      "\n",
      "Testing pipeline_2D_thr_0.6_norm_percentile_3_13 pipeline\n"
     ]
    },
    {
     "name": "stderr",
     "output_type": "stream",
     "text": [
      "100%|██████████| 19/19 [00:00<00:00, 6278.90it/s]"
     ]
    },
    {
     "name": "stdout",
     "output_type": "stream",
     "text": [
      "[====================                              ] 41.54%"
     ]
    },
    {
     "name": "stderr",
     "output_type": "stream",
     "text": [
      "\n"
     ]
    },
    {
     "name": "stdout",
     "output_type": "stream",
     "text": [
      "\n",
      "Testing pipeline_2D_thr_0.6_norm_percentile_3_14 pipeline\n"
     ]
    },
    {
     "name": "stderr",
     "output_type": "stream",
     "text": [
      "100%|██████████| 19/19 [00:00<00:00, 5654.31it/s]"
     ]
    },
    {
     "name": "stdout",
     "output_type": "stream",
     "text": [
      "[====================                              ] 41.60%"
     ]
    },
    {
     "name": "stderr",
     "output_type": "stream",
     "text": [
      "\n"
     ]
    },
    {
     "name": "stdout",
     "output_type": "stream",
     "text": [
      "\n",
      "Testing pipeline_2D_thr_0.6_norm_percentile_3_15 pipeline\n"
     ]
    },
    {
     "name": "stderr",
     "output_type": "stream",
     "text": [
      "100%|██████████| 19/19 [00:00<00:00, 6303.23it/s]"
     ]
    },
    {
     "name": "stdout",
     "output_type": "stream",
     "text": [
      "[====================                              ] 41.67%"
     ]
    },
    {
     "name": "stderr",
     "output_type": "stream",
     "text": [
      "\n"
     ]
    },
    {
     "name": "stdout",
     "output_type": "stream",
     "text": [
      "\n",
      "Testing pipeline_2D_thr_0.7_norm_minmax_0_0 pipeline\n"
     ]
    },
    {
     "name": "stderr",
     "output_type": "stream",
     "text": [
      "100%|██████████| 19/19 [00:00<00:00, 6352.47it/s]"
     ]
    },
    {
     "name": "stdout",
     "output_type": "stream",
     "text": [
      "[====================                              ] 41.73%"
     ]
    },
    {
     "name": "stderr",
     "output_type": "stream",
     "text": [
      "\n"
     ]
    },
    {
     "name": "stdout",
     "output_type": "stream",
     "text": [
      "\n",
      "Testing pipeline_2D_thr_0.7_norm_minmax_0_1 pipeline\n"
     ]
    },
    {
     "name": "stderr",
     "output_type": "stream",
     "text": [
      "100%|██████████| 19/19 [00:00<00:00, 4912.88it/s]"
     ]
    },
    {
     "name": "stdout",
     "output_type": "stream",
     "text": [
      "[====================                              ] 41.80%"
     ]
    },
    {
     "name": "stderr",
     "output_type": "stream",
     "text": [
      "\n"
     ]
    },
    {
     "name": "stdout",
     "output_type": "stream",
     "text": [
      "\n",
      "Testing pipeline_2D_thr_0.7_norm_minmax_0_2 pipeline\n"
     ]
    },
    {
     "name": "stderr",
     "output_type": "stream",
     "text": [
      "100%|██████████| 19/19 [00:00<00:00, 5067.52it/s]"
     ]
    },
    {
     "name": "stdout",
     "output_type": "stream",
     "text": [
      "[====================                              ] 41.86%"
     ]
    },
    {
     "name": "stderr",
     "output_type": "stream",
     "text": [
      "\n"
     ]
    },
    {
     "name": "stdout",
     "output_type": "stream",
     "text": [
      "\n",
      "Testing pipeline_2D_thr_0.7_norm_minmax_0_3 pipeline\n"
     ]
    },
    {
     "name": "stderr",
     "output_type": "stream",
     "text": [
      "100%|██████████| 19/19 [00:00<00:00, 5237.71it/s]"
     ]
    },
    {
     "name": "stdout",
     "output_type": "stream",
     "text": [
      "[====================                              ] 41.93%"
     ]
    },
    {
     "name": "stderr",
     "output_type": "stream",
     "text": [
      "\n"
     ]
    },
    {
     "name": "stdout",
     "output_type": "stream",
     "text": [
      "\n",
      "Testing pipeline_2D_thr_0.7_norm_minmax_0_4 pipeline\n"
     ]
    },
    {
     "name": "stderr",
     "output_type": "stream",
     "text": [
      "100%|██████████| 19/19 [00:00<00:00, 4731.17it/s]"
     ]
    },
    {
     "name": "stdout",
     "output_type": "stream",
     "text": [
      "[====================                              ] 41.99%"
     ]
    },
    {
     "name": "stderr",
     "output_type": "stream",
     "text": [
      "\n"
     ]
    },
    {
     "name": "stdout",
     "output_type": "stream",
     "text": [
      "\n",
      "Testing pipeline_2D_thr_0.7_norm_minmax_0_5 pipeline\n"
     ]
    },
    {
     "name": "stderr",
     "output_type": "stream",
     "text": [
      "100%|██████████| 19/19 [00:00<00:00, 3943.58it/s]"
     ]
    },
    {
     "name": "stdout",
     "output_type": "stream",
     "text": [
      "[=====================                             ] 42.06%"
     ]
    },
    {
     "name": "stderr",
     "output_type": "stream",
     "text": [
      "\n"
     ]
    },
    {
     "name": "stdout",
     "output_type": "stream",
     "text": [
      "\n",
      "Testing pipeline_2D_thr_0.7_norm_minmax_0_6 pipeline\n"
     ]
    },
    {
     "name": "stderr",
     "output_type": "stream",
     "text": [
      "100%|██████████| 19/19 [00:00<00:00, 4979.18it/s]"
     ]
    },
    {
     "name": "stdout",
     "output_type": "stream",
     "text": [
      "[=====================                             ] 42.12%"
     ]
    },
    {
     "name": "stderr",
     "output_type": "stream",
     "text": [
      "\n"
     ]
    },
    {
     "name": "stdout",
     "output_type": "stream",
     "text": [
      "\n",
      "Testing pipeline_2D_thr_0.7_norm_minmax_0_7 pipeline\n"
     ]
    },
    {
     "name": "stderr",
     "output_type": "stream",
     "text": [
      "100%|██████████| 19/19 [00:00<00:00, 5660.33it/s]"
     ]
    },
    {
     "name": "stdout",
     "output_type": "stream",
     "text": [
      "[=====================                             ] 42.19%"
     ]
    },
    {
     "name": "stderr",
     "output_type": "stream",
     "text": [
      "\n"
     ]
    },
    {
     "name": "stdout",
     "output_type": "stream",
     "text": [
      "\n",
      "Testing pipeline_2D_thr_0.7_norm_minmax_0_8 pipeline\n"
     ]
    },
    {
     "name": "stderr",
     "output_type": "stream",
     "text": [
      "100%|██████████| 19/19 [00:00<00:00, 5741.07it/s]"
     ]
    },
    {
     "name": "stdout",
     "output_type": "stream",
     "text": [
      "[=====================                             ] 42.25%"
     ]
    },
    {
     "name": "stderr",
     "output_type": "stream",
     "text": [
      "\n"
     ]
    },
    {
     "name": "stdout",
     "output_type": "stream",
     "text": [
      "\n",
      "Testing pipeline_2D_thr_0.7_norm_minmax_0_9 pipeline\n"
     ]
    },
    {
     "name": "stderr",
     "output_type": "stream",
     "text": [
      "100%|██████████| 19/19 [00:00<00:00, 5723.34it/s]"
     ]
    },
    {
     "name": "stdout",
     "output_type": "stream",
     "text": [
      "[=====================                             ] 42.32%"
     ]
    },
    {
     "name": "stderr",
     "output_type": "stream",
     "text": [
      "\n"
     ]
    },
    {
     "name": "stdout",
     "output_type": "stream",
     "text": [
      "\n",
      "Testing pipeline_2D_thr_0.7_norm_minmax_0_10 pipeline\n"
     ]
    },
    {
     "name": "stderr",
     "output_type": "stream",
     "text": [
      "100%|██████████| 19/19 [00:00<00:00, 5880.01it/s]"
     ]
    },
    {
     "name": "stdout",
     "output_type": "stream",
     "text": [
      "[=====================                             ] 42.38%"
     ]
    },
    {
     "name": "stderr",
     "output_type": "stream",
     "text": [
      "\n"
     ]
    },
    {
     "name": "stdout",
     "output_type": "stream",
     "text": [
      "\n",
      "Testing pipeline_2D_thr_0.7_norm_minmax_0_11 pipeline\n"
     ]
    },
    {
     "name": "stderr",
     "output_type": "stream",
     "text": [
      "100%|██████████| 19/19 [00:00<00:00, 5437.48it/s]"
     ]
    },
    {
     "name": "stdout",
     "output_type": "stream",
     "text": [
      "[=====================                             ] 42.45%"
     ]
    },
    {
     "name": "stderr",
     "output_type": "stream",
     "text": [
      "\n"
     ]
    },
    {
     "name": "stdout",
     "output_type": "stream",
     "text": [
      "\n",
      "Testing pipeline_2D_thr_0.7_norm_minmax_0_12 pipeline\n"
     ]
    },
    {
     "name": "stderr",
     "output_type": "stream",
     "text": [
      "100%|██████████| 19/19 [00:00<00:00, 5459.46it/s]"
     ]
    },
    {
     "name": "stdout",
     "output_type": "stream",
     "text": [
      "[=====================                             ] 42.51%"
     ]
    },
    {
     "name": "stderr",
     "output_type": "stream",
     "text": [
      "\n"
     ]
    },
    {
     "name": "stdout",
     "output_type": "stream",
     "text": [
      "\n",
      "Testing pipeline_2D_thr_0.7_norm_minmax_0_13 pipeline\n"
     ]
    },
    {
     "name": "stderr",
     "output_type": "stream",
     "text": [
      "100%|██████████| 19/19 [00:00<00:00, 6388.63it/s]"
     ]
    },
    {
     "name": "stdout",
     "output_type": "stream",
     "text": [
      "[=====================                             ] 42.58%"
     ]
    },
    {
     "name": "stderr",
     "output_type": "stream",
     "text": [
      "\n"
     ]
    },
    {
     "name": "stdout",
     "output_type": "stream",
     "text": [
      "\n",
      "Testing pipeline_2D_thr_0.7_norm_minmax_0_14 pipeline\n"
     ]
    },
    {
     "name": "stderr",
     "output_type": "stream",
     "text": [
      "100%|██████████| 19/19 [00:00<00:00, 6775.36it/s]"
     ]
    },
    {
     "name": "stdout",
     "output_type": "stream",
     "text": [
      "[=====================                             ] 42.64%"
     ]
    },
    {
     "name": "stderr",
     "output_type": "stream",
     "text": [
      "\n"
     ]
    },
    {
     "name": "stdout",
     "output_type": "stream",
     "text": [
      "\n",
      "Testing pipeline_2D_thr_0.7_norm_minmax_0_15 pipeline\n"
     ]
    },
    {
     "name": "stderr",
     "output_type": "stream",
     "text": [
      "100%|██████████| 19/19 [00:00<00:00, 5629.94it/s]"
     ]
    },
    {
     "name": "stdout",
     "output_type": "stream",
     "text": [
      "[=====================                             ] 42.71%"
     ]
    },
    {
     "name": "stderr",
     "output_type": "stream",
     "text": [
      "\n"
     ]
    },
    {
     "name": "stdout",
     "output_type": "stream",
     "text": [
      "\n",
      "Testing pipeline_2D_thr_0.7_norm_minmax_1_0 pipeline\n"
     ]
    },
    {
     "name": "stderr",
     "output_type": "stream",
     "text": [
      "100%|██████████| 19/19 [00:00<00:00, 4830.39it/s]"
     ]
    },
    {
     "name": "stdout",
     "output_type": "stream",
     "text": [
      "[=====================                             ] 42.77%"
     ]
    },
    {
     "name": "stderr",
     "output_type": "stream",
     "text": [
      "\n"
     ]
    },
    {
     "name": "stdout",
     "output_type": "stream",
     "text": [
      "\n",
      "Testing pipeline_2D_thr_0.7_norm_minmax_1_1 pipeline\n"
     ]
    },
    {
     "name": "stderr",
     "output_type": "stream",
     "text": [
      "100%|██████████| 19/19 [00:00<00:00, 4733.42it/s]"
     ]
    },
    {
     "name": "stdout",
     "output_type": "stream",
     "text": [
      "[=====================                             ] 42.84%"
     ]
    },
    {
     "name": "stderr",
     "output_type": "stream",
     "text": [
      "\n"
     ]
    },
    {
     "name": "stdout",
     "output_type": "stream",
     "text": [
      "\n",
      "Testing pipeline_2D_thr_0.7_norm_minmax_1_2 pipeline\n"
     ]
    },
    {
     "name": "stderr",
     "output_type": "stream",
     "text": [
      "100%|██████████| 19/19 [00:00<00:00, 4391.22it/s]"
     ]
    },
    {
     "name": "stdout",
     "output_type": "stream",
     "text": [
      "[=====================                             ] 42.90%"
     ]
    },
    {
     "name": "stderr",
     "output_type": "stream",
     "text": [
      "\n"
     ]
    },
    {
     "name": "stdout",
     "output_type": "stream",
     "text": [
      "\n",
      "Testing pipeline_2D_thr_0.7_norm_minmax_1_3 pipeline\n"
     ]
    },
    {
     "name": "stderr",
     "output_type": "stream",
     "text": [
      "100%|██████████| 19/19 [00:00<00:00, 4518.70it/s]"
     ]
    },
    {
     "name": "stdout",
     "output_type": "stream",
     "text": [
      "[=====================                             ] 42.97%"
     ]
    },
    {
     "name": "stderr",
     "output_type": "stream",
     "text": [
      "\n"
     ]
    },
    {
     "name": "stdout",
     "output_type": "stream",
     "text": [
      "\n",
      "Testing pipeline_2D_thr_0.7_norm_minmax_1_4 pipeline\n"
     ]
    },
    {
     "name": "stderr",
     "output_type": "stream",
     "text": [
      "100%|██████████| 19/19 [00:00<00:00, 5379.85it/s]"
     ]
    },
    {
     "name": "stdout",
     "output_type": "stream",
     "text": [
      "[=====================                             ] 43.03%"
     ]
    },
    {
     "name": "stderr",
     "output_type": "stream",
     "text": [
      "\n"
     ]
    },
    {
     "name": "stdout",
     "output_type": "stream",
     "text": [
      "\n",
      "Testing pipeline_2D_thr_0.7_norm_minmax_1_5 pipeline\n"
     ]
    },
    {
     "name": "stderr",
     "output_type": "stream",
     "text": [
      "100%|██████████| 19/19 [00:00<00:00, 4521.52it/s]"
     ]
    },
    {
     "name": "stdout",
     "output_type": "stream",
     "text": [
      "[=====================                             ] 43.10%"
     ]
    },
    {
     "name": "stderr",
     "output_type": "stream",
     "text": [
      "\n"
     ]
    },
    {
     "name": "stdout",
     "output_type": "stream",
     "text": [
      "\n",
      "Testing pipeline_2D_thr_0.7_norm_minmax_1_6 pipeline\n"
     ]
    },
    {
     "name": "stderr",
     "output_type": "stream",
     "text": [
      "100%|██████████| 19/19 [00:00<00:00, 5182.19it/s]"
     ]
    },
    {
     "name": "stdout",
     "output_type": "stream",
     "text": [
      "[=====================                             ] 43.16%"
     ]
    },
    {
     "name": "stderr",
     "output_type": "stream",
     "text": [
      "\n"
     ]
    },
    {
     "name": "stdout",
     "output_type": "stream",
     "text": [
      "\n",
      "Testing pipeline_2D_thr_0.7_norm_minmax_1_7 pipeline\n"
     ]
    },
    {
     "name": "stderr",
     "output_type": "stream",
     "text": [
      "100%|██████████| 19/19 [00:00<00:00, 5100.93it/s]"
     ]
    },
    {
     "name": "stdout",
     "output_type": "stream",
     "text": [
      "[=====================                             ] 43.23%"
     ]
    },
    {
     "name": "stderr",
     "output_type": "stream",
     "text": [
      "\n"
     ]
    },
    {
     "name": "stdout",
     "output_type": "stream",
     "text": [
      "\n",
      "Testing pipeline_2D_thr_0.7_norm_minmax_1_8 pipeline\n"
     ]
    },
    {
     "name": "stderr",
     "output_type": "stream",
     "text": [
      "100%|██████████| 19/19 [00:00<00:00, 5150.71it/s]"
     ]
    },
    {
     "name": "stdout",
     "output_type": "stream",
     "text": [
      "[=====================                             ] 43.29%"
     ]
    },
    {
     "name": "stderr",
     "output_type": "stream",
     "text": [
      "\n"
     ]
    },
    {
     "name": "stdout",
     "output_type": "stream",
     "text": [
      "\n",
      "Testing pipeline_2D_thr_0.7_norm_minmax_1_9 pipeline\n"
     ]
    },
    {
     "name": "stderr",
     "output_type": "stream",
     "text": [
      "100%|██████████| 19/19 [00:00<00:00, 4544.99it/s]"
     ]
    },
    {
     "name": "stdout",
     "output_type": "stream",
     "text": [
      "[=====================                             ] 43.36%"
     ]
    },
    {
     "name": "stderr",
     "output_type": "stream",
     "text": [
      "\n"
     ]
    },
    {
     "name": "stdout",
     "output_type": "stream",
     "text": [
      "\n",
      "Testing pipeline_2D_thr_0.7_norm_minmax_1_10 pipeline\n"
     ]
    },
    {
     "name": "stderr",
     "output_type": "stream",
     "text": [
      "100%|██████████| 19/19 [00:00<00:00, 5601.45it/s]"
     ]
    },
    {
     "name": "stdout",
     "output_type": "stream",
     "text": [
      "[=====================                             ] 43.42%"
     ]
    },
    {
     "name": "stderr",
     "output_type": "stream",
     "text": [
      "\n"
     ]
    },
    {
     "name": "stdout",
     "output_type": "stream",
     "text": [
      "\n",
      "Testing pipeline_2D_thr_0.7_norm_minmax_1_11 pipeline\n"
     ]
    },
    {
     "name": "stderr",
     "output_type": "stream",
     "text": [
      "100%|██████████| 19/19 [00:00<00:00, 5728.69it/s]"
     ]
    },
    {
     "name": "stdout",
     "output_type": "stream",
     "text": [
      "[=====================                             ] 43.49%"
     ]
    },
    {
     "name": "stderr",
     "output_type": "stream",
     "text": [
      "\n"
     ]
    },
    {
     "name": "stdout",
     "output_type": "stream",
     "text": [
      "\n",
      "Testing pipeline_2D_thr_0.7_norm_minmax_1_12 pipeline\n"
     ]
    },
    {
     "name": "stderr",
     "output_type": "stream",
     "text": [
      "100%|██████████| 19/19 [00:00<00:00, 4621.42it/s]"
     ]
    },
    {
     "name": "stdout",
     "output_type": "stream",
     "text": [
      "[=====================                             ] 43.55%"
     ]
    },
    {
     "name": "stderr",
     "output_type": "stream",
     "text": [
      "\n"
     ]
    },
    {
     "name": "stdout",
     "output_type": "stream",
     "text": [
      "\n",
      "Testing pipeline_2D_thr_0.7_norm_minmax_1_13 pipeline\n"
     ]
    },
    {
     "name": "stderr",
     "output_type": "stream",
     "text": [
      "100%|██████████| 19/19 [00:00<00:00, 4767.40it/s]"
     ]
    },
    {
     "name": "stdout",
     "output_type": "stream",
     "text": [
      "[=====================                             ] 43.62%"
     ]
    },
    {
     "name": "stderr",
     "output_type": "stream",
     "text": [
      "\n"
     ]
    },
    {
     "name": "stdout",
     "output_type": "stream",
     "text": [
      "\n",
      "Testing pipeline_2D_thr_0.7_norm_minmax_1_14 pipeline\n"
     ]
    },
    {
     "name": "stderr",
     "output_type": "stream",
     "text": [
      "100%|██████████| 19/19 [00:00<00:00, 5459.46it/s]"
     ]
    },
    {
     "name": "stdout",
     "output_type": "stream",
     "text": [
      "[=====================                             ] 43.68%"
     ]
    },
    {
     "name": "stderr",
     "output_type": "stream",
     "text": [
      "\n"
     ]
    },
    {
     "name": "stdout",
     "output_type": "stream",
     "text": [
      "\n",
      "Testing pipeline_2D_thr_0.7_norm_minmax_1_15 pipeline\n"
     ]
    },
    {
     "name": "stderr",
     "output_type": "stream",
     "text": [
      "100%|██████████| 19/19 [00:00<00:00, 4944.27it/s]"
     ]
    },
    {
     "name": "stdout",
     "output_type": "stream",
     "text": [
      "[=====================                             ] 43.75%"
     ]
    },
    {
     "name": "stderr",
     "output_type": "stream",
     "text": [
      "\n"
     ]
    },
    {
     "name": "stdout",
     "output_type": "stream",
     "text": [
      "\n",
      "Testing pipeline_2D_thr_0.7_norm_minmax_2_0 pipeline\n"
     ]
    },
    {
     "name": "stderr",
     "output_type": "stream",
     "text": [
      "100%|██████████| 19/19 [00:00<00:00, 6010.84it/s]"
     ]
    },
    {
     "name": "stdout",
     "output_type": "stream",
     "text": [
      "[=====================                             ] 43.82%"
     ]
    },
    {
     "name": "stderr",
     "output_type": "stream",
     "text": [
      "\n"
     ]
    },
    {
     "name": "stdout",
     "output_type": "stream",
     "text": [
      "\n",
      "Testing pipeline_2D_thr_0.7_norm_minmax_2_1 pipeline\n"
     ]
    },
    {
     "name": "stderr",
     "output_type": "stream",
     "text": [
      "100%|██████████| 19/19 [00:00<00:00, 5327.35it/s]"
     ]
    },
    {
     "name": "stdout",
     "output_type": "stream",
     "text": [
      "[=====================                             ] 43.88%"
     ]
    },
    {
     "name": "stderr",
     "output_type": "stream",
     "text": [
      "\n"
     ]
    },
    {
     "name": "stdout",
     "output_type": "stream",
     "text": [
      "\n",
      "Testing pipeline_2D_thr_0.7_norm_minmax_2_2 pipeline\n"
     ]
    },
    {
     "name": "stderr",
     "output_type": "stream",
     "text": [
      "100%|██████████| 19/19 [00:00<00:00, 5934.30it/s]"
     ]
    },
    {
     "name": "stdout",
     "output_type": "stream",
     "text": [
      "[=====================                             ] 43.95%"
     ]
    },
    {
     "name": "stderr",
     "output_type": "stream",
     "text": [
      "\n"
     ]
    },
    {
     "name": "stdout",
     "output_type": "stream",
     "text": [
      "\n",
      "Testing pipeline_2D_thr_0.7_norm_minmax_2_3 pipeline\n"
     ]
    },
    {
     "name": "stderr",
     "output_type": "stream",
     "text": [
      "100%|██████████| 19/19 [00:00<00:00, 4862.22it/s]"
     ]
    },
    {
     "name": "stdout",
     "output_type": "stream",
     "text": [
      "[======================                            ] 44.01%"
     ]
    },
    {
     "name": "stderr",
     "output_type": "stream",
     "text": [
      "\n"
     ]
    },
    {
     "name": "stdout",
     "output_type": "stream",
     "text": [
      "\n",
      "Testing pipeline_2D_thr_0.7_norm_minmax_2_4 pipeline\n"
     ]
    },
    {
     "name": "stderr",
     "output_type": "stream",
     "text": [
      "100%|██████████| 19/19 [00:00<00:00, 5408.33it/s]"
     ]
    },
    {
     "name": "stdout",
     "output_type": "stream",
     "text": [
      "[======================                            ] 44.08%"
     ]
    },
    {
     "name": "stderr",
     "output_type": "stream",
     "text": [
      "\n"
     ]
    },
    {
     "name": "stdout",
     "output_type": "stream",
     "text": [
      "\n",
      "Testing pipeline_2D_thr_0.7_norm_minmax_2_5 pipeline\n"
     ]
    },
    {
     "name": "stderr",
     "output_type": "stream",
     "text": [
      "100%|██████████| 19/19 [00:00<00:00, 5379.49it/s]"
     ]
    },
    {
     "name": "stdout",
     "output_type": "stream",
     "text": [
      "[======================                            ] 44.14%"
     ]
    },
    {
     "name": "stderr",
     "output_type": "stream",
     "text": [
      "\n"
     ]
    },
    {
     "name": "stdout",
     "output_type": "stream",
     "text": [
      "\n",
      "Testing pipeline_2D_thr_0.7_norm_minmax_2_6 pipeline\n"
     ]
    },
    {
     "name": "stderr",
     "output_type": "stream",
     "text": [
      "100%|██████████| 19/19 [00:00<00:00, 5819.47it/s]"
     ]
    },
    {
     "name": "stdout",
     "output_type": "stream",
     "text": [
      "[======================                            ] 44.21%"
     ]
    },
    {
     "name": "stderr",
     "output_type": "stream",
     "text": [
      "\n"
     ]
    },
    {
     "name": "stdout",
     "output_type": "stream",
     "text": [
      "\n",
      "Testing pipeline_2D_thr_0.7_norm_minmax_2_7 pipeline\n"
     ]
    },
    {
     "name": "stderr",
     "output_type": "stream",
     "text": [
      "100%|██████████| 19/19 [00:00<00:00, 4442.62it/s]"
     ]
    },
    {
     "name": "stdout",
     "output_type": "stream",
     "text": [
      "[======================                            ] 44.27%"
     ]
    },
    {
     "name": "stderr",
     "output_type": "stream",
     "text": [
      "\n"
     ]
    },
    {
     "name": "stdout",
     "output_type": "stream",
     "text": [
      "\n",
      "Testing pipeline_2D_thr_0.7_norm_minmax_2_8 pipeline\n"
     ]
    },
    {
     "name": "stderr",
     "output_type": "stream",
     "text": [
      "100%|██████████| 19/19 [00:00<00:00, 4802.45it/s]"
     ]
    },
    {
     "name": "stdout",
     "output_type": "stream",
     "text": [
      "[======================                            ] 44.34%"
     ]
    },
    {
     "name": "stderr",
     "output_type": "stream",
     "text": [
      "\n"
     ]
    },
    {
     "name": "stdout",
     "output_type": "stream",
     "text": [
      "\n",
      "Testing pipeline_2D_thr_0.7_norm_minmax_2_9 pipeline\n"
     ]
    },
    {
     "name": "stderr",
     "output_type": "stream",
     "text": [
      "100%|██████████| 19/19 [00:00<00:00, 5127.51it/s]"
     ]
    },
    {
     "name": "stdout",
     "output_type": "stream",
     "text": [
      "[======================                            ] 44.40%"
     ]
    },
    {
     "name": "stderr",
     "output_type": "stream",
     "text": [
      "\n"
     ]
    },
    {
     "name": "stdout",
     "output_type": "stream",
     "text": [
      "\n",
      "Testing pipeline_2D_thr_0.7_norm_minmax_2_10 pipeline\n"
     ]
    },
    {
     "name": "stderr",
     "output_type": "stream",
     "text": [
      "100%|██████████| 19/19 [00:00<00:00, 5938.73it/s]"
     ]
    },
    {
     "name": "stdout",
     "output_type": "stream",
     "text": [
      "[======================                            ] 44.47%"
     ]
    },
    {
     "name": "stderr",
     "output_type": "stream",
     "text": [
      "\n"
     ]
    },
    {
     "name": "stdout",
     "output_type": "stream",
     "text": [
      "\n",
      "Testing pipeline_2D_thr_0.7_norm_minmax_2_11 pipeline\n"
     ]
    },
    {
     "name": "stderr",
     "output_type": "stream",
     "text": [
      "100%|██████████| 19/19 [00:00<00:00, 6037.26it/s]"
     ]
    },
    {
     "name": "stdout",
     "output_type": "stream",
     "text": [
      "[======================                            ] 44.53%"
     ]
    },
    {
     "name": "stderr",
     "output_type": "stream",
     "text": [
      "\n"
     ]
    },
    {
     "name": "stdout",
     "output_type": "stream",
     "text": [
      "\n",
      "Testing pipeline_2D_thr_0.7_norm_minmax_2_12 pipeline\n"
     ]
    },
    {
     "name": "stderr",
     "output_type": "stream",
     "text": [
      "100%|██████████| 19/19 [00:00<00:00, 5101.91it/s]"
     ]
    },
    {
     "name": "stdout",
     "output_type": "stream",
     "text": [
      "[======================                            ] 44.60%"
     ]
    },
    {
     "name": "stderr",
     "output_type": "stream",
     "text": [
      "\n"
     ]
    },
    {
     "name": "stdout",
     "output_type": "stream",
     "text": [
      "\n",
      "Testing pipeline_2D_thr_0.7_norm_minmax_2_13 pipeline\n"
     ]
    },
    {
     "name": "stderr",
     "output_type": "stream",
     "text": [
      "100%|██████████| 19/19 [00:00<00:00, 5768.50it/s]"
     ]
    },
    {
     "name": "stdout",
     "output_type": "stream",
     "text": [
      "[======================                            ] 44.66%"
     ]
    },
    {
     "name": "stderr",
     "output_type": "stream",
     "text": [
      "\n"
     ]
    },
    {
     "name": "stdout",
     "output_type": "stream",
     "text": [
      "\n",
      "Testing pipeline_2D_thr_0.7_norm_minmax_2_14 pipeline\n"
     ]
    },
    {
     "name": "stderr",
     "output_type": "stream",
     "text": [
      "100%|██████████| 19/19 [00:00<00:00, 5309.60it/s]"
     ]
    },
    {
     "name": "stdout",
     "output_type": "stream",
     "text": [
      "[======================                            ] 44.73%"
     ]
    },
    {
     "name": "stderr",
     "output_type": "stream",
     "text": [
      "\n"
     ]
    },
    {
     "name": "stdout",
     "output_type": "stream",
     "text": [
      "\n",
      "Testing pipeline_2D_thr_0.7_norm_minmax_2_15 pipeline\n"
     ]
    },
    {
     "name": "stderr",
     "output_type": "stream",
     "text": [
      "100%|██████████| 19/19 [00:00<00:00, 5539.15it/s]"
     ]
    },
    {
     "name": "stdout",
     "output_type": "stream",
     "text": [
      "[======================                            ] 44.79%"
     ]
    },
    {
     "name": "stderr",
     "output_type": "stream",
     "text": [
      "\n"
     ]
    },
    {
     "name": "stdout",
     "output_type": "stream",
     "text": [
      "\n",
      "Testing pipeline_2D_thr_0.7_norm_minmax_3_0 pipeline\n"
     ]
    },
    {
     "name": "stderr",
     "output_type": "stream",
     "text": [
      "100%|██████████| 19/19 [00:00<00:00, 5952.48it/s]"
     ]
    },
    {
     "name": "stdout",
     "output_type": "stream",
     "text": [
      "[======================                            ] 44.86%"
     ]
    },
    {
     "name": "stderr",
     "output_type": "stream",
     "text": [
      "\n"
     ]
    },
    {
     "name": "stdout",
     "output_type": "stream",
     "text": [
      "\n",
      "Testing pipeline_2D_thr_0.7_norm_minmax_3_1 pipeline\n"
     ]
    },
    {
     "name": "stderr",
     "output_type": "stream",
     "text": [
      "100%|██████████| 19/19 [00:00<00:00, 5642.69it/s]"
     ]
    },
    {
     "name": "stdout",
     "output_type": "stream",
     "text": [
      "[======================                            ] 44.92%"
     ]
    },
    {
     "name": "stderr",
     "output_type": "stream",
     "text": [
      "\n"
     ]
    },
    {
     "name": "stdout",
     "output_type": "stream",
     "text": [
      "\n",
      "Testing pipeline_2D_thr_0.7_norm_minmax_3_2 pipeline\n"
     ]
    },
    {
     "name": "stderr",
     "output_type": "stream",
     "text": [
      "100%|██████████| 19/19 [00:00<00:00, 5626.76it/s]"
     ]
    },
    {
     "name": "stdout",
     "output_type": "stream",
     "text": [
      "[======================                            ] 44.99%"
     ]
    },
    {
     "name": "stderr",
     "output_type": "stream",
     "text": [
      "\n"
     ]
    },
    {
     "name": "stdout",
     "output_type": "stream",
     "text": [
      "\n",
      "Testing pipeline_2D_thr_0.7_norm_minmax_3_3 pipeline\n"
     ]
    },
    {
     "name": "stderr",
     "output_type": "stream",
     "text": [
      "100%|██████████| 19/19 [00:00<00:00, 4947.34it/s]"
     ]
    },
    {
     "name": "stdout",
     "output_type": "stream",
     "text": [
      "[======================                            ] 45.05%"
     ]
    },
    {
     "name": "stderr",
     "output_type": "stream",
     "text": [
      "\n"
     ]
    },
    {
     "name": "stdout",
     "output_type": "stream",
     "text": [
      "\n",
      "Testing pipeline_2D_thr_0.7_norm_minmax_3_4 pipeline\n"
     ]
    },
    {
     "name": "stderr",
     "output_type": "stream",
     "text": [
      "100%|██████████| 19/19 [00:00<00:00, 5630.73it/s]"
     ]
    },
    {
     "name": "stdout",
     "output_type": "stream",
     "text": [
      "[======================                            ] 45.12%"
     ]
    },
    {
     "name": "stderr",
     "output_type": "stream",
     "text": [
      "\n"
     ]
    },
    {
     "name": "stdout",
     "output_type": "stream",
     "text": [
      "\n",
      "Testing pipeline_2D_thr_0.7_norm_minmax_3_5 pipeline\n"
     ]
    },
    {
     "name": "stderr",
     "output_type": "stream",
     "text": [
      "100%|██████████| 19/19 [00:00<00:00, 5094.73it/s]"
     ]
    },
    {
     "name": "stdout",
     "output_type": "stream",
     "text": [
      "[======================                            ] 45.18%"
     ]
    },
    {
     "name": "stderr",
     "output_type": "stream",
     "text": [
      "\n"
     ]
    },
    {
     "name": "stdout",
     "output_type": "stream",
     "text": [
      "\n",
      "Testing pipeline_2D_thr_0.7_norm_minmax_3_6 pipeline\n"
     ]
    },
    {
     "name": "stderr",
     "output_type": "stream",
     "text": [
      "100%|██████████| 19/19 [00:00<00:00, 5938.73it/s]"
     ]
    },
    {
     "name": "stdout",
     "output_type": "stream",
     "text": [
      "[======================                            ] 45.25%"
     ]
    },
    {
     "name": "stderr",
     "output_type": "stream",
     "text": [
      "\n"
     ]
    },
    {
     "name": "stdout",
     "output_type": "stream",
     "text": [
      "\n",
      "Testing pipeline_2D_thr_0.7_norm_minmax_3_7 pipeline\n"
     ]
    },
    {
     "name": "stderr",
     "output_type": "stream",
     "text": [
      "100%|██████████| 19/19 [00:00<00:00, 5379.85it/s]"
     ]
    },
    {
     "name": "stdout",
     "output_type": "stream",
     "text": [
      "[======================                            ] 45.31%"
     ]
    },
    {
     "name": "stderr",
     "output_type": "stream",
     "text": [
      "\n"
     ]
    },
    {
     "name": "stdout",
     "output_type": "stream",
     "text": [
      "\n",
      "Testing pipeline_2D_thr_0.7_norm_minmax_3_8 pipeline\n"
     ]
    },
    {
     "name": "stderr",
     "output_type": "stream",
     "text": [
      "100%|██████████| 19/19 [00:00<00:00, 5429.33it/s]"
     ]
    },
    {
     "name": "stdout",
     "output_type": "stream",
     "text": [
      "[======================                            ] 45.38%"
     ]
    },
    {
     "name": "stderr",
     "output_type": "stream",
     "text": [
      "\n"
     ]
    },
    {
     "name": "stdout",
     "output_type": "stream",
     "text": [
      "\n",
      "Testing pipeline_2D_thr_0.7_norm_minmax_3_9 pipeline\n"
     ]
    },
    {
     "name": "stderr",
     "output_type": "stream",
     "text": [
      "100%|██████████| 19/19 [00:00<00:00, 5218.16it/s]"
     ]
    },
    {
     "name": "stdout",
     "output_type": "stream",
     "text": [
      "[======================                            ] 45.44%"
     ]
    },
    {
     "name": "stderr",
     "output_type": "stream",
     "text": [
      "\n"
     ]
    },
    {
     "name": "stdout",
     "output_type": "stream",
     "text": [
      "\n",
      "Testing pipeline_2D_thr_0.7_norm_minmax_3_10 pipeline\n"
     ]
    },
    {
     "name": "stderr",
     "output_type": "stream",
     "text": [
      "100%|██████████| 19/19 [00:00<00:00, 5059.80it/s]"
     ]
    },
    {
     "name": "stdout",
     "output_type": "stream",
     "text": [
      "[======================                            ] 45.51%"
     ]
    },
    {
     "name": "stderr",
     "output_type": "stream",
     "text": [
      "\n"
     ]
    },
    {
     "name": "stdout",
     "output_type": "stream",
     "text": [
      "\n",
      "Testing pipeline_2D_thr_0.7_norm_minmax_3_11 pipeline\n"
     ]
    },
    {
     "name": "stderr",
     "output_type": "stream",
     "text": [
      "100%|██████████| 19/19 [00:00<00:00, 4686.92it/s]"
     ]
    },
    {
     "name": "stdout",
     "output_type": "stream",
     "text": [
      "[======================                            ] 45.57%"
     ]
    },
    {
     "name": "stderr",
     "output_type": "stream",
     "text": [
      "\n"
     ]
    },
    {
     "name": "stdout",
     "output_type": "stream",
     "text": [
      "\n",
      "Testing pipeline_2D_thr_0.7_norm_minmax_3_12 pipeline\n"
     ]
    },
    {
     "name": "stderr",
     "output_type": "stream",
     "text": [
      "100%|██████████| 19/19 [00:00<00:00, 5322.72it/s]"
     ]
    },
    {
     "name": "stdout",
     "output_type": "stream",
     "text": [
      "[======================                            ] 45.64%"
     ]
    },
    {
     "name": "stderr",
     "output_type": "stream",
     "text": [
      "\n"
     ]
    },
    {
     "name": "stdout",
     "output_type": "stream",
     "text": [
      "\n",
      "Testing pipeline_2D_thr_0.7_norm_minmax_3_13 pipeline\n"
     ]
    },
    {
     "name": "stderr",
     "output_type": "stream",
     "text": [
      "100%|██████████| 19/19 [00:00<00:00, 5775.18it/s]"
     ]
    },
    {
     "name": "stdout",
     "output_type": "stream",
     "text": [
      "[======================                            ] 45.70%"
     ]
    },
    {
     "name": "stderr",
     "output_type": "stream",
     "text": [
      "\n"
     ]
    },
    {
     "name": "stdout",
     "output_type": "stream",
     "text": [
      "\n",
      "Testing pipeline_2D_thr_0.7_norm_minmax_3_14 pipeline\n"
     ]
    },
    {
     "name": "stderr",
     "output_type": "stream",
     "text": [
      "100%|██████████| 19/19 [00:00<00:00, 5808.02it/s]"
     ]
    },
    {
     "name": "stdout",
     "output_type": "stream",
     "text": [
      "[======================                            ] 45.77%"
     ]
    },
    {
     "name": "stderr",
     "output_type": "stream",
     "text": [
      "\n"
     ]
    },
    {
     "name": "stdout",
     "output_type": "stream",
     "text": [
      "\n",
      "Testing pipeline_2D_thr_0.7_norm_minmax_3_15 pipeline\n"
     ]
    },
    {
     "name": "stderr",
     "output_type": "stream",
     "text": [
      "100%|██████████| 19/19 [00:00<00:00, 2735.73it/s]"
     ]
    },
    {
     "name": "stdout",
     "output_type": "stream",
     "text": [
      "[======================                            ] 45.83%"
     ]
    },
    {
     "name": "stderr",
     "output_type": "stream",
     "text": [
      "\n"
     ]
    },
    {
     "name": "stdout",
     "output_type": "stream",
     "text": [
      "\n",
      "Testing pipeline_2D_thr_0.7_norm_percentile_0_0 pipeline\n"
     ]
    },
    {
     "name": "stderr",
     "output_type": "stream",
     "text": [
      "100%|██████████| 19/19 [00:00<00:00, 5055.30it/s]"
     ]
    },
    {
     "name": "stdout",
     "output_type": "stream",
     "text": [
      "[======================                            ] 45.90%"
     ]
    },
    {
     "name": "stderr",
     "output_type": "stream",
     "text": [
      "\n"
     ]
    },
    {
     "name": "stdout",
     "output_type": "stream",
     "text": [
      "\n",
      "Testing pipeline_2D_thr_0.7_norm_percentile_0_1 pipeline\n"
     ]
    },
    {
     "name": "stderr",
     "output_type": "stream",
     "text": [
      "100%|██████████| 19/19 [00:00<00:00, 5969.87it/s]"
     ]
    },
    {
     "name": "stdout",
     "output_type": "stream",
     "text": [
      "[======================                            ] 45.96%"
     ]
    },
    {
     "name": "stderr",
     "output_type": "stream",
     "text": [
      "\n"
     ]
    },
    {
     "name": "stdout",
     "output_type": "stream",
     "text": [
      "\n",
      "Testing pipeline_2D_thr_0.7_norm_percentile_0_2 pipeline\n"
     ]
    },
    {
     "name": "stderr",
     "output_type": "stream",
     "text": [
      "100%|██████████| 19/19 [00:00<00:00, 5749.77it/s]"
     ]
    },
    {
     "name": "stdout",
     "output_type": "stream",
     "text": [
      "[=======================                           ] 46.03%"
     ]
    },
    {
     "name": "stderr",
     "output_type": "stream",
     "text": [
      "\n"
     ]
    },
    {
     "name": "stdout",
     "output_type": "stream",
     "text": [
      "\n",
      "Testing pipeline_2D_thr_0.7_norm_percentile_0_3 pipeline\n"
     ]
    },
    {
     "name": "stderr",
     "output_type": "stream",
     "text": [
      "100%|██████████| 19/19 [00:00<00:00, 5769.75it/s]"
     ]
    },
    {
     "name": "stdout",
     "output_type": "stream",
     "text": [
      "[=======================                           ] 46.09%"
     ]
    },
    {
     "name": "stderr",
     "output_type": "stream",
     "text": [
      "\n"
     ]
    },
    {
     "name": "stdout",
     "output_type": "stream",
     "text": [
      "\n",
      "Testing pipeline_2D_thr_0.7_norm_percentile_0_4 pipeline\n"
     ]
    },
    {
     "name": "stderr",
     "output_type": "stream",
     "text": [
      "100%|██████████| 19/19 [00:00<00:00, 5560.02it/s]"
     ]
    },
    {
     "name": "stdout",
     "output_type": "stream",
     "text": [
      "[=======================                           ] 46.16%"
     ]
    },
    {
     "name": "stderr",
     "output_type": "stream",
     "text": [
      "\n"
     ]
    },
    {
     "name": "stdout",
     "output_type": "stream",
     "text": [
      "\n",
      "Testing pipeline_2D_thr_0.7_norm_percentile_0_5 pipeline\n"
     ]
    },
    {
     "name": "stderr",
     "output_type": "stream",
     "text": [
      "100%|██████████| 19/19 [00:00<00:00, 5774.35it/s]"
     ]
    },
    {
     "name": "stdout",
     "output_type": "stream",
     "text": [
      "[=======================                           ] 46.22%"
     ]
    },
    {
     "name": "stderr",
     "output_type": "stream",
     "text": [
      "\n"
     ]
    },
    {
     "name": "stdout",
     "output_type": "stream",
     "text": [
      "\n",
      "Testing pipeline_2D_thr_0.7_norm_percentile_0_6 pipeline\n"
     ]
    },
    {
     "name": "stderr",
     "output_type": "stream",
     "text": [
      "100%|██████████| 19/19 [00:00<00:00, 4854.81it/s]"
     ]
    },
    {
     "name": "stdout",
     "output_type": "stream",
     "text": [
      "[=======================                           ] 46.29%"
     ]
    },
    {
     "name": "stderr",
     "output_type": "stream",
     "text": [
      "\n"
     ]
    },
    {
     "name": "stdout",
     "output_type": "stream",
     "text": [
      "\n",
      "Testing pipeline_2D_thr_0.7_norm_percentile_0_7 pipeline\n"
     ]
    },
    {
     "name": "stderr",
     "output_type": "stream",
     "text": [
      "100%|██████████| 19/19 [00:00<00:00, 4856.89it/s]"
     ]
    },
    {
     "name": "stdout",
     "output_type": "stream",
     "text": [
      "[=======================                           ] 46.35%"
     ]
    },
    {
     "name": "stderr",
     "output_type": "stream",
     "text": [
      "\n"
     ]
    },
    {
     "name": "stdout",
     "output_type": "stream",
     "text": [
      "\n",
      "Testing pipeline_2D_thr_0.7_norm_percentile_0_8 pipeline\n"
     ]
    },
    {
     "name": "stderr",
     "output_type": "stream",
     "text": [
      "100%|██████████| 19/19 [00:00<00:00, 6223.98it/s]"
     ]
    },
    {
     "name": "stdout",
     "output_type": "stream",
     "text": [
      "[=======================                           ] 46.42%"
     ]
    },
    {
     "name": "stderr",
     "output_type": "stream",
     "text": [
      "\n"
     ]
    },
    {
     "name": "stdout",
     "output_type": "stream",
     "text": [
      "\n",
      "Testing pipeline_2D_thr_0.7_norm_percentile_0_9 pipeline\n"
     ]
    },
    {
     "name": "stderr",
     "output_type": "stream",
     "text": [
      "100%|██████████| 19/19 [00:00<00:00, 5332.34it/s]"
     ]
    },
    {
     "name": "stdout",
     "output_type": "stream",
     "text": [
      "[=======================                           ] 46.48%"
     ]
    },
    {
     "name": "stderr",
     "output_type": "stream",
     "text": [
      "\n"
     ]
    },
    {
     "name": "stdout",
     "output_type": "stream",
     "text": [
      "\n",
      "Testing pipeline_2D_thr_0.7_norm_percentile_0_10 pipeline\n"
     ]
    },
    {
     "name": "stderr",
     "output_type": "stream",
     "text": [
      "100%|██████████| 19/19 [00:00<00:00, 6623.87it/s]"
     ]
    },
    {
     "name": "stdout",
     "output_type": "stream",
     "text": [
      "[=======================                           ] 46.55%"
     ]
    },
    {
     "name": "stderr",
     "output_type": "stream",
     "text": [
      "\n"
     ]
    },
    {
     "name": "stdout",
     "output_type": "stream",
     "text": [
      "\n",
      "Testing pipeline_2D_thr_0.7_norm_percentile_0_11 pipeline\n"
     ]
    },
    {
     "name": "stderr",
     "output_type": "stream",
     "text": [
      "100%|██████████| 19/19 [00:00<00:00, 3340.81it/s]"
     ]
    },
    {
     "name": "stdout",
     "output_type": "stream",
     "text": [
      "[=======================                           ] 46.61%"
     ]
    },
    {
     "name": "stderr",
     "output_type": "stream",
     "text": [
      "\n"
     ]
    },
    {
     "name": "stdout",
     "output_type": "stream",
     "text": [
      "\n",
      "Testing pipeline_2D_thr_0.7_norm_percentile_0_12 pipeline\n"
     ]
    },
    {
     "name": "stderr",
     "output_type": "stream",
     "text": [
      "100%|██████████| 19/19 [00:00<00:00, 4514.09it/s]"
     ]
    },
    {
     "name": "stdout",
     "output_type": "stream",
     "text": [
      "[=======================                           ] 46.68%"
     ]
    },
    {
     "name": "stderr",
     "output_type": "stream",
     "text": [
      "\n"
     ]
    },
    {
     "name": "stdout",
     "output_type": "stream",
     "text": [
      "\n",
      "Testing pipeline_2D_thr_0.7_norm_percentile_0_13 pipeline\n"
     ]
    },
    {
     "name": "stderr",
     "output_type": "stream",
     "text": [
      "100%|██████████| 19/19 [00:00<00:00, 6051.93it/s]"
     ]
    },
    {
     "name": "stdout",
     "output_type": "stream",
     "text": [
      "[=======================                           ] 46.74%"
     ]
    },
    {
     "name": "stderr",
     "output_type": "stream",
     "text": [
      "\n"
     ]
    },
    {
     "name": "stdout",
     "output_type": "stream",
     "text": [
      "\n",
      "Testing pipeline_2D_thr_0.7_norm_percentile_0_14 pipeline\n"
     ]
    },
    {
     "name": "stderr",
     "output_type": "stream",
     "text": [
      "100%|██████████| 19/19 [00:00<00:00, 4668.25it/s]"
     ]
    },
    {
     "name": "stdout",
     "output_type": "stream",
     "text": [
      "[=======================                           ] 46.81%"
     ]
    },
    {
     "name": "stderr",
     "output_type": "stream",
     "text": [
      "\n"
     ]
    },
    {
     "name": "stdout",
     "output_type": "stream",
     "text": [
      "\n",
      "Testing pipeline_2D_thr_0.7_norm_percentile_0_15 pipeline\n"
     ]
    },
    {
     "name": "stderr",
     "output_type": "stream",
     "text": [
      "100%|██████████| 19/19 [00:00<00:00, 4598.75it/s]"
     ]
    },
    {
     "name": "stdout",
     "output_type": "stream",
     "text": [
      "[=======================                           ] 46.88%"
     ]
    },
    {
     "name": "stderr",
     "output_type": "stream",
     "text": [
      "\n"
     ]
    },
    {
     "name": "stdout",
     "output_type": "stream",
     "text": [
      "\n",
      "Testing pipeline_2D_thr_0.7_norm_percentile_1_0 pipeline\n"
     ]
    },
    {
     "name": "stderr",
     "output_type": "stream",
     "text": [
      "100%|██████████| 19/19 [00:00<00:00, 4375.30it/s]"
     ]
    },
    {
     "name": "stdout",
     "output_type": "stream",
     "text": [
      "[=======================                           ] 46.94%"
     ]
    },
    {
     "name": "stderr",
     "output_type": "stream",
     "text": [
      "\n"
     ]
    },
    {
     "name": "stdout",
     "output_type": "stream",
     "text": [
      "\n",
      "Testing pipeline_2D_thr_0.7_norm_percentile_1_1 pipeline\n"
     ]
    },
    {
     "name": "stderr",
     "output_type": "stream",
     "text": [
      "100%|██████████| 19/19 [00:00<00:00, 4909.25it/s]"
     ]
    },
    {
     "name": "stdout",
     "output_type": "stream",
     "text": [
      "[=======================                           ] 47.01%"
     ]
    },
    {
     "name": "stderr",
     "output_type": "stream",
     "text": [
      "\n"
     ]
    },
    {
     "name": "stdout",
     "output_type": "stream",
     "text": [
      "\n",
      "Testing pipeline_2D_thr_0.7_norm_percentile_1_2 pipeline\n"
     ]
    },
    {
     "name": "stderr",
     "output_type": "stream",
     "text": [
      "100%|██████████| 19/19 [00:00<00:00, 5605.78it/s]"
     ]
    },
    {
     "name": "stdout",
     "output_type": "stream",
     "text": [
      "[=======================                           ] 47.07%"
     ]
    },
    {
     "name": "stderr",
     "output_type": "stream",
     "text": [
      "\n"
     ]
    },
    {
     "name": "stdout",
     "output_type": "stream",
     "text": [
      "\n",
      "Testing pipeline_2D_thr_0.7_norm_percentile_1_3 pipeline\n"
     ]
    },
    {
     "name": "stderr",
     "output_type": "stream",
     "text": [
      "100%|██████████| 19/19 [00:00<00:00, 4842.72it/s]"
     ]
    },
    {
     "name": "stdout",
     "output_type": "stream",
     "text": [
      "[=======================                           ] 47.14%"
     ]
    },
    {
     "name": "stderr",
     "output_type": "stream",
     "text": [
      "\n"
     ]
    },
    {
     "name": "stdout",
     "output_type": "stream",
     "text": [
      "\n",
      "Testing pipeline_2D_thr_0.7_norm_percentile_1_4 pipeline\n"
     ]
    },
    {
     "name": "stderr",
     "output_type": "stream",
     "text": [
      "100%|██████████| 19/19 [00:00<00:00, 6799.06it/s]"
     ]
    },
    {
     "name": "stdout",
     "output_type": "stream",
     "text": [
      "[=======================                           ] 47.20%"
     ]
    },
    {
     "name": "stderr",
     "output_type": "stream",
     "text": [
      "\n"
     ]
    },
    {
     "name": "stdout",
     "output_type": "stream",
     "text": [
      "\n",
      "Testing pipeline_2D_thr_0.7_norm_percentile_1_5 pipeline\n"
     ]
    },
    {
     "name": "stderr",
     "output_type": "stream",
     "text": [
      "100%|██████████| 19/19 [00:00<00:00, 5820.74it/s]"
     ]
    },
    {
     "name": "stdout",
     "output_type": "stream",
     "text": [
      "[=======================                           ] 47.27%"
     ]
    },
    {
     "name": "stderr",
     "output_type": "stream",
     "text": [
      "\n"
     ]
    },
    {
     "name": "stdout",
     "output_type": "stream",
     "text": [
      "\n",
      "Testing pipeline_2D_thr_0.7_norm_percentile_1_6 pipeline\n"
     ]
    },
    {
     "name": "stderr",
     "output_type": "stream",
     "text": [
      "100%|██████████| 19/19 [00:00<00:00, 5943.16it/s]"
     ]
    },
    {
     "name": "stdout",
     "output_type": "stream",
     "text": [
      "[=======================                           ] 47.33%"
     ]
    },
    {
     "name": "stderr",
     "output_type": "stream",
     "text": [
      "\n"
     ]
    },
    {
     "name": "stdout",
     "output_type": "stream",
     "text": [
      "\n",
      "Testing pipeline_2D_thr_0.7_norm_percentile_1_7 pipeline\n"
     ]
    },
    {
     "name": "stderr",
     "output_type": "stream",
     "text": [
      "100%|██████████| 19/19 [00:00<00:00, 3808.27it/s]"
     ]
    },
    {
     "name": "stdout",
     "output_type": "stream",
     "text": [
      "[=======================                           ] 47.40%"
     ]
    },
    {
     "name": "stderr",
     "output_type": "stream",
     "text": [
      "\n"
     ]
    },
    {
     "name": "stdout",
     "output_type": "stream",
     "text": [
      "\n",
      "Testing pipeline_2D_thr_0.7_norm_percentile_1_8 pipeline\n"
     ]
    },
    {
     "name": "stderr",
     "output_type": "stream",
     "text": [
      "100%|██████████| 19/19 [00:00<00:00, 5821.17it/s]"
     ]
    },
    {
     "name": "stdout",
     "output_type": "stream",
     "text": [
      "[=======================                           ] 47.46%"
     ]
    },
    {
     "name": "stderr",
     "output_type": "stream",
     "text": [
      "\n"
     ]
    },
    {
     "name": "stdout",
     "output_type": "stream",
     "text": [
      "\n",
      "Testing pipeline_2D_thr_0.7_norm_percentile_1_9 pipeline\n"
     ]
    },
    {
     "name": "stderr",
     "output_type": "stream",
     "text": [
      "100%|██████████| 19/19 [00:00<00:00, 6101.04it/s]"
     ]
    },
    {
     "name": "stdout",
     "output_type": "stream",
     "text": [
      "[=======================                           ] 47.53%"
     ]
    },
    {
     "name": "stderr",
     "output_type": "stream",
     "text": [
      "\n"
     ]
    },
    {
     "name": "stdout",
     "output_type": "stream",
     "text": [
      "\n",
      "Testing pipeline_2D_thr_0.7_norm_percentile_1_10 pipeline\n"
     ]
    },
    {
     "name": "stderr",
     "output_type": "stream",
     "text": [
      "100%|██████████| 19/19 [00:00<00:00, 5359.23it/s]"
     ]
    },
    {
     "name": "stdout",
     "output_type": "stream",
     "text": [
      "[=======================                           ] 47.59%"
     ]
    },
    {
     "name": "stderr",
     "output_type": "stream",
     "text": [
      "\n"
     ]
    },
    {
     "name": "stdout",
     "output_type": "stream",
     "text": [
      "\n",
      "Testing pipeline_2D_thr_0.7_norm_percentile_1_11 pipeline\n"
     ]
    },
    {
     "name": "stderr",
     "output_type": "stream",
     "text": [
      "100%|██████████| 19/19 [00:00<00:00, 5759.74it/s]"
     ]
    },
    {
     "name": "stdout",
     "output_type": "stream",
     "text": [
      "[=======================                           ] 47.66%"
     ]
    },
    {
     "name": "stderr",
     "output_type": "stream",
     "text": [
      "\n"
     ]
    },
    {
     "name": "stdout",
     "output_type": "stream",
     "text": [
      "\n",
      "Testing pipeline_2D_thr_0.7_norm_percentile_1_12 pipeline\n"
     ]
    },
    {
     "name": "stderr",
     "output_type": "stream",
     "text": [
      "100%|██████████| 19/19 [00:00<00:00, 5532.61it/s]"
     ]
    },
    {
     "name": "stdout",
     "output_type": "stream",
     "text": [
      "[=======================                           ] 47.72%"
     ]
    },
    {
     "name": "stderr",
     "output_type": "stream",
     "text": [
      "\n"
     ]
    },
    {
     "name": "stdout",
     "output_type": "stream",
     "text": [
      "\n",
      "Testing pipeline_2D_thr_0.7_norm_percentile_1_13 pipeline\n"
     ]
    },
    {
     "name": "stderr",
     "output_type": "stream",
     "text": [
      "100%|██████████| 19/19 [00:00<00:00, 5729.51it/s]"
     ]
    },
    {
     "name": "stdout",
     "output_type": "stream",
     "text": [
      "[=======================                           ] 47.79%"
     ]
    },
    {
     "name": "stderr",
     "output_type": "stream",
     "text": [
      "\n"
     ]
    },
    {
     "name": "stdout",
     "output_type": "stream",
     "text": [
      "\n",
      "Testing pipeline_2D_thr_0.7_norm_percentile_1_14 pipeline\n"
     ]
    },
    {
     "name": "stderr",
     "output_type": "stream",
     "text": [
      "100%|██████████| 19/19 [00:00<00:00, 6518.22it/s]"
     ]
    },
    {
     "name": "stdout",
     "output_type": "stream",
     "text": [
      "[=======================                           ] 47.85%"
     ]
    },
    {
     "name": "stderr",
     "output_type": "stream",
     "text": [
      "\n"
     ]
    },
    {
     "name": "stdout",
     "output_type": "stream",
     "text": [
      "\n",
      "Testing pipeline_2D_thr_0.7_norm_percentile_1_15 pipeline\n"
     ]
    },
    {
     "name": "stderr",
     "output_type": "stream",
     "text": [
      "100%|██████████| 19/19 [00:00<00:00, 6179.09it/s]"
     ]
    },
    {
     "name": "stdout",
     "output_type": "stream",
     "text": [
      "[=======================                           ] 47.92%"
     ]
    },
    {
     "name": "stderr",
     "output_type": "stream",
     "text": [
      "\n"
     ]
    },
    {
     "name": "stdout",
     "output_type": "stream",
     "text": [
      "\n",
      "Testing pipeline_2D_thr_0.7_norm_percentile_2_0 pipeline\n"
     ]
    },
    {
     "name": "stderr",
     "output_type": "stream",
     "text": [
      "100%|██████████| 19/19 [00:00<00:00, 4654.89it/s]"
     ]
    },
    {
     "name": "stdout",
     "output_type": "stream",
     "text": [
      "[=======================                           ] 47.98%"
     ]
    },
    {
     "name": "stderr",
     "output_type": "stream",
     "text": [
      "\n"
     ]
    },
    {
     "name": "stdout",
     "output_type": "stream",
     "text": [
      "\n",
      "Testing pipeline_2D_thr_0.7_norm_percentile_2_1 pipeline\n"
     ]
    },
    {
     "name": "stderr",
     "output_type": "stream",
     "text": [
      "100%|██████████| 19/19 [00:00<00:00, 4660.34it/s]"
     ]
    },
    {
     "name": "stdout",
     "output_type": "stream",
     "text": [
      "[========================                          ] 48.05%"
     ]
    },
    {
     "name": "stderr",
     "output_type": "stream",
     "text": [
      "\n"
     ]
    },
    {
     "name": "stdout",
     "output_type": "stream",
     "text": [
      "\n",
      "Testing pipeline_2D_thr_0.7_norm_percentile_2_2 pipeline\n"
     ]
    },
    {
     "name": "stderr",
     "output_type": "stream",
     "text": [
      "100%|██████████| 19/19 [00:00<00:00, 5704.90it/s]"
     ]
    },
    {
     "name": "stdout",
     "output_type": "stream",
     "text": [
      "[========================                          ] 48.11%"
     ]
    },
    {
     "name": "stderr",
     "output_type": "stream",
     "text": [
      "\n"
     ]
    },
    {
     "name": "stdout",
     "output_type": "stream",
     "text": [
      "\n",
      "Testing pipeline_2D_thr_0.7_norm_percentile_2_3 pipeline\n"
     ]
    },
    {
     "name": "stderr",
     "output_type": "stream",
     "text": [
      "100%|██████████| 19/19 [00:00<00:00, 4687.48it/s]"
     ]
    },
    {
     "name": "stdout",
     "output_type": "stream",
     "text": [
      "[========================                          ] 48.18%"
     ]
    },
    {
     "name": "stderr",
     "output_type": "stream",
     "text": [
      "\n"
     ]
    },
    {
     "name": "stdout",
     "output_type": "stream",
     "text": [
      "\n",
      "Testing pipeline_2D_thr_0.7_norm_percentile_2_4 pipeline\n"
     ]
    },
    {
     "name": "stderr",
     "output_type": "stream",
     "text": [
      "100%|██████████| 19/19 [00:00<00:00, 5532.23it/s]"
     ]
    },
    {
     "name": "stdout",
     "output_type": "stream",
     "text": [
      "[========================                          ] 48.24%"
     ]
    },
    {
     "name": "stderr",
     "output_type": "stream",
     "text": [
      "\n"
     ]
    },
    {
     "name": "stdout",
     "output_type": "stream",
     "text": [
      "\n",
      "Testing pipeline_2D_thr_0.7_norm_percentile_2_5 pipeline\n"
     ]
    },
    {
     "name": "stderr",
     "output_type": "stream",
     "text": [
      "100%|██████████| 19/19 [00:00<00:00, 5374.05it/s]"
     ]
    },
    {
     "name": "stdout",
     "output_type": "stream",
     "text": [
      "[========================                          ] 48.31%"
     ]
    },
    {
     "name": "stderr",
     "output_type": "stream",
     "text": [
      "\n"
     ]
    },
    {
     "name": "stdout",
     "output_type": "stream",
     "text": [
      "\n",
      "Testing pipeline_2D_thr_0.7_norm_percentile_2_6 pipeline\n"
     ]
    },
    {
     "name": "stderr",
     "output_type": "stream",
     "text": [
      "100%|██████████| 19/19 [00:00<00:00, 5427.49it/s]"
     ]
    },
    {
     "name": "stdout",
     "output_type": "stream",
     "text": [
      "[========================                          ] 48.37%"
     ]
    },
    {
     "name": "stderr",
     "output_type": "stream",
     "text": [
      "\n"
     ]
    },
    {
     "name": "stdout",
     "output_type": "stream",
     "text": [
      "\n",
      "Testing pipeline_2D_thr_0.7_norm_percentile_2_7 pipeline\n"
     ]
    },
    {
     "name": "stderr",
     "output_type": "stream",
     "text": [
      "100%|██████████| 19/19 [00:00<00:00, 5810.56it/s]"
     ]
    },
    {
     "name": "stdout",
     "output_type": "stream",
     "text": [
      "[========================                          ] 48.44%"
     ]
    },
    {
     "name": "stderr",
     "output_type": "stream",
     "text": [
      "\n"
     ]
    },
    {
     "name": "stdout",
     "output_type": "stream",
     "text": [
      "\n",
      "Testing pipeline_2D_thr_0.7_norm_percentile_2_8 pipeline\n"
     ]
    },
    {
     "name": "stderr",
     "output_type": "stream",
     "text": [
      "100%|██████████| 19/19 [00:00<00:00, 5236.68it/s]"
     ]
    },
    {
     "name": "stdout",
     "output_type": "stream",
     "text": [
      "[========================                          ] 48.50%"
     ]
    },
    {
     "name": "stderr",
     "output_type": "stream",
     "text": [
      "\n"
     ]
    },
    {
     "name": "stdout",
     "output_type": "stream",
     "text": [
      "\n",
      "Testing pipeline_2D_thr_0.7_norm_percentile_2_9 pipeline\n"
     ]
    },
    {
     "name": "stderr",
     "output_type": "stream",
     "text": [
      "100%|██████████| 19/19 [00:00<00:00, 4970.48it/s]"
     ]
    },
    {
     "name": "stdout",
     "output_type": "stream",
     "text": [
      "[========================                          ] 48.57%"
     ]
    },
    {
     "name": "stderr",
     "output_type": "stream",
     "text": [
      "\n"
     ]
    },
    {
     "name": "stdout",
     "output_type": "stream",
     "text": [
      "\n",
      "Testing pipeline_2D_thr_0.7_norm_percentile_2_10 pipeline\n"
     ]
    },
    {
     "name": "stderr",
     "output_type": "stream",
     "text": [
      "100%|██████████| 19/19 [00:00<00:00, 5042.19it/s]"
     ]
    },
    {
     "name": "stdout",
     "output_type": "stream",
     "text": [
      "[========================                          ] 48.63%"
     ]
    },
    {
     "name": "stderr",
     "output_type": "stream",
     "text": [
      "\n"
     ]
    },
    {
     "name": "stdout",
     "output_type": "stream",
     "text": [
      "\n",
      "Testing pipeline_2D_thr_0.7_norm_percentile_2_11 pipeline\n"
     ]
    },
    {
     "name": "stderr",
     "output_type": "stream",
     "text": [
      "100%|██████████| 19/19 [00:00<00:00, 4772.53it/s]"
     ]
    },
    {
     "name": "stdout",
     "output_type": "stream",
     "text": [
      "[========================                          ] 48.70%"
     ]
    },
    {
     "name": "stderr",
     "output_type": "stream",
     "text": [
      "\n"
     ]
    },
    {
     "name": "stdout",
     "output_type": "stream",
     "text": [
      "\n",
      "Testing pipeline_2D_thr_0.7_norm_percentile_2_12 pipeline\n"
     ]
    },
    {
     "name": "stderr",
     "output_type": "stream",
     "text": [
      "100%|██████████| 19/19 [00:00<00:00, 5851.08it/s]"
     ]
    },
    {
     "name": "stdout",
     "output_type": "stream",
     "text": [
      "[========================                          ] 48.76%"
     ]
    },
    {
     "name": "stderr",
     "output_type": "stream",
     "text": [
      "\n"
     ]
    },
    {
     "name": "stdout",
     "output_type": "stream",
     "text": [
      "\n",
      "Testing pipeline_2D_thr_0.7_norm_percentile_2_13 pipeline\n"
     ]
    },
    {
     "name": "stderr",
     "output_type": "stream",
     "text": [
      "100%|██████████| 19/19 [00:00<00:00, 4293.51it/s]"
     ]
    },
    {
     "name": "stdout",
     "output_type": "stream",
     "text": [
      "[========================                          ] 48.83%"
     ]
    },
    {
     "name": "stderr",
     "output_type": "stream",
     "text": [
      "\n"
     ]
    },
    {
     "name": "stdout",
     "output_type": "stream",
     "text": [
      "\n",
      "Testing pipeline_2D_thr_0.7_norm_percentile_2_14 pipeline\n"
     ]
    },
    {
     "name": "stderr",
     "output_type": "stream",
     "text": [
      "100%|██████████| 19/19 [00:00<00:00, 5413.84it/s]"
     ]
    },
    {
     "name": "stdout",
     "output_type": "stream",
     "text": [
      "[========================                          ] 48.89%"
     ]
    },
    {
     "name": "stderr",
     "output_type": "stream",
     "text": [
      "\n"
     ]
    },
    {
     "name": "stdout",
     "output_type": "stream",
     "text": [
      "\n",
      "Testing pipeline_2D_thr_0.7_norm_percentile_2_15 pipeline\n"
     ]
    },
    {
     "name": "stderr",
     "output_type": "stream",
     "text": [
      "100%|██████████| 19/19 [00:00<00:00, 5667.17it/s]"
     ]
    },
    {
     "name": "stdout",
     "output_type": "stream",
     "text": [
      "[========================                          ] 48.96%"
     ]
    },
    {
     "name": "stderr",
     "output_type": "stream",
     "text": [
      "\n"
     ]
    },
    {
     "name": "stdout",
     "output_type": "stream",
     "text": [
      "\n",
      "Testing pipeline_2D_thr_0.7_norm_percentile_3_0 pipeline\n"
     ]
    },
    {
     "name": "stderr",
     "output_type": "stream",
     "text": [
      "100%|██████████| 19/19 [00:00<00:00, 4690.79it/s]"
     ]
    },
    {
     "name": "stdout",
     "output_type": "stream",
     "text": [
      "[========================                          ] 49.02%"
     ]
    },
    {
     "name": "stderr",
     "output_type": "stream",
     "text": [
      "\n"
     ]
    },
    {
     "name": "stdout",
     "output_type": "stream",
     "text": [
      "\n",
      "Testing pipeline_2D_thr_0.7_norm_percentile_3_1 pipeline\n"
     ]
    },
    {
     "name": "stderr",
     "output_type": "stream",
     "text": [
      "100%|██████████| 19/19 [00:00<00:00, 5145.06it/s]"
     ]
    },
    {
     "name": "stdout",
     "output_type": "stream",
     "text": [
      "[========================                          ] 49.09%"
     ]
    },
    {
     "name": "stderr",
     "output_type": "stream",
     "text": [
      "\n"
     ]
    },
    {
     "name": "stdout",
     "output_type": "stream",
     "text": [
      "\n",
      "Testing pipeline_2D_thr_0.7_norm_percentile_3_2 pipeline\n"
     ]
    },
    {
     "name": "stderr",
     "output_type": "stream",
     "text": [
      "100%|██████████| 19/19 [00:00<00:00, 5937.40it/s]"
     ]
    },
    {
     "name": "stdout",
     "output_type": "stream",
     "text": [
      "[========================                          ] 49.15%"
     ]
    },
    {
     "name": "stderr",
     "output_type": "stream",
     "text": [
      "\n"
     ]
    },
    {
     "name": "stdout",
     "output_type": "stream",
     "text": [
      "\n",
      "Testing pipeline_2D_thr_0.7_norm_percentile_3_3 pipeline\n"
     ]
    },
    {
     "name": "stderr",
     "output_type": "stream",
     "text": [
      "100%|██████████| 19/19 [00:00<00:00, 6131.08it/s]"
     ]
    },
    {
     "name": "stdout",
     "output_type": "stream",
     "text": [
      "[========================                          ] 49.22%"
     ]
    },
    {
     "name": "stderr",
     "output_type": "stream",
     "text": [
      "\n"
     ]
    },
    {
     "name": "stdout",
     "output_type": "stream",
     "text": [
      "\n",
      "Testing pipeline_2D_thr_0.7_norm_percentile_3_4 pipeline\n"
     ]
    },
    {
     "name": "stderr",
     "output_type": "stream",
     "text": [
      "100%|██████████| 19/19 [00:00<00:00, 5606.96it/s]"
     ]
    },
    {
     "name": "stdout",
     "output_type": "stream",
     "text": [
      "[========================                          ] 49.28%"
     ]
    },
    {
     "name": "stderr",
     "output_type": "stream",
     "text": [
      "\n"
     ]
    },
    {
     "name": "stdout",
     "output_type": "stream",
     "text": [
      "\n",
      "Testing pipeline_2D_thr_0.7_norm_percentile_3_5 pipeline\n"
     ]
    },
    {
     "name": "stderr",
     "output_type": "stream",
     "text": [
      "100%|██████████| 19/19 [00:00<00:00, 4797.82it/s]"
     ]
    },
    {
     "name": "stdout",
     "output_type": "stream",
     "text": [
      "[========================                          ] 49.35%"
     ]
    },
    {
     "name": "stderr",
     "output_type": "stream",
     "text": [
      "\n"
     ]
    },
    {
     "name": "stdout",
     "output_type": "stream",
     "text": [
      "\n",
      "Testing pipeline_2D_thr_0.7_norm_percentile_3_6 pipeline\n"
     ]
    },
    {
     "name": "stderr",
     "output_type": "stream",
     "text": [
      "100%|██████████| 19/19 [00:00<00:00, 5654.31it/s]"
     ]
    },
    {
     "name": "stdout",
     "output_type": "stream",
     "text": [
      "[========================                          ] 49.41%"
     ]
    },
    {
     "name": "stderr",
     "output_type": "stream",
     "text": [
      "\n"
     ]
    },
    {
     "name": "stdout",
     "output_type": "stream",
     "text": [
      "\n",
      "Testing pipeline_2D_thr_0.7_norm_percentile_3_7 pipeline\n"
     ]
    },
    {
     "name": "stderr",
     "output_type": "stream",
     "text": [
      "100%|██████████| 19/19 [00:00<00:00, 4619.28it/s]"
     ]
    },
    {
     "name": "stdout",
     "output_type": "stream",
     "text": [
      "[========================                          ] 49.48%"
     ]
    },
    {
     "name": "stderr",
     "output_type": "stream",
     "text": [
      "\n"
     ]
    },
    {
     "name": "stdout",
     "output_type": "stream",
     "text": [
      "\n",
      "Testing pipeline_2D_thr_0.7_norm_percentile_3_8 pipeline\n"
     ]
    },
    {
     "name": "stderr",
     "output_type": "stream",
     "text": [
      "100%|██████████| 19/19 [00:00<00:00, 5385.67it/s]"
     ]
    },
    {
     "name": "stdout",
     "output_type": "stream",
     "text": [
      "[========================                          ] 49.54%"
     ]
    },
    {
     "name": "stderr",
     "output_type": "stream",
     "text": [
      "\n"
     ]
    },
    {
     "name": "stdout",
     "output_type": "stream",
     "text": [
      "\n",
      "Testing pipeline_2D_thr_0.7_norm_percentile_3_9 pipeline\n"
     ]
    },
    {
     "name": "stderr",
     "output_type": "stream",
     "text": [
      "100%|██████████| 19/19 [00:00<00:00, 5339.12it/s]"
     ]
    },
    {
     "name": "stdout",
     "output_type": "stream",
     "text": [
      "[========================                          ] 49.61%"
     ]
    },
    {
     "name": "stderr",
     "output_type": "stream",
     "text": [
      "\n"
     ]
    },
    {
     "name": "stdout",
     "output_type": "stream",
     "text": [
      "\n",
      "Testing pipeline_2D_thr_0.7_norm_percentile_3_10 pipeline\n"
     ]
    },
    {
     "name": "stderr",
     "output_type": "stream",
     "text": [
      "100%|██████████| 19/19 [00:00<00:00, 4465.78it/s]"
     ]
    },
    {
     "name": "stdout",
     "output_type": "stream",
     "text": [
      "[========================                          ] 49.67%"
     ]
    },
    {
     "name": "stderr",
     "output_type": "stream",
     "text": [
      "\n"
     ]
    },
    {
     "name": "stdout",
     "output_type": "stream",
     "text": [
      "\n",
      "Testing pipeline_2D_thr_0.7_norm_percentile_3_11 pipeline\n"
     ]
    },
    {
     "name": "stderr",
     "output_type": "stream",
     "text": [
      "100%|██████████| 19/19 [00:00<00:00, 6026.75it/s]"
     ]
    },
    {
     "name": "stdout",
     "output_type": "stream",
     "text": [
      "[========================                          ] 49.74%"
     ]
    },
    {
     "name": "stderr",
     "output_type": "stream",
     "text": [
      "\n"
     ]
    },
    {
     "name": "stdout",
     "output_type": "stream",
     "text": [
      "\n",
      "Testing pipeline_2D_thr_0.7_norm_percentile_3_12 pipeline\n"
     ]
    },
    {
     "name": "stderr",
     "output_type": "stream",
     "text": [
      "100%|██████████| 19/19 [00:00<00:00, 4289.35it/s]"
     ]
    },
    {
     "name": "stdout",
     "output_type": "stream",
     "text": [
      "[========================                          ] 49.80%"
     ]
    },
    {
     "name": "stderr",
     "output_type": "stream",
     "text": [
      "\n"
     ]
    },
    {
     "name": "stdout",
     "output_type": "stream",
     "text": [
      "\n",
      "Testing pipeline_2D_thr_0.7_norm_percentile_3_13 pipeline\n"
     ]
    },
    {
     "name": "stderr",
     "output_type": "stream",
     "text": [
      "100%|██████████| 19/19 [00:00<00:00, 5058.51it/s]"
     ]
    },
    {
     "name": "stdout",
     "output_type": "stream",
     "text": [
      "[========================                          ] 49.87%"
     ]
    },
    {
     "name": "stderr",
     "output_type": "stream",
     "text": [
      "\n"
     ]
    },
    {
     "name": "stdout",
     "output_type": "stream",
     "text": [
      "\n",
      "Testing pipeline_2D_thr_0.7_norm_percentile_3_14 pipeline\n"
     ]
    },
    {
     "name": "stderr",
     "output_type": "stream",
     "text": [
      "100%|██████████| 19/19 [00:00<00:00, 5577.92it/s]"
     ]
    },
    {
     "name": "stdout",
     "output_type": "stream",
     "text": [
      "[========================                          ] 49.93%"
     ]
    },
    {
     "name": "stderr",
     "output_type": "stream",
     "text": [
      "\n"
     ]
    },
    {
     "name": "stdout",
     "output_type": "stream",
     "text": [
      "\n",
      "Testing pipeline_2D_thr_0.7_norm_percentile_3_15 pipeline\n"
     ]
    },
    {
     "name": "stderr",
     "output_type": "stream",
     "text": [
      "100%|██████████| 19/19 [00:00<00:00, 4861.33it/s]"
     ]
    },
    {
     "name": "stdout",
     "output_type": "stream",
     "text": [
      "[=========================                         ] 50.00%"
     ]
    },
    {
     "name": "stderr",
     "output_type": "stream",
     "text": [
      "\n"
     ]
    },
    {
     "name": "stdout",
     "output_type": "stream",
     "text": [
      "\n",
      "Testing pipeline_2D_thr_0.8_norm_minmax_0_0 pipeline\n"
     ]
    },
    {
     "name": "stderr",
     "output_type": "stream",
     "text": [
      "100%|██████████| 19/19 [00:00<00:00, 5068.81it/s]"
     ]
    },
    {
     "name": "stdout",
     "output_type": "stream",
     "text": [
      "[=========================                         ] 50.07%"
     ]
    },
    {
     "name": "stderr",
     "output_type": "stream",
     "text": [
      "\n"
     ]
    },
    {
     "name": "stdout",
     "output_type": "stream",
     "text": [
      "\n",
      "Testing pipeline_2D_thr_0.8_norm_minmax_0_1 pipeline\n"
     ]
    },
    {
     "name": "stderr",
     "output_type": "stream",
     "text": [
      "100%|██████████| 19/19 [00:00<00:00, 5107.14it/s]"
     ]
    },
    {
     "name": "stdout",
     "output_type": "stream",
     "text": [
      "[=========================                         ] 50.13%"
     ]
    },
    {
     "name": "stderr",
     "output_type": "stream",
     "text": [
      "\n"
     ]
    },
    {
     "name": "stdout",
     "output_type": "stream",
     "text": [
      "\n",
      "Testing pipeline_2D_thr_0.8_norm_minmax_0_2 pipeline\n"
     ]
    },
    {
     "name": "stderr",
     "output_type": "stream",
     "text": [
      "100%|██████████| 19/19 [00:00<00:00, 4838.90it/s]"
     ]
    },
    {
     "name": "stdout",
     "output_type": "stream",
     "text": [
      "[=========================                         ] 50.20%"
     ]
    },
    {
     "name": "stderr",
     "output_type": "stream",
     "text": [
      "\n"
     ]
    },
    {
     "name": "stdout",
     "output_type": "stream",
     "text": [
      "\n",
      "Testing pipeline_2D_thr_0.8_norm_minmax_0_3 pipeline\n"
     ]
    },
    {
     "name": "stderr",
     "output_type": "stream",
     "text": [
      "100%|██████████| 19/19 [00:00<00:00, 4059.28it/s]"
     ]
    },
    {
     "name": "stdout",
     "output_type": "stream",
     "text": [
      "[=========================                         ] 50.26%"
     ]
    },
    {
     "name": "stderr",
     "output_type": "stream",
     "text": [
      "\n"
     ]
    },
    {
     "name": "stdout",
     "output_type": "stream",
     "text": [
      "\n",
      "Testing pipeline_2D_thr_0.8_norm_minmax_0_4 pipeline\n"
     ]
    },
    {
     "name": "stderr",
     "output_type": "stream",
     "text": [
      "100%|██████████| 19/19 [00:00<00:00, 5932.10it/s]"
     ]
    },
    {
     "name": "stdout",
     "output_type": "stream",
     "text": [
      "[=========================                         ] 50.33%"
     ]
    },
    {
     "name": "stderr",
     "output_type": "stream",
     "text": [
      "\n"
     ]
    },
    {
     "name": "stdout",
     "output_type": "stream",
     "text": [
      "\n",
      "Testing pipeline_2D_thr_0.8_norm_minmax_0_5 pipeline\n"
     ]
    },
    {
     "name": "stderr",
     "output_type": "stream",
     "text": [
      "100%|██████████| 19/19 [00:00<00:00, 5409.43it/s]"
     ]
    },
    {
     "name": "stdout",
     "output_type": "stream",
     "text": [
      "[=========================                         ] 50.39%"
     ]
    },
    {
     "name": "stderr",
     "output_type": "stream",
     "text": [
      "\n"
     ]
    },
    {
     "name": "stdout",
     "output_type": "stream",
     "text": [
      "\n",
      "Testing pipeline_2D_thr_0.8_norm_minmax_0_6 pipeline\n"
     ]
    },
    {
     "name": "stderr",
     "output_type": "stream",
     "text": [
      "100%|██████████| 19/19 [00:00<00:00, 5124.21it/s]"
     ]
    },
    {
     "name": "stdout",
     "output_type": "stream",
     "text": [
      "[=========================                         ] 50.46%"
     ]
    },
    {
     "name": "stderr",
     "output_type": "stream",
     "text": [
      "\n"
     ]
    },
    {
     "name": "stdout",
     "output_type": "stream",
     "text": [
      "\n",
      "Testing pipeline_2D_thr_0.8_norm_minmax_0_7 pipeline\n"
     ]
    },
    {
     "name": "stderr",
     "output_type": "stream",
     "text": [
      "100%|██████████| 19/19 [00:00<00:00, 5273.76it/s]"
     ]
    },
    {
     "name": "stdout",
     "output_type": "stream",
     "text": [
      "[=========================                         ] 50.52%"
     ]
    },
    {
     "name": "stderr",
     "output_type": "stream",
     "text": [
      "\n"
     ]
    },
    {
     "name": "stdout",
     "output_type": "stream",
     "text": [
      "\n",
      "Testing pipeline_2D_thr_0.8_norm_minmax_0_8 pipeline\n"
     ]
    },
    {
     "name": "stderr",
     "output_type": "stream",
     "text": [
      "100%|██████████| 19/19 [00:00<00:00, 4378.19it/s]"
     ]
    },
    {
     "name": "stdout",
     "output_type": "stream",
     "text": [
      "[=========================                         ] 50.59%"
     ]
    },
    {
     "name": "stderr",
     "output_type": "stream",
     "text": [
      "\n"
     ]
    },
    {
     "name": "stdout",
     "output_type": "stream",
     "text": [
      "\n",
      "Testing pipeline_2D_thr_0.8_norm_minmax_0_9 pipeline\n"
     ]
    },
    {
     "name": "stderr",
     "output_type": "stream",
     "text": [
      "100%|██████████| 19/19 [00:00<00:00, 4297.67it/s]"
     ]
    },
    {
     "name": "stdout",
     "output_type": "stream",
     "text": [
      "[=========================                         ] 50.65%"
     ]
    },
    {
     "name": "stderr",
     "output_type": "stream",
     "text": [
      "\n"
     ]
    },
    {
     "name": "stdout",
     "output_type": "stream",
     "text": [
      "\n",
      "Testing pipeline_2D_thr_0.8_norm_minmax_0_10 pipeline\n"
     ]
    },
    {
     "name": "stderr",
     "output_type": "stream",
     "text": [
      "100%|██████████| 19/19 [00:00<00:00, 5228.09it/s]"
     ]
    },
    {
     "name": "stdout",
     "output_type": "stream",
     "text": [
      "[=========================                         ] 50.72%"
     ]
    },
    {
     "name": "stderr",
     "output_type": "stream",
     "text": [
      "\n"
     ]
    },
    {
     "name": "stdout",
     "output_type": "stream",
     "text": [
      "\n",
      "Testing pipeline_2D_thr_0.8_norm_minmax_0_11 pipeline\n"
     ]
    },
    {
     "name": "stderr",
     "output_type": "stream",
     "text": [
      "100%|██████████| 19/19 [00:00<00:00, 5152.71it/s]"
     ]
    },
    {
     "name": "stdout",
     "output_type": "stream",
     "text": [
      "[=========================                         ] 50.78%"
     ]
    },
    {
     "name": "stderr",
     "output_type": "stream",
     "text": [
      "\n"
     ]
    },
    {
     "name": "stdout",
     "output_type": "stream",
     "text": [
      "\n",
      "Testing pipeline_2D_thr_0.8_norm_minmax_0_12 pipeline\n"
     ]
    },
    {
     "name": "stderr",
     "output_type": "stream",
     "text": [
      "100%|██████████| 19/19 [00:00<00:00, 4919.85it/s]"
     ]
    },
    {
     "name": "stdout",
     "output_type": "stream",
     "text": [
      "[=========================                         ] 50.85%"
     ]
    },
    {
     "name": "stderr",
     "output_type": "stream",
     "text": [
      "\n"
     ]
    },
    {
     "name": "stdout",
     "output_type": "stream",
     "text": [
      "\n",
      "Testing pipeline_2D_thr_0.8_norm_minmax_0_13 pipeline\n"
     ]
    },
    {
     "name": "stderr",
     "output_type": "stream",
     "text": [
      "100%|██████████| 19/19 [00:00<00:00, 5417.52it/s]"
     ]
    },
    {
     "name": "stdout",
     "output_type": "stream",
     "text": [
      "[=========================                         ] 50.91%"
     ]
    },
    {
     "name": "stderr",
     "output_type": "stream",
     "text": [
      "\n"
     ]
    },
    {
     "name": "stdout",
     "output_type": "stream",
     "text": [
      "\n",
      "Testing pipeline_2D_thr_0.8_norm_minmax_0_14 pipeline\n"
     ]
    },
    {
     "name": "stderr",
     "output_type": "stream",
     "text": [
      "100%|██████████| 19/19 [00:00<00:00, 3874.36it/s]"
     ]
    },
    {
     "name": "stdout",
     "output_type": "stream",
     "text": [
      "[=========================                         ] 50.98%"
     ]
    },
    {
     "name": "stderr",
     "output_type": "stream",
     "text": [
      "\n"
     ]
    },
    {
     "name": "stdout",
     "output_type": "stream",
     "text": [
      "\n",
      "Testing pipeline_2D_thr_0.8_norm_minmax_0_15 pipeline\n"
     ]
    },
    {
     "name": "stderr",
     "output_type": "stream",
     "text": [
      "100%|██████████| 19/19 [00:00<00:00, 5677.67it/s]"
     ]
    },
    {
     "name": "stdout",
     "output_type": "stream",
     "text": [
      "[=========================                         ] 51.04%"
     ]
    },
    {
     "name": "stderr",
     "output_type": "stream",
     "text": [
      "\n"
     ]
    },
    {
     "name": "stdout",
     "output_type": "stream",
     "text": [
      "\n",
      "Testing pipeline_2D_thr_0.8_norm_minmax_1_0 pipeline\n"
     ]
    },
    {
     "name": "stderr",
     "output_type": "stream",
     "text": [
      "100%|██████████| 19/19 [00:00<00:00, 4690.51it/s]"
     ]
    },
    {
     "name": "stdout",
     "output_type": "stream",
     "text": [
      "[=========================                         ] 51.11%"
     ]
    },
    {
     "name": "stderr",
     "output_type": "stream",
     "text": [
      "\n"
     ]
    },
    {
     "name": "stdout",
     "output_type": "stream",
     "text": [
      "\n",
      "Testing pipeline_2D_thr_0.8_norm_minmax_1_1 pipeline\n"
     ]
    },
    {
     "name": "stderr",
     "output_type": "stream",
     "text": [
      "100%|██████████| 19/19 [00:00<00:00, 4193.64it/s]"
     ]
    },
    {
     "name": "stdout",
     "output_type": "stream",
     "text": [
      "[=========================                         ] 51.17%"
     ]
    },
    {
     "name": "stderr",
     "output_type": "stream",
     "text": [
      "\n"
     ]
    },
    {
     "name": "stdout",
     "output_type": "stream",
     "text": [
      "\n",
      "Testing pipeline_2D_thr_0.8_norm_minmax_1_2 pipeline\n"
     ]
    },
    {
     "name": "stderr",
     "output_type": "stream",
     "text": [
      "100%|██████████| 19/19 [00:00<00:00, 4510.77it/s]"
     ]
    },
    {
     "name": "stdout",
     "output_type": "stream",
     "text": [
      "[=========================                         ] 51.24%"
     ]
    },
    {
     "name": "stderr",
     "output_type": "stream",
     "text": [
      "\n"
     ]
    },
    {
     "name": "stdout",
     "output_type": "stream",
     "text": [
      "\n",
      "Testing pipeline_2D_thr_0.8_norm_minmax_1_3 pipeline\n"
     ]
    },
    {
     "name": "stderr",
     "output_type": "stream",
     "text": [
      "100%|██████████| 19/19 [00:00<00:00, 5297.95it/s]"
     ]
    },
    {
     "name": "stdout",
     "output_type": "stream",
     "text": [
      "[=========================                         ] 51.30%"
     ]
    },
    {
     "name": "stderr",
     "output_type": "stream",
     "text": [
      "\n"
     ]
    },
    {
     "name": "stdout",
     "output_type": "stream",
     "text": [
      "\n",
      "Testing pipeline_2D_thr_0.8_norm_minmax_1_4 pipeline\n"
     ]
    },
    {
     "name": "stderr",
     "output_type": "stream",
     "text": [
      "100%|██████████| 19/19 [00:00<00:00, 4641.61it/s]"
     ]
    },
    {
     "name": "stdout",
     "output_type": "stream",
     "text": [
      "[=========================                         ] 51.37%"
     ]
    },
    {
     "name": "stderr",
     "output_type": "stream",
     "text": [
      "\n"
     ]
    },
    {
     "name": "stdout",
     "output_type": "stream",
     "text": [
      "\n",
      "Testing pipeline_2D_thr_0.8_norm_minmax_1_5 pipeline\n"
     ]
    },
    {
     "name": "stderr",
     "output_type": "stream",
     "text": [
      "100%|██████████| 19/19 [00:00<00:00, 3571.22it/s]"
     ]
    },
    {
     "name": "stdout",
     "output_type": "stream",
     "text": [
      "[=========================                         ] 51.43%"
     ]
    },
    {
     "name": "stderr",
     "output_type": "stream",
     "text": [
      "\n"
     ]
    },
    {
     "name": "stdout",
     "output_type": "stream",
     "text": [
      "\n",
      "Testing pipeline_2D_thr_0.8_norm_minmax_1_6 pipeline\n"
     ]
    },
    {
     "name": "stderr",
     "output_type": "stream",
     "text": [
      "100%|██████████| 19/19 [00:00<00:00, 4658.98it/s]"
     ]
    },
    {
     "name": "stdout",
     "output_type": "stream",
     "text": [
      "[=========================                         ] 51.50%"
     ]
    },
    {
     "name": "stderr",
     "output_type": "stream",
     "text": [
      "\n"
     ]
    },
    {
     "name": "stdout",
     "output_type": "stream",
     "text": [
      "\n",
      "Testing pipeline_2D_thr_0.8_norm_minmax_1_7 pipeline\n"
     ]
    },
    {
     "name": "stderr",
     "output_type": "stream",
     "text": [
      "100%|██████████| 19/19 [00:00<00:00, 4978.87it/s]"
     ]
    },
    {
     "name": "stdout",
     "output_type": "stream",
     "text": [
      "[=========================                         ] 51.56%"
     ]
    },
    {
     "name": "stderr",
     "output_type": "stream",
     "text": [
      "\n"
     ]
    },
    {
     "name": "stdout",
     "output_type": "stream",
     "text": [
      "\n",
      "Testing pipeline_2D_thr_0.8_norm_minmax_1_8 pipeline\n"
     ]
    },
    {
     "name": "stderr",
     "output_type": "stream",
     "text": [
      "100%|██████████| 19/19 [00:00<00:00, 4950.11it/s]"
     ]
    },
    {
     "name": "stdout",
     "output_type": "stream",
     "text": [
      "[=========================                         ] 51.63%"
     ]
    },
    {
     "name": "stderr",
     "output_type": "stream",
     "text": [
      "\n"
     ]
    },
    {
     "name": "stdout",
     "output_type": "stream",
     "text": [
      "\n",
      "Testing pipeline_2D_thr_0.8_norm_minmax_1_9 pipeline\n"
     ]
    },
    {
     "name": "stderr",
     "output_type": "stream",
     "text": [
      "100%|██████████| 19/19 [00:00<00:00, 4080.48it/s]"
     ]
    },
    {
     "name": "stdout",
     "output_type": "stream",
     "text": [
      "[=========================                         ] 51.69%"
     ]
    },
    {
     "name": "stderr",
     "output_type": "stream",
     "text": [
      "\n"
     ]
    },
    {
     "name": "stdout",
     "output_type": "stream",
     "text": [
      "\n",
      "Testing pipeline_2D_thr_0.8_norm_minmax_1_10 pipeline\n"
     ]
    },
    {
     "name": "stderr",
     "output_type": "stream",
     "text": [
      "100%|██████████| 19/19 [00:00<00:00, 5077.85it/s]"
     ]
    },
    {
     "name": "stdout",
     "output_type": "stream",
     "text": [
      "[=========================                         ] 51.76%"
     ]
    },
    {
     "name": "stderr",
     "output_type": "stream",
     "text": [
      "\n"
     ]
    },
    {
     "name": "stdout",
     "output_type": "stream",
     "text": [
      "\n",
      "Testing pipeline_2D_thr_0.8_norm_minmax_1_11 pipeline\n"
     ]
    },
    {
     "name": "stderr",
     "output_type": "stream",
     "text": [
      "100%|██████████| 19/19 [00:00<00:00, 4061.35it/s]"
     ]
    },
    {
     "name": "stdout",
     "output_type": "stream",
     "text": [
      "[=========================                         ] 51.82%"
     ]
    },
    {
     "name": "stderr",
     "output_type": "stream",
     "text": [
      "\n"
     ]
    },
    {
     "name": "stdout",
     "output_type": "stream",
     "text": [
      "\n",
      "Testing pipeline_2D_thr_0.8_norm_minmax_1_12 pipeline\n"
     ]
    },
    {
     "name": "stderr",
     "output_type": "stream",
     "text": [
      "100%|██████████| 19/19 [00:00<00:00, 5238.40it/s]"
     ]
    },
    {
     "name": "stdout",
     "output_type": "stream",
     "text": [
      "[=========================                         ] 51.89%"
     ]
    },
    {
     "name": "stderr",
     "output_type": "stream",
     "text": [
      "\n"
     ]
    },
    {
     "name": "stdout",
     "output_type": "stream",
     "text": [
      "\n",
      "Testing pipeline_2D_thr_0.8_norm_minmax_1_13 pipeline\n"
     ]
    },
    {
     "name": "stderr",
     "output_type": "stream",
     "text": [
      "100%|██████████| 19/19 [00:00<00:00, 4279.90it/s]"
     ]
    },
    {
     "name": "stdout",
     "output_type": "stream",
     "text": [
      "[=========================                         ] 51.95%"
     ]
    },
    {
     "name": "stderr",
     "output_type": "stream",
     "text": [
      "\n"
     ]
    },
    {
     "name": "stdout",
     "output_type": "stream",
     "text": [
      "\n",
      "Testing pipeline_2D_thr_0.8_norm_minmax_1_14 pipeline\n"
     ]
    },
    {
     "name": "stderr",
     "output_type": "stream",
     "text": [
      "100%|██████████| 19/19 [00:00<00:00, 4292.12it/s]"
     ]
    },
    {
     "name": "stdout",
     "output_type": "stream",
     "text": [
      "[==========================                        ] 52.02%"
     ]
    },
    {
     "name": "stderr",
     "output_type": "stream",
     "text": [
      "\n"
     ]
    },
    {
     "name": "stdout",
     "output_type": "stream",
     "text": [
      "\n",
      "Testing pipeline_2D_thr_0.8_norm_minmax_1_15 pipeline\n"
     ]
    },
    {
     "name": "stderr",
     "output_type": "stream",
     "text": [
      "100%|██████████| 19/19 [00:00<00:00, 4484.88it/s]"
     ]
    },
    {
     "name": "stdout",
     "output_type": "stream",
     "text": [
      "[==========================                        ] 52.08%"
     ]
    },
    {
     "name": "stderr",
     "output_type": "stream",
     "text": [
      "\n"
     ]
    },
    {
     "name": "stdout",
     "output_type": "stream",
     "text": [
      "\n",
      "Testing pipeline_2D_thr_0.8_norm_minmax_2_0 pipeline\n"
     ]
    },
    {
     "name": "stderr",
     "output_type": "stream",
     "text": [
      "100%|██████████| 19/19 [00:00<00:00, 4042.19it/s]"
     ]
    },
    {
     "name": "stdout",
     "output_type": "stream",
     "text": [
      "[==========================                        ] 52.15%"
     ]
    },
    {
     "name": "stderr",
     "output_type": "stream",
     "text": [
      "\n"
     ]
    },
    {
     "name": "stdout",
     "output_type": "stream",
     "text": [
      "\n",
      "Testing pipeline_2D_thr_0.8_norm_minmax_2_1 pipeline\n"
     ]
    },
    {
     "name": "stderr",
     "output_type": "stream",
     "text": [
      "100%|██████████| 19/19 [00:00<00:00, 2404.05it/s]"
     ]
    },
    {
     "name": "stdout",
     "output_type": "stream",
     "text": [
      "[==========================                        ] 52.21%"
     ]
    },
    {
     "name": "stderr",
     "output_type": "stream",
     "text": [
      "\n"
     ]
    },
    {
     "name": "stdout",
     "output_type": "stream",
     "text": [
      "\n",
      "Testing pipeline_2D_thr_0.8_norm_minmax_2_2 pipeline\n"
     ]
    },
    {
     "name": "stderr",
     "output_type": "stream",
     "text": [
      "100%|██████████| 19/19 [00:00<00:00, 3430.85it/s]"
     ]
    },
    {
     "name": "stdout",
     "output_type": "stream",
     "text": [
      "[==========================                        ] 52.28%"
     ]
    },
    {
     "name": "stderr",
     "output_type": "stream",
     "text": [
      "\n"
     ]
    },
    {
     "name": "stdout",
     "output_type": "stream",
     "text": [
      "\n",
      "Testing pipeline_2D_thr_0.8_norm_minmax_2_3 pipeline\n"
     ]
    },
    {
     "name": "stderr",
     "output_type": "stream",
     "text": [
      "100%|██████████| 19/19 [00:00<00:00, 3334.94it/s]"
     ]
    },
    {
     "name": "stdout",
     "output_type": "stream",
     "text": [
      "[==========================                        ] 52.34%"
     ]
    },
    {
     "name": "stderr",
     "output_type": "stream",
     "text": [
      "\n"
     ]
    },
    {
     "name": "stdout",
     "output_type": "stream",
     "text": [
      "\n",
      "Testing pipeline_2D_thr_0.8_norm_minmax_2_4 pipeline\n"
     ]
    },
    {
     "name": "stderr",
     "output_type": "stream",
     "text": [
      "100%|██████████| 19/19 [00:00<00:00, 4328.02it/s]"
     ]
    },
    {
     "name": "stdout",
     "output_type": "stream",
     "text": [
      "[==========================                        ] 52.41%"
     ]
    },
    {
     "name": "stderr",
     "output_type": "stream",
     "text": [
      "\n"
     ]
    },
    {
     "name": "stdout",
     "output_type": "stream",
     "text": [
      "\n",
      "Testing pipeline_2D_thr_0.8_norm_minmax_2_5 pipeline\n"
     ]
    },
    {
     "name": "stderr",
     "output_type": "stream",
     "text": [
      "100%|██████████| 19/19 [00:00<00:00, 3821.96it/s]"
     ]
    },
    {
     "name": "stdout",
     "output_type": "stream",
     "text": [
      "[==========================                        ] 52.47%"
     ]
    },
    {
     "name": "stderr",
     "output_type": "stream",
     "text": [
      "\n"
     ]
    },
    {
     "name": "stdout",
     "output_type": "stream",
     "text": [
      "\n",
      "Testing pipeline_2D_thr_0.8_norm_minmax_2_6 pipeline\n"
     ]
    },
    {
     "name": "stderr",
     "output_type": "stream",
     "text": [
      "100%|██████████| 19/19 [00:00<00:00, 3828.39it/s]"
     ]
    },
    {
     "name": "stdout",
     "output_type": "stream",
     "text": [
      "[==========================                        ] 52.54%"
     ]
    },
    {
     "name": "stderr",
     "output_type": "stream",
     "text": [
      "\n"
     ]
    },
    {
     "name": "stdout",
     "output_type": "stream",
     "text": [
      "\n",
      "Testing pipeline_2D_thr_0.8_norm_minmax_2_7 pipeline\n"
     ]
    },
    {
     "name": "stderr",
     "output_type": "stream",
     "text": [
      "100%|██████████| 19/19 [00:00<00:00, 2392.93it/s]"
     ]
    },
    {
     "name": "stdout",
     "output_type": "stream",
     "text": [
      "[==========================                        ] 52.60%"
     ]
    },
    {
     "name": "stderr",
     "output_type": "stream",
     "text": [
      "\n"
     ]
    },
    {
     "name": "stdout",
     "output_type": "stream",
     "text": [
      "\n",
      "Testing pipeline_2D_thr_0.8_norm_minmax_2_8 pipeline\n"
     ]
    },
    {
     "name": "stderr",
     "output_type": "stream",
     "text": [
      "100%|██████████| 19/19 [00:00<00:00, 4582.36it/s]"
     ]
    },
    {
     "name": "stdout",
     "output_type": "stream",
     "text": [
      "[==========================                        ] 52.67%"
     ]
    },
    {
     "name": "stderr",
     "output_type": "stream",
     "text": [
      "\n"
     ]
    },
    {
     "name": "stdout",
     "output_type": "stream",
     "text": [
      "\n",
      "Testing pipeline_2D_thr_0.8_norm_minmax_2_9 pipeline\n"
     ]
    },
    {
     "name": "stderr",
     "output_type": "stream",
     "text": [
      "100%|██████████| 19/19 [00:00<00:00, 3711.95it/s]"
     ]
    },
    {
     "name": "stdout",
     "output_type": "stream",
     "text": [
      "[==========================                        ] 52.73%"
     ]
    },
    {
     "name": "stderr",
     "output_type": "stream",
     "text": [
      "\n"
     ]
    },
    {
     "name": "stdout",
     "output_type": "stream",
     "text": [
      "\n",
      "Testing pipeline_2D_thr_0.8_norm_minmax_2_10 pipeline\n"
     ]
    },
    {
     "name": "stderr",
     "output_type": "stream",
     "text": [
      "100%|██████████| 19/19 [00:00<00:00, 3674.29it/s]"
     ]
    },
    {
     "name": "stdout",
     "output_type": "stream",
     "text": [
      "[==========================                        ] 52.80%"
     ]
    },
    {
     "name": "stderr",
     "output_type": "stream",
     "text": [
      "\n"
     ]
    },
    {
     "name": "stdout",
     "output_type": "stream",
     "text": [
      "\n",
      "Testing pipeline_2D_thr_0.8_norm_minmax_2_11 pipeline\n"
     ]
    },
    {
     "name": "stderr",
     "output_type": "stream",
     "text": [
      "100%|██████████| 19/19 [00:00<00:00, 3223.78it/s]"
     ]
    },
    {
     "name": "stdout",
     "output_type": "stream",
     "text": [
      "[==========================                        ] 52.86%"
     ]
    },
    {
     "name": "stderr",
     "output_type": "stream",
     "text": [
      "\n"
     ]
    },
    {
     "name": "stdout",
     "output_type": "stream",
     "text": [
      "\n",
      "Testing pipeline_2D_thr_0.8_norm_minmax_2_12 pipeline\n"
     ]
    },
    {
     "name": "stderr",
     "output_type": "stream",
     "text": [
      "100%|██████████| 19/19 [00:00<00:00, 3431.74it/s]"
     ]
    },
    {
     "name": "stdout",
     "output_type": "stream",
     "text": [
      "[==========================                        ] 52.93%"
     ]
    },
    {
     "name": "stderr",
     "output_type": "stream",
     "text": [
      "\n"
     ]
    },
    {
     "name": "stdout",
     "output_type": "stream",
     "text": [
      "\n",
      "Testing pipeline_2D_thr_0.8_norm_minmax_2_13 pipeline\n"
     ]
    },
    {
     "name": "stderr",
     "output_type": "stream",
     "text": [
      "100%|██████████| 19/19 [00:00<00:00, 3990.77it/s]"
     ]
    },
    {
     "name": "stdout",
     "output_type": "stream",
     "text": [
      "[==========================                        ] 52.99%"
     ]
    },
    {
     "name": "stderr",
     "output_type": "stream",
     "text": [
      "\n"
     ]
    },
    {
     "name": "stdout",
     "output_type": "stream",
     "text": [
      "\n",
      "Testing pipeline_2D_thr_0.8_norm_minmax_2_14 pipeline\n"
     ]
    },
    {
     "name": "stderr",
     "output_type": "stream",
     "text": [
      "100%|██████████| 19/19 [00:00<00:00, 4795.22it/s]"
     ]
    },
    {
     "name": "stdout",
     "output_type": "stream",
     "text": [
      "[==========================                        ] 53.06%"
     ]
    },
    {
     "name": "stderr",
     "output_type": "stream",
     "text": [
      "\n"
     ]
    },
    {
     "name": "stdout",
     "output_type": "stream",
     "text": [
      "\n",
      "Testing pipeline_2D_thr_0.8_norm_minmax_2_15 pipeline\n"
     ]
    },
    {
     "name": "stderr",
     "output_type": "stream",
     "text": [
      "100%|██████████| 19/19 [00:00<00:00, 4388.80it/s]"
     ]
    },
    {
     "name": "stdout",
     "output_type": "stream",
     "text": [
      "[==========================                        ] 53.12%"
     ]
    },
    {
     "name": "stderr",
     "output_type": "stream",
     "text": [
      "\n"
     ]
    },
    {
     "name": "stdout",
     "output_type": "stream",
     "text": [
      "\n",
      "Testing pipeline_2D_thr_0.8_norm_minmax_3_0 pipeline\n"
     ]
    },
    {
     "name": "stderr",
     "output_type": "stream",
     "text": [
      "100%|██████████| 19/19 [00:00<00:00, 3291.96it/s]"
     ]
    },
    {
     "name": "stdout",
     "output_type": "stream",
     "text": [
      "[==========================                        ] 53.19%"
     ]
    },
    {
     "name": "stderr",
     "output_type": "stream",
     "text": [
      "\n"
     ]
    },
    {
     "name": "stdout",
     "output_type": "stream",
     "text": [
      "\n",
      "Testing pipeline_2D_thr_0.8_norm_minmax_3_1 pipeline\n"
     ]
    },
    {
     "name": "stderr",
     "output_type": "stream",
     "text": [
      "100%|██████████| 19/19 [00:00<00:00, 4609.13it/s]"
     ]
    },
    {
     "name": "stdout",
     "output_type": "stream",
     "text": [
      "[==========================                        ] 53.26%"
     ]
    },
    {
     "name": "stderr",
     "output_type": "stream",
     "text": [
      "\n"
     ]
    },
    {
     "name": "stdout",
     "output_type": "stream",
     "text": [
      "\n",
      "Testing pipeline_2D_thr_0.8_norm_minmax_3_2 pipeline\n"
     ]
    },
    {
     "name": "stderr",
     "output_type": "stream",
     "text": [
      "100%|██████████| 19/19 [00:00<00:00, 3762.24it/s]"
     ]
    },
    {
     "name": "stdout",
     "output_type": "stream",
     "text": [
      "[==========================                        ] 53.32%"
     ]
    },
    {
     "name": "stderr",
     "output_type": "stream",
     "text": [
      "\n"
     ]
    },
    {
     "name": "stdout",
     "output_type": "stream",
     "text": [
      "\n",
      "Testing pipeline_2D_thr_0.8_norm_minmax_3_3 pipeline\n"
     ]
    },
    {
     "name": "stderr",
     "output_type": "stream",
     "text": [
      "100%|██████████| 19/19 [00:00<00:00, 4101.90it/s]"
     ]
    },
    {
     "name": "stdout",
     "output_type": "stream",
     "text": [
      "[==========================                        ] 53.39%"
     ]
    },
    {
     "name": "stderr",
     "output_type": "stream",
     "text": [
      "\n"
     ]
    },
    {
     "name": "stdout",
     "output_type": "stream",
     "text": [
      "\n",
      "Testing pipeline_2D_thr_0.8_norm_minmax_3_4 pipeline\n"
     ]
    },
    {
     "name": "stderr",
     "output_type": "stream",
     "text": [
      "100%|██████████| 19/19 [00:00<00:00, 3461.70it/s]"
     ]
    },
    {
     "name": "stdout",
     "output_type": "stream",
     "text": [
      "[==========================                        ] 53.45%"
     ]
    },
    {
     "name": "stderr",
     "output_type": "stream",
     "text": [
      "\n"
     ]
    },
    {
     "name": "stdout",
     "output_type": "stream",
     "text": [
      "\n",
      "Testing pipeline_2D_thr_0.8_norm_minmax_3_5 pipeline\n"
     ]
    },
    {
     "name": "stderr",
     "output_type": "stream",
     "text": [
      "100%|██████████| 19/19 [00:00<00:00, 4365.48it/s]"
     ]
    },
    {
     "name": "stdout",
     "output_type": "stream",
     "text": [
      "[==========================                        ] 53.52%"
     ]
    },
    {
     "name": "stderr",
     "output_type": "stream",
     "text": [
      "\n"
     ]
    },
    {
     "name": "stdout",
     "output_type": "stream",
     "text": [
      "\n",
      "Testing pipeline_2D_thr_0.8_norm_minmax_3_6 pipeline\n"
     ]
    },
    {
     "name": "stderr",
     "output_type": "stream",
     "text": [
      "100%|██████████| 19/19 [00:00<00:00, 2903.90it/s]"
     ]
    },
    {
     "name": "stdout",
     "output_type": "stream",
     "text": [
      "[==========================                        ] 53.58%"
     ]
    },
    {
     "name": "stderr",
     "output_type": "stream",
     "text": [
      "\n"
     ]
    },
    {
     "name": "stdout",
     "output_type": "stream",
     "text": [
      "\n",
      "Testing pipeline_2D_thr_0.8_norm_minmax_3_7 pipeline\n"
     ]
    },
    {
     "name": "stderr",
     "output_type": "stream",
     "text": [
      "100%|██████████| 19/19 [00:00<00:00, 3646.55it/s]"
     ]
    },
    {
     "name": "stdout",
     "output_type": "stream",
     "text": [
      "[==========================                        ] 53.65%"
     ]
    },
    {
     "name": "stderr",
     "output_type": "stream",
     "text": [
      "\n"
     ]
    },
    {
     "name": "stdout",
     "output_type": "stream",
     "text": [
      "\n",
      "Testing pipeline_2D_thr_0.8_norm_minmax_3_8 pipeline\n"
     ]
    },
    {
     "name": "stderr",
     "output_type": "stream",
     "text": [
      "100%|██████████| 19/19 [00:00<00:00, 3203.82it/s]"
     ]
    },
    {
     "name": "stdout",
     "output_type": "stream",
     "text": [
      "[==========================                        ] 53.71%"
     ]
    },
    {
     "name": "stderr",
     "output_type": "stream",
     "text": [
      "\n"
     ]
    },
    {
     "name": "stdout",
     "output_type": "stream",
     "text": [
      "\n",
      "Testing pipeline_2D_thr_0.8_norm_minmax_3_9 pipeline\n"
     ]
    },
    {
     "name": "stderr",
     "output_type": "stream",
     "text": [
      "100%|██████████| 19/19 [00:00<00:00, 4272.33it/s]"
     ]
    },
    {
     "name": "stdout",
     "output_type": "stream",
     "text": [
      "[==========================                        ] 53.78%"
     ]
    },
    {
     "name": "stderr",
     "output_type": "stream",
     "text": [
      "\n"
     ]
    },
    {
     "name": "stdout",
     "output_type": "stream",
     "text": [
      "\n",
      "Testing pipeline_2D_thr_0.8_norm_minmax_3_10 pipeline\n"
     ]
    },
    {
     "name": "stderr",
     "output_type": "stream",
     "text": [
      "100%|██████████| 19/19 [00:00<00:00, 3896.91it/s]"
     ]
    },
    {
     "name": "stdout",
     "output_type": "stream",
     "text": [
      "[==========================                        ] 53.84%"
     ]
    },
    {
     "name": "stderr",
     "output_type": "stream",
     "text": [
      "\n"
     ]
    },
    {
     "name": "stdout",
     "output_type": "stream",
     "text": [
      "\n",
      "Testing pipeline_2D_thr_0.8_norm_minmax_3_11 pipeline\n"
     ]
    },
    {
     "name": "stderr",
     "output_type": "stream",
     "text": [
      "100%|██████████| 19/19 [00:00<00:00, 3383.65it/s]"
     ]
    },
    {
     "name": "stdout",
     "output_type": "stream",
     "text": [
      "[==========================                        ] 53.91%"
     ]
    },
    {
     "name": "stderr",
     "output_type": "stream",
     "text": [
      "\n"
     ]
    },
    {
     "name": "stdout",
     "output_type": "stream",
     "text": [
      "\n",
      "Testing pipeline_2D_thr_0.8_norm_minmax_3_12 pipeline\n"
     ]
    },
    {
     "name": "stderr",
     "output_type": "stream",
     "text": [
      "100%|██████████| 19/19 [00:00<00:00, 3864.03it/s]"
     ]
    },
    {
     "name": "stdout",
     "output_type": "stream",
     "text": [
      "[==========================                        ] 53.97%"
     ]
    },
    {
     "name": "stderr",
     "output_type": "stream",
     "text": [
      "\n"
     ]
    },
    {
     "name": "stdout",
     "output_type": "stream",
     "text": [
      "\n",
      "Testing pipeline_2D_thr_0.8_norm_minmax_3_13 pipeline\n"
     ]
    },
    {
     "name": "stderr",
     "output_type": "stream",
     "text": [
      "100%|██████████| 19/19 [00:00<00:00, 4928.98it/s]"
     ]
    },
    {
     "name": "stdout",
     "output_type": "stream",
     "text": [
      "[===========================                       ] 54.04%"
     ]
    },
    {
     "name": "stderr",
     "output_type": "stream",
     "text": [
      "\n"
     ]
    },
    {
     "name": "stdout",
     "output_type": "stream",
     "text": [
      "\n",
      "Testing pipeline_2D_thr_0.8_norm_minmax_3_14 pipeline\n"
     ]
    },
    {
     "name": "stderr",
     "output_type": "stream",
     "text": [
      "100%|██████████| 19/19 [00:00<00:00, 4335.55it/s]"
     ]
    },
    {
     "name": "stdout",
     "output_type": "stream",
     "text": [
      "[===========================                       ] 54.10%"
     ]
    },
    {
     "name": "stderr",
     "output_type": "stream",
     "text": [
      "\n"
     ]
    },
    {
     "name": "stdout",
     "output_type": "stream",
     "text": [
      "\n",
      "Testing pipeline_2D_thr_0.8_norm_minmax_3_15 pipeline\n"
     ]
    },
    {
     "name": "stderr",
     "output_type": "stream",
     "text": [
      "100%|██████████| 19/19 [00:00<00:00, 4777.68it/s]"
     ]
    },
    {
     "name": "stdout",
     "output_type": "stream",
     "text": [
      "[===========================                       ] 54.17%"
     ]
    },
    {
     "name": "stderr",
     "output_type": "stream",
     "text": [
      "\n"
     ]
    },
    {
     "name": "stdout",
     "output_type": "stream",
     "text": [
      "\n",
      "Testing pipeline_2D_thr_0.8_norm_percentile_0_0 pipeline\n"
     ]
    },
    {
     "name": "stderr",
     "output_type": "stream",
     "text": [
      "100%|██████████| 19/19 [00:00<00:00, 4890.57it/s]"
     ]
    },
    {
     "name": "stdout",
     "output_type": "stream",
     "text": [
      "[===========================                       ] 54.23%"
     ]
    },
    {
     "name": "stderr",
     "output_type": "stream",
     "text": [
      "\n"
     ]
    },
    {
     "name": "stdout",
     "output_type": "stream",
     "text": [
      "\n",
      "Testing pipeline_2D_thr_0.8_norm_percentile_0_1 pipeline\n"
     ]
    },
    {
     "name": "stderr",
     "output_type": "stream",
     "text": [
      "100%|██████████| 19/19 [00:00<00:00, 4824.83it/s]"
     ]
    },
    {
     "name": "stdout",
     "output_type": "stream",
     "text": [
      "[===========================                       ] 54.30%"
     ]
    },
    {
     "name": "stderr",
     "output_type": "stream",
     "text": [
      "\n"
     ]
    },
    {
     "name": "stdout",
     "output_type": "stream",
     "text": [
      "\n",
      "Testing pipeline_2D_thr_0.8_norm_percentile_0_2 pipeline\n"
     ]
    },
    {
     "name": "stderr",
     "output_type": "stream",
     "text": [
      "100%|██████████| 19/19 [00:00<00:00, 3526.18it/s]"
     ]
    },
    {
     "name": "stdout",
     "output_type": "stream",
     "text": [
      "[===========================                       ] 54.36%"
     ]
    },
    {
     "name": "stderr",
     "output_type": "stream",
     "text": [
      "\n"
     ]
    },
    {
     "name": "stdout",
     "output_type": "stream",
     "text": [
      "\n",
      "Testing pipeline_2D_thr_0.8_norm_percentile_0_3 pipeline\n"
     ]
    },
    {
     "name": "stderr",
     "output_type": "stream",
     "text": [
      "100%|██████████| 19/19 [00:00<00:00, 3586.17it/s]"
     ]
    },
    {
     "name": "stdout",
     "output_type": "stream",
     "text": [
      "[===========================                       ] 54.43%"
     ]
    },
    {
     "name": "stderr",
     "output_type": "stream",
     "text": [
      "\n"
     ]
    },
    {
     "name": "stdout",
     "output_type": "stream",
     "text": [
      "\n",
      "Testing pipeline_2D_thr_0.8_norm_percentile_0_4 pipeline\n"
     ]
    },
    {
     "name": "stderr",
     "output_type": "stream",
     "text": [
      "100%|██████████| 19/19 [00:00<00:00, 1484.46it/s]"
     ]
    },
    {
     "name": "stdout",
     "output_type": "stream",
     "text": [
      "[===========================                       ] 54.49%"
     ]
    },
    {
     "name": "stderr",
     "output_type": "stream",
     "text": [
      "\n"
     ]
    },
    {
     "name": "stdout",
     "output_type": "stream",
     "text": [
      "\n",
      "Testing pipeline_2D_thr_0.8_norm_percentile_0_5 pipeline\n"
     ]
    },
    {
     "name": "stderr",
     "output_type": "stream",
     "text": [
      "100%|██████████| 19/19 [00:00<00:00, 3844.46it/s]"
     ]
    },
    {
     "name": "stdout",
     "output_type": "stream",
     "text": [
      "[===========================                       ] 54.56%"
     ]
    },
    {
     "name": "stderr",
     "output_type": "stream",
     "text": [
      "\n"
     ]
    },
    {
     "name": "stdout",
     "output_type": "stream",
     "text": [
      "\n",
      "Testing pipeline_2D_thr_0.8_norm_percentile_0_6 pipeline\n"
     ]
    },
    {
     "name": "stderr",
     "output_type": "stream",
     "text": [
      "100%|██████████| 19/19 [00:00<00:00, 3534.79it/s]"
     ]
    },
    {
     "name": "stdout",
     "output_type": "stream",
     "text": [
      "[===========================                       ] 54.62%"
     ]
    },
    {
     "name": "stderr",
     "output_type": "stream",
     "text": [
      "\n"
     ]
    },
    {
     "name": "stdout",
     "output_type": "stream",
     "text": [
      "\n",
      "Testing pipeline_2D_thr_0.8_norm_percentile_0_7 pipeline\n"
     ]
    },
    {
     "name": "stderr",
     "output_type": "stream",
     "text": [
      "100%|██████████| 19/19 [00:00<00:00, 3451.06it/s]"
     ]
    },
    {
     "name": "stdout",
     "output_type": "stream",
     "text": [
      "[===========================                       ] 54.69%"
     ]
    },
    {
     "name": "stderr",
     "output_type": "stream",
     "text": [
      "\n"
     ]
    },
    {
     "name": "stdout",
     "output_type": "stream",
     "text": [
      "\n",
      "Testing pipeline_2D_thr_0.8_norm_percentile_0_8 pipeline\n"
     ]
    },
    {
     "name": "stderr",
     "output_type": "stream",
     "text": [
      "100%|██████████| 19/19 [00:00<00:00, 5210.32it/s]"
     ]
    },
    {
     "name": "stdout",
     "output_type": "stream",
     "text": [
      "[===========================                       ] 54.75%"
     ]
    },
    {
     "name": "stderr",
     "output_type": "stream",
     "text": [
      "\n"
     ]
    },
    {
     "name": "stdout",
     "output_type": "stream",
     "text": [
      "\n",
      "Testing pipeline_2D_thr_0.8_norm_percentile_0_9 pipeline\n"
     ]
    },
    {
     "name": "stderr",
     "output_type": "stream",
     "text": [
      "100%|██████████| 19/19 [00:00<00:00, 4650.55it/s]"
     ]
    },
    {
     "name": "stdout",
     "output_type": "stream",
     "text": [
      "[===========================                       ] 54.82%"
     ]
    },
    {
     "name": "stderr",
     "output_type": "stream",
     "text": [
      "\n"
     ]
    },
    {
     "name": "stdout",
     "output_type": "stream",
     "text": [
      "\n",
      "Testing pipeline_2D_thr_0.8_norm_percentile_0_10 pipeline\n"
     ]
    },
    {
     "name": "stderr",
     "output_type": "stream",
     "text": [
      "100%|██████████| 19/19 [00:00<00:00, 4047.53it/s]"
     ]
    },
    {
     "name": "stdout",
     "output_type": "stream",
     "text": [
      "[===========================                       ] 54.88%"
     ]
    },
    {
     "name": "stderr",
     "output_type": "stream",
     "text": [
      "\n"
     ]
    },
    {
     "name": "stdout",
     "output_type": "stream",
     "text": [
      "\n",
      "Testing pipeline_2D_thr_0.8_norm_percentile_0_11 pipeline\n"
     ]
    },
    {
     "name": "stderr",
     "output_type": "stream",
     "text": [
      "100%|██████████| 19/19 [00:00<00:00, 4920.46it/s]"
     ]
    },
    {
     "name": "stdout",
     "output_type": "stream",
     "text": [
      "[===========================                       ] 54.95%"
     ]
    },
    {
     "name": "stderr",
     "output_type": "stream",
     "text": [
      "\n"
     ]
    },
    {
     "name": "stdout",
     "output_type": "stream",
     "text": [
      "\n",
      "Testing pipeline_2D_thr_0.8_norm_percentile_0_12 pipeline\n"
     ]
    },
    {
     "name": "stderr",
     "output_type": "stream",
     "text": [
      "100%|██████████| 19/19 [00:00<00:00, 4100.21it/s]"
     ]
    },
    {
     "name": "stdout",
     "output_type": "stream",
     "text": [
      "[===========================                       ] 55.01%"
     ]
    },
    {
     "name": "stderr",
     "output_type": "stream",
     "text": [
      "\n"
     ]
    },
    {
     "name": "stdout",
     "output_type": "stream",
     "text": [
      "\n",
      "Testing pipeline_2D_thr_0.8_norm_percentile_0_13 pipeline\n"
     ]
    },
    {
     "name": "stderr",
     "output_type": "stream",
     "text": [
      "100%|██████████| 19/19 [00:00<00:00, 3597.66it/s]"
     ]
    },
    {
     "name": "stdout",
     "output_type": "stream",
     "text": [
      "[===========================                       ] 55.08%"
     ]
    },
    {
     "name": "stderr",
     "output_type": "stream",
     "text": [
      "\n"
     ]
    },
    {
     "name": "stdout",
     "output_type": "stream",
     "text": [
      "\n",
      "Testing pipeline_2D_thr_0.8_norm_percentile_0_14 pipeline\n"
     ]
    },
    {
     "name": "stderr",
     "output_type": "stream",
     "text": [
      "100%|██████████| 19/19 [00:00<00:00, 3532.44it/s]"
     ]
    },
    {
     "name": "stdout",
     "output_type": "stream",
     "text": [
      "[===========================                       ] 55.14%"
     ]
    },
    {
     "name": "stderr",
     "output_type": "stream",
     "text": [
      "\n"
     ]
    },
    {
     "name": "stdout",
     "output_type": "stream",
     "text": [
      "\n",
      "Testing pipeline_2D_thr_0.8_norm_percentile_0_15 pipeline\n"
     ]
    },
    {
     "name": "stderr",
     "output_type": "stream",
     "text": [
      "100%|██████████| 19/19 [00:00<00:00, 3698.51it/s]"
     ]
    },
    {
     "name": "stdout",
     "output_type": "stream",
     "text": [
      "[===========================                       ] 55.21%"
     ]
    },
    {
     "name": "stderr",
     "output_type": "stream",
     "text": [
      "\n"
     ]
    },
    {
     "name": "stdout",
     "output_type": "stream",
     "text": [
      "\n",
      "Testing pipeline_2D_thr_0.8_norm_percentile_1_0 pipeline\n"
     ]
    },
    {
     "name": "stderr",
     "output_type": "stream",
     "text": [
      "100%|██████████| 19/19 [00:00<00:00, 3679.72it/s]"
     ]
    },
    {
     "name": "stdout",
     "output_type": "stream",
     "text": [
      "[===========================                       ] 55.27%"
     ]
    },
    {
     "name": "stderr",
     "output_type": "stream",
     "text": [
      "\n"
     ]
    },
    {
     "name": "stdout",
     "output_type": "stream",
     "text": [
      "\n",
      "Testing pipeline_2D_thr_0.8_norm_percentile_1_1 pipeline\n"
     ]
    },
    {
     "name": "stderr",
     "output_type": "stream",
     "text": [
      "100%|██████████| 19/19 [00:00<00:00, 4003.40it/s]"
     ]
    },
    {
     "name": "stdout",
     "output_type": "stream",
     "text": [
      "[===========================                       ] 55.34%"
     ]
    },
    {
     "name": "stderr",
     "output_type": "stream",
     "text": [
      "\n"
     ]
    },
    {
     "name": "stdout",
     "output_type": "stream",
     "text": [
      "\n",
      "Testing pipeline_2D_thr_0.8_norm_percentile_1_2 pipeline\n"
     ]
    },
    {
     "name": "stderr",
     "output_type": "stream",
     "text": [
      "100%|██████████| 19/19 [00:00<00:00, 4009.85it/s]"
     ]
    },
    {
     "name": "stdout",
     "output_type": "stream",
     "text": [
      "[===========================                       ] 55.40%"
     ]
    },
    {
     "name": "stderr",
     "output_type": "stream",
     "text": [
      "\n"
     ]
    },
    {
     "name": "stdout",
     "output_type": "stream",
     "text": [
      "\n",
      "Testing pipeline_2D_thr_0.8_norm_percentile_1_3 pipeline\n"
     ]
    },
    {
     "name": "stderr",
     "output_type": "stream",
     "text": [
      "100%|██████████| 19/19 [00:00<00:00, 3459.90it/s]"
     ]
    },
    {
     "name": "stdout",
     "output_type": "stream",
     "text": [
      "[===========================                       ] 55.47%"
     ]
    },
    {
     "name": "stderr",
     "output_type": "stream",
     "text": [
      "\n"
     ]
    },
    {
     "name": "stdout",
     "output_type": "stream",
     "text": [
      "\n",
      "Testing pipeline_2D_thr_0.8_norm_percentile_1_4 pipeline\n"
     ]
    },
    {
     "name": "stderr",
     "output_type": "stream",
     "text": [
      "100%|██████████| 19/19 [00:00<00:00, 3720.96it/s]"
     ]
    },
    {
     "name": "stdout",
     "output_type": "stream",
     "text": [
      "[===========================                       ] 55.53%"
     ]
    },
    {
     "name": "stderr",
     "output_type": "stream",
     "text": [
      "\n"
     ]
    },
    {
     "name": "stdout",
     "output_type": "stream",
     "text": [
      "\n",
      "Testing pipeline_2D_thr_0.8_norm_percentile_1_5 pipeline\n"
     ]
    },
    {
     "name": "stderr",
     "output_type": "stream",
     "text": [
      "100%|██████████| 19/19 [00:00<00:00, 4262.73it/s]"
     ]
    },
    {
     "name": "stdout",
     "output_type": "stream",
     "text": [
      "[===========================                       ] 55.60%"
     ]
    },
    {
     "name": "stderr",
     "output_type": "stream",
     "text": [
      "\n"
     ]
    },
    {
     "name": "stdout",
     "output_type": "stream",
     "text": [
      "\n",
      "Testing pipeline_2D_thr_0.8_norm_percentile_1_6 pipeline\n"
     ]
    },
    {
     "name": "stderr",
     "output_type": "stream",
     "text": [
      "100%|██████████| 19/19 [00:00<00:00, 3416.88it/s]"
     ]
    },
    {
     "name": "stdout",
     "output_type": "stream",
     "text": [
      "[===========================                       ] 55.66%"
     ]
    },
    {
     "name": "stderr",
     "output_type": "stream",
     "text": [
      "\n"
     ]
    },
    {
     "name": "stdout",
     "output_type": "stream",
     "text": [
      "\n",
      "Testing pipeline_2D_thr_0.8_norm_percentile_1_7 pipeline\n"
     ]
    },
    {
     "name": "stderr",
     "output_type": "stream",
     "text": [
      "100%|██████████| 19/19 [00:00<00:00, 4377.71it/s]"
     ]
    },
    {
     "name": "stdout",
     "output_type": "stream",
     "text": [
      "[===========================                       ] 55.73%"
     ]
    },
    {
     "name": "stderr",
     "output_type": "stream",
     "text": [
      "\n"
     ]
    },
    {
     "name": "stdout",
     "output_type": "stream",
     "text": [
      "\n",
      "Testing pipeline_2D_thr_0.8_norm_percentile_1_8 pipeline\n"
     ]
    },
    {
     "name": "stderr",
     "output_type": "stream",
     "text": [
      "100%|██████████| 19/19 [00:00<00:00, 3964.76it/s]"
     ]
    },
    {
     "name": "stdout",
     "output_type": "stream",
     "text": [
      "[===========================                       ] 55.79%"
     ]
    },
    {
     "name": "stderr",
     "output_type": "stream",
     "text": [
      "\n"
     ]
    },
    {
     "name": "stdout",
     "output_type": "stream",
     "text": [
      "\n",
      "Testing pipeline_2D_thr_0.8_norm_percentile_1_9 pipeline\n"
     ]
    },
    {
     "name": "stderr",
     "output_type": "stream",
     "text": [
      "100%|██████████| 19/19 [00:00<00:00, 4054.74it/s]"
     ]
    },
    {
     "name": "stdout",
     "output_type": "stream",
     "text": [
      "[===========================                       ] 55.86%"
     ]
    },
    {
     "name": "stderr",
     "output_type": "stream",
     "text": [
      "\n"
     ]
    },
    {
     "name": "stdout",
     "output_type": "stream",
     "text": [
      "\n",
      "Testing pipeline_2D_thr_0.8_norm_percentile_1_10 pipeline\n"
     ]
    },
    {
     "name": "stderr",
     "output_type": "stream",
     "text": [
      "100%|██████████| 19/19 [00:00<00:00, 2761.51it/s]"
     ]
    },
    {
     "name": "stdout",
     "output_type": "stream",
     "text": [
      "[===========================                       ] 55.92%"
     ]
    },
    {
     "name": "stderr",
     "output_type": "stream",
     "text": [
      "\n"
     ]
    },
    {
     "name": "stdout",
     "output_type": "stream",
     "text": [
      "\n",
      "Testing pipeline_2D_thr_0.8_norm_percentile_1_11 pipeline\n"
     ]
    },
    {
     "name": "stderr",
     "output_type": "stream",
     "text": [
      "100%|██████████| 19/19 [00:00<00:00, 4382.76it/s]"
     ]
    },
    {
     "name": "stdout",
     "output_type": "stream",
     "text": [
      "[===========================                       ] 55.99%"
     ]
    },
    {
     "name": "stderr",
     "output_type": "stream",
     "text": [
      "\n"
     ]
    },
    {
     "name": "stdout",
     "output_type": "stream",
     "text": [
      "\n",
      "Testing pipeline_2D_thr_0.8_norm_percentile_1_12 pipeline\n"
     ]
    },
    {
     "name": "stderr",
     "output_type": "stream",
     "text": [
      "100%|██████████| 19/19 [00:00<00:00, 4611.53it/s]"
     ]
    },
    {
     "name": "stdout",
     "output_type": "stream",
     "text": [
      "[============================                      ] 56.05%"
     ]
    },
    {
     "name": "stderr",
     "output_type": "stream",
     "text": [
      "\n"
     ]
    },
    {
     "name": "stdout",
     "output_type": "stream",
     "text": [
      "\n",
      "Testing pipeline_2D_thr_0.8_norm_percentile_1_13 pipeline\n"
     ]
    },
    {
     "name": "stderr",
     "output_type": "stream",
     "text": [
      "100%|██████████| 19/19 [00:00<00:00, 4391.70it/s]"
     ]
    },
    {
     "name": "stdout",
     "output_type": "stream",
     "text": [
      "[============================                      ] 56.12%"
     ]
    },
    {
     "name": "stderr",
     "output_type": "stream",
     "text": [
      "\n"
     ]
    },
    {
     "name": "stdout",
     "output_type": "stream",
     "text": [
      "\n",
      "Testing pipeline_2D_thr_0.8_norm_percentile_1_14 pipeline\n"
     ]
    },
    {
     "name": "stderr",
     "output_type": "stream",
     "text": [
      "100%|██████████| 19/19 [00:00<00:00, 2793.65it/s]"
     ]
    },
    {
     "name": "stdout",
     "output_type": "stream",
     "text": [
      "[============================                      ] 56.18%"
     ]
    },
    {
     "name": "stderr",
     "output_type": "stream",
     "text": [
      "\n"
     ]
    },
    {
     "name": "stdout",
     "output_type": "stream",
     "text": [
      "\n",
      "Testing pipeline_2D_thr_0.8_norm_percentile_1_15 pipeline\n"
     ]
    },
    {
     "name": "stderr",
     "output_type": "stream",
     "text": [
      "100%|██████████| 19/19 [00:00<00:00, 4766.25it/s]"
     ]
    },
    {
     "name": "stdout",
     "output_type": "stream",
     "text": [
      "[============================                      ] 56.25%"
     ]
    },
    {
     "name": "stderr",
     "output_type": "stream",
     "text": [
      "\n"
     ]
    },
    {
     "name": "stdout",
     "output_type": "stream",
     "text": [
      "\n",
      "Testing pipeline_2D_thr_0.8_norm_percentile_2_0 pipeline\n"
     ]
    },
    {
     "name": "stderr",
     "output_type": "stream",
     "text": [
      "100%|██████████| 19/19 [00:00<00:00, 3847.80it/s]"
     ]
    },
    {
     "name": "stdout",
     "output_type": "stream",
     "text": [
      "[============================                      ] 56.32%"
     ]
    },
    {
     "name": "stderr",
     "output_type": "stream",
     "text": [
      "\n"
     ]
    },
    {
     "name": "stdout",
     "output_type": "stream",
     "text": [
      "\n",
      "Testing pipeline_2D_thr_0.8_norm_percentile_2_1 pipeline\n"
     ]
    },
    {
     "name": "stderr",
     "output_type": "stream",
     "text": [
      "100%|██████████| 19/19 [00:00<00:00, 2437.80it/s]"
     ]
    },
    {
     "name": "stdout",
     "output_type": "stream",
     "text": [
      "[============================                      ] 56.38%"
     ]
    },
    {
     "name": "stderr",
     "output_type": "stream",
     "text": [
      "\n"
     ]
    },
    {
     "name": "stdout",
     "output_type": "stream",
     "text": [
      "\n",
      "Testing pipeline_2D_thr_0.8_norm_percentile_2_2 pipeline\n"
     ]
    },
    {
     "name": "stderr",
     "output_type": "stream",
     "text": [
      "100%|██████████| 19/19 [00:00<00:00, 3235.69it/s]"
     ]
    },
    {
     "name": "stdout",
     "output_type": "stream",
     "text": [
      "[============================                      ] 56.45%"
     ]
    },
    {
     "name": "stderr",
     "output_type": "stream",
     "text": [
      "\n"
     ]
    },
    {
     "name": "stdout",
     "output_type": "stream",
     "text": [
      "\n",
      "Testing pipeline_2D_thr_0.8_norm_percentile_2_3 pipeline\n"
     ]
    },
    {
     "name": "stderr",
     "output_type": "stream",
     "text": [
      "100%|██████████| 19/19 [00:00<00:00, 4566.60it/s]"
     ]
    },
    {
     "name": "stdout",
     "output_type": "stream",
     "text": [
      "[============================                      ] 56.51%"
     ]
    },
    {
     "name": "stderr",
     "output_type": "stream",
     "text": [
      "\n"
     ]
    },
    {
     "name": "stdout",
     "output_type": "stream",
     "text": [
      "\n",
      "Testing pipeline_2D_thr_0.8_norm_percentile_2_4 pipeline\n"
     ]
    },
    {
     "name": "stderr",
     "output_type": "stream",
     "text": [
      "100%|██████████| 19/19 [00:00<00:00, 2410.74it/s]"
     ]
    },
    {
     "name": "stdout",
     "output_type": "stream",
     "text": [
      "[============================                      ] 56.58%"
     ]
    },
    {
     "name": "stderr",
     "output_type": "stream",
     "text": [
      "\n"
     ]
    },
    {
     "name": "stdout",
     "output_type": "stream",
     "text": [
      "\n",
      "Testing pipeline_2D_thr_0.8_norm_percentile_2_5 pipeline\n"
     ]
    },
    {
     "name": "stderr",
     "output_type": "stream",
     "text": [
      "100%|██████████| 19/19 [00:00<00:00, 3147.38it/s]"
     ]
    },
    {
     "name": "stdout",
     "output_type": "stream",
     "text": [
      "[============================                      ] 56.64%"
     ]
    },
    {
     "name": "stderr",
     "output_type": "stream",
     "text": [
      "\n"
     ]
    },
    {
     "name": "stdout",
     "output_type": "stream",
     "text": [
      "\n",
      "Testing pipeline_2D_thr_0.8_norm_percentile_2_6 pipeline\n"
     ]
    },
    {
     "name": "stderr",
     "output_type": "stream",
     "text": [
      "100%|██████████| 19/19 [00:00<00:00, 3647.55it/s]"
     ]
    },
    {
     "name": "stdout",
     "output_type": "stream",
     "text": [
      "[============================                      ] 56.71%"
     ]
    },
    {
     "name": "stderr",
     "output_type": "stream",
     "text": [
      "\n"
     ]
    },
    {
     "name": "stdout",
     "output_type": "stream",
     "text": [
      "\n",
      "Testing pipeline_2D_thr_0.8_norm_percentile_2_7 pipeline\n"
     ]
    },
    {
     "name": "stderr",
     "output_type": "stream",
     "text": [
      "100%|██████████| 19/19 [00:00<00:00, 4260.68it/s]"
     ]
    },
    {
     "name": "stdout",
     "output_type": "stream",
     "text": [
      "[============================                      ] 56.77%"
     ]
    },
    {
     "name": "stderr",
     "output_type": "stream",
     "text": [
      "\n"
     ]
    },
    {
     "name": "stdout",
     "output_type": "stream",
     "text": [
      "\n",
      "Testing pipeline_2D_thr_0.8_norm_percentile_2_8 pipeline\n"
     ]
    },
    {
     "name": "stderr",
     "output_type": "stream",
     "text": [
      "100%|██████████| 19/19 [00:00<00:00, 4587.11it/s]"
     ]
    },
    {
     "name": "stdout",
     "output_type": "stream",
     "text": [
      "[============================                      ] 56.84%"
     ]
    },
    {
     "name": "stderr",
     "output_type": "stream",
     "text": [
      "\n"
     ]
    },
    {
     "name": "stdout",
     "output_type": "stream",
     "text": [
      "\n",
      "Testing pipeline_2D_thr_0.8_norm_percentile_2_9 pipeline\n"
     ]
    },
    {
     "name": "stderr",
     "output_type": "stream",
     "text": [
      "100%|██████████| 19/19 [00:00<00:00, 4122.06it/s]"
     ]
    },
    {
     "name": "stdout",
     "output_type": "stream",
     "text": [
      "[============================                      ] 56.90%"
     ]
    },
    {
     "name": "stderr",
     "output_type": "stream",
     "text": [
      "\n"
     ]
    },
    {
     "name": "stdout",
     "output_type": "stream",
     "text": [
      "\n",
      "Testing pipeline_2D_thr_0.8_norm_percentile_2_10 pipeline\n"
     ]
    },
    {
     "name": "stderr",
     "output_type": "stream",
     "text": [
      "100%|██████████| 19/19 [00:00<00:00, 3871.54it/s]"
     ]
    },
    {
     "name": "stdout",
     "output_type": "stream",
     "text": [
      "[============================                      ] 56.97%"
     ]
    },
    {
     "name": "stderr",
     "output_type": "stream",
     "text": [
      "\n"
     ]
    },
    {
     "name": "stdout",
     "output_type": "stream",
     "text": [
      "\n",
      "Testing pipeline_2D_thr_0.8_norm_percentile_2_11 pipeline\n"
     ]
    },
    {
     "name": "stderr",
     "output_type": "stream",
     "text": [
      "100%|██████████| 19/19 [00:00<00:00, 3118.81it/s]"
     ]
    },
    {
     "name": "stdout",
     "output_type": "stream",
     "text": [
      "[============================                      ] 57.03%"
     ]
    },
    {
     "name": "stderr",
     "output_type": "stream",
     "text": [
      "\n"
     ]
    },
    {
     "name": "stdout",
     "output_type": "stream",
     "text": [
      "\n",
      "Testing pipeline_2D_thr_0.8_norm_percentile_2_12 pipeline\n"
     ]
    },
    {
     "name": "stderr",
     "output_type": "stream",
     "text": [
      "100%|██████████| 19/19 [00:00<00:00, 3763.48it/s]"
     ]
    },
    {
     "name": "stdout",
     "output_type": "stream",
     "text": [
      "[============================                      ] 57.10%"
     ]
    },
    {
     "name": "stderr",
     "output_type": "stream",
     "text": [
      "\n"
     ]
    },
    {
     "name": "stdout",
     "output_type": "stream",
     "text": [
      "\n",
      "Testing pipeline_2D_thr_0.8_norm_percentile_2_13 pipeline\n"
     ]
    },
    {
     "name": "stderr",
     "output_type": "stream",
     "text": [
      "100%|██████████| 19/19 [00:00<00:00, 4508.22it/s]"
     ]
    },
    {
     "name": "stdout",
     "output_type": "stream",
     "text": [
      "[============================                      ] 57.16%"
     ]
    },
    {
     "name": "stderr",
     "output_type": "stream",
     "text": [
      "\n"
     ]
    },
    {
     "name": "stdout",
     "output_type": "stream",
     "text": [
      "\n",
      "Testing pipeline_2D_thr_0.8_norm_percentile_2_14 pipeline\n"
     ]
    },
    {
     "name": "stderr",
     "output_type": "stream",
     "text": [
      "100%|██████████| 19/19 [00:00<00:00, 4008.24it/s]"
     ]
    },
    {
     "name": "stdout",
     "output_type": "stream",
     "text": [
      "[============================                      ] 57.23%"
     ]
    },
    {
     "name": "stderr",
     "output_type": "stream",
     "text": [
      "\n"
     ]
    },
    {
     "name": "stdout",
     "output_type": "stream",
     "text": [
      "\n",
      "Testing pipeline_2D_thr_0.8_norm_percentile_2_15 pipeline\n"
     ]
    },
    {
     "name": "stderr",
     "output_type": "stream",
     "text": [
      "100%|██████████| 19/19 [00:00<00:00, 4566.34it/s]"
     ]
    },
    {
     "name": "stdout",
     "output_type": "stream",
     "text": [
      "[============================                      ] 57.29%"
     ]
    },
    {
     "name": "stderr",
     "output_type": "stream",
     "text": [
      "\n"
     ]
    },
    {
     "name": "stdout",
     "output_type": "stream",
     "text": [
      "\n",
      "Testing pipeline_2D_thr_0.8_norm_percentile_3_0 pipeline\n"
     ]
    },
    {
     "name": "stderr",
     "output_type": "stream",
     "text": [
      "100%|██████████| 19/19 [00:00<00:00, 4123.77it/s]"
     ]
    },
    {
     "name": "stdout",
     "output_type": "stream",
     "text": [
      "[============================                      ] 57.36%"
     ]
    },
    {
     "name": "stderr",
     "output_type": "stream",
     "text": [
      "\n"
     ]
    },
    {
     "name": "stdout",
     "output_type": "stream",
     "text": [
      "\n",
      "Testing pipeline_2D_thr_0.8_norm_percentile_3_1 pipeline\n"
     ]
    },
    {
     "name": "stderr",
     "output_type": "stream",
     "text": [
      "100%|██████████| 19/19 [00:00<00:00, 3796.47it/s]"
     ]
    },
    {
     "name": "stdout",
     "output_type": "stream",
     "text": [
      "[============================                      ] 57.42%"
     ]
    },
    {
     "name": "stderr",
     "output_type": "stream",
     "text": [
      "\n"
     ]
    },
    {
     "name": "stdout",
     "output_type": "stream",
     "text": [
      "\n",
      "Testing pipeline_2D_thr_0.8_norm_percentile_3_2 pipeline\n"
     ]
    },
    {
     "name": "stderr",
     "output_type": "stream",
     "text": [
      "100%|██████████| 19/19 [00:00<00:00, 3217.66it/s]"
     ]
    },
    {
     "name": "stdout",
     "output_type": "stream",
     "text": [
      "[============================                      ] 57.49%"
     ]
    },
    {
     "name": "stderr",
     "output_type": "stream",
     "text": [
      "\n"
     ]
    },
    {
     "name": "stdout",
     "output_type": "stream",
     "text": [
      "\n",
      "Testing pipeline_2D_thr_0.8_norm_percentile_3_3 pipeline\n"
     ]
    },
    {
     "name": "stderr",
     "output_type": "stream",
     "text": [
      "100%|██████████| 19/19 [00:00<00:00, 3674.97it/s]"
     ]
    },
    {
     "name": "stdout",
     "output_type": "stream",
     "text": [
      "[============================                      ] 57.55%"
     ]
    },
    {
     "name": "stderr",
     "output_type": "stream",
     "text": [
      "\n"
     ]
    },
    {
     "name": "stdout",
     "output_type": "stream",
     "text": [
      "\n",
      "Testing pipeline_2D_thr_0.8_norm_percentile_3_4 pipeline\n"
     ]
    },
    {
     "name": "stderr",
     "output_type": "stream",
     "text": [
      "100%|██████████| 19/19 [00:00<00:00, 3851.15it/s]"
     ]
    },
    {
     "name": "stdout",
     "output_type": "stream",
     "text": [
      "[============================                      ] 57.62%"
     ]
    },
    {
     "name": "stderr",
     "output_type": "stream",
     "text": [
      "\n"
     ]
    },
    {
     "name": "stdout",
     "output_type": "stream",
     "text": [
      "\n",
      "Testing pipeline_2D_thr_0.8_norm_percentile_3_5 pipeline\n"
     ]
    },
    {
     "name": "stderr",
     "output_type": "stream",
     "text": [
      "100%|██████████| 19/19 [00:00<00:00, 4264.33it/s]"
     ]
    },
    {
     "name": "stdout",
     "output_type": "stream",
     "text": [
      "[============================                      ] 57.68%"
     ]
    },
    {
     "name": "stderr",
     "output_type": "stream",
     "text": [
      "\n"
     ]
    },
    {
     "name": "stdout",
     "output_type": "stream",
     "text": [
      "\n",
      "Testing pipeline_2D_thr_0.8_norm_percentile_3_6 pipeline\n"
     ]
    },
    {
     "name": "stderr",
     "output_type": "stream",
     "text": [
      "100%|██████████| 19/19 [00:00<00:00, 4034.82it/s]"
     ]
    },
    {
     "name": "stdout",
     "output_type": "stream",
     "text": [
      "[============================                      ] 57.75%"
     ]
    },
    {
     "name": "stderr",
     "output_type": "stream",
     "text": [
      "\n"
     ]
    },
    {
     "name": "stdout",
     "output_type": "stream",
     "text": [
      "\n",
      "Testing pipeline_2D_thr_0.8_norm_percentile_3_7 pipeline\n"
     ]
    },
    {
     "name": "stderr",
     "output_type": "stream",
     "text": [
      "100%|██████████| 19/19 [00:00<00:00, 3093.74it/s]"
     ]
    },
    {
     "name": "stdout",
     "output_type": "stream",
     "text": [
      "[============================                      ] 57.81%"
     ]
    },
    {
     "name": "stderr",
     "output_type": "stream",
     "text": [
      "\n"
     ]
    },
    {
     "name": "stdout",
     "output_type": "stream",
     "text": [
      "\n",
      "Testing pipeline_2D_thr_0.8_norm_percentile_3_8 pipeline\n"
     ]
    },
    {
     "name": "stderr",
     "output_type": "stream",
     "text": [
      "100%|██████████| 19/19 [00:00<00:00, 3121.50it/s]"
     ]
    },
    {
     "name": "stdout",
     "output_type": "stream",
     "text": [
      "[============================                      ] 57.88%"
     ]
    },
    {
     "name": "stderr",
     "output_type": "stream",
     "text": [
      "\n"
     ]
    },
    {
     "name": "stdout",
     "output_type": "stream",
     "text": [
      "\n",
      "Testing pipeline_2D_thr_0.8_norm_percentile_3_9 pipeline\n"
     ]
    },
    {
     "name": "stderr",
     "output_type": "stream",
     "text": [
      "100%|██████████| 19/19 [00:00<00:00, 3923.96it/s]"
     ]
    },
    {
     "name": "stdout",
     "output_type": "stream",
     "text": [
      "[============================                      ] 57.94%"
     ]
    },
    {
     "name": "stderr",
     "output_type": "stream",
     "text": [
      "\n"
     ]
    },
    {
     "name": "stdout",
     "output_type": "stream",
     "text": [
      "\n",
      "Testing pipeline_2D_thr_0.8_norm_percentile_3_10 pipeline\n"
     ]
    },
    {
     "name": "stderr",
     "output_type": "stream",
     "text": [
      "100%|██████████| 19/19 [00:00<00:00, 3491.27it/s]"
     ]
    },
    {
     "name": "stdout",
     "output_type": "stream",
     "text": [
      "[=============================                     ] 58.01%"
     ]
    },
    {
     "name": "stderr",
     "output_type": "stream",
     "text": [
      "\n"
     ]
    },
    {
     "name": "stdout",
     "output_type": "stream",
     "text": [
      "\n",
      "Testing pipeline_2D_thr_0.8_norm_percentile_3_11 pipeline\n"
     ]
    },
    {
     "name": "stderr",
     "output_type": "stream",
     "text": [
      "100%|██████████| 19/19 [00:00<00:00, 3610.05it/s]"
     ]
    },
    {
     "name": "stdout",
     "output_type": "stream",
     "text": [
      "[=============================                     ] 58.07%"
     ]
    },
    {
     "name": "stderr",
     "output_type": "stream",
     "text": [
      "\n"
     ]
    },
    {
     "name": "stdout",
     "output_type": "stream",
     "text": [
      "\n",
      "Testing pipeline_2D_thr_0.8_norm_percentile_3_12 pipeline\n"
     ]
    },
    {
     "name": "stderr",
     "output_type": "stream",
     "text": [
      "100%|██████████| 19/19 [00:00<00:00, 2632.96it/s]"
     ]
    },
    {
     "name": "stdout",
     "output_type": "stream",
     "text": [
      "[=============================                     ] 58.14%"
     ]
    },
    {
     "name": "stderr",
     "output_type": "stream",
     "text": [
      "\n"
     ]
    },
    {
     "name": "stdout",
     "output_type": "stream",
     "text": [
      "\n",
      "Testing pipeline_2D_thr_0.8_norm_percentile_3_13 pipeline\n"
     ]
    },
    {
     "name": "stderr",
     "output_type": "stream",
     "text": [
      "100%|██████████| 19/19 [00:00<00:00, 3017.37it/s]"
     ]
    },
    {
     "name": "stdout",
     "output_type": "stream",
     "text": [
      "[=============================                     ] 58.20%"
     ]
    },
    {
     "name": "stderr",
     "output_type": "stream",
     "text": [
      "\n"
     ]
    },
    {
     "name": "stdout",
     "output_type": "stream",
     "text": [
      "\n",
      "Testing pipeline_2D_thr_0.8_norm_percentile_3_14 pipeline\n"
     ]
    },
    {
     "name": "stderr",
     "output_type": "stream",
     "text": [
      "100%|██████████| 19/19 [00:00<00:00, 3685.34it/s]"
     ]
    },
    {
     "name": "stdout",
     "output_type": "stream",
     "text": [
      "[=============================                     ] 58.27%"
     ]
    },
    {
     "name": "stderr",
     "output_type": "stream",
     "text": [
      "\n"
     ]
    },
    {
     "name": "stdout",
     "output_type": "stream",
     "text": [
      "\n",
      "Testing pipeline_2D_thr_0.8_norm_percentile_3_15 pipeline\n"
     ]
    },
    {
     "name": "stderr",
     "output_type": "stream",
     "text": [
      "100%|██████████| 19/19 [00:00<00:00, 4390.01it/s]"
     ]
    },
    {
     "name": "stdout",
     "output_type": "stream",
     "text": [
      "[=============================                     ] 58.33%"
     ]
    },
    {
     "name": "stderr",
     "output_type": "stream",
     "text": [
      "\n"
     ]
    },
    {
     "name": "stdout",
     "output_type": "stream",
     "text": [
      "\n",
      "Testing pipeline_3D_prob0.0_norm_minmax_0_0 pipeline\n",
      "[=============================                     ] 58.40%\n",
      "Testing pipeline_3D_prob0.0_norm_minmax_0_1 pipeline\n",
      "[=============================                     ] 58.46%\n",
      "Testing pipeline_3D_prob0.0_norm_minmax_0_2 pipeline\n",
      "[=============================                     ] 58.53%\n",
      "Testing pipeline_3D_prob0.0_norm_minmax_0_3 pipeline\n",
      "[=============================                     ] 58.59%\n",
      "Testing pipeline_3D_prob0.0_norm_minmax_0_4 pipeline\n",
      "[=============================                     ] 58.66%\n",
      "Testing pipeline_3D_prob0.0_norm_minmax_0_5 pipeline\n",
      "[=============================                     ] 58.72%\n",
      "Testing pipeline_3D_prob0.0_norm_minmax_0_6 pipeline\n",
      "[=============================                     ] 58.79%\n",
      "Testing pipeline_3D_prob0.0_norm_minmax_0_7 pipeline\n",
      "[=============================                     ] 58.85%\n",
      "Testing pipeline_3D_prob0.0_norm_minmax_0_8 pipeline\n",
      "[=============================                     ] 58.92%\n",
      "Testing pipeline_3D_prob0.0_norm_minmax_0_9 pipeline\n",
      "[=============================                     ] 58.98%\n",
      "Testing pipeline_3D_prob0.0_norm_minmax_0_10 pipeline\n",
      "[=============================                     ] 59.05%\n",
      "Testing pipeline_3D_prob0.0_norm_minmax_0_11 pipeline\n",
      "[=============================                     ] 59.11%\n",
      "Testing pipeline_3D_prob0.0_norm_minmax_0_12 pipeline\n",
      "[=============================                     ] 59.18%\n",
      "Testing pipeline_3D_prob0.0_norm_minmax_0_13 pipeline\n",
      "[=============================                     ] 59.24%\n",
      "Testing pipeline_3D_prob0.0_norm_minmax_0_14 pipeline\n",
      "[=============================                     ] 59.31%\n",
      "Testing pipeline_3D_prob0.0_norm_minmax_0_15 pipeline\n",
      "[=============================                     ] 59.38%\n",
      "Testing pipeline_3D_prob0.0_norm_minmax_1_0 pipeline\n",
      "[=============================                     ] 59.44%\n",
      "Testing pipeline_3D_prob0.0_norm_minmax_1_1 pipeline\n",
      "[=============================                     ] 59.51%\n",
      "Testing pipeline_3D_prob0.0_norm_minmax_1_2 pipeline\n",
      "[=============================                     ] 59.57%\n",
      "Testing pipeline_3D_prob0.0_norm_minmax_1_3 pipeline\n",
      "[=============================                     ] 59.64%\n",
      "Testing pipeline_3D_prob0.0_norm_minmax_1_4 pipeline\n",
      "[=============================                     ] 59.70%\n",
      "Testing pipeline_3D_prob0.0_norm_minmax_1_5 pipeline\n",
      "[=============================                     ] 59.77%\n",
      "Testing pipeline_3D_prob0.0_norm_minmax_1_6 pipeline\n",
      "[=============================                     ] 59.83%\n",
      "Testing pipeline_3D_prob0.0_norm_minmax_1_7 pipeline\n",
      "[=============================                     ] 59.90%\n",
      "Testing pipeline_3D_prob0.0_norm_minmax_1_8 pipeline\n",
      "[=============================                     ] 59.96%\n",
      "Testing pipeline_3D_prob0.0_norm_minmax_1_9 pipeline\n",
      "[==============================                    ] 60.03%\n",
      "Testing pipeline_3D_prob0.0_norm_minmax_1_10 pipeline\n",
      "[==============================                    ] 60.09%\n",
      "Testing pipeline_3D_prob0.0_norm_minmax_1_11 pipeline\n",
      "[==============================                    ] 60.16%\n",
      "Testing pipeline_3D_prob0.0_norm_minmax_1_12 pipeline\n",
      "[==============================                    ] 60.22%\n",
      "Testing pipeline_3D_prob0.0_norm_minmax_1_13 pipeline\n",
      "[==============================                    ] 60.29%\n",
      "Testing pipeline_3D_prob0.0_norm_minmax_1_14 pipeline\n",
      "[==============================                    ] 60.35%\n",
      "Testing pipeline_3D_prob0.0_norm_minmax_1_15 pipeline\n",
      "[==============================                    ] 60.42%\n",
      "Testing pipeline_3D_prob0.0_norm_minmax_2_0 pipeline\n",
      "[==============================                    ] 60.48%\n",
      "Testing pipeline_3D_prob0.0_norm_minmax_2_1 pipeline\n",
      "[==============================                    ] 60.55%\n",
      "Testing pipeline_3D_prob0.0_norm_minmax_2_2 pipeline\n",
      "[==============================                    ] 60.61%\n",
      "Testing pipeline_3D_prob0.0_norm_minmax_2_3 pipeline\n",
      "[==============================                    ] 60.68%\n",
      "Testing pipeline_3D_prob0.0_norm_minmax_2_4 pipeline\n",
      "[==============================                    ] 60.74%\n",
      "Testing pipeline_3D_prob0.0_norm_minmax_2_5 pipeline\n",
      "[==============================                    ] 60.81%\n",
      "Testing pipeline_3D_prob0.0_norm_minmax_2_6 pipeline\n",
      "[==============================                    ] 60.87%\n",
      "Testing pipeline_3D_prob0.0_norm_minmax_2_7 pipeline\n",
      "[==============================                    ] 60.94%\n",
      "Testing pipeline_3D_prob0.0_norm_minmax_2_8 pipeline\n",
      "[==============================                    ] 61.00%\n",
      "Testing pipeline_3D_prob0.0_norm_minmax_2_9 pipeline\n",
      "[==============================                    ] 61.07%\n",
      "Testing pipeline_3D_prob0.0_norm_minmax_2_10 pipeline\n",
      "[==============================                    ] 61.13%\n",
      "Testing pipeline_3D_prob0.0_norm_minmax_2_11 pipeline\n",
      "[==============================                    ] 61.20%\n",
      "Testing pipeline_3D_prob0.0_norm_minmax_2_12 pipeline\n",
      "[==============================                    ] 61.26%\n",
      "Testing pipeline_3D_prob0.0_norm_minmax_2_13 pipeline\n",
      "[==============================                    ] 61.33%\n",
      "Testing pipeline_3D_prob0.0_norm_minmax_2_14 pipeline\n",
      "[==============================                    ] 61.39%\n",
      "Testing pipeline_3D_prob0.0_norm_minmax_2_15 pipeline\n",
      "[==============================                    ] 61.46%\n",
      "Testing pipeline_3D_prob0.0_norm_minmax_3_0 pipeline\n",
      "[==============================                    ] 61.52%\n",
      "Testing pipeline_3D_prob0.0_norm_minmax_3_1 pipeline\n",
      "[==============================                    ] 61.59%\n",
      "Testing pipeline_3D_prob0.0_norm_minmax_3_2 pipeline\n",
      "[==============================                    ] 61.65%\n",
      "Testing pipeline_3D_prob0.0_norm_minmax_3_3 pipeline\n",
      "[==============================                    ] 61.72%\n",
      "Testing pipeline_3D_prob0.0_norm_minmax_3_4 pipeline\n",
      "[==============================                    ] 61.78%\n",
      "Testing pipeline_3D_prob0.0_norm_minmax_3_5 pipeline\n",
      "[==============================                    ] 61.85%\n",
      "Testing pipeline_3D_prob0.0_norm_minmax_3_6 pipeline\n",
      "[==============================                    ] 61.91%\n",
      "Testing pipeline_3D_prob0.0_norm_minmax_3_7 pipeline\n",
      "[==============================                    ] 61.98%\n",
      "Testing pipeline_3D_prob0.0_norm_minmax_3_8 pipeline\n",
      "[===============================                   ] 62.04%\n",
      "Testing pipeline_3D_prob0.0_norm_minmax_3_9 pipeline\n",
      "[===============================                   ] 62.11%\n",
      "Testing pipeline_3D_prob0.0_norm_minmax_3_10 pipeline\n",
      "[===============================                   ] 62.17%\n",
      "Testing pipeline_3D_prob0.0_norm_minmax_3_11 pipeline\n",
      "[===============================                   ] 62.24%\n",
      "Testing pipeline_3D_prob0.0_norm_minmax_3_12 pipeline\n",
      "[===============================                   ] 62.30%\n",
      "Testing pipeline_3D_prob0.0_norm_minmax_3_13 pipeline\n",
      "[===============================                   ] 62.37%\n",
      "Testing pipeline_3D_prob0.0_norm_minmax_3_14 pipeline\n",
      "[===============================                   ] 62.43%\n",
      "Testing pipeline_3D_prob0.0_norm_minmax_3_15 pipeline\n",
      "[===============================                   ] 62.50%\n",
      "Testing pipeline_3D_prob0.1_norm_minmax_0_0 pipeline\n",
      "[===============================                   ] 62.57%\n",
      "Testing pipeline_3D_prob0.1_norm_minmax_0_1 pipeline\n",
      "[===============================                   ] 62.63%\n",
      "Testing pipeline_3D_prob0.1_norm_minmax_0_2 pipeline\n",
      "[===============================                   ] 62.70%\n",
      "Testing pipeline_3D_prob0.1_norm_minmax_0_3 pipeline\n",
      "[===============================                   ] 62.76%\n",
      "Testing pipeline_3D_prob0.1_norm_minmax_0_4 pipeline\n",
      "[===============================                   ] 62.83%\n",
      "Testing pipeline_3D_prob0.1_norm_minmax_0_5 pipeline\n",
      "[===============================                   ] 62.89%\n",
      "Testing pipeline_3D_prob0.1_norm_minmax_0_6 pipeline\n",
      "[===============================                   ] 62.96%\n",
      "Testing pipeline_3D_prob0.1_norm_minmax_0_7 pipeline\n",
      "[===============================                   ] 63.02%\n",
      "Testing pipeline_3D_prob0.1_norm_minmax_0_8 pipeline\n",
      "[===============================                   ] 63.09%\n",
      "Testing pipeline_3D_prob0.1_norm_minmax_0_9 pipeline\n",
      "[===============================                   ] 63.15%\n",
      "Testing pipeline_3D_prob0.1_norm_minmax_0_10 pipeline\n",
      "[===============================                   ] 63.22%\n",
      "Testing pipeline_3D_prob0.1_norm_minmax_0_11 pipeline\n",
      "[===============================                   ] 63.28%\n",
      "Testing pipeline_3D_prob0.1_norm_minmax_0_12 pipeline\n",
      "[===============================                   ] 63.35%\n",
      "Testing pipeline_3D_prob0.1_norm_minmax_0_13 pipeline\n",
      "[===============================                   ] 63.41%\n",
      "Testing pipeline_3D_prob0.1_norm_minmax_0_14 pipeline\n",
      "[===============================                   ] 63.48%\n",
      "Testing pipeline_3D_prob0.1_norm_minmax_0_15 pipeline\n",
      "[===============================                   ] 63.54%\n",
      "Testing pipeline_3D_prob0.1_norm_minmax_1_0 pipeline\n",
      "[===============================                   ] 63.61%\n",
      "Testing pipeline_3D_prob0.1_norm_minmax_1_1 pipeline\n",
      "[===============================                   ] 63.67%\n",
      "Testing pipeline_3D_prob0.1_norm_minmax_1_2 pipeline\n",
      "[===============================                   ] 63.74%\n",
      "Testing pipeline_3D_prob0.1_norm_minmax_1_3 pipeline\n",
      "[===============================                   ] 63.80%\n",
      "Testing pipeline_3D_prob0.1_norm_minmax_1_4 pipeline\n",
      "[===============================                   ] 63.87%\n",
      "Testing pipeline_3D_prob0.1_norm_minmax_1_5 pipeline\n",
      "[===============================                   ] 63.93%\n",
      "Testing pipeline_3D_prob0.1_norm_minmax_1_6 pipeline\n",
      "[===============================                   ] 64.00%\n",
      "Testing pipeline_3D_prob0.1_norm_minmax_1_7 pipeline\n",
      "[================================                  ] 64.06%\n",
      "Testing pipeline_3D_prob0.1_norm_minmax_1_8 pipeline\n",
      "[================================                  ] 64.13%\n",
      "Testing pipeline_3D_prob0.1_norm_minmax_1_9 pipeline\n",
      "[================================                  ] 64.19%\n",
      "Testing pipeline_3D_prob0.1_norm_minmax_1_10 pipeline\n",
      "[================================                  ] 64.26%\n",
      "Testing pipeline_3D_prob0.1_norm_minmax_1_11 pipeline\n",
      "[================================                  ] 64.32%\n",
      "Testing pipeline_3D_prob0.1_norm_minmax_1_12 pipeline\n",
      "[================================                  ] 64.39%\n",
      "Testing pipeline_3D_prob0.1_norm_minmax_1_13 pipeline\n",
      "[================================                  ] 64.45%\n",
      "Testing pipeline_3D_prob0.1_norm_minmax_1_14 pipeline\n",
      "[================================                  ] 64.52%\n",
      "Testing pipeline_3D_prob0.1_norm_minmax_1_15 pipeline\n",
      "[================================                  ] 64.58%\n",
      "Testing pipeline_3D_prob0.1_norm_minmax_2_0 pipeline\n",
      "[================================                  ] 64.65%\n",
      "Testing pipeline_3D_prob0.1_norm_minmax_2_1 pipeline\n",
      "[================================                  ] 64.71%\n",
      "Testing pipeline_3D_prob0.1_norm_minmax_2_2 pipeline\n",
      "[================================                  ] 64.78%\n",
      "Testing pipeline_3D_prob0.1_norm_minmax_2_3 pipeline\n",
      "[================================                  ] 64.84%\n",
      "Testing pipeline_3D_prob0.1_norm_minmax_2_4 pipeline\n",
      "[================================                  ] 64.91%\n",
      "Testing pipeline_3D_prob0.1_norm_minmax_2_5 pipeline\n",
      "[================================                  ] 64.97%\n",
      "Testing pipeline_3D_prob0.1_norm_minmax_2_6 pipeline\n",
      "[================================                  ] 65.04%\n",
      "Testing pipeline_3D_prob0.1_norm_minmax_2_7 pipeline\n",
      "[================================                  ] 65.10%\n",
      "Testing pipeline_3D_prob0.1_norm_minmax_2_8 pipeline\n",
      "[================================                  ] 65.17%\n",
      "Testing pipeline_3D_prob0.1_norm_minmax_2_9 pipeline\n",
      "[================================                  ] 65.23%\n",
      "Testing pipeline_3D_prob0.1_norm_minmax_2_10 pipeline\n",
      "[================================                  ] 65.30%\n",
      "Testing pipeline_3D_prob0.1_norm_minmax_2_11 pipeline\n",
      "[================================                  ] 65.36%\n",
      "Testing pipeline_3D_prob0.1_norm_minmax_2_12 pipeline\n",
      "[================================                  ] 65.43%\n",
      "Testing pipeline_3D_prob0.1_norm_minmax_2_13 pipeline\n",
      "[================================                  ] 65.49%\n",
      "Testing pipeline_3D_prob0.1_norm_minmax_2_14 pipeline\n",
      "[================================                  ] 65.56%\n",
      "Testing pipeline_3D_prob0.1_norm_minmax_2_15 pipeline\n",
      "[================================                  ] 65.62%\n",
      "Testing pipeline_3D_prob0.1_norm_minmax_3_0 pipeline\n",
      "[================================                  ] 65.69%\n",
      "Testing pipeline_3D_prob0.1_norm_minmax_3_1 pipeline\n",
      "[================================                  ] 65.76%\n",
      "Testing pipeline_3D_prob0.1_norm_minmax_3_2 pipeline\n",
      "[================================                  ] 65.82%\n",
      "Testing pipeline_3D_prob0.1_norm_minmax_3_3 pipeline\n",
      "[================================                  ] 65.89%\n",
      "Testing pipeline_3D_prob0.1_norm_minmax_3_4 pipeline\n",
      "[================================                  ] 65.95%\n",
      "Testing pipeline_3D_prob0.1_norm_minmax_3_5 pipeline\n",
      "[=================================                 ] 66.02%\n",
      "Testing pipeline_3D_prob0.1_norm_minmax_3_6 pipeline\n",
      "[=================================                 ] 66.08%\n",
      "Testing pipeline_3D_prob0.1_norm_minmax_3_7 pipeline\n",
      "[=================================                 ] 66.15%\n",
      "Testing pipeline_3D_prob0.1_norm_minmax_3_8 pipeline\n",
      "[=================================                 ] 66.21%\n",
      "Testing pipeline_3D_prob0.1_norm_minmax_3_9 pipeline\n",
      "[=================================                 ] 66.28%\n",
      "Testing pipeline_3D_prob0.1_norm_minmax_3_10 pipeline\n",
      "[=================================                 ] 66.34%\n",
      "Testing pipeline_3D_prob0.1_norm_minmax_3_11 pipeline\n",
      "[=================================                 ] 66.41%\n",
      "Testing pipeline_3D_prob0.1_norm_minmax_3_12 pipeline\n",
      "[=================================                 ] 66.47%\n",
      "Testing pipeline_3D_prob0.1_norm_minmax_3_13 pipeline\n",
      "[=================================                 ] 66.54%\n",
      "Testing pipeline_3D_prob0.1_norm_minmax_3_14 pipeline\n",
      "[=================================                 ] 66.60%\n",
      "Testing pipeline_3D_prob0.1_norm_minmax_3_15 pipeline\n",
      "[=================================                 ] 66.67%\n",
      "Testing pipeline_3D_prob0.2_norm_minmax_0_0 pipeline\n",
      "[=================================                 ] 66.73%\n",
      "Testing pipeline_3D_prob0.2_norm_minmax_0_1 pipeline\n",
      "[=================================                 ] 66.80%\n",
      "Testing pipeline_3D_prob0.2_norm_minmax_0_2 pipeline\n",
      "[=================================                 ] 66.86%\n",
      "Testing pipeline_3D_prob0.2_norm_minmax_0_3 pipeline\n",
      "[=================================                 ] 66.93%\n",
      "Testing pipeline_3D_prob0.2_norm_minmax_0_4 pipeline\n",
      "[=================================                 ] 66.99%\n",
      "Testing pipeline_3D_prob0.2_norm_minmax_0_5 pipeline\n",
      "[=================================                 ] 67.06%\n",
      "Testing pipeline_3D_prob0.2_norm_minmax_0_6 pipeline\n",
      "[=================================                 ] 67.12%\n",
      "Testing pipeline_3D_prob0.2_norm_minmax_0_7 pipeline\n",
      "[=================================                 ] 67.19%\n",
      "Testing pipeline_3D_prob0.2_norm_minmax_0_8 pipeline\n",
      "[=================================                 ] 67.25%\n",
      "Testing pipeline_3D_prob0.2_norm_minmax_0_9 pipeline\n",
      "[=================================                 ] 67.32%\n",
      "Testing pipeline_3D_prob0.2_norm_minmax_0_10 pipeline\n",
      "[=================================                 ] 67.38%\n",
      "Testing pipeline_3D_prob0.2_norm_minmax_0_11 pipeline\n",
      "[=================================                 ] 67.45%\n",
      "Testing pipeline_3D_prob0.2_norm_minmax_0_12 pipeline\n",
      "[=================================                 ] 67.51%\n",
      "Testing pipeline_3D_prob0.2_norm_minmax_0_13 pipeline\n",
      "[=================================                 ] 67.58%\n",
      "Testing pipeline_3D_prob0.2_norm_minmax_0_14 pipeline\n",
      "[=================================                 ] 67.64%\n",
      "Testing pipeline_3D_prob0.2_norm_minmax_0_15 pipeline\n",
      "[=================================                 ] 67.71%\n",
      "Testing pipeline_3D_prob0.2_norm_minmax_1_0 pipeline\n",
      "[=================================                 ] 67.77%\n",
      "Testing pipeline_3D_prob0.2_norm_minmax_1_1 pipeline\n",
      "[=================================                 ] 67.84%\n",
      "Testing pipeline_3D_prob0.2_norm_minmax_1_2 pipeline\n",
      "[=================================                 ] 67.90%\n",
      "Testing pipeline_3D_prob0.2_norm_minmax_1_3 pipeline\n",
      "[=================================                 ] 67.97%\n",
      "Testing pipeline_3D_prob0.2_norm_minmax_1_4 pipeline\n",
      "[==================================                ] 68.03%\n",
      "Testing pipeline_3D_prob0.2_norm_minmax_1_5 pipeline\n",
      "[==================================                ] 68.10%\n",
      "Testing pipeline_3D_prob0.2_norm_minmax_1_6 pipeline\n",
      "[==================================                ] 68.16%\n",
      "Testing pipeline_3D_prob0.2_norm_minmax_1_7 pipeline\n",
      "[==================================                ] 68.23%\n",
      "Testing pipeline_3D_prob0.2_norm_minmax_1_8 pipeline\n",
      "[==================================                ] 68.29%\n",
      "Testing pipeline_3D_prob0.2_norm_minmax_1_9 pipeline\n",
      "[==================================                ] 68.36%\n",
      "Testing pipeline_3D_prob0.2_norm_minmax_1_10 pipeline\n",
      "[==================================                ] 68.42%\n",
      "Testing pipeline_3D_prob0.2_norm_minmax_1_11 pipeline\n",
      "[==================================                ] 68.49%\n",
      "Testing pipeline_3D_prob0.2_norm_minmax_1_12 pipeline\n",
      "[==================================                ] 68.55%\n",
      "Testing pipeline_3D_prob0.2_norm_minmax_1_13 pipeline\n",
      "[==================================                ] 68.62%\n",
      "Testing pipeline_3D_prob0.2_norm_minmax_1_14 pipeline\n",
      "[==================================                ] 68.68%\n",
      "Testing pipeline_3D_prob0.2_norm_minmax_1_15 pipeline\n",
      "[==================================                ] 68.75%\n",
      "Testing pipeline_3D_prob0.2_norm_minmax_2_0 pipeline\n",
      "[==================================                ] 68.82%\n",
      "Testing pipeline_3D_prob0.2_norm_minmax_2_1 pipeline\n",
      "[==================================                ] 68.88%\n",
      "Testing pipeline_3D_prob0.2_norm_minmax_2_2 pipeline\n",
      "[==================================                ] 68.95%\n",
      "Testing pipeline_3D_prob0.2_norm_minmax_2_3 pipeline\n",
      "[==================================                ] 69.01%\n",
      "Testing pipeline_3D_prob0.2_norm_minmax_2_4 pipeline\n",
      "[==================================                ] 69.08%\n",
      "Testing pipeline_3D_prob0.2_norm_minmax_2_5 pipeline\n",
      "[==================================                ] 69.14%\n",
      "Testing pipeline_3D_prob0.2_norm_minmax_2_6 pipeline\n",
      "[==================================                ] 69.21%\n",
      "Testing pipeline_3D_prob0.2_norm_minmax_2_7 pipeline\n",
      "[==================================                ] 69.27%\n",
      "Testing pipeline_3D_prob0.2_norm_minmax_2_8 pipeline\n",
      "[==================================                ] 69.34%\n",
      "Testing pipeline_3D_prob0.2_norm_minmax_2_9 pipeline\n",
      "[==================================                ] 69.40%\n",
      "Testing pipeline_3D_prob0.2_norm_minmax_2_10 pipeline\n",
      "[==================================                ] 69.47%\n",
      "Testing pipeline_3D_prob0.2_norm_minmax_2_11 pipeline\n",
      "[==================================                ] 69.53%\n",
      "Testing pipeline_3D_prob0.2_norm_minmax_2_12 pipeline\n",
      "[==================================                ] 69.60%\n",
      "Testing pipeline_3D_prob0.2_norm_minmax_2_13 pipeline\n",
      "[==================================                ] 69.66%\n",
      "Testing pipeline_3D_prob0.2_norm_minmax_2_14 pipeline\n",
      "[==================================                ] 69.73%\n",
      "Testing pipeline_3D_prob0.2_norm_minmax_2_15 pipeline\n",
      "[==================================                ] 69.79%\n",
      "Testing pipeline_3D_prob0.2_norm_minmax_3_0 pipeline\n",
      "[==================================                ] 69.86%\n",
      "Testing pipeline_3D_prob0.2_norm_minmax_3_1 pipeline\n",
      "[==================================                ] 69.92%\n",
      "Testing pipeline_3D_prob0.2_norm_minmax_3_2 pipeline\n",
      "[==================================                ] 69.99%\n",
      "Testing pipeline_3D_prob0.2_norm_minmax_3_3 pipeline\n",
      "[===================================               ] 70.05%\n",
      "Testing pipeline_3D_prob0.2_norm_minmax_3_4 pipeline\n",
      "[===================================               ] 70.12%\n",
      "Testing pipeline_3D_prob0.2_norm_minmax_3_5 pipeline\n",
      "[===================================               ] 70.18%\n",
      "Testing pipeline_3D_prob0.2_norm_minmax_3_6 pipeline\n",
      "[===================================               ] 70.25%\n",
      "Testing pipeline_3D_prob0.2_norm_minmax_3_7 pipeline\n",
      "[===================================               ] 70.31%\n",
      "Testing pipeline_3D_prob0.2_norm_minmax_3_8 pipeline\n",
      "[===================================               ] 70.38%\n",
      "Testing pipeline_3D_prob0.2_norm_minmax_3_9 pipeline\n",
      "[===================================               ] 70.44%\n",
      "Testing pipeline_3D_prob0.2_norm_minmax_3_10 pipeline\n",
      "[===================================               ] 70.51%\n",
      "Testing pipeline_3D_prob0.2_norm_minmax_3_11 pipeline\n",
      "[===================================               ] 70.57%\n",
      "Testing pipeline_3D_prob0.2_norm_minmax_3_12 pipeline\n",
      "[===================================               ] 70.64%\n",
      "Testing pipeline_3D_prob0.2_norm_minmax_3_13 pipeline\n",
      "[===================================               ] 70.70%\n",
      "Testing pipeline_3D_prob0.2_norm_minmax_3_14 pipeline\n",
      "[===================================               ] 70.77%\n",
      "Testing pipeline_3D_prob0.2_norm_minmax_3_15 pipeline\n",
      "[===================================               ] 70.83%\n",
      "Testing pipeline_3D_prob0.4_norm_minmax_0_0 pipeline\n",
      "[===================================               ] 70.90%\n",
      "Testing pipeline_3D_prob0.4_norm_minmax_0_1 pipeline\n",
      "[===================================               ] 70.96%\n",
      "Testing pipeline_3D_prob0.4_norm_minmax_0_2 pipeline\n",
      "[===================================               ] 71.03%\n",
      "Testing pipeline_3D_prob0.4_norm_minmax_0_3 pipeline\n",
      "[===================================               ] 71.09%\n",
      "Testing pipeline_3D_prob0.4_norm_minmax_0_4 pipeline\n",
      "[===================================               ] 71.16%\n",
      "Testing pipeline_3D_prob0.4_norm_minmax_0_5 pipeline\n",
      "[===================================               ] 71.22%\n",
      "Testing pipeline_3D_prob0.4_norm_minmax_0_6 pipeline\n",
      "[===================================               ] 71.29%\n",
      "Testing pipeline_3D_prob0.4_norm_minmax_0_7 pipeline\n",
      "[===================================               ] 71.35%\n",
      "Testing pipeline_3D_prob0.4_norm_minmax_0_8 pipeline\n",
      "[===================================               ] 71.42%\n",
      "Testing pipeline_3D_prob0.4_norm_minmax_0_9 pipeline\n",
      "[===================================               ] 71.48%\n",
      "Testing pipeline_3D_prob0.4_norm_minmax_0_10 pipeline\n",
      "[===================================               ] 71.55%\n",
      "Testing pipeline_3D_prob0.4_norm_minmax_0_11 pipeline\n",
      "[===================================               ] 71.61%\n",
      "Testing pipeline_3D_prob0.4_norm_minmax_0_12 pipeline\n",
      "[===================================               ] 71.68%\n",
      "Testing pipeline_3D_prob0.4_norm_minmax_0_13 pipeline\n",
      "[===================================               ] 71.74%\n",
      "Testing pipeline_3D_prob0.4_norm_minmax_0_14 pipeline\n",
      "[===================================               ] 71.81%\n",
      "Testing pipeline_3D_prob0.4_norm_minmax_0_15 pipeline\n",
      "[===================================               ] 71.88%\n",
      "Testing pipeline_3D_prob0.4_norm_minmax_1_0 pipeline\n",
      "[===================================               ] 71.94%\n",
      "Testing pipeline_3D_prob0.4_norm_minmax_1_1 pipeline\n",
      "[====================================              ] 72.01%\n",
      "Testing pipeline_3D_prob0.4_norm_minmax_1_2 pipeline\n",
      "[====================================              ] 72.07%\n",
      "Testing pipeline_3D_prob0.4_norm_minmax_1_3 pipeline\n",
      "[====================================              ] 72.14%\n",
      "Testing pipeline_3D_prob0.4_norm_minmax_1_4 pipeline\n",
      "[====================================              ] 72.20%\n",
      "Testing pipeline_3D_prob0.4_norm_minmax_1_5 pipeline\n",
      "[====================================              ] 72.27%\n",
      "Testing pipeline_3D_prob0.4_norm_minmax_1_6 pipeline\n",
      "[====================================              ] 72.33%\n",
      "Testing pipeline_3D_prob0.4_norm_minmax_1_7 pipeline\n",
      "[====================================              ] 72.40%\n",
      "Testing pipeline_3D_prob0.4_norm_minmax_1_8 pipeline\n",
      "[====================================              ] 72.46%\n",
      "Testing pipeline_3D_prob0.4_norm_minmax_1_9 pipeline\n",
      "[====================================              ] 72.53%\n",
      "Testing pipeline_3D_prob0.4_norm_minmax_1_10 pipeline\n",
      "[====================================              ] 72.59%\n",
      "Testing pipeline_3D_prob0.4_norm_minmax_1_11 pipeline\n",
      "[====================================              ] 72.66%\n",
      "Testing pipeline_3D_prob0.4_norm_minmax_1_12 pipeline\n",
      "[====================================              ] 72.72%\n",
      "Testing pipeline_3D_prob0.4_norm_minmax_1_13 pipeline\n",
      "[====================================              ] 72.79%\n",
      "Testing pipeline_3D_prob0.4_norm_minmax_1_14 pipeline\n",
      "[====================================              ] 72.85%\n",
      "Testing pipeline_3D_prob0.4_norm_minmax_1_15 pipeline\n",
      "[====================================              ] 72.92%\n",
      "Testing pipeline_3D_prob0.4_norm_minmax_2_0 pipeline\n",
      "[====================================              ] 72.98%\n",
      "Testing pipeline_3D_prob0.4_norm_minmax_2_1 pipeline\n",
      "[====================================              ] 73.05%\n",
      "Testing pipeline_3D_prob0.4_norm_minmax_2_2 pipeline\n",
      "[====================================              ] 73.11%\n",
      "Testing pipeline_3D_prob0.4_norm_minmax_2_3 pipeline\n",
      "[====================================              ] 73.18%\n",
      "Testing pipeline_3D_prob0.4_norm_minmax_2_4 pipeline\n",
      "[====================================              ] 73.24%\n",
      "Testing pipeline_3D_prob0.4_norm_minmax_2_5 pipeline\n",
      "[====================================              ] 73.31%\n",
      "Testing pipeline_3D_prob0.4_norm_minmax_2_6 pipeline\n",
      "[====================================              ] 73.37%\n",
      "Testing pipeline_3D_prob0.4_norm_minmax_2_7 pipeline\n",
      "[====================================              ] 73.44%\n",
      "Testing pipeline_3D_prob0.4_norm_minmax_2_8 pipeline\n",
      "[====================================              ] 73.50%\n",
      "Testing pipeline_3D_prob0.4_norm_minmax_2_9 pipeline\n",
      "[====================================              ] 73.57%\n",
      "Testing pipeline_3D_prob0.4_norm_minmax_2_10 pipeline\n",
      "[====================================              ] 73.63%\n",
      "Testing pipeline_3D_prob0.4_norm_minmax_2_11 pipeline\n",
      "[====================================              ] 73.70%\n",
      "Testing pipeline_3D_prob0.4_norm_minmax_2_12 pipeline\n",
      "[====================================              ] 73.76%\n",
      "Testing pipeline_3D_prob0.4_norm_minmax_2_13 pipeline\n",
      "[====================================              ] 73.83%\n",
      "Testing pipeline_3D_prob0.4_norm_minmax_2_14 pipeline\n",
      "[====================================              ] 73.89%\n",
      "Testing pipeline_3D_prob0.4_norm_minmax_2_15 pipeline\n",
      "[====================================              ] 73.96%\n",
      "Testing pipeline_3D_prob0.4_norm_minmax_3_0 pipeline\n",
      "[=====================================             ] 74.02%\n",
      "Testing pipeline_3D_prob0.4_norm_minmax_3_1 pipeline\n",
      "[=====================================             ] 74.09%\n",
      "Testing pipeline_3D_prob0.4_norm_minmax_3_2 pipeline\n",
      "[=====================================             ] 74.15%\n",
      "Testing pipeline_3D_prob0.4_norm_minmax_3_3 pipeline\n",
      "[=====================================             ] 74.22%\n",
      "Testing pipeline_3D_prob0.4_norm_minmax_3_4 pipeline\n",
      "[=====================================             ] 74.28%\n",
      "Testing pipeline_3D_prob0.4_norm_minmax_3_5 pipeline\n",
      "[=====================================             ] 74.35%\n",
      "Testing pipeline_3D_prob0.4_norm_minmax_3_6 pipeline\n",
      "[=====================================             ] 74.41%\n",
      "Testing pipeline_3D_prob0.4_norm_minmax_3_7 pipeline\n",
      "[=====================================             ] 74.48%\n",
      "Testing pipeline_3D_prob0.4_norm_minmax_3_8 pipeline\n",
      "[=====================================             ] 74.54%\n",
      "Testing pipeline_3D_prob0.4_norm_minmax_3_9 pipeline\n",
      "[=====================================             ] 74.61%\n",
      "Testing pipeline_3D_prob0.4_norm_minmax_3_10 pipeline\n",
      "[=====================================             ] 74.67%\n",
      "Testing pipeline_3D_prob0.4_norm_minmax_3_11 pipeline\n",
      "[=====================================             ] 74.74%\n",
      "Testing pipeline_3D_prob0.4_norm_minmax_3_12 pipeline\n",
      "[=====================================             ] 74.80%\n",
      "Testing pipeline_3D_prob0.4_norm_minmax_3_13 pipeline\n",
      "[=====================================             ] 74.87%\n",
      "Testing pipeline_3D_prob0.4_norm_minmax_3_14 pipeline\n",
      "[=====================================             ] 74.93%\n",
      "Testing pipeline_3D_prob0.4_norm_minmax_3_15 pipeline\n",
      "[=====================================             ] 75.00%\n",
      "Testing pipeline_3D_prob0.5_norm_minmax_0_0 pipeline\n",
      "[=====================================             ] 75.07%\n",
      "Testing pipeline_3D_prob0.5_norm_minmax_0_1 pipeline\n",
      "[=====================================             ] 75.13%\n",
      "Testing pipeline_3D_prob0.5_norm_minmax_0_2 pipeline\n",
      "[=====================================             ] 75.20%\n",
      "Testing pipeline_3D_prob0.5_norm_minmax_0_3 pipeline\n",
      "[=====================================             ] 75.26%\n",
      "Testing pipeline_3D_prob0.5_norm_minmax_0_4 pipeline\n",
      "[=====================================             ] 75.33%\n",
      "Testing pipeline_3D_prob0.5_norm_minmax_0_5 pipeline\n",
      "[=====================================             ] 75.39%\n",
      "Testing pipeline_3D_prob0.5_norm_minmax_0_6 pipeline\n",
      "[=====================================             ] 75.46%\n",
      "Testing pipeline_3D_prob0.5_norm_minmax_0_7 pipeline\n",
      "[=====================================             ] 75.52%\n",
      "Testing pipeline_3D_prob0.5_norm_minmax_0_8 pipeline\n",
      "[=====================================             ] 75.59%\n",
      "Testing pipeline_3D_prob0.5_norm_minmax_0_9 pipeline\n",
      "[=====================================             ] 75.65%\n",
      "Testing pipeline_3D_prob0.5_norm_minmax_0_10 pipeline\n",
      "[=====================================             ] 75.72%\n",
      "Testing pipeline_3D_prob0.5_norm_minmax_0_11 pipeline\n",
      "[=====================================             ] 75.78%\n",
      "Testing pipeline_3D_prob0.5_norm_minmax_0_12 pipeline\n",
      "[=====================================             ] 75.85%\n",
      "Testing pipeline_3D_prob0.5_norm_minmax_0_13 pipeline\n",
      "[=====================================             ] 75.91%\n",
      "Testing pipeline_3D_prob0.5_norm_minmax_0_14 pipeline\n",
      "[=====================================             ] 75.98%\n",
      "Testing pipeline_3D_prob0.5_norm_minmax_0_15 pipeline\n",
      "[======================================            ] 76.04%\n",
      "Testing pipeline_3D_prob0.5_norm_minmax_1_0 pipeline\n",
      "[======================================            ] 76.11%\n",
      "Testing pipeline_3D_prob0.5_norm_minmax_1_1 pipeline\n",
      "[======================================            ] 76.17%\n",
      "Testing pipeline_3D_prob0.5_norm_minmax_1_2 pipeline\n",
      "[======================================            ] 76.24%\n",
      "Testing pipeline_3D_prob0.5_norm_minmax_1_3 pipeline\n",
      "[======================================            ] 76.30%\n",
      "Testing pipeline_3D_prob0.5_norm_minmax_1_4 pipeline\n",
      "[======================================            ] 76.37%\n",
      "Testing pipeline_3D_prob0.5_norm_minmax_1_5 pipeline\n",
      "[======================================            ] 76.43%\n",
      "Testing pipeline_3D_prob0.5_norm_minmax_1_6 pipeline\n",
      "[======================================            ] 76.50%\n",
      "Testing pipeline_3D_prob0.5_norm_minmax_1_7 pipeline\n",
      "[======================================            ] 76.56%\n",
      "Testing pipeline_3D_prob0.5_norm_minmax_1_8 pipeline\n",
      "[======================================            ] 76.63%\n",
      "Testing pipeline_3D_prob0.5_norm_minmax_1_9 pipeline\n",
      "[======================================            ] 76.69%\n",
      "Testing pipeline_3D_prob0.5_norm_minmax_1_10 pipeline\n",
      "[======================================            ] 76.76%\n",
      "Testing pipeline_3D_prob0.5_norm_minmax_1_11 pipeline\n",
      "[======================================            ] 76.82%\n",
      "Testing pipeline_3D_prob0.5_norm_minmax_1_12 pipeline\n",
      "[======================================            ] 76.89%\n",
      "Testing pipeline_3D_prob0.5_norm_minmax_1_13 pipeline\n",
      "[======================================            ] 76.95%\n",
      "Testing pipeline_3D_prob0.5_norm_minmax_1_14 pipeline\n",
      "[======================================            ] 77.02%\n",
      "Testing pipeline_3D_prob0.5_norm_minmax_1_15 pipeline\n",
      "[======================================            ] 77.08%\n",
      "Testing pipeline_3D_prob0.5_norm_minmax_2_0 pipeline\n",
      "[======================================            ] 77.15%\n",
      "Testing pipeline_3D_prob0.5_norm_minmax_2_1 pipeline\n",
      "[======================================            ] 77.21%\n",
      "Testing pipeline_3D_prob0.5_norm_minmax_2_2 pipeline\n",
      "[======================================            ] 77.28%\n",
      "Testing pipeline_3D_prob0.5_norm_minmax_2_3 pipeline\n",
      "[======================================            ] 77.34%\n",
      "Testing pipeline_3D_prob0.5_norm_minmax_2_4 pipeline\n",
      "[======================================            ] 77.41%\n",
      "Testing pipeline_3D_prob0.5_norm_minmax_2_5 pipeline\n",
      "[======================================            ] 77.47%\n",
      "Testing pipeline_3D_prob0.5_norm_minmax_2_6 pipeline\n",
      "[======================================            ] 77.54%\n",
      "Testing pipeline_3D_prob0.5_norm_minmax_2_7 pipeline\n",
      "[======================================            ] 77.60%\n",
      "Testing pipeline_3D_prob0.5_norm_minmax_2_8 pipeline\n",
      "[======================================            ] 77.67%\n",
      "Testing pipeline_3D_prob0.5_norm_minmax_2_9 pipeline\n",
      "[======================================            ] 77.73%\n",
      "Testing pipeline_3D_prob0.5_norm_minmax_2_10 pipeline\n",
      "[======================================            ] 77.80%\n",
      "Testing pipeline_3D_prob0.5_norm_minmax_2_11 pipeline\n",
      "[======================================            ] 77.86%\n",
      "Testing pipeline_3D_prob0.5_norm_minmax_2_12 pipeline\n",
      "[======================================            ] 77.93%\n",
      "Testing pipeline_3D_prob0.5_norm_minmax_2_13 pipeline\n",
      "[======================================            ] 77.99%\n",
      "Testing pipeline_3D_prob0.5_norm_minmax_2_14 pipeline\n",
      "[=======================================           ] 78.06%\n",
      "Testing pipeline_3D_prob0.5_norm_minmax_2_15 pipeline\n",
      "[=======================================           ] 78.12%\n",
      "Testing pipeline_3D_prob0.5_norm_minmax_3_0 pipeline\n",
      "[=======================================           ] 78.19%\n",
      "Testing pipeline_3D_prob0.5_norm_minmax_3_1 pipeline\n",
      "[=======================================           ] 78.26%\n",
      "Testing pipeline_3D_prob0.5_norm_minmax_3_2 pipeline\n",
      "[=======================================           ] 78.32%\n",
      "Testing pipeline_3D_prob0.5_norm_minmax_3_3 pipeline\n",
      "[=======================================           ] 78.39%\n",
      "Testing pipeline_3D_prob0.5_norm_minmax_3_4 pipeline\n",
      "[=======================================           ] 78.45%\n",
      "Testing pipeline_3D_prob0.5_norm_minmax_3_5 pipeline\n",
      "[=======================================           ] 78.52%\n",
      "Testing pipeline_3D_prob0.5_norm_minmax_3_6 pipeline\n",
      "[=======================================           ] 78.58%\n",
      "Testing pipeline_3D_prob0.5_norm_minmax_3_7 pipeline\n",
      "[=======================================           ] 78.65%\n",
      "Testing pipeline_3D_prob0.5_norm_minmax_3_8 pipeline\n",
      "[=======================================           ] 78.71%\n",
      "Testing pipeline_3D_prob0.5_norm_minmax_3_9 pipeline\n",
      "[=======================================           ] 78.78%\n",
      "Testing pipeline_3D_prob0.5_norm_minmax_3_10 pipeline\n",
      "[=======================================           ] 78.84%\n",
      "Testing pipeline_3D_prob0.5_norm_minmax_3_11 pipeline\n",
      "[=======================================           ] 78.91%\n",
      "Testing pipeline_3D_prob0.5_norm_minmax_3_12 pipeline\n",
      "[=======================================           ] 78.97%\n",
      "Testing pipeline_3D_prob0.5_norm_minmax_3_13 pipeline\n",
      "[=======================================           ] 79.04%\n",
      "Testing pipeline_3D_prob0.5_norm_minmax_3_14 pipeline\n",
      "[=======================================           ] 79.10%\n",
      "Testing pipeline_3D_prob0.5_norm_minmax_3_15 pipeline\n",
      "[=======================================           ] 79.17%\n",
      "Testing pipeline_3D_prob0.0_norm_percentile_0_0 pipeline\n",
      "[=======================================           ] 79.23%\n",
      "Testing pipeline_3D_prob0.0_norm_percentile_0_1 pipeline\n",
      "[=======================================           ] 79.30%\n",
      "Testing pipeline_3D_prob0.0_norm_percentile_0_2 pipeline\n",
      "[=======================================           ] 79.36%\n",
      "Testing pipeline_3D_prob0.0_norm_percentile_0_3 pipeline\n",
      "[=======================================           ] 79.43%\n",
      "Testing pipeline_3D_prob0.0_norm_percentile_0_4 pipeline\n",
      "[=======================================           ] 79.49%\n",
      "Testing pipeline_3D_prob0.0_norm_percentile_0_5 pipeline\n",
      "[=======================================           ] 79.56%\n",
      "Testing pipeline_3D_prob0.0_norm_percentile_0_6 pipeline\n",
      "[=======================================           ] 79.62%\n",
      "Testing pipeline_3D_prob0.0_norm_percentile_0_7 pipeline\n",
      "[=======================================           ] 79.69%\n",
      "Testing pipeline_3D_prob0.0_norm_percentile_0_8 pipeline\n",
      "[=======================================           ] 79.75%\n",
      "Testing pipeline_3D_prob0.0_norm_percentile_0_9 pipeline\n",
      "[=======================================           ] 79.82%\n",
      "Testing pipeline_3D_prob0.0_norm_percentile_0_10 pipeline\n",
      "[=======================================           ] 79.88%\n",
      "Testing pipeline_3D_prob0.0_norm_percentile_0_11 pipeline\n",
      "[=======================================           ] 79.95%\n",
      "Testing pipeline_3D_prob0.0_norm_percentile_0_12 pipeline\n",
      "[========================================          ] 80.01%\n",
      "Testing pipeline_3D_prob0.0_norm_percentile_0_13 pipeline\n",
      "[========================================          ] 80.08%\n",
      "Testing pipeline_3D_prob0.0_norm_percentile_0_14 pipeline\n",
      "[========================================          ] 80.14%\n",
      "Testing pipeline_3D_prob0.0_norm_percentile_0_15 pipeline\n",
      "[========================================          ] 80.21%\n",
      "Testing pipeline_3D_prob0.0_norm_percentile_1_0 pipeline\n",
      "[========================================          ] 80.27%\n",
      "Testing pipeline_3D_prob0.0_norm_percentile_1_1 pipeline\n",
      "[========================================          ] 80.34%\n",
      "Testing pipeline_3D_prob0.0_norm_percentile_1_2 pipeline\n",
      "[========================================          ] 80.40%\n",
      "Testing pipeline_3D_prob0.0_norm_percentile_1_3 pipeline\n",
      "[========================================          ] 80.47%\n",
      "Testing pipeline_3D_prob0.0_norm_percentile_1_4 pipeline\n",
      "[========================================          ] 80.53%\n",
      "Testing pipeline_3D_prob0.0_norm_percentile_1_5 pipeline\n",
      "[========================================          ] 80.60%\n",
      "Testing pipeline_3D_prob0.0_norm_percentile_1_6 pipeline\n",
      "[========================================          ] 80.66%\n",
      "Testing pipeline_3D_prob0.0_norm_percentile_1_7 pipeline\n",
      "[========================================          ] 80.73%\n",
      "Testing pipeline_3D_prob0.0_norm_percentile_1_8 pipeline\n",
      "[========================================          ] 80.79%\n",
      "Testing pipeline_3D_prob0.0_norm_percentile_1_9 pipeline\n",
      "[========================================          ] 80.86%\n",
      "Testing pipeline_3D_prob0.0_norm_percentile_1_10 pipeline\n",
      "[========================================          ] 80.92%\n",
      "Testing pipeline_3D_prob0.0_norm_percentile_1_11 pipeline\n",
      "[========================================          ] 80.99%\n",
      "Testing pipeline_3D_prob0.0_norm_percentile_1_12 pipeline\n",
      "[========================================          ] 81.05%\n",
      "Testing pipeline_3D_prob0.0_norm_percentile_1_13 pipeline\n",
      "[========================================          ] 81.12%\n",
      "Testing pipeline_3D_prob0.0_norm_percentile_1_14 pipeline\n",
      "[========================================          ] 81.18%\n",
      "Testing pipeline_3D_prob0.0_norm_percentile_1_15 pipeline\n",
      "[========================================          ] 81.25%\n",
      "Testing pipeline_3D_prob0.0_norm_percentile_2_0 pipeline\n",
      "[========================================          ] 81.32%\n",
      "Testing pipeline_3D_prob0.0_norm_percentile_2_1 pipeline\n",
      "[========================================          ] 81.38%\n",
      "Testing pipeline_3D_prob0.0_norm_percentile_2_2 pipeline\n",
      "[========================================          ] 81.45%\n",
      "Testing pipeline_3D_prob0.0_norm_percentile_2_3 pipeline\n",
      "[========================================          ] 81.51%\n",
      "Testing pipeline_3D_prob0.0_norm_percentile_2_4 pipeline\n",
      "[========================================          ] 81.58%\n",
      "Testing pipeline_3D_prob0.0_norm_percentile_2_5 pipeline\n",
      "[========================================          ] 81.64%\n",
      "Testing pipeline_3D_prob0.0_norm_percentile_2_6 pipeline\n",
      "[========================================          ] 81.71%\n",
      "Testing pipeline_3D_prob0.0_norm_percentile_2_7 pipeline\n",
      "[========================================          ] 81.77%\n",
      "Testing pipeline_3D_prob0.0_norm_percentile_2_8 pipeline\n",
      "[========================================          ] 81.84%\n",
      "Testing pipeline_3D_prob0.0_norm_percentile_2_9 pipeline\n",
      "[========================================          ] 81.90%\n",
      "Testing pipeline_3D_prob0.0_norm_percentile_2_10 pipeline\n",
      "[========================================          ] 81.97%\n",
      "Testing pipeline_3D_prob0.0_norm_percentile_2_11 pipeline\n",
      "[=========================================         ] 82.03%\n",
      "Testing pipeline_3D_prob0.0_norm_percentile_2_12 pipeline\n",
      "[=========================================         ] 82.10%\n",
      "Testing pipeline_3D_prob0.0_norm_percentile_2_13 pipeline\n",
      "[=========================================         ] 82.16%\n",
      "Testing pipeline_3D_prob0.0_norm_percentile_2_14 pipeline\n",
      "[=========================================         ] 82.23%\n",
      "Testing pipeline_3D_prob0.0_norm_percentile_2_15 pipeline\n",
      "[=========================================         ] 82.29%\n",
      "Testing pipeline_3D_prob0.0_norm_percentile_3_0 pipeline\n",
      "[=========================================         ] 82.36%\n",
      "Testing pipeline_3D_prob0.0_norm_percentile_3_1 pipeline\n",
      "[=========================================         ] 82.42%\n",
      "Testing pipeline_3D_prob0.0_norm_percentile_3_2 pipeline\n",
      "[=========================================         ] 82.49%\n",
      "Testing pipeline_3D_prob0.0_norm_percentile_3_3 pipeline\n",
      "[=========================================         ] 82.55%\n",
      "Testing pipeline_3D_prob0.0_norm_percentile_3_4 pipeline\n",
      "[=========================================         ] 82.62%\n",
      "Testing pipeline_3D_prob0.0_norm_percentile_3_5 pipeline\n",
      "[=========================================         ] 82.68%\n",
      "Testing pipeline_3D_prob0.0_norm_percentile_3_6 pipeline\n",
      "[=========================================         ] 82.75%\n",
      "Testing pipeline_3D_prob0.0_norm_percentile_3_7 pipeline\n",
      "[=========================================         ] 82.81%\n",
      "Testing pipeline_3D_prob0.0_norm_percentile_3_8 pipeline\n",
      "[=========================================         ] 82.88%\n",
      "Testing pipeline_3D_prob0.0_norm_percentile_3_9 pipeline\n",
      "[=========================================         ] 82.94%\n",
      "Testing pipeline_3D_prob0.0_norm_percentile_3_10 pipeline\n",
      "[=========================================         ] 83.01%\n",
      "Testing pipeline_3D_prob0.0_norm_percentile_3_11 pipeline\n",
      "[=========================================         ] 83.07%\n",
      "Testing pipeline_3D_prob0.0_norm_percentile_3_12 pipeline\n",
      "[=========================================         ] 83.14%\n",
      "Testing pipeline_3D_prob0.0_norm_percentile_3_13 pipeline\n",
      "[=========================================         ] 83.20%\n",
      "Testing pipeline_3D_prob0.0_norm_percentile_3_14 pipeline\n",
      "[=========================================         ] 83.27%\n",
      "Testing pipeline_3D_prob0.0_norm_percentile_3_15 pipeline\n",
      "[=========================================         ] 83.33%\n",
      "Testing pipeline_3D_prob0.1_norm_percentile_0_0 pipeline\n",
      "[=========================================         ] 83.40%\n",
      "Testing pipeline_3D_prob0.1_norm_percentile_0_1 pipeline\n",
      "[=========================================         ] 83.46%\n",
      "Testing pipeline_3D_prob0.1_norm_percentile_0_2 pipeline\n",
      "[=========================================         ] 83.53%\n",
      "Testing pipeline_3D_prob0.1_norm_percentile_0_3 pipeline\n",
      "[=========================================         ] 83.59%\n",
      "Testing pipeline_3D_prob0.1_norm_percentile_0_4 pipeline\n",
      "[=========================================         ] 83.66%\n",
      "Testing pipeline_3D_prob0.1_norm_percentile_0_5 pipeline\n",
      "[=========================================         ] 83.72%\n",
      "Testing pipeline_3D_prob0.1_norm_percentile_0_6 pipeline\n",
      "[=========================================         ] 83.79%\n",
      "Testing pipeline_3D_prob0.1_norm_percentile_0_7 pipeline\n",
      "[=========================================         ] 83.85%\n",
      "Testing pipeline_3D_prob0.1_norm_percentile_0_8 pipeline\n",
      "[=========================================         ] 83.92%\n",
      "Testing pipeline_3D_prob0.1_norm_percentile_0_9 pipeline\n",
      "[=========================================         ] 83.98%\n",
      "Testing pipeline_3D_prob0.1_norm_percentile_0_10 pipeline\n",
      "[==========================================        ] 84.05%\n",
      "Testing pipeline_3D_prob0.1_norm_percentile_0_11 pipeline\n",
      "[==========================================        ] 84.11%\n",
      "Testing pipeline_3D_prob0.1_norm_percentile_0_12 pipeline\n",
      "[==========================================        ] 84.18%\n",
      "Testing pipeline_3D_prob0.1_norm_percentile_0_13 pipeline\n",
      "[==========================================        ] 84.24%\n",
      "Testing pipeline_3D_prob0.1_norm_percentile_0_14 pipeline\n",
      "[==========================================        ] 84.31%\n",
      "Testing pipeline_3D_prob0.1_norm_percentile_0_15 pipeline\n",
      "[==========================================        ] 84.38%\n",
      "Testing pipeline_3D_prob0.1_norm_percentile_1_0 pipeline\n",
      "[==========================================        ] 84.44%\n",
      "Testing pipeline_3D_prob0.1_norm_percentile_1_1 pipeline\n",
      "[==========================================        ] 84.51%\n",
      "Testing pipeline_3D_prob0.1_norm_percentile_1_2 pipeline\n",
      "[==========================================        ] 84.57%\n",
      "Testing pipeline_3D_prob0.1_norm_percentile_1_3 pipeline\n",
      "[==========================================        ] 84.64%\n",
      "Testing pipeline_3D_prob0.1_norm_percentile_1_4 pipeline\n",
      "[==========================================        ] 84.70%\n",
      "Testing pipeline_3D_prob0.1_norm_percentile_1_5 pipeline\n",
      "[==========================================        ] 84.77%\n",
      "Testing pipeline_3D_prob0.1_norm_percentile_1_6 pipeline\n",
      "[==========================================        ] 84.83%\n",
      "Testing pipeline_3D_prob0.1_norm_percentile_1_7 pipeline\n",
      "[==========================================        ] 84.90%\n",
      "Testing pipeline_3D_prob0.1_norm_percentile_1_8 pipeline\n",
      "[==========================================        ] 84.96%\n",
      "Testing pipeline_3D_prob0.1_norm_percentile_1_9 pipeline\n",
      "[==========================================        ] 85.03%\n",
      "Testing pipeline_3D_prob0.1_norm_percentile_1_10 pipeline\n",
      "[==========================================        ] 85.09%\n",
      "Testing pipeline_3D_prob0.1_norm_percentile_1_11 pipeline\n",
      "[==========================================        ] 85.16%\n",
      "Testing pipeline_3D_prob0.1_norm_percentile_1_12 pipeline\n",
      "[==========================================        ] 85.22%\n",
      "Testing pipeline_3D_prob0.1_norm_percentile_1_13 pipeline\n",
      "[==========================================        ] 85.29%\n",
      "Testing pipeline_3D_prob0.1_norm_percentile_1_14 pipeline\n",
      "[==========================================        ] 85.35%\n",
      "Testing pipeline_3D_prob0.1_norm_percentile_1_15 pipeline\n",
      "[==========================================        ] 85.42%\n",
      "Testing pipeline_3D_prob0.1_norm_percentile_2_0 pipeline\n",
      "[==========================================        ] 85.48%\n",
      "Testing pipeline_3D_prob0.1_norm_percentile_2_1 pipeline\n",
      "[==========================================        ] 85.55%\n",
      "Testing pipeline_3D_prob0.1_norm_percentile_2_2 pipeline\n",
      "[==========================================        ] 85.61%\n",
      "Testing pipeline_3D_prob0.1_norm_percentile_2_3 pipeline\n",
      "[==========================================        ] 85.68%\n",
      "Testing pipeline_3D_prob0.1_norm_percentile_2_4 pipeline\n",
      "[==========================================        ] 85.74%\n",
      "Testing pipeline_3D_prob0.1_norm_percentile_2_5 pipeline\n",
      "[==========================================        ] 85.81%\n",
      "Testing pipeline_3D_prob0.1_norm_percentile_2_6 pipeline\n",
      "[==========================================        ] 85.87%\n",
      "Testing pipeline_3D_prob0.1_norm_percentile_2_7 pipeline\n",
      "[==========================================        ] 85.94%\n",
      "Testing pipeline_3D_prob0.1_norm_percentile_2_8 pipeline\n",
      "[===========================================       ] 86.00%\n",
      "Testing pipeline_3D_prob0.1_norm_percentile_2_9 pipeline\n",
      "[===========================================       ] 86.07%\n",
      "Testing pipeline_3D_prob0.1_norm_percentile_2_10 pipeline\n",
      "[===========================================       ] 86.13%\n",
      "Testing pipeline_3D_prob0.1_norm_percentile_2_11 pipeline\n",
      "[===========================================       ] 86.20%\n",
      "Testing pipeline_3D_prob0.1_norm_percentile_2_12 pipeline\n",
      "[===========================================       ] 86.26%\n",
      "Testing pipeline_3D_prob0.1_norm_percentile_2_13 pipeline\n",
      "[===========================================       ] 86.33%\n",
      "Testing pipeline_3D_prob0.1_norm_percentile_2_14 pipeline\n",
      "[===========================================       ] 86.39%\n",
      "Testing pipeline_3D_prob0.1_norm_percentile_2_15 pipeline\n",
      "[===========================================       ] 86.46%\n",
      "Testing pipeline_3D_prob0.1_norm_percentile_3_0 pipeline\n",
      "[===========================================       ] 86.52%\n",
      "Testing pipeline_3D_prob0.1_norm_percentile_3_1 pipeline\n",
      "[===========================================       ] 86.59%\n",
      "Testing pipeline_3D_prob0.1_norm_percentile_3_2 pipeline\n",
      "[===========================================       ] 86.65%\n",
      "Testing pipeline_3D_prob0.1_norm_percentile_3_3 pipeline\n",
      "[===========================================       ] 86.72%\n",
      "Testing pipeline_3D_prob0.1_norm_percentile_3_4 pipeline\n",
      "[===========================================       ] 86.78%\n",
      "Testing pipeline_3D_prob0.1_norm_percentile_3_5 pipeline\n",
      "[===========================================       ] 86.85%\n",
      "Testing pipeline_3D_prob0.1_norm_percentile_3_6 pipeline\n",
      "[===========================================       ] 86.91%\n",
      "Testing pipeline_3D_prob0.1_norm_percentile_3_7 pipeline\n",
      "[===========================================       ] 86.98%\n",
      "Testing pipeline_3D_prob0.1_norm_percentile_3_8 pipeline\n",
      "[===========================================       ] 87.04%\n",
      "Testing pipeline_3D_prob0.1_norm_percentile_3_9 pipeline\n",
      "[===========================================       ] 87.11%\n",
      "Testing pipeline_3D_prob0.1_norm_percentile_3_10 pipeline\n",
      "[===========================================       ] 87.17%\n",
      "Testing pipeline_3D_prob0.1_norm_percentile_3_11 pipeline\n",
      "[===========================================       ] 87.24%\n",
      "Testing pipeline_3D_prob0.1_norm_percentile_3_12 pipeline\n",
      "[===========================================       ] 87.30%\n",
      "Testing pipeline_3D_prob0.1_norm_percentile_3_13 pipeline\n",
      "[===========================================       ] 87.37%\n",
      "Testing pipeline_3D_prob0.1_norm_percentile_3_14 pipeline\n",
      "[===========================================       ] 87.43%\n",
      "Testing pipeline_3D_prob0.1_norm_percentile_3_15 pipeline\n",
      "[===========================================       ] 87.50%\n",
      "Testing pipeline_3D_prob0.2_norm_percentile_0_0 pipeline\n",
      "[===========================================       ] 87.57%\n",
      "Testing pipeline_3D_prob0.2_norm_percentile_0_1 pipeline\n",
      "[===========================================       ] 87.63%\n",
      "Testing pipeline_3D_prob0.2_norm_percentile_0_2 pipeline\n",
      "[===========================================       ] 87.70%\n",
      "Testing pipeline_3D_prob0.2_norm_percentile_0_3 pipeline\n",
      "[===========================================       ] 87.76%\n",
      "Testing pipeline_3D_prob0.2_norm_percentile_0_4 pipeline\n",
      "[===========================================       ] 87.83%\n",
      "Testing pipeline_3D_prob0.2_norm_percentile_0_5 pipeline\n",
      "[===========================================       ] 87.89%\n",
      "Testing pipeline_3D_prob0.2_norm_percentile_0_6 pipeline\n",
      "[===========================================       ] 87.96%\n",
      "Testing pipeline_3D_prob0.2_norm_percentile_0_7 pipeline\n",
      "[============================================      ] 88.02%\n",
      "Testing pipeline_3D_prob0.2_norm_percentile_0_8 pipeline\n",
      "[============================================      ] 88.09%\n",
      "Testing pipeline_3D_prob0.2_norm_percentile_0_9 pipeline\n",
      "[============================================      ] 88.15%\n",
      "Testing pipeline_3D_prob0.2_norm_percentile_0_10 pipeline\n",
      "[============================================      ] 88.22%\n",
      "Testing pipeline_3D_prob0.2_norm_percentile_0_11 pipeline\n",
      "[============================================      ] 88.28%\n",
      "Testing pipeline_3D_prob0.2_norm_percentile_0_12 pipeline\n",
      "[============================================      ] 88.35%\n",
      "Testing pipeline_3D_prob0.2_norm_percentile_0_13 pipeline\n",
      "[============================================      ] 88.41%\n",
      "Testing pipeline_3D_prob0.2_norm_percentile_0_14 pipeline\n",
      "[============================================      ] 88.48%\n",
      "Testing pipeline_3D_prob0.2_norm_percentile_0_15 pipeline\n",
      "[============================================      ] 88.54%\n",
      "Testing pipeline_3D_prob0.2_norm_percentile_1_0 pipeline\n",
      "[============================================      ] 88.61%\n",
      "Testing pipeline_3D_prob0.2_norm_percentile_1_1 pipeline\n",
      "[============================================      ] 88.67%\n",
      "Testing pipeline_3D_prob0.2_norm_percentile_1_2 pipeline\n",
      "[============================================      ] 88.74%\n",
      "Testing pipeline_3D_prob0.2_norm_percentile_1_3 pipeline\n",
      "[============================================      ] 88.80%\n",
      "Testing pipeline_3D_prob0.2_norm_percentile_1_4 pipeline\n",
      "[============================================      ] 88.87%\n",
      "Testing pipeline_3D_prob0.2_norm_percentile_1_5 pipeline\n",
      "[============================================      ] 88.93%\n",
      "Testing pipeline_3D_prob0.2_norm_percentile_1_6 pipeline\n",
      "[============================================      ] 89.00%\n",
      "Testing pipeline_3D_prob0.2_norm_percentile_1_7 pipeline\n",
      "[============================================      ] 89.06%\n",
      "Testing pipeline_3D_prob0.2_norm_percentile_1_8 pipeline\n",
      "[============================================      ] 89.13%\n",
      "Testing pipeline_3D_prob0.2_norm_percentile_1_9 pipeline\n",
      "[============================================      ] 89.19%\n",
      "Testing pipeline_3D_prob0.2_norm_percentile_1_10 pipeline\n",
      "[============================================      ] 89.26%\n",
      "Testing pipeline_3D_prob0.2_norm_percentile_1_11 pipeline\n",
      "[============================================      ] 89.32%\n",
      "Testing pipeline_3D_prob0.2_norm_percentile_1_12 pipeline\n",
      "[============================================      ] 89.39%\n",
      "Testing pipeline_3D_prob0.2_norm_percentile_1_13 pipeline\n",
      "[============================================      ] 89.45%\n",
      "Testing pipeline_3D_prob0.2_norm_percentile_1_14 pipeline\n",
      "[============================================      ] 89.52%\n",
      "Testing pipeline_3D_prob0.2_norm_percentile_1_15 pipeline\n",
      "[============================================      ] 89.58%\n",
      "Testing pipeline_3D_prob0.2_norm_percentile_2_0 pipeline\n",
      "[============================================      ] 89.65%\n",
      "Testing pipeline_3D_prob0.2_norm_percentile_2_1 pipeline\n",
      "[============================================      ] 89.71%\n",
      "Testing pipeline_3D_prob0.2_norm_percentile_2_2 pipeline\n",
      "[============================================      ] 89.78%\n",
      "Testing pipeline_3D_prob0.2_norm_percentile_2_3 pipeline\n",
      "[============================================      ] 89.84%\n",
      "Testing pipeline_3D_prob0.2_norm_percentile_2_4 pipeline\n",
      "[============================================      ] 89.91%\n",
      "Testing pipeline_3D_prob0.2_norm_percentile_2_5 pipeline\n",
      "[============================================      ] 89.97%\n",
      "Testing pipeline_3D_prob0.2_norm_percentile_2_6 pipeline\n",
      "[=============================================     ] 90.04%\n",
      "Testing pipeline_3D_prob0.2_norm_percentile_2_7 pipeline\n",
      "[=============================================     ] 90.10%\n",
      "Testing pipeline_3D_prob0.2_norm_percentile_2_8 pipeline\n",
      "[=============================================     ] 90.17%\n",
      "Testing pipeline_3D_prob0.2_norm_percentile_2_9 pipeline\n",
      "[=============================================     ] 90.23%\n",
      "Testing pipeline_3D_prob0.2_norm_percentile_2_10 pipeline\n",
      "[=============================================     ] 90.30%\n",
      "Testing pipeline_3D_prob0.2_norm_percentile_2_11 pipeline\n",
      "[=============================================     ] 90.36%\n",
      "Testing pipeline_3D_prob0.2_norm_percentile_2_12 pipeline\n",
      "[=============================================     ] 90.43%\n",
      "Testing pipeline_3D_prob0.2_norm_percentile_2_13 pipeline\n",
      "[=============================================     ] 90.49%\n",
      "Testing pipeline_3D_prob0.2_norm_percentile_2_14 pipeline\n",
      "[=============================================     ] 90.56%\n",
      "Testing pipeline_3D_prob0.2_norm_percentile_2_15 pipeline\n",
      "[=============================================     ] 90.62%\n",
      "Testing pipeline_3D_prob0.2_norm_percentile_3_0 pipeline\n",
      "[=============================================     ] 90.69%\n",
      "Testing pipeline_3D_prob0.2_norm_percentile_3_1 pipeline\n",
      "[=============================================     ] 90.76%\n",
      "Testing pipeline_3D_prob0.2_norm_percentile_3_2 pipeline\n",
      "[=============================================     ] 90.82%\n",
      "Testing pipeline_3D_prob0.2_norm_percentile_3_3 pipeline\n",
      "[=============================================     ] 90.89%\n",
      "Testing pipeline_3D_prob0.2_norm_percentile_3_4 pipeline\n",
      "[=============================================     ] 90.95%\n",
      "Testing pipeline_3D_prob0.2_norm_percentile_3_5 pipeline\n",
      "[=============================================     ] 91.02%\n",
      "Testing pipeline_3D_prob0.2_norm_percentile_3_6 pipeline\n",
      "[=============================================     ] 91.08%\n",
      "Testing pipeline_3D_prob0.2_norm_percentile_3_7 pipeline\n",
      "[=============================================     ] 91.15%\n",
      "Testing pipeline_3D_prob0.2_norm_percentile_3_8 pipeline\n",
      "[=============================================     ] 91.21%\n",
      "Testing pipeline_3D_prob0.2_norm_percentile_3_9 pipeline\n",
      "[=============================================     ] 91.28%\n",
      "Testing pipeline_3D_prob0.2_norm_percentile_3_10 pipeline\n",
      "[=============================================     ] 91.34%\n",
      "Testing pipeline_3D_prob0.2_norm_percentile_3_11 pipeline\n",
      "[=============================================     ] 91.41%\n",
      "Testing pipeline_3D_prob0.2_norm_percentile_3_12 pipeline\n",
      "[=============================================     ] 91.47%\n",
      "Testing pipeline_3D_prob0.2_norm_percentile_3_13 pipeline\n",
      "[=============================================     ] 91.54%\n",
      "Testing pipeline_3D_prob0.2_norm_percentile_3_14 pipeline\n",
      "[=============================================     ] 91.60%\n",
      "Testing pipeline_3D_prob0.2_norm_percentile_3_15 pipeline\n",
      "[=============================================     ] 91.67%\n",
      "Testing pipeline_3D_prob0.4_norm_percentile_0_0 pipeline\n",
      "[=============================================     ] 91.73%\n",
      "Testing pipeline_3D_prob0.4_norm_percentile_0_1 pipeline\n",
      "[=============================================     ] 91.80%\n",
      "Testing pipeline_3D_prob0.4_norm_percentile_0_2 pipeline\n",
      "[=============================================     ] 91.86%\n",
      "Testing pipeline_3D_prob0.4_norm_percentile_0_3 pipeline\n",
      "[=============================================     ] 91.93%\n",
      "Testing pipeline_3D_prob0.4_norm_percentile_0_4 pipeline\n",
      "[=============================================     ] 91.99%\n",
      "Testing pipeline_3D_prob0.4_norm_percentile_0_5 pipeline\n",
      "[==============================================    ] 92.06%\n",
      "Testing pipeline_3D_prob0.4_norm_percentile_0_6 pipeline\n",
      "[==============================================    ] 92.12%\n",
      "Testing pipeline_3D_prob0.4_norm_percentile_0_7 pipeline\n",
      "[==============================================    ] 92.19%\n",
      "Testing pipeline_3D_prob0.4_norm_percentile_0_8 pipeline\n",
      "[==============================================    ] 92.25%\n",
      "Testing pipeline_3D_prob0.4_norm_percentile_0_9 pipeline\n",
      "[==============================================    ] 92.32%\n",
      "Testing pipeline_3D_prob0.4_norm_percentile_0_10 pipeline\n",
      "[==============================================    ] 92.38%\n",
      "Testing pipeline_3D_prob0.4_norm_percentile_0_11 pipeline\n",
      "[==============================================    ] 92.45%\n",
      "Testing pipeline_3D_prob0.4_norm_percentile_0_12 pipeline\n",
      "[==============================================    ] 92.51%\n",
      "Testing pipeline_3D_prob0.4_norm_percentile_0_13 pipeline\n",
      "[==============================================    ] 92.58%\n",
      "Testing pipeline_3D_prob0.4_norm_percentile_0_14 pipeline\n",
      "[==============================================    ] 92.64%\n",
      "Testing pipeline_3D_prob0.4_norm_percentile_0_15 pipeline\n",
      "[==============================================    ] 92.71%\n",
      "Testing pipeline_3D_prob0.4_norm_percentile_1_0 pipeline\n",
      "[==============================================    ] 92.77%\n",
      "Testing pipeline_3D_prob0.4_norm_percentile_1_1 pipeline\n",
      "[==============================================    ] 92.84%\n",
      "Testing pipeline_3D_prob0.4_norm_percentile_1_2 pipeline\n",
      "[==============================================    ] 92.90%\n",
      "Testing pipeline_3D_prob0.4_norm_percentile_1_3 pipeline\n",
      "[==============================================    ] 92.97%\n",
      "Testing pipeline_3D_prob0.4_norm_percentile_1_4 pipeline\n",
      "[==============================================    ] 93.03%\n",
      "Testing pipeline_3D_prob0.4_norm_percentile_1_5 pipeline\n",
      "[==============================================    ] 93.10%\n",
      "Testing pipeline_3D_prob0.4_norm_percentile_1_6 pipeline\n",
      "[==============================================    ] 93.16%\n",
      "Testing pipeline_3D_prob0.4_norm_percentile_1_7 pipeline\n",
      "[==============================================    ] 93.23%\n",
      "Testing pipeline_3D_prob0.4_norm_percentile_1_8 pipeline\n",
      "[==============================================    ] 93.29%\n",
      "Testing pipeline_3D_prob0.4_norm_percentile_1_9 pipeline\n",
      "[==============================================    ] 93.36%\n",
      "Testing pipeline_3D_prob0.4_norm_percentile_1_10 pipeline\n",
      "[==============================================    ] 93.42%\n",
      "Testing pipeline_3D_prob0.4_norm_percentile_1_11 pipeline\n",
      "[==============================================    ] 93.49%\n",
      "Testing pipeline_3D_prob0.4_norm_percentile_1_12 pipeline\n",
      "[==============================================    ] 93.55%\n",
      "Testing pipeline_3D_prob0.4_norm_percentile_1_13 pipeline\n",
      "[==============================================    ] 93.62%\n",
      "Testing pipeline_3D_prob0.4_norm_percentile_1_14 pipeline\n",
      "[==============================================    ] 93.68%\n",
      "Testing pipeline_3D_prob0.4_norm_percentile_1_15 pipeline\n",
      "[==============================================    ] 93.75%\n",
      "Testing pipeline_3D_prob0.4_norm_percentile_2_0 pipeline\n",
      "[==============================================    ] 93.82%\n",
      "Testing pipeline_3D_prob0.4_norm_percentile_2_1 pipeline\n",
      "[==============================================    ] 93.88%\n",
      "Testing pipeline_3D_prob0.4_norm_percentile_2_2 pipeline\n",
      "[==============================================    ] 93.95%\n",
      "Testing pipeline_3D_prob0.4_norm_percentile_2_3 pipeline\n",
      "[===============================================   ] 94.01%\n",
      "Testing pipeline_3D_prob0.4_norm_percentile_2_4 pipeline\n",
      "[===============================================   ] 94.08%\n",
      "Testing pipeline_3D_prob0.4_norm_percentile_2_5 pipeline\n",
      "[===============================================   ] 94.14%\n",
      "Testing pipeline_3D_prob0.4_norm_percentile_2_6 pipeline\n",
      "[===============================================   ] 94.21%\n",
      "Testing pipeline_3D_prob0.4_norm_percentile_2_7 pipeline\n",
      "[===============================================   ] 94.27%\n",
      "Testing pipeline_3D_prob0.4_norm_percentile_2_8 pipeline\n",
      "[===============================================   ] 94.34%\n",
      "Testing pipeline_3D_prob0.4_norm_percentile_2_9 pipeline\n",
      "[===============================================   ] 94.40%\n",
      "Testing pipeline_3D_prob0.4_norm_percentile_2_10 pipeline\n",
      "[===============================================   ] 94.47%\n",
      "Testing pipeline_3D_prob0.4_norm_percentile_2_11 pipeline\n",
      "[===============================================   ] 94.53%\n",
      "Testing pipeline_3D_prob0.4_norm_percentile_2_12 pipeline\n",
      "[===============================================   ] 94.60%\n",
      "Testing pipeline_3D_prob0.4_norm_percentile_2_13 pipeline\n",
      "[===============================================   ] 94.66%\n",
      "Testing pipeline_3D_prob0.4_norm_percentile_2_14 pipeline\n",
      "[===============================================   ] 94.73%\n",
      "Testing pipeline_3D_prob0.4_norm_percentile_2_15 pipeline\n",
      "[===============================================   ] 94.79%\n",
      "Testing pipeline_3D_prob0.4_norm_percentile_3_0 pipeline\n",
      "[===============================================   ] 94.86%\n",
      "Testing pipeline_3D_prob0.4_norm_percentile_3_1 pipeline\n",
      "[===============================================   ] 94.92%\n",
      "Testing pipeline_3D_prob0.4_norm_percentile_3_2 pipeline\n",
      "[===============================================   ] 94.99%\n",
      "Testing pipeline_3D_prob0.4_norm_percentile_3_3 pipeline\n",
      "[===============================================   ] 95.05%\n",
      "Testing pipeline_3D_prob0.4_norm_percentile_3_4 pipeline\n",
      "[===============================================   ] 95.12%\n",
      "Testing pipeline_3D_prob0.4_norm_percentile_3_5 pipeline\n",
      "[===============================================   ] 95.18%\n",
      "Testing pipeline_3D_prob0.4_norm_percentile_3_6 pipeline\n",
      "[===============================================   ] 95.25%\n",
      "Testing pipeline_3D_prob0.4_norm_percentile_3_7 pipeline\n",
      "[===============================================   ] 95.31%\n",
      "Testing pipeline_3D_prob0.4_norm_percentile_3_8 pipeline\n",
      "[===============================================   ] 95.38%\n",
      "Testing pipeline_3D_prob0.4_norm_percentile_3_9 pipeline\n",
      "[===============================================   ] 95.44%\n",
      "Testing pipeline_3D_prob0.4_norm_percentile_3_10 pipeline\n",
      "[===============================================   ] 95.51%\n",
      "Testing pipeline_3D_prob0.4_norm_percentile_3_11 pipeline\n",
      "[===============================================   ] 95.57%\n",
      "Testing pipeline_3D_prob0.4_norm_percentile_3_12 pipeline\n",
      "[===============================================   ] 95.64%\n",
      "Testing pipeline_3D_prob0.4_norm_percentile_3_13 pipeline\n",
      "[===============================================   ] 95.70%\n",
      "Testing pipeline_3D_prob0.4_norm_percentile_3_14 pipeline\n",
      "[===============================================   ] 95.77%\n",
      "Testing pipeline_3D_prob0.4_norm_percentile_3_15 pipeline\n",
      "[===============================================   ] 95.83%\n",
      "Testing pipeline_3D_prob0.5_norm_percentile_0_0 pipeline\n",
      "[===============================================   ] 95.90%\n",
      "Testing pipeline_3D_prob0.5_norm_percentile_0_1 pipeline\n",
      "[===============================================   ] 95.96%\n",
      "Testing pipeline_3D_prob0.5_norm_percentile_0_2 pipeline\n",
      "[================================================  ] 96.03%\n",
      "Testing pipeline_3D_prob0.5_norm_percentile_0_3 pipeline\n",
      "[================================================  ] 96.09%\n",
      "Testing pipeline_3D_prob0.5_norm_percentile_0_4 pipeline\n",
      "[================================================  ] 96.16%\n",
      "Testing pipeline_3D_prob0.5_norm_percentile_0_5 pipeline\n",
      "[================================================  ] 96.22%\n",
      "Testing pipeline_3D_prob0.5_norm_percentile_0_6 pipeline\n",
      "[================================================  ] 96.29%\n",
      "Testing pipeline_3D_prob0.5_norm_percentile_0_7 pipeline\n",
      "[================================================  ] 96.35%\n",
      "Testing pipeline_3D_prob0.5_norm_percentile_0_8 pipeline\n",
      "[================================================  ] 96.42%\n",
      "Testing pipeline_3D_prob0.5_norm_percentile_0_9 pipeline\n",
      "[================================================  ] 96.48%\n",
      "Testing pipeline_3D_prob0.5_norm_percentile_0_10 pipeline\n",
      "[================================================  ] 96.55%\n",
      "Testing pipeline_3D_prob0.5_norm_percentile_0_11 pipeline\n",
      "[================================================  ] 96.61%\n",
      "Testing pipeline_3D_prob0.5_norm_percentile_0_12 pipeline\n",
      "[================================================  ] 96.68%\n",
      "Testing pipeline_3D_prob0.5_norm_percentile_0_13 pipeline\n",
      "[================================================  ] 96.74%\n",
      "Testing pipeline_3D_prob0.5_norm_percentile_0_14 pipeline\n",
      "[================================================  ] 96.81%\n",
      "Testing pipeline_3D_prob0.5_norm_percentile_0_15 pipeline\n",
      "[================================================  ] 96.88%\n",
      "Testing pipeline_3D_prob0.5_norm_percentile_1_0 pipeline\n",
      "[================================================  ] 96.94%\n",
      "Testing pipeline_3D_prob0.5_norm_percentile_1_1 pipeline\n",
      "[================================================  ] 97.01%\n",
      "Testing pipeline_3D_prob0.5_norm_percentile_1_2 pipeline\n",
      "[================================================  ] 97.07%\n",
      "Testing pipeline_3D_prob0.5_norm_percentile_1_3 pipeline\n",
      "[================================================  ] 97.14%\n",
      "Testing pipeline_3D_prob0.5_norm_percentile_1_4 pipeline\n",
      "[================================================  ] 97.20%\n",
      "Testing pipeline_3D_prob0.5_norm_percentile_1_5 pipeline\n",
      "[================================================  ] 97.27%\n",
      "Testing pipeline_3D_prob0.5_norm_percentile_1_6 pipeline\n",
      "[================================================  ] 97.33%\n",
      "Testing pipeline_3D_prob0.5_norm_percentile_1_7 pipeline\n",
      "[================================================  ] 97.40%\n",
      "Testing pipeline_3D_prob0.5_norm_percentile_1_8 pipeline\n",
      "[================================================  ] 97.46%\n",
      "Testing pipeline_3D_prob0.5_norm_percentile_1_9 pipeline\n",
      "[================================================  ] 97.53%\n",
      "Testing pipeline_3D_prob0.5_norm_percentile_1_10 pipeline\n",
      "[================================================  ] 97.59%\n",
      "Testing pipeline_3D_prob0.5_norm_percentile_1_11 pipeline\n",
      "[================================================  ] 97.66%\n",
      "Testing pipeline_3D_prob0.5_norm_percentile_1_12 pipeline\n",
      "[================================================  ] 97.72%\n",
      "Testing pipeline_3D_prob0.5_norm_percentile_1_13 pipeline\n",
      "[================================================  ] 97.79%\n",
      "Testing pipeline_3D_prob0.5_norm_percentile_1_14 pipeline\n",
      "[================================================  ] 97.85%\n",
      "Testing pipeline_3D_prob0.5_norm_percentile_1_15 pipeline\n",
      "[================================================  ] 97.92%\n",
      "Testing pipeline_3D_prob0.5_norm_percentile_2_0 pipeline\n",
      "[================================================  ] 97.98%\n",
      "Testing pipeline_3D_prob0.5_norm_percentile_2_1 pipeline\n",
      "[================================================= ] 98.05%\n",
      "Testing pipeline_3D_prob0.5_norm_percentile_2_2 pipeline\n",
      "[================================================= ] 98.11%\n",
      "Testing pipeline_3D_prob0.5_norm_percentile_2_3 pipeline\n",
      "[================================================= ] 98.18%\n",
      "Testing pipeline_3D_prob0.5_norm_percentile_2_4 pipeline\n",
      "[================================================= ] 98.24%\n",
      "Testing pipeline_3D_prob0.5_norm_percentile_2_5 pipeline\n",
      "[================================================= ] 98.31%\n",
      "Testing pipeline_3D_prob0.5_norm_percentile_2_6 pipeline\n",
      "[================================================= ] 98.37%\n",
      "Testing pipeline_3D_prob0.5_norm_percentile_2_7 pipeline\n",
      "[================================================= ] 98.44%\n",
      "Testing pipeline_3D_prob0.5_norm_percentile_2_8 pipeline\n",
      "[================================================= ] 98.50%\n",
      "Testing pipeline_3D_prob0.5_norm_percentile_2_9 pipeline\n",
      "[================================================= ] 98.57%\n",
      "Testing pipeline_3D_prob0.5_norm_percentile_2_10 pipeline\n",
      "[================================================= ] 98.63%\n",
      "Testing pipeline_3D_prob0.5_norm_percentile_2_11 pipeline\n",
      "[================================================= ] 98.70%\n",
      "Testing pipeline_3D_prob0.5_norm_percentile_2_12 pipeline\n",
      "[================================================= ] 98.76%\n",
      "Testing pipeline_3D_prob0.5_norm_percentile_2_13 pipeline\n",
      "[================================================= ] 98.83%\n",
      "Testing pipeline_3D_prob0.5_norm_percentile_2_14 pipeline\n",
      "[================================================= ] 98.89%\n",
      "Testing pipeline_3D_prob0.5_norm_percentile_2_15 pipeline\n",
      "[================================================= ] 98.96%\n",
      "Testing pipeline_3D_prob0.5_norm_percentile_3_0 pipeline\n",
      "[================================================= ] 99.02%\n",
      "Testing pipeline_3D_prob0.5_norm_percentile_3_1 pipeline\n",
      "[================================================= ] 99.09%\n",
      "Testing pipeline_3D_prob0.5_norm_percentile_3_2 pipeline\n",
      "[================================================= ] 99.15%\n",
      "Testing pipeline_3D_prob0.5_norm_percentile_3_3 pipeline\n",
      "[================================================= ] 99.22%\n",
      "Testing pipeline_3D_prob0.5_norm_percentile_3_4 pipeline\n",
      "[================================================= ] 99.28%\n",
      "Testing pipeline_3D_prob0.5_norm_percentile_3_5 pipeline\n",
      "[================================================= ] 99.35%\n",
      "Testing pipeline_3D_prob0.5_norm_percentile_3_6 pipeline\n",
      "[================================================= ] 99.41%\n",
      "Testing pipeline_3D_prob0.5_norm_percentile_3_7 pipeline\n",
      "[================================================= ] 99.48%\n",
      "Testing pipeline_3D_prob0.5_norm_percentile_3_8 pipeline\n",
      "[================================================= ] 99.54%\n",
      "Testing pipeline_3D_prob0.5_norm_percentile_3_9 pipeline\n",
      "[================================================= ] 99.61%\n",
      "Testing pipeline_3D_prob0.5_norm_percentile_3_10 pipeline\n",
      "[================================================= ] 99.67%\n",
      "Testing pipeline_3D_prob0.5_norm_percentile_3_11 pipeline\n",
      "[================================================= ] 99.74%\n",
      "Testing pipeline_3D_prob0.5_norm_percentile_3_12 pipeline\n",
      "[================================================= ] 99.80%\n",
      "Testing pipeline_3D_prob0.5_norm_percentile_3_13 pipeline\n",
      "[================================================= ] 99.87%\n",
      "Testing pipeline_3D_prob0.5_norm_percentile_3_14 pipeline\n",
      "[================================================= ] 99.93%\n",
      "Testing pipeline_3D_prob0.5_norm_percentile_3_15 pipeline\n",
      "[==================================================] 100.00%\n"
     ]
    }
   ],
   "execution_count": 8
  },
  {
   "metadata": {},
   "cell_type": "code",
   "outputs": [],
   "execution_count": null,
   "source": "",
   "id": "706ef083b8dca7b6"
  }
 ],
 "metadata": {
  "kernelspec": {
   "display_name": "Python 3",
   "language": "python",
   "name": "python3"
  },
  "language_info": {
   "codemirror_mode": {
    "name": "ipython",
    "version": 2
   },
   "file_extension": ".py",
   "mimetype": "text/x-python",
   "name": "python",
   "nbconvert_exporter": "python",
   "pygments_lexer": "ipython2",
   "version": "2.7.6"
  }
 },
 "nbformat": 4,
 "nbformat_minor": 5
}
