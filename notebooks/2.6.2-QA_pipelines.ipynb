{
 "cells": [
  {
   "cell_type": "code",
   "id": "initial_id",
   "metadata": {
    "collapsed": true,
    "ExecuteTime": {
     "end_time": "2024-10-04T11:40:28.006764Z",
     "start_time": "2024-10-04T11:40:21.490027Z"
    }
   },
   "source": [
    "import numpy as np\n",
    "import matplotlib.pyplot as plt\n",
    "import pandas as pd\n",
    "\n",
    "from auxiliary import values as v\n",
    "from auxiliary.data import imaging\n",
    "from auxiliary.utils.timer import LoadingBar\n",
    "\n",
    "from nuclei_segmentation import my_cellpose\n",
    "from nuclei_segmentation import preprocessing\n",
    "from nuclei_segmentation.quality_control.model_tester import ModelTester"
   ],
   "outputs": [
    {
     "name": "stdout",
     "output_type": "stream",
     "text": [
      "GPU activated: False\n"
     ]
    }
   ],
   "execution_count": 1
  },
  {
   "metadata": {
    "ExecuteTime": {
     "end_time": "2024-10-04T11:40:28.578248Z",
     "start_time": "2024-10-04T11:40:28.572940Z"
    }
   },
   "cell_type": "code",
   "source": [
    "v.data_path = '/mnt/c/Users/ignac/OneDrive/Nacho/CNIC/TFM/Data/'\n",
    "\n",
    "img_path = (\n",
    "        v.data_path \n",
    "        + 'Gr1/RawImages/Nuclei/QC_CROP/20190208_E2_DAPI_decon_0.5_crop.nii.gz'\n",
    ")"
   ],
   "id": "208203db7dd99579",
   "outputs": [],
   "execution_count": 2
  },
  {
   "metadata": {},
   "cell_type": "markdown",
   "source": "Grid search into preprocessing steps ",
   "id": "d7697f3b3a2855bf"
  },
  {
   "metadata": {
    "ExecuteTime": {
     "end_time": "2024-10-04T11:40:30.046423Z",
     "start_time": "2024-10-04T11:40:30.040246Z"
    }
   },
   "cell_type": "code",
   "source": [
    "from itertools import permutations\n",
    "\n",
    "\n",
    "steps_type = ['2D', '3D']\n",
    "steps_thr = list(np.round(np.linspace(0.1, .8, 8), 1))\n",
    "steps_mandatory = ['isotropy', 'normalization']\n",
    "steps_optional = [\n",
    "    'bilateral', \n",
    "    'anisodiff'\n",
    "]\n",
    "\n",
    "steps_permutations = list(permutations(steps_optional))\n",
    "\n",
    "pipelines_dict = {}\n",
    "\n",
    "# Create pipelines for each type and threshold\n",
    "for step in steps_type:\n",
    "    for thr in steps_thr:\n",
    "        for i, perm in enumerate(steps_permutations):\n",
    "            # Create the pipeline with mandatory steps\n",
    "            pipeline = steps_mandatory + list(perm)\n",
    "\n",
    "            # Store the pipeline along with the step type and threshold\n",
    "            pipeline_key = f'pipeline_{step}_{i}_thr_{thr}'\n",
    "            pipelines_dict[pipeline_key] = {\n",
    "                'pipeline': pipeline,\n",
    "                'type': step,\n",
    "                'threshold': thr\n",
    "            }\n",
    "\n",
    "# Print the created pipelines\n",
    "for name, config in pipelines_dict.items():\n",
    "    print(f\"{name}: {config['pipeline']}, Type: {config['type']}, Threshold: {config['threshold']}\")\n",
    "    \n",
    "print('Total pipelines:', len(pipelines_dict))"
   ],
   "id": "ce211f6b3d8fb2d3",
   "outputs": [
    {
     "name": "stdout",
     "output_type": "stream",
     "text": [
      "pipeline_2D_0_thr_0.1: ['isotropy', 'normalization', 'bilateral', 'anisodiff'], Type: 2D, Threshold: 0.1\n",
      "pipeline_2D_1_thr_0.1: ['isotropy', 'normalization', 'anisodiff', 'bilateral'], Type: 2D, Threshold: 0.1\n",
      "pipeline_2D_0_thr_0.2: ['isotropy', 'normalization', 'bilateral', 'anisodiff'], Type: 2D, Threshold: 0.2\n",
      "pipeline_2D_1_thr_0.2: ['isotropy', 'normalization', 'anisodiff', 'bilateral'], Type: 2D, Threshold: 0.2\n",
      "pipeline_2D_0_thr_0.3: ['isotropy', 'normalization', 'bilateral', 'anisodiff'], Type: 2D, Threshold: 0.3\n",
      "pipeline_2D_1_thr_0.3: ['isotropy', 'normalization', 'anisodiff', 'bilateral'], Type: 2D, Threshold: 0.3\n",
      "pipeline_2D_0_thr_0.4: ['isotropy', 'normalization', 'bilateral', 'anisodiff'], Type: 2D, Threshold: 0.4\n",
      "pipeline_2D_1_thr_0.4: ['isotropy', 'normalization', 'anisodiff', 'bilateral'], Type: 2D, Threshold: 0.4\n",
      "pipeline_2D_0_thr_0.5: ['isotropy', 'normalization', 'bilateral', 'anisodiff'], Type: 2D, Threshold: 0.5\n",
      "pipeline_2D_1_thr_0.5: ['isotropy', 'normalization', 'anisodiff', 'bilateral'], Type: 2D, Threshold: 0.5\n",
      "pipeline_2D_0_thr_0.6: ['isotropy', 'normalization', 'bilateral', 'anisodiff'], Type: 2D, Threshold: 0.6\n",
      "pipeline_2D_1_thr_0.6: ['isotropy', 'normalization', 'anisodiff', 'bilateral'], Type: 2D, Threshold: 0.6\n",
      "pipeline_2D_0_thr_0.7: ['isotropy', 'normalization', 'bilateral', 'anisodiff'], Type: 2D, Threshold: 0.7\n",
      "pipeline_2D_1_thr_0.7: ['isotropy', 'normalization', 'anisodiff', 'bilateral'], Type: 2D, Threshold: 0.7\n",
      "pipeline_2D_0_thr_0.8: ['isotropy', 'normalization', 'bilateral', 'anisodiff'], Type: 2D, Threshold: 0.8\n",
      "pipeline_2D_1_thr_0.8: ['isotropy', 'normalization', 'anisodiff', 'bilateral'], Type: 2D, Threshold: 0.8\n",
      "pipeline_3D_0_thr_0.1: ['isotropy', 'normalization', 'bilateral', 'anisodiff'], Type: 3D, Threshold: 0.1\n",
      "pipeline_3D_1_thr_0.1: ['isotropy', 'normalization', 'anisodiff', 'bilateral'], Type: 3D, Threshold: 0.1\n",
      "pipeline_3D_0_thr_0.2: ['isotropy', 'normalization', 'bilateral', 'anisodiff'], Type: 3D, Threshold: 0.2\n",
      "pipeline_3D_1_thr_0.2: ['isotropy', 'normalization', 'anisodiff', 'bilateral'], Type: 3D, Threshold: 0.2\n",
      "pipeline_3D_0_thr_0.3: ['isotropy', 'normalization', 'bilateral', 'anisodiff'], Type: 3D, Threshold: 0.3\n",
      "pipeline_3D_1_thr_0.3: ['isotropy', 'normalization', 'anisodiff', 'bilateral'], Type: 3D, Threshold: 0.3\n",
      "pipeline_3D_0_thr_0.4: ['isotropy', 'normalization', 'bilateral', 'anisodiff'], Type: 3D, Threshold: 0.4\n",
      "pipeline_3D_1_thr_0.4: ['isotropy', 'normalization', 'anisodiff', 'bilateral'], Type: 3D, Threshold: 0.4\n",
      "pipeline_3D_0_thr_0.5: ['isotropy', 'normalization', 'bilateral', 'anisodiff'], Type: 3D, Threshold: 0.5\n",
      "pipeline_3D_1_thr_0.5: ['isotropy', 'normalization', 'anisodiff', 'bilateral'], Type: 3D, Threshold: 0.5\n",
      "pipeline_3D_0_thr_0.6: ['isotropy', 'normalization', 'bilateral', 'anisodiff'], Type: 3D, Threshold: 0.6\n",
      "pipeline_3D_1_thr_0.6: ['isotropy', 'normalization', 'anisodiff', 'bilateral'], Type: 3D, Threshold: 0.6\n",
      "pipeline_3D_0_thr_0.7: ['isotropy', 'normalization', 'bilateral', 'anisodiff'], Type: 3D, Threshold: 0.7\n",
      "pipeline_3D_1_thr_0.7: ['isotropy', 'normalization', 'anisodiff', 'bilateral'], Type: 3D, Threshold: 0.7\n",
      "pipeline_3D_0_thr_0.8: ['isotropy', 'normalization', 'bilateral', 'anisodiff'], Type: 3D, Threshold: 0.8\n",
      "pipeline_3D_1_thr_0.8: ['isotropy', 'normalization', 'anisodiff', 'bilateral'], Type: 3D, Threshold: 0.8\n",
      "Total pipelines: 32\n"
     ]
    }
   ],
   "execution_count": 3
  },
  {
   "metadata": {
    "ExecuteTime": {
     "end_time": "2024-10-04T11:40:34.802328Z",
     "start_time": "2024-10-04T11:40:34.709289Z"
    }
   },
   "cell_type": "code",
   "source": [
    "model = my_cellpose.load_model('nuclei')\n",
    "tester = ModelTester(model)"
   ],
   "id": "235a2fdf589185b5",
   "outputs": [
    {
     "name": "stdout",
     "output_type": "stream",
     "text": [
      "\u001B[94mLoading model\u001B[0m: nuclei\n"
     ]
    }
   ],
   "execution_count": 5
  },
  {
   "metadata": {
    "ExecuteTime": {
     "end_time": "2024-10-04T11:45:06.471189Z",
     "start_time": "2024-10-04T11:40:36.066367Z"
    }
   },
   "cell_type": "code",
   "source": [
    "bar = LoadingBar(len(pipelines_dict))\n",
    "\n",
    "for name, config in pipelines_dict.items():\n",
    "    print(f\"\\nTesting {name} pipeline\")\n",
    "    \n",
    "    pipeline = config['pipeline']\n",
    "    type = config['type']\n",
    "    thr = config['threshold']\n",
    "    \n",
    "    tester.run(\n",
    "        img_path, pipeline,\n",
    "        type=type, stitch_threshold=thr,\n",
    "        test_name=name,\n",
    "        verbose=0\n",
    "    )\n",
    "    \n",
    "    bar.update()\n",
    "    \n",
    "bar.end()"
   ],
   "id": "a33db2a830631586",
   "outputs": [
    {
     "name": "stdout",
     "output_type": "stream",
     "text": [
      "Testing pipeline_2D_0_thr_0.1 pipeline\n",
      "Running test: pipeline_2D_0_thr_0.1\n",
      "\u001B[94mReading NIfTI\u001B[0m: /mnt/c/Users/ignac/OneDrive/Nacho/CNIC/TFM/Data/Gr1/RawImages/Nuclei/QC_CROP/20190208_E2_DAPI_decon_0.5_crop.nii.gz\n",
      "\n",
      "\u001B[92mSaving prediction\u001B[0m: /mnt/c/Users/ignac/OneDrive/Nacho/CNIC/TFM/Data/Gr1/RawImages/Nuclei/QC_CROP/20190208_E2_DAPI_decon_0.5_crop_pipeline_2D_0_thr_0.1_filtered.nii.gz\n"
     ]
    },
    {
     "name": "stderr",
     "output_type": "stream",
     "text": [
      "100%|██████████| 19/19 [00:00<00:00, 32.18it/s]"
     ]
    },
    {
     "name": "stdout",
     "output_type": "stream",
     "text": [
      "\u001B[92mMasks shape\u001B[0m: (20, 110, 140)\n",
      "\n",
      "\u001B[92mSaving prediction\u001B[0m: /mnt/c/Users/ignac/OneDrive/Nacho/CNIC/TFM/Data/Gr1/Segmentation/Nuclei/QC_CROP/20190208_E2_DAPI_decon_0.5_crop_pipeline_2D_0_thr_0.1.nii.gz\n",
      "[=                                                 ] 3.12%"
     ]
    },
    {
     "name": "stderr",
     "output_type": "stream",
     "text": [
      "\n"
     ]
    },
    {
     "name": "stdout",
     "output_type": "stream",
     "text": [
      "Testing pipeline_2D_1_thr_0.1 pipeline\n",
      "Running test: pipeline_2D_1_thr_0.1\n",
      "\u001B[94mReading NIfTI\u001B[0m: /mnt/c/Users/ignac/OneDrive/Nacho/CNIC/TFM/Data/Gr1/RawImages/Nuclei/QC_CROP/20190208_E2_DAPI_decon_0.5_crop.nii.gz\n",
      "\n",
      "\u001B[92mSaving prediction\u001B[0m: /mnt/c/Users/ignac/OneDrive/Nacho/CNIC/TFM/Data/Gr1/RawImages/Nuclei/QC_CROP/20190208_E2_DAPI_decon_0.5_crop_pipeline_2D_1_thr_0.1_filtered.nii.gz\n"
     ]
    },
    {
     "name": "stderr",
     "output_type": "stream",
     "text": [
      "100%|██████████| 19/19 [00:00<00:00, 6738.69it/s]"
     ]
    },
    {
     "name": "stdout",
     "output_type": "stream",
     "text": [
      "\u001B[92mMasks shape\u001B[0m: (20, 110, 140)\n",
      "\n",
      "\u001B[92mSaving prediction\u001B[0m: /mnt/c/Users/ignac/OneDrive/Nacho/CNIC/TFM/Data/Gr1/Segmentation/Nuclei/QC_CROP/20190208_E2_DAPI_decon_0.5_crop_pipeline_2D_1_thr_0.1.nii.gz\n",
      "[===                                               ] 6.25%"
     ]
    },
    {
     "name": "stderr",
     "output_type": "stream",
     "text": [
      "\n"
     ]
    },
    {
     "name": "stdout",
     "output_type": "stream",
     "text": [
      "Testing pipeline_2D_0_thr_0.2 pipeline\n",
      "Running test: pipeline_2D_0_thr_0.2\n",
      "\u001B[94mReading NIfTI\u001B[0m: /mnt/c/Users/ignac/OneDrive/Nacho/CNIC/TFM/Data/Gr1/RawImages/Nuclei/QC_CROP/20190208_E2_DAPI_decon_0.5_crop.nii.gz\n",
      "\n",
      "\u001B[92mSaving prediction\u001B[0m: /mnt/c/Users/ignac/OneDrive/Nacho/CNIC/TFM/Data/Gr1/RawImages/Nuclei/QC_CROP/20190208_E2_DAPI_decon_0.5_crop_pipeline_2D_0_thr_0.2_filtered.nii.gz\n"
     ]
    },
    {
     "name": "stderr",
     "output_type": "stream",
     "text": [
      "100%|██████████| 19/19 [00:00<00:00, 8199.59it/s]"
     ]
    },
    {
     "name": "stdout",
     "output_type": "stream",
     "text": [
      "\u001B[92mMasks shape\u001B[0m: (20, 110, 140)\n",
      "\n",
      "\u001B[92mSaving prediction\u001B[0m: /mnt/c/Users/ignac/OneDrive/Nacho/CNIC/TFM/Data/Gr1/Segmentation/Nuclei/QC_CROP/20190208_E2_DAPI_decon_0.5_crop_pipeline_2D_0_thr_0.2.nii.gz\n",
      "[====                                              ] 9.38%"
     ]
    },
    {
     "name": "stderr",
     "output_type": "stream",
     "text": [
      "\n"
     ]
    },
    {
     "name": "stdout",
     "output_type": "stream",
     "text": [
      "Testing pipeline_2D_1_thr_0.2 pipeline\n",
      "Running test: pipeline_2D_1_thr_0.2\n",
      "\u001B[94mReading NIfTI\u001B[0m: /mnt/c/Users/ignac/OneDrive/Nacho/CNIC/TFM/Data/Gr1/RawImages/Nuclei/QC_CROP/20190208_E2_DAPI_decon_0.5_crop.nii.gz\n",
      "\n",
      "\u001B[92mSaving prediction\u001B[0m: /mnt/c/Users/ignac/OneDrive/Nacho/CNIC/TFM/Data/Gr1/RawImages/Nuclei/QC_CROP/20190208_E2_DAPI_decon_0.5_crop_pipeline_2D_1_thr_0.2_filtered.nii.gz\n"
     ]
    },
    {
     "name": "stderr",
     "output_type": "stream",
     "text": [
      "100%|██████████| 19/19 [00:00<00:00, 5488.04it/s]"
     ]
    },
    {
     "name": "stdout",
     "output_type": "stream",
     "text": [
      "\u001B[92mMasks shape\u001B[0m: (20, 110, 140)\n",
      "\n",
      "\u001B[92mSaving prediction\u001B[0m: /mnt/c/Users/ignac/OneDrive/Nacho/CNIC/TFM/Data/Gr1/Segmentation/Nuclei/QC_CROP/20190208_E2_DAPI_decon_0.5_crop_pipeline_2D_1_thr_0.2.nii.gz\n",
      "[======                                            ] 12.50%"
     ]
    },
    {
     "name": "stderr",
     "output_type": "stream",
     "text": [
      "\n"
     ]
    },
    {
     "name": "stdout",
     "output_type": "stream",
     "text": [
      "Testing pipeline_2D_0_thr_0.3 pipeline\n",
      "Running test: pipeline_2D_0_thr_0.3\n",
      "\u001B[94mReading NIfTI\u001B[0m: /mnt/c/Users/ignac/OneDrive/Nacho/CNIC/TFM/Data/Gr1/RawImages/Nuclei/QC_CROP/20190208_E2_DAPI_decon_0.5_crop.nii.gz\n",
      "\n",
      "\u001B[92mSaving prediction\u001B[0m: /mnt/c/Users/ignac/OneDrive/Nacho/CNIC/TFM/Data/Gr1/RawImages/Nuclei/QC_CROP/20190208_E2_DAPI_decon_0.5_crop_pipeline_2D_0_thr_0.3_filtered.nii.gz\n"
     ]
    },
    {
     "name": "stderr",
     "output_type": "stream",
     "text": [
      "100%|██████████| 19/19 [00:00<00:00, 6351.97it/s]"
     ]
    },
    {
     "name": "stdout",
     "output_type": "stream",
     "text": [
      "\u001B[92mMasks shape\u001B[0m: (20, 110, 140)\n",
      "\n",
      "\u001B[92mSaving prediction\u001B[0m: /mnt/c/Users/ignac/OneDrive/Nacho/CNIC/TFM/Data/Gr1/Segmentation/Nuclei/QC_CROP/20190208_E2_DAPI_decon_0.5_crop_pipeline_2D_0_thr_0.3.nii.gz\n",
      "[=======                                           ] 15.62%"
     ]
    },
    {
     "name": "stderr",
     "output_type": "stream",
     "text": [
      "\n"
     ]
    },
    {
     "name": "stdout",
     "output_type": "stream",
     "text": [
      "Testing pipeline_2D_1_thr_0.3 pipeline\n",
      "Running test: pipeline_2D_1_thr_0.3\n",
      "\u001B[94mReading NIfTI\u001B[0m: /mnt/c/Users/ignac/OneDrive/Nacho/CNIC/TFM/Data/Gr1/RawImages/Nuclei/QC_CROP/20190208_E2_DAPI_decon_0.5_crop.nii.gz\n",
      "\n",
      "\u001B[92mSaving prediction\u001B[0m: /mnt/c/Users/ignac/OneDrive/Nacho/CNIC/TFM/Data/Gr1/RawImages/Nuclei/QC_CROP/20190208_E2_DAPI_decon_0.5_crop_pipeline_2D_1_thr_0.3_filtered.nii.gz\n"
     ]
    },
    {
     "name": "stderr",
     "output_type": "stream",
     "text": [
      "100%|██████████| 19/19 [00:00<00:00, 5890.88it/s]"
     ]
    },
    {
     "name": "stdout",
     "output_type": "stream",
     "text": [
      "\u001B[92mMasks shape\u001B[0m: (20, 110, 140)\n",
      "\n",
      "\u001B[92mSaving prediction\u001B[0m: /mnt/c/Users/ignac/OneDrive/Nacho/CNIC/TFM/Data/Gr1/Segmentation/Nuclei/QC_CROP/20190208_E2_DAPI_decon_0.5_crop_pipeline_2D_1_thr_0.3.nii.gz\n",
      "[=========                                         ] 18.75%"
     ]
    },
    {
     "name": "stderr",
     "output_type": "stream",
     "text": [
      "\n"
     ]
    },
    {
     "name": "stdout",
     "output_type": "stream",
     "text": [
      "Testing pipeline_2D_0_thr_0.4 pipeline\n",
      "Running test: pipeline_2D_0_thr_0.4\n",
      "\u001B[94mReading NIfTI\u001B[0m: /mnt/c/Users/ignac/OneDrive/Nacho/CNIC/TFM/Data/Gr1/RawImages/Nuclei/QC_CROP/20190208_E2_DAPI_decon_0.5_crop.nii.gz\n",
      "\n",
      "\u001B[92mSaving prediction\u001B[0m: /mnt/c/Users/ignac/OneDrive/Nacho/CNIC/TFM/Data/Gr1/RawImages/Nuclei/QC_CROP/20190208_E2_DAPI_decon_0.5_crop_pipeline_2D_0_thr_0.4_filtered.nii.gz\n"
     ]
    },
    {
     "name": "stderr",
     "output_type": "stream",
     "text": [
      "100%|██████████| 19/19 [00:00<00:00, 7104.55it/s]"
     ]
    },
    {
     "name": "stdout",
     "output_type": "stream",
     "text": [
      "\u001B[92mMasks shape\u001B[0m: (20, 110, 140)\n",
      "\n",
      "\u001B[92mSaving prediction\u001B[0m: /mnt/c/Users/ignac/OneDrive/Nacho/CNIC/TFM/Data/Gr1/Segmentation/Nuclei/QC_CROP/20190208_E2_DAPI_decon_0.5_crop_pipeline_2D_0_thr_0.4.nii.gz\n",
      "[==========                                        ] 21.88%"
     ]
    },
    {
     "name": "stderr",
     "output_type": "stream",
     "text": [
      "\n"
     ]
    },
    {
     "name": "stdout",
     "output_type": "stream",
     "text": [
      "Testing pipeline_2D_1_thr_0.4 pipeline\n",
      "Running test: pipeline_2D_1_thr_0.4\n",
      "\u001B[94mReading NIfTI\u001B[0m: /mnt/c/Users/ignac/OneDrive/Nacho/CNIC/TFM/Data/Gr1/RawImages/Nuclei/QC_CROP/20190208_E2_DAPI_decon_0.5_crop.nii.gz\n",
      "\n",
      "\u001B[92mSaving prediction\u001B[0m: /mnt/c/Users/ignac/OneDrive/Nacho/CNIC/TFM/Data/Gr1/RawImages/Nuclei/QC_CROP/20190208_E2_DAPI_decon_0.5_crop_pipeline_2D_1_thr_0.4_filtered.nii.gz\n"
     ]
    },
    {
     "name": "stderr",
     "output_type": "stream",
     "text": [
      "100%|██████████| 19/19 [00:00<00:00, 5964.95it/s]"
     ]
    },
    {
     "name": "stdout",
     "output_type": "stream",
     "text": [
      "\u001B[92mMasks shape\u001B[0m: (20, 110, 140)\n",
      "\n",
      "\u001B[92mSaving prediction\u001B[0m: /mnt/c/Users/ignac/OneDrive/Nacho/CNIC/TFM/Data/Gr1/Segmentation/Nuclei/QC_CROP/20190208_E2_DAPI_decon_0.5_crop_pipeline_2D_1_thr_0.4.nii.gz\n",
      "[============                                      ] 25.00%"
     ]
    },
    {
     "name": "stderr",
     "output_type": "stream",
     "text": [
      "\n"
     ]
    },
    {
     "name": "stdout",
     "output_type": "stream",
     "text": [
      "Testing pipeline_2D_0_thr_0.5 pipeline\n",
      "Running test: pipeline_2D_0_thr_0.5\n",
      "\u001B[94mReading NIfTI\u001B[0m: /mnt/c/Users/ignac/OneDrive/Nacho/CNIC/TFM/Data/Gr1/RawImages/Nuclei/QC_CROP/20190208_E2_DAPI_decon_0.5_crop.nii.gz\n",
      "\n",
      "\u001B[92mSaving prediction\u001B[0m: /mnt/c/Users/ignac/OneDrive/Nacho/CNIC/TFM/Data/Gr1/RawImages/Nuclei/QC_CROP/20190208_E2_DAPI_decon_0.5_crop_pipeline_2D_0_thr_0.5_filtered.nii.gz\n"
     ]
    },
    {
     "name": "stderr",
     "output_type": "stream",
     "text": [
      "100%|██████████| 19/19 [00:00<00:00, 5892.62it/s]"
     ]
    },
    {
     "name": "stdout",
     "output_type": "stream",
     "text": [
      "\u001B[92mMasks shape\u001B[0m: (20, 110, 140)\n",
      "\n",
      "\u001B[92mSaving prediction\u001B[0m: /mnt/c/Users/ignac/OneDrive/Nacho/CNIC/TFM/Data/Gr1/Segmentation/Nuclei/QC_CROP/20190208_E2_DAPI_decon_0.5_crop_pipeline_2D_0_thr_0.5.nii.gz\n",
      "[==============                                    ] 28.12%"
     ]
    },
    {
     "name": "stderr",
     "output_type": "stream",
     "text": [
      "\n"
     ]
    },
    {
     "name": "stdout",
     "output_type": "stream",
     "text": [
      "Testing pipeline_2D_1_thr_0.5 pipeline\n",
      "Running test: pipeline_2D_1_thr_0.5\n",
      "\u001B[94mReading NIfTI\u001B[0m: /mnt/c/Users/ignac/OneDrive/Nacho/CNIC/TFM/Data/Gr1/RawImages/Nuclei/QC_CROP/20190208_E2_DAPI_decon_0.5_crop.nii.gz\n",
      "\n",
      "\u001B[92mSaving prediction\u001B[0m: /mnt/c/Users/ignac/OneDrive/Nacho/CNIC/TFM/Data/Gr1/RawImages/Nuclei/QC_CROP/20190208_E2_DAPI_decon_0.5_crop_pipeline_2D_1_thr_0.5_filtered.nii.gz\n"
     ]
    },
    {
     "name": "stderr",
     "output_type": "stream",
     "text": [
      "100%|██████████| 19/19 [00:00<00:00, 6434.02it/s]"
     ]
    },
    {
     "name": "stdout",
     "output_type": "stream",
     "text": [
      "\u001B[92mMasks shape\u001B[0m: (20, 110, 140)\n",
      "\n",
      "\u001B[92mSaving prediction\u001B[0m: /mnt/c/Users/ignac/OneDrive/Nacho/CNIC/TFM/Data/Gr1/Segmentation/Nuclei/QC_CROP/20190208_E2_DAPI_decon_0.5_crop_pipeline_2D_1_thr_0.5.nii.gz\n",
      "[===============                                   ] 31.25%"
     ]
    },
    {
     "name": "stderr",
     "output_type": "stream",
     "text": [
      "\n"
     ]
    },
    {
     "name": "stdout",
     "output_type": "stream",
     "text": [
      "Testing pipeline_2D_0_thr_0.6 pipeline\n",
      "Running test: pipeline_2D_0_thr_0.6\n",
      "\u001B[94mReading NIfTI\u001B[0m: /mnt/c/Users/ignac/OneDrive/Nacho/CNIC/TFM/Data/Gr1/RawImages/Nuclei/QC_CROP/20190208_E2_DAPI_decon_0.5_crop.nii.gz\n",
      "\n",
      "\u001B[92mSaving prediction\u001B[0m: /mnt/c/Users/ignac/OneDrive/Nacho/CNIC/TFM/Data/Gr1/RawImages/Nuclei/QC_CROP/20190208_E2_DAPI_decon_0.5_crop_pipeline_2D_0_thr_0.6_filtered.nii.gz\n"
     ]
    },
    {
     "name": "stderr",
     "output_type": "stream",
     "text": [
      "100%|██████████| 19/19 [00:00<00:00, 2883.00it/s]"
     ]
    },
    {
     "name": "stdout",
     "output_type": "stream",
     "text": [
      "\u001B[92mMasks shape\u001B[0m: (20, 110, 140)\n",
      "\n",
      "\u001B[92mSaving prediction\u001B[0m: /mnt/c/Users/ignac/OneDrive/Nacho/CNIC/TFM/Data/Gr1/Segmentation/Nuclei/QC_CROP/20190208_E2_DAPI_decon_0.5_crop_pipeline_2D_0_thr_0.6.nii.gz\n",
      "[=================                                 ] 34.38%"
     ]
    },
    {
     "name": "stderr",
     "output_type": "stream",
     "text": [
      "\n"
     ]
    },
    {
     "name": "stdout",
     "output_type": "stream",
     "text": [
      "Testing pipeline_2D_1_thr_0.6 pipeline\n",
      "Running test: pipeline_2D_1_thr_0.6\n",
      "\u001B[94mReading NIfTI\u001B[0m: /mnt/c/Users/ignac/OneDrive/Nacho/CNIC/TFM/Data/Gr1/RawImages/Nuclei/QC_CROP/20190208_E2_DAPI_decon_0.5_crop.nii.gz\n",
      "\n",
      "\u001B[92mSaving prediction\u001B[0m: /mnt/c/Users/ignac/OneDrive/Nacho/CNIC/TFM/Data/Gr1/RawImages/Nuclei/QC_CROP/20190208_E2_DAPI_decon_0.5_crop_pipeline_2D_1_thr_0.6_filtered.nii.gz\n"
     ]
    },
    {
     "name": "stderr",
     "output_type": "stream",
     "text": [
      "100%|██████████| 19/19 [00:00<00:00, 4061.14it/s]"
     ]
    },
    {
     "name": "stdout",
     "output_type": "stream",
     "text": [
      "\u001B[92mMasks shape\u001B[0m: (20, 110, 140)\n",
      "\n",
      "\u001B[92mSaving prediction\u001B[0m: /mnt/c/Users/ignac/OneDrive/Nacho/CNIC/TFM/Data/Gr1/Segmentation/Nuclei/QC_CROP/20190208_E2_DAPI_decon_0.5_crop_pipeline_2D_1_thr_0.6.nii.gz\n",
      "[==================                                ] 37.50%"
     ]
    },
    {
     "name": "stderr",
     "output_type": "stream",
     "text": [
      "\n"
     ]
    },
    {
     "name": "stdout",
     "output_type": "stream",
     "text": [
      "Testing pipeline_2D_0_thr_0.7 pipeline\n",
      "Running test: pipeline_2D_0_thr_0.7\n",
      "\u001B[94mReading NIfTI\u001B[0m: /mnt/c/Users/ignac/OneDrive/Nacho/CNIC/TFM/Data/Gr1/RawImages/Nuclei/QC_CROP/20190208_E2_DAPI_decon_0.5_crop.nii.gz\n",
      "\n",
      "\u001B[92mSaving prediction\u001B[0m: /mnt/c/Users/ignac/OneDrive/Nacho/CNIC/TFM/Data/Gr1/RawImages/Nuclei/QC_CROP/20190208_E2_DAPI_decon_0.5_crop_pipeline_2D_0_thr_0.7_filtered.nii.gz\n"
     ]
    },
    {
     "name": "stderr",
     "output_type": "stream",
     "text": [
      "100%|██████████| 19/19 [00:00<00:00, 4904.11it/s]"
     ]
    },
    {
     "name": "stdout",
     "output_type": "stream",
     "text": [
      "\u001B[92mMasks shape\u001B[0m: (20, 110, 140)\n",
      "\n",
      "\u001B[92mSaving prediction\u001B[0m: /mnt/c/Users/ignac/OneDrive/Nacho/CNIC/TFM/Data/Gr1/Segmentation/Nuclei/QC_CROP/20190208_E2_DAPI_decon_0.5_crop_pipeline_2D_0_thr_0.7.nii.gz\n",
      "[====================                              ] 40.62%"
     ]
    },
    {
     "name": "stderr",
     "output_type": "stream",
     "text": [
      "\n"
     ]
    },
    {
     "name": "stdout",
     "output_type": "stream",
     "text": [
      "Testing pipeline_2D_1_thr_0.7 pipeline\n",
      "Running test: pipeline_2D_1_thr_0.7\n",
      "\u001B[94mReading NIfTI\u001B[0m: /mnt/c/Users/ignac/OneDrive/Nacho/CNIC/TFM/Data/Gr1/RawImages/Nuclei/QC_CROP/20190208_E2_DAPI_decon_0.5_crop.nii.gz\n",
      "\n",
      "\u001B[92mSaving prediction\u001B[0m: /mnt/c/Users/ignac/OneDrive/Nacho/CNIC/TFM/Data/Gr1/RawImages/Nuclei/QC_CROP/20190208_E2_DAPI_decon_0.5_crop_pipeline_2D_1_thr_0.7_filtered.nii.gz\n"
     ]
    },
    {
     "name": "stderr",
     "output_type": "stream",
     "text": [
      "100%|██████████| 19/19 [00:00<00:00, 5860.55it/s]"
     ]
    },
    {
     "name": "stdout",
     "output_type": "stream",
     "text": [
      "\u001B[92mMasks shape\u001B[0m: (20, 110, 140)\n",
      "\n",
      "\u001B[92mSaving prediction\u001B[0m: /mnt/c/Users/ignac/OneDrive/Nacho/CNIC/TFM/Data/Gr1/Segmentation/Nuclei/QC_CROP/20190208_E2_DAPI_decon_0.5_crop_pipeline_2D_1_thr_0.7.nii.gz\n",
      "[=====================                             ] 43.75%"
     ]
    },
    {
     "name": "stderr",
     "output_type": "stream",
     "text": [
      "\n"
     ]
    },
    {
     "name": "stdout",
     "output_type": "stream",
     "text": [
      "Testing pipeline_2D_0_thr_0.8 pipeline\n",
      "Running test: pipeline_2D_0_thr_0.8\n",
      "\u001B[94mReading NIfTI\u001B[0m: /mnt/c/Users/ignac/OneDrive/Nacho/CNIC/TFM/Data/Gr1/RawImages/Nuclei/QC_CROP/20190208_E2_DAPI_decon_0.5_crop.nii.gz\n",
      "\n",
      "\u001B[92mSaving prediction\u001B[0m: /mnt/c/Users/ignac/OneDrive/Nacho/CNIC/TFM/Data/Gr1/RawImages/Nuclei/QC_CROP/20190208_E2_DAPI_decon_0.5_crop_pipeline_2D_0_thr_0.8_filtered.nii.gz\n"
     ]
    },
    {
     "name": "stderr",
     "output_type": "stream",
     "text": [
      "100%|██████████| 19/19 [00:00<00:00, 5073.65it/s]"
     ]
    },
    {
     "name": "stdout",
     "output_type": "stream",
     "text": [
      "\u001B[92mMasks shape\u001B[0m: (20, 110, 140)\n",
      "\n",
      "\u001B[92mSaving prediction\u001B[0m: /mnt/c/Users/ignac/OneDrive/Nacho/CNIC/TFM/Data/Gr1/Segmentation/Nuclei/QC_CROP/20190208_E2_DAPI_decon_0.5_crop_pipeline_2D_0_thr_0.8.nii.gz\n",
      "[=======================                           ] 46.88%"
     ]
    },
    {
     "name": "stderr",
     "output_type": "stream",
     "text": [
      "\n"
     ]
    },
    {
     "name": "stdout",
     "output_type": "stream",
     "text": [
      "Testing pipeline_2D_1_thr_0.8 pipeline\n",
      "Running test: pipeline_2D_1_thr_0.8\n",
      "\u001B[94mReading NIfTI\u001B[0m: /mnt/c/Users/ignac/OneDrive/Nacho/CNIC/TFM/Data/Gr1/RawImages/Nuclei/QC_CROP/20190208_E2_DAPI_decon_0.5_crop.nii.gz\n",
      "\n",
      "\u001B[92mSaving prediction\u001B[0m: /mnt/c/Users/ignac/OneDrive/Nacho/CNIC/TFM/Data/Gr1/RawImages/Nuclei/QC_CROP/20190208_E2_DAPI_decon_0.5_crop_pipeline_2D_1_thr_0.8_filtered.nii.gz\n"
     ]
    },
    {
     "name": "stderr",
     "output_type": "stream",
     "text": [
      "100%|██████████| 19/19 [00:00<00:00, 4583.68it/s]"
     ]
    },
    {
     "name": "stdout",
     "output_type": "stream",
     "text": [
      "\u001B[92mMasks shape\u001B[0m: (20, 110, 140)\n",
      "\n",
      "\u001B[92mSaving prediction\u001B[0m: /mnt/c/Users/ignac/OneDrive/Nacho/CNIC/TFM/Data/Gr1/Segmentation/Nuclei/QC_CROP/20190208_E2_DAPI_decon_0.5_crop_pipeline_2D_1_thr_0.8.nii.gz\n",
      "[=========================                         ] 50.00%"
     ]
    },
    {
     "name": "stderr",
     "output_type": "stream",
     "text": [
      "\n"
     ]
    },
    {
     "name": "stdout",
     "output_type": "stream",
     "text": [
      "Testing pipeline_3D_0_thr_0.1 pipeline\n",
      "Running test: pipeline_3D_0_thr_0.1\n",
      "\u001B[94mReading NIfTI\u001B[0m: /mnt/c/Users/ignac/OneDrive/Nacho/CNIC/TFM/Data/Gr1/RawImages/Nuclei/QC_CROP/20190208_E2_DAPI_decon_0.5_crop.nii.gz\n",
      "\n",
      "\u001B[92mSaving prediction\u001B[0m: /mnt/c/Users/ignac/OneDrive/Nacho/CNIC/TFM/Data/Gr1/RawImages/Nuclei/QC_CROP/20190208_E2_DAPI_decon_0.5_crop_pipeline_3D_0_thr_0.1_filtered.nii.gz\n",
      "\u001B[92mMasks shape\u001B[0m: (20, 110, 140)\n",
      "\n",
      "\u001B[92mSaving prediction\u001B[0m: /mnt/c/Users/ignac/OneDrive/Nacho/CNIC/TFM/Data/Gr1/Segmentation/Nuclei/QC_CROP/20190208_E2_DAPI_decon_0.5_crop_pipeline_3D_0_thr_0.1.nii.gz\n",
      "[==========================                        ] 53.12%Testing pipeline_3D_1_thr_0.1 pipeline\n",
      "Running test: pipeline_3D_1_thr_0.1\n",
      "\u001B[94mReading NIfTI\u001B[0m: /mnt/c/Users/ignac/OneDrive/Nacho/CNIC/TFM/Data/Gr1/RawImages/Nuclei/QC_CROP/20190208_E2_DAPI_decon_0.5_crop.nii.gz\n",
      "\n",
      "\u001B[92mSaving prediction\u001B[0m: /mnt/c/Users/ignac/OneDrive/Nacho/CNIC/TFM/Data/Gr1/RawImages/Nuclei/QC_CROP/20190208_E2_DAPI_decon_0.5_crop_pipeline_3D_1_thr_0.1_filtered.nii.gz\n",
      "\u001B[92mMasks shape\u001B[0m: (20, 110, 140)\n",
      "\n",
      "\u001B[92mSaving prediction\u001B[0m: /mnt/c/Users/ignac/OneDrive/Nacho/CNIC/TFM/Data/Gr1/Segmentation/Nuclei/QC_CROP/20190208_E2_DAPI_decon_0.5_crop_pipeline_3D_1_thr_0.1.nii.gz\n",
      "[============================                      ] 56.25%Testing pipeline_3D_0_thr_0.2 pipeline\n",
      "Running test: pipeline_3D_0_thr_0.2\n",
      "\u001B[94mReading NIfTI\u001B[0m: /mnt/c/Users/ignac/OneDrive/Nacho/CNIC/TFM/Data/Gr1/RawImages/Nuclei/QC_CROP/20190208_E2_DAPI_decon_0.5_crop.nii.gz\n",
      "\n",
      "\u001B[92mSaving prediction\u001B[0m: /mnt/c/Users/ignac/OneDrive/Nacho/CNIC/TFM/Data/Gr1/RawImages/Nuclei/QC_CROP/20190208_E2_DAPI_decon_0.5_crop_pipeline_3D_0_thr_0.2_filtered.nii.gz\n",
      "\u001B[92mMasks shape\u001B[0m: (20, 110, 140)\n",
      "\n",
      "\u001B[92mSaving prediction\u001B[0m: /mnt/c/Users/ignac/OneDrive/Nacho/CNIC/TFM/Data/Gr1/Segmentation/Nuclei/QC_CROP/20190208_E2_DAPI_decon_0.5_crop_pipeline_3D_0_thr_0.2.nii.gz\n",
      "[=============================                     ] 59.38%Testing pipeline_3D_1_thr_0.2 pipeline\n",
      "Running test: pipeline_3D_1_thr_0.2\n",
      "\u001B[94mReading NIfTI\u001B[0m: /mnt/c/Users/ignac/OneDrive/Nacho/CNIC/TFM/Data/Gr1/RawImages/Nuclei/QC_CROP/20190208_E2_DAPI_decon_0.5_crop.nii.gz\n",
      "\n",
      "\u001B[92mSaving prediction\u001B[0m: /mnt/c/Users/ignac/OneDrive/Nacho/CNIC/TFM/Data/Gr1/RawImages/Nuclei/QC_CROP/20190208_E2_DAPI_decon_0.5_crop_pipeline_3D_1_thr_0.2_filtered.nii.gz\n",
      "\u001B[92mMasks shape\u001B[0m: (20, 110, 140)\n",
      "\n",
      "\u001B[92mSaving prediction\u001B[0m: /mnt/c/Users/ignac/OneDrive/Nacho/CNIC/TFM/Data/Gr1/Segmentation/Nuclei/QC_CROP/20190208_E2_DAPI_decon_0.5_crop_pipeline_3D_1_thr_0.2.nii.gz\n",
      "[===============================                   ] 62.50%Testing pipeline_3D_0_thr_0.3 pipeline\n",
      "Running test: pipeline_3D_0_thr_0.3\n",
      "\u001B[94mReading NIfTI\u001B[0m: /mnt/c/Users/ignac/OneDrive/Nacho/CNIC/TFM/Data/Gr1/RawImages/Nuclei/QC_CROP/20190208_E2_DAPI_decon_0.5_crop.nii.gz\n",
      "\n",
      "\u001B[92mSaving prediction\u001B[0m: /mnt/c/Users/ignac/OneDrive/Nacho/CNIC/TFM/Data/Gr1/RawImages/Nuclei/QC_CROP/20190208_E2_DAPI_decon_0.5_crop_pipeline_3D_0_thr_0.3_filtered.nii.gz\n",
      "\u001B[92mMasks shape\u001B[0m: (20, 110, 140)\n",
      "\n",
      "\u001B[92mSaving prediction\u001B[0m: /mnt/c/Users/ignac/OneDrive/Nacho/CNIC/TFM/Data/Gr1/Segmentation/Nuclei/QC_CROP/20190208_E2_DAPI_decon_0.5_crop_pipeline_3D_0_thr_0.3.nii.gz\n",
      "[================================                  ] 65.62%Testing pipeline_3D_1_thr_0.3 pipeline\n",
      "Running test: pipeline_3D_1_thr_0.3\n",
      "\u001B[94mReading NIfTI\u001B[0m: /mnt/c/Users/ignac/OneDrive/Nacho/CNIC/TFM/Data/Gr1/RawImages/Nuclei/QC_CROP/20190208_E2_DAPI_decon_0.5_crop.nii.gz\n",
      "\n",
      "\u001B[92mSaving prediction\u001B[0m: /mnt/c/Users/ignac/OneDrive/Nacho/CNIC/TFM/Data/Gr1/RawImages/Nuclei/QC_CROP/20190208_E2_DAPI_decon_0.5_crop_pipeline_3D_1_thr_0.3_filtered.nii.gz\n",
      "\u001B[92mMasks shape\u001B[0m: (20, 110, 140)\n",
      "\n",
      "\u001B[92mSaving prediction\u001B[0m: /mnt/c/Users/ignac/OneDrive/Nacho/CNIC/TFM/Data/Gr1/Segmentation/Nuclei/QC_CROP/20190208_E2_DAPI_decon_0.5_crop_pipeline_3D_1_thr_0.3.nii.gz\n",
      "[==================================                ] 68.75%Testing pipeline_3D_0_thr_0.4 pipeline\n",
      "Running test: pipeline_3D_0_thr_0.4\n",
      "\u001B[94mReading NIfTI\u001B[0m: /mnt/c/Users/ignac/OneDrive/Nacho/CNIC/TFM/Data/Gr1/RawImages/Nuclei/QC_CROP/20190208_E2_DAPI_decon_0.5_crop.nii.gz\n",
      "\n",
      "\u001B[92mSaving prediction\u001B[0m: /mnt/c/Users/ignac/OneDrive/Nacho/CNIC/TFM/Data/Gr1/RawImages/Nuclei/QC_CROP/20190208_E2_DAPI_decon_0.5_crop_pipeline_3D_0_thr_0.4_filtered.nii.gz\n",
      "\u001B[92mMasks shape\u001B[0m: (20, 110, 140)\n",
      "\n",
      "\u001B[92mSaving prediction\u001B[0m: /mnt/c/Users/ignac/OneDrive/Nacho/CNIC/TFM/Data/Gr1/Segmentation/Nuclei/QC_CROP/20190208_E2_DAPI_decon_0.5_crop_pipeline_3D_0_thr_0.4.nii.gz\n",
      "[===================================               ] 71.88%Testing pipeline_3D_1_thr_0.4 pipeline\n",
      "Running test: pipeline_3D_1_thr_0.4\n",
      "\u001B[94mReading NIfTI\u001B[0m: /mnt/c/Users/ignac/OneDrive/Nacho/CNIC/TFM/Data/Gr1/RawImages/Nuclei/QC_CROP/20190208_E2_DAPI_decon_0.5_crop.nii.gz\n",
      "\n",
      "\u001B[92mSaving prediction\u001B[0m: /mnt/c/Users/ignac/OneDrive/Nacho/CNIC/TFM/Data/Gr1/RawImages/Nuclei/QC_CROP/20190208_E2_DAPI_decon_0.5_crop_pipeline_3D_1_thr_0.4_filtered.nii.gz\n",
      "\u001B[92mMasks shape\u001B[0m: (20, 110, 140)\n",
      "\n",
      "\u001B[92mSaving prediction\u001B[0m: /mnt/c/Users/ignac/OneDrive/Nacho/CNIC/TFM/Data/Gr1/Segmentation/Nuclei/QC_CROP/20190208_E2_DAPI_decon_0.5_crop_pipeline_3D_1_thr_0.4.nii.gz\n",
      "[=====================================             ] 75.00%Testing pipeline_3D_0_thr_0.5 pipeline\n",
      "Running test: pipeline_3D_0_thr_0.5\n",
      "\u001B[94mReading NIfTI\u001B[0m: /mnt/c/Users/ignac/OneDrive/Nacho/CNIC/TFM/Data/Gr1/RawImages/Nuclei/QC_CROP/20190208_E2_DAPI_decon_0.5_crop.nii.gz\n",
      "\n",
      "\u001B[92mSaving prediction\u001B[0m: /mnt/c/Users/ignac/OneDrive/Nacho/CNIC/TFM/Data/Gr1/RawImages/Nuclei/QC_CROP/20190208_E2_DAPI_decon_0.5_crop_pipeline_3D_0_thr_0.5_filtered.nii.gz\n",
      "\u001B[92mMasks shape\u001B[0m: (20, 110, 140)\n",
      "\n",
      "\u001B[92mSaving prediction\u001B[0m: /mnt/c/Users/ignac/OneDrive/Nacho/CNIC/TFM/Data/Gr1/Segmentation/Nuclei/QC_CROP/20190208_E2_DAPI_decon_0.5_crop_pipeline_3D_0_thr_0.5.nii.gz\n",
      "[=======================================           ] 78.12%Testing pipeline_3D_1_thr_0.5 pipeline\n",
      "Running test: pipeline_3D_1_thr_0.5\n",
      "\u001B[94mReading NIfTI\u001B[0m: /mnt/c/Users/ignac/OneDrive/Nacho/CNIC/TFM/Data/Gr1/RawImages/Nuclei/QC_CROP/20190208_E2_DAPI_decon_0.5_crop.nii.gz\n",
      "\n",
      "\u001B[92mSaving prediction\u001B[0m: /mnt/c/Users/ignac/OneDrive/Nacho/CNIC/TFM/Data/Gr1/RawImages/Nuclei/QC_CROP/20190208_E2_DAPI_decon_0.5_crop_pipeline_3D_1_thr_0.5_filtered.nii.gz\n",
      "\u001B[92mMasks shape\u001B[0m: (20, 110, 140)\n",
      "\n",
      "\u001B[92mSaving prediction\u001B[0m: /mnt/c/Users/ignac/OneDrive/Nacho/CNIC/TFM/Data/Gr1/Segmentation/Nuclei/QC_CROP/20190208_E2_DAPI_decon_0.5_crop_pipeline_3D_1_thr_0.5.nii.gz\n",
      "[========================================          ] 81.25%Testing pipeline_3D_0_thr_0.6 pipeline\n",
      "Running test: pipeline_3D_0_thr_0.6\n",
      "\u001B[94mReading NIfTI\u001B[0m: /mnt/c/Users/ignac/OneDrive/Nacho/CNIC/TFM/Data/Gr1/RawImages/Nuclei/QC_CROP/20190208_E2_DAPI_decon_0.5_crop.nii.gz\n",
      "\n",
      "\u001B[92mSaving prediction\u001B[0m: /mnt/c/Users/ignac/OneDrive/Nacho/CNIC/TFM/Data/Gr1/RawImages/Nuclei/QC_CROP/20190208_E2_DAPI_decon_0.5_crop_pipeline_3D_0_thr_0.6_filtered.nii.gz\n",
      "\u001B[92mMasks shape\u001B[0m: (20, 110, 140)\n",
      "\n",
      "\u001B[92mSaving prediction\u001B[0m: /mnt/c/Users/ignac/OneDrive/Nacho/CNIC/TFM/Data/Gr1/Segmentation/Nuclei/QC_CROP/20190208_E2_DAPI_decon_0.5_crop_pipeline_3D_0_thr_0.6.nii.gz\n",
      "[==========================================        ] 84.38%Testing pipeline_3D_1_thr_0.6 pipeline\n",
      "Running test: pipeline_3D_1_thr_0.6\n",
      "\u001B[94mReading NIfTI\u001B[0m: /mnt/c/Users/ignac/OneDrive/Nacho/CNIC/TFM/Data/Gr1/RawImages/Nuclei/QC_CROP/20190208_E2_DAPI_decon_0.5_crop.nii.gz\n",
      "\n",
      "\u001B[92mSaving prediction\u001B[0m: /mnt/c/Users/ignac/OneDrive/Nacho/CNIC/TFM/Data/Gr1/RawImages/Nuclei/QC_CROP/20190208_E2_DAPI_decon_0.5_crop_pipeline_3D_1_thr_0.6_filtered.nii.gz\n",
      "\u001B[92mMasks shape\u001B[0m: (20, 110, 140)\n",
      "\n",
      "\u001B[92mSaving prediction\u001B[0m: /mnt/c/Users/ignac/OneDrive/Nacho/CNIC/TFM/Data/Gr1/Segmentation/Nuclei/QC_CROP/20190208_E2_DAPI_decon_0.5_crop_pipeline_3D_1_thr_0.6.nii.gz\n",
      "[===========================================       ] 87.50%Testing pipeline_3D_0_thr_0.7 pipeline\n",
      "Running test: pipeline_3D_0_thr_0.7\n",
      "\u001B[94mReading NIfTI\u001B[0m: /mnt/c/Users/ignac/OneDrive/Nacho/CNIC/TFM/Data/Gr1/RawImages/Nuclei/QC_CROP/20190208_E2_DAPI_decon_0.5_crop.nii.gz\n",
      "\n",
      "\u001B[92mSaving prediction\u001B[0m: /mnt/c/Users/ignac/OneDrive/Nacho/CNIC/TFM/Data/Gr1/RawImages/Nuclei/QC_CROP/20190208_E2_DAPI_decon_0.5_crop_pipeline_3D_0_thr_0.7_filtered.nii.gz\n",
      "\u001B[92mMasks shape\u001B[0m: (20, 110, 140)\n",
      "\n",
      "\u001B[92mSaving prediction\u001B[0m: /mnt/c/Users/ignac/OneDrive/Nacho/CNIC/TFM/Data/Gr1/Segmentation/Nuclei/QC_CROP/20190208_E2_DAPI_decon_0.5_crop_pipeline_3D_0_thr_0.7.nii.gz\n",
      "[=============================================     ] 90.62%Testing pipeline_3D_1_thr_0.7 pipeline\n",
      "Running test: pipeline_3D_1_thr_0.7\n",
      "\u001B[94mReading NIfTI\u001B[0m: /mnt/c/Users/ignac/OneDrive/Nacho/CNIC/TFM/Data/Gr1/RawImages/Nuclei/QC_CROP/20190208_E2_DAPI_decon_0.5_crop.nii.gz\n",
      "\n",
      "\u001B[92mSaving prediction\u001B[0m: /mnt/c/Users/ignac/OneDrive/Nacho/CNIC/TFM/Data/Gr1/RawImages/Nuclei/QC_CROP/20190208_E2_DAPI_decon_0.5_crop_pipeline_3D_1_thr_0.7_filtered.nii.gz\n",
      "\u001B[92mMasks shape\u001B[0m: (20, 110, 140)\n",
      "\n",
      "\u001B[92mSaving prediction\u001B[0m: /mnt/c/Users/ignac/OneDrive/Nacho/CNIC/TFM/Data/Gr1/Segmentation/Nuclei/QC_CROP/20190208_E2_DAPI_decon_0.5_crop_pipeline_3D_1_thr_0.7.nii.gz\n",
      "[==============================================    ] 93.75%Testing pipeline_3D_0_thr_0.8 pipeline\n",
      "Running test: pipeline_3D_0_thr_0.8\n",
      "\u001B[94mReading NIfTI\u001B[0m: /mnt/c/Users/ignac/OneDrive/Nacho/CNIC/TFM/Data/Gr1/RawImages/Nuclei/QC_CROP/20190208_E2_DAPI_decon_0.5_crop.nii.gz\n",
      "\n",
      "\u001B[92mSaving prediction\u001B[0m: /mnt/c/Users/ignac/OneDrive/Nacho/CNIC/TFM/Data/Gr1/RawImages/Nuclei/QC_CROP/20190208_E2_DAPI_decon_0.5_crop_pipeline_3D_0_thr_0.8_filtered.nii.gz\n",
      "\u001B[92mMasks shape\u001B[0m: (20, 110, 140)\n",
      "\n",
      "\u001B[92mSaving prediction\u001B[0m: /mnt/c/Users/ignac/OneDrive/Nacho/CNIC/TFM/Data/Gr1/Segmentation/Nuclei/QC_CROP/20190208_E2_DAPI_decon_0.5_crop_pipeline_3D_0_thr_0.8.nii.gz\n",
      "[================================================  ] 96.88%Testing pipeline_3D_1_thr_0.8 pipeline\n",
      "Running test: pipeline_3D_1_thr_0.8\n",
      "\u001B[94mReading NIfTI\u001B[0m: /mnt/c/Users/ignac/OneDrive/Nacho/CNIC/TFM/Data/Gr1/RawImages/Nuclei/QC_CROP/20190208_E2_DAPI_decon_0.5_crop.nii.gz\n",
      "\n",
      "\u001B[92mSaving prediction\u001B[0m: /mnt/c/Users/ignac/OneDrive/Nacho/CNIC/TFM/Data/Gr1/RawImages/Nuclei/QC_CROP/20190208_E2_DAPI_decon_0.5_crop_pipeline_3D_1_thr_0.8_filtered.nii.gz\n",
      "\u001B[92mMasks shape\u001B[0m: (20, 110, 140)\n",
      "\n",
      "\u001B[92mSaving prediction\u001B[0m: /mnt/c/Users/ignac/OneDrive/Nacho/CNIC/TFM/Data/Gr1/Segmentation/Nuclei/QC_CROP/20190208_E2_DAPI_decon_0.5_crop_pipeline_3D_1_thr_0.8.nii.gz\n",
      "[==================================================] 100.00%\n"
     ]
    }
   ],
   "execution_count": 6
  }
 ],
 "metadata": {
  "kernelspec": {
   "display_name": "Python 3",
   "language": "python",
   "name": "python3"
  },
  "language_info": {
   "codemirror_mode": {
    "name": "ipython",
    "version": 2
   },
   "file_extension": ".py",
   "mimetype": "text/x-python",
   "name": "python",
   "nbconvert_exporter": "python",
   "pygments_lexer": "ipython2",
   "version": "2.7.6"
  }
 },
 "nbformat": 4,
 "nbformat_minor": 5
}
