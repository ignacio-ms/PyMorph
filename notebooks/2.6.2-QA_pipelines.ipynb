{
 "cells": [
  {
   "cell_type": "code",
   "id": "initial_id",
   "metadata": {
    "collapsed": true,
    "ExecuteTime": {
     "end_time": "2024-10-04T15:33:01.304149Z",
     "start_time": "2024-10-04T15:32:55.568948Z"
    }
   },
   "source": [
    "import numpy as np\n",
    "import matplotlib.pyplot as plt\n",
    "import pandas as pd\n",
    "\n",
    "from auxiliary import values as v\n",
    "from auxiliary.data import imaging\n",
    "from auxiliary.utils.timer import LoadingBar\n",
    "\n",
    "from nuclei_segmentation import my_cellpose\n",
    "from nuclei_segmentation.quality_control.model_tester import ModelTester"
   ],
   "outputs": [
    {
     "name": "stdout",
     "output_type": "stream",
     "text": [
      "GPU activated: False\n"
     ]
    }
   ],
   "execution_count": 1
  },
  {
   "metadata": {
    "ExecuteTime": {
     "end_time": "2024-10-04T15:33:01.885473Z",
     "start_time": "2024-10-04T15:33:01.879752Z"
    }
   },
   "cell_type": "code",
   "source": [
    "v.data_path = '/mnt/c/Users/ignac/OneDrive/Nacho/CNIC/TFM/Data/'\n",
    "\n",
    "img_path = (\n",
    "        v.data_path \n",
    "        + 'Gr1/RawImages/Nuclei/QC_CROP/20190208_E2_DAPI_decon_0.5_crop.nii.gz'\n",
    ")"
   ],
   "id": "208203db7dd99579",
   "outputs": [],
   "execution_count": 2
  },
  {
   "metadata": {},
   "cell_type": "markdown",
   "source": "Grid search into preprocessing steps ",
   "id": "d7697f3b3a2855bf"
  },
  {
   "metadata": {
    "ExecuteTime": {
     "end_time": "2024-10-04T15:33:03.041184Z",
     "start_time": "2024-10-04T15:33:03.031178Z"
    }
   },
   "cell_type": "code",
   "source": [
    "from itertools import permutations, chain\n",
    "\n",
    "\n",
    "# Cellpose params\n",
    "steps_type = ['2D', '3D']\n",
    "steps_thr = list(np.round(np.linspace(0.2, .8, 8), 1))\n",
    "\n",
    "# Preprocessing steps\n",
    "normalization_methods = ['norm_minmax', 'norm_percentile']\n",
    "pre_steps_top = ['isotropy']\n",
    "pre_steps_bottom = [\n",
    "    'bilateral', \n",
    "    'anisodiff'\n",
    "]\n",
    "\n",
    "pre_steps_permutations = list(chain(*[\n",
    "    permutations(pre_steps_bottom, r) \n",
    "    for r in range(1, len(pre_steps_bottom) + 1)\n",
    "]))\n",
    "\n",
    "# Postprocessing steps\n",
    "post_steps = [\n",
    "    'remove_small_objects',\n",
    "    '3d_connected_component_analysis',\n",
    "    'watershed'\n",
    "]\n",
    "\n",
    "post_steps_permutations = list(chain(*[\n",
    "    permutations(post_steps, r) \n",
    "    for r in range(1, len(post_steps) + 1)\n",
    "])) + [()]\n",
    "\n",
    "pipelines_dict = {}\n",
    "\n",
    "# Create pipelines for each type (2D/3D)\n",
    "for step in steps_type:\n",
    "    # Apply threshold only for 2D\n",
    "    if step == '2D':\n",
    "        for thr in steps_thr:\n",
    "            for norm_method in normalization_methods:\n",
    "                for i, pre_steps in enumerate(pre_steps_permutations):\n",
    "                    for j, post_steps in enumerate(post_steps_permutations):\n",
    "                        pipeline_pre = pre_steps_top + [norm_method] + list(pre_steps)\n",
    "                        pipeline = pipeline_pre + list(post_steps)\n",
    "                        \n",
    "                        # Include threshold for 2D pipelines\n",
    "                        name = f\"pipeline_{step}_thr_{thr}_{norm_method}_{i}_{j}\"\n",
    "                        pipelines_dict[name] = {\n",
    "                            'pipeline': pipeline,\n",
    "                            'type': step,\n",
    "                            'threshold': thr\n",
    "                        }\n",
    "    else:  # For 3D pipelines, ignore thresholds\n",
    "        for norm_method in normalization_methods:\n",
    "            for i, pre_steps in enumerate(pre_steps_permutations):\n",
    "                for j, post_steps in enumerate(post_steps_permutations):\n",
    "                    pipeline_pre = pre_steps_top + [norm_method] + list(pre_steps)\n",
    "                    pipeline = pipeline_pre + list(post_steps)\n",
    "                    \n",
    "                    # No threshold for 3D pipelines\n",
    "                    name = f\"pipeline_{step}_{norm_method}_{i}_{j}\"\n",
    "                    pipelines_dict[name] = {\n",
    "                        'pipeline': pipeline,\n",
    "                        'type': step\n",
    "                    }\n",
    "\n",
    "print('Total pipelines:', len(pipelines_dict))"
   ],
   "id": "ce211f6b3d8fb2d3",
   "outputs": [
    {
     "name": "stdout",
     "output_type": "stream",
     "text": [
      "Total pipelines: 896\n"
     ]
    }
   ],
   "execution_count": 3
  },
  {
   "metadata": {
    "ExecuteTime": {
     "end_time": "2024-10-04T15:33:03.697758Z",
     "start_time": "2024-10-04T15:33:03.644610Z"
    }
   },
   "cell_type": "code",
   "source": [
    "# Print all pipelines\n",
    "for name, config in pipelines_dict.items():\n",
    "    print(name, config)"
   ],
   "id": "4f257f29abc50d4e",
   "outputs": [
    {
     "name": "stdout",
     "output_type": "stream",
     "text": [
      "pipeline_2D_thr_0.2_norm_minmax_0_0 {'pipeline': ['isotropy', 'norm_minmax', 'bilateral', 'remove_small_objects'], 'type': '2D', 'threshold': 0.2}\n",
      "pipeline_2D_thr_0.2_norm_minmax_0_1 {'pipeline': ['isotropy', 'norm_minmax', 'bilateral', '3d_connected_component_analysis'], 'type': '2D', 'threshold': 0.2}\n",
      "pipeline_2D_thr_0.2_norm_minmax_0_2 {'pipeline': ['isotropy', 'norm_minmax', 'bilateral', 'watershed'], 'type': '2D', 'threshold': 0.2}\n",
      "pipeline_2D_thr_0.2_norm_minmax_0_3 {'pipeline': ['isotropy', 'norm_minmax', 'bilateral', 'remove_small_objects', '3d_connected_component_analysis'], 'type': '2D', 'threshold': 0.2}\n",
      "pipeline_2D_thr_0.2_norm_minmax_0_4 {'pipeline': ['isotropy', 'norm_minmax', 'bilateral', 'remove_small_objects', 'watershed'], 'type': '2D', 'threshold': 0.2}\n",
      "pipeline_2D_thr_0.2_norm_minmax_0_5 {'pipeline': ['isotropy', 'norm_minmax', 'bilateral', '3d_connected_component_analysis', 'remove_small_objects'], 'type': '2D', 'threshold': 0.2}\n",
      "pipeline_2D_thr_0.2_norm_minmax_0_6 {'pipeline': ['isotropy', 'norm_minmax', 'bilateral', '3d_connected_component_analysis', 'watershed'], 'type': '2D', 'threshold': 0.2}\n",
      "pipeline_2D_thr_0.2_norm_minmax_0_7 {'pipeline': ['isotropy', 'norm_minmax', 'bilateral', 'watershed', 'remove_small_objects'], 'type': '2D', 'threshold': 0.2}\n",
      "pipeline_2D_thr_0.2_norm_minmax_0_8 {'pipeline': ['isotropy', 'norm_minmax', 'bilateral', 'watershed', '3d_connected_component_analysis'], 'type': '2D', 'threshold': 0.2}\n",
      "pipeline_2D_thr_0.2_norm_minmax_0_9 {'pipeline': ['isotropy', 'norm_minmax', 'bilateral', 'remove_small_objects', '3d_connected_component_analysis', 'watershed'], 'type': '2D', 'threshold': 0.2}\n",
      "pipeline_2D_thr_0.2_norm_minmax_0_10 {'pipeline': ['isotropy', 'norm_minmax', 'bilateral', 'remove_small_objects', 'watershed', '3d_connected_component_analysis'], 'type': '2D', 'threshold': 0.2}\n",
      "pipeline_2D_thr_0.2_norm_minmax_0_11 {'pipeline': ['isotropy', 'norm_minmax', 'bilateral', '3d_connected_component_analysis', 'remove_small_objects', 'watershed'], 'type': '2D', 'threshold': 0.2}\n",
      "pipeline_2D_thr_0.2_norm_minmax_0_12 {'pipeline': ['isotropy', 'norm_minmax', 'bilateral', '3d_connected_component_analysis', 'watershed', 'remove_small_objects'], 'type': '2D', 'threshold': 0.2}\n",
      "pipeline_2D_thr_0.2_norm_minmax_0_13 {'pipeline': ['isotropy', 'norm_minmax', 'bilateral', 'watershed', 'remove_small_objects', '3d_connected_component_analysis'], 'type': '2D', 'threshold': 0.2}\n",
      "pipeline_2D_thr_0.2_norm_minmax_0_14 {'pipeline': ['isotropy', 'norm_minmax', 'bilateral', 'watershed', '3d_connected_component_analysis', 'remove_small_objects'], 'type': '2D', 'threshold': 0.2}\n",
      "pipeline_2D_thr_0.2_norm_minmax_0_15 {'pipeline': ['isotropy', 'norm_minmax', 'bilateral'], 'type': '2D', 'threshold': 0.2}\n",
      "pipeline_2D_thr_0.2_norm_minmax_1_0 {'pipeline': ['isotropy', 'norm_minmax', 'anisodiff', 'remove_small_objects'], 'type': '2D', 'threshold': 0.2}\n",
      "pipeline_2D_thr_0.2_norm_minmax_1_1 {'pipeline': ['isotropy', 'norm_minmax', 'anisodiff', '3d_connected_component_analysis'], 'type': '2D', 'threshold': 0.2}\n",
      "pipeline_2D_thr_0.2_norm_minmax_1_2 {'pipeline': ['isotropy', 'norm_minmax', 'anisodiff', 'watershed'], 'type': '2D', 'threshold': 0.2}\n",
      "pipeline_2D_thr_0.2_norm_minmax_1_3 {'pipeline': ['isotropy', 'norm_minmax', 'anisodiff', 'remove_small_objects', '3d_connected_component_analysis'], 'type': '2D', 'threshold': 0.2}\n",
      "pipeline_2D_thr_0.2_norm_minmax_1_4 {'pipeline': ['isotropy', 'norm_minmax', 'anisodiff', 'remove_small_objects', 'watershed'], 'type': '2D', 'threshold': 0.2}\n",
      "pipeline_2D_thr_0.2_norm_minmax_1_5 {'pipeline': ['isotropy', 'norm_minmax', 'anisodiff', '3d_connected_component_analysis', 'remove_small_objects'], 'type': '2D', 'threshold': 0.2}\n",
      "pipeline_2D_thr_0.2_norm_minmax_1_6 {'pipeline': ['isotropy', 'norm_minmax', 'anisodiff', '3d_connected_component_analysis', 'watershed'], 'type': '2D', 'threshold': 0.2}\n",
      "pipeline_2D_thr_0.2_norm_minmax_1_7 {'pipeline': ['isotropy', 'norm_minmax', 'anisodiff', 'watershed', 'remove_small_objects'], 'type': '2D', 'threshold': 0.2}\n",
      "pipeline_2D_thr_0.2_norm_minmax_1_8 {'pipeline': ['isotropy', 'norm_minmax', 'anisodiff', 'watershed', '3d_connected_component_analysis'], 'type': '2D', 'threshold': 0.2}\n",
      "pipeline_2D_thr_0.2_norm_minmax_1_9 {'pipeline': ['isotropy', 'norm_minmax', 'anisodiff', 'remove_small_objects', '3d_connected_component_analysis', 'watershed'], 'type': '2D', 'threshold': 0.2}\n",
      "pipeline_2D_thr_0.2_norm_minmax_1_10 {'pipeline': ['isotropy', 'norm_minmax', 'anisodiff', 'remove_small_objects', 'watershed', '3d_connected_component_analysis'], 'type': '2D', 'threshold': 0.2}\n",
      "pipeline_2D_thr_0.2_norm_minmax_1_11 {'pipeline': ['isotropy', 'norm_minmax', 'anisodiff', '3d_connected_component_analysis', 'remove_small_objects', 'watershed'], 'type': '2D', 'threshold': 0.2}\n",
      "pipeline_2D_thr_0.2_norm_minmax_1_12 {'pipeline': ['isotropy', 'norm_minmax', 'anisodiff', '3d_connected_component_analysis', 'watershed', 'remove_small_objects'], 'type': '2D', 'threshold': 0.2}\n",
      "pipeline_2D_thr_0.2_norm_minmax_1_13 {'pipeline': ['isotropy', 'norm_minmax', 'anisodiff', 'watershed', 'remove_small_objects', '3d_connected_component_analysis'], 'type': '2D', 'threshold': 0.2}\n",
      "pipeline_2D_thr_0.2_norm_minmax_1_14 {'pipeline': ['isotropy', 'norm_minmax', 'anisodiff', 'watershed', '3d_connected_component_analysis', 'remove_small_objects'], 'type': '2D', 'threshold': 0.2}\n",
      "pipeline_2D_thr_0.2_norm_minmax_1_15 {'pipeline': ['isotropy', 'norm_minmax', 'anisodiff'], 'type': '2D', 'threshold': 0.2}\n",
      "pipeline_2D_thr_0.2_norm_minmax_2_0 {'pipeline': ['isotropy', 'norm_minmax', 'bilateral', 'anisodiff', 'remove_small_objects'], 'type': '2D', 'threshold': 0.2}\n",
      "pipeline_2D_thr_0.2_norm_minmax_2_1 {'pipeline': ['isotropy', 'norm_minmax', 'bilateral', 'anisodiff', '3d_connected_component_analysis'], 'type': '2D', 'threshold': 0.2}\n",
      "pipeline_2D_thr_0.2_norm_minmax_2_2 {'pipeline': ['isotropy', 'norm_minmax', 'bilateral', 'anisodiff', 'watershed'], 'type': '2D', 'threshold': 0.2}\n",
      "pipeline_2D_thr_0.2_norm_minmax_2_3 {'pipeline': ['isotropy', 'norm_minmax', 'bilateral', 'anisodiff', 'remove_small_objects', '3d_connected_component_analysis'], 'type': '2D', 'threshold': 0.2}\n",
      "pipeline_2D_thr_0.2_norm_minmax_2_4 {'pipeline': ['isotropy', 'norm_minmax', 'bilateral', 'anisodiff', 'remove_small_objects', 'watershed'], 'type': '2D', 'threshold': 0.2}\n",
      "pipeline_2D_thr_0.2_norm_minmax_2_5 {'pipeline': ['isotropy', 'norm_minmax', 'bilateral', 'anisodiff', '3d_connected_component_analysis', 'remove_small_objects'], 'type': '2D', 'threshold': 0.2}\n",
      "pipeline_2D_thr_0.2_norm_minmax_2_6 {'pipeline': ['isotropy', 'norm_minmax', 'bilateral', 'anisodiff', '3d_connected_component_analysis', 'watershed'], 'type': '2D', 'threshold': 0.2}\n",
      "pipeline_2D_thr_0.2_norm_minmax_2_7 {'pipeline': ['isotropy', 'norm_minmax', 'bilateral', 'anisodiff', 'watershed', 'remove_small_objects'], 'type': '2D', 'threshold': 0.2}\n",
      "pipeline_2D_thr_0.2_norm_minmax_2_8 {'pipeline': ['isotropy', 'norm_minmax', 'bilateral', 'anisodiff', 'watershed', '3d_connected_component_analysis'], 'type': '2D', 'threshold': 0.2}\n",
      "pipeline_2D_thr_0.2_norm_minmax_2_9 {'pipeline': ['isotropy', 'norm_minmax', 'bilateral', 'anisodiff', 'remove_small_objects', '3d_connected_component_analysis', 'watershed'], 'type': '2D', 'threshold': 0.2}\n",
      "pipeline_2D_thr_0.2_norm_minmax_2_10 {'pipeline': ['isotropy', 'norm_minmax', 'bilateral', 'anisodiff', 'remove_small_objects', 'watershed', '3d_connected_component_analysis'], 'type': '2D', 'threshold': 0.2}\n",
      "pipeline_2D_thr_0.2_norm_minmax_2_11 {'pipeline': ['isotropy', 'norm_minmax', 'bilateral', 'anisodiff', '3d_connected_component_analysis', 'remove_small_objects', 'watershed'], 'type': '2D', 'threshold': 0.2}\n",
      "pipeline_2D_thr_0.2_norm_minmax_2_12 {'pipeline': ['isotropy', 'norm_minmax', 'bilateral', 'anisodiff', '3d_connected_component_analysis', 'watershed', 'remove_small_objects'], 'type': '2D', 'threshold': 0.2}\n",
      "pipeline_2D_thr_0.2_norm_minmax_2_13 {'pipeline': ['isotropy', 'norm_minmax', 'bilateral', 'anisodiff', 'watershed', 'remove_small_objects', '3d_connected_component_analysis'], 'type': '2D', 'threshold': 0.2}\n",
      "pipeline_2D_thr_0.2_norm_minmax_2_14 {'pipeline': ['isotropy', 'norm_minmax', 'bilateral', 'anisodiff', 'watershed', '3d_connected_component_analysis', 'remove_small_objects'], 'type': '2D', 'threshold': 0.2}\n",
      "pipeline_2D_thr_0.2_norm_minmax_2_15 {'pipeline': ['isotropy', 'norm_minmax', 'bilateral', 'anisodiff'], 'type': '2D', 'threshold': 0.2}\n",
      "pipeline_2D_thr_0.2_norm_minmax_3_0 {'pipeline': ['isotropy', 'norm_minmax', 'anisodiff', 'bilateral', 'remove_small_objects'], 'type': '2D', 'threshold': 0.2}\n",
      "pipeline_2D_thr_0.2_norm_minmax_3_1 {'pipeline': ['isotropy', 'norm_minmax', 'anisodiff', 'bilateral', '3d_connected_component_analysis'], 'type': '2D', 'threshold': 0.2}\n",
      "pipeline_2D_thr_0.2_norm_minmax_3_2 {'pipeline': ['isotropy', 'norm_minmax', 'anisodiff', 'bilateral', 'watershed'], 'type': '2D', 'threshold': 0.2}\n",
      "pipeline_2D_thr_0.2_norm_minmax_3_3 {'pipeline': ['isotropy', 'norm_minmax', 'anisodiff', 'bilateral', 'remove_small_objects', '3d_connected_component_analysis'], 'type': '2D', 'threshold': 0.2}\n",
      "pipeline_2D_thr_0.2_norm_minmax_3_4 {'pipeline': ['isotropy', 'norm_minmax', 'anisodiff', 'bilateral', 'remove_small_objects', 'watershed'], 'type': '2D', 'threshold': 0.2}\n",
      "pipeline_2D_thr_0.2_norm_minmax_3_5 {'pipeline': ['isotropy', 'norm_minmax', 'anisodiff', 'bilateral', '3d_connected_component_analysis', 'remove_small_objects'], 'type': '2D', 'threshold': 0.2}\n",
      "pipeline_2D_thr_0.2_norm_minmax_3_6 {'pipeline': ['isotropy', 'norm_minmax', 'anisodiff', 'bilateral', '3d_connected_component_analysis', 'watershed'], 'type': '2D', 'threshold': 0.2}\n",
      "pipeline_2D_thr_0.2_norm_minmax_3_7 {'pipeline': ['isotropy', 'norm_minmax', 'anisodiff', 'bilateral', 'watershed', 'remove_small_objects'], 'type': '2D', 'threshold': 0.2}\n",
      "pipeline_2D_thr_0.2_norm_minmax_3_8 {'pipeline': ['isotropy', 'norm_minmax', 'anisodiff', 'bilateral', 'watershed', '3d_connected_component_analysis'], 'type': '2D', 'threshold': 0.2}\n",
      "pipeline_2D_thr_0.2_norm_minmax_3_9 {'pipeline': ['isotropy', 'norm_minmax', 'anisodiff', 'bilateral', 'remove_small_objects', '3d_connected_component_analysis', 'watershed'], 'type': '2D', 'threshold': 0.2}\n",
      "pipeline_2D_thr_0.2_norm_minmax_3_10 {'pipeline': ['isotropy', 'norm_minmax', 'anisodiff', 'bilateral', 'remove_small_objects', 'watershed', '3d_connected_component_analysis'], 'type': '2D', 'threshold': 0.2}\n",
      "pipeline_2D_thr_0.2_norm_minmax_3_11 {'pipeline': ['isotropy', 'norm_minmax', 'anisodiff', 'bilateral', '3d_connected_component_analysis', 'remove_small_objects', 'watershed'], 'type': '2D', 'threshold': 0.2}\n",
      "pipeline_2D_thr_0.2_norm_minmax_3_12 {'pipeline': ['isotropy', 'norm_minmax', 'anisodiff', 'bilateral', '3d_connected_component_analysis', 'watershed', 'remove_small_objects'], 'type': '2D', 'threshold': 0.2}\n",
      "pipeline_2D_thr_0.2_norm_minmax_3_13 {'pipeline': ['isotropy', 'norm_minmax', 'anisodiff', 'bilateral', 'watershed', 'remove_small_objects', '3d_connected_component_analysis'], 'type': '2D', 'threshold': 0.2}\n",
      "pipeline_2D_thr_0.2_norm_minmax_3_14 {'pipeline': ['isotropy', 'norm_minmax', 'anisodiff', 'bilateral', 'watershed', '3d_connected_component_analysis', 'remove_small_objects'], 'type': '2D', 'threshold': 0.2}\n",
      "pipeline_2D_thr_0.2_norm_minmax_3_15 {'pipeline': ['isotropy', 'norm_minmax', 'anisodiff', 'bilateral'], 'type': '2D', 'threshold': 0.2}\n",
      "pipeline_2D_thr_0.2_norm_percentile_0_0 {'pipeline': ['isotropy', 'norm_percentile', 'bilateral', 'remove_small_objects'], 'type': '2D', 'threshold': 0.2}\n",
      "pipeline_2D_thr_0.2_norm_percentile_0_1 {'pipeline': ['isotropy', 'norm_percentile', 'bilateral', '3d_connected_component_analysis'], 'type': '2D', 'threshold': 0.2}\n",
      "pipeline_2D_thr_0.2_norm_percentile_0_2 {'pipeline': ['isotropy', 'norm_percentile', 'bilateral', 'watershed'], 'type': '2D', 'threshold': 0.2}\n",
      "pipeline_2D_thr_0.2_norm_percentile_0_3 {'pipeline': ['isotropy', 'norm_percentile', 'bilateral', 'remove_small_objects', '3d_connected_component_analysis'], 'type': '2D', 'threshold': 0.2}\n",
      "pipeline_2D_thr_0.2_norm_percentile_0_4 {'pipeline': ['isotropy', 'norm_percentile', 'bilateral', 'remove_small_objects', 'watershed'], 'type': '2D', 'threshold': 0.2}\n",
      "pipeline_2D_thr_0.2_norm_percentile_0_5 {'pipeline': ['isotropy', 'norm_percentile', 'bilateral', '3d_connected_component_analysis', 'remove_small_objects'], 'type': '2D', 'threshold': 0.2}\n",
      "pipeline_2D_thr_0.2_norm_percentile_0_6 {'pipeline': ['isotropy', 'norm_percentile', 'bilateral', '3d_connected_component_analysis', 'watershed'], 'type': '2D', 'threshold': 0.2}\n",
      "pipeline_2D_thr_0.2_norm_percentile_0_7 {'pipeline': ['isotropy', 'norm_percentile', 'bilateral', 'watershed', 'remove_small_objects'], 'type': '2D', 'threshold': 0.2}\n",
      "pipeline_2D_thr_0.2_norm_percentile_0_8 {'pipeline': ['isotropy', 'norm_percentile', 'bilateral', 'watershed', '3d_connected_component_analysis'], 'type': '2D', 'threshold': 0.2}\n",
      "pipeline_2D_thr_0.2_norm_percentile_0_9 {'pipeline': ['isotropy', 'norm_percentile', 'bilateral', 'remove_small_objects', '3d_connected_component_analysis', 'watershed'], 'type': '2D', 'threshold': 0.2}\n",
      "pipeline_2D_thr_0.2_norm_percentile_0_10 {'pipeline': ['isotropy', 'norm_percentile', 'bilateral', 'remove_small_objects', 'watershed', '3d_connected_component_analysis'], 'type': '2D', 'threshold': 0.2}\n",
      "pipeline_2D_thr_0.2_norm_percentile_0_11 {'pipeline': ['isotropy', 'norm_percentile', 'bilateral', '3d_connected_component_analysis', 'remove_small_objects', 'watershed'], 'type': '2D', 'threshold': 0.2}\n",
      "pipeline_2D_thr_0.2_norm_percentile_0_12 {'pipeline': ['isotropy', 'norm_percentile', 'bilateral', '3d_connected_component_analysis', 'watershed', 'remove_small_objects'], 'type': '2D', 'threshold': 0.2}\n",
      "pipeline_2D_thr_0.2_norm_percentile_0_13 {'pipeline': ['isotropy', 'norm_percentile', 'bilateral', 'watershed', 'remove_small_objects', '3d_connected_component_analysis'], 'type': '2D', 'threshold': 0.2}\n",
      "pipeline_2D_thr_0.2_norm_percentile_0_14 {'pipeline': ['isotropy', 'norm_percentile', 'bilateral', 'watershed', '3d_connected_component_analysis', 'remove_small_objects'], 'type': '2D', 'threshold': 0.2}\n",
      "pipeline_2D_thr_0.2_norm_percentile_0_15 {'pipeline': ['isotropy', 'norm_percentile', 'bilateral'], 'type': '2D', 'threshold': 0.2}\n",
      "pipeline_2D_thr_0.2_norm_percentile_1_0 {'pipeline': ['isotropy', 'norm_percentile', 'anisodiff', 'remove_small_objects'], 'type': '2D', 'threshold': 0.2}\n",
      "pipeline_2D_thr_0.2_norm_percentile_1_1 {'pipeline': ['isotropy', 'norm_percentile', 'anisodiff', '3d_connected_component_analysis'], 'type': '2D', 'threshold': 0.2}\n",
      "pipeline_2D_thr_0.2_norm_percentile_1_2 {'pipeline': ['isotropy', 'norm_percentile', 'anisodiff', 'watershed'], 'type': '2D', 'threshold': 0.2}\n",
      "pipeline_2D_thr_0.2_norm_percentile_1_3 {'pipeline': ['isotropy', 'norm_percentile', 'anisodiff', 'remove_small_objects', '3d_connected_component_analysis'], 'type': '2D', 'threshold': 0.2}\n",
      "pipeline_2D_thr_0.2_norm_percentile_1_4 {'pipeline': ['isotropy', 'norm_percentile', 'anisodiff', 'remove_small_objects', 'watershed'], 'type': '2D', 'threshold': 0.2}\n",
      "pipeline_2D_thr_0.2_norm_percentile_1_5 {'pipeline': ['isotropy', 'norm_percentile', 'anisodiff', '3d_connected_component_analysis', 'remove_small_objects'], 'type': '2D', 'threshold': 0.2}\n",
      "pipeline_2D_thr_0.2_norm_percentile_1_6 {'pipeline': ['isotropy', 'norm_percentile', 'anisodiff', '3d_connected_component_analysis', 'watershed'], 'type': '2D', 'threshold': 0.2}\n",
      "pipeline_2D_thr_0.2_norm_percentile_1_7 {'pipeline': ['isotropy', 'norm_percentile', 'anisodiff', 'watershed', 'remove_small_objects'], 'type': '2D', 'threshold': 0.2}\n",
      "pipeline_2D_thr_0.2_norm_percentile_1_8 {'pipeline': ['isotropy', 'norm_percentile', 'anisodiff', 'watershed', '3d_connected_component_analysis'], 'type': '2D', 'threshold': 0.2}\n",
      "pipeline_2D_thr_0.2_norm_percentile_1_9 {'pipeline': ['isotropy', 'norm_percentile', 'anisodiff', 'remove_small_objects', '3d_connected_component_analysis', 'watershed'], 'type': '2D', 'threshold': 0.2}\n",
      "pipeline_2D_thr_0.2_norm_percentile_1_10 {'pipeline': ['isotropy', 'norm_percentile', 'anisodiff', 'remove_small_objects', 'watershed', '3d_connected_component_analysis'], 'type': '2D', 'threshold': 0.2}\n",
      "pipeline_2D_thr_0.2_norm_percentile_1_11 {'pipeline': ['isotropy', 'norm_percentile', 'anisodiff', '3d_connected_component_analysis', 'remove_small_objects', 'watershed'], 'type': '2D', 'threshold': 0.2}\n",
      "pipeline_2D_thr_0.2_norm_percentile_1_12 {'pipeline': ['isotropy', 'norm_percentile', 'anisodiff', '3d_connected_component_analysis', 'watershed', 'remove_small_objects'], 'type': '2D', 'threshold': 0.2}\n",
      "pipeline_2D_thr_0.2_norm_percentile_1_13 {'pipeline': ['isotropy', 'norm_percentile', 'anisodiff', 'watershed', 'remove_small_objects', '3d_connected_component_analysis'], 'type': '2D', 'threshold': 0.2}\n",
      "pipeline_2D_thr_0.2_norm_percentile_1_14 {'pipeline': ['isotropy', 'norm_percentile', 'anisodiff', 'watershed', '3d_connected_component_analysis', 'remove_small_objects'], 'type': '2D', 'threshold': 0.2}\n",
      "pipeline_2D_thr_0.2_norm_percentile_1_15 {'pipeline': ['isotropy', 'norm_percentile', 'anisodiff'], 'type': '2D', 'threshold': 0.2}\n",
      "pipeline_2D_thr_0.2_norm_percentile_2_0 {'pipeline': ['isotropy', 'norm_percentile', 'bilateral', 'anisodiff', 'remove_small_objects'], 'type': '2D', 'threshold': 0.2}\n",
      "pipeline_2D_thr_0.2_norm_percentile_2_1 {'pipeline': ['isotropy', 'norm_percentile', 'bilateral', 'anisodiff', '3d_connected_component_analysis'], 'type': '2D', 'threshold': 0.2}\n",
      "pipeline_2D_thr_0.2_norm_percentile_2_2 {'pipeline': ['isotropy', 'norm_percentile', 'bilateral', 'anisodiff', 'watershed'], 'type': '2D', 'threshold': 0.2}\n",
      "pipeline_2D_thr_0.2_norm_percentile_2_3 {'pipeline': ['isotropy', 'norm_percentile', 'bilateral', 'anisodiff', 'remove_small_objects', '3d_connected_component_analysis'], 'type': '2D', 'threshold': 0.2}\n",
      "pipeline_2D_thr_0.2_norm_percentile_2_4 {'pipeline': ['isotropy', 'norm_percentile', 'bilateral', 'anisodiff', 'remove_small_objects', 'watershed'], 'type': '2D', 'threshold': 0.2}\n",
      "pipeline_2D_thr_0.2_norm_percentile_2_5 {'pipeline': ['isotropy', 'norm_percentile', 'bilateral', 'anisodiff', '3d_connected_component_analysis', 'remove_small_objects'], 'type': '2D', 'threshold': 0.2}\n",
      "pipeline_2D_thr_0.2_norm_percentile_2_6 {'pipeline': ['isotropy', 'norm_percentile', 'bilateral', 'anisodiff', '3d_connected_component_analysis', 'watershed'], 'type': '2D', 'threshold': 0.2}\n",
      "pipeline_2D_thr_0.2_norm_percentile_2_7 {'pipeline': ['isotropy', 'norm_percentile', 'bilateral', 'anisodiff', 'watershed', 'remove_small_objects'], 'type': '2D', 'threshold': 0.2}\n",
      "pipeline_2D_thr_0.2_norm_percentile_2_8 {'pipeline': ['isotropy', 'norm_percentile', 'bilateral', 'anisodiff', 'watershed', '3d_connected_component_analysis'], 'type': '2D', 'threshold': 0.2}\n",
      "pipeline_2D_thr_0.2_norm_percentile_2_9 {'pipeline': ['isotropy', 'norm_percentile', 'bilateral', 'anisodiff', 'remove_small_objects', '3d_connected_component_analysis', 'watershed'], 'type': '2D', 'threshold': 0.2}\n",
      "pipeline_2D_thr_0.2_norm_percentile_2_10 {'pipeline': ['isotropy', 'norm_percentile', 'bilateral', 'anisodiff', 'remove_small_objects', 'watershed', '3d_connected_component_analysis'], 'type': '2D', 'threshold': 0.2}\n",
      "pipeline_2D_thr_0.2_norm_percentile_2_11 {'pipeline': ['isotropy', 'norm_percentile', 'bilateral', 'anisodiff', '3d_connected_component_analysis', 'remove_small_objects', 'watershed'], 'type': '2D', 'threshold': 0.2}\n",
      "pipeline_2D_thr_0.2_norm_percentile_2_12 {'pipeline': ['isotropy', 'norm_percentile', 'bilateral', 'anisodiff', '3d_connected_component_analysis', 'watershed', 'remove_small_objects'], 'type': '2D', 'threshold': 0.2}\n",
      "pipeline_2D_thr_0.2_norm_percentile_2_13 {'pipeline': ['isotropy', 'norm_percentile', 'bilateral', 'anisodiff', 'watershed', 'remove_small_objects', '3d_connected_component_analysis'], 'type': '2D', 'threshold': 0.2}\n",
      "pipeline_2D_thr_0.2_norm_percentile_2_14 {'pipeline': ['isotropy', 'norm_percentile', 'bilateral', 'anisodiff', 'watershed', '3d_connected_component_analysis', 'remove_small_objects'], 'type': '2D', 'threshold': 0.2}\n",
      "pipeline_2D_thr_0.2_norm_percentile_2_15 {'pipeline': ['isotropy', 'norm_percentile', 'bilateral', 'anisodiff'], 'type': '2D', 'threshold': 0.2}\n",
      "pipeline_2D_thr_0.2_norm_percentile_3_0 {'pipeline': ['isotropy', 'norm_percentile', 'anisodiff', 'bilateral', 'remove_small_objects'], 'type': '2D', 'threshold': 0.2}\n",
      "pipeline_2D_thr_0.2_norm_percentile_3_1 {'pipeline': ['isotropy', 'norm_percentile', 'anisodiff', 'bilateral', '3d_connected_component_analysis'], 'type': '2D', 'threshold': 0.2}\n",
      "pipeline_2D_thr_0.2_norm_percentile_3_2 {'pipeline': ['isotropy', 'norm_percentile', 'anisodiff', 'bilateral', 'watershed'], 'type': '2D', 'threshold': 0.2}\n",
      "pipeline_2D_thr_0.2_norm_percentile_3_3 {'pipeline': ['isotropy', 'norm_percentile', 'anisodiff', 'bilateral', 'remove_small_objects', '3d_connected_component_analysis'], 'type': '2D', 'threshold': 0.2}\n",
      "pipeline_2D_thr_0.2_norm_percentile_3_4 {'pipeline': ['isotropy', 'norm_percentile', 'anisodiff', 'bilateral', 'remove_small_objects', 'watershed'], 'type': '2D', 'threshold': 0.2}\n",
      "pipeline_2D_thr_0.2_norm_percentile_3_5 {'pipeline': ['isotropy', 'norm_percentile', 'anisodiff', 'bilateral', '3d_connected_component_analysis', 'remove_small_objects'], 'type': '2D', 'threshold': 0.2}\n",
      "pipeline_2D_thr_0.2_norm_percentile_3_6 {'pipeline': ['isotropy', 'norm_percentile', 'anisodiff', 'bilateral', '3d_connected_component_analysis', 'watershed'], 'type': '2D', 'threshold': 0.2}\n",
      "pipeline_2D_thr_0.2_norm_percentile_3_7 {'pipeline': ['isotropy', 'norm_percentile', 'anisodiff', 'bilateral', 'watershed', 'remove_small_objects'], 'type': '2D', 'threshold': 0.2}\n",
      "pipeline_2D_thr_0.2_norm_percentile_3_8 {'pipeline': ['isotropy', 'norm_percentile', 'anisodiff', 'bilateral', 'watershed', '3d_connected_component_analysis'], 'type': '2D', 'threshold': 0.2}\n",
      "pipeline_2D_thr_0.2_norm_percentile_3_9 {'pipeline': ['isotropy', 'norm_percentile', 'anisodiff', 'bilateral', 'remove_small_objects', '3d_connected_component_analysis', 'watershed'], 'type': '2D', 'threshold': 0.2}\n",
      "pipeline_2D_thr_0.2_norm_percentile_3_10 {'pipeline': ['isotropy', 'norm_percentile', 'anisodiff', 'bilateral', 'remove_small_objects', 'watershed', '3d_connected_component_analysis'], 'type': '2D', 'threshold': 0.2}\n",
      "pipeline_2D_thr_0.2_norm_percentile_3_11 {'pipeline': ['isotropy', 'norm_percentile', 'anisodiff', 'bilateral', '3d_connected_component_analysis', 'remove_small_objects', 'watershed'], 'type': '2D', 'threshold': 0.2}\n",
      "pipeline_2D_thr_0.2_norm_percentile_3_12 {'pipeline': ['isotropy', 'norm_percentile', 'anisodiff', 'bilateral', '3d_connected_component_analysis', 'watershed', 'remove_small_objects'], 'type': '2D', 'threshold': 0.2}\n",
      "pipeline_2D_thr_0.2_norm_percentile_3_13 {'pipeline': ['isotropy', 'norm_percentile', 'anisodiff', 'bilateral', 'watershed', 'remove_small_objects', '3d_connected_component_analysis'], 'type': '2D', 'threshold': 0.2}\n",
      "pipeline_2D_thr_0.2_norm_percentile_3_14 {'pipeline': ['isotropy', 'norm_percentile', 'anisodiff', 'bilateral', 'watershed', '3d_connected_component_analysis', 'remove_small_objects'], 'type': '2D', 'threshold': 0.2}\n",
      "pipeline_2D_thr_0.2_norm_percentile_3_15 {'pipeline': ['isotropy', 'norm_percentile', 'anisodiff', 'bilateral'], 'type': '2D', 'threshold': 0.2}\n",
      "pipeline_2D_thr_0.3_norm_minmax_0_0 {'pipeline': ['isotropy', 'norm_minmax', 'bilateral', 'remove_small_objects'], 'type': '2D', 'threshold': 0.3}\n",
      "pipeline_2D_thr_0.3_norm_minmax_0_1 {'pipeline': ['isotropy', 'norm_minmax', 'bilateral', '3d_connected_component_analysis'], 'type': '2D', 'threshold': 0.3}\n",
      "pipeline_2D_thr_0.3_norm_minmax_0_2 {'pipeline': ['isotropy', 'norm_minmax', 'bilateral', 'watershed'], 'type': '2D', 'threshold': 0.3}\n",
      "pipeline_2D_thr_0.3_norm_minmax_0_3 {'pipeline': ['isotropy', 'norm_minmax', 'bilateral', 'remove_small_objects', '3d_connected_component_analysis'], 'type': '2D', 'threshold': 0.3}\n",
      "pipeline_2D_thr_0.3_norm_minmax_0_4 {'pipeline': ['isotropy', 'norm_minmax', 'bilateral', 'remove_small_objects', 'watershed'], 'type': '2D', 'threshold': 0.3}\n",
      "pipeline_2D_thr_0.3_norm_minmax_0_5 {'pipeline': ['isotropy', 'norm_minmax', 'bilateral', '3d_connected_component_analysis', 'remove_small_objects'], 'type': '2D', 'threshold': 0.3}\n",
      "pipeline_2D_thr_0.3_norm_minmax_0_6 {'pipeline': ['isotropy', 'norm_minmax', 'bilateral', '3d_connected_component_analysis', 'watershed'], 'type': '2D', 'threshold': 0.3}\n",
      "pipeline_2D_thr_0.3_norm_minmax_0_7 {'pipeline': ['isotropy', 'norm_minmax', 'bilateral', 'watershed', 'remove_small_objects'], 'type': '2D', 'threshold': 0.3}\n",
      "pipeline_2D_thr_0.3_norm_minmax_0_8 {'pipeline': ['isotropy', 'norm_minmax', 'bilateral', 'watershed', '3d_connected_component_analysis'], 'type': '2D', 'threshold': 0.3}\n",
      "pipeline_2D_thr_0.3_norm_minmax_0_9 {'pipeline': ['isotropy', 'norm_minmax', 'bilateral', 'remove_small_objects', '3d_connected_component_analysis', 'watershed'], 'type': '2D', 'threshold': 0.3}\n",
      "pipeline_2D_thr_0.3_norm_minmax_0_10 {'pipeline': ['isotropy', 'norm_minmax', 'bilateral', 'remove_small_objects', 'watershed', '3d_connected_component_analysis'], 'type': '2D', 'threshold': 0.3}\n",
      "pipeline_2D_thr_0.3_norm_minmax_0_11 {'pipeline': ['isotropy', 'norm_minmax', 'bilateral', '3d_connected_component_analysis', 'remove_small_objects', 'watershed'], 'type': '2D', 'threshold': 0.3}\n",
      "pipeline_2D_thr_0.3_norm_minmax_0_12 {'pipeline': ['isotropy', 'norm_minmax', 'bilateral', '3d_connected_component_analysis', 'watershed', 'remove_small_objects'], 'type': '2D', 'threshold': 0.3}\n",
      "pipeline_2D_thr_0.3_norm_minmax_0_13 {'pipeline': ['isotropy', 'norm_minmax', 'bilateral', 'watershed', 'remove_small_objects', '3d_connected_component_analysis'], 'type': '2D', 'threshold': 0.3}\n",
      "pipeline_2D_thr_0.3_norm_minmax_0_14 {'pipeline': ['isotropy', 'norm_minmax', 'bilateral', 'watershed', '3d_connected_component_analysis', 'remove_small_objects'], 'type': '2D', 'threshold': 0.3}\n",
      "pipeline_2D_thr_0.3_norm_minmax_0_15 {'pipeline': ['isotropy', 'norm_minmax', 'bilateral'], 'type': '2D', 'threshold': 0.3}\n",
      "pipeline_2D_thr_0.3_norm_minmax_1_0 {'pipeline': ['isotropy', 'norm_minmax', 'anisodiff', 'remove_small_objects'], 'type': '2D', 'threshold': 0.3}\n",
      "pipeline_2D_thr_0.3_norm_minmax_1_1 {'pipeline': ['isotropy', 'norm_minmax', 'anisodiff', '3d_connected_component_analysis'], 'type': '2D', 'threshold': 0.3}\n",
      "pipeline_2D_thr_0.3_norm_minmax_1_2 {'pipeline': ['isotropy', 'norm_minmax', 'anisodiff', 'watershed'], 'type': '2D', 'threshold': 0.3}\n",
      "pipeline_2D_thr_0.3_norm_minmax_1_3 {'pipeline': ['isotropy', 'norm_minmax', 'anisodiff', 'remove_small_objects', '3d_connected_component_analysis'], 'type': '2D', 'threshold': 0.3}\n",
      "pipeline_2D_thr_0.3_norm_minmax_1_4 {'pipeline': ['isotropy', 'norm_minmax', 'anisodiff', 'remove_small_objects', 'watershed'], 'type': '2D', 'threshold': 0.3}\n",
      "pipeline_2D_thr_0.3_norm_minmax_1_5 {'pipeline': ['isotropy', 'norm_minmax', 'anisodiff', '3d_connected_component_analysis', 'remove_small_objects'], 'type': '2D', 'threshold': 0.3}\n",
      "pipeline_2D_thr_0.3_norm_minmax_1_6 {'pipeline': ['isotropy', 'norm_minmax', 'anisodiff', '3d_connected_component_analysis', 'watershed'], 'type': '2D', 'threshold': 0.3}\n",
      "pipeline_2D_thr_0.3_norm_minmax_1_7 {'pipeline': ['isotropy', 'norm_minmax', 'anisodiff', 'watershed', 'remove_small_objects'], 'type': '2D', 'threshold': 0.3}\n",
      "pipeline_2D_thr_0.3_norm_minmax_1_8 {'pipeline': ['isotropy', 'norm_minmax', 'anisodiff', 'watershed', '3d_connected_component_analysis'], 'type': '2D', 'threshold': 0.3}\n",
      "pipeline_2D_thr_0.3_norm_minmax_1_9 {'pipeline': ['isotropy', 'norm_minmax', 'anisodiff', 'remove_small_objects', '3d_connected_component_analysis', 'watershed'], 'type': '2D', 'threshold': 0.3}\n",
      "pipeline_2D_thr_0.3_norm_minmax_1_10 {'pipeline': ['isotropy', 'norm_minmax', 'anisodiff', 'remove_small_objects', 'watershed', '3d_connected_component_analysis'], 'type': '2D', 'threshold': 0.3}\n",
      "pipeline_2D_thr_0.3_norm_minmax_1_11 {'pipeline': ['isotropy', 'norm_minmax', 'anisodiff', '3d_connected_component_analysis', 'remove_small_objects', 'watershed'], 'type': '2D', 'threshold': 0.3}\n",
      "pipeline_2D_thr_0.3_norm_minmax_1_12 {'pipeline': ['isotropy', 'norm_minmax', 'anisodiff', '3d_connected_component_analysis', 'watershed', 'remove_small_objects'], 'type': '2D', 'threshold': 0.3}\n",
      "pipeline_2D_thr_0.3_norm_minmax_1_13 {'pipeline': ['isotropy', 'norm_minmax', 'anisodiff', 'watershed', 'remove_small_objects', '3d_connected_component_analysis'], 'type': '2D', 'threshold': 0.3}\n",
      "pipeline_2D_thr_0.3_norm_minmax_1_14 {'pipeline': ['isotropy', 'norm_minmax', 'anisodiff', 'watershed', '3d_connected_component_analysis', 'remove_small_objects'], 'type': '2D', 'threshold': 0.3}\n",
      "pipeline_2D_thr_0.3_norm_minmax_1_15 {'pipeline': ['isotropy', 'norm_minmax', 'anisodiff'], 'type': '2D', 'threshold': 0.3}\n",
      "pipeline_2D_thr_0.3_norm_minmax_2_0 {'pipeline': ['isotropy', 'norm_minmax', 'bilateral', 'anisodiff', 'remove_small_objects'], 'type': '2D', 'threshold': 0.3}\n",
      "pipeline_2D_thr_0.3_norm_minmax_2_1 {'pipeline': ['isotropy', 'norm_minmax', 'bilateral', 'anisodiff', '3d_connected_component_analysis'], 'type': '2D', 'threshold': 0.3}\n",
      "pipeline_2D_thr_0.3_norm_minmax_2_2 {'pipeline': ['isotropy', 'norm_minmax', 'bilateral', 'anisodiff', 'watershed'], 'type': '2D', 'threshold': 0.3}\n",
      "pipeline_2D_thr_0.3_norm_minmax_2_3 {'pipeline': ['isotropy', 'norm_minmax', 'bilateral', 'anisodiff', 'remove_small_objects', '3d_connected_component_analysis'], 'type': '2D', 'threshold': 0.3}\n",
      "pipeline_2D_thr_0.3_norm_minmax_2_4 {'pipeline': ['isotropy', 'norm_minmax', 'bilateral', 'anisodiff', 'remove_small_objects', 'watershed'], 'type': '2D', 'threshold': 0.3}\n",
      "pipeline_2D_thr_0.3_norm_minmax_2_5 {'pipeline': ['isotropy', 'norm_minmax', 'bilateral', 'anisodiff', '3d_connected_component_analysis', 'remove_small_objects'], 'type': '2D', 'threshold': 0.3}\n",
      "pipeline_2D_thr_0.3_norm_minmax_2_6 {'pipeline': ['isotropy', 'norm_minmax', 'bilateral', 'anisodiff', '3d_connected_component_analysis', 'watershed'], 'type': '2D', 'threshold': 0.3}\n",
      "pipeline_2D_thr_0.3_norm_minmax_2_7 {'pipeline': ['isotropy', 'norm_minmax', 'bilateral', 'anisodiff', 'watershed', 'remove_small_objects'], 'type': '2D', 'threshold': 0.3}\n",
      "pipeline_2D_thr_0.3_norm_minmax_2_8 {'pipeline': ['isotropy', 'norm_minmax', 'bilateral', 'anisodiff', 'watershed', '3d_connected_component_analysis'], 'type': '2D', 'threshold': 0.3}\n",
      "pipeline_2D_thr_0.3_norm_minmax_2_9 {'pipeline': ['isotropy', 'norm_minmax', 'bilateral', 'anisodiff', 'remove_small_objects', '3d_connected_component_analysis', 'watershed'], 'type': '2D', 'threshold': 0.3}\n",
      "pipeline_2D_thr_0.3_norm_minmax_2_10 {'pipeline': ['isotropy', 'norm_minmax', 'bilateral', 'anisodiff', 'remove_small_objects', 'watershed', '3d_connected_component_analysis'], 'type': '2D', 'threshold': 0.3}\n",
      "pipeline_2D_thr_0.3_norm_minmax_2_11 {'pipeline': ['isotropy', 'norm_minmax', 'bilateral', 'anisodiff', '3d_connected_component_analysis', 'remove_small_objects', 'watershed'], 'type': '2D', 'threshold': 0.3}\n",
      "pipeline_2D_thr_0.3_norm_minmax_2_12 {'pipeline': ['isotropy', 'norm_minmax', 'bilateral', 'anisodiff', '3d_connected_component_analysis', 'watershed', 'remove_small_objects'], 'type': '2D', 'threshold': 0.3}\n",
      "pipeline_2D_thr_0.3_norm_minmax_2_13 {'pipeline': ['isotropy', 'norm_minmax', 'bilateral', 'anisodiff', 'watershed', 'remove_small_objects', '3d_connected_component_analysis'], 'type': '2D', 'threshold': 0.3}\n",
      "pipeline_2D_thr_0.3_norm_minmax_2_14 {'pipeline': ['isotropy', 'norm_minmax', 'bilateral', 'anisodiff', 'watershed', '3d_connected_component_analysis', 'remove_small_objects'], 'type': '2D', 'threshold': 0.3}\n",
      "pipeline_2D_thr_0.3_norm_minmax_2_15 {'pipeline': ['isotropy', 'norm_minmax', 'bilateral', 'anisodiff'], 'type': '2D', 'threshold': 0.3}\n",
      "pipeline_2D_thr_0.3_norm_minmax_3_0 {'pipeline': ['isotropy', 'norm_minmax', 'anisodiff', 'bilateral', 'remove_small_objects'], 'type': '2D', 'threshold': 0.3}\n",
      "pipeline_2D_thr_0.3_norm_minmax_3_1 {'pipeline': ['isotropy', 'norm_minmax', 'anisodiff', 'bilateral', '3d_connected_component_analysis'], 'type': '2D', 'threshold': 0.3}\n",
      "pipeline_2D_thr_0.3_norm_minmax_3_2 {'pipeline': ['isotropy', 'norm_minmax', 'anisodiff', 'bilateral', 'watershed'], 'type': '2D', 'threshold': 0.3}\n",
      "pipeline_2D_thr_0.3_norm_minmax_3_3 {'pipeline': ['isotropy', 'norm_minmax', 'anisodiff', 'bilateral', 'remove_small_objects', '3d_connected_component_analysis'], 'type': '2D', 'threshold': 0.3}\n",
      "pipeline_2D_thr_0.3_norm_minmax_3_4 {'pipeline': ['isotropy', 'norm_minmax', 'anisodiff', 'bilateral', 'remove_small_objects', 'watershed'], 'type': '2D', 'threshold': 0.3}\n",
      "pipeline_2D_thr_0.3_norm_minmax_3_5 {'pipeline': ['isotropy', 'norm_minmax', 'anisodiff', 'bilateral', '3d_connected_component_analysis', 'remove_small_objects'], 'type': '2D', 'threshold': 0.3}\n",
      "pipeline_2D_thr_0.3_norm_minmax_3_6 {'pipeline': ['isotropy', 'norm_minmax', 'anisodiff', 'bilateral', '3d_connected_component_analysis', 'watershed'], 'type': '2D', 'threshold': 0.3}\n",
      "pipeline_2D_thr_0.3_norm_minmax_3_7 {'pipeline': ['isotropy', 'norm_minmax', 'anisodiff', 'bilateral', 'watershed', 'remove_small_objects'], 'type': '2D', 'threshold': 0.3}\n",
      "pipeline_2D_thr_0.3_norm_minmax_3_8 {'pipeline': ['isotropy', 'norm_minmax', 'anisodiff', 'bilateral', 'watershed', '3d_connected_component_analysis'], 'type': '2D', 'threshold': 0.3}\n",
      "pipeline_2D_thr_0.3_norm_minmax_3_9 {'pipeline': ['isotropy', 'norm_minmax', 'anisodiff', 'bilateral', 'remove_small_objects', '3d_connected_component_analysis', 'watershed'], 'type': '2D', 'threshold': 0.3}\n",
      "pipeline_2D_thr_0.3_norm_minmax_3_10 {'pipeline': ['isotropy', 'norm_minmax', 'anisodiff', 'bilateral', 'remove_small_objects', 'watershed', '3d_connected_component_analysis'], 'type': '2D', 'threshold': 0.3}\n",
      "pipeline_2D_thr_0.3_norm_minmax_3_11 {'pipeline': ['isotropy', 'norm_minmax', 'anisodiff', 'bilateral', '3d_connected_component_analysis', 'remove_small_objects', 'watershed'], 'type': '2D', 'threshold': 0.3}\n",
      "pipeline_2D_thr_0.3_norm_minmax_3_12 {'pipeline': ['isotropy', 'norm_minmax', 'anisodiff', 'bilateral', '3d_connected_component_analysis', 'watershed', 'remove_small_objects'], 'type': '2D', 'threshold': 0.3}\n",
      "pipeline_2D_thr_0.3_norm_minmax_3_13 {'pipeline': ['isotropy', 'norm_minmax', 'anisodiff', 'bilateral', 'watershed', 'remove_small_objects', '3d_connected_component_analysis'], 'type': '2D', 'threshold': 0.3}\n",
      "pipeline_2D_thr_0.3_norm_minmax_3_14 {'pipeline': ['isotropy', 'norm_minmax', 'anisodiff', 'bilateral', 'watershed', '3d_connected_component_analysis', 'remove_small_objects'], 'type': '2D', 'threshold': 0.3}\n",
      "pipeline_2D_thr_0.3_norm_minmax_3_15 {'pipeline': ['isotropy', 'norm_minmax', 'anisodiff', 'bilateral'], 'type': '2D', 'threshold': 0.3}\n",
      "pipeline_2D_thr_0.3_norm_percentile_0_0 {'pipeline': ['isotropy', 'norm_percentile', 'bilateral', 'remove_small_objects'], 'type': '2D', 'threshold': 0.3}\n",
      "pipeline_2D_thr_0.3_norm_percentile_0_1 {'pipeline': ['isotropy', 'norm_percentile', 'bilateral', '3d_connected_component_analysis'], 'type': '2D', 'threshold': 0.3}\n",
      "pipeline_2D_thr_0.3_norm_percentile_0_2 {'pipeline': ['isotropy', 'norm_percentile', 'bilateral', 'watershed'], 'type': '2D', 'threshold': 0.3}\n",
      "pipeline_2D_thr_0.3_norm_percentile_0_3 {'pipeline': ['isotropy', 'norm_percentile', 'bilateral', 'remove_small_objects', '3d_connected_component_analysis'], 'type': '2D', 'threshold': 0.3}\n",
      "pipeline_2D_thr_0.3_norm_percentile_0_4 {'pipeline': ['isotropy', 'norm_percentile', 'bilateral', 'remove_small_objects', 'watershed'], 'type': '2D', 'threshold': 0.3}\n",
      "pipeline_2D_thr_0.3_norm_percentile_0_5 {'pipeline': ['isotropy', 'norm_percentile', 'bilateral', '3d_connected_component_analysis', 'remove_small_objects'], 'type': '2D', 'threshold': 0.3}\n",
      "pipeline_2D_thr_0.3_norm_percentile_0_6 {'pipeline': ['isotropy', 'norm_percentile', 'bilateral', '3d_connected_component_analysis', 'watershed'], 'type': '2D', 'threshold': 0.3}\n",
      "pipeline_2D_thr_0.3_norm_percentile_0_7 {'pipeline': ['isotropy', 'norm_percentile', 'bilateral', 'watershed', 'remove_small_objects'], 'type': '2D', 'threshold': 0.3}\n",
      "pipeline_2D_thr_0.3_norm_percentile_0_8 {'pipeline': ['isotropy', 'norm_percentile', 'bilateral', 'watershed', '3d_connected_component_analysis'], 'type': '2D', 'threshold': 0.3}\n",
      "pipeline_2D_thr_0.3_norm_percentile_0_9 {'pipeline': ['isotropy', 'norm_percentile', 'bilateral', 'remove_small_objects', '3d_connected_component_analysis', 'watershed'], 'type': '2D', 'threshold': 0.3}\n",
      "pipeline_2D_thr_0.3_norm_percentile_0_10 {'pipeline': ['isotropy', 'norm_percentile', 'bilateral', 'remove_small_objects', 'watershed', '3d_connected_component_analysis'], 'type': '2D', 'threshold': 0.3}\n",
      "pipeline_2D_thr_0.3_norm_percentile_0_11 {'pipeline': ['isotropy', 'norm_percentile', 'bilateral', '3d_connected_component_analysis', 'remove_small_objects', 'watershed'], 'type': '2D', 'threshold': 0.3}\n",
      "pipeline_2D_thr_0.3_norm_percentile_0_12 {'pipeline': ['isotropy', 'norm_percentile', 'bilateral', '3d_connected_component_analysis', 'watershed', 'remove_small_objects'], 'type': '2D', 'threshold': 0.3}\n",
      "pipeline_2D_thr_0.3_norm_percentile_0_13 {'pipeline': ['isotropy', 'norm_percentile', 'bilateral', 'watershed', 'remove_small_objects', '3d_connected_component_analysis'], 'type': '2D', 'threshold': 0.3}\n",
      "pipeline_2D_thr_0.3_norm_percentile_0_14 {'pipeline': ['isotropy', 'norm_percentile', 'bilateral', 'watershed', '3d_connected_component_analysis', 'remove_small_objects'], 'type': '2D', 'threshold': 0.3}\n",
      "pipeline_2D_thr_0.3_norm_percentile_0_15 {'pipeline': ['isotropy', 'norm_percentile', 'bilateral'], 'type': '2D', 'threshold': 0.3}\n",
      "pipeline_2D_thr_0.3_norm_percentile_1_0 {'pipeline': ['isotropy', 'norm_percentile', 'anisodiff', 'remove_small_objects'], 'type': '2D', 'threshold': 0.3}\n",
      "pipeline_2D_thr_0.3_norm_percentile_1_1 {'pipeline': ['isotropy', 'norm_percentile', 'anisodiff', '3d_connected_component_analysis'], 'type': '2D', 'threshold': 0.3}\n",
      "pipeline_2D_thr_0.3_norm_percentile_1_2 {'pipeline': ['isotropy', 'norm_percentile', 'anisodiff', 'watershed'], 'type': '2D', 'threshold': 0.3}\n",
      "pipeline_2D_thr_0.3_norm_percentile_1_3 {'pipeline': ['isotropy', 'norm_percentile', 'anisodiff', 'remove_small_objects', '3d_connected_component_analysis'], 'type': '2D', 'threshold': 0.3}\n",
      "pipeline_2D_thr_0.3_norm_percentile_1_4 {'pipeline': ['isotropy', 'norm_percentile', 'anisodiff', 'remove_small_objects', 'watershed'], 'type': '2D', 'threshold': 0.3}\n",
      "pipeline_2D_thr_0.3_norm_percentile_1_5 {'pipeline': ['isotropy', 'norm_percentile', 'anisodiff', '3d_connected_component_analysis', 'remove_small_objects'], 'type': '2D', 'threshold': 0.3}\n",
      "pipeline_2D_thr_0.3_norm_percentile_1_6 {'pipeline': ['isotropy', 'norm_percentile', 'anisodiff', '3d_connected_component_analysis', 'watershed'], 'type': '2D', 'threshold': 0.3}\n",
      "pipeline_2D_thr_0.3_norm_percentile_1_7 {'pipeline': ['isotropy', 'norm_percentile', 'anisodiff', 'watershed', 'remove_small_objects'], 'type': '2D', 'threshold': 0.3}\n",
      "pipeline_2D_thr_0.3_norm_percentile_1_8 {'pipeline': ['isotropy', 'norm_percentile', 'anisodiff', 'watershed', '3d_connected_component_analysis'], 'type': '2D', 'threshold': 0.3}\n",
      "pipeline_2D_thr_0.3_norm_percentile_1_9 {'pipeline': ['isotropy', 'norm_percentile', 'anisodiff', 'remove_small_objects', '3d_connected_component_analysis', 'watershed'], 'type': '2D', 'threshold': 0.3}\n",
      "pipeline_2D_thr_0.3_norm_percentile_1_10 {'pipeline': ['isotropy', 'norm_percentile', 'anisodiff', 'remove_small_objects', 'watershed', '3d_connected_component_analysis'], 'type': '2D', 'threshold': 0.3}\n",
      "pipeline_2D_thr_0.3_norm_percentile_1_11 {'pipeline': ['isotropy', 'norm_percentile', 'anisodiff', '3d_connected_component_analysis', 'remove_small_objects', 'watershed'], 'type': '2D', 'threshold': 0.3}\n",
      "pipeline_2D_thr_0.3_norm_percentile_1_12 {'pipeline': ['isotropy', 'norm_percentile', 'anisodiff', '3d_connected_component_analysis', 'watershed', 'remove_small_objects'], 'type': '2D', 'threshold': 0.3}\n",
      "pipeline_2D_thr_0.3_norm_percentile_1_13 {'pipeline': ['isotropy', 'norm_percentile', 'anisodiff', 'watershed', 'remove_small_objects', '3d_connected_component_analysis'], 'type': '2D', 'threshold': 0.3}\n",
      "pipeline_2D_thr_0.3_norm_percentile_1_14 {'pipeline': ['isotropy', 'norm_percentile', 'anisodiff', 'watershed', '3d_connected_component_analysis', 'remove_small_objects'], 'type': '2D', 'threshold': 0.3}\n",
      "pipeline_2D_thr_0.3_norm_percentile_1_15 {'pipeline': ['isotropy', 'norm_percentile', 'anisodiff'], 'type': '2D', 'threshold': 0.3}\n",
      "pipeline_2D_thr_0.3_norm_percentile_2_0 {'pipeline': ['isotropy', 'norm_percentile', 'bilateral', 'anisodiff', 'remove_small_objects'], 'type': '2D', 'threshold': 0.3}\n",
      "pipeline_2D_thr_0.3_norm_percentile_2_1 {'pipeline': ['isotropy', 'norm_percentile', 'bilateral', 'anisodiff', '3d_connected_component_analysis'], 'type': '2D', 'threshold': 0.3}\n",
      "pipeline_2D_thr_0.3_norm_percentile_2_2 {'pipeline': ['isotropy', 'norm_percentile', 'bilateral', 'anisodiff', 'watershed'], 'type': '2D', 'threshold': 0.3}\n",
      "pipeline_2D_thr_0.3_norm_percentile_2_3 {'pipeline': ['isotropy', 'norm_percentile', 'bilateral', 'anisodiff', 'remove_small_objects', '3d_connected_component_analysis'], 'type': '2D', 'threshold': 0.3}\n",
      "pipeline_2D_thr_0.3_norm_percentile_2_4 {'pipeline': ['isotropy', 'norm_percentile', 'bilateral', 'anisodiff', 'remove_small_objects', 'watershed'], 'type': '2D', 'threshold': 0.3}\n",
      "pipeline_2D_thr_0.3_norm_percentile_2_5 {'pipeline': ['isotropy', 'norm_percentile', 'bilateral', 'anisodiff', '3d_connected_component_analysis', 'remove_small_objects'], 'type': '2D', 'threshold': 0.3}\n",
      "pipeline_2D_thr_0.3_norm_percentile_2_6 {'pipeline': ['isotropy', 'norm_percentile', 'bilateral', 'anisodiff', '3d_connected_component_analysis', 'watershed'], 'type': '2D', 'threshold': 0.3}\n",
      "pipeline_2D_thr_0.3_norm_percentile_2_7 {'pipeline': ['isotropy', 'norm_percentile', 'bilateral', 'anisodiff', 'watershed', 'remove_small_objects'], 'type': '2D', 'threshold': 0.3}\n",
      "pipeline_2D_thr_0.3_norm_percentile_2_8 {'pipeline': ['isotropy', 'norm_percentile', 'bilateral', 'anisodiff', 'watershed', '3d_connected_component_analysis'], 'type': '2D', 'threshold': 0.3}\n",
      "pipeline_2D_thr_0.3_norm_percentile_2_9 {'pipeline': ['isotropy', 'norm_percentile', 'bilateral', 'anisodiff', 'remove_small_objects', '3d_connected_component_analysis', 'watershed'], 'type': '2D', 'threshold': 0.3}\n",
      "pipeline_2D_thr_0.3_norm_percentile_2_10 {'pipeline': ['isotropy', 'norm_percentile', 'bilateral', 'anisodiff', 'remove_small_objects', 'watershed', '3d_connected_component_analysis'], 'type': '2D', 'threshold': 0.3}\n",
      "pipeline_2D_thr_0.3_norm_percentile_2_11 {'pipeline': ['isotropy', 'norm_percentile', 'bilateral', 'anisodiff', '3d_connected_component_analysis', 'remove_small_objects', 'watershed'], 'type': '2D', 'threshold': 0.3}\n",
      "pipeline_2D_thr_0.3_norm_percentile_2_12 {'pipeline': ['isotropy', 'norm_percentile', 'bilateral', 'anisodiff', '3d_connected_component_analysis', 'watershed', 'remove_small_objects'], 'type': '2D', 'threshold': 0.3}\n",
      "pipeline_2D_thr_0.3_norm_percentile_2_13 {'pipeline': ['isotropy', 'norm_percentile', 'bilateral', 'anisodiff', 'watershed', 'remove_small_objects', '3d_connected_component_analysis'], 'type': '2D', 'threshold': 0.3}\n",
      "pipeline_2D_thr_0.3_norm_percentile_2_14 {'pipeline': ['isotropy', 'norm_percentile', 'bilateral', 'anisodiff', 'watershed', '3d_connected_component_analysis', 'remove_small_objects'], 'type': '2D', 'threshold': 0.3}\n",
      "pipeline_2D_thr_0.3_norm_percentile_2_15 {'pipeline': ['isotropy', 'norm_percentile', 'bilateral', 'anisodiff'], 'type': '2D', 'threshold': 0.3}\n",
      "pipeline_2D_thr_0.3_norm_percentile_3_0 {'pipeline': ['isotropy', 'norm_percentile', 'anisodiff', 'bilateral', 'remove_small_objects'], 'type': '2D', 'threshold': 0.3}\n",
      "pipeline_2D_thr_0.3_norm_percentile_3_1 {'pipeline': ['isotropy', 'norm_percentile', 'anisodiff', 'bilateral', '3d_connected_component_analysis'], 'type': '2D', 'threshold': 0.3}\n",
      "pipeline_2D_thr_0.3_norm_percentile_3_2 {'pipeline': ['isotropy', 'norm_percentile', 'anisodiff', 'bilateral', 'watershed'], 'type': '2D', 'threshold': 0.3}\n",
      "pipeline_2D_thr_0.3_norm_percentile_3_3 {'pipeline': ['isotropy', 'norm_percentile', 'anisodiff', 'bilateral', 'remove_small_objects', '3d_connected_component_analysis'], 'type': '2D', 'threshold': 0.3}\n",
      "pipeline_2D_thr_0.3_norm_percentile_3_4 {'pipeline': ['isotropy', 'norm_percentile', 'anisodiff', 'bilateral', 'remove_small_objects', 'watershed'], 'type': '2D', 'threshold': 0.3}\n",
      "pipeline_2D_thr_0.3_norm_percentile_3_5 {'pipeline': ['isotropy', 'norm_percentile', 'anisodiff', 'bilateral', '3d_connected_component_analysis', 'remove_small_objects'], 'type': '2D', 'threshold': 0.3}\n",
      "pipeline_2D_thr_0.3_norm_percentile_3_6 {'pipeline': ['isotropy', 'norm_percentile', 'anisodiff', 'bilateral', '3d_connected_component_analysis', 'watershed'], 'type': '2D', 'threshold': 0.3}\n",
      "pipeline_2D_thr_0.3_norm_percentile_3_7 {'pipeline': ['isotropy', 'norm_percentile', 'anisodiff', 'bilateral', 'watershed', 'remove_small_objects'], 'type': '2D', 'threshold': 0.3}\n",
      "pipeline_2D_thr_0.3_norm_percentile_3_8 {'pipeline': ['isotropy', 'norm_percentile', 'anisodiff', 'bilateral', 'watershed', '3d_connected_component_analysis'], 'type': '2D', 'threshold': 0.3}\n",
      "pipeline_2D_thr_0.3_norm_percentile_3_9 {'pipeline': ['isotropy', 'norm_percentile', 'anisodiff', 'bilateral', 'remove_small_objects', '3d_connected_component_analysis', 'watershed'], 'type': '2D', 'threshold': 0.3}\n",
      "pipeline_2D_thr_0.3_norm_percentile_3_10 {'pipeline': ['isotropy', 'norm_percentile', 'anisodiff', 'bilateral', 'remove_small_objects', 'watershed', '3d_connected_component_analysis'], 'type': '2D', 'threshold': 0.3}\n",
      "pipeline_2D_thr_0.3_norm_percentile_3_11 {'pipeline': ['isotropy', 'norm_percentile', 'anisodiff', 'bilateral', '3d_connected_component_analysis', 'remove_small_objects', 'watershed'], 'type': '2D', 'threshold': 0.3}\n",
      "pipeline_2D_thr_0.3_norm_percentile_3_12 {'pipeline': ['isotropy', 'norm_percentile', 'anisodiff', 'bilateral', '3d_connected_component_analysis', 'watershed', 'remove_small_objects'], 'type': '2D', 'threshold': 0.3}\n",
      "pipeline_2D_thr_0.3_norm_percentile_3_13 {'pipeline': ['isotropy', 'norm_percentile', 'anisodiff', 'bilateral', 'watershed', 'remove_small_objects', '3d_connected_component_analysis'], 'type': '2D', 'threshold': 0.3}\n",
      "pipeline_2D_thr_0.3_norm_percentile_3_14 {'pipeline': ['isotropy', 'norm_percentile', 'anisodiff', 'bilateral', 'watershed', '3d_connected_component_analysis', 'remove_small_objects'], 'type': '2D', 'threshold': 0.3}\n",
      "pipeline_2D_thr_0.3_norm_percentile_3_15 {'pipeline': ['isotropy', 'norm_percentile', 'anisodiff', 'bilateral'], 'type': '2D', 'threshold': 0.3}\n",
      "pipeline_2D_thr_0.4_norm_minmax_0_0 {'pipeline': ['isotropy', 'norm_minmax', 'bilateral', 'remove_small_objects'], 'type': '2D', 'threshold': 0.4}\n",
      "pipeline_2D_thr_0.4_norm_minmax_0_1 {'pipeline': ['isotropy', 'norm_minmax', 'bilateral', '3d_connected_component_analysis'], 'type': '2D', 'threshold': 0.4}\n",
      "pipeline_2D_thr_0.4_norm_minmax_0_2 {'pipeline': ['isotropy', 'norm_minmax', 'bilateral', 'watershed'], 'type': '2D', 'threshold': 0.4}\n",
      "pipeline_2D_thr_0.4_norm_minmax_0_3 {'pipeline': ['isotropy', 'norm_minmax', 'bilateral', 'remove_small_objects', '3d_connected_component_analysis'], 'type': '2D', 'threshold': 0.4}\n",
      "pipeline_2D_thr_0.4_norm_minmax_0_4 {'pipeline': ['isotropy', 'norm_minmax', 'bilateral', 'remove_small_objects', 'watershed'], 'type': '2D', 'threshold': 0.4}\n",
      "pipeline_2D_thr_0.4_norm_minmax_0_5 {'pipeline': ['isotropy', 'norm_minmax', 'bilateral', '3d_connected_component_analysis', 'remove_small_objects'], 'type': '2D', 'threshold': 0.4}\n",
      "pipeline_2D_thr_0.4_norm_minmax_0_6 {'pipeline': ['isotropy', 'norm_minmax', 'bilateral', '3d_connected_component_analysis', 'watershed'], 'type': '2D', 'threshold': 0.4}\n",
      "pipeline_2D_thr_0.4_norm_minmax_0_7 {'pipeline': ['isotropy', 'norm_minmax', 'bilateral', 'watershed', 'remove_small_objects'], 'type': '2D', 'threshold': 0.4}\n",
      "pipeline_2D_thr_0.4_norm_minmax_0_8 {'pipeline': ['isotropy', 'norm_minmax', 'bilateral', 'watershed', '3d_connected_component_analysis'], 'type': '2D', 'threshold': 0.4}\n",
      "pipeline_2D_thr_0.4_norm_minmax_0_9 {'pipeline': ['isotropy', 'norm_minmax', 'bilateral', 'remove_small_objects', '3d_connected_component_analysis', 'watershed'], 'type': '2D', 'threshold': 0.4}\n",
      "pipeline_2D_thr_0.4_norm_minmax_0_10 {'pipeline': ['isotropy', 'norm_minmax', 'bilateral', 'remove_small_objects', 'watershed', '3d_connected_component_analysis'], 'type': '2D', 'threshold': 0.4}\n",
      "pipeline_2D_thr_0.4_norm_minmax_0_11 {'pipeline': ['isotropy', 'norm_minmax', 'bilateral', '3d_connected_component_analysis', 'remove_small_objects', 'watershed'], 'type': '2D', 'threshold': 0.4}\n",
      "pipeline_2D_thr_0.4_norm_minmax_0_12 {'pipeline': ['isotropy', 'norm_minmax', 'bilateral', '3d_connected_component_analysis', 'watershed', 'remove_small_objects'], 'type': '2D', 'threshold': 0.4}\n",
      "pipeline_2D_thr_0.4_norm_minmax_0_13 {'pipeline': ['isotropy', 'norm_minmax', 'bilateral', 'watershed', 'remove_small_objects', '3d_connected_component_analysis'], 'type': '2D', 'threshold': 0.4}\n",
      "pipeline_2D_thr_0.4_norm_minmax_0_14 {'pipeline': ['isotropy', 'norm_minmax', 'bilateral', 'watershed', '3d_connected_component_analysis', 'remove_small_objects'], 'type': '2D', 'threshold': 0.4}\n",
      "pipeline_2D_thr_0.4_norm_minmax_0_15 {'pipeline': ['isotropy', 'norm_minmax', 'bilateral'], 'type': '2D', 'threshold': 0.4}\n",
      "pipeline_2D_thr_0.4_norm_minmax_1_0 {'pipeline': ['isotropy', 'norm_minmax', 'anisodiff', 'remove_small_objects'], 'type': '2D', 'threshold': 0.4}\n",
      "pipeline_2D_thr_0.4_norm_minmax_1_1 {'pipeline': ['isotropy', 'norm_minmax', 'anisodiff', '3d_connected_component_analysis'], 'type': '2D', 'threshold': 0.4}\n",
      "pipeline_2D_thr_0.4_norm_minmax_1_2 {'pipeline': ['isotropy', 'norm_minmax', 'anisodiff', 'watershed'], 'type': '2D', 'threshold': 0.4}\n",
      "pipeline_2D_thr_0.4_norm_minmax_1_3 {'pipeline': ['isotropy', 'norm_minmax', 'anisodiff', 'remove_small_objects', '3d_connected_component_analysis'], 'type': '2D', 'threshold': 0.4}\n",
      "pipeline_2D_thr_0.4_norm_minmax_1_4 {'pipeline': ['isotropy', 'norm_minmax', 'anisodiff', 'remove_small_objects', 'watershed'], 'type': '2D', 'threshold': 0.4}\n",
      "pipeline_2D_thr_0.4_norm_minmax_1_5 {'pipeline': ['isotropy', 'norm_minmax', 'anisodiff', '3d_connected_component_analysis', 'remove_small_objects'], 'type': '2D', 'threshold': 0.4}\n",
      "pipeline_2D_thr_0.4_norm_minmax_1_6 {'pipeline': ['isotropy', 'norm_minmax', 'anisodiff', '3d_connected_component_analysis', 'watershed'], 'type': '2D', 'threshold': 0.4}\n",
      "pipeline_2D_thr_0.4_norm_minmax_1_7 {'pipeline': ['isotropy', 'norm_minmax', 'anisodiff', 'watershed', 'remove_small_objects'], 'type': '2D', 'threshold': 0.4}\n",
      "pipeline_2D_thr_0.4_norm_minmax_1_8 {'pipeline': ['isotropy', 'norm_minmax', 'anisodiff', 'watershed', '3d_connected_component_analysis'], 'type': '2D', 'threshold': 0.4}\n",
      "pipeline_2D_thr_0.4_norm_minmax_1_9 {'pipeline': ['isotropy', 'norm_minmax', 'anisodiff', 'remove_small_objects', '3d_connected_component_analysis', 'watershed'], 'type': '2D', 'threshold': 0.4}\n",
      "pipeline_2D_thr_0.4_norm_minmax_1_10 {'pipeline': ['isotropy', 'norm_minmax', 'anisodiff', 'remove_small_objects', 'watershed', '3d_connected_component_analysis'], 'type': '2D', 'threshold': 0.4}\n",
      "pipeline_2D_thr_0.4_norm_minmax_1_11 {'pipeline': ['isotropy', 'norm_minmax', 'anisodiff', '3d_connected_component_analysis', 'remove_small_objects', 'watershed'], 'type': '2D', 'threshold': 0.4}\n",
      "pipeline_2D_thr_0.4_norm_minmax_1_12 {'pipeline': ['isotropy', 'norm_minmax', 'anisodiff', '3d_connected_component_analysis', 'watershed', 'remove_small_objects'], 'type': '2D', 'threshold': 0.4}\n",
      "pipeline_2D_thr_0.4_norm_minmax_1_13 {'pipeline': ['isotropy', 'norm_minmax', 'anisodiff', 'watershed', 'remove_small_objects', '3d_connected_component_analysis'], 'type': '2D', 'threshold': 0.4}\n",
      "pipeline_2D_thr_0.4_norm_minmax_1_14 {'pipeline': ['isotropy', 'norm_minmax', 'anisodiff', 'watershed', '3d_connected_component_analysis', 'remove_small_objects'], 'type': '2D', 'threshold': 0.4}\n",
      "pipeline_2D_thr_0.4_norm_minmax_1_15 {'pipeline': ['isotropy', 'norm_minmax', 'anisodiff'], 'type': '2D', 'threshold': 0.4}\n",
      "pipeline_2D_thr_0.4_norm_minmax_2_0 {'pipeline': ['isotropy', 'norm_minmax', 'bilateral', 'anisodiff', 'remove_small_objects'], 'type': '2D', 'threshold': 0.4}\n",
      "pipeline_2D_thr_0.4_norm_minmax_2_1 {'pipeline': ['isotropy', 'norm_minmax', 'bilateral', 'anisodiff', '3d_connected_component_analysis'], 'type': '2D', 'threshold': 0.4}\n",
      "pipeline_2D_thr_0.4_norm_minmax_2_2 {'pipeline': ['isotropy', 'norm_minmax', 'bilateral', 'anisodiff', 'watershed'], 'type': '2D', 'threshold': 0.4}\n",
      "pipeline_2D_thr_0.4_norm_minmax_2_3 {'pipeline': ['isotropy', 'norm_minmax', 'bilateral', 'anisodiff', 'remove_small_objects', '3d_connected_component_analysis'], 'type': '2D', 'threshold': 0.4}\n",
      "pipeline_2D_thr_0.4_norm_minmax_2_4 {'pipeline': ['isotropy', 'norm_minmax', 'bilateral', 'anisodiff', 'remove_small_objects', 'watershed'], 'type': '2D', 'threshold': 0.4}\n",
      "pipeline_2D_thr_0.4_norm_minmax_2_5 {'pipeline': ['isotropy', 'norm_minmax', 'bilateral', 'anisodiff', '3d_connected_component_analysis', 'remove_small_objects'], 'type': '2D', 'threshold': 0.4}\n",
      "pipeline_2D_thr_0.4_norm_minmax_2_6 {'pipeline': ['isotropy', 'norm_minmax', 'bilateral', 'anisodiff', '3d_connected_component_analysis', 'watershed'], 'type': '2D', 'threshold': 0.4}\n",
      "pipeline_2D_thr_0.4_norm_minmax_2_7 {'pipeline': ['isotropy', 'norm_minmax', 'bilateral', 'anisodiff', 'watershed', 'remove_small_objects'], 'type': '2D', 'threshold': 0.4}\n",
      "pipeline_2D_thr_0.4_norm_minmax_2_8 {'pipeline': ['isotropy', 'norm_minmax', 'bilateral', 'anisodiff', 'watershed', '3d_connected_component_analysis'], 'type': '2D', 'threshold': 0.4}\n",
      "pipeline_2D_thr_0.4_norm_minmax_2_9 {'pipeline': ['isotropy', 'norm_minmax', 'bilateral', 'anisodiff', 'remove_small_objects', '3d_connected_component_analysis', 'watershed'], 'type': '2D', 'threshold': 0.4}\n",
      "pipeline_2D_thr_0.4_norm_minmax_2_10 {'pipeline': ['isotropy', 'norm_minmax', 'bilateral', 'anisodiff', 'remove_small_objects', 'watershed', '3d_connected_component_analysis'], 'type': '2D', 'threshold': 0.4}\n",
      "pipeline_2D_thr_0.4_norm_minmax_2_11 {'pipeline': ['isotropy', 'norm_minmax', 'bilateral', 'anisodiff', '3d_connected_component_analysis', 'remove_small_objects', 'watershed'], 'type': '2D', 'threshold': 0.4}\n",
      "pipeline_2D_thr_0.4_norm_minmax_2_12 {'pipeline': ['isotropy', 'norm_minmax', 'bilateral', 'anisodiff', '3d_connected_component_analysis', 'watershed', 'remove_small_objects'], 'type': '2D', 'threshold': 0.4}\n",
      "pipeline_2D_thr_0.4_norm_minmax_2_13 {'pipeline': ['isotropy', 'norm_minmax', 'bilateral', 'anisodiff', 'watershed', 'remove_small_objects', '3d_connected_component_analysis'], 'type': '2D', 'threshold': 0.4}\n",
      "pipeline_2D_thr_0.4_norm_minmax_2_14 {'pipeline': ['isotropy', 'norm_minmax', 'bilateral', 'anisodiff', 'watershed', '3d_connected_component_analysis', 'remove_small_objects'], 'type': '2D', 'threshold': 0.4}\n",
      "pipeline_2D_thr_0.4_norm_minmax_2_15 {'pipeline': ['isotropy', 'norm_minmax', 'bilateral', 'anisodiff'], 'type': '2D', 'threshold': 0.4}\n",
      "pipeline_2D_thr_0.4_norm_minmax_3_0 {'pipeline': ['isotropy', 'norm_minmax', 'anisodiff', 'bilateral', 'remove_small_objects'], 'type': '2D', 'threshold': 0.4}\n",
      "pipeline_2D_thr_0.4_norm_minmax_3_1 {'pipeline': ['isotropy', 'norm_minmax', 'anisodiff', 'bilateral', '3d_connected_component_analysis'], 'type': '2D', 'threshold': 0.4}\n",
      "pipeline_2D_thr_0.4_norm_minmax_3_2 {'pipeline': ['isotropy', 'norm_minmax', 'anisodiff', 'bilateral', 'watershed'], 'type': '2D', 'threshold': 0.4}\n",
      "pipeline_2D_thr_0.4_norm_minmax_3_3 {'pipeline': ['isotropy', 'norm_minmax', 'anisodiff', 'bilateral', 'remove_small_objects', '3d_connected_component_analysis'], 'type': '2D', 'threshold': 0.4}\n",
      "pipeline_2D_thr_0.4_norm_minmax_3_4 {'pipeline': ['isotropy', 'norm_minmax', 'anisodiff', 'bilateral', 'remove_small_objects', 'watershed'], 'type': '2D', 'threshold': 0.4}\n",
      "pipeline_2D_thr_0.4_norm_minmax_3_5 {'pipeline': ['isotropy', 'norm_minmax', 'anisodiff', 'bilateral', '3d_connected_component_analysis', 'remove_small_objects'], 'type': '2D', 'threshold': 0.4}\n",
      "pipeline_2D_thr_0.4_norm_minmax_3_6 {'pipeline': ['isotropy', 'norm_minmax', 'anisodiff', 'bilateral', '3d_connected_component_analysis', 'watershed'], 'type': '2D', 'threshold': 0.4}\n",
      "pipeline_2D_thr_0.4_norm_minmax_3_7 {'pipeline': ['isotropy', 'norm_minmax', 'anisodiff', 'bilateral', 'watershed', 'remove_small_objects'], 'type': '2D', 'threshold': 0.4}\n",
      "pipeline_2D_thr_0.4_norm_minmax_3_8 {'pipeline': ['isotropy', 'norm_minmax', 'anisodiff', 'bilateral', 'watershed', '3d_connected_component_analysis'], 'type': '2D', 'threshold': 0.4}\n",
      "pipeline_2D_thr_0.4_norm_minmax_3_9 {'pipeline': ['isotropy', 'norm_minmax', 'anisodiff', 'bilateral', 'remove_small_objects', '3d_connected_component_analysis', 'watershed'], 'type': '2D', 'threshold': 0.4}\n",
      "pipeline_2D_thr_0.4_norm_minmax_3_10 {'pipeline': ['isotropy', 'norm_minmax', 'anisodiff', 'bilateral', 'remove_small_objects', 'watershed', '3d_connected_component_analysis'], 'type': '2D', 'threshold': 0.4}\n",
      "pipeline_2D_thr_0.4_norm_minmax_3_11 {'pipeline': ['isotropy', 'norm_minmax', 'anisodiff', 'bilateral', '3d_connected_component_analysis', 'remove_small_objects', 'watershed'], 'type': '2D', 'threshold': 0.4}\n",
      "pipeline_2D_thr_0.4_norm_minmax_3_12 {'pipeline': ['isotropy', 'norm_minmax', 'anisodiff', 'bilateral', '3d_connected_component_analysis', 'watershed', 'remove_small_objects'], 'type': '2D', 'threshold': 0.4}\n",
      "pipeline_2D_thr_0.4_norm_minmax_3_13 {'pipeline': ['isotropy', 'norm_minmax', 'anisodiff', 'bilateral', 'watershed', 'remove_small_objects', '3d_connected_component_analysis'], 'type': '2D', 'threshold': 0.4}\n",
      "pipeline_2D_thr_0.4_norm_minmax_3_14 {'pipeline': ['isotropy', 'norm_minmax', 'anisodiff', 'bilateral', 'watershed', '3d_connected_component_analysis', 'remove_small_objects'], 'type': '2D', 'threshold': 0.4}\n",
      "pipeline_2D_thr_0.4_norm_minmax_3_15 {'pipeline': ['isotropy', 'norm_minmax', 'anisodiff', 'bilateral'], 'type': '2D', 'threshold': 0.4}\n",
      "pipeline_2D_thr_0.4_norm_percentile_0_0 {'pipeline': ['isotropy', 'norm_percentile', 'bilateral', 'remove_small_objects'], 'type': '2D', 'threshold': 0.4}\n",
      "pipeline_2D_thr_0.4_norm_percentile_0_1 {'pipeline': ['isotropy', 'norm_percentile', 'bilateral', '3d_connected_component_analysis'], 'type': '2D', 'threshold': 0.4}\n",
      "pipeline_2D_thr_0.4_norm_percentile_0_2 {'pipeline': ['isotropy', 'norm_percentile', 'bilateral', 'watershed'], 'type': '2D', 'threshold': 0.4}\n",
      "pipeline_2D_thr_0.4_norm_percentile_0_3 {'pipeline': ['isotropy', 'norm_percentile', 'bilateral', 'remove_small_objects', '3d_connected_component_analysis'], 'type': '2D', 'threshold': 0.4}\n",
      "pipeline_2D_thr_0.4_norm_percentile_0_4 {'pipeline': ['isotropy', 'norm_percentile', 'bilateral', 'remove_small_objects', 'watershed'], 'type': '2D', 'threshold': 0.4}\n",
      "pipeline_2D_thr_0.4_norm_percentile_0_5 {'pipeline': ['isotropy', 'norm_percentile', 'bilateral', '3d_connected_component_analysis', 'remove_small_objects'], 'type': '2D', 'threshold': 0.4}\n",
      "pipeline_2D_thr_0.4_norm_percentile_0_6 {'pipeline': ['isotropy', 'norm_percentile', 'bilateral', '3d_connected_component_analysis', 'watershed'], 'type': '2D', 'threshold': 0.4}\n",
      "pipeline_2D_thr_0.4_norm_percentile_0_7 {'pipeline': ['isotropy', 'norm_percentile', 'bilateral', 'watershed', 'remove_small_objects'], 'type': '2D', 'threshold': 0.4}\n",
      "pipeline_2D_thr_0.4_norm_percentile_0_8 {'pipeline': ['isotropy', 'norm_percentile', 'bilateral', 'watershed', '3d_connected_component_analysis'], 'type': '2D', 'threshold': 0.4}\n",
      "pipeline_2D_thr_0.4_norm_percentile_0_9 {'pipeline': ['isotropy', 'norm_percentile', 'bilateral', 'remove_small_objects', '3d_connected_component_analysis', 'watershed'], 'type': '2D', 'threshold': 0.4}\n",
      "pipeline_2D_thr_0.4_norm_percentile_0_10 {'pipeline': ['isotropy', 'norm_percentile', 'bilateral', 'remove_small_objects', 'watershed', '3d_connected_component_analysis'], 'type': '2D', 'threshold': 0.4}\n",
      "pipeline_2D_thr_0.4_norm_percentile_0_11 {'pipeline': ['isotropy', 'norm_percentile', 'bilateral', '3d_connected_component_analysis', 'remove_small_objects', 'watershed'], 'type': '2D', 'threshold': 0.4}\n",
      "pipeline_2D_thr_0.4_norm_percentile_0_12 {'pipeline': ['isotropy', 'norm_percentile', 'bilateral', '3d_connected_component_analysis', 'watershed', 'remove_small_objects'], 'type': '2D', 'threshold': 0.4}\n",
      "pipeline_2D_thr_0.4_norm_percentile_0_13 {'pipeline': ['isotropy', 'norm_percentile', 'bilateral', 'watershed', 'remove_small_objects', '3d_connected_component_analysis'], 'type': '2D', 'threshold': 0.4}\n",
      "pipeline_2D_thr_0.4_norm_percentile_0_14 {'pipeline': ['isotropy', 'norm_percentile', 'bilateral', 'watershed', '3d_connected_component_analysis', 'remove_small_objects'], 'type': '2D', 'threshold': 0.4}\n",
      "pipeline_2D_thr_0.4_norm_percentile_0_15 {'pipeline': ['isotropy', 'norm_percentile', 'bilateral'], 'type': '2D', 'threshold': 0.4}\n",
      "pipeline_2D_thr_0.4_norm_percentile_1_0 {'pipeline': ['isotropy', 'norm_percentile', 'anisodiff', 'remove_small_objects'], 'type': '2D', 'threshold': 0.4}\n",
      "pipeline_2D_thr_0.4_norm_percentile_1_1 {'pipeline': ['isotropy', 'norm_percentile', 'anisodiff', '3d_connected_component_analysis'], 'type': '2D', 'threshold': 0.4}\n",
      "pipeline_2D_thr_0.4_norm_percentile_1_2 {'pipeline': ['isotropy', 'norm_percentile', 'anisodiff', 'watershed'], 'type': '2D', 'threshold': 0.4}\n",
      "pipeline_2D_thr_0.4_norm_percentile_1_3 {'pipeline': ['isotropy', 'norm_percentile', 'anisodiff', 'remove_small_objects', '3d_connected_component_analysis'], 'type': '2D', 'threshold': 0.4}\n",
      "pipeline_2D_thr_0.4_norm_percentile_1_4 {'pipeline': ['isotropy', 'norm_percentile', 'anisodiff', 'remove_small_objects', 'watershed'], 'type': '2D', 'threshold': 0.4}\n",
      "pipeline_2D_thr_0.4_norm_percentile_1_5 {'pipeline': ['isotropy', 'norm_percentile', 'anisodiff', '3d_connected_component_analysis', 'remove_small_objects'], 'type': '2D', 'threshold': 0.4}\n",
      "pipeline_2D_thr_0.4_norm_percentile_1_6 {'pipeline': ['isotropy', 'norm_percentile', 'anisodiff', '3d_connected_component_analysis', 'watershed'], 'type': '2D', 'threshold': 0.4}\n",
      "pipeline_2D_thr_0.4_norm_percentile_1_7 {'pipeline': ['isotropy', 'norm_percentile', 'anisodiff', 'watershed', 'remove_small_objects'], 'type': '2D', 'threshold': 0.4}\n",
      "pipeline_2D_thr_0.4_norm_percentile_1_8 {'pipeline': ['isotropy', 'norm_percentile', 'anisodiff', 'watershed', '3d_connected_component_analysis'], 'type': '2D', 'threshold': 0.4}\n",
      "pipeline_2D_thr_0.4_norm_percentile_1_9 {'pipeline': ['isotropy', 'norm_percentile', 'anisodiff', 'remove_small_objects', '3d_connected_component_analysis', 'watershed'], 'type': '2D', 'threshold': 0.4}\n",
      "pipeline_2D_thr_0.4_norm_percentile_1_10 {'pipeline': ['isotropy', 'norm_percentile', 'anisodiff', 'remove_small_objects', 'watershed', '3d_connected_component_analysis'], 'type': '2D', 'threshold': 0.4}\n",
      "pipeline_2D_thr_0.4_norm_percentile_1_11 {'pipeline': ['isotropy', 'norm_percentile', 'anisodiff', '3d_connected_component_analysis', 'remove_small_objects', 'watershed'], 'type': '2D', 'threshold': 0.4}\n",
      "pipeline_2D_thr_0.4_norm_percentile_1_12 {'pipeline': ['isotropy', 'norm_percentile', 'anisodiff', '3d_connected_component_analysis', 'watershed', 'remove_small_objects'], 'type': '2D', 'threshold': 0.4}\n",
      "pipeline_2D_thr_0.4_norm_percentile_1_13 {'pipeline': ['isotropy', 'norm_percentile', 'anisodiff', 'watershed', 'remove_small_objects', '3d_connected_component_analysis'], 'type': '2D', 'threshold': 0.4}\n",
      "pipeline_2D_thr_0.4_norm_percentile_1_14 {'pipeline': ['isotropy', 'norm_percentile', 'anisodiff', 'watershed', '3d_connected_component_analysis', 'remove_small_objects'], 'type': '2D', 'threshold': 0.4}\n",
      "pipeline_2D_thr_0.4_norm_percentile_1_15 {'pipeline': ['isotropy', 'norm_percentile', 'anisodiff'], 'type': '2D', 'threshold': 0.4}\n",
      "pipeline_2D_thr_0.4_norm_percentile_2_0 {'pipeline': ['isotropy', 'norm_percentile', 'bilateral', 'anisodiff', 'remove_small_objects'], 'type': '2D', 'threshold': 0.4}\n",
      "pipeline_2D_thr_0.4_norm_percentile_2_1 {'pipeline': ['isotropy', 'norm_percentile', 'bilateral', 'anisodiff', '3d_connected_component_analysis'], 'type': '2D', 'threshold': 0.4}\n",
      "pipeline_2D_thr_0.4_norm_percentile_2_2 {'pipeline': ['isotropy', 'norm_percentile', 'bilateral', 'anisodiff', 'watershed'], 'type': '2D', 'threshold': 0.4}\n",
      "pipeline_2D_thr_0.4_norm_percentile_2_3 {'pipeline': ['isotropy', 'norm_percentile', 'bilateral', 'anisodiff', 'remove_small_objects', '3d_connected_component_analysis'], 'type': '2D', 'threshold': 0.4}\n",
      "pipeline_2D_thr_0.4_norm_percentile_2_4 {'pipeline': ['isotropy', 'norm_percentile', 'bilateral', 'anisodiff', 'remove_small_objects', 'watershed'], 'type': '2D', 'threshold': 0.4}\n",
      "pipeline_2D_thr_0.4_norm_percentile_2_5 {'pipeline': ['isotropy', 'norm_percentile', 'bilateral', 'anisodiff', '3d_connected_component_analysis', 'remove_small_objects'], 'type': '2D', 'threshold': 0.4}\n",
      "pipeline_2D_thr_0.4_norm_percentile_2_6 {'pipeline': ['isotropy', 'norm_percentile', 'bilateral', 'anisodiff', '3d_connected_component_analysis', 'watershed'], 'type': '2D', 'threshold': 0.4}\n",
      "pipeline_2D_thr_0.4_norm_percentile_2_7 {'pipeline': ['isotropy', 'norm_percentile', 'bilateral', 'anisodiff', 'watershed', 'remove_small_objects'], 'type': '2D', 'threshold': 0.4}\n",
      "pipeline_2D_thr_0.4_norm_percentile_2_8 {'pipeline': ['isotropy', 'norm_percentile', 'bilateral', 'anisodiff', 'watershed', '3d_connected_component_analysis'], 'type': '2D', 'threshold': 0.4}\n",
      "pipeline_2D_thr_0.4_norm_percentile_2_9 {'pipeline': ['isotropy', 'norm_percentile', 'bilateral', 'anisodiff', 'remove_small_objects', '3d_connected_component_analysis', 'watershed'], 'type': '2D', 'threshold': 0.4}\n",
      "pipeline_2D_thr_0.4_norm_percentile_2_10 {'pipeline': ['isotropy', 'norm_percentile', 'bilateral', 'anisodiff', 'remove_small_objects', 'watershed', '3d_connected_component_analysis'], 'type': '2D', 'threshold': 0.4}\n",
      "pipeline_2D_thr_0.4_norm_percentile_2_11 {'pipeline': ['isotropy', 'norm_percentile', 'bilateral', 'anisodiff', '3d_connected_component_analysis', 'remove_small_objects', 'watershed'], 'type': '2D', 'threshold': 0.4}\n",
      "pipeline_2D_thr_0.4_norm_percentile_2_12 {'pipeline': ['isotropy', 'norm_percentile', 'bilateral', 'anisodiff', '3d_connected_component_analysis', 'watershed', 'remove_small_objects'], 'type': '2D', 'threshold': 0.4}\n",
      "pipeline_2D_thr_0.4_norm_percentile_2_13 {'pipeline': ['isotropy', 'norm_percentile', 'bilateral', 'anisodiff', 'watershed', 'remove_small_objects', '3d_connected_component_analysis'], 'type': '2D', 'threshold': 0.4}\n",
      "pipeline_2D_thr_0.4_norm_percentile_2_14 {'pipeline': ['isotropy', 'norm_percentile', 'bilateral', 'anisodiff', 'watershed', '3d_connected_component_analysis', 'remove_small_objects'], 'type': '2D', 'threshold': 0.4}\n",
      "pipeline_2D_thr_0.4_norm_percentile_2_15 {'pipeline': ['isotropy', 'norm_percentile', 'bilateral', 'anisodiff'], 'type': '2D', 'threshold': 0.4}\n",
      "pipeline_2D_thr_0.4_norm_percentile_3_0 {'pipeline': ['isotropy', 'norm_percentile', 'anisodiff', 'bilateral', 'remove_small_objects'], 'type': '2D', 'threshold': 0.4}\n",
      "pipeline_2D_thr_0.4_norm_percentile_3_1 {'pipeline': ['isotropy', 'norm_percentile', 'anisodiff', 'bilateral', '3d_connected_component_analysis'], 'type': '2D', 'threshold': 0.4}\n",
      "pipeline_2D_thr_0.4_norm_percentile_3_2 {'pipeline': ['isotropy', 'norm_percentile', 'anisodiff', 'bilateral', 'watershed'], 'type': '2D', 'threshold': 0.4}\n",
      "pipeline_2D_thr_0.4_norm_percentile_3_3 {'pipeline': ['isotropy', 'norm_percentile', 'anisodiff', 'bilateral', 'remove_small_objects', '3d_connected_component_analysis'], 'type': '2D', 'threshold': 0.4}\n",
      "pipeline_2D_thr_0.4_norm_percentile_3_4 {'pipeline': ['isotropy', 'norm_percentile', 'anisodiff', 'bilateral', 'remove_small_objects', 'watershed'], 'type': '2D', 'threshold': 0.4}\n",
      "pipeline_2D_thr_0.4_norm_percentile_3_5 {'pipeline': ['isotropy', 'norm_percentile', 'anisodiff', 'bilateral', '3d_connected_component_analysis', 'remove_small_objects'], 'type': '2D', 'threshold': 0.4}\n",
      "pipeline_2D_thr_0.4_norm_percentile_3_6 {'pipeline': ['isotropy', 'norm_percentile', 'anisodiff', 'bilateral', '3d_connected_component_analysis', 'watershed'], 'type': '2D', 'threshold': 0.4}\n",
      "pipeline_2D_thr_0.4_norm_percentile_3_7 {'pipeline': ['isotropy', 'norm_percentile', 'anisodiff', 'bilateral', 'watershed', 'remove_small_objects'], 'type': '2D', 'threshold': 0.4}\n",
      "pipeline_2D_thr_0.4_norm_percentile_3_8 {'pipeline': ['isotropy', 'norm_percentile', 'anisodiff', 'bilateral', 'watershed', '3d_connected_component_analysis'], 'type': '2D', 'threshold': 0.4}\n",
      "pipeline_2D_thr_0.4_norm_percentile_3_9 {'pipeline': ['isotropy', 'norm_percentile', 'anisodiff', 'bilateral', 'remove_small_objects', '3d_connected_component_analysis', 'watershed'], 'type': '2D', 'threshold': 0.4}\n",
      "pipeline_2D_thr_0.4_norm_percentile_3_10 {'pipeline': ['isotropy', 'norm_percentile', 'anisodiff', 'bilateral', 'remove_small_objects', 'watershed', '3d_connected_component_analysis'], 'type': '2D', 'threshold': 0.4}\n",
      "pipeline_2D_thr_0.4_norm_percentile_3_11 {'pipeline': ['isotropy', 'norm_percentile', 'anisodiff', 'bilateral', '3d_connected_component_analysis', 'remove_small_objects', 'watershed'], 'type': '2D', 'threshold': 0.4}\n",
      "pipeline_2D_thr_0.4_norm_percentile_3_12 {'pipeline': ['isotropy', 'norm_percentile', 'anisodiff', 'bilateral', '3d_connected_component_analysis', 'watershed', 'remove_small_objects'], 'type': '2D', 'threshold': 0.4}\n",
      "pipeline_2D_thr_0.4_norm_percentile_3_13 {'pipeline': ['isotropy', 'norm_percentile', 'anisodiff', 'bilateral', 'watershed', 'remove_small_objects', '3d_connected_component_analysis'], 'type': '2D', 'threshold': 0.4}\n",
      "pipeline_2D_thr_0.4_norm_percentile_3_14 {'pipeline': ['isotropy', 'norm_percentile', 'anisodiff', 'bilateral', 'watershed', '3d_connected_component_analysis', 'remove_small_objects'], 'type': '2D', 'threshold': 0.4}\n",
      "pipeline_2D_thr_0.4_norm_percentile_3_15 {'pipeline': ['isotropy', 'norm_percentile', 'anisodiff', 'bilateral'], 'type': '2D', 'threshold': 0.4}\n",
      "pipeline_2D_thr_0.5_norm_minmax_0_0 {'pipeline': ['isotropy', 'norm_minmax', 'bilateral', 'remove_small_objects'], 'type': '2D', 'threshold': 0.5}\n",
      "pipeline_2D_thr_0.5_norm_minmax_0_1 {'pipeline': ['isotropy', 'norm_minmax', 'bilateral', '3d_connected_component_analysis'], 'type': '2D', 'threshold': 0.5}\n",
      "pipeline_2D_thr_0.5_norm_minmax_0_2 {'pipeline': ['isotropy', 'norm_minmax', 'bilateral', 'watershed'], 'type': '2D', 'threshold': 0.5}\n",
      "pipeline_2D_thr_0.5_norm_minmax_0_3 {'pipeline': ['isotropy', 'norm_minmax', 'bilateral', 'remove_small_objects', '3d_connected_component_analysis'], 'type': '2D', 'threshold': 0.5}\n",
      "pipeline_2D_thr_0.5_norm_minmax_0_4 {'pipeline': ['isotropy', 'norm_minmax', 'bilateral', 'remove_small_objects', 'watershed'], 'type': '2D', 'threshold': 0.5}\n",
      "pipeline_2D_thr_0.5_norm_minmax_0_5 {'pipeline': ['isotropy', 'norm_minmax', 'bilateral', '3d_connected_component_analysis', 'remove_small_objects'], 'type': '2D', 'threshold': 0.5}\n",
      "pipeline_2D_thr_0.5_norm_minmax_0_6 {'pipeline': ['isotropy', 'norm_minmax', 'bilateral', '3d_connected_component_analysis', 'watershed'], 'type': '2D', 'threshold': 0.5}\n",
      "pipeline_2D_thr_0.5_norm_minmax_0_7 {'pipeline': ['isotropy', 'norm_minmax', 'bilateral', 'watershed', 'remove_small_objects'], 'type': '2D', 'threshold': 0.5}\n",
      "pipeline_2D_thr_0.5_norm_minmax_0_8 {'pipeline': ['isotropy', 'norm_minmax', 'bilateral', 'watershed', '3d_connected_component_analysis'], 'type': '2D', 'threshold': 0.5}\n",
      "pipeline_2D_thr_0.5_norm_minmax_0_9 {'pipeline': ['isotropy', 'norm_minmax', 'bilateral', 'remove_small_objects', '3d_connected_component_analysis', 'watershed'], 'type': '2D', 'threshold': 0.5}\n",
      "pipeline_2D_thr_0.5_norm_minmax_0_10 {'pipeline': ['isotropy', 'norm_minmax', 'bilateral', 'remove_small_objects', 'watershed', '3d_connected_component_analysis'], 'type': '2D', 'threshold': 0.5}\n",
      "pipeline_2D_thr_0.5_norm_minmax_0_11 {'pipeline': ['isotropy', 'norm_minmax', 'bilateral', '3d_connected_component_analysis', 'remove_small_objects', 'watershed'], 'type': '2D', 'threshold': 0.5}\n",
      "pipeline_2D_thr_0.5_norm_minmax_0_12 {'pipeline': ['isotropy', 'norm_minmax', 'bilateral', '3d_connected_component_analysis', 'watershed', 'remove_small_objects'], 'type': '2D', 'threshold': 0.5}\n",
      "pipeline_2D_thr_0.5_norm_minmax_0_13 {'pipeline': ['isotropy', 'norm_minmax', 'bilateral', 'watershed', 'remove_small_objects', '3d_connected_component_analysis'], 'type': '2D', 'threshold': 0.5}\n",
      "pipeline_2D_thr_0.5_norm_minmax_0_14 {'pipeline': ['isotropy', 'norm_minmax', 'bilateral', 'watershed', '3d_connected_component_analysis', 'remove_small_objects'], 'type': '2D', 'threshold': 0.5}\n",
      "pipeline_2D_thr_0.5_norm_minmax_0_15 {'pipeline': ['isotropy', 'norm_minmax', 'bilateral'], 'type': '2D', 'threshold': 0.5}\n",
      "pipeline_2D_thr_0.5_norm_minmax_1_0 {'pipeline': ['isotropy', 'norm_minmax', 'anisodiff', 'remove_small_objects'], 'type': '2D', 'threshold': 0.5}\n",
      "pipeline_2D_thr_0.5_norm_minmax_1_1 {'pipeline': ['isotropy', 'norm_minmax', 'anisodiff', '3d_connected_component_analysis'], 'type': '2D', 'threshold': 0.5}\n",
      "pipeline_2D_thr_0.5_norm_minmax_1_2 {'pipeline': ['isotropy', 'norm_minmax', 'anisodiff', 'watershed'], 'type': '2D', 'threshold': 0.5}\n",
      "pipeline_2D_thr_0.5_norm_minmax_1_3 {'pipeline': ['isotropy', 'norm_minmax', 'anisodiff', 'remove_small_objects', '3d_connected_component_analysis'], 'type': '2D', 'threshold': 0.5}\n",
      "pipeline_2D_thr_0.5_norm_minmax_1_4 {'pipeline': ['isotropy', 'norm_minmax', 'anisodiff', 'remove_small_objects', 'watershed'], 'type': '2D', 'threshold': 0.5}\n",
      "pipeline_2D_thr_0.5_norm_minmax_1_5 {'pipeline': ['isotropy', 'norm_minmax', 'anisodiff', '3d_connected_component_analysis', 'remove_small_objects'], 'type': '2D', 'threshold': 0.5}\n",
      "pipeline_2D_thr_0.5_norm_minmax_1_6 {'pipeline': ['isotropy', 'norm_minmax', 'anisodiff', '3d_connected_component_analysis', 'watershed'], 'type': '2D', 'threshold': 0.5}\n",
      "pipeline_2D_thr_0.5_norm_minmax_1_7 {'pipeline': ['isotropy', 'norm_minmax', 'anisodiff', 'watershed', 'remove_small_objects'], 'type': '2D', 'threshold': 0.5}\n",
      "pipeline_2D_thr_0.5_norm_minmax_1_8 {'pipeline': ['isotropy', 'norm_minmax', 'anisodiff', 'watershed', '3d_connected_component_analysis'], 'type': '2D', 'threshold': 0.5}\n",
      "pipeline_2D_thr_0.5_norm_minmax_1_9 {'pipeline': ['isotropy', 'norm_minmax', 'anisodiff', 'remove_small_objects', '3d_connected_component_analysis', 'watershed'], 'type': '2D', 'threshold': 0.5}\n",
      "pipeline_2D_thr_0.5_norm_minmax_1_10 {'pipeline': ['isotropy', 'norm_minmax', 'anisodiff', 'remove_small_objects', 'watershed', '3d_connected_component_analysis'], 'type': '2D', 'threshold': 0.5}\n",
      "pipeline_2D_thr_0.5_norm_minmax_1_11 {'pipeline': ['isotropy', 'norm_minmax', 'anisodiff', '3d_connected_component_analysis', 'remove_small_objects', 'watershed'], 'type': '2D', 'threshold': 0.5}\n",
      "pipeline_2D_thr_0.5_norm_minmax_1_12 {'pipeline': ['isotropy', 'norm_minmax', 'anisodiff', '3d_connected_component_analysis', 'watershed', 'remove_small_objects'], 'type': '2D', 'threshold': 0.5}\n",
      "pipeline_2D_thr_0.5_norm_minmax_1_13 {'pipeline': ['isotropy', 'norm_minmax', 'anisodiff', 'watershed', 'remove_small_objects', '3d_connected_component_analysis'], 'type': '2D', 'threshold': 0.5}\n",
      "pipeline_2D_thr_0.5_norm_minmax_1_14 {'pipeline': ['isotropy', 'norm_minmax', 'anisodiff', 'watershed', '3d_connected_component_analysis', 'remove_small_objects'], 'type': '2D', 'threshold': 0.5}\n",
      "pipeline_2D_thr_0.5_norm_minmax_1_15 {'pipeline': ['isotropy', 'norm_minmax', 'anisodiff'], 'type': '2D', 'threshold': 0.5}\n",
      "pipeline_2D_thr_0.5_norm_minmax_2_0 {'pipeline': ['isotropy', 'norm_minmax', 'bilateral', 'anisodiff', 'remove_small_objects'], 'type': '2D', 'threshold': 0.5}\n",
      "pipeline_2D_thr_0.5_norm_minmax_2_1 {'pipeline': ['isotropy', 'norm_minmax', 'bilateral', 'anisodiff', '3d_connected_component_analysis'], 'type': '2D', 'threshold': 0.5}\n",
      "pipeline_2D_thr_0.5_norm_minmax_2_2 {'pipeline': ['isotropy', 'norm_minmax', 'bilateral', 'anisodiff', 'watershed'], 'type': '2D', 'threshold': 0.5}\n",
      "pipeline_2D_thr_0.5_norm_minmax_2_3 {'pipeline': ['isotropy', 'norm_minmax', 'bilateral', 'anisodiff', 'remove_small_objects', '3d_connected_component_analysis'], 'type': '2D', 'threshold': 0.5}\n",
      "pipeline_2D_thr_0.5_norm_minmax_2_4 {'pipeline': ['isotropy', 'norm_minmax', 'bilateral', 'anisodiff', 'remove_small_objects', 'watershed'], 'type': '2D', 'threshold': 0.5}\n",
      "pipeline_2D_thr_0.5_norm_minmax_2_5 {'pipeline': ['isotropy', 'norm_minmax', 'bilateral', 'anisodiff', '3d_connected_component_analysis', 'remove_small_objects'], 'type': '2D', 'threshold': 0.5}\n",
      "pipeline_2D_thr_0.5_norm_minmax_2_6 {'pipeline': ['isotropy', 'norm_minmax', 'bilateral', 'anisodiff', '3d_connected_component_analysis', 'watershed'], 'type': '2D', 'threshold': 0.5}\n",
      "pipeline_2D_thr_0.5_norm_minmax_2_7 {'pipeline': ['isotropy', 'norm_minmax', 'bilateral', 'anisodiff', 'watershed', 'remove_small_objects'], 'type': '2D', 'threshold': 0.5}\n",
      "pipeline_2D_thr_0.5_norm_minmax_2_8 {'pipeline': ['isotropy', 'norm_minmax', 'bilateral', 'anisodiff', 'watershed', '3d_connected_component_analysis'], 'type': '2D', 'threshold': 0.5}\n",
      "pipeline_2D_thr_0.5_norm_minmax_2_9 {'pipeline': ['isotropy', 'norm_minmax', 'bilateral', 'anisodiff', 'remove_small_objects', '3d_connected_component_analysis', 'watershed'], 'type': '2D', 'threshold': 0.5}\n",
      "pipeline_2D_thr_0.5_norm_minmax_2_10 {'pipeline': ['isotropy', 'norm_minmax', 'bilateral', 'anisodiff', 'remove_small_objects', 'watershed', '3d_connected_component_analysis'], 'type': '2D', 'threshold': 0.5}\n",
      "pipeline_2D_thr_0.5_norm_minmax_2_11 {'pipeline': ['isotropy', 'norm_minmax', 'bilateral', 'anisodiff', '3d_connected_component_analysis', 'remove_small_objects', 'watershed'], 'type': '2D', 'threshold': 0.5}\n",
      "pipeline_2D_thr_0.5_norm_minmax_2_12 {'pipeline': ['isotropy', 'norm_minmax', 'bilateral', 'anisodiff', '3d_connected_component_analysis', 'watershed', 'remove_small_objects'], 'type': '2D', 'threshold': 0.5}\n",
      "pipeline_2D_thr_0.5_norm_minmax_2_13 {'pipeline': ['isotropy', 'norm_minmax', 'bilateral', 'anisodiff', 'watershed', 'remove_small_objects', '3d_connected_component_analysis'], 'type': '2D', 'threshold': 0.5}\n",
      "pipeline_2D_thr_0.5_norm_minmax_2_14 {'pipeline': ['isotropy', 'norm_minmax', 'bilateral', 'anisodiff', 'watershed', '3d_connected_component_analysis', 'remove_small_objects'], 'type': '2D', 'threshold': 0.5}\n",
      "pipeline_2D_thr_0.5_norm_minmax_2_15 {'pipeline': ['isotropy', 'norm_minmax', 'bilateral', 'anisodiff'], 'type': '2D', 'threshold': 0.5}\n",
      "pipeline_2D_thr_0.5_norm_minmax_3_0 {'pipeline': ['isotropy', 'norm_minmax', 'anisodiff', 'bilateral', 'remove_small_objects'], 'type': '2D', 'threshold': 0.5}\n",
      "pipeline_2D_thr_0.5_norm_minmax_3_1 {'pipeline': ['isotropy', 'norm_minmax', 'anisodiff', 'bilateral', '3d_connected_component_analysis'], 'type': '2D', 'threshold': 0.5}\n",
      "pipeline_2D_thr_0.5_norm_minmax_3_2 {'pipeline': ['isotropy', 'norm_minmax', 'anisodiff', 'bilateral', 'watershed'], 'type': '2D', 'threshold': 0.5}\n",
      "pipeline_2D_thr_0.5_norm_minmax_3_3 {'pipeline': ['isotropy', 'norm_minmax', 'anisodiff', 'bilateral', 'remove_small_objects', '3d_connected_component_analysis'], 'type': '2D', 'threshold': 0.5}\n",
      "pipeline_2D_thr_0.5_norm_minmax_3_4 {'pipeline': ['isotropy', 'norm_minmax', 'anisodiff', 'bilateral', 'remove_small_objects', 'watershed'], 'type': '2D', 'threshold': 0.5}\n",
      "pipeline_2D_thr_0.5_norm_minmax_3_5 {'pipeline': ['isotropy', 'norm_minmax', 'anisodiff', 'bilateral', '3d_connected_component_analysis', 'remove_small_objects'], 'type': '2D', 'threshold': 0.5}\n",
      "pipeline_2D_thr_0.5_norm_minmax_3_6 {'pipeline': ['isotropy', 'norm_minmax', 'anisodiff', 'bilateral', '3d_connected_component_analysis', 'watershed'], 'type': '2D', 'threshold': 0.5}\n",
      "pipeline_2D_thr_0.5_norm_minmax_3_7 {'pipeline': ['isotropy', 'norm_minmax', 'anisodiff', 'bilateral', 'watershed', 'remove_small_objects'], 'type': '2D', 'threshold': 0.5}\n",
      "pipeline_2D_thr_0.5_norm_minmax_3_8 {'pipeline': ['isotropy', 'norm_minmax', 'anisodiff', 'bilateral', 'watershed', '3d_connected_component_analysis'], 'type': '2D', 'threshold': 0.5}\n",
      "pipeline_2D_thr_0.5_norm_minmax_3_9 {'pipeline': ['isotropy', 'norm_minmax', 'anisodiff', 'bilateral', 'remove_small_objects', '3d_connected_component_analysis', 'watershed'], 'type': '2D', 'threshold': 0.5}\n",
      "pipeline_2D_thr_0.5_norm_minmax_3_10 {'pipeline': ['isotropy', 'norm_minmax', 'anisodiff', 'bilateral', 'remove_small_objects', 'watershed', '3d_connected_component_analysis'], 'type': '2D', 'threshold': 0.5}\n",
      "pipeline_2D_thr_0.5_norm_minmax_3_11 {'pipeline': ['isotropy', 'norm_minmax', 'anisodiff', 'bilateral', '3d_connected_component_analysis', 'remove_small_objects', 'watershed'], 'type': '2D', 'threshold': 0.5}\n",
      "pipeline_2D_thr_0.5_norm_minmax_3_12 {'pipeline': ['isotropy', 'norm_minmax', 'anisodiff', 'bilateral', '3d_connected_component_analysis', 'watershed', 'remove_small_objects'], 'type': '2D', 'threshold': 0.5}\n",
      "pipeline_2D_thr_0.5_norm_minmax_3_13 {'pipeline': ['isotropy', 'norm_minmax', 'anisodiff', 'bilateral', 'watershed', 'remove_small_objects', '3d_connected_component_analysis'], 'type': '2D', 'threshold': 0.5}\n",
      "pipeline_2D_thr_0.5_norm_minmax_3_14 {'pipeline': ['isotropy', 'norm_minmax', 'anisodiff', 'bilateral', 'watershed', '3d_connected_component_analysis', 'remove_small_objects'], 'type': '2D', 'threshold': 0.5}\n",
      "pipeline_2D_thr_0.5_norm_minmax_3_15 {'pipeline': ['isotropy', 'norm_minmax', 'anisodiff', 'bilateral'], 'type': '2D', 'threshold': 0.5}\n",
      "pipeline_2D_thr_0.5_norm_percentile_0_0 {'pipeline': ['isotropy', 'norm_percentile', 'bilateral', 'remove_small_objects'], 'type': '2D', 'threshold': 0.5}\n",
      "pipeline_2D_thr_0.5_norm_percentile_0_1 {'pipeline': ['isotropy', 'norm_percentile', 'bilateral', '3d_connected_component_analysis'], 'type': '2D', 'threshold': 0.5}\n",
      "pipeline_2D_thr_0.5_norm_percentile_0_2 {'pipeline': ['isotropy', 'norm_percentile', 'bilateral', 'watershed'], 'type': '2D', 'threshold': 0.5}\n",
      "pipeline_2D_thr_0.5_norm_percentile_0_3 {'pipeline': ['isotropy', 'norm_percentile', 'bilateral', 'remove_small_objects', '3d_connected_component_analysis'], 'type': '2D', 'threshold': 0.5}\n",
      "pipeline_2D_thr_0.5_norm_percentile_0_4 {'pipeline': ['isotropy', 'norm_percentile', 'bilateral', 'remove_small_objects', 'watershed'], 'type': '2D', 'threshold': 0.5}\n",
      "pipeline_2D_thr_0.5_norm_percentile_0_5 {'pipeline': ['isotropy', 'norm_percentile', 'bilateral', '3d_connected_component_analysis', 'remove_small_objects'], 'type': '2D', 'threshold': 0.5}\n",
      "pipeline_2D_thr_0.5_norm_percentile_0_6 {'pipeline': ['isotropy', 'norm_percentile', 'bilateral', '3d_connected_component_analysis', 'watershed'], 'type': '2D', 'threshold': 0.5}\n",
      "pipeline_2D_thr_0.5_norm_percentile_0_7 {'pipeline': ['isotropy', 'norm_percentile', 'bilateral', 'watershed', 'remove_small_objects'], 'type': '2D', 'threshold': 0.5}\n",
      "pipeline_2D_thr_0.5_norm_percentile_0_8 {'pipeline': ['isotropy', 'norm_percentile', 'bilateral', 'watershed', '3d_connected_component_analysis'], 'type': '2D', 'threshold': 0.5}\n",
      "pipeline_2D_thr_0.5_norm_percentile_0_9 {'pipeline': ['isotropy', 'norm_percentile', 'bilateral', 'remove_small_objects', '3d_connected_component_analysis', 'watershed'], 'type': '2D', 'threshold': 0.5}\n",
      "pipeline_2D_thr_0.5_norm_percentile_0_10 {'pipeline': ['isotropy', 'norm_percentile', 'bilateral', 'remove_small_objects', 'watershed', '3d_connected_component_analysis'], 'type': '2D', 'threshold': 0.5}\n",
      "pipeline_2D_thr_0.5_norm_percentile_0_11 {'pipeline': ['isotropy', 'norm_percentile', 'bilateral', '3d_connected_component_analysis', 'remove_small_objects', 'watershed'], 'type': '2D', 'threshold': 0.5}\n",
      "pipeline_2D_thr_0.5_norm_percentile_0_12 {'pipeline': ['isotropy', 'norm_percentile', 'bilateral', '3d_connected_component_analysis', 'watershed', 'remove_small_objects'], 'type': '2D', 'threshold': 0.5}\n",
      "pipeline_2D_thr_0.5_norm_percentile_0_13 {'pipeline': ['isotropy', 'norm_percentile', 'bilateral', 'watershed', 'remove_small_objects', '3d_connected_component_analysis'], 'type': '2D', 'threshold': 0.5}\n",
      "pipeline_2D_thr_0.5_norm_percentile_0_14 {'pipeline': ['isotropy', 'norm_percentile', 'bilateral', 'watershed', '3d_connected_component_analysis', 'remove_small_objects'], 'type': '2D', 'threshold': 0.5}\n",
      "pipeline_2D_thr_0.5_norm_percentile_0_15 {'pipeline': ['isotropy', 'norm_percentile', 'bilateral'], 'type': '2D', 'threshold': 0.5}\n",
      "pipeline_2D_thr_0.5_norm_percentile_1_0 {'pipeline': ['isotropy', 'norm_percentile', 'anisodiff', 'remove_small_objects'], 'type': '2D', 'threshold': 0.5}\n",
      "pipeline_2D_thr_0.5_norm_percentile_1_1 {'pipeline': ['isotropy', 'norm_percentile', 'anisodiff', '3d_connected_component_analysis'], 'type': '2D', 'threshold': 0.5}\n",
      "pipeline_2D_thr_0.5_norm_percentile_1_2 {'pipeline': ['isotropy', 'norm_percentile', 'anisodiff', 'watershed'], 'type': '2D', 'threshold': 0.5}\n",
      "pipeline_2D_thr_0.5_norm_percentile_1_3 {'pipeline': ['isotropy', 'norm_percentile', 'anisodiff', 'remove_small_objects', '3d_connected_component_analysis'], 'type': '2D', 'threshold': 0.5}\n",
      "pipeline_2D_thr_0.5_norm_percentile_1_4 {'pipeline': ['isotropy', 'norm_percentile', 'anisodiff', 'remove_small_objects', 'watershed'], 'type': '2D', 'threshold': 0.5}\n",
      "pipeline_2D_thr_0.5_norm_percentile_1_5 {'pipeline': ['isotropy', 'norm_percentile', 'anisodiff', '3d_connected_component_analysis', 'remove_small_objects'], 'type': '2D', 'threshold': 0.5}\n",
      "pipeline_2D_thr_0.5_norm_percentile_1_6 {'pipeline': ['isotropy', 'norm_percentile', 'anisodiff', '3d_connected_component_analysis', 'watershed'], 'type': '2D', 'threshold': 0.5}\n",
      "pipeline_2D_thr_0.5_norm_percentile_1_7 {'pipeline': ['isotropy', 'norm_percentile', 'anisodiff', 'watershed', 'remove_small_objects'], 'type': '2D', 'threshold': 0.5}\n",
      "pipeline_2D_thr_0.5_norm_percentile_1_8 {'pipeline': ['isotropy', 'norm_percentile', 'anisodiff', 'watershed', '3d_connected_component_analysis'], 'type': '2D', 'threshold': 0.5}\n",
      "pipeline_2D_thr_0.5_norm_percentile_1_9 {'pipeline': ['isotropy', 'norm_percentile', 'anisodiff', 'remove_small_objects', '3d_connected_component_analysis', 'watershed'], 'type': '2D', 'threshold': 0.5}\n",
      "pipeline_2D_thr_0.5_norm_percentile_1_10 {'pipeline': ['isotropy', 'norm_percentile', 'anisodiff', 'remove_small_objects', 'watershed', '3d_connected_component_analysis'], 'type': '2D', 'threshold': 0.5}\n",
      "pipeline_2D_thr_0.5_norm_percentile_1_11 {'pipeline': ['isotropy', 'norm_percentile', 'anisodiff', '3d_connected_component_analysis', 'remove_small_objects', 'watershed'], 'type': '2D', 'threshold': 0.5}\n",
      "pipeline_2D_thr_0.5_norm_percentile_1_12 {'pipeline': ['isotropy', 'norm_percentile', 'anisodiff', '3d_connected_component_analysis', 'watershed', 'remove_small_objects'], 'type': '2D', 'threshold': 0.5}\n",
      "pipeline_2D_thr_0.5_norm_percentile_1_13 {'pipeline': ['isotropy', 'norm_percentile', 'anisodiff', 'watershed', 'remove_small_objects', '3d_connected_component_analysis'], 'type': '2D', 'threshold': 0.5}\n",
      "pipeline_2D_thr_0.5_norm_percentile_1_14 {'pipeline': ['isotropy', 'norm_percentile', 'anisodiff', 'watershed', '3d_connected_component_analysis', 'remove_small_objects'], 'type': '2D', 'threshold': 0.5}\n",
      "pipeline_2D_thr_0.5_norm_percentile_1_15 {'pipeline': ['isotropy', 'norm_percentile', 'anisodiff'], 'type': '2D', 'threshold': 0.5}\n",
      "pipeline_2D_thr_0.5_norm_percentile_2_0 {'pipeline': ['isotropy', 'norm_percentile', 'bilateral', 'anisodiff', 'remove_small_objects'], 'type': '2D', 'threshold': 0.5}\n",
      "pipeline_2D_thr_0.5_norm_percentile_2_1 {'pipeline': ['isotropy', 'norm_percentile', 'bilateral', 'anisodiff', '3d_connected_component_analysis'], 'type': '2D', 'threshold': 0.5}\n",
      "pipeline_2D_thr_0.5_norm_percentile_2_2 {'pipeline': ['isotropy', 'norm_percentile', 'bilateral', 'anisodiff', 'watershed'], 'type': '2D', 'threshold': 0.5}\n",
      "pipeline_2D_thr_0.5_norm_percentile_2_3 {'pipeline': ['isotropy', 'norm_percentile', 'bilateral', 'anisodiff', 'remove_small_objects', '3d_connected_component_analysis'], 'type': '2D', 'threshold': 0.5}\n",
      "pipeline_2D_thr_0.5_norm_percentile_2_4 {'pipeline': ['isotropy', 'norm_percentile', 'bilateral', 'anisodiff', 'remove_small_objects', 'watershed'], 'type': '2D', 'threshold': 0.5}\n",
      "pipeline_2D_thr_0.5_norm_percentile_2_5 {'pipeline': ['isotropy', 'norm_percentile', 'bilateral', 'anisodiff', '3d_connected_component_analysis', 'remove_small_objects'], 'type': '2D', 'threshold': 0.5}\n",
      "pipeline_2D_thr_0.5_norm_percentile_2_6 {'pipeline': ['isotropy', 'norm_percentile', 'bilateral', 'anisodiff', '3d_connected_component_analysis', 'watershed'], 'type': '2D', 'threshold': 0.5}\n",
      "pipeline_2D_thr_0.5_norm_percentile_2_7 {'pipeline': ['isotropy', 'norm_percentile', 'bilateral', 'anisodiff', 'watershed', 'remove_small_objects'], 'type': '2D', 'threshold': 0.5}\n",
      "pipeline_2D_thr_0.5_norm_percentile_2_8 {'pipeline': ['isotropy', 'norm_percentile', 'bilateral', 'anisodiff', 'watershed', '3d_connected_component_analysis'], 'type': '2D', 'threshold': 0.5}\n",
      "pipeline_2D_thr_0.5_norm_percentile_2_9 {'pipeline': ['isotropy', 'norm_percentile', 'bilateral', 'anisodiff', 'remove_small_objects', '3d_connected_component_analysis', 'watershed'], 'type': '2D', 'threshold': 0.5}\n",
      "pipeline_2D_thr_0.5_norm_percentile_2_10 {'pipeline': ['isotropy', 'norm_percentile', 'bilateral', 'anisodiff', 'remove_small_objects', 'watershed', '3d_connected_component_analysis'], 'type': '2D', 'threshold': 0.5}\n",
      "pipeline_2D_thr_0.5_norm_percentile_2_11 {'pipeline': ['isotropy', 'norm_percentile', 'bilateral', 'anisodiff', '3d_connected_component_analysis', 'remove_small_objects', 'watershed'], 'type': '2D', 'threshold': 0.5}\n",
      "pipeline_2D_thr_0.5_norm_percentile_2_12 {'pipeline': ['isotropy', 'norm_percentile', 'bilateral', 'anisodiff', '3d_connected_component_analysis', 'watershed', 'remove_small_objects'], 'type': '2D', 'threshold': 0.5}\n",
      "pipeline_2D_thr_0.5_norm_percentile_2_13 {'pipeline': ['isotropy', 'norm_percentile', 'bilateral', 'anisodiff', 'watershed', 'remove_small_objects', '3d_connected_component_analysis'], 'type': '2D', 'threshold': 0.5}\n",
      "pipeline_2D_thr_0.5_norm_percentile_2_14 {'pipeline': ['isotropy', 'norm_percentile', 'bilateral', 'anisodiff', 'watershed', '3d_connected_component_analysis', 'remove_small_objects'], 'type': '2D', 'threshold': 0.5}\n",
      "pipeline_2D_thr_0.5_norm_percentile_2_15 {'pipeline': ['isotropy', 'norm_percentile', 'bilateral', 'anisodiff'], 'type': '2D', 'threshold': 0.5}\n",
      "pipeline_2D_thr_0.5_norm_percentile_3_0 {'pipeline': ['isotropy', 'norm_percentile', 'anisodiff', 'bilateral', 'remove_small_objects'], 'type': '2D', 'threshold': 0.5}\n",
      "pipeline_2D_thr_0.5_norm_percentile_3_1 {'pipeline': ['isotropy', 'norm_percentile', 'anisodiff', 'bilateral', '3d_connected_component_analysis'], 'type': '2D', 'threshold': 0.5}\n",
      "pipeline_2D_thr_0.5_norm_percentile_3_2 {'pipeline': ['isotropy', 'norm_percentile', 'anisodiff', 'bilateral', 'watershed'], 'type': '2D', 'threshold': 0.5}\n",
      "pipeline_2D_thr_0.5_norm_percentile_3_3 {'pipeline': ['isotropy', 'norm_percentile', 'anisodiff', 'bilateral', 'remove_small_objects', '3d_connected_component_analysis'], 'type': '2D', 'threshold': 0.5}\n",
      "pipeline_2D_thr_0.5_norm_percentile_3_4 {'pipeline': ['isotropy', 'norm_percentile', 'anisodiff', 'bilateral', 'remove_small_objects', 'watershed'], 'type': '2D', 'threshold': 0.5}\n",
      "pipeline_2D_thr_0.5_norm_percentile_3_5 {'pipeline': ['isotropy', 'norm_percentile', 'anisodiff', 'bilateral', '3d_connected_component_analysis', 'remove_small_objects'], 'type': '2D', 'threshold': 0.5}\n",
      "pipeline_2D_thr_0.5_norm_percentile_3_6 {'pipeline': ['isotropy', 'norm_percentile', 'anisodiff', 'bilateral', '3d_connected_component_analysis', 'watershed'], 'type': '2D', 'threshold': 0.5}\n",
      "pipeline_2D_thr_0.5_norm_percentile_3_7 {'pipeline': ['isotropy', 'norm_percentile', 'anisodiff', 'bilateral', 'watershed', 'remove_small_objects'], 'type': '2D', 'threshold': 0.5}\n",
      "pipeline_2D_thr_0.5_norm_percentile_3_8 {'pipeline': ['isotropy', 'norm_percentile', 'anisodiff', 'bilateral', 'watershed', '3d_connected_component_analysis'], 'type': '2D', 'threshold': 0.5}\n",
      "pipeline_2D_thr_0.5_norm_percentile_3_9 {'pipeline': ['isotropy', 'norm_percentile', 'anisodiff', 'bilateral', 'remove_small_objects', '3d_connected_component_analysis', 'watershed'], 'type': '2D', 'threshold': 0.5}\n",
      "pipeline_2D_thr_0.5_norm_percentile_3_10 {'pipeline': ['isotropy', 'norm_percentile', 'anisodiff', 'bilateral', 'remove_small_objects', 'watershed', '3d_connected_component_analysis'], 'type': '2D', 'threshold': 0.5}\n",
      "pipeline_2D_thr_0.5_norm_percentile_3_11 {'pipeline': ['isotropy', 'norm_percentile', 'anisodiff', 'bilateral', '3d_connected_component_analysis', 'remove_small_objects', 'watershed'], 'type': '2D', 'threshold': 0.5}\n",
      "pipeline_2D_thr_0.5_norm_percentile_3_12 {'pipeline': ['isotropy', 'norm_percentile', 'anisodiff', 'bilateral', '3d_connected_component_analysis', 'watershed', 'remove_small_objects'], 'type': '2D', 'threshold': 0.5}\n",
      "pipeline_2D_thr_0.5_norm_percentile_3_13 {'pipeline': ['isotropy', 'norm_percentile', 'anisodiff', 'bilateral', 'watershed', 'remove_small_objects', '3d_connected_component_analysis'], 'type': '2D', 'threshold': 0.5}\n",
      "pipeline_2D_thr_0.5_norm_percentile_3_14 {'pipeline': ['isotropy', 'norm_percentile', 'anisodiff', 'bilateral', 'watershed', '3d_connected_component_analysis', 'remove_small_objects'], 'type': '2D', 'threshold': 0.5}\n",
      "pipeline_2D_thr_0.5_norm_percentile_3_15 {'pipeline': ['isotropy', 'norm_percentile', 'anisodiff', 'bilateral'], 'type': '2D', 'threshold': 0.5}\n",
      "pipeline_2D_thr_0.6_norm_minmax_0_0 {'pipeline': ['isotropy', 'norm_minmax', 'bilateral', 'remove_small_objects'], 'type': '2D', 'threshold': 0.6}\n",
      "pipeline_2D_thr_0.6_norm_minmax_0_1 {'pipeline': ['isotropy', 'norm_minmax', 'bilateral', '3d_connected_component_analysis'], 'type': '2D', 'threshold': 0.6}\n",
      "pipeline_2D_thr_0.6_norm_minmax_0_2 {'pipeline': ['isotropy', 'norm_minmax', 'bilateral', 'watershed'], 'type': '2D', 'threshold': 0.6}\n",
      "pipeline_2D_thr_0.6_norm_minmax_0_3 {'pipeline': ['isotropy', 'norm_minmax', 'bilateral', 'remove_small_objects', '3d_connected_component_analysis'], 'type': '2D', 'threshold': 0.6}\n",
      "pipeline_2D_thr_0.6_norm_minmax_0_4 {'pipeline': ['isotropy', 'norm_minmax', 'bilateral', 'remove_small_objects', 'watershed'], 'type': '2D', 'threshold': 0.6}\n",
      "pipeline_2D_thr_0.6_norm_minmax_0_5 {'pipeline': ['isotropy', 'norm_minmax', 'bilateral', '3d_connected_component_analysis', 'remove_small_objects'], 'type': '2D', 'threshold': 0.6}\n",
      "pipeline_2D_thr_0.6_norm_minmax_0_6 {'pipeline': ['isotropy', 'norm_minmax', 'bilateral', '3d_connected_component_analysis', 'watershed'], 'type': '2D', 'threshold': 0.6}\n",
      "pipeline_2D_thr_0.6_norm_minmax_0_7 {'pipeline': ['isotropy', 'norm_minmax', 'bilateral', 'watershed', 'remove_small_objects'], 'type': '2D', 'threshold': 0.6}\n",
      "pipeline_2D_thr_0.6_norm_minmax_0_8 {'pipeline': ['isotropy', 'norm_minmax', 'bilateral', 'watershed', '3d_connected_component_analysis'], 'type': '2D', 'threshold': 0.6}\n",
      "pipeline_2D_thr_0.6_norm_minmax_0_9 {'pipeline': ['isotropy', 'norm_minmax', 'bilateral', 'remove_small_objects', '3d_connected_component_analysis', 'watershed'], 'type': '2D', 'threshold': 0.6}\n",
      "pipeline_2D_thr_0.6_norm_minmax_0_10 {'pipeline': ['isotropy', 'norm_minmax', 'bilateral', 'remove_small_objects', 'watershed', '3d_connected_component_analysis'], 'type': '2D', 'threshold': 0.6}\n",
      "pipeline_2D_thr_0.6_norm_minmax_0_11 {'pipeline': ['isotropy', 'norm_minmax', 'bilateral', '3d_connected_component_analysis', 'remove_small_objects', 'watershed'], 'type': '2D', 'threshold': 0.6}\n",
      "pipeline_2D_thr_0.6_norm_minmax_0_12 {'pipeline': ['isotropy', 'norm_minmax', 'bilateral', '3d_connected_component_analysis', 'watershed', 'remove_small_objects'], 'type': '2D', 'threshold': 0.6}\n",
      "pipeline_2D_thr_0.6_norm_minmax_0_13 {'pipeline': ['isotropy', 'norm_minmax', 'bilateral', 'watershed', 'remove_small_objects', '3d_connected_component_analysis'], 'type': '2D', 'threshold': 0.6}\n",
      "pipeline_2D_thr_0.6_norm_minmax_0_14 {'pipeline': ['isotropy', 'norm_minmax', 'bilateral', 'watershed', '3d_connected_component_analysis', 'remove_small_objects'], 'type': '2D', 'threshold': 0.6}\n",
      "pipeline_2D_thr_0.6_norm_minmax_0_15 {'pipeline': ['isotropy', 'norm_minmax', 'bilateral'], 'type': '2D', 'threshold': 0.6}\n",
      "pipeline_2D_thr_0.6_norm_minmax_1_0 {'pipeline': ['isotropy', 'norm_minmax', 'anisodiff', 'remove_small_objects'], 'type': '2D', 'threshold': 0.6}\n",
      "pipeline_2D_thr_0.6_norm_minmax_1_1 {'pipeline': ['isotropy', 'norm_minmax', 'anisodiff', '3d_connected_component_analysis'], 'type': '2D', 'threshold': 0.6}\n",
      "pipeline_2D_thr_0.6_norm_minmax_1_2 {'pipeline': ['isotropy', 'norm_minmax', 'anisodiff', 'watershed'], 'type': '2D', 'threshold': 0.6}\n",
      "pipeline_2D_thr_0.6_norm_minmax_1_3 {'pipeline': ['isotropy', 'norm_minmax', 'anisodiff', 'remove_small_objects', '3d_connected_component_analysis'], 'type': '2D', 'threshold': 0.6}\n",
      "pipeline_2D_thr_0.6_norm_minmax_1_4 {'pipeline': ['isotropy', 'norm_minmax', 'anisodiff', 'remove_small_objects', 'watershed'], 'type': '2D', 'threshold': 0.6}\n",
      "pipeline_2D_thr_0.6_norm_minmax_1_5 {'pipeline': ['isotropy', 'norm_minmax', 'anisodiff', '3d_connected_component_analysis', 'remove_small_objects'], 'type': '2D', 'threshold': 0.6}\n",
      "pipeline_2D_thr_0.6_norm_minmax_1_6 {'pipeline': ['isotropy', 'norm_minmax', 'anisodiff', '3d_connected_component_analysis', 'watershed'], 'type': '2D', 'threshold': 0.6}\n",
      "pipeline_2D_thr_0.6_norm_minmax_1_7 {'pipeline': ['isotropy', 'norm_minmax', 'anisodiff', 'watershed', 'remove_small_objects'], 'type': '2D', 'threshold': 0.6}\n",
      "pipeline_2D_thr_0.6_norm_minmax_1_8 {'pipeline': ['isotropy', 'norm_minmax', 'anisodiff', 'watershed', '3d_connected_component_analysis'], 'type': '2D', 'threshold': 0.6}\n",
      "pipeline_2D_thr_0.6_norm_minmax_1_9 {'pipeline': ['isotropy', 'norm_minmax', 'anisodiff', 'remove_small_objects', '3d_connected_component_analysis', 'watershed'], 'type': '2D', 'threshold': 0.6}\n",
      "pipeline_2D_thr_0.6_norm_minmax_1_10 {'pipeline': ['isotropy', 'norm_minmax', 'anisodiff', 'remove_small_objects', 'watershed', '3d_connected_component_analysis'], 'type': '2D', 'threshold': 0.6}\n",
      "pipeline_2D_thr_0.6_norm_minmax_1_11 {'pipeline': ['isotropy', 'norm_minmax', 'anisodiff', '3d_connected_component_analysis', 'remove_small_objects', 'watershed'], 'type': '2D', 'threshold': 0.6}\n",
      "pipeline_2D_thr_0.6_norm_minmax_1_12 {'pipeline': ['isotropy', 'norm_minmax', 'anisodiff', '3d_connected_component_analysis', 'watershed', 'remove_small_objects'], 'type': '2D', 'threshold': 0.6}\n",
      "pipeline_2D_thr_0.6_norm_minmax_1_13 {'pipeline': ['isotropy', 'norm_minmax', 'anisodiff', 'watershed', 'remove_small_objects', '3d_connected_component_analysis'], 'type': '2D', 'threshold': 0.6}\n",
      "pipeline_2D_thr_0.6_norm_minmax_1_14 {'pipeline': ['isotropy', 'norm_minmax', 'anisodiff', 'watershed', '3d_connected_component_analysis', 'remove_small_objects'], 'type': '2D', 'threshold': 0.6}\n",
      "pipeline_2D_thr_0.6_norm_minmax_1_15 {'pipeline': ['isotropy', 'norm_minmax', 'anisodiff'], 'type': '2D', 'threshold': 0.6}\n",
      "pipeline_2D_thr_0.6_norm_minmax_2_0 {'pipeline': ['isotropy', 'norm_minmax', 'bilateral', 'anisodiff', 'remove_small_objects'], 'type': '2D', 'threshold': 0.6}\n",
      "pipeline_2D_thr_0.6_norm_minmax_2_1 {'pipeline': ['isotropy', 'norm_minmax', 'bilateral', 'anisodiff', '3d_connected_component_analysis'], 'type': '2D', 'threshold': 0.6}\n",
      "pipeline_2D_thr_0.6_norm_minmax_2_2 {'pipeline': ['isotropy', 'norm_minmax', 'bilateral', 'anisodiff', 'watershed'], 'type': '2D', 'threshold': 0.6}\n",
      "pipeline_2D_thr_0.6_norm_minmax_2_3 {'pipeline': ['isotropy', 'norm_minmax', 'bilateral', 'anisodiff', 'remove_small_objects', '3d_connected_component_analysis'], 'type': '2D', 'threshold': 0.6}\n",
      "pipeline_2D_thr_0.6_norm_minmax_2_4 {'pipeline': ['isotropy', 'norm_minmax', 'bilateral', 'anisodiff', 'remove_small_objects', 'watershed'], 'type': '2D', 'threshold': 0.6}\n",
      "pipeline_2D_thr_0.6_norm_minmax_2_5 {'pipeline': ['isotropy', 'norm_minmax', 'bilateral', 'anisodiff', '3d_connected_component_analysis', 'remove_small_objects'], 'type': '2D', 'threshold': 0.6}\n",
      "pipeline_2D_thr_0.6_norm_minmax_2_6 {'pipeline': ['isotropy', 'norm_minmax', 'bilateral', 'anisodiff', '3d_connected_component_analysis', 'watershed'], 'type': '2D', 'threshold': 0.6}\n",
      "pipeline_2D_thr_0.6_norm_minmax_2_7 {'pipeline': ['isotropy', 'norm_minmax', 'bilateral', 'anisodiff', 'watershed', 'remove_small_objects'], 'type': '2D', 'threshold': 0.6}\n",
      "pipeline_2D_thr_0.6_norm_minmax_2_8 {'pipeline': ['isotropy', 'norm_minmax', 'bilateral', 'anisodiff', 'watershed', '3d_connected_component_analysis'], 'type': '2D', 'threshold': 0.6}\n",
      "pipeline_2D_thr_0.6_norm_minmax_2_9 {'pipeline': ['isotropy', 'norm_minmax', 'bilateral', 'anisodiff', 'remove_small_objects', '3d_connected_component_analysis', 'watershed'], 'type': '2D', 'threshold': 0.6}\n",
      "pipeline_2D_thr_0.6_norm_minmax_2_10 {'pipeline': ['isotropy', 'norm_minmax', 'bilateral', 'anisodiff', 'remove_small_objects', 'watershed', '3d_connected_component_analysis'], 'type': '2D', 'threshold': 0.6}\n",
      "pipeline_2D_thr_0.6_norm_minmax_2_11 {'pipeline': ['isotropy', 'norm_minmax', 'bilateral', 'anisodiff', '3d_connected_component_analysis', 'remove_small_objects', 'watershed'], 'type': '2D', 'threshold': 0.6}\n",
      "pipeline_2D_thr_0.6_norm_minmax_2_12 {'pipeline': ['isotropy', 'norm_minmax', 'bilateral', 'anisodiff', '3d_connected_component_analysis', 'watershed', 'remove_small_objects'], 'type': '2D', 'threshold': 0.6}\n",
      "pipeline_2D_thr_0.6_norm_minmax_2_13 {'pipeline': ['isotropy', 'norm_minmax', 'bilateral', 'anisodiff', 'watershed', 'remove_small_objects', '3d_connected_component_analysis'], 'type': '2D', 'threshold': 0.6}\n",
      "pipeline_2D_thr_0.6_norm_minmax_2_14 {'pipeline': ['isotropy', 'norm_minmax', 'bilateral', 'anisodiff', 'watershed', '3d_connected_component_analysis', 'remove_small_objects'], 'type': '2D', 'threshold': 0.6}\n",
      "pipeline_2D_thr_0.6_norm_minmax_2_15 {'pipeline': ['isotropy', 'norm_minmax', 'bilateral', 'anisodiff'], 'type': '2D', 'threshold': 0.6}\n",
      "pipeline_2D_thr_0.6_norm_minmax_3_0 {'pipeline': ['isotropy', 'norm_minmax', 'anisodiff', 'bilateral', 'remove_small_objects'], 'type': '2D', 'threshold': 0.6}\n",
      "pipeline_2D_thr_0.6_norm_minmax_3_1 {'pipeline': ['isotropy', 'norm_minmax', 'anisodiff', 'bilateral', '3d_connected_component_analysis'], 'type': '2D', 'threshold': 0.6}\n",
      "pipeline_2D_thr_0.6_norm_minmax_3_2 {'pipeline': ['isotropy', 'norm_minmax', 'anisodiff', 'bilateral', 'watershed'], 'type': '2D', 'threshold': 0.6}\n",
      "pipeline_2D_thr_0.6_norm_minmax_3_3 {'pipeline': ['isotropy', 'norm_minmax', 'anisodiff', 'bilateral', 'remove_small_objects', '3d_connected_component_analysis'], 'type': '2D', 'threshold': 0.6}\n",
      "pipeline_2D_thr_0.6_norm_minmax_3_4 {'pipeline': ['isotropy', 'norm_minmax', 'anisodiff', 'bilateral', 'remove_small_objects', 'watershed'], 'type': '2D', 'threshold': 0.6}\n",
      "pipeline_2D_thr_0.6_norm_minmax_3_5 {'pipeline': ['isotropy', 'norm_minmax', 'anisodiff', 'bilateral', '3d_connected_component_analysis', 'remove_small_objects'], 'type': '2D', 'threshold': 0.6}\n",
      "pipeline_2D_thr_0.6_norm_minmax_3_6 {'pipeline': ['isotropy', 'norm_minmax', 'anisodiff', 'bilateral', '3d_connected_component_analysis', 'watershed'], 'type': '2D', 'threshold': 0.6}\n",
      "pipeline_2D_thr_0.6_norm_minmax_3_7 {'pipeline': ['isotropy', 'norm_minmax', 'anisodiff', 'bilateral', 'watershed', 'remove_small_objects'], 'type': '2D', 'threshold': 0.6}\n",
      "pipeline_2D_thr_0.6_norm_minmax_3_8 {'pipeline': ['isotropy', 'norm_minmax', 'anisodiff', 'bilateral', 'watershed', '3d_connected_component_analysis'], 'type': '2D', 'threshold': 0.6}\n",
      "pipeline_2D_thr_0.6_norm_minmax_3_9 {'pipeline': ['isotropy', 'norm_minmax', 'anisodiff', 'bilateral', 'remove_small_objects', '3d_connected_component_analysis', 'watershed'], 'type': '2D', 'threshold': 0.6}\n",
      "pipeline_2D_thr_0.6_norm_minmax_3_10 {'pipeline': ['isotropy', 'norm_minmax', 'anisodiff', 'bilateral', 'remove_small_objects', 'watershed', '3d_connected_component_analysis'], 'type': '2D', 'threshold': 0.6}\n",
      "pipeline_2D_thr_0.6_norm_minmax_3_11 {'pipeline': ['isotropy', 'norm_minmax', 'anisodiff', 'bilateral', '3d_connected_component_analysis', 'remove_small_objects', 'watershed'], 'type': '2D', 'threshold': 0.6}\n",
      "pipeline_2D_thr_0.6_norm_minmax_3_12 {'pipeline': ['isotropy', 'norm_minmax', 'anisodiff', 'bilateral', '3d_connected_component_analysis', 'watershed', 'remove_small_objects'], 'type': '2D', 'threshold': 0.6}\n",
      "pipeline_2D_thr_0.6_norm_minmax_3_13 {'pipeline': ['isotropy', 'norm_minmax', 'anisodiff', 'bilateral', 'watershed', 'remove_small_objects', '3d_connected_component_analysis'], 'type': '2D', 'threshold': 0.6}\n",
      "pipeline_2D_thr_0.6_norm_minmax_3_14 {'pipeline': ['isotropy', 'norm_minmax', 'anisodiff', 'bilateral', 'watershed', '3d_connected_component_analysis', 'remove_small_objects'], 'type': '2D', 'threshold': 0.6}\n",
      "pipeline_2D_thr_0.6_norm_minmax_3_15 {'pipeline': ['isotropy', 'norm_minmax', 'anisodiff', 'bilateral'], 'type': '2D', 'threshold': 0.6}\n",
      "pipeline_2D_thr_0.6_norm_percentile_0_0 {'pipeline': ['isotropy', 'norm_percentile', 'bilateral', 'remove_small_objects'], 'type': '2D', 'threshold': 0.6}\n",
      "pipeline_2D_thr_0.6_norm_percentile_0_1 {'pipeline': ['isotropy', 'norm_percentile', 'bilateral', '3d_connected_component_analysis'], 'type': '2D', 'threshold': 0.6}\n",
      "pipeline_2D_thr_0.6_norm_percentile_0_2 {'pipeline': ['isotropy', 'norm_percentile', 'bilateral', 'watershed'], 'type': '2D', 'threshold': 0.6}\n",
      "pipeline_2D_thr_0.6_norm_percentile_0_3 {'pipeline': ['isotropy', 'norm_percentile', 'bilateral', 'remove_small_objects', '3d_connected_component_analysis'], 'type': '2D', 'threshold': 0.6}\n",
      "pipeline_2D_thr_0.6_norm_percentile_0_4 {'pipeline': ['isotropy', 'norm_percentile', 'bilateral', 'remove_small_objects', 'watershed'], 'type': '2D', 'threshold': 0.6}\n",
      "pipeline_2D_thr_0.6_norm_percentile_0_5 {'pipeline': ['isotropy', 'norm_percentile', 'bilateral', '3d_connected_component_analysis', 'remove_small_objects'], 'type': '2D', 'threshold': 0.6}\n",
      "pipeline_2D_thr_0.6_norm_percentile_0_6 {'pipeline': ['isotropy', 'norm_percentile', 'bilateral', '3d_connected_component_analysis', 'watershed'], 'type': '2D', 'threshold': 0.6}\n",
      "pipeline_2D_thr_0.6_norm_percentile_0_7 {'pipeline': ['isotropy', 'norm_percentile', 'bilateral', 'watershed', 'remove_small_objects'], 'type': '2D', 'threshold': 0.6}\n",
      "pipeline_2D_thr_0.6_norm_percentile_0_8 {'pipeline': ['isotropy', 'norm_percentile', 'bilateral', 'watershed', '3d_connected_component_analysis'], 'type': '2D', 'threshold': 0.6}\n",
      "pipeline_2D_thr_0.6_norm_percentile_0_9 {'pipeline': ['isotropy', 'norm_percentile', 'bilateral', 'remove_small_objects', '3d_connected_component_analysis', 'watershed'], 'type': '2D', 'threshold': 0.6}\n",
      "pipeline_2D_thr_0.6_norm_percentile_0_10 {'pipeline': ['isotropy', 'norm_percentile', 'bilateral', 'remove_small_objects', 'watershed', '3d_connected_component_analysis'], 'type': '2D', 'threshold': 0.6}\n",
      "pipeline_2D_thr_0.6_norm_percentile_0_11 {'pipeline': ['isotropy', 'norm_percentile', 'bilateral', '3d_connected_component_analysis', 'remove_small_objects', 'watershed'], 'type': '2D', 'threshold': 0.6}\n",
      "pipeline_2D_thr_0.6_norm_percentile_0_12 {'pipeline': ['isotropy', 'norm_percentile', 'bilateral', '3d_connected_component_analysis', 'watershed', 'remove_small_objects'], 'type': '2D', 'threshold': 0.6}\n",
      "pipeline_2D_thr_0.6_norm_percentile_0_13 {'pipeline': ['isotropy', 'norm_percentile', 'bilateral', 'watershed', 'remove_small_objects', '3d_connected_component_analysis'], 'type': '2D', 'threshold': 0.6}\n",
      "pipeline_2D_thr_0.6_norm_percentile_0_14 {'pipeline': ['isotropy', 'norm_percentile', 'bilateral', 'watershed', '3d_connected_component_analysis', 'remove_small_objects'], 'type': '2D', 'threshold': 0.6}\n",
      "pipeline_2D_thr_0.6_norm_percentile_0_15 {'pipeline': ['isotropy', 'norm_percentile', 'bilateral'], 'type': '2D', 'threshold': 0.6}\n",
      "pipeline_2D_thr_0.6_norm_percentile_1_0 {'pipeline': ['isotropy', 'norm_percentile', 'anisodiff', 'remove_small_objects'], 'type': '2D', 'threshold': 0.6}\n",
      "pipeline_2D_thr_0.6_norm_percentile_1_1 {'pipeline': ['isotropy', 'norm_percentile', 'anisodiff', '3d_connected_component_analysis'], 'type': '2D', 'threshold': 0.6}\n",
      "pipeline_2D_thr_0.6_norm_percentile_1_2 {'pipeline': ['isotropy', 'norm_percentile', 'anisodiff', 'watershed'], 'type': '2D', 'threshold': 0.6}\n",
      "pipeline_2D_thr_0.6_norm_percentile_1_3 {'pipeline': ['isotropy', 'norm_percentile', 'anisodiff', 'remove_small_objects', '3d_connected_component_analysis'], 'type': '2D', 'threshold': 0.6}\n",
      "pipeline_2D_thr_0.6_norm_percentile_1_4 {'pipeline': ['isotropy', 'norm_percentile', 'anisodiff', 'remove_small_objects', 'watershed'], 'type': '2D', 'threshold': 0.6}\n",
      "pipeline_2D_thr_0.6_norm_percentile_1_5 {'pipeline': ['isotropy', 'norm_percentile', 'anisodiff', '3d_connected_component_analysis', 'remove_small_objects'], 'type': '2D', 'threshold': 0.6}\n",
      "pipeline_2D_thr_0.6_norm_percentile_1_6 {'pipeline': ['isotropy', 'norm_percentile', 'anisodiff', '3d_connected_component_analysis', 'watershed'], 'type': '2D', 'threshold': 0.6}\n",
      "pipeline_2D_thr_0.6_norm_percentile_1_7 {'pipeline': ['isotropy', 'norm_percentile', 'anisodiff', 'watershed', 'remove_small_objects'], 'type': '2D', 'threshold': 0.6}\n",
      "pipeline_2D_thr_0.6_norm_percentile_1_8 {'pipeline': ['isotropy', 'norm_percentile', 'anisodiff', 'watershed', '3d_connected_component_analysis'], 'type': '2D', 'threshold': 0.6}\n",
      "pipeline_2D_thr_0.6_norm_percentile_1_9 {'pipeline': ['isotropy', 'norm_percentile', 'anisodiff', 'remove_small_objects', '3d_connected_component_analysis', 'watershed'], 'type': '2D', 'threshold': 0.6}\n",
      "pipeline_2D_thr_0.6_norm_percentile_1_10 {'pipeline': ['isotropy', 'norm_percentile', 'anisodiff', 'remove_small_objects', 'watershed', '3d_connected_component_analysis'], 'type': '2D', 'threshold': 0.6}\n",
      "pipeline_2D_thr_0.6_norm_percentile_1_11 {'pipeline': ['isotropy', 'norm_percentile', 'anisodiff', '3d_connected_component_analysis', 'remove_small_objects', 'watershed'], 'type': '2D', 'threshold': 0.6}\n",
      "pipeline_2D_thr_0.6_norm_percentile_1_12 {'pipeline': ['isotropy', 'norm_percentile', 'anisodiff', '3d_connected_component_analysis', 'watershed', 'remove_small_objects'], 'type': '2D', 'threshold': 0.6}\n",
      "pipeline_2D_thr_0.6_norm_percentile_1_13 {'pipeline': ['isotropy', 'norm_percentile', 'anisodiff', 'watershed', 'remove_small_objects', '3d_connected_component_analysis'], 'type': '2D', 'threshold': 0.6}\n",
      "pipeline_2D_thr_0.6_norm_percentile_1_14 {'pipeline': ['isotropy', 'norm_percentile', 'anisodiff', 'watershed', '3d_connected_component_analysis', 'remove_small_objects'], 'type': '2D', 'threshold': 0.6}\n",
      "pipeline_2D_thr_0.6_norm_percentile_1_15 {'pipeline': ['isotropy', 'norm_percentile', 'anisodiff'], 'type': '2D', 'threshold': 0.6}\n",
      "pipeline_2D_thr_0.6_norm_percentile_2_0 {'pipeline': ['isotropy', 'norm_percentile', 'bilateral', 'anisodiff', 'remove_small_objects'], 'type': '2D', 'threshold': 0.6}\n",
      "pipeline_2D_thr_0.6_norm_percentile_2_1 {'pipeline': ['isotropy', 'norm_percentile', 'bilateral', 'anisodiff', '3d_connected_component_analysis'], 'type': '2D', 'threshold': 0.6}\n",
      "pipeline_2D_thr_0.6_norm_percentile_2_2 {'pipeline': ['isotropy', 'norm_percentile', 'bilateral', 'anisodiff', 'watershed'], 'type': '2D', 'threshold': 0.6}\n",
      "pipeline_2D_thr_0.6_norm_percentile_2_3 {'pipeline': ['isotropy', 'norm_percentile', 'bilateral', 'anisodiff', 'remove_small_objects', '3d_connected_component_analysis'], 'type': '2D', 'threshold': 0.6}\n",
      "pipeline_2D_thr_0.6_norm_percentile_2_4 {'pipeline': ['isotropy', 'norm_percentile', 'bilateral', 'anisodiff', 'remove_small_objects', 'watershed'], 'type': '2D', 'threshold': 0.6}\n",
      "pipeline_2D_thr_0.6_norm_percentile_2_5 {'pipeline': ['isotropy', 'norm_percentile', 'bilateral', 'anisodiff', '3d_connected_component_analysis', 'remove_small_objects'], 'type': '2D', 'threshold': 0.6}\n",
      "pipeline_2D_thr_0.6_norm_percentile_2_6 {'pipeline': ['isotropy', 'norm_percentile', 'bilateral', 'anisodiff', '3d_connected_component_analysis', 'watershed'], 'type': '2D', 'threshold': 0.6}\n",
      "pipeline_2D_thr_0.6_norm_percentile_2_7 {'pipeline': ['isotropy', 'norm_percentile', 'bilateral', 'anisodiff', 'watershed', 'remove_small_objects'], 'type': '2D', 'threshold': 0.6}\n",
      "pipeline_2D_thr_0.6_norm_percentile_2_8 {'pipeline': ['isotropy', 'norm_percentile', 'bilateral', 'anisodiff', 'watershed', '3d_connected_component_analysis'], 'type': '2D', 'threshold': 0.6}\n",
      "pipeline_2D_thr_0.6_norm_percentile_2_9 {'pipeline': ['isotropy', 'norm_percentile', 'bilateral', 'anisodiff', 'remove_small_objects', '3d_connected_component_analysis', 'watershed'], 'type': '2D', 'threshold': 0.6}\n",
      "pipeline_2D_thr_0.6_norm_percentile_2_10 {'pipeline': ['isotropy', 'norm_percentile', 'bilateral', 'anisodiff', 'remove_small_objects', 'watershed', '3d_connected_component_analysis'], 'type': '2D', 'threshold': 0.6}\n",
      "pipeline_2D_thr_0.6_norm_percentile_2_11 {'pipeline': ['isotropy', 'norm_percentile', 'bilateral', 'anisodiff', '3d_connected_component_analysis', 'remove_small_objects', 'watershed'], 'type': '2D', 'threshold': 0.6}\n",
      "pipeline_2D_thr_0.6_norm_percentile_2_12 {'pipeline': ['isotropy', 'norm_percentile', 'bilateral', 'anisodiff', '3d_connected_component_analysis', 'watershed', 'remove_small_objects'], 'type': '2D', 'threshold': 0.6}\n",
      "pipeline_2D_thr_0.6_norm_percentile_2_13 {'pipeline': ['isotropy', 'norm_percentile', 'bilateral', 'anisodiff', 'watershed', 'remove_small_objects', '3d_connected_component_analysis'], 'type': '2D', 'threshold': 0.6}\n",
      "pipeline_2D_thr_0.6_norm_percentile_2_14 {'pipeline': ['isotropy', 'norm_percentile', 'bilateral', 'anisodiff', 'watershed', '3d_connected_component_analysis', 'remove_small_objects'], 'type': '2D', 'threshold': 0.6}\n",
      "pipeline_2D_thr_0.6_norm_percentile_2_15 {'pipeline': ['isotropy', 'norm_percentile', 'bilateral', 'anisodiff'], 'type': '2D', 'threshold': 0.6}\n",
      "pipeline_2D_thr_0.6_norm_percentile_3_0 {'pipeline': ['isotropy', 'norm_percentile', 'anisodiff', 'bilateral', 'remove_small_objects'], 'type': '2D', 'threshold': 0.6}\n",
      "pipeline_2D_thr_0.6_norm_percentile_3_1 {'pipeline': ['isotropy', 'norm_percentile', 'anisodiff', 'bilateral', '3d_connected_component_analysis'], 'type': '2D', 'threshold': 0.6}\n",
      "pipeline_2D_thr_0.6_norm_percentile_3_2 {'pipeline': ['isotropy', 'norm_percentile', 'anisodiff', 'bilateral', 'watershed'], 'type': '2D', 'threshold': 0.6}\n",
      "pipeline_2D_thr_0.6_norm_percentile_3_3 {'pipeline': ['isotropy', 'norm_percentile', 'anisodiff', 'bilateral', 'remove_small_objects', '3d_connected_component_analysis'], 'type': '2D', 'threshold': 0.6}\n",
      "pipeline_2D_thr_0.6_norm_percentile_3_4 {'pipeline': ['isotropy', 'norm_percentile', 'anisodiff', 'bilateral', 'remove_small_objects', 'watershed'], 'type': '2D', 'threshold': 0.6}\n",
      "pipeline_2D_thr_0.6_norm_percentile_3_5 {'pipeline': ['isotropy', 'norm_percentile', 'anisodiff', 'bilateral', '3d_connected_component_analysis', 'remove_small_objects'], 'type': '2D', 'threshold': 0.6}\n",
      "pipeline_2D_thr_0.6_norm_percentile_3_6 {'pipeline': ['isotropy', 'norm_percentile', 'anisodiff', 'bilateral', '3d_connected_component_analysis', 'watershed'], 'type': '2D', 'threshold': 0.6}\n",
      "pipeline_2D_thr_0.6_norm_percentile_3_7 {'pipeline': ['isotropy', 'norm_percentile', 'anisodiff', 'bilateral', 'watershed', 'remove_small_objects'], 'type': '2D', 'threshold': 0.6}\n",
      "pipeline_2D_thr_0.6_norm_percentile_3_8 {'pipeline': ['isotropy', 'norm_percentile', 'anisodiff', 'bilateral', 'watershed', '3d_connected_component_analysis'], 'type': '2D', 'threshold': 0.6}\n",
      "pipeline_2D_thr_0.6_norm_percentile_3_9 {'pipeline': ['isotropy', 'norm_percentile', 'anisodiff', 'bilateral', 'remove_small_objects', '3d_connected_component_analysis', 'watershed'], 'type': '2D', 'threshold': 0.6}\n",
      "pipeline_2D_thr_0.6_norm_percentile_3_10 {'pipeline': ['isotropy', 'norm_percentile', 'anisodiff', 'bilateral', 'remove_small_objects', 'watershed', '3d_connected_component_analysis'], 'type': '2D', 'threshold': 0.6}\n",
      "pipeline_2D_thr_0.6_norm_percentile_3_11 {'pipeline': ['isotropy', 'norm_percentile', 'anisodiff', 'bilateral', '3d_connected_component_analysis', 'remove_small_objects', 'watershed'], 'type': '2D', 'threshold': 0.6}\n",
      "pipeline_2D_thr_0.6_norm_percentile_3_12 {'pipeline': ['isotropy', 'norm_percentile', 'anisodiff', 'bilateral', '3d_connected_component_analysis', 'watershed', 'remove_small_objects'], 'type': '2D', 'threshold': 0.6}\n",
      "pipeline_2D_thr_0.6_norm_percentile_3_13 {'pipeline': ['isotropy', 'norm_percentile', 'anisodiff', 'bilateral', 'watershed', 'remove_small_objects', '3d_connected_component_analysis'], 'type': '2D', 'threshold': 0.6}\n",
      "pipeline_2D_thr_0.6_norm_percentile_3_14 {'pipeline': ['isotropy', 'norm_percentile', 'anisodiff', 'bilateral', 'watershed', '3d_connected_component_analysis', 'remove_small_objects'], 'type': '2D', 'threshold': 0.6}\n",
      "pipeline_2D_thr_0.6_norm_percentile_3_15 {'pipeline': ['isotropy', 'norm_percentile', 'anisodiff', 'bilateral'], 'type': '2D', 'threshold': 0.6}\n",
      "pipeline_2D_thr_0.7_norm_minmax_0_0 {'pipeline': ['isotropy', 'norm_minmax', 'bilateral', 'remove_small_objects'], 'type': '2D', 'threshold': 0.7}\n",
      "pipeline_2D_thr_0.7_norm_minmax_0_1 {'pipeline': ['isotropy', 'norm_minmax', 'bilateral', '3d_connected_component_analysis'], 'type': '2D', 'threshold': 0.7}\n",
      "pipeline_2D_thr_0.7_norm_minmax_0_2 {'pipeline': ['isotropy', 'norm_minmax', 'bilateral', 'watershed'], 'type': '2D', 'threshold': 0.7}\n",
      "pipeline_2D_thr_0.7_norm_minmax_0_3 {'pipeline': ['isotropy', 'norm_minmax', 'bilateral', 'remove_small_objects', '3d_connected_component_analysis'], 'type': '2D', 'threshold': 0.7}\n",
      "pipeline_2D_thr_0.7_norm_minmax_0_4 {'pipeline': ['isotropy', 'norm_minmax', 'bilateral', 'remove_small_objects', 'watershed'], 'type': '2D', 'threshold': 0.7}\n",
      "pipeline_2D_thr_0.7_norm_minmax_0_5 {'pipeline': ['isotropy', 'norm_minmax', 'bilateral', '3d_connected_component_analysis', 'remove_small_objects'], 'type': '2D', 'threshold': 0.7}\n",
      "pipeline_2D_thr_0.7_norm_minmax_0_6 {'pipeline': ['isotropy', 'norm_minmax', 'bilateral', '3d_connected_component_analysis', 'watershed'], 'type': '2D', 'threshold': 0.7}\n",
      "pipeline_2D_thr_0.7_norm_minmax_0_7 {'pipeline': ['isotropy', 'norm_minmax', 'bilateral', 'watershed', 'remove_small_objects'], 'type': '2D', 'threshold': 0.7}\n",
      "pipeline_2D_thr_0.7_norm_minmax_0_8 {'pipeline': ['isotropy', 'norm_minmax', 'bilateral', 'watershed', '3d_connected_component_analysis'], 'type': '2D', 'threshold': 0.7}\n",
      "pipeline_2D_thr_0.7_norm_minmax_0_9 {'pipeline': ['isotropy', 'norm_minmax', 'bilateral', 'remove_small_objects', '3d_connected_component_analysis', 'watershed'], 'type': '2D', 'threshold': 0.7}\n",
      "pipeline_2D_thr_0.7_norm_minmax_0_10 {'pipeline': ['isotropy', 'norm_minmax', 'bilateral', 'remove_small_objects', 'watershed', '3d_connected_component_analysis'], 'type': '2D', 'threshold': 0.7}\n",
      "pipeline_2D_thr_0.7_norm_minmax_0_11 {'pipeline': ['isotropy', 'norm_minmax', 'bilateral', '3d_connected_component_analysis', 'remove_small_objects', 'watershed'], 'type': '2D', 'threshold': 0.7}\n",
      "pipeline_2D_thr_0.7_norm_minmax_0_12 {'pipeline': ['isotropy', 'norm_minmax', 'bilateral', '3d_connected_component_analysis', 'watershed', 'remove_small_objects'], 'type': '2D', 'threshold': 0.7}\n",
      "pipeline_2D_thr_0.7_norm_minmax_0_13 {'pipeline': ['isotropy', 'norm_minmax', 'bilateral', 'watershed', 'remove_small_objects', '3d_connected_component_analysis'], 'type': '2D', 'threshold': 0.7}\n",
      "pipeline_2D_thr_0.7_norm_minmax_0_14 {'pipeline': ['isotropy', 'norm_minmax', 'bilateral', 'watershed', '3d_connected_component_analysis', 'remove_small_objects'], 'type': '2D', 'threshold': 0.7}\n",
      "pipeline_2D_thr_0.7_norm_minmax_0_15 {'pipeline': ['isotropy', 'norm_minmax', 'bilateral'], 'type': '2D', 'threshold': 0.7}\n",
      "pipeline_2D_thr_0.7_norm_minmax_1_0 {'pipeline': ['isotropy', 'norm_minmax', 'anisodiff', 'remove_small_objects'], 'type': '2D', 'threshold': 0.7}\n",
      "pipeline_2D_thr_0.7_norm_minmax_1_1 {'pipeline': ['isotropy', 'norm_minmax', 'anisodiff', '3d_connected_component_analysis'], 'type': '2D', 'threshold': 0.7}\n",
      "pipeline_2D_thr_0.7_norm_minmax_1_2 {'pipeline': ['isotropy', 'norm_minmax', 'anisodiff', 'watershed'], 'type': '2D', 'threshold': 0.7}\n",
      "pipeline_2D_thr_0.7_norm_minmax_1_3 {'pipeline': ['isotropy', 'norm_minmax', 'anisodiff', 'remove_small_objects', '3d_connected_component_analysis'], 'type': '2D', 'threshold': 0.7}\n",
      "pipeline_2D_thr_0.7_norm_minmax_1_4 {'pipeline': ['isotropy', 'norm_minmax', 'anisodiff', 'remove_small_objects', 'watershed'], 'type': '2D', 'threshold': 0.7}\n",
      "pipeline_2D_thr_0.7_norm_minmax_1_5 {'pipeline': ['isotropy', 'norm_minmax', 'anisodiff', '3d_connected_component_analysis', 'remove_small_objects'], 'type': '2D', 'threshold': 0.7}\n",
      "pipeline_2D_thr_0.7_norm_minmax_1_6 {'pipeline': ['isotropy', 'norm_minmax', 'anisodiff', '3d_connected_component_analysis', 'watershed'], 'type': '2D', 'threshold': 0.7}\n",
      "pipeline_2D_thr_0.7_norm_minmax_1_7 {'pipeline': ['isotropy', 'norm_minmax', 'anisodiff', 'watershed', 'remove_small_objects'], 'type': '2D', 'threshold': 0.7}\n",
      "pipeline_2D_thr_0.7_norm_minmax_1_8 {'pipeline': ['isotropy', 'norm_minmax', 'anisodiff', 'watershed', '3d_connected_component_analysis'], 'type': '2D', 'threshold': 0.7}\n",
      "pipeline_2D_thr_0.7_norm_minmax_1_9 {'pipeline': ['isotropy', 'norm_minmax', 'anisodiff', 'remove_small_objects', '3d_connected_component_analysis', 'watershed'], 'type': '2D', 'threshold': 0.7}\n",
      "pipeline_2D_thr_0.7_norm_minmax_1_10 {'pipeline': ['isotropy', 'norm_minmax', 'anisodiff', 'remove_small_objects', 'watershed', '3d_connected_component_analysis'], 'type': '2D', 'threshold': 0.7}\n",
      "pipeline_2D_thr_0.7_norm_minmax_1_11 {'pipeline': ['isotropy', 'norm_minmax', 'anisodiff', '3d_connected_component_analysis', 'remove_small_objects', 'watershed'], 'type': '2D', 'threshold': 0.7}\n",
      "pipeline_2D_thr_0.7_norm_minmax_1_12 {'pipeline': ['isotropy', 'norm_minmax', 'anisodiff', '3d_connected_component_analysis', 'watershed', 'remove_small_objects'], 'type': '2D', 'threshold': 0.7}\n",
      "pipeline_2D_thr_0.7_norm_minmax_1_13 {'pipeline': ['isotropy', 'norm_minmax', 'anisodiff', 'watershed', 'remove_small_objects', '3d_connected_component_analysis'], 'type': '2D', 'threshold': 0.7}\n",
      "pipeline_2D_thr_0.7_norm_minmax_1_14 {'pipeline': ['isotropy', 'norm_minmax', 'anisodiff', 'watershed', '3d_connected_component_analysis', 'remove_small_objects'], 'type': '2D', 'threshold': 0.7}\n",
      "pipeline_2D_thr_0.7_norm_minmax_1_15 {'pipeline': ['isotropy', 'norm_minmax', 'anisodiff'], 'type': '2D', 'threshold': 0.7}\n",
      "pipeline_2D_thr_0.7_norm_minmax_2_0 {'pipeline': ['isotropy', 'norm_minmax', 'bilateral', 'anisodiff', 'remove_small_objects'], 'type': '2D', 'threshold': 0.7}\n",
      "pipeline_2D_thr_0.7_norm_minmax_2_1 {'pipeline': ['isotropy', 'norm_minmax', 'bilateral', 'anisodiff', '3d_connected_component_analysis'], 'type': '2D', 'threshold': 0.7}\n",
      "pipeline_2D_thr_0.7_norm_minmax_2_2 {'pipeline': ['isotropy', 'norm_minmax', 'bilateral', 'anisodiff', 'watershed'], 'type': '2D', 'threshold': 0.7}\n",
      "pipeline_2D_thr_0.7_norm_minmax_2_3 {'pipeline': ['isotropy', 'norm_minmax', 'bilateral', 'anisodiff', 'remove_small_objects', '3d_connected_component_analysis'], 'type': '2D', 'threshold': 0.7}\n",
      "pipeline_2D_thr_0.7_norm_minmax_2_4 {'pipeline': ['isotropy', 'norm_minmax', 'bilateral', 'anisodiff', 'remove_small_objects', 'watershed'], 'type': '2D', 'threshold': 0.7}\n",
      "pipeline_2D_thr_0.7_norm_minmax_2_5 {'pipeline': ['isotropy', 'norm_minmax', 'bilateral', 'anisodiff', '3d_connected_component_analysis', 'remove_small_objects'], 'type': '2D', 'threshold': 0.7}\n",
      "pipeline_2D_thr_0.7_norm_minmax_2_6 {'pipeline': ['isotropy', 'norm_minmax', 'bilateral', 'anisodiff', '3d_connected_component_analysis', 'watershed'], 'type': '2D', 'threshold': 0.7}\n",
      "pipeline_2D_thr_0.7_norm_minmax_2_7 {'pipeline': ['isotropy', 'norm_minmax', 'bilateral', 'anisodiff', 'watershed', 'remove_small_objects'], 'type': '2D', 'threshold': 0.7}\n",
      "pipeline_2D_thr_0.7_norm_minmax_2_8 {'pipeline': ['isotropy', 'norm_minmax', 'bilateral', 'anisodiff', 'watershed', '3d_connected_component_analysis'], 'type': '2D', 'threshold': 0.7}\n",
      "pipeline_2D_thr_0.7_norm_minmax_2_9 {'pipeline': ['isotropy', 'norm_minmax', 'bilateral', 'anisodiff', 'remove_small_objects', '3d_connected_component_analysis', 'watershed'], 'type': '2D', 'threshold': 0.7}\n",
      "pipeline_2D_thr_0.7_norm_minmax_2_10 {'pipeline': ['isotropy', 'norm_minmax', 'bilateral', 'anisodiff', 'remove_small_objects', 'watershed', '3d_connected_component_analysis'], 'type': '2D', 'threshold': 0.7}\n",
      "pipeline_2D_thr_0.7_norm_minmax_2_11 {'pipeline': ['isotropy', 'norm_minmax', 'bilateral', 'anisodiff', '3d_connected_component_analysis', 'remove_small_objects', 'watershed'], 'type': '2D', 'threshold': 0.7}\n",
      "pipeline_2D_thr_0.7_norm_minmax_2_12 {'pipeline': ['isotropy', 'norm_minmax', 'bilateral', 'anisodiff', '3d_connected_component_analysis', 'watershed', 'remove_small_objects'], 'type': '2D', 'threshold': 0.7}\n",
      "pipeline_2D_thr_0.7_norm_minmax_2_13 {'pipeline': ['isotropy', 'norm_minmax', 'bilateral', 'anisodiff', 'watershed', 'remove_small_objects', '3d_connected_component_analysis'], 'type': '2D', 'threshold': 0.7}\n",
      "pipeline_2D_thr_0.7_norm_minmax_2_14 {'pipeline': ['isotropy', 'norm_minmax', 'bilateral', 'anisodiff', 'watershed', '3d_connected_component_analysis', 'remove_small_objects'], 'type': '2D', 'threshold': 0.7}\n",
      "pipeline_2D_thr_0.7_norm_minmax_2_15 {'pipeline': ['isotropy', 'norm_minmax', 'bilateral', 'anisodiff'], 'type': '2D', 'threshold': 0.7}\n",
      "pipeline_2D_thr_0.7_norm_minmax_3_0 {'pipeline': ['isotropy', 'norm_minmax', 'anisodiff', 'bilateral', 'remove_small_objects'], 'type': '2D', 'threshold': 0.7}\n",
      "pipeline_2D_thr_0.7_norm_minmax_3_1 {'pipeline': ['isotropy', 'norm_minmax', 'anisodiff', 'bilateral', '3d_connected_component_analysis'], 'type': '2D', 'threshold': 0.7}\n",
      "pipeline_2D_thr_0.7_norm_minmax_3_2 {'pipeline': ['isotropy', 'norm_minmax', 'anisodiff', 'bilateral', 'watershed'], 'type': '2D', 'threshold': 0.7}\n",
      "pipeline_2D_thr_0.7_norm_minmax_3_3 {'pipeline': ['isotropy', 'norm_minmax', 'anisodiff', 'bilateral', 'remove_small_objects', '3d_connected_component_analysis'], 'type': '2D', 'threshold': 0.7}\n",
      "pipeline_2D_thr_0.7_norm_minmax_3_4 {'pipeline': ['isotropy', 'norm_minmax', 'anisodiff', 'bilateral', 'remove_small_objects', 'watershed'], 'type': '2D', 'threshold': 0.7}\n",
      "pipeline_2D_thr_0.7_norm_minmax_3_5 {'pipeline': ['isotropy', 'norm_minmax', 'anisodiff', 'bilateral', '3d_connected_component_analysis', 'remove_small_objects'], 'type': '2D', 'threshold': 0.7}\n",
      "pipeline_2D_thr_0.7_norm_minmax_3_6 {'pipeline': ['isotropy', 'norm_minmax', 'anisodiff', 'bilateral', '3d_connected_component_analysis', 'watershed'], 'type': '2D', 'threshold': 0.7}\n",
      "pipeline_2D_thr_0.7_norm_minmax_3_7 {'pipeline': ['isotropy', 'norm_minmax', 'anisodiff', 'bilateral', 'watershed', 'remove_small_objects'], 'type': '2D', 'threshold': 0.7}\n",
      "pipeline_2D_thr_0.7_norm_minmax_3_8 {'pipeline': ['isotropy', 'norm_minmax', 'anisodiff', 'bilateral', 'watershed', '3d_connected_component_analysis'], 'type': '2D', 'threshold': 0.7}\n",
      "pipeline_2D_thr_0.7_norm_minmax_3_9 {'pipeline': ['isotropy', 'norm_minmax', 'anisodiff', 'bilateral', 'remove_small_objects', '3d_connected_component_analysis', 'watershed'], 'type': '2D', 'threshold': 0.7}\n",
      "pipeline_2D_thr_0.7_norm_minmax_3_10 {'pipeline': ['isotropy', 'norm_minmax', 'anisodiff', 'bilateral', 'remove_small_objects', 'watershed', '3d_connected_component_analysis'], 'type': '2D', 'threshold': 0.7}\n",
      "pipeline_2D_thr_0.7_norm_minmax_3_11 {'pipeline': ['isotropy', 'norm_minmax', 'anisodiff', 'bilateral', '3d_connected_component_analysis', 'remove_small_objects', 'watershed'], 'type': '2D', 'threshold': 0.7}\n",
      "pipeline_2D_thr_0.7_norm_minmax_3_12 {'pipeline': ['isotropy', 'norm_minmax', 'anisodiff', 'bilateral', '3d_connected_component_analysis', 'watershed', 'remove_small_objects'], 'type': '2D', 'threshold': 0.7}\n",
      "pipeline_2D_thr_0.7_norm_minmax_3_13 {'pipeline': ['isotropy', 'norm_minmax', 'anisodiff', 'bilateral', 'watershed', 'remove_small_objects', '3d_connected_component_analysis'], 'type': '2D', 'threshold': 0.7}\n",
      "pipeline_2D_thr_0.7_norm_minmax_3_14 {'pipeline': ['isotropy', 'norm_minmax', 'anisodiff', 'bilateral', 'watershed', '3d_connected_component_analysis', 'remove_small_objects'], 'type': '2D', 'threshold': 0.7}\n",
      "pipeline_2D_thr_0.7_norm_minmax_3_15 {'pipeline': ['isotropy', 'norm_minmax', 'anisodiff', 'bilateral'], 'type': '2D', 'threshold': 0.7}\n",
      "pipeline_2D_thr_0.7_norm_percentile_0_0 {'pipeline': ['isotropy', 'norm_percentile', 'bilateral', 'remove_small_objects'], 'type': '2D', 'threshold': 0.7}\n",
      "pipeline_2D_thr_0.7_norm_percentile_0_1 {'pipeline': ['isotropy', 'norm_percentile', 'bilateral', '3d_connected_component_analysis'], 'type': '2D', 'threshold': 0.7}\n",
      "pipeline_2D_thr_0.7_norm_percentile_0_2 {'pipeline': ['isotropy', 'norm_percentile', 'bilateral', 'watershed'], 'type': '2D', 'threshold': 0.7}\n",
      "pipeline_2D_thr_0.7_norm_percentile_0_3 {'pipeline': ['isotropy', 'norm_percentile', 'bilateral', 'remove_small_objects', '3d_connected_component_analysis'], 'type': '2D', 'threshold': 0.7}\n",
      "pipeline_2D_thr_0.7_norm_percentile_0_4 {'pipeline': ['isotropy', 'norm_percentile', 'bilateral', 'remove_small_objects', 'watershed'], 'type': '2D', 'threshold': 0.7}\n",
      "pipeline_2D_thr_0.7_norm_percentile_0_5 {'pipeline': ['isotropy', 'norm_percentile', 'bilateral', '3d_connected_component_analysis', 'remove_small_objects'], 'type': '2D', 'threshold': 0.7}\n",
      "pipeline_2D_thr_0.7_norm_percentile_0_6 {'pipeline': ['isotropy', 'norm_percentile', 'bilateral', '3d_connected_component_analysis', 'watershed'], 'type': '2D', 'threshold': 0.7}\n",
      "pipeline_2D_thr_0.7_norm_percentile_0_7 {'pipeline': ['isotropy', 'norm_percentile', 'bilateral', 'watershed', 'remove_small_objects'], 'type': '2D', 'threshold': 0.7}\n",
      "pipeline_2D_thr_0.7_norm_percentile_0_8 {'pipeline': ['isotropy', 'norm_percentile', 'bilateral', 'watershed', '3d_connected_component_analysis'], 'type': '2D', 'threshold': 0.7}\n",
      "pipeline_2D_thr_0.7_norm_percentile_0_9 {'pipeline': ['isotropy', 'norm_percentile', 'bilateral', 'remove_small_objects', '3d_connected_component_analysis', 'watershed'], 'type': '2D', 'threshold': 0.7}\n",
      "pipeline_2D_thr_0.7_norm_percentile_0_10 {'pipeline': ['isotropy', 'norm_percentile', 'bilateral', 'remove_small_objects', 'watershed', '3d_connected_component_analysis'], 'type': '2D', 'threshold': 0.7}\n",
      "pipeline_2D_thr_0.7_norm_percentile_0_11 {'pipeline': ['isotropy', 'norm_percentile', 'bilateral', '3d_connected_component_analysis', 'remove_small_objects', 'watershed'], 'type': '2D', 'threshold': 0.7}\n",
      "pipeline_2D_thr_0.7_norm_percentile_0_12 {'pipeline': ['isotropy', 'norm_percentile', 'bilateral', '3d_connected_component_analysis', 'watershed', 'remove_small_objects'], 'type': '2D', 'threshold': 0.7}\n",
      "pipeline_2D_thr_0.7_norm_percentile_0_13 {'pipeline': ['isotropy', 'norm_percentile', 'bilateral', 'watershed', 'remove_small_objects', '3d_connected_component_analysis'], 'type': '2D', 'threshold': 0.7}\n",
      "pipeline_2D_thr_0.7_norm_percentile_0_14 {'pipeline': ['isotropy', 'norm_percentile', 'bilateral', 'watershed', '3d_connected_component_analysis', 'remove_small_objects'], 'type': '2D', 'threshold': 0.7}\n",
      "pipeline_2D_thr_0.7_norm_percentile_0_15 {'pipeline': ['isotropy', 'norm_percentile', 'bilateral'], 'type': '2D', 'threshold': 0.7}\n",
      "pipeline_2D_thr_0.7_norm_percentile_1_0 {'pipeline': ['isotropy', 'norm_percentile', 'anisodiff', 'remove_small_objects'], 'type': '2D', 'threshold': 0.7}\n",
      "pipeline_2D_thr_0.7_norm_percentile_1_1 {'pipeline': ['isotropy', 'norm_percentile', 'anisodiff', '3d_connected_component_analysis'], 'type': '2D', 'threshold': 0.7}\n",
      "pipeline_2D_thr_0.7_norm_percentile_1_2 {'pipeline': ['isotropy', 'norm_percentile', 'anisodiff', 'watershed'], 'type': '2D', 'threshold': 0.7}\n",
      "pipeline_2D_thr_0.7_norm_percentile_1_3 {'pipeline': ['isotropy', 'norm_percentile', 'anisodiff', 'remove_small_objects', '3d_connected_component_analysis'], 'type': '2D', 'threshold': 0.7}\n",
      "pipeline_2D_thr_0.7_norm_percentile_1_4 {'pipeline': ['isotropy', 'norm_percentile', 'anisodiff', 'remove_small_objects', 'watershed'], 'type': '2D', 'threshold': 0.7}\n",
      "pipeline_2D_thr_0.7_norm_percentile_1_5 {'pipeline': ['isotropy', 'norm_percentile', 'anisodiff', '3d_connected_component_analysis', 'remove_small_objects'], 'type': '2D', 'threshold': 0.7}\n",
      "pipeline_2D_thr_0.7_norm_percentile_1_6 {'pipeline': ['isotropy', 'norm_percentile', 'anisodiff', '3d_connected_component_analysis', 'watershed'], 'type': '2D', 'threshold': 0.7}\n",
      "pipeline_2D_thr_0.7_norm_percentile_1_7 {'pipeline': ['isotropy', 'norm_percentile', 'anisodiff', 'watershed', 'remove_small_objects'], 'type': '2D', 'threshold': 0.7}\n",
      "pipeline_2D_thr_0.7_norm_percentile_1_8 {'pipeline': ['isotropy', 'norm_percentile', 'anisodiff', 'watershed', '3d_connected_component_analysis'], 'type': '2D', 'threshold': 0.7}\n",
      "pipeline_2D_thr_0.7_norm_percentile_1_9 {'pipeline': ['isotropy', 'norm_percentile', 'anisodiff', 'remove_small_objects', '3d_connected_component_analysis', 'watershed'], 'type': '2D', 'threshold': 0.7}\n",
      "pipeline_2D_thr_0.7_norm_percentile_1_10 {'pipeline': ['isotropy', 'norm_percentile', 'anisodiff', 'remove_small_objects', 'watershed', '3d_connected_component_analysis'], 'type': '2D', 'threshold': 0.7}\n",
      "pipeline_2D_thr_0.7_norm_percentile_1_11 {'pipeline': ['isotropy', 'norm_percentile', 'anisodiff', '3d_connected_component_analysis', 'remove_small_objects', 'watershed'], 'type': '2D', 'threshold': 0.7}\n",
      "pipeline_2D_thr_0.7_norm_percentile_1_12 {'pipeline': ['isotropy', 'norm_percentile', 'anisodiff', '3d_connected_component_analysis', 'watershed', 'remove_small_objects'], 'type': '2D', 'threshold': 0.7}\n",
      "pipeline_2D_thr_0.7_norm_percentile_1_13 {'pipeline': ['isotropy', 'norm_percentile', 'anisodiff', 'watershed', 'remove_small_objects', '3d_connected_component_analysis'], 'type': '2D', 'threshold': 0.7}\n",
      "pipeline_2D_thr_0.7_norm_percentile_1_14 {'pipeline': ['isotropy', 'norm_percentile', 'anisodiff', 'watershed', '3d_connected_component_analysis', 'remove_small_objects'], 'type': '2D', 'threshold': 0.7}\n",
      "pipeline_2D_thr_0.7_norm_percentile_1_15 {'pipeline': ['isotropy', 'norm_percentile', 'anisodiff'], 'type': '2D', 'threshold': 0.7}\n",
      "pipeline_2D_thr_0.7_norm_percentile_2_0 {'pipeline': ['isotropy', 'norm_percentile', 'bilateral', 'anisodiff', 'remove_small_objects'], 'type': '2D', 'threshold': 0.7}\n",
      "pipeline_2D_thr_0.7_norm_percentile_2_1 {'pipeline': ['isotropy', 'norm_percentile', 'bilateral', 'anisodiff', '3d_connected_component_analysis'], 'type': '2D', 'threshold': 0.7}\n",
      "pipeline_2D_thr_0.7_norm_percentile_2_2 {'pipeline': ['isotropy', 'norm_percentile', 'bilateral', 'anisodiff', 'watershed'], 'type': '2D', 'threshold': 0.7}\n",
      "pipeline_2D_thr_0.7_norm_percentile_2_3 {'pipeline': ['isotropy', 'norm_percentile', 'bilateral', 'anisodiff', 'remove_small_objects', '3d_connected_component_analysis'], 'type': '2D', 'threshold': 0.7}\n",
      "pipeline_2D_thr_0.7_norm_percentile_2_4 {'pipeline': ['isotropy', 'norm_percentile', 'bilateral', 'anisodiff', 'remove_small_objects', 'watershed'], 'type': '2D', 'threshold': 0.7}\n",
      "pipeline_2D_thr_0.7_norm_percentile_2_5 {'pipeline': ['isotropy', 'norm_percentile', 'bilateral', 'anisodiff', '3d_connected_component_analysis', 'remove_small_objects'], 'type': '2D', 'threshold': 0.7}\n",
      "pipeline_2D_thr_0.7_norm_percentile_2_6 {'pipeline': ['isotropy', 'norm_percentile', 'bilateral', 'anisodiff', '3d_connected_component_analysis', 'watershed'], 'type': '2D', 'threshold': 0.7}\n",
      "pipeline_2D_thr_0.7_norm_percentile_2_7 {'pipeline': ['isotropy', 'norm_percentile', 'bilateral', 'anisodiff', 'watershed', 'remove_small_objects'], 'type': '2D', 'threshold': 0.7}\n",
      "pipeline_2D_thr_0.7_norm_percentile_2_8 {'pipeline': ['isotropy', 'norm_percentile', 'bilateral', 'anisodiff', 'watershed', '3d_connected_component_analysis'], 'type': '2D', 'threshold': 0.7}\n",
      "pipeline_2D_thr_0.7_norm_percentile_2_9 {'pipeline': ['isotropy', 'norm_percentile', 'bilateral', 'anisodiff', 'remove_small_objects', '3d_connected_component_analysis', 'watershed'], 'type': '2D', 'threshold': 0.7}\n",
      "pipeline_2D_thr_0.7_norm_percentile_2_10 {'pipeline': ['isotropy', 'norm_percentile', 'bilateral', 'anisodiff', 'remove_small_objects', 'watershed', '3d_connected_component_analysis'], 'type': '2D', 'threshold': 0.7}\n",
      "pipeline_2D_thr_0.7_norm_percentile_2_11 {'pipeline': ['isotropy', 'norm_percentile', 'bilateral', 'anisodiff', '3d_connected_component_analysis', 'remove_small_objects', 'watershed'], 'type': '2D', 'threshold': 0.7}\n",
      "pipeline_2D_thr_0.7_norm_percentile_2_12 {'pipeline': ['isotropy', 'norm_percentile', 'bilateral', 'anisodiff', '3d_connected_component_analysis', 'watershed', 'remove_small_objects'], 'type': '2D', 'threshold': 0.7}\n",
      "pipeline_2D_thr_0.7_norm_percentile_2_13 {'pipeline': ['isotropy', 'norm_percentile', 'bilateral', 'anisodiff', 'watershed', 'remove_small_objects', '3d_connected_component_analysis'], 'type': '2D', 'threshold': 0.7}\n",
      "pipeline_2D_thr_0.7_norm_percentile_2_14 {'pipeline': ['isotropy', 'norm_percentile', 'bilateral', 'anisodiff', 'watershed', '3d_connected_component_analysis', 'remove_small_objects'], 'type': '2D', 'threshold': 0.7}\n",
      "pipeline_2D_thr_0.7_norm_percentile_2_15 {'pipeline': ['isotropy', 'norm_percentile', 'bilateral', 'anisodiff'], 'type': '2D', 'threshold': 0.7}\n",
      "pipeline_2D_thr_0.7_norm_percentile_3_0 {'pipeline': ['isotropy', 'norm_percentile', 'anisodiff', 'bilateral', 'remove_small_objects'], 'type': '2D', 'threshold': 0.7}\n",
      "pipeline_2D_thr_0.7_norm_percentile_3_1 {'pipeline': ['isotropy', 'norm_percentile', 'anisodiff', 'bilateral', '3d_connected_component_analysis'], 'type': '2D', 'threshold': 0.7}\n",
      "pipeline_2D_thr_0.7_norm_percentile_3_2 {'pipeline': ['isotropy', 'norm_percentile', 'anisodiff', 'bilateral', 'watershed'], 'type': '2D', 'threshold': 0.7}\n",
      "pipeline_2D_thr_0.7_norm_percentile_3_3 {'pipeline': ['isotropy', 'norm_percentile', 'anisodiff', 'bilateral', 'remove_small_objects', '3d_connected_component_analysis'], 'type': '2D', 'threshold': 0.7}\n",
      "pipeline_2D_thr_0.7_norm_percentile_3_4 {'pipeline': ['isotropy', 'norm_percentile', 'anisodiff', 'bilateral', 'remove_small_objects', 'watershed'], 'type': '2D', 'threshold': 0.7}\n",
      "pipeline_2D_thr_0.7_norm_percentile_3_5 {'pipeline': ['isotropy', 'norm_percentile', 'anisodiff', 'bilateral', '3d_connected_component_analysis', 'remove_small_objects'], 'type': '2D', 'threshold': 0.7}\n",
      "pipeline_2D_thr_0.7_norm_percentile_3_6 {'pipeline': ['isotropy', 'norm_percentile', 'anisodiff', 'bilateral', '3d_connected_component_analysis', 'watershed'], 'type': '2D', 'threshold': 0.7}\n",
      "pipeline_2D_thr_0.7_norm_percentile_3_7 {'pipeline': ['isotropy', 'norm_percentile', 'anisodiff', 'bilateral', 'watershed', 'remove_small_objects'], 'type': '2D', 'threshold': 0.7}\n",
      "pipeline_2D_thr_0.7_norm_percentile_3_8 {'pipeline': ['isotropy', 'norm_percentile', 'anisodiff', 'bilateral', 'watershed', '3d_connected_component_analysis'], 'type': '2D', 'threshold': 0.7}\n",
      "pipeline_2D_thr_0.7_norm_percentile_3_9 {'pipeline': ['isotropy', 'norm_percentile', 'anisodiff', 'bilateral', 'remove_small_objects', '3d_connected_component_analysis', 'watershed'], 'type': '2D', 'threshold': 0.7}\n",
      "pipeline_2D_thr_0.7_norm_percentile_3_10 {'pipeline': ['isotropy', 'norm_percentile', 'anisodiff', 'bilateral', 'remove_small_objects', 'watershed', '3d_connected_component_analysis'], 'type': '2D', 'threshold': 0.7}\n",
      "pipeline_2D_thr_0.7_norm_percentile_3_11 {'pipeline': ['isotropy', 'norm_percentile', 'anisodiff', 'bilateral', '3d_connected_component_analysis', 'remove_small_objects', 'watershed'], 'type': '2D', 'threshold': 0.7}\n",
      "pipeline_2D_thr_0.7_norm_percentile_3_12 {'pipeline': ['isotropy', 'norm_percentile', 'anisodiff', 'bilateral', '3d_connected_component_analysis', 'watershed', 'remove_small_objects'], 'type': '2D', 'threshold': 0.7}\n",
      "pipeline_2D_thr_0.7_norm_percentile_3_13 {'pipeline': ['isotropy', 'norm_percentile', 'anisodiff', 'bilateral', 'watershed', 'remove_small_objects', '3d_connected_component_analysis'], 'type': '2D', 'threshold': 0.7}\n",
      "pipeline_2D_thr_0.7_norm_percentile_3_14 {'pipeline': ['isotropy', 'norm_percentile', 'anisodiff', 'bilateral', 'watershed', '3d_connected_component_analysis', 'remove_small_objects'], 'type': '2D', 'threshold': 0.7}\n",
      "pipeline_2D_thr_0.7_norm_percentile_3_15 {'pipeline': ['isotropy', 'norm_percentile', 'anisodiff', 'bilateral'], 'type': '2D', 'threshold': 0.7}\n",
      "pipeline_3D_norm_minmax_0_0 {'pipeline': ['isotropy', 'norm_minmax', 'bilateral', 'remove_small_objects'], 'type': '3D'}\n",
      "pipeline_3D_norm_minmax_0_1 {'pipeline': ['isotropy', 'norm_minmax', 'bilateral', '3d_connected_component_analysis'], 'type': '3D'}\n",
      "pipeline_3D_norm_minmax_0_2 {'pipeline': ['isotropy', 'norm_minmax', 'bilateral', 'watershed'], 'type': '3D'}\n",
      "pipeline_3D_norm_minmax_0_3 {'pipeline': ['isotropy', 'norm_minmax', 'bilateral', 'remove_small_objects', '3d_connected_component_analysis'], 'type': '3D'}\n",
      "pipeline_3D_norm_minmax_0_4 {'pipeline': ['isotropy', 'norm_minmax', 'bilateral', 'remove_small_objects', 'watershed'], 'type': '3D'}\n",
      "pipeline_3D_norm_minmax_0_5 {'pipeline': ['isotropy', 'norm_minmax', 'bilateral', '3d_connected_component_analysis', 'remove_small_objects'], 'type': '3D'}\n",
      "pipeline_3D_norm_minmax_0_6 {'pipeline': ['isotropy', 'norm_minmax', 'bilateral', '3d_connected_component_analysis', 'watershed'], 'type': '3D'}\n",
      "pipeline_3D_norm_minmax_0_7 {'pipeline': ['isotropy', 'norm_minmax', 'bilateral', 'watershed', 'remove_small_objects'], 'type': '3D'}\n",
      "pipeline_3D_norm_minmax_0_8 {'pipeline': ['isotropy', 'norm_minmax', 'bilateral', 'watershed', '3d_connected_component_analysis'], 'type': '3D'}\n",
      "pipeline_3D_norm_minmax_0_9 {'pipeline': ['isotropy', 'norm_minmax', 'bilateral', 'remove_small_objects', '3d_connected_component_analysis', 'watershed'], 'type': '3D'}\n",
      "pipeline_3D_norm_minmax_0_10 {'pipeline': ['isotropy', 'norm_minmax', 'bilateral', 'remove_small_objects', 'watershed', '3d_connected_component_analysis'], 'type': '3D'}\n",
      "pipeline_3D_norm_minmax_0_11 {'pipeline': ['isotropy', 'norm_minmax', 'bilateral', '3d_connected_component_analysis', 'remove_small_objects', 'watershed'], 'type': '3D'}\n",
      "pipeline_3D_norm_minmax_0_12 {'pipeline': ['isotropy', 'norm_minmax', 'bilateral', '3d_connected_component_analysis', 'watershed', 'remove_small_objects'], 'type': '3D'}\n",
      "pipeline_3D_norm_minmax_0_13 {'pipeline': ['isotropy', 'norm_minmax', 'bilateral', 'watershed', 'remove_small_objects', '3d_connected_component_analysis'], 'type': '3D'}\n",
      "pipeline_3D_norm_minmax_0_14 {'pipeline': ['isotropy', 'norm_minmax', 'bilateral', 'watershed', '3d_connected_component_analysis', 'remove_small_objects'], 'type': '3D'}\n",
      "pipeline_3D_norm_minmax_0_15 {'pipeline': ['isotropy', 'norm_minmax', 'bilateral'], 'type': '3D'}\n",
      "pipeline_3D_norm_minmax_1_0 {'pipeline': ['isotropy', 'norm_minmax', 'anisodiff', 'remove_small_objects'], 'type': '3D'}\n",
      "pipeline_3D_norm_minmax_1_1 {'pipeline': ['isotropy', 'norm_minmax', 'anisodiff', '3d_connected_component_analysis'], 'type': '3D'}\n",
      "pipeline_3D_norm_minmax_1_2 {'pipeline': ['isotropy', 'norm_minmax', 'anisodiff', 'watershed'], 'type': '3D'}\n",
      "pipeline_3D_norm_minmax_1_3 {'pipeline': ['isotropy', 'norm_minmax', 'anisodiff', 'remove_small_objects', '3d_connected_component_analysis'], 'type': '3D'}\n",
      "pipeline_3D_norm_minmax_1_4 {'pipeline': ['isotropy', 'norm_minmax', 'anisodiff', 'remove_small_objects', 'watershed'], 'type': '3D'}\n",
      "pipeline_3D_norm_minmax_1_5 {'pipeline': ['isotropy', 'norm_minmax', 'anisodiff', '3d_connected_component_analysis', 'remove_small_objects'], 'type': '3D'}\n",
      "pipeline_3D_norm_minmax_1_6 {'pipeline': ['isotropy', 'norm_minmax', 'anisodiff', '3d_connected_component_analysis', 'watershed'], 'type': '3D'}\n",
      "pipeline_3D_norm_minmax_1_7 {'pipeline': ['isotropy', 'norm_minmax', 'anisodiff', 'watershed', 'remove_small_objects'], 'type': '3D'}\n",
      "pipeline_3D_norm_minmax_1_8 {'pipeline': ['isotropy', 'norm_minmax', 'anisodiff', 'watershed', '3d_connected_component_analysis'], 'type': '3D'}\n",
      "pipeline_3D_norm_minmax_1_9 {'pipeline': ['isotropy', 'norm_minmax', 'anisodiff', 'remove_small_objects', '3d_connected_component_analysis', 'watershed'], 'type': '3D'}\n",
      "pipeline_3D_norm_minmax_1_10 {'pipeline': ['isotropy', 'norm_minmax', 'anisodiff', 'remove_small_objects', 'watershed', '3d_connected_component_analysis'], 'type': '3D'}\n",
      "pipeline_3D_norm_minmax_1_11 {'pipeline': ['isotropy', 'norm_minmax', 'anisodiff', '3d_connected_component_analysis', 'remove_small_objects', 'watershed'], 'type': '3D'}\n",
      "pipeline_3D_norm_minmax_1_12 {'pipeline': ['isotropy', 'norm_minmax', 'anisodiff', '3d_connected_component_analysis', 'watershed', 'remove_small_objects'], 'type': '3D'}\n",
      "pipeline_3D_norm_minmax_1_13 {'pipeline': ['isotropy', 'norm_minmax', 'anisodiff', 'watershed', 'remove_small_objects', '3d_connected_component_analysis'], 'type': '3D'}\n",
      "pipeline_3D_norm_minmax_1_14 {'pipeline': ['isotropy', 'norm_minmax', 'anisodiff', 'watershed', '3d_connected_component_analysis', 'remove_small_objects'], 'type': '3D'}\n",
      "pipeline_3D_norm_minmax_1_15 {'pipeline': ['isotropy', 'norm_minmax', 'anisodiff'], 'type': '3D'}\n",
      "pipeline_3D_norm_minmax_2_0 {'pipeline': ['isotropy', 'norm_minmax', 'bilateral', 'anisodiff', 'remove_small_objects'], 'type': '3D'}\n",
      "pipeline_3D_norm_minmax_2_1 {'pipeline': ['isotropy', 'norm_minmax', 'bilateral', 'anisodiff', '3d_connected_component_analysis'], 'type': '3D'}\n",
      "pipeline_3D_norm_minmax_2_2 {'pipeline': ['isotropy', 'norm_minmax', 'bilateral', 'anisodiff', 'watershed'], 'type': '3D'}\n",
      "pipeline_3D_norm_minmax_2_3 {'pipeline': ['isotropy', 'norm_minmax', 'bilateral', 'anisodiff', 'remove_small_objects', '3d_connected_component_analysis'], 'type': '3D'}\n",
      "pipeline_3D_norm_minmax_2_4 {'pipeline': ['isotropy', 'norm_minmax', 'bilateral', 'anisodiff', 'remove_small_objects', 'watershed'], 'type': '3D'}\n",
      "pipeline_3D_norm_minmax_2_5 {'pipeline': ['isotropy', 'norm_minmax', 'bilateral', 'anisodiff', '3d_connected_component_analysis', 'remove_small_objects'], 'type': '3D'}\n",
      "pipeline_3D_norm_minmax_2_6 {'pipeline': ['isotropy', 'norm_minmax', 'bilateral', 'anisodiff', '3d_connected_component_analysis', 'watershed'], 'type': '3D'}\n",
      "pipeline_3D_norm_minmax_2_7 {'pipeline': ['isotropy', 'norm_minmax', 'bilateral', 'anisodiff', 'watershed', 'remove_small_objects'], 'type': '3D'}\n",
      "pipeline_3D_norm_minmax_2_8 {'pipeline': ['isotropy', 'norm_minmax', 'bilateral', 'anisodiff', 'watershed', '3d_connected_component_analysis'], 'type': '3D'}\n",
      "pipeline_3D_norm_minmax_2_9 {'pipeline': ['isotropy', 'norm_minmax', 'bilateral', 'anisodiff', 'remove_small_objects', '3d_connected_component_analysis', 'watershed'], 'type': '3D'}\n",
      "pipeline_3D_norm_minmax_2_10 {'pipeline': ['isotropy', 'norm_minmax', 'bilateral', 'anisodiff', 'remove_small_objects', 'watershed', '3d_connected_component_analysis'], 'type': '3D'}\n",
      "pipeline_3D_norm_minmax_2_11 {'pipeline': ['isotropy', 'norm_minmax', 'bilateral', 'anisodiff', '3d_connected_component_analysis', 'remove_small_objects', 'watershed'], 'type': '3D'}\n",
      "pipeline_3D_norm_minmax_2_12 {'pipeline': ['isotropy', 'norm_minmax', 'bilateral', 'anisodiff', '3d_connected_component_analysis', 'watershed', 'remove_small_objects'], 'type': '3D'}\n",
      "pipeline_3D_norm_minmax_2_13 {'pipeline': ['isotropy', 'norm_minmax', 'bilateral', 'anisodiff', 'watershed', 'remove_small_objects', '3d_connected_component_analysis'], 'type': '3D'}\n",
      "pipeline_3D_norm_minmax_2_14 {'pipeline': ['isotropy', 'norm_minmax', 'bilateral', 'anisodiff', 'watershed', '3d_connected_component_analysis', 'remove_small_objects'], 'type': '3D'}\n",
      "pipeline_3D_norm_minmax_2_15 {'pipeline': ['isotropy', 'norm_minmax', 'bilateral', 'anisodiff'], 'type': '3D'}\n",
      "pipeline_3D_norm_minmax_3_0 {'pipeline': ['isotropy', 'norm_minmax', 'anisodiff', 'bilateral', 'remove_small_objects'], 'type': '3D'}\n",
      "pipeline_3D_norm_minmax_3_1 {'pipeline': ['isotropy', 'norm_minmax', 'anisodiff', 'bilateral', '3d_connected_component_analysis'], 'type': '3D'}\n",
      "pipeline_3D_norm_minmax_3_2 {'pipeline': ['isotropy', 'norm_minmax', 'anisodiff', 'bilateral', 'watershed'], 'type': '3D'}\n",
      "pipeline_3D_norm_minmax_3_3 {'pipeline': ['isotropy', 'norm_minmax', 'anisodiff', 'bilateral', 'remove_small_objects', '3d_connected_component_analysis'], 'type': '3D'}\n",
      "pipeline_3D_norm_minmax_3_4 {'pipeline': ['isotropy', 'norm_minmax', 'anisodiff', 'bilateral', 'remove_small_objects', 'watershed'], 'type': '3D'}\n",
      "pipeline_3D_norm_minmax_3_5 {'pipeline': ['isotropy', 'norm_minmax', 'anisodiff', 'bilateral', '3d_connected_component_analysis', 'remove_small_objects'], 'type': '3D'}\n",
      "pipeline_3D_norm_minmax_3_6 {'pipeline': ['isotropy', 'norm_minmax', 'anisodiff', 'bilateral', '3d_connected_component_analysis', 'watershed'], 'type': '3D'}\n",
      "pipeline_3D_norm_minmax_3_7 {'pipeline': ['isotropy', 'norm_minmax', 'anisodiff', 'bilateral', 'watershed', 'remove_small_objects'], 'type': '3D'}\n",
      "pipeline_3D_norm_minmax_3_8 {'pipeline': ['isotropy', 'norm_minmax', 'anisodiff', 'bilateral', 'watershed', '3d_connected_component_analysis'], 'type': '3D'}\n",
      "pipeline_3D_norm_minmax_3_9 {'pipeline': ['isotropy', 'norm_minmax', 'anisodiff', 'bilateral', 'remove_small_objects', '3d_connected_component_analysis', 'watershed'], 'type': '3D'}\n",
      "pipeline_3D_norm_minmax_3_10 {'pipeline': ['isotropy', 'norm_minmax', 'anisodiff', 'bilateral', 'remove_small_objects', 'watershed', '3d_connected_component_analysis'], 'type': '3D'}\n",
      "pipeline_3D_norm_minmax_3_11 {'pipeline': ['isotropy', 'norm_minmax', 'anisodiff', 'bilateral', '3d_connected_component_analysis', 'remove_small_objects', 'watershed'], 'type': '3D'}\n",
      "pipeline_3D_norm_minmax_3_12 {'pipeline': ['isotropy', 'norm_minmax', 'anisodiff', 'bilateral', '3d_connected_component_analysis', 'watershed', 'remove_small_objects'], 'type': '3D'}\n",
      "pipeline_3D_norm_minmax_3_13 {'pipeline': ['isotropy', 'norm_minmax', 'anisodiff', 'bilateral', 'watershed', 'remove_small_objects', '3d_connected_component_analysis'], 'type': '3D'}\n",
      "pipeline_3D_norm_minmax_3_14 {'pipeline': ['isotropy', 'norm_minmax', 'anisodiff', 'bilateral', 'watershed', '3d_connected_component_analysis', 'remove_small_objects'], 'type': '3D'}\n",
      "pipeline_3D_norm_minmax_3_15 {'pipeline': ['isotropy', 'norm_minmax', 'anisodiff', 'bilateral'], 'type': '3D'}\n",
      "pipeline_3D_norm_percentile_0_0 {'pipeline': ['isotropy', 'norm_percentile', 'bilateral', 'remove_small_objects'], 'type': '3D'}\n",
      "pipeline_3D_norm_percentile_0_1 {'pipeline': ['isotropy', 'norm_percentile', 'bilateral', '3d_connected_component_analysis'], 'type': '3D'}\n",
      "pipeline_3D_norm_percentile_0_2 {'pipeline': ['isotropy', 'norm_percentile', 'bilateral', 'watershed'], 'type': '3D'}\n",
      "pipeline_3D_norm_percentile_0_3 {'pipeline': ['isotropy', 'norm_percentile', 'bilateral', 'remove_small_objects', '3d_connected_component_analysis'], 'type': '3D'}\n",
      "pipeline_3D_norm_percentile_0_4 {'pipeline': ['isotropy', 'norm_percentile', 'bilateral', 'remove_small_objects', 'watershed'], 'type': '3D'}\n",
      "pipeline_3D_norm_percentile_0_5 {'pipeline': ['isotropy', 'norm_percentile', 'bilateral', '3d_connected_component_analysis', 'remove_small_objects'], 'type': '3D'}\n",
      "pipeline_3D_norm_percentile_0_6 {'pipeline': ['isotropy', 'norm_percentile', 'bilateral', '3d_connected_component_analysis', 'watershed'], 'type': '3D'}\n",
      "pipeline_3D_norm_percentile_0_7 {'pipeline': ['isotropy', 'norm_percentile', 'bilateral', 'watershed', 'remove_small_objects'], 'type': '3D'}\n",
      "pipeline_3D_norm_percentile_0_8 {'pipeline': ['isotropy', 'norm_percentile', 'bilateral', 'watershed', '3d_connected_component_analysis'], 'type': '3D'}\n",
      "pipeline_3D_norm_percentile_0_9 {'pipeline': ['isotropy', 'norm_percentile', 'bilateral', 'remove_small_objects', '3d_connected_component_analysis', 'watershed'], 'type': '3D'}\n",
      "pipeline_3D_norm_percentile_0_10 {'pipeline': ['isotropy', 'norm_percentile', 'bilateral', 'remove_small_objects', 'watershed', '3d_connected_component_analysis'], 'type': '3D'}\n",
      "pipeline_3D_norm_percentile_0_11 {'pipeline': ['isotropy', 'norm_percentile', 'bilateral', '3d_connected_component_analysis', 'remove_small_objects', 'watershed'], 'type': '3D'}\n",
      "pipeline_3D_norm_percentile_0_12 {'pipeline': ['isotropy', 'norm_percentile', 'bilateral', '3d_connected_component_analysis', 'watershed', 'remove_small_objects'], 'type': '3D'}\n",
      "pipeline_3D_norm_percentile_0_13 {'pipeline': ['isotropy', 'norm_percentile', 'bilateral', 'watershed', 'remove_small_objects', '3d_connected_component_analysis'], 'type': '3D'}\n",
      "pipeline_3D_norm_percentile_0_14 {'pipeline': ['isotropy', 'norm_percentile', 'bilateral', 'watershed', '3d_connected_component_analysis', 'remove_small_objects'], 'type': '3D'}\n",
      "pipeline_3D_norm_percentile_0_15 {'pipeline': ['isotropy', 'norm_percentile', 'bilateral'], 'type': '3D'}\n",
      "pipeline_3D_norm_percentile_1_0 {'pipeline': ['isotropy', 'norm_percentile', 'anisodiff', 'remove_small_objects'], 'type': '3D'}\n",
      "pipeline_3D_norm_percentile_1_1 {'pipeline': ['isotropy', 'norm_percentile', 'anisodiff', '3d_connected_component_analysis'], 'type': '3D'}\n",
      "pipeline_3D_norm_percentile_1_2 {'pipeline': ['isotropy', 'norm_percentile', 'anisodiff', 'watershed'], 'type': '3D'}\n",
      "pipeline_3D_norm_percentile_1_3 {'pipeline': ['isotropy', 'norm_percentile', 'anisodiff', 'remove_small_objects', '3d_connected_component_analysis'], 'type': '3D'}\n",
      "pipeline_3D_norm_percentile_1_4 {'pipeline': ['isotropy', 'norm_percentile', 'anisodiff', 'remove_small_objects', 'watershed'], 'type': '3D'}\n",
      "pipeline_3D_norm_percentile_1_5 {'pipeline': ['isotropy', 'norm_percentile', 'anisodiff', '3d_connected_component_analysis', 'remove_small_objects'], 'type': '3D'}\n",
      "pipeline_3D_norm_percentile_1_6 {'pipeline': ['isotropy', 'norm_percentile', 'anisodiff', '3d_connected_component_analysis', 'watershed'], 'type': '3D'}\n",
      "pipeline_3D_norm_percentile_1_7 {'pipeline': ['isotropy', 'norm_percentile', 'anisodiff', 'watershed', 'remove_small_objects'], 'type': '3D'}\n",
      "pipeline_3D_norm_percentile_1_8 {'pipeline': ['isotropy', 'norm_percentile', 'anisodiff', 'watershed', '3d_connected_component_analysis'], 'type': '3D'}\n",
      "pipeline_3D_norm_percentile_1_9 {'pipeline': ['isotropy', 'norm_percentile', 'anisodiff', 'remove_small_objects', '3d_connected_component_analysis', 'watershed'], 'type': '3D'}\n",
      "pipeline_3D_norm_percentile_1_10 {'pipeline': ['isotropy', 'norm_percentile', 'anisodiff', 'remove_small_objects', 'watershed', '3d_connected_component_analysis'], 'type': '3D'}\n",
      "pipeline_3D_norm_percentile_1_11 {'pipeline': ['isotropy', 'norm_percentile', 'anisodiff', '3d_connected_component_analysis', 'remove_small_objects', 'watershed'], 'type': '3D'}\n",
      "pipeline_3D_norm_percentile_1_12 {'pipeline': ['isotropy', 'norm_percentile', 'anisodiff', '3d_connected_component_analysis', 'watershed', 'remove_small_objects'], 'type': '3D'}\n",
      "pipeline_3D_norm_percentile_1_13 {'pipeline': ['isotropy', 'norm_percentile', 'anisodiff', 'watershed', 'remove_small_objects', '3d_connected_component_analysis'], 'type': '3D'}\n",
      "pipeline_3D_norm_percentile_1_14 {'pipeline': ['isotropy', 'norm_percentile', 'anisodiff', 'watershed', '3d_connected_component_analysis', 'remove_small_objects'], 'type': '3D'}\n",
      "pipeline_3D_norm_percentile_1_15 {'pipeline': ['isotropy', 'norm_percentile', 'anisodiff'], 'type': '3D'}\n",
      "pipeline_3D_norm_percentile_2_0 {'pipeline': ['isotropy', 'norm_percentile', 'bilateral', 'anisodiff', 'remove_small_objects'], 'type': '3D'}\n",
      "pipeline_3D_norm_percentile_2_1 {'pipeline': ['isotropy', 'norm_percentile', 'bilateral', 'anisodiff', '3d_connected_component_analysis'], 'type': '3D'}\n",
      "pipeline_3D_norm_percentile_2_2 {'pipeline': ['isotropy', 'norm_percentile', 'bilateral', 'anisodiff', 'watershed'], 'type': '3D'}\n",
      "pipeline_3D_norm_percentile_2_3 {'pipeline': ['isotropy', 'norm_percentile', 'bilateral', 'anisodiff', 'remove_small_objects', '3d_connected_component_analysis'], 'type': '3D'}\n",
      "pipeline_3D_norm_percentile_2_4 {'pipeline': ['isotropy', 'norm_percentile', 'bilateral', 'anisodiff', 'remove_small_objects', 'watershed'], 'type': '3D'}\n",
      "pipeline_3D_norm_percentile_2_5 {'pipeline': ['isotropy', 'norm_percentile', 'bilateral', 'anisodiff', '3d_connected_component_analysis', 'remove_small_objects'], 'type': '3D'}\n",
      "pipeline_3D_norm_percentile_2_6 {'pipeline': ['isotropy', 'norm_percentile', 'bilateral', 'anisodiff', '3d_connected_component_analysis', 'watershed'], 'type': '3D'}\n",
      "pipeline_3D_norm_percentile_2_7 {'pipeline': ['isotropy', 'norm_percentile', 'bilateral', 'anisodiff', 'watershed', 'remove_small_objects'], 'type': '3D'}\n",
      "pipeline_3D_norm_percentile_2_8 {'pipeline': ['isotropy', 'norm_percentile', 'bilateral', 'anisodiff', 'watershed', '3d_connected_component_analysis'], 'type': '3D'}\n",
      "pipeline_3D_norm_percentile_2_9 {'pipeline': ['isotropy', 'norm_percentile', 'bilateral', 'anisodiff', 'remove_small_objects', '3d_connected_component_analysis', 'watershed'], 'type': '3D'}\n",
      "pipeline_3D_norm_percentile_2_10 {'pipeline': ['isotropy', 'norm_percentile', 'bilateral', 'anisodiff', 'remove_small_objects', 'watershed', '3d_connected_component_analysis'], 'type': '3D'}\n",
      "pipeline_3D_norm_percentile_2_11 {'pipeline': ['isotropy', 'norm_percentile', 'bilateral', 'anisodiff', '3d_connected_component_analysis', 'remove_small_objects', 'watershed'], 'type': '3D'}\n",
      "pipeline_3D_norm_percentile_2_12 {'pipeline': ['isotropy', 'norm_percentile', 'bilateral', 'anisodiff', '3d_connected_component_analysis', 'watershed', 'remove_small_objects'], 'type': '3D'}\n",
      "pipeline_3D_norm_percentile_2_13 {'pipeline': ['isotropy', 'norm_percentile', 'bilateral', 'anisodiff', 'watershed', 'remove_small_objects', '3d_connected_component_analysis'], 'type': '3D'}\n",
      "pipeline_3D_norm_percentile_2_14 {'pipeline': ['isotropy', 'norm_percentile', 'bilateral', 'anisodiff', 'watershed', '3d_connected_component_analysis', 'remove_small_objects'], 'type': '3D'}\n",
      "pipeline_3D_norm_percentile_2_15 {'pipeline': ['isotropy', 'norm_percentile', 'bilateral', 'anisodiff'], 'type': '3D'}\n",
      "pipeline_3D_norm_percentile_3_0 {'pipeline': ['isotropy', 'norm_percentile', 'anisodiff', 'bilateral', 'remove_small_objects'], 'type': '3D'}\n",
      "pipeline_3D_norm_percentile_3_1 {'pipeline': ['isotropy', 'norm_percentile', 'anisodiff', 'bilateral', '3d_connected_component_analysis'], 'type': '3D'}\n",
      "pipeline_3D_norm_percentile_3_2 {'pipeline': ['isotropy', 'norm_percentile', 'anisodiff', 'bilateral', 'watershed'], 'type': '3D'}\n",
      "pipeline_3D_norm_percentile_3_3 {'pipeline': ['isotropy', 'norm_percentile', 'anisodiff', 'bilateral', 'remove_small_objects', '3d_connected_component_analysis'], 'type': '3D'}\n",
      "pipeline_3D_norm_percentile_3_4 {'pipeline': ['isotropy', 'norm_percentile', 'anisodiff', 'bilateral', 'remove_small_objects', 'watershed'], 'type': '3D'}\n",
      "pipeline_3D_norm_percentile_3_5 {'pipeline': ['isotropy', 'norm_percentile', 'anisodiff', 'bilateral', '3d_connected_component_analysis', 'remove_small_objects'], 'type': '3D'}\n",
      "pipeline_3D_norm_percentile_3_6 {'pipeline': ['isotropy', 'norm_percentile', 'anisodiff', 'bilateral', '3d_connected_component_analysis', 'watershed'], 'type': '3D'}\n",
      "pipeline_3D_norm_percentile_3_7 {'pipeline': ['isotropy', 'norm_percentile', 'anisodiff', 'bilateral', 'watershed', 'remove_small_objects'], 'type': '3D'}\n",
      "pipeline_3D_norm_percentile_3_8 {'pipeline': ['isotropy', 'norm_percentile', 'anisodiff', 'bilateral', 'watershed', '3d_connected_component_analysis'], 'type': '3D'}\n",
      "pipeline_3D_norm_percentile_3_9 {'pipeline': ['isotropy', 'norm_percentile', 'anisodiff', 'bilateral', 'remove_small_objects', '3d_connected_component_analysis', 'watershed'], 'type': '3D'}\n",
      "pipeline_3D_norm_percentile_3_10 {'pipeline': ['isotropy', 'norm_percentile', 'anisodiff', 'bilateral', 'remove_small_objects', 'watershed', '3d_connected_component_analysis'], 'type': '3D'}\n",
      "pipeline_3D_norm_percentile_3_11 {'pipeline': ['isotropy', 'norm_percentile', 'anisodiff', 'bilateral', '3d_connected_component_analysis', 'remove_small_objects', 'watershed'], 'type': '3D'}\n",
      "pipeline_3D_norm_percentile_3_12 {'pipeline': ['isotropy', 'norm_percentile', 'anisodiff', 'bilateral', '3d_connected_component_analysis', 'watershed', 'remove_small_objects'], 'type': '3D'}\n",
      "pipeline_3D_norm_percentile_3_13 {'pipeline': ['isotropy', 'norm_percentile', 'anisodiff', 'bilateral', 'watershed', 'remove_small_objects', '3d_connected_component_analysis'], 'type': '3D'}\n",
      "pipeline_3D_norm_percentile_3_14 {'pipeline': ['isotropy', 'norm_percentile', 'anisodiff', 'bilateral', 'watershed', '3d_connected_component_analysis', 'remove_small_objects'], 'type': '3D'}\n",
      "pipeline_3D_norm_percentile_3_15 {'pipeline': ['isotropy', 'norm_percentile', 'anisodiff', 'bilateral'], 'type': '3D'}\n"
     ]
    }
   ],
   "execution_count": 4
  },
  {
   "metadata": {
    "ExecuteTime": {
     "end_time": "2024-10-04T15:33:06.588794Z",
     "start_time": "2024-10-04T15:33:06.412839Z"
    }
   },
   "cell_type": "code",
   "source": [
    "model = my_cellpose.load_model('nuclei')\n",
    "tester = ModelTester(model)"
   ],
   "id": "235a2fdf589185b5",
   "outputs": [
    {
     "name": "stdout",
     "output_type": "stream",
     "text": [
      "\u001B[94mLoading model\u001B[0m: nuclei\n"
     ]
    }
   ],
   "execution_count": 6
  },
  {
   "metadata": {
    "ExecuteTime": {
     "end_time": "2024-10-04T17:34:55.304798Z",
     "start_time": "2024-10-04T16:24:03.628796Z"
    }
   },
   "cell_type": "code",
   "source": [
    "bar = LoadingBar(len(pipelines_dict))\n",
    "\n",
    "for name, config in pipelines_dict.items():\n",
    "    print(f\"\\nTesting {name} pipeline\")\n",
    "    \n",
    "    pipeline = config['pipeline']\n",
    "    type = config['type']\n",
    "    thr = config['threshold'] if 'threshold' in config else None\n",
    "    \n",
    "    tester.run(\n",
    "        img_path, pipeline,\n",
    "        type=type, stitch_threshold=thr,\n",
    "        test_name=name, \n",
    "        verbose=0\n",
    "    )\n",
    "    \n",
    "    bar.update()\n",
    "    \n",
    "bar.end()"
   ],
   "id": "a33db2a830631586",
   "outputs": [
    {
     "name": "stdout",
     "output_type": "stream",
     "text": [
      "\n",
      "Testing pipeline_2D_thr_0.2_norm_minmax_0_0 pipeline\n"
     ]
    },
    {
     "name": "stderr",
     "output_type": "stream",
     "text": [
      "100%|██████████| 19/19 [00:00<00:00, 5078.17it/s]"
     ]
    },
    {
     "name": "stdout",
     "output_type": "stream",
     "text": [
      "[                                                  ] 0.11%"
     ]
    },
    {
     "name": "stderr",
     "output_type": "stream",
     "text": [
      "\n"
     ]
    },
    {
     "name": "stdout",
     "output_type": "stream",
     "text": [
      "\n",
      "Testing pipeline_2D_thr_0.2_norm_minmax_0_1 pipeline\n"
     ]
    },
    {
     "name": "stderr",
     "output_type": "stream",
     "text": [
      "100%|██████████| 19/19 [00:00<00:00, 5990.51it/s]"
     ]
    },
    {
     "name": "stdout",
     "output_type": "stream",
     "text": [
      "[                                                  ] 0.22%"
     ]
    },
    {
     "name": "stderr",
     "output_type": "stream",
     "text": [
      "\n"
     ]
    },
    {
     "name": "stdout",
     "output_type": "stream",
     "text": [
      "\n",
      "Testing pipeline_2D_thr_0.2_norm_minmax_0_2 pipeline\n"
     ]
    },
    {
     "name": "stderr",
     "output_type": "stream",
     "text": [
      "100%|██████████| 19/19 [00:00<00:00, 6405.58it/s]\n"
     ]
    },
    {
     "name": "stdout",
     "output_type": "stream",
     "text": [
      "[                                                  ] 0.33%\n",
      "Testing pipeline_2D_thr_0.2_norm_minmax_0_3 pipeline\n"
     ]
    },
    {
     "name": "stderr",
     "output_type": "stream",
     "text": [
      "100%|██████████| 19/19 [00:00<00:00, 6288.81it/s]"
     ]
    },
    {
     "name": "stdout",
     "output_type": "stream",
     "text": [
      "[                                                  ] 0.45%"
     ]
    },
    {
     "name": "stderr",
     "output_type": "stream",
     "text": [
      "\n"
     ]
    },
    {
     "name": "stdout",
     "output_type": "stream",
     "text": [
      "\n",
      "Testing pipeline_2D_thr_0.2_norm_minmax_0_4 pipeline\n"
     ]
    },
    {
     "name": "stderr",
     "output_type": "stream",
     "text": [
      "100%|██████████| 19/19 [00:00<00:00, 6701.86it/s]\n"
     ]
    },
    {
     "name": "stdout",
     "output_type": "stream",
     "text": [
      "[                                                  ] 0.56%\n",
      "Testing pipeline_2D_thr_0.2_norm_minmax_0_5 pipeline\n"
     ]
    },
    {
     "name": "stderr",
     "output_type": "stream",
     "text": [
      "100%|██████████| 19/19 [00:00<00:00, 7127.43it/s]"
     ]
    },
    {
     "name": "stdout",
     "output_type": "stream",
     "text": [
      "[                                                  ] 0.67%"
     ]
    },
    {
     "name": "stderr",
     "output_type": "stream",
     "text": [
      "\n"
     ]
    },
    {
     "name": "stdout",
     "output_type": "stream",
     "text": [
      "\n",
      "Testing pipeline_2D_thr_0.2_norm_minmax_0_6 pipeline\n"
     ]
    },
    {
     "name": "stderr",
     "output_type": "stream",
     "text": [
      "100%|██████████| 19/19 [00:00<00:00, 5668.78it/s]\n"
     ]
    },
    {
     "name": "stdout",
     "output_type": "stream",
     "text": [
      "[                                                  ] 0.78%\n",
      "Testing pipeline_2D_thr_0.2_norm_minmax_0_7 pipeline\n"
     ]
    },
    {
     "name": "stderr",
     "output_type": "stream",
     "text": [
      "100%|██████████| 19/19 [00:00<00:00, 5291.27it/s]\n"
     ]
    },
    {
     "name": "stdout",
     "output_type": "stream",
     "text": [
      "[                                                  ] 0.89%\n",
      "Testing pipeline_2D_thr_0.2_norm_minmax_0_8 pipeline\n"
     ]
    },
    {
     "name": "stderr",
     "output_type": "stream",
     "text": [
      "100%|██████████| 19/19 [00:00<00:00, 6978.26it/s]\n"
     ]
    },
    {
     "name": "stdout",
     "output_type": "stream",
     "text": [
      "[                                                  ] 1.00%\n",
      "Testing pipeline_2D_thr_0.2_norm_minmax_0_9 pipeline\n"
     ]
    },
    {
     "name": "stderr",
     "output_type": "stream",
     "text": [
      "100%|██████████| 19/19 [00:00<00:00, 5247.37it/s]\n"
     ]
    },
    {
     "name": "stdout",
     "output_type": "stream",
     "text": [
      "[                                                  ] 1.12%\n",
      "Testing pipeline_2D_thr_0.2_norm_minmax_0_10 pipeline\n"
     ]
    },
    {
     "name": "stderr",
     "output_type": "stream",
     "text": [
      "100%|██████████| 19/19 [00:00<00:00, 6796.16it/s]\n"
     ]
    },
    {
     "name": "stdout",
     "output_type": "stream",
     "text": [
      "[                                                  ] 1.23%\n",
      "Testing pipeline_2D_thr_0.2_norm_minmax_0_11 pipeline\n"
     ]
    },
    {
     "name": "stderr",
     "output_type": "stream",
     "text": [
      "100%|██████████| 19/19 [00:00<00:00, 6484.28it/s]\n"
     ]
    },
    {
     "name": "stdout",
     "output_type": "stream",
     "text": [
      "[                                                  ] 1.34%\n",
      "Testing pipeline_2D_thr_0.2_norm_minmax_0_12 pipeline\n"
     ]
    },
    {
     "name": "stderr",
     "output_type": "stream",
     "text": [
      "100%|██████████| 19/19 [00:00<00:00, 5770.58it/s]\n"
     ]
    },
    {
     "name": "stdout",
     "output_type": "stream",
     "text": [
      "[                                                  ] 1.45%\n",
      "Testing pipeline_2D_thr_0.2_norm_minmax_0_13 pipeline\n"
     ]
    },
    {
     "name": "stderr",
     "output_type": "stream",
     "text": [
      "100%|██████████| 19/19 [00:00<00:00, 6474.27it/s]\n"
     ]
    },
    {
     "name": "stdout",
     "output_type": "stream",
     "text": [
      "[                                                  ] 1.56%\n",
      "Testing pipeline_2D_thr_0.2_norm_minmax_0_14 pipeline\n"
     ]
    },
    {
     "name": "stderr",
     "output_type": "stream",
     "text": [
      "100%|██████████| 19/19 [00:00<00:00, 5702.86it/s]\n"
     ]
    },
    {
     "name": "stdout",
     "output_type": "stream",
     "text": [
      "[                                                  ] 1.67%\n",
      "Testing pipeline_2D_thr_0.2_norm_minmax_0_15 pipeline\n"
     ]
    },
    {
     "name": "stderr",
     "output_type": "stream",
     "text": [
      "100%|██████████| 19/19 [00:00<00:00, 4933.56it/s]"
     ]
    },
    {
     "name": "stdout",
     "output_type": "stream",
     "text": [
      "[                                                  ] 1.79%"
     ]
    },
    {
     "name": "stderr",
     "output_type": "stream",
     "text": [
      "\n"
     ]
    },
    {
     "name": "stdout",
     "output_type": "stream",
     "text": [
      "\n",
      "Testing pipeline_2D_thr_0.2_norm_minmax_1_0 pipeline\n"
     ]
    },
    {
     "name": "stderr",
     "output_type": "stream",
     "text": [
      "100%|██████████| 19/19 [00:00<00:00, 6469.01it/s]"
     ]
    },
    {
     "name": "stdout",
     "output_type": "stream",
     "text": [
      "[                                                  ] 1.90%"
     ]
    },
    {
     "name": "stderr",
     "output_type": "stream",
     "text": [
      "\n"
     ]
    },
    {
     "name": "stdout",
     "output_type": "stream",
     "text": [
      "\n",
      "Testing pipeline_2D_thr_0.2_norm_minmax_1_1 pipeline\n"
     ]
    },
    {
     "name": "stderr",
     "output_type": "stream",
     "text": [
      "100%|██████████| 19/19 [00:00<00:00, 5193.68it/s]"
     ]
    },
    {
     "name": "stdout",
     "output_type": "stream",
     "text": [
      "[=                                                 ] 2.01%"
     ]
    },
    {
     "name": "stderr",
     "output_type": "stream",
     "text": [
      "\n"
     ]
    },
    {
     "name": "stdout",
     "output_type": "stream",
     "text": [
      "\n",
      "Testing pipeline_2D_thr_0.2_norm_minmax_1_2 pipeline\n"
     ]
    },
    {
     "name": "stderr",
     "output_type": "stream",
     "text": [
      "100%|██████████| 19/19 [00:00<00:00, 5796.19it/s]\n"
     ]
    },
    {
     "name": "stdout",
     "output_type": "stream",
     "text": [
      "[=                                                 ] 2.12%\n",
      "Testing pipeline_2D_thr_0.2_norm_minmax_1_3 pipeline\n"
     ]
    },
    {
     "name": "stderr",
     "output_type": "stream",
     "text": [
      "100%|██████████| 19/19 [00:00<00:00, 4284.73it/s]"
     ]
    },
    {
     "name": "stdout",
     "output_type": "stream",
     "text": [
      "[=                                                 ] 2.23%"
     ]
    },
    {
     "name": "stderr",
     "output_type": "stream",
     "text": [
      "\n"
     ]
    },
    {
     "name": "stdout",
     "output_type": "stream",
     "text": [
      "\n",
      "Testing pipeline_2D_thr_0.2_norm_minmax_1_4 pipeline\n"
     ]
    },
    {
     "name": "stderr",
     "output_type": "stream",
     "text": [
      "100%|██████████| 19/19 [00:00<00:00, 2029.48it/s]\n"
     ]
    },
    {
     "name": "stdout",
     "output_type": "stream",
     "text": [
      "[=                                                 ] 2.34%\n",
      "Testing pipeline_2D_thr_0.2_norm_minmax_1_5 pipeline\n"
     ]
    },
    {
     "name": "stderr",
     "output_type": "stream",
     "text": [
      "100%|██████████| 19/19 [00:00<00:00, 5246.68it/s]"
     ]
    },
    {
     "name": "stdout",
     "output_type": "stream",
     "text": [
      "[=                                                 ] 2.46%"
     ]
    },
    {
     "name": "stderr",
     "output_type": "stream",
     "text": [
      "\n"
     ]
    },
    {
     "name": "stdout",
     "output_type": "stream",
     "text": [
      "\n",
      "Testing pipeline_2D_thr_0.2_norm_minmax_1_6 pipeline\n"
     ]
    },
    {
     "name": "stderr",
     "output_type": "stream",
     "text": [
      "100%|██████████| 19/19 [00:00<00:00, 3114.18it/s]\n"
     ]
    },
    {
     "name": "stdout",
     "output_type": "stream",
     "text": [
      "[=                                                 ] 2.57%\n",
      "Testing pipeline_2D_thr_0.2_norm_minmax_1_7 pipeline\n"
     ]
    },
    {
     "name": "stderr",
     "output_type": "stream",
     "text": [
      "100%|██████████| 19/19 [00:00<00:00, 4846.84it/s]\n"
     ]
    },
    {
     "name": "stdout",
     "output_type": "stream",
     "text": [
      "[=                                                 ] 2.68%\n",
      "Testing pipeline_2D_thr_0.2_norm_minmax_1_8 pipeline\n"
     ]
    },
    {
     "name": "stderr",
     "output_type": "stream",
     "text": [
      "100%|██████████| 19/19 [00:00<00:00, 4873.22it/s]\n"
     ]
    },
    {
     "name": "stdout",
     "output_type": "stream",
     "text": [
      "[=                                                 ] 2.79%\n",
      "Testing pipeline_2D_thr_0.2_norm_minmax_1_9 pipeline\n"
     ]
    },
    {
     "name": "stderr",
     "output_type": "stream",
     "text": [
      "100%|██████████| 19/19 [00:00<00:00, 5490.30it/s]\n"
     ]
    },
    {
     "name": "stdout",
     "output_type": "stream",
     "text": [
      "[=                                                 ] 2.90%\n",
      "Testing pipeline_2D_thr_0.2_norm_minmax_1_10 pipeline\n"
     ]
    },
    {
     "name": "stderr",
     "output_type": "stream",
     "text": [
      "100%|██████████| 19/19 [00:00<00:00, 4009.04it/s]\n"
     ]
    },
    {
     "name": "stdout",
     "output_type": "stream",
     "text": [
      "[=                                                 ] 3.01%\n",
      "Testing pipeline_2D_thr_0.2_norm_minmax_1_11 pipeline\n"
     ]
    },
    {
     "name": "stderr",
     "output_type": "stream",
     "text": [
      "100%|██████████| 19/19 [00:00<00:00, 6211.85it/s]\n"
     ]
    },
    {
     "name": "stdout",
     "output_type": "stream",
     "text": [
      "[=                                                 ] 3.12%\n",
      "Testing pipeline_2D_thr_0.2_norm_minmax_1_12 pipeline\n"
     ]
    },
    {
     "name": "stderr",
     "output_type": "stream",
     "text": [
      "100%|██████████| 19/19 [00:00<00:00, 6827.02it/s]\n"
     ]
    },
    {
     "name": "stdout",
     "output_type": "stream",
     "text": [
      "[=                                                 ] 3.24%\n",
      "Testing pipeline_2D_thr_0.2_norm_minmax_1_13 pipeline\n"
     ]
    },
    {
     "name": "stderr",
     "output_type": "stream",
     "text": [
      "100%|██████████| 19/19 [00:00<00:00, 4646.21it/s]\n"
     ]
    },
    {
     "name": "stdout",
     "output_type": "stream",
     "text": [
      "[=                                                 ] 3.35%\n",
      "Testing pipeline_2D_thr_0.2_norm_minmax_1_14 pipeline\n"
     ]
    },
    {
     "name": "stderr",
     "output_type": "stream",
     "text": [
      "100%|██████████| 19/19 [00:00<00:00, 7812.15it/s]\n"
     ]
    },
    {
     "name": "stdout",
     "output_type": "stream",
     "text": [
      "[=                                                 ] 3.46%\n",
      "Testing pipeline_2D_thr_0.2_norm_minmax_1_15 pipeline\n"
     ]
    },
    {
     "name": "stderr",
     "output_type": "stream",
     "text": [
      "100%|██████████| 19/19 [00:00<00:00, 5753.92it/s]"
     ]
    },
    {
     "name": "stdout",
     "output_type": "stream",
     "text": [
      "[=                                                 ] 3.57%"
     ]
    },
    {
     "name": "stderr",
     "output_type": "stream",
     "text": [
      "\n"
     ]
    },
    {
     "name": "stdout",
     "output_type": "stream",
     "text": [
      "\n",
      "Testing pipeline_2D_thr_0.2_norm_minmax_2_0 pipeline\n"
     ]
    },
    {
     "name": "stderr",
     "output_type": "stream",
     "text": [
      "100%|██████████| 19/19 [00:00<00:00, 6725.04it/s]"
     ]
    },
    {
     "name": "stdout",
     "output_type": "stream",
     "text": [
      "[=                                                 ] 3.68%"
     ]
    },
    {
     "name": "stderr",
     "output_type": "stream",
     "text": [
      "\n"
     ]
    },
    {
     "name": "stdout",
     "output_type": "stream",
     "text": [
      "\n",
      "Testing pipeline_2D_thr_0.2_norm_minmax_2_1 pipeline\n"
     ]
    },
    {
     "name": "stderr",
     "output_type": "stream",
     "text": [
      "100%|██████████| 19/19 [00:00<00:00, 5142.07it/s]"
     ]
    },
    {
     "name": "stdout",
     "output_type": "stream",
     "text": [
      "[=                                                 ] 3.79%"
     ]
    },
    {
     "name": "stderr",
     "output_type": "stream",
     "text": [
      "\n"
     ]
    },
    {
     "name": "stdout",
     "output_type": "stream",
     "text": [
      "\n",
      "Testing pipeline_2D_thr_0.2_norm_minmax_2_2 pipeline\n"
     ]
    },
    {
     "name": "stderr",
     "output_type": "stream",
     "text": [
      "100%|██████████| 19/19 [00:00<00:00, 6211.36it/s]\n"
     ]
    },
    {
     "name": "stdout",
     "output_type": "stream",
     "text": [
      "[=                                                 ] 3.91%\n",
      "Testing pipeline_2D_thr_0.2_norm_minmax_2_3 pipeline\n"
     ]
    },
    {
     "name": "stderr",
     "output_type": "stream",
     "text": [
      "100%|██████████| 19/19 [00:00<00:00, 4435.21it/s]"
     ]
    },
    {
     "name": "stdout",
     "output_type": "stream",
     "text": [
      "[==                                                ] 4.02%"
     ]
    },
    {
     "name": "stderr",
     "output_type": "stream",
     "text": [
      "\n"
     ]
    },
    {
     "name": "stdout",
     "output_type": "stream",
     "text": [
      "\n",
      "Testing pipeline_2D_thr_0.2_norm_minmax_2_4 pipeline\n"
     ]
    },
    {
     "name": "stderr",
     "output_type": "stream",
     "text": [
      "100%|██████████| 19/19 [00:00<00:00, 6008.58it/s]\n"
     ]
    },
    {
     "name": "stdout",
     "output_type": "stream",
     "text": [
      "[==                                                ] 4.13%\n",
      "Testing pipeline_2D_thr_0.2_norm_minmax_2_5 pipeline\n"
     ]
    },
    {
     "name": "stderr",
     "output_type": "stream",
     "text": [
      "100%|██████████| 19/19 [00:00<00:00, 6047.79it/s]"
     ]
    },
    {
     "name": "stdout",
     "output_type": "stream",
     "text": [
      "[==                                                ] 4.24%"
     ]
    },
    {
     "name": "stderr",
     "output_type": "stream",
     "text": [
      "\n"
     ]
    },
    {
     "name": "stdout",
     "output_type": "stream",
     "text": [
      "\n",
      "Testing pipeline_2D_thr_0.2_norm_minmax_2_6 pipeline\n"
     ]
    },
    {
     "name": "stderr",
     "output_type": "stream",
     "text": [
      "100%|██████████| 19/19 [00:00<00:00, 6727.88it/s]\n"
     ]
    },
    {
     "name": "stdout",
     "output_type": "stream",
     "text": [
      "[==                                                ] 4.35%\n",
      "Testing pipeline_2D_thr_0.2_norm_minmax_2_7 pipeline\n"
     ]
    },
    {
     "name": "stderr",
     "output_type": "stream",
     "text": [
      "100%|██████████| 19/19 [00:00<00:00, 5370.43it/s]\n"
     ]
    },
    {
     "name": "stdout",
     "output_type": "stream",
     "text": [
      "[==                                                ] 4.46%\n",
      "Testing pipeline_2D_thr_0.2_norm_minmax_2_8 pipeline\n"
     ]
    },
    {
     "name": "stderr",
     "output_type": "stream",
     "text": [
      "100%|██████████| 19/19 [00:00<00:00, 6827.60it/s]\n"
     ]
    },
    {
     "name": "stdout",
     "output_type": "stream",
     "text": [
      "[==                                                ] 4.58%\n",
      "Testing pipeline_2D_thr_0.2_norm_minmax_2_9 pipeline\n"
     ]
    },
    {
     "name": "stderr",
     "output_type": "stream",
     "text": [
      "100%|██████████| 19/19 [00:00<00:00, 7793.05it/s]\n"
     ]
    },
    {
     "name": "stdout",
     "output_type": "stream",
     "text": [
      "[==                                                ] 4.69%\n",
      "Testing pipeline_2D_thr_0.2_norm_minmax_2_10 pipeline\n"
     ]
    },
    {
     "name": "stderr",
     "output_type": "stream",
     "text": [
      "100%|██████████| 19/19 [00:00<00:00, 7319.23it/s]\n"
     ]
    },
    {
     "name": "stdout",
     "output_type": "stream",
     "text": [
      "[==                                                ] 4.80%\n",
      "Testing pipeline_2D_thr_0.2_norm_minmax_2_11 pipeline\n"
     ]
    },
    {
     "name": "stderr",
     "output_type": "stream",
     "text": [
      "100%|██████████| 19/19 [00:00<00:00, 4255.90it/s]\n"
     ]
    },
    {
     "name": "stdout",
     "output_type": "stream",
     "text": [
      "[==                                                ] 4.91%\n",
      "Testing pipeline_2D_thr_0.2_norm_minmax_2_12 pipeline\n"
     ]
    },
    {
     "name": "stderr",
     "output_type": "stream",
     "text": [
      "100%|██████████| 19/19 [00:00<00:00, 7163.31it/s]\n"
     ]
    },
    {
     "name": "stdout",
     "output_type": "stream",
     "text": [
      "[==                                                ] 5.02%\n",
      "Testing pipeline_2D_thr_0.2_norm_minmax_2_13 pipeline\n"
     ]
    },
    {
     "name": "stderr",
     "output_type": "stream",
     "text": [
      "100%|██████████| 19/19 [00:00<00:00, 6893.75it/s]\n"
     ]
    },
    {
     "name": "stdout",
     "output_type": "stream",
     "text": [
      "[==                                                ] 5.13%\n",
      "Testing pipeline_2D_thr_0.2_norm_minmax_2_14 pipeline\n"
     ]
    },
    {
     "name": "stderr",
     "output_type": "stream",
     "text": [
      "100%|██████████| 19/19 [00:00<00:00, 7641.36it/s]\n"
     ]
    },
    {
     "name": "stdout",
     "output_type": "stream",
     "text": [
      "[==                                                ] 5.25%\n",
      "Testing pipeline_2D_thr_0.2_norm_minmax_2_15 pipeline\n"
     ]
    },
    {
     "name": "stderr",
     "output_type": "stream",
     "text": [
      "100%|██████████| 19/19 [00:00<00:00, 7774.05it/s]"
     ]
    },
    {
     "name": "stdout",
     "output_type": "stream",
     "text": [
      "[==                                                ] 5.36%"
     ]
    },
    {
     "name": "stderr",
     "output_type": "stream",
     "text": [
      "\n"
     ]
    },
    {
     "name": "stdout",
     "output_type": "stream",
     "text": [
      "\n",
      "Testing pipeline_2D_thr_0.2_norm_minmax_3_0 pipeline\n"
     ]
    },
    {
     "name": "stderr",
     "output_type": "stream",
     "text": [
      "100%|██████████| 19/19 [00:00<00:00, 4953.49it/s]"
     ]
    },
    {
     "name": "stdout",
     "output_type": "stream",
     "text": [
      "[==                                                ] 5.47%"
     ]
    },
    {
     "name": "stderr",
     "output_type": "stream",
     "text": [
      "\n"
     ]
    },
    {
     "name": "stdout",
     "output_type": "stream",
     "text": [
      "\n",
      "Testing pipeline_2D_thr_0.2_norm_minmax_3_1 pipeline\n"
     ]
    },
    {
     "name": "stderr",
     "output_type": "stream",
     "text": [
      "100%|██████████| 19/19 [00:00<00:00, 7305.14it/s]"
     ]
    },
    {
     "name": "stdout",
     "output_type": "stream",
     "text": [
      "[==                                                ] 5.58%"
     ]
    },
    {
     "name": "stderr",
     "output_type": "stream",
     "text": [
      "\n"
     ]
    },
    {
     "name": "stdout",
     "output_type": "stream",
     "text": [
      "\n",
      "Testing pipeline_2D_thr_0.2_norm_minmax_3_2 pipeline\n"
     ]
    },
    {
     "name": "stderr",
     "output_type": "stream",
     "text": [
      "100%|██████████| 19/19 [00:00<00:00, 6690.04it/s]\n"
     ]
    },
    {
     "name": "stdout",
     "output_type": "stream",
     "text": [
      "[==                                                ] 5.69%\n",
      "Testing pipeline_2D_thr_0.2_norm_minmax_3_3 pipeline\n"
     ]
    },
    {
     "name": "stderr",
     "output_type": "stream",
     "text": [
      "100%|██████████| 19/19 [00:00<00:00, 4035.44it/s]"
     ]
    },
    {
     "name": "stdout",
     "output_type": "stream",
     "text": [
      "[==                                                ] 5.80%"
     ]
    },
    {
     "name": "stderr",
     "output_type": "stream",
     "text": [
      "\n"
     ]
    },
    {
     "name": "stdout",
     "output_type": "stream",
     "text": [
      "\n",
      "Testing pipeline_2D_thr_0.2_norm_minmax_3_4 pipeline\n"
     ]
    },
    {
     "name": "stderr",
     "output_type": "stream",
     "text": [
      "100%|██████████| 19/19 [00:00<00:00, 6476.37it/s]\n"
     ]
    },
    {
     "name": "stdout",
     "output_type": "stream",
     "text": [
      "[==                                                ] 5.92%\n",
      "Testing pipeline_2D_thr_0.2_norm_minmax_3_5 pipeline\n"
     ]
    },
    {
     "name": "stderr",
     "output_type": "stream",
     "text": [
      "100%|██████████| 19/19 [00:00<00:00, 4274.62it/s]"
     ]
    },
    {
     "name": "stdout",
     "output_type": "stream",
     "text": [
      "[===                                               ] 6.03%"
     ]
    },
    {
     "name": "stderr",
     "output_type": "stream",
     "text": [
      "\n"
     ]
    },
    {
     "name": "stdout",
     "output_type": "stream",
     "text": [
      "\n",
      "Testing pipeline_2D_thr_0.2_norm_minmax_3_6 pipeline\n"
     ]
    },
    {
     "name": "stderr",
     "output_type": "stream",
     "text": [
      "100%|██████████| 19/19 [00:00<00:00, 4748.36it/s]\n"
     ]
    },
    {
     "name": "stdout",
     "output_type": "stream",
     "text": [
      "[===                                               ] 6.14%\n",
      "Testing pipeline_2D_thr_0.2_norm_minmax_3_7 pipeline\n"
     ]
    },
    {
     "name": "stderr",
     "output_type": "stream",
     "text": [
      "100%|██████████| 19/19 [00:00<00:00, 6744.40it/s]\n"
     ]
    },
    {
     "name": "stdout",
     "output_type": "stream",
     "text": [
      "[===                                               ] 6.25%\n",
      "Testing pipeline_2D_thr_0.2_norm_minmax_3_8 pipeline\n"
     ]
    },
    {
     "name": "stderr",
     "output_type": "stream",
     "text": [
      "100%|██████████| 19/19 [00:00<00:00, 4633.78it/s]\n"
     ]
    },
    {
     "name": "stdout",
     "output_type": "stream",
     "text": [
      "[===                                               ] 6.36%\n",
      "Testing pipeline_2D_thr_0.2_norm_minmax_3_9 pipeline\n"
     ]
    },
    {
     "name": "stderr",
     "output_type": "stream",
     "text": [
      "100%|██████████| 19/19 [00:00<00:00, 6445.47it/s]\n"
     ]
    },
    {
     "name": "stdout",
     "output_type": "stream",
     "text": [
      "[===                                               ] 6.47%\n",
      "Testing pipeline_2D_thr_0.2_norm_minmax_3_10 pipeline\n"
     ]
    },
    {
     "name": "stderr",
     "output_type": "stream",
     "text": [
      "100%|██████████| 19/19 [00:00<00:00, 7690.77it/s]\n"
     ]
    },
    {
     "name": "stdout",
     "output_type": "stream",
     "text": [
      "[===                                               ] 6.58%\n",
      "Testing pipeline_2D_thr_0.2_norm_minmax_3_11 pipeline\n"
     ]
    },
    {
     "name": "stderr",
     "output_type": "stream",
     "text": [
      "100%|██████████| 19/19 [00:00<00:00, 4861.63it/s]\n"
     ]
    },
    {
     "name": "stdout",
     "output_type": "stream",
     "text": [
      "[===                                               ] 6.70%\n",
      "Testing pipeline_2D_thr_0.2_norm_minmax_3_12 pipeline\n"
     ]
    },
    {
     "name": "stderr",
     "output_type": "stream",
     "text": [
      "100%|██████████| 19/19 [00:00<00:00, 6309.22it/s]\n"
     ]
    },
    {
     "name": "stdout",
     "output_type": "stream",
     "text": [
      "[===                                               ] 6.81%\n",
      "Testing pipeline_2D_thr_0.2_norm_minmax_3_13 pipeline\n"
     ]
    },
    {
     "name": "stderr",
     "output_type": "stream",
     "text": [
      "100%|██████████| 19/19 [00:00<00:00, 5122.57it/s]\n"
     ]
    },
    {
     "name": "stdout",
     "output_type": "stream",
     "text": [
      "[===                                               ] 6.92%\n",
      "Testing pipeline_2D_thr_0.2_norm_minmax_3_14 pipeline\n"
     ]
    },
    {
     "name": "stderr",
     "output_type": "stream",
     "text": [
      "100%|██████████| 19/19 [00:00<00:00, 6130.14it/s]\n"
     ]
    },
    {
     "name": "stdout",
     "output_type": "stream",
     "text": [
      "[===                                               ] 7.03%\n",
      "Testing pipeline_2D_thr_0.2_norm_minmax_3_15 pipeline\n"
     ]
    },
    {
     "name": "stderr",
     "output_type": "stream",
     "text": [
      "100%|██████████| 19/19 [00:00<00:00, 5029.78it/s]"
     ]
    },
    {
     "name": "stdout",
     "output_type": "stream",
     "text": [
      "[===                                               ] 7.14%"
     ]
    },
    {
     "name": "stderr",
     "output_type": "stream",
     "text": [
      "\n"
     ]
    },
    {
     "name": "stdout",
     "output_type": "stream",
     "text": [
      "\n",
      "Testing pipeline_2D_thr_0.2_norm_percentile_0_0 pipeline\n"
     ]
    },
    {
     "name": "stderr",
     "output_type": "stream",
     "text": [
      "100%|██████████| 19/19 [00:00<00:00, 6063.44it/s]"
     ]
    },
    {
     "name": "stdout",
     "output_type": "stream",
     "text": [
      "[===                                               ] 7.25%"
     ]
    },
    {
     "name": "stderr",
     "output_type": "stream",
     "text": [
      "\n"
     ]
    },
    {
     "name": "stdout",
     "output_type": "stream",
     "text": [
      "\n",
      "Testing pipeline_2D_thr_0.2_norm_percentile_0_1 pipeline\n"
     ]
    },
    {
     "name": "stderr",
     "output_type": "stream",
     "text": [
      "100%|██████████| 19/19 [00:00<00:00, 5811.40it/s]"
     ]
    },
    {
     "name": "stdout",
     "output_type": "stream",
     "text": [
      "[===                                               ] 7.37%"
     ]
    },
    {
     "name": "stderr",
     "output_type": "stream",
     "text": [
      "\n"
     ]
    },
    {
     "name": "stdout",
     "output_type": "stream",
     "text": [
      "\n",
      "Testing pipeline_2D_thr_0.2_norm_percentile_0_2 pipeline\n"
     ]
    },
    {
     "name": "stderr",
     "output_type": "stream",
     "text": [
      "100%|██████████| 19/19 [00:00<00:00, 5678.48it/s]\n"
     ]
    },
    {
     "name": "stdout",
     "output_type": "stream",
     "text": [
      "[===                                               ] 7.48%\n",
      "Testing pipeline_2D_thr_0.2_norm_percentile_0_3 pipeline\n"
     ]
    },
    {
     "name": "stderr",
     "output_type": "stream",
     "text": [
      "100%|██████████| 19/19 [00:00<00:00, 6383.00it/s]"
     ]
    },
    {
     "name": "stdout",
     "output_type": "stream",
     "text": [
      "[===                                               ] 7.59%"
     ]
    },
    {
     "name": "stderr",
     "output_type": "stream",
     "text": [
      "\n"
     ]
    },
    {
     "name": "stdout",
     "output_type": "stream",
     "text": [
      "\n",
      "Testing pipeline_2D_thr_0.2_norm_percentile_0_4 pipeline\n"
     ]
    },
    {
     "name": "stderr",
     "output_type": "stream",
     "text": [
      "100%|██████████| 19/19 [00:00<00:00, 6175.74it/s]\n"
     ]
    },
    {
     "name": "stdout",
     "output_type": "stream",
     "text": [
      "[===                                               ] 7.70%\n",
      "Testing pipeline_2D_thr_0.2_norm_percentile_0_5 pipeline\n"
     ]
    },
    {
     "name": "stderr",
     "output_type": "stream",
     "text": [
      "100%|██████████| 19/19 [00:00<00:00, 5131.47it/s]"
     ]
    },
    {
     "name": "stdout",
     "output_type": "stream",
     "text": [
      "[===                                               ] 7.81%"
     ]
    },
    {
     "name": "stderr",
     "output_type": "stream",
     "text": [
      "\n"
     ]
    },
    {
     "name": "stdout",
     "output_type": "stream",
     "text": [
      "\n",
      "Testing pipeline_2D_thr_0.2_norm_percentile_0_6 pipeline\n"
     ]
    },
    {
     "name": "stderr",
     "output_type": "stream",
     "text": [
      "100%|██████████| 19/19 [00:00<00:00, 5108.77it/s]\n"
     ]
    },
    {
     "name": "stdout",
     "output_type": "stream",
     "text": [
      "[===                                               ] 7.92%\n",
      "Testing pipeline_2D_thr_0.2_norm_percentile_0_7 pipeline\n"
     ]
    },
    {
     "name": "stderr",
     "output_type": "stream",
     "text": [
      "100%|██████████| 19/19 [00:00<00:00, 6229.81it/s]\n"
     ]
    },
    {
     "name": "stdout",
     "output_type": "stream",
     "text": [
      "[====                                              ] 8.04%\n",
      "Testing pipeline_2D_thr_0.2_norm_percentile_0_8 pipeline\n"
     ]
    },
    {
     "name": "stderr",
     "output_type": "stream",
     "text": [
      "100%|██████████| 19/19 [00:00<00:00, 3118.32it/s]\n"
     ]
    },
    {
     "name": "stdout",
     "output_type": "stream",
     "text": [
      "[====                                              ] 8.15%\n",
      "Testing pipeline_2D_thr_0.2_norm_percentile_0_9 pipeline\n"
     ]
    },
    {
     "name": "stderr",
     "output_type": "stream",
     "text": [
      "100%|██████████| 19/19 [00:00<00:00, 5043.78it/s]\n"
     ]
    },
    {
     "name": "stdout",
     "output_type": "stream",
     "text": [
      "[====                                              ] 8.26%\n",
      "Testing pipeline_2D_thr_0.2_norm_percentile_0_10 pipeline\n"
     ]
    },
    {
     "name": "stderr",
     "output_type": "stream",
     "text": [
      "100%|██████████| 19/19 [00:00<00:00, 5898.73it/s]\n"
     ]
    },
    {
     "name": "stdout",
     "output_type": "stream",
     "text": [
      "[====                                              ] 8.37%\n",
      "Testing pipeline_2D_thr_0.2_norm_percentile_0_11 pipeline\n"
     ]
    },
    {
     "name": "stderr",
     "output_type": "stream",
     "text": [
      "100%|██████████| 19/19 [00:00<00:00, 5794.08it/s]\n"
     ]
    },
    {
     "name": "stdout",
     "output_type": "stream",
     "text": [
      "[====                                              ] 8.48%\n",
      "Testing pipeline_2D_thr_0.2_norm_percentile_0_12 pipeline\n"
     ]
    },
    {
     "name": "stderr",
     "output_type": "stream",
     "text": [
      "100%|██████████| 19/19 [00:00<00:00, 6858.16it/s]\n"
     ]
    },
    {
     "name": "stdout",
     "output_type": "stream",
     "text": [
      "[====                                              ] 8.59%\n",
      "Testing pipeline_2D_thr_0.2_norm_percentile_0_13 pipeline\n"
     ]
    },
    {
     "name": "stderr",
     "output_type": "stream",
     "text": [
      "100%|██████████| 19/19 [00:00<00:00, 3728.27it/s]\n"
     ]
    },
    {
     "name": "stdout",
     "output_type": "stream",
     "text": [
      "[====                                              ] 8.71%\n",
      "Testing pipeline_2D_thr_0.2_norm_percentile_0_14 pipeline\n"
     ]
    },
    {
     "name": "stderr",
     "output_type": "stream",
     "text": [
      "100%|██████████| 19/19 [00:00<00:00, 6252.79it/s]\n"
     ]
    },
    {
     "name": "stdout",
     "output_type": "stream",
     "text": [
      "[====                                              ] 8.82%\n",
      "Testing pipeline_2D_thr_0.2_norm_percentile_0_15 pipeline\n"
     ]
    },
    {
     "name": "stderr",
     "output_type": "stream",
     "text": [
      "100%|██████████| 19/19 [00:00<00:00, 6178.14it/s]"
     ]
    },
    {
     "name": "stdout",
     "output_type": "stream",
     "text": [
      "[====                                              ] 8.93%"
     ]
    },
    {
     "name": "stderr",
     "output_type": "stream",
     "text": [
      "\n"
     ]
    },
    {
     "name": "stdout",
     "output_type": "stream",
     "text": [
      "\n",
      "Testing pipeline_2D_thr_0.2_norm_percentile_1_0 pipeline\n"
     ]
    },
    {
     "name": "stderr",
     "output_type": "stream",
     "text": [
      "100%|██████████| 19/19 [00:00<00:00, 6154.76it/s]"
     ]
    },
    {
     "name": "stdout",
     "output_type": "stream",
     "text": [
      "[====                                              ] 9.04%"
     ]
    },
    {
     "name": "stderr",
     "output_type": "stream",
     "text": [
      "\n"
     ]
    },
    {
     "name": "stdout",
     "output_type": "stream",
     "text": [
      "\n",
      "Testing pipeline_2D_thr_0.2_norm_percentile_1_1 pipeline\n"
     ]
    },
    {
     "name": "stderr",
     "output_type": "stream",
     "text": [
      "100%|██████████| 19/19 [00:00<00:00, 6473.74it/s]"
     ]
    },
    {
     "name": "stdout",
     "output_type": "stream",
     "text": [
      "[====                                              ] 9.15%"
     ]
    },
    {
     "name": "stderr",
     "output_type": "stream",
     "text": [
      "\n"
     ]
    },
    {
     "name": "stdout",
     "output_type": "stream",
     "text": [
      "\n",
      "Testing pipeline_2D_thr_0.2_norm_percentile_1_2 pipeline\n"
     ]
    },
    {
     "name": "stderr",
     "output_type": "stream",
     "text": [
      "100%|██████████| 19/19 [00:00<00:00, 6177.66it/s]\n"
     ]
    },
    {
     "name": "stdout",
     "output_type": "stream",
     "text": [
      "[====                                              ] 9.26%\n",
      "Testing pipeline_2D_thr_0.2_norm_percentile_1_3 pipeline\n"
     ]
    },
    {
     "name": "stderr",
     "output_type": "stream",
     "text": [
      "100%|██████████| 19/19 [00:00<00:00, 6937.56it/s]"
     ]
    },
    {
     "name": "stdout",
     "output_type": "stream",
     "text": [
      "[====                                              ] 9.38%"
     ]
    },
    {
     "name": "stderr",
     "output_type": "stream",
     "text": [
      "\n"
     ]
    },
    {
     "name": "stdout",
     "output_type": "stream",
     "text": [
      "\n",
      "Testing pipeline_2D_thr_0.2_norm_percentile_1_4 pipeline\n"
     ]
    },
    {
     "name": "stderr",
     "output_type": "stream",
     "text": [
      "100%|██████████| 19/19 [00:00<00:00, 5224.66it/s]\n"
     ]
    },
    {
     "name": "stdout",
     "output_type": "stream",
     "text": [
      "[====                                              ] 9.49%\n",
      "Testing pipeline_2D_thr_0.2_norm_percentile_1_5 pipeline\n"
     ]
    },
    {
     "name": "stderr",
     "output_type": "stream",
     "text": [
      "100%|██████████| 19/19 [00:00<00:00, 5537.23it/s]"
     ]
    },
    {
     "name": "stdout",
     "output_type": "stream",
     "text": [
      "[====                                              ] 9.60%"
     ]
    },
    {
     "name": "stderr",
     "output_type": "stream",
     "text": [
      "\n"
     ]
    },
    {
     "name": "stdout",
     "output_type": "stream",
     "text": [
      "\n",
      "Testing pipeline_2D_thr_0.2_norm_percentile_1_6 pipeline\n"
     ]
    },
    {
     "name": "stderr",
     "output_type": "stream",
     "text": [
      "100%|██████████| 19/19 [00:00<00:00, 6963.02it/s]\n"
     ]
    },
    {
     "name": "stdout",
     "output_type": "stream",
     "text": [
      "[====                                              ] 9.71%\n",
      "Testing pipeline_2D_thr_0.2_norm_percentile_1_7 pipeline\n"
     ]
    },
    {
     "name": "stderr",
     "output_type": "stream",
     "text": [
      "100%|██████████| 19/19 [00:00<00:00, 7303.80it/s]\n"
     ]
    },
    {
     "name": "stdout",
     "output_type": "stream",
     "text": [
      "[====                                              ] 9.82%\n",
      "Testing pipeline_2D_thr_0.2_norm_percentile_1_8 pipeline\n"
     ]
    },
    {
     "name": "stderr",
     "output_type": "stream",
     "text": [
      "100%|██████████| 19/19 [00:00<00:00, 7688.55it/s]\n"
     ]
    },
    {
     "name": "stdout",
     "output_type": "stream",
     "text": [
      "[====                                              ] 9.93%\n",
      "Testing pipeline_2D_thr_0.2_norm_percentile_1_9 pipeline\n"
     ]
    },
    {
     "name": "stderr",
     "output_type": "stream",
     "text": [
      "100%|██████████| 19/19 [00:00<00:00, 5740.66it/s]\n"
     ]
    },
    {
     "name": "stdout",
     "output_type": "stream",
     "text": [
      "[=====                                             ] 10.04%\n",
      "Testing pipeline_2D_thr_0.2_norm_percentile_1_10 pipeline\n"
     ]
    },
    {
     "name": "stderr",
     "output_type": "stream",
     "text": [
      "100%|██████████| 19/19 [00:00<00:00, 4620.62it/s]\n"
     ]
    },
    {
     "name": "stdout",
     "output_type": "stream",
     "text": [
      "[=====                                             ] 10.16%\n",
      "Testing pipeline_2D_thr_0.2_norm_percentile_1_11 pipeline\n"
     ]
    },
    {
     "name": "stderr",
     "output_type": "stream",
     "text": [
      "100%|██████████| 19/19 [00:00<00:00, 6193.98it/s]\n"
     ]
    },
    {
     "name": "stdout",
     "output_type": "stream",
     "text": [
      "[=====                                             ] 10.27%\n",
      "Testing pipeline_2D_thr_0.2_norm_percentile_1_12 pipeline\n"
     ]
    },
    {
     "name": "stderr",
     "output_type": "stream",
     "text": [
      "100%|██████████| 19/19 [00:00<00:00, 7751.36it/s]\n"
     ]
    },
    {
     "name": "stdout",
     "output_type": "stream",
     "text": [
      "[=====                                             ] 10.38%\n",
      "Testing pipeline_2D_thr_0.2_norm_percentile_1_13 pipeline\n"
     ]
    },
    {
     "name": "stderr",
     "output_type": "stream",
     "text": [
      "100%|██████████| 19/19 [00:00<00:00, 6156.18it/s]\n"
     ]
    },
    {
     "name": "stdout",
     "output_type": "stream",
     "text": [
      "[=====                                             ] 10.49%\n",
      "Testing pipeline_2D_thr_0.2_norm_percentile_1_14 pipeline\n"
     ]
    },
    {
     "name": "stderr",
     "output_type": "stream",
     "text": [
      "100%|██████████| 19/19 [00:00<00:00, 4134.25it/s]\n"
     ]
    },
    {
     "name": "stdout",
     "output_type": "stream",
     "text": [
      "[=====                                             ] 10.60%\n",
      "Testing pipeline_2D_thr_0.2_norm_percentile_1_15 pipeline\n"
     ]
    },
    {
     "name": "stderr",
     "output_type": "stream",
     "text": [
      "100%|██████████| 19/19 [00:00<00:00, 5682.53it/s]"
     ]
    },
    {
     "name": "stdout",
     "output_type": "stream",
     "text": [
      "[=====                                             ] 10.71%"
     ]
    },
    {
     "name": "stderr",
     "output_type": "stream",
     "text": [
      "\n"
     ]
    },
    {
     "name": "stdout",
     "output_type": "stream",
     "text": [
      "\n",
      "Testing pipeline_2D_thr_0.2_norm_percentile_2_0 pipeline\n"
     ]
    },
    {
     "name": "stderr",
     "output_type": "stream",
     "text": [
      "100%|██████████| 19/19 [00:00<00:00, 4201.38it/s]"
     ]
    },
    {
     "name": "stdout",
     "output_type": "stream",
     "text": [
      "[=====                                             ] 10.83%"
     ]
    },
    {
     "name": "stderr",
     "output_type": "stream",
     "text": [
      "\n"
     ]
    },
    {
     "name": "stdout",
     "output_type": "stream",
     "text": [
      "\n",
      "Testing pipeline_2D_thr_0.2_norm_percentile_2_1 pipeline\n"
     ]
    },
    {
     "name": "stderr",
     "output_type": "stream",
     "text": [
      "100%|██████████| 19/19 [00:00<00:00, 5955.59it/s]"
     ]
    },
    {
     "name": "stdout",
     "output_type": "stream",
     "text": [
      "[=====                                             ] 10.94%"
     ]
    },
    {
     "name": "stderr",
     "output_type": "stream",
     "text": [
      "\n"
     ]
    },
    {
     "name": "stdout",
     "output_type": "stream",
     "text": [
      "\n",
      "Testing pipeline_2D_thr_0.2_norm_percentile_2_2 pipeline\n"
     ]
    },
    {
     "name": "stderr",
     "output_type": "stream",
     "text": [
      "100%|██████████| 19/19 [00:00<00:00, 7185.91it/s]\n"
     ]
    },
    {
     "name": "stdout",
     "output_type": "stream",
     "text": [
      "[=====                                             ] 11.05%\n",
      "Testing pipeline_2D_thr_0.2_norm_percentile_2_3 pipeline\n"
     ]
    },
    {
     "name": "stderr",
     "output_type": "stream",
     "text": [
      "100%|██████████| 19/19 [00:00<00:00, 4690.51it/s]"
     ]
    },
    {
     "name": "stdout",
     "output_type": "stream",
     "text": [
      "[=====                                             ] 11.16%"
     ]
    },
    {
     "name": "stderr",
     "output_type": "stream",
     "text": [
      "\n"
     ]
    },
    {
     "name": "stdout",
     "output_type": "stream",
     "text": [
      "\n",
      "Testing pipeline_2D_thr_0.2_norm_percentile_2_4 pipeline\n"
     ]
    },
    {
     "name": "stderr",
     "output_type": "stream",
     "text": [
      "100%|██████████| 19/19 [00:00<00:00, 5999.08it/s]\n"
     ]
    },
    {
     "name": "stdout",
     "output_type": "stream",
     "text": [
      "[=====                                             ] 11.27%\n",
      "Testing pipeline_2D_thr_0.2_norm_percentile_2_5 pipeline\n"
     ]
    },
    {
     "name": "stderr",
     "output_type": "stream",
     "text": [
      "100%|██████████| 19/19 [00:00<00:00, 6333.79it/s]"
     ]
    },
    {
     "name": "stdout",
     "output_type": "stream",
     "text": [
      "[=====                                             ] 11.38%"
     ]
    },
    {
     "name": "stderr",
     "output_type": "stream",
     "text": [
      "\n"
     ]
    },
    {
     "name": "stdout",
     "output_type": "stream",
     "text": [
      "\n",
      "Testing pipeline_2D_thr_0.2_norm_percentile_2_6 pipeline\n"
     ]
    },
    {
     "name": "stderr",
     "output_type": "stream",
     "text": [
      "100%|██████████| 19/19 [00:00<00:00, 7257.90it/s]\n"
     ]
    },
    {
     "name": "stdout",
     "output_type": "stream",
     "text": [
      "[=====                                             ] 11.50%\n",
      "Testing pipeline_2D_thr_0.2_norm_percentile_2_7 pipeline\n"
     ]
    },
    {
     "name": "stderr",
     "output_type": "stream",
     "text": [
      "100%|██████████| 19/19 [00:00<00:00, 6229.33it/s]\n"
     ]
    },
    {
     "name": "stdout",
     "output_type": "stream",
     "text": [
      "[=====                                             ] 11.61%\n",
      "Testing pipeline_2D_thr_0.2_norm_percentile_2_8 pipeline\n"
     ]
    },
    {
     "name": "stderr",
     "output_type": "stream",
     "text": [
      "100%|██████████| 19/19 [00:00<00:00, 3093.87it/s]\n"
     ]
    },
    {
     "name": "stdout",
     "output_type": "stream",
     "text": [
      "[=====                                             ] 11.72%\n",
      "Testing pipeline_2D_thr_0.2_norm_percentile_2_9 pipeline\n"
     ]
    },
    {
     "name": "stderr",
     "output_type": "stream",
     "text": [
      "100%|██████████| 19/19 [00:00<00:00, 6496.44it/s]\n"
     ]
    },
    {
     "name": "stdout",
     "output_type": "stream",
     "text": [
      "[=====                                             ] 11.83%\n",
      "Testing pipeline_2D_thr_0.2_norm_percentile_2_10 pipeline\n"
     ]
    },
    {
     "name": "stderr",
     "output_type": "stream",
     "text": [
      "100%|██████████| 19/19 [00:00<00:00, 6537.47it/s]\n"
     ]
    },
    {
     "name": "stdout",
     "output_type": "stream",
     "text": [
      "[=====                                             ] 11.94%\n",
      "Testing pipeline_2D_thr_0.2_norm_percentile_2_11 pipeline\n"
     ]
    },
    {
     "name": "stderr",
     "output_type": "stream",
     "text": [
      "100%|██████████| 19/19 [00:00<00:00, 6701.29it/s]\n"
     ]
    },
    {
     "name": "stdout",
     "output_type": "stream",
     "text": [
      "[======                                            ] 12.05%\n",
      "Testing pipeline_2D_thr_0.2_norm_percentile_2_12 pipeline\n"
     ]
    },
    {
     "name": "stderr",
     "output_type": "stream",
     "text": [
      "100%|██████████| 19/19 [00:00<00:00, 6229.81it/s]\n"
     ]
    },
    {
     "name": "stdout",
     "output_type": "stream",
     "text": [
      "[======                                            ] 12.17%\n",
      "Testing pipeline_2D_thr_0.2_norm_percentile_2_13 pipeline\n"
     ]
    },
    {
     "name": "stderr",
     "output_type": "stream",
     "text": [
      "100%|██████████| 19/19 [00:00<00:00, 4307.66it/s]\n"
     ]
    },
    {
     "name": "stdout",
     "output_type": "stream",
     "text": [
      "[======                                            ] 12.28%\n",
      "Testing pipeline_2D_thr_0.2_norm_percentile_2_14 pipeline\n"
     ]
    },
    {
     "name": "stderr",
     "output_type": "stream",
     "text": [
      "100%|██████████| 19/19 [00:00<00:00, 5524.18it/s]\n"
     ]
    },
    {
     "name": "stdout",
     "output_type": "stream",
     "text": [
      "[======                                            ] 12.39%\n",
      "Testing pipeline_2D_thr_0.2_norm_percentile_2_15 pipeline\n"
     ]
    },
    {
     "name": "stderr",
     "output_type": "stream",
     "text": [
      "100%|██████████| 19/19 [00:00<00:00, 6132.02it/s]"
     ]
    },
    {
     "name": "stdout",
     "output_type": "stream",
     "text": [
      "[======                                            ] 12.50%"
     ]
    },
    {
     "name": "stderr",
     "output_type": "stream",
     "text": [
      "\n"
     ]
    },
    {
     "name": "stdout",
     "output_type": "stream",
     "text": [
      "\n",
      "Testing pipeline_2D_thr_0.2_norm_percentile_3_0 pipeline\n"
     ]
    },
    {
     "name": "stderr",
     "output_type": "stream",
     "text": [
      "100%|██████████| 19/19 [00:00<00:00, 5884.79it/s]"
     ]
    },
    {
     "name": "stdout",
     "output_type": "stream",
     "text": [
      "[======                                            ] 12.61%"
     ]
    },
    {
     "name": "stderr",
     "output_type": "stream",
     "text": [
      "\n"
     ]
    },
    {
     "name": "stdout",
     "output_type": "stream",
     "text": [
      "\n",
      "Testing pipeline_2D_thr_0.2_norm_percentile_3_1 pipeline\n"
     ]
    },
    {
     "name": "stderr",
     "output_type": "stream",
     "text": [
      "100%|██████████| 19/19 [00:00<00:00, 5562.74it/s]"
     ]
    },
    {
     "name": "stdout",
     "output_type": "stream",
     "text": [
      "[======                                            ] 12.72%"
     ]
    },
    {
     "name": "stderr",
     "output_type": "stream",
     "text": [
      "\n"
     ]
    },
    {
     "name": "stdout",
     "output_type": "stream",
     "text": [
      "\n",
      "Testing pipeline_2D_thr_0.2_norm_percentile_3_2 pipeline\n"
     ]
    },
    {
     "name": "stderr",
     "output_type": "stream",
     "text": [
      "100%|██████████| 19/19 [00:00<00:00, 7376.82it/s]\n"
     ]
    },
    {
     "name": "stdout",
     "output_type": "stream",
     "text": [
      "[======                                            ] 12.83%\n",
      "Testing pipeline_2D_thr_0.2_norm_percentile_3_3 pipeline\n"
     ]
    },
    {
     "name": "stderr",
     "output_type": "stream",
     "text": [
      "100%|██████████| 19/19 [00:00<00:00, 7840.59it/s]"
     ]
    },
    {
     "name": "stdout",
     "output_type": "stream",
     "text": [
      "[======                                            ] 12.95%"
     ]
    },
    {
     "name": "stderr",
     "output_type": "stream",
     "text": [
      "\n"
     ]
    },
    {
     "name": "stdout",
     "output_type": "stream",
     "text": [
      "\n",
      "Testing pipeline_2D_thr_0.2_norm_percentile_3_4 pipeline\n"
     ]
    },
    {
     "name": "stderr",
     "output_type": "stream",
     "text": [
      "100%|██████████| 19/19 [00:00<00:00, 5845.93it/s]\n"
     ]
    },
    {
     "name": "stdout",
     "output_type": "stream",
     "text": [
      "[======                                            ] 13.06%\n",
      "Testing pipeline_2D_thr_0.2_norm_percentile_3_5 pipeline\n"
     ]
    },
    {
     "name": "stderr",
     "output_type": "stream",
     "text": [
      "100%|██████████| 19/19 [00:00<00:00, 4787.73it/s]"
     ]
    },
    {
     "name": "stdout",
     "output_type": "stream",
     "text": [
      "[======                                            ] 13.17%"
     ]
    },
    {
     "name": "stderr",
     "output_type": "stream",
     "text": [
      "\n"
     ]
    },
    {
     "name": "stdout",
     "output_type": "stream",
     "text": [
      "\n",
      "Testing pipeline_2D_thr_0.2_norm_percentile_3_6 pipeline\n"
     ]
    },
    {
     "name": "stderr",
     "output_type": "stream",
     "text": [
      "100%|██████████| 19/19 [00:00<00:00, 4152.56it/s]\n"
     ]
    },
    {
     "name": "stdout",
     "output_type": "stream",
     "text": [
      "[======                                            ] 13.28%\n",
      "Testing pipeline_2D_thr_0.2_norm_percentile_3_7 pipeline\n"
     ]
    },
    {
     "name": "stderr",
     "output_type": "stream",
     "text": [
      "100%|██████████| 19/19 [00:00<00:00, 5866.59it/s]\n"
     ]
    },
    {
     "name": "stdout",
     "output_type": "stream",
     "text": [
      "[======                                            ] 13.39%\n",
      "Testing pipeline_2D_thr_0.2_norm_percentile_3_8 pipeline\n"
     ]
    },
    {
     "name": "stderr",
     "output_type": "stream",
     "text": [
      "100%|██████████| 19/19 [00:00<00:00, 6635.45it/s]\n"
     ]
    },
    {
     "name": "stdout",
     "output_type": "stream",
     "text": [
      "[======                                            ] 13.50%\n",
      "Testing pipeline_2D_thr_0.2_norm_percentile_3_9 pipeline\n"
     ]
    },
    {
     "name": "stderr",
     "output_type": "stream",
     "text": [
      "100%|██████████| 19/19 [00:00<00:00, 5956.48it/s]\n"
     ]
    },
    {
     "name": "stdout",
     "output_type": "stream",
     "text": [
      "[======                                            ] 13.62%\n",
      "Testing pipeline_2D_thr_0.2_norm_percentile_3_10 pipeline\n"
     ]
    },
    {
     "name": "stderr",
     "output_type": "stream",
     "text": [
      "100%|██████████| 19/19 [00:00<00:00, 4986.03it/s]\n"
     ]
    },
    {
     "name": "stdout",
     "output_type": "stream",
     "text": [
      "[======                                            ] 13.73%\n",
      "Testing pipeline_2D_thr_0.2_norm_percentile_3_11 pipeline\n"
     ]
    },
    {
     "name": "stderr",
     "output_type": "stream",
     "text": [
      "100%|██████████| 19/19 [00:00<00:00, 4551.73it/s]\n"
     ]
    },
    {
     "name": "stdout",
     "output_type": "stream",
     "text": [
      "[======                                            ] 13.84%\n",
      "Testing pipeline_2D_thr_0.2_norm_percentile_3_12 pipeline\n"
     ]
    },
    {
     "name": "stderr",
     "output_type": "stream",
     "text": [
      "100%|██████████| 19/19 [00:00<00:00, 6244.95it/s]\n"
     ]
    },
    {
     "name": "stdout",
     "output_type": "stream",
     "text": [
      "[======                                            ] 13.95%\n",
      "Testing pipeline_2D_thr_0.2_norm_percentile_3_13 pipeline\n"
     ]
    },
    {
     "name": "stderr",
     "output_type": "stream",
     "text": [
      "100%|██████████| 19/19 [00:00<00:00, 5996.82it/s]\n"
     ]
    },
    {
     "name": "stdout",
     "output_type": "stream",
     "text": [
      "[=======                                           ] 14.06%\n",
      "Testing pipeline_2D_thr_0.2_norm_percentile_3_14 pipeline\n"
     ]
    },
    {
     "name": "stderr",
     "output_type": "stream",
     "text": [
      "100%|██████████| 19/19 [00:00<00:00, 6693.98it/s]\n"
     ]
    },
    {
     "name": "stdout",
     "output_type": "stream",
     "text": [
      "[=======                                           ] 14.17%\n",
      "Testing pipeline_2D_thr_0.2_norm_percentile_3_15 pipeline\n"
     ]
    },
    {
     "name": "stderr",
     "output_type": "stream",
     "text": [
      "100%|██████████| 19/19 [00:00<00:00, 6556.30it/s]"
     ]
    },
    {
     "name": "stdout",
     "output_type": "stream",
     "text": [
      "[=======                                           ] 14.29%"
     ]
    },
    {
     "name": "stderr",
     "output_type": "stream",
     "text": [
      "\n"
     ]
    },
    {
     "name": "stdout",
     "output_type": "stream",
     "text": [
      "\n",
      "Testing pipeline_2D_thr_0.3_norm_minmax_0_0 pipeline\n"
     ]
    },
    {
     "name": "stderr",
     "output_type": "stream",
     "text": [
      "100%|██████████| 19/19 [00:00<00:00, 5715.54it/s]"
     ]
    },
    {
     "name": "stdout",
     "output_type": "stream",
     "text": [
      "[=======                                           ] 14.40%"
     ]
    },
    {
     "name": "stderr",
     "output_type": "stream",
     "text": [
      "\n"
     ]
    },
    {
     "name": "stdout",
     "output_type": "stream",
     "text": [
      "\n",
      "Testing pipeline_2D_thr_0.3_norm_minmax_0_1 pipeline\n"
     ]
    },
    {
     "name": "stderr",
     "output_type": "stream",
     "text": [
      "100%|██████████| 19/19 [00:00<00:00, 5651.90it/s]"
     ]
    },
    {
     "name": "stdout",
     "output_type": "stream",
     "text": [
      "[=======                                           ] 14.51%"
     ]
    },
    {
     "name": "stderr",
     "output_type": "stream",
     "text": [
      "\n"
     ]
    },
    {
     "name": "stdout",
     "output_type": "stream",
     "text": [
      "\n",
      "Testing pipeline_2D_thr_0.3_norm_minmax_0_2 pipeline\n"
     ]
    },
    {
     "name": "stderr",
     "output_type": "stream",
     "text": [
      "100%|██████████| 19/19 [00:00<00:00, 6051.93it/s]\n"
     ]
    },
    {
     "name": "stdout",
     "output_type": "stream",
     "text": [
      "[=======                                           ] 14.62%\n",
      "Testing pipeline_2D_thr_0.3_norm_minmax_0_3 pipeline\n"
     ]
    },
    {
     "name": "stderr",
     "output_type": "stream",
     "text": [
      "100%|██████████| 19/19 [00:00<00:00, 5068.48it/s]"
     ]
    },
    {
     "name": "stdout",
     "output_type": "stream",
     "text": [
      "[=======                                           ] 14.73%"
     ]
    },
    {
     "name": "stderr",
     "output_type": "stream",
     "text": [
      "\n"
     ]
    },
    {
     "name": "stdout",
     "output_type": "stream",
     "text": [
      "\n",
      "Testing pipeline_2D_thr_0.3_norm_minmax_0_4 pipeline\n"
     ]
    },
    {
     "name": "stderr",
     "output_type": "stream",
     "text": [
      "100%|██████████| 19/19 [00:00<00:00, 6371.77it/s]\n"
     ]
    },
    {
     "name": "stdout",
     "output_type": "stream",
     "text": [
      "[=======                                           ] 14.84%\n",
      "Testing pipeline_2D_thr_0.3_norm_minmax_0_5 pipeline\n"
     ]
    },
    {
     "name": "stderr",
     "output_type": "stream",
     "text": [
      "100%|██████████| 19/19 [00:00<00:00, 6796.16it/s]"
     ]
    },
    {
     "name": "stdout",
     "output_type": "stream",
     "text": [
      "[=======                                           ] 14.96%"
     ]
    },
    {
     "name": "stderr",
     "output_type": "stream",
     "text": [
      "\n"
     ]
    },
    {
     "name": "stdout",
     "output_type": "stream",
     "text": [
      "\n",
      "Testing pipeline_2D_thr_0.3_norm_minmax_0_6 pipeline\n"
     ]
    },
    {
     "name": "stderr",
     "output_type": "stream",
     "text": [
      "100%|██████████| 19/19 [00:00<00:00, 5713.90it/s]\n"
     ]
    },
    {
     "name": "stdout",
     "output_type": "stream",
     "text": [
      "[=======                                           ] 15.07%\n",
      "Testing pipeline_2D_thr_0.3_norm_minmax_0_7 pipeline\n"
     ]
    },
    {
     "name": "stderr",
     "output_type": "stream",
     "text": [
      "100%|██████████| 19/19 [00:00<00:00, 6140.06it/s]\n"
     ]
    },
    {
     "name": "stdout",
     "output_type": "stream",
     "text": [
      "[=======                                           ] 15.18%\n",
      "Testing pipeline_2D_thr_0.3_norm_minmax_0_8 pipeline\n"
     ]
    },
    {
     "name": "stderr",
     "output_type": "stream",
     "text": [
      "100%|██████████| 19/19 [00:00<00:00, 5740.66it/s]\n"
     ]
    },
    {
     "name": "stdout",
     "output_type": "stream",
     "text": [
      "[=======                                           ] 15.29%\n",
      "Testing pipeline_2D_thr_0.3_norm_minmax_0_9 pipeline\n"
     ]
    },
    {
     "name": "stderr",
     "output_type": "stream",
     "text": [
      "100%|██████████| 19/19 [00:00<00:00, 7657.52it/s]\n"
     ]
    },
    {
     "name": "stdout",
     "output_type": "stream",
     "text": [
      "[=======                                           ] 15.40%\n",
      "Testing pipeline_2D_thr_0.3_norm_minmax_0_10 pipeline\n"
     ]
    },
    {
     "name": "stderr",
     "output_type": "stream",
     "text": [
      "100%|██████████| 19/19 [00:00<00:00, 7547.28it/s]\n"
     ]
    },
    {
     "name": "stdout",
     "output_type": "stream",
     "text": [
      "[=======                                           ] 15.51%\n",
      "Testing pipeline_2D_thr_0.3_norm_minmax_0_11 pipeline\n"
     ]
    },
    {
     "name": "stderr",
     "output_type": "stream",
     "text": [
      "100%|██████████| 19/19 [00:00<00:00, 7018.83it/s]\n"
     ]
    },
    {
     "name": "stdout",
     "output_type": "stream",
     "text": [
      "[=======                                           ] 15.62%\n",
      "Testing pipeline_2D_thr_0.3_norm_minmax_0_12 pipeline\n"
     ]
    },
    {
     "name": "stderr",
     "output_type": "stream",
     "text": [
      "100%|██████████| 19/19 [00:00<00:00, 7024.40it/s]\n"
     ]
    },
    {
     "name": "stdout",
     "output_type": "stream",
     "text": [
      "[=======                                           ] 15.74%\n",
      "Testing pipeline_2D_thr_0.3_norm_minmax_0_13 pipeline\n"
     ]
    },
    {
     "name": "stderr",
     "output_type": "stream",
     "text": [
      "100%|██████████| 19/19 [00:00<00:00, 5817.34it/s]\n"
     ]
    },
    {
     "name": "stdout",
     "output_type": "stream",
     "text": [
      "[=======                                           ] 15.85%\n",
      "Testing pipeline_2D_thr_0.3_norm_minmax_0_14 pipeline\n"
     ]
    },
    {
     "name": "stderr",
     "output_type": "stream",
     "text": [
      "100%|██████████| 19/19 [00:00<00:00, 7420.78it/s]\n"
     ]
    },
    {
     "name": "stdout",
     "output_type": "stream",
     "text": [
      "[=======                                           ] 15.96%\n",
      "Testing pipeline_2D_thr_0.3_norm_minmax_0_15 pipeline\n"
     ]
    },
    {
     "name": "stderr",
     "output_type": "stream",
     "text": [
      "100%|██████████| 19/19 [00:00<00:00, 5778.53it/s]"
     ]
    },
    {
     "name": "stdout",
     "output_type": "stream",
     "text": [
      "[========                                          ] 16.07%"
     ]
    },
    {
     "name": "stderr",
     "output_type": "stream",
     "text": [
      "\n"
     ]
    },
    {
     "name": "stdout",
     "output_type": "stream",
     "text": [
      "\n",
      "Testing pipeline_2D_thr_0.3_norm_minmax_1_0 pipeline\n"
     ]
    },
    {
     "name": "stderr",
     "output_type": "stream",
     "text": [
      "100%|██████████| 19/19 [00:00<00:00, 7078.05it/s]"
     ]
    },
    {
     "name": "stdout",
     "output_type": "stream",
     "text": [
      "[========                                          ] 16.18%"
     ]
    },
    {
     "name": "stderr",
     "output_type": "stream",
     "text": [
      "\n"
     ]
    },
    {
     "name": "stdout",
     "output_type": "stream",
     "text": [
      "\n",
      "Testing pipeline_2D_thr_0.3_norm_minmax_1_1 pipeline\n"
     ]
    },
    {
     "name": "stderr",
     "output_type": "stream",
     "text": [
      "100%|██████████| 19/19 [00:00<00:00, 6729.59it/s]"
     ]
    },
    {
     "name": "stdout",
     "output_type": "stream",
     "text": [
      "[========                                          ] 16.29%"
     ]
    },
    {
     "name": "stderr",
     "output_type": "stream",
     "text": [
      "\n"
     ]
    },
    {
     "name": "stdout",
     "output_type": "stream",
     "text": [
      "\n",
      "Testing pipeline_2D_thr_0.3_norm_minmax_1_2 pipeline\n"
     ]
    },
    {
     "name": "stderr",
     "output_type": "stream",
     "text": [
      "100%|██████████| 19/19 [00:00<00:00, 2834.90it/s]\n"
     ]
    },
    {
     "name": "stdout",
     "output_type": "stream",
     "text": [
      "[========                                          ] 16.41%\n",
      "Testing pipeline_2D_thr_0.3_norm_minmax_1_3 pipeline\n"
     ]
    },
    {
     "name": "stderr",
     "output_type": "stream",
     "text": [
      "100%|██████████| 19/19 [00:00<00:00, 6927.31it/s]"
     ]
    },
    {
     "name": "stdout",
     "output_type": "stream",
     "text": [
      "[========                                          ] 16.52%"
     ]
    },
    {
     "name": "stderr",
     "output_type": "stream",
     "text": [
      "\n"
     ]
    },
    {
     "name": "stdout",
     "output_type": "stream",
     "text": [
      "\n",
      "Testing pipeline_2D_thr_0.3_norm_minmax_1_4 pipeline\n"
     ]
    },
    {
     "name": "stderr",
     "output_type": "stream",
     "text": [
      "100%|██████████| 19/19 [00:00<00:00, 6751.82it/s]\n"
     ]
    },
    {
     "name": "stdout",
     "output_type": "stream",
     "text": [
      "[========                                          ] 16.63%\n",
      "Testing pipeline_2D_thr_0.3_norm_minmax_1_5 pipeline\n"
     ]
    },
    {
     "name": "stderr",
     "output_type": "stream",
     "text": [
      "100%|██████████| 19/19 [00:00<00:00, 6245.93it/s]"
     ]
    },
    {
     "name": "stdout",
     "output_type": "stream",
     "text": [
      "[========                                          ] 16.74%"
     ]
    },
    {
     "name": "stderr",
     "output_type": "stream",
     "text": [
      "\n"
     ]
    },
    {
     "name": "stdout",
     "output_type": "stream",
     "text": [
      "\n",
      "Testing pipeline_2D_thr_0.3_norm_minmax_1_6 pipeline\n"
     ]
    },
    {
     "name": "stderr",
     "output_type": "stream",
     "text": [
      "100%|██████████| 19/19 [00:00<00:00, 6145.74it/s]\n"
     ]
    },
    {
     "name": "stdout",
     "output_type": "stream",
     "text": [
      "[========                                          ] 16.85%\n",
      "Testing pipeline_2D_thr_0.3_norm_minmax_1_7 pipeline\n"
     ]
    },
    {
     "name": "stderr",
     "output_type": "stream",
     "text": [
      "100%|██████████| 19/19 [00:00<00:00, 6445.99it/s]\n"
     ]
    },
    {
     "name": "stdout",
     "output_type": "stream",
     "text": [
      "[========                                          ] 16.96%\n",
      "Testing pipeline_2D_thr_0.3_norm_minmax_1_8 pipeline\n"
     ]
    },
    {
     "name": "stderr",
     "output_type": "stream",
     "text": [
      "100%|██████████| 19/19 [00:00<00:00, 6456.96it/s]\n"
     ]
    },
    {
     "name": "stdout",
     "output_type": "stream",
     "text": [
      "[========                                          ] 17.08%\n",
      "Testing pipeline_2D_thr_0.3_norm_minmax_1_9 pipeline\n"
     ]
    },
    {
     "name": "stderr",
     "output_type": "stream",
     "text": [
      "100%|██████████| 19/19 [00:00<00:00, 6737.55it/s]\n"
     ]
    },
    {
     "name": "stdout",
     "output_type": "stream",
     "text": [
      "[========                                          ] 17.19%\n",
      "Testing pipeline_2D_thr_0.3_norm_minmax_1_10 pipeline\n"
     ]
    },
    {
     "name": "stderr",
     "output_type": "stream",
     "text": [
      "100%|██████████| 19/19 [00:00<00:00, 4321.45it/s]\n"
     ]
    },
    {
     "name": "stdout",
     "output_type": "stream",
     "text": [
      "[========                                          ] 17.30%\n",
      "Testing pipeline_2D_thr_0.3_norm_minmax_1_11 pipeline\n"
     ]
    },
    {
     "name": "stderr",
     "output_type": "stream",
     "text": [
      "100%|██████████| 19/19 [00:00<00:00, 4405.05it/s]\n"
     ]
    },
    {
     "name": "stdout",
     "output_type": "stream",
     "text": [
      "[========                                          ] 17.41%\n",
      "Testing pipeline_2D_thr_0.3_norm_minmax_1_12 pipeline\n"
     ]
    },
    {
     "name": "stderr",
     "output_type": "stream",
     "text": [
      "100%|██████████| 19/19 [00:00<00:00, 4170.82it/s]\n"
     ]
    },
    {
     "name": "stdout",
     "output_type": "stream",
     "text": [
      "[========                                          ] 17.52%\n",
      "Testing pipeline_2D_thr_0.3_norm_minmax_1_13 pipeline\n"
     ]
    },
    {
     "name": "stderr",
     "output_type": "stream",
     "text": [
      "100%|██████████| 19/19 [00:00<00:00, 6078.24it/s]\n"
     ]
    },
    {
     "name": "stdout",
     "output_type": "stream",
     "text": [
      "[========                                          ] 17.63%\n",
      "Testing pipeline_2D_thr_0.3_norm_minmax_1_14 pipeline\n"
     ]
    },
    {
     "name": "stderr",
     "output_type": "stream",
     "text": [
      "100%|██████████| 19/19 [00:00<00:00, 5804.63it/s]\n"
     ]
    },
    {
     "name": "stdout",
     "output_type": "stream",
     "text": [
      "[========                                          ] 17.75%\n",
      "Testing pipeline_2D_thr_0.3_norm_minmax_1_15 pipeline\n"
     ]
    },
    {
     "name": "stderr",
     "output_type": "stream",
     "text": [
      "100%|██████████| 19/19 [00:00<00:00, 6114.15it/s]"
     ]
    },
    {
     "name": "stdout",
     "output_type": "stream",
     "text": [
      "[========                                          ] 17.86%"
     ]
    },
    {
     "name": "stderr",
     "output_type": "stream",
     "text": [
      "\n"
     ]
    },
    {
     "name": "stdout",
     "output_type": "stream",
     "text": [
      "\n",
      "Testing pipeline_2D_thr_0.3_norm_minmax_2_0 pipeline\n"
     ]
    },
    {
     "name": "stderr",
     "output_type": "stream",
     "text": [
      "100%|██████████| 19/19 [00:00<00:00, 4522.29it/s]"
     ]
    },
    {
     "name": "stdout",
     "output_type": "stream",
     "text": [
      "[========                                          ] 17.97%"
     ]
    },
    {
     "name": "stderr",
     "output_type": "stream",
     "text": [
      "\n"
     ]
    },
    {
     "name": "stdout",
     "output_type": "stream",
     "text": [
      "\n",
      "Testing pipeline_2D_thr_0.3_norm_minmax_2_1 pipeline\n"
     ]
    },
    {
     "name": "stderr",
     "output_type": "stream",
     "text": [
      "100%|██████████| 19/19 [00:00<00:00, 5244.61it/s]"
     ]
    },
    {
     "name": "stdout",
     "output_type": "stream",
     "text": [
      "[=========                                         ] 18.08%"
     ]
    },
    {
     "name": "stderr",
     "output_type": "stream",
     "text": [
      "\n"
     ]
    },
    {
     "name": "stdout",
     "output_type": "stream",
     "text": [
      "\n",
      "Testing pipeline_2D_thr_0.3_norm_minmax_2_2 pipeline\n"
     ]
    },
    {
     "name": "stderr",
     "output_type": "stream",
     "text": [
      "100%|██████████| 19/19 [00:00<00:00, 6252.79it/s]\n"
     ]
    },
    {
     "name": "stdout",
     "output_type": "stream",
     "text": [
      "[=========                                         ] 18.19%\n",
      "Testing pipeline_2D_thr_0.3_norm_minmax_2_3 pipeline\n"
     ]
    },
    {
     "name": "stderr",
     "output_type": "stream",
     "text": [
      "100%|██████████| 19/19 [00:00<00:00, 7198.25it/s]"
     ]
    },
    {
     "name": "stdout",
     "output_type": "stream",
     "text": [
      "[=========                                         ] 18.30%"
     ]
    },
    {
     "name": "stderr",
     "output_type": "stream",
     "text": [
      "\n"
     ]
    },
    {
     "name": "stdout",
     "output_type": "stream",
     "text": [
      "\n",
      "Testing pipeline_2D_thr_0.3_norm_minmax_2_4 pipeline\n"
     ]
    },
    {
     "name": "stderr",
     "output_type": "stream",
     "text": [
      "100%|██████████| 19/19 [00:00<00:00, 6461.15it/s]\n"
     ]
    },
    {
     "name": "stdout",
     "output_type": "stream",
     "text": [
      "[=========                                         ] 18.42%\n",
      "Testing pipeline_2D_thr_0.3_norm_minmax_2_5 pipeline\n"
     ]
    },
    {
     "name": "stderr",
     "output_type": "stream",
     "text": [
      "100%|██████████| 19/19 [00:00<00:00, 6583.92it/s]"
     ]
    },
    {
     "name": "stdout",
     "output_type": "stream",
     "text": [
      "[=========                                         ] 18.53%"
     ]
    },
    {
     "name": "stderr",
     "output_type": "stream",
     "text": [
      "\n"
     ]
    },
    {
     "name": "stdout",
     "output_type": "stream",
     "text": [
      "\n",
      "Testing pipeline_2D_thr_0.3_norm_minmax_2_6 pipeline\n"
     ]
    },
    {
     "name": "stderr",
     "output_type": "stream",
     "text": [
      "100%|██████████| 19/19 [00:00<00:00, 5443.43it/s]\n"
     ]
    },
    {
     "name": "stdout",
     "output_type": "stream",
     "text": [
      "[=========                                         ] 18.64%\n",
      "Testing pipeline_2D_thr_0.3_norm_minmax_2_7 pipeline\n"
     ]
    },
    {
     "name": "stderr",
     "output_type": "stream",
     "text": [
      "100%|██████████| 19/19 [00:00<00:00, 6473.74it/s]\n"
     ]
    },
    {
     "name": "stdout",
     "output_type": "stream",
     "text": [
      "[=========                                         ] 18.75%\n",
      "Testing pipeline_2D_thr_0.3_norm_minmax_2_8 pipeline\n"
     ]
    },
    {
     "name": "stderr",
     "output_type": "stream",
     "text": [
      "100%|██████████| 19/19 [00:00<00:00, 6626.62it/s]\n"
     ]
    },
    {
     "name": "stdout",
     "output_type": "stream",
     "text": [
      "[=========                                         ] 18.86%\n",
      "Testing pipeline_2D_thr_0.3_norm_minmax_2_9 pipeline\n"
     ]
    },
    {
     "name": "stderr",
     "output_type": "stream",
     "text": [
      "100%|██████████| 19/19 [00:00<00:00, 4853.63it/s]\n"
     ]
    },
    {
     "name": "stdout",
     "output_type": "stream",
     "text": [
      "[=========                                         ] 18.97%\n",
      "Testing pipeline_2D_thr_0.3_norm_minmax_2_10 pipeline\n"
     ]
    },
    {
     "name": "stderr",
     "output_type": "stream",
     "text": [
      "100%|██████████| 19/19 [00:00<00:00, 6636.00it/s]\n"
     ]
    },
    {
     "name": "stdout",
     "output_type": "stream",
     "text": [
      "[=========                                         ] 19.08%\n",
      "Testing pipeline_2D_thr_0.3_norm_minmax_2_11 pipeline\n"
     ]
    },
    {
     "name": "stderr",
     "output_type": "stream",
     "text": [
      "100%|██████████| 19/19 [00:00<00:00, 6154.76it/s]\n"
     ]
    },
    {
     "name": "stdout",
     "output_type": "stream",
     "text": [
      "[=========                                         ] 19.20%\n",
      "Testing pipeline_2D_thr_0.3_norm_minmax_2_12 pipeline\n"
     ]
    },
    {
     "name": "stderr",
     "output_type": "stream",
     "text": [
      "100%|██████████| 19/19 [00:00<00:00, 6374.32it/s]\n"
     ]
    },
    {
     "name": "stdout",
     "output_type": "stream",
     "text": [
      "[=========                                         ] 19.31%\n",
      "Testing pipeline_2D_thr_0.3_norm_minmax_2_13 pipeline\n"
     ]
    },
    {
     "name": "stderr",
     "output_type": "stream",
     "text": [
      "100%|██████████| 19/19 [00:00<00:00, 7916.14it/s]\n"
     ]
    },
    {
     "name": "stdout",
     "output_type": "stream",
     "text": [
      "[=========                                         ] 19.42%\n",
      "Testing pipeline_2D_thr_0.3_norm_minmax_2_14 pipeline\n"
     ]
    },
    {
     "name": "stderr",
     "output_type": "stream",
     "text": [
      "100%|██████████| 19/19 [00:00<00:00, 6182.93it/s]\n"
     ]
    },
    {
     "name": "stdout",
     "output_type": "stream",
     "text": [
      "[=========                                         ] 19.53%\n",
      "Testing pipeline_2D_thr_0.3_norm_minmax_2_15 pipeline\n"
     ]
    },
    {
     "name": "stderr",
     "output_type": "stream",
     "text": [
      "100%|██████████| 19/19 [00:00<00:00, 4920.76it/s]"
     ]
    },
    {
     "name": "stdout",
     "output_type": "stream",
     "text": [
      "[=========                                         ] 19.64%"
     ]
    },
    {
     "name": "stderr",
     "output_type": "stream",
     "text": [
      "\n"
     ]
    },
    {
     "name": "stdout",
     "output_type": "stream",
     "text": [
      "\n",
      "Testing pipeline_2D_thr_0.3_norm_minmax_3_0 pipeline\n"
     ]
    },
    {
     "name": "stderr",
     "output_type": "stream",
     "text": [
      "100%|██████████| 19/19 [00:00<00:00, 5688.21it/s]"
     ]
    },
    {
     "name": "stdout",
     "output_type": "stream",
     "text": [
      "[=========                                         ] 19.75%"
     ]
    },
    {
     "name": "stderr",
     "output_type": "stream",
     "text": [
      "\n"
     ]
    },
    {
     "name": "stdout",
     "output_type": "stream",
     "text": [
      "\n",
      "Testing pipeline_2D_thr_0.3_norm_minmax_3_1 pipeline\n"
     ]
    },
    {
     "name": "stderr",
     "output_type": "stream",
     "text": [
      "100%|██████████| 19/19 [00:00<00:00, 7137.00it/s]"
     ]
    },
    {
     "name": "stdout",
     "output_type": "stream",
     "text": [
      "[=========                                         ] 19.87%"
     ]
    },
    {
     "name": "stderr",
     "output_type": "stream",
     "text": [
      "\n"
     ]
    },
    {
     "name": "stdout",
     "output_type": "stream",
     "text": [
      "\n",
      "Testing pipeline_2D_thr_0.3_norm_minmax_3_2 pipeline\n"
     ]
    },
    {
     "name": "stderr",
     "output_type": "stream",
     "text": [
      "100%|██████████| 19/19 [00:00<00:00, 7210.62it/s]\n"
     ]
    },
    {
     "name": "stdout",
     "output_type": "stream",
     "text": [
      "[=========                                         ] 19.98%\n",
      "Testing pipeline_2D_thr_0.3_norm_minmax_3_3 pipeline\n"
     ]
    },
    {
     "name": "stderr",
     "output_type": "stream",
     "text": [
      "100%|██████████| 19/19 [00:00<00:00, 6716.54it/s]"
     ]
    },
    {
     "name": "stdout",
     "output_type": "stream",
     "text": [
      "[==========                                        ] 20.09%"
     ]
    },
    {
     "name": "stderr",
     "output_type": "stream",
     "text": [
      "\n"
     ]
    },
    {
     "name": "stdout",
     "output_type": "stream",
     "text": [
      "\n",
      "Testing pipeline_2D_thr_0.3_norm_minmax_3_4 pipeline\n"
     ]
    },
    {
     "name": "stderr",
     "output_type": "stream",
     "text": [
      "100%|██████████| 19/19 [00:00<00:00, 6909.29it/s]\n"
     ]
    },
    {
     "name": "stdout",
     "output_type": "stream",
     "text": [
      "[==========                                        ] 20.20%\n",
      "Testing pipeline_2D_thr_0.3_norm_minmax_3_5 pipeline\n"
     ]
    },
    {
     "name": "stderr",
     "output_type": "stream",
     "text": [
      "100%|██████████| 19/19 [00:00<00:00, 7520.22it/s]"
     ]
    },
    {
     "name": "stdout",
     "output_type": "stream",
     "text": [
      "[==========                                        ] 20.31%"
     ]
    },
    {
     "name": "stderr",
     "output_type": "stream",
     "text": [
      "\n"
     ]
    },
    {
     "name": "stdout",
     "output_type": "stream",
     "text": [
      "\n",
      "Testing pipeline_2D_thr_0.3_norm_minmax_3_6 pipeline\n"
     ]
    },
    {
     "name": "stderr",
     "output_type": "stream",
     "text": [
      "100%|██████████| 19/19 [00:00<00:00, 6501.21it/s]\n"
     ]
    },
    {
     "name": "stdout",
     "output_type": "stream",
     "text": [
      "[==========                                        ] 20.42%\n",
      "Testing pipeline_2D_thr_0.3_norm_minmax_3_7 pipeline\n"
     ]
    },
    {
     "name": "stderr",
     "output_type": "stream",
     "text": [
      "100%|██████████| 19/19 [00:00<00:00, 5947.59it/s]\n"
     ]
    },
    {
     "name": "stdout",
     "output_type": "stream",
     "text": [
      "[==========                                        ] 20.54%\n",
      "Testing pipeline_2D_thr_0.3_norm_minmax_3_8 pipeline\n"
     ]
    },
    {
     "name": "stderr",
     "output_type": "stream",
     "text": [
      "100%|██████████| 19/19 [00:00<00:00, 6477.43it/s]\n"
     ]
    },
    {
     "name": "stdout",
     "output_type": "stream",
     "text": [
      "[==========                                        ] 20.65%\n",
      "Testing pipeline_2D_thr_0.3_norm_minmax_3_9 pipeline\n"
     ]
    },
    {
     "name": "stderr",
     "output_type": "stream",
     "text": [
      "100%|██████████| 19/19 [00:00<00:00, 6881.85it/s]\n"
     ]
    },
    {
     "name": "stdout",
     "output_type": "stream",
     "text": [
      "[==========                                        ] 20.76%\n",
      "Testing pipeline_2D_thr_0.3_norm_minmax_3_10 pipeline\n"
     ]
    },
    {
     "name": "stderr",
     "output_type": "stream",
     "text": [
      "100%|██████████| 19/19 [00:00<00:00, 7431.16it/s]\n"
     ]
    },
    {
     "name": "stdout",
     "output_type": "stream",
     "text": [
      "[==========                                        ] 20.87%\n",
      "Testing pipeline_2D_thr_0.3_norm_minmax_3_11 pipeline\n"
     ]
    },
    {
     "name": "stderr",
     "output_type": "stream",
     "text": [
      "100%|██████████| 19/19 [00:00<00:00, 6930.93it/s]\n"
     ]
    },
    {
     "name": "stdout",
     "output_type": "stream",
     "text": [
      "[==========                                        ] 20.98%\n",
      "Testing pipeline_2D_thr_0.3_norm_minmax_3_12 pipeline\n"
     ]
    },
    {
     "name": "stderr",
     "output_type": "stream",
     "text": [
      "100%|██████████| 19/19 [00:00<00:00, 6599.19it/s]\n"
     ]
    },
    {
     "name": "stdout",
     "output_type": "stream",
     "text": [
      "[==========                                        ] 21.09%\n",
      "Testing pipeline_2D_thr_0.3_norm_minmax_3_13 pipeline\n"
     ]
    },
    {
     "name": "stderr",
     "output_type": "stream",
     "text": [
      "100%|██████████| 19/19 [00:00<00:00, 6480.59it/s]\n"
     ]
    },
    {
     "name": "stdout",
     "output_type": "stream",
     "text": [
      "[==========                                        ] 21.21%\n",
      "Testing pipeline_2D_thr_0.3_norm_minmax_3_14 pipeline\n"
     ]
    },
    {
     "name": "stderr",
     "output_type": "stream",
     "text": [
      "100%|██████████| 19/19 [00:00<00:00, 7759.67it/s]\n"
     ]
    },
    {
     "name": "stdout",
     "output_type": "stream",
     "text": [
      "[==========                                        ] 21.32%\n",
      "Testing pipeline_2D_thr_0.3_norm_minmax_3_15 pipeline\n"
     ]
    },
    {
     "name": "stderr",
     "output_type": "stream",
     "text": [
      "100%|██████████| 19/19 [00:00<00:00, 6112.74it/s]"
     ]
    },
    {
     "name": "stdout",
     "output_type": "stream",
     "text": [
      "[==========                                        ] 21.43%"
     ]
    },
    {
     "name": "stderr",
     "output_type": "stream",
     "text": [
      "\n"
     ]
    },
    {
     "name": "stdout",
     "output_type": "stream",
     "text": [
      "\n",
      "Testing pipeline_2D_thr_0.3_norm_percentile_0_0 pipeline\n"
     ]
    },
    {
     "name": "stderr",
     "output_type": "stream",
     "text": [
      "100%|██████████| 19/19 [00:00<00:00, 5604.20it/s]"
     ]
    },
    {
     "name": "stdout",
     "output_type": "stream",
     "text": [
      "[==========                                        ] 21.54%"
     ]
    },
    {
     "name": "stderr",
     "output_type": "stream",
     "text": [
      "\n"
     ]
    },
    {
     "name": "stdout",
     "output_type": "stream",
     "text": [
      "\n",
      "Testing pipeline_2D_thr_0.3_norm_percentile_0_1 pipeline\n"
     ]
    },
    {
     "name": "stderr",
     "output_type": "stream",
     "text": [
      "100%|██████████| 19/19 [00:00<00:00, 5958.71it/s]"
     ]
    },
    {
     "name": "stdout",
     "output_type": "stream",
     "text": [
      "[==========                                        ] 21.65%"
     ]
    },
    {
     "name": "stderr",
     "output_type": "stream",
     "text": [
      "\n"
     ]
    },
    {
     "name": "stdout",
     "output_type": "stream",
     "text": [
      "\n",
      "Testing pipeline_2D_thr_0.3_norm_percentile_0_2 pipeline\n"
     ]
    },
    {
     "name": "stderr",
     "output_type": "stream",
     "text": [
      "100%|██████████| 19/19 [00:00<00:00, 6871.76it/s]\n"
     ]
    },
    {
     "name": "stdout",
     "output_type": "stream",
     "text": [
      "[==========                                        ] 21.76%\n",
      "Testing pipeline_2D_thr_0.3_norm_percentile_0_3 pipeline\n"
     ]
    },
    {
     "name": "stderr",
     "output_type": "stream",
     "text": [
      "100%|██████████| 19/19 [00:00<00:00, 6177.18it/s]"
     ]
    },
    {
     "name": "stdout",
     "output_type": "stream",
     "text": [
      "[==========                                        ] 21.88%"
     ]
    },
    {
     "name": "stderr",
     "output_type": "stream",
     "text": [
      "\n"
     ]
    },
    {
     "name": "stdout",
     "output_type": "stream",
     "text": [
      "\n",
      "Testing pipeline_2D_thr_0.3_norm_percentile_0_4 pipeline\n"
     ]
    },
    {
     "name": "stderr",
     "output_type": "stream",
     "text": [
      "100%|██████████| 19/19 [00:00<00:00, 6104.78it/s]\n"
     ]
    },
    {
     "name": "stdout",
     "output_type": "stream",
     "text": [
      "[==========                                        ] 21.99%\n",
      "Testing pipeline_2D_thr_0.3_norm_percentile_0_5 pipeline\n"
     ]
    },
    {
     "name": "stderr",
     "output_type": "stream",
     "text": [
      "100%|██████████| 19/19 [00:00<00:00, 5034.86it/s]"
     ]
    },
    {
     "name": "stdout",
     "output_type": "stream",
     "text": [
      "[===========                                       ] 22.10%"
     ]
    },
    {
     "name": "stderr",
     "output_type": "stream",
     "text": [
      "\n"
     ]
    },
    {
     "name": "stdout",
     "output_type": "stream",
     "text": [
      "\n",
      "Testing pipeline_2D_thr_0.3_norm_percentile_0_6 pipeline\n"
     ]
    },
    {
     "name": "stderr",
     "output_type": "stream",
     "text": [
      "100%|██████████| 19/19 [00:00<00:00, 3880.40it/s]\n"
     ]
    },
    {
     "name": "stdout",
     "output_type": "stream",
     "text": [
      "[===========                                       ] 22.21%\n",
      "Testing pipeline_2D_thr_0.3_norm_percentile_0_7 pipeline\n"
     ]
    },
    {
     "name": "stderr",
     "output_type": "stream",
     "text": [
      "100%|██████████| 19/19 [00:00<00:00, 6742.68it/s]\n"
     ]
    },
    {
     "name": "stdout",
     "output_type": "stream",
     "text": [
      "[===========                                       ] 22.32%\n",
      "Testing pipeline_2D_thr_0.3_norm_percentile_0_8 pipeline\n"
     ]
    },
    {
     "name": "stderr",
     "output_type": "stream",
     "text": [
      "100%|██████████| 19/19 [00:00<00:00, 3617.91it/s]\n"
     ]
    },
    {
     "name": "stdout",
     "output_type": "stream",
     "text": [
      "[===========                                       ] 22.43%\n",
      "Testing pipeline_2D_thr_0.3_norm_percentile_0_9 pipeline\n"
     ]
    },
    {
     "name": "stderr",
     "output_type": "stream",
     "text": [
      "100%|██████████| 19/19 [00:00<00:00, 6926.71it/s]\n"
     ]
    },
    {
     "name": "stdout",
     "output_type": "stream",
     "text": [
      "[===========                                       ] 22.54%\n",
      "Testing pipeline_2D_thr_0.3_norm_percentile_0_10 pipeline\n"
     ]
    },
    {
     "name": "stderr",
     "output_type": "stream",
     "text": [
      "100%|██████████| 19/19 [00:00<00:00, 2529.74it/s]\n"
     ]
    },
    {
     "name": "stdout",
     "output_type": "stream",
     "text": [
      "[===========                                       ] 22.66%\n",
      "Testing pipeline_2D_thr_0.3_norm_percentile_0_11 pipeline\n"
     ]
    },
    {
     "name": "stderr",
     "output_type": "stream",
     "text": [
      "100%|██████████| 19/19 [00:00<00:00, 6517.69it/s]\n"
     ]
    },
    {
     "name": "stdout",
     "output_type": "stream",
     "text": [
      "[===========                                       ] 22.77%\n",
      "Testing pipeline_2D_thr_0.3_norm_percentile_0_12 pipeline\n"
     ]
    },
    {
     "name": "stderr",
     "output_type": "stream",
     "text": [
      "100%|██████████| 19/19 [00:00<00:00, 6011.30it/s]\n"
     ]
    },
    {
     "name": "stdout",
     "output_type": "stream",
     "text": [
      "[===========                                       ] 22.88%\n",
      "Testing pipeline_2D_thr_0.3_norm_percentile_0_13 pipeline\n"
     ]
    },
    {
     "name": "stderr",
     "output_type": "stream",
     "text": [
      "100%|██████████| 19/19 [00:00<00:00, 6118.37it/s]\n"
     ]
    },
    {
     "name": "stdout",
     "output_type": "stream",
     "text": [
      "[===========                                       ] 22.99%\n",
      "Testing pipeline_2D_thr_0.3_norm_percentile_0_14 pipeline\n"
     ]
    },
    {
     "name": "stderr",
     "output_type": "stream",
     "text": [
      "100%|██████████| 19/19 [00:00<00:00, 6349.94it/s]\n"
     ]
    },
    {
     "name": "stdout",
     "output_type": "stream",
     "text": [
      "[===========                                       ] 23.10%\n",
      "Testing pipeline_2D_thr_0.3_norm_percentile_0_15 pipeline\n"
     ]
    },
    {
     "name": "stderr",
     "output_type": "stream",
     "text": [
      "100%|██████████| 19/19 [00:00<00:00, 5665.96it/s]"
     ]
    },
    {
     "name": "stdout",
     "output_type": "stream",
     "text": [
      "[===========                                       ] 23.21%"
     ]
    },
    {
     "name": "stderr",
     "output_type": "stream",
     "text": [
      "\n"
     ]
    },
    {
     "name": "stdout",
     "output_type": "stream",
     "text": [
      "\n",
      "Testing pipeline_2D_thr_0.3_norm_percentile_1_0 pipeline\n"
     ]
    },
    {
     "name": "stderr",
     "output_type": "stream",
     "text": [
      "100%|██████████| 19/19 [00:00<00:00, 5450.87it/s]"
     ]
    },
    {
     "name": "stdout",
     "output_type": "stream",
     "text": [
      "[===========                                       ] 23.33%"
     ]
    },
    {
     "name": "stderr",
     "output_type": "stream",
     "text": [
      "\n"
     ]
    },
    {
     "name": "stdout",
     "output_type": "stream",
     "text": [
      "\n",
      "Testing pipeline_2D_thr_0.3_norm_percentile_1_1 pipeline\n"
     ]
    },
    {
     "name": "stderr",
     "output_type": "stream",
     "text": [
      "100%|██████████| 19/19 [00:00<00:00, 7256.58it/s]"
     ]
    },
    {
     "name": "stdout",
     "output_type": "stream",
     "text": [
      "[===========                                       ] 23.44%"
     ]
    },
    {
     "name": "stderr",
     "output_type": "stream",
     "text": [
      "\n"
     ]
    },
    {
     "name": "stdout",
     "output_type": "stream",
     "text": [
      "\n",
      "Testing pipeline_2D_thr_0.3_norm_percentile_1_2 pipeline\n"
     ]
    },
    {
     "name": "stderr",
     "output_type": "stream",
     "text": [
      "100%|██████████| 19/19 [00:00<00:00, 5651.90it/s]\n"
     ]
    },
    {
     "name": "stdout",
     "output_type": "stream",
     "text": [
      "[===========                                       ] 23.55%\n",
      "Testing pipeline_2D_thr_0.3_norm_percentile_1_3 pipeline\n"
     ]
    },
    {
     "name": "stderr",
     "output_type": "stream",
     "text": [
      "100%|██████████| 19/19 [00:00<00:00, 4631.36it/s]"
     ]
    },
    {
     "name": "stdout",
     "output_type": "stream",
     "text": [
      "[===========                                       ] 23.66%"
     ]
    },
    {
     "name": "stderr",
     "output_type": "stream",
     "text": [
      "\n"
     ]
    },
    {
     "name": "stdout",
     "output_type": "stream",
     "text": [
      "\n",
      "Testing pipeline_2D_thr_0.3_norm_percentile_1_4 pipeline\n"
     ]
    },
    {
     "name": "stderr",
     "output_type": "stream",
     "text": [
      "100%|██████████| 19/19 [00:00<00:00, 6864.06it/s]\n"
     ]
    },
    {
     "name": "stdout",
     "output_type": "stream",
     "text": [
      "[===========                                       ] 23.77%\n",
      "Testing pipeline_2D_thr_0.3_norm_percentile_1_5 pipeline\n"
     ]
    },
    {
     "name": "stderr",
     "output_type": "stream",
     "text": [
      "100%|██████████| 19/19 [00:00<00:00, 5560.02it/s]"
     ]
    },
    {
     "name": "stdout",
     "output_type": "stream",
     "text": [
      "[===========                                       ] 23.88%"
     ]
    },
    {
     "name": "stderr",
     "output_type": "stream",
     "text": [
      "\n"
     ]
    },
    {
     "name": "stdout",
     "output_type": "stream",
     "text": [
      "\n",
      "Testing pipeline_2D_thr_0.3_norm_percentile_1_6 pipeline\n"
     ]
    },
    {
     "name": "stderr",
     "output_type": "stream",
     "text": [
      "100%|██████████| 19/19 [00:00<00:00, 6846.96it/s]\n"
     ]
    },
    {
     "name": "stdout",
     "output_type": "stream",
     "text": [
      "[===========                                       ] 24.00%\n",
      "Testing pipeline_2D_thr_0.3_norm_percentile_1_7 pipeline\n"
     ]
    },
    {
     "name": "stderr",
     "output_type": "stream",
     "text": [
      "100%|██████████| 19/19 [00:00<00:00, 7198.25it/s]\n"
     ]
    },
    {
     "name": "stdout",
     "output_type": "stream",
     "text": [
      "[============                                      ] 24.11%\n",
      "Testing pipeline_2D_thr_0.3_norm_percentile_1_8 pipeline\n"
     ]
    },
    {
     "name": "stderr",
     "output_type": "stream",
     "text": [
      "100%|██████████| 19/19 [00:00<00:00, 6967.28it/s]\n"
     ]
    },
    {
     "name": "stdout",
     "output_type": "stream",
     "text": [
      "[============                                      ] 24.22%\n",
      "Testing pipeline_2D_thr_0.3_norm_percentile_1_9 pipeline\n"
     ]
    },
    {
     "name": "stderr",
     "output_type": "stream",
     "text": [
      "100%|██████████| 19/19 [00:00<00:00, 6026.75it/s]\n"
     ]
    },
    {
     "name": "stdout",
     "output_type": "stream",
     "text": [
      "[============                                      ] 24.33%\n",
      "Testing pipeline_2D_thr_0.3_norm_percentile_1_10 pipeline\n"
     ]
    },
    {
     "name": "stderr",
     "output_type": "stream",
     "text": [
      "100%|██████████| 19/19 [00:00<00:00, 6640.98it/s]\n"
     ]
    },
    {
     "name": "stdout",
     "output_type": "stream",
     "text": [
      "[============                                      ] 24.44%\n",
      "Testing pipeline_2D_thr_0.3_norm_percentile_1_11 pipeline\n"
     ]
    },
    {
     "name": "stderr",
     "output_type": "stream",
     "text": [
      "100%|██████████| 19/19 [00:00<00:00, 6822.34it/s]\n"
     ]
    },
    {
     "name": "stdout",
     "output_type": "stream",
     "text": [
      "[============                                      ] 24.55%\n",
      "Testing pipeline_2D_thr_0.3_norm_percentile_1_12 pipeline\n"
     ]
    },
    {
     "name": "stderr",
     "output_type": "stream",
     "text": [
      "100%|██████████| 19/19 [00:00<00:00, 5928.12it/s]\n"
     ]
    },
    {
     "name": "stdout",
     "output_type": "stream",
     "text": [
      "[============                                      ] 24.67%\n",
      "Testing pipeline_2D_thr_0.3_norm_percentile_1_13 pipeline\n"
     ]
    },
    {
     "name": "stderr",
     "output_type": "stream",
     "text": [
      "100%|██████████| 19/19 [00:00<00:00, 6653.73it/s]\n"
     ]
    },
    {
     "name": "stdout",
     "output_type": "stream",
     "text": [
      "[============                                      ] 24.78%\n",
      "Testing pipeline_2D_thr_0.3_norm_percentile_1_14 pipeline\n"
     ]
    },
    {
     "name": "stderr",
     "output_type": "stream",
     "text": [
      "100%|██████████| 19/19 [00:00<00:00, 5414.58it/s]\n"
     ]
    },
    {
     "name": "stdout",
     "output_type": "stream",
     "text": [
      "[============                                      ] 24.89%\n",
      "Testing pipeline_2D_thr_0.3_norm_percentile_1_15 pipeline\n"
     ]
    },
    {
     "name": "stderr",
     "output_type": "stream",
     "text": [
      "100%|██████████| 19/19 [00:00<00:00, 5136.10it/s]"
     ]
    },
    {
     "name": "stdout",
     "output_type": "stream",
     "text": [
      "[============                                      ] 25.00%"
     ]
    },
    {
     "name": "stderr",
     "output_type": "stream",
     "text": [
      "\n"
     ]
    },
    {
     "name": "stdout",
     "output_type": "stream",
     "text": [
      "\n",
      "Testing pipeline_2D_thr_0.3_norm_percentile_2_0 pipeline\n"
     ]
    },
    {
     "name": "stderr",
     "output_type": "stream",
     "text": [
      "100%|██████████| 19/19 [00:00<00:00, 6418.99it/s]"
     ]
    },
    {
     "name": "stdout",
     "output_type": "stream",
     "text": [
      "[============                                      ] 25.11%"
     ]
    },
    {
     "name": "stderr",
     "output_type": "stream",
     "text": [
      "\n"
     ]
    },
    {
     "name": "stdout",
     "output_type": "stream",
     "text": [
      "\n",
      "Testing pipeline_2D_thr_0.3_norm_percentile_2_1 pipeline\n"
     ]
    },
    {
     "name": "stderr",
     "output_type": "stream",
     "text": [
      "100%|██████████| 19/19 [00:00<00:00, 6536.40it/s]"
     ]
    },
    {
     "name": "stdout",
     "output_type": "stream",
     "text": [
      "[============                                      ] 25.22%"
     ]
    },
    {
     "name": "stderr",
     "output_type": "stream",
     "text": [
      "\n"
     ]
    },
    {
     "name": "stdout",
     "output_type": "stream",
     "text": [
      "\n",
      "Testing pipeline_2D_thr_0.3_norm_percentile_2_2 pipeline\n"
     ]
    },
    {
     "name": "stderr",
     "output_type": "stream",
     "text": [
      "100%|██████████| 19/19 [00:00<00:00, 7586.08it/s]\n"
     ]
    },
    {
     "name": "stdout",
     "output_type": "stream",
     "text": [
      "[============                                      ] 25.33%\n",
      "Testing pipeline_2D_thr_0.3_norm_percentile_2_3 pipeline\n"
     ]
    },
    {
     "name": "stderr",
     "output_type": "stream",
     "text": [
      "100%|██████████| 19/19 [00:00<00:00, 6116.96it/s]"
     ]
    },
    {
     "name": "stdout",
     "output_type": "stream",
     "text": [
      "[============                                      ] 25.45%"
     ]
    },
    {
     "name": "stderr",
     "output_type": "stream",
     "text": [
      "\n"
     ]
    },
    {
     "name": "stdout",
     "output_type": "stream",
     "text": [
      "\n",
      "Testing pipeline_2D_thr_0.3_norm_percentile_2_4 pipeline\n"
     ]
    },
    {
     "name": "stderr",
     "output_type": "stream",
     "text": [
      "100%|██████████| 19/19 [00:00<00:00, 6643.20it/s]\n"
     ]
    },
    {
     "name": "stdout",
     "output_type": "stream",
     "text": [
      "[============                                      ] 25.56%\n",
      "Testing pipeline_2D_thr_0.3_norm_percentile_2_5 pipeline\n"
     ]
    },
    {
     "name": "stderr",
     "output_type": "stream",
     "text": [
      "100%|██████████| 19/19 [00:00<00:00, 6899.12it/s]"
     ]
    },
    {
     "name": "stdout",
     "output_type": "stream",
     "text": [
      "[============                                      ] 25.67%"
     ]
    },
    {
     "name": "stderr",
     "output_type": "stream",
     "text": [
      "\n"
     ]
    },
    {
     "name": "stdout",
     "output_type": "stream",
     "text": [
      "\n",
      "Testing pipeline_2D_thr_0.3_norm_percentile_2_6 pipeline\n"
     ]
    },
    {
     "name": "stderr",
     "output_type": "stream",
     "text": [
      "100%|██████████| 19/19 [00:00<00:00, 6280.88it/s]\n"
     ]
    },
    {
     "name": "stdout",
     "output_type": "stream",
     "text": [
      "[============                                      ] 25.78%\n",
      "Testing pipeline_2D_thr_0.3_norm_percentile_2_7 pipeline\n"
     ]
    },
    {
     "name": "stderr",
     "output_type": "stream",
     "text": [
      "100%|██████████| 19/19 [00:00<00:00, 7681.88it/s]\n"
     ]
    },
    {
     "name": "stdout",
     "output_type": "stream",
     "text": [
      "[============                                      ] 25.89%\n",
      "Testing pipeline_2D_thr_0.3_norm_percentile_2_8 pipeline\n"
     ]
    },
    {
     "name": "stderr",
     "output_type": "stream",
     "text": [
      "100%|██████████| 19/19 [00:00<00:00, 7204.10it/s]\n"
     ]
    },
    {
     "name": "stdout",
     "output_type": "stream",
     "text": [
      "[=============                                     ] 26.00%\n",
      "Testing pipeline_2D_thr_0.3_norm_percentile_2_9 pipeline\n"
     ]
    },
    {
     "name": "stderr",
     "output_type": "stream",
     "text": [
      "100%|██████████| 19/19 [00:00<00:00, 6888.98it/s]\n"
     ]
    },
    {
     "name": "stdout",
     "output_type": "stream",
     "text": [
      "[=============                                     ] 26.12%\n",
      "Testing pipeline_2D_thr_0.3_norm_percentile_2_10 pipeline\n"
     ]
    },
    {
     "name": "stderr",
     "output_type": "stream",
     "text": [
      "100%|██████████| 19/19 [00:00<00:00, 4605.93it/s]\n"
     ]
    },
    {
     "name": "stdout",
     "output_type": "stream",
     "text": [
      "[=============                                     ] 26.23%\n",
      "Testing pipeline_2D_thr_0.3_norm_percentile_2_11 pipeline\n"
     ]
    },
    {
     "name": "stderr",
     "output_type": "stream",
     "text": [
      "100%|██████████| 19/19 [00:00<00:00, 6931.53it/s]\n"
     ]
    },
    {
     "name": "stdout",
     "output_type": "stream",
     "text": [
      "[=============                                     ] 26.34%\n",
      "Testing pipeline_2D_thr_0.3_norm_percentile_2_12 pipeline\n"
     ]
    },
    {
     "name": "stderr",
     "output_type": "stream",
     "text": [
      "100%|██████████| 19/19 [00:00<00:00, 6701.29it/s]\n"
     ]
    },
    {
     "name": "stdout",
     "output_type": "stream",
     "text": [
      "[=============                                     ] 26.45%\n",
      "Testing pipeline_2D_thr_0.3_norm_percentile_2_13 pipeline\n"
     ]
    },
    {
     "name": "stderr",
     "output_type": "stream",
     "text": [
      "100%|██████████| 19/19 [00:00<00:00, 6294.77it/s]\n"
     ]
    },
    {
     "name": "stdout",
     "output_type": "stream",
     "text": [
      "[=============                                     ] 26.56%\n",
      "Testing pipeline_2D_thr_0.3_norm_percentile_2_14 pipeline\n"
     ]
    },
    {
     "name": "stderr",
     "output_type": "stream",
     "text": [
      "100%|██████████| 19/19 [00:00<00:00, 6670.44it/s]\n"
     ]
    },
    {
     "name": "stdout",
     "output_type": "stream",
     "text": [
      "[=============                                     ] 26.67%\n",
      "Testing pipeline_2D_thr_0.3_norm_percentile_2_15 pipeline\n"
     ]
    },
    {
     "name": "stderr",
     "output_type": "stream",
     "text": [
      "100%|██████████| 19/19 [00:00<00:00, 4487.91it/s]"
     ]
    },
    {
     "name": "stdout",
     "output_type": "stream",
     "text": [
      "[=============                                     ] 26.79%"
     ]
    },
    {
     "name": "stderr",
     "output_type": "stream",
     "text": [
      "\n"
     ]
    },
    {
     "name": "stdout",
     "output_type": "stream",
     "text": [
      "\n",
      "Testing pipeline_2D_thr_0.3_norm_percentile_3_0 pipeline\n"
     ]
    },
    {
     "name": "stderr",
     "output_type": "stream",
     "text": [
      "100%|██████████| 19/19 [00:00<00:00, 4556.16it/s]"
     ]
    },
    {
     "name": "stdout",
     "output_type": "stream",
     "text": [
      "[=============                                     ] 26.90%"
     ]
    },
    {
     "name": "stderr",
     "output_type": "stream",
     "text": [
      "\n"
     ]
    },
    {
     "name": "stdout",
     "output_type": "stream",
     "text": [
      "\n",
      "Testing pipeline_2D_thr_0.3_norm_percentile_3_1 pipeline\n"
     ]
    },
    {
     "name": "stderr",
     "output_type": "stream",
     "text": [
      "100%|██████████| 19/19 [00:00<00:00, 6378.91it/s]"
     ]
    },
    {
     "name": "stdout",
     "output_type": "stream",
     "text": [
      "[=============                                     ] 27.01%"
     ]
    },
    {
     "name": "stderr",
     "output_type": "stream",
     "text": [
      "\n"
     ]
    },
    {
     "name": "stdout",
     "output_type": "stream",
     "text": [
      "\n",
      "Testing pipeline_2D_thr_0.3_norm_percentile_3_2 pipeline\n"
     ]
    },
    {
     "name": "stderr",
     "output_type": "stream",
     "text": [
      "100%|██████████| 19/19 [00:00<00:00, 6712.58it/s]\n"
     ]
    },
    {
     "name": "stdout",
     "output_type": "stream",
     "text": [
      "[=============                                     ] 27.12%\n",
      "Testing pipeline_2D_thr_0.3_norm_percentile_3_3 pipeline\n"
     ]
    },
    {
     "name": "stderr",
     "output_type": "stream",
     "text": [
      "100%|██████████| 19/19 [00:00<00:00, 6754.11it/s]"
     ]
    },
    {
     "name": "stdout",
     "output_type": "stream",
     "text": [
      "[=============                                     ] 27.23%"
     ]
    },
    {
     "name": "stderr",
     "output_type": "stream",
     "text": [
      "\n"
     ]
    },
    {
     "name": "stdout",
     "output_type": "stream",
     "text": [
      "\n",
      "Testing pipeline_2D_thr_0.3_norm_percentile_3_4 pipeline\n"
     ]
    },
    {
     "name": "stderr",
     "output_type": "stream",
     "text": [
      "100%|██████████| 19/19 [00:00<00:00, 6451.73it/s]\n"
     ]
    },
    {
     "name": "stdout",
     "output_type": "stream",
     "text": [
      "[=============                                     ] 27.34%\n",
      "Testing pipeline_2D_thr_0.3_norm_percentile_3_5 pipeline\n"
     ]
    },
    {
     "name": "stderr",
     "output_type": "stream",
     "text": [
      "100%|██████████| 19/19 [00:00<00:00, 6589.36it/s]"
     ]
    },
    {
     "name": "stdout",
     "output_type": "stream",
     "text": [
      "[=============                                     ] 27.46%"
     ]
    },
    {
     "name": "stderr",
     "output_type": "stream",
     "text": [
      "\n"
     ]
    },
    {
     "name": "stdout",
     "output_type": "stream",
     "text": [
      "\n",
      "Testing pipeline_2D_thr_0.3_norm_percentile_3_6 pipeline\n"
     ]
    },
    {
     "name": "stderr",
     "output_type": "stream",
     "text": [
      "100%|██████████| 19/19 [00:00<00:00, 6561.15it/s]\n"
     ]
    },
    {
     "name": "stdout",
     "output_type": "stream",
     "text": [
      "[=============                                     ] 27.57%\n",
      "Testing pipeline_2D_thr_0.3_norm_percentile_3_7 pipeline\n"
     ]
    },
    {
     "name": "stderr",
     "output_type": "stream",
     "text": [
      "100%|██████████| 19/19 [00:00<00:00, 6795.00it/s]\n"
     ]
    },
    {
     "name": "stdout",
     "output_type": "stream",
     "text": [
      "[=============                                     ] 27.68%\n",
      "Testing pipeline_2D_thr_0.3_norm_percentile_3_8 pipeline\n"
     ]
    },
    {
     "name": "stderr",
     "output_type": "stream",
     "text": [
      "100%|██████████| 19/19 [00:00<00:00, 6060.67it/s]\n"
     ]
    },
    {
     "name": "stdout",
     "output_type": "stream",
     "text": [
      "[=============                                     ] 27.79%\n",
      "Testing pipeline_2D_thr_0.3_norm_percentile_3_9 pipeline\n"
     ]
    },
    {
     "name": "stderr",
     "output_type": "stream",
     "text": [
      "100%|██████████| 19/19 [00:00<00:00, 6609.59it/s]\n"
     ]
    },
    {
     "name": "stdout",
     "output_type": "stream",
     "text": [
      "[=============                                     ] 27.90%\n",
      "Testing pipeline_2D_thr_0.3_norm_percentile_3_10 pipeline\n"
     ]
    },
    {
     "name": "stderr",
     "output_type": "stream",
     "text": [
      "100%|██████████| 19/19 [00:00<00:00, 6514.49it/s]\n"
     ]
    },
    {
     "name": "stdout",
     "output_type": "stream",
     "text": [
      "[==============                                    ] 28.01%\n",
      "Testing pipeline_2D_thr_0.3_norm_percentile_3_11 pipeline\n"
     ]
    },
    {
     "name": "stderr",
     "output_type": "stream",
     "text": [
      "100%|██████████| 19/19 [00:00<00:00, 6060.67it/s]\n"
     ]
    },
    {
     "name": "stdout",
     "output_type": "stream",
     "text": [
      "[==============                                    ] 28.12%\n",
      "Testing pipeline_2D_thr_0.3_norm_percentile_3_12 pipeline\n"
     ]
    },
    {
     "name": "stderr",
     "output_type": "stream",
     "text": [
      "100%|██████████| 19/19 [00:00<00:00, 6587.19it/s]\n"
     ]
    },
    {
     "name": "stdout",
     "output_type": "stream",
     "text": [
      "[==============                                    ] 28.24%\n",
      "Testing pipeline_2D_thr_0.3_norm_percentile_3_13 pipeline\n"
     ]
    },
    {
     "name": "stderr",
     "output_type": "stream",
     "text": [
      "100%|██████████| 19/19 [00:00<00:00, 6593.18it/s]\n"
     ]
    },
    {
     "name": "stdout",
     "output_type": "stream",
     "text": [
      "[==============                                    ] 28.35%\n",
      "Testing pipeline_2D_thr_0.3_norm_percentile_3_14 pipeline\n"
     ]
    },
    {
     "name": "stderr",
     "output_type": "stream",
     "text": [
      "100%|██████████| 19/19 [00:00<00:00, 7430.47it/s]\n"
     ]
    },
    {
     "name": "stdout",
     "output_type": "stream",
     "text": [
      "[==============                                    ] 28.46%\n",
      "Testing pipeline_2D_thr_0.3_norm_percentile_3_15 pipeline\n"
     ]
    },
    {
     "name": "stderr",
     "output_type": "stream",
     "text": [
      "100%|██████████| 19/19 [00:00<00:00, 4153.86it/s]"
     ]
    },
    {
     "name": "stdout",
     "output_type": "stream",
     "text": [
      "[==============                                    ] 28.57%"
     ]
    },
    {
     "name": "stderr",
     "output_type": "stream",
     "text": [
      "\n"
     ]
    },
    {
     "name": "stdout",
     "output_type": "stream",
     "text": [
      "\n",
      "Testing pipeline_2D_thr_0.4_norm_minmax_0_0 pipeline\n"
     ]
    },
    {
     "name": "stderr",
     "output_type": "stream",
     "text": [
      "100%|██████████| 19/19 [00:00<00:00, 5474.84it/s]"
     ]
    },
    {
     "name": "stdout",
     "output_type": "stream",
     "text": [
      "[==============                                    ] 28.68%"
     ]
    },
    {
     "name": "stderr",
     "output_type": "stream",
     "text": [
      "\n"
     ]
    },
    {
     "name": "stdout",
     "output_type": "stream",
     "text": [
      "\n",
      "Testing pipeline_2D_thr_0.4_norm_minmax_0_1 pipeline\n"
     ]
    },
    {
     "name": "stderr",
     "output_type": "stream",
     "text": [
      "100%|██████████| 19/19 [00:00<00:00, 6251.81it/s]"
     ]
    },
    {
     "name": "stdout",
     "output_type": "stream",
     "text": [
      "[==============                                    ] 28.79%"
     ]
    },
    {
     "name": "stderr",
     "output_type": "stream",
     "text": [
      "\n"
     ]
    },
    {
     "name": "stdout",
     "output_type": "stream",
     "text": [
      "\n",
      "Testing pipeline_2D_thr_0.4_norm_minmax_0_2 pipeline\n"
     ]
    },
    {
     "name": "stderr",
     "output_type": "stream",
     "text": [
      "100%|██████████| 19/19 [00:00<00:00, 6032.69it/s]\n"
     ]
    },
    {
     "name": "stdout",
     "output_type": "stream",
     "text": [
      "[==============                                    ] 28.91%\n",
      "Testing pipeline_2D_thr_0.4_norm_minmax_0_3 pipeline\n"
     ]
    },
    {
     "name": "stderr",
     "output_type": "stream",
     "text": [
      "100%|██████████| 19/19 [00:00<00:00, 6455.91it/s]"
     ]
    },
    {
     "name": "stdout",
     "output_type": "stream",
     "text": [
      "[==============                                    ] 29.02%"
     ]
    },
    {
     "name": "stderr",
     "output_type": "stream",
     "text": [
      "\n"
     ]
    },
    {
     "name": "stdout",
     "output_type": "stream",
     "text": [
      "\n",
      "Testing pipeline_2D_thr_0.4_norm_minmax_0_4 pipeline\n"
     ]
    },
    {
     "name": "stderr",
     "output_type": "stream",
     "text": [
      "100%|██████████| 19/19 [00:00<00:00, 6637.66it/s]\n"
     ]
    },
    {
     "name": "stdout",
     "output_type": "stream",
     "text": [
      "[==============                                    ] 29.13%\n",
      "Testing pipeline_2D_thr_0.4_norm_minmax_0_5 pipeline\n"
     ]
    },
    {
     "name": "stderr",
     "output_type": "stream",
     "text": [
      "100%|██████████| 19/19 [00:00<00:00, 4815.21it/s]"
     ]
    },
    {
     "name": "stdout",
     "output_type": "stream",
     "text": [
      "[==============                                    ] 29.24%"
     ]
    },
    {
     "name": "stderr",
     "output_type": "stream",
     "text": [
      "\n"
     ]
    },
    {
     "name": "stdout",
     "output_type": "stream",
     "text": [
      "\n",
      "Testing pipeline_2D_thr_0.4_norm_minmax_0_6 pipeline\n"
     ]
    },
    {
     "name": "stderr",
     "output_type": "stream",
     "text": [
      "100%|██████████| 19/19 [00:00<00:00, 6294.77it/s]\n"
     ]
    },
    {
     "name": "stdout",
     "output_type": "stream",
     "text": [
      "[==============                                    ] 29.35%\n",
      "Testing pipeline_2D_thr_0.4_norm_minmax_0_7 pipeline\n"
     ]
    },
    {
     "name": "stderr",
     "output_type": "stream",
     "text": [
      "100%|██████████| 19/19 [00:00<00:00, 5496.36it/s]\n"
     ]
    },
    {
     "name": "stdout",
     "output_type": "stream",
     "text": [
      "[==============                                    ] 29.46%\n",
      "Testing pipeline_2D_thr_0.4_norm_minmax_0_8 pipeline\n"
     ]
    },
    {
     "name": "stderr",
     "output_type": "stream",
     "text": [
      "100%|██████████| 19/19 [00:00<00:00, 5702.04it/s]\n"
     ]
    },
    {
     "name": "stdout",
     "output_type": "stream",
     "text": [
      "[==============                                    ] 29.58%\n",
      "Testing pipeline_2D_thr_0.4_norm_minmax_0_9 pipeline\n"
     ]
    },
    {
     "name": "stderr",
     "output_type": "stream",
     "text": [
      "100%|██████████| 19/19 [00:00<00:00, 5536.84it/s]\n"
     ]
    },
    {
     "name": "stdout",
     "output_type": "stream",
     "text": [
      "[==============                                    ] 29.69%\n",
      "Testing pipeline_2D_thr_0.4_norm_minmax_0_10 pipeline\n"
     ]
    },
    {
     "name": "stderr",
     "output_type": "stream",
     "text": [
      "100%|██████████| 19/19 [00:00<00:00, 5988.71it/s]\n"
     ]
    },
    {
     "name": "stdout",
     "output_type": "stream",
     "text": [
      "[==============                                    ] 29.80%\n",
      "Testing pipeline_2D_thr_0.4_norm_minmax_0_11 pipeline\n"
     ]
    },
    {
     "name": "stderr",
     "output_type": "stream",
     "text": [
      "100%|██████████| 19/19 [00:00<00:00, 6868.80it/s]\n"
     ]
    },
    {
     "name": "stdout",
     "output_type": "stream",
     "text": [
      "[==============                                    ] 29.91%\n",
      "Testing pipeline_2D_thr_0.4_norm_minmax_0_12 pipeline\n"
     ]
    },
    {
     "name": "stderr",
     "output_type": "stream",
     "text": [
      "100%|██████████| 19/19 [00:00<00:00, 6781.70it/s]\n"
     ]
    },
    {
     "name": "stdout",
     "output_type": "stream",
     "text": [
      "[===============                                   ] 30.02%\n",
      "Testing pipeline_2D_thr_0.4_norm_minmax_0_13 pipeline\n"
     ]
    },
    {
     "name": "stderr",
     "output_type": "stream",
     "text": [
      "100%|██████████| 19/19 [00:00<00:00, 4362.37it/s]\n"
     ]
    },
    {
     "name": "stdout",
     "output_type": "stream",
     "text": [
      "[===============                                   ] 30.13%\n",
      "Testing pipeline_2D_thr_0.4_norm_minmax_0_14 pipeline\n"
     ]
    },
    {
     "name": "stderr",
     "output_type": "stream",
     "text": [
      "100%|██████████| 19/19 [00:00<00:00, 4799.84it/s]\n"
     ]
    },
    {
     "name": "stdout",
     "output_type": "stream",
     "text": [
      "[===============                                   ] 30.25%\n",
      "Testing pipeline_2D_thr_0.4_norm_minmax_0_15 pipeline\n"
     ]
    },
    {
     "name": "stderr",
     "output_type": "stream",
     "text": [
      "100%|██████████| 19/19 [00:00<00:00, 7167.17it/s]"
     ]
    },
    {
     "name": "stdout",
     "output_type": "stream",
     "text": [
      "[===============                                   ] 30.36%"
     ]
    },
    {
     "name": "stderr",
     "output_type": "stream",
     "text": [
      "\n"
     ]
    },
    {
     "name": "stdout",
     "output_type": "stream",
     "text": [
      "\n",
      "Testing pipeline_2D_thr_0.4_norm_minmax_1_0 pipeline\n"
     ]
    },
    {
     "name": "stderr",
     "output_type": "stream",
     "text": [
      "100%|██████████| 19/19 [00:00<00:00, 5816.92it/s]"
     ]
    },
    {
     "name": "stdout",
     "output_type": "stream",
     "text": [
      "[===============                                   ] 30.47%"
     ]
    },
    {
     "name": "stderr",
     "output_type": "stream",
     "text": [
      "\n"
     ]
    },
    {
     "name": "stdout",
     "output_type": "stream",
     "text": [
      "\n",
      "Testing pipeline_2D_thr_0.4_norm_minmax_1_1 pipeline\n"
     ]
    },
    {
     "name": "stderr",
     "output_type": "stream",
     "text": [
      "100%|██████████| 19/19 [00:00<00:00, 7667.83it/s]"
     ]
    },
    {
     "name": "stdout",
     "output_type": "stream",
     "text": [
      "[===============                                   ] 30.58%"
     ]
    },
    {
     "name": "stderr",
     "output_type": "stream",
     "text": [
      "\n"
     ]
    },
    {
     "name": "stdout",
     "output_type": "stream",
     "text": [
      "\n",
      "Testing pipeline_2D_thr_0.4_norm_minmax_1_2 pipeline\n"
     ]
    },
    {
     "name": "stderr",
     "output_type": "stream",
     "text": [
      "100%|██████████| 19/19 [00:00<00:00, 6969.11it/s]\n"
     ]
    },
    {
     "name": "stdout",
     "output_type": "stream",
     "text": [
      "[===============                                   ] 30.69%\n",
      "Testing pipeline_2D_thr_0.4_norm_minmax_1_3 pipeline\n"
     ]
    },
    {
     "name": "stderr",
     "output_type": "stream",
     "text": [
      "100%|██████████| 19/19 [00:00<00:00, 6396.32it/s]"
     ]
    },
    {
     "name": "stdout",
     "output_type": "stream",
     "text": [
      "[===============                                   ] 30.80%"
     ]
    },
    {
     "name": "stderr",
     "output_type": "stream",
     "text": [
      "\n"
     ]
    },
    {
     "name": "stdout",
     "output_type": "stream",
     "text": [
      "\n",
      "Testing pipeline_2D_thr_0.4_norm_minmax_1_4 pipeline\n"
     ]
    },
    {
     "name": "stderr",
     "output_type": "stream",
     "text": [
      "100%|██████████| 19/19 [00:00<00:00, 4918.94it/s]\n"
     ]
    },
    {
     "name": "stdout",
     "output_type": "stream",
     "text": [
      "[===============                                   ] 30.92%\n",
      "Testing pipeline_2D_thr_0.4_norm_minmax_1_5 pipeline\n"
     ]
    },
    {
     "name": "stderr",
     "output_type": "stream",
     "text": [
      "100%|██████████| 19/19 [00:00<00:00, 6695.10it/s]"
     ]
    },
    {
     "name": "stdout",
     "output_type": "stream",
     "text": [
      "[===============                                   ] 31.03%"
     ]
    },
    {
     "name": "stderr",
     "output_type": "stream",
     "text": [
      "\n"
     ]
    },
    {
     "name": "stdout",
     "output_type": "stream",
     "text": [
      "\n",
      "Testing pipeline_2D_thr_0.4_norm_minmax_1_6 pipeline\n"
     ]
    },
    {
     "name": "stderr",
     "output_type": "stream",
     "text": [
      "100%|██████████| 19/19 [00:00<00:00, 5377.68it/s]\n"
     ]
    },
    {
     "name": "stdout",
     "output_type": "stream",
     "text": [
      "[===============                                   ] 31.14%\n",
      "Testing pipeline_2D_thr_0.4_norm_minmax_1_7 pipeline\n"
     ]
    },
    {
     "name": "stderr",
     "output_type": "stream",
     "text": [
      "100%|██████████| 19/19 [00:00<00:00, 6001.34it/s]\n"
     ]
    },
    {
     "name": "stdout",
     "output_type": "stream",
     "text": [
      "[===============                                   ] 31.25%\n",
      "Testing pipeline_2D_thr_0.4_norm_minmax_1_8 pipeline\n"
     ]
    },
    {
     "name": "stderr",
     "output_type": "stream",
     "text": [
      "100%|██████████| 19/19 [00:00<00:00, 5682.93it/s]\n"
     ]
    },
    {
     "name": "stdout",
     "output_type": "stream",
     "text": [
      "[===============                                   ] 31.36%\n",
      "Testing pipeline_2D_thr_0.4_norm_minmax_1_9 pipeline\n"
     ]
    },
    {
     "name": "stderr",
     "output_type": "stream",
     "text": [
      "100%|██████████| 19/19 [00:00<00:00, 7132.53it/s]\n"
     ]
    },
    {
     "name": "stdout",
     "output_type": "stream",
     "text": [
      "[===============                                   ] 31.47%\n",
      "Testing pipeline_2D_thr_0.4_norm_minmax_1_10 pipeline\n"
     ]
    },
    {
     "name": "stderr",
     "output_type": "stream",
     "text": [
      "100%|██████████| 19/19 [00:00<00:00, 7560.17it/s]\n"
     ]
    },
    {
     "name": "stdout",
     "output_type": "stream",
     "text": [
      "[===============                                   ] 31.58%\n",
      "Testing pipeline_2D_thr_0.4_norm_minmax_1_11 pipeline\n"
     ]
    },
    {
     "name": "stderr",
     "output_type": "stream",
     "text": [
      "100%|██████████| 19/19 [00:00<00:00, 5981.52it/s]\n"
     ]
    },
    {
     "name": "stdout",
     "output_type": "stream",
     "text": [
      "[===============                                   ] 31.70%\n",
      "Testing pipeline_2D_thr_0.4_norm_minmax_1_12 pipeline\n"
     ]
    },
    {
     "name": "stderr",
     "output_type": "stream",
     "text": [
      "100%|██████████| 19/19 [00:00<00:00, 5272.36it/s]\n"
     ]
    },
    {
     "name": "stdout",
     "output_type": "stream",
     "text": [
      "[===============                                   ] 31.81%\n",
      "Testing pipeline_2D_thr_0.4_norm_minmax_1_13 pipeline\n"
     ]
    },
    {
     "name": "stderr",
     "output_type": "stream",
     "text": [
      "100%|██████████| 19/19 [00:00<00:00, 7392.56it/s]\n"
     ]
    },
    {
     "name": "stdout",
     "output_type": "stream",
     "text": [
      "[===============                                   ] 31.92%\n",
      "Testing pipeline_2D_thr_0.4_norm_minmax_1_14 pipeline\n"
     ]
    },
    {
     "name": "stderr",
     "output_type": "stream",
     "text": [
      "100%|██████████| 19/19 [00:00<00:00, 5791.13it/s]\n"
     ]
    },
    {
     "name": "stdout",
     "output_type": "stream",
     "text": [
      "[================                                  ] 32.03%\n",
      "Testing pipeline_2D_thr_0.4_norm_minmax_1_15 pipeline\n"
     ]
    },
    {
     "name": "stderr",
     "output_type": "stream",
     "text": [
      "100%|██████████| 19/19 [00:00<00:00, 5524.18it/s]"
     ]
    },
    {
     "name": "stdout",
     "output_type": "stream",
     "text": [
      "[================                                  ] 32.14%"
     ]
    },
    {
     "name": "stderr",
     "output_type": "stream",
     "text": [
      "\n"
     ]
    },
    {
     "name": "stdout",
     "output_type": "stream",
     "text": [
      "\n",
      "Testing pipeline_2D_thr_0.4_norm_minmax_2_0 pipeline\n"
     ]
    },
    {
     "name": "stderr",
     "output_type": "stream",
     "text": [
      "100%|██████████| 19/19 [00:00<00:00, 5915.80it/s]"
     ]
    },
    {
     "name": "stdout",
     "output_type": "stream",
     "text": [
      "[================                                  ] 32.25%"
     ]
    },
    {
     "name": "stderr",
     "output_type": "stream",
     "text": [
      "\n"
     ]
    },
    {
     "name": "stdout",
     "output_type": "stream",
     "text": [
      "\n",
      "Testing pipeline_2D_thr_0.4_norm_minmax_2_1 pipeline\n"
     ]
    },
    {
     "name": "stderr",
     "output_type": "stream",
     "text": [
      "100%|██████████| 19/19 [00:00<00:00, 6136.75it/s]"
     ]
    },
    {
     "name": "stdout",
     "output_type": "stream",
     "text": [
      "[================                                  ] 32.37%"
     ]
    },
    {
     "name": "stderr",
     "output_type": "stream",
     "text": [
      "\n"
     ]
    },
    {
     "name": "stdout",
     "output_type": "stream",
     "text": [
      "\n",
      "Testing pipeline_2D_thr_0.4_norm_minmax_2_2 pipeline\n"
     ]
    },
    {
     "name": "stderr",
     "output_type": "stream",
     "text": [
      "100%|██████████| 19/19 [00:00<00:00, 6918.89it/s]\n"
     ]
    },
    {
     "name": "stdout",
     "output_type": "stream",
     "text": [
      "[================                                  ] 32.48%\n",
      "Testing pipeline_2D_thr_0.4_norm_minmax_2_3 pipeline\n"
     ]
    },
    {
     "name": "stderr",
     "output_type": "stream",
     "text": [
      "100%|██████████| 19/19 [00:00<00:00, 5315.62it/s]"
     ]
    },
    {
     "name": "stdout",
     "output_type": "stream",
     "text": [
      "[================                                  ] 32.59%"
     ]
    },
    {
     "name": "stderr",
     "output_type": "stream",
     "text": [
      "\n"
     ]
    },
    {
     "name": "stdout",
     "output_type": "stream",
     "text": [
      "\n",
      "Testing pipeline_2D_thr_0.4_norm_minmax_2_4 pipeline\n"
     ]
    },
    {
     "name": "stderr",
     "output_type": "stream",
     "text": [
      "100%|██████████| 19/19 [00:00<00:00, 5970.32it/s]\n"
     ]
    },
    {
     "name": "stdout",
     "output_type": "stream",
     "text": [
      "[================                                  ] 32.70%\n",
      "Testing pipeline_2D_thr_0.4_norm_minmax_2_5 pipeline\n"
     ]
    },
    {
     "name": "stderr",
     "output_type": "stream",
     "text": [
      "100%|██████████| 19/19 [00:00<00:00, 6986.22it/s]"
     ]
    },
    {
     "name": "stdout",
     "output_type": "stream",
     "text": [
      "[================                                  ] 32.81%"
     ]
    },
    {
     "name": "stderr",
     "output_type": "stream",
     "text": [
      "\n"
     ]
    },
    {
     "name": "stdout",
     "output_type": "stream",
     "text": [
      "\n",
      "Testing pipeline_2D_thr_0.4_norm_minmax_2_6 pipeline\n"
     ]
    },
    {
     "name": "stderr",
     "output_type": "stream",
     "text": [
      "100%|██████████| 19/19 [00:00<00:00, 6698.48it/s]\n"
     ]
    },
    {
     "name": "stdout",
     "output_type": "stream",
     "text": [
      "[================                                  ] 32.92%\n",
      "Testing pipeline_2D_thr_0.4_norm_minmax_2_7 pipeline\n"
     ]
    },
    {
     "name": "stderr",
     "output_type": "stream",
     "text": [
      "100%|██████████| 19/19 [00:00<00:00, 4718.28it/s]\n"
     ]
    },
    {
     "name": "stdout",
     "output_type": "stream",
     "text": [
      "[================                                  ] 33.04%\n",
      "Testing pipeline_2D_thr_0.4_norm_minmax_2_8 pipeline\n"
     ]
    },
    {
     "name": "stderr",
     "output_type": "stream",
     "text": [
      "100%|██████████| 19/19 [00:00<00:00, 4896.88it/s]\n"
     ]
    },
    {
     "name": "stdout",
     "output_type": "stream",
     "text": [
      "[================                                  ] 33.15%\n",
      "Testing pipeline_2D_thr_0.4_norm_minmax_2_9 pipeline\n"
     ]
    },
    {
     "name": "stderr",
     "output_type": "stream",
     "text": [
      "100%|██████████| 19/19 [00:00<00:00, 7239.44it/s]\n"
     ]
    },
    {
     "name": "stdout",
     "output_type": "stream",
     "text": [
      "[================                                  ] 33.26%\n",
      "Testing pipeline_2D_thr_0.4_norm_minmax_2_10 pipeline\n"
     ]
    },
    {
     "name": "stderr",
     "output_type": "stream",
     "text": [
      "100%|██████████| 19/19 [00:00<00:00, 7107.72it/s]\n"
     ]
    },
    {
     "name": "stdout",
     "output_type": "stream",
     "text": [
      "[================                                  ] 33.37%\n",
      "Testing pipeline_2D_thr_0.4_norm_minmax_2_11 pipeline\n"
     ]
    },
    {
     "name": "stderr",
     "output_type": "stream",
     "text": [
      "100%|██████████| 19/19 [00:00<00:00, 6132.97it/s]\n"
     ]
    },
    {
     "name": "stdout",
     "output_type": "stream",
     "text": [
      "[================                                  ] 33.48%\n",
      "Testing pipeline_2D_thr_0.4_norm_minmax_2_12 pipeline\n"
     ]
    },
    {
     "name": "stderr",
     "output_type": "stream",
     "text": [
      "100%|██████████| 19/19 [00:00<00:00, 3357.14it/s]\n"
     ]
    },
    {
     "name": "stdout",
     "output_type": "stream",
     "text": [
      "[================                                  ] 33.59%\n",
      "Testing pipeline_2D_thr_0.4_norm_minmax_2_13 pipeline\n"
     ]
    },
    {
     "name": "stderr",
     "output_type": "stream",
     "text": [
      "100%|██████████| 19/19 [00:00<00:00, 4991.34it/s]\n"
     ]
    },
    {
     "name": "stdout",
     "output_type": "stream",
     "text": [
      "[================                                  ] 33.71%\n",
      "Testing pipeline_2D_thr_0.4_norm_minmax_2_14 pipeline\n"
     ]
    },
    {
     "name": "stderr",
     "output_type": "stream",
     "text": [
      "100%|██████████| 19/19 [00:00<00:00, 6498.02it/s]\n"
     ]
    },
    {
     "name": "stdout",
     "output_type": "stream",
     "text": [
      "[================                                  ] 33.82%\n",
      "Testing pipeline_2D_thr_0.4_norm_minmax_2_15 pipeline\n"
     ]
    },
    {
     "name": "stderr",
     "output_type": "stream",
     "text": [
      "100%|██████████| 19/19 [00:00<00:00, 6173.83it/s]"
     ]
    },
    {
     "name": "stdout",
     "output_type": "stream",
     "text": [
      "[================                                  ] 33.93%"
     ]
    },
    {
     "name": "stderr",
     "output_type": "stream",
     "text": [
      "\n"
     ]
    },
    {
     "name": "stdout",
     "output_type": "stream",
     "text": [
      "\n",
      "Testing pipeline_2D_thr_0.4_norm_minmax_3_0 pipeline\n"
     ]
    },
    {
     "name": "stderr",
     "output_type": "stream",
     "text": [
      "100%|██████████| 19/19 [00:00<00:00, 6410.73it/s]"
     ]
    },
    {
     "name": "stdout",
     "output_type": "stream",
     "text": [
      "[=================                                 ] 34.04%"
     ]
    },
    {
     "name": "stderr",
     "output_type": "stream",
     "text": [
      "\n"
     ]
    },
    {
     "name": "stdout",
     "output_type": "stream",
     "text": [
      "\n",
      "Testing pipeline_2D_thr_0.4_norm_minmax_3_1 pipeline\n"
     ]
    },
    {
     "name": "stderr",
     "output_type": "stream",
     "text": [
      "100%|██████████| 19/19 [00:00<00:00, 6672.68it/s]"
     ]
    },
    {
     "name": "stdout",
     "output_type": "stream",
     "text": [
      "[=================                                 ] 34.15%"
     ]
    },
    {
     "name": "stderr",
     "output_type": "stream",
     "text": [
      "\n"
     ]
    },
    {
     "name": "stdout",
     "output_type": "stream",
     "text": [
      "\n",
      "Testing pipeline_2D_thr_0.4_norm_minmax_3_2 pipeline\n"
     ]
    },
    {
     "name": "stderr",
     "output_type": "stream",
     "text": [
      "100%|██████████| 19/19 [00:00<00:00, 6536.94it/s]\n"
     ]
    },
    {
     "name": "stdout",
     "output_type": "stream",
     "text": [
      "[=================                                 ] 34.26%\n",
      "Testing pipeline_2D_thr_0.4_norm_minmax_3_3 pipeline\n"
     ]
    },
    {
     "name": "stderr",
     "output_type": "stream",
     "text": [
      "100%|██████████| 19/19 [00:00<00:00, 6032.69it/s]"
     ]
    },
    {
     "name": "stdout",
     "output_type": "stream",
     "text": [
      "[=================                                 ] 34.38%"
     ]
    },
    {
     "name": "stderr",
     "output_type": "stream",
     "text": [
      "\n"
     ]
    },
    {
     "name": "stdout",
     "output_type": "stream",
     "text": [
      "\n",
      "Testing pipeline_2D_thr_0.4_norm_minmax_3_4 pipeline\n"
     ]
    },
    {
     "name": "stderr",
     "output_type": "stream",
     "text": [
      "100%|██████████| 19/19 [00:00<00:00, 6639.32it/s]\n"
     ]
    },
    {
     "name": "stdout",
     "output_type": "stream",
     "text": [
      "[=================                                 ] 34.49%\n",
      "Testing pipeline_2D_thr_0.4_norm_minmax_3_5 pipeline\n"
     ]
    },
    {
     "name": "stderr",
     "output_type": "stream",
     "text": [
      "100%|██████████| 19/19 [00:00<00:00, 6375.34it/s]"
     ]
    },
    {
     "name": "stdout",
     "output_type": "stream",
     "text": [
      "[=================                                 ] 34.60%"
     ]
    },
    {
     "name": "stderr",
     "output_type": "stream",
     "text": [
      "\n"
     ]
    },
    {
     "name": "stdout",
     "output_type": "stream",
     "text": [
      "\n",
      "Testing pipeline_2D_thr_0.4_norm_minmax_3_6 pipeline\n"
     ]
    },
    {
     "name": "stderr",
     "output_type": "stream",
     "text": [
      "100%|██████████| 19/19 [00:00<00:00, 6270.01it/s]\n"
     ]
    },
    {
     "name": "stdout",
     "output_type": "stream",
     "text": [
      "[=================                                 ] 34.71%\n",
      "Testing pipeline_2D_thr_0.4_norm_minmax_3_7 pipeline\n"
     ]
    },
    {
     "name": "stderr",
     "output_type": "stream",
     "text": [
      "100%|██████████| 19/19 [00:00<00:00, 7080.57it/s]\n"
     ]
    },
    {
     "name": "stdout",
     "output_type": "stream",
     "text": [
      "[=================                                 ] 34.82%\n",
      "Testing pipeline_2D_thr_0.4_norm_minmax_3_8 pipeline\n"
     ]
    },
    {
     "name": "stderr",
     "output_type": "stream",
     "text": [
      "100%|██████████| 19/19 [00:00<00:00, 6396.32it/s]\n"
     ]
    },
    {
     "name": "stdout",
     "output_type": "stream",
     "text": [
      "[=================                                 ] 34.93%\n",
      "Testing pipeline_2D_thr_0.4_norm_minmax_3_9 pipeline\n"
     ]
    },
    {
     "name": "stderr",
     "output_type": "stream",
     "text": [
      "100%|██████████| 19/19 [00:00<00:00, 6695.10it/s]\n"
     ]
    },
    {
     "name": "stdout",
     "output_type": "stream",
     "text": [
      "[=================                                 ] 35.04%\n",
      "Testing pipeline_2D_thr_0.4_norm_minmax_3_10 pipeline\n"
     ]
    },
    {
     "name": "stderr",
     "output_type": "stream",
     "text": [
      "100%|██████████| 19/19 [00:00<00:00, 6039.54it/s]\n"
     ]
    },
    {
     "name": "stdout",
     "output_type": "stream",
     "text": [
      "[=================                                 ] 35.16%\n",
      "Testing pipeline_2D_thr_0.4_norm_minmax_3_11 pipeline\n"
     ]
    },
    {
     "name": "stderr",
     "output_type": "stream",
     "text": [
      "100%|██████████| 19/19 [00:00<00:00, 5965.85it/s]\n"
     ]
    },
    {
     "name": "stdout",
     "output_type": "stream",
     "text": [
      "[=================                                 ] 35.27%\n",
      "Testing pipeline_2D_thr_0.4_norm_minmax_3_12 pipeline\n"
     ]
    },
    {
     "name": "stderr",
     "output_type": "stream",
     "text": [
      "100%|██████████| 19/19 [00:00<00:00, 6288.31it/s]\n"
     ]
    },
    {
     "name": "stdout",
     "output_type": "stream",
     "text": [
      "[=================                                 ] 35.38%\n",
      "Testing pipeline_2D_thr_0.4_norm_minmax_3_13 pipeline\n"
     ]
    },
    {
     "name": "stderr",
     "output_type": "stream",
     "text": [
      "100%|██████████| 19/19 [00:00<00:00, 6839.91it/s]\n"
     ]
    },
    {
     "name": "stdout",
     "output_type": "stream",
     "text": [
      "[=================                                 ] 35.49%\n",
      "Testing pipeline_2D_thr_0.4_norm_minmax_3_14 pipeline\n"
     ]
    },
    {
     "name": "stderr",
     "output_type": "stream",
     "text": [
      "100%|██████████| 19/19 [00:00<00:00, 5425.64it/s]\n"
     ]
    },
    {
     "name": "stdout",
     "output_type": "stream",
     "text": [
      "[=================                                 ] 35.60%\n",
      "Testing pipeline_2D_thr_0.4_norm_minmax_3_15 pipeline\n"
     ]
    },
    {
     "name": "stderr",
     "output_type": "stream",
     "text": [
      "100%|██████████| 19/19 [00:00<00:00, 5666.77it/s]"
     ]
    },
    {
     "name": "stdout",
     "output_type": "stream",
     "text": [
      "[=================                                 ] 35.71%"
     ]
    },
    {
     "name": "stderr",
     "output_type": "stream",
     "text": [
      "\n"
     ]
    },
    {
     "name": "stdout",
     "output_type": "stream",
     "text": [
      "\n",
      "Testing pipeline_2D_thr_0.4_norm_percentile_0_0 pipeline\n"
     ]
    },
    {
     "name": "stderr",
     "output_type": "stream",
     "text": [
      "100%|██████████| 19/19 [00:00<00:00, 5506.62it/s]"
     ]
    },
    {
     "name": "stdout",
     "output_type": "stream",
     "text": [
      "[=================                                 ] 35.83%"
     ]
    },
    {
     "name": "stderr",
     "output_type": "stream",
     "text": [
      "\n"
     ]
    },
    {
     "name": "stdout",
     "output_type": "stream",
     "text": [
      "\n",
      "Testing pipeline_2D_thr_0.4_norm_percentile_0_1 pipeline\n"
     ]
    },
    {
     "name": "stderr",
     "output_type": "stream",
     "text": [
      "100%|██████████| 19/19 [00:00<00:00, 6382.49it/s]"
     ]
    },
    {
     "name": "stdout",
     "output_type": "stream",
     "text": [
      "[=================                                 ] 35.94%"
     ]
    },
    {
     "name": "stderr",
     "output_type": "stream",
     "text": [
      "\n"
     ]
    },
    {
     "name": "stdout",
     "output_type": "stream",
     "text": [
      "\n",
      "Testing pipeline_2D_thr_0.4_norm_percentile_0_2 pipeline\n"
     ]
    },
    {
     "name": "stderr",
     "output_type": "stream",
     "text": [
      "100%|██████████| 19/19 [00:00<00:00, 7052.99it/s]\n"
     ]
    },
    {
     "name": "stdout",
     "output_type": "stream",
     "text": [
      "[==================                                ] 36.05%\n",
      "Testing pipeline_2D_thr_0.4_norm_percentile_0_3 pipeline\n"
     ]
    },
    {
     "name": "stderr",
     "output_type": "stream",
     "text": [
      "100%|██████████| 19/19 [00:00<00:00, 7459.68it/s]"
     ]
    },
    {
     "name": "stdout",
     "output_type": "stream",
     "text": [
      "[==================                                ] 36.16%"
     ]
    },
    {
     "name": "stderr",
     "output_type": "stream",
     "text": [
      "\n"
     ]
    },
    {
     "name": "stdout",
     "output_type": "stream",
     "text": [
      "\n",
      "Testing pipeline_2D_thr_0.4_norm_percentile_0_4 pipeline\n"
     ]
    },
    {
     "name": "stderr",
     "output_type": "stream",
     "text": [
      "100%|██████████| 19/19 [00:00<00:00, 5299.01it/s]\n"
     ]
    },
    {
     "name": "stdout",
     "output_type": "stream",
     "text": [
      "[==================                                ] 36.27%\n",
      "Testing pipeline_2D_thr_0.4_norm_percentile_0_5 pipeline\n"
     ]
    },
    {
     "name": "stderr",
     "output_type": "stream",
     "text": [
      "100%|██████████| 19/19 [00:00<00:00, 4956.26it/s]"
     ]
    },
    {
     "name": "stdout",
     "output_type": "stream",
     "text": [
      "[==================                                ] 36.38%"
     ]
    },
    {
     "name": "stderr",
     "output_type": "stream",
     "text": [
      "\n"
     ]
    },
    {
     "name": "stdout",
     "output_type": "stream",
     "text": [
      "\n",
      "Testing pipeline_2D_thr_0.4_norm_percentile_0_6 pipeline\n"
     ]
    },
    {
     "name": "stderr",
     "output_type": "stream",
     "text": [
      "100%|██████████| 19/19 [00:00<00:00, 5078.50it/s]\n"
     ]
    },
    {
     "name": "stdout",
     "output_type": "stream",
     "text": [
      "[==================                                ] 36.50%\n",
      "Testing pipeline_2D_thr_0.4_norm_percentile_0_7 pipeline\n"
     ]
    },
    {
     "name": "stderr",
     "output_type": "stream",
     "text": [
      "100%|██████████| 19/19 [00:00<00:00, 5438.23it/s]\n"
     ]
    },
    {
     "name": "stdout",
     "output_type": "stream",
     "text": [
      "[==================                                ] 36.61%\n",
      "Testing pipeline_2D_thr_0.4_norm_percentile_0_8 pipeline\n"
     ]
    },
    {
     "name": "stderr",
     "output_type": "stream",
     "text": [
      "100%|██████████| 19/19 [00:00<00:00, 5045.70it/s]\n"
     ]
    },
    {
     "name": "stdout",
     "output_type": "stream",
     "text": [
      "[==================                                ] 36.72%\n",
      "Testing pipeline_2D_thr_0.4_norm_percentile_0_9 pipeline\n"
     ]
    },
    {
     "name": "stderr",
     "output_type": "stream",
     "text": [
      "100%|██████████| 19/19 [00:00<00:00, 6306.23it/s]\n"
     ]
    },
    {
     "name": "stdout",
     "output_type": "stream",
     "text": [
      "[==================                                ] 36.83%\n",
      "Testing pipeline_2D_thr_0.4_norm_percentile_0_10 pipeline\n"
     ]
    },
    {
     "name": "stderr",
     "output_type": "stream",
     "text": [
      "100%|██████████| 19/19 [00:00<00:00, 4779.12it/s]\n"
     ]
    },
    {
     "name": "stdout",
     "output_type": "stream",
     "text": [
      "[==================                                ] 36.94%\n",
      "Testing pipeline_2D_thr_0.4_norm_percentile_0_11 pipeline\n"
     ]
    },
    {
     "name": "stderr",
     "output_type": "stream",
     "text": [
      "100%|██████████| 19/19 [00:00<00:00, 6731.86it/s]\n"
     ]
    },
    {
     "name": "stdout",
     "output_type": "stream",
     "text": [
      "[==================                                ] 37.05%\n",
      "Testing pipeline_2D_thr_0.4_norm_percentile_0_12 pipeline\n"
     ]
    },
    {
     "name": "stderr",
     "output_type": "stream",
     "text": [
      "100%|██████████| 19/19 [00:00<00:00, 6495.91it/s]\n"
     ]
    },
    {
     "name": "stdout",
     "output_type": "stream",
     "text": [
      "[==================                                ] 37.17%\n",
      "Testing pipeline_2D_thr_0.4_norm_percentile_0_13 pipeline\n"
     ]
    },
    {
     "name": "stderr",
     "output_type": "stream",
     "text": [
      "100%|██████████| 19/19 [00:00<00:00, 6797.90it/s]\n"
     ]
    },
    {
     "name": "stdout",
     "output_type": "stream",
     "text": [
      "[==================                                ] 37.28%\n",
      "Testing pipeline_2D_thr_0.4_norm_percentile_0_14 pipeline\n"
     ]
    },
    {
     "name": "stderr",
     "output_type": "stream",
     "text": [
      "100%|██████████| 19/19 [00:00<00:00, 5474.09it/s]\n"
     ]
    },
    {
     "name": "stdout",
     "output_type": "stream",
     "text": [
      "[==================                                ] 37.39%\n",
      "Testing pipeline_2D_thr_0.4_norm_percentile_0_15 pipeline\n"
     ]
    },
    {
     "name": "stderr",
     "output_type": "stream",
     "text": [
      "100%|██████████| 19/19 [00:00<00:00, 6747.82it/s]"
     ]
    },
    {
     "name": "stdout",
     "output_type": "stream",
     "text": [
      "[==================                                ] 37.50%"
     ]
    },
    {
     "name": "stderr",
     "output_type": "stream",
     "text": [
      "\n"
     ]
    },
    {
     "name": "stdout",
     "output_type": "stream",
     "text": [
      "\n",
      "Testing pipeline_2D_thr_0.4_norm_percentile_1_0 pipeline\n"
     ]
    },
    {
     "name": "stderr",
     "output_type": "stream",
     "text": [
      "100%|██████████| 19/19 [00:00<00:00, 6807.19it/s]"
     ]
    },
    {
     "name": "stdout",
     "output_type": "stream",
     "text": [
      "[==================                                ] 37.61%"
     ]
    },
    {
     "name": "stderr",
     "output_type": "stream",
     "text": [
      "\n"
     ]
    },
    {
     "name": "stdout",
     "output_type": "stream",
     "text": [
      "\n",
      "Testing pipeline_2D_thr_0.4_norm_percentile_1_1 pipeline\n"
     ]
    },
    {
     "name": "stderr",
     "output_type": "stream",
     "text": [
      "100%|██████████| 19/19 [00:00<00:00, 4939.67it/s]"
     ]
    },
    {
     "name": "stdout",
     "output_type": "stream",
     "text": [
      "[==================                                ] 37.72%"
     ]
    },
    {
     "name": "stderr",
     "output_type": "stream",
     "text": [
      "\n"
     ]
    },
    {
     "name": "stdout",
     "output_type": "stream",
     "text": [
      "\n",
      "Testing pipeline_2D_thr_0.4_norm_percentile_1_2 pipeline\n"
     ]
    },
    {
     "name": "stderr",
     "output_type": "stream",
     "text": [
      "100%|██████████| 19/19 [00:00<00:00, 5359.59it/s]\n"
     ]
    },
    {
     "name": "stdout",
     "output_type": "stream",
     "text": [
      "[==================                                ] 37.83%\n",
      "Testing pipeline_2D_thr_0.4_norm_percentile_1_3 pipeline\n"
     ]
    },
    {
     "name": "stderr",
     "output_type": "stream",
     "text": [
      "100%|██████████| 19/19 [00:00<00:00, 5295.13it/s]"
     ]
    },
    {
     "name": "stdout",
     "output_type": "stream",
     "text": [
      "[==================                                ] 37.95%"
     ]
    },
    {
     "name": "stderr",
     "output_type": "stream",
     "text": [
      "\n"
     ]
    },
    {
     "name": "stdout",
     "output_type": "stream",
     "text": [
      "\n",
      "Testing pipeline_2D_thr_0.4_norm_percentile_1_4 pipeline\n"
     ]
    },
    {
     "name": "stderr",
     "output_type": "stream",
     "text": [
      "100%|██████████| 19/19 [00:00<00:00, 6497.49it/s]\n"
     ]
    },
    {
     "name": "stdout",
     "output_type": "stream",
     "text": [
      "[===================                               ] 38.06%\n",
      "Testing pipeline_2D_thr_0.4_norm_percentile_1_5 pipeline\n"
     ]
    },
    {
     "name": "stderr",
     "output_type": "stream",
     "text": [
      "100%|██████████| 19/19 [00:00<00:00, 6193.02it/s]"
     ]
    },
    {
     "name": "stdout",
     "output_type": "stream",
     "text": [
      "[===================                               ] 38.17%"
     ]
    },
    {
     "name": "stderr",
     "output_type": "stream",
     "text": [
      "\n"
     ]
    },
    {
     "name": "stdout",
     "output_type": "stream",
     "text": [
      "\n",
      "Testing pipeline_2D_thr_0.4_norm_percentile_1_6 pipeline\n"
     ]
    },
    {
     "name": "stderr",
     "output_type": "stream",
     "text": [
      "100%|██████████| 19/19 [00:00<00:00, 6799.06it/s]\n"
     ]
    },
    {
     "name": "stdout",
     "output_type": "stream",
     "text": [
      "[===================                               ] 38.28%\n",
      "Testing pipeline_2D_thr_0.4_norm_percentile_1_7 pipeline\n"
     ]
    },
    {
     "name": "stderr",
     "output_type": "stream",
     "text": [
      "100%|██████████| 19/19 [00:00<00:00, 5196.05it/s]\n"
     ]
    },
    {
     "name": "stdout",
     "output_type": "stream",
     "text": [
      "[===================                               ] 38.39%\n",
      "Testing pipeline_2D_thr_0.4_norm_percentile_1_8 pipeline\n"
     ]
    },
    {
     "name": "stderr",
     "output_type": "stream",
     "text": [
      "100%|██████████| 19/19 [00:00<00:00, 6311.22it/s]\n"
     ]
    },
    {
     "name": "stdout",
     "output_type": "stream",
     "text": [
      "[===================                               ] 38.50%\n",
      "Testing pipeline_2D_thr_0.4_norm_percentile_1_9 pipeline\n"
     ]
    },
    {
     "name": "stderr",
     "output_type": "stream",
     "text": [
      "100%|██████████| 19/19 [00:00<00:00, 6699.60it/s]\n"
     ]
    },
    {
     "name": "stdout",
     "output_type": "stream",
     "text": [
      "[===================                               ] 38.62%\n",
      "Testing pipeline_2D_thr_0.4_norm_percentile_1_10 pipeline\n"
     ]
    },
    {
     "name": "stderr",
     "output_type": "stream",
     "text": [
      "100%|██████████| 19/19 [00:00<00:00, 6936.35it/s]\n"
     ]
    },
    {
     "name": "stdout",
     "output_type": "stream",
     "text": [
      "[===================                               ] 38.73%\n",
      "Testing pipeline_2D_thr_0.4_norm_percentile_1_11 pipeline\n"
     ]
    },
    {
     "name": "stderr",
     "output_type": "stream",
     "text": [
      "100%|██████████| 19/19 [00:00<00:00, 6785.74it/s]\n"
     ]
    },
    {
     "name": "stdout",
     "output_type": "stream",
     "text": [
      "[===================                               ] 38.84%\n",
      "Testing pipeline_2D_thr_0.4_norm_percentile_1_12 pipeline\n"
     ]
    },
    {
     "name": "stderr",
     "output_type": "stream",
     "text": [
      "100%|██████████| 19/19 [00:00<00:00, 4883.37it/s]\n"
     ]
    },
    {
     "name": "stdout",
     "output_type": "stream",
     "text": [
      "[===================                               ] 38.95%\n",
      "Testing pipeline_2D_thr_0.4_norm_percentile_1_13 pipeline\n"
     ]
    },
    {
     "name": "stderr",
     "output_type": "stream",
     "text": [
      "100%|██████████| 19/19 [00:00<00:00, 6665.98it/s]\n"
     ]
    },
    {
     "name": "stdout",
     "output_type": "stream",
     "text": [
      "[===================                               ] 39.06%\n",
      "Testing pipeline_2D_thr_0.4_norm_percentile_1_14 pipeline\n"
     ]
    },
    {
     "name": "stderr",
     "output_type": "stream",
     "text": [
      "100%|██████████| 19/19 [00:00<00:00, 6270.99it/s]\n"
     ]
    },
    {
     "name": "stdout",
     "output_type": "stream",
     "text": [
      "[===================                               ] 39.17%\n",
      "Testing pipeline_2D_thr_0.4_norm_percentile_1_15 pipeline\n"
     ]
    },
    {
     "name": "stderr",
     "output_type": "stream",
     "text": [
      "100%|██████████| 19/19 [00:00<00:00, 4209.81it/s]"
     ]
    },
    {
     "name": "stdout",
     "output_type": "stream",
     "text": [
      "[===================                               ] 39.29%"
     ]
    },
    {
     "name": "stderr",
     "output_type": "stream",
     "text": [
      "\n"
     ]
    },
    {
     "name": "stdout",
     "output_type": "stream",
     "text": [
      "\n",
      "Testing pipeline_2D_thr_0.4_norm_percentile_2_0 pipeline\n"
     ]
    },
    {
     "name": "stderr",
     "output_type": "stream",
     "text": [
      "100%|██████████| 19/19 [00:00<00:00, 6063.90it/s]"
     ]
    },
    {
     "name": "stdout",
     "output_type": "stream",
     "text": [
      "[===================                               ] 39.40%"
     ]
    },
    {
     "name": "stderr",
     "output_type": "stream",
     "text": [
      "\n"
     ]
    },
    {
     "name": "stdout",
     "output_type": "stream",
     "text": [
      "\n",
      "Testing pipeline_2D_thr_0.4_norm_percentile_2_1 pipeline\n"
     ]
    },
    {
     "name": "stderr",
     "output_type": "stream",
     "text": [
      "100%|██████████| 19/19 [00:00<00:00, 6294.27it/s]"
     ]
    },
    {
     "name": "stdout",
     "output_type": "stream",
     "text": [
      "[===================                               ] 39.51%"
     ]
    },
    {
     "name": "stderr",
     "output_type": "stream",
     "text": [
      "\n"
     ]
    },
    {
     "name": "stdout",
     "output_type": "stream",
     "text": [
      "\n",
      "Testing pipeline_2D_thr_0.4_norm_percentile_2_2 pipeline\n"
     ]
    },
    {
     "name": "stderr",
     "output_type": "stream",
     "text": [
      "100%|██████████| 19/19 [00:00<00:00, 5093.10it/s]\n"
     ]
    },
    {
     "name": "stdout",
     "output_type": "stream",
     "text": [
      "[===================                               ] 39.62%\n",
      "Testing pipeline_2D_thr_0.4_norm_percentile_2_3 pipeline\n"
     ]
    },
    {
     "name": "stderr",
     "output_type": "stream",
     "text": [
      "100%|██████████| 19/19 [00:00<00:00, 7313.86it/s]"
     ]
    },
    {
     "name": "stdout",
     "output_type": "stream",
     "text": [
      "[===================                               ] 39.73%"
     ]
    },
    {
     "name": "stderr",
     "output_type": "stream",
     "text": [
      "\n"
     ]
    },
    {
     "name": "stdout",
     "output_type": "stream",
     "text": [
      "\n",
      "Testing pipeline_2D_thr_0.4_norm_percentile_2_4 pipeline\n"
     ]
    },
    {
     "name": "stderr",
     "output_type": "stream",
     "text": [
      "100%|██████████| 19/19 [00:00<00:00, 7530.88it/s]\n"
     ]
    },
    {
     "name": "stdout",
     "output_type": "stream",
     "text": [
      "[===================                               ] 39.84%\n",
      "Testing pipeline_2D_thr_0.4_norm_percentile_2_5 pipeline\n"
     ]
    },
    {
     "name": "stderr",
     "output_type": "stream",
     "text": [
      "100%|██████████| 19/19 [00:00<00:00, 6342.36it/s]"
     ]
    },
    {
     "name": "stdout",
     "output_type": "stream",
     "text": [
      "[===================                               ] 39.96%"
     ]
    },
    {
     "name": "stderr",
     "output_type": "stream",
     "text": [
      "\n"
     ]
    },
    {
     "name": "stdout",
     "output_type": "stream",
     "text": [
      "\n",
      "Testing pipeline_2D_thr_0.4_norm_percentile_2_6 pipeline\n"
     ]
    },
    {
     "name": "stderr",
     "output_type": "stream",
     "text": [
      "100%|██████████| 19/19 [00:00<00:00, 5396.61it/s]\n"
     ]
    },
    {
     "name": "stdout",
     "output_type": "stream",
     "text": [
      "[====================                              ] 40.07%\n",
      "Testing pipeline_2D_thr_0.4_norm_percentile_2_7 pipeline\n"
     ]
    },
    {
     "name": "stderr",
     "output_type": "stream",
     "text": [
      "100%|██████████| 19/19 [00:00<00:00, 5855.38it/s]\n"
     ]
    },
    {
     "name": "stdout",
     "output_type": "stream",
     "text": [
      "[====================                              ] 40.18%\n",
      "Testing pipeline_2D_thr_0.4_norm_percentile_2_8 pipeline\n"
     ]
    },
    {
     "name": "stderr",
     "output_type": "stream",
     "text": [
      "100%|██████████| 19/19 [00:00<00:00, 6704.11it/s]\n"
     ]
    },
    {
     "name": "stdout",
     "output_type": "stream",
     "text": [
      "[====================                              ] 40.29%\n",
      "Testing pipeline_2D_thr_0.4_norm_percentile_2_9 pipeline\n"
     ]
    },
    {
     "name": "stderr",
     "output_type": "stream",
     "text": [
      "100%|██████████| 19/19 [00:00<00:00, 7271.15it/s]\n"
     ]
    },
    {
     "name": "stdout",
     "output_type": "stream",
     "text": [
      "[====================                              ] 40.40%\n",
      "Testing pipeline_2D_thr_0.4_norm_percentile_2_10 pipeline\n"
     ]
    },
    {
     "name": "stderr",
     "output_type": "stream",
     "text": [
      "100%|██████████| 19/19 [00:00<00:00, 7098.86it/s]\n"
     ]
    },
    {
     "name": "stdout",
     "output_type": "stream",
     "text": [
      "[====================                              ] 40.51%\n",
      "Testing pipeline_2D_thr_0.4_norm_percentile_2_11 pipeline\n"
     ]
    },
    {
     "name": "stderr",
     "output_type": "stream",
     "text": [
      "100%|██████████| 19/19 [00:00<00:00, 5736.52it/s]\n"
     ]
    },
    {
     "name": "stdout",
     "output_type": "stream",
     "text": [
      "[====================                              ] 40.62%\n",
      "Testing pipeline_2D_thr_0.4_norm_percentile_2_12 pipeline\n"
     ]
    },
    {
     "name": "stderr",
     "output_type": "stream",
     "text": [
      "100%|██████████| 19/19 [00:00<00:00, 6706.93it/s]\n"
     ]
    },
    {
     "name": "stdout",
     "output_type": "stream",
     "text": [
      "[====================                              ] 40.74%\n",
      "Testing pipeline_2D_thr_0.4_norm_percentile_2_13 pipeline\n"
     ]
    },
    {
     "name": "stderr",
     "output_type": "stream",
     "text": [
      "100%|██████████| 19/19 [00:00<00:00, 6946.63it/s]\n"
     ]
    },
    {
     "name": "stdout",
     "output_type": "stream",
     "text": [
      "[====================                              ] 40.85%\n",
      "Testing pipeline_2D_thr_0.4_norm_percentile_2_14 pipeline\n"
     ]
    },
    {
     "name": "stderr",
     "output_type": "stream",
     "text": [
      "100%|██████████| 19/19 [00:00<00:00, 5872.64it/s]\n"
     ]
    },
    {
     "name": "stdout",
     "output_type": "stream",
     "text": [
      "[====================                              ] 40.96%\n",
      "Testing pipeline_2D_thr_0.4_norm_percentile_2_15 pipeline\n"
     ]
    },
    {
     "name": "stderr",
     "output_type": "stream",
     "text": [
      "100%|██████████| 19/19 [00:00<00:00, 6092.18it/s]"
     ]
    },
    {
     "name": "stdout",
     "output_type": "stream",
     "text": [
      "[====================                              ] 41.07%"
     ]
    },
    {
     "name": "stderr",
     "output_type": "stream",
     "text": [
      "\n"
     ]
    },
    {
     "name": "stdout",
     "output_type": "stream",
     "text": [
      "\n",
      "Testing pipeline_2D_thr_0.4_norm_percentile_3_0 pipeline\n"
     ]
    },
    {
     "name": "stderr",
     "output_type": "stream",
     "text": [
      "100%|██████████| 19/19 [00:00<00:00, 7135.09it/s]"
     ]
    },
    {
     "name": "stdout",
     "output_type": "stream",
     "text": [
      "[====================                              ] 41.18%"
     ]
    },
    {
     "name": "stderr",
     "output_type": "stream",
     "text": [
      "\n"
     ]
    },
    {
     "name": "stdout",
     "output_type": "stream",
     "text": [
      "\n",
      "Testing pipeline_2D_thr_0.4_norm_percentile_3_1 pipeline\n"
     ]
    },
    {
     "name": "stderr",
     "output_type": "stream",
     "text": [
      "100%|██████████| 19/19 [00:00<00:00, 5005.14it/s]"
     ]
    },
    {
     "name": "stdout",
     "output_type": "stream",
     "text": [
      "[====================                              ] 41.29%"
     ]
    },
    {
     "name": "stderr",
     "output_type": "stream",
     "text": [
      "\n"
     ]
    },
    {
     "name": "stdout",
     "output_type": "stream",
     "text": [
      "\n",
      "Testing pipeline_2D_thr_0.4_norm_percentile_3_2 pipeline\n"
     ]
    },
    {
     "name": "stderr",
     "output_type": "stream",
     "text": [
      "100%|██████████| 19/19 [00:00<00:00, 6454.34it/s]\n"
     ]
    },
    {
     "name": "stdout",
     "output_type": "stream",
     "text": [
      "[====================                              ] 41.41%\n",
      "Testing pipeline_2D_thr_0.4_norm_percentile_3_3 pipeline\n"
     ]
    },
    {
     "name": "stderr",
     "output_type": "stream",
     "text": [
      "100%|██████████| 19/19 [00:00<00:00, 5623.18it/s]"
     ]
    },
    {
     "name": "stdout",
     "output_type": "stream",
     "text": [
      "[====================                              ] 41.52%"
     ]
    },
    {
     "name": "stderr",
     "output_type": "stream",
     "text": [
      "\n"
     ]
    },
    {
     "name": "stdout",
     "output_type": "stream",
     "text": [
      "\n",
      "Testing pipeline_2D_thr_0.4_norm_percentile_3_4 pipeline\n"
     ]
    },
    {
     "name": "stderr",
     "output_type": "stream",
     "text": [
      "100%|██████████| 19/19 [00:00<00:00, 5990.51it/s]\n"
     ]
    },
    {
     "name": "stdout",
     "output_type": "stream",
     "text": [
      "[====================                              ] 41.63%\n",
      "Testing pipeline_2D_thr_0.4_norm_percentile_3_5 pipeline\n"
     ]
    },
    {
     "name": "stderr",
     "output_type": "stream",
     "text": [
      "100%|██████████| 19/19 [00:00<00:00, 7158.80it/s]"
     ]
    },
    {
     "name": "stdout",
     "output_type": "stream",
     "text": [
      "[====================                              ] 41.74%"
     ]
    },
    {
     "name": "stderr",
     "output_type": "stream",
     "text": [
      "\n"
     ]
    },
    {
     "name": "stdout",
     "output_type": "stream",
     "text": [
      "\n",
      "Testing pipeline_2D_thr_0.4_norm_percentile_3_6 pipeline\n"
     ]
    },
    {
     "name": "stderr",
     "output_type": "stream",
     "text": [
      "100%|██████████| 19/19 [00:00<00:00, 5694.71it/s]\n"
     ]
    },
    {
     "name": "stdout",
     "output_type": "stream",
     "text": [
      "[====================                              ] 41.85%\n",
      "Testing pipeline_2D_thr_0.4_norm_percentile_3_7 pipeline\n"
     ]
    },
    {
     "name": "stderr",
     "output_type": "stream",
     "text": [
      "100%|██████████| 19/19 [00:00<00:00, 4759.99it/s]\n"
     ]
    },
    {
     "name": "stdout",
     "output_type": "stream",
     "text": [
      "[====================                              ] 41.96%\n",
      "Testing pipeline_2D_thr_0.4_norm_percentile_3_8 pipeline\n"
     ]
    },
    {
     "name": "stderr",
     "output_type": "stream",
     "text": [
      "100%|██████████| 19/19 [00:00<00:00, 5459.09it/s]\n"
     ]
    },
    {
     "name": "stdout",
     "output_type": "stream",
     "text": [
      "[=====================                             ] 42.08%\n",
      "Testing pipeline_2D_thr_0.4_norm_percentile_3_9 pipeline\n"
     ]
    },
    {
     "name": "stderr",
     "output_type": "stream",
     "text": [
      "100%|██████████| 19/19 [00:00<00:00, 4993.84it/s]\n"
     ]
    },
    {
     "name": "stdout",
     "output_type": "stream",
     "text": [
      "[=====================                             ] 42.19%\n",
      "Testing pipeline_2D_thr_0.4_norm_percentile_3_10 pipeline\n"
     ]
    },
    {
     "name": "stderr",
     "output_type": "stream",
     "text": [
      "100%|██████████| 19/19 [00:00<00:00, 5197.40it/s]\n"
     ]
    },
    {
     "name": "stdout",
     "output_type": "stream",
     "text": [
      "[=====================                             ] 42.30%\n",
      "Testing pipeline_2D_thr_0.4_norm_percentile_3_11 pipeline\n"
     ]
    },
    {
     "name": "stderr",
     "output_type": "stream",
     "text": [
      "100%|██████████| 19/19 [00:00<00:00, 6028.12it/s]\n"
     ]
    },
    {
     "name": "stdout",
     "output_type": "stream",
     "text": [
      "[=====================                             ] 42.41%\n",
      "Testing pipeline_2D_thr_0.4_norm_percentile_3_12 pipeline\n"
     ]
    },
    {
     "name": "stderr",
     "output_type": "stream",
     "text": [
      "100%|██████████| 19/19 [00:00<00:00, 6687.80it/s]\n"
     ]
    },
    {
     "name": "stdout",
     "output_type": "stream",
     "text": [
      "[=====================                             ] 42.52%\n",
      "Testing pipeline_2D_thr_0.4_norm_percentile_3_13 pipeline\n"
     ]
    },
    {
     "name": "stderr",
     "output_type": "stream",
     "text": [
      "100%|██████████| 19/19 [00:00<00:00, 3475.29it/s]\n"
     ]
    },
    {
     "name": "stdout",
     "output_type": "stream",
     "text": [
      "[=====================                             ] 42.63%\n",
      "Testing pipeline_2D_thr_0.4_norm_percentile_3_14 pipeline\n"
     ]
    },
    {
     "name": "stderr",
     "output_type": "stream",
     "text": [
      "100%|██████████| 19/19 [00:00<00:00, 6066.67it/s]\n"
     ]
    },
    {
     "name": "stdout",
     "output_type": "stream",
     "text": [
      "[=====================                             ] 42.75%\n",
      "Testing pipeline_2D_thr_0.4_norm_percentile_3_15 pipeline\n"
     ]
    },
    {
     "name": "stderr",
     "output_type": "stream",
     "text": [
      "100%|██████████| 19/19 [00:00<00:00, 6687.80it/s]"
     ]
    },
    {
     "name": "stdout",
     "output_type": "stream",
     "text": [
      "[=====================                             ] 42.86%"
     ]
    },
    {
     "name": "stderr",
     "output_type": "stream",
     "text": [
      "\n"
     ]
    },
    {
     "name": "stdout",
     "output_type": "stream",
     "text": [
      "\n",
      "Testing pipeline_2D_thr_0.5_norm_minmax_0_0 pipeline\n"
     ]
    },
    {
     "name": "stderr",
     "output_type": "stream",
     "text": [
      "100%|██████████| 19/19 [00:00<00:00, 4964.29it/s]"
     ]
    },
    {
     "name": "stdout",
     "output_type": "stream",
     "text": [
      "[=====================                             ] 42.97%"
     ]
    },
    {
     "name": "stderr",
     "output_type": "stream",
     "text": [
      "\n"
     ]
    },
    {
     "name": "stdout",
     "output_type": "stream",
     "text": [
      "\n",
      "Testing pipeline_2D_thr_0.5_norm_minmax_0_1 pipeline\n"
     ]
    },
    {
     "name": "stderr",
     "output_type": "stream",
     "text": [
      "100%|██████████| 19/19 [00:00<00:00, 6393.24it/s]"
     ]
    },
    {
     "name": "stdout",
     "output_type": "stream",
     "text": [
      "[=====================                             ] 43.08%"
     ]
    },
    {
     "name": "stderr",
     "output_type": "stream",
     "text": [
      "\n"
     ]
    },
    {
     "name": "stdout",
     "output_type": "stream",
     "text": [
      "\n",
      "Testing pipeline_2D_thr_0.5_norm_minmax_0_2 pipeline\n"
     ]
    },
    {
     "name": "stderr",
     "output_type": "stream",
     "text": [
      "100%|██████████| 19/19 [00:00<00:00, 6563.86it/s]\n"
     ]
    },
    {
     "name": "stdout",
     "output_type": "stream",
     "text": [
      "[=====================                             ] 43.19%\n",
      "Testing pipeline_2D_thr_0.5_norm_minmax_0_3 pipeline\n"
     ]
    },
    {
     "name": "stderr",
     "output_type": "stream",
     "text": [
      "100%|██████████| 19/19 [00:00<00:00, 6517.16it/s]"
     ]
    },
    {
     "name": "stdout",
     "output_type": "stream",
     "text": [
      "[=====================                             ] 43.30%"
     ]
    },
    {
     "name": "stderr",
     "output_type": "stream",
     "text": [
      "\n"
     ]
    },
    {
     "name": "stdout",
     "output_type": "stream",
     "text": [
      "\n",
      "Testing pipeline_2D_thr_0.5_norm_minmax_0_4 pipeline\n"
     ]
    },
    {
     "name": "stderr",
     "output_type": "stream",
     "text": [
      "100%|██████████| 19/19 [00:00<00:00, 6041.83it/s]\n"
     ]
    },
    {
     "name": "stdout",
     "output_type": "stream",
     "text": [
      "[=====================                             ] 43.42%\n",
      "Testing pipeline_2D_thr_0.5_norm_minmax_0_5 pipeline\n"
     ]
    },
    {
     "name": "stderr",
     "output_type": "stream",
     "text": [
      "100%|██████████| 19/19 [00:00<00:00, 4579.99it/s]"
     ]
    },
    {
     "name": "stdout",
     "output_type": "stream",
     "text": [
      "[=====================                             ] 43.53%"
     ]
    },
    {
     "name": "stderr",
     "output_type": "stream",
     "text": [
      "\n"
     ]
    },
    {
     "name": "stdout",
     "output_type": "stream",
     "text": [
      "\n",
      "Testing pipeline_2D_thr_0.5_norm_minmax_0_6 pipeline\n"
     ]
    },
    {
     "name": "stderr",
     "output_type": "stream",
     "text": [
      "100%|██████████| 19/19 [00:00<00:00, 4400.19it/s]\n"
     ]
    },
    {
     "name": "stdout",
     "output_type": "stream",
     "text": [
      "[=====================                             ] 43.64%\n",
      "Testing pipeline_2D_thr_0.5_norm_minmax_0_7 pipeline\n"
     ]
    },
    {
     "name": "stderr",
     "output_type": "stream",
     "text": [
      "100%|██████████| 19/19 [00:00<00:00, 5146.72it/s]\n"
     ]
    },
    {
     "name": "stdout",
     "output_type": "stream",
     "text": [
      "[=====================                             ] 43.75%\n",
      "Testing pipeline_2D_thr_0.5_norm_minmax_0_8 pipeline\n"
     ]
    },
    {
     "name": "stderr",
     "output_type": "stream",
     "text": [
      "100%|██████████| 19/19 [00:00<00:00, 4883.07it/s]\n"
     ]
    },
    {
     "name": "stdout",
     "output_type": "stream",
     "text": [
      "[=====================                             ] 43.86%\n",
      "Testing pipeline_2D_thr_0.5_norm_minmax_0_9 pipeline\n"
     ]
    },
    {
     "name": "stderr",
     "output_type": "stream",
     "text": [
      "100%|██████████| 19/19 [00:00<00:00, 5569.74it/s]\n"
     ]
    },
    {
     "name": "stdout",
     "output_type": "stream",
     "text": [
      "[=====================                             ] 43.97%\n",
      "Testing pipeline_2D_thr_0.5_norm_minmax_0_10 pipeline\n"
     ]
    },
    {
     "name": "stderr",
     "output_type": "stream",
     "text": [
      "100%|██████████| 19/19 [00:00<00:00, 4058.45it/s]\n"
     ]
    },
    {
     "name": "stdout",
     "output_type": "stream",
     "text": [
      "[======================                            ] 44.08%\n",
      "Testing pipeline_2D_thr_0.5_norm_minmax_0_11 pipeline\n"
     ]
    },
    {
     "name": "stderr",
     "output_type": "stream",
     "text": [
      "100%|██████████| 19/19 [00:00<00:00, 4499.82it/s]\n"
     ]
    },
    {
     "name": "stdout",
     "output_type": "stream",
     "text": [
      "[======================                            ] 44.20%\n",
      "Testing pipeline_2D_thr_0.5_norm_minmax_0_12 pipeline\n"
     ]
    },
    {
     "name": "stderr",
     "output_type": "stream",
     "text": [
      "100%|██████████| 19/19 [00:00<00:00, 5781.89it/s]\n"
     ]
    },
    {
     "name": "stdout",
     "output_type": "stream",
     "text": [
      "[======================                            ] 44.31%\n",
      "Testing pipeline_2D_thr_0.5_norm_minmax_0_13 pipeline\n"
     ]
    },
    {
     "name": "stderr",
     "output_type": "stream",
     "text": [
      "100%|██████████| 19/19 [00:00<00:00, 5657.52it/s]\n"
     ]
    },
    {
     "name": "stdout",
     "output_type": "stream",
     "text": [
      "[======================                            ] 44.42%\n",
      "Testing pipeline_2D_thr_0.5_norm_minmax_0_14 pipeline\n"
     ]
    },
    {
     "name": "stderr",
     "output_type": "stream",
     "text": [
      "100%|██████████| 19/19 [00:00<00:00, 3986.98it/s]\n"
     ]
    },
    {
     "name": "stdout",
     "output_type": "stream",
     "text": [
      "[======================                            ] 44.53%\n",
      "Testing pipeline_2D_thr_0.5_norm_minmax_0_15 pipeline\n"
     ]
    },
    {
     "name": "stderr",
     "output_type": "stream",
     "text": [
      "100%|██████████| 19/19 [00:00<00:00, 6262.12it/s]"
     ]
    },
    {
     "name": "stdout",
     "output_type": "stream",
     "text": [
      "[======================                            ] 44.64%"
     ]
    },
    {
     "name": "stderr",
     "output_type": "stream",
     "text": [
      "\n"
     ]
    },
    {
     "name": "stdout",
     "output_type": "stream",
     "text": [
      "\n",
      "Testing pipeline_2D_thr_0.5_norm_minmax_1_0 pipeline\n"
     ]
    },
    {
     "name": "stderr",
     "output_type": "stream",
     "text": [
      "100%|██████████| 19/19 [00:00<00:00, 5720.87it/s]"
     ]
    },
    {
     "name": "stdout",
     "output_type": "stream",
     "text": [
      "[======================                            ] 44.75%"
     ]
    },
    {
     "name": "stderr",
     "output_type": "stream",
     "text": [
      "\n"
     ]
    },
    {
     "name": "stdout",
     "output_type": "stream",
     "text": [
      "\n",
      "Testing pipeline_2D_thr_0.5_norm_minmax_1_1 pipeline\n"
     ]
    },
    {
     "name": "stderr",
     "output_type": "stream",
     "text": [
      "100%|██████████| 19/19 [00:00<00:00, 6973.99it/s]"
     ]
    },
    {
     "name": "stdout",
     "output_type": "stream",
     "text": [
      "[======================                            ] 44.87%"
     ]
    },
    {
     "name": "stderr",
     "output_type": "stream",
     "text": [
      "\n"
     ]
    },
    {
     "name": "stdout",
     "output_type": "stream",
     "text": [
      "\n",
      "Testing pipeline_2D_thr_0.5_norm_minmax_1_2 pipeline\n"
     ]
    },
    {
     "name": "stderr",
     "output_type": "stream",
     "text": [
      "100%|██████████| 19/19 [00:00<00:00, 6131.08it/s]\n"
     ]
    },
    {
     "name": "stdout",
     "output_type": "stream",
     "text": [
      "[======================                            ] 44.98%\n",
      "Testing pipeline_2D_thr_0.5_norm_minmax_1_3 pipeline\n"
     ]
    },
    {
     "name": "stderr",
     "output_type": "stream",
     "text": [
      "100%|██████████| 19/19 [00:00<00:00, 6572.52it/s]"
     ]
    },
    {
     "name": "stdout",
     "output_type": "stream",
     "text": [
      "[======================                            ] 45.09%"
     ]
    },
    {
     "name": "stderr",
     "output_type": "stream",
     "text": [
      "\n"
     ]
    },
    {
     "name": "stdout",
     "output_type": "stream",
     "text": [
      "\n",
      "Testing pipeline_2D_thr_0.5_norm_minmax_1_4 pipeline\n"
     ]
    },
    {
     "name": "stderr",
     "output_type": "stream",
     "text": [
      "100%|██████████| 19/19 [00:00<00:00, 6309.72it/s]\n"
     ]
    },
    {
     "name": "stdout",
     "output_type": "stream",
     "text": [
      "[======================                            ] 45.20%\n",
      "Testing pipeline_2D_thr_0.5_norm_minmax_1_5 pipeline\n"
     ]
    },
    {
     "name": "stderr",
     "output_type": "stream",
     "text": [
      "100%|██████████| 19/19 [00:00<00:00, 4290.50it/s]"
     ]
    },
    {
     "name": "stdout",
     "output_type": "stream",
     "text": [
      "[======================                            ] 45.31%"
     ]
    },
    {
     "name": "stderr",
     "output_type": "stream",
     "text": [
      "\n"
     ]
    },
    {
     "name": "stdout",
     "output_type": "stream",
     "text": [
      "\n",
      "Testing pipeline_2D_thr_0.5_norm_minmax_1_6 pipeline\n"
     ]
    },
    {
     "name": "stderr",
     "output_type": "stream",
     "text": [
      "100%|██████████| 19/19 [00:00<00:00, 6229.81it/s]\n"
     ]
    },
    {
     "name": "stdout",
     "output_type": "stream",
     "text": [
      "[======================                            ] 45.42%\n",
      "Testing pipeline_2D_thr_0.5_norm_minmax_1_7 pipeline\n"
     ]
    },
    {
     "name": "stderr",
     "output_type": "stream",
     "text": [
      "100%|██████████| 19/19 [00:00<00:00, 5203.51it/s]\n"
     ]
    },
    {
     "name": "stdout",
     "output_type": "stream",
     "text": [
      "[======================                            ] 45.54%\n",
      "Testing pipeline_2D_thr_0.5_norm_minmax_1_8 pipeline\n"
     ]
    },
    {
     "name": "stderr",
     "output_type": "stream",
     "text": [
      "100%|██████████| 19/19 [00:00<00:00, 6474.27it/s]\n"
     ]
    },
    {
     "name": "stdout",
     "output_type": "stream",
     "text": [
      "[======================                            ] 45.65%\n",
      "Testing pipeline_2D_thr_0.5_norm_minmax_1_9 pipeline\n"
     ]
    },
    {
     "name": "stderr",
     "output_type": "stream",
     "text": [
      "100%|██████████| 19/19 [00:00<00:00, 5381.31it/s]\n"
     ]
    },
    {
     "name": "stdout",
     "output_type": "stream",
     "text": [
      "[======================                            ] 45.76%\n",
      "Testing pipeline_2D_thr_0.5_norm_minmax_1_10 pipeline\n"
     ]
    },
    {
     "name": "stderr",
     "output_type": "stream",
     "text": [
      "100%|██████████| 19/19 [00:00<00:00, 4742.43it/s]\n"
     ]
    },
    {
     "name": "stdout",
     "output_type": "stream",
     "text": [
      "[======================                            ] 45.87%\n",
      "Testing pipeline_2D_thr_0.5_norm_minmax_1_11 pipeline\n"
     ]
    },
    {
     "name": "stderr",
     "output_type": "stream",
     "text": [
      "100%|██████████| 19/19 [00:00<00:00, 5917.12it/s]\n"
     ]
    },
    {
     "name": "stdout",
     "output_type": "stream",
     "text": [
      "[======================                            ] 45.98%\n",
      "Testing pipeline_2D_thr_0.5_norm_minmax_1_12 pipeline\n"
     ]
    },
    {
     "name": "stderr",
     "output_type": "stream",
     "text": [
      "100%|██████████| 19/19 [00:00<00:00, 4696.04it/s]\n"
     ]
    },
    {
     "name": "stdout",
     "output_type": "stream",
     "text": [
      "[=======================                           ] 46.09%\n",
      "Testing pipeline_2D_thr_0.5_norm_minmax_1_13 pipeline\n"
     ]
    },
    {
     "name": "stderr",
     "output_type": "stream",
     "text": [
      "100%|██████████| 19/19 [00:00<00:00, 6037.26it/s]\n"
     ]
    },
    {
     "name": "stdout",
     "output_type": "stream",
     "text": [
      "[=======================                           ] 46.21%\n",
      "Testing pipeline_2D_thr_0.5_norm_minmax_1_14 pipeline\n"
     ]
    },
    {
     "name": "stderr",
     "output_type": "stream",
     "text": [
      "100%|██████████| 19/19 [00:00<00:00, 6755.26it/s]\n"
     ]
    },
    {
     "name": "stdout",
     "output_type": "stream",
     "text": [
      "[=======================                           ] 46.32%\n",
      "Testing pipeline_2D_thr_0.5_norm_minmax_1_15 pipeline\n"
     ]
    },
    {
     "name": "stderr",
     "output_type": "stream",
     "text": [
      "100%|██████████| 19/19 [00:00<00:00, 6303.73it/s]"
     ]
    },
    {
     "name": "stdout",
     "output_type": "stream",
     "text": [
      "[=======================                           ] 46.43%"
     ]
    },
    {
     "name": "stderr",
     "output_type": "stream",
     "text": [
      "\n"
     ]
    },
    {
     "name": "stdout",
     "output_type": "stream",
     "text": [
      "\n",
      "Testing pipeline_2D_thr_0.5_norm_minmax_2_0 pipeline\n"
     ]
    },
    {
     "name": "stderr",
     "output_type": "stream",
     "text": [
      "100%|██████████| 19/19 [00:00<00:00, 7253.94it/s]"
     ]
    },
    {
     "name": "stdout",
     "output_type": "stream",
     "text": [
      "[=======================                           ] 46.54%"
     ]
    },
    {
     "name": "stderr",
     "output_type": "stream",
     "text": [
      "\n"
     ]
    },
    {
     "name": "stdout",
     "output_type": "stream",
     "text": [
      "\n",
      "Testing pipeline_2D_thr_0.5_norm_minmax_2_1 pipeline\n"
     ]
    },
    {
     "name": "stderr",
     "output_type": "stream",
     "text": [
      "100%|██████████| 19/19 [00:00<00:00, 7245.37it/s]"
     ]
    },
    {
     "name": "stdout",
     "output_type": "stream",
     "text": [
      "[=======================                           ] 46.65%"
     ]
    },
    {
     "name": "stderr",
     "output_type": "stream",
     "text": [
      "\n"
     ]
    },
    {
     "name": "stdout",
     "output_type": "stream",
     "text": [
      "\n",
      "Testing pipeline_2D_thr_0.5_norm_minmax_2_2 pipeline\n"
     ]
    },
    {
     "name": "stderr",
     "output_type": "stream",
     "text": [
      "100%|██████████| 19/19 [00:00<00:00, 5531.85it/s]\n"
     ]
    },
    {
     "name": "stdout",
     "output_type": "stream",
     "text": [
      "[=======================                           ] 46.76%\n",
      "Testing pipeline_2D_thr_0.5_norm_minmax_2_3 pipeline\n"
     ]
    },
    {
     "name": "stderr",
     "output_type": "stream",
     "text": [
      "100%|██████████| 19/19 [00:00<00:00, 4379.63it/s]"
     ]
    },
    {
     "name": "stdout",
     "output_type": "stream",
     "text": [
      "[=======================                           ] 46.88%"
     ]
    },
    {
     "name": "stderr",
     "output_type": "stream",
     "text": [
      "\n"
     ]
    },
    {
     "name": "stdout",
     "output_type": "stream",
     "text": [
      "\n",
      "Testing pipeline_2D_thr_0.5_norm_minmax_2_4 pipeline\n"
     ]
    },
    {
     "name": "stderr",
     "output_type": "stream",
     "text": [
      "100%|██████████| 19/19 [00:00<00:00, 5587.70it/s]\n"
     ]
    },
    {
     "name": "stdout",
     "output_type": "stream",
     "text": [
      "[=======================                           ] 46.99%\n",
      "Testing pipeline_2D_thr_0.5_norm_minmax_2_5 pipeline\n"
     ]
    },
    {
     "name": "stderr",
     "output_type": "stream",
     "text": [
      "100%|██████████| 19/19 [00:00<00:00, 5596.33it/s]"
     ]
    },
    {
     "name": "stdout",
     "output_type": "stream",
     "text": [
      "[=======================                           ] 47.10%"
     ]
    },
    {
     "name": "stderr",
     "output_type": "stream",
     "text": [
      "\n"
     ]
    },
    {
     "name": "stdout",
     "output_type": "stream",
     "text": [
      "\n",
      "Testing pipeline_2D_thr_0.5_norm_minmax_2_6 pipeline\n"
     ]
    },
    {
     "name": "stderr",
     "output_type": "stream",
     "text": [
      "100%|██████████| 19/19 [00:00<00:00, 5315.97it/s]\n"
     ]
    },
    {
     "name": "stdout",
     "output_type": "stream",
     "text": [
      "[=======================                           ] 47.21%\n",
      "Testing pipeline_2D_thr_0.5_norm_minmax_2_7 pipeline\n"
     ]
    },
    {
     "name": "stderr",
     "output_type": "stream",
     "text": [
      "100%|██████████| 19/19 [00:00<00:00, 5085.95it/s]\n"
     ]
    },
    {
     "name": "stdout",
     "output_type": "stream",
     "text": [
      "[=======================                           ] 47.32%\n",
      "Testing pipeline_2D_thr_0.5_norm_minmax_2_8 pipeline\n"
     ]
    },
    {
     "name": "stderr",
     "output_type": "stream",
     "text": [
      "100%|██████████| 19/19 [00:00<00:00, 4502.87it/s]\n"
     ]
    },
    {
     "name": "stdout",
     "output_type": "stream",
     "text": [
      "[=======================                           ] 47.43%\n",
      "Testing pipeline_2D_thr_0.5_norm_minmax_2_9 pipeline\n"
     ]
    },
    {
     "name": "stderr",
     "output_type": "stream",
     "text": [
      "100%|██████████| 19/19 [00:00<00:00, 5305.36it/s]\n"
     ]
    },
    {
     "name": "stdout",
     "output_type": "stream",
     "text": [
      "[=======================                           ] 47.54%\n",
      "Testing pipeline_2D_thr_0.5_norm_minmax_2_10 pipeline\n"
     ]
    },
    {
     "name": "stderr",
     "output_type": "stream",
     "text": [
      "100%|██████████| 19/19 [00:00<00:00, 6568.18it/s]\n"
     ]
    },
    {
     "name": "stdout",
     "output_type": "stream",
     "text": [
      "[=======================                           ] 47.66%\n",
      "Testing pipeline_2D_thr_0.5_norm_minmax_2_11 pipeline\n"
     ]
    },
    {
     "name": "stderr",
     "output_type": "stream",
     "text": [
      "100%|██████████| 19/19 [00:00<00:00, 2904.64it/s]\n"
     ]
    },
    {
     "name": "stdout",
     "output_type": "stream",
     "text": [
      "[=======================                           ] 47.77%\n",
      "Testing pipeline_2D_thr_0.5_norm_minmax_2_12 pipeline\n"
     ]
    },
    {
     "name": "stderr",
     "output_type": "stream",
     "text": [
      "100%|██████████| 19/19 [00:00<00:00, 6045.50it/s]\n"
     ]
    },
    {
     "name": "stdout",
     "output_type": "stream",
     "text": [
      "[=======================                           ] 47.88%\n",
      "Testing pipeline_2D_thr_0.5_norm_minmax_2_13 pipeline\n"
     ]
    },
    {
     "name": "stderr",
     "output_type": "stream",
     "text": [
      "100%|██████████| 19/19 [00:00<00:00, 4089.90it/s]\n"
     ]
    },
    {
     "name": "stdout",
     "output_type": "stream",
     "text": [
      "[=======================                           ] 47.99%\n",
      "Testing pipeline_2D_thr_0.5_norm_minmax_2_14 pipeline\n"
     ]
    },
    {
     "name": "stderr",
     "output_type": "stream",
     "text": [
      "100%|██████████| 19/19 [00:00<00:00, 5093.75it/s]\n"
     ]
    },
    {
     "name": "stdout",
     "output_type": "stream",
     "text": [
      "[========================                          ] 48.10%\n",
      "Testing pipeline_2D_thr_0.5_norm_minmax_2_15 pipeline\n"
     ]
    },
    {
     "name": "stderr",
     "output_type": "stream",
     "text": [
      "100%|██████████| 19/19 [00:00<00:00, 5722.11it/s]"
     ]
    },
    {
     "name": "stdout",
     "output_type": "stream",
     "text": [
      "[========================                          ] 48.21%"
     ]
    },
    {
     "name": "stderr",
     "output_type": "stream",
     "text": [
      "\n"
     ]
    },
    {
     "name": "stdout",
     "output_type": "stream",
     "text": [
      "\n",
      "Testing pipeline_2D_thr_0.5_norm_minmax_3_0 pipeline\n"
     ]
    },
    {
     "name": "stderr",
     "output_type": "stream",
     "text": [
      "100%|██████████| 19/19 [00:00<00:00, 5877.84it/s]"
     ]
    },
    {
     "name": "stdout",
     "output_type": "stream",
     "text": [
      "[========================                          ] 48.33%"
     ]
    },
    {
     "name": "stderr",
     "output_type": "stream",
     "text": [
      "\n"
     ]
    },
    {
     "name": "stdout",
     "output_type": "stream",
     "text": [
      "\n",
      "Testing pipeline_2D_thr_0.5_norm_minmax_3_1 pipeline\n"
     ]
    },
    {
     "name": "stderr",
     "output_type": "stream",
     "text": [
      "100%|██████████| 19/19 [00:00<00:00, 5545.32it/s]"
     ]
    },
    {
     "name": "stdout",
     "output_type": "stream",
     "text": [
      "[========================                          ] 48.44%"
     ]
    },
    {
     "name": "stderr",
     "output_type": "stream",
     "text": [
      "\n"
     ]
    },
    {
     "name": "stdout",
     "output_type": "stream",
     "text": [
      "\n",
      "Testing pipeline_2D_thr_0.5_norm_minmax_3_2 pipeline\n"
     ]
    },
    {
     "name": "stderr",
     "output_type": "stream",
     "text": [
      "100%|██████████| 19/19 [00:00<00:00, 6501.21it/s]\n"
     ]
    },
    {
     "name": "stdout",
     "output_type": "stream",
     "text": [
      "[========================                          ] 48.55%\n",
      "Testing pipeline_2D_thr_0.5_norm_minmax_3_3 pipeline\n"
     ]
    },
    {
     "name": "stderr",
     "output_type": "stream",
     "text": [
      "100%|██████████| 19/19 [00:00<00:00, 6433.50it/s]"
     ]
    },
    {
     "name": "stdout",
     "output_type": "stream",
     "text": [
      "[========================                          ] 48.66%"
     ]
    },
    {
     "name": "stderr",
     "output_type": "stream",
     "text": [
      "\n"
     ]
    },
    {
     "name": "stdout",
     "output_type": "stream",
     "text": [
      "\n",
      "Testing pipeline_2D_thr_0.5_norm_minmax_3_4 pipeline\n"
     ]
    },
    {
     "name": "stderr",
     "output_type": "stream",
     "text": [
      "100%|██████████| 19/19 [00:00<00:00, 6242.99it/s]\n"
     ]
    },
    {
     "name": "stdout",
     "output_type": "stream",
     "text": [
      "[========================                          ] 48.77%\n",
      "Testing pipeline_2D_thr_0.5_norm_minmax_3_5 pipeline\n"
     ]
    },
    {
     "name": "stderr",
     "output_type": "stream",
     "text": [
      "100%|██████████| 19/19 [00:00<00:00, 7427.70it/s]"
     ]
    },
    {
     "name": "stdout",
     "output_type": "stream",
     "text": [
      "[========================                          ] 48.88%"
     ]
    },
    {
     "name": "stderr",
     "output_type": "stream",
     "text": [
      "\n"
     ]
    },
    {
     "name": "stdout",
     "output_type": "stream",
     "text": [
      "\n",
      "Testing pipeline_2D_thr_0.5_norm_minmax_3_6 pipeline\n"
     ]
    },
    {
     "name": "stderr",
     "output_type": "stream",
     "text": [
      "100%|██████████| 19/19 [00:00<00:00, 5991.41it/s]\n"
     ]
    },
    {
     "name": "stdout",
     "output_type": "stream",
     "text": [
      "[========================                          ] 49.00%\n",
      "Testing pipeline_2D_thr_0.5_norm_minmax_3_7 pipeline\n"
     ]
    },
    {
     "name": "stderr",
     "output_type": "stream",
     "text": [
      "100%|██████████| 19/19 [00:00<00:00, 5705.31it/s]\n"
     ]
    },
    {
     "name": "stdout",
     "output_type": "stream",
     "text": [
      "[========================                          ] 49.11%\n",
      "Testing pipeline_2D_thr_0.5_norm_minmax_3_8 pipeline\n"
     ]
    },
    {
     "name": "stderr",
     "output_type": "stream",
     "text": [
      "100%|██████████| 19/19 [00:00<00:00, 4758.57it/s]\n"
     ]
    },
    {
     "name": "stdout",
     "output_type": "stream",
     "text": [
      "[========================                          ] 49.22%\n",
      "Testing pipeline_2D_thr_0.5_norm_minmax_3_9 pipeline\n"
     ]
    },
    {
     "name": "stderr",
     "output_type": "stream",
     "text": [
      "100%|██████████| 19/19 [00:00<00:00, 6087.99it/s]\n"
     ]
    },
    {
     "name": "stdout",
     "output_type": "stream",
     "text": [
      "[========================                          ] 49.33%\n",
      "Testing pipeline_2D_thr_0.5_norm_minmax_3_10 pipeline\n"
     ]
    },
    {
     "name": "stderr",
     "output_type": "stream",
     "text": [
      "100%|██████████| 19/19 [00:00<00:00, 5478.23it/s]\n"
     ]
    },
    {
     "name": "stdout",
     "output_type": "stream",
     "text": [
      "[========================                          ] 49.44%\n",
      "Testing pipeline_2D_thr_0.5_norm_minmax_3_11 pipeline\n"
     ]
    },
    {
     "name": "stderr",
     "output_type": "stream",
     "text": [
      "100%|██████████| 19/19 [00:00<00:00, 5262.96it/s]\n"
     ]
    },
    {
     "name": "stdout",
     "output_type": "stream",
     "text": [
      "[========================                          ] 49.55%\n",
      "Testing pipeline_2D_thr_0.5_norm_minmax_3_12 pipeline\n"
     ]
    },
    {
     "name": "stderr",
     "output_type": "stream",
     "text": [
      "100%|██████████| 19/19 [00:00<00:00, 4924.11it/s]\n"
     ]
    },
    {
     "name": "stdout",
     "output_type": "stream",
     "text": [
      "[========================                          ] 49.67%\n",
      "Testing pipeline_2D_thr_0.5_norm_minmax_3_13 pipeline\n"
     ]
    },
    {
     "name": "stderr",
     "output_type": "stream",
     "text": [
      "100%|██████████| 19/19 [00:00<00:00, 5079.47it/s]\n"
     ]
    },
    {
     "name": "stdout",
     "output_type": "stream",
     "text": [
      "[========================                          ] 49.78%\n",
      "Testing pipeline_2D_thr_0.5_norm_minmax_3_14 pipeline\n"
     ]
    },
    {
     "name": "stderr",
     "output_type": "stream",
     "text": [
      "100%|██████████| 19/19 [00:00<00:00, 4848.91it/s]\n"
     ]
    },
    {
     "name": "stdout",
     "output_type": "stream",
     "text": [
      "[========================                          ] 49.89%\n",
      "Testing pipeline_2D_thr_0.5_norm_minmax_3_15 pipeline\n"
     ]
    },
    {
     "name": "stderr",
     "output_type": "stream",
     "text": [
      "100%|██████████| 19/19 [00:00<00:00, 6094.97it/s]"
     ]
    },
    {
     "name": "stdout",
     "output_type": "stream",
     "text": [
      "[=========================                         ] 50.00%"
     ]
    },
    {
     "name": "stderr",
     "output_type": "stream",
     "text": [
      "\n"
     ]
    },
    {
     "name": "stdout",
     "output_type": "stream",
     "text": [
      "\n",
      "Testing pipeline_2D_thr_0.5_norm_percentile_0_0 pipeline\n"
     ]
    },
    {
     "name": "stderr",
     "output_type": "stream",
     "text": [
      "100%|██████████| 19/19 [00:00<00:00, 5464.33it/s]"
     ]
    },
    {
     "name": "stdout",
     "output_type": "stream",
     "text": [
      "[=========================                         ] 50.11%"
     ]
    },
    {
     "name": "stderr",
     "output_type": "stream",
     "text": [
      "\n"
     ]
    },
    {
     "name": "stdout",
     "output_type": "stream",
     "text": [
      "\n",
      "Testing pipeline_2D_thr_0.5_norm_percentile_0_1 pipeline\n"
     ]
    },
    {
     "name": "stderr",
     "output_type": "stream",
     "text": [
      "100%|██████████| 19/19 [00:00<00:00, 4368.59it/s]"
     ]
    },
    {
     "name": "stdout",
     "output_type": "stream",
     "text": [
      "[=========================                         ] 50.22%"
     ]
    },
    {
     "name": "stderr",
     "output_type": "stream",
     "text": [
      "\n"
     ]
    },
    {
     "name": "stdout",
     "output_type": "stream",
     "text": [
      "\n",
      "Testing pipeline_2D_thr_0.5_norm_percentile_0_2 pipeline\n"
     ]
    },
    {
     "name": "stderr",
     "output_type": "stream",
     "text": [
      "100%|██████████| 19/19 [00:00<00:00, 6380.96it/s]\n"
     ]
    },
    {
     "name": "stdout",
     "output_type": "stream",
     "text": [
      "[=========================                         ] 50.33%\n",
      "Testing pipeline_2D_thr_0.5_norm_percentile_0_3 pipeline\n"
     ]
    },
    {
     "name": "stderr",
     "output_type": "stream",
     "text": [
      "100%|██████████| 19/19 [00:00<00:00, 6029.49it/s]"
     ]
    },
    {
     "name": "stdout",
     "output_type": "stream",
     "text": [
      "[=========================                         ] 50.45%"
     ]
    },
    {
     "name": "stderr",
     "output_type": "stream",
     "text": [
      "\n"
     ]
    },
    {
     "name": "stdout",
     "output_type": "stream",
     "text": [
      "\n",
      "Testing pipeline_2D_thr_0.5_norm_percentile_0_4 pipeline\n"
     ]
    },
    {
     "name": "stderr",
     "output_type": "stream",
     "text": [
      "100%|██████████| 19/19 [00:00<00:00, 5947.59it/s]\n"
     ]
    },
    {
     "name": "stdout",
     "output_type": "stream",
     "text": [
      "[=========================                         ] 50.56%\n",
      "Testing pipeline_2D_thr_0.5_norm_percentile_0_5 pipeline\n"
     ]
    },
    {
     "name": "stderr",
     "output_type": "stream",
     "text": [
      "100%|██████████| 19/19 [00:00<00:00, 7016.36it/s]"
     ]
    },
    {
     "name": "stdout",
     "output_type": "stream",
     "text": [
      "[=========================                         ] 50.67%"
     ]
    },
    {
     "name": "stderr",
     "output_type": "stream",
     "text": [
      "\n"
     ]
    },
    {
     "name": "stdout",
     "output_type": "stream",
     "text": [
      "\n",
      "Testing pipeline_2D_thr_0.5_norm_percentile_0_6 pipeline\n"
     ]
    },
    {
     "name": "stderr",
     "output_type": "stream",
     "text": [
      "100%|██████████| 19/19 [00:00<00:00, 4166.45it/s]\n"
     ]
    },
    {
     "name": "stdout",
     "output_type": "stream",
     "text": [
      "[=========================                         ] 50.78%\n",
      "Testing pipeline_2D_thr_0.5_norm_percentile_0_7 pipeline\n"
     ]
    },
    {
     "name": "stderr",
     "output_type": "stream",
     "text": [
      "100%|██████████| 19/19 [00:00<00:00, 5881.75it/s]\n"
     ]
    },
    {
     "name": "stdout",
     "output_type": "stream",
     "text": [
      "[=========================                         ] 50.89%\n",
      "Testing pipeline_2D_thr_0.5_norm_percentile_0_8 pipeline\n"
     ]
    },
    {
     "name": "stderr",
     "output_type": "stream",
     "text": [
      "100%|██████████| 19/19 [00:00<00:00, 4737.92it/s]\n"
     ]
    },
    {
     "name": "stdout",
     "output_type": "stream",
     "text": [
      "[=========================                         ] 51.00%\n",
      "Testing pipeline_2D_thr_0.5_norm_percentile_0_9 pipeline\n"
     ]
    },
    {
     "name": "stderr",
     "output_type": "stream",
     "text": [
      "100%|██████████| 19/19 [00:00<00:00, 4424.13it/s]\n"
     ]
    },
    {
     "name": "stdout",
     "output_type": "stream",
     "text": [
      "[=========================                         ] 51.12%\n",
      "Testing pipeline_2D_thr_0.5_norm_percentile_0_10 pipeline\n"
     ]
    },
    {
     "name": "stderr",
     "output_type": "stream",
     "text": [
      "100%|██████████| 19/19 [00:00<00:00, 4739.89it/s]\n"
     ]
    },
    {
     "name": "stdout",
     "output_type": "stream",
     "text": [
      "[=========================                         ] 51.23%\n",
      "Testing pipeline_2D_thr_0.5_norm_percentile_0_11 pipeline\n"
     ]
    },
    {
     "name": "stderr",
     "output_type": "stream",
     "text": [
      "100%|██████████| 19/19 [00:00<00:00, 7111.53it/s]\n"
     ]
    },
    {
     "name": "stdout",
     "output_type": "stream",
     "text": [
      "[=========================                         ] 51.34%\n",
      "Testing pipeline_2D_thr_0.5_norm_percentile_0_12 pipeline\n"
     ]
    },
    {
     "name": "stderr",
     "output_type": "stream",
     "text": [
      "100%|██████████| 19/19 [00:00<00:00, 6554.68it/s]\n"
     ]
    },
    {
     "name": "stdout",
     "output_type": "stream",
     "text": [
      "[=========================                         ] 51.45%\n",
      "Testing pipeline_2D_thr_0.5_norm_percentile_0_13 pipeline\n"
     ]
    },
    {
     "name": "stderr",
     "output_type": "stream",
     "text": [
      "100%|██████████| 19/19 [00:00<00:00, 6555.22it/s]\n"
     ]
    },
    {
     "name": "stdout",
     "output_type": "stream",
     "text": [
      "[=========================                         ] 51.56%\n",
      "Testing pipeline_2D_thr_0.5_norm_percentile_0_14 pipeline\n"
     ]
    },
    {
     "name": "stderr",
     "output_type": "stream",
     "text": [
      "100%|██████████| 19/19 [00:00<00:00, 5657.52it/s]\n"
     ]
    },
    {
     "name": "stdout",
     "output_type": "stream",
     "text": [
      "[=========================                         ] 51.67%\n",
      "Testing pipeline_2D_thr_0.5_norm_percentile_0_15 pipeline\n"
     ]
    },
    {
     "name": "stderr",
     "output_type": "stream",
     "text": [
      "100%|██████████| 19/19 [00:00<00:00, 6561.69it/s]"
     ]
    },
    {
     "name": "stdout",
     "output_type": "stream",
     "text": [
      "[=========================                         ] 51.79%"
     ]
    },
    {
     "name": "stderr",
     "output_type": "stream",
     "text": [
      "\n"
     ]
    },
    {
     "name": "stdout",
     "output_type": "stream",
     "text": [
      "\n",
      "Testing pipeline_2D_thr_0.5_norm_percentile_1_0 pipeline\n"
     ]
    },
    {
     "name": "stderr",
     "output_type": "stream",
     "text": [
      "100%|██████████| 19/19 [00:00<00:00, 6256.22it/s]"
     ]
    },
    {
     "name": "stdout",
     "output_type": "stream",
     "text": [
      "[=========================                         ] 51.90%"
     ]
    },
    {
     "name": "stderr",
     "output_type": "stream",
     "text": [
      "\n"
     ]
    },
    {
     "name": "stdout",
     "output_type": "stream",
     "text": [
      "\n",
      "Testing pipeline_2D_thr_0.5_norm_percentile_1_1 pipeline\n"
     ]
    },
    {
     "name": "stderr",
     "output_type": "stream",
     "text": [
      "100%|██████████| 19/19 [00:00<00:00, 5892.62it/s]"
     ]
    },
    {
     "name": "stdout",
     "output_type": "stream",
     "text": [
      "[==========================                        ] 52.01%"
     ]
    },
    {
     "name": "stderr",
     "output_type": "stream",
     "text": [
      "\n"
     ]
    },
    {
     "name": "stdout",
     "output_type": "stream",
     "text": [
      "\n",
      "Testing pipeline_2D_thr_0.5_norm_percentile_1_2 pipeline\n"
     ]
    },
    {
     "name": "stderr",
     "output_type": "stream",
     "text": [
      "100%|██████████| 19/19 [00:00<00:00, 4340.04it/s]\n"
     ]
    },
    {
     "name": "stdout",
     "output_type": "stream",
     "text": [
      "[==========================                        ] 52.12%\n",
      "Testing pipeline_2D_thr_0.5_norm_percentile_1_3 pipeline\n"
     ]
    },
    {
     "name": "stderr",
     "output_type": "stream",
     "text": [
      "100%|██████████| 19/19 [00:00<00:00, 4805.92it/s]"
     ]
    },
    {
     "name": "stdout",
     "output_type": "stream",
     "text": [
      "[==========================                        ] 52.23%"
     ]
    },
    {
     "name": "stderr",
     "output_type": "stream",
     "text": [
      "\n"
     ]
    },
    {
     "name": "stdout",
     "output_type": "stream",
     "text": [
      "\n",
      "Testing pipeline_2D_thr_0.5_norm_percentile_1_4 pipeline\n"
     ]
    },
    {
     "name": "stderr",
     "output_type": "stream",
     "text": [
      "100%|██████████| 19/19 [00:00<00:00, 3453.30it/s]\n"
     ]
    },
    {
     "name": "stdout",
     "output_type": "stream",
     "text": [
      "[==========================                        ] 52.34%\n",
      "Testing pipeline_2D_thr_0.5_norm_percentile_1_5 pipeline\n"
     ]
    },
    {
     "name": "stderr",
     "output_type": "stream",
     "text": [
      "100%|██████████| 19/19 [00:00<00:00, 6906.30it/s]"
     ]
    },
    {
     "name": "stdout",
     "output_type": "stream",
     "text": [
      "[==========================                        ] 52.46%"
     ]
    },
    {
     "name": "stderr",
     "output_type": "stream",
     "text": [
      "\n"
     ]
    },
    {
     "name": "stdout",
     "output_type": "stream",
     "text": [
      "\n",
      "Testing pipeline_2D_thr_0.5_norm_percentile_1_6 pipeline\n"
     ]
    },
    {
     "name": "stderr",
     "output_type": "stream",
     "text": [
      "100%|██████████| 19/19 [00:00<00:00, 5248.75it/s]\n"
     ]
    },
    {
     "name": "stdout",
     "output_type": "stream",
     "text": [
      "[==========================                        ] 52.57%\n",
      "Testing pipeline_2D_thr_0.5_norm_percentile_1_7 pipeline\n"
     ]
    },
    {
     "name": "stderr",
     "output_type": "stream",
     "text": [
      "100%|██████████| 19/19 [00:00<00:00, 4502.11it/s]\n"
     ]
    },
    {
     "name": "stdout",
     "output_type": "stream",
     "text": [
      "[==========================                        ] 52.68%\n",
      "Testing pipeline_2D_thr_0.5_norm_percentile_1_8 pipeline\n"
     ]
    },
    {
     "name": "stderr",
     "output_type": "stream",
     "text": [
      "100%|██████████| 19/19 [00:00<00:00, 6285.34it/s]\n"
     ]
    },
    {
     "name": "stdout",
     "output_type": "stream",
     "text": [
      "[==========================                        ] 52.79%\n",
      "Testing pipeline_2D_thr_0.5_norm_percentile_1_9 pipeline\n"
     ]
    },
    {
     "name": "stderr",
     "output_type": "stream",
     "text": [
      "100%|██████████| 19/19 [00:00<00:00, 6164.28it/s]\n"
     ]
    },
    {
     "name": "stdout",
     "output_type": "stream",
     "text": [
      "[==========================                        ] 52.90%\n",
      "Testing pipeline_2D_thr_0.5_norm_percentile_1_10 pipeline\n"
     ]
    },
    {
     "name": "stderr",
     "output_type": "stream",
     "text": [
      "100%|██████████| 19/19 [00:00<00:00, 5551.89it/s]\n"
     ]
    },
    {
     "name": "stdout",
     "output_type": "stream",
     "text": [
      "[==========================                        ] 53.01%\n",
      "Testing pipeline_2D_thr_0.5_norm_percentile_1_11 pipeline\n"
     ]
    },
    {
     "name": "stderr",
     "output_type": "stream",
     "text": [
      "100%|██████████| 19/19 [00:00<00:00, 4459.53it/s]\n"
     ]
    },
    {
     "name": "stdout",
     "output_type": "stream",
     "text": [
      "[==========================                        ] 53.12%\n",
      "Testing pipeline_2D_thr_0.5_norm_percentile_1_12 pipeline\n"
     ]
    },
    {
     "name": "stderr",
     "output_type": "stream",
     "text": [
      "100%|██████████| 19/19 [00:00<00:00, 5114.02it/s]\n"
     ]
    },
    {
     "name": "stdout",
     "output_type": "stream",
     "text": [
      "[==========================                        ] 53.24%\n",
      "Testing pipeline_2D_thr_0.5_norm_percentile_1_13 pipeline\n"
     ]
    },
    {
     "name": "stderr",
     "output_type": "stream",
     "text": [
      "100%|██████████| 19/19 [00:00<00:00, 5600.66it/s]\n"
     ]
    },
    {
     "name": "stdout",
     "output_type": "stream",
     "text": [
      "[==========================                        ] 53.35%\n",
      "Testing pipeline_2D_thr_0.5_norm_percentile_1_14 pipeline\n"
     ]
    },
    {
     "name": "stderr",
     "output_type": "stream",
     "text": [
      "100%|██████████| 19/19 [00:00<00:00, 6245.44it/s]\n"
     ]
    },
    {
     "name": "stdout",
     "output_type": "stream",
     "text": [
      "[==========================                        ] 53.46%\n",
      "Testing pipeline_2D_thr_0.5_norm_percentile_1_15 pipeline\n"
     ]
    },
    {
     "name": "stderr",
     "output_type": "stream",
     "text": [
      "100%|██████████| 19/19 [00:00<00:00, 4773.96it/s]"
     ]
    },
    {
     "name": "stdout",
     "output_type": "stream",
     "text": [
      "[==========================                        ] 53.57%"
     ]
    },
    {
     "name": "stderr",
     "output_type": "stream",
     "text": [
      "\n"
     ]
    },
    {
     "name": "stdout",
     "output_type": "stream",
     "text": [
      "\n",
      "Testing pipeline_2D_thr_0.5_norm_percentile_2_0 pipeline\n"
     ]
    },
    {
     "name": "stderr",
     "output_type": "stream",
     "text": [
      "100%|██████████| 19/19 [00:00<00:00, 4771.68it/s]"
     ]
    },
    {
     "name": "stdout",
     "output_type": "stream",
     "text": [
      "[==========================                        ] 53.68%"
     ]
    },
    {
     "name": "stderr",
     "output_type": "stream",
     "text": [
      "\n"
     ]
    },
    {
     "name": "stdout",
     "output_type": "stream",
     "text": [
      "\n",
      "Testing pipeline_2D_thr_0.5_norm_percentile_2_1 pipeline\n"
     ]
    },
    {
     "name": "stderr",
     "output_type": "stream",
     "text": [
      "100%|██████████| 19/19 [00:00<00:00, 6166.66it/s]"
     ]
    },
    {
     "name": "stdout",
     "output_type": "stream",
     "text": [
      "[==========================                        ] 53.79%"
     ]
    },
    {
     "name": "stderr",
     "output_type": "stream",
     "text": [
      "\n"
     ]
    },
    {
     "name": "stdout",
     "output_type": "stream",
     "text": [
      "\n",
      "Testing pipeline_2D_thr_0.5_norm_percentile_2_2 pipeline\n"
     ]
    },
    {
     "name": "stderr",
     "output_type": "stream",
     "text": [
      "100%|██████████| 19/19 [00:00<00:00, 5312.43it/s]\n"
     ]
    },
    {
     "name": "stdout",
     "output_type": "stream",
     "text": [
      "[==========================                        ] 53.91%\n",
      "Testing pipeline_2D_thr_0.5_norm_percentile_2_3 pipeline\n"
     ]
    },
    {
     "name": "stderr",
     "output_type": "stream",
     "text": [
      "100%|██████████| 19/19 [00:00<00:00, 4476.56it/s]"
     ]
    },
    {
     "name": "stdout",
     "output_type": "stream",
     "text": [
      "[===========================                       ] 54.02%"
     ]
    },
    {
     "name": "stderr",
     "output_type": "stream",
     "text": [
      "\n"
     ]
    },
    {
     "name": "stdout",
     "output_type": "stream",
     "text": [
      "\n",
      "Testing pipeline_2D_thr_0.5_norm_percentile_2_4 pipeline\n"
     ]
    },
    {
     "name": "stderr",
     "output_type": "stream",
     "text": [
      "100%|██████████| 19/19 [00:00<00:00, 5356.35it/s]\n"
     ]
    },
    {
     "name": "stdout",
     "output_type": "stream",
     "text": [
      "[===========================                       ] 54.13%\n",
      "Testing pipeline_2D_thr_0.5_norm_percentile_2_5 pipeline\n"
     ]
    },
    {
     "name": "stderr",
     "output_type": "stream",
     "text": [
      "100%|██████████| 19/19 [00:00<00:00, 5292.32it/s]"
     ]
    },
    {
     "name": "stdout",
     "output_type": "stream",
     "text": [
      "[===========================                       ] 54.24%"
     ]
    },
    {
     "name": "stderr",
     "output_type": "stream",
     "text": [
      "\n"
     ]
    },
    {
     "name": "stdout",
     "output_type": "stream",
     "text": [
      "\n",
      "Testing pipeline_2D_thr_0.5_norm_percentile_2_6 pipeline\n"
     ]
    },
    {
     "name": "stderr",
     "output_type": "stream",
     "text": [
      "100%|██████████| 19/19 [00:00<00:00, 7010.80it/s]\n"
     ]
    },
    {
     "name": "stdout",
     "output_type": "stream",
     "text": [
      "[===========================                       ] 54.35%\n",
      "Testing pipeline_2D_thr_0.5_norm_percentile_2_7 pipeline\n"
     ]
    },
    {
     "name": "stderr",
     "output_type": "stream",
     "text": [
      "100%|██████████| 19/19 [00:00<00:00, 6556.30it/s]\n"
     ]
    },
    {
     "name": "stdout",
     "output_type": "stream",
     "text": [
      "[===========================                       ] 54.46%\n",
      "Testing pipeline_2D_thr_0.5_norm_percentile_2_8 pipeline\n"
     ]
    },
    {
     "name": "stderr",
     "output_type": "stream",
     "text": [
      "100%|██████████| 19/19 [00:00<00:00, 5339.84it/s]\n"
     ]
    },
    {
     "name": "stdout",
     "output_type": "stream",
     "text": [
      "[===========================                       ] 54.58%\n",
      "Testing pipeline_2D_thr_0.5_norm_percentile_2_9 pipeline\n"
     ]
    },
    {
     "name": "stderr",
     "output_type": "stream",
     "text": [
      "100%|██████████| 19/19 [00:00<00:00, 6313.72it/s]\n"
     ]
    },
    {
     "name": "stdout",
     "output_type": "stream",
     "text": [
      "[===========================                       ] 54.69%\n",
      "Testing pipeline_2D_thr_0.5_norm_percentile_2_10 pipeline\n"
     ]
    },
    {
     "name": "stderr",
     "output_type": "stream",
     "text": [
      "100%|██████████| 19/19 [00:00<00:00, 5472.96it/s]\n"
     ]
    },
    {
     "name": "stdout",
     "output_type": "stream",
     "text": [
      "[===========================                       ] 54.80%\n",
      "Testing pipeline_2D_thr_0.5_norm_percentile_2_11 pipeline\n"
     ]
    },
    {
     "name": "stderr",
     "output_type": "stream",
     "text": [
      "100%|██████████| 19/19 [00:00<00:00, 5214.07it/s]\n"
     ]
    },
    {
     "name": "stdout",
     "output_type": "stream",
     "text": [
      "[===========================                       ] 54.91%\n",
      "Testing pipeline_2D_thr_0.5_norm_percentile_2_12 pipeline\n"
     ]
    },
    {
     "name": "stderr",
     "output_type": "stream",
     "text": [
      "100%|██████████| 19/19 [00:00<00:00, 6519.29it/s]\n"
     ]
    },
    {
     "name": "stdout",
     "output_type": "stream",
     "text": [
      "[===========================                       ] 55.02%\n",
      "Testing pipeline_2D_thr_0.5_norm_percentile_2_13 pipeline\n"
     ]
    },
    {
     "name": "stderr",
     "output_type": "stream",
     "text": [
      "100%|██████████| 19/19 [00:00<00:00, 5675.65it/s]\n"
     ]
    },
    {
     "name": "stdout",
     "output_type": "stream",
     "text": [
      "[===========================                       ] 55.13%\n",
      "Testing pipeline_2D_thr_0.5_norm_percentile_2_14 pipeline\n"
     ]
    },
    {
     "name": "stderr",
     "output_type": "stream",
     "text": [
      "100%|██████████| 19/19 [00:00<00:00, 5474.46it/s]\n"
     ]
    },
    {
     "name": "stdout",
     "output_type": "stream",
     "text": [
      "[===========================                       ] 55.25%\n",
      "Testing pipeline_2D_thr_0.5_norm_percentile_2_15 pipeline\n"
     ]
    },
    {
     "name": "stderr",
     "output_type": "stream",
     "text": [
      "100%|██████████| 19/19 [00:00<00:00, 6130.61it/s]"
     ]
    },
    {
     "name": "stdout",
     "output_type": "stream",
     "text": [
      "[===========================                       ] 55.36%"
     ]
    },
    {
     "name": "stderr",
     "output_type": "stream",
     "text": [
      "\n"
     ]
    },
    {
     "name": "stdout",
     "output_type": "stream",
     "text": [
      "\n",
      "Testing pipeline_2D_thr_0.5_norm_percentile_3_0 pipeline\n"
     ]
    },
    {
     "name": "stderr",
     "output_type": "stream",
     "text": [
      "100%|██████████| 19/19 [00:00<00:00, 5460.96it/s]"
     ]
    },
    {
     "name": "stdout",
     "output_type": "stream",
     "text": [
      "[===========================                       ] 55.47%"
     ]
    },
    {
     "name": "stderr",
     "output_type": "stream",
     "text": [
      "\n"
     ]
    },
    {
     "name": "stdout",
     "output_type": "stream",
     "text": [
      "\n",
      "Testing pipeline_2D_thr_0.5_norm_percentile_3_1 pipeline\n"
     ]
    },
    {
     "name": "stderr",
     "output_type": "stream",
     "text": [
      "100%|██████████| 19/19 [00:00<00:00, 6687.80it/s]"
     ]
    },
    {
     "name": "stdout",
     "output_type": "stream",
     "text": [
      "[===========================                       ] 55.58%"
     ]
    },
    {
     "name": "stderr",
     "output_type": "stream",
     "text": [
      "\n"
     ]
    },
    {
     "name": "stdout",
     "output_type": "stream",
     "text": [
      "\n",
      "Testing pipeline_2D_thr_0.5_norm_percentile_3_2 pipeline\n"
     ]
    },
    {
     "name": "stderr",
     "output_type": "stream",
     "text": [
      "100%|██████████| 19/19 [00:00<00:00, 5276.20it/s]\n"
     ]
    },
    {
     "name": "stdout",
     "output_type": "stream",
     "text": [
      "[===========================                       ] 55.69%\n",
      "Testing pipeline_2D_thr_0.5_norm_percentile_3_3 pipeline\n"
     ]
    },
    {
     "name": "stderr",
     "output_type": "stream",
     "text": [
      "100%|██████████| 19/19 [00:00<00:00, 6461.67it/s]"
     ]
    },
    {
     "name": "stdout",
     "output_type": "stream",
     "text": [
      "[===========================                       ] 55.80%"
     ]
    },
    {
     "name": "stderr",
     "output_type": "stream",
     "text": [
      "\n"
     ]
    },
    {
     "name": "stdout",
     "output_type": "stream",
     "text": [
      "\n",
      "Testing pipeline_2D_thr_0.5_norm_percentile_3_4 pipeline\n"
     ]
    },
    {
     "name": "stderr",
     "output_type": "stream",
     "text": [
      "100%|██████████| 19/19 [00:00<00:00, 5568.96it/s]\n"
     ]
    },
    {
     "name": "stdout",
     "output_type": "stream",
     "text": [
      "[===========================                       ] 55.92%\n",
      "Testing pipeline_2D_thr_0.5_norm_percentile_3_5 pipeline\n"
     ]
    },
    {
     "name": "stderr",
     "output_type": "stream",
     "text": [
      "100%|██████████| 19/19 [00:00<00:00, 4039.53it/s]"
     ]
    },
    {
     "name": "stdout",
     "output_type": "stream",
     "text": [
      "[============================                      ] 56.03%"
     ]
    },
    {
     "name": "stderr",
     "output_type": "stream",
     "text": [
      "\n"
     ]
    },
    {
     "name": "stdout",
     "output_type": "stream",
     "text": [
      "\n",
      "Testing pipeline_2D_thr_0.5_norm_percentile_3_6 pipeline\n"
     ]
    },
    {
     "name": "stderr",
     "output_type": "stream",
     "text": [
      "100%|██████████| 19/19 [00:00<00:00, 5661.54it/s]\n"
     ]
    },
    {
     "name": "stdout",
     "output_type": "stream",
     "text": [
      "[============================                      ] 56.14%\n",
      "Testing pipeline_2D_thr_0.5_norm_percentile_3_7 pipeline\n"
     ]
    },
    {
     "name": "stderr",
     "output_type": "stream",
     "text": [
      "100%|██████████| 19/19 [00:00<00:00, 4274.62it/s]\n"
     ]
    },
    {
     "name": "stdout",
     "output_type": "stream",
     "text": [
      "[============================                      ] 56.25%\n",
      "Testing pipeline_2D_thr_0.5_norm_percentile_3_8 pipeline\n"
     ]
    },
    {
     "name": "stderr",
     "output_type": "stream",
     "text": [
      "100%|██████████| 19/19 [00:00<00:00, 6401.46it/s]\n"
     ]
    },
    {
     "name": "stdout",
     "output_type": "stream",
     "text": [
      "[============================                      ] 56.36%\n",
      "Testing pipeline_2D_thr_0.5_norm_percentile_3_9 pipeline\n"
     ]
    },
    {
     "name": "stderr",
     "output_type": "stream",
     "text": [
      "100%|██████████| 19/19 [00:00<00:00, 6988.67it/s]\n"
     ]
    },
    {
     "name": "stdout",
     "output_type": "stream",
     "text": [
      "[============================                      ] 56.47%\n",
      "Testing pipeline_2D_thr_0.5_norm_percentile_3_10 pipeline\n"
     ]
    },
    {
     "name": "stderr",
     "output_type": "stream",
     "text": [
      "100%|██████████| 19/19 [00:00<00:00, 5692.27it/s]\n"
     ]
    },
    {
     "name": "stdout",
     "output_type": "stream",
     "text": [
      "[============================                      ] 56.58%\n",
      "Testing pipeline_2D_thr_0.5_norm_percentile_3_11 pipeline\n"
     ]
    },
    {
     "name": "stderr",
     "output_type": "stream",
     "text": [
      "100%|██████████| 19/19 [00:00<00:00, 6583.92it/s]\n"
     ]
    },
    {
     "name": "stdout",
     "output_type": "stream",
     "text": [
      "[============================                      ] 56.70%\n",
      "Testing pipeline_2D_thr_0.5_norm_percentile_3_12 pipeline\n"
     ]
    },
    {
     "name": "stderr",
     "output_type": "stream",
     "text": [
      "100%|██████████| 19/19 [00:00<00:00, 5804.21it/s]\n"
     ]
    },
    {
     "name": "stdout",
     "output_type": "stream",
     "text": [
      "[============================                      ] 56.81%\n",
      "Testing pipeline_2D_thr_0.5_norm_percentile_3_13 pipeline\n"
     ]
    },
    {
     "name": "stderr",
     "output_type": "stream",
     "text": [
      "100%|██████████| 19/19 [00:00<00:00, 4270.50it/s]\n"
     ]
    },
    {
     "name": "stdout",
     "output_type": "stream",
     "text": [
      "[============================                      ] 56.92%\n",
      "Testing pipeline_2D_thr_0.5_norm_percentile_3_14 pipeline\n"
     ]
    },
    {
     "name": "stderr",
     "output_type": "stream",
     "text": [
      "100%|██████████| 19/19 [00:00<00:00, 5902.22it/s]\n"
     ]
    },
    {
     "name": "stdout",
     "output_type": "stream",
     "text": [
      "[============================                      ] 57.03%\n",
      "Testing pipeline_2D_thr_0.5_norm_percentile_3_15 pipeline\n"
     ]
    },
    {
     "name": "stderr",
     "output_type": "stream",
     "text": [
      "100%|██████████| 19/19 [00:00<00:00, 5974.34it/s]"
     ]
    },
    {
     "name": "stdout",
     "output_type": "stream",
     "text": [
      "[============================                      ] 57.14%"
     ]
    },
    {
     "name": "stderr",
     "output_type": "stream",
     "text": [
      "\n"
     ]
    },
    {
     "name": "stdout",
     "output_type": "stream",
     "text": [
      "\n",
      "Testing pipeline_2D_thr_0.6_norm_minmax_0_0 pipeline\n"
     ]
    },
    {
     "name": "stderr",
     "output_type": "stream",
     "text": [
      "100%|██████████| 19/19 [00:00<00:00, 4635.40it/s]"
     ]
    },
    {
     "name": "stdout",
     "output_type": "stream",
     "text": [
      "[============================                      ] 57.25%"
     ]
    },
    {
     "name": "stderr",
     "output_type": "stream",
     "text": [
      "\n"
     ]
    },
    {
     "name": "stdout",
     "output_type": "stream",
     "text": [
      "\n",
      "Testing pipeline_2D_thr_0.6_norm_minmax_0_1 pipeline\n"
     ]
    },
    {
     "name": "stderr",
     "output_type": "stream",
     "text": [
      "100%|██████████| 19/19 [00:00<00:00, 6417.44it/s]"
     ]
    },
    {
     "name": "stdout",
     "output_type": "stream",
     "text": [
      "[============================                      ] 57.37%"
     ]
    },
    {
     "name": "stderr",
     "output_type": "stream",
     "text": [
      "\n"
     ]
    },
    {
     "name": "stdout",
     "output_type": "stream",
     "text": [
      "\n",
      "Testing pipeline_2D_thr_0.6_norm_minmax_0_2 pipeline\n"
     ]
    },
    {
     "name": "stderr",
     "output_type": "stream",
     "text": [
      "100%|██████████| 19/19 [00:00<00:00, 4300.23it/s]\n"
     ]
    },
    {
     "name": "stdout",
     "output_type": "stream",
     "text": [
      "[============================                      ] 57.48%\n",
      "Testing pipeline_2D_thr_0.6_norm_minmax_0_3 pipeline\n"
     ]
    },
    {
     "name": "stderr",
     "output_type": "stream",
     "text": [
      "100%|██████████| 19/19 [00:00<00:00, 4421.18it/s]"
     ]
    },
    {
     "name": "stdout",
     "output_type": "stream",
     "text": [
      "[============================                      ] 57.59%"
     ]
    },
    {
     "name": "stderr",
     "output_type": "stream",
     "text": [
      "\n"
     ]
    },
    {
     "name": "stdout",
     "output_type": "stream",
     "text": [
      "\n",
      "Testing pipeline_2D_thr_0.6_norm_minmax_0_4 pipeline\n"
     ]
    },
    {
     "name": "stderr",
     "output_type": "stream",
     "text": [
      "100%|██████████| 19/19 [00:00<00:00, 4011.67it/s]\n"
     ]
    },
    {
     "name": "stdout",
     "output_type": "stream",
     "text": [
      "[============================                      ] 57.70%\n",
      "Testing pipeline_2D_thr_0.6_norm_minmax_0_5 pipeline\n"
     ]
    },
    {
     "name": "stderr",
     "output_type": "stream",
     "text": [
      "100%|██████████| 19/19 [00:00<00:00, 6240.55it/s]"
     ]
    },
    {
     "name": "stdout",
     "output_type": "stream",
     "text": [
      "[============================                      ] 57.81%"
     ]
    },
    {
     "name": "stderr",
     "output_type": "stream",
     "text": [
      "\n"
     ]
    },
    {
     "name": "stdout",
     "output_type": "stream",
     "text": [
      "\n",
      "Testing pipeline_2D_thr_0.6_norm_minmax_0_6 pipeline\n"
     ]
    },
    {
     "name": "stderr",
     "output_type": "stream",
     "text": [
      "100%|██████████| 19/19 [00:00<00:00, 4189.67it/s]\n"
     ]
    },
    {
     "name": "stdout",
     "output_type": "stream",
     "text": [
      "[============================                      ] 57.92%\n",
      "Testing pipeline_2D_thr_0.6_norm_minmax_0_7 pipeline\n"
     ]
    },
    {
     "name": "stderr",
     "output_type": "stream",
     "text": [
      "100%|██████████| 19/19 [00:00<00:00, 4938.76it/s]\n"
     ]
    },
    {
     "name": "stdout",
     "output_type": "stream",
     "text": [
      "[=============================                     ] 58.04%\n",
      "Testing pipeline_2D_thr_0.6_norm_minmax_0_8 pipeline\n"
     ]
    },
    {
     "name": "stderr",
     "output_type": "stream",
     "text": [
      "100%|██████████| 19/19 [00:00<00:00, 5005.45it/s]\n"
     ]
    },
    {
     "name": "stdout",
     "output_type": "stream",
     "text": [
      "[=============================                     ] 58.15%\n",
      "Testing pipeline_2D_thr_0.6_norm_minmax_0_9 pipeline\n"
     ]
    },
    {
     "name": "stderr",
     "output_type": "stream",
     "text": [
      "100%|██████████| 19/19 [00:00<00:00, 4831.56it/s]\n"
     ]
    },
    {
     "name": "stdout",
     "output_type": "stream",
     "text": [
      "[=============================                     ] 58.26%\n",
      "Testing pipeline_2D_thr_0.6_norm_minmax_0_10 pipeline\n"
     ]
    },
    {
     "name": "stderr",
     "output_type": "stream",
     "text": [
      "100%|██████████| 19/19 [00:00<00:00, 4126.33it/s]\n"
     ]
    },
    {
     "name": "stdout",
     "output_type": "stream",
     "text": [
      "[=============================                     ] 58.37%\n",
      "Testing pipeline_2D_thr_0.6_norm_minmax_0_11 pipeline\n"
     ]
    },
    {
     "name": "stderr",
     "output_type": "stream",
     "text": [
      "100%|██████████| 19/19 [00:00<00:00, 5497.50it/s]\n"
     ]
    },
    {
     "name": "stdout",
     "output_type": "stream",
     "text": [
      "[=============================                     ] 58.48%\n",
      "Testing pipeline_2D_thr_0.6_norm_minmax_0_12 pipeline\n"
     ]
    },
    {
     "name": "stderr",
     "output_type": "stream",
     "text": [
      "100%|██████████| 19/19 [00:00<00:00, 5423.05it/s]\n"
     ]
    },
    {
     "name": "stdout",
     "output_type": "stream",
     "text": [
      "[=============================                     ] 58.59%\n",
      "Testing pipeline_2D_thr_0.6_norm_minmax_0_13 pipeline\n"
     ]
    },
    {
     "name": "stderr",
     "output_type": "stream",
     "text": [
      "100%|██████████| 19/19 [00:00<00:00, 5269.92it/s]\n"
     ]
    },
    {
     "name": "stdout",
     "output_type": "stream",
     "text": [
      "[=============================                     ] 58.71%\n",
      "Testing pipeline_2D_thr_0.6_norm_minmax_0_14 pipeline\n"
     ]
    },
    {
     "name": "stderr",
     "output_type": "stream",
     "text": [
      "100%|██████████| 19/19 [00:00<00:00, 4843.01it/s]\n"
     ]
    },
    {
     "name": "stdout",
     "output_type": "stream",
     "text": [
      "[=============================                     ] 58.82%\n",
      "Testing pipeline_2D_thr_0.6_norm_minmax_0_15 pipeline\n"
     ]
    },
    {
     "name": "stderr",
     "output_type": "stream",
     "text": [
      "100%|██████████| 19/19 [00:00<00:00, 3160.99it/s]"
     ]
    },
    {
     "name": "stdout",
     "output_type": "stream",
     "text": [
      "[=============================                     ] 58.93%"
     ]
    },
    {
     "name": "stderr",
     "output_type": "stream",
     "text": [
      "\n"
     ]
    },
    {
     "name": "stdout",
     "output_type": "stream",
     "text": [
      "\n",
      "Testing pipeline_2D_thr_0.6_norm_minmax_1_0 pipeline\n"
     ]
    },
    {
     "name": "stderr",
     "output_type": "stream",
     "text": [
      "100%|██████████| 19/19 [00:00<00:00, 4612.86it/s]"
     ]
    },
    {
     "name": "stdout",
     "output_type": "stream",
     "text": [
      "[=============================                     ] 59.04%"
     ]
    },
    {
     "name": "stderr",
     "output_type": "stream",
     "text": [
      "\n"
     ]
    },
    {
     "name": "stdout",
     "output_type": "stream",
     "text": [
      "\n",
      "Testing pipeline_2D_thr_0.6_norm_minmax_1_1 pipeline\n"
     ]
    },
    {
     "name": "stderr",
     "output_type": "stream",
     "text": [
      "100%|██████████| 19/19 [00:00<00:00, 5195.71it/s]"
     ]
    },
    {
     "name": "stdout",
     "output_type": "stream",
     "text": [
      "[=============================                     ] 59.15%"
     ]
    },
    {
     "name": "stderr",
     "output_type": "stream",
     "text": [
      "\n"
     ]
    },
    {
     "name": "stdout",
     "output_type": "stream",
     "text": [
      "\n",
      "Testing pipeline_2D_thr_0.6_norm_minmax_1_2 pipeline\n"
     ]
    },
    {
     "name": "stderr",
     "output_type": "stream",
     "text": [
      "100%|██████████| 19/19 [00:00<00:00, 6137.22it/s]\n"
     ]
    },
    {
     "name": "stdout",
     "output_type": "stream",
     "text": [
      "[=============================                     ] 59.26%\n",
      "Testing pipeline_2D_thr_0.6_norm_minmax_1_3 pipeline\n"
     ]
    },
    {
     "name": "stderr",
     "output_type": "stream",
     "text": [
      "100%|██████████| 19/19 [00:00<00:00, 4616.07it/s]"
     ]
    },
    {
     "name": "stdout",
     "output_type": "stream",
     "text": [
      "[=============================                     ] 59.38%"
     ]
    },
    {
     "name": "stderr",
     "output_type": "stream",
     "text": [
      "\n"
     ]
    },
    {
     "name": "stdout",
     "output_type": "stream",
     "text": [
      "\n",
      "Testing pipeline_2D_thr_0.6_norm_minmax_1_4 pipeline\n"
     ]
    },
    {
     "name": "stderr",
     "output_type": "stream",
     "text": [
      "100%|██████████| 19/19 [00:00<00:00, 4807.95it/s]\n"
     ]
    },
    {
     "name": "stdout",
     "output_type": "stream",
     "text": [
      "[=============================                     ] 59.49%\n",
      "Testing pipeline_2D_thr_0.6_norm_minmax_1_5 pipeline\n"
     ]
    },
    {
     "name": "stderr",
     "output_type": "stream",
     "text": [
      "100%|██████████| 19/19 [00:00<00:00, 4712.42it/s]"
     ]
    },
    {
     "name": "stdout",
     "output_type": "stream",
     "text": [
      "[=============================                     ] 59.60%"
     ]
    },
    {
     "name": "stderr",
     "output_type": "stream",
     "text": [
      "\n"
     ]
    },
    {
     "name": "stdout",
     "output_type": "stream",
     "text": [
      "\n",
      "Testing pipeline_2D_thr_0.6_norm_minmax_1_6 pipeline\n"
     ]
    },
    {
     "name": "stderr",
     "output_type": "stream",
     "text": [
      "100%|██████████| 19/19 [00:00<00:00, 7050.50it/s]\n"
     ]
    },
    {
     "name": "stdout",
     "output_type": "stream",
     "text": [
      "[=============================                     ] 59.71%\n",
      "Testing pipeline_2D_thr_0.6_norm_minmax_1_7 pipeline\n"
     ]
    },
    {
     "name": "stderr",
     "output_type": "stream",
     "text": [
      "100%|██████████| 19/19 [00:00<00:00, 5039.64it/s]\n"
     ]
    },
    {
     "name": "stdout",
     "output_type": "stream",
     "text": [
      "[=============================                     ] 59.82%\n",
      "Testing pipeline_2D_thr_0.6_norm_minmax_1_8 pipeline\n"
     ]
    },
    {
     "name": "stderr",
     "output_type": "stream",
     "text": [
      "100%|██████████| 19/19 [00:00<00:00, 5036.13it/s]\n"
     ]
    },
    {
     "name": "stdout",
     "output_type": "stream",
     "text": [
      "[=============================                     ] 59.93%\n",
      "Testing pipeline_2D_thr_0.6_norm_minmax_1_9 pipeline\n"
     ]
    },
    {
     "name": "stderr",
     "output_type": "stream",
     "text": [
      "100%|██████████| 19/19 [00:00<00:00, 6064.36it/s]\n"
     ]
    },
    {
     "name": "stdout",
     "output_type": "stream",
     "text": [
      "[==============================                    ] 60.04%\n",
      "Testing pipeline_2D_thr_0.6_norm_minmax_1_10 pipeline\n"
     ]
    },
    {
     "name": "stderr",
     "output_type": "stream",
     "text": [
      "100%|██████████| 19/19 [00:00<00:00, 6607.94it/s]\n"
     ]
    },
    {
     "name": "stdout",
     "output_type": "stream",
     "text": [
      "[==============================                    ] 60.16%\n",
      "Testing pipeline_2D_thr_0.6_norm_minmax_1_11 pipeline\n"
     ]
    },
    {
     "name": "stderr",
     "output_type": "stream",
     "text": [
      "100%|██████████| 19/19 [00:00<00:00, 6270.01it/s]\n"
     ]
    },
    {
     "name": "stdout",
     "output_type": "stream",
     "text": [
      "[==============================                    ] 60.27%\n",
      "Testing pipeline_2D_thr_0.6_norm_minmax_1_12 pipeline\n"
     ]
    },
    {
     "name": "stderr",
     "output_type": "stream",
     "text": [
      "100%|██████████| 19/19 [00:00<00:00, 5992.76it/s]\n"
     ]
    },
    {
     "name": "stdout",
     "output_type": "stream",
     "text": [
      "[==============================                    ] 60.38%\n",
      "Testing pipeline_2D_thr_0.6_norm_minmax_1_13 pipeline\n"
     ]
    },
    {
     "name": "stderr",
     "output_type": "stream",
     "text": [
      "100%|██████████| 19/19 [00:00<00:00, 6392.22it/s]\n"
     ]
    },
    {
     "name": "stdout",
     "output_type": "stream",
     "text": [
      "[==============================                    ] 60.49%\n",
      "Testing pipeline_2D_thr_0.6_norm_minmax_1_14 pipeline\n"
     ]
    },
    {
     "name": "stderr",
     "output_type": "stream",
     "text": [
      "100%|██████████| 19/19 [00:00<00:00, 6113.21it/s]\n"
     ]
    },
    {
     "name": "stdout",
     "output_type": "stream",
     "text": [
      "[==============================                    ] 60.60%\n",
      "Testing pipeline_2D_thr_0.6_norm_minmax_1_15 pipeline\n"
     ]
    },
    {
     "name": "stderr",
     "output_type": "stream",
     "text": [
      "100%|██████████| 19/19 [00:00<00:00, 5843.36it/s]"
     ]
    },
    {
     "name": "stdout",
     "output_type": "stream",
     "text": [
      "[==============================                    ] 60.71%"
     ]
    },
    {
     "name": "stderr",
     "output_type": "stream",
     "text": [
      "\n"
     ]
    },
    {
     "name": "stdout",
     "output_type": "stream",
     "text": [
      "\n",
      "Testing pipeline_2D_thr_0.6_norm_minmax_2_0 pipeline\n"
     ]
    },
    {
     "name": "stderr",
     "output_type": "stream",
     "text": [
      "100%|██████████| 19/19 [00:00<00:00, 5427.49it/s]"
     ]
    },
    {
     "name": "stdout",
     "output_type": "stream",
     "text": [
      "[==============================                    ] 60.83%"
     ]
    },
    {
     "name": "stderr",
     "output_type": "stream",
     "text": [
      "\n"
     ]
    },
    {
     "name": "stdout",
     "output_type": "stream",
     "text": [
      "\n",
      "Testing pipeline_2D_thr_0.6_norm_minmax_2_1 pipeline\n"
     ]
    },
    {
     "name": "stderr",
     "output_type": "stream",
     "text": [
      "100%|██████████| 19/19 [00:00<00:00, 4137.04it/s]"
     ]
    },
    {
     "name": "stdout",
     "output_type": "stream",
     "text": [
      "[==============================                    ] 60.94%"
     ]
    },
    {
     "name": "stderr",
     "output_type": "stream",
     "text": [
      "\n"
     ]
    },
    {
     "name": "stdout",
     "output_type": "stream",
     "text": [
      "\n",
      "Testing pipeline_2D_thr_0.6_norm_minmax_2_2 pipeline\n"
     ]
    },
    {
     "name": "stderr",
     "output_type": "stream",
     "text": [
      "100%|██████████| 19/19 [00:00<00:00, 6571.98it/s]\n"
     ]
    },
    {
     "name": "stdout",
     "output_type": "stream",
     "text": [
      "[==============================                    ] 61.05%\n",
      "Testing pipeline_2D_thr_0.6_norm_minmax_2_3 pipeline\n"
     ]
    },
    {
     "name": "stderr",
     "output_type": "stream",
     "text": [
      "100%|██████████| 19/19 [00:00<00:00, 5434.89it/s]"
     ]
    },
    {
     "name": "stdout",
     "output_type": "stream",
     "text": [
      "[==============================                    ] 61.16%"
     ]
    },
    {
     "name": "stderr",
     "output_type": "stream",
     "text": [
      "\n"
     ]
    },
    {
     "name": "stdout",
     "output_type": "stream",
     "text": [
      "\n",
      "Testing pipeline_2D_thr_0.6_norm_minmax_2_4 pipeline\n"
     ]
    },
    {
     "name": "stderr",
     "output_type": "stream",
     "text": [
      "100%|██████████| 19/19 [00:00<00:00, 5135.11it/s]\n"
     ]
    },
    {
     "name": "stdout",
     "output_type": "stream",
     "text": [
      "[==============================                    ] 61.27%\n",
      "Testing pipeline_2D_thr_0.6_norm_minmax_2_5 pipeline\n"
     ]
    },
    {
     "name": "stderr",
     "output_type": "stream",
     "text": [
      "100%|██████████| 19/19 [00:00<00:00, 3205.11it/s]"
     ]
    },
    {
     "name": "stdout",
     "output_type": "stream",
     "text": [
      "[==============================                    ] 61.38%"
     ]
    },
    {
     "name": "stderr",
     "output_type": "stream",
     "text": [
      "\n"
     ]
    },
    {
     "name": "stdout",
     "output_type": "stream",
     "text": [
      "\n",
      "Testing pipeline_2D_thr_0.6_norm_minmax_2_6 pipeline\n"
     ]
    },
    {
     "name": "stderr",
     "output_type": "stream",
     "text": [
      "100%|██████████| 19/19 [00:00<00:00, 5508.14it/s]\n"
     ]
    },
    {
     "name": "stdout",
     "output_type": "stream",
     "text": [
      "[==============================                    ] 61.50%\n",
      "Testing pipeline_2D_thr_0.6_norm_minmax_2_7 pipeline\n"
     ]
    },
    {
     "name": "stderr",
     "output_type": "stream",
     "text": [
      "100%|██████████| 19/19 [00:00<00:00, 6415.37it/s]\n"
     ]
    },
    {
     "name": "stdout",
     "output_type": "stream",
     "text": [
      "[==============================                    ] 61.61%\n",
      "Testing pipeline_2D_thr_0.6_norm_minmax_2_8 pipeline\n"
     ]
    },
    {
     "name": "stderr",
     "output_type": "stream",
     "text": [
      "100%|██████████| 19/19 [00:00<00:00, 5500.16it/s]\n"
     ]
    },
    {
     "name": "stdout",
     "output_type": "stream",
     "text": [
      "[==============================                    ] 61.72%\n",
      "Testing pipeline_2D_thr_0.6_norm_minmax_2_9 pipeline\n"
     ]
    },
    {
     "name": "stderr",
     "output_type": "stream",
     "text": [
      "100%|██████████| 19/19 [00:00<00:00, 5653.10it/s]\n"
     ]
    },
    {
     "name": "stdout",
     "output_type": "stream",
     "text": [
      "[==============================                    ] 61.83%\n",
      "Testing pipeline_2D_thr_0.6_norm_minmax_2_10 pipeline\n"
     ]
    },
    {
     "name": "stderr",
     "output_type": "stream",
     "text": [
      "100%|██████████| 19/19 [00:00<00:00, 5403.93it/s]\n"
     ]
    },
    {
     "name": "stdout",
     "output_type": "stream",
     "text": [
      "[==============================                    ] 61.94%\n",
      "Testing pipeline_2D_thr_0.6_norm_minmax_2_11 pipeline\n"
     ]
    },
    {
     "name": "stderr",
     "output_type": "stream",
     "text": [
      "100%|██████████| 19/19 [00:00<00:00, 6018.11it/s]\n"
     ]
    },
    {
     "name": "stdout",
     "output_type": "stream",
     "text": [
      "[===============================                   ] 62.05%\n",
      "Testing pipeline_2D_thr_0.6_norm_minmax_2_12 pipeline\n"
     ]
    },
    {
     "name": "stderr",
     "output_type": "stream",
     "text": [
      "100%|██████████| 19/19 [00:00<00:00, 5110.74it/s]\n"
     ]
    },
    {
     "name": "stdout",
     "output_type": "stream",
     "text": [
      "[===============================                   ] 62.17%\n",
      "Testing pipeline_2D_thr_0.6_norm_minmax_2_13 pipeline\n"
     ]
    },
    {
     "name": "stderr",
     "output_type": "stream",
     "text": [
      "100%|██████████| 19/19 [00:00<00:00, 5352.75it/s]\n"
     ]
    },
    {
     "name": "stdout",
     "output_type": "stream",
     "text": [
      "[===============================                   ] 62.28%\n",
      "Testing pipeline_2D_thr_0.6_norm_minmax_2_14 pipeline\n"
     ]
    },
    {
     "name": "stderr",
     "output_type": "stream",
     "text": [
      "100%|██████████| 19/19 [00:00<00:00, 5888.26it/s]\n"
     ]
    },
    {
     "name": "stdout",
     "output_type": "stream",
     "text": [
      "[===============================                   ] 62.39%\n",
      "Testing pipeline_2D_thr_0.6_norm_minmax_2_15 pipeline\n"
     ]
    },
    {
     "name": "stderr",
     "output_type": "stream",
     "text": [
      "100%|██████████| 19/19 [00:00<00:00, 5673.22it/s]"
     ]
    },
    {
     "name": "stdout",
     "output_type": "stream",
     "text": [
      "[===============================                   ] 62.50%"
     ]
    },
    {
     "name": "stderr",
     "output_type": "stream",
     "text": [
      "\n"
     ]
    },
    {
     "name": "stdout",
     "output_type": "stream",
     "text": [
      "\n",
      "Testing pipeline_2D_thr_0.6_norm_minmax_3_0 pipeline\n"
     ]
    },
    {
     "name": "stderr",
     "output_type": "stream",
     "text": [
      "100%|██████████| 19/19 [00:00<00:00, 5380.94it/s]"
     ]
    },
    {
     "name": "stdout",
     "output_type": "stream",
     "text": [
      "[===============================                   ] 62.61%"
     ]
    },
    {
     "name": "stderr",
     "output_type": "stream",
     "text": [
      "\n"
     ]
    },
    {
     "name": "stdout",
     "output_type": "stream",
     "text": [
      "\n",
      "Testing pipeline_2D_thr_0.6_norm_minmax_3_1 pipeline\n"
     ]
    },
    {
     "name": "stderr",
     "output_type": "stream",
     "text": [
      "100%|██████████| 19/19 [00:00<00:00, 5130.15it/s]"
     ]
    },
    {
     "name": "stdout",
     "output_type": "stream",
     "text": [
      "[===============================                   ] 62.72%"
     ]
    },
    {
     "name": "stderr",
     "output_type": "stream",
     "text": [
      "\n"
     ]
    },
    {
     "name": "stdout",
     "output_type": "stream",
     "text": [
      "\n",
      "Testing pipeline_2D_thr_0.6_norm_minmax_3_2 pipeline\n"
     ]
    },
    {
     "name": "stderr",
     "output_type": "stream",
     "text": [
      "100%|██████████| 19/19 [00:00<00:00, 5431.18it/s]\n"
     ]
    },
    {
     "name": "stdout",
     "output_type": "stream",
     "text": [
      "[===============================                   ] 62.83%\n",
      "Testing pipeline_2D_thr_0.6_norm_minmax_3_3 pipeline\n"
     ]
    },
    {
     "name": "stderr",
     "output_type": "stream",
     "text": [
      "100%|██████████| 19/19 [00:00<00:00, 5228.09it/s]"
     ]
    },
    {
     "name": "stdout",
     "output_type": "stream",
     "text": [
      "[===============================                   ] 62.95%"
     ]
    },
    {
     "name": "stderr",
     "output_type": "stream",
     "text": [
      "\n"
     ]
    },
    {
     "name": "stdout",
     "output_type": "stream",
     "text": [
      "\n",
      "Testing pipeline_2D_thr_0.6_norm_minmax_3_4 pipeline\n"
     ]
    },
    {
     "name": "stderr",
     "output_type": "stream",
     "text": [
      "100%|██████████| 19/19 [00:00<00:00, 5935.19it/s]\n"
     ]
    },
    {
     "name": "stdout",
     "output_type": "stream",
     "text": [
      "[===============================                   ] 63.06%\n",
      "Testing pipeline_2D_thr_0.6_norm_minmax_3_5 pipeline\n"
     ]
    },
    {
     "name": "stderr",
     "output_type": "stream",
     "text": [
      "100%|██████████| 19/19 [00:00<00:00, 5412.37it/s]"
     ]
    },
    {
     "name": "stdout",
     "output_type": "stream",
     "text": [
      "[===============================                   ] 63.17%"
     ]
    },
    {
     "name": "stderr",
     "output_type": "stream",
     "text": [
      "\n"
     ]
    },
    {
     "name": "stdout",
     "output_type": "stream",
     "text": [
      "\n",
      "Testing pipeline_2D_thr_0.6_norm_minmax_3_6 pipeline\n"
     ]
    },
    {
     "name": "stderr",
     "output_type": "stream",
     "text": [
      "100%|██████████| 19/19 [00:00<00:00, 6445.47it/s]\n"
     ]
    },
    {
     "name": "stdout",
     "output_type": "stream",
     "text": [
      "[===============================                   ] 63.28%\n",
      "Testing pipeline_2D_thr_0.6_norm_minmax_3_7 pipeline\n"
     ]
    },
    {
     "name": "stderr",
     "output_type": "stream",
     "text": [
      "100%|██████████| 19/19 [00:00<00:00, 5498.64it/s]\n"
     ]
    },
    {
     "name": "stdout",
     "output_type": "stream",
     "text": [
      "[===============================                   ] 63.39%\n",
      "Testing pipeline_2D_thr_0.6_norm_minmax_3_8 pipeline\n"
     ]
    },
    {
     "name": "stderr",
     "output_type": "stream",
     "text": [
      "100%|██████████| 19/19 [00:00<00:00, 5299.36it/s]\n"
     ]
    },
    {
     "name": "stdout",
     "output_type": "stream",
     "text": [
      "[===============================                   ] 63.50%\n",
      "Testing pipeline_2D_thr_0.6_norm_minmax_3_9 pipeline\n"
     ]
    },
    {
     "name": "stderr",
     "output_type": "stream",
     "text": [
      "100%|██████████| 19/19 [00:00<00:00, 4642.42it/s]\n"
     ]
    },
    {
     "name": "stdout",
     "output_type": "stream",
     "text": [
      "[===============================                   ] 63.62%\n",
      "Testing pipeline_2D_thr_0.6_norm_minmax_3_10 pipeline\n"
     ]
    },
    {
     "name": "stderr",
     "output_type": "stream",
     "text": [
      "100%|██████████| 19/19 [00:00<00:00, 5271.32it/s]\n"
     ]
    },
    {
     "name": "stdout",
     "output_type": "stream",
     "text": [
      "[===============================                   ] 63.73%\n",
      "Testing pipeline_2D_thr_0.6_norm_minmax_3_11 pipeline\n"
     ]
    },
    {
     "name": "stderr",
     "output_type": "stream",
     "text": [
      "100%|██████████| 19/19 [00:00<00:00, 5071.71it/s]\n"
     ]
    },
    {
     "name": "stdout",
     "output_type": "stream",
     "text": [
      "[===============================                   ] 63.84%\n",
      "Testing pipeline_2D_thr_0.6_norm_minmax_3_12 pipeline\n"
     ]
    },
    {
     "name": "stderr",
     "output_type": "stream",
     "text": [
      "100%|██████████| 19/19 [00:00<00:00, 3576.99it/s]\n"
     ]
    },
    {
     "name": "stdout",
     "output_type": "stream",
     "text": [
      "[===============================                   ] 63.95%\n",
      "Testing pipeline_2D_thr_0.6_norm_minmax_3_13 pipeline\n"
     ]
    },
    {
     "name": "stderr",
     "output_type": "stream",
     "text": [
      "100%|██████████| 19/19 [00:00<00:00, 4964.60it/s]\n"
     ]
    },
    {
     "name": "stdout",
     "output_type": "stream",
     "text": [
      "[================================                  ] 64.06%\n",
      "Testing pipeline_2D_thr_0.6_norm_minmax_3_14 pipeline\n"
     ]
    },
    {
     "name": "stderr",
     "output_type": "stream",
     "text": [
      "100%|██████████| 19/19 [00:00<00:00, 6067.59it/s]\n"
     ]
    },
    {
     "name": "stdout",
     "output_type": "stream",
     "text": [
      "[================================                  ] 64.17%\n",
      "Testing pipeline_2D_thr_0.6_norm_minmax_3_15 pipeline\n"
     ]
    },
    {
     "name": "stderr",
     "output_type": "stream",
     "text": [
      "100%|██████████| 19/19 [00:00<00:00, 4661.16it/s]"
     ]
    },
    {
     "name": "stdout",
     "output_type": "stream",
     "text": [
      "[================================                  ] 64.29%"
     ]
    },
    {
     "name": "stderr",
     "output_type": "stream",
     "text": [
      "\n"
     ]
    },
    {
     "name": "stdout",
     "output_type": "stream",
     "text": [
      "\n",
      "Testing pipeline_2D_thr_0.6_norm_percentile_0_0 pipeline\n"
     ]
    },
    {
     "name": "stderr",
     "output_type": "stream",
     "text": [
      "100%|██████████| 19/19 [00:00<00:00, 5297.60it/s]"
     ]
    },
    {
     "name": "stdout",
     "output_type": "stream",
     "text": [
      "[================================                  ] 64.40%"
     ]
    },
    {
     "name": "stderr",
     "output_type": "stream",
     "text": [
      "\n"
     ]
    },
    {
     "name": "stdout",
     "output_type": "stream",
     "text": [
      "\n",
      "Testing pipeline_2D_thr_0.6_norm_percentile_0_1 pipeline\n"
     ]
    },
    {
     "name": "stderr",
     "output_type": "stream",
     "text": [
      "100%|██████████| 19/19 [00:00<00:00, 5990.51it/s]"
     ]
    },
    {
     "name": "stdout",
     "output_type": "stream",
     "text": [
      "[================================                  ] 64.51%"
     ]
    },
    {
     "name": "stderr",
     "output_type": "stream",
     "text": [
      "\n"
     ]
    },
    {
     "name": "stdout",
     "output_type": "stream",
     "text": [
      "\n",
      "Testing pipeline_2D_thr_0.6_norm_percentile_0_2 pipeline\n"
     ]
    },
    {
     "name": "stderr",
     "output_type": "stream",
     "text": [
      "100%|██████████| 19/19 [00:00<00:00, 6207.49it/s]\n"
     ]
    },
    {
     "name": "stdout",
     "output_type": "stream",
     "text": [
      "[================================                  ] 64.62%\n",
      "Testing pipeline_2D_thr_0.6_norm_percentile_0_3 pipeline\n"
     ]
    },
    {
     "name": "stderr",
     "output_type": "stream",
     "text": [
      "100%|██████████| 19/19 [00:00<00:00, 4488.16it/s]"
     ]
    },
    {
     "name": "stdout",
     "output_type": "stream",
     "text": [
      "[================================                  ] 64.73%"
     ]
    },
    {
     "name": "stderr",
     "output_type": "stream",
     "text": [
      "\n"
     ]
    },
    {
     "name": "stdout",
     "output_type": "stream",
     "text": [
      "\n",
      "Testing pipeline_2D_thr_0.6_norm_percentile_0_4 pipeline\n"
     ]
    },
    {
     "name": "stderr",
     "output_type": "stream",
     "text": [
      "100%|██████████| 19/19 [00:00<00:00, 5583.00it/s]\n"
     ]
    },
    {
     "name": "stdout",
     "output_type": "stream",
     "text": [
      "[================================                  ] 64.84%\n",
      "Testing pipeline_2D_thr_0.6_norm_percentile_0_5 pipeline\n"
     ]
    },
    {
     "name": "stderr",
     "output_type": "stream",
     "text": [
      "100%|██████████| 19/19 [00:00<00:00, 5662.74it/s]"
     ]
    },
    {
     "name": "stdout",
     "output_type": "stream",
     "text": [
      "[================================                  ] 64.96%"
     ]
    },
    {
     "name": "stderr",
     "output_type": "stream",
     "text": [
      "\n"
     ]
    },
    {
     "name": "stdout",
     "output_type": "stream",
     "text": [
      "\n",
      "Testing pipeline_2D_thr_0.6_norm_percentile_0_6 pipeline\n"
     ]
    },
    {
     "name": "stderr",
     "output_type": "stream",
     "text": [
      "100%|██████████| 19/19 [00:00<00:00, 4593.72it/s]\n"
     ]
    },
    {
     "name": "stdout",
     "output_type": "stream",
     "text": [
      "[================================                  ] 65.07%\n",
      "Testing pipeline_2D_thr_0.6_norm_percentile_0_7 pipeline\n"
     ]
    },
    {
     "name": "stderr",
     "output_type": "stream",
     "text": [
      "100%|██████████| 19/19 [00:00<00:00, 6179.57it/s]\n"
     ]
    },
    {
     "name": "stdout",
     "output_type": "stream",
     "text": [
      "[================================                  ] 65.18%\n",
      "Testing pipeline_2D_thr_0.6_norm_percentile_0_8 pipeline\n"
     ]
    },
    {
     "name": "stderr",
     "output_type": "stream",
     "text": [
      "100%|██████████| 19/19 [00:00<00:00, 5597.12it/s]\n"
     ]
    },
    {
     "name": "stdout",
     "output_type": "stream",
     "text": [
      "[================================                  ] 65.29%\n",
      "Testing pipeline_2D_thr_0.6_norm_percentile_0_9 pipeline\n"
     ]
    },
    {
     "name": "stderr",
     "output_type": "stream",
     "text": [
      "100%|██████████| 19/19 [00:00<00:00, 6036.34it/s]\n"
     ]
    },
    {
     "name": "stdout",
     "output_type": "stream",
     "text": [
      "[================================                  ] 65.40%\n",
      "Testing pipeline_2D_thr_0.6_norm_percentile_0_10 pipeline\n"
     ]
    },
    {
     "name": "stderr",
     "output_type": "stream",
     "text": [
      "100%|██████████| 19/19 [00:00<00:00, 4053.50it/s]\n"
     ]
    },
    {
     "name": "stdout",
     "output_type": "stream",
     "text": [
      "[================================                  ] 65.51%\n",
      "Testing pipeline_2D_thr_0.6_norm_percentile_0_11 pipeline\n"
     ]
    },
    {
     "name": "stderr",
     "output_type": "stream",
     "text": [
      "100%|██████████| 19/19 [00:00<00:00, 6338.33it/s]\n"
     ]
    },
    {
     "name": "stdout",
     "output_type": "stream",
     "text": [
      "[================================                  ] 65.62%\n",
      "Testing pipeline_2D_thr_0.6_norm_percentile_0_12 pipeline\n"
     ]
    },
    {
     "name": "stderr",
     "output_type": "stream",
     "text": [
      "100%|██████████| 19/19 [00:00<00:00, 4933.56it/s]\n"
     ]
    },
    {
     "name": "stdout",
     "output_type": "stream",
     "text": [
      "[================================                  ] 65.74%\n",
      "Testing pipeline_2D_thr_0.6_norm_percentile_0_13 pipeline\n"
     ]
    },
    {
     "name": "stderr",
     "output_type": "stream",
     "text": [
      "100%|██████████| 19/19 [00:00<00:00, 4329.43it/s]\n"
     ]
    },
    {
     "name": "stdout",
     "output_type": "stream",
     "text": [
      "[================================                  ] 65.85%\n",
      "Testing pipeline_2D_thr_0.6_norm_percentile_0_14 pipeline\n"
     ]
    },
    {
     "name": "stderr",
     "output_type": "stream",
     "text": [
      "100%|██████████| 19/19 [00:00<00:00, 5119.93it/s]\n"
     ]
    },
    {
     "name": "stdout",
     "output_type": "stream",
     "text": [
      "[================================                  ] 65.96%\n",
      "Testing pipeline_2D_thr_0.6_norm_percentile_0_15 pipeline\n"
     ]
    },
    {
     "name": "stderr",
     "output_type": "stream",
     "text": [
      "100%|██████████| 19/19 [00:00<00:00, 6668.21it/s]"
     ]
    },
    {
     "name": "stdout",
     "output_type": "stream",
     "text": [
      "[=================================                 ] 66.07%"
     ]
    },
    {
     "name": "stderr",
     "output_type": "stream",
     "text": [
      "\n"
     ]
    },
    {
     "name": "stdout",
     "output_type": "stream",
     "text": [
      "\n",
      "Testing pipeline_2D_thr_0.6_norm_percentile_1_0 pipeline\n"
     ]
    },
    {
     "name": "stderr",
     "output_type": "stream",
     "text": [
      "100%|██████████| 19/19 [00:00<00:00, 6287.32it/s]"
     ]
    },
    {
     "name": "stdout",
     "output_type": "stream",
     "text": [
      "[=================================                 ] 66.18%"
     ]
    },
    {
     "name": "stderr",
     "output_type": "stream",
     "text": [
      "\n"
     ]
    },
    {
     "name": "stdout",
     "output_type": "stream",
     "text": [
      "\n",
      "Testing pipeline_2D_thr_0.6_norm_percentile_1_1 pipeline\n"
     ]
    },
    {
     "name": "stderr",
     "output_type": "stream",
     "text": [
      "100%|██████████| 19/19 [00:00<00:00, 5600.66it/s]"
     ]
    },
    {
     "name": "stdout",
     "output_type": "stream",
     "text": [
      "[=================================                 ] 66.29%"
     ]
    },
    {
     "name": "stderr",
     "output_type": "stream",
     "text": [
      "\n"
     ]
    },
    {
     "name": "stdout",
     "output_type": "stream",
     "text": [
      "\n",
      "Testing pipeline_2D_thr_0.6_norm_percentile_1_2 pipeline\n"
     ]
    },
    {
     "name": "stderr",
     "output_type": "stream",
     "text": [
      "100%|██████████| 19/19 [00:00<00:00, 5464.33it/s]\n"
     ]
    },
    {
     "name": "stdout",
     "output_type": "stream",
     "text": [
      "[=================================                 ] 66.41%\n",
      "Testing pipeline_2D_thr_0.6_norm_percentile_1_3 pipeline\n"
     ]
    },
    {
     "name": "stderr",
     "output_type": "stream",
     "text": [
      "100%|██████████| 19/19 [00:00<00:00, 5577.53it/s]"
     ]
    },
    {
     "name": "stdout",
     "output_type": "stream",
     "text": [
      "[=================================                 ] 66.52%"
     ]
    },
    {
     "name": "stderr",
     "output_type": "stream",
     "text": [
      "\n"
     ]
    },
    {
     "name": "stdout",
     "output_type": "stream",
     "text": [
      "\n",
      "Testing pipeline_2D_thr_0.6_norm_percentile_1_4 pipeline\n"
     ]
    },
    {
     "name": "stderr",
     "output_type": "stream",
     "text": [
      "100%|██████████| 19/19 [00:00<00:00, 5579.09it/s]\n"
     ]
    },
    {
     "name": "stdout",
     "output_type": "stream",
     "text": [
      "[=================================                 ] 66.63%\n",
      "Testing pipeline_2D_thr_0.6_norm_percentile_1_5 pipeline\n"
     ]
    },
    {
     "name": "stderr",
     "output_type": "stream",
     "text": [
      "100%|██████████| 19/19 [00:00<00:00, 4593.72it/s]"
     ]
    },
    {
     "name": "stdout",
     "output_type": "stream",
     "text": [
      "[=================================                 ] 66.74%"
     ]
    },
    {
     "name": "stderr",
     "output_type": "stream",
     "text": [
      "\n"
     ]
    },
    {
     "name": "stdout",
     "output_type": "stream",
     "text": [
      "\n",
      "Testing pipeline_2D_thr_0.6_norm_percentile_1_6 pipeline\n"
     ]
    },
    {
     "name": "stderr",
     "output_type": "stream",
     "text": [
      "100%|██████████| 19/19 [00:00<00:00, 6057.91it/s]\n"
     ]
    },
    {
     "name": "stdout",
     "output_type": "stream",
     "text": [
      "[=================================                 ] 66.85%\n",
      "Testing pipeline_2D_thr_0.6_norm_percentile_1_7 pipeline\n"
     ]
    },
    {
     "name": "stderr",
     "output_type": "stream",
     "text": [
      "100%|██████████| 19/19 [00:00<00:00, 6090.78it/s]\n"
     ]
    },
    {
     "name": "stdout",
     "output_type": "stream",
     "text": [
      "[=================================                 ] 66.96%\n",
      "Testing pipeline_2D_thr_0.6_norm_percentile_1_8 pipeline\n"
     ]
    },
    {
     "name": "stderr",
     "output_type": "stream",
     "text": [
      "100%|██████████| 19/19 [00:00<00:00, 5835.23it/s]\n"
     ]
    },
    {
     "name": "stdout",
     "output_type": "stream",
     "text": [
      "[=================================                 ] 67.08%\n",
      "Testing pipeline_2D_thr_0.6_norm_percentile_1_9 pipeline\n"
     ]
    },
    {
     "name": "stderr",
     "output_type": "stream",
     "text": [
      "100%|██████████| 19/19 [00:00<00:00, 4858.66it/s]\n"
     ]
    },
    {
     "name": "stdout",
     "output_type": "stream",
     "text": [
      "[=================================                 ] 67.19%\n",
      "Testing pipeline_2D_thr_0.6_norm_percentile_1_10 pipeline\n"
     ]
    },
    {
     "name": "stderr",
     "output_type": "stream",
     "text": [
      "100%|██████████| 19/19 [00:00<00:00, 5449.76it/s]\n"
     ]
    },
    {
     "name": "stdout",
     "output_type": "stream",
     "text": [
      "[=================================                 ] 67.30%\n",
      "Testing pipeline_2D_thr_0.6_norm_percentile_1_11 pipeline\n"
     ]
    },
    {
     "name": "stderr",
     "output_type": "stream",
     "text": [
      "100%|██████████| 19/19 [00:00<00:00, 5800.83it/s]\n"
     ]
    },
    {
     "name": "stdout",
     "output_type": "stream",
     "text": [
      "[=================================                 ] 67.41%\n",
      "Testing pipeline_2D_thr_0.6_norm_percentile_1_12 pipeline\n"
     ]
    },
    {
     "name": "stderr",
     "output_type": "stream",
     "text": [
      "100%|██████████| 19/19 [00:00<00:00, 6815.92it/s]\n"
     ]
    },
    {
     "name": "stdout",
     "output_type": "stream",
     "text": [
      "[=================================                 ] 67.52%\n",
      "Testing pipeline_2D_thr_0.6_norm_percentile_1_13 pipeline\n"
     ]
    },
    {
     "name": "stderr",
     "output_type": "stream",
     "text": [
      "100%|██████████| 19/19 [00:00<00:00, 5452.37it/s]\n"
     ]
    },
    {
     "name": "stdout",
     "output_type": "stream",
     "text": [
      "[=================================                 ] 67.63%\n",
      "Testing pipeline_2D_thr_0.6_norm_percentile_1_14 pipeline\n"
     ]
    },
    {
     "name": "stderr",
     "output_type": "stream",
     "text": [
      "100%|██████████| 19/19 [00:00<00:00, 5092.13it/s]\n"
     ]
    },
    {
     "name": "stdout",
     "output_type": "stream",
     "text": [
      "[=================================                 ] 67.75%\n",
      "Testing pipeline_2D_thr_0.6_norm_percentile_1_15 pipeline\n"
     ]
    },
    {
     "name": "stderr",
     "output_type": "stream",
     "text": [
      "100%|██████████| 19/19 [00:00<00:00, 5632.33it/s]"
     ]
    },
    {
     "name": "stdout",
     "output_type": "stream",
     "text": [
      "[=================================                 ] 67.86%"
     ]
    },
    {
     "name": "stderr",
     "output_type": "stream",
     "text": [
      "\n"
     ]
    },
    {
     "name": "stdout",
     "output_type": "stream",
     "text": [
      "\n",
      "Testing pipeline_2D_thr_0.6_norm_percentile_2_0 pipeline\n"
     ]
    },
    {
     "name": "stderr",
     "output_type": "stream",
     "text": [
      "100%|██████████| 19/19 [00:00<00:00, 4830.10it/s]"
     ]
    },
    {
     "name": "stdout",
     "output_type": "stream",
     "text": [
      "[=================================                 ] 67.97%"
     ]
    },
    {
     "name": "stderr",
     "output_type": "stream",
     "text": [
      "\n"
     ]
    },
    {
     "name": "stdout",
     "output_type": "stream",
     "text": [
      "\n",
      "Testing pipeline_2D_thr_0.6_norm_percentile_2_1 pipeline\n"
     ]
    },
    {
     "name": "stderr",
     "output_type": "stream",
     "text": [
      "100%|██████████| 19/19 [00:00<00:00, 5991.41it/s]"
     ]
    },
    {
     "name": "stdout",
     "output_type": "stream",
     "text": [
      "[==================================                ] 68.08%"
     ]
    },
    {
     "name": "stderr",
     "output_type": "stream",
     "text": [
      "\n"
     ]
    },
    {
     "name": "stdout",
     "output_type": "stream",
     "text": [
      "\n",
      "Testing pipeline_2D_thr_0.6_norm_percentile_2_2 pipeline\n"
     ]
    },
    {
     "name": "stderr",
     "output_type": "stream",
     "text": [
      "100%|██████████| 19/19 [00:00<00:00, 5704.90it/s]\n"
     ]
    },
    {
     "name": "stdout",
     "output_type": "stream",
     "text": [
      "[==================================                ] 68.19%\n",
      "Testing pipeline_2D_thr_0.6_norm_percentile_2_3 pipeline\n"
     ]
    },
    {
     "name": "stderr",
     "output_type": "stream",
     "text": [
      "100%|██████████| 19/19 [00:00<00:00, 5193.68it/s]"
     ]
    },
    {
     "name": "stdout",
     "output_type": "stream",
     "text": [
      "[==================================                ] 68.30%"
     ]
    },
    {
     "name": "stderr",
     "output_type": "stream",
     "text": [
      "\n"
     ]
    },
    {
     "name": "stdout",
     "output_type": "stream",
     "text": [
      "\n",
      "Testing pipeline_2D_thr_0.6_norm_percentile_2_4 pipeline\n"
     ]
    },
    {
     "name": "stderr",
     "output_type": "stream",
     "text": [
      "100%|██████████| 19/19 [00:00<00:00, 5625.96it/s]\n"
     ]
    },
    {
     "name": "stdout",
     "output_type": "stream",
     "text": [
      "[==================================                ] 68.42%\n",
      "Testing pipeline_2D_thr_0.6_norm_percentile_2_5 pipeline\n"
     ]
    },
    {
     "name": "stderr",
     "output_type": "stream",
     "text": [
      "100%|██████████| 19/19 [00:00<00:00, 5604.20it/s]"
     ]
    },
    {
     "name": "stdout",
     "output_type": "stream",
     "text": [
      "[==================================                ] 68.53%"
     ]
    },
    {
     "name": "stderr",
     "output_type": "stream",
     "text": [
      "\n"
     ]
    },
    {
     "name": "stdout",
     "output_type": "stream",
     "text": [
      "\n",
      "Testing pipeline_2D_thr_0.6_norm_percentile_2_6 pipeline\n"
     ]
    },
    {
     "name": "stderr",
     "output_type": "stream",
     "text": [
      "100%|██████████| 19/19 [00:00<00:00, 5838.23it/s]\n"
     ]
    },
    {
     "name": "stdout",
     "output_type": "stream",
     "text": [
      "[==================================                ] 68.64%\n",
      "Testing pipeline_2D_thr_0.6_norm_percentile_2_7 pipeline\n"
     ]
    },
    {
     "name": "stderr",
     "output_type": "stream",
     "text": [
      "100%|██████████| 19/19 [00:00<00:00, 5717.59it/s]\n"
     ]
    },
    {
     "name": "stdout",
     "output_type": "stream",
     "text": [
      "[==================================                ] 68.75%\n",
      "Testing pipeline_2D_thr_0.6_norm_percentile_2_8 pipeline\n"
     ]
    },
    {
     "name": "stderr",
     "output_type": "stream",
     "text": [
      "100%|██████████| 19/19 [00:00<00:00, 6493.79it/s]\n"
     ]
    },
    {
     "name": "stdout",
     "output_type": "stream",
     "text": [
      "[==================================                ] 68.86%\n",
      "Testing pipeline_2D_thr_0.6_norm_percentile_2_9 pipeline\n"
     ]
    },
    {
     "name": "stderr",
     "output_type": "stream",
     "text": [
      "100%|██████████| 19/19 [00:00<00:00, 6151.43it/s]\n"
     ]
    },
    {
     "name": "stdout",
     "output_type": "stream",
     "text": [
      "[==================================                ] 68.97%\n",
      "Testing pipeline_2D_thr_0.6_norm_percentile_2_10 pipeline\n"
     ]
    },
    {
     "name": "stderr",
     "output_type": "stream",
     "text": [
      "100%|██████████| 19/19 [00:00<00:00, 4333.90it/s]\n"
     ]
    },
    {
     "name": "stdout",
     "output_type": "stream",
     "text": [
      "[==================================                ] 69.08%\n",
      "Testing pipeline_2D_thr_0.6_norm_percentile_2_11 pipeline\n"
     ]
    },
    {
     "name": "stderr",
     "output_type": "stream",
     "text": [
      "100%|██████████| 19/19 [00:00<00:00, 4281.97it/s]\n"
     ]
    },
    {
     "name": "stdout",
     "output_type": "stream",
     "text": [
      "[==================================                ] 69.20%\n",
      "Testing pipeline_2D_thr_0.6_norm_percentile_2_12 pipeline\n"
     ]
    },
    {
     "name": "stderr",
     "output_type": "stream",
     "text": [
      "100%|██████████| 19/19 [00:00<00:00, 5235.65it/s]\n"
     ]
    },
    {
     "name": "stdout",
     "output_type": "stream",
     "text": [
      "[==================================                ] 69.31%\n",
      "Testing pipeline_2D_thr_0.6_norm_percentile_2_13 pipeline\n"
     ]
    },
    {
     "name": "stderr",
     "output_type": "stream",
     "text": [
      "100%|██████████| 19/19 [00:00<00:00, 6518.75it/s]\n"
     ]
    },
    {
     "name": "stdout",
     "output_type": "stream",
     "text": [
      "[==================================                ] 69.42%\n",
      "Testing pipeline_2D_thr_0.6_norm_percentile_2_14 pipeline\n"
     ]
    },
    {
     "name": "stderr",
     "output_type": "stream",
     "text": [
      "100%|██████████| 19/19 [00:00<00:00, 5072.03it/s]\n"
     ]
    },
    {
     "name": "stdout",
     "output_type": "stream",
     "text": [
      "[==================================                ] 69.53%\n",
      "Testing pipeline_2D_thr_0.6_norm_percentile_2_15 pipeline\n"
     ]
    },
    {
     "name": "stderr",
     "output_type": "stream",
     "text": [
      "100%|██████████| 19/19 [00:00<00:00, 4669.35it/s]"
     ]
    },
    {
     "name": "stdout",
     "output_type": "stream",
     "text": [
      "[==================================                ] 69.64%"
     ]
    },
    {
     "name": "stderr",
     "output_type": "stream",
     "text": [
      "\n"
     ]
    },
    {
     "name": "stdout",
     "output_type": "stream",
     "text": [
      "\n",
      "Testing pipeline_2D_thr_0.6_norm_percentile_3_0 pipeline\n"
     ]
    },
    {
     "name": "stderr",
     "output_type": "stream",
     "text": [
      "100%|██████████| 19/19 [00:00<00:00, 4569.22it/s]"
     ]
    },
    {
     "name": "stdout",
     "output_type": "stream",
     "text": [
      "[==================================                ] 69.75%"
     ]
    },
    {
     "name": "stderr",
     "output_type": "stream",
     "text": [
      "\n"
     ]
    },
    {
     "name": "stdout",
     "output_type": "stream",
     "text": [
      "\n",
      "Testing pipeline_2D_thr_0.6_norm_percentile_3_1 pipeline\n"
     ]
    },
    {
     "name": "stderr",
     "output_type": "stream",
     "text": [
      "100%|██████████| 19/19 [00:00<00:00, 5470.33it/s]"
     ]
    },
    {
     "name": "stdout",
     "output_type": "stream",
     "text": [
      "[==================================                ] 69.87%"
     ]
    },
    {
     "name": "stderr",
     "output_type": "stream",
     "text": [
      "\n"
     ]
    },
    {
     "name": "stdout",
     "output_type": "stream",
     "text": [
      "\n",
      "Testing pipeline_2D_thr_0.6_norm_percentile_3_2 pipeline\n"
     ]
    },
    {
     "name": "stderr",
     "output_type": "stream",
     "text": [
      "100%|██████████| 19/19 [00:00<00:00, 4510.00it/s]\n"
     ]
    },
    {
     "name": "stdout",
     "output_type": "stream",
     "text": [
      "[==================================                ] 69.98%\n",
      "Testing pipeline_2D_thr_0.6_norm_percentile_3_3 pipeline\n"
     ]
    },
    {
     "name": "stderr",
     "output_type": "stream",
     "text": [
      "100%|██████████| 19/19 [00:00<00:00, 6214.27it/s]"
     ]
    },
    {
     "name": "stdout",
     "output_type": "stream",
     "text": [
      "[===================================               ] 70.09%"
     ]
    },
    {
     "name": "stderr",
     "output_type": "stream",
     "text": [
      "\n"
     ]
    },
    {
     "name": "stdout",
     "output_type": "stream",
     "text": [
      "\n",
      "Testing pipeline_2D_thr_0.6_norm_percentile_3_4 pipeline\n"
     ]
    },
    {
     "name": "stderr",
     "output_type": "stream",
     "text": [
      "100%|██████████| 19/19 [00:00<00:00, 5261.92it/s]\n"
     ]
    },
    {
     "name": "stdout",
     "output_type": "stream",
     "text": [
      "[===================================               ] 70.20%\n",
      "Testing pipeline_2D_thr_0.6_norm_percentile_3_5 pipeline\n"
     ]
    },
    {
     "name": "stderr",
     "output_type": "stream",
     "text": [
      "100%|██████████| 19/19 [00:00<00:00, 4443.12it/s]"
     ]
    },
    {
     "name": "stdout",
     "output_type": "stream",
     "text": [
      "[===================================               ] 70.31%"
     ]
    },
    {
     "name": "stderr",
     "output_type": "stream",
     "text": [
      "\n"
     ]
    },
    {
     "name": "stdout",
     "output_type": "stream",
     "text": [
      "\n",
      "Testing pipeline_2D_thr_0.6_norm_percentile_3_6 pipeline\n"
     ]
    },
    {
     "name": "stderr",
     "output_type": "stream",
     "text": [
      "100%|██████████| 19/19 [00:00<00:00, 4129.32it/s]\n"
     ]
    },
    {
     "name": "stdout",
     "output_type": "stream",
     "text": [
      "[===================================               ] 70.42%\n",
      "Testing pipeline_2D_thr_0.6_norm_percentile_3_7 pipeline\n"
     ]
    },
    {
     "name": "stderr",
     "output_type": "stream",
     "text": [
      "100%|██████████| 19/19 [00:00<00:00, 3958.86it/s]\n"
     ]
    },
    {
     "name": "stdout",
     "output_type": "stream",
     "text": [
      "[===================================               ] 70.54%\n",
      "Testing pipeline_2D_thr_0.6_norm_percentile_3_8 pipeline\n"
     ]
    },
    {
     "name": "stderr",
     "output_type": "stream",
     "text": [
      "100%|██████████| 19/19 [00:00<00:00, 5537.23it/s]\n"
     ]
    },
    {
     "name": "stdout",
     "output_type": "stream",
     "text": [
      "[===================================               ] 70.65%\n",
      "Testing pipeline_2D_thr_0.6_norm_percentile_3_9 pipeline\n"
     ]
    },
    {
     "name": "stderr",
     "output_type": "stream",
     "text": [
      "100%|██████████| 19/19 [00:00<00:00, 4720.52it/s]\n"
     ]
    },
    {
     "name": "stdout",
     "output_type": "stream",
     "text": [
      "[===================================               ] 70.76%\n",
      "Testing pipeline_2D_thr_0.6_norm_percentile_3_10 pipeline\n"
     ]
    },
    {
     "name": "stderr",
     "output_type": "stream",
     "text": [
      "100%|██████████| 19/19 [00:00<00:00, 5011.43it/s]\n"
     ]
    },
    {
     "name": "stdout",
     "output_type": "stream",
     "text": [
      "[===================================               ] 70.87%\n",
      "Testing pipeline_2D_thr_0.6_norm_percentile_3_11 pipeline\n"
     ]
    },
    {
     "name": "stderr",
     "output_type": "stream",
     "text": [
      "100%|██████████| 19/19 [00:00<00:00, 5813.52it/s]\n"
     ]
    },
    {
     "name": "stdout",
     "output_type": "stream",
     "text": [
      "[===================================               ] 70.98%\n",
      "Testing pipeline_2D_thr_0.6_norm_percentile_3_12 pipeline\n"
     ]
    },
    {
     "name": "stderr",
     "output_type": "stream",
     "text": [
      "100%|██████████| 19/19 [00:00<00:00, 5806.75it/s]\n"
     ]
    },
    {
     "name": "stdout",
     "output_type": "stream",
     "text": [
      "[===================================               ] 71.09%\n",
      "Testing pipeline_2D_thr_0.6_norm_percentile_3_13 pipeline\n"
     ]
    },
    {
     "name": "stderr",
     "output_type": "stream",
     "text": [
      "100%|██████████| 19/19 [00:00<00:00, 4378.67it/s]\n"
     ]
    },
    {
     "name": "stdout",
     "output_type": "stream",
     "text": [
      "[===================================               ] 71.21%\n",
      "Testing pipeline_2D_thr_0.6_norm_percentile_3_14 pipeline\n"
     ]
    },
    {
     "name": "stderr",
     "output_type": "stream",
     "text": [
      "100%|██████████| 19/19 [00:00<00:00, 4861.33it/s]\n"
     ]
    },
    {
     "name": "stdout",
     "output_type": "stream",
     "text": [
      "[===================================               ] 71.32%\n",
      "Testing pipeline_2D_thr_0.6_norm_percentile_3_15 pipeline\n"
     ]
    },
    {
     "name": "stderr",
     "output_type": "stream",
     "text": [
      "100%|██████████| 19/19 [00:00<00:00, 4963.67it/s]"
     ]
    },
    {
     "name": "stdout",
     "output_type": "stream",
     "text": [
      "[===================================               ] 71.43%"
     ]
    },
    {
     "name": "stderr",
     "output_type": "stream",
     "text": [
      "\n"
     ]
    },
    {
     "name": "stdout",
     "output_type": "stream",
     "text": [
      "\n",
      "Testing pipeline_2D_thr_0.7_norm_minmax_0_0 pipeline\n"
     ]
    },
    {
     "name": "stderr",
     "output_type": "stream",
     "text": [
      "100%|██████████| 19/19 [00:00<00:00, 4862.52it/s]"
     ]
    },
    {
     "name": "stdout",
     "output_type": "stream",
     "text": [
      "[===================================               ] 71.54%"
     ]
    },
    {
     "name": "stderr",
     "output_type": "stream",
     "text": [
      "\n"
     ]
    },
    {
     "name": "stdout",
     "output_type": "stream",
     "text": [
      "\n",
      "Testing pipeline_2D_thr_0.7_norm_minmax_0_1 pipeline\n"
     ]
    },
    {
     "name": "stderr",
     "output_type": "stream",
     "text": [
      "100%|██████████| 19/19 [00:00<00:00, 4806.50it/s]"
     ]
    },
    {
     "name": "stdout",
     "output_type": "stream",
     "text": [
      "[===================================               ] 71.65%"
     ]
    },
    {
     "name": "stderr",
     "output_type": "stream",
     "text": [
      "\n"
     ]
    },
    {
     "name": "stdout",
     "output_type": "stream",
     "text": [
      "\n",
      "Testing pipeline_2D_thr_0.7_norm_minmax_0_2 pipeline\n"
     ]
    },
    {
     "name": "stderr",
     "output_type": "stream",
     "text": [
      "100%|██████████| 19/19 [00:00<00:00, 5673.63it/s]\n"
     ]
    },
    {
     "name": "stdout",
     "output_type": "stream",
     "text": [
      "[===================================               ] 71.76%\n",
      "Testing pipeline_2D_thr_0.7_norm_minmax_0_3 pipeline\n"
     ]
    },
    {
     "name": "stderr",
     "output_type": "stream",
     "text": [
      "100%|██████████| 19/19 [00:00<00:00, 5733.63it/s]"
     ]
    },
    {
     "name": "stdout",
     "output_type": "stream",
     "text": [
      "[===================================               ] 71.88%"
     ]
    },
    {
     "name": "stderr",
     "output_type": "stream",
     "text": [
      "\n"
     ]
    },
    {
     "name": "stdout",
     "output_type": "stream",
     "text": [
      "\n",
      "Testing pipeline_2D_thr_0.7_norm_minmax_0_4 pipeline\n"
     ]
    },
    {
     "name": "stderr",
     "output_type": "stream",
     "text": [
      "100%|██████████| 19/19 [00:00<00:00, 5063.33it/s]\n"
     ]
    },
    {
     "name": "stdout",
     "output_type": "stream",
     "text": [
      "[===================================               ] 71.99%\n",
      "Testing pipeline_2D_thr_0.7_norm_minmax_0_5 pipeline\n"
     ]
    },
    {
     "name": "stderr",
     "output_type": "stream",
     "text": [
      "100%|██████████| 19/19 [00:00<00:00, 4972.03it/s]"
     ]
    },
    {
     "name": "stdout",
     "output_type": "stream",
     "text": [
      "[====================================              ] 72.10%"
     ]
    },
    {
     "name": "stderr",
     "output_type": "stream",
     "text": [
      "\n"
     ]
    },
    {
     "name": "stdout",
     "output_type": "stream",
     "text": [
      "\n",
      "Testing pipeline_2D_thr_0.7_norm_minmax_0_6 pipeline\n"
     ]
    },
    {
     "name": "stderr",
     "output_type": "stream",
     "text": [
      "100%|██████████| 19/19 [00:00<00:00, 4934.78it/s]\n"
     ]
    },
    {
     "name": "stdout",
     "output_type": "stream",
     "text": [
      "[====================================              ] 72.21%\n",
      "Testing pipeline_2D_thr_0.7_norm_minmax_0_7 pipeline\n"
     ]
    },
    {
     "name": "stderr",
     "output_type": "stream",
     "text": [
      "100%|██████████| 19/19 [00:00<00:00, 4004.81it/s]\n"
     ]
    },
    {
     "name": "stdout",
     "output_type": "stream",
     "text": [
      "[====================================              ] 72.32%\n",
      "Testing pipeline_2D_thr_0.7_norm_minmax_0_8 pipeline\n"
     ]
    },
    {
     "name": "stderr",
     "output_type": "stream",
     "text": [
      "100%|██████████| 19/19 [00:00<00:00, 4892.67it/s]\n"
     ]
    },
    {
     "name": "stdout",
     "output_type": "stream",
     "text": [
      "[====================================              ] 72.43%\n",
      "Testing pipeline_2D_thr_0.7_norm_minmax_0_9 pipeline\n"
     ]
    },
    {
     "name": "stderr",
     "output_type": "stream",
     "text": [
      "100%|██████████| 19/19 [00:00<00:00, 4729.76it/s]\n"
     ]
    },
    {
     "name": "stdout",
     "output_type": "stream",
     "text": [
      "[====================================              ] 72.54%\n",
      "Testing pipeline_2D_thr_0.7_norm_minmax_0_10 pipeline\n"
     ]
    },
    {
     "name": "stderr",
     "output_type": "stream",
     "text": [
      "100%|██████████| 19/19 [00:00<00:00, 5277.60it/s]\n"
     ]
    },
    {
     "name": "stdout",
     "output_type": "stream",
     "text": [
      "[====================================              ] 72.66%\n",
      "Testing pipeline_2D_thr_0.7_norm_minmax_0_11 pipeline\n"
     ]
    },
    {
     "name": "stderr",
     "output_type": "stream",
     "text": [
      "100%|██████████| 19/19 [00:00<00:00, 4296.75it/s]\n"
     ]
    },
    {
     "name": "stdout",
     "output_type": "stream",
     "text": [
      "[====================================              ] 72.77%\n",
      "Testing pipeline_2D_thr_0.7_norm_minmax_0_12 pipeline\n"
     ]
    },
    {
     "name": "stderr",
     "output_type": "stream",
     "text": [
      "100%|██████████| 19/19 [00:00<00:00, 5452.37it/s]\n"
     ]
    },
    {
     "name": "stdout",
     "output_type": "stream",
     "text": [
      "[====================================              ] 72.88%\n",
      "Testing pipeline_2D_thr_0.7_norm_minmax_0_13 pipeline\n"
     ]
    },
    {
     "name": "stderr",
     "output_type": "stream",
     "text": [
      "100%|██████████| 19/19 [00:00<00:00, 3286.39it/s]\n"
     ]
    },
    {
     "name": "stdout",
     "output_type": "stream",
     "text": [
      "[====================================              ] 72.99%\n",
      "Testing pipeline_2D_thr_0.7_norm_minmax_0_14 pipeline\n"
     ]
    },
    {
     "name": "stderr",
     "output_type": "stream",
     "text": [
      "100%|██████████| 19/19 [00:00<00:00, 4785.43it/s]\n"
     ]
    },
    {
     "name": "stdout",
     "output_type": "stream",
     "text": [
      "[====================================              ] 73.10%\n",
      "Testing pipeline_2D_thr_0.7_norm_minmax_0_15 pipeline\n"
     ]
    },
    {
     "name": "stderr",
     "output_type": "stream",
     "text": [
      "100%|██████████| 19/19 [00:00<00:00, 4944.58it/s]"
     ]
    },
    {
     "name": "stdout",
     "output_type": "stream",
     "text": [
      "[====================================              ] 73.21%"
     ]
    },
    {
     "name": "stderr",
     "output_type": "stream",
     "text": [
      "\n"
     ]
    },
    {
     "name": "stdout",
     "output_type": "stream",
     "text": [
      "\n",
      "Testing pipeline_2D_thr_0.7_norm_minmax_1_0 pipeline\n"
     ]
    },
    {
     "name": "stderr",
     "output_type": "stream",
     "text": [
      "100%|██████████| 19/19 [00:00<00:00, 4511.28it/s]"
     ]
    },
    {
     "name": "stdout",
     "output_type": "stream",
     "text": [
      "[====================================              ] 73.33%"
     ]
    },
    {
     "name": "stderr",
     "output_type": "stream",
     "text": [
      "\n"
     ]
    },
    {
     "name": "stdout",
     "output_type": "stream",
     "text": [
      "\n",
      "Testing pipeline_2D_thr_0.7_norm_minmax_1_1 pipeline\n"
     ]
    },
    {
     "name": "stderr",
     "output_type": "stream",
     "text": [
      "100%|██████████| 19/19 [00:00<00:00, 5456.85it/s]"
     ]
    },
    {
     "name": "stdout",
     "output_type": "stream",
     "text": [
      "[====================================              ] 73.44%"
     ]
    },
    {
     "name": "stderr",
     "output_type": "stream",
     "text": [
      "\n"
     ]
    },
    {
     "name": "stdout",
     "output_type": "stream",
     "text": [
      "\n",
      "Testing pipeline_2D_thr_0.7_norm_minmax_1_2 pipeline\n"
     ]
    },
    {
     "name": "stderr",
     "output_type": "stream",
     "text": [
      "100%|██████████| 19/19 [00:00<00:00, 5416.05it/s]\n"
     ]
    },
    {
     "name": "stdout",
     "output_type": "stream",
     "text": [
      "[====================================              ] 73.55%\n",
      "Testing pipeline_2D_thr_0.7_norm_minmax_1_3 pipeline\n"
     ]
    },
    {
     "name": "stderr",
     "output_type": "stream",
     "text": [
      "100%|██████████| 19/19 [00:00<00:00, 5101.91it/s]"
     ]
    },
    {
     "name": "stdout",
     "output_type": "stream",
     "text": [
      "[====================================              ] 73.66%"
     ]
    },
    {
     "name": "stderr",
     "output_type": "stream",
     "text": [
      "\n"
     ]
    },
    {
     "name": "stdout",
     "output_type": "stream",
     "text": [
      "\n",
      "Testing pipeline_2D_thr_0.7_norm_minmax_1_4 pipeline\n"
     ]
    },
    {
     "name": "stderr",
     "output_type": "stream",
     "text": [
      "100%|██████████| 19/19 [00:00<00:00, 5254.29it/s]\n"
     ]
    },
    {
     "name": "stdout",
     "output_type": "stream",
     "text": [
      "[====================================              ] 73.77%\n",
      "Testing pipeline_2D_thr_0.7_norm_minmax_1_5 pipeline\n"
     ]
    },
    {
     "name": "stderr",
     "output_type": "stream",
     "text": [
      "100%|██████████| 19/19 [00:00<00:00, 4284.50it/s]"
     ]
    },
    {
     "name": "stdout",
     "output_type": "stream",
     "text": [
      "[====================================              ] 73.88%"
     ]
    },
    {
     "name": "stderr",
     "output_type": "stream",
     "text": [
      "\n"
     ]
    },
    {
     "name": "stdout",
     "output_type": "stream",
     "text": [
      "\n",
      "Testing pipeline_2D_thr_0.7_norm_minmax_1_6 pipeline\n"
     ]
    },
    {
     "name": "stderr",
     "output_type": "stream",
     "text": [
      "100%|██████████| 19/19 [00:00<00:00, 4718.84it/s]\n"
     ]
    },
    {
     "name": "stdout",
     "output_type": "stream",
     "text": [
      "[====================================              ] 74.00%\n",
      "Testing pipeline_2D_thr_0.7_norm_minmax_1_7 pipeline\n"
     ]
    },
    {
     "name": "stderr",
     "output_type": "stream",
     "text": [
      "100%|██████████| 19/19 [00:00<00:00, 5595.55it/s]\n"
     ]
    },
    {
     "name": "stdout",
     "output_type": "stream",
     "text": [
      "[=====================================             ] 74.11%\n",
      "Testing pipeline_2D_thr_0.7_norm_minmax_1_8 pipeline\n"
     ]
    },
    {
     "name": "stderr",
     "output_type": "stream",
     "text": [
      "100%|██████████| 19/19 [00:00<00:00, 4778.83it/s]\n"
     ]
    },
    {
     "name": "stdout",
     "output_type": "stream",
     "text": [
      "[=====================================             ] 74.22%\n",
      "Testing pipeline_2D_thr_0.7_norm_minmax_1_9 pipeline\n"
     ]
    },
    {
     "name": "stderr",
     "output_type": "stream",
     "text": [
      "100%|██████████| 19/19 [00:00<00:00, 5333.05it/s]\n"
     ]
    },
    {
     "name": "stdout",
     "output_type": "stream",
     "text": [
      "[=====================================             ] 74.33%\n",
      "Testing pipeline_2D_thr_0.7_norm_minmax_1_10 pipeline\n"
     ]
    },
    {
     "name": "stderr",
     "output_type": "stream",
     "text": [
      "100%|██████████| 19/19 [00:00<00:00, 6075.46it/s]\n"
     ]
    },
    {
     "name": "stdout",
     "output_type": "stream",
     "text": [
      "[=====================================             ] 74.44%\n",
      "Testing pipeline_2D_thr_0.7_norm_minmax_1_11 pipeline\n"
     ]
    },
    {
     "name": "stderr",
     "output_type": "stream",
     "text": [
      "100%|██████████| 19/19 [00:00<00:00, 3201.76it/s]\n"
     ]
    },
    {
     "name": "stdout",
     "output_type": "stream",
     "text": [
      "[=====================================             ] 74.55%\n",
      "Testing pipeline_2D_thr_0.7_norm_minmax_1_12 pipeline\n"
     ]
    },
    {
     "name": "stderr",
     "output_type": "stream",
     "text": [
      "100%|██████████| 19/19 [00:00<00:00, 5561.18it/s]\n"
     ]
    },
    {
     "name": "stdout",
     "output_type": "stream",
     "text": [
      "[=====================================             ] 74.67%\n",
      "Testing pipeline_2D_thr_0.7_norm_minmax_1_13 pipeline\n"
     ]
    },
    {
     "name": "stderr",
     "output_type": "stream",
     "text": [
      "100%|██████████| 19/19 [00:00<00:00, 5036.45it/s]\n"
     ]
    },
    {
     "name": "stdout",
     "output_type": "stream",
     "text": [
      "[=====================================             ] 74.78%\n",
      "Testing pipeline_2D_thr_0.7_norm_minmax_1_14 pipeline\n"
     ]
    },
    {
     "name": "stderr",
     "output_type": "stream",
     "text": [
      "100%|██████████| 19/19 [00:00<00:00, 5055.30it/s]\n"
     ]
    },
    {
     "name": "stdout",
     "output_type": "stream",
     "text": [
      "[=====================================             ] 74.89%\n",
      "Testing pipeline_2D_thr_0.7_norm_minmax_1_15 pipeline\n"
     ]
    },
    {
     "name": "stderr",
     "output_type": "stream",
     "text": [
      "100%|██████████| 19/19 [00:00<00:00, 4943.97it/s]"
     ]
    },
    {
     "name": "stdout",
     "output_type": "stream",
     "text": [
      "[=====================================             ] 75.00%"
     ]
    },
    {
     "name": "stderr",
     "output_type": "stream",
     "text": [
      "\n"
     ]
    },
    {
     "name": "stdout",
     "output_type": "stream",
     "text": [
      "\n",
      "Testing pipeline_2D_thr_0.7_norm_minmax_2_0 pipeline\n"
     ]
    },
    {
     "name": "stderr",
     "output_type": "stream",
     "text": [
      "100%|██████████| 19/19 [00:00<00:00, 3816.11it/s]"
     ]
    },
    {
     "name": "stdout",
     "output_type": "stream",
     "text": [
      "[=====================================             ] 75.11%"
     ]
    },
    {
     "name": "stderr",
     "output_type": "stream",
     "text": [
      "\n"
     ]
    },
    {
     "name": "stdout",
     "output_type": "stream",
     "text": [
      "\n",
      "Testing pipeline_2D_thr_0.7_norm_minmax_2_1 pipeline\n"
     ]
    },
    {
     "name": "stderr",
     "output_type": "stream",
     "text": [
      "100%|██████████| 19/19 [00:00<00:00, 5524.94it/s]"
     ]
    },
    {
     "name": "stdout",
     "output_type": "stream",
     "text": [
      "[=====================================             ] 75.22%"
     ]
    },
    {
     "name": "stderr",
     "output_type": "stream",
     "text": [
      "\n"
     ]
    },
    {
     "name": "stdout",
     "output_type": "stream",
     "text": [
      "\n",
      "Testing pipeline_2D_thr_0.7_norm_minmax_2_2 pipeline\n"
     ]
    },
    {
     "name": "stderr",
     "output_type": "stream",
     "text": [
      "100%|██████████| 19/19 [00:00<00:00, 5188.94it/s]\n"
     ]
    },
    {
     "name": "stdout",
     "output_type": "stream",
     "text": [
      "[=====================================             ] 75.33%\n",
      "Testing pipeline_2D_thr_0.7_norm_minmax_2_3 pipeline\n"
     ]
    },
    {
     "name": "stderr",
     "output_type": "stream",
     "text": [
      "100%|██████████| 19/19 [00:00<00:00, 4778.83it/s]"
     ]
    },
    {
     "name": "stdout",
     "output_type": "stream",
     "text": [
      "[=====================================             ] 75.45%"
     ]
    },
    {
     "name": "stderr",
     "output_type": "stream",
     "text": [
      "\n"
     ]
    },
    {
     "name": "stdout",
     "output_type": "stream",
     "text": [
      "\n",
      "Testing pipeline_2D_thr_0.7_norm_minmax_2_4 pipeline\n"
     ]
    },
    {
     "name": "stderr",
     "output_type": "stream",
     "text": [
      "100%|██████████| 19/19 [00:00<00:00, 4504.91it/s]\n"
     ]
    },
    {
     "name": "stdout",
     "output_type": "stream",
     "text": [
      "[=====================================             ] 75.56%\n",
      "Testing pipeline_2D_thr_0.7_norm_minmax_2_5 pipeline\n"
     ]
    },
    {
     "name": "stderr",
     "output_type": "stream",
     "text": [
      "100%|██████████| 19/19 [00:00<00:00, 4784.86it/s]"
     ]
    },
    {
     "name": "stdout",
     "output_type": "stream",
     "text": [
      "[=====================================             ] 75.67%"
     ]
    },
    {
     "name": "stderr",
     "output_type": "stream",
     "text": [
      "\n"
     ]
    },
    {
     "name": "stdout",
     "output_type": "stream",
     "text": [
      "\n",
      "Testing pipeline_2D_thr_0.7_norm_minmax_2_6 pipeline\n"
     ]
    },
    {
     "name": "stderr",
     "output_type": "stream",
     "text": [
      "100%|██████████| 19/19 [00:00<00:00, 4743.56it/s]\n"
     ]
    },
    {
     "name": "stdout",
     "output_type": "stream",
     "text": [
      "[=====================================             ] 75.78%\n",
      "Testing pipeline_2D_thr_0.7_norm_minmax_2_7 pipeline\n"
     ]
    },
    {
     "name": "stderr",
     "output_type": "stream",
     "text": [
      "100%|██████████| 19/19 [00:00<00:00, 5136.77it/s]\n"
     ]
    },
    {
     "name": "stdout",
     "output_type": "stream",
     "text": [
      "[=====================================             ] 75.89%\n",
      "Testing pipeline_2D_thr_0.7_norm_minmax_2_8 pipeline\n"
     ]
    },
    {
     "name": "stderr",
     "output_type": "stream",
     "text": [
      "100%|██████████| 19/19 [00:00<00:00, 5491.06it/s]\n"
     ]
    },
    {
     "name": "stdout",
     "output_type": "stream",
     "text": [
      "[======================================            ] 76.00%\n",
      "Testing pipeline_2D_thr_0.7_norm_minmax_2_9 pipeline\n"
     ]
    },
    {
     "name": "stderr",
     "output_type": "stream",
     "text": [
      "100%|██████████| 19/19 [00:00<00:00, 2847.15it/s]\n"
     ]
    },
    {
     "name": "stdout",
     "output_type": "stream",
     "text": [
      "[======================================            ] 76.12%\n",
      "Testing pipeline_2D_thr_0.7_norm_minmax_2_10 pipeline\n"
     ]
    },
    {
     "name": "stderr",
     "output_type": "stream",
     "text": [
      "100%|██████████| 19/19 [00:00<00:00, 4263.64it/s]\n"
     ]
    },
    {
     "name": "stdout",
     "output_type": "stream",
     "text": [
      "[======================================            ] 76.23%\n",
      "Testing pipeline_2D_thr_0.7_norm_minmax_2_11 pipeline\n"
     ]
    },
    {
     "name": "stderr",
     "output_type": "stream",
     "text": [
      "100%|██████████| 19/19 [00:00<00:00, 3697.14it/s]\n"
     ]
    },
    {
     "name": "stdout",
     "output_type": "stream",
     "text": [
      "[======================================            ] 76.34%\n",
      "Testing pipeline_2D_thr_0.7_norm_minmax_2_12 pipeline\n"
     ]
    },
    {
     "name": "stderr",
     "output_type": "stream",
     "text": [
      "100%|██████████| 19/19 [00:00<00:00, 5690.64it/s]\n"
     ]
    },
    {
     "name": "stdout",
     "output_type": "stream",
     "text": [
      "[======================================            ] 76.45%\n",
      "Testing pipeline_2D_thr_0.7_norm_minmax_2_13 pipeline\n"
     ]
    },
    {
     "name": "stderr",
     "output_type": "stream",
     "text": [
      "100%|██████████| 19/19 [00:00<00:00, 5914.05it/s]\n"
     ]
    },
    {
     "name": "stdout",
     "output_type": "stream",
     "text": [
      "[======================================            ] 76.56%\n",
      "Testing pipeline_2D_thr_0.7_norm_minmax_2_14 pipeline\n"
     ]
    },
    {
     "name": "stderr",
     "output_type": "stream",
     "text": [
      "100%|██████████| 19/19 [00:00<00:00, 5193.68it/s]\n"
     ]
    },
    {
     "name": "stdout",
     "output_type": "stream",
     "text": [
      "[======================================            ] 76.67%\n",
      "Testing pipeline_2D_thr_0.7_norm_minmax_2_15 pipeline\n"
     ]
    },
    {
     "name": "stderr",
     "output_type": "stream",
     "text": [
      "100%|██████████| 19/19 [00:00<00:00, 5052.10it/s]"
     ]
    },
    {
     "name": "stdout",
     "output_type": "stream",
     "text": [
      "[======================================            ] 76.79%"
     ]
    },
    {
     "name": "stderr",
     "output_type": "stream",
     "text": [
      "\n"
     ]
    },
    {
     "name": "stdout",
     "output_type": "stream",
     "text": [
      "\n",
      "Testing pipeline_2D_thr_0.7_norm_minmax_3_0 pipeline\n"
     ]
    },
    {
     "name": "stderr",
     "output_type": "stream",
     "text": [
      "100%|██████████| 19/19 [00:00<00:00, 4761.98it/s]"
     ]
    },
    {
     "name": "stdout",
     "output_type": "stream",
     "text": [
      "[======================================            ] 76.90%"
     ]
    },
    {
     "name": "stderr",
     "output_type": "stream",
     "text": [
      "\n"
     ]
    },
    {
     "name": "stdout",
     "output_type": "stream",
     "text": [
      "\n",
      "Testing pipeline_2D_thr_0.7_norm_minmax_3_1 pipeline\n"
     ]
    },
    {
     "name": "stderr",
     "output_type": "stream",
     "text": [
      "100%|██████████| 19/19 [00:00<00:00, 5607.36it/s]"
     ]
    },
    {
     "name": "stdout",
     "output_type": "stream",
     "text": [
      "[======================================            ] 77.01%"
     ]
    },
    {
     "name": "stderr",
     "output_type": "stream",
     "text": [
      "\n"
     ]
    },
    {
     "name": "stdout",
     "output_type": "stream",
     "text": [
      "\n",
      "Testing pipeline_2D_thr_0.7_norm_minmax_3_2 pipeline\n"
     ]
    },
    {
     "name": "stderr",
     "output_type": "stream",
     "text": [
      "100%|██████████| 19/19 [00:00<00:00, 2905.17it/s]\n"
     ]
    },
    {
     "name": "stdout",
     "output_type": "stream",
     "text": [
      "[======================================            ] 77.12%\n",
      "Testing pipeline_2D_thr_0.7_norm_minmax_3_3 pipeline\n"
     ]
    },
    {
     "name": "stderr",
     "output_type": "stream",
     "text": [
      "100%|██████████| 19/19 [00:00<00:00, 5209.63it/s]"
     ]
    },
    {
     "name": "stdout",
     "output_type": "stream",
     "text": [
      "[======================================            ] 77.23%"
     ]
    },
    {
     "name": "stderr",
     "output_type": "stream",
     "text": [
      "\n"
     ]
    },
    {
     "name": "stdout",
     "output_type": "stream",
     "text": [
      "\n",
      "Testing pipeline_2D_thr_0.7_norm_minmax_3_4 pipeline\n"
     ]
    },
    {
     "name": "stderr",
     "output_type": "stream",
     "text": [
      "100%|██████████| 19/19 [00:00<00:00, 5059.47it/s]\n"
     ]
    },
    {
     "name": "stdout",
     "output_type": "stream",
     "text": [
      "[======================================            ] 77.34%\n",
      "Testing pipeline_2D_thr_0.7_norm_minmax_3_5 pipeline\n"
     ]
    },
    {
     "name": "stderr",
     "output_type": "stream",
     "text": [
      "100%|██████████| 19/19 [00:00<00:00, 3405.49it/s]"
     ]
    },
    {
     "name": "stdout",
     "output_type": "stream",
     "text": [
      "[======================================            ] 77.46%"
     ]
    },
    {
     "name": "stderr",
     "output_type": "stream",
     "text": [
      "\n"
     ]
    },
    {
     "name": "stdout",
     "output_type": "stream",
     "text": [
      "\n",
      "Testing pipeline_2D_thr_0.7_norm_minmax_3_6 pipeline\n"
     ]
    },
    {
     "name": "stderr",
     "output_type": "stream",
     "text": [
      "100%|██████████| 19/19 [00:00<00:00, 4841.54it/s]\n"
     ]
    },
    {
     "name": "stdout",
     "output_type": "stream",
     "text": [
      "[======================================            ] 77.57%\n",
      "Testing pipeline_2D_thr_0.7_norm_minmax_3_7 pipeline\n"
     ]
    },
    {
     "name": "stderr",
     "output_type": "stream",
     "text": [
      "100%|██████████| 19/19 [00:00<00:00, 5126.85it/s]\n"
     ]
    },
    {
     "name": "stdout",
     "output_type": "stream",
     "text": [
      "[======================================            ] 77.68%\n",
      "Testing pipeline_2D_thr_0.7_norm_minmax_3_8 pipeline\n"
     ]
    },
    {
     "name": "stderr",
     "output_type": "stream",
     "text": [
      "100%|██████████| 19/19 [00:00<00:00, 5755.17it/s]\n"
     ]
    },
    {
     "name": "stdout",
     "output_type": "stream",
     "text": [
      "[======================================            ] 77.79%\n",
      "Testing pipeline_2D_thr_0.7_norm_minmax_3_9 pipeline\n"
     ]
    },
    {
     "name": "stderr",
     "output_type": "stream",
     "text": [
      "100%|██████████| 19/19 [00:00<00:00, 5497.12it/s]\n"
     ]
    },
    {
     "name": "stdout",
     "output_type": "stream",
     "text": [
      "[======================================            ] 77.90%\n",
      "Testing pipeline_2D_thr_0.7_norm_minmax_3_10 pipeline\n"
     ]
    },
    {
     "name": "stderr",
     "output_type": "stream",
     "text": [
      "100%|██████████| 19/19 [00:00<00:00, 5366.09it/s]\n"
     ]
    },
    {
     "name": "stdout",
     "output_type": "stream",
     "text": [
      "[=======================================           ] 78.01%\n",
      "Testing pipeline_2D_thr_0.7_norm_minmax_3_11 pipeline\n"
     ]
    },
    {
     "name": "stderr",
     "output_type": "stream",
     "text": [
      "100%|██████████| 19/19 [00:00<00:00, 4960.89it/s]\n"
     ]
    },
    {
     "name": "stdout",
     "output_type": "stream",
     "text": [
      "[=======================================           ] 78.12%\n",
      "Testing pipeline_2D_thr_0.7_norm_minmax_3_12 pipeline\n"
     ]
    },
    {
     "name": "stderr",
     "output_type": "stream",
     "text": [
      "100%|██████████| 19/19 [00:00<00:00, 5747.69it/s]\n"
     ]
    },
    {
     "name": "stdout",
     "output_type": "stream",
     "text": [
      "[=======================================           ] 78.24%\n",
      "Testing pipeline_2D_thr_0.7_norm_minmax_3_13 pipeline\n"
     ]
    },
    {
     "name": "stderr",
     "output_type": "stream",
     "text": [
      "100%|██████████| 19/19 [00:00<00:00, 4592.39it/s]\n"
     ]
    },
    {
     "name": "stdout",
     "output_type": "stream",
     "text": [
      "[=======================================           ] 78.35%\n",
      "Testing pipeline_2D_thr_0.7_norm_minmax_3_14 pipeline\n"
     ]
    },
    {
     "name": "stderr",
     "output_type": "stream",
     "text": [
      "100%|██████████| 19/19 [00:00<00:00, 5440.45it/s]\n"
     ]
    },
    {
     "name": "stdout",
     "output_type": "stream",
     "text": [
      "[=======================================           ] 78.46%\n",
      "Testing pipeline_2D_thr_0.7_norm_minmax_3_15 pipeline\n"
     ]
    },
    {
     "name": "stderr",
     "output_type": "stream",
     "text": [
      "100%|██████████| 19/19 [00:00<00:00, 4786.58it/s]"
     ]
    },
    {
     "name": "stdout",
     "output_type": "stream",
     "text": [
      "[=======================================           ] 78.57%"
     ]
    },
    {
     "name": "stderr",
     "output_type": "stream",
     "text": [
      "\n"
     ]
    },
    {
     "name": "stdout",
     "output_type": "stream",
     "text": [
      "\n",
      "Testing pipeline_2D_thr_0.7_norm_percentile_0_0 pipeline\n"
     ]
    },
    {
     "name": "stderr",
     "output_type": "stream",
     "text": [
      "100%|██████████| 19/19 [00:00<00:00, 4603.80it/s]"
     ]
    },
    {
     "name": "stdout",
     "output_type": "stream",
     "text": [
      "[=======================================           ] 78.68%"
     ]
    },
    {
     "name": "stderr",
     "output_type": "stream",
     "text": [
      "\n"
     ]
    },
    {
     "name": "stdout",
     "output_type": "stream",
     "text": [
      "\n",
      "Testing pipeline_2D_thr_0.7_norm_percentile_0_1 pipeline\n"
     ]
    },
    {
     "name": "stderr",
     "output_type": "stream",
     "text": [
      "100%|██████████| 19/19 [00:00<00:00, 5661.94it/s]"
     ]
    },
    {
     "name": "stdout",
     "output_type": "stream",
     "text": [
      "[=======================================           ] 78.79%"
     ]
    },
    {
     "name": "stderr",
     "output_type": "stream",
     "text": [
      "\n"
     ]
    },
    {
     "name": "stdout",
     "output_type": "stream",
     "text": [
      "\n",
      "Testing pipeline_2D_thr_0.7_norm_percentile_0_2 pipeline\n"
     ]
    },
    {
     "name": "stderr",
     "output_type": "stream",
     "text": [
      "100%|██████████| 19/19 [00:00<00:00, 2745.44it/s]\n"
     ]
    },
    {
     "name": "stdout",
     "output_type": "stream",
     "text": [
      "[=======================================           ] 78.91%\n",
      "Testing pipeline_2D_thr_0.7_norm_percentile_0_3 pipeline\n"
     ]
    },
    {
     "name": "stderr",
     "output_type": "stream",
     "text": [
      "100%|██████████| 19/19 [00:00<00:00, 4592.39it/s]"
     ]
    },
    {
     "name": "stdout",
     "output_type": "stream",
     "text": [
      "[=======================================           ] 79.02%"
     ]
    },
    {
     "name": "stderr",
     "output_type": "stream",
     "text": [
      "\n"
     ]
    },
    {
     "name": "stdout",
     "output_type": "stream",
     "text": [
      "\n",
      "Testing pipeline_2D_thr_0.7_norm_percentile_0_4 pipeline\n"
     ]
    },
    {
     "name": "stderr",
     "output_type": "stream",
     "text": [
      "100%|██████████| 19/19 [00:00<00:00, 5646.29it/s]\n"
     ]
    },
    {
     "name": "stdout",
     "output_type": "stream",
     "text": [
      "[=======================================           ] 79.13%\n",
      "Testing pipeline_2D_thr_0.7_norm_percentile_0_5 pipeline\n"
     ]
    },
    {
     "name": "stderr",
     "output_type": "stream",
     "text": [
      "100%|██████████| 19/19 [00:00<00:00, 3557.67it/s]"
     ]
    },
    {
     "name": "stdout",
     "output_type": "stream",
     "text": [
      "[=======================================           ] 79.24%"
     ]
    },
    {
     "name": "stderr",
     "output_type": "stream",
     "text": [
      "\n"
     ]
    },
    {
     "name": "stdout",
     "output_type": "stream",
     "text": [
      "\n",
      "Testing pipeline_2D_thr_0.7_norm_percentile_0_6 pipeline\n"
     ]
    },
    {
     "name": "stderr",
     "output_type": "stream",
     "text": [
      "100%|██████████| 19/19 [00:00<00:00, 4939.37it/s]\n"
     ]
    },
    {
     "name": "stdout",
     "output_type": "stream",
     "text": [
      "[=======================================           ] 79.35%\n",
      "Testing pipeline_2D_thr_0.7_norm_percentile_0_7 pipeline\n"
     ]
    },
    {
     "name": "stderr",
     "output_type": "stream",
     "text": [
      "100%|██████████| 19/19 [00:00<00:00, 5766.41it/s]\n"
     ]
    },
    {
     "name": "stdout",
     "output_type": "stream",
     "text": [
      "[=======================================           ] 79.46%\n",
      "Testing pipeline_2D_thr_0.7_norm_percentile_0_8 pipeline\n"
     ]
    },
    {
     "name": "stderr",
     "output_type": "stream",
     "text": [
      "100%|██████████| 19/19 [00:00<00:00, 5046.34it/s]\n"
     ]
    },
    {
     "name": "stdout",
     "output_type": "stream",
     "text": [
      "[=======================================           ] 79.58%\n",
      "Testing pipeline_2D_thr_0.7_norm_percentile_0_9 pipeline\n"
     ]
    },
    {
     "name": "stderr",
     "output_type": "stream",
     "text": [
      "100%|██████████| 19/19 [00:00<00:00, 6027.67it/s]\n"
     ]
    },
    {
     "name": "stdout",
     "output_type": "stream",
     "text": [
      "[=======================================           ] 79.69%\n",
      "Testing pipeline_2D_thr_0.7_norm_percentile_0_10 pipeline\n"
     ]
    },
    {
     "name": "stderr",
     "output_type": "stream",
     "text": [
      "100%|██████████| 19/19 [00:00<00:00, 4299.53it/s]\n"
     ]
    },
    {
     "name": "stdout",
     "output_type": "stream",
     "text": [
      "[=======================================           ] 79.80%\n",
      "Testing pipeline_2D_thr_0.7_norm_percentile_0_11 pipeline\n"
     ]
    },
    {
     "name": "stderr",
     "output_type": "stream",
     "text": [
      "100%|██████████| 19/19 [00:00<00:00, 4393.64it/s]\n"
     ]
    },
    {
     "name": "stdout",
     "output_type": "stream",
     "text": [
      "[=======================================           ] 79.91%\n",
      "Testing pipeline_2D_thr_0.7_norm_percentile_0_12 pipeline\n"
     ]
    },
    {
     "name": "stderr",
     "output_type": "stream",
     "text": [
      "100%|██████████| 19/19 [00:00<00:00, 3067.07it/s]\n"
     ]
    },
    {
     "name": "stdout",
     "output_type": "stream",
     "text": [
      "[========================================          ] 80.02%\n",
      "Testing pipeline_2D_thr_0.7_norm_percentile_0_13 pipeline\n"
     ]
    },
    {
     "name": "stderr",
     "output_type": "stream",
     "text": [
      "100%|██████████| 19/19 [00:00<00:00, 4771.96it/s]\n"
     ]
    },
    {
     "name": "stdout",
     "output_type": "stream",
     "text": [
      "[========================================          ] 80.13%\n",
      "Testing pipeline_2D_thr_0.7_norm_percentile_0_14 pipeline\n"
     ]
    },
    {
     "name": "stderr",
     "output_type": "stream",
     "text": [
      "100%|██████████| 19/19 [00:00<00:00, 3570.90it/s]\n"
     ]
    },
    {
     "name": "stdout",
     "output_type": "stream",
     "text": [
      "[========================================          ] 80.25%\n",
      "Testing pipeline_2D_thr_0.7_norm_percentile_0_15 pipeline\n"
     ]
    },
    {
     "name": "stderr",
     "output_type": "stream",
     "text": [
      "100%|██████████| 19/19 [00:00<00:00, 3451.06it/s]"
     ]
    },
    {
     "name": "stdout",
     "output_type": "stream",
     "text": [
      "[========================================          ] 80.36%"
     ]
    },
    {
     "name": "stderr",
     "output_type": "stream",
     "text": [
      "\n"
     ]
    },
    {
     "name": "stdout",
     "output_type": "stream",
     "text": [
      "\n",
      "Testing pipeline_2D_thr_0.7_norm_percentile_1_0 pipeline\n"
     ]
    },
    {
     "name": "stderr",
     "output_type": "stream",
     "text": [
      "100%|██████████| 19/19 [00:00<00:00, 4732.57it/s]"
     ]
    },
    {
     "name": "stdout",
     "output_type": "stream",
     "text": [
      "[========================================          ] 80.47%"
     ]
    },
    {
     "name": "stderr",
     "output_type": "stream",
     "text": [
      "\n"
     ]
    },
    {
     "name": "stdout",
     "output_type": "stream",
     "text": [
      "\n",
      "Testing pipeline_2D_thr_0.7_norm_percentile_1_1 pipeline\n"
     ]
    },
    {
     "name": "stderr",
     "output_type": "stream",
     "text": [
      "100%|██████████| 19/19 [00:00<00:00, 5506.24it/s]"
     ]
    },
    {
     "name": "stdout",
     "output_type": "stream",
     "text": [
      "[========================================          ] 80.58%"
     ]
    },
    {
     "name": "stderr",
     "output_type": "stream",
     "text": [
      "\n"
     ]
    },
    {
     "name": "stdout",
     "output_type": "stream",
     "text": [
      "\n",
      "Testing pipeline_2D_thr_0.7_norm_percentile_1_2 pipeline\n"
     ]
    },
    {
     "name": "stderr",
     "output_type": "stream",
     "text": [
      "100%|██████████| 19/19 [00:00<00:00, 5179.16it/s]\n"
     ]
    },
    {
     "name": "stdout",
     "output_type": "stream",
     "text": [
      "[========================================          ] 80.69%\n",
      "Testing pipeline_2D_thr_0.7_norm_percentile_1_3 pipeline\n"
     ]
    },
    {
     "name": "stderr",
     "output_type": "stream",
     "text": [
      "100%|██████████| 19/19 [00:00<00:00, 5158.04it/s]"
     ]
    },
    {
     "name": "stdout",
     "output_type": "stream",
     "text": [
      "[========================================          ] 80.80%"
     ]
    },
    {
     "name": "stderr",
     "output_type": "stream",
     "text": [
      "\n"
     ]
    },
    {
     "name": "stdout",
     "output_type": "stream",
     "text": [
      "\n",
      "Testing pipeline_2D_thr_0.7_norm_percentile_1_4 pipeline\n"
     ]
    },
    {
     "name": "stderr",
     "output_type": "stream",
     "text": [
      "100%|██████████| 19/19 [00:00<00:00, 4919.25it/s]\n"
     ]
    },
    {
     "name": "stdout",
     "output_type": "stream",
     "text": [
      "[========================================          ] 80.92%\n",
      "Testing pipeline_2D_thr_0.7_norm_percentile_1_5 pipeline\n"
     ]
    },
    {
     "name": "stderr",
     "output_type": "stream",
     "text": [
      "100%|██████████| 19/19 [00:00<00:00, 4459.28it/s]"
     ]
    },
    {
     "name": "stdout",
     "output_type": "stream",
     "text": [
      "[========================================          ] 81.03%"
     ]
    },
    {
     "name": "stderr",
     "output_type": "stream",
     "text": [
      "\n"
     ]
    },
    {
     "name": "stdout",
     "output_type": "stream",
     "text": [
      "\n",
      "Testing pipeline_2D_thr_0.7_norm_percentile_1_6 pipeline\n"
     ]
    },
    {
     "name": "stderr",
     "output_type": "stream",
     "text": [
      "100%|██████████| 19/19 [00:00<00:00, 5212.70it/s]\n"
     ]
    },
    {
     "name": "stdout",
     "output_type": "stream",
     "text": [
      "[========================================          ] 81.14%\n",
      "Testing pipeline_2D_thr_0.7_norm_percentile_1_7 pipeline\n"
     ]
    },
    {
     "name": "stderr",
     "output_type": "stream",
     "text": [
      "100%|██████████| 19/19 [00:00<00:00, 4507.20it/s]\n"
     ]
    },
    {
     "name": "stdout",
     "output_type": "stream",
     "text": [
      "[========================================          ] 81.25%\n",
      "Testing pipeline_2D_thr_0.7_norm_percentile_1_8 pipeline\n"
     ]
    },
    {
     "name": "stderr",
     "output_type": "stream",
     "text": [
      "100%|██████████| 19/19 [00:00<00:00, 4788.02it/s]\n"
     ]
    },
    {
     "name": "stdout",
     "output_type": "stream",
     "text": [
      "[========================================          ] 81.36%\n",
      "Testing pipeline_2D_thr_0.7_norm_percentile_1_9 pipeline\n"
     ]
    },
    {
     "name": "stderr",
     "output_type": "stream",
     "text": [
      "100%|██████████| 19/19 [00:00<00:00, 5113.36it/s]\n"
     ]
    },
    {
     "name": "stdout",
     "output_type": "stream",
     "text": [
      "[========================================          ] 81.47%\n",
      "Testing pipeline_2D_thr_0.7_norm_percentile_1_10 pipeline\n"
     ]
    },
    {
     "name": "stderr",
     "output_type": "stream",
     "text": [
      "100%|██████████| 19/19 [00:00<00:00, 5438.97it/s]\n"
     ]
    },
    {
     "name": "stdout",
     "output_type": "stream",
     "text": [
      "[========================================          ] 81.58%\n",
      "Testing pipeline_2D_thr_0.7_norm_percentile_1_11 pipeline\n"
     ]
    },
    {
     "name": "stderr",
     "output_type": "stream",
     "text": [
      "100%|██████████| 19/19 [00:00<00:00, 2510.06it/s]\n"
     ]
    },
    {
     "name": "stdout",
     "output_type": "stream",
     "text": [
      "[========================================          ] 81.70%\n",
      "Testing pipeline_2D_thr_0.7_norm_percentile_1_12 pipeline\n"
     ]
    },
    {
     "name": "stderr",
     "output_type": "stream",
     "text": [
      "100%|██████████| 19/19 [00:00<00:00, 5521.12it/s]\n"
     ]
    },
    {
     "name": "stdout",
     "output_type": "stream",
     "text": [
      "[========================================          ] 81.81%\n",
      "Testing pipeline_2D_thr_0.7_norm_percentile_1_13 pipeline\n"
     ]
    },
    {
     "name": "stderr",
     "output_type": "stream",
     "text": [
      "100%|██████████| 19/19 [00:00<00:00, 5054.34it/s]\n"
     ]
    },
    {
     "name": "stdout",
     "output_type": "stream",
     "text": [
      "[========================================          ] 81.92%\n",
      "Testing pipeline_2D_thr_0.7_norm_percentile_1_14 pipeline\n"
     ]
    },
    {
     "name": "stderr",
     "output_type": "stream",
     "text": [
      "100%|██████████| 19/19 [00:00<00:00, 5172.78it/s]\n"
     ]
    },
    {
     "name": "stdout",
     "output_type": "stream",
     "text": [
      "[=========================================         ] 82.03%\n",
      "Testing pipeline_2D_thr_0.7_norm_percentile_1_15 pipeline\n"
     ]
    },
    {
     "name": "stderr",
     "output_type": "stream",
     "text": [
      "100%|██████████| 19/19 [00:00<00:00, 5391.87it/s]"
     ]
    },
    {
     "name": "stdout",
     "output_type": "stream",
     "text": [
      "[=========================================         ] 82.14%"
     ]
    },
    {
     "name": "stderr",
     "output_type": "stream",
     "text": [
      "\n"
     ]
    },
    {
     "name": "stdout",
     "output_type": "stream",
     "text": [
      "\n",
      "Testing pipeline_2D_thr_0.7_norm_percentile_2_0 pipeline\n"
     ]
    },
    {
     "name": "stderr",
     "output_type": "stream",
     "text": [
      "100%|██████████| 19/19 [00:00<00:00, 4801.87it/s]"
     ]
    },
    {
     "name": "stdout",
     "output_type": "stream",
     "text": [
      "[=========================================         ] 82.25%"
     ]
    },
    {
     "name": "stderr",
     "output_type": "stream",
     "text": [
      "\n"
     ]
    },
    {
     "name": "stdout",
     "output_type": "stream",
     "text": [
      "\n",
      "Testing pipeline_2D_thr_0.7_norm_percentile_2_1 pipeline\n"
     ]
    },
    {
     "name": "stderr",
     "output_type": "stream",
     "text": [
      "100%|██████████| 19/19 [00:00<00:00, 5438.60it/s]"
     ]
    },
    {
     "name": "stdout",
     "output_type": "stream",
     "text": [
      "[=========================================         ] 82.37%"
     ]
    },
    {
     "name": "stderr",
     "output_type": "stream",
     "text": [
      "\n"
     ]
    },
    {
     "name": "stdout",
     "output_type": "stream",
     "text": [
      "\n",
      "Testing pipeline_2D_thr_0.7_norm_percentile_2_2 pipeline\n"
     ]
    },
    {
     "name": "stderr",
     "output_type": "stream",
     "text": [
      "100%|██████████| 19/19 [00:00<00:00, 4797.82it/s]\n"
     ]
    },
    {
     "name": "stdout",
     "output_type": "stream",
     "text": [
      "[=========================================         ] 82.48%\n",
      "Testing pipeline_2D_thr_0.7_norm_percentile_2_3 pipeline\n"
     ]
    },
    {
     "name": "stderr",
     "output_type": "stream",
     "text": [
      "100%|██████████| 19/19 [00:00<00:00, 5440.08it/s]"
     ]
    },
    {
     "name": "stdout",
     "output_type": "stream",
     "text": [
      "[=========================================         ] 82.59%"
     ]
    },
    {
     "name": "stderr",
     "output_type": "stream",
     "text": [
      "\n"
     ]
    },
    {
     "name": "stdout",
     "output_type": "stream",
     "text": [
      "\n",
      "Testing pipeline_2D_thr_0.7_norm_percentile_2_4 pipeline\n"
     ]
    },
    {
     "name": "stderr",
     "output_type": "stream",
     "text": [
      "100%|██████████| 19/19 [00:00<00:00, 4939.67it/s]\n"
     ]
    },
    {
     "name": "stdout",
     "output_type": "stream",
     "text": [
      "[=========================================         ] 82.70%\n",
      "Testing pipeline_2D_thr_0.7_norm_percentile_2_5 pipeline\n"
     ]
    },
    {
     "name": "stderr",
     "output_type": "stream",
     "text": [
      "100%|██████████| 19/19 [00:00<00:00, 5273.06it/s]"
     ]
    },
    {
     "name": "stdout",
     "output_type": "stream",
     "text": [
      "[=========================================         ] 82.81%"
     ]
    },
    {
     "name": "stderr",
     "output_type": "stream",
     "text": [
      "\n"
     ]
    },
    {
     "name": "stdout",
     "output_type": "stream",
     "text": [
      "\n",
      "Testing pipeline_2D_thr_0.7_norm_percentile_2_6 pipeline\n"
     ]
    },
    {
     "name": "stderr",
     "output_type": "stream",
     "text": [
      "100%|██████████| 19/19 [00:00<00:00, 5489.55it/s]\n"
     ]
    },
    {
     "name": "stdout",
     "output_type": "stream",
     "text": [
      "[=========================================         ] 82.92%\n",
      "Testing pipeline_2D_thr_0.7_norm_percentile_2_7 pipeline\n"
     ]
    },
    {
     "name": "stderr",
     "output_type": "stream",
     "text": [
      "100%|██████████| 19/19 [00:00<00:00, 4551.48it/s]\n"
     ]
    },
    {
     "name": "stdout",
     "output_type": "stream",
     "text": [
      "[=========================================         ] 83.04%\n",
      "Testing pipeline_2D_thr_0.7_norm_percentile_2_8 pipeline\n"
     ]
    },
    {
     "name": "stderr",
     "output_type": "stream",
     "text": [
      "100%|██████████| 19/19 [00:00<00:00, 5438.23it/s]\n"
     ]
    },
    {
     "name": "stdout",
     "output_type": "stream",
     "text": [
      "[=========================================         ] 83.15%\n",
      "Testing pipeline_2D_thr_0.7_norm_percentile_2_9 pipeline\n"
     ]
    },
    {
     "name": "stderr",
     "output_type": "stream",
     "text": [
      "100%|██████████| 19/19 [00:00<00:00, 4753.46it/s]\n"
     ]
    },
    {
     "name": "stdout",
     "output_type": "stream",
     "text": [
      "[=========================================         ] 83.26%\n",
      "Testing pipeline_2D_thr_0.7_norm_percentile_2_10 pipeline\n"
     ]
    },
    {
     "name": "stderr",
     "output_type": "stream",
     "text": [
      "100%|██████████| 19/19 [00:00<00:00, 5436.37it/s]\n"
     ]
    },
    {
     "name": "stdout",
     "output_type": "stream",
     "text": [
      "[=========================================         ] 83.37%\n",
      "Testing pipeline_2D_thr_0.7_norm_percentile_2_11 pipeline\n"
     ]
    },
    {
     "name": "stderr",
     "output_type": "stream",
     "text": [
      "100%|██████████| 19/19 [00:00<00:00, 6218.15it/s]\n"
     ]
    },
    {
     "name": "stdout",
     "output_type": "stream",
     "text": [
      "[=========================================         ] 83.48%\n",
      "Testing pipeline_2D_thr_0.7_norm_percentile_2_12 pipeline\n"
     ]
    },
    {
     "name": "stderr",
     "output_type": "stream",
     "text": [
      "100%|██████████| 19/19 [00:00<00:00, 5771.84it/s]\n"
     ]
    },
    {
     "name": "stdout",
     "output_type": "stream",
     "text": [
      "[=========================================         ] 83.59%\n",
      "Testing pipeline_2D_thr_0.7_norm_percentile_2_13 pipeline\n"
     ]
    },
    {
     "name": "stderr",
     "output_type": "stream",
     "text": [
      "100%|██████████| 19/19 [00:00<00:00, 5333.41it/s]\n"
     ]
    },
    {
     "name": "stdout",
     "output_type": "stream",
     "text": [
      "[=========================================         ] 83.71%\n",
      "Testing pipeline_2D_thr_0.7_norm_percentile_2_14 pipeline\n"
     ]
    },
    {
     "name": "stderr",
     "output_type": "stream",
     "text": [
      "100%|██████████| 19/19 [00:00<00:00, 3626.31it/s]\n"
     ]
    },
    {
     "name": "stdout",
     "output_type": "stream",
     "text": [
      "[=========================================         ] 83.82%\n",
      "Testing pipeline_2D_thr_0.7_norm_percentile_2_15 pipeline\n"
     ]
    },
    {
     "name": "stderr",
     "output_type": "stream",
     "text": [
      "100%|██████████| 19/19 [00:00<00:00, 5485.77it/s]"
     ]
    },
    {
     "name": "stdout",
     "output_type": "stream",
     "text": [
      "[=========================================         ] 83.93%"
     ]
    },
    {
     "name": "stderr",
     "output_type": "stream",
     "text": [
      "\n"
     ]
    },
    {
     "name": "stdout",
     "output_type": "stream",
     "text": [
      "\n",
      "Testing pipeline_2D_thr_0.7_norm_percentile_3_0 pipeline\n"
     ]
    },
    {
     "name": "stderr",
     "output_type": "stream",
     "text": [
      "100%|██████████| 19/19 [00:00<00:00, 5233.24it/s]"
     ]
    },
    {
     "name": "stdout",
     "output_type": "stream",
     "text": [
      "[==========================================        ] 84.04%"
     ]
    },
    {
     "name": "stderr",
     "output_type": "stream",
     "text": [
      "\n"
     ]
    },
    {
     "name": "stdout",
     "output_type": "stream",
     "text": [
      "\n",
      "Testing pipeline_2D_thr_0.7_norm_percentile_3_1 pipeline\n"
     ]
    },
    {
     "name": "stderr",
     "output_type": "stream",
     "text": [
      "100%|██████████| 19/19 [00:00<00:00, 4882.78it/s]"
     ]
    },
    {
     "name": "stdout",
     "output_type": "stream",
     "text": [
      "[==========================================        ] 84.15%"
     ]
    },
    {
     "name": "stderr",
     "output_type": "stream",
     "text": [
      "\n"
     ]
    },
    {
     "name": "stdout",
     "output_type": "stream",
     "text": [
      "\n",
      "Testing pipeline_2D_thr_0.7_norm_percentile_3_2 pipeline\n"
     ]
    },
    {
     "name": "stderr",
     "output_type": "stream",
     "text": [
      "100%|██████████| 19/19 [00:00<00:00, 5884.35it/s]\n"
     ]
    },
    {
     "name": "stdout",
     "output_type": "stream",
     "text": [
      "[==========================================        ] 84.26%\n",
      "Testing pipeline_2D_thr_0.7_norm_percentile_3_3 pipeline\n"
     ]
    },
    {
     "name": "stderr",
     "output_type": "stream",
     "text": [
      "100%|██████████| 19/19 [00:00<00:00, 5625.96it/s]"
     ]
    },
    {
     "name": "stdout",
     "output_type": "stream",
     "text": [
      "[==========================================        ] 84.38%"
     ]
    },
    {
     "name": "stderr",
     "output_type": "stream",
     "text": [
      "\n"
     ]
    },
    {
     "name": "stdout",
     "output_type": "stream",
     "text": [
      "\n",
      "Testing pipeline_2D_thr_0.7_norm_percentile_3_4 pipeline\n"
     ]
    },
    {
     "name": "stderr",
     "output_type": "stream",
     "text": [
      "100%|██████████| 19/19 [00:00<00:00, 5502.82it/s]\n"
     ]
    },
    {
     "name": "stdout",
     "output_type": "stream",
     "text": [
      "[==========================================        ] 84.49%\n",
      "Testing pipeline_2D_thr_0.7_norm_percentile_3_5 pipeline\n"
     ]
    },
    {
     "name": "stderr",
     "output_type": "stream",
     "text": [
      "100%|██████████| 19/19 [00:00<00:00, 4873.52it/s]"
     ]
    },
    {
     "name": "stdout",
     "output_type": "stream",
     "text": [
      "[==========================================        ] 84.60%"
     ]
    },
    {
     "name": "stderr",
     "output_type": "stream",
     "text": [
      "\n"
     ]
    },
    {
     "name": "stdout",
     "output_type": "stream",
     "text": [
      "\n",
      "Testing pipeline_2D_thr_0.7_norm_percentile_3_6 pipeline\n"
     ]
    },
    {
     "name": "stderr",
     "output_type": "stream",
     "text": [
      "100%|██████████| 19/19 [00:00<00:00, 4583.41it/s]\n"
     ]
    },
    {
     "name": "stdout",
     "output_type": "stream",
     "text": [
      "[==========================================        ] 84.71%\n",
      "Testing pipeline_2D_thr_0.7_norm_percentile_3_7 pipeline\n"
     ]
    },
    {
     "name": "stderr",
     "output_type": "stream",
     "text": [
      "100%|██████████| 19/19 [00:00<00:00, 5434.89it/s]\n"
     ]
    },
    {
     "name": "stdout",
     "output_type": "stream",
     "text": [
      "[==========================================        ] 84.82%\n",
      "Testing pipeline_2D_thr_0.7_norm_percentile_3_8 pipeline\n"
     ]
    },
    {
     "name": "stderr",
     "output_type": "stream",
     "text": [
      "100%|██████████| 19/19 [00:00<00:00, 5189.28it/s]\n"
     ]
    },
    {
     "name": "stdout",
     "output_type": "stream",
     "text": [
      "[==========================================        ] 84.93%\n",
      "Testing pipeline_2D_thr_0.7_norm_percentile_3_9 pipeline\n"
     ]
    },
    {
     "name": "stderr",
     "output_type": "stream",
     "text": [
      "100%|██████████| 19/19 [00:00<00:00, 5842.08it/s]\n"
     ]
    },
    {
     "name": "stdout",
     "output_type": "stream",
     "text": [
      "[==========================================        ] 85.04%\n",
      "Testing pipeline_2D_thr_0.7_norm_percentile_3_10 pipeline\n"
     ]
    },
    {
     "name": "stderr",
     "output_type": "stream",
     "text": [
      "100%|██████████| 19/19 [00:00<00:00, 5698.38it/s]\n"
     ]
    },
    {
     "name": "stdout",
     "output_type": "stream",
     "text": [
      "[==========================================        ] 85.16%\n",
      "Testing pipeline_2D_thr_0.7_norm_percentile_3_11 pipeline\n"
     ]
    },
    {
     "name": "stderr",
     "output_type": "stream",
     "text": [
      "100%|██████████| 19/19 [00:00<00:00, 4870.84it/s]\n"
     ]
    },
    {
     "name": "stdout",
     "output_type": "stream",
     "text": [
      "[==========================================        ] 85.27%\n",
      "Testing pipeline_2D_thr_0.7_norm_percentile_3_12 pipeline\n"
     ]
    },
    {
     "name": "stderr",
     "output_type": "stream",
     "text": [
      "100%|██████████| 19/19 [00:00<00:00, 4773.11it/s]\n"
     ]
    },
    {
     "name": "stdout",
     "output_type": "stream",
     "text": [
      "[==========================================        ] 85.38%\n",
      "Testing pipeline_2D_thr_0.7_norm_percentile_3_13 pipeline\n"
     ]
    },
    {
     "name": "stderr",
     "output_type": "stream",
     "text": [
      "100%|██████████| 19/19 [00:00<00:00, 3567.22it/s]\n"
     ]
    },
    {
     "name": "stdout",
     "output_type": "stream",
     "text": [
      "[==========================================        ] 85.49%\n",
      "Testing pipeline_2D_thr_0.7_norm_percentile_3_14 pipeline\n"
     ]
    },
    {
     "name": "stderr",
     "output_type": "stream",
     "text": [
      "100%|██████████| 19/19 [00:00<00:00, 5951.14it/s]\n"
     ]
    },
    {
     "name": "stdout",
     "output_type": "stream",
     "text": [
      "[==========================================        ] 85.60%\n",
      "Testing pipeline_2D_thr_0.7_norm_percentile_3_15 pipeline\n"
     ]
    },
    {
     "name": "stderr",
     "output_type": "stream",
     "text": [
      "100%|██████████| 19/19 [00:00<00:00, 3522.60it/s]"
     ]
    },
    {
     "name": "stdout",
     "output_type": "stream",
     "text": [
      "[==========================================        ] 85.71%"
     ]
    },
    {
     "name": "stderr",
     "output_type": "stream",
     "text": [
      "\n"
     ]
    },
    {
     "name": "stdout",
     "output_type": "stream",
     "text": [
      "\n",
      "Testing pipeline_3D_norm_minmax_0_0 pipeline\n",
      "[==========================================        ] 85.83%\n",
      "Testing pipeline_3D_norm_minmax_0_1 pipeline\n",
      "[==========================================        ] 85.94%\n",
      "Testing pipeline_3D_norm_minmax_0_2 pipeline\n",
      "[===========================================       ] 86.05%\n",
      "Testing pipeline_3D_norm_minmax_0_3 pipeline\n",
      "[===========================================       ] 86.16%\n",
      "Testing pipeline_3D_norm_minmax_0_4 pipeline\n",
      "[===========================================       ] 86.27%\n",
      "Testing pipeline_3D_norm_minmax_0_5 pipeline\n",
      "[===========================================       ] 86.38%\n",
      "Testing pipeline_3D_norm_minmax_0_6 pipeline\n",
      "[===========================================       ] 86.50%\n",
      "Testing pipeline_3D_norm_minmax_0_7 pipeline\n",
      "[===========================================       ] 86.61%\n",
      "Testing pipeline_3D_norm_minmax_0_8 pipeline\n",
      "[===========================================       ] 86.72%\n",
      "Testing pipeline_3D_norm_minmax_0_9 pipeline\n",
      "[===========================================       ] 86.83%\n",
      "Testing pipeline_3D_norm_minmax_0_10 pipeline\n",
      "[===========================================       ] 86.94%\n",
      "Testing pipeline_3D_norm_minmax_0_11 pipeline\n",
      "[===========================================       ] 87.05%\n",
      "Testing pipeline_3D_norm_minmax_0_12 pipeline\n",
      "[===========================================       ] 87.17%\n",
      "Testing pipeline_3D_norm_minmax_0_13 pipeline\n",
      "[===========================================       ] 87.28%\n",
      "Testing pipeline_3D_norm_minmax_0_14 pipeline\n",
      "[===========================================       ] 87.39%\n",
      "Testing pipeline_3D_norm_minmax_0_15 pipeline\n",
      "[===========================================       ] 87.50%\n",
      "Testing pipeline_3D_norm_minmax_1_0 pipeline\n",
      "[===========================================       ] 87.61%\n",
      "Testing pipeline_3D_norm_minmax_1_1 pipeline\n",
      "[===========================================       ] 87.72%\n",
      "Testing pipeline_3D_norm_minmax_1_2 pipeline\n",
      "[===========================================       ] 87.83%\n",
      "Testing pipeline_3D_norm_minmax_1_3 pipeline\n",
      "[===========================================       ] 87.95%\n",
      "Testing pipeline_3D_norm_minmax_1_4 pipeline\n",
      "[============================================      ] 88.06%\n",
      "Testing pipeline_3D_norm_minmax_1_5 pipeline\n",
      "[============================================      ] 88.17%\n",
      "Testing pipeline_3D_norm_minmax_1_6 pipeline\n",
      "[============================================      ] 88.28%\n",
      "Testing pipeline_3D_norm_minmax_1_7 pipeline\n",
      "[============================================      ] 88.39%\n",
      "Testing pipeline_3D_norm_minmax_1_8 pipeline\n",
      "[============================================      ] 88.50%\n",
      "Testing pipeline_3D_norm_minmax_1_9 pipeline\n",
      "[============================================      ] 88.62%\n",
      "Testing pipeline_3D_norm_minmax_1_10 pipeline\n",
      "[============================================      ] 88.73%\n",
      "Testing pipeline_3D_norm_minmax_1_11 pipeline\n",
      "[============================================      ] 88.84%\n",
      "Testing pipeline_3D_norm_minmax_1_12 pipeline\n",
      "[============================================      ] 88.95%\n",
      "Testing pipeline_3D_norm_minmax_1_13 pipeline\n",
      "[============================================      ] 89.06%\n",
      "Testing pipeline_3D_norm_minmax_1_14 pipeline\n",
      "[============================================      ] 89.17%\n",
      "Testing pipeline_3D_norm_minmax_1_15 pipeline\n",
      "[============================================      ] 89.29%\n",
      "Testing pipeline_3D_norm_minmax_2_0 pipeline\n",
      "[============================================      ] 89.40%\n",
      "Testing pipeline_3D_norm_minmax_2_1 pipeline\n",
      "[============================================      ] 89.51%\n",
      "Testing pipeline_3D_norm_minmax_2_2 pipeline\n",
      "[============================================      ] 89.62%\n",
      "Testing pipeline_3D_norm_minmax_2_3 pipeline\n",
      "[============================================      ] 89.73%\n",
      "Testing pipeline_3D_norm_minmax_2_4 pipeline\n",
      "[============================================      ] 89.84%\n",
      "Testing pipeline_3D_norm_minmax_2_5 pipeline\n",
      "[============================================      ] 89.96%\n",
      "Testing pipeline_3D_norm_minmax_2_6 pipeline\n",
      "[=============================================     ] 90.07%\n",
      "Testing pipeline_3D_norm_minmax_2_7 pipeline\n",
      "[=============================================     ] 90.18%\n",
      "Testing pipeline_3D_norm_minmax_2_8 pipeline\n",
      "[=============================================     ] 90.29%\n",
      "Testing pipeline_3D_norm_minmax_2_9 pipeline\n",
      "[=============================================     ] 90.40%\n",
      "Testing pipeline_3D_norm_minmax_2_10 pipeline\n",
      "[=============================================     ] 90.51%\n",
      "Testing pipeline_3D_norm_minmax_2_11 pipeline\n",
      "[=============================================     ] 90.62%\n",
      "Testing pipeline_3D_norm_minmax_2_12 pipeline\n",
      "[=============================================     ] 90.74%\n",
      "Testing pipeline_3D_norm_minmax_2_13 pipeline\n",
      "[=============================================     ] 90.85%\n",
      "Testing pipeline_3D_norm_minmax_2_14 pipeline\n",
      "[=============================================     ] 90.96%\n",
      "Testing pipeline_3D_norm_minmax_2_15 pipeline\n",
      "[=============================================     ] 91.07%\n",
      "Testing pipeline_3D_norm_minmax_3_0 pipeline\n",
      "[=============================================     ] 91.18%\n",
      "Testing pipeline_3D_norm_minmax_3_1 pipeline\n",
      "[=============================================     ] 91.29%\n",
      "Testing pipeline_3D_norm_minmax_3_2 pipeline\n",
      "[=============================================     ] 91.41%\n",
      "Testing pipeline_3D_norm_minmax_3_3 pipeline\n",
      "[=============================================     ] 91.52%\n",
      "Testing pipeline_3D_norm_minmax_3_4 pipeline\n",
      "[=============================================     ] 91.63%\n",
      "Testing pipeline_3D_norm_minmax_3_5 pipeline\n",
      "[=============================================     ] 91.74%\n",
      "Testing pipeline_3D_norm_minmax_3_6 pipeline\n",
      "[=============================================     ] 91.85%\n",
      "Testing pipeline_3D_norm_minmax_3_7 pipeline\n",
      "[=============================================     ] 91.96%\n",
      "Testing pipeline_3D_norm_minmax_3_8 pipeline\n",
      "[==============================================    ] 92.08%\n",
      "Testing pipeline_3D_norm_minmax_3_9 pipeline\n",
      "[==============================================    ] 92.19%\n",
      "Testing pipeline_3D_norm_minmax_3_10 pipeline\n",
      "[==============================================    ] 92.30%\n",
      "Testing pipeline_3D_norm_minmax_3_11 pipeline\n",
      "[==============================================    ] 92.41%\n",
      "Testing pipeline_3D_norm_minmax_3_12 pipeline\n",
      "[==============================================    ] 92.52%\n",
      "Testing pipeline_3D_norm_minmax_3_13 pipeline\n",
      "[==============================================    ] 92.63%\n",
      "Testing pipeline_3D_norm_minmax_3_14 pipeline\n",
      "[==============================================    ] 92.75%\n",
      "Testing pipeline_3D_norm_minmax_3_15 pipeline\n",
      "[==============================================    ] 92.86%\n",
      "Testing pipeline_3D_norm_percentile_0_0 pipeline\n",
      "[==============================================    ] 92.97%\n",
      "Testing pipeline_3D_norm_percentile_0_1 pipeline\n",
      "[==============================================    ] 93.08%\n",
      "Testing pipeline_3D_norm_percentile_0_2 pipeline\n",
      "[==============================================    ] 93.19%\n",
      "Testing pipeline_3D_norm_percentile_0_3 pipeline\n",
      "[==============================================    ] 93.30%\n",
      "Testing pipeline_3D_norm_percentile_0_4 pipeline\n",
      "[==============================================    ] 93.42%\n",
      "Testing pipeline_3D_norm_percentile_0_5 pipeline\n",
      "[==============================================    ] 93.53%\n",
      "Testing pipeline_3D_norm_percentile_0_6 pipeline\n",
      "[==============================================    ] 93.64%\n",
      "Testing pipeline_3D_norm_percentile_0_7 pipeline\n",
      "[==============================================    ] 93.75%\n",
      "Testing pipeline_3D_norm_percentile_0_8 pipeline\n",
      "[==============================================    ] 93.86%\n",
      "Testing pipeline_3D_norm_percentile_0_9 pipeline\n",
      "[==============================================    ] 93.97%\n",
      "Testing pipeline_3D_norm_percentile_0_10 pipeline\n",
      "[===============================================   ] 94.08%\n",
      "Testing pipeline_3D_norm_percentile_0_11 pipeline\n",
      "[===============================================   ] 94.20%\n",
      "Testing pipeline_3D_norm_percentile_0_12 pipeline\n",
      "[===============================================   ] 94.31%\n",
      "Testing pipeline_3D_norm_percentile_0_13 pipeline\n",
      "[===============================================   ] 94.42%\n",
      "Testing pipeline_3D_norm_percentile_0_14 pipeline\n",
      "[===============================================   ] 94.53%\n",
      "Testing pipeline_3D_norm_percentile_0_15 pipeline\n",
      "[===============================================   ] 94.64%\n",
      "Testing pipeline_3D_norm_percentile_1_0 pipeline\n",
      "[===============================================   ] 94.75%\n",
      "Testing pipeline_3D_norm_percentile_1_1 pipeline\n",
      "[===============================================   ] 94.87%\n",
      "Testing pipeline_3D_norm_percentile_1_2 pipeline\n",
      "[===============================================   ] 94.98%\n",
      "Testing pipeline_3D_norm_percentile_1_3 pipeline\n",
      "[===============================================   ] 95.09%\n",
      "Testing pipeline_3D_norm_percentile_1_4 pipeline\n",
      "[===============================================   ] 95.20%\n",
      "Testing pipeline_3D_norm_percentile_1_5 pipeline\n",
      "[===============================================   ] 95.31%\n",
      "Testing pipeline_3D_norm_percentile_1_6 pipeline\n",
      "[===============================================   ] 95.42%\n",
      "Testing pipeline_3D_norm_percentile_1_7 pipeline\n",
      "[===============================================   ] 95.54%\n",
      "Testing pipeline_3D_norm_percentile_1_8 pipeline\n",
      "[===============================================   ] 95.65%\n",
      "Testing pipeline_3D_norm_percentile_1_9 pipeline\n",
      "[===============================================   ] 95.76%\n",
      "Testing pipeline_3D_norm_percentile_1_10 pipeline\n",
      "[===============================================   ] 95.87%\n",
      "Testing pipeline_3D_norm_percentile_1_11 pipeline\n",
      "[===============================================   ] 95.98%\n",
      "Testing pipeline_3D_norm_percentile_1_12 pipeline\n",
      "[================================================  ] 96.09%\n",
      "Testing pipeline_3D_norm_percentile_1_13 pipeline\n",
      "[================================================  ] 96.21%\n",
      "Testing pipeline_3D_norm_percentile_1_14 pipeline\n",
      "[================================================  ] 96.32%\n",
      "Testing pipeline_3D_norm_percentile_1_15 pipeline\n",
      "[================================================  ] 96.43%\n",
      "Testing pipeline_3D_norm_percentile_2_0 pipeline\n",
      "[================================================  ] 96.54%\n",
      "Testing pipeline_3D_norm_percentile_2_1 pipeline\n",
      "[================================================  ] 96.65%\n",
      "Testing pipeline_3D_norm_percentile_2_2 pipeline\n",
      "[================================================  ] 96.76%\n",
      "Testing pipeline_3D_norm_percentile_2_3 pipeline\n",
      "[================================================  ] 96.88%\n",
      "Testing pipeline_3D_norm_percentile_2_4 pipeline\n",
      "[================================================  ] 96.99%\n",
      "Testing pipeline_3D_norm_percentile_2_5 pipeline\n",
      "[================================================  ] 97.10%\n",
      "Testing pipeline_3D_norm_percentile_2_6 pipeline\n",
      "[================================================  ] 97.21%\n",
      "Testing pipeline_3D_norm_percentile_2_7 pipeline\n",
      "[================================================  ] 97.32%\n",
      "Testing pipeline_3D_norm_percentile_2_8 pipeline\n",
      "[================================================  ] 97.43%\n",
      "Testing pipeline_3D_norm_percentile_2_9 pipeline\n",
      "[================================================  ] 97.54%\n",
      "Testing pipeline_3D_norm_percentile_2_10 pipeline\n",
      "[================================================  ] 97.66%\n",
      "Testing pipeline_3D_norm_percentile_2_11 pipeline\n",
      "[================================================  ] 97.77%\n",
      "Testing pipeline_3D_norm_percentile_2_12 pipeline\n",
      "[================================================  ] 97.88%\n",
      "Testing pipeline_3D_norm_percentile_2_13 pipeline\n",
      "[================================================  ] 97.99%\n",
      "Testing pipeline_3D_norm_percentile_2_14 pipeline\n",
      "[================================================= ] 98.10%\n",
      "Testing pipeline_3D_norm_percentile_2_15 pipeline\n",
      "[================================================= ] 98.21%\n",
      "Testing pipeline_3D_norm_percentile_3_0 pipeline\n",
      "[================================================= ] 98.33%\n",
      "Testing pipeline_3D_norm_percentile_3_1 pipeline\n",
      "[================================================= ] 98.44%\n",
      "Testing pipeline_3D_norm_percentile_3_2 pipeline\n",
      "[================================================= ] 98.55%\n",
      "Testing pipeline_3D_norm_percentile_3_3 pipeline\n",
      "[================================================= ] 98.66%\n",
      "Testing pipeline_3D_norm_percentile_3_4 pipeline\n",
      "[================================================= ] 98.77%\n",
      "Testing pipeline_3D_norm_percentile_3_5 pipeline\n",
      "[================================================= ] 98.88%\n",
      "Testing pipeline_3D_norm_percentile_3_6 pipeline\n",
      "[================================================= ] 99.00%\n",
      "Testing pipeline_3D_norm_percentile_3_7 pipeline\n",
      "[================================================= ] 99.11%\n",
      "Testing pipeline_3D_norm_percentile_3_8 pipeline\n",
      "[================================================= ] 99.22%\n",
      "Testing pipeline_3D_norm_percentile_3_9 pipeline\n",
      "[================================================= ] 99.33%\n",
      "Testing pipeline_3D_norm_percentile_3_10 pipeline\n",
      "[================================================= ] 99.44%\n",
      "Testing pipeline_3D_norm_percentile_3_11 pipeline\n",
      "[================================================= ] 99.55%\n",
      "Testing pipeline_3D_norm_percentile_3_12 pipeline\n",
      "[================================================= ] 99.67%\n",
      "Testing pipeline_3D_norm_percentile_3_13 pipeline\n",
      "[================================================= ] 99.78%\n",
      "Testing pipeline_3D_norm_percentile_3_14 pipeline\n",
      "[================================================= ] 99.89%\n",
      "Testing pipeline_3D_norm_percentile_3_15 pipeline\n",
      "[==================================================] 100.00%\n"
     ]
    }
   ],
   "execution_count": 8
  },
  {
   "metadata": {},
   "cell_type": "code",
   "outputs": [],
   "execution_count": null,
   "source": "",
   "id": "706ef083b8dca7b6"
  }
 ],
 "metadata": {
  "kernelspec": {
   "display_name": "Python 3",
   "language": "python",
   "name": "python3"
  },
  "language_info": {
   "codemirror_mode": {
    "name": "ipython",
    "version": 2
   },
   "file_extension": ".py",
   "mimetype": "text/x-python",
   "name": "python",
   "nbconvert_exporter": "python",
   "pygments_lexer": "ipython2",
   "version": "2.7.6"
  }
 },
 "nbformat": 4,
 "nbformat_minor": 5
}
