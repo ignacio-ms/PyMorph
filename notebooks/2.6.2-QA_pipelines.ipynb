{
 "cells": [
  {
   "cell_type": "code",
   "id": "initial_id",
   "metadata": {
    "collapsed": true,
    "ExecuteTime": {
     "end_time": "2024-10-08T09:24:23.592836Z",
     "start_time": "2024-10-08T09:24:17.220578Z"
    }
   },
   "source": [
    "import numpy as np\n",
    "import matplotlib.pyplot as plt\n",
    "import pandas as pd\n",
    "\n",
    "from auxiliary import values as v\n",
    "from auxiliary.data import imaging\n",
    "from auxiliary.utils.timer import LoadingBar\n",
    "\n",
    "from nuclei_segmentation import my_cellpose\n",
    "from nuclei_segmentation.quality_control.model_tester import ModelTester"
   ],
   "outputs": [
    {
     "name": "stdout",
     "output_type": "stream",
     "text": [
      "GPU activated: True\n"
     ]
    }
   ],
   "execution_count": 1
  },
  {
   "metadata": {
    "ExecuteTime": {
     "end_time": "2024-10-08T09:24:23.597855Z",
     "start_time": "2024-10-08T09:24:23.594314Z"
    }
   },
   "cell_type": "code",
   "source": [
    "# v.data_path = '/mnt/c/Users/ignac/OneDrive/Nacho/CNIC/TFM/Data/'\n",
    "\n",
    "img_path = (\n",
    "        v.data_path \n",
    "        + 'SegQA/RawImages/Nuclei/QC_CROP/20190208_E2_DAPI_decon_0.5_crop.nii.gz'\n",
    ")"
   ],
   "id": "208203db7dd99579",
   "outputs": [],
   "execution_count": 2
  },
  {
   "metadata": {},
   "cell_type": "markdown",
   "source": "Grid search into preprocessing steps ",
   "id": "d7697f3b3a2855bf"
  },
  {
   "metadata": {
    "ExecuteTime": {
     "end_time": "2024-10-08T09:24:23.612502Z",
     "start_time": "2024-10-08T09:24:23.598901Z"
    }
   },
   "cell_type": "code",
   "source": [
    "from itertools import permutations, chain\n",
    "import numpy as np\n",
    "\n",
    "# Cellpose params\n",
    "steps_type = ['3D', '2D']\n",
    "steps_thr = list(np.round(np.linspace(.2, .6, 6), 1))\n",
    "steps_prob_thr = list(np.round(np.linspace(0, .4, 4), 1))\n",
    "steps_flow_thr = list(np.round(np.linspace(.2, .6, 4), 1))\n",
    "\n",
    "# Preprocessing steps\n",
    "normalization_methods = ['norm_percentile']\n",
    "pre_steps_top = ['isotropy']\n",
    "pre_steps_bottom = [\n",
    "    'bilateral',\n",
    "    'anisodiff'\n",
    "]\n",
    "\n",
    "pre_steps_permutations = list(chain(*[\n",
    "    permutations(pre_steps_bottom, r)\n",
    "    for r in range(1, len(pre_steps_bottom) + 1)\n",
    "])) + [()]\n",
    "\n",
    "# Postprocessing steps\n",
    "post_steps_2d = [\n",
    "    'merge_connected_components',\n",
    "    'merge_graph',\n",
    "    'clean_boundaries_opening',\n",
    "] + [()]\n",
    "\n",
    "post_steps_3d = [\n",
    "    'split',\n",
    "    'clean_boundaries_opening',\n",
    "    'clean_boundaries_closing',\n",
    "]\n",
    "\n",
    "# Generate permutations of post-processing steps for 3D, excluding combinations with both 'clean_boundaries_opening' and 'clean_boundaries_closing'\n",
    "post_steps_permutations_3d = [\n",
    "    p for p in chain(*[\n",
    "        permutations(post_steps_3d, r)\n",
    "        for r in range(1, len(post_steps_3d) + 1)\n",
    "    ]) \n",
    "    if not ('clean_boundaries_opening' in p and 'clean_boundaries_closing' in p)\n",
    "] + [()]\n",
    "\n",
    "pipelines_dict = {}\n",
    "\n",
    "# Create pipelines for each type (2D/3D)\n",
    "for step in steps_type:\n",
    "    # Apply threshold only for 2D\n",
    "    if step == '2D':\n",
    "        for thr in steps_thr:\n",
    "            for flow in steps_flow_thr:\n",
    "                for norm_method in normalization_methods:\n",
    "                    for i, pre_steps in enumerate(pre_steps_permutations):\n",
    "                        for j, post_steps in enumerate(post_steps_2d):\n",
    "                            pipeline_pre = pre_steps_top + [norm_method] + list(pre_steps)\n",
    "                            pipeline = pipeline_pre + [post_steps]\n",
    "\n",
    "                            # Include threshold for 2D pipelines\n",
    "                            name = f\"pipeline_{step}_thr_{thr}_flow_{flow}_{i}_{j}\"\n",
    "                            pipelines_dict[name] = {\n",
    "                                'pipeline': pipeline,\n",
    "                                'type': step,\n",
    "                                'threshold': thr\n",
    "                            }\n",
    "    else:  # For 3D pipelines, ignore thresholds\n",
    "        for norm_method in normalization_methods:\n",
    "            for prob_t in steps_prob_thr:\n",
    "                for flow in steps_flow_thr:\n",
    "                    for i, pre_steps in enumerate(pre_steps_permutations):\n",
    "                        for j, post_steps in enumerate(post_steps_permutations_3d):\n",
    "                            pipeline_pre = pre_steps_top + [norm_method] + list(pre_steps)\n",
    "                            pipeline = pipeline_pre + list(post_steps)\n",
    "\n",
    "                            # No threshold for 3D pipelines\n",
    "                            name = f\"pipeline_{step}_prob_{prob_t}_flow_{flow}_{i}_{j}\"\n",
    "                            pipelines_dict[name] = {\n",
    "                                'pipeline': pipeline,\n",
    "                                'type': step,\n",
    "                                'prob_threshold': prob_t\n",
    "                            }\n",
    "\n",
    "print('Total pipelines:', len(pipelines_dict))\n"
   ],
   "id": "ce211f6b3d8fb2d3",
   "outputs": [
    {
     "name": "stdout",
     "output_type": "stream",
     "text": [
      "Total pipelines: 1040\n"
     ]
    }
   ],
   "execution_count": 3
  },
  {
   "metadata": {
    "ExecuteTime": {
     "end_time": "2024-10-08T09:24:23.694092Z",
     "start_time": "2024-10-08T09:24:23.613522Z"
    }
   },
   "cell_type": "code",
   "source": "pipelines_dict",
   "id": "4f257f29abc50d4e",
   "outputs": [
    {
     "data": {
      "text/plain": [
       "{'pipeline_3D_prob_0.0_flow_0.2_0_0': {'pipeline': ['isotropy',\n",
       "   'norm_percentile',\n",
       "   'bilateral',\n",
       "   'split'],\n",
       "  'type': '3D',\n",
       "  'prob_threshold': 0.0},\n",
       " 'pipeline_3D_prob_0.0_flow_0.2_0_1': {'pipeline': ['isotropy',\n",
       "   'norm_percentile',\n",
       "   'bilateral',\n",
       "   'clean_boundaries_opening'],\n",
       "  'type': '3D',\n",
       "  'prob_threshold': 0.0},\n",
       " 'pipeline_3D_prob_0.0_flow_0.2_0_2': {'pipeline': ['isotropy',\n",
       "   'norm_percentile',\n",
       "   'bilateral',\n",
       "   'clean_boundaries_closing'],\n",
       "  'type': '3D',\n",
       "  'prob_threshold': 0.0},\n",
       " 'pipeline_3D_prob_0.0_flow_0.2_0_3': {'pipeline': ['isotropy',\n",
       "   'norm_percentile',\n",
       "   'bilateral',\n",
       "   'split',\n",
       "   'clean_boundaries_opening'],\n",
       "  'type': '3D',\n",
       "  'prob_threshold': 0.0},\n",
       " 'pipeline_3D_prob_0.0_flow_0.2_0_4': {'pipeline': ['isotropy',\n",
       "   'norm_percentile',\n",
       "   'bilateral',\n",
       "   'split',\n",
       "   'clean_boundaries_closing'],\n",
       "  'type': '3D',\n",
       "  'prob_threshold': 0.0},\n",
       " 'pipeline_3D_prob_0.0_flow_0.2_0_5': {'pipeline': ['isotropy',\n",
       "   'norm_percentile',\n",
       "   'bilateral',\n",
       "   'clean_boundaries_opening',\n",
       "   'split'],\n",
       "  'type': '3D',\n",
       "  'prob_threshold': 0.0},\n",
       " 'pipeline_3D_prob_0.0_flow_0.2_0_6': {'pipeline': ['isotropy',\n",
       "   'norm_percentile',\n",
       "   'bilateral',\n",
       "   'clean_boundaries_closing',\n",
       "   'split'],\n",
       "  'type': '3D',\n",
       "  'prob_threshold': 0.0},\n",
       " 'pipeline_3D_prob_0.0_flow_0.2_0_7': {'pipeline': ['isotropy',\n",
       "   'norm_percentile',\n",
       "   'bilateral'],\n",
       "  'type': '3D',\n",
       "  'prob_threshold': 0.0},\n",
       " 'pipeline_3D_prob_0.0_flow_0.2_1_0': {'pipeline': ['isotropy',\n",
       "   'norm_percentile',\n",
       "   'anisodiff',\n",
       "   'split'],\n",
       "  'type': '3D',\n",
       "  'prob_threshold': 0.0},\n",
       " 'pipeline_3D_prob_0.0_flow_0.2_1_1': {'pipeline': ['isotropy',\n",
       "   'norm_percentile',\n",
       "   'anisodiff',\n",
       "   'clean_boundaries_opening'],\n",
       "  'type': '3D',\n",
       "  'prob_threshold': 0.0},\n",
       " 'pipeline_3D_prob_0.0_flow_0.2_1_2': {'pipeline': ['isotropy',\n",
       "   'norm_percentile',\n",
       "   'anisodiff',\n",
       "   'clean_boundaries_closing'],\n",
       "  'type': '3D',\n",
       "  'prob_threshold': 0.0},\n",
       " 'pipeline_3D_prob_0.0_flow_0.2_1_3': {'pipeline': ['isotropy',\n",
       "   'norm_percentile',\n",
       "   'anisodiff',\n",
       "   'split',\n",
       "   'clean_boundaries_opening'],\n",
       "  'type': '3D',\n",
       "  'prob_threshold': 0.0},\n",
       " 'pipeline_3D_prob_0.0_flow_0.2_1_4': {'pipeline': ['isotropy',\n",
       "   'norm_percentile',\n",
       "   'anisodiff',\n",
       "   'split',\n",
       "   'clean_boundaries_closing'],\n",
       "  'type': '3D',\n",
       "  'prob_threshold': 0.0},\n",
       " 'pipeline_3D_prob_0.0_flow_0.2_1_5': {'pipeline': ['isotropy',\n",
       "   'norm_percentile',\n",
       "   'anisodiff',\n",
       "   'clean_boundaries_opening',\n",
       "   'split'],\n",
       "  'type': '3D',\n",
       "  'prob_threshold': 0.0},\n",
       " 'pipeline_3D_prob_0.0_flow_0.2_1_6': {'pipeline': ['isotropy',\n",
       "   'norm_percentile',\n",
       "   'anisodiff',\n",
       "   'clean_boundaries_closing',\n",
       "   'split'],\n",
       "  'type': '3D',\n",
       "  'prob_threshold': 0.0},\n",
       " 'pipeline_3D_prob_0.0_flow_0.2_1_7': {'pipeline': ['isotropy',\n",
       "   'norm_percentile',\n",
       "   'anisodiff'],\n",
       "  'type': '3D',\n",
       "  'prob_threshold': 0.0},\n",
       " 'pipeline_3D_prob_0.0_flow_0.2_2_0': {'pipeline': ['isotropy',\n",
       "   'norm_percentile',\n",
       "   'bilateral',\n",
       "   'anisodiff',\n",
       "   'split'],\n",
       "  'type': '3D',\n",
       "  'prob_threshold': 0.0},\n",
       " 'pipeline_3D_prob_0.0_flow_0.2_2_1': {'pipeline': ['isotropy',\n",
       "   'norm_percentile',\n",
       "   'bilateral',\n",
       "   'anisodiff',\n",
       "   'clean_boundaries_opening'],\n",
       "  'type': '3D',\n",
       "  'prob_threshold': 0.0},\n",
       " 'pipeline_3D_prob_0.0_flow_0.2_2_2': {'pipeline': ['isotropy',\n",
       "   'norm_percentile',\n",
       "   'bilateral',\n",
       "   'anisodiff',\n",
       "   'clean_boundaries_closing'],\n",
       "  'type': '3D',\n",
       "  'prob_threshold': 0.0},\n",
       " 'pipeline_3D_prob_0.0_flow_0.2_2_3': {'pipeline': ['isotropy',\n",
       "   'norm_percentile',\n",
       "   'bilateral',\n",
       "   'anisodiff',\n",
       "   'split',\n",
       "   'clean_boundaries_opening'],\n",
       "  'type': '3D',\n",
       "  'prob_threshold': 0.0},\n",
       " 'pipeline_3D_prob_0.0_flow_0.2_2_4': {'pipeline': ['isotropy',\n",
       "   'norm_percentile',\n",
       "   'bilateral',\n",
       "   'anisodiff',\n",
       "   'split',\n",
       "   'clean_boundaries_closing'],\n",
       "  'type': '3D',\n",
       "  'prob_threshold': 0.0},\n",
       " 'pipeline_3D_prob_0.0_flow_0.2_2_5': {'pipeline': ['isotropy',\n",
       "   'norm_percentile',\n",
       "   'bilateral',\n",
       "   'anisodiff',\n",
       "   'clean_boundaries_opening',\n",
       "   'split'],\n",
       "  'type': '3D',\n",
       "  'prob_threshold': 0.0},\n",
       " 'pipeline_3D_prob_0.0_flow_0.2_2_6': {'pipeline': ['isotropy',\n",
       "   'norm_percentile',\n",
       "   'bilateral',\n",
       "   'anisodiff',\n",
       "   'clean_boundaries_closing',\n",
       "   'split'],\n",
       "  'type': '3D',\n",
       "  'prob_threshold': 0.0},\n",
       " 'pipeline_3D_prob_0.0_flow_0.2_2_7': {'pipeline': ['isotropy',\n",
       "   'norm_percentile',\n",
       "   'bilateral',\n",
       "   'anisodiff'],\n",
       "  'type': '3D',\n",
       "  'prob_threshold': 0.0},\n",
       " 'pipeline_3D_prob_0.0_flow_0.2_3_0': {'pipeline': ['isotropy',\n",
       "   'norm_percentile',\n",
       "   'anisodiff',\n",
       "   'bilateral',\n",
       "   'split'],\n",
       "  'type': '3D',\n",
       "  'prob_threshold': 0.0},\n",
       " 'pipeline_3D_prob_0.0_flow_0.2_3_1': {'pipeline': ['isotropy',\n",
       "   'norm_percentile',\n",
       "   'anisodiff',\n",
       "   'bilateral',\n",
       "   'clean_boundaries_opening'],\n",
       "  'type': '3D',\n",
       "  'prob_threshold': 0.0},\n",
       " 'pipeline_3D_prob_0.0_flow_0.2_3_2': {'pipeline': ['isotropy',\n",
       "   'norm_percentile',\n",
       "   'anisodiff',\n",
       "   'bilateral',\n",
       "   'clean_boundaries_closing'],\n",
       "  'type': '3D',\n",
       "  'prob_threshold': 0.0},\n",
       " 'pipeline_3D_prob_0.0_flow_0.2_3_3': {'pipeline': ['isotropy',\n",
       "   'norm_percentile',\n",
       "   'anisodiff',\n",
       "   'bilateral',\n",
       "   'split',\n",
       "   'clean_boundaries_opening'],\n",
       "  'type': '3D',\n",
       "  'prob_threshold': 0.0},\n",
       " 'pipeline_3D_prob_0.0_flow_0.2_3_4': {'pipeline': ['isotropy',\n",
       "   'norm_percentile',\n",
       "   'anisodiff',\n",
       "   'bilateral',\n",
       "   'split',\n",
       "   'clean_boundaries_closing'],\n",
       "  'type': '3D',\n",
       "  'prob_threshold': 0.0},\n",
       " 'pipeline_3D_prob_0.0_flow_0.2_3_5': {'pipeline': ['isotropy',\n",
       "   'norm_percentile',\n",
       "   'anisodiff',\n",
       "   'bilateral',\n",
       "   'clean_boundaries_opening',\n",
       "   'split'],\n",
       "  'type': '3D',\n",
       "  'prob_threshold': 0.0},\n",
       " 'pipeline_3D_prob_0.0_flow_0.2_3_6': {'pipeline': ['isotropy',\n",
       "   'norm_percentile',\n",
       "   'anisodiff',\n",
       "   'bilateral',\n",
       "   'clean_boundaries_closing',\n",
       "   'split'],\n",
       "  'type': '3D',\n",
       "  'prob_threshold': 0.0},\n",
       " 'pipeline_3D_prob_0.0_flow_0.2_3_7': {'pipeline': ['isotropy',\n",
       "   'norm_percentile',\n",
       "   'anisodiff',\n",
       "   'bilateral'],\n",
       "  'type': '3D',\n",
       "  'prob_threshold': 0.0},\n",
       " 'pipeline_3D_prob_0.0_flow_0.2_4_0': {'pipeline': ['isotropy',\n",
       "   'norm_percentile',\n",
       "   'split'],\n",
       "  'type': '3D',\n",
       "  'prob_threshold': 0.0},\n",
       " 'pipeline_3D_prob_0.0_flow_0.2_4_1': {'pipeline': ['isotropy',\n",
       "   'norm_percentile',\n",
       "   'clean_boundaries_opening'],\n",
       "  'type': '3D',\n",
       "  'prob_threshold': 0.0},\n",
       " 'pipeline_3D_prob_0.0_flow_0.2_4_2': {'pipeline': ['isotropy',\n",
       "   'norm_percentile',\n",
       "   'clean_boundaries_closing'],\n",
       "  'type': '3D',\n",
       "  'prob_threshold': 0.0},\n",
       " 'pipeline_3D_prob_0.0_flow_0.2_4_3': {'pipeline': ['isotropy',\n",
       "   'norm_percentile',\n",
       "   'split',\n",
       "   'clean_boundaries_opening'],\n",
       "  'type': '3D',\n",
       "  'prob_threshold': 0.0},\n",
       " 'pipeline_3D_prob_0.0_flow_0.2_4_4': {'pipeline': ['isotropy',\n",
       "   'norm_percentile',\n",
       "   'split',\n",
       "   'clean_boundaries_closing'],\n",
       "  'type': '3D',\n",
       "  'prob_threshold': 0.0},\n",
       " 'pipeline_3D_prob_0.0_flow_0.2_4_5': {'pipeline': ['isotropy',\n",
       "   'norm_percentile',\n",
       "   'clean_boundaries_opening',\n",
       "   'split'],\n",
       "  'type': '3D',\n",
       "  'prob_threshold': 0.0},\n",
       " 'pipeline_3D_prob_0.0_flow_0.2_4_6': {'pipeline': ['isotropy',\n",
       "   'norm_percentile',\n",
       "   'clean_boundaries_closing',\n",
       "   'split'],\n",
       "  'type': '3D',\n",
       "  'prob_threshold': 0.0},\n",
       " 'pipeline_3D_prob_0.0_flow_0.2_4_7': {'pipeline': ['isotropy',\n",
       "   'norm_percentile'],\n",
       "  'type': '3D',\n",
       "  'prob_threshold': 0.0},\n",
       " 'pipeline_3D_prob_0.0_flow_0.3_0_0': {'pipeline': ['isotropy',\n",
       "   'norm_percentile',\n",
       "   'bilateral',\n",
       "   'split'],\n",
       "  'type': '3D',\n",
       "  'prob_threshold': 0.0},\n",
       " 'pipeline_3D_prob_0.0_flow_0.3_0_1': {'pipeline': ['isotropy',\n",
       "   'norm_percentile',\n",
       "   'bilateral',\n",
       "   'clean_boundaries_opening'],\n",
       "  'type': '3D',\n",
       "  'prob_threshold': 0.0},\n",
       " 'pipeline_3D_prob_0.0_flow_0.3_0_2': {'pipeline': ['isotropy',\n",
       "   'norm_percentile',\n",
       "   'bilateral',\n",
       "   'clean_boundaries_closing'],\n",
       "  'type': '3D',\n",
       "  'prob_threshold': 0.0},\n",
       " 'pipeline_3D_prob_0.0_flow_0.3_0_3': {'pipeline': ['isotropy',\n",
       "   'norm_percentile',\n",
       "   'bilateral',\n",
       "   'split',\n",
       "   'clean_boundaries_opening'],\n",
       "  'type': '3D',\n",
       "  'prob_threshold': 0.0},\n",
       " 'pipeline_3D_prob_0.0_flow_0.3_0_4': {'pipeline': ['isotropy',\n",
       "   'norm_percentile',\n",
       "   'bilateral',\n",
       "   'split',\n",
       "   'clean_boundaries_closing'],\n",
       "  'type': '3D',\n",
       "  'prob_threshold': 0.0},\n",
       " 'pipeline_3D_prob_0.0_flow_0.3_0_5': {'pipeline': ['isotropy',\n",
       "   'norm_percentile',\n",
       "   'bilateral',\n",
       "   'clean_boundaries_opening',\n",
       "   'split'],\n",
       "  'type': '3D',\n",
       "  'prob_threshold': 0.0},\n",
       " 'pipeline_3D_prob_0.0_flow_0.3_0_6': {'pipeline': ['isotropy',\n",
       "   'norm_percentile',\n",
       "   'bilateral',\n",
       "   'clean_boundaries_closing',\n",
       "   'split'],\n",
       "  'type': '3D',\n",
       "  'prob_threshold': 0.0},\n",
       " 'pipeline_3D_prob_0.0_flow_0.3_0_7': {'pipeline': ['isotropy',\n",
       "   'norm_percentile',\n",
       "   'bilateral'],\n",
       "  'type': '3D',\n",
       "  'prob_threshold': 0.0},\n",
       " 'pipeline_3D_prob_0.0_flow_0.3_1_0': {'pipeline': ['isotropy',\n",
       "   'norm_percentile',\n",
       "   'anisodiff',\n",
       "   'split'],\n",
       "  'type': '3D',\n",
       "  'prob_threshold': 0.0},\n",
       " 'pipeline_3D_prob_0.0_flow_0.3_1_1': {'pipeline': ['isotropy',\n",
       "   'norm_percentile',\n",
       "   'anisodiff',\n",
       "   'clean_boundaries_opening'],\n",
       "  'type': '3D',\n",
       "  'prob_threshold': 0.0},\n",
       " 'pipeline_3D_prob_0.0_flow_0.3_1_2': {'pipeline': ['isotropy',\n",
       "   'norm_percentile',\n",
       "   'anisodiff',\n",
       "   'clean_boundaries_closing'],\n",
       "  'type': '3D',\n",
       "  'prob_threshold': 0.0},\n",
       " 'pipeline_3D_prob_0.0_flow_0.3_1_3': {'pipeline': ['isotropy',\n",
       "   'norm_percentile',\n",
       "   'anisodiff',\n",
       "   'split',\n",
       "   'clean_boundaries_opening'],\n",
       "  'type': '3D',\n",
       "  'prob_threshold': 0.0},\n",
       " 'pipeline_3D_prob_0.0_flow_0.3_1_4': {'pipeline': ['isotropy',\n",
       "   'norm_percentile',\n",
       "   'anisodiff',\n",
       "   'split',\n",
       "   'clean_boundaries_closing'],\n",
       "  'type': '3D',\n",
       "  'prob_threshold': 0.0},\n",
       " 'pipeline_3D_prob_0.0_flow_0.3_1_5': {'pipeline': ['isotropy',\n",
       "   'norm_percentile',\n",
       "   'anisodiff',\n",
       "   'clean_boundaries_opening',\n",
       "   'split'],\n",
       "  'type': '3D',\n",
       "  'prob_threshold': 0.0},\n",
       " 'pipeline_3D_prob_0.0_flow_0.3_1_6': {'pipeline': ['isotropy',\n",
       "   'norm_percentile',\n",
       "   'anisodiff',\n",
       "   'clean_boundaries_closing',\n",
       "   'split'],\n",
       "  'type': '3D',\n",
       "  'prob_threshold': 0.0},\n",
       " 'pipeline_3D_prob_0.0_flow_0.3_1_7': {'pipeline': ['isotropy',\n",
       "   'norm_percentile',\n",
       "   'anisodiff'],\n",
       "  'type': '3D',\n",
       "  'prob_threshold': 0.0},\n",
       " 'pipeline_3D_prob_0.0_flow_0.3_2_0': {'pipeline': ['isotropy',\n",
       "   'norm_percentile',\n",
       "   'bilateral',\n",
       "   'anisodiff',\n",
       "   'split'],\n",
       "  'type': '3D',\n",
       "  'prob_threshold': 0.0},\n",
       " 'pipeline_3D_prob_0.0_flow_0.3_2_1': {'pipeline': ['isotropy',\n",
       "   'norm_percentile',\n",
       "   'bilateral',\n",
       "   'anisodiff',\n",
       "   'clean_boundaries_opening'],\n",
       "  'type': '3D',\n",
       "  'prob_threshold': 0.0},\n",
       " 'pipeline_3D_prob_0.0_flow_0.3_2_2': {'pipeline': ['isotropy',\n",
       "   'norm_percentile',\n",
       "   'bilateral',\n",
       "   'anisodiff',\n",
       "   'clean_boundaries_closing'],\n",
       "  'type': '3D',\n",
       "  'prob_threshold': 0.0},\n",
       " 'pipeline_3D_prob_0.0_flow_0.3_2_3': {'pipeline': ['isotropy',\n",
       "   'norm_percentile',\n",
       "   'bilateral',\n",
       "   'anisodiff',\n",
       "   'split',\n",
       "   'clean_boundaries_opening'],\n",
       "  'type': '3D',\n",
       "  'prob_threshold': 0.0},\n",
       " 'pipeline_3D_prob_0.0_flow_0.3_2_4': {'pipeline': ['isotropy',\n",
       "   'norm_percentile',\n",
       "   'bilateral',\n",
       "   'anisodiff',\n",
       "   'split',\n",
       "   'clean_boundaries_closing'],\n",
       "  'type': '3D',\n",
       "  'prob_threshold': 0.0},\n",
       " 'pipeline_3D_prob_0.0_flow_0.3_2_5': {'pipeline': ['isotropy',\n",
       "   'norm_percentile',\n",
       "   'bilateral',\n",
       "   'anisodiff',\n",
       "   'clean_boundaries_opening',\n",
       "   'split'],\n",
       "  'type': '3D',\n",
       "  'prob_threshold': 0.0},\n",
       " 'pipeline_3D_prob_0.0_flow_0.3_2_6': {'pipeline': ['isotropy',\n",
       "   'norm_percentile',\n",
       "   'bilateral',\n",
       "   'anisodiff',\n",
       "   'clean_boundaries_closing',\n",
       "   'split'],\n",
       "  'type': '3D',\n",
       "  'prob_threshold': 0.0},\n",
       " 'pipeline_3D_prob_0.0_flow_0.3_2_7': {'pipeline': ['isotropy',\n",
       "   'norm_percentile',\n",
       "   'bilateral',\n",
       "   'anisodiff'],\n",
       "  'type': '3D',\n",
       "  'prob_threshold': 0.0},\n",
       " 'pipeline_3D_prob_0.0_flow_0.3_3_0': {'pipeline': ['isotropy',\n",
       "   'norm_percentile',\n",
       "   'anisodiff',\n",
       "   'bilateral',\n",
       "   'split'],\n",
       "  'type': '3D',\n",
       "  'prob_threshold': 0.0},\n",
       " 'pipeline_3D_prob_0.0_flow_0.3_3_1': {'pipeline': ['isotropy',\n",
       "   'norm_percentile',\n",
       "   'anisodiff',\n",
       "   'bilateral',\n",
       "   'clean_boundaries_opening'],\n",
       "  'type': '3D',\n",
       "  'prob_threshold': 0.0},\n",
       " 'pipeline_3D_prob_0.0_flow_0.3_3_2': {'pipeline': ['isotropy',\n",
       "   'norm_percentile',\n",
       "   'anisodiff',\n",
       "   'bilateral',\n",
       "   'clean_boundaries_closing'],\n",
       "  'type': '3D',\n",
       "  'prob_threshold': 0.0},\n",
       " 'pipeline_3D_prob_0.0_flow_0.3_3_3': {'pipeline': ['isotropy',\n",
       "   'norm_percentile',\n",
       "   'anisodiff',\n",
       "   'bilateral',\n",
       "   'split',\n",
       "   'clean_boundaries_opening'],\n",
       "  'type': '3D',\n",
       "  'prob_threshold': 0.0},\n",
       " 'pipeline_3D_prob_0.0_flow_0.3_3_4': {'pipeline': ['isotropy',\n",
       "   'norm_percentile',\n",
       "   'anisodiff',\n",
       "   'bilateral',\n",
       "   'split',\n",
       "   'clean_boundaries_closing'],\n",
       "  'type': '3D',\n",
       "  'prob_threshold': 0.0},\n",
       " 'pipeline_3D_prob_0.0_flow_0.3_3_5': {'pipeline': ['isotropy',\n",
       "   'norm_percentile',\n",
       "   'anisodiff',\n",
       "   'bilateral',\n",
       "   'clean_boundaries_opening',\n",
       "   'split'],\n",
       "  'type': '3D',\n",
       "  'prob_threshold': 0.0},\n",
       " 'pipeline_3D_prob_0.0_flow_0.3_3_6': {'pipeline': ['isotropy',\n",
       "   'norm_percentile',\n",
       "   'anisodiff',\n",
       "   'bilateral',\n",
       "   'clean_boundaries_closing',\n",
       "   'split'],\n",
       "  'type': '3D',\n",
       "  'prob_threshold': 0.0},\n",
       " 'pipeline_3D_prob_0.0_flow_0.3_3_7': {'pipeline': ['isotropy',\n",
       "   'norm_percentile',\n",
       "   'anisodiff',\n",
       "   'bilateral'],\n",
       "  'type': '3D',\n",
       "  'prob_threshold': 0.0},\n",
       " 'pipeline_3D_prob_0.0_flow_0.3_4_0': {'pipeline': ['isotropy',\n",
       "   'norm_percentile',\n",
       "   'split'],\n",
       "  'type': '3D',\n",
       "  'prob_threshold': 0.0},\n",
       " 'pipeline_3D_prob_0.0_flow_0.3_4_1': {'pipeline': ['isotropy',\n",
       "   'norm_percentile',\n",
       "   'clean_boundaries_opening'],\n",
       "  'type': '3D',\n",
       "  'prob_threshold': 0.0},\n",
       " 'pipeline_3D_prob_0.0_flow_0.3_4_2': {'pipeline': ['isotropy',\n",
       "   'norm_percentile',\n",
       "   'clean_boundaries_closing'],\n",
       "  'type': '3D',\n",
       "  'prob_threshold': 0.0},\n",
       " 'pipeline_3D_prob_0.0_flow_0.3_4_3': {'pipeline': ['isotropy',\n",
       "   'norm_percentile',\n",
       "   'split',\n",
       "   'clean_boundaries_opening'],\n",
       "  'type': '3D',\n",
       "  'prob_threshold': 0.0},\n",
       " 'pipeline_3D_prob_0.0_flow_0.3_4_4': {'pipeline': ['isotropy',\n",
       "   'norm_percentile',\n",
       "   'split',\n",
       "   'clean_boundaries_closing'],\n",
       "  'type': '3D',\n",
       "  'prob_threshold': 0.0},\n",
       " 'pipeline_3D_prob_0.0_flow_0.3_4_5': {'pipeline': ['isotropy',\n",
       "   'norm_percentile',\n",
       "   'clean_boundaries_opening',\n",
       "   'split'],\n",
       "  'type': '3D',\n",
       "  'prob_threshold': 0.0},\n",
       " 'pipeline_3D_prob_0.0_flow_0.3_4_6': {'pipeline': ['isotropy',\n",
       "   'norm_percentile',\n",
       "   'clean_boundaries_closing',\n",
       "   'split'],\n",
       "  'type': '3D',\n",
       "  'prob_threshold': 0.0},\n",
       " 'pipeline_3D_prob_0.0_flow_0.3_4_7': {'pipeline': ['isotropy',\n",
       "   'norm_percentile'],\n",
       "  'type': '3D',\n",
       "  'prob_threshold': 0.0},\n",
       " 'pipeline_3D_prob_0.0_flow_0.5_0_0': {'pipeline': ['isotropy',\n",
       "   'norm_percentile',\n",
       "   'bilateral',\n",
       "   'split'],\n",
       "  'type': '3D',\n",
       "  'prob_threshold': 0.0},\n",
       " 'pipeline_3D_prob_0.0_flow_0.5_0_1': {'pipeline': ['isotropy',\n",
       "   'norm_percentile',\n",
       "   'bilateral',\n",
       "   'clean_boundaries_opening'],\n",
       "  'type': '3D',\n",
       "  'prob_threshold': 0.0},\n",
       " 'pipeline_3D_prob_0.0_flow_0.5_0_2': {'pipeline': ['isotropy',\n",
       "   'norm_percentile',\n",
       "   'bilateral',\n",
       "   'clean_boundaries_closing'],\n",
       "  'type': '3D',\n",
       "  'prob_threshold': 0.0},\n",
       " 'pipeline_3D_prob_0.0_flow_0.5_0_3': {'pipeline': ['isotropy',\n",
       "   'norm_percentile',\n",
       "   'bilateral',\n",
       "   'split',\n",
       "   'clean_boundaries_opening'],\n",
       "  'type': '3D',\n",
       "  'prob_threshold': 0.0},\n",
       " 'pipeline_3D_prob_0.0_flow_0.5_0_4': {'pipeline': ['isotropy',\n",
       "   'norm_percentile',\n",
       "   'bilateral',\n",
       "   'split',\n",
       "   'clean_boundaries_closing'],\n",
       "  'type': '3D',\n",
       "  'prob_threshold': 0.0},\n",
       " 'pipeline_3D_prob_0.0_flow_0.5_0_5': {'pipeline': ['isotropy',\n",
       "   'norm_percentile',\n",
       "   'bilateral',\n",
       "   'clean_boundaries_opening',\n",
       "   'split'],\n",
       "  'type': '3D',\n",
       "  'prob_threshold': 0.0},\n",
       " 'pipeline_3D_prob_0.0_flow_0.5_0_6': {'pipeline': ['isotropy',\n",
       "   'norm_percentile',\n",
       "   'bilateral',\n",
       "   'clean_boundaries_closing',\n",
       "   'split'],\n",
       "  'type': '3D',\n",
       "  'prob_threshold': 0.0},\n",
       " 'pipeline_3D_prob_0.0_flow_0.5_0_7': {'pipeline': ['isotropy',\n",
       "   'norm_percentile',\n",
       "   'bilateral'],\n",
       "  'type': '3D',\n",
       "  'prob_threshold': 0.0},\n",
       " 'pipeline_3D_prob_0.0_flow_0.5_1_0': {'pipeline': ['isotropy',\n",
       "   'norm_percentile',\n",
       "   'anisodiff',\n",
       "   'split'],\n",
       "  'type': '3D',\n",
       "  'prob_threshold': 0.0},\n",
       " 'pipeline_3D_prob_0.0_flow_0.5_1_1': {'pipeline': ['isotropy',\n",
       "   'norm_percentile',\n",
       "   'anisodiff',\n",
       "   'clean_boundaries_opening'],\n",
       "  'type': '3D',\n",
       "  'prob_threshold': 0.0},\n",
       " 'pipeline_3D_prob_0.0_flow_0.5_1_2': {'pipeline': ['isotropy',\n",
       "   'norm_percentile',\n",
       "   'anisodiff',\n",
       "   'clean_boundaries_closing'],\n",
       "  'type': '3D',\n",
       "  'prob_threshold': 0.0},\n",
       " 'pipeline_3D_prob_0.0_flow_0.5_1_3': {'pipeline': ['isotropy',\n",
       "   'norm_percentile',\n",
       "   'anisodiff',\n",
       "   'split',\n",
       "   'clean_boundaries_opening'],\n",
       "  'type': '3D',\n",
       "  'prob_threshold': 0.0},\n",
       " 'pipeline_3D_prob_0.0_flow_0.5_1_4': {'pipeline': ['isotropy',\n",
       "   'norm_percentile',\n",
       "   'anisodiff',\n",
       "   'split',\n",
       "   'clean_boundaries_closing'],\n",
       "  'type': '3D',\n",
       "  'prob_threshold': 0.0},\n",
       " 'pipeline_3D_prob_0.0_flow_0.5_1_5': {'pipeline': ['isotropy',\n",
       "   'norm_percentile',\n",
       "   'anisodiff',\n",
       "   'clean_boundaries_opening',\n",
       "   'split'],\n",
       "  'type': '3D',\n",
       "  'prob_threshold': 0.0},\n",
       " 'pipeline_3D_prob_0.0_flow_0.5_1_6': {'pipeline': ['isotropy',\n",
       "   'norm_percentile',\n",
       "   'anisodiff',\n",
       "   'clean_boundaries_closing',\n",
       "   'split'],\n",
       "  'type': '3D',\n",
       "  'prob_threshold': 0.0},\n",
       " 'pipeline_3D_prob_0.0_flow_0.5_1_7': {'pipeline': ['isotropy',\n",
       "   'norm_percentile',\n",
       "   'anisodiff'],\n",
       "  'type': '3D',\n",
       "  'prob_threshold': 0.0},\n",
       " 'pipeline_3D_prob_0.0_flow_0.5_2_0': {'pipeline': ['isotropy',\n",
       "   'norm_percentile',\n",
       "   'bilateral',\n",
       "   'anisodiff',\n",
       "   'split'],\n",
       "  'type': '3D',\n",
       "  'prob_threshold': 0.0},\n",
       " 'pipeline_3D_prob_0.0_flow_0.5_2_1': {'pipeline': ['isotropy',\n",
       "   'norm_percentile',\n",
       "   'bilateral',\n",
       "   'anisodiff',\n",
       "   'clean_boundaries_opening'],\n",
       "  'type': '3D',\n",
       "  'prob_threshold': 0.0},\n",
       " 'pipeline_3D_prob_0.0_flow_0.5_2_2': {'pipeline': ['isotropy',\n",
       "   'norm_percentile',\n",
       "   'bilateral',\n",
       "   'anisodiff',\n",
       "   'clean_boundaries_closing'],\n",
       "  'type': '3D',\n",
       "  'prob_threshold': 0.0},\n",
       " 'pipeline_3D_prob_0.0_flow_0.5_2_3': {'pipeline': ['isotropy',\n",
       "   'norm_percentile',\n",
       "   'bilateral',\n",
       "   'anisodiff',\n",
       "   'split',\n",
       "   'clean_boundaries_opening'],\n",
       "  'type': '3D',\n",
       "  'prob_threshold': 0.0},\n",
       " 'pipeline_3D_prob_0.0_flow_0.5_2_4': {'pipeline': ['isotropy',\n",
       "   'norm_percentile',\n",
       "   'bilateral',\n",
       "   'anisodiff',\n",
       "   'split',\n",
       "   'clean_boundaries_closing'],\n",
       "  'type': '3D',\n",
       "  'prob_threshold': 0.0},\n",
       " 'pipeline_3D_prob_0.0_flow_0.5_2_5': {'pipeline': ['isotropy',\n",
       "   'norm_percentile',\n",
       "   'bilateral',\n",
       "   'anisodiff',\n",
       "   'clean_boundaries_opening',\n",
       "   'split'],\n",
       "  'type': '3D',\n",
       "  'prob_threshold': 0.0},\n",
       " 'pipeline_3D_prob_0.0_flow_0.5_2_6': {'pipeline': ['isotropy',\n",
       "   'norm_percentile',\n",
       "   'bilateral',\n",
       "   'anisodiff',\n",
       "   'clean_boundaries_closing',\n",
       "   'split'],\n",
       "  'type': '3D',\n",
       "  'prob_threshold': 0.0},\n",
       " 'pipeline_3D_prob_0.0_flow_0.5_2_7': {'pipeline': ['isotropy',\n",
       "   'norm_percentile',\n",
       "   'bilateral',\n",
       "   'anisodiff'],\n",
       "  'type': '3D',\n",
       "  'prob_threshold': 0.0},\n",
       " 'pipeline_3D_prob_0.0_flow_0.5_3_0': {'pipeline': ['isotropy',\n",
       "   'norm_percentile',\n",
       "   'anisodiff',\n",
       "   'bilateral',\n",
       "   'split'],\n",
       "  'type': '3D',\n",
       "  'prob_threshold': 0.0},\n",
       " 'pipeline_3D_prob_0.0_flow_0.5_3_1': {'pipeline': ['isotropy',\n",
       "   'norm_percentile',\n",
       "   'anisodiff',\n",
       "   'bilateral',\n",
       "   'clean_boundaries_opening'],\n",
       "  'type': '3D',\n",
       "  'prob_threshold': 0.0},\n",
       " 'pipeline_3D_prob_0.0_flow_0.5_3_2': {'pipeline': ['isotropy',\n",
       "   'norm_percentile',\n",
       "   'anisodiff',\n",
       "   'bilateral',\n",
       "   'clean_boundaries_closing'],\n",
       "  'type': '3D',\n",
       "  'prob_threshold': 0.0},\n",
       " 'pipeline_3D_prob_0.0_flow_0.5_3_3': {'pipeline': ['isotropy',\n",
       "   'norm_percentile',\n",
       "   'anisodiff',\n",
       "   'bilateral',\n",
       "   'split',\n",
       "   'clean_boundaries_opening'],\n",
       "  'type': '3D',\n",
       "  'prob_threshold': 0.0},\n",
       " 'pipeline_3D_prob_0.0_flow_0.5_3_4': {'pipeline': ['isotropy',\n",
       "   'norm_percentile',\n",
       "   'anisodiff',\n",
       "   'bilateral',\n",
       "   'split',\n",
       "   'clean_boundaries_closing'],\n",
       "  'type': '3D',\n",
       "  'prob_threshold': 0.0},\n",
       " 'pipeline_3D_prob_0.0_flow_0.5_3_5': {'pipeline': ['isotropy',\n",
       "   'norm_percentile',\n",
       "   'anisodiff',\n",
       "   'bilateral',\n",
       "   'clean_boundaries_opening',\n",
       "   'split'],\n",
       "  'type': '3D',\n",
       "  'prob_threshold': 0.0},\n",
       " 'pipeline_3D_prob_0.0_flow_0.5_3_6': {'pipeline': ['isotropy',\n",
       "   'norm_percentile',\n",
       "   'anisodiff',\n",
       "   'bilateral',\n",
       "   'clean_boundaries_closing',\n",
       "   'split'],\n",
       "  'type': '3D',\n",
       "  'prob_threshold': 0.0},\n",
       " 'pipeline_3D_prob_0.0_flow_0.5_3_7': {'pipeline': ['isotropy',\n",
       "   'norm_percentile',\n",
       "   'anisodiff',\n",
       "   'bilateral'],\n",
       "  'type': '3D',\n",
       "  'prob_threshold': 0.0},\n",
       " 'pipeline_3D_prob_0.0_flow_0.5_4_0': {'pipeline': ['isotropy',\n",
       "   'norm_percentile',\n",
       "   'split'],\n",
       "  'type': '3D',\n",
       "  'prob_threshold': 0.0},\n",
       " 'pipeline_3D_prob_0.0_flow_0.5_4_1': {'pipeline': ['isotropy',\n",
       "   'norm_percentile',\n",
       "   'clean_boundaries_opening'],\n",
       "  'type': '3D',\n",
       "  'prob_threshold': 0.0},\n",
       " 'pipeline_3D_prob_0.0_flow_0.5_4_2': {'pipeline': ['isotropy',\n",
       "   'norm_percentile',\n",
       "   'clean_boundaries_closing'],\n",
       "  'type': '3D',\n",
       "  'prob_threshold': 0.0},\n",
       " 'pipeline_3D_prob_0.0_flow_0.5_4_3': {'pipeline': ['isotropy',\n",
       "   'norm_percentile',\n",
       "   'split',\n",
       "   'clean_boundaries_opening'],\n",
       "  'type': '3D',\n",
       "  'prob_threshold': 0.0},\n",
       " 'pipeline_3D_prob_0.0_flow_0.5_4_4': {'pipeline': ['isotropy',\n",
       "   'norm_percentile',\n",
       "   'split',\n",
       "   'clean_boundaries_closing'],\n",
       "  'type': '3D',\n",
       "  'prob_threshold': 0.0},\n",
       " 'pipeline_3D_prob_0.0_flow_0.5_4_5': {'pipeline': ['isotropy',\n",
       "   'norm_percentile',\n",
       "   'clean_boundaries_opening',\n",
       "   'split'],\n",
       "  'type': '3D',\n",
       "  'prob_threshold': 0.0},\n",
       " 'pipeline_3D_prob_0.0_flow_0.5_4_6': {'pipeline': ['isotropy',\n",
       "   'norm_percentile',\n",
       "   'clean_boundaries_closing',\n",
       "   'split'],\n",
       "  'type': '3D',\n",
       "  'prob_threshold': 0.0},\n",
       " 'pipeline_3D_prob_0.0_flow_0.5_4_7': {'pipeline': ['isotropy',\n",
       "   'norm_percentile'],\n",
       "  'type': '3D',\n",
       "  'prob_threshold': 0.0},\n",
       " 'pipeline_3D_prob_0.0_flow_0.6_0_0': {'pipeline': ['isotropy',\n",
       "   'norm_percentile',\n",
       "   'bilateral',\n",
       "   'split'],\n",
       "  'type': '3D',\n",
       "  'prob_threshold': 0.0},\n",
       " 'pipeline_3D_prob_0.0_flow_0.6_0_1': {'pipeline': ['isotropy',\n",
       "   'norm_percentile',\n",
       "   'bilateral',\n",
       "   'clean_boundaries_opening'],\n",
       "  'type': '3D',\n",
       "  'prob_threshold': 0.0},\n",
       " 'pipeline_3D_prob_0.0_flow_0.6_0_2': {'pipeline': ['isotropy',\n",
       "   'norm_percentile',\n",
       "   'bilateral',\n",
       "   'clean_boundaries_closing'],\n",
       "  'type': '3D',\n",
       "  'prob_threshold': 0.0},\n",
       " 'pipeline_3D_prob_0.0_flow_0.6_0_3': {'pipeline': ['isotropy',\n",
       "   'norm_percentile',\n",
       "   'bilateral',\n",
       "   'split',\n",
       "   'clean_boundaries_opening'],\n",
       "  'type': '3D',\n",
       "  'prob_threshold': 0.0},\n",
       " 'pipeline_3D_prob_0.0_flow_0.6_0_4': {'pipeline': ['isotropy',\n",
       "   'norm_percentile',\n",
       "   'bilateral',\n",
       "   'split',\n",
       "   'clean_boundaries_closing'],\n",
       "  'type': '3D',\n",
       "  'prob_threshold': 0.0},\n",
       " 'pipeline_3D_prob_0.0_flow_0.6_0_5': {'pipeline': ['isotropy',\n",
       "   'norm_percentile',\n",
       "   'bilateral',\n",
       "   'clean_boundaries_opening',\n",
       "   'split'],\n",
       "  'type': '3D',\n",
       "  'prob_threshold': 0.0},\n",
       " 'pipeline_3D_prob_0.0_flow_0.6_0_6': {'pipeline': ['isotropy',\n",
       "   'norm_percentile',\n",
       "   'bilateral',\n",
       "   'clean_boundaries_closing',\n",
       "   'split'],\n",
       "  'type': '3D',\n",
       "  'prob_threshold': 0.0},\n",
       " 'pipeline_3D_prob_0.0_flow_0.6_0_7': {'pipeline': ['isotropy',\n",
       "   'norm_percentile',\n",
       "   'bilateral'],\n",
       "  'type': '3D',\n",
       "  'prob_threshold': 0.0},\n",
       " 'pipeline_3D_prob_0.0_flow_0.6_1_0': {'pipeline': ['isotropy',\n",
       "   'norm_percentile',\n",
       "   'anisodiff',\n",
       "   'split'],\n",
       "  'type': '3D',\n",
       "  'prob_threshold': 0.0},\n",
       " 'pipeline_3D_prob_0.0_flow_0.6_1_1': {'pipeline': ['isotropy',\n",
       "   'norm_percentile',\n",
       "   'anisodiff',\n",
       "   'clean_boundaries_opening'],\n",
       "  'type': '3D',\n",
       "  'prob_threshold': 0.0},\n",
       " 'pipeline_3D_prob_0.0_flow_0.6_1_2': {'pipeline': ['isotropy',\n",
       "   'norm_percentile',\n",
       "   'anisodiff',\n",
       "   'clean_boundaries_closing'],\n",
       "  'type': '3D',\n",
       "  'prob_threshold': 0.0},\n",
       " 'pipeline_3D_prob_0.0_flow_0.6_1_3': {'pipeline': ['isotropy',\n",
       "   'norm_percentile',\n",
       "   'anisodiff',\n",
       "   'split',\n",
       "   'clean_boundaries_opening'],\n",
       "  'type': '3D',\n",
       "  'prob_threshold': 0.0},\n",
       " 'pipeline_3D_prob_0.0_flow_0.6_1_4': {'pipeline': ['isotropy',\n",
       "   'norm_percentile',\n",
       "   'anisodiff',\n",
       "   'split',\n",
       "   'clean_boundaries_closing'],\n",
       "  'type': '3D',\n",
       "  'prob_threshold': 0.0},\n",
       " 'pipeline_3D_prob_0.0_flow_0.6_1_5': {'pipeline': ['isotropy',\n",
       "   'norm_percentile',\n",
       "   'anisodiff',\n",
       "   'clean_boundaries_opening',\n",
       "   'split'],\n",
       "  'type': '3D',\n",
       "  'prob_threshold': 0.0},\n",
       " 'pipeline_3D_prob_0.0_flow_0.6_1_6': {'pipeline': ['isotropy',\n",
       "   'norm_percentile',\n",
       "   'anisodiff',\n",
       "   'clean_boundaries_closing',\n",
       "   'split'],\n",
       "  'type': '3D',\n",
       "  'prob_threshold': 0.0},\n",
       " 'pipeline_3D_prob_0.0_flow_0.6_1_7': {'pipeline': ['isotropy',\n",
       "   'norm_percentile',\n",
       "   'anisodiff'],\n",
       "  'type': '3D',\n",
       "  'prob_threshold': 0.0},\n",
       " 'pipeline_3D_prob_0.0_flow_0.6_2_0': {'pipeline': ['isotropy',\n",
       "   'norm_percentile',\n",
       "   'bilateral',\n",
       "   'anisodiff',\n",
       "   'split'],\n",
       "  'type': '3D',\n",
       "  'prob_threshold': 0.0},\n",
       " 'pipeline_3D_prob_0.0_flow_0.6_2_1': {'pipeline': ['isotropy',\n",
       "   'norm_percentile',\n",
       "   'bilateral',\n",
       "   'anisodiff',\n",
       "   'clean_boundaries_opening'],\n",
       "  'type': '3D',\n",
       "  'prob_threshold': 0.0},\n",
       " 'pipeline_3D_prob_0.0_flow_0.6_2_2': {'pipeline': ['isotropy',\n",
       "   'norm_percentile',\n",
       "   'bilateral',\n",
       "   'anisodiff',\n",
       "   'clean_boundaries_closing'],\n",
       "  'type': '3D',\n",
       "  'prob_threshold': 0.0},\n",
       " 'pipeline_3D_prob_0.0_flow_0.6_2_3': {'pipeline': ['isotropy',\n",
       "   'norm_percentile',\n",
       "   'bilateral',\n",
       "   'anisodiff',\n",
       "   'split',\n",
       "   'clean_boundaries_opening'],\n",
       "  'type': '3D',\n",
       "  'prob_threshold': 0.0},\n",
       " 'pipeline_3D_prob_0.0_flow_0.6_2_4': {'pipeline': ['isotropy',\n",
       "   'norm_percentile',\n",
       "   'bilateral',\n",
       "   'anisodiff',\n",
       "   'split',\n",
       "   'clean_boundaries_closing'],\n",
       "  'type': '3D',\n",
       "  'prob_threshold': 0.0},\n",
       " 'pipeline_3D_prob_0.0_flow_0.6_2_5': {'pipeline': ['isotropy',\n",
       "   'norm_percentile',\n",
       "   'bilateral',\n",
       "   'anisodiff',\n",
       "   'clean_boundaries_opening',\n",
       "   'split'],\n",
       "  'type': '3D',\n",
       "  'prob_threshold': 0.0},\n",
       " 'pipeline_3D_prob_0.0_flow_0.6_2_6': {'pipeline': ['isotropy',\n",
       "   'norm_percentile',\n",
       "   'bilateral',\n",
       "   'anisodiff',\n",
       "   'clean_boundaries_closing',\n",
       "   'split'],\n",
       "  'type': '3D',\n",
       "  'prob_threshold': 0.0},\n",
       " 'pipeline_3D_prob_0.0_flow_0.6_2_7': {'pipeline': ['isotropy',\n",
       "   'norm_percentile',\n",
       "   'bilateral',\n",
       "   'anisodiff'],\n",
       "  'type': '3D',\n",
       "  'prob_threshold': 0.0},\n",
       " 'pipeline_3D_prob_0.0_flow_0.6_3_0': {'pipeline': ['isotropy',\n",
       "   'norm_percentile',\n",
       "   'anisodiff',\n",
       "   'bilateral',\n",
       "   'split'],\n",
       "  'type': '3D',\n",
       "  'prob_threshold': 0.0},\n",
       " 'pipeline_3D_prob_0.0_flow_0.6_3_1': {'pipeline': ['isotropy',\n",
       "   'norm_percentile',\n",
       "   'anisodiff',\n",
       "   'bilateral',\n",
       "   'clean_boundaries_opening'],\n",
       "  'type': '3D',\n",
       "  'prob_threshold': 0.0},\n",
       " 'pipeline_3D_prob_0.0_flow_0.6_3_2': {'pipeline': ['isotropy',\n",
       "   'norm_percentile',\n",
       "   'anisodiff',\n",
       "   'bilateral',\n",
       "   'clean_boundaries_closing'],\n",
       "  'type': '3D',\n",
       "  'prob_threshold': 0.0},\n",
       " 'pipeline_3D_prob_0.0_flow_0.6_3_3': {'pipeline': ['isotropy',\n",
       "   'norm_percentile',\n",
       "   'anisodiff',\n",
       "   'bilateral',\n",
       "   'split',\n",
       "   'clean_boundaries_opening'],\n",
       "  'type': '3D',\n",
       "  'prob_threshold': 0.0},\n",
       " 'pipeline_3D_prob_0.0_flow_0.6_3_4': {'pipeline': ['isotropy',\n",
       "   'norm_percentile',\n",
       "   'anisodiff',\n",
       "   'bilateral',\n",
       "   'split',\n",
       "   'clean_boundaries_closing'],\n",
       "  'type': '3D',\n",
       "  'prob_threshold': 0.0},\n",
       " 'pipeline_3D_prob_0.0_flow_0.6_3_5': {'pipeline': ['isotropy',\n",
       "   'norm_percentile',\n",
       "   'anisodiff',\n",
       "   'bilateral',\n",
       "   'clean_boundaries_opening',\n",
       "   'split'],\n",
       "  'type': '3D',\n",
       "  'prob_threshold': 0.0},\n",
       " 'pipeline_3D_prob_0.0_flow_0.6_3_6': {'pipeline': ['isotropy',\n",
       "   'norm_percentile',\n",
       "   'anisodiff',\n",
       "   'bilateral',\n",
       "   'clean_boundaries_closing',\n",
       "   'split'],\n",
       "  'type': '3D',\n",
       "  'prob_threshold': 0.0},\n",
       " 'pipeline_3D_prob_0.0_flow_0.6_3_7': {'pipeline': ['isotropy',\n",
       "   'norm_percentile',\n",
       "   'anisodiff',\n",
       "   'bilateral'],\n",
       "  'type': '3D',\n",
       "  'prob_threshold': 0.0},\n",
       " 'pipeline_3D_prob_0.0_flow_0.6_4_0': {'pipeline': ['isotropy',\n",
       "   'norm_percentile',\n",
       "   'split'],\n",
       "  'type': '3D',\n",
       "  'prob_threshold': 0.0},\n",
       " 'pipeline_3D_prob_0.0_flow_0.6_4_1': {'pipeline': ['isotropy',\n",
       "   'norm_percentile',\n",
       "   'clean_boundaries_opening'],\n",
       "  'type': '3D',\n",
       "  'prob_threshold': 0.0},\n",
       " 'pipeline_3D_prob_0.0_flow_0.6_4_2': {'pipeline': ['isotropy',\n",
       "   'norm_percentile',\n",
       "   'clean_boundaries_closing'],\n",
       "  'type': '3D',\n",
       "  'prob_threshold': 0.0},\n",
       " 'pipeline_3D_prob_0.0_flow_0.6_4_3': {'pipeline': ['isotropy',\n",
       "   'norm_percentile',\n",
       "   'split',\n",
       "   'clean_boundaries_opening'],\n",
       "  'type': '3D',\n",
       "  'prob_threshold': 0.0},\n",
       " 'pipeline_3D_prob_0.0_flow_0.6_4_4': {'pipeline': ['isotropy',\n",
       "   'norm_percentile',\n",
       "   'split',\n",
       "   'clean_boundaries_closing'],\n",
       "  'type': '3D',\n",
       "  'prob_threshold': 0.0},\n",
       " 'pipeline_3D_prob_0.0_flow_0.6_4_5': {'pipeline': ['isotropy',\n",
       "   'norm_percentile',\n",
       "   'clean_boundaries_opening',\n",
       "   'split'],\n",
       "  'type': '3D',\n",
       "  'prob_threshold': 0.0},\n",
       " 'pipeline_3D_prob_0.0_flow_0.6_4_6': {'pipeline': ['isotropy',\n",
       "   'norm_percentile',\n",
       "   'clean_boundaries_closing',\n",
       "   'split'],\n",
       "  'type': '3D',\n",
       "  'prob_threshold': 0.0},\n",
       " 'pipeline_3D_prob_0.0_flow_0.6_4_7': {'pipeline': ['isotropy',\n",
       "   'norm_percentile'],\n",
       "  'type': '3D',\n",
       "  'prob_threshold': 0.0},\n",
       " 'pipeline_3D_prob_0.1_flow_0.2_0_0': {'pipeline': ['isotropy',\n",
       "   'norm_percentile',\n",
       "   'bilateral',\n",
       "   'split'],\n",
       "  'type': '3D',\n",
       "  'prob_threshold': 0.1},\n",
       " 'pipeline_3D_prob_0.1_flow_0.2_0_1': {'pipeline': ['isotropy',\n",
       "   'norm_percentile',\n",
       "   'bilateral',\n",
       "   'clean_boundaries_opening'],\n",
       "  'type': '3D',\n",
       "  'prob_threshold': 0.1},\n",
       " 'pipeline_3D_prob_0.1_flow_0.2_0_2': {'pipeline': ['isotropy',\n",
       "   'norm_percentile',\n",
       "   'bilateral',\n",
       "   'clean_boundaries_closing'],\n",
       "  'type': '3D',\n",
       "  'prob_threshold': 0.1},\n",
       " 'pipeline_3D_prob_0.1_flow_0.2_0_3': {'pipeline': ['isotropy',\n",
       "   'norm_percentile',\n",
       "   'bilateral',\n",
       "   'split',\n",
       "   'clean_boundaries_opening'],\n",
       "  'type': '3D',\n",
       "  'prob_threshold': 0.1},\n",
       " 'pipeline_3D_prob_0.1_flow_0.2_0_4': {'pipeline': ['isotropy',\n",
       "   'norm_percentile',\n",
       "   'bilateral',\n",
       "   'split',\n",
       "   'clean_boundaries_closing'],\n",
       "  'type': '3D',\n",
       "  'prob_threshold': 0.1},\n",
       " 'pipeline_3D_prob_0.1_flow_0.2_0_5': {'pipeline': ['isotropy',\n",
       "   'norm_percentile',\n",
       "   'bilateral',\n",
       "   'clean_boundaries_opening',\n",
       "   'split'],\n",
       "  'type': '3D',\n",
       "  'prob_threshold': 0.1},\n",
       " 'pipeline_3D_prob_0.1_flow_0.2_0_6': {'pipeline': ['isotropy',\n",
       "   'norm_percentile',\n",
       "   'bilateral',\n",
       "   'clean_boundaries_closing',\n",
       "   'split'],\n",
       "  'type': '3D',\n",
       "  'prob_threshold': 0.1},\n",
       " 'pipeline_3D_prob_0.1_flow_0.2_0_7': {'pipeline': ['isotropy',\n",
       "   'norm_percentile',\n",
       "   'bilateral'],\n",
       "  'type': '3D',\n",
       "  'prob_threshold': 0.1},\n",
       " 'pipeline_3D_prob_0.1_flow_0.2_1_0': {'pipeline': ['isotropy',\n",
       "   'norm_percentile',\n",
       "   'anisodiff',\n",
       "   'split'],\n",
       "  'type': '3D',\n",
       "  'prob_threshold': 0.1},\n",
       " 'pipeline_3D_prob_0.1_flow_0.2_1_1': {'pipeline': ['isotropy',\n",
       "   'norm_percentile',\n",
       "   'anisodiff',\n",
       "   'clean_boundaries_opening'],\n",
       "  'type': '3D',\n",
       "  'prob_threshold': 0.1},\n",
       " 'pipeline_3D_prob_0.1_flow_0.2_1_2': {'pipeline': ['isotropy',\n",
       "   'norm_percentile',\n",
       "   'anisodiff',\n",
       "   'clean_boundaries_closing'],\n",
       "  'type': '3D',\n",
       "  'prob_threshold': 0.1},\n",
       " 'pipeline_3D_prob_0.1_flow_0.2_1_3': {'pipeline': ['isotropy',\n",
       "   'norm_percentile',\n",
       "   'anisodiff',\n",
       "   'split',\n",
       "   'clean_boundaries_opening'],\n",
       "  'type': '3D',\n",
       "  'prob_threshold': 0.1},\n",
       " 'pipeline_3D_prob_0.1_flow_0.2_1_4': {'pipeline': ['isotropy',\n",
       "   'norm_percentile',\n",
       "   'anisodiff',\n",
       "   'split',\n",
       "   'clean_boundaries_closing'],\n",
       "  'type': '3D',\n",
       "  'prob_threshold': 0.1},\n",
       " 'pipeline_3D_prob_0.1_flow_0.2_1_5': {'pipeline': ['isotropy',\n",
       "   'norm_percentile',\n",
       "   'anisodiff',\n",
       "   'clean_boundaries_opening',\n",
       "   'split'],\n",
       "  'type': '3D',\n",
       "  'prob_threshold': 0.1},\n",
       " 'pipeline_3D_prob_0.1_flow_0.2_1_6': {'pipeline': ['isotropy',\n",
       "   'norm_percentile',\n",
       "   'anisodiff',\n",
       "   'clean_boundaries_closing',\n",
       "   'split'],\n",
       "  'type': '3D',\n",
       "  'prob_threshold': 0.1},\n",
       " 'pipeline_3D_prob_0.1_flow_0.2_1_7': {'pipeline': ['isotropy',\n",
       "   'norm_percentile',\n",
       "   'anisodiff'],\n",
       "  'type': '3D',\n",
       "  'prob_threshold': 0.1},\n",
       " 'pipeline_3D_prob_0.1_flow_0.2_2_0': {'pipeline': ['isotropy',\n",
       "   'norm_percentile',\n",
       "   'bilateral',\n",
       "   'anisodiff',\n",
       "   'split'],\n",
       "  'type': '3D',\n",
       "  'prob_threshold': 0.1},\n",
       " 'pipeline_3D_prob_0.1_flow_0.2_2_1': {'pipeline': ['isotropy',\n",
       "   'norm_percentile',\n",
       "   'bilateral',\n",
       "   'anisodiff',\n",
       "   'clean_boundaries_opening'],\n",
       "  'type': '3D',\n",
       "  'prob_threshold': 0.1},\n",
       " 'pipeline_3D_prob_0.1_flow_0.2_2_2': {'pipeline': ['isotropy',\n",
       "   'norm_percentile',\n",
       "   'bilateral',\n",
       "   'anisodiff',\n",
       "   'clean_boundaries_closing'],\n",
       "  'type': '3D',\n",
       "  'prob_threshold': 0.1},\n",
       " 'pipeline_3D_prob_0.1_flow_0.2_2_3': {'pipeline': ['isotropy',\n",
       "   'norm_percentile',\n",
       "   'bilateral',\n",
       "   'anisodiff',\n",
       "   'split',\n",
       "   'clean_boundaries_opening'],\n",
       "  'type': '3D',\n",
       "  'prob_threshold': 0.1},\n",
       " 'pipeline_3D_prob_0.1_flow_0.2_2_4': {'pipeline': ['isotropy',\n",
       "   'norm_percentile',\n",
       "   'bilateral',\n",
       "   'anisodiff',\n",
       "   'split',\n",
       "   'clean_boundaries_closing'],\n",
       "  'type': '3D',\n",
       "  'prob_threshold': 0.1},\n",
       " 'pipeline_3D_prob_0.1_flow_0.2_2_5': {'pipeline': ['isotropy',\n",
       "   'norm_percentile',\n",
       "   'bilateral',\n",
       "   'anisodiff',\n",
       "   'clean_boundaries_opening',\n",
       "   'split'],\n",
       "  'type': '3D',\n",
       "  'prob_threshold': 0.1},\n",
       " 'pipeline_3D_prob_0.1_flow_0.2_2_6': {'pipeline': ['isotropy',\n",
       "   'norm_percentile',\n",
       "   'bilateral',\n",
       "   'anisodiff',\n",
       "   'clean_boundaries_closing',\n",
       "   'split'],\n",
       "  'type': '3D',\n",
       "  'prob_threshold': 0.1},\n",
       " 'pipeline_3D_prob_0.1_flow_0.2_2_7': {'pipeline': ['isotropy',\n",
       "   'norm_percentile',\n",
       "   'bilateral',\n",
       "   'anisodiff'],\n",
       "  'type': '3D',\n",
       "  'prob_threshold': 0.1},\n",
       " 'pipeline_3D_prob_0.1_flow_0.2_3_0': {'pipeline': ['isotropy',\n",
       "   'norm_percentile',\n",
       "   'anisodiff',\n",
       "   'bilateral',\n",
       "   'split'],\n",
       "  'type': '3D',\n",
       "  'prob_threshold': 0.1},\n",
       " 'pipeline_3D_prob_0.1_flow_0.2_3_1': {'pipeline': ['isotropy',\n",
       "   'norm_percentile',\n",
       "   'anisodiff',\n",
       "   'bilateral',\n",
       "   'clean_boundaries_opening'],\n",
       "  'type': '3D',\n",
       "  'prob_threshold': 0.1},\n",
       " 'pipeline_3D_prob_0.1_flow_0.2_3_2': {'pipeline': ['isotropy',\n",
       "   'norm_percentile',\n",
       "   'anisodiff',\n",
       "   'bilateral',\n",
       "   'clean_boundaries_closing'],\n",
       "  'type': '3D',\n",
       "  'prob_threshold': 0.1},\n",
       " 'pipeline_3D_prob_0.1_flow_0.2_3_3': {'pipeline': ['isotropy',\n",
       "   'norm_percentile',\n",
       "   'anisodiff',\n",
       "   'bilateral',\n",
       "   'split',\n",
       "   'clean_boundaries_opening'],\n",
       "  'type': '3D',\n",
       "  'prob_threshold': 0.1},\n",
       " 'pipeline_3D_prob_0.1_flow_0.2_3_4': {'pipeline': ['isotropy',\n",
       "   'norm_percentile',\n",
       "   'anisodiff',\n",
       "   'bilateral',\n",
       "   'split',\n",
       "   'clean_boundaries_closing'],\n",
       "  'type': '3D',\n",
       "  'prob_threshold': 0.1},\n",
       " 'pipeline_3D_prob_0.1_flow_0.2_3_5': {'pipeline': ['isotropy',\n",
       "   'norm_percentile',\n",
       "   'anisodiff',\n",
       "   'bilateral',\n",
       "   'clean_boundaries_opening',\n",
       "   'split'],\n",
       "  'type': '3D',\n",
       "  'prob_threshold': 0.1},\n",
       " 'pipeline_3D_prob_0.1_flow_0.2_3_6': {'pipeline': ['isotropy',\n",
       "   'norm_percentile',\n",
       "   'anisodiff',\n",
       "   'bilateral',\n",
       "   'clean_boundaries_closing',\n",
       "   'split'],\n",
       "  'type': '3D',\n",
       "  'prob_threshold': 0.1},\n",
       " 'pipeline_3D_prob_0.1_flow_0.2_3_7': {'pipeline': ['isotropy',\n",
       "   'norm_percentile',\n",
       "   'anisodiff',\n",
       "   'bilateral'],\n",
       "  'type': '3D',\n",
       "  'prob_threshold': 0.1},\n",
       " 'pipeline_3D_prob_0.1_flow_0.2_4_0': {'pipeline': ['isotropy',\n",
       "   'norm_percentile',\n",
       "   'split'],\n",
       "  'type': '3D',\n",
       "  'prob_threshold': 0.1},\n",
       " 'pipeline_3D_prob_0.1_flow_0.2_4_1': {'pipeline': ['isotropy',\n",
       "   'norm_percentile',\n",
       "   'clean_boundaries_opening'],\n",
       "  'type': '3D',\n",
       "  'prob_threshold': 0.1},\n",
       " 'pipeline_3D_prob_0.1_flow_0.2_4_2': {'pipeline': ['isotropy',\n",
       "   'norm_percentile',\n",
       "   'clean_boundaries_closing'],\n",
       "  'type': '3D',\n",
       "  'prob_threshold': 0.1},\n",
       " 'pipeline_3D_prob_0.1_flow_0.2_4_3': {'pipeline': ['isotropy',\n",
       "   'norm_percentile',\n",
       "   'split',\n",
       "   'clean_boundaries_opening'],\n",
       "  'type': '3D',\n",
       "  'prob_threshold': 0.1},\n",
       " 'pipeline_3D_prob_0.1_flow_0.2_4_4': {'pipeline': ['isotropy',\n",
       "   'norm_percentile',\n",
       "   'split',\n",
       "   'clean_boundaries_closing'],\n",
       "  'type': '3D',\n",
       "  'prob_threshold': 0.1},\n",
       " 'pipeline_3D_prob_0.1_flow_0.2_4_5': {'pipeline': ['isotropy',\n",
       "   'norm_percentile',\n",
       "   'clean_boundaries_opening',\n",
       "   'split'],\n",
       "  'type': '3D',\n",
       "  'prob_threshold': 0.1},\n",
       " 'pipeline_3D_prob_0.1_flow_0.2_4_6': {'pipeline': ['isotropy',\n",
       "   'norm_percentile',\n",
       "   'clean_boundaries_closing',\n",
       "   'split'],\n",
       "  'type': '3D',\n",
       "  'prob_threshold': 0.1},\n",
       " 'pipeline_3D_prob_0.1_flow_0.2_4_7': {'pipeline': ['isotropy',\n",
       "   'norm_percentile'],\n",
       "  'type': '3D',\n",
       "  'prob_threshold': 0.1},\n",
       " 'pipeline_3D_prob_0.1_flow_0.3_0_0': {'pipeline': ['isotropy',\n",
       "   'norm_percentile',\n",
       "   'bilateral',\n",
       "   'split'],\n",
       "  'type': '3D',\n",
       "  'prob_threshold': 0.1},\n",
       " 'pipeline_3D_prob_0.1_flow_0.3_0_1': {'pipeline': ['isotropy',\n",
       "   'norm_percentile',\n",
       "   'bilateral',\n",
       "   'clean_boundaries_opening'],\n",
       "  'type': '3D',\n",
       "  'prob_threshold': 0.1},\n",
       " 'pipeline_3D_prob_0.1_flow_0.3_0_2': {'pipeline': ['isotropy',\n",
       "   'norm_percentile',\n",
       "   'bilateral',\n",
       "   'clean_boundaries_closing'],\n",
       "  'type': '3D',\n",
       "  'prob_threshold': 0.1},\n",
       " 'pipeline_3D_prob_0.1_flow_0.3_0_3': {'pipeline': ['isotropy',\n",
       "   'norm_percentile',\n",
       "   'bilateral',\n",
       "   'split',\n",
       "   'clean_boundaries_opening'],\n",
       "  'type': '3D',\n",
       "  'prob_threshold': 0.1},\n",
       " 'pipeline_3D_prob_0.1_flow_0.3_0_4': {'pipeline': ['isotropy',\n",
       "   'norm_percentile',\n",
       "   'bilateral',\n",
       "   'split',\n",
       "   'clean_boundaries_closing'],\n",
       "  'type': '3D',\n",
       "  'prob_threshold': 0.1},\n",
       " 'pipeline_3D_prob_0.1_flow_0.3_0_5': {'pipeline': ['isotropy',\n",
       "   'norm_percentile',\n",
       "   'bilateral',\n",
       "   'clean_boundaries_opening',\n",
       "   'split'],\n",
       "  'type': '3D',\n",
       "  'prob_threshold': 0.1},\n",
       " 'pipeline_3D_prob_0.1_flow_0.3_0_6': {'pipeline': ['isotropy',\n",
       "   'norm_percentile',\n",
       "   'bilateral',\n",
       "   'clean_boundaries_closing',\n",
       "   'split'],\n",
       "  'type': '3D',\n",
       "  'prob_threshold': 0.1},\n",
       " 'pipeline_3D_prob_0.1_flow_0.3_0_7': {'pipeline': ['isotropy',\n",
       "   'norm_percentile',\n",
       "   'bilateral'],\n",
       "  'type': '3D',\n",
       "  'prob_threshold': 0.1},\n",
       " 'pipeline_3D_prob_0.1_flow_0.3_1_0': {'pipeline': ['isotropy',\n",
       "   'norm_percentile',\n",
       "   'anisodiff',\n",
       "   'split'],\n",
       "  'type': '3D',\n",
       "  'prob_threshold': 0.1},\n",
       " 'pipeline_3D_prob_0.1_flow_0.3_1_1': {'pipeline': ['isotropy',\n",
       "   'norm_percentile',\n",
       "   'anisodiff',\n",
       "   'clean_boundaries_opening'],\n",
       "  'type': '3D',\n",
       "  'prob_threshold': 0.1},\n",
       " 'pipeline_3D_prob_0.1_flow_0.3_1_2': {'pipeline': ['isotropy',\n",
       "   'norm_percentile',\n",
       "   'anisodiff',\n",
       "   'clean_boundaries_closing'],\n",
       "  'type': '3D',\n",
       "  'prob_threshold': 0.1},\n",
       " 'pipeline_3D_prob_0.1_flow_0.3_1_3': {'pipeline': ['isotropy',\n",
       "   'norm_percentile',\n",
       "   'anisodiff',\n",
       "   'split',\n",
       "   'clean_boundaries_opening'],\n",
       "  'type': '3D',\n",
       "  'prob_threshold': 0.1},\n",
       " 'pipeline_3D_prob_0.1_flow_0.3_1_4': {'pipeline': ['isotropy',\n",
       "   'norm_percentile',\n",
       "   'anisodiff',\n",
       "   'split',\n",
       "   'clean_boundaries_closing'],\n",
       "  'type': '3D',\n",
       "  'prob_threshold': 0.1},\n",
       " 'pipeline_3D_prob_0.1_flow_0.3_1_5': {'pipeline': ['isotropy',\n",
       "   'norm_percentile',\n",
       "   'anisodiff',\n",
       "   'clean_boundaries_opening',\n",
       "   'split'],\n",
       "  'type': '3D',\n",
       "  'prob_threshold': 0.1},\n",
       " 'pipeline_3D_prob_0.1_flow_0.3_1_6': {'pipeline': ['isotropy',\n",
       "   'norm_percentile',\n",
       "   'anisodiff',\n",
       "   'clean_boundaries_closing',\n",
       "   'split'],\n",
       "  'type': '3D',\n",
       "  'prob_threshold': 0.1},\n",
       " 'pipeline_3D_prob_0.1_flow_0.3_1_7': {'pipeline': ['isotropy',\n",
       "   'norm_percentile',\n",
       "   'anisodiff'],\n",
       "  'type': '3D',\n",
       "  'prob_threshold': 0.1},\n",
       " 'pipeline_3D_prob_0.1_flow_0.3_2_0': {'pipeline': ['isotropy',\n",
       "   'norm_percentile',\n",
       "   'bilateral',\n",
       "   'anisodiff',\n",
       "   'split'],\n",
       "  'type': '3D',\n",
       "  'prob_threshold': 0.1},\n",
       " 'pipeline_3D_prob_0.1_flow_0.3_2_1': {'pipeline': ['isotropy',\n",
       "   'norm_percentile',\n",
       "   'bilateral',\n",
       "   'anisodiff',\n",
       "   'clean_boundaries_opening'],\n",
       "  'type': '3D',\n",
       "  'prob_threshold': 0.1},\n",
       " 'pipeline_3D_prob_0.1_flow_0.3_2_2': {'pipeline': ['isotropy',\n",
       "   'norm_percentile',\n",
       "   'bilateral',\n",
       "   'anisodiff',\n",
       "   'clean_boundaries_closing'],\n",
       "  'type': '3D',\n",
       "  'prob_threshold': 0.1},\n",
       " 'pipeline_3D_prob_0.1_flow_0.3_2_3': {'pipeline': ['isotropy',\n",
       "   'norm_percentile',\n",
       "   'bilateral',\n",
       "   'anisodiff',\n",
       "   'split',\n",
       "   'clean_boundaries_opening'],\n",
       "  'type': '3D',\n",
       "  'prob_threshold': 0.1},\n",
       " 'pipeline_3D_prob_0.1_flow_0.3_2_4': {'pipeline': ['isotropy',\n",
       "   'norm_percentile',\n",
       "   'bilateral',\n",
       "   'anisodiff',\n",
       "   'split',\n",
       "   'clean_boundaries_closing'],\n",
       "  'type': '3D',\n",
       "  'prob_threshold': 0.1},\n",
       " 'pipeline_3D_prob_0.1_flow_0.3_2_5': {'pipeline': ['isotropy',\n",
       "   'norm_percentile',\n",
       "   'bilateral',\n",
       "   'anisodiff',\n",
       "   'clean_boundaries_opening',\n",
       "   'split'],\n",
       "  'type': '3D',\n",
       "  'prob_threshold': 0.1},\n",
       " 'pipeline_3D_prob_0.1_flow_0.3_2_6': {'pipeline': ['isotropy',\n",
       "   'norm_percentile',\n",
       "   'bilateral',\n",
       "   'anisodiff',\n",
       "   'clean_boundaries_closing',\n",
       "   'split'],\n",
       "  'type': '3D',\n",
       "  'prob_threshold': 0.1},\n",
       " 'pipeline_3D_prob_0.1_flow_0.3_2_7': {'pipeline': ['isotropy',\n",
       "   'norm_percentile',\n",
       "   'bilateral',\n",
       "   'anisodiff'],\n",
       "  'type': '3D',\n",
       "  'prob_threshold': 0.1},\n",
       " 'pipeline_3D_prob_0.1_flow_0.3_3_0': {'pipeline': ['isotropy',\n",
       "   'norm_percentile',\n",
       "   'anisodiff',\n",
       "   'bilateral',\n",
       "   'split'],\n",
       "  'type': '3D',\n",
       "  'prob_threshold': 0.1},\n",
       " 'pipeline_3D_prob_0.1_flow_0.3_3_1': {'pipeline': ['isotropy',\n",
       "   'norm_percentile',\n",
       "   'anisodiff',\n",
       "   'bilateral',\n",
       "   'clean_boundaries_opening'],\n",
       "  'type': '3D',\n",
       "  'prob_threshold': 0.1},\n",
       " 'pipeline_3D_prob_0.1_flow_0.3_3_2': {'pipeline': ['isotropy',\n",
       "   'norm_percentile',\n",
       "   'anisodiff',\n",
       "   'bilateral',\n",
       "   'clean_boundaries_closing'],\n",
       "  'type': '3D',\n",
       "  'prob_threshold': 0.1},\n",
       " 'pipeline_3D_prob_0.1_flow_0.3_3_3': {'pipeline': ['isotropy',\n",
       "   'norm_percentile',\n",
       "   'anisodiff',\n",
       "   'bilateral',\n",
       "   'split',\n",
       "   'clean_boundaries_opening'],\n",
       "  'type': '3D',\n",
       "  'prob_threshold': 0.1},\n",
       " 'pipeline_3D_prob_0.1_flow_0.3_3_4': {'pipeline': ['isotropy',\n",
       "   'norm_percentile',\n",
       "   'anisodiff',\n",
       "   'bilateral',\n",
       "   'split',\n",
       "   'clean_boundaries_closing'],\n",
       "  'type': '3D',\n",
       "  'prob_threshold': 0.1},\n",
       " 'pipeline_3D_prob_0.1_flow_0.3_3_5': {'pipeline': ['isotropy',\n",
       "   'norm_percentile',\n",
       "   'anisodiff',\n",
       "   'bilateral',\n",
       "   'clean_boundaries_opening',\n",
       "   'split'],\n",
       "  'type': '3D',\n",
       "  'prob_threshold': 0.1},\n",
       " 'pipeline_3D_prob_0.1_flow_0.3_3_6': {'pipeline': ['isotropy',\n",
       "   'norm_percentile',\n",
       "   'anisodiff',\n",
       "   'bilateral',\n",
       "   'clean_boundaries_closing',\n",
       "   'split'],\n",
       "  'type': '3D',\n",
       "  'prob_threshold': 0.1},\n",
       " 'pipeline_3D_prob_0.1_flow_0.3_3_7': {'pipeline': ['isotropy',\n",
       "   'norm_percentile',\n",
       "   'anisodiff',\n",
       "   'bilateral'],\n",
       "  'type': '3D',\n",
       "  'prob_threshold': 0.1},\n",
       " 'pipeline_3D_prob_0.1_flow_0.3_4_0': {'pipeline': ['isotropy',\n",
       "   'norm_percentile',\n",
       "   'split'],\n",
       "  'type': '3D',\n",
       "  'prob_threshold': 0.1},\n",
       " 'pipeline_3D_prob_0.1_flow_0.3_4_1': {'pipeline': ['isotropy',\n",
       "   'norm_percentile',\n",
       "   'clean_boundaries_opening'],\n",
       "  'type': '3D',\n",
       "  'prob_threshold': 0.1},\n",
       " 'pipeline_3D_prob_0.1_flow_0.3_4_2': {'pipeline': ['isotropy',\n",
       "   'norm_percentile',\n",
       "   'clean_boundaries_closing'],\n",
       "  'type': '3D',\n",
       "  'prob_threshold': 0.1},\n",
       " 'pipeline_3D_prob_0.1_flow_0.3_4_3': {'pipeline': ['isotropy',\n",
       "   'norm_percentile',\n",
       "   'split',\n",
       "   'clean_boundaries_opening'],\n",
       "  'type': '3D',\n",
       "  'prob_threshold': 0.1},\n",
       " 'pipeline_3D_prob_0.1_flow_0.3_4_4': {'pipeline': ['isotropy',\n",
       "   'norm_percentile',\n",
       "   'split',\n",
       "   'clean_boundaries_closing'],\n",
       "  'type': '3D',\n",
       "  'prob_threshold': 0.1},\n",
       " 'pipeline_3D_prob_0.1_flow_0.3_4_5': {'pipeline': ['isotropy',\n",
       "   'norm_percentile',\n",
       "   'clean_boundaries_opening',\n",
       "   'split'],\n",
       "  'type': '3D',\n",
       "  'prob_threshold': 0.1},\n",
       " 'pipeline_3D_prob_0.1_flow_0.3_4_6': {'pipeline': ['isotropy',\n",
       "   'norm_percentile',\n",
       "   'clean_boundaries_closing',\n",
       "   'split'],\n",
       "  'type': '3D',\n",
       "  'prob_threshold': 0.1},\n",
       " 'pipeline_3D_prob_0.1_flow_0.3_4_7': {'pipeline': ['isotropy',\n",
       "   'norm_percentile'],\n",
       "  'type': '3D',\n",
       "  'prob_threshold': 0.1},\n",
       " 'pipeline_3D_prob_0.1_flow_0.5_0_0': {'pipeline': ['isotropy',\n",
       "   'norm_percentile',\n",
       "   'bilateral',\n",
       "   'split'],\n",
       "  'type': '3D',\n",
       "  'prob_threshold': 0.1},\n",
       " 'pipeline_3D_prob_0.1_flow_0.5_0_1': {'pipeline': ['isotropy',\n",
       "   'norm_percentile',\n",
       "   'bilateral',\n",
       "   'clean_boundaries_opening'],\n",
       "  'type': '3D',\n",
       "  'prob_threshold': 0.1},\n",
       " 'pipeline_3D_prob_0.1_flow_0.5_0_2': {'pipeline': ['isotropy',\n",
       "   'norm_percentile',\n",
       "   'bilateral',\n",
       "   'clean_boundaries_closing'],\n",
       "  'type': '3D',\n",
       "  'prob_threshold': 0.1},\n",
       " 'pipeline_3D_prob_0.1_flow_0.5_0_3': {'pipeline': ['isotropy',\n",
       "   'norm_percentile',\n",
       "   'bilateral',\n",
       "   'split',\n",
       "   'clean_boundaries_opening'],\n",
       "  'type': '3D',\n",
       "  'prob_threshold': 0.1},\n",
       " 'pipeline_3D_prob_0.1_flow_0.5_0_4': {'pipeline': ['isotropy',\n",
       "   'norm_percentile',\n",
       "   'bilateral',\n",
       "   'split',\n",
       "   'clean_boundaries_closing'],\n",
       "  'type': '3D',\n",
       "  'prob_threshold': 0.1},\n",
       " 'pipeline_3D_prob_0.1_flow_0.5_0_5': {'pipeline': ['isotropy',\n",
       "   'norm_percentile',\n",
       "   'bilateral',\n",
       "   'clean_boundaries_opening',\n",
       "   'split'],\n",
       "  'type': '3D',\n",
       "  'prob_threshold': 0.1},\n",
       " 'pipeline_3D_prob_0.1_flow_0.5_0_6': {'pipeline': ['isotropy',\n",
       "   'norm_percentile',\n",
       "   'bilateral',\n",
       "   'clean_boundaries_closing',\n",
       "   'split'],\n",
       "  'type': '3D',\n",
       "  'prob_threshold': 0.1},\n",
       " 'pipeline_3D_prob_0.1_flow_0.5_0_7': {'pipeline': ['isotropy',\n",
       "   'norm_percentile',\n",
       "   'bilateral'],\n",
       "  'type': '3D',\n",
       "  'prob_threshold': 0.1},\n",
       " 'pipeline_3D_prob_0.1_flow_0.5_1_0': {'pipeline': ['isotropy',\n",
       "   'norm_percentile',\n",
       "   'anisodiff',\n",
       "   'split'],\n",
       "  'type': '3D',\n",
       "  'prob_threshold': 0.1},\n",
       " 'pipeline_3D_prob_0.1_flow_0.5_1_1': {'pipeline': ['isotropy',\n",
       "   'norm_percentile',\n",
       "   'anisodiff',\n",
       "   'clean_boundaries_opening'],\n",
       "  'type': '3D',\n",
       "  'prob_threshold': 0.1},\n",
       " 'pipeline_3D_prob_0.1_flow_0.5_1_2': {'pipeline': ['isotropy',\n",
       "   'norm_percentile',\n",
       "   'anisodiff',\n",
       "   'clean_boundaries_closing'],\n",
       "  'type': '3D',\n",
       "  'prob_threshold': 0.1},\n",
       " 'pipeline_3D_prob_0.1_flow_0.5_1_3': {'pipeline': ['isotropy',\n",
       "   'norm_percentile',\n",
       "   'anisodiff',\n",
       "   'split',\n",
       "   'clean_boundaries_opening'],\n",
       "  'type': '3D',\n",
       "  'prob_threshold': 0.1},\n",
       " 'pipeline_3D_prob_0.1_flow_0.5_1_4': {'pipeline': ['isotropy',\n",
       "   'norm_percentile',\n",
       "   'anisodiff',\n",
       "   'split',\n",
       "   'clean_boundaries_closing'],\n",
       "  'type': '3D',\n",
       "  'prob_threshold': 0.1},\n",
       " 'pipeline_3D_prob_0.1_flow_0.5_1_5': {'pipeline': ['isotropy',\n",
       "   'norm_percentile',\n",
       "   'anisodiff',\n",
       "   'clean_boundaries_opening',\n",
       "   'split'],\n",
       "  'type': '3D',\n",
       "  'prob_threshold': 0.1},\n",
       " 'pipeline_3D_prob_0.1_flow_0.5_1_6': {'pipeline': ['isotropy',\n",
       "   'norm_percentile',\n",
       "   'anisodiff',\n",
       "   'clean_boundaries_closing',\n",
       "   'split'],\n",
       "  'type': '3D',\n",
       "  'prob_threshold': 0.1},\n",
       " 'pipeline_3D_prob_0.1_flow_0.5_1_7': {'pipeline': ['isotropy',\n",
       "   'norm_percentile',\n",
       "   'anisodiff'],\n",
       "  'type': '3D',\n",
       "  'prob_threshold': 0.1},\n",
       " 'pipeline_3D_prob_0.1_flow_0.5_2_0': {'pipeline': ['isotropy',\n",
       "   'norm_percentile',\n",
       "   'bilateral',\n",
       "   'anisodiff',\n",
       "   'split'],\n",
       "  'type': '3D',\n",
       "  'prob_threshold': 0.1},\n",
       " 'pipeline_3D_prob_0.1_flow_0.5_2_1': {'pipeline': ['isotropy',\n",
       "   'norm_percentile',\n",
       "   'bilateral',\n",
       "   'anisodiff',\n",
       "   'clean_boundaries_opening'],\n",
       "  'type': '3D',\n",
       "  'prob_threshold': 0.1},\n",
       " 'pipeline_3D_prob_0.1_flow_0.5_2_2': {'pipeline': ['isotropy',\n",
       "   'norm_percentile',\n",
       "   'bilateral',\n",
       "   'anisodiff',\n",
       "   'clean_boundaries_closing'],\n",
       "  'type': '3D',\n",
       "  'prob_threshold': 0.1},\n",
       " 'pipeline_3D_prob_0.1_flow_0.5_2_3': {'pipeline': ['isotropy',\n",
       "   'norm_percentile',\n",
       "   'bilateral',\n",
       "   'anisodiff',\n",
       "   'split',\n",
       "   'clean_boundaries_opening'],\n",
       "  'type': '3D',\n",
       "  'prob_threshold': 0.1},\n",
       " 'pipeline_3D_prob_0.1_flow_0.5_2_4': {'pipeline': ['isotropy',\n",
       "   'norm_percentile',\n",
       "   'bilateral',\n",
       "   'anisodiff',\n",
       "   'split',\n",
       "   'clean_boundaries_closing'],\n",
       "  'type': '3D',\n",
       "  'prob_threshold': 0.1},\n",
       " 'pipeline_3D_prob_0.1_flow_0.5_2_5': {'pipeline': ['isotropy',\n",
       "   'norm_percentile',\n",
       "   'bilateral',\n",
       "   'anisodiff',\n",
       "   'clean_boundaries_opening',\n",
       "   'split'],\n",
       "  'type': '3D',\n",
       "  'prob_threshold': 0.1},\n",
       " 'pipeline_3D_prob_0.1_flow_0.5_2_6': {'pipeline': ['isotropy',\n",
       "   'norm_percentile',\n",
       "   'bilateral',\n",
       "   'anisodiff',\n",
       "   'clean_boundaries_closing',\n",
       "   'split'],\n",
       "  'type': '3D',\n",
       "  'prob_threshold': 0.1},\n",
       " 'pipeline_3D_prob_0.1_flow_0.5_2_7': {'pipeline': ['isotropy',\n",
       "   'norm_percentile',\n",
       "   'bilateral',\n",
       "   'anisodiff'],\n",
       "  'type': '3D',\n",
       "  'prob_threshold': 0.1},\n",
       " 'pipeline_3D_prob_0.1_flow_0.5_3_0': {'pipeline': ['isotropy',\n",
       "   'norm_percentile',\n",
       "   'anisodiff',\n",
       "   'bilateral',\n",
       "   'split'],\n",
       "  'type': '3D',\n",
       "  'prob_threshold': 0.1},\n",
       " 'pipeline_3D_prob_0.1_flow_0.5_3_1': {'pipeline': ['isotropy',\n",
       "   'norm_percentile',\n",
       "   'anisodiff',\n",
       "   'bilateral',\n",
       "   'clean_boundaries_opening'],\n",
       "  'type': '3D',\n",
       "  'prob_threshold': 0.1},\n",
       " 'pipeline_3D_prob_0.1_flow_0.5_3_2': {'pipeline': ['isotropy',\n",
       "   'norm_percentile',\n",
       "   'anisodiff',\n",
       "   'bilateral',\n",
       "   'clean_boundaries_closing'],\n",
       "  'type': '3D',\n",
       "  'prob_threshold': 0.1},\n",
       " 'pipeline_3D_prob_0.1_flow_0.5_3_3': {'pipeline': ['isotropy',\n",
       "   'norm_percentile',\n",
       "   'anisodiff',\n",
       "   'bilateral',\n",
       "   'split',\n",
       "   'clean_boundaries_opening'],\n",
       "  'type': '3D',\n",
       "  'prob_threshold': 0.1},\n",
       " 'pipeline_3D_prob_0.1_flow_0.5_3_4': {'pipeline': ['isotropy',\n",
       "   'norm_percentile',\n",
       "   'anisodiff',\n",
       "   'bilateral',\n",
       "   'split',\n",
       "   'clean_boundaries_closing'],\n",
       "  'type': '3D',\n",
       "  'prob_threshold': 0.1},\n",
       " 'pipeline_3D_prob_0.1_flow_0.5_3_5': {'pipeline': ['isotropy',\n",
       "   'norm_percentile',\n",
       "   'anisodiff',\n",
       "   'bilateral',\n",
       "   'clean_boundaries_opening',\n",
       "   'split'],\n",
       "  'type': '3D',\n",
       "  'prob_threshold': 0.1},\n",
       " 'pipeline_3D_prob_0.1_flow_0.5_3_6': {'pipeline': ['isotropy',\n",
       "   'norm_percentile',\n",
       "   'anisodiff',\n",
       "   'bilateral',\n",
       "   'clean_boundaries_closing',\n",
       "   'split'],\n",
       "  'type': '3D',\n",
       "  'prob_threshold': 0.1},\n",
       " 'pipeline_3D_prob_0.1_flow_0.5_3_7': {'pipeline': ['isotropy',\n",
       "   'norm_percentile',\n",
       "   'anisodiff',\n",
       "   'bilateral'],\n",
       "  'type': '3D',\n",
       "  'prob_threshold': 0.1},\n",
       " 'pipeline_3D_prob_0.1_flow_0.5_4_0': {'pipeline': ['isotropy',\n",
       "   'norm_percentile',\n",
       "   'split'],\n",
       "  'type': '3D',\n",
       "  'prob_threshold': 0.1},\n",
       " 'pipeline_3D_prob_0.1_flow_0.5_4_1': {'pipeline': ['isotropy',\n",
       "   'norm_percentile',\n",
       "   'clean_boundaries_opening'],\n",
       "  'type': '3D',\n",
       "  'prob_threshold': 0.1},\n",
       " 'pipeline_3D_prob_0.1_flow_0.5_4_2': {'pipeline': ['isotropy',\n",
       "   'norm_percentile',\n",
       "   'clean_boundaries_closing'],\n",
       "  'type': '3D',\n",
       "  'prob_threshold': 0.1},\n",
       " 'pipeline_3D_prob_0.1_flow_0.5_4_3': {'pipeline': ['isotropy',\n",
       "   'norm_percentile',\n",
       "   'split',\n",
       "   'clean_boundaries_opening'],\n",
       "  'type': '3D',\n",
       "  'prob_threshold': 0.1},\n",
       " 'pipeline_3D_prob_0.1_flow_0.5_4_4': {'pipeline': ['isotropy',\n",
       "   'norm_percentile',\n",
       "   'split',\n",
       "   'clean_boundaries_closing'],\n",
       "  'type': '3D',\n",
       "  'prob_threshold': 0.1},\n",
       " 'pipeline_3D_prob_0.1_flow_0.5_4_5': {'pipeline': ['isotropy',\n",
       "   'norm_percentile',\n",
       "   'clean_boundaries_opening',\n",
       "   'split'],\n",
       "  'type': '3D',\n",
       "  'prob_threshold': 0.1},\n",
       " 'pipeline_3D_prob_0.1_flow_0.5_4_6': {'pipeline': ['isotropy',\n",
       "   'norm_percentile',\n",
       "   'clean_boundaries_closing',\n",
       "   'split'],\n",
       "  'type': '3D',\n",
       "  'prob_threshold': 0.1},\n",
       " 'pipeline_3D_prob_0.1_flow_0.5_4_7': {'pipeline': ['isotropy',\n",
       "   'norm_percentile'],\n",
       "  'type': '3D',\n",
       "  'prob_threshold': 0.1},\n",
       " 'pipeline_3D_prob_0.1_flow_0.6_0_0': {'pipeline': ['isotropy',\n",
       "   'norm_percentile',\n",
       "   'bilateral',\n",
       "   'split'],\n",
       "  'type': '3D',\n",
       "  'prob_threshold': 0.1},\n",
       " 'pipeline_3D_prob_0.1_flow_0.6_0_1': {'pipeline': ['isotropy',\n",
       "   'norm_percentile',\n",
       "   'bilateral',\n",
       "   'clean_boundaries_opening'],\n",
       "  'type': '3D',\n",
       "  'prob_threshold': 0.1},\n",
       " 'pipeline_3D_prob_0.1_flow_0.6_0_2': {'pipeline': ['isotropy',\n",
       "   'norm_percentile',\n",
       "   'bilateral',\n",
       "   'clean_boundaries_closing'],\n",
       "  'type': '3D',\n",
       "  'prob_threshold': 0.1},\n",
       " 'pipeline_3D_prob_0.1_flow_0.6_0_3': {'pipeline': ['isotropy',\n",
       "   'norm_percentile',\n",
       "   'bilateral',\n",
       "   'split',\n",
       "   'clean_boundaries_opening'],\n",
       "  'type': '3D',\n",
       "  'prob_threshold': 0.1},\n",
       " 'pipeline_3D_prob_0.1_flow_0.6_0_4': {'pipeline': ['isotropy',\n",
       "   'norm_percentile',\n",
       "   'bilateral',\n",
       "   'split',\n",
       "   'clean_boundaries_closing'],\n",
       "  'type': '3D',\n",
       "  'prob_threshold': 0.1},\n",
       " 'pipeline_3D_prob_0.1_flow_0.6_0_5': {'pipeline': ['isotropy',\n",
       "   'norm_percentile',\n",
       "   'bilateral',\n",
       "   'clean_boundaries_opening',\n",
       "   'split'],\n",
       "  'type': '3D',\n",
       "  'prob_threshold': 0.1},\n",
       " 'pipeline_3D_prob_0.1_flow_0.6_0_6': {'pipeline': ['isotropy',\n",
       "   'norm_percentile',\n",
       "   'bilateral',\n",
       "   'clean_boundaries_closing',\n",
       "   'split'],\n",
       "  'type': '3D',\n",
       "  'prob_threshold': 0.1},\n",
       " 'pipeline_3D_prob_0.1_flow_0.6_0_7': {'pipeline': ['isotropy',\n",
       "   'norm_percentile',\n",
       "   'bilateral'],\n",
       "  'type': '3D',\n",
       "  'prob_threshold': 0.1},\n",
       " 'pipeline_3D_prob_0.1_flow_0.6_1_0': {'pipeline': ['isotropy',\n",
       "   'norm_percentile',\n",
       "   'anisodiff',\n",
       "   'split'],\n",
       "  'type': '3D',\n",
       "  'prob_threshold': 0.1},\n",
       " 'pipeline_3D_prob_0.1_flow_0.6_1_1': {'pipeline': ['isotropy',\n",
       "   'norm_percentile',\n",
       "   'anisodiff',\n",
       "   'clean_boundaries_opening'],\n",
       "  'type': '3D',\n",
       "  'prob_threshold': 0.1},\n",
       " 'pipeline_3D_prob_0.1_flow_0.6_1_2': {'pipeline': ['isotropy',\n",
       "   'norm_percentile',\n",
       "   'anisodiff',\n",
       "   'clean_boundaries_closing'],\n",
       "  'type': '3D',\n",
       "  'prob_threshold': 0.1},\n",
       " 'pipeline_3D_prob_0.1_flow_0.6_1_3': {'pipeline': ['isotropy',\n",
       "   'norm_percentile',\n",
       "   'anisodiff',\n",
       "   'split',\n",
       "   'clean_boundaries_opening'],\n",
       "  'type': '3D',\n",
       "  'prob_threshold': 0.1},\n",
       " 'pipeline_3D_prob_0.1_flow_0.6_1_4': {'pipeline': ['isotropy',\n",
       "   'norm_percentile',\n",
       "   'anisodiff',\n",
       "   'split',\n",
       "   'clean_boundaries_closing'],\n",
       "  'type': '3D',\n",
       "  'prob_threshold': 0.1},\n",
       " 'pipeline_3D_prob_0.1_flow_0.6_1_5': {'pipeline': ['isotropy',\n",
       "   'norm_percentile',\n",
       "   'anisodiff',\n",
       "   'clean_boundaries_opening',\n",
       "   'split'],\n",
       "  'type': '3D',\n",
       "  'prob_threshold': 0.1},\n",
       " 'pipeline_3D_prob_0.1_flow_0.6_1_6': {'pipeline': ['isotropy',\n",
       "   'norm_percentile',\n",
       "   'anisodiff',\n",
       "   'clean_boundaries_closing',\n",
       "   'split'],\n",
       "  'type': '3D',\n",
       "  'prob_threshold': 0.1},\n",
       " 'pipeline_3D_prob_0.1_flow_0.6_1_7': {'pipeline': ['isotropy',\n",
       "   'norm_percentile',\n",
       "   'anisodiff'],\n",
       "  'type': '3D',\n",
       "  'prob_threshold': 0.1},\n",
       " 'pipeline_3D_prob_0.1_flow_0.6_2_0': {'pipeline': ['isotropy',\n",
       "   'norm_percentile',\n",
       "   'bilateral',\n",
       "   'anisodiff',\n",
       "   'split'],\n",
       "  'type': '3D',\n",
       "  'prob_threshold': 0.1},\n",
       " 'pipeline_3D_prob_0.1_flow_0.6_2_1': {'pipeline': ['isotropy',\n",
       "   'norm_percentile',\n",
       "   'bilateral',\n",
       "   'anisodiff',\n",
       "   'clean_boundaries_opening'],\n",
       "  'type': '3D',\n",
       "  'prob_threshold': 0.1},\n",
       " 'pipeline_3D_prob_0.1_flow_0.6_2_2': {'pipeline': ['isotropy',\n",
       "   'norm_percentile',\n",
       "   'bilateral',\n",
       "   'anisodiff',\n",
       "   'clean_boundaries_closing'],\n",
       "  'type': '3D',\n",
       "  'prob_threshold': 0.1},\n",
       " 'pipeline_3D_prob_0.1_flow_0.6_2_3': {'pipeline': ['isotropy',\n",
       "   'norm_percentile',\n",
       "   'bilateral',\n",
       "   'anisodiff',\n",
       "   'split',\n",
       "   'clean_boundaries_opening'],\n",
       "  'type': '3D',\n",
       "  'prob_threshold': 0.1},\n",
       " 'pipeline_3D_prob_0.1_flow_0.6_2_4': {'pipeline': ['isotropy',\n",
       "   'norm_percentile',\n",
       "   'bilateral',\n",
       "   'anisodiff',\n",
       "   'split',\n",
       "   'clean_boundaries_closing'],\n",
       "  'type': '3D',\n",
       "  'prob_threshold': 0.1},\n",
       " 'pipeline_3D_prob_0.1_flow_0.6_2_5': {'pipeline': ['isotropy',\n",
       "   'norm_percentile',\n",
       "   'bilateral',\n",
       "   'anisodiff',\n",
       "   'clean_boundaries_opening',\n",
       "   'split'],\n",
       "  'type': '3D',\n",
       "  'prob_threshold': 0.1},\n",
       " 'pipeline_3D_prob_0.1_flow_0.6_2_6': {'pipeline': ['isotropy',\n",
       "   'norm_percentile',\n",
       "   'bilateral',\n",
       "   'anisodiff',\n",
       "   'clean_boundaries_closing',\n",
       "   'split'],\n",
       "  'type': '3D',\n",
       "  'prob_threshold': 0.1},\n",
       " 'pipeline_3D_prob_0.1_flow_0.6_2_7': {'pipeline': ['isotropy',\n",
       "   'norm_percentile',\n",
       "   'bilateral',\n",
       "   'anisodiff'],\n",
       "  'type': '3D',\n",
       "  'prob_threshold': 0.1},\n",
       " 'pipeline_3D_prob_0.1_flow_0.6_3_0': {'pipeline': ['isotropy',\n",
       "   'norm_percentile',\n",
       "   'anisodiff',\n",
       "   'bilateral',\n",
       "   'split'],\n",
       "  'type': '3D',\n",
       "  'prob_threshold': 0.1},\n",
       " 'pipeline_3D_prob_0.1_flow_0.6_3_1': {'pipeline': ['isotropy',\n",
       "   'norm_percentile',\n",
       "   'anisodiff',\n",
       "   'bilateral',\n",
       "   'clean_boundaries_opening'],\n",
       "  'type': '3D',\n",
       "  'prob_threshold': 0.1},\n",
       " 'pipeline_3D_prob_0.1_flow_0.6_3_2': {'pipeline': ['isotropy',\n",
       "   'norm_percentile',\n",
       "   'anisodiff',\n",
       "   'bilateral',\n",
       "   'clean_boundaries_closing'],\n",
       "  'type': '3D',\n",
       "  'prob_threshold': 0.1},\n",
       " 'pipeline_3D_prob_0.1_flow_0.6_3_3': {'pipeline': ['isotropy',\n",
       "   'norm_percentile',\n",
       "   'anisodiff',\n",
       "   'bilateral',\n",
       "   'split',\n",
       "   'clean_boundaries_opening'],\n",
       "  'type': '3D',\n",
       "  'prob_threshold': 0.1},\n",
       " 'pipeline_3D_prob_0.1_flow_0.6_3_4': {'pipeline': ['isotropy',\n",
       "   'norm_percentile',\n",
       "   'anisodiff',\n",
       "   'bilateral',\n",
       "   'split',\n",
       "   'clean_boundaries_closing'],\n",
       "  'type': '3D',\n",
       "  'prob_threshold': 0.1},\n",
       " 'pipeline_3D_prob_0.1_flow_0.6_3_5': {'pipeline': ['isotropy',\n",
       "   'norm_percentile',\n",
       "   'anisodiff',\n",
       "   'bilateral',\n",
       "   'clean_boundaries_opening',\n",
       "   'split'],\n",
       "  'type': '3D',\n",
       "  'prob_threshold': 0.1},\n",
       " 'pipeline_3D_prob_0.1_flow_0.6_3_6': {'pipeline': ['isotropy',\n",
       "   'norm_percentile',\n",
       "   'anisodiff',\n",
       "   'bilateral',\n",
       "   'clean_boundaries_closing',\n",
       "   'split'],\n",
       "  'type': '3D',\n",
       "  'prob_threshold': 0.1},\n",
       " 'pipeline_3D_prob_0.1_flow_0.6_3_7': {'pipeline': ['isotropy',\n",
       "   'norm_percentile',\n",
       "   'anisodiff',\n",
       "   'bilateral'],\n",
       "  'type': '3D',\n",
       "  'prob_threshold': 0.1},\n",
       " 'pipeline_3D_prob_0.1_flow_0.6_4_0': {'pipeline': ['isotropy',\n",
       "   'norm_percentile',\n",
       "   'split'],\n",
       "  'type': '3D',\n",
       "  'prob_threshold': 0.1},\n",
       " 'pipeline_3D_prob_0.1_flow_0.6_4_1': {'pipeline': ['isotropy',\n",
       "   'norm_percentile',\n",
       "   'clean_boundaries_opening'],\n",
       "  'type': '3D',\n",
       "  'prob_threshold': 0.1},\n",
       " 'pipeline_3D_prob_0.1_flow_0.6_4_2': {'pipeline': ['isotropy',\n",
       "   'norm_percentile',\n",
       "   'clean_boundaries_closing'],\n",
       "  'type': '3D',\n",
       "  'prob_threshold': 0.1},\n",
       " 'pipeline_3D_prob_0.1_flow_0.6_4_3': {'pipeline': ['isotropy',\n",
       "   'norm_percentile',\n",
       "   'split',\n",
       "   'clean_boundaries_opening'],\n",
       "  'type': '3D',\n",
       "  'prob_threshold': 0.1},\n",
       " 'pipeline_3D_prob_0.1_flow_0.6_4_4': {'pipeline': ['isotropy',\n",
       "   'norm_percentile',\n",
       "   'split',\n",
       "   'clean_boundaries_closing'],\n",
       "  'type': '3D',\n",
       "  'prob_threshold': 0.1},\n",
       " 'pipeline_3D_prob_0.1_flow_0.6_4_5': {'pipeline': ['isotropy',\n",
       "   'norm_percentile',\n",
       "   'clean_boundaries_opening',\n",
       "   'split'],\n",
       "  'type': '3D',\n",
       "  'prob_threshold': 0.1},\n",
       " 'pipeline_3D_prob_0.1_flow_0.6_4_6': {'pipeline': ['isotropy',\n",
       "   'norm_percentile',\n",
       "   'clean_boundaries_closing',\n",
       "   'split'],\n",
       "  'type': '3D',\n",
       "  'prob_threshold': 0.1},\n",
       " 'pipeline_3D_prob_0.1_flow_0.6_4_7': {'pipeline': ['isotropy',\n",
       "   'norm_percentile'],\n",
       "  'type': '3D',\n",
       "  'prob_threshold': 0.1},\n",
       " 'pipeline_3D_prob_0.3_flow_0.2_0_0': {'pipeline': ['isotropy',\n",
       "   'norm_percentile',\n",
       "   'bilateral',\n",
       "   'split'],\n",
       "  'type': '3D',\n",
       "  'prob_threshold': 0.3},\n",
       " 'pipeline_3D_prob_0.3_flow_0.2_0_1': {'pipeline': ['isotropy',\n",
       "   'norm_percentile',\n",
       "   'bilateral',\n",
       "   'clean_boundaries_opening'],\n",
       "  'type': '3D',\n",
       "  'prob_threshold': 0.3},\n",
       " 'pipeline_3D_prob_0.3_flow_0.2_0_2': {'pipeline': ['isotropy',\n",
       "   'norm_percentile',\n",
       "   'bilateral',\n",
       "   'clean_boundaries_closing'],\n",
       "  'type': '3D',\n",
       "  'prob_threshold': 0.3},\n",
       " 'pipeline_3D_prob_0.3_flow_0.2_0_3': {'pipeline': ['isotropy',\n",
       "   'norm_percentile',\n",
       "   'bilateral',\n",
       "   'split',\n",
       "   'clean_boundaries_opening'],\n",
       "  'type': '3D',\n",
       "  'prob_threshold': 0.3},\n",
       " 'pipeline_3D_prob_0.3_flow_0.2_0_4': {'pipeline': ['isotropy',\n",
       "   'norm_percentile',\n",
       "   'bilateral',\n",
       "   'split',\n",
       "   'clean_boundaries_closing'],\n",
       "  'type': '3D',\n",
       "  'prob_threshold': 0.3},\n",
       " 'pipeline_3D_prob_0.3_flow_0.2_0_5': {'pipeline': ['isotropy',\n",
       "   'norm_percentile',\n",
       "   'bilateral',\n",
       "   'clean_boundaries_opening',\n",
       "   'split'],\n",
       "  'type': '3D',\n",
       "  'prob_threshold': 0.3},\n",
       " 'pipeline_3D_prob_0.3_flow_0.2_0_6': {'pipeline': ['isotropy',\n",
       "   'norm_percentile',\n",
       "   'bilateral',\n",
       "   'clean_boundaries_closing',\n",
       "   'split'],\n",
       "  'type': '3D',\n",
       "  'prob_threshold': 0.3},\n",
       " 'pipeline_3D_prob_0.3_flow_0.2_0_7': {'pipeline': ['isotropy',\n",
       "   'norm_percentile',\n",
       "   'bilateral'],\n",
       "  'type': '3D',\n",
       "  'prob_threshold': 0.3},\n",
       " 'pipeline_3D_prob_0.3_flow_0.2_1_0': {'pipeline': ['isotropy',\n",
       "   'norm_percentile',\n",
       "   'anisodiff',\n",
       "   'split'],\n",
       "  'type': '3D',\n",
       "  'prob_threshold': 0.3},\n",
       " 'pipeline_3D_prob_0.3_flow_0.2_1_1': {'pipeline': ['isotropy',\n",
       "   'norm_percentile',\n",
       "   'anisodiff',\n",
       "   'clean_boundaries_opening'],\n",
       "  'type': '3D',\n",
       "  'prob_threshold': 0.3},\n",
       " 'pipeline_3D_prob_0.3_flow_0.2_1_2': {'pipeline': ['isotropy',\n",
       "   'norm_percentile',\n",
       "   'anisodiff',\n",
       "   'clean_boundaries_closing'],\n",
       "  'type': '3D',\n",
       "  'prob_threshold': 0.3},\n",
       " 'pipeline_3D_prob_0.3_flow_0.2_1_3': {'pipeline': ['isotropy',\n",
       "   'norm_percentile',\n",
       "   'anisodiff',\n",
       "   'split',\n",
       "   'clean_boundaries_opening'],\n",
       "  'type': '3D',\n",
       "  'prob_threshold': 0.3},\n",
       " 'pipeline_3D_prob_0.3_flow_0.2_1_4': {'pipeline': ['isotropy',\n",
       "   'norm_percentile',\n",
       "   'anisodiff',\n",
       "   'split',\n",
       "   'clean_boundaries_closing'],\n",
       "  'type': '3D',\n",
       "  'prob_threshold': 0.3},\n",
       " 'pipeline_3D_prob_0.3_flow_0.2_1_5': {'pipeline': ['isotropy',\n",
       "   'norm_percentile',\n",
       "   'anisodiff',\n",
       "   'clean_boundaries_opening',\n",
       "   'split'],\n",
       "  'type': '3D',\n",
       "  'prob_threshold': 0.3},\n",
       " 'pipeline_3D_prob_0.3_flow_0.2_1_6': {'pipeline': ['isotropy',\n",
       "   'norm_percentile',\n",
       "   'anisodiff',\n",
       "   'clean_boundaries_closing',\n",
       "   'split'],\n",
       "  'type': '3D',\n",
       "  'prob_threshold': 0.3},\n",
       " 'pipeline_3D_prob_0.3_flow_0.2_1_7': {'pipeline': ['isotropy',\n",
       "   'norm_percentile',\n",
       "   'anisodiff'],\n",
       "  'type': '3D',\n",
       "  'prob_threshold': 0.3},\n",
       " 'pipeline_3D_prob_0.3_flow_0.2_2_0': {'pipeline': ['isotropy',\n",
       "   'norm_percentile',\n",
       "   'bilateral',\n",
       "   'anisodiff',\n",
       "   'split'],\n",
       "  'type': '3D',\n",
       "  'prob_threshold': 0.3},\n",
       " 'pipeline_3D_prob_0.3_flow_0.2_2_1': {'pipeline': ['isotropy',\n",
       "   'norm_percentile',\n",
       "   'bilateral',\n",
       "   'anisodiff',\n",
       "   'clean_boundaries_opening'],\n",
       "  'type': '3D',\n",
       "  'prob_threshold': 0.3},\n",
       " 'pipeline_3D_prob_0.3_flow_0.2_2_2': {'pipeline': ['isotropy',\n",
       "   'norm_percentile',\n",
       "   'bilateral',\n",
       "   'anisodiff',\n",
       "   'clean_boundaries_closing'],\n",
       "  'type': '3D',\n",
       "  'prob_threshold': 0.3},\n",
       " 'pipeline_3D_prob_0.3_flow_0.2_2_3': {'pipeline': ['isotropy',\n",
       "   'norm_percentile',\n",
       "   'bilateral',\n",
       "   'anisodiff',\n",
       "   'split',\n",
       "   'clean_boundaries_opening'],\n",
       "  'type': '3D',\n",
       "  'prob_threshold': 0.3},\n",
       " 'pipeline_3D_prob_0.3_flow_0.2_2_4': {'pipeline': ['isotropy',\n",
       "   'norm_percentile',\n",
       "   'bilateral',\n",
       "   'anisodiff',\n",
       "   'split',\n",
       "   'clean_boundaries_closing'],\n",
       "  'type': '3D',\n",
       "  'prob_threshold': 0.3},\n",
       " 'pipeline_3D_prob_0.3_flow_0.2_2_5': {'pipeline': ['isotropy',\n",
       "   'norm_percentile',\n",
       "   'bilateral',\n",
       "   'anisodiff',\n",
       "   'clean_boundaries_opening',\n",
       "   'split'],\n",
       "  'type': '3D',\n",
       "  'prob_threshold': 0.3},\n",
       " 'pipeline_3D_prob_0.3_flow_0.2_2_6': {'pipeline': ['isotropy',\n",
       "   'norm_percentile',\n",
       "   'bilateral',\n",
       "   'anisodiff',\n",
       "   'clean_boundaries_closing',\n",
       "   'split'],\n",
       "  'type': '3D',\n",
       "  'prob_threshold': 0.3},\n",
       " 'pipeline_3D_prob_0.3_flow_0.2_2_7': {'pipeline': ['isotropy',\n",
       "   'norm_percentile',\n",
       "   'bilateral',\n",
       "   'anisodiff'],\n",
       "  'type': '3D',\n",
       "  'prob_threshold': 0.3},\n",
       " 'pipeline_3D_prob_0.3_flow_0.2_3_0': {'pipeline': ['isotropy',\n",
       "   'norm_percentile',\n",
       "   'anisodiff',\n",
       "   'bilateral',\n",
       "   'split'],\n",
       "  'type': '3D',\n",
       "  'prob_threshold': 0.3},\n",
       " 'pipeline_3D_prob_0.3_flow_0.2_3_1': {'pipeline': ['isotropy',\n",
       "   'norm_percentile',\n",
       "   'anisodiff',\n",
       "   'bilateral',\n",
       "   'clean_boundaries_opening'],\n",
       "  'type': '3D',\n",
       "  'prob_threshold': 0.3},\n",
       " 'pipeline_3D_prob_0.3_flow_0.2_3_2': {'pipeline': ['isotropy',\n",
       "   'norm_percentile',\n",
       "   'anisodiff',\n",
       "   'bilateral',\n",
       "   'clean_boundaries_closing'],\n",
       "  'type': '3D',\n",
       "  'prob_threshold': 0.3},\n",
       " 'pipeline_3D_prob_0.3_flow_0.2_3_3': {'pipeline': ['isotropy',\n",
       "   'norm_percentile',\n",
       "   'anisodiff',\n",
       "   'bilateral',\n",
       "   'split',\n",
       "   'clean_boundaries_opening'],\n",
       "  'type': '3D',\n",
       "  'prob_threshold': 0.3},\n",
       " 'pipeline_3D_prob_0.3_flow_0.2_3_4': {'pipeline': ['isotropy',\n",
       "   'norm_percentile',\n",
       "   'anisodiff',\n",
       "   'bilateral',\n",
       "   'split',\n",
       "   'clean_boundaries_closing'],\n",
       "  'type': '3D',\n",
       "  'prob_threshold': 0.3},\n",
       " 'pipeline_3D_prob_0.3_flow_0.2_3_5': {'pipeline': ['isotropy',\n",
       "   'norm_percentile',\n",
       "   'anisodiff',\n",
       "   'bilateral',\n",
       "   'clean_boundaries_opening',\n",
       "   'split'],\n",
       "  'type': '3D',\n",
       "  'prob_threshold': 0.3},\n",
       " 'pipeline_3D_prob_0.3_flow_0.2_3_6': {'pipeline': ['isotropy',\n",
       "   'norm_percentile',\n",
       "   'anisodiff',\n",
       "   'bilateral',\n",
       "   'clean_boundaries_closing',\n",
       "   'split'],\n",
       "  'type': '3D',\n",
       "  'prob_threshold': 0.3},\n",
       " 'pipeline_3D_prob_0.3_flow_0.2_3_7': {'pipeline': ['isotropy',\n",
       "   'norm_percentile',\n",
       "   'anisodiff',\n",
       "   'bilateral'],\n",
       "  'type': '3D',\n",
       "  'prob_threshold': 0.3},\n",
       " 'pipeline_3D_prob_0.3_flow_0.2_4_0': {'pipeline': ['isotropy',\n",
       "   'norm_percentile',\n",
       "   'split'],\n",
       "  'type': '3D',\n",
       "  'prob_threshold': 0.3},\n",
       " 'pipeline_3D_prob_0.3_flow_0.2_4_1': {'pipeline': ['isotropy',\n",
       "   'norm_percentile',\n",
       "   'clean_boundaries_opening'],\n",
       "  'type': '3D',\n",
       "  'prob_threshold': 0.3},\n",
       " 'pipeline_3D_prob_0.3_flow_0.2_4_2': {'pipeline': ['isotropy',\n",
       "   'norm_percentile',\n",
       "   'clean_boundaries_closing'],\n",
       "  'type': '3D',\n",
       "  'prob_threshold': 0.3},\n",
       " 'pipeline_3D_prob_0.3_flow_0.2_4_3': {'pipeline': ['isotropy',\n",
       "   'norm_percentile',\n",
       "   'split',\n",
       "   'clean_boundaries_opening'],\n",
       "  'type': '3D',\n",
       "  'prob_threshold': 0.3},\n",
       " 'pipeline_3D_prob_0.3_flow_0.2_4_4': {'pipeline': ['isotropy',\n",
       "   'norm_percentile',\n",
       "   'split',\n",
       "   'clean_boundaries_closing'],\n",
       "  'type': '3D',\n",
       "  'prob_threshold': 0.3},\n",
       " 'pipeline_3D_prob_0.3_flow_0.2_4_5': {'pipeline': ['isotropy',\n",
       "   'norm_percentile',\n",
       "   'clean_boundaries_opening',\n",
       "   'split'],\n",
       "  'type': '3D',\n",
       "  'prob_threshold': 0.3},\n",
       " 'pipeline_3D_prob_0.3_flow_0.2_4_6': {'pipeline': ['isotropy',\n",
       "   'norm_percentile',\n",
       "   'clean_boundaries_closing',\n",
       "   'split'],\n",
       "  'type': '3D',\n",
       "  'prob_threshold': 0.3},\n",
       " 'pipeline_3D_prob_0.3_flow_0.2_4_7': {'pipeline': ['isotropy',\n",
       "   'norm_percentile'],\n",
       "  'type': '3D',\n",
       "  'prob_threshold': 0.3},\n",
       " 'pipeline_3D_prob_0.3_flow_0.3_0_0': {'pipeline': ['isotropy',\n",
       "   'norm_percentile',\n",
       "   'bilateral',\n",
       "   'split'],\n",
       "  'type': '3D',\n",
       "  'prob_threshold': 0.3},\n",
       " 'pipeline_3D_prob_0.3_flow_0.3_0_1': {'pipeline': ['isotropy',\n",
       "   'norm_percentile',\n",
       "   'bilateral',\n",
       "   'clean_boundaries_opening'],\n",
       "  'type': '3D',\n",
       "  'prob_threshold': 0.3},\n",
       " 'pipeline_3D_prob_0.3_flow_0.3_0_2': {'pipeline': ['isotropy',\n",
       "   'norm_percentile',\n",
       "   'bilateral',\n",
       "   'clean_boundaries_closing'],\n",
       "  'type': '3D',\n",
       "  'prob_threshold': 0.3},\n",
       " 'pipeline_3D_prob_0.3_flow_0.3_0_3': {'pipeline': ['isotropy',\n",
       "   'norm_percentile',\n",
       "   'bilateral',\n",
       "   'split',\n",
       "   'clean_boundaries_opening'],\n",
       "  'type': '3D',\n",
       "  'prob_threshold': 0.3},\n",
       " 'pipeline_3D_prob_0.3_flow_0.3_0_4': {'pipeline': ['isotropy',\n",
       "   'norm_percentile',\n",
       "   'bilateral',\n",
       "   'split',\n",
       "   'clean_boundaries_closing'],\n",
       "  'type': '3D',\n",
       "  'prob_threshold': 0.3},\n",
       " 'pipeline_3D_prob_0.3_flow_0.3_0_5': {'pipeline': ['isotropy',\n",
       "   'norm_percentile',\n",
       "   'bilateral',\n",
       "   'clean_boundaries_opening',\n",
       "   'split'],\n",
       "  'type': '3D',\n",
       "  'prob_threshold': 0.3},\n",
       " 'pipeline_3D_prob_0.3_flow_0.3_0_6': {'pipeline': ['isotropy',\n",
       "   'norm_percentile',\n",
       "   'bilateral',\n",
       "   'clean_boundaries_closing',\n",
       "   'split'],\n",
       "  'type': '3D',\n",
       "  'prob_threshold': 0.3},\n",
       " 'pipeline_3D_prob_0.3_flow_0.3_0_7': {'pipeline': ['isotropy',\n",
       "   'norm_percentile',\n",
       "   'bilateral'],\n",
       "  'type': '3D',\n",
       "  'prob_threshold': 0.3},\n",
       " 'pipeline_3D_prob_0.3_flow_0.3_1_0': {'pipeline': ['isotropy',\n",
       "   'norm_percentile',\n",
       "   'anisodiff',\n",
       "   'split'],\n",
       "  'type': '3D',\n",
       "  'prob_threshold': 0.3},\n",
       " 'pipeline_3D_prob_0.3_flow_0.3_1_1': {'pipeline': ['isotropy',\n",
       "   'norm_percentile',\n",
       "   'anisodiff',\n",
       "   'clean_boundaries_opening'],\n",
       "  'type': '3D',\n",
       "  'prob_threshold': 0.3},\n",
       " 'pipeline_3D_prob_0.3_flow_0.3_1_2': {'pipeline': ['isotropy',\n",
       "   'norm_percentile',\n",
       "   'anisodiff',\n",
       "   'clean_boundaries_closing'],\n",
       "  'type': '3D',\n",
       "  'prob_threshold': 0.3},\n",
       " 'pipeline_3D_prob_0.3_flow_0.3_1_3': {'pipeline': ['isotropy',\n",
       "   'norm_percentile',\n",
       "   'anisodiff',\n",
       "   'split',\n",
       "   'clean_boundaries_opening'],\n",
       "  'type': '3D',\n",
       "  'prob_threshold': 0.3},\n",
       " 'pipeline_3D_prob_0.3_flow_0.3_1_4': {'pipeline': ['isotropy',\n",
       "   'norm_percentile',\n",
       "   'anisodiff',\n",
       "   'split',\n",
       "   'clean_boundaries_closing'],\n",
       "  'type': '3D',\n",
       "  'prob_threshold': 0.3},\n",
       " 'pipeline_3D_prob_0.3_flow_0.3_1_5': {'pipeline': ['isotropy',\n",
       "   'norm_percentile',\n",
       "   'anisodiff',\n",
       "   'clean_boundaries_opening',\n",
       "   'split'],\n",
       "  'type': '3D',\n",
       "  'prob_threshold': 0.3},\n",
       " 'pipeline_3D_prob_0.3_flow_0.3_1_6': {'pipeline': ['isotropy',\n",
       "   'norm_percentile',\n",
       "   'anisodiff',\n",
       "   'clean_boundaries_closing',\n",
       "   'split'],\n",
       "  'type': '3D',\n",
       "  'prob_threshold': 0.3},\n",
       " 'pipeline_3D_prob_0.3_flow_0.3_1_7': {'pipeline': ['isotropy',\n",
       "   'norm_percentile',\n",
       "   'anisodiff'],\n",
       "  'type': '3D',\n",
       "  'prob_threshold': 0.3},\n",
       " 'pipeline_3D_prob_0.3_flow_0.3_2_0': {'pipeline': ['isotropy',\n",
       "   'norm_percentile',\n",
       "   'bilateral',\n",
       "   'anisodiff',\n",
       "   'split'],\n",
       "  'type': '3D',\n",
       "  'prob_threshold': 0.3},\n",
       " 'pipeline_3D_prob_0.3_flow_0.3_2_1': {'pipeline': ['isotropy',\n",
       "   'norm_percentile',\n",
       "   'bilateral',\n",
       "   'anisodiff',\n",
       "   'clean_boundaries_opening'],\n",
       "  'type': '3D',\n",
       "  'prob_threshold': 0.3},\n",
       " 'pipeline_3D_prob_0.3_flow_0.3_2_2': {'pipeline': ['isotropy',\n",
       "   'norm_percentile',\n",
       "   'bilateral',\n",
       "   'anisodiff',\n",
       "   'clean_boundaries_closing'],\n",
       "  'type': '3D',\n",
       "  'prob_threshold': 0.3},\n",
       " 'pipeline_3D_prob_0.3_flow_0.3_2_3': {'pipeline': ['isotropy',\n",
       "   'norm_percentile',\n",
       "   'bilateral',\n",
       "   'anisodiff',\n",
       "   'split',\n",
       "   'clean_boundaries_opening'],\n",
       "  'type': '3D',\n",
       "  'prob_threshold': 0.3},\n",
       " 'pipeline_3D_prob_0.3_flow_0.3_2_4': {'pipeline': ['isotropy',\n",
       "   'norm_percentile',\n",
       "   'bilateral',\n",
       "   'anisodiff',\n",
       "   'split',\n",
       "   'clean_boundaries_closing'],\n",
       "  'type': '3D',\n",
       "  'prob_threshold': 0.3},\n",
       " 'pipeline_3D_prob_0.3_flow_0.3_2_5': {'pipeline': ['isotropy',\n",
       "   'norm_percentile',\n",
       "   'bilateral',\n",
       "   'anisodiff',\n",
       "   'clean_boundaries_opening',\n",
       "   'split'],\n",
       "  'type': '3D',\n",
       "  'prob_threshold': 0.3},\n",
       " 'pipeline_3D_prob_0.3_flow_0.3_2_6': {'pipeline': ['isotropy',\n",
       "   'norm_percentile',\n",
       "   'bilateral',\n",
       "   'anisodiff',\n",
       "   'clean_boundaries_closing',\n",
       "   'split'],\n",
       "  'type': '3D',\n",
       "  'prob_threshold': 0.3},\n",
       " 'pipeline_3D_prob_0.3_flow_0.3_2_7': {'pipeline': ['isotropy',\n",
       "   'norm_percentile',\n",
       "   'bilateral',\n",
       "   'anisodiff'],\n",
       "  'type': '3D',\n",
       "  'prob_threshold': 0.3},\n",
       " 'pipeline_3D_prob_0.3_flow_0.3_3_0': {'pipeline': ['isotropy',\n",
       "   'norm_percentile',\n",
       "   'anisodiff',\n",
       "   'bilateral',\n",
       "   'split'],\n",
       "  'type': '3D',\n",
       "  'prob_threshold': 0.3},\n",
       " 'pipeline_3D_prob_0.3_flow_0.3_3_1': {'pipeline': ['isotropy',\n",
       "   'norm_percentile',\n",
       "   'anisodiff',\n",
       "   'bilateral',\n",
       "   'clean_boundaries_opening'],\n",
       "  'type': '3D',\n",
       "  'prob_threshold': 0.3},\n",
       " 'pipeline_3D_prob_0.3_flow_0.3_3_2': {'pipeline': ['isotropy',\n",
       "   'norm_percentile',\n",
       "   'anisodiff',\n",
       "   'bilateral',\n",
       "   'clean_boundaries_closing'],\n",
       "  'type': '3D',\n",
       "  'prob_threshold': 0.3},\n",
       " 'pipeline_3D_prob_0.3_flow_0.3_3_3': {'pipeline': ['isotropy',\n",
       "   'norm_percentile',\n",
       "   'anisodiff',\n",
       "   'bilateral',\n",
       "   'split',\n",
       "   'clean_boundaries_opening'],\n",
       "  'type': '3D',\n",
       "  'prob_threshold': 0.3},\n",
       " 'pipeline_3D_prob_0.3_flow_0.3_3_4': {'pipeline': ['isotropy',\n",
       "   'norm_percentile',\n",
       "   'anisodiff',\n",
       "   'bilateral',\n",
       "   'split',\n",
       "   'clean_boundaries_closing'],\n",
       "  'type': '3D',\n",
       "  'prob_threshold': 0.3},\n",
       " 'pipeline_3D_prob_0.3_flow_0.3_3_5': {'pipeline': ['isotropy',\n",
       "   'norm_percentile',\n",
       "   'anisodiff',\n",
       "   'bilateral',\n",
       "   'clean_boundaries_opening',\n",
       "   'split'],\n",
       "  'type': '3D',\n",
       "  'prob_threshold': 0.3},\n",
       " 'pipeline_3D_prob_0.3_flow_0.3_3_6': {'pipeline': ['isotropy',\n",
       "   'norm_percentile',\n",
       "   'anisodiff',\n",
       "   'bilateral',\n",
       "   'clean_boundaries_closing',\n",
       "   'split'],\n",
       "  'type': '3D',\n",
       "  'prob_threshold': 0.3},\n",
       " 'pipeline_3D_prob_0.3_flow_0.3_3_7': {'pipeline': ['isotropy',\n",
       "   'norm_percentile',\n",
       "   'anisodiff',\n",
       "   'bilateral'],\n",
       "  'type': '3D',\n",
       "  'prob_threshold': 0.3},\n",
       " 'pipeline_3D_prob_0.3_flow_0.3_4_0': {'pipeline': ['isotropy',\n",
       "   'norm_percentile',\n",
       "   'split'],\n",
       "  'type': '3D',\n",
       "  'prob_threshold': 0.3},\n",
       " 'pipeline_3D_prob_0.3_flow_0.3_4_1': {'pipeline': ['isotropy',\n",
       "   'norm_percentile',\n",
       "   'clean_boundaries_opening'],\n",
       "  'type': '3D',\n",
       "  'prob_threshold': 0.3},\n",
       " 'pipeline_3D_prob_0.3_flow_0.3_4_2': {'pipeline': ['isotropy',\n",
       "   'norm_percentile',\n",
       "   'clean_boundaries_closing'],\n",
       "  'type': '3D',\n",
       "  'prob_threshold': 0.3},\n",
       " 'pipeline_3D_prob_0.3_flow_0.3_4_3': {'pipeline': ['isotropy',\n",
       "   'norm_percentile',\n",
       "   'split',\n",
       "   'clean_boundaries_opening'],\n",
       "  'type': '3D',\n",
       "  'prob_threshold': 0.3},\n",
       " 'pipeline_3D_prob_0.3_flow_0.3_4_4': {'pipeline': ['isotropy',\n",
       "   'norm_percentile',\n",
       "   'split',\n",
       "   'clean_boundaries_closing'],\n",
       "  'type': '3D',\n",
       "  'prob_threshold': 0.3},\n",
       " 'pipeline_3D_prob_0.3_flow_0.3_4_5': {'pipeline': ['isotropy',\n",
       "   'norm_percentile',\n",
       "   'clean_boundaries_opening',\n",
       "   'split'],\n",
       "  'type': '3D',\n",
       "  'prob_threshold': 0.3},\n",
       " 'pipeline_3D_prob_0.3_flow_0.3_4_6': {'pipeline': ['isotropy',\n",
       "   'norm_percentile',\n",
       "   'clean_boundaries_closing',\n",
       "   'split'],\n",
       "  'type': '3D',\n",
       "  'prob_threshold': 0.3},\n",
       " 'pipeline_3D_prob_0.3_flow_0.3_4_7': {'pipeline': ['isotropy',\n",
       "   'norm_percentile'],\n",
       "  'type': '3D',\n",
       "  'prob_threshold': 0.3},\n",
       " 'pipeline_3D_prob_0.3_flow_0.5_0_0': {'pipeline': ['isotropy',\n",
       "   'norm_percentile',\n",
       "   'bilateral',\n",
       "   'split'],\n",
       "  'type': '3D',\n",
       "  'prob_threshold': 0.3},\n",
       " 'pipeline_3D_prob_0.3_flow_0.5_0_1': {'pipeline': ['isotropy',\n",
       "   'norm_percentile',\n",
       "   'bilateral',\n",
       "   'clean_boundaries_opening'],\n",
       "  'type': '3D',\n",
       "  'prob_threshold': 0.3},\n",
       " 'pipeline_3D_prob_0.3_flow_0.5_0_2': {'pipeline': ['isotropy',\n",
       "   'norm_percentile',\n",
       "   'bilateral',\n",
       "   'clean_boundaries_closing'],\n",
       "  'type': '3D',\n",
       "  'prob_threshold': 0.3},\n",
       " 'pipeline_3D_prob_0.3_flow_0.5_0_3': {'pipeline': ['isotropy',\n",
       "   'norm_percentile',\n",
       "   'bilateral',\n",
       "   'split',\n",
       "   'clean_boundaries_opening'],\n",
       "  'type': '3D',\n",
       "  'prob_threshold': 0.3},\n",
       " 'pipeline_3D_prob_0.3_flow_0.5_0_4': {'pipeline': ['isotropy',\n",
       "   'norm_percentile',\n",
       "   'bilateral',\n",
       "   'split',\n",
       "   'clean_boundaries_closing'],\n",
       "  'type': '3D',\n",
       "  'prob_threshold': 0.3},\n",
       " 'pipeline_3D_prob_0.3_flow_0.5_0_5': {'pipeline': ['isotropy',\n",
       "   'norm_percentile',\n",
       "   'bilateral',\n",
       "   'clean_boundaries_opening',\n",
       "   'split'],\n",
       "  'type': '3D',\n",
       "  'prob_threshold': 0.3},\n",
       " 'pipeline_3D_prob_0.3_flow_0.5_0_6': {'pipeline': ['isotropy',\n",
       "   'norm_percentile',\n",
       "   'bilateral',\n",
       "   'clean_boundaries_closing',\n",
       "   'split'],\n",
       "  'type': '3D',\n",
       "  'prob_threshold': 0.3},\n",
       " 'pipeline_3D_prob_0.3_flow_0.5_0_7': {'pipeline': ['isotropy',\n",
       "   'norm_percentile',\n",
       "   'bilateral'],\n",
       "  'type': '3D',\n",
       "  'prob_threshold': 0.3},\n",
       " 'pipeline_3D_prob_0.3_flow_0.5_1_0': {'pipeline': ['isotropy',\n",
       "   'norm_percentile',\n",
       "   'anisodiff',\n",
       "   'split'],\n",
       "  'type': '3D',\n",
       "  'prob_threshold': 0.3},\n",
       " 'pipeline_3D_prob_0.3_flow_0.5_1_1': {'pipeline': ['isotropy',\n",
       "   'norm_percentile',\n",
       "   'anisodiff',\n",
       "   'clean_boundaries_opening'],\n",
       "  'type': '3D',\n",
       "  'prob_threshold': 0.3},\n",
       " 'pipeline_3D_prob_0.3_flow_0.5_1_2': {'pipeline': ['isotropy',\n",
       "   'norm_percentile',\n",
       "   'anisodiff',\n",
       "   'clean_boundaries_closing'],\n",
       "  'type': '3D',\n",
       "  'prob_threshold': 0.3},\n",
       " 'pipeline_3D_prob_0.3_flow_0.5_1_3': {'pipeline': ['isotropy',\n",
       "   'norm_percentile',\n",
       "   'anisodiff',\n",
       "   'split',\n",
       "   'clean_boundaries_opening'],\n",
       "  'type': '3D',\n",
       "  'prob_threshold': 0.3},\n",
       " 'pipeline_3D_prob_0.3_flow_0.5_1_4': {'pipeline': ['isotropy',\n",
       "   'norm_percentile',\n",
       "   'anisodiff',\n",
       "   'split',\n",
       "   'clean_boundaries_closing'],\n",
       "  'type': '3D',\n",
       "  'prob_threshold': 0.3},\n",
       " 'pipeline_3D_prob_0.3_flow_0.5_1_5': {'pipeline': ['isotropy',\n",
       "   'norm_percentile',\n",
       "   'anisodiff',\n",
       "   'clean_boundaries_opening',\n",
       "   'split'],\n",
       "  'type': '3D',\n",
       "  'prob_threshold': 0.3},\n",
       " 'pipeline_3D_prob_0.3_flow_0.5_1_6': {'pipeline': ['isotropy',\n",
       "   'norm_percentile',\n",
       "   'anisodiff',\n",
       "   'clean_boundaries_closing',\n",
       "   'split'],\n",
       "  'type': '3D',\n",
       "  'prob_threshold': 0.3},\n",
       " 'pipeline_3D_prob_0.3_flow_0.5_1_7': {'pipeline': ['isotropy',\n",
       "   'norm_percentile',\n",
       "   'anisodiff'],\n",
       "  'type': '3D',\n",
       "  'prob_threshold': 0.3},\n",
       " 'pipeline_3D_prob_0.3_flow_0.5_2_0': {'pipeline': ['isotropy',\n",
       "   'norm_percentile',\n",
       "   'bilateral',\n",
       "   'anisodiff',\n",
       "   'split'],\n",
       "  'type': '3D',\n",
       "  'prob_threshold': 0.3},\n",
       " 'pipeline_3D_prob_0.3_flow_0.5_2_1': {'pipeline': ['isotropy',\n",
       "   'norm_percentile',\n",
       "   'bilateral',\n",
       "   'anisodiff',\n",
       "   'clean_boundaries_opening'],\n",
       "  'type': '3D',\n",
       "  'prob_threshold': 0.3},\n",
       " 'pipeline_3D_prob_0.3_flow_0.5_2_2': {'pipeline': ['isotropy',\n",
       "   'norm_percentile',\n",
       "   'bilateral',\n",
       "   'anisodiff',\n",
       "   'clean_boundaries_closing'],\n",
       "  'type': '3D',\n",
       "  'prob_threshold': 0.3},\n",
       " 'pipeline_3D_prob_0.3_flow_0.5_2_3': {'pipeline': ['isotropy',\n",
       "   'norm_percentile',\n",
       "   'bilateral',\n",
       "   'anisodiff',\n",
       "   'split',\n",
       "   'clean_boundaries_opening'],\n",
       "  'type': '3D',\n",
       "  'prob_threshold': 0.3},\n",
       " 'pipeline_3D_prob_0.3_flow_0.5_2_4': {'pipeline': ['isotropy',\n",
       "   'norm_percentile',\n",
       "   'bilateral',\n",
       "   'anisodiff',\n",
       "   'split',\n",
       "   'clean_boundaries_closing'],\n",
       "  'type': '3D',\n",
       "  'prob_threshold': 0.3},\n",
       " 'pipeline_3D_prob_0.3_flow_0.5_2_5': {'pipeline': ['isotropy',\n",
       "   'norm_percentile',\n",
       "   'bilateral',\n",
       "   'anisodiff',\n",
       "   'clean_boundaries_opening',\n",
       "   'split'],\n",
       "  'type': '3D',\n",
       "  'prob_threshold': 0.3},\n",
       " 'pipeline_3D_prob_0.3_flow_0.5_2_6': {'pipeline': ['isotropy',\n",
       "   'norm_percentile',\n",
       "   'bilateral',\n",
       "   'anisodiff',\n",
       "   'clean_boundaries_closing',\n",
       "   'split'],\n",
       "  'type': '3D',\n",
       "  'prob_threshold': 0.3},\n",
       " 'pipeline_3D_prob_0.3_flow_0.5_2_7': {'pipeline': ['isotropy',\n",
       "   'norm_percentile',\n",
       "   'bilateral',\n",
       "   'anisodiff'],\n",
       "  'type': '3D',\n",
       "  'prob_threshold': 0.3},\n",
       " 'pipeline_3D_prob_0.3_flow_0.5_3_0': {'pipeline': ['isotropy',\n",
       "   'norm_percentile',\n",
       "   'anisodiff',\n",
       "   'bilateral',\n",
       "   'split'],\n",
       "  'type': '3D',\n",
       "  'prob_threshold': 0.3},\n",
       " 'pipeline_3D_prob_0.3_flow_0.5_3_1': {'pipeline': ['isotropy',\n",
       "   'norm_percentile',\n",
       "   'anisodiff',\n",
       "   'bilateral',\n",
       "   'clean_boundaries_opening'],\n",
       "  'type': '3D',\n",
       "  'prob_threshold': 0.3},\n",
       " 'pipeline_3D_prob_0.3_flow_0.5_3_2': {'pipeline': ['isotropy',\n",
       "   'norm_percentile',\n",
       "   'anisodiff',\n",
       "   'bilateral',\n",
       "   'clean_boundaries_closing'],\n",
       "  'type': '3D',\n",
       "  'prob_threshold': 0.3},\n",
       " 'pipeline_3D_prob_0.3_flow_0.5_3_3': {'pipeline': ['isotropy',\n",
       "   'norm_percentile',\n",
       "   'anisodiff',\n",
       "   'bilateral',\n",
       "   'split',\n",
       "   'clean_boundaries_opening'],\n",
       "  'type': '3D',\n",
       "  'prob_threshold': 0.3},\n",
       " 'pipeline_3D_prob_0.3_flow_0.5_3_4': {'pipeline': ['isotropy',\n",
       "   'norm_percentile',\n",
       "   'anisodiff',\n",
       "   'bilateral',\n",
       "   'split',\n",
       "   'clean_boundaries_closing'],\n",
       "  'type': '3D',\n",
       "  'prob_threshold': 0.3},\n",
       " 'pipeline_3D_prob_0.3_flow_0.5_3_5': {'pipeline': ['isotropy',\n",
       "   'norm_percentile',\n",
       "   'anisodiff',\n",
       "   'bilateral',\n",
       "   'clean_boundaries_opening',\n",
       "   'split'],\n",
       "  'type': '3D',\n",
       "  'prob_threshold': 0.3},\n",
       " 'pipeline_3D_prob_0.3_flow_0.5_3_6': {'pipeline': ['isotropy',\n",
       "   'norm_percentile',\n",
       "   'anisodiff',\n",
       "   'bilateral',\n",
       "   'clean_boundaries_closing',\n",
       "   'split'],\n",
       "  'type': '3D',\n",
       "  'prob_threshold': 0.3},\n",
       " 'pipeline_3D_prob_0.3_flow_0.5_3_7': {'pipeline': ['isotropy',\n",
       "   'norm_percentile',\n",
       "   'anisodiff',\n",
       "   'bilateral'],\n",
       "  'type': '3D',\n",
       "  'prob_threshold': 0.3},\n",
       " 'pipeline_3D_prob_0.3_flow_0.5_4_0': {'pipeline': ['isotropy',\n",
       "   'norm_percentile',\n",
       "   'split'],\n",
       "  'type': '3D',\n",
       "  'prob_threshold': 0.3},\n",
       " 'pipeline_3D_prob_0.3_flow_0.5_4_1': {'pipeline': ['isotropy',\n",
       "   'norm_percentile',\n",
       "   'clean_boundaries_opening'],\n",
       "  'type': '3D',\n",
       "  'prob_threshold': 0.3},\n",
       " 'pipeline_3D_prob_0.3_flow_0.5_4_2': {'pipeline': ['isotropy',\n",
       "   'norm_percentile',\n",
       "   'clean_boundaries_closing'],\n",
       "  'type': '3D',\n",
       "  'prob_threshold': 0.3},\n",
       " 'pipeline_3D_prob_0.3_flow_0.5_4_3': {'pipeline': ['isotropy',\n",
       "   'norm_percentile',\n",
       "   'split',\n",
       "   'clean_boundaries_opening'],\n",
       "  'type': '3D',\n",
       "  'prob_threshold': 0.3},\n",
       " 'pipeline_3D_prob_0.3_flow_0.5_4_4': {'pipeline': ['isotropy',\n",
       "   'norm_percentile',\n",
       "   'split',\n",
       "   'clean_boundaries_closing'],\n",
       "  'type': '3D',\n",
       "  'prob_threshold': 0.3},\n",
       " 'pipeline_3D_prob_0.3_flow_0.5_4_5': {'pipeline': ['isotropy',\n",
       "   'norm_percentile',\n",
       "   'clean_boundaries_opening',\n",
       "   'split'],\n",
       "  'type': '3D',\n",
       "  'prob_threshold': 0.3},\n",
       " 'pipeline_3D_prob_0.3_flow_0.5_4_6': {'pipeline': ['isotropy',\n",
       "   'norm_percentile',\n",
       "   'clean_boundaries_closing',\n",
       "   'split'],\n",
       "  'type': '3D',\n",
       "  'prob_threshold': 0.3},\n",
       " 'pipeline_3D_prob_0.3_flow_0.5_4_7': {'pipeline': ['isotropy',\n",
       "   'norm_percentile'],\n",
       "  'type': '3D',\n",
       "  'prob_threshold': 0.3},\n",
       " 'pipeline_3D_prob_0.3_flow_0.6_0_0': {'pipeline': ['isotropy',\n",
       "   'norm_percentile',\n",
       "   'bilateral',\n",
       "   'split'],\n",
       "  'type': '3D',\n",
       "  'prob_threshold': 0.3},\n",
       " 'pipeline_3D_prob_0.3_flow_0.6_0_1': {'pipeline': ['isotropy',\n",
       "   'norm_percentile',\n",
       "   'bilateral',\n",
       "   'clean_boundaries_opening'],\n",
       "  'type': '3D',\n",
       "  'prob_threshold': 0.3},\n",
       " 'pipeline_3D_prob_0.3_flow_0.6_0_2': {'pipeline': ['isotropy',\n",
       "   'norm_percentile',\n",
       "   'bilateral',\n",
       "   'clean_boundaries_closing'],\n",
       "  'type': '3D',\n",
       "  'prob_threshold': 0.3},\n",
       " 'pipeline_3D_prob_0.3_flow_0.6_0_3': {'pipeline': ['isotropy',\n",
       "   'norm_percentile',\n",
       "   'bilateral',\n",
       "   'split',\n",
       "   'clean_boundaries_opening'],\n",
       "  'type': '3D',\n",
       "  'prob_threshold': 0.3},\n",
       " 'pipeline_3D_prob_0.3_flow_0.6_0_4': {'pipeline': ['isotropy',\n",
       "   'norm_percentile',\n",
       "   'bilateral',\n",
       "   'split',\n",
       "   'clean_boundaries_closing'],\n",
       "  'type': '3D',\n",
       "  'prob_threshold': 0.3},\n",
       " 'pipeline_3D_prob_0.3_flow_0.6_0_5': {'pipeline': ['isotropy',\n",
       "   'norm_percentile',\n",
       "   'bilateral',\n",
       "   'clean_boundaries_opening',\n",
       "   'split'],\n",
       "  'type': '3D',\n",
       "  'prob_threshold': 0.3},\n",
       " 'pipeline_3D_prob_0.3_flow_0.6_0_6': {'pipeline': ['isotropy',\n",
       "   'norm_percentile',\n",
       "   'bilateral',\n",
       "   'clean_boundaries_closing',\n",
       "   'split'],\n",
       "  'type': '3D',\n",
       "  'prob_threshold': 0.3},\n",
       " 'pipeline_3D_prob_0.3_flow_0.6_0_7': {'pipeline': ['isotropy',\n",
       "   'norm_percentile',\n",
       "   'bilateral'],\n",
       "  'type': '3D',\n",
       "  'prob_threshold': 0.3},\n",
       " 'pipeline_3D_prob_0.3_flow_0.6_1_0': {'pipeline': ['isotropy',\n",
       "   'norm_percentile',\n",
       "   'anisodiff',\n",
       "   'split'],\n",
       "  'type': '3D',\n",
       "  'prob_threshold': 0.3},\n",
       " 'pipeline_3D_prob_0.3_flow_0.6_1_1': {'pipeline': ['isotropy',\n",
       "   'norm_percentile',\n",
       "   'anisodiff',\n",
       "   'clean_boundaries_opening'],\n",
       "  'type': '3D',\n",
       "  'prob_threshold': 0.3},\n",
       " 'pipeline_3D_prob_0.3_flow_0.6_1_2': {'pipeline': ['isotropy',\n",
       "   'norm_percentile',\n",
       "   'anisodiff',\n",
       "   'clean_boundaries_closing'],\n",
       "  'type': '3D',\n",
       "  'prob_threshold': 0.3},\n",
       " 'pipeline_3D_prob_0.3_flow_0.6_1_3': {'pipeline': ['isotropy',\n",
       "   'norm_percentile',\n",
       "   'anisodiff',\n",
       "   'split',\n",
       "   'clean_boundaries_opening'],\n",
       "  'type': '3D',\n",
       "  'prob_threshold': 0.3},\n",
       " 'pipeline_3D_prob_0.3_flow_0.6_1_4': {'pipeline': ['isotropy',\n",
       "   'norm_percentile',\n",
       "   'anisodiff',\n",
       "   'split',\n",
       "   'clean_boundaries_closing'],\n",
       "  'type': '3D',\n",
       "  'prob_threshold': 0.3},\n",
       " 'pipeline_3D_prob_0.3_flow_0.6_1_5': {'pipeline': ['isotropy',\n",
       "   'norm_percentile',\n",
       "   'anisodiff',\n",
       "   'clean_boundaries_opening',\n",
       "   'split'],\n",
       "  'type': '3D',\n",
       "  'prob_threshold': 0.3},\n",
       " 'pipeline_3D_prob_0.3_flow_0.6_1_6': {'pipeline': ['isotropy',\n",
       "   'norm_percentile',\n",
       "   'anisodiff',\n",
       "   'clean_boundaries_closing',\n",
       "   'split'],\n",
       "  'type': '3D',\n",
       "  'prob_threshold': 0.3},\n",
       " 'pipeline_3D_prob_0.3_flow_0.6_1_7': {'pipeline': ['isotropy',\n",
       "   'norm_percentile',\n",
       "   'anisodiff'],\n",
       "  'type': '3D',\n",
       "  'prob_threshold': 0.3},\n",
       " 'pipeline_3D_prob_0.3_flow_0.6_2_0': {'pipeline': ['isotropy',\n",
       "   'norm_percentile',\n",
       "   'bilateral',\n",
       "   'anisodiff',\n",
       "   'split'],\n",
       "  'type': '3D',\n",
       "  'prob_threshold': 0.3},\n",
       " 'pipeline_3D_prob_0.3_flow_0.6_2_1': {'pipeline': ['isotropy',\n",
       "   'norm_percentile',\n",
       "   'bilateral',\n",
       "   'anisodiff',\n",
       "   'clean_boundaries_opening'],\n",
       "  'type': '3D',\n",
       "  'prob_threshold': 0.3},\n",
       " 'pipeline_3D_prob_0.3_flow_0.6_2_2': {'pipeline': ['isotropy',\n",
       "   'norm_percentile',\n",
       "   'bilateral',\n",
       "   'anisodiff',\n",
       "   'clean_boundaries_closing'],\n",
       "  'type': '3D',\n",
       "  'prob_threshold': 0.3},\n",
       " 'pipeline_3D_prob_0.3_flow_0.6_2_3': {'pipeline': ['isotropy',\n",
       "   'norm_percentile',\n",
       "   'bilateral',\n",
       "   'anisodiff',\n",
       "   'split',\n",
       "   'clean_boundaries_opening'],\n",
       "  'type': '3D',\n",
       "  'prob_threshold': 0.3},\n",
       " 'pipeline_3D_prob_0.3_flow_0.6_2_4': {'pipeline': ['isotropy',\n",
       "   'norm_percentile',\n",
       "   'bilateral',\n",
       "   'anisodiff',\n",
       "   'split',\n",
       "   'clean_boundaries_closing'],\n",
       "  'type': '3D',\n",
       "  'prob_threshold': 0.3},\n",
       " 'pipeline_3D_prob_0.3_flow_0.6_2_5': {'pipeline': ['isotropy',\n",
       "   'norm_percentile',\n",
       "   'bilateral',\n",
       "   'anisodiff',\n",
       "   'clean_boundaries_opening',\n",
       "   'split'],\n",
       "  'type': '3D',\n",
       "  'prob_threshold': 0.3},\n",
       " 'pipeline_3D_prob_0.3_flow_0.6_2_6': {'pipeline': ['isotropy',\n",
       "   'norm_percentile',\n",
       "   'bilateral',\n",
       "   'anisodiff',\n",
       "   'clean_boundaries_closing',\n",
       "   'split'],\n",
       "  'type': '3D',\n",
       "  'prob_threshold': 0.3},\n",
       " 'pipeline_3D_prob_0.3_flow_0.6_2_7': {'pipeline': ['isotropy',\n",
       "   'norm_percentile',\n",
       "   'bilateral',\n",
       "   'anisodiff'],\n",
       "  'type': '3D',\n",
       "  'prob_threshold': 0.3},\n",
       " 'pipeline_3D_prob_0.3_flow_0.6_3_0': {'pipeline': ['isotropy',\n",
       "   'norm_percentile',\n",
       "   'anisodiff',\n",
       "   'bilateral',\n",
       "   'split'],\n",
       "  'type': '3D',\n",
       "  'prob_threshold': 0.3},\n",
       " 'pipeline_3D_prob_0.3_flow_0.6_3_1': {'pipeline': ['isotropy',\n",
       "   'norm_percentile',\n",
       "   'anisodiff',\n",
       "   'bilateral',\n",
       "   'clean_boundaries_opening'],\n",
       "  'type': '3D',\n",
       "  'prob_threshold': 0.3},\n",
       " 'pipeline_3D_prob_0.3_flow_0.6_3_2': {'pipeline': ['isotropy',\n",
       "   'norm_percentile',\n",
       "   'anisodiff',\n",
       "   'bilateral',\n",
       "   'clean_boundaries_closing'],\n",
       "  'type': '3D',\n",
       "  'prob_threshold': 0.3},\n",
       " 'pipeline_3D_prob_0.3_flow_0.6_3_3': {'pipeline': ['isotropy',\n",
       "   'norm_percentile',\n",
       "   'anisodiff',\n",
       "   'bilateral',\n",
       "   'split',\n",
       "   'clean_boundaries_opening'],\n",
       "  'type': '3D',\n",
       "  'prob_threshold': 0.3},\n",
       " 'pipeline_3D_prob_0.3_flow_0.6_3_4': {'pipeline': ['isotropy',\n",
       "   'norm_percentile',\n",
       "   'anisodiff',\n",
       "   'bilateral',\n",
       "   'split',\n",
       "   'clean_boundaries_closing'],\n",
       "  'type': '3D',\n",
       "  'prob_threshold': 0.3},\n",
       " 'pipeline_3D_prob_0.3_flow_0.6_3_5': {'pipeline': ['isotropy',\n",
       "   'norm_percentile',\n",
       "   'anisodiff',\n",
       "   'bilateral',\n",
       "   'clean_boundaries_opening',\n",
       "   'split'],\n",
       "  'type': '3D',\n",
       "  'prob_threshold': 0.3},\n",
       " 'pipeline_3D_prob_0.3_flow_0.6_3_6': {'pipeline': ['isotropy',\n",
       "   'norm_percentile',\n",
       "   'anisodiff',\n",
       "   'bilateral',\n",
       "   'clean_boundaries_closing',\n",
       "   'split'],\n",
       "  'type': '3D',\n",
       "  'prob_threshold': 0.3},\n",
       " 'pipeline_3D_prob_0.3_flow_0.6_3_7': {'pipeline': ['isotropy',\n",
       "   'norm_percentile',\n",
       "   'anisodiff',\n",
       "   'bilateral'],\n",
       "  'type': '3D',\n",
       "  'prob_threshold': 0.3},\n",
       " 'pipeline_3D_prob_0.3_flow_0.6_4_0': {'pipeline': ['isotropy',\n",
       "   'norm_percentile',\n",
       "   'split'],\n",
       "  'type': '3D',\n",
       "  'prob_threshold': 0.3},\n",
       " 'pipeline_3D_prob_0.3_flow_0.6_4_1': {'pipeline': ['isotropy',\n",
       "   'norm_percentile',\n",
       "   'clean_boundaries_opening'],\n",
       "  'type': '3D',\n",
       "  'prob_threshold': 0.3},\n",
       " 'pipeline_3D_prob_0.3_flow_0.6_4_2': {'pipeline': ['isotropy',\n",
       "   'norm_percentile',\n",
       "   'clean_boundaries_closing'],\n",
       "  'type': '3D',\n",
       "  'prob_threshold': 0.3},\n",
       " 'pipeline_3D_prob_0.3_flow_0.6_4_3': {'pipeline': ['isotropy',\n",
       "   'norm_percentile',\n",
       "   'split',\n",
       "   'clean_boundaries_opening'],\n",
       "  'type': '3D',\n",
       "  'prob_threshold': 0.3},\n",
       " 'pipeline_3D_prob_0.3_flow_0.6_4_4': {'pipeline': ['isotropy',\n",
       "   'norm_percentile',\n",
       "   'split',\n",
       "   'clean_boundaries_closing'],\n",
       "  'type': '3D',\n",
       "  'prob_threshold': 0.3},\n",
       " 'pipeline_3D_prob_0.3_flow_0.6_4_5': {'pipeline': ['isotropy',\n",
       "   'norm_percentile',\n",
       "   'clean_boundaries_opening',\n",
       "   'split'],\n",
       "  'type': '3D',\n",
       "  'prob_threshold': 0.3},\n",
       " 'pipeline_3D_prob_0.3_flow_0.6_4_6': {'pipeline': ['isotropy',\n",
       "   'norm_percentile',\n",
       "   'clean_boundaries_closing',\n",
       "   'split'],\n",
       "  'type': '3D',\n",
       "  'prob_threshold': 0.3},\n",
       " 'pipeline_3D_prob_0.3_flow_0.6_4_7': {'pipeline': ['isotropy',\n",
       "   'norm_percentile'],\n",
       "  'type': '3D',\n",
       "  'prob_threshold': 0.3},\n",
       " 'pipeline_3D_prob_0.4_flow_0.2_0_0': {'pipeline': ['isotropy',\n",
       "   'norm_percentile',\n",
       "   'bilateral',\n",
       "   'split'],\n",
       "  'type': '3D',\n",
       "  'prob_threshold': 0.4},\n",
       " 'pipeline_3D_prob_0.4_flow_0.2_0_1': {'pipeline': ['isotropy',\n",
       "   'norm_percentile',\n",
       "   'bilateral',\n",
       "   'clean_boundaries_opening'],\n",
       "  'type': '3D',\n",
       "  'prob_threshold': 0.4},\n",
       " 'pipeline_3D_prob_0.4_flow_0.2_0_2': {'pipeline': ['isotropy',\n",
       "   'norm_percentile',\n",
       "   'bilateral',\n",
       "   'clean_boundaries_closing'],\n",
       "  'type': '3D',\n",
       "  'prob_threshold': 0.4},\n",
       " 'pipeline_3D_prob_0.4_flow_0.2_0_3': {'pipeline': ['isotropy',\n",
       "   'norm_percentile',\n",
       "   'bilateral',\n",
       "   'split',\n",
       "   'clean_boundaries_opening'],\n",
       "  'type': '3D',\n",
       "  'prob_threshold': 0.4},\n",
       " 'pipeline_3D_prob_0.4_flow_0.2_0_4': {'pipeline': ['isotropy',\n",
       "   'norm_percentile',\n",
       "   'bilateral',\n",
       "   'split',\n",
       "   'clean_boundaries_closing'],\n",
       "  'type': '3D',\n",
       "  'prob_threshold': 0.4},\n",
       " 'pipeline_3D_prob_0.4_flow_0.2_0_5': {'pipeline': ['isotropy',\n",
       "   'norm_percentile',\n",
       "   'bilateral',\n",
       "   'clean_boundaries_opening',\n",
       "   'split'],\n",
       "  'type': '3D',\n",
       "  'prob_threshold': 0.4},\n",
       " 'pipeline_3D_prob_0.4_flow_0.2_0_6': {'pipeline': ['isotropy',\n",
       "   'norm_percentile',\n",
       "   'bilateral',\n",
       "   'clean_boundaries_closing',\n",
       "   'split'],\n",
       "  'type': '3D',\n",
       "  'prob_threshold': 0.4},\n",
       " 'pipeline_3D_prob_0.4_flow_0.2_0_7': {'pipeline': ['isotropy',\n",
       "   'norm_percentile',\n",
       "   'bilateral'],\n",
       "  'type': '3D',\n",
       "  'prob_threshold': 0.4},\n",
       " 'pipeline_3D_prob_0.4_flow_0.2_1_0': {'pipeline': ['isotropy',\n",
       "   'norm_percentile',\n",
       "   'anisodiff',\n",
       "   'split'],\n",
       "  'type': '3D',\n",
       "  'prob_threshold': 0.4},\n",
       " 'pipeline_3D_prob_0.4_flow_0.2_1_1': {'pipeline': ['isotropy',\n",
       "   'norm_percentile',\n",
       "   'anisodiff',\n",
       "   'clean_boundaries_opening'],\n",
       "  'type': '3D',\n",
       "  'prob_threshold': 0.4},\n",
       " 'pipeline_3D_prob_0.4_flow_0.2_1_2': {'pipeline': ['isotropy',\n",
       "   'norm_percentile',\n",
       "   'anisodiff',\n",
       "   'clean_boundaries_closing'],\n",
       "  'type': '3D',\n",
       "  'prob_threshold': 0.4},\n",
       " 'pipeline_3D_prob_0.4_flow_0.2_1_3': {'pipeline': ['isotropy',\n",
       "   'norm_percentile',\n",
       "   'anisodiff',\n",
       "   'split',\n",
       "   'clean_boundaries_opening'],\n",
       "  'type': '3D',\n",
       "  'prob_threshold': 0.4},\n",
       " 'pipeline_3D_prob_0.4_flow_0.2_1_4': {'pipeline': ['isotropy',\n",
       "   'norm_percentile',\n",
       "   'anisodiff',\n",
       "   'split',\n",
       "   'clean_boundaries_closing'],\n",
       "  'type': '3D',\n",
       "  'prob_threshold': 0.4},\n",
       " 'pipeline_3D_prob_0.4_flow_0.2_1_5': {'pipeline': ['isotropy',\n",
       "   'norm_percentile',\n",
       "   'anisodiff',\n",
       "   'clean_boundaries_opening',\n",
       "   'split'],\n",
       "  'type': '3D',\n",
       "  'prob_threshold': 0.4},\n",
       " 'pipeline_3D_prob_0.4_flow_0.2_1_6': {'pipeline': ['isotropy',\n",
       "   'norm_percentile',\n",
       "   'anisodiff',\n",
       "   'clean_boundaries_closing',\n",
       "   'split'],\n",
       "  'type': '3D',\n",
       "  'prob_threshold': 0.4},\n",
       " 'pipeline_3D_prob_0.4_flow_0.2_1_7': {'pipeline': ['isotropy',\n",
       "   'norm_percentile',\n",
       "   'anisodiff'],\n",
       "  'type': '3D',\n",
       "  'prob_threshold': 0.4},\n",
       " 'pipeline_3D_prob_0.4_flow_0.2_2_0': {'pipeline': ['isotropy',\n",
       "   'norm_percentile',\n",
       "   'bilateral',\n",
       "   'anisodiff',\n",
       "   'split'],\n",
       "  'type': '3D',\n",
       "  'prob_threshold': 0.4},\n",
       " 'pipeline_3D_prob_0.4_flow_0.2_2_1': {'pipeline': ['isotropy',\n",
       "   'norm_percentile',\n",
       "   'bilateral',\n",
       "   'anisodiff',\n",
       "   'clean_boundaries_opening'],\n",
       "  'type': '3D',\n",
       "  'prob_threshold': 0.4},\n",
       " 'pipeline_3D_prob_0.4_flow_0.2_2_2': {'pipeline': ['isotropy',\n",
       "   'norm_percentile',\n",
       "   'bilateral',\n",
       "   'anisodiff',\n",
       "   'clean_boundaries_closing'],\n",
       "  'type': '3D',\n",
       "  'prob_threshold': 0.4},\n",
       " 'pipeline_3D_prob_0.4_flow_0.2_2_3': {'pipeline': ['isotropy',\n",
       "   'norm_percentile',\n",
       "   'bilateral',\n",
       "   'anisodiff',\n",
       "   'split',\n",
       "   'clean_boundaries_opening'],\n",
       "  'type': '3D',\n",
       "  'prob_threshold': 0.4},\n",
       " 'pipeline_3D_prob_0.4_flow_0.2_2_4': {'pipeline': ['isotropy',\n",
       "   'norm_percentile',\n",
       "   'bilateral',\n",
       "   'anisodiff',\n",
       "   'split',\n",
       "   'clean_boundaries_closing'],\n",
       "  'type': '3D',\n",
       "  'prob_threshold': 0.4},\n",
       " 'pipeline_3D_prob_0.4_flow_0.2_2_5': {'pipeline': ['isotropy',\n",
       "   'norm_percentile',\n",
       "   'bilateral',\n",
       "   'anisodiff',\n",
       "   'clean_boundaries_opening',\n",
       "   'split'],\n",
       "  'type': '3D',\n",
       "  'prob_threshold': 0.4},\n",
       " 'pipeline_3D_prob_0.4_flow_0.2_2_6': {'pipeline': ['isotropy',\n",
       "   'norm_percentile',\n",
       "   'bilateral',\n",
       "   'anisodiff',\n",
       "   'clean_boundaries_closing',\n",
       "   'split'],\n",
       "  'type': '3D',\n",
       "  'prob_threshold': 0.4},\n",
       " 'pipeline_3D_prob_0.4_flow_0.2_2_7': {'pipeline': ['isotropy',\n",
       "   'norm_percentile',\n",
       "   'bilateral',\n",
       "   'anisodiff'],\n",
       "  'type': '3D',\n",
       "  'prob_threshold': 0.4},\n",
       " 'pipeline_3D_prob_0.4_flow_0.2_3_0': {'pipeline': ['isotropy',\n",
       "   'norm_percentile',\n",
       "   'anisodiff',\n",
       "   'bilateral',\n",
       "   'split'],\n",
       "  'type': '3D',\n",
       "  'prob_threshold': 0.4},\n",
       " 'pipeline_3D_prob_0.4_flow_0.2_3_1': {'pipeline': ['isotropy',\n",
       "   'norm_percentile',\n",
       "   'anisodiff',\n",
       "   'bilateral',\n",
       "   'clean_boundaries_opening'],\n",
       "  'type': '3D',\n",
       "  'prob_threshold': 0.4},\n",
       " 'pipeline_3D_prob_0.4_flow_0.2_3_2': {'pipeline': ['isotropy',\n",
       "   'norm_percentile',\n",
       "   'anisodiff',\n",
       "   'bilateral',\n",
       "   'clean_boundaries_closing'],\n",
       "  'type': '3D',\n",
       "  'prob_threshold': 0.4},\n",
       " 'pipeline_3D_prob_0.4_flow_0.2_3_3': {'pipeline': ['isotropy',\n",
       "   'norm_percentile',\n",
       "   'anisodiff',\n",
       "   'bilateral',\n",
       "   'split',\n",
       "   'clean_boundaries_opening'],\n",
       "  'type': '3D',\n",
       "  'prob_threshold': 0.4},\n",
       " 'pipeline_3D_prob_0.4_flow_0.2_3_4': {'pipeline': ['isotropy',\n",
       "   'norm_percentile',\n",
       "   'anisodiff',\n",
       "   'bilateral',\n",
       "   'split',\n",
       "   'clean_boundaries_closing'],\n",
       "  'type': '3D',\n",
       "  'prob_threshold': 0.4},\n",
       " 'pipeline_3D_prob_0.4_flow_0.2_3_5': {'pipeline': ['isotropy',\n",
       "   'norm_percentile',\n",
       "   'anisodiff',\n",
       "   'bilateral',\n",
       "   'clean_boundaries_opening',\n",
       "   'split'],\n",
       "  'type': '3D',\n",
       "  'prob_threshold': 0.4},\n",
       " 'pipeline_3D_prob_0.4_flow_0.2_3_6': {'pipeline': ['isotropy',\n",
       "   'norm_percentile',\n",
       "   'anisodiff',\n",
       "   'bilateral',\n",
       "   'clean_boundaries_closing',\n",
       "   'split'],\n",
       "  'type': '3D',\n",
       "  'prob_threshold': 0.4},\n",
       " 'pipeline_3D_prob_0.4_flow_0.2_3_7': {'pipeline': ['isotropy',\n",
       "   'norm_percentile',\n",
       "   'anisodiff',\n",
       "   'bilateral'],\n",
       "  'type': '3D',\n",
       "  'prob_threshold': 0.4},\n",
       " 'pipeline_3D_prob_0.4_flow_0.2_4_0': {'pipeline': ['isotropy',\n",
       "   'norm_percentile',\n",
       "   'split'],\n",
       "  'type': '3D',\n",
       "  'prob_threshold': 0.4},\n",
       " 'pipeline_3D_prob_0.4_flow_0.2_4_1': {'pipeline': ['isotropy',\n",
       "   'norm_percentile',\n",
       "   'clean_boundaries_opening'],\n",
       "  'type': '3D',\n",
       "  'prob_threshold': 0.4},\n",
       " 'pipeline_3D_prob_0.4_flow_0.2_4_2': {'pipeline': ['isotropy',\n",
       "   'norm_percentile',\n",
       "   'clean_boundaries_closing'],\n",
       "  'type': '3D',\n",
       "  'prob_threshold': 0.4},\n",
       " 'pipeline_3D_prob_0.4_flow_0.2_4_3': {'pipeline': ['isotropy',\n",
       "   'norm_percentile',\n",
       "   'split',\n",
       "   'clean_boundaries_opening'],\n",
       "  'type': '3D',\n",
       "  'prob_threshold': 0.4},\n",
       " 'pipeline_3D_prob_0.4_flow_0.2_4_4': {'pipeline': ['isotropy',\n",
       "   'norm_percentile',\n",
       "   'split',\n",
       "   'clean_boundaries_closing'],\n",
       "  'type': '3D',\n",
       "  'prob_threshold': 0.4},\n",
       " 'pipeline_3D_prob_0.4_flow_0.2_4_5': {'pipeline': ['isotropy',\n",
       "   'norm_percentile',\n",
       "   'clean_boundaries_opening',\n",
       "   'split'],\n",
       "  'type': '3D',\n",
       "  'prob_threshold': 0.4},\n",
       " 'pipeline_3D_prob_0.4_flow_0.2_4_6': {'pipeline': ['isotropy',\n",
       "   'norm_percentile',\n",
       "   'clean_boundaries_closing',\n",
       "   'split'],\n",
       "  'type': '3D',\n",
       "  'prob_threshold': 0.4},\n",
       " 'pipeline_3D_prob_0.4_flow_0.2_4_7': {'pipeline': ['isotropy',\n",
       "   'norm_percentile'],\n",
       "  'type': '3D',\n",
       "  'prob_threshold': 0.4},\n",
       " 'pipeline_3D_prob_0.4_flow_0.3_0_0': {'pipeline': ['isotropy',\n",
       "   'norm_percentile',\n",
       "   'bilateral',\n",
       "   'split'],\n",
       "  'type': '3D',\n",
       "  'prob_threshold': 0.4},\n",
       " 'pipeline_3D_prob_0.4_flow_0.3_0_1': {'pipeline': ['isotropy',\n",
       "   'norm_percentile',\n",
       "   'bilateral',\n",
       "   'clean_boundaries_opening'],\n",
       "  'type': '3D',\n",
       "  'prob_threshold': 0.4},\n",
       " 'pipeline_3D_prob_0.4_flow_0.3_0_2': {'pipeline': ['isotropy',\n",
       "   'norm_percentile',\n",
       "   'bilateral',\n",
       "   'clean_boundaries_closing'],\n",
       "  'type': '3D',\n",
       "  'prob_threshold': 0.4},\n",
       " 'pipeline_3D_prob_0.4_flow_0.3_0_3': {'pipeline': ['isotropy',\n",
       "   'norm_percentile',\n",
       "   'bilateral',\n",
       "   'split',\n",
       "   'clean_boundaries_opening'],\n",
       "  'type': '3D',\n",
       "  'prob_threshold': 0.4},\n",
       " 'pipeline_3D_prob_0.4_flow_0.3_0_4': {'pipeline': ['isotropy',\n",
       "   'norm_percentile',\n",
       "   'bilateral',\n",
       "   'split',\n",
       "   'clean_boundaries_closing'],\n",
       "  'type': '3D',\n",
       "  'prob_threshold': 0.4},\n",
       " 'pipeline_3D_prob_0.4_flow_0.3_0_5': {'pipeline': ['isotropy',\n",
       "   'norm_percentile',\n",
       "   'bilateral',\n",
       "   'clean_boundaries_opening',\n",
       "   'split'],\n",
       "  'type': '3D',\n",
       "  'prob_threshold': 0.4},\n",
       " 'pipeline_3D_prob_0.4_flow_0.3_0_6': {'pipeline': ['isotropy',\n",
       "   'norm_percentile',\n",
       "   'bilateral',\n",
       "   'clean_boundaries_closing',\n",
       "   'split'],\n",
       "  'type': '3D',\n",
       "  'prob_threshold': 0.4},\n",
       " 'pipeline_3D_prob_0.4_flow_0.3_0_7': {'pipeline': ['isotropy',\n",
       "   'norm_percentile',\n",
       "   'bilateral'],\n",
       "  'type': '3D',\n",
       "  'prob_threshold': 0.4},\n",
       " 'pipeline_3D_prob_0.4_flow_0.3_1_0': {'pipeline': ['isotropy',\n",
       "   'norm_percentile',\n",
       "   'anisodiff',\n",
       "   'split'],\n",
       "  'type': '3D',\n",
       "  'prob_threshold': 0.4},\n",
       " 'pipeline_3D_prob_0.4_flow_0.3_1_1': {'pipeline': ['isotropy',\n",
       "   'norm_percentile',\n",
       "   'anisodiff',\n",
       "   'clean_boundaries_opening'],\n",
       "  'type': '3D',\n",
       "  'prob_threshold': 0.4},\n",
       " 'pipeline_3D_prob_0.4_flow_0.3_1_2': {'pipeline': ['isotropy',\n",
       "   'norm_percentile',\n",
       "   'anisodiff',\n",
       "   'clean_boundaries_closing'],\n",
       "  'type': '3D',\n",
       "  'prob_threshold': 0.4},\n",
       " 'pipeline_3D_prob_0.4_flow_0.3_1_3': {'pipeline': ['isotropy',\n",
       "   'norm_percentile',\n",
       "   'anisodiff',\n",
       "   'split',\n",
       "   'clean_boundaries_opening'],\n",
       "  'type': '3D',\n",
       "  'prob_threshold': 0.4},\n",
       " 'pipeline_3D_prob_0.4_flow_0.3_1_4': {'pipeline': ['isotropy',\n",
       "   'norm_percentile',\n",
       "   'anisodiff',\n",
       "   'split',\n",
       "   'clean_boundaries_closing'],\n",
       "  'type': '3D',\n",
       "  'prob_threshold': 0.4},\n",
       " 'pipeline_3D_prob_0.4_flow_0.3_1_5': {'pipeline': ['isotropy',\n",
       "   'norm_percentile',\n",
       "   'anisodiff',\n",
       "   'clean_boundaries_opening',\n",
       "   'split'],\n",
       "  'type': '3D',\n",
       "  'prob_threshold': 0.4},\n",
       " 'pipeline_3D_prob_0.4_flow_0.3_1_6': {'pipeline': ['isotropy',\n",
       "   'norm_percentile',\n",
       "   'anisodiff',\n",
       "   'clean_boundaries_closing',\n",
       "   'split'],\n",
       "  'type': '3D',\n",
       "  'prob_threshold': 0.4},\n",
       " 'pipeline_3D_prob_0.4_flow_0.3_1_7': {'pipeline': ['isotropy',\n",
       "   'norm_percentile',\n",
       "   'anisodiff'],\n",
       "  'type': '3D',\n",
       "  'prob_threshold': 0.4},\n",
       " 'pipeline_3D_prob_0.4_flow_0.3_2_0': {'pipeline': ['isotropy',\n",
       "   'norm_percentile',\n",
       "   'bilateral',\n",
       "   'anisodiff',\n",
       "   'split'],\n",
       "  'type': '3D',\n",
       "  'prob_threshold': 0.4},\n",
       " 'pipeline_3D_prob_0.4_flow_0.3_2_1': {'pipeline': ['isotropy',\n",
       "   'norm_percentile',\n",
       "   'bilateral',\n",
       "   'anisodiff',\n",
       "   'clean_boundaries_opening'],\n",
       "  'type': '3D',\n",
       "  'prob_threshold': 0.4},\n",
       " 'pipeline_3D_prob_0.4_flow_0.3_2_2': {'pipeline': ['isotropy',\n",
       "   'norm_percentile',\n",
       "   'bilateral',\n",
       "   'anisodiff',\n",
       "   'clean_boundaries_closing'],\n",
       "  'type': '3D',\n",
       "  'prob_threshold': 0.4},\n",
       " 'pipeline_3D_prob_0.4_flow_0.3_2_3': {'pipeline': ['isotropy',\n",
       "   'norm_percentile',\n",
       "   'bilateral',\n",
       "   'anisodiff',\n",
       "   'split',\n",
       "   'clean_boundaries_opening'],\n",
       "  'type': '3D',\n",
       "  'prob_threshold': 0.4},\n",
       " 'pipeline_3D_prob_0.4_flow_0.3_2_4': {'pipeline': ['isotropy',\n",
       "   'norm_percentile',\n",
       "   'bilateral',\n",
       "   'anisodiff',\n",
       "   'split',\n",
       "   'clean_boundaries_closing'],\n",
       "  'type': '3D',\n",
       "  'prob_threshold': 0.4},\n",
       " 'pipeline_3D_prob_0.4_flow_0.3_2_5': {'pipeline': ['isotropy',\n",
       "   'norm_percentile',\n",
       "   'bilateral',\n",
       "   'anisodiff',\n",
       "   'clean_boundaries_opening',\n",
       "   'split'],\n",
       "  'type': '3D',\n",
       "  'prob_threshold': 0.4},\n",
       " 'pipeline_3D_prob_0.4_flow_0.3_2_6': {'pipeline': ['isotropy',\n",
       "   'norm_percentile',\n",
       "   'bilateral',\n",
       "   'anisodiff',\n",
       "   'clean_boundaries_closing',\n",
       "   'split'],\n",
       "  'type': '3D',\n",
       "  'prob_threshold': 0.4},\n",
       " 'pipeline_3D_prob_0.4_flow_0.3_2_7': {'pipeline': ['isotropy',\n",
       "   'norm_percentile',\n",
       "   'bilateral',\n",
       "   'anisodiff'],\n",
       "  'type': '3D',\n",
       "  'prob_threshold': 0.4},\n",
       " 'pipeline_3D_prob_0.4_flow_0.3_3_0': {'pipeline': ['isotropy',\n",
       "   'norm_percentile',\n",
       "   'anisodiff',\n",
       "   'bilateral',\n",
       "   'split'],\n",
       "  'type': '3D',\n",
       "  'prob_threshold': 0.4},\n",
       " 'pipeline_3D_prob_0.4_flow_0.3_3_1': {'pipeline': ['isotropy',\n",
       "   'norm_percentile',\n",
       "   'anisodiff',\n",
       "   'bilateral',\n",
       "   'clean_boundaries_opening'],\n",
       "  'type': '3D',\n",
       "  'prob_threshold': 0.4},\n",
       " 'pipeline_3D_prob_0.4_flow_0.3_3_2': {'pipeline': ['isotropy',\n",
       "   'norm_percentile',\n",
       "   'anisodiff',\n",
       "   'bilateral',\n",
       "   'clean_boundaries_closing'],\n",
       "  'type': '3D',\n",
       "  'prob_threshold': 0.4},\n",
       " 'pipeline_3D_prob_0.4_flow_0.3_3_3': {'pipeline': ['isotropy',\n",
       "   'norm_percentile',\n",
       "   'anisodiff',\n",
       "   'bilateral',\n",
       "   'split',\n",
       "   'clean_boundaries_opening'],\n",
       "  'type': '3D',\n",
       "  'prob_threshold': 0.4},\n",
       " 'pipeline_3D_prob_0.4_flow_0.3_3_4': {'pipeline': ['isotropy',\n",
       "   'norm_percentile',\n",
       "   'anisodiff',\n",
       "   'bilateral',\n",
       "   'split',\n",
       "   'clean_boundaries_closing'],\n",
       "  'type': '3D',\n",
       "  'prob_threshold': 0.4},\n",
       " 'pipeline_3D_prob_0.4_flow_0.3_3_5': {'pipeline': ['isotropy',\n",
       "   'norm_percentile',\n",
       "   'anisodiff',\n",
       "   'bilateral',\n",
       "   'clean_boundaries_opening',\n",
       "   'split'],\n",
       "  'type': '3D',\n",
       "  'prob_threshold': 0.4},\n",
       " 'pipeline_3D_prob_0.4_flow_0.3_3_6': {'pipeline': ['isotropy',\n",
       "   'norm_percentile',\n",
       "   'anisodiff',\n",
       "   'bilateral',\n",
       "   'clean_boundaries_closing',\n",
       "   'split'],\n",
       "  'type': '3D',\n",
       "  'prob_threshold': 0.4},\n",
       " 'pipeline_3D_prob_0.4_flow_0.3_3_7': {'pipeline': ['isotropy',\n",
       "   'norm_percentile',\n",
       "   'anisodiff',\n",
       "   'bilateral'],\n",
       "  'type': '3D',\n",
       "  'prob_threshold': 0.4},\n",
       " 'pipeline_3D_prob_0.4_flow_0.3_4_0': {'pipeline': ['isotropy',\n",
       "   'norm_percentile',\n",
       "   'split'],\n",
       "  'type': '3D',\n",
       "  'prob_threshold': 0.4},\n",
       " 'pipeline_3D_prob_0.4_flow_0.3_4_1': {'pipeline': ['isotropy',\n",
       "   'norm_percentile',\n",
       "   'clean_boundaries_opening'],\n",
       "  'type': '3D',\n",
       "  'prob_threshold': 0.4},\n",
       " 'pipeline_3D_prob_0.4_flow_0.3_4_2': {'pipeline': ['isotropy',\n",
       "   'norm_percentile',\n",
       "   'clean_boundaries_closing'],\n",
       "  'type': '3D',\n",
       "  'prob_threshold': 0.4},\n",
       " 'pipeline_3D_prob_0.4_flow_0.3_4_3': {'pipeline': ['isotropy',\n",
       "   'norm_percentile',\n",
       "   'split',\n",
       "   'clean_boundaries_opening'],\n",
       "  'type': '3D',\n",
       "  'prob_threshold': 0.4},\n",
       " 'pipeline_3D_prob_0.4_flow_0.3_4_4': {'pipeline': ['isotropy',\n",
       "   'norm_percentile',\n",
       "   'split',\n",
       "   'clean_boundaries_closing'],\n",
       "  'type': '3D',\n",
       "  'prob_threshold': 0.4},\n",
       " 'pipeline_3D_prob_0.4_flow_0.3_4_5': {'pipeline': ['isotropy',\n",
       "   'norm_percentile',\n",
       "   'clean_boundaries_opening',\n",
       "   'split'],\n",
       "  'type': '3D',\n",
       "  'prob_threshold': 0.4},\n",
       " 'pipeline_3D_prob_0.4_flow_0.3_4_6': {'pipeline': ['isotropy',\n",
       "   'norm_percentile',\n",
       "   'clean_boundaries_closing',\n",
       "   'split'],\n",
       "  'type': '3D',\n",
       "  'prob_threshold': 0.4},\n",
       " 'pipeline_3D_prob_0.4_flow_0.3_4_7': {'pipeline': ['isotropy',\n",
       "   'norm_percentile'],\n",
       "  'type': '3D',\n",
       "  'prob_threshold': 0.4},\n",
       " 'pipeline_3D_prob_0.4_flow_0.5_0_0': {'pipeline': ['isotropy',\n",
       "   'norm_percentile',\n",
       "   'bilateral',\n",
       "   'split'],\n",
       "  'type': '3D',\n",
       "  'prob_threshold': 0.4},\n",
       " 'pipeline_3D_prob_0.4_flow_0.5_0_1': {'pipeline': ['isotropy',\n",
       "   'norm_percentile',\n",
       "   'bilateral',\n",
       "   'clean_boundaries_opening'],\n",
       "  'type': '3D',\n",
       "  'prob_threshold': 0.4},\n",
       " 'pipeline_3D_prob_0.4_flow_0.5_0_2': {'pipeline': ['isotropy',\n",
       "   'norm_percentile',\n",
       "   'bilateral',\n",
       "   'clean_boundaries_closing'],\n",
       "  'type': '3D',\n",
       "  'prob_threshold': 0.4},\n",
       " 'pipeline_3D_prob_0.4_flow_0.5_0_3': {'pipeline': ['isotropy',\n",
       "   'norm_percentile',\n",
       "   'bilateral',\n",
       "   'split',\n",
       "   'clean_boundaries_opening'],\n",
       "  'type': '3D',\n",
       "  'prob_threshold': 0.4},\n",
       " 'pipeline_3D_prob_0.4_flow_0.5_0_4': {'pipeline': ['isotropy',\n",
       "   'norm_percentile',\n",
       "   'bilateral',\n",
       "   'split',\n",
       "   'clean_boundaries_closing'],\n",
       "  'type': '3D',\n",
       "  'prob_threshold': 0.4},\n",
       " 'pipeline_3D_prob_0.4_flow_0.5_0_5': {'pipeline': ['isotropy',\n",
       "   'norm_percentile',\n",
       "   'bilateral',\n",
       "   'clean_boundaries_opening',\n",
       "   'split'],\n",
       "  'type': '3D',\n",
       "  'prob_threshold': 0.4},\n",
       " 'pipeline_3D_prob_0.4_flow_0.5_0_6': {'pipeline': ['isotropy',\n",
       "   'norm_percentile',\n",
       "   'bilateral',\n",
       "   'clean_boundaries_closing',\n",
       "   'split'],\n",
       "  'type': '3D',\n",
       "  'prob_threshold': 0.4},\n",
       " 'pipeline_3D_prob_0.4_flow_0.5_0_7': {'pipeline': ['isotropy',\n",
       "   'norm_percentile',\n",
       "   'bilateral'],\n",
       "  'type': '3D',\n",
       "  'prob_threshold': 0.4},\n",
       " 'pipeline_3D_prob_0.4_flow_0.5_1_0': {'pipeline': ['isotropy',\n",
       "   'norm_percentile',\n",
       "   'anisodiff',\n",
       "   'split'],\n",
       "  'type': '3D',\n",
       "  'prob_threshold': 0.4},\n",
       " 'pipeline_3D_prob_0.4_flow_0.5_1_1': {'pipeline': ['isotropy',\n",
       "   'norm_percentile',\n",
       "   'anisodiff',\n",
       "   'clean_boundaries_opening'],\n",
       "  'type': '3D',\n",
       "  'prob_threshold': 0.4},\n",
       " 'pipeline_3D_prob_0.4_flow_0.5_1_2': {'pipeline': ['isotropy',\n",
       "   'norm_percentile',\n",
       "   'anisodiff',\n",
       "   'clean_boundaries_closing'],\n",
       "  'type': '3D',\n",
       "  'prob_threshold': 0.4},\n",
       " 'pipeline_3D_prob_0.4_flow_0.5_1_3': {'pipeline': ['isotropy',\n",
       "   'norm_percentile',\n",
       "   'anisodiff',\n",
       "   'split',\n",
       "   'clean_boundaries_opening'],\n",
       "  'type': '3D',\n",
       "  'prob_threshold': 0.4},\n",
       " 'pipeline_3D_prob_0.4_flow_0.5_1_4': {'pipeline': ['isotropy',\n",
       "   'norm_percentile',\n",
       "   'anisodiff',\n",
       "   'split',\n",
       "   'clean_boundaries_closing'],\n",
       "  'type': '3D',\n",
       "  'prob_threshold': 0.4},\n",
       " 'pipeline_3D_prob_0.4_flow_0.5_1_5': {'pipeline': ['isotropy',\n",
       "   'norm_percentile',\n",
       "   'anisodiff',\n",
       "   'clean_boundaries_opening',\n",
       "   'split'],\n",
       "  'type': '3D',\n",
       "  'prob_threshold': 0.4},\n",
       " 'pipeline_3D_prob_0.4_flow_0.5_1_6': {'pipeline': ['isotropy',\n",
       "   'norm_percentile',\n",
       "   'anisodiff',\n",
       "   'clean_boundaries_closing',\n",
       "   'split'],\n",
       "  'type': '3D',\n",
       "  'prob_threshold': 0.4},\n",
       " 'pipeline_3D_prob_0.4_flow_0.5_1_7': {'pipeline': ['isotropy',\n",
       "   'norm_percentile',\n",
       "   'anisodiff'],\n",
       "  'type': '3D',\n",
       "  'prob_threshold': 0.4},\n",
       " 'pipeline_3D_prob_0.4_flow_0.5_2_0': {'pipeline': ['isotropy',\n",
       "   'norm_percentile',\n",
       "   'bilateral',\n",
       "   'anisodiff',\n",
       "   'split'],\n",
       "  'type': '3D',\n",
       "  'prob_threshold': 0.4},\n",
       " 'pipeline_3D_prob_0.4_flow_0.5_2_1': {'pipeline': ['isotropy',\n",
       "   'norm_percentile',\n",
       "   'bilateral',\n",
       "   'anisodiff',\n",
       "   'clean_boundaries_opening'],\n",
       "  'type': '3D',\n",
       "  'prob_threshold': 0.4},\n",
       " 'pipeline_3D_prob_0.4_flow_0.5_2_2': {'pipeline': ['isotropy',\n",
       "   'norm_percentile',\n",
       "   'bilateral',\n",
       "   'anisodiff',\n",
       "   'clean_boundaries_closing'],\n",
       "  'type': '3D',\n",
       "  'prob_threshold': 0.4},\n",
       " 'pipeline_3D_prob_0.4_flow_0.5_2_3': {'pipeline': ['isotropy',\n",
       "   'norm_percentile',\n",
       "   'bilateral',\n",
       "   'anisodiff',\n",
       "   'split',\n",
       "   'clean_boundaries_opening'],\n",
       "  'type': '3D',\n",
       "  'prob_threshold': 0.4},\n",
       " 'pipeline_3D_prob_0.4_flow_0.5_2_4': {'pipeline': ['isotropy',\n",
       "   'norm_percentile',\n",
       "   'bilateral',\n",
       "   'anisodiff',\n",
       "   'split',\n",
       "   'clean_boundaries_closing'],\n",
       "  'type': '3D',\n",
       "  'prob_threshold': 0.4},\n",
       " 'pipeline_3D_prob_0.4_flow_0.5_2_5': {'pipeline': ['isotropy',\n",
       "   'norm_percentile',\n",
       "   'bilateral',\n",
       "   'anisodiff',\n",
       "   'clean_boundaries_opening',\n",
       "   'split'],\n",
       "  'type': '3D',\n",
       "  'prob_threshold': 0.4},\n",
       " 'pipeline_3D_prob_0.4_flow_0.5_2_6': {'pipeline': ['isotropy',\n",
       "   'norm_percentile',\n",
       "   'bilateral',\n",
       "   'anisodiff',\n",
       "   'clean_boundaries_closing',\n",
       "   'split'],\n",
       "  'type': '3D',\n",
       "  'prob_threshold': 0.4},\n",
       " 'pipeline_3D_prob_0.4_flow_0.5_2_7': {'pipeline': ['isotropy',\n",
       "   'norm_percentile',\n",
       "   'bilateral',\n",
       "   'anisodiff'],\n",
       "  'type': '3D',\n",
       "  'prob_threshold': 0.4},\n",
       " 'pipeline_3D_prob_0.4_flow_0.5_3_0': {'pipeline': ['isotropy',\n",
       "   'norm_percentile',\n",
       "   'anisodiff',\n",
       "   'bilateral',\n",
       "   'split'],\n",
       "  'type': '3D',\n",
       "  'prob_threshold': 0.4},\n",
       " 'pipeline_3D_prob_0.4_flow_0.5_3_1': {'pipeline': ['isotropy',\n",
       "   'norm_percentile',\n",
       "   'anisodiff',\n",
       "   'bilateral',\n",
       "   'clean_boundaries_opening'],\n",
       "  'type': '3D',\n",
       "  'prob_threshold': 0.4},\n",
       " 'pipeline_3D_prob_0.4_flow_0.5_3_2': {'pipeline': ['isotropy',\n",
       "   'norm_percentile',\n",
       "   'anisodiff',\n",
       "   'bilateral',\n",
       "   'clean_boundaries_closing'],\n",
       "  'type': '3D',\n",
       "  'prob_threshold': 0.4},\n",
       " 'pipeline_3D_prob_0.4_flow_0.5_3_3': {'pipeline': ['isotropy',\n",
       "   'norm_percentile',\n",
       "   'anisodiff',\n",
       "   'bilateral',\n",
       "   'split',\n",
       "   'clean_boundaries_opening'],\n",
       "  'type': '3D',\n",
       "  'prob_threshold': 0.4},\n",
       " 'pipeline_3D_prob_0.4_flow_0.5_3_4': {'pipeline': ['isotropy',\n",
       "   'norm_percentile',\n",
       "   'anisodiff',\n",
       "   'bilateral',\n",
       "   'split',\n",
       "   'clean_boundaries_closing'],\n",
       "  'type': '3D',\n",
       "  'prob_threshold': 0.4},\n",
       " 'pipeline_3D_prob_0.4_flow_0.5_3_5': {'pipeline': ['isotropy',\n",
       "   'norm_percentile',\n",
       "   'anisodiff',\n",
       "   'bilateral',\n",
       "   'clean_boundaries_opening',\n",
       "   'split'],\n",
       "  'type': '3D',\n",
       "  'prob_threshold': 0.4},\n",
       " 'pipeline_3D_prob_0.4_flow_0.5_3_6': {'pipeline': ['isotropy',\n",
       "   'norm_percentile',\n",
       "   'anisodiff',\n",
       "   'bilateral',\n",
       "   'clean_boundaries_closing',\n",
       "   'split'],\n",
       "  'type': '3D',\n",
       "  'prob_threshold': 0.4},\n",
       " 'pipeline_3D_prob_0.4_flow_0.5_3_7': {'pipeline': ['isotropy',\n",
       "   'norm_percentile',\n",
       "   'anisodiff',\n",
       "   'bilateral'],\n",
       "  'type': '3D',\n",
       "  'prob_threshold': 0.4},\n",
       " 'pipeline_3D_prob_0.4_flow_0.5_4_0': {'pipeline': ['isotropy',\n",
       "   'norm_percentile',\n",
       "   'split'],\n",
       "  'type': '3D',\n",
       "  'prob_threshold': 0.4},\n",
       " 'pipeline_3D_prob_0.4_flow_0.5_4_1': {'pipeline': ['isotropy',\n",
       "   'norm_percentile',\n",
       "   'clean_boundaries_opening'],\n",
       "  'type': '3D',\n",
       "  'prob_threshold': 0.4},\n",
       " 'pipeline_3D_prob_0.4_flow_0.5_4_2': {'pipeline': ['isotropy',\n",
       "   'norm_percentile',\n",
       "   'clean_boundaries_closing'],\n",
       "  'type': '3D',\n",
       "  'prob_threshold': 0.4},\n",
       " 'pipeline_3D_prob_0.4_flow_0.5_4_3': {'pipeline': ['isotropy',\n",
       "   'norm_percentile',\n",
       "   'split',\n",
       "   'clean_boundaries_opening'],\n",
       "  'type': '3D',\n",
       "  'prob_threshold': 0.4},\n",
       " 'pipeline_3D_prob_0.4_flow_0.5_4_4': {'pipeline': ['isotropy',\n",
       "   'norm_percentile',\n",
       "   'split',\n",
       "   'clean_boundaries_closing'],\n",
       "  'type': '3D',\n",
       "  'prob_threshold': 0.4},\n",
       " 'pipeline_3D_prob_0.4_flow_0.5_4_5': {'pipeline': ['isotropy',\n",
       "   'norm_percentile',\n",
       "   'clean_boundaries_opening',\n",
       "   'split'],\n",
       "  'type': '3D',\n",
       "  'prob_threshold': 0.4},\n",
       " 'pipeline_3D_prob_0.4_flow_0.5_4_6': {'pipeline': ['isotropy',\n",
       "   'norm_percentile',\n",
       "   'clean_boundaries_closing',\n",
       "   'split'],\n",
       "  'type': '3D',\n",
       "  'prob_threshold': 0.4},\n",
       " 'pipeline_3D_prob_0.4_flow_0.5_4_7': {'pipeline': ['isotropy',\n",
       "   'norm_percentile'],\n",
       "  'type': '3D',\n",
       "  'prob_threshold': 0.4},\n",
       " 'pipeline_3D_prob_0.4_flow_0.6_0_0': {'pipeline': ['isotropy',\n",
       "   'norm_percentile',\n",
       "   'bilateral',\n",
       "   'split'],\n",
       "  'type': '3D',\n",
       "  'prob_threshold': 0.4},\n",
       " 'pipeline_3D_prob_0.4_flow_0.6_0_1': {'pipeline': ['isotropy',\n",
       "   'norm_percentile',\n",
       "   'bilateral',\n",
       "   'clean_boundaries_opening'],\n",
       "  'type': '3D',\n",
       "  'prob_threshold': 0.4},\n",
       " 'pipeline_3D_prob_0.4_flow_0.6_0_2': {'pipeline': ['isotropy',\n",
       "   'norm_percentile',\n",
       "   'bilateral',\n",
       "   'clean_boundaries_closing'],\n",
       "  'type': '3D',\n",
       "  'prob_threshold': 0.4},\n",
       " 'pipeline_3D_prob_0.4_flow_0.6_0_3': {'pipeline': ['isotropy',\n",
       "   'norm_percentile',\n",
       "   'bilateral',\n",
       "   'split',\n",
       "   'clean_boundaries_opening'],\n",
       "  'type': '3D',\n",
       "  'prob_threshold': 0.4},\n",
       " 'pipeline_3D_prob_0.4_flow_0.6_0_4': {'pipeline': ['isotropy',\n",
       "   'norm_percentile',\n",
       "   'bilateral',\n",
       "   'split',\n",
       "   'clean_boundaries_closing'],\n",
       "  'type': '3D',\n",
       "  'prob_threshold': 0.4},\n",
       " 'pipeline_3D_prob_0.4_flow_0.6_0_5': {'pipeline': ['isotropy',\n",
       "   'norm_percentile',\n",
       "   'bilateral',\n",
       "   'clean_boundaries_opening',\n",
       "   'split'],\n",
       "  'type': '3D',\n",
       "  'prob_threshold': 0.4},\n",
       " 'pipeline_3D_prob_0.4_flow_0.6_0_6': {'pipeline': ['isotropy',\n",
       "   'norm_percentile',\n",
       "   'bilateral',\n",
       "   'clean_boundaries_closing',\n",
       "   'split'],\n",
       "  'type': '3D',\n",
       "  'prob_threshold': 0.4},\n",
       " 'pipeline_3D_prob_0.4_flow_0.6_0_7': {'pipeline': ['isotropy',\n",
       "   'norm_percentile',\n",
       "   'bilateral'],\n",
       "  'type': '3D',\n",
       "  'prob_threshold': 0.4},\n",
       " 'pipeline_3D_prob_0.4_flow_0.6_1_0': {'pipeline': ['isotropy',\n",
       "   'norm_percentile',\n",
       "   'anisodiff',\n",
       "   'split'],\n",
       "  'type': '3D',\n",
       "  'prob_threshold': 0.4},\n",
       " 'pipeline_3D_prob_0.4_flow_0.6_1_1': {'pipeline': ['isotropy',\n",
       "   'norm_percentile',\n",
       "   'anisodiff',\n",
       "   'clean_boundaries_opening'],\n",
       "  'type': '3D',\n",
       "  'prob_threshold': 0.4},\n",
       " 'pipeline_3D_prob_0.4_flow_0.6_1_2': {'pipeline': ['isotropy',\n",
       "   'norm_percentile',\n",
       "   'anisodiff',\n",
       "   'clean_boundaries_closing'],\n",
       "  'type': '3D',\n",
       "  'prob_threshold': 0.4},\n",
       " 'pipeline_3D_prob_0.4_flow_0.6_1_3': {'pipeline': ['isotropy',\n",
       "   'norm_percentile',\n",
       "   'anisodiff',\n",
       "   'split',\n",
       "   'clean_boundaries_opening'],\n",
       "  'type': '3D',\n",
       "  'prob_threshold': 0.4},\n",
       " 'pipeline_3D_prob_0.4_flow_0.6_1_4': {'pipeline': ['isotropy',\n",
       "   'norm_percentile',\n",
       "   'anisodiff',\n",
       "   'split',\n",
       "   'clean_boundaries_closing'],\n",
       "  'type': '3D',\n",
       "  'prob_threshold': 0.4},\n",
       " 'pipeline_3D_prob_0.4_flow_0.6_1_5': {'pipeline': ['isotropy',\n",
       "   'norm_percentile',\n",
       "   'anisodiff',\n",
       "   'clean_boundaries_opening',\n",
       "   'split'],\n",
       "  'type': '3D',\n",
       "  'prob_threshold': 0.4},\n",
       " 'pipeline_3D_prob_0.4_flow_0.6_1_6': {'pipeline': ['isotropy',\n",
       "   'norm_percentile',\n",
       "   'anisodiff',\n",
       "   'clean_boundaries_closing',\n",
       "   'split'],\n",
       "  'type': '3D',\n",
       "  'prob_threshold': 0.4},\n",
       " 'pipeline_3D_prob_0.4_flow_0.6_1_7': {'pipeline': ['isotropy',\n",
       "   'norm_percentile',\n",
       "   'anisodiff'],\n",
       "  'type': '3D',\n",
       "  'prob_threshold': 0.4},\n",
       " 'pipeline_3D_prob_0.4_flow_0.6_2_0': {'pipeline': ['isotropy',\n",
       "   'norm_percentile',\n",
       "   'bilateral',\n",
       "   'anisodiff',\n",
       "   'split'],\n",
       "  'type': '3D',\n",
       "  'prob_threshold': 0.4},\n",
       " 'pipeline_3D_prob_0.4_flow_0.6_2_1': {'pipeline': ['isotropy',\n",
       "   'norm_percentile',\n",
       "   'bilateral',\n",
       "   'anisodiff',\n",
       "   'clean_boundaries_opening'],\n",
       "  'type': '3D',\n",
       "  'prob_threshold': 0.4},\n",
       " 'pipeline_3D_prob_0.4_flow_0.6_2_2': {'pipeline': ['isotropy',\n",
       "   'norm_percentile',\n",
       "   'bilateral',\n",
       "   'anisodiff',\n",
       "   'clean_boundaries_closing'],\n",
       "  'type': '3D',\n",
       "  'prob_threshold': 0.4},\n",
       " 'pipeline_3D_prob_0.4_flow_0.6_2_3': {'pipeline': ['isotropy',\n",
       "   'norm_percentile',\n",
       "   'bilateral',\n",
       "   'anisodiff',\n",
       "   'split',\n",
       "   'clean_boundaries_opening'],\n",
       "  'type': '3D',\n",
       "  'prob_threshold': 0.4},\n",
       " 'pipeline_3D_prob_0.4_flow_0.6_2_4': {'pipeline': ['isotropy',\n",
       "   'norm_percentile',\n",
       "   'bilateral',\n",
       "   'anisodiff',\n",
       "   'split',\n",
       "   'clean_boundaries_closing'],\n",
       "  'type': '3D',\n",
       "  'prob_threshold': 0.4},\n",
       " 'pipeline_3D_prob_0.4_flow_0.6_2_5': {'pipeline': ['isotropy',\n",
       "   'norm_percentile',\n",
       "   'bilateral',\n",
       "   'anisodiff',\n",
       "   'clean_boundaries_opening',\n",
       "   'split'],\n",
       "  'type': '3D',\n",
       "  'prob_threshold': 0.4},\n",
       " 'pipeline_3D_prob_0.4_flow_0.6_2_6': {'pipeline': ['isotropy',\n",
       "   'norm_percentile',\n",
       "   'bilateral',\n",
       "   'anisodiff',\n",
       "   'clean_boundaries_closing',\n",
       "   'split'],\n",
       "  'type': '3D',\n",
       "  'prob_threshold': 0.4},\n",
       " 'pipeline_3D_prob_0.4_flow_0.6_2_7': {'pipeline': ['isotropy',\n",
       "   'norm_percentile',\n",
       "   'bilateral',\n",
       "   'anisodiff'],\n",
       "  'type': '3D',\n",
       "  'prob_threshold': 0.4},\n",
       " 'pipeline_3D_prob_0.4_flow_0.6_3_0': {'pipeline': ['isotropy',\n",
       "   'norm_percentile',\n",
       "   'anisodiff',\n",
       "   'bilateral',\n",
       "   'split'],\n",
       "  'type': '3D',\n",
       "  'prob_threshold': 0.4},\n",
       " 'pipeline_3D_prob_0.4_flow_0.6_3_1': {'pipeline': ['isotropy',\n",
       "   'norm_percentile',\n",
       "   'anisodiff',\n",
       "   'bilateral',\n",
       "   'clean_boundaries_opening'],\n",
       "  'type': '3D',\n",
       "  'prob_threshold': 0.4},\n",
       " 'pipeline_3D_prob_0.4_flow_0.6_3_2': {'pipeline': ['isotropy',\n",
       "   'norm_percentile',\n",
       "   'anisodiff',\n",
       "   'bilateral',\n",
       "   'clean_boundaries_closing'],\n",
       "  'type': '3D',\n",
       "  'prob_threshold': 0.4},\n",
       " 'pipeline_3D_prob_0.4_flow_0.6_3_3': {'pipeline': ['isotropy',\n",
       "   'norm_percentile',\n",
       "   'anisodiff',\n",
       "   'bilateral',\n",
       "   'split',\n",
       "   'clean_boundaries_opening'],\n",
       "  'type': '3D',\n",
       "  'prob_threshold': 0.4},\n",
       " 'pipeline_3D_prob_0.4_flow_0.6_3_4': {'pipeline': ['isotropy',\n",
       "   'norm_percentile',\n",
       "   'anisodiff',\n",
       "   'bilateral',\n",
       "   'split',\n",
       "   'clean_boundaries_closing'],\n",
       "  'type': '3D',\n",
       "  'prob_threshold': 0.4},\n",
       " 'pipeline_3D_prob_0.4_flow_0.6_3_5': {'pipeline': ['isotropy',\n",
       "   'norm_percentile',\n",
       "   'anisodiff',\n",
       "   'bilateral',\n",
       "   'clean_boundaries_opening',\n",
       "   'split'],\n",
       "  'type': '3D',\n",
       "  'prob_threshold': 0.4},\n",
       " 'pipeline_3D_prob_0.4_flow_0.6_3_6': {'pipeline': ['isotropy',\n",
       "   'norm_percentile',\n",
       "   'anisodiff',\n",
       "   'bilateral',\n",
       "   'clean_boundaries_closing',\n",
       "   'split'],\n",
       "  'type': '3D',\n",
       "  'prob_threshold': 0.4},\n",
       " 'pipeline_3D_prob_0.4_flow_0.6_3_7': {'pipeline': ['isotropy',\n",
       "   'norm_percentile',\n",
       "   'anisodiff',\n",
       "   'bilateral'],\n",
       "  'type': '3D',\n",
       "  'prob_threshold': 0.4},\n",
       " 'pipeline_3D_prob_0.4_flow_0.6_4_0': {'pipeline': ['isotropy',\n",
       "   'norm_percentile',\n",
       "   'split'],\n",
       "  'type': '3D',\n",
       "  'prob_threshold': 0.4},\n",
       " 'pipeline_3D_prob_0.4_flow_0.6_4_1': {'pipeline': ['isotropy',\n",
       "   'norm_percentile',\n",
       "   'clean_boundaries_opening'],\n",
       "  'type': '3D',\n",
       "  'prob_threshold': 0.4},\n",
       " 'pipeline_3D_prob_0.4_flow_0.6_4_2': {'pipeline': ['isotropy',\n",
       "   'norm_percentile',\n",
       "   'clean_boundaries_closing'],\n",
       "  'type': '3D',\n",
       "  'prob_threshold': 0.4},\n",
       " 'pipeline_3D_prob_0.4_flow_0.6_4_3': {'pipeline': ['isotropy',\n",
       "   'norm_percentile',\n",
       "   'split',\n",
       "   'clean_boundaries_opening'],\n",
       "  'type': '3D',\n",
       "  'prob_threshold': 0.4},\n",
       " 'pipeline_3D_prob_0.4_flow_0.6_4_4': {'pipeline': ['isotropy',\n",
       "   'norm_percentile',\n",
       "   'split',\n",
       "   'clean_boundaries_closing'],\n",
       "  'type': '3D',\n",
       "  'prob_threshold': 0.4},\n",
       " 'pipeline_3D_prob_0.4_flow_0.6_4_5': {'pipeline': ['isotropy',\n",
       "   'norm_percentile',\n",
       "   'clean_boundaries_opening',\n",
       "   'split'],\n",
       "  'type': '3D',\n",
       "  'prob_threshold': 0.4},\n",
       " 'pipeline_3D_prob_0.4_flow_0.6_4_6': {'pipeline': ['isotropy',\n",
       "   'norm_percentile',\n",
       "   'clean_boundaries_closing',\n",
       "   'split'],\n",
       "  'type': '3D',\n",
       "  'prob_threshold': 0.4},\n",
       " 'pipeline_3D_prob_0.4_flow_0.6_4_7': {'pipeline': ['isotropy',\n",
       "   'norm_percentile'],\n",
       "  'type': '3D',\n",
       "  'prob_threshold': 0.4},\n",
       " 'pipeline_2D_thr_0.2_flow_0.2_0_0': {'pipeline': ['isotropy',\n",
       "   'norm_percentile',\n",
       "   'bilateral',\n",
       "   'merge_connected_components'],\n",
       "  'type': '2D',\n",
       "  'threshold': 0.2},\n",
       " 'pipeline_2D_thr_0.2_flow_0.2_0_1': {'pipeline': ['isotropy',\n",
       "   'norm_percentile',\n",
       "   'bilateral',\n",
       "   'merge_graph'],\n",
       "  'type': '2D',\n",
       "  'threshold': 0.2},\n",
       " 'pipeline_2D_thr_0.2_flow_0.2_0_2': {'pipeline': ['isotropy',\n",
       "   'norm_percentile',\n",
       "   'bilateral',\n",
       "   'clean_boundaries_opening'],\n",
       "  'type': '2D',\n",
       "  'threshold': 0.2},\n",
       " 'pipeline_2D_thr_0.2_flow_0.2_0_3': {'pipeline': ['isotropy',\n",
       "   'norm_percentile',\n",
       "   'bilateral',\n",
       "   ()],\n",
       "  'type': '2D',\n",
       "  'threshold': 0.2},\n",
       " 'pipeline_2D_thr_0.2_flow_0.2_1_0': {'pipeline': ['isotropy',\n",
       "   'norm_percentile',\n",
       "   'anisodiff',\n",
       "   'merge_connected_components'],\n",
       "  'type': '2D',\n",
       "  'threshold': 0.2},\n",
       " 'pipeline_2D_thr_0.2_flow_0.2_1_1': {'pipeline': ['isotropy',\n",
       "   'norm_percentile',\n",
       "   'anisodiff',\n",
       "   'merge_graph'],\n",
       "  'type': '2D',\n",
       "  'threshold': 0.2},\n",
       " 'pipeline_2D_thr_0.2_flow_0.2_1_2': {'pipeline': ['isotropy',\n",
       "   'norm_percentile',\n",
       "   'anisodiff',\n",
       "   'clean_boundaries_opening'],\n",
       "  'type': '2D',\n",
       "  'threshold': 0.2},\n",
       " 'pipeline_2D_thr_0.2_flow_0.2_1_3': {'pipeline': ['isotropy',\n",
       "   'norm_percentile',\n",
       "   'anisodiff',\n",
       "   ()],\n",
       "  'type': '2D',\n",
       "  'threshold': 0.2},\n",
       " 'pipeline_2D_thr_0.2_flow_0.2_2_0': {'pipeline': ['isotropy',\n",
       "   'norm_percentile',\n",
       "   'bilateral',\n",
       "   'anisodiff',\n",
       "   'merge_connected_components'],\n",
       "  'type': '2D',\n",
       "  'threshold': 0.2},\n",
       " 'pipeline_2D_thr_0.2_flow_0.2_2_1': {'pipeline': ['isotropy',\n",
       "   'norm_percentile',\n",
       "   'bilateral',\n",
       "   'anisodiff',\n",
       "   'merge_graph'],\n",
       "  'type': '2D',\n",
       "  'threshold': 0.2},\n",
       " 'pipeline_2D_thr_0.2_flow_0.2_2_2': {'pipeline': ['isotropy',\n",
       "   'norm_percentile',\n",
       "   'bilateral',\n",
       "   'anisodiff',\n",
       "   'clean_boundaries_opening'],\n",
       "  'type': '2D',\n",
       "  'threshold': 0.2},\n",
       " 'pipeline_2D_thr_0.2_flow_0.2_2_3': {'pipeline': ['isotropy',\n",
       "   'norm_percentile',\n",
       "   'bilateral',\n",
       "   'anisodiff',\n",
       "   ()],\n",
       "  'type': '2D',\n",
       "  'threshold': 0.2},\n",
       " 'pipeline_2D_thr_0.2_flow_0.2_3_0': {'pipeline': ['isotropy',\n",
       "   'norm_percentile',\n",
       "   'anisodiff',\n",
       "   'bilateral',\n",
       "   'merge_connected_components'],\n",
       "  'type': '2D',\n",
       "  'threshold': 0.2},\n",
       " 'pipeline_2D_thr_0.2_flow_0.2_3_1': {'pipeline': ['isotropy',\n",
       "   'norm_percentile',\n",
       "   'anisodiff',\n",
       "   'bilateral',\n",
       "   'merge_graph'],\n",
       "  'type': '2D',\n",
       "  'threshold': 0.2},\n",
       " 'pipeline_2D_thr_0.2_flow_0.2_3_2': {'pipeline': ['isotropy',\n",
       "   'norm_percentile',\n",
       "   'anisodiff',\n",
       "   'bilateral',\n",
       "   'clean_boundaries_opening'],\n",
       "  'type': '2D',\n",
       "  'threshold': 0.2},\n",
       " 'pipeline_2D_thr_0.2_flow_0.2_3_3': {'pipeline': ['isotropy',\n",
       "   'norm_percentile',\n",
       "   'anisodiff',\n",
       "   'bilateral',\n",
       "   ()],\n",
       "  'type': '2D',\n",
       "  'threshold': 0.2},\n",
       " 'pipeline_2D_thr_0.2_flow_0.2_4_0': {'pipeline': ['isotropy',\n",
       "   'norm_percentile',\n",
       "   'merge_connected_components'],\n",
       "  'type': '2D',\n",
       "  'threshold': 0.2},\n",
       " 'pipeline_2D_thr_0.2_flow_0.2_4_1': {'pipeline': ['isotropy',\n",
       "   'norm_percentile',\n",
       "   'merge_graph'],\n",
       "  'type': '2D',\n",
       "  'threshold': 0.2},\n",
       " 'pipeline_2D_thr_0.2_flow_0.2_4_2': {'pipeline': ['isotropy',\n",
       "   'norm_percentile',\n",
       "   'clean_boundaries_opening'],\n",
       "  'type': '2D',\n",
       "  'threshold': 0.2},\n",
       " 'pipeline_2D_thr_0.2_flow_0.2_4_3': {'pipeline': ['isotropy',\n",
       "   'norm_percentile',\n",
       "   ()],\n",
       "  'type': '2D',\n",
       "  'threshold': 0.2},\n",
       " 'pipeline_2D_thr_0.2_flow_0.3_0_0': {'pipeline': ['isotropy',\n",
       "   'norm_percentile',\n",
       "   'bilateral',\n",
       "   'merge_connected_components'],\n",
       "  'type': '2D',\n",
       "  'threshold': 0.2},\n",
       " 'pipeline_2D_thr_0.2_flow_0.3_0_1': {'pipeline': ['isotropy',\n",
       "   'norm_percentile',\n",
       "   'bilateral',\n",
       "   'merge_graph'],\n",
       "  'type': '2D',\n",
       "  'threshold': 0.2},\n",
       " 'pipeline_2D_thr_0.2_flow_0.3_0_2': {'pipeline': ['isotropy',\n",
       "   'norm_percentile',\n",
       "   'bilateral',\n",
       "   'clean_boundaries_opening'],\n",
       "  'type': '2D',\n",
       "  'threshold': 0.2},\n",
       " 'pipeline_2D_thr_0.2_flow_0.3_0_3': {'pipeline': ['isotropy',\n",
       "   'norm_percentile',\n",
       "   'bilateral',\n",
       "   ()],\n",
       "  'type': '2D',\n",
       "  'threshold': 0.2},\n",
       " 'pipeline_2D_thr_0.2_flow_0.3_1_0': {'pipeline': ['isotropy',\n",
       "   'norm_percentile',\n",
       "   'anisodiff',\n",
       "   'merge_connected_components'],\n",
       "  'type': '2D',\n",
       "  'threshold': 0.2},\n",
       " 'pipeline_2D_thr_0.2_flow_0.3_1_1': {'pipeline': ['isotropy',\n",
       "   'norm_percentile',\n",
       "   'anisodiff',\n",
       "   'merge_graph'],\n",
       "  'type': '2D',\n",
       "  'threshold': 0.2},\n",
       " 'pipeline_2D_thr_0.2_flow_0.3_1_2': {'pipeline': ['isotropy',\n",
       "   'norm_percentile',\n",
       "   'anisodiff',\n",
       "   'clean_boundaries_opening'],\n",
       "  'type': '2D',\n",
       "  'threshold': 0.2},\n",
       " 'pipeline_2D_thr_0.2_flow_0.3_1_3': {'pipeline': ['isotropy',\n",
       "   'norm_percentile',\n",
       "   'anisodiff',\n",
       "   ()],\n",
       "  'type': '2D',\n",
       "  'threshold': 0.2},\n",
       " 'pipeline_2D_thr_0.2_flow_0.3_2_0': {'pipeline': ['isotropy',\n",
       "   'norm_percentile',\n",
       "   'bilateral',\n",
       "   'anisodiff',\n",
       "   'merge_connected_components'],\n",
       "  'type': '2D',\n",
       "  'threshold': 0.2},\n",
       " 'pipeline_2D_thr_0.2_flow_0.3_2_1': {'pipeline': ['isotropy',\n",
       "   'norm_percentile',\n",
       "   'bilateral',\n",
       "   'anisodiff',\n",
       "   'merge_graph'],\n",
       "  'type': '2D',\n",
       "  'threshold': 0.2},\n",
       " 'pipeline_2D_thr_0.2_flow_0.3_2_2': {'pipeline': ['isotropy',\n",
       "   'norm_percentile',\n",
       "   'bilateral',\n",
       "   'anisodiff',\n",
       "   'clean_boundaries_opening'],\n",
       "  'type': '2D',\n",
       "  'threshold': 0.2},\n",
       " 'pipeline_2D_thr_0.2_flow_0.3_2_3': {'pipeline': ['isotropy',\n",
       "   'norm_percentile',\n",
       "   'bilateral',\n",
       "   'anisodiff',\n",
       "   ()],\n",
       "  'type': '2D',\n",
       "  'threshold': 0.2},\n",
       " 'pipeline_2D_thr_0.2_flow_0.3_3_0': {'pipeline': ['isotropy',\n",
       "   'norm_percentile',\n",
       "   'anisodiff',\n",
       "   'bilateral',\n",
       "   'merge_connected_components'],\n",
       "  'type': '2D',\n",
       "  'threshold': 0.2},\n",
       " 'pipeline_2D_thr_0.2_flow_0.3_3_1': {'pipeline': ['isotropy',\n",
       "   'norm_percentile',\n",
       "   'anisodiff',\n",
       "   'bilateral',\n",
       "   'merge_graph'],\n",
       "  'type': '2D',\n",
       "  'threshold': 0.2},\n",
       " 'pipeline_2D_thr_0.2_flow_0.3_3_2': {'pipeline': ['isotropy',\n",
       "   'norm_percentile',\n",
       "   'anisodiff',\n",
       "   'bilateral',\n",
       "   'clean_boundaries_opening'],\n",
       "  'type': '2D',\n",
       "  'threshold': 0.2},\n",
       " 'pipeline_2D_thr_0.2_flow_0.3_3_3': {'pipeline': ['isotropy',\n",
       "   'norm_percentile',\n",
       "   'anisodiff',\n",
       "   'bilateral',\n",
       "   ()],\n",
       "  'type': '2D',\n",
       "  'threshold': 0.2},\n",
       " 'pipeline_2D_thr_0.2_flow_0.3_4_0': {'pipeline': ['isotropy',\n",
       "   'norm_percentile',\n",
       "   'merge_connected_components'],\n",
       "  'type': '2D',\n",
       "  'threshold': 0.2},\n",
       " 'pipeline_2D_thr_0.2_flow_0.3_4_1': {'pipeline': ['isotropy',\n",
       "   'norm_percentile',\n",
       "   'merge_graph'],\n",
       "  'type': '2D',\n",
       "  'threshold': 0.2},\n",
       " 'pipeline_2D_thr_0.2_flow_0.3_4_2': {'pipeline': ['isotropy',\n",
       "   'norm_percentile',\n",
       "   'clean_boundaries_opening'],\n",
       "  'type': '2D',\n",
       "  'threshold': 0.2},\n",
       " 'pipeline_2D_thr_0.2_flow_0.3_4_3': {'pipeline': ['isotropy',\n",
       "   'norm_percentile',\n",
       "   ()],\n",
       "  'type': '2D',\n",
       "  'threshold': 0.2},\n",
       " 'pipeline_2D_thr_0.2_flow_0.5_0_0': {'pipeline': ['isotropy',\n",
       "   'norm_percentile',\n",
       "   'bilateral',\n",
       "   'merge_connected_components'],\n",
       "  'type': '2D',\n",
       "  'threshold': 0.2},\n",
       " 'pipeline_2D_thr_0.2_flow_0.5_0_1': {'pipeline': ['isotropy',\n",
       "   'norm_percentile',\n",
       "   'bilateral',\n",
       "   'merge_graph'],\n",
       "  'type': '2D',\n",
       "  'threshold': 0.2},\n",
       " 'pipeline_2D_thr_0.2_flow_0.5_0_2': {'pipeline': ['isotropy',\n",
       "   'norm_percentile',\n",
       "   'bilateral',\n",
       "   'clean_boundaries_opening'],\n",
       "  'type': '2D',\n",
       "  'threshold': 0.2},\n",
       " 'pipeline_2D_thr_0.2_flow_0.5_0_3': {'pipeline': ['isotropy',\n",
       "   'norm_percentile',\n",
       "   'bilateral',\n",
       "   ()],\n",
       "  'type': '2D',\n",
       "  'threshold': 0.2},\n",
       " 'pipeline_2D_thr_0.2_flow_0.5_1_0': {'pipeline': ['isotropy',\n",
       "   'norm_percentile',\n",
       "   'anisodiff',\n",
       "   'merge_connected_components'],\n",
       "  'type': '2D',\n",
       "  'threshold': 0.2},\n",
       " 'pipeline_2D_thr_0.2_flow_0.5_1_1': {'pipeline': ['isotropy',\n",
       "   'norm_percentile',\n",
       "   'anisodiff',\n",
       "   'merge_graph'],\n",
       "  'type': '2D',\n",
       "  'threshold': 0.2},\n",
       " 'pipeline_2D_thr_0.2_flow_0.5_1_2': {'pipeline': ['isotropy',\n",
       "   'norm_percentile',\n",
       "   'anisodiff',\n",
       "   'clean_boundaries_opening'],\n",
       "  'type': '2D',\n",
       "  'threshold': 0.2},\n",
       " 'pipeline_2D_thr_0.2_flow_0.5_1_3': {'pipeline': ['isotropy',\n",
       "   'norm_percentile',\n",
       "   'anisodiff',\n",
       "   ()],\n",
       "  'type': '2D',\n",
       "  'threshold': 0.2},\n",
       " 'pipeline_2D_thr_0.2_flow_0.5_2_0': {'pipeline': ['isotropy',\n",
       "   'norm_percentile',\n",
       "   'bilateral',\n",
       "   'anisodiff',\n",
       "   'merge_connected_components'],\n",
       "  'type': '2D',\n",
       "  'threshold': 0.2},\n",
       " 'pipeline_2D_thr_0.2_flow_0.5_2_1': {'pipeline': ['isotropy',\n",
       "   'norm_percentile',\n",
       "   'bilateral',\n",
       "   'anisodiff',\n",
       "   'merge_graph'],\n",
       "  'type': '2D',\n",
       "  'threshold': 0.2},\n",
       " 'pipeline_2D_thr_0.2_flow_0.5_2_2': {'pipeline': ['isotropy',\n",
       "   'norm_percentile',\n",
       "   'bilateral',\n",
       "   'anisodiff',\n",
       "   'clean_boundaries_opening'],\n",
       "  'type': '2D',\n",
       "  'threshold': 0.2},\n",
       " 'pipeline_2D_thr_0.2_flow_0.5_2_3': {'pipeline': ['isotropy',\n",
       "   'norm_percentile',\n",
       "   'bilateral',\n",
       "   'anisodiff',\n",
       "   ()],\n",
       "  'type': '2D',\n",
       "  'threshold': 0.2},\n",
       " 'pipeline_2D_thr_0.2_flow_0.5_3_0': {'pipeline': ['isotropy',\n",
       "   'norm_percentile',\n",
       "   'anisodiff',\n",
       "   'bilateral',\n",
       "   'merge_connected_components'],\n",
       "  'type': '2D',\n",
       "  'threshold': 0.2},\n",
       " 'pipeline_2D_thr_0.2_flow_0.5_3_1': {'pipeline': ['isotropy',\n",
       "   'norm_percentile',\n",
       "   'anisodiff',\n",
       "   'bilateral',\n",
       "   'merge_graph'],\n",
       "  'type': '2D',\n",
       "  'threshold': 0.2},\n",
       " 'pipeline_2D_thr_0.2_flow_0.5_3_2': {'pipeline': ['isotropy',\n",
       "   'norm_percentile',\n",
       "   'anisodiff',\n",
       "   'bilateral',\n",
       "   'clean_boundaries_opening'],\n",
       "  'type': '2D',\n",
       "  'threshold': 0.2},\n",
       " 'pipeline_2D_thr_0.2_flow_0.5_3_3': {'pipeline': ['isotropy',\n",
       "   'norm_percentile',\n",
       "   'anisodiff',\n",
       "   'bilateral',\n",
       "   ()],\n",
       "  'type': '2D',\n",
       "  'threshold': 0.2},\n",
       " 'pipeline_2D_thr_0.2_flow_0.5_4_0': {'pipeline': ['isotropy',\n",
       "   'norm_percentile',\n",
       "   'merge_connected_components'],\n",
       "  'type': '2D',\n",
       "  'threshold': 0.2},\n",
       " 'pipeline_2D_thr_0.2_flow_0.5_4_1': {'pipeline': ['isotropy',\n",
       "   'norm_percentile',\n",
       "   'merge_graph'],\n",
       "  'type': '2D',\n",
       "  'threshold': 0.2},\n",
       " 'pipeline_2D_thr_0.2_flow_0.5_4_2': {'pipeline': ['isotropy',\n",
       "   'norm_percentile',\n",
       "   'clean_boundaries_opening'],\n",
       "  'type': '2D',\n",
       "  'threshold': 0.2},\n",
       " 'pipeline_2D_thr_0.2_flow_0.5_4_3': {'pipeline': ['isotropy',\n",
       "   'norm_percentile',\n",
       "   ()],\n",
       "  'type': '2D',\n",
       "  'threshold': 0.2},\n",
       " 'pipeline_2D_thr_0.2_flow_0.6_0_0': {'pipeline': ['isotropy',\n",
       "   'norm_percentile',\n",
       "   'bilateral',\n",
       "   'merge_connected_components'],\n",
       "  'type': '2D',\n",
       "  'threshold': 0.2},\n",
       " 'pipeline_2D_thr_0.2_flow_0.6_0_1': {'pipeline': ['isotropy',\n",
       "   'norm_percentile',\n",
       "   'bilateral',\n",
       "   'merge_graph'],\n",
       "  'type': '2D',\n",
       "  'threshold': 0.2},\n",
       " 'pipeline_2D_thr_0.2_flow_0.6_0_2': {'pipeline': ['isotropy',\n",
       "   'norm_percentile',\n",
       "   'bilateral',\n",
       "   'clean_boundaries_opening'],\n",
       "  'type': '2D',\n",
       "  'threshold': 0.2},\n",
       " 'pipeline_2D_thr_0.2_flow_0.6_0_3': {'pipeline': ['isotropy',\n",
       "   'norm_percentile',\n",
       "   'bilateral',\n",
       "   ()],\n",
       "  'type': '2D',\n",
       "  'threshold': 0.2},\n",
       " 'pipeline_2D_thr_0.2_flow_0.6_1_0': {'pipeline': ['isotropy',\n",
       "   'norm_percentile',\n",
       "   'anisodiff',\n",
       "   'merge_connected_components'],\n",
       "  'type': '2D',\n",
       "  'threshold': 0.2},\n",
       " 'pipeline_2D_thr_0.2_flow_0.6_1_1': {'pipeline': ['isotropy',\n",
       "   'norm_percentile',\n",
       "   'anisodiff',\n",
       "   'merge_graph'],\n",
       "  'type': '2D',\n",
       "  'threshold': 0.2},\n",
       " 'pipeline_2D_thr_0.2_flow_0.6_1_2': {'pipeline': ['isotropy',\n",
       "   'norm_percentile',\n",
       "   'anisodiff',\n",
       "   'clean_boundaries_opening'],\n",
       "  'type': '2D',\n",
       "  'threshold': 0.2},\n",
       " 'pipeline_2D_thr_0.2_flow_0.6_1_3': {'pipeline': ['isotropy',\n",
       "   'norm_percentile',\n",
       "   'anisodiff',\n",
       "   ()],\n",
       "  'type': '2D',\n",
       "  'threshold': 0.2},\n",
       " 'pipeline_2D_thr_0.2_flow_0.6_2_0': {'pipeline': ['isotropy',\n",
       "   'norm_percentile',\n",
       "   'bilateral',\n",
       "   'anisodiff',\n",
       "   'merge_connected_components'],\n",
       "  'type': '2D',\n",
       "  'threshold': 0.2},\n",
       " 'pipeline_2D_thr_0.2_flow_0.6_2_1': {'pipeline': ['isotropy',\n",
       "   'norm_percentile',\n",
       "   'bilateral',\n",
       "   'anisodiff',\n",
       "   'merge_graph'],\n",
       "  'type': '2D',\n",
       "  'threshold': 0.2},\n",
       " 'pipeline_2D_thr_0.2_flow_0.6_2_2': {'pipeline': ['isotropy',\n",
       "   'norm_percentile',\n",
       "   'bilateral',\n",
       "   'anisodiff',\n",
       "   'clean_boundaries_opening'],\n",
       "  'type': '2D',\n",
       "  'threshold': 0.2},\n",
       " 'pipeline_2D_thr_0.2_flow_0.6_2_3': {'pipeline': ['isotropy',\n",
       "   'norm_percentile',\n",
       "   'bilateral',\n",
       "   'anisodiff',\n",
       "   ()],\n",
       "  'type': '2D',\n",
       "  'threshold': 0.2},\n",
       " 'pipeline_2D_thr_0.2_flow_0.6_3_0': {'pipeline': ['isotropy',\n",
       "   'norm_percentile',\n",
       "   'anisodiff',\n",
       "   'bilateral',\n",
       "   'merge_connected_components'],\n",
       "  'type': '2D',\n",
       "  'threshold': 0.2},\n",
       " 'pipeline_2D_thr_0.2_flow_0.6_3_1': {'pipeline': ['isotropy',\n",
       "   'norm_percentile',\n",
       "   'anisodiff',\n",
       "   'bilateral',\n",
       "   'merge_graph'],\n",
       "  'type': '2D',\n",
       "  'threshold': 0.2},\n",
       " 'pipeline_2D_thr_0.2_flow_0.6_3_2': {'pipeline': ['isotropy',\n",
       "   'norm_percentile',\n",
       "   'anisodiff',\n",
       "   'bilateral',\n",
       "   'clean_boundaries_opening'],\n",
       "  'type': '2D',\n",
       "  'threshold': 0.2},\n",
       " 'pipeline_2D_thr_0.2_flow_0.6_3_3': {'pipeline': ['isotropy',\n",
       "   'norm_percentile',\n",
       "   'anisodiff',\n",
       "   'bilateral',\n",
       "   ()],\n",
       "  'type': '2D',\n",
       "  'threshold': 0.2},\n",
       " 'pipeline_2D_thr_0.2_flow_0.6_4_0': {'pipeline': ['isotropy',\n",
       "   'norm_percentile',\n",
       "   'merge_connected_components'],\n",
       "  'type': '2D',\n",
       "  'threshold': 0.2},\n",
       " 'pipeline_2D_thr_0.2_flow_0.6_4_1': {'pipeline': ['isotropy',\n",
       "   'norm_percentile',\n",
       "   'merge_graph'],\n",
       "  'type': '2D',\n",
       "  'threshold': 0.2},\n",
       " 'pipeline_2D_thr_0.2_flow_0.6_4_2': {'pipeline': ['isotropy',\n",
       "   'norm_percentile',\n",
       "   'clean_boundaries_opening'],\n",
       "  'type': '2D',\n",
       "  'threshold': 0.2},\n",
       " 'pipeline_2D_thr_0.2_flow_0.6_4_3': {'pipeline': ['isotropy',\n",
       "   'norm_percentile',\n",
       "   ()],\n",
       "  'type': '2D',\n",
       "  'threshold': 0.2},\n",
       " 'pipeline_2D_thr_0.3_flow_0.2_0_0': {'pipeline': ['isotropy',\n",
       "   'norm_percentile',\n",
       "   'bilateral',\n",
       "   'merge_connected_components'],\n",
       "  'type': '2D',\n",
       "  'threshold': 0.3},\n",
       " 'pipeline_2D_thr_0.3_flow_0.2_0_1': {'pipeline': ['isotropy',\n",
       "   'norm_percentile',\n",
       "   'bilateral',\n",
       "   'merge_graph'],\n",
       "  'type': '2D',\n",
       "  'threshold': 0.3},\n",
       " 'pipeline_2D_thr_0.3_flow_0.2_0_2': {'pipeline': ['isotropy',\n",
       "   'norm_percentile',\n",
       "   'bilateral',\n",
       "   'clean_boundaries_opening'],\n",
       "  'type': '2D',\n",
       "  'threshold': 0.3},\n",
       " 'pipeline_2D_thr_0.3_flow_0.2_0_3': {'pipeline': ['isotropy',\n",
       "   'norm_percentile',\n",
       "   'bilateral',\n",
       "   ()],\n",
       "  'type': '2D',\n",
       "  'threshold': 0.3},\n",
       " 'pipeline_2D_thr_0.3_flow_0.2_1_0': {'pipeline': ['isotropy',\n",
       "   'norm_percentile',\n",
       "   'anisodiff',\n",
       "   'merge_connected_components'],\n",
       "  'type': '2D',\n",
       "  'threshold': 0.3},\n",
       " 'pipeline_2D_thr_0.3_flow_0.2_1_1': {'pipeline': ['isotropy',\n",
       "   'norm_percentile',\n",
       "   'anisodiff',\n",
       "   'merge_graph'],\n",
       "  'type': '2D',\n",
       "  'threshold': 0.3},\n",
       " 'pipeline_2D_thr_0.3_flow_0.2_1_2': {'pipeline': ['isotropy',\n",
       "   'norm_percentile',\n",
       "   'anisodiff',\n",
       "   'clean_boundaries_opening'],\n",
       "  'type': '2D',\n",
       "  'threshold': 0.3},\n",
       " 'pipeline_2D_thr_0.3_flow_0.2_1_3': {'pipeline': ['isotropy',\n",
       "   'norm_percentile',\n",
       "   'anisodiff',\n",
       "   ()],\n",
       "  'type': '2D',\n",
       "  'threshold': 0.3},\n",
       " 'pipeline_2D_thr_0.3_flow_0.2_2_0': {'pipeline': ['isotropy',\n",
       "   'norm_percentile',\n",
       "   'bilateral',\n",
       "   'anisodiff',\n",
       "   'merge_connected_components'],\n",
       "  'type': '2D',\n",
       "  'threshold': 0.3},\n",
       " 'pipeline_2D_thr_0.3_flow_0.2_2_1': {'pipeline': ['isotropy',\n",
       "   'norm_percentile',\n",
       "   'bilateral',\n",
       "   'anisodiff',\n",
       "   'merge_graph'],\n",
       "  'type': '2D',\n",
       "  'threshold': 0.3},\n",
       " 'pipeline_2D_thr_0.3_flow_0.2_2_2': {'pipeline': ['isotropy',\n",
       "   'norm_percentile',\n",
       "   'bilateral',\n",
       "   'anisodiff',\n",
       "   'clean_boundaries_opening'],\n",
       "  'type': '2D',\n",
       "  'threshold': 0.3},\n",
       " 'pipeline_2D_thr_0.3_flow_0.2_2_3': {'pipeline': ['isotropy',\n",
       "   'norm_percentile',\n",
       "   'bilateral',\n",
       "   'anisodiff',\n",
       "   ()],\n",
       "  'type': '2D',\n",
       "  'threshold': 0.3},\n",
       " 'pipeline_2D_thr_0.3_flow_0.2_3_0': {'pipeline': ['isotropy',\n",
       "   'norm_percentile',\n",
       "   'anisodiff',\n",
       "   'bilateral',\n",
       "   'merge_connected_components'],\n",
       "  'type': '2D',\n",
       "  'threshold': 0.3},\n",
       " 'pipeline_2D_thr_0.3_flow_0.2_3_1': {'pipeline': ['isotropy',\n",
       "   'norm_percentile',\n",
       "   'anisodiff',\n",
       "   'bilateral',\n",
       "   'merge_graph'],\n",
       "  'type': '2D',\n",
       "  'threshold': 0.3},\n",
       " 'pipeline_2D_thr_0.3_flow_0.2_3_2': {'pipeline': ['isotropy',\n",
       "   'norm_percentile',\n",
       "   'anisodiff',\n",
       "   'bilateral',\n",
       "   'clean_boundaries_opening'],\n",
       "  'type': '2D',\n",
       "  'threshold': 0.3},\n",
       " 'pipeline_2D_thr_0.3_flow_0.2_3_3': {'pipeline': ['isotropy',\n",
       "   'norm_percentile',\n",
       "   'anisodiff',\n",
       "   'bilateral',\n",
       "   ()],\n",
       "  'type': '2D',\n",
       "  'threshold': 0.3},\n",
       " 'pipeline_2D_thr_0.3_flow_0.2_4_0': {'pipeline': ['isotropy',\n",
       "   'norm_percentile',\n",
       "   'merge_connected_components'],\n",
       "  'type': '2D',\n",
       "  'threshold': 0.3},\n",
       " 'pipeline_2D_thr_0.3_flow_0.2_4_1': {'pipeline': ['isotropy',\n",
       "   'norm_percentile',\n",
       "   'merge_graph'],\n",
       "  'type': '2D',\n",
       "  'threshold': 0.3},\n",
       " 'pipeline_2D_thr_0.3_flow_0.2_4_2': {'pipeline': ['isotropy',\n",
       "   'norm_percentile',\n",
       "   'clean_boundaries_opening'],\n",
       "  'type': '2D',\n",
       "  'threshold': 0.3},\n",
       " 'pipeline_2D_thr_0.3_flow_0.2_4_3': {'pipeline': ['isotropy',\n",
       "   'norm_percentile',\n",
       "   ()],\n",
       "  'type': '2D',\n",
       "  'threshold': 0.3},\n",
       " 'pipeline_2D_thr_0.3_flow_0.3_0_0': {'pipeline': ['isotropy',\n",
       "   'norm_percentile',\n",
       "   'bilateral',\n",
       "   'merge_connected_components'],\n",
       "  'type': '2D',\n",
       "  'threshold': 0.3},\n",
       " 'pipeline_2D_thr_0.3_flow_0.3_0_1': {'pipeline': ['isotropy',\n",
       "   'norm_percentile',\n",
       "   'bilateral',\n",
       "   'merge_graph'],\n",
       "  'type': '2D',\n",
       "  'threshold': 0.3},\n",
       " 'pipeline_2D_thr_0.3_flow_0.3_0_2': {'pipeline': ['isotropy',\n",
       "   'norm_percentile',\n",
       "   'bilateral',\n",
       "   'clean_boundaries_opening'],\n",
       "  'type': '2D',\n",
       "  'threshold': 0.3},\n",
       " 'pipeline_2D_thr_0.3_flow_0.3_0_3': {'pipeline': ['isotropy',\n",
       "   'norm_percentile',\n",
       "   'bilateral',\n",
       "   ()],\n",
       "  'type': '2D',\n",
       "  'threshold': 0.3},\n",
       " 'pipeline_2D_thr_0.3_flow_0.3_1_0': {'pipeline': ['isotropy',\n",
       "   'norm_percentile',\n",
       "   'anisodiff',\n",
       "   'merge_connected_components'],\n",
       "  'type': '2D',\n",
       "  'threshold': 0.3},\n",
       " 'pipeline_2D_thr_0.3_flow_0.3_1_1': {'pipeline': ['isotropy',\n",
       "   'norm_percentile',\n",
       "   'anisodiff',\n",
       "   'merge_graph'],\n",
       "  'type': '2D',\n",
       "  'threshold': 0.3},\n",
       " 'pipeline_2D_thr_0.3_flow_0.3_1_2': {'pipeline': ['isotropy',\n",
       "   'norm_percentile',\n",
       "   'anisodiff',\n",
       "   'clean_boundaries_opening'],\n",
       "  'type': '2D',\n",
       "  'threshold': 0.3},\n",
       " 'pipeline_2D_thr_0.3_flow_0.3_1_3': {'pipeline': ['isotropy',\n",
       "   'norm_percentile',\n",
       "   'anisodiff',\n",
       "   ()],\n",
       "  'type': '2D',\n",
       "  'threshold': 0.3},\n",
       " 'pipeline_2D_thr_0.3_flow_0.3_2_0': {'pipeline': ['isotropy',\n",
       "   'norm_percentile',\n",
       "   'bilateral',\n",
       "   'anisodiff',\n",
       "   'merge_connected_components'],\n",
       "  'type': '2D',\n",
       "  'threshold': 0.3},\n",
       " 'pipeline_2D_thr_0.3_flow_0.3_2_1': {'pipeline': ['isotropy',\n",
       "   'norm_percentile',\n",
       "   'bilateral',\n",
       "   'anisodiff',\n",
       "   'merge_graph'],\n",
       "  'type': '2D',\n",
       "  'threshold': 0.3},\n",
       " 'pipeline_2D_thr_0.3_flow_0.3_2_2': {'pipeline': ['isotropy',\n",
       "   'norm_percentile',\n",
       "   'bilateral',\n",
       "   'anisodiff',\n",
       "   'clean_boundaries_opening'],\n",
       "  'type': '2D',\n",
       "  'threshold': 0.3},\n",
       " 'pipeline_2D_thr_0.3_flow_0.3_2_3': {'pipeline': ['isotropy',\n",
       "   'norm_percentile',\n",
       "   'bilateral',\n",
       "   'anisodiff',\n",
       "   ()],\n",
       "  'type': '2D',\n",
       "  'threshold': 0.3},\n",
       " 'pipeline_2D_thr_0.3_flow_0.3_3_0': {'pipeline': ['isotropy',\n",
       "   'norm_percentile',\n",
       "   'anisodiff',\n",
       "   'bilateral',\n",
       "   'merge_connected_components'],\n",
       "  'type': '2D',\n",
       "  'threshold': 0.3},\n",
       " 'pipeline_2D_thr_0.3_flow_0.3_3_1': {'pipeline': ['isotropy',\n",
       "   'norm_percentile',\n",
       "   'anisodiff',\n",
       "   'bilateral',\n",
       "   'merge_graph'],\n",
       "  'type': '2D',\n",
       "  'threshold': 0.3},\n",
       " 'pipeline_2D_thr_0.3_flow_0.3_3_2': {'pipeline': ['isotropy',\n",
       "   'norm_percentile',\n",
       "   'anisodiff',\n",
       "   'bilateral',\n",
       "   'clean_boundaries_opening'],\n",
       "  'type': '2D',\n",
       "  'threshold': 0.3},\n",
       " 'pipeline_2D_thr_0.3_flow_0.3_3_3': {'pipeline': ['isotropy',\n",
       "   'norm_percentile',\n",
       "   'anisodiff',\n",
       "   'bilateral',\n",
       "   ()],\n",
       "  'type': '2D',\n",
       "  'threshold': 0.3},\n",
       " 'pipeline_2D_thr_0.3_flow_0.3_4_0': {'pipeline': ['isotropy',\n",
       "   'norm_percentile',\n",
       "   'merge_connected_components'],\n",
       "  'type': '2D',\n",
       "  'threshold': 0.3},\n",
       " 'pipeline_2D_thr_0.3_flow_0.3_4_1': {'pipeline': ['isotropy',\n",
       "   'norm_percentile',\n",
       "   'merge_graph'],\n",
       "  'type': '2D',\n",
       "  'threshold': 0.3},\n",
       " 'pipeline_2D_thr_0.3_flow_0.3_4_2': {'pipeline': ['isotropy',\n",
       "   'norm_percentile',\n",
       "   'clean_boundaries_opening'],\n",
       "  'type': '2D',\n",
       "  'threshold': 0.3},\n",
       " 'pipeline_2D_thr_0.3_flow_0.3_4_3': {'pipeline': ['isotropy',\n",
       "   'norm_percentile',\n",
       "   ()],\n",
       "  'type': '2D',\n",
       "  'threshold': 0.3},\n",
       " 'pipeline_2D_thr_0.3_flow_0.5_0_0': {'pipeline': ['isotropy',\n",
       "   'norm_percentile',\n",
       "   'bilateral',\n",
       "   'merge_connected_components'],\n",
       "  'type': '2D',\n",
       "  'threshold': 0.3},\n",
       " 'pipeline_2D_thr_0.3_flow_0.5_0_1': {'pipeline': ['isotropy',\n",
       "   'norm_percentile',\n",
       "   'bilateral',\n",
       "   'merge_graph'],\n",
       "  'type': '2D',\n",
       "  'threshold': 0.3},\n",
       " 'pipeline_2D_thr_0.3_flow_0.5_0_2': {'pipeline': ['isotropy',\n",
       "   'norm_percentile',\n",
       "   'bilateral',\n",
       "   'clean_boundaries_opening'],\n",
       "  'type': '2D',\n",
       "  'threshold': 0.3},\n",
       " 'pipeline_2D_thr_0.3_flow_0.5_0_3': {'pipeline': ['isotropy',\n",
       "   'norm_percentile',\n",
       "   'bilateral',\n",
       "   ()],\n",
       "  'type': '2D',\n",
       "  'threshold': 0.3},\n",
       " 'pipeline_2D_thr_0.3_flow_0.5_1_0': {'pipeline': ['isotropy',\n",
       "   'norm_percentile',\n",
       "   'anisodiff',\n",
       "   'merge_connected_components'],\n",
       "  'type': '2D',\n",
       "  'threshold': 0.3},\n",
       " 'pipeline_2D_thr_0.3_flow_0.5_1_1': {'pipeline': ['isotropy',\n",
       "   'norm_percentile',\n",
       "   'anisodiff',\n",
       "   'merge_graph'],\n",
       "  'type': '2D',\n",
       "  'threshold': 0.3},\n",
       " 'pipeline_2D_thr_0.3_flow_0.5_1_2': {'pipeline': ['isotropy',\n",
       "   'norm_percentile',\n",
       "   'anisodiff',\n",
       "   'clean_boundaries_opening'],\n",
       "  'type': '2D',\n",
       "  'threshold': 0.3},\n",
       " 'pipeline_2D_thr_0.3_flow_0.5_1_3': {'pipeline': ['isotropy',\n",
       "   'norm_percentile',\n",
       "   'anisodiff',\n",
       "   ()],\n",
       "  'type': '2D',\n",
       "  'threshold': 0.3},\n",
       " 'pipeline_2D_thr_0.3_flow_0.5_2_0': {'pipeline': ['isotropy',\n",
       "   'norm_percentile',\n",
       "   'bilateral',\n",
       "   'anisodiff',\n",
       "   'merge_connected_components'],\n",
       "  'type': '2D',\n",
       "  'threshold': 0.3},\n",
       " 'pipeline_2D_thr_0.3_flow_0.5_2_1': {'pipeline': ['isotropy',\n",
       "   'norm_percentile',\n",
       "   'bilateral',\n",
       "   'anisodiff',\n",
       "   'merge_graph'],\n",
       "  'type': '2D',\n",
       "  'threshold': 0.3},\n",
       " 'pipeline_2D_thr_0.3_flow_0.5_2_2': {'pipeline': ['isotropy',\n",
       "   'norm_percentile',\n",
       "   'bilateral',\n",
       "   'anisodiff',\n",
       "   'clean_boundaries_opening'],\n",
       "  'type': '2D',\n",
       "  'threshold': 0.3},\n",
       " 'pipeline_2D_thr_0.3_flow_0.5_2_3': {'pipeline': ['isotropy',\n",
       "   'norm_percentile',\n",
       "   'bilateral',\n",
       "   'anisodiff',\n",
       "   ()],\n",
       "  'type': '2D',\n",
       "  'threshold': 0.3},\n",
       " 'pipeline_2D_thr_0.3_flow_0.5_3_0': {'pipeline': ['isotropy',\n",
       "   'norm_percentile',\n",
       "   'anisodiff',\n",
       "   'bilateral',\n",
       "   'merge_connected_components'],\n",
       "  'type': '2D',\n",
       "  'threshold': 0.3},\n",
       " 'pipeline_2D_thr_0.3_flow_0.5_3_1': {'pipeline': ['isotropy',\n",
       "   'norm_percentile',\n",
       "   'anisodiff',\n",
       "   'bilateral',\n",
       "   'merge_graph'],\n",
       "  'type': '2D',\n",
       "  'threshold': 0.3},\n",
       " 'pipeline_2D_thr_0.3_flow_0.5_3_2': {'pipeline': ['isotropy',\n",
       "   'norm_percentile',\n",
       "   'anisodiff',\n",
       "   'bilateral',\n",
       "   'clean_boundaries_opening'],\n",
       "  'type': '2D',\n",
       "  'threshold': 0.3},\n",
       " 'pipeline_2D_thr_0.3_flow_0.5_3_3': {'pipeline': ['isotropy',\n",
       "   'norm_percentile',\n",
       "   'anisodiff',\n",
       "   'bilateral',\n",
       "   ()],\n",
       "  'type': '2D',\n",
       "  'threshold': 0.3},\n",
       " 'pipeline_2D_thr_0.3_flow_0.5_4_0': {'pipeline': ['isotropy',\n",
       "   'norm_percentile',\n",
       "   'merge_connected_components'],\n",
       "  'type': '2D',\n",
       "  'threshold': 0.3},\n",
       " 'pipeline_2D_thr_0.3_flow_0.5_4_1': {'pipeline': ['isotropy',\n",
       "   'norm_percentile',\n",
       "   'merge_graph'],\n",
       "  'type': '2D',\n",
       "  'threshold': 0.3},\n",
       " 'pipeline_2D_thr_0.3_flow_0.5_4_2': {'pipeline': ['isotropy',\n",
       "   'norm_percentile',\n",
       "   'clean_boundaries_opening'],\n",
       "  'type': '2D',\n",
       "  'threshold': 0.3},\n",
       " 'pipeline_2D_thr_0.3_flow_0.5_4_3': {'pipeline': ['isotropy',\n",
       "   'norm_percentile',\n",
       "   ()],\n",
       "  'type': '2D',\n",
       "  'threshold': 0.3},\n",
       " 'pipeline_2D_thr_0.3_flow_0.6_0_0': {'pipeline': ['isotropy',\n",
       "   'norm_percentile',\n",
       "   'bilateral',\n",
       "   'merge_connected_components'],\n",
       "  'type': '2D',\n",
       "  'threshold': 0.3},\n",
       " 'pipeline_2D_thr_0.3_flow_0.6_0_1': {'pipeline': ['isotropy',\n",
       "   'norm_percentile',\n",
       "   'bilateral',\n",
       "   'merge_graph'],\n",
       "  'type': '2D',\n",
       "  'threshold': 0.3},\n",
       " 'pipeline_2D_thr_0.3_flow_0.6_0_2': {'pipeline': ['isotropy',\n",
       "   'norm_percentile',\n",
       "   'bilateral',\n",
       "   'clean_boundaries_opening'],\n",
       "  'type': '2D',\n",
       "  'threshold': 0.3},\n",
       " 'pipeline_2D_thr_0.3_flow_0.6_0_3': {'pipeline': ['isotropy',\n",
       "   'norm_percentile',\n",
       "   'bilateral',\n",
       "   ()],\n",
       "  'type': '2D',\n",
       "  'threshold': 0.3},\n",
       " 'pipeline_2D_thr_0.3_flow_0.6_1_0': {'pipeline': ['isotropy',\n",
       "   'norm_percentile',\n",
       "   'anisodiff',\n",
       "   'merge_connected_components'],\n",
       "  'type': '2D',\n",
       "  'threshold': 0.3},\n",
       " 'pipeline_2D_thr_0.3_flow_0.6_1_1': {'pipeline': ['isotropy',\n",
       "   'norm_percentile',\n",
       "   'anisodiff',\n",
       "   'merge_graph'],\n",
       "  'type': '2D',\n",
       "  'threshold': 0.3},\n",
       " 'pipeline_2D_thr_0.3_flow_0.6_1_2': {'pipeline': ['isotropy',\n",
       "   'norm_percentile',\n",
       "   'anisodiff',\n",
       "   'clean_boundaries_opening'],\n",
       "  'type': '2D',\n",
       "  'threshold': 0.3},\n",
       " 'pipeline_2D_thr_0.3_flow_0.6_1_3': {'pipeline': ['isotropy',\n",
       "   'norm_percentile',\n",
       "   'anisodiff',\n",
       "   ()],\n",
       "  'type': '2D',\n",
       "  'threshold': 0.3},\n",
       " 'pipeline_2D_thr_0.3_flow_0.6_2_0': {'pipeline': ['isotropy',\n",
       "   'norm_percentile',\n",
       "   'bilateral',\n",
       "   'anisodiff',\n",
       "   'merge_connected_components'],\n",
       "  'type': '2D',\n",
       "  'threshold': 0.3},\n",
       " 'pipeline_2D_thr_0.3_flow_0.6_2_1': {'pipeline': ['isotropy',\n",
       "   'norm_percentile',\n",
       "   'bilateral',\n",
       "   'anisodiff',\n",
       "   'merge_graph'],\n",
       "  'type': '2D',\n",
       "  'threshold': 0.3},\n",
       " 'pipeline_2D_thr_0.3_flow_0.6_2_2': {'pipeline': ['isotropy',\n",
       "   'norm_percentile',\n",
       "   'bilateral',\n",
       "   'anisodiff',\n",
       "   'clean_boundaries_opening'],\n",
       "  'type': '2D',\n",
       "  'threshold': 0.3},\n",
       " 'pipeline_2D_thr_0.3_flow_0.6_2_3': {'pipeline': ['isotropy',\n",
       "   'norm_percentile',\n",
       "   'bilateral',\n",
       "   'anisodiff',\n",
       "   ()],\n",
       "  'type': '2D',\n",
       "  'threshold': 0.3},\n",
       " 'pipeline_2D_thr_0.3_flow_0.6_3_0': {'pipeline': ['isotropy',\n",
       "   'norm_percentile',\n",
       "   'anisodiff',\n",
       "   'bilateral',\n",
       "   'merge_connected_components'],\n",
       "  'type': '2D',\n",
       "  'threshold': 0.3},\n",
       " 'pipeline_2D_thr_0.3_flow_0.6_3_1': {'pipeline': ['isotropy',\n",
       "   'norm_percentile',\n",
       "   'anisodiff',\n",
       "   'bilateral',\n",
       "   'merge_graph'],\n",
       "  'type': '2D',\n",
       "  'threshold': 0.3},\n",
       " 'pipeline_2D_thr_0.3_flow_0.6_3_2': {'pipeline': ['isotropy',\n",
       "   'norm_percentile',\n",
       "   'anisodiff',\n",
       "   'bilateral',\n",
       "   'clean_boundaries_opening'],\n",
       "  'type': '2D',\n",
       "  'threshold': 0.3},\n",
       " 'pipeline_2D_thr_0.3_flow_0.6_3_3': {'pipeline': ['isotropy',\n",
       "   'norm_percentile',\n",
       "   'anisodiff',\n",
       "   'bilateral',\n",
       "   ()],\n",
       "  'type': '2D',\n",
       "  'threshold': 0.3},\n",
       " 'pipeline_2D_thr_0.3_flow_0.6_4_0': {'pipeline': ['isotropy',\n",
       "   'norm_percentile',\n",
       "   'merge_connected_components'],\n",
       "  'type': '2D',\n",
       "  'threshold': 0.3},\n",
       " 'pipeline_2D_thr_0.3_flow_0.6_4_1': {'pipeline': ['isotropy',\n",
       "   'norm_percentile',\n",
       "   'merge_graph'],\n",
       "  'type': '2D',\n",
       "  'threshold': 0.3},\n",
       " 'pipeline_2D_thr_0.3_flow_0.6_4_2': {'pipeline': ['isotropy',\n",
       "   'norm_percentile',\n",
       "   'clean_boundaries_opening'],\n",
       "  'type': '2D',\n",
       "  'threshold': 0.3},\n",
       " 'pipeline_2D_thr_0.3_flow_0.6_4_3': {'pipeline': ['isotropy',\n",
       "   'norm_percentile',\n",
       "   ()],\n",
       "  'type': '2D',\n",
       "  'threshold': 0.3},\n",
       " 'pipeline_2D_thr_0.4_flow_0.2_0_0': {'pipeline': ['isotropy',\n",
       "   'norm_percentile',\n",
       "   'bilateral',\n",
       "   'merge_connected_components'],\n",
       "  'type': '2D',\n",
       "  'threshold': 0.4},\n",
       " 'pipeline_2D_thr_0.4_flow_0.2_0_1': {'pipeline': ['isotropy',\n",
       "   'norm_percentile',\n",
       "   'bilateral',\n",
       "   'merge_graph'],\n",
       "  'type': '2D',\n",
       "  'threshold': 0.4},\n",
       " 'pipeline_2D_thr_0.4_flow_0.2_0_2': {'pipeline': ['isotropy',\n",
       "   'norm_percentile',\n",
       "   'bilateral',\n",
       "   'clean_boundaries_opening'],\n",
       "  'type': '2D',\n",
       "  'threshold': 0.4},\n",
       " 'pipeline_2D_thr_0.4_flow_0.2_0_3': {'pipeline': ['isotropy',\n",
       "   'norm_percentile',\n",
       "   'bilateral',\n",
       "   ()],\n",
       "  'type': '2D',\n",
       "  'threshold': 0.4},\n",
       " 'pipeline_2D_thr_0.4_flow_0.2_1_0': {'pipeline': ['isotropy',\n",
       "   'norm_percentile',\n",
       "   'anisodiff',\n",
       "   'merge_connected_components'],\n",
       "  'type': '2D',\n",
       "  'threshold': 0.4},\n",
       " 'pipeline_2D_thr_0.4_flow_0.2_1_1': {'pipeline': ['isotropy',\n",
       "   'norm_percentile',\n",
       "   'anisodiff',\n",
       "   'merge_graph'],\n",
       "  'type': '2D',\n",
       "  'threshold': 0.4},\n",
       " 'pipeline_2D_thr_0.4_flow_0.2_1_2': {'pipeline': ['isotropy',\n",
       "   'norm_percentile',\n",
       "   'anisodiff',\n",
       "   'clean_boundaries_opening'],\n",
       "  'type': '2D',\n",
       "  'threshold': 0.4},\n",
       " 'pipeline_2D_thr_0.4_flow_0.2_1_3': {'pipeline': ['isotropy',\n",
       "   'norm_percentile',\n",
       "   'anisodiff',\n",
       "   ()],\n",
       "  'type': '2D',\n",
       "  'threshold': 0.4},\n",
       " 'pipeline_2D_thr_0.4_flow_0.2_2_0': {'pipeline': ['isotropy',\n",
       "   'norm_percentile',\n",
       "   'bilateral',\n",
       "   'anisodiff',\n",
       "   'merge_connected_components'],\n",
       "  'type': '2D',\n",
       "  'threshold': 0.4},\n",
       " 'pipeline_2D_thr_0.4_flow_0.2_2_1': {'pipeline': ['isotropy',\n",
       "   'norm_percentile',\n",
       "   'bilateral',\n",
       "   'anisodiff',\n",
       "   'merge_graph'],\n",
       "  'type': '2D',\n",
       "  'threshold': 0.4},\n",
       " 'pipeline_2D_thr_0.4_flow_0.2_2_2': {'pipeline': ['isotropy',\n",
       "   'norm_percentile',\n",
       "   'bilateral',\n",
       "   'anisodiff',\n",
       "   'clean_boundaries_opening'],\n",
       "  'type': '2D',\n",
       "  'threshold': 0.4},\n",
       " 'pipeline_2D_thr_0.4_flow_0.2_2_3': {'pipeline': ['isotropy',\n",
       "   'norm_percentile',\n",
       "   'bilateral',\n",
       "   'anisodiff',\n",
       "   ()],\n",
       "  'type': '2D',\n",
       "  'threshold': 0.4},\n",
       " 'pipeline_2D_thr_0.4_flow_0.2_3_0': {'pipeline': ['isotropy',\n",
       "   'norm_percentile',\n",
       "   'anisodiff',\n",
       "   'bilateral',\n",
       "   'merge_connected_components'],\n",
       "  'type': '2D',\n",
       "  'threshold': 0.4},\n",
       " 'pipeline_2D_thr_0.4_flow_0.2_3_1': {'pipeline': ['isotropy',\n",
       "   'norm_percentile',\n",
       "   'anisodiff',\n",
       "   'bilateral',\n",
       "   'merge_graph'],\n",
       "  'type': '2D',\n",
       "  'threshold': 0.4},\n",
       " 'pipeline_2D_thr_0.4_flow_0.2_3_2': {'pipeline': ['isotropy',\n",
       "   'norm_percentile',\n",
       "   'anisodiff',\n",
       "   'bilateral',\n",
       "   'clean_boundaries_opening'],\n",
       "  'type': '2D',\n",
       "  'threshold': 0.4},\n",
       " 'pipeline_2D_thr_0.4_flow_0.2_3_3': {'pipeline': ['isotropy',\n",
       "   'norm_percentile',\n",
       "   'anisodiff',\n",
       "   'bilateral',\n",
       "   ()],\n",
       "  'type': '2D',\n",
       "  'threshold': 0.4},\n",
       " 'pipeline_2D_thr_0.4_flow_0.2_4_0': {'pipeline': ['isotropy',\n",
       "   'norm_percentile',\n",
       "   'merge_connected_components'],\n",
       "  'type': '2D',\n",
       "  'threshold': 0.4},\n",
       " 'pipeline_2D_thr_0.4_flow_0.2_4_1': {'pipeline': ['isotropy',\n",
       "   'norm_percentile',\n",
       "   'merge_graph'],\n",
       "  'type': '2D',\n",
       "  'threshold': 0.4},\n",
       " 'pipeline_2D_thr_0.4_flow_0.2_4_2': {'pipeline': ['isotropy',\n",
       "   'norm_percentile',\n",
       "   'clean_boundaries_opening'],\n",
       "  'type': '2D',\n",
       "  'threshold': 0.4},\n",
       " 'pipeline_2D_thr_0.4_flow_0.2_4_3': {'pipeline': ['isotropy',\n",
       "   'norm_percentile',\n",
       "   ()],\n",
       "  'type': '2D',\n",
       "  'threshold': 0.4},\n",
       " 'pipeline_2D_thr_0.4_flow_0.3_0_0': {'pipeline': ['isotropy',\n",
       "   'norm_percentile',\n",
       "   'bilateral',\n",
       "   'merge_connected_components'],\n",
       "  'type': '2D',\n",
       "  'threshold': 0.4},\n",
       " 'pipeline_2D_thr_0.4_flow_0.3_0_1': {'pipeline': ['isotropy',\n",
       "   'norm_percentile',\n",
       "   'bilateral',\n",
       "   'merge_graph'],\n",
       "  'type': '2D',\n",
       "  'threshold': 0.4},\n",
       " 'pipeline_2D_thr_0.4_flow_0.3_0_2': {'pipeline': ['isotropy',\n",
       "   'norm_percentile',\n",
       "   'bilateral',\n",
       "   'clean_boundaries_opening'],\n",
       "  'type': '2D',\n",
       "  'threshold': 0.4},\n",
       " 'pipeline_2D_thr_0.4_flow_0.3_0_3': {'pipeline': ['isotropy',\n",
       "   'norm_percentile',\n",
       "   'bilateral',\n",
       "   ()],\n",
       "  'type': '2D',\n",
       "  'threshold': 0.4},\n",
       " 'pipeline_2D_thr_0.4_flow_0.3_1_0': {'pipeline': ['isotropy',\n",
       "   'norm_percentile',\n",
       "   'anisodiff',\n",
       "   'merge_connected_components'],\n",
       "  'type': '2D',\n",
       "  'threshold': 0.4},\n",
       " 'pipeline_2D_thr_0.4_flow_0.3_1_1': {'pipeline': ['isotropy',\n",
       "   'norm_percentile',\n",
       "   'anisodiff',\n",
       "   'merge_graph'],\n",
       "  'type': '2D',\n",
       "  'threshold': 0.4},\n",
       " 'pipeline_2D_thr_0.4_flow_0.3_1_2': {'pipeline': ['isotropy',\n",
       "   'norm_percentile',\n",
       "   'anisodiff',\n",
       "   'clean_boundaries_opening'],\n",
       "  'type': '2D',\n",
       "  'threshold': 0.4},\n",
       " 'pipeline_2D_thr_0.4_flow_0.3_1_3': {'pipeline': ['isotropy',\n",
       "   'norm_percentile',\n",
       "   'anisodiff',\n",
       "   ()],\n",
       "  'type': '2D',\n",
       "  'threshold': 0.4},\n",
       " 'pipeline_2D_thr_0.4_flow_0.3_2_0': {'pipeline': ['isotropy',\n",
       "   'norm_percentile',\n",
       "   'bilateral',\n",
       "   'anisodiff',\n",
       "   'merge_connected_components'],\n",
       "  'type': '2D',\n",
       "  'threshold': 0.4},\n",
       " 'pipeline_2D_thr_0.4_flow_0.3_2_1': {'pipeline': ['isotropy',\n",
       "   'norm_percentile',\n",
       "   'bilateral',\n",
       "   'anisodiff',\n",
       "   'merge_graph'],\n",
       "  'type': '2D',\n",
       "  'threshold': 0.4},\n",
       " 'pipeline_2D_thr_0.4_flow_0.3_2_2': {'pipeline': ['isotropy',\n",
       "   'norm_percentile',\n",
       "   'bilateral',\n",
       "   'anisodiff',\n",
       "   'clean_boundaries_opening'],\n",
       "  'type': '2D',\n",
       "  'threshold': 0.4},\n",
       " 'pipeline_2D_thr_0.4_flow_0.3_2_3': {'pipeline': ['isotropy',\n",
       "   'norm_percentile',\n",
       "   'bilateral',\n",
       "   'anisodiff',\n",
       "   ()],\n",
       "  'type': '2D',\n",
       "  'threshold': 0.4},\n",
       " 'pipeline_2D_thr_0.4_flow_0.3_3_0': {'pipeline': ['isotropy',\n",
       "   'norm_percentile',\n",
       "   'anisodiff',\n",
       "   'bilateral',\n",
       "   'merge_connected_components'],\n",
       "  'type': '2D',\n",
       "  'threshold': 0.4},\n",
       " 'pipeline_2D_thr_0.4_flow_0.3_3_1': {'pipeline': ['isotropy',\n",
       "   'norm_percentile',\n",
       "   'anisodiff',\n",
       "   'bilateral',\n",
       "   'merge_graph'],\n",
       "  'type': '2D',\n",
       "  'threshold': 0.4},\n",
       " 'pipeline_2D_thr_0.4_flow_0.3_3_2': {'pipeline': ['isotropy',\n",
       "   'norm_percentile',\n",
       "   'anisodiff',\n",
       "   'bilateral',\n",
       "   'clean_boundaries_opening'],\n",
       "  'type': '2D',\n",
       "  'threshold': 0.4},\n",
       " 'pipeline_2D_thr_0.4_flow_0.3_3_3': {'pipeline': ['isotropy',\n",
       "   'norm_percentile',\n",
       "   'anisodiff',\n",
       "   'bilateral',\n",
       "   ()],\n",
       "  'type': '2D',\n",
       "  'threshold': 0.4},\n",
       " 'pipeline_2D_thr_0.4_flow_0.3_4_0': {'pipeline': ['isotropy',\n",
       "   'norm_percentile',\n",
       "   'merge_connected_components'],\n",
       "  'type': '2D',\n",
       "  'threshold': 0.4},\n",
       " 'pipeline_2D_thr_0.4_flow_0.3_4_1': {'pipeline': ['isotropy',\n",
       "   'norm_percentile',\n",
       "   'merge_graph'],\n",
       "  'type': '2D',\n",
       "  'threshold': 0.4},\n",
       " 'pipeline_2D_thr_0.4_flow_0.3_4_2': {'pipeline': ['isotropy',\n",
       "   'norm_percentile',\n",
       "   'clean_boundaries_opening'],\n",
       "  'type': '2D',\n",
       "  'threshold': 0.4},\n",
       " 'pipeline_2D_thr_0.4_flow_0.3_4_3': {'pipeline': ['isotropy',\n",
       "   'norm_percentile',\n",
       "   ()],\n",
       "  'type': '2D',\n",
       "  'threshold': 0.4},\n",
       " 'pipeline_2D_thr_0.4_flow_0.5_0_0': {'pipeline': ['isotropy',\n",
       "   'norm_percentile',\n",
       "   'bilateral',\n",
       "   'merge_connected_components'],\n",
       "  'type': '2D',\n",
       "  'threshold': 0.4},\n",
       " 'pipeline_2D_thr_0.4_flow_0.5_0_1': {'pipeline': ['isotropy',\n",
       "   'norm_percentile',\n",
       "   'bilateral',\n",
       "   'merge_graph'],\n",
       "  'type': '2D',\n",
       "  'threshold': 0.4},\n",
       " 'pipeline_2D_thr_0.4_flow_0.5_0_2': {'pipeline': ['isotropy',\n",
       "   'norm_percentile',\n",
       "   'bilateral',\n",
       "   'clean_boundaries_opening'],\n",
       "  'type': '2D',\n",
       "  'threshold': 0.4},\n",
       " 'pipeline_2D_thr_0.4_flow_0.5_0_3': {'pipeline': ['isotropy',\n",
       "   'norm_percentile',\n",
       "   'bilateral',\n",
       "   ()],\n",
       "  'type': '2D',\n",
       "  'threshold': 0.4},\n",
       " 'pipeline_2D_thr_0.4_flow_0.5_1_0': {'pipeline': ['isotropy',\n",
       "   'norm_percentile',\n",
       "   'anisodiff',\n",
       "   'merge_connected_components'],\n",
       "  'type': '2D',\n",
       "  'threshold': 0.4},\n",
       " 'pipeline_2D_thr_0.4_flow_0.5_1_1': {'pipeline': ['isotropy',\n",
       "   'norm_percentile',\n",
       "   'anisodiff',\n",
       "   'merge_graph'],\n",
       "  'type': '2D',\n",
       "  'threshold': 0.4},\n",
       " 'pipeline_2D_thr_0.4_flow_0.5_1_2': {'pipeline': ['isotropy',\n",
       "   'norm_percentile',\n",
       "   'anisodiff',\n",
       "   'clean_boundaries_opening'],\n",
       "  'type': '2D',\n",
       "  'threshold': 0.4},\n",
       " 'pipeline_2D_thr_0.4_flow_0.5_1_3': {'pipeline': ['isotropy',\n",
       "   'norm_percentile',\n",
       "   'anisodiff',\n",
       "   ()],\n",
       "  'type': '2D',\n",
       "  'threshold': 0.4},\n",
       " 'pipeline_2D_thr_0.4_flow_0.5_2_0': {'pipeline': ['isotropy',\n",
       "   'norm_percentile',\n",
       "   'bilateral',\n",
       "   'anisodiff',\n",
       "   'merge_connected_components'],\n",
       "  'type': '2D',\n",
       "  'threshold': 0.4},\n",
       " 'pipeline_2D_thr_0.4_flow_0.5_2_1': {'pipeline': ['isotropy',\n",
       "   'norm_percentile',\n",
       "   'bilateral',\n",
       "   'anisodiff',\n",
       "   'merge_graph'],\n",
       "  'type': '2D',\n",
       "  'threshold': 0.4},\n",
       " 'pipeline_2D_thr_0.4_flow_0.5_2_2': {'pipeline': ['isotropy',\n",
       "   'norm_percentile',\n",
       "   'bilateral',\n",
       "   'anisodiff',\n",
       "   'clean_boundaries_opening'],\n",
       "  'type': '2D',\n",
       "  'threshold': 0.4},\n",
       " 'pipeline_2D_thr_0.4_flow_0.5_2_3': {'pipeline': ['isotropy',\n",
       "   'norm_percentile',\n",
       "   'bilateral',\n",
       "   'anisodiff',\n",
       "   ()],\n",
       "  'type': '2D',\n",
       "  'threshold': 0.4},\n",
       " 'pipeline_2D_thr_0.4_flow_0.5_3_0': {'pipeline': ['isotropy',\n",
       "   'norm_percentile',\n",
       "   'anisodiff',\n",
       "   'bilateral',\n",
       "   'merge_connected_components'],\n",
       "  'type': '2D',\n",
       "  'threshold': 0.4},\n",
       " 'pipeline_2D_thr_0.4_flow_0.5_3_1': {'pipeline': ['isotropy',\n",
       "   'norm_percentile',\n",
       "   'anisodiff',\n",
       "   'bilateral',\n",
       "   'merge_graph'],\n",
       "  'type': '2D',\n",
       "  'threshold': 0.4},\n",
       " 'pipeline_2D_thr_0.4_flow_0.5_3_2': {'pipeline': ['isotropy',\n",
       "   'norm_percentile',\n",
       "   'anisodiff',\n",
       "   'bilateral',\n",
       "   'clean_boundaries_opening'],\n",
       "  'type': '2D',\n",
       "  'threshold': 0.4},\n",
       " 'pipeline_2D_thr_0.4_flow_0.5_3_3': {'pipeline': ['isotropy',\n",
       "   'norm_percentile',\n",
       "   'anisodiff',\n",
       "   'bilateral',\n",
       "   ()],\n",
       "  'type': '2D',\n",
       "  'threshold': 0.4},\n",
       " 'pipeline_2D_thr_0.4_flow_0.5_4_0': {'pipeline': ['isotropy',\n",
       "   'norm_percentile',\n",
       "   'merge_connected_components'],\n",
       "  'type': '2D',\n",
       "  'threshold': 0.4},\n",
       " 'pipeline_2D_thr_0.4_flow_0.5_4_1': {'pipeline': ['isotropy',\n",
       "   'norm_percentile',\n",
       "   'merge_graph'],\n",
       "  'type': '2D',\n",
       "  'threshold': 0.4},\n",
       " 'pipeline_2D_thr_0.4_flow_0.5_4_2': {'pipeline': ['isotropy',\n",
       "   'norm_percentile',\n",
       "   'clean_boundaries_opening'],\n",
       "  'type': '2D',\n",
       "  'threshold': 0.4},\n",
       " 'pipeline_2D_thr_0.4_flow_0.5_4_3': {'pipeline': ['isotropy',\n",
       "   'norm_percentile',\n",
       "   ()],\n",
       "  'type': '2D',\n",
       "  'threshold': 0.4},\n",
       " 'pipeline_2D_thr_0.4_flow_0.6_0_0': {'pipeline': ['isotropy',\n",
       "   'norm_percentile',\n",
       "   'bilateral',\n",
       "   'merge_connected_components'],\n",
       "  'type': '2D',\n",
       "  'threshold': 0.4},\n",
       " 'pipeline_2D_thr_0.4_flow_0.6_0_1': {'pipeline': ['isotropy',\n",
       "   'norm_percentile',\n",
       "   'bilateral',\n",
       "   'merge_graph'],\n",
       "  'type': '2D',\n",
       "  'threshold': 0.4},\n",
       " 'pipeline_2D_thr_0.4_flow_0.6_0_2': {'pipeline': ['isotropy',\n",
       "   'norm_percentile',\n",
       "   'bilateral',\n",
       "   'clean_boundaries_opening'],\n",
       "  'type': '2D',\n",
       "  'threshold': 0.4},\n",
       " 'pipeline_2D_thr_0.4_flow_0.6_0_3': {'pipeline': ['isotropy',\n",
       "   'norm_percentile',\n",
       "   'bilateral',\n",
       "   ()],\n",
       "  'type': '2D',\n",
       "  'threshold': 0.4},\n",
       " 'pipeline_2D_thr_0.4_flow_0.6_1_0': {'pipeline': ['isotropy',\n",
       "   'norm_percentile',\n",
       "   'anisodiff',\n",
       "   'merge_connected_components'],\n",
       "  'type': '2D',\n",
       "  'threshold': 0.4},\n",
       " 'pipeline_2D_thr_0.4_flow_0.6_1_1': {'pipeline': ['isotropy',\n",
       "   'norm_percentile',\n",
       "   'anisodiff',\n",
       "   'merge_graph'],\n",
       "  'type': '2D',\n",
       "  'threshold': 0.4},\n",
       " 'pipeline_2D_thr_0.4_flow_0.6_1_2': {'pipeline': ['isotropy',\n",
       "   'norm_percentile',\n",
       "   'anisodiff',\n",
       "   'clean_boundaries_opening'],\n",
       "  'type': '2D',\n",
       "  'threshold': 0.4},\n",
       " 'pipeline_2D_thr_0.4_flow_0.6_1_3': {'pipeline': ['isotropy',\n",
       "   'norm_percentile',\n",
       "   'anisodiff',\n",
       "   ()],\n",
       "  'type': '2D',\n",
       "  'threshold': 0.4},\n",
       " 'pipeline_2D_thr_0.4_flow_0.6_2_0': {'pipeline': ['isotropy',\n",
       "   'norm_percentile',\n",
       "   'bilateral',\n",
       "   'anisodiff',\n",
       "   'merge_connected_components'],\n",
       "  'type': '2D',\n",
       "  'threshold': 0.4},\n",
       " 'pipeline_2D_thr_0.4_flow_0.6_2_1': {'pipeline': ['isotropy',\n",
       "   'norm_percentile',\n",
       "   'bilateral',\n",
       "   'anisodiff',\n",
       "   'merge_graph'],\n",
       "  'type': '2D',\n",
       "  'threshold': 0.4},\n",
       " 'pipeline_2D_thr_0.4_flow_0.6_2_2': {'pipeline': ['isotropy',\n",
       "   'norm_percentile',\n",
       "   'bilateral',\n",
       "   'anisodiff',\n",
       "   'clean_boundaries_opening'],\n",
       "  'type': '2D',\n",
       "  'threshold': 0.4},\n",
       " 'pipeline_2D_thr_0.4_flow_0.6_2_3': {'pipeline': ['isotropy',\n",
       "   'norm_percentile',\n",
       "   'bilateral',\n",
       "   'anisodiff',\n",
       "   ()],\n",
       "  'type': '2D',\n",
       "  'threshold': 0.4},\n",
       " 'pipeline_2D_thr_0.4_flow_0.6_3_0': {'pipeline': ['isotropy',\n",
       "   'norm_percentile',\n",
       "   'anisodiff',\n",
       "   'bilateral',\n",
       "   'merge_connected_components'],\n",
       "  'type': '2D',\n",
       "  'threshold': 0.4},\n",
       " 'pipeline_2D_thr_0.4_flow_0.6_3_1': {'pipeline': ['isotropy',\n",
       "   'norm_percentile',\n",
       "   'anisodiff',\n",
       "   'bilateral',\n",
       "   'merge_graph'],\n",
       "  'type': '2D',\n",
       "  'threshold': 0.4},\n",
       " 'pipeline_2D_thr_0.4_flow_0.6_3_2': {'pipeline': ['isotropy',\n",
       "   'norm_percentile',\n",
       "   'anisodiff',\n",
       "   'bilateral',\n",
       "   'clean_boundaries_opening'],\n",
       "  'type': '2D',\n",
       "  'threshold': 0.4},\n",
       " 'pipeline_2D_thr_0.4_flow_0.6_3_3': {'pipeline': ['isotropy',\n",
       "   'norm_percentile',\n",
       "   'anisodiff',\n",
       "   'bilateral',\n",
       "   ()],\n",
       "  'type': '2D',\n",
       "  'threshold': 0.4},\n",
       " 'pipeline_2D_thr_0.4_flow_0.6_4_0': {'pipeline': ['isotropy',\n",
       "   'norm_percentile',\n",
       "   'merge_connected_components'],\n",
       "  'type': '2D',\n",
       "  'threshold': 0.4},\n",
       " 'pipeline_2D_thr_0.4_flow_0.6_4_1': {'pipeline': ['isotropy',\n",
       "   'norm_percentile',\n",
       "   'merge_graph'],\n",
       "  'type': '2D',\n",
       "  'threshold': 0.4},\n",
       " 'pipeline_2D_thr_0.4_flow_0.6_4_2': {'pipeline': ['isotropy',\n",
       "   'norm_percentile',\n",
       "   'clean_boundaries_opening'],\n",
       "  'type': '2D',\n",
       "  'threshold': 0.4},\n",
       " 'pipeline_2D_thr_0.4_flow_0.6_4_3': {'pipeline': ['isotropy',\n",
       "   'norm_percentile',\n",
       "   ()],\n",
       "  'type': '2D',\n",
       "  'threshold': 0.4},\n",
       " 'pipeline_2D_thr_0.5_flow_0.2_0_0': {'pipeline': ['isotropy',\n",
       "   'norm_percentile',\n",
       "   'bilateral',\n",
       "   'merge_connected_components'],\n",
       "  'type': '2D',\n",
       "  'threshold': 0.5},\n",
       " 'pipeline_2D_thr_0.5_flow_0.2_0_1': {'pipeline': ['isotropy',\n",
       "   'norm_percentile',\n",
       "   'bilateral',\n",
       "   'merge_graph'],\n",
       "  'type': '2D',\n",
       "  'threshold': 0.5},\n",
       " 'pipeline_2D_thr_0.5_flow_0.2_0_2': {'pipeline': ['isotropy',\n",
       "   'norm_percentile',\n",
       "   'bilateral',\n",
       "   'clean_boundaries_opening'],\n",
       "  'type': '2D',\n",
       "  'threshold': 0.5},\n",
       " 'pipeline_2D_thr_0.5_flow_0.2_0_3': {'pipeline': ['isotropy',\n",
       "   'norm_percentile',\n",
       "   'bilateral',\n",
       "   ()],\n",
       "  'type': '2D',\n",
       "  'threshold': 0.5},\n",
       " 'pipeline_2D_thr_0.5_flow_0.2_1_0': {'pipeline': ['isotropy',\n",
       "   'norm_percentile',\n",
       "   'anisodiff',\n",
       "   'merge_connected_components'],\n",
       "  'type': '2D',\n",
       "  'threshold': 0.5},\n",
       " 'pipeline_2D_thr_0.5_flow_0.2_1_1': {'pipeline': ['isotropy',\n",
       "   'norm_percentile',\n",
       "   'anisodiff',\n",
       "   'merge_graph'],\n",
       "  'type': '2D',\n",
       "  'threshold': 0.5},\n",
       " 'pipeline_2D_thr_0.5_flow_0.2_1_2': {'pipeline': ['isotropy',\n",
       "   'norm_percentile',\n",
       "   'anisodiff',\n",
       "   'clean_boundaries_opening'],\n",
       "  'type': '2D',\n",
       "  'threshold': 0.5},\n",
       " 'pipeline_2D_thr_0.5_flow_0.2_1_3': {'pipeline': ['isotropy',\n",
       "   'norm_percentile',\n",
       "   'anisodiff',\n",
       "   ()],\n",
       "  'type': '2D',\n",
       "  'threshold': 0.5},\n",
       " 'pipeline_2D_thr_0.5_flow_0.2_2_0': {'pipeline': ['isotropy',\n",
       "   'norm_percentile',\n",
       "   'bilateral',\n",
       "   'anisodiff',\n",
       "   'merge_connected_components'],\n",
       "  'type': '2D',\n",
       "  'threshold': 0.5},\n",
       " 'pipeline_2D_thr_0.5_flow_0.2_2_1': {'pipeline': ['isotropy',\n",
       "   'norm_percentile',\n",
       "   'bilateral',\n",
       "   'anisodiff',\n",
       "   'merge_graph'],\n",
       "  'type': '2D',\n",
       "  'threshold': 0.5},\n",
       " 'pipeline_2D_thr_0.5_flow_0.2_2_2': {'pipeline': ['isotropy',\n",
       "   'norm_percentile',\n",
       "   'bilateral',\n",
       "   'anisodiff',\n",
       "   'clean_boundaries_opening'],\n",
       "  'type': '2D',\n",
       "  'threshold': 0.5},\n",
       " 'pipeline_2D_thr_0.5_flow_0.2_2_3': {'pipeline': ['isotropy',\n",
       "   'norm_percentile',\n",
       "   'bilateral',\n",
       "   'anisodiff',\n",
       "   ()],\n",
       "  'type': '2D',\n",
       "  'threshold': 0.5},\n",
       " 'pipeline_2D_thr_0.5_flow_0.2_3_0': {'pipeline': ['isotropy',\n",
       "   'norm_percentile',\n",
       "   'anisodiff',\n",
       "   'bilateral',\n",
       "   'merge_connected_components'],\n",
       "  'type': '2D',\n",
       "  'threshold': 0.5},\n",
       " 'pipeline_2D_thr_0.5_flow_0.2_3_1': {'pipeline': ['isotropy',\n",
       "   'norm_percentile',\n",
       "   'anisodiff',\n",
       "   'bilateral',\n",
       "   'merge_graph'],\n",
       "  'type': '2D',\n",
       "  'threshold': 0.5},\n",
       " 'pipeline_2D_thr_0.5_flow_0.2_3_2': {'pipeline': ['isotropy',\n",
       "   'norm_percentile',\n",
       "   'anisodiff',\n",
       "   'bilateral',\n",
       "   'clean_boundaries_opening'],\n",
       "  'type': '2D',\n",
       "  'threshold': 0.5},\n",
       " 'pipeline_2D_thr_0.5_flow_0.2_3_3': {'pipeline': ['isotropy',\n",
       "   'norm_percentile',\n",
       "   'anisodiff',\n",
       "   'bilateral',\n",
       "   ()],\n",
       "  'type': '2D',\n",
       "  'threshold': 0.5},\n",
       " 'pipeline_2D_thr_0.5_flow_0.2_4_0': {'pipeline': ['isotropy',\n",
       "   'norm_percentile',\n",
       "   'merge_connected_components'],\n",
       "  'type': '2D',\n",
       "  'threshold': 0.5},\n",
       " 'pipeline_2D_thr_0.5_flow_0.2_4_1': {'pipeline': ['isotropy',\n",
       "   'norm_percentile',\n",
       "   'merge_graph'],\n",
       "  'type': '2D',\n",
       "  'threshold': 0.5},\n",
       " 'pipeline_2D_thr_0.5_flow_0.2_4_2': {'pipeline': ['isotropy',\n",
       "   'norm_percentile',\n",
       "   'clean_boundaries_opening'],\n",
       "  'type': '2D',\n",
       "  'threshold': 0.5},\n",
       " 'pipeline_2D_thr_0.5_flow_0.2_4_3': {'pipeline': ['isotropy',\n",
       "   'norm_percentile',\n",
       "   ()],\n",
       "  'type': '2D',\n",
       "  'threshold': 0.5},\n",
       " 'pipeline_2D_thr_0.5_flow_0.3_0_0': {'pipeline': ['isotropy',\n",
       "   'norm_percentile',\n",
       "   'bilateral',\n",
       "   'merge_connected_components'],\n",
       "  'type': '2D',\n",
       "  'threshold': 0.5},\n",
       " 'pipeline_2D_thr_0.5_flow_0.3_0_1': {'pipeline': ['isotropy',\n",
       "   'norm_percentile',\n",
       "   'bilateral',\n",
       "   'merge_graph'],\n",
       "  'type': '2D',\n",
       "  'threshold': 0.5},\n",
       " 'pipeline_2D_thr_0.5_flow_0.3_0_2': {'pipeline': ['isotropy',\n",
       "   'norm_percentile',\n",
       "   'bilateral',\n",
       "   'clean_boundaries_opening'],\n",
       "  'type': '2D',\n",
       "  'threshold': 0.5},\n",
       " 'pipeline_2D_thr_0.5_flow_0.3_0_3': {'pipeline': ['isotropy',\n",
       "   'norm_percentile',\n",
       "   'bilateral',\n",
       "   ()],\n",
       "  'type': '2D',\n",
       "  'threshold': 0.5},\n",
       " 'pipeline_2D_thr_0.5_flow_0.3_1_0': {'pipeline': ['isotropy',\n",
       "   'norm_percentile',\n",
       "   'anisodiff',\n",
       "   'merge_connected_components'],\n",
       "  'type': '2D',\n",
       "  'threshold': 0.5},\n",
       " 'pipeline_2D_thr_0.5_flow_0.3_1_1': {'pipeline': ['isotropy',\n",
       "   'norm_percentile',\n",
       "   'anisodiff',\n",
       "   'merge_graph'],\n",
       "  'type': '2D',\n",
       "  'threshold': 0.5},\n",
       " 'pipeline_2D_thr_0.5_flow_0.3_1_2': {'pipeline': ['isotropy',\n",
       "   'norm_percentile',\n",
       "   'anisodiff',\n",
       "   'clean_boundaries_opening'],\n",
       "  'type': '2D',\n",
       "  'threshold': 0.5},\n",
       " 'pipeline_2D_thr_0.5_flow_0.3_1_3': {'pipeline': ['isotropy',\n",
       "   'norm_percentile',\n",
       "   'anisodiff',\n",
       "   ()],\n",
       "  'type': '2D',\n",
       "  'threshold': 0.5},\n",
       " 'pipeline_2D_thr_0.5_flow_0.3_2_0': {'pipeline': ['isotropy',\n",
       "   'norm_percentile',\n",
       "   'bilateral',\n",
       "   'anisodiff',\n",
       "   'merge_connected_components'],\n",
       "  'type': '2D',\n",
       "  'threshold': 0.5},\n",
       " 'pipeline_2D_thr_0.5_flow_0.3_2_1': {'pipeline': ['isotropy',\n",
       "   'norm_percentile',\n",
       "   'bilateral',\n",
       "   'anisodiff',\n",
       "   'merge_graph'],\n",
       "  'type': '2D',\n",
       "  'threshold': 0.5},\n",
       " 'pipeline_2D_thr_0.5_flow_0.3_2_2': {'pipeline': ['isotropy',\n",
       "   'norm_percentile',\n",
       "   'bilateral',\n",
       "   'anisodiff',\n",
       "   'clean_boundaries_opening'],\n",
       "  'type': '2D',\n",
       "  'threshold': 0.5},\n",
       " 'pipeline_2D_thr_0.5_flow_0.3_2_3': {'pipeline': ['isotropy',\n",
       "   'norm_percentile',\n",
       "   'bilateral',\n",
       "   'anisodiff',\n",
       "   ()],\n",
       "  'type': '2D',\n",
       "  'threshold': 0.5},\n",
       " 'pipeline_2D_thr_0.5_flow_0.3_3_0': {'pipeline': ['isotropy',\n",
       "   'norm_percentile',\n",
       "   'anisodiff',\n",
       "   'bilateral',\n",
       "   'merge_connected_components'],\n",
       "  'type': '2D',\n",
       "  'threshold': 0.5},\n",
       " 'pipeline_2D_thr_0.5_flow_0.3_3_1': {'pipeline': ['isotropy',\n",
       "   'norm_percentile',\n",
       "   'anisodiff',\n",
       "   'bilateral',\n",
       "   'merge_graph'],\n",
       "  'type': '2D',\n",
       "  'threshold': 0.5},\n",
       " 'pipeline_2D_thr_0.5_flow_0.3_3_2': {'pipeline': ['isotropy',\n",
       "   'norm_percentile',\n",
       "   'anisodiff',\n",
       "   'bilateral',\n",
       "   'clean_boundaries_opening'],\n",
       "  'type': '2D',\n",
       "  'threshold': 0.5},\n",
       " 'pipeline_2D_thr_0.5_flow_0.3_3_3': {'pipeline': ['isotropy',\n",
       "   'norm_percentile',\n",
       "   'anisodiff',\n",
       "   'bilateral',\n",
       "   ()],\n",
       "  'type': '2D',\n",
       "  'threshold': 0.5},\n",
       " 'pipeline_2D_thr_0.5_flow_0.3_4_0': {'pipeline': ['isotropy',\n",
       "   'norm_percentile',\n",
       "   'merge_connected_components'],\n",
       "  'type': '2D',\n",
       "  'threshold': 0.5},\n",
       " 'pipeline_2D_thr_0.5_flow_0.3_4_1': {'pipeline': ['isotropy',\n",
       "   'norm_percentile',\n",
       "   'merge_graph'],\n",
       "  'type': '2D',\n",
       "  'threshold': 0.5},\n",
       " 'pipeline_2D_thr_0.5_flow_0.3_4_2': {'pipeline': ['isotropy',\n",
       "   'norm_percentile',\n",
       "   'clean_boundaries_opening'],\n",
       "  'type': '2D',\n",
       "  'threshold': 0.5},\n",
       " 'pipeline_2D_thr_0.5_flow_0.3_4_3': {'pipeline': ['isotropy',\n",
       "   'norm_percentile',\n",
       "   ()],\n",
       "  'type': '2D',\n",
       "  'threshold': 0.5},\n",
       " 'pipeline_2D_thr_0.5_flow_0.5_0_0': {'pipeline': ['isotropy',\n",
       "   'norm_percentile',\n",
       "   'bilateral',\n",
       "   'merge_connected_components'],\n",
       "  'type': '2D',\n",
       "  'threshold': 0.5},\n",
       " 'pipeline_2D_thr_0.5_flow_0.5_0_1': {'pipeline': ['isotropy',\n",
       "   'norm_percentile',\n",
       "   'bilateral',\n",
       "   'merge_graph'],\n",
       "  'type': '2D',\n",
       "  'threshold': 0.5},\n",
       " 'pipeline_2D_thr_0.5_flow_0.5_0_2': {'pipeline': ['isotropy',\n",
       "   'norm_percentile',\n",
       "   'bilateral',\n",
       "   'clean_boundaries_opening'],\n",
       "  'type': '2D',\n",
       "  'threshold': 0.5},\n",
       " 'pipeline_2D_thr_0.5_flow_0.5_0_3': {'pipeline': ['isotropy',\n",
       "   'norm_percentile',\n",
       "   'bilateral',\n",
       "   ()],\n",
       "  'type': '2D',\n",
       "  'threshold': 0.5},\n",
       " 'pipeline_2D_thr_0.5_flow_0.5_1_0': {'pipeline': ['isotropy',\n",
       "   'norm_percentile',\n",
       "   'anisodiff',\n",
       "   'merge_connected_components'],\n",
       "  'type': '2D',\n",
       "  'threshold': 0.5},\n",
       " 'pipeline_2D_thr_0.5_flow_0.5_1_1': {'pipeline': ['isotropy',\n",
       "   'norm_percentile',\n",
       "   'anisodiff',\n",
       "   'merge_graph'],\n",
       "  'type': '2D',\n",
       "  'threshold': 0.5},\n",
       " 'pipeline_2D_thr_0.5_flow_0.5_1_2': {'pipeline': ['isotropy',\n",
       "   'norm_percentile',\n",
       "   'anisodiff',\n",
       "   'clean_boundaries_opening'],\n",
       "  'type': '2D',\n",
       "  'threshold': 0.5},\n",
       " 'pipeline_2D_thr_0.5_flow_0.5_1_3': {'pipeline': ['isotropy',\n",
       "   'norm_percentile',\n",
       "   'anisodiff',\n",
       "   ()],\n",
       "  'type': '2D',\n",
       "  'threshold': 0.5},\n",
       " 'pipeline_2D_thr_0.5_flow_0.5_2_0': {'pipeline': ['isotropy',\n",
       "   'norm_percentile',\n",
       "   'bilateral',\n",
       "   'anisodiff',\n",
       "   'merge_connected_components'],\n",
       "  'type': '2D',\n",
       "  'threshold': 0.5},\n",
       " 'pipeline_2D_thr_0.5_flow_0.5_2_1': {'pipeline': ['isotropy',\n",
       "   'norm_percentile',\n",
       "   'bilateral',\n",
       "   'anisodiff',\n",
       "   'merge_graph'],\n",
       "  'type': '2D',\n",
       "  'threshold': 0.5},\n",
       " 'pipeline_2D_thr_0.5_flow_0.5_2_2': {'pipeline': ['isotropy',\n",
       "   'norm_percentile',\n",
       "   'bilateral',\n",
       "   'anisodiff',\n",
       "   'clean_boundaries_opening'],\n",
       "  'type': '2D',\n",
       "  'threshold': 0.5},\n",
       " 'pipeline_2D_thr_0.5_flow_0.5_2_3': {'pipeline': ['isotropy',\n",
       "   'norm_percentile',\n",
       "   'bilateral',\n",
       "   'anisodiff',\n",
       "   ()],\n",
       "  'type': '2D',\n",
       "  'threshold': 0.5},\n",
       " 'pipeline_2D_thr_0.5_flow_0.5_3_0': {'pipeline': ['isotropy',\n",
       "   'norm_percentile',\n",
       "   'anisodiff',\n",
       "   'bilateral',\n",
       "   'merge_connected_components'],\n",
       "  'type': '2D',\n",
       "  'threshold': 0.5},\n",
       " 'pipeline_2D_thr_0.5_flow_0.5_3_1': {'pipeline': ['isotropy',\n",
       "   'norm_percentile',\n",
       "   'anisodiff',\n",
       "   'bilateral',\n",
       "   'merge_graph'],\n",
       "  'type': '2D',\n",
       "  'threshold': 0.5},\n",
       " 'pipeline_2D_thr_0.5_flow_0.5_3_2': {'pipeline': ['isotropy',\n",
       "   'norm_percentile',\n",
       "   'anisodiff',\n",
       "   'bilateral',\n",
       "   'clean_boundaries_opening'],\n",
       "  'type': '2D',\n",
       "  'threshold': 0.5},\n",
       " 'pipeline_2D_thr_0.5_flow_0.5_3_3': {'pipeline': ['isotropy',\n",
       "   'norm_percentile',\n",
       "   'anisodiff',\n",
       "   'bilateral',\n",
       "   ()],\n",
       "  'type': '2D',\n",
       "  'threshold': 0.5},\n",
       " 'pipeline_2D_thr_0.5_flow_0.5_4_0': {'pipeline': ['isotropy',\n",
       "   'norm_percentile',\n",
       "   'merge_connected_components'],\n",
       "  'type': '2D',\n",
       "  'threshold': 0.5},\n",
       " 'pipeline_2D_thr_0.5_flow_0.5_4_1': {'pipeline': ['isotropy',\n",
       "   'norm_percentile',\n",
       "   'merge_graph'],\n",
       "  'type': '2D',\n",
       "  'threshold': 0.5},\n",
       " 'pipeline_2D_thr_0.5_flow_0.5_4_2': {'pipeline': ['isotropy',\n",
       "   'norm_percentile',\n",
       "   'clean_boundaries_opening'],\n",
       "  'type': '2D',\n",
       "  'threshold': 0.5},\n",
       " 'pipeline_2D_thr_0.5_flow_0.5_4_3': {'pipeline': ['isotropy',\n",
       "   'norm_percentile',\n",
       "   ()],\n",
       "  'type': '2D',\n",
       "  'threshold': 0.5},\n",
       " 'pipeline_2D_thr_0.5_flow_0.6_0_0': {'pipeline': ['isotropy',\n",
       "   'norm_percentile',\n",
       "   'bilateral',\n",
       "   'merge_connected_components'],\n",
       "  'type': '2D',\n",
       "  'threshold': 0.5},\n",
       " 'pipeline_2D_thr_0.5_flow_0.6_0_1': {'pipeline': ['isotropy',\n",
       "   'norm_percentile',\n",
       "   'bilateral',\n",
       "   'merge_graph'],\n",
       "  'type': '2D',\n",
       "  'threshold': 0.5},\n",
       " 'pipeline_2D_thr_0.5_flow_0.6_0_2': {'pipeline': ['isotropy',\n",
       "   'norm_percentile',\n",
       "   'bilateral',\n",
       "   'clean_boundaries_opening'],\n",
       "  'type': '2D',\n",
       "  'threshold': 0.5},\n",
       " 'pipeline_2D_thr_0.5_flow_0.6_0_3': {'pipeline': ['isotropy',\n",
       "   'norm_percentile',\n",
       "   'bilateral',\n",
       "   ()],\n",
       "  'type': '2D',\n",
       "  'threshold': 0.5},\n",
       " 'pipeline_2D_thr_0.5_flow_0.6_1_0': {'pipeline': ['isotropy',\n",
       "   'norm_percentile',\n",
       "   'anisodiff',\n",
       "   'merge_connected_components'],\n",
       "  'type': '2D',\n",
       "  'threshold': 0.5},\n",
       " 'pipeline_2D_thr_0.5_flow_0.6_1_1': {'pipeline': ['isotropy',\n",
       "   'norm_percentile',\n",
       "   'anisodiff',\n",
       "   'merge_graph'],\n",
       "  'type': '2D',\n",
       "  'threshold': 0.5},\n",
       " 'pipeline_2D_thr_0.5_flow_0.6_1_2': {'pipeline': ['isotropy',\n",
       "   'norm_percentile',\n",
       "   'anisodiff',\n",
       "   'clean_boundaries_opening'],\n",
       "  'type': '2D',\n",
       "  'threshold': 0.5},\n",
       " 'pipeline_2D_thr_0.5_flow_0.6_1_3': {'pipeline': ['isotropy',\n",
       "   'norm_percentile',\n",
       "   'anisodiff',\n",
       "   ()],\n",
       "  'type': '2D',\n",
       "  'threshold': 0.5},\n",
       " 'pipeline_2D_thr_0.5_flow_0.6_2_0': {'pipeline': ['isotropy',\n",
       "   'norm_percentile',\n",
       "   'bilateral',\n",
       "   'anisodiff',\n",
       "   'merge_connected_components'],\n",
       "  'type': '2D',\n",
       "  'threshold': 0.5},\n",
       " 'pipeline_2D_thr_0.5_flow_0.6_2_1': {'pipeline': ['isotropy',\n",
       "   'norm_percentile',\n",
       "   'bilateral',\n",
       "   'anisodiff',\n",
       "   'merge_graph'],\n",
       "  'type': '2D',\n",
       "  'threshold': 0.5},\n",
       " 'pipeline_2D_thr_0.5_flow_0.6_2_2': {'pipeline': ['isotropy',\n",
       "   'norm_percentile',\n",
       "   'bilateral',\n",
       "   'anisodiff',\n",
       "   'clean_boundaries_opening'],\n",
       "  'type': '2D',\n",
       "  'threshold': 0.5},\n",
       " 'pipeline_2D_thr_0.5_flow_0.6_2_3': {'pipeline': ['isotropy',\n",
       "   'norm_percentile',\n",
       "   'bilateral',\n",
       "   'anisodiff',\n",
       "   ()],\n",
       "  'type': '2D',\n",
       "  'threshold': 0.5},\n",
       " 'pipeline_2D_thr_0.5_flow_0.6_3_0': {'pipeline': ['isotropy',\n",
       "   'norm_percentile',\n",
       "   'anisodiff',\n",
       "   'bilateral',\n",
       "   'merge_connected_components'],\n",
       "  'type': '2D',\n",
       "  'threshold': 0.5},\n",
       " 'pipeline_2D_thr_0.5_flow_0.6_3_1': {'pipeline': ['isotropy',\n",
       "   'norm_percentile',\n",
       "   'anisodiff',\n",
       "   'bilateral',\n",
       "   'merge_graph'],\n",
       "  'type': '2D',\n",
       "  'threshold': 0.5},\n",
       " 'pipeline_2D_thr_0.5_flow_0.6_3_2': {'pipeline': ['isotropy',\n",
       "   'norm_percentile',\n",
       "   'anisodiff',\n",
       "   'bilateral',\n",
       "   'clean_boundaries_opening'],\n",
       "  'type': '2D',\n",
       "  'threshold': 0.5},\n",
       " 'pipeline_2D_thr_0.5_flow_0.6_3_3': {'pipeline': ['isotropy',\n",
       "   'norm_percentile',\n",
       "   'anisodiff',\n",
       "   'bilateral',\n",
       "   ()],\n",
       "  'type': '2D',\n",
       "  'threshold': 0.5},\n",
       " 'pipeline_2D_thr_0.5_flow_0.6_4_0': {'pipeline': ['isotropy',\n",
       "   'norm_percentile',\n",
       "   'merge_connected_components'],\n",
       "  'type': '2D',\n",
       "  'threshold': 0.5},\n",
       " 'pipeline_2D_thr_0.5_flow_0.6_4_1': {'pipeline': ['isotropy',\n",
       "   'norm_percentile',\n",
       "   'merge_graph'],\n",
       "  'type': '2D',\n",
       "  'threshold': 0.5},\n",
       " 'pipeline_2D_thr_0.5_flow_0.6_4_2': {'pipeline': ['isotropy',\n",
       "   'norm_percentile',\n",
       "   'clean_boundaries_opening'],\n",
       "  'type': '2D',\n",
       "  'threshold': 0.5},\n",
       " 'pipeline_2D_thr_0.5_flow_0.6_4_3': {'pipeline': ['isotropy',\n",
       "   'norm_percentile',\n",
       "   ()],\n",
       "  'type': '2D',\n",
       "  'threshold': 0.5},\n",
       " 'pipeline_2D_thr_0.6_flow_0.2_0_0': {'pipeline': ['isotropy',\n",
       "   'norm_percentile',\n",
       "   'bilateral',\n",
       "   'merge_connected_components'],\n",
       "  'type': '2D',\n",
       "  'threshold': 0.6},\n",
       " 'pipeline_2D_thr_0.6_flow_0.2_0_1': {'pipeline': ['isotropy',\n",
       "   'norm_percentile',\n",
       "   'bilateral',\n",
       "   'merge_graph'],\n",
       "  'type': '2D',\n",
       "  'threshold': 0.6},\n",
       " 'pipeline_2D_thr_0.6_flow_0.2_0_2': {'pipeline': ['isotropy',\n",
       "   'norm_percentile',\n",
       "   'bilateral',\n",
       "   'clean_boundaries_opening'],\n",
       "  'type': '2D',\n",
       "  'threshold': 0.6},\n",
       " 'pipeline_2D_thr_0.6_flow_0.2_0_3': {'pipeline': ['isotropy',\n",
       "   'norm_percentile',\n",
       "   'bilateral',\n",
       "   ()],\n",
       "  'type': '2D',\n",
       "  'threshold': 0.6},\n",
       " 'pipeline_2D_thr_0.6_flow_0.2_1_0': {'pipeline': ['isotropy',\n",
       "   'norm_percentile',\n",
       "   'anisodiff',\n",
       "   'merge_connected_components'],\n",
       "  'type': '2D',\n",
       "  'threshold': 0.6},\n",
       " 'pipeline_2D_thr_0.6_flow_0.2_1_1': {'pipeline': ['isotropy',\n",
       "   'norm_percentile',\n",
       "   'anisodiff',\n",
       "   'merge_graph'],\n",
       "  'type': '2D',\n",
       "  'threshold': 0.6},\n",
       " 'pipeline_2D_thr_0.6_flow_0.2_1_2': {'pipeline': ['isotropy',\n",
       "   'norm_percentile',\n",
       "   'anisodiff',\n",
       "   'clean_boundaries_opening'],\n",
       "  'type': '2D',\n",
       "  'threshold': 0.6},\n",
       " 'pipeline_2D_thr_0.6_flow_0.2_1_3': {'pipeline': ['isotropy',\n",
       "   'norm_percentile',\n",
       "   'anisodiff',\n",
       "   ()],\n",
       "  'type': '2D',\n",
       "  'threshold': 0.6},\n",
       " 'pipeline_2D_thr_0.6_flow_0.2_2_0': {'pipeline': ['isotropy',\n",
       "   'norm_percentile',\n",
       "   'bilateral',\n",
       "   'anisodiff',\n",
       "   'merge_connected_components'],\n",
       "  'type': '2D',\n",
       "  'threshold': 0.6},\n",
       " 'pipeline_2D_thr_0.6_flow_0.2_2_1': {'pipeline': ['isotropy',\n",
       "   'norm_percentile',\n",
       "   'bilateral',\n",
       "   'anisodiff',\n",
       "   'merge_graph'],\n",
       "  'type': '2D',\n",
       "  'threshold': 0.6},\n",
       " 'pipeline_2D_thr_0.6_flow_0.2_2_2': {'pipeline': ['isotropy',\n",
       "   'norm_percentile',\n",
       "   'bilateral',\n",
       "   'anisodiff',\n",
       "   'clean_boundaries_opening'],\n",
       "  'type': '2D',\n",
       "  'threshold': 0.6},\n",
       " 'pipeline_2D_thr_0.6_flow_0.2_2_3': {'pipeline': ['isotropy',\n",
       "   'norm_percentile',\n",
       "   'bilateral',\n",
       "   'anisodiff',\n",
       "   ()],\n",
       "  'type': '2D',\n",
       "  'threshold': 0.6},\n",
       " 'pipeline_2D_thr_0.6_flow_0.2_3_0': {'pipeline': ['isotropy',\n",
       "   'norm_percentile',\n",
       "   'anisodiff',\n",
       "   'bilateral',\n",
       "   'merge_connected_components'],\n",
       "  'type': '2D',\n",
       "  'threshold': 0.6},\n",
       " 'pipeline_2D_thr_0.6_flow_0.2_3_1': {'pipeline': ['isotropy',\n",
       "   'norm_percentile',\n",
       "   'anisodiff',\n",
       "   'bilateral',\n",
       "   'merge_graph'],\n",
       "  'type': '2D',\n",
       "  'threshold': 0.6},\n",
       " 'pipeline_2D_thr_0.6_flow_0.2_3_2': {'pipeline': ['isotropy',\n",
       "   'norm_percentile',\n",
       "   'anisodiff',\n",
       "   'bilateral',\n",
       "   'clean_boundaries_opening'],\n",
       "  'type': '2D',\n",
       "  'threshold': 0.6},\n",
       " 'pipeline_2D_thr_0.6_flow_0.2_3_3': {'pipeline': ['isotropy',\n",
       "   'norm_percentile',\n",
       "   'anisodiff',\n",
       "   'bilateral',\n",
       "   ()],\n",
       "  'type': '2D',\n",
       "  'threshold': 0.6},\n",
       " 'pipeline_2D_thr_0.6_flow_0.2_4_0': {'pipeline': ['isotropy',\n",
       "   'norm_percentile',\n",
       "   'merge_connected_components'],\n",
       "  'type': '2D',\n",
       "  'threshold': 0.6},\n",
       " 'pipeline_2D_thr_0.6_flow_0.2_4_1': {'pipeline': ['isotropy',\n",
       "   'norm_percentile',\n",
       "   'merge_graph'],\n",
       "  'type': '2D',\n",
       "  'threshold': 0.6},\n",
       " 'pipeline_2D_thr_0.6_flow_0.2_4_2': {'pipeline': ['isotropy',\n",
       "   'norm_percentile',\n",
       "   'clean_boundaries_opening'],\n",
       "  'type': '2D',\n",
       "  'threshold': 0.6},\n",
       " 'pipeline_2D_thr_0.6_flow_0.2_4_3': {'pipeline': ['isotropy',\n",
       "   'norm_percentile',\n",
       "   ()],\n",
       "  'type': '2D',\n",
       "  'threshold': 0.6},\n",
       " 'pipeline_2D_thr_0.6_flow_0.3_0_0': {'pipeline': ['isotropy',\n",
       "   'norm_percentile',\n",
       "   'bilateral',\n",
       "   'merge_connected_components'],\n",
       "  'type': '2D',\n",
       "  'threshold': 0.6},\n",
       " 'pipeline_2D_thr_0.6_flow_0.3_0_1': {'pipeline': ['isotropy',\n",
       "   'norm_percentile',\n",
       "   'bilateral',\n",
       "   'merge_graph'],\n",
       "  'type': '2D',\n",
       "  'threshold': 0.6},\n",
       " 'pipeline_2D_thr_0.6_flow_0.3_0_2': {'pipeline': ['isotropy',\n",
       "   'norm_percentile',\n",
       "   'bilateral',\n",
       "   'clean_boundaries_opening'],\n",
       "  'type': '2D',\n",
       "  'threshold': 0.6},\n",
       " 'pipeline_2D_thr_0.6_flow_0.3_0_3': {'pipeline': ['isotropy',\n",
       "   'norm_percentile',\n",
       "   'bilateral',\n",
       "   ()],\n",
       "  'type': '2D',\n",
       "  'threshold': 0.6},\n",
       " 'pipeline_2D_thr_0.6_flow_0.3_1_0': {'pipeline': ['isotropy',\n",
       "   'norm_percentile',\n",
       "   'anisodiff',\n",
       "   'merge_connected_components'],\n",
       "  'type': '2D',\n",
       "  'threshold': 0.6},\n",
       " 'pipeline_2D_thr_0.6_flow_0.3_1_1': {'pipeline': ['isotropy',\n",
       "   'norm_percentile',\n",
       "   'anisodiff',\n",
       "   'merge_graph'],\n",
       "  'type': '2D',\n",
       "  'threshold': 0.6},\n",
       " 'pipeline_2D_thr_0.6_flow_0.3_1_2': {'pipeline': ['isotropy',\n",
       "   'norm_percentile',\n",
       "   'anisodiff',\n",
       "   'clean_boundaries_opening'],\n",
       "  'type': '2D',\n",
       "  'threshold': 0.6},\n",
       " 'pipeline_2D_thr_0.6_flow_0.3_1_3': {'pipeline': ['isotropy',\n",
       "   'norm_percentile',\n",
       "   'anisodiff',\n",
       "   ()],\n",
       "  'type': '2D',\n",
       "  'threshold': 0.6},\n",
       " 'pipeline_2D_thr_0.6_flow_0.3_2_0': {'pipeline': ['isotropy',\n",
       "   'norm_percentile',\n",
       "   'bilateral',\n",
       "   'anisodiff',\n",
       "   'merge_connected_components'],\n",
       "  'type': '2D',\n",
       "  'threshold': 0.6},\n",
       " 'pipeline_2D_thr_0.6_flow_0.3_2_1': {'pipeline': ['isotropy',\n",
       "   'norm_percentile',\n",
       "   'bilateral',\n",
       "   'anisodiff',\n",
       "   'merge_graph'],\n",
       "  'type': '2D',\n",
       "  'threshold': 0.6},\n",
       " 'pipeline_2D_thr_0.6_flow_0.3_2_2': {'pipeline': ['isotropy',\n",
       "   'norm_percentile',\n",
       "   'bilateral',\n",
       "   'anisodiff',\n",
       "   'clean_boundaries_opening'],\n",
       "  'type': '2D',\n",
       "  'threshold': 0.6},\n",
       " 'pipeline_2D_thr_0.6_flow_0.3_2_3': {'pipeline': ['isotropy',\n",
       "   'norm_percentile',\n",
       "   'bilateral',\n",
       "   'anisodiff',\n",
       "   ()],\n",
       "  'type': '2D',\n",
       "  'threshold': 0.6},\n",
       " 'pipeline_2D_thr_0.6_flow_0.3_3_0': {'pipeline': ['isotropy',\n",
       "   'norm_percentile',\n",
       "   'anisodiff',\n",
       "   'bilateral',\n",
       "   'merge_connected_components'],\n",
       "  'type': '2D',\n",
       "  'threshold': 0.6},\n",
       " 'pipeline_2D_thr_0.6_flow_0.3_3_1': {'pipeline': ['isotropy',\n",
       "   'norm_percentile',\n",
       "   'anisodiff',\n",
       "   'bilateral',\n",
       "   'merge_graph'],\n",
       "  'type': '2D',\n",
       "  'threshold': 0.6},\n",
       " 'pipeline_2D_thr_0.6_flow_0.3_3_2': {'pipeline': ['isotropy',\n",
       "   'norm_percentile',\n",
       "   'anisodiff',\n",
       "   'bilateral',\n",
       "   'clean_boundaries_opening'],\n",
       "  'type': '2D',\n",
       "  'threshold': 0.6},\n",
       " 'pipeline_2D_thr_0.6_flow_0.3_3_3': {'pipeline': ['isotropy',\n",
       "   'norm_percentile',\n",
       "   'anisodiff',\n",
       "   'bilateral',\n",
       "   ()],\n",
       "  'type': '2D',\n",
       "  'threshold': 0.6},\n",
       " 'pipeline_2D_thr_0.6_flow_0.3_4_0': {'pipeline': ['isotropy',\n",
       "   'norm_percentile',\n",
       "   'merge_connected_components'],\n",
       "  'type': '2D',\n",
       "  'threshold': 0.6},\n",
       " 'pipeline_2D_thr_0.6_flow_0.3_4_1': {'pipeline': ['isotropy',\n",
       "   'norm_percentile',\n",
       "   'merge_graph'],\n",
       "  'type': '2D',\n",
       "  'threshold': 0.6},\n",
       " 'pipeline_2D_thr_0.6_flow_0.3_4_2': {'pipeline': ['isotropy',\n",
       "   'norm_percentile',\n",
       "   'clean_boundaries_opening'],\n",
       "  'type': '2D',\n",
       "  'threshold': 0.6},\n",
       " 'pipeline_2D_thr_0.6_flow_0.3_4_3': {'pipeline': ['isotropy',\n",
       "   'norm_percentile',\n",
       "   ()],\n",
       "  'type': '2D',\n",
       "  'threshold': 0.6},\n",
       " ...}"
      ]
     },
     "execution_count": 4,
     "metadata": {},
     "output_type": "execute_result"
    }
   ],
   "execution_count": 4
  },
  {
   "metadata": {
    "ExecuteTime": {
     "end_time": "2024-10-08T09:24:23.853565Z",
     "start_time": "2024-10-08T09:24:23.695640Z"
    }
   },
   "cell_type": "code",
   "source": [
    "model = my_cellpose.load_model('nuclei')\n",
    "tester = ModelTester(model)"
   ],
   "id": "235a2fdf589185b5",
   "outputs": [
    {
     "name": "stdout",
     "output_type": "stream",
     "text": [
      "\u001B[94mLoading model\u001B[0m: nuclei\n"
     ]
    },
    {
     "name": "stderr",
     "output_type": "stream",
     "text": [
      "/home/imarcoss/mambaforge/envs/cellpose/lib/python3.11/site-packages/cellpose/resnet_torch.py:276: FutureWarning: You are using `torch.load` with `weights_only=False` (the current default value), which uses the default pickle module implicitly. It is possible to construct malicious pickle data which will execute arbitrary code during unpickling (See https://github.com/pytorch/pytorch/blob/main/SECURITY.md#untrusted-models for more details). In a future release, the default value for `weights_only` will be flipped to `True`. This limits the functions that could be executed during unpickling. Arbitrary objects will no longer be allowed to be loaded via this mode unless they are explicitly allowlisted by the user via `torch.serialization.add_safe_globals`. We recommend you start setting `weights_only=True` for any use case where you don't have full control of the loaded file. Please open an issue on GitHub for any issues related to this experimental feature.\n",
      "  state_dict = torch.load(filename, map_location=device)\n"
     ]
    }
   ],
   "execution_count": 5
  },
  {
   "metadata": {
    "ExecuteTime": {
     "end_time": "2024-10-08T14:19:46.591202Z",
     "start_time": "2024-10-08T09:24:23.854735Z"
    }
   },
   "cell_type": "code",
   "source": [
    "bar = LoadingBar(len(pipelines_dict))\n",
    "\n",
    "for name, config in pipelines_dict.items():\n",
    "    print(f\"\\nTesting {name} pipeline\")\n",
    "    \n",
    "    pipeline = config['pipeline']\n",
    "    type = config['type']\n",
    "    thr = config['threshold'] if 'threshold' in config else None\n",
    "    prob_thr = config['prob_threshold'] if 'prob_threshold' in config else 0.0\n",
    "    flow_threshold = config['flow_threshold'] if 'flow_threshold' in config else .4\n",
    "    \n",
    "    tester.run(\n",
    "        img_path, pipeline,\n",
    "        type=type, stitch_threshold=thr,\n",
    "        test_name=name, cellprob_threshold=prob_thr,\n",
    "        flow_threshold=flow_threshold,\n",
    "        verbose=0\n",
    "    )\n",
    "    \n",
    "    bar.update()\n",
    "    \n",
    "bar.end()"
   ],
   "id": "a33db2a830631586",
   "outputs": [
    {
     "name": "stdout",
     "output_type": "stream",
     "text": [
      "\n",
      "Testing pipeline_3D_prob_0.0_flow_0.2_0_0 pipeline\n",
      "[                                                  ] 0.10%\n",
      "Testing pipeline_3D_prob_0.0_flow_0.2_0_1 pipeline\n",
      "[                                                  ] 0.19%\n",
      "Testing pipeline_3D_prob_0.0_flow_0.2_0_2 pipeline\n",
      "[                                                  ] 0.29%\n",
      "Testing pipeline_3D_prob_0.0_flow_0.2_0_3 pipeline\n",
      "[                                                  ] 0.38%\n",
      "Testing pipeline_3D_prob_0.0_flow_0.2_0_4 pipeline\n",
      "[                                                  ] 0.48%\n",
      "Testing pipeline_3D_prob_0.0_flow_0.2_0_5 pipeline\n",
      "[                                                  ] 0.58%\n",
      "Testing pipeline_3D_prob_0.0_flow_0.2_0_6 pipeline\n",
      "[                                                  ] 0.67%\n",
      "Testing pipeline_3D_prob_0.0_flow_0.2_0_7 pipeline\n",
      "[                                                  ] 0.77%\n",
      "Testing pipeline_3D_prob_0.0_flow_0.2_1_0 pipeline\n",
      "[                                                  ] 0.87%\n",
      "Testing pipeline_3D_prob_0.0_flow_0.2_1_1 pipeline\n",
      "[                                                  ] 0.96%\n",
      "Testing pipeline_3D_prob_0.0_flow_0.2_1_2 pipeline\n",
      "[                                                  ] 1.06%\n",
      "Testing pipeline_3D_prob_0.0_flow_0.2_1_3 pipeline\n",
      "[                                                  ] 1.15%\n",
      "Testing pipeline_3D_prob_0.0_flow_0.2_1_4 pipeline\n",
      "[                                                  ] 1.25%\n",
      "Testing pipeline_3D_prob_0.0_flow_0.2_1_5 pipeline\n",
      "[                                                  ] 1.35%\n",
      "Testing pipeline_3D_prob_0.0_flow_0.2_1_6 pipeline\n",
      "[                                                  ] 1.44%\n",
      "Testing pipeline_3D_prob_0.0_flow_0.2_1_7 pipeline\n",
      "[                                                  ] 1.54%\n",
      "Testing pipeline_3D_prob_0.0_flow_0.2_2_0 pipeline\n",
      "[                                                  ] 1.63%\n",
      "Testing pipeline_3D_prob_0.0_flow_0.2_2_1 pipeline\n",
      "[                                                  ] 1.73%\n",
      "Testing pipeline_3D_prob_0.0_flow_0.2_2_2 pipeline\n",
      "[                                                  ] 1.83%\n",
      "Testing pipeline_3D_prob_0.0_flow_0.2_2_3 pipeline\n",
      "[                                                  ] 1.92%\n",
      "Testing pipeline_3D_prob_0.0_flow_0.2_2_4 pipeline\n",
      "[=                                                 ] 2.02%\n",
      "Testing pipeline_3D_prob_0.0_flow_0.2_2_5 pipeline\n",
      "[=                                                 ] 2.12%\n",
      "Testing pipeline_3D_prob_0.0_flow_0.2_2_6 pipeline\n",
      "[=                                                 ] 2.21%\n",
      "Testing pipeline_3D_prob_0.0_flow_0.2_2_7 pipeline\n",
      "[=                                                 ] 2.31%\n",
      "Testing pipeline_3D_prob_0.0_flow_0.2_3_0 pipeline\n",
      "[=                                                 ] 2.40%\n",
      "Testing pipeline_3D_prob_0.0_flow_0.2_3_1 pipeline\n",
      "[=                                                 ] 2.50%\n",
      "Testing pipeline_3D_prob_0.0_flow_0.2_3_2 pipeline\n",
      "[=                                                 ] 2.60%\n",
      "Testing pipeline_3D_prob_0.0_flow_0.2_3_3 pipeline\n",
      "[=                                                 ] 2.69%\n",
      "Testing pipeline_3D_prob_0.0_flow_0.2_3_4 pipeline\n",
      "[=                                                 ] 2.79%\n",
      "Testing pipeline_3D_prob_0.0_flow_0.2_3_5 pipeline\n",
      "[=                                                 ] 2.88%\n",
      "Testing pipeline_3D_prob_0.0_flow_0.2_3_6 pipeline\n",
      "[=                                                 ] 2.98%\n",
      "Testing pipeline_3D_prob_0.0_flow_0.2_3_7 pipeline\n",
      "[=                                                 ] 3.08%\n",
      "Testing pipeline_3D_prob_0.0_flow_0.2_4_0 pipeline\n",
      "[=                                                 ] 3.17%\n",
      "Testing pipeline_3D_prob_0.0_flow_0.2_4_1 pipeline\n",
      "[=                                                 ] 3.27%\n",
      "Testing pipeline_3D_prob_0.0_flow_0.2_4_2 pipeline\n",
      "[=                                                 ] 3.37%\n",
      "Testing pipeline_3D_prob_0.0_flow_0.2_4_3 pipeline\n",
      "[=                                                 ] 3.46%\n",
      "Testing pipeline_3D_prob_0.0_flow_0.2_4_4 pipeline\n",
      "[=                                                 ] 3.56%\n",
      "Testing pipeline_3D_prob_0.0_flow_0.2_4_5 pipeline\n",
      "[=                                                 ] 3.65%\n",
      "Testing pipeline_3D_prob_0.0_flow_0.2_4_6 pipeline\n",
      "[=                                                 ] 3.75%\n",
      "Testing pipeline_3D_prob_0.0_flow_0.2_4_7 pipeline\n",
      "[=                                                 ] 3.85%\n",
      "Testing pipeline_3D_prob_0.0_flow_0.3_0_0 pipeline\n",
      "[=                                                 ] 3.94%\n",
      "Testing pipeline_3D_prob_0.0_flow_0.3_0_1 pipeline\n",
      "[==                                                ] 4.04%\n",
      "Testing pipeline_3D_prob_0.0_flow_0.3_0_2 pipeline\n",
      "[==                                                ] 4.13%\n",
      "Testing pipeline_3D_prob_0.0_flow_0.3_0_3 pipeline\n",
      "[==                                                ] 4.23%\n",
      "Testing pipeline_3D_prob_0.0_flow_0.3_0_4 pipeline\n",
      "[==                                                ] 4.33%\n",
      "Testing pipeline_3D_prob_0.0_flow_0.3_0_5 pipeline\n",
      "[==                                                ] 4.42%\n",
      "Testing pipeline_3D_prob_0.0_flow_0.3_0_6 pipeline\n",
      "[==                                                ] 4.52%\n",
      "Testing pipeline_3D_prob_0.0_flow_0.3_0_7 pipeline\n",
      "[==                                                ] 4.62%\n",
      "Testing pipeline_3D_prob_0.0_flow_0.3_1_0 pipeline\n",
      "[==                                                ] 4.71%\n",
      "Testing pipeline_3D_prob_0.0_flow_0.3_1_1 pipeline\n",
      "[==                                                ] 4.81%\n",
      "Testing pipeline_3D_prob_0.0_flow_0.3_1_2 pipeline\n",
      "[==                                                ] 4.90%\n",
      "Testing pipeline_3D_prob_0.0_flow_0.3_1_3 pipeline\n",
      "[==                                                ] 5.00%\n",
      "Testing pipeline_3D_prob_0.0_flow_0.3_1_4 pipeline\n",
      "[==                                                ] 5.10%\n",
      "Testing pipeline_3D_prob_0.0_flow_0.3_1_5 pipeline\n",
      "[==                                                ] 5.19%\n",
      "Testing pipeline_3D_prob_0.0_flow_0.3_1_6 pipeline\n",
      "[==                                                ] 5.29%\n",
      "Testing pipeline_3D_prob_0.0_flow_0.3_1_7 pipeline\n",
      "[==                                                ] 5.38%\n",
      "Testing pipeline_3D_prob_0.0_flow_0.3_2_0 pipeline\n",
      "[==                                                ] 5.48%\n",
      "Testing pipeline_3D_prob_0.0_flow_0.3_2_1 pipeline\n",
      "[==                                                ] 5.58%\n",
      "Testing pipeline_3D_prob_0.0_flow_0.3_2_2 pipeline\n",
      "[==                                                ] 5.67%\n",
      "Testing pipeline_3D_prob_0.0_flow_0.3_2_3 pipeline\n",
      "[==                                                ] 5.77%\n",
      "Testing pipeline_3D_prob_0.0_flow_0.3_2_4 pipeline\n",
      "[==                                                ] 5.87%\n",
      "Testing pipeline_3D_prob_0.0_flow_0.3_2_5 pipeline\n",
      "[==                                                ] 5.96%\n",
      "Testing pipeline_3D_prob_0.0_flow_0.3_2_6 pipeline\n",
      "[===                                               ] 6.06%\n",
      "Testing pipeline_3D_prob_0.0_flow_0.3_2_7 pipeline\n",
      "[===                                               ] 6.15%\n",
      "Testing pipeline_3D_prob_0.0_flow_0.3_3_0 pipeline\n",
      "[===                                               ] 6.25%\n",
      "Testing pipeline_3D_prob_0.0_flow_0.3_3_1 pipeline\n",
      "[===                                               ] 6.35%\n",
      "Testing pipeline_3D_prob_0.0_flow_0.3_3_2 pipeline\n",
      "[===                                               ] 6.44%\n",
      "Testing pipeline_3D_prob_0.0_flow_0.3_3_3 pipeline\n",
      "[===                                               ] 6.54%\n",
      "Testing pipeline_3D_prob_0.0_flow_0.3_3_4 pipeline\n",
      "[===                                               ] 6.63%\n",
      "Testing pipeline_3D_prob_0.0_flow_0.3_3_5 pipeline\n",
      "[===                                               ] 6.73%\n",
      "Testing pipeline_3D_prob_0.0_flow_0.3_3_6 pipeline\n",
      "[===                                               ] 6.83%\n",
      "Testing pipeline_3D_prob_0.0_flow_0.3_3_7 pipeline\n",
      "[===                                               ] 6.92%\n",
      "Testing pipeline_3D_prob_0.0_flow_0.3_4_0 pipeline\n",
      "[===                                               ] 7.02%\n",
      "Testing pipeline_3D_prob_0.0_flow_0.3_4_1 pipeline\n",
      "[===                                               ] 7.12%\n",
      "Testing pipeline_3D_prob_0.0_flow_0.3_4_2 pipeline\n",
      "[===                                               ] 7.21%\n",
      "Testing pipeline_3D_prob_0.0_flow_0.3_4_3 pipeline\n",
      "[===                                               ] 7.31%\n",
      "Testing pipeline_3D_prob_0.0_flow_0.3_4_4 pipeline\n",
      "[===                                               ] 7.40%\n",
      "Testing pipeline_3D_prob_0.0_flow_0.3_4_5 pipeline\n",
      "[===                                               ] 7.50%\n",
      "Testing pipeline_3D_prob_0.0_flow_0.3_4_6 pipeline\n",
      "[===                                               ] 7.60%\n",
      "Testing pipeline_3D_prob_0.0_flow_0.3_4_7 pipeline\n",
      "[===                                               ] 7.69%\n",
      "Testing pipeline_3D_prob_0.0_flow_0.5_0_0 pipeline\n",
      "[===                                               ] 7.79%\n",
      "Testing pipeline_3D_prob_0.0_flow_0.5_0_1 pipeline\n",
      "[===                                               ] 7.88%\n",
      "Testing pipeline_3D_prob_0.0_flow_0.5_0_2 pipeline\n",
      "[===                                               ] 7.98%\n",
      "Testing pipeline_3D_prob_0.0_flow_0.5_0_3 pipeline\n",
      "[====                                              ] 8.08%\n",
      "Testing pipeline_3D_prob_0.0_flow_0.5_0_4 pipeline\n",
      "[====                                              ] 8.17%\n",
      "Testing pipeline_3D_prob_0.0_flow_0.5_0_5 pipeline\n",
      "[====                                              ] 8.27%\n",
      "Testing pipeline_3D_prob_0.0_flow_0.5_0_6 pipeline\n",
      "[====                                              ] 8.37%\n",
      "Testing pipeline_3D_prob_0.0_flow_0.5_0_7 pipeline\n",
      "[====                                              ] 8.46%\n",
      "Testing pipeline_3D_prob_0.0_flow_0.5_1_0 pipeline\n",
      "[====                                              ] 8.56%\n",
      "Testing pipeline_3D_prob_0.0_flow_0.5_1_1 pipeline\n",
      "[====                                              ] 8.65%\n",
      "Testing pipeline_3D_prob_0.0_flow_0.5_1_2 pipeline\n",
      "[====                                              ] 8.75%\n",
      "Testing pipeline_3D_prob_0.0_flow_0.5_1_3 pipeline\n",
      "[====                                              ] 8.85%\n",
      "Testing pipeline_3D_prob_0.0_flow_0.5_1_4 pipeline\n",
      "[====                                              ] 8.94%\n",
      "Testing pipeline_3D_prob_0.0_flow_0.5_1_5 pipeline\n",
      "[====                                              ] 9.04%\n",
      "Testing pipeline_3D_prob_0.0_flow_0.5_1_6 pipeline\n",
      "[====                                              ] 9.13%\n",
      "Testing pipeline_3D_prob_0.0_flow_0.5_1_7 pipeline\n",
      "[====                                              ] 9.23%\n",
      "Testing pipeline_3D_prob_0.0_flow_0.5_2_0 pipeline\n",
      "[====                                              ] 9.33%\n",
      "Testing pipeline_3D_prob_0.0_flow_0.5_2_1 pipeline\n",
      "[====                                              ] 9.42%\n",
      "Testing pipeline_3D_prob_0.0_flow_0.5_2_2 pipeline\n",
      "[====                                              ] 9.52%\n",
      "Testing pipeline_3D_prob_0.0_flow_0.5_2_3 pipeline\n",
      "[====                                              ] 9.62%\n",
      "Testing pipeline_3D_prob_0.0_flow_0.5_2_4 pipeline\n",
      "[====                                              ] 9.71%\n",
      "Testing pipeline_3D_prob_0.0_flow_0.5_2_5 pipeline\n",
      "[====                                              ] 9.81%\n",
      "Testing pipeline_3D_prob_0.0_flow_0.5_2_6 pipeline\n",
      "[====                                              ] 9.90%\n",
      "Testing pipeline_3D_prob_0.0_flow_0.5_2_7 pipeline\n",
      "[=====                                             ] 10.00%\n",
      "Testing pipeline_3D_prob_0.0_flow_0.5_3_0 pipeline\n",
      "[=====                                             ] 10.10%\n",
      "Testing pipeline_3D_prob_0.0_flow_0.5_3_1 pipeline\n",
      "[=====                                             ] 10.19%\n",
      "Testing pipeline_3D_prob_0.0_flow_0.5_3_2 pipeline\n",
      "[=====                                             ] 10.29%\n",
      "Testing pipeline_3D_prob_0.0_flow_0.5_3_3 pipeline\n",
      "[=====                                             ] 10.38%\n",
      "Testing pipeline_3D_prob_0.0_flow_0.5_3_4 pipeline\n",
      "[=====                                             ] 10.48%\n",
      "Testing pipeline_3D_prob_0.0_flow_0.5_3_5 pipeline\n",
      "[=====                                             ] 10.58%\n",
      "Testing pipeline_3D_prob_0.0_flow_0.5_3_6 pipeline\n",
      "[=====                                             ] 10.67%\n",
      "Testing pipeline_3D_prob_0.0_flow_0.5_3_7 pipeline\n",
      "[=====                                             ] 10.77%\n",
      "Testing pipeline_3D_prob_0.0_flow_0.5_4_0 pipeline\n",
      "[=====                                             ] 10.87%\n",
      "Testing pipeline_3D_prob_0.0_flow_0.5_4_1 pipeline\n",
      "[=====                                             ] 10.96%\n",
      "Testing pipeline_3D_prob_0.0_flow_0.5_4_2 pipeline\n",
      "[=====                                             ] 11.06%\n",
      "Testing pipeline_3D_prob_0.0_flow_0.5_4_3 pipeline\n",
      "[=====                                             ] 11.15%\n",
      "Testing pipeline_3D_prob_0.0_flow_0.5_4_4 pipeline\n",
      "[=====                                             ] 11.25%\n",
      "Testing pipeline_3D_prob_0.0_flow_0.5_4_5 pipeline\n",
      "[=====                                             ] 11.35%\n",
      "Testing pipeline_3D_prob_0.0_flow_0.5_4_6 pipeline\n",
      "[=====                                             ] 11.44%\n",
      "Testing pipeline_3D_prob_0.0_flow_0.5_4_7 pipeline\n",
      "[=====                                             ] 11.54%\n",
      "Testing pipeline_3D_prob_0.0_flow_0.6_0_0 pipeline\n",
      "[=====                                             ] 11.63%\n",
      "Testing pipeline_3D_prob_0.0_flow_0.6_0_1 pipeline\n",
      "[=====                                             ] 11.73%\n",
      "Testing pipeline_3D_prob_0.0_flow_0.6_0_2 pipeline\n",
      "[=====                                             ] 11.83%\n",
      "Testing pipeline_3D_prob_0.0_flow_0.6_0_3 pipeline\n",
      "[=====                                             ] 11.92%\n",
      "Testing pipeline_3D_prob_0.0_flow_0.6_0_4 pipeline\n",
      "[======                                            ] 12.02%\n",
      "Testing pipeline_3D_prob_0.0_flow_0.6_0_5 pipeline\n",
      "[======                                            ] 12.12%\n",
      "Testing pipeline_3D_prob_0.0_flow_0.6_0_6 pipeline\n",
      "[======                                            ] 12.21%\n",
      "Testing pipeline_3D_prob_0.0_flow_0.6_0_7 pipeline\n",
      "[======                                            ] 12.31%\n",
      "Testing pipeline_3D_prob_0.0_flow_0.6_1_0 pipeline\n",
      "[======                                            ] 12.40%\n",
      "Testing pipeline_3D_prob_0.0_flow_0.6_1_1 pipeline\n",
      "[======                                            ] 12.50%\n",
      "Testing pipeline_3D_prob_0.0_flow_0.6_1_2 pipeline\n",
      "[======                                            ] 12.60%\n",
      "Testing pipeline_3D_prob_0.0_flow_0.6_1_3 pipeline\n",
      "[======                                            ] 12.69%\n",
      "Testing pipeline_3D_prob_0.0_flow_0.6_1_4 pipeline\n",
      "[======                                            ] 12.79%\n",
      "Testing pipeline_3D_prob_0.0_flow_0.6_1_5 pipeline\n",
      "[======                                            ] 12.88%\n",
      "Testing pipeline_3D_prob_0.0_flow_0.6_1_6 pipeline\n",
      "[======                                            ] 12.98%\n",
      "Testing pipeline_3D_prob_0.0_flow_0.6_1_7 pipeline\n",
      "[======                                            ] 13.08%\n",
      "Testing pipeline_3D_prob_0.0_flow_0.6_2_0 pipeline\n",
      "[======                                            ] 13.17%\n",
      "Testing pipeline_3D_prob_0.0_flow_0.6_2_1 pipeline\n",
      "[======                                            ] 13.27%\n",
      "Testing pipeline_3D_prob_0.0_flow_0.6_2_2 pipeline\n",
      "[======                                            ] 13.37%\n",
      "Testing pipeline_3D_prob_0.0_flow_0.6_2_3 pipeline\n",
      "[======                                            ] 13.46%\n",
      "Testing pipeline_3D_prob_0.0_flow_0.6_2_4 pipeline\n",
      "[======                                            ] 13.56%\n",
      "Testing pipeline_3D_prob_0.0_flow_0.6_2_5 pipeline\n",
      "[======                                            ] 13.65%\n",
      "Testing pipeline_3D_prob_0.0_flow_0.6_2_6 pipeline\n",
      "[======                                            ] 13.75%\n",
      "Testing pipeline_3D_prob_0.0_flow_0.6_2_7 pipeline\n",
      "[======                                            ] 13.85%\n",
      "Testing pipeline_3D_prob_0.0_flow_0.6_3_0 pipeline\n",
      "[======                                            ] 13.94%\n",
      "Testing pipeline_3D_prob_0.0_flow_0.6_3_1 pipeline\n",
      "[=======                                           ] 14.04%\n",
      "Testing pipeline_3D_prob_0.0_flow_0.6_3_2 pipeline\n",
      "[=======                                           ] 14.13%\n",
      "Testing pipeline_3D_prob_0.0_flow_0.6_3_3 pipeline\n",
      "[=======                                           ] 14.23%\n",
      "Testing pipeline_3D_prob_0.0_flow_0.6_3_4 pipeline\n",
      "[=======                                           ] 14.33%\n",
      "Testing pipeline_3D_prob_0.0_flow_0.6_3_5 pipeline\n",
      "[=======                                           ] 14.42%\n",
      "Testing pipeline_3D_prob_0.0_flow_0.6_3_6 pipeline\n",
      "[=======                                           ] 14.52%\n",
      "Testing pipeline_3D_prob_0.0_flow_0.6_3_7 pipeline\n",
      "[=======                                           ] 14.62%\n",
      "Testing pipeline_3D_prob_0.0_flow_0.6_4_0 pipeline\n",
      "[=======                                           ] 14.71%\n",
      "Testing pipeline_3D_prob_0.0_flow_0.6_4_1 pipeline\n",
      "[=======                                           ] 14.81%\n",
      "Testing pipeline_3D_prob_0.0_flow_0.6_4_2 pipeline\n",
      "[=======                                           ] 14.90%\n",
      "Testing pipeline_3D_prob_0.0_flow_0.6_4_3 pipeline\n",
      "[=======                                           ] 15.00%\n",
      "Testing pipeline_3D_prob_0.0_flow_0.6_4_4 pipeline\n",
      "[=======                                           ] 15.10%\n",
      "Testing pipeline_3D_prob_0.0_flow_0.6_4_5 pipeline\n",
      "[=======                                           ] 15.19%\n",
      "Testing pipeline_3D_prob_0.0_flow_0.6_4_6 pipeline\n",
      "[=======                                           ] 15.29%\n",
      "Testing pipeline_3D_prob_0.0_flow_0.6_4_7 pipeline\n",
      "[=======                                           ] 15.38%\n",
      "Testing pipeline_3D_prob_0.1_flow_0.2_0_0 pipeline\n",
      "[=======                                           ] 15.48%\n",
      "Testing pipeline_3D_prob_0.1_flow_0.2_0_1 pipeline\n",
      "[=======                                           ] 15.58%\n",
      "Testing pipeline_3D_prob_0.1_flow_0.2_0_2 pipeline\n",
      "[=======                                           ] 15.67%\n",
      "Testing pipeline_3D_prob_0.1_flow_0.2_0_3 pipeline\n",
      "[=======                                           ] 15.77%\n",
      "Testing pipeline_3D_prob_0.1_flow_0.2_0_4 pipeline\n",
      "[=======                                           ] 15.87%\n",
      "Testing pipeline_3D_prob_0.1_flow_0.2_0_5 pipeline\n",
      "[=======                                           ] 15.96%\n",
      "Testing pipeline_3D_prob_0.1_flow_0.2_0_6 pipeline\n",
      "[========                                          ] 16.06%\n",
      "Testing pipeline_3D_prob_0.1_flow_0.2_0_7 pipeline\n",
      "[========                                          ] 16.15%\n",
      "Testing pipeline_3D_prob_0.1_flow_0.2_1_0 pipeline\n",
      "[========                                          ] 16.25%\n",
      "Testing pipeline_3D_prob_0.1_flow_0.2_1_1 pipeline\n",
      "[========                                          ] 16.35%\n",
      "Testing pipeline_3D_prob_0.1_flow_0.2_1_2 pipeline\n",
      "[========                                          ] 16.44%\n",
      "Testing pipeline_3D_prob_0.1_flow_0.2_1_3 pipeline\n",
      "[========                                          ] 16.54%\n",
      "Testing pipeline_3D_prob_0.1_flow_0.2_1_4 pipeline\n",
      "[========                                          ] 16.63%\n",
      "Testing pipeline_3D_prob_0.1_flow_0.2_1_5 pipeline\n",
      "[========                                          ] 16.73%\n",
      "Testing pipeline_3D_prob_0.1_flow_0.2_1_6 pipeline\n",
      "[========                                          ] 16.83%\n",
      "Testing pipeline_3D_prob_0.1_flow_0.2_1_7 pipeline\n",
      "[========                                          ] 16.92%\n",
      "Testing pipeline_3D_prob_0.1_flow_0.2_2_0 pipeline\n",
      "[========                                          ] 17.02%\n",
      "Testing pipeline_3D_prob_0.1_flow_0.2_2_1 pipeline\n",
      "[========                                          ] 17.12%\n",
      "Testing pipeline_3D_prob_0.1_flow_0.2_2_2 pipeline\n",
      "[========                                          ] 17.21%\n",
      "Testing pipeline_3D_prob_0.1_flow_0.2_2_3 pipeline\n",
      "[========                                          ] 17.31%\n",
      "Testing pipeline_3D_prob_0.1_flow_0.2_2_4 pipeline\n",
      "[========                                          ] 17.40%\n",
      "Testing pipeline_3D_prob_0.1_flow_0.2_2_5 pipeline\n",
      "[========                                          ] 17.50%\n",
      "Testing pipeline_3D_prob_0.1_flow_0.2_2_6 pipeline\n",
      "[========                                          ] 17.60%\n",
      "Testing pipeline_3D_prob_0.1_flow_0.2_2_7 pipeline\n",
      "[========                                          ] 17.69%\n",
      "Testing pipeline_3D_prob_0.1_flow_0.2_3_0 pipeline\n",
      "[========                                          ] 17.79%\n",
      "Testing pipeline_3D_prob_0.1_flow_0.2_3_1 pipeline\n",
      "[========                                          ] 17.88%\n",
      "Testing pipeline_3D_prob_0.1_flow_0.2_3_2 pipeline\n",
      "[========                                          ] 17.98%\n",
      "Testing pipeline_3D_prob_0.1_flow_0.2_3_3 pipeline\n",
      "[=========                                         ] 18.08%\n",
      "Testing pipeline_3D_prob_0.1_flow_0.2_3_4 pipeline\n",
      "[=========                                         ] 18.17%\n",
      "Testing pipeline_3D_prob_0.1_flow_0.2_3_5 pipeline\n",
      "[=========                                         ] 18.27%\n",
      "Testing pipeline_3D_prob_0.1_flow_0.2_3_6 pipeline\n",
      "[=========                                         ] 18.37%\n",
      "Testing pipeline_3D_prob_0.1_flow_0.2_3_7 pipeline\n",
      "[=========                                         ] 18.46%\n",
      "Testing pipeline_3D_prob_0.1_flow_0.2_4_0 pipeline\n",
      "[=========                                         ] 18.56%\n",
      "Testing pipeline_3D_prob_0.1_flow_0.2_4_1 pipeline\n",
      "[=========                                         ] 18.65%\n",
      "Testing pipeline_3D_prob_0.1_flow_0.2_4_2 pipeline\n",
      "[=========                                         ] 18.75%\n",
      "Testing pipeline_3D_prob_0.1_flow_0.2_4_3 pipeline\n",
      "[=========                                         ] 18.85%\n",
      "Testing pipeline_3D_prob_0.1_flow_0.2_4_4 pipeline\n",
      "[=========                                         ] 18.94%\n",
      "Testing pipeline_3D_prob_0.1_flow_0.2_4_5 pipeline\n",
      "[=========                                         ] 19.04%\n",
      "Testing pipeline_3D_prob_0.1_flow_0.2_4_6 pipeline\n",
      "[=========                                         ] 19.13%\n",
      "Testing pipeline_3D_prob_0.1_flow_0.2_4_7 pipeline\n",
      "[=========                                         ] 19.23%\n",
      "Testing pipeline_3D_prob_0.1_flow_0.3_0_0 pipeline\n",
      "[=========                                         ] 19.33%\n",
      "Testing pipeline_3D_prob_0.1_flow_0.3_0_1 pipeline\n",
      "[=========                                         ] 19.42%\n",
      "Testing pipeline_3D_prob_0.1_flow_0.3_0_2 pipeline\n",
      "[=========                                         ] 19.52%\n",
      "Testing pipeline_3D_prob_0.1_flow_0.3_0_3 pipeline\n",
      "[=========                                         ] 19.62%\n",
      "Testing pipeline_3D_prob_0.1_flow_0.3_0_4 pipeline\n",
      "[=========                                         ] 19.71%\n",
      "Testing pipeline_3D_prob_0.1_flow_0.3_0_5 pipeline\n",
      "[=========                                         ] 19.81%\n",
      "Testing pipeline_3D_prob_0.1_flow_0.3_0_6 pipeline\n",
      "[=========                                         ] 19.90%\n",
      "Testing pipeline_3D_prob_0.1_flow_0.3_0_7 pipeline\n",
      "[==========                                        ] 20.00%\n",
      "Testing pipeline_3D_prob_0.1_flow_0.3_1_0 pipeline\n",
      "[==========                                        ] 20.10%\n",
      "Testing pipeline_3D_prob_0.1_flow_0.3_1_1 pipeline\n",
      "[==========                                        ] 20.19%\n",
      "Testing pipeline_3D_prob_0.1_flow_0.3_1_2 pipeline\n",
      "[==========                                        ] 20.29%\n",
      "Testing pipeline_3D_prob_0.1_flow_0.3_1_3 pipeline\n",
      "[==========                                        ] 20.38%\n",
      "Testing pipeline_3D_prob_0.1_flow_0.3_1_4 pipeline\n",
      "[==========                                        ] 20.48%\n",
      "Testing pipeline_3D_prob_0.1_flow_0.3_1_5 pipeline\n",
      "[==========                                        ] 20.58%\n",
      "Testing pipeline_3D_prob_0.1_flow_0.3_1_6 pipeline\n",
      "[==========                                        ] 20.67%\n",
      "Testing pipeline_3D_prob_0.1_flow_0.3_1_7 pipeline\n",
      "[==========                                        ] 20.77%\n",
      "Testing pipeline_3D_prob_0.1_flow_0.3_2_0 pipeline\n",
      "[==========                                        ] 20.87%\n",
      "Testing pipeline_3D_prob_0.1_flow_0.3_2_1 pipeline\n",
      "[==========                                        ] 20.96%\n",
      "Testing pipeline_3D_prob_0.1_flow_0.3_2_2 pipeline\n",
      "[==========                                        ] 21.06%\n",
      "Testing pipeline_3D_prob_0.1_flow_0.3_2_3 pipeline\n",
      "[==========                                        ] 21.15%\n",
      "Testing pipeline_3D_prob_0.1_flow_0.3_2_4 pipeline\n",
      "[==========                                        ] 21.25%\n",
      "Testing pipeline_3D_prob_0.1_flow_0.3_2_5 pipeline\n",
      "[==========                                        ] 21.35%\n",
      "Testing pipeline_3D_prob_0.1_flow_0.3_2_6 pipeline\n",
      "[==========                                        ] 21.44%\n",
      "Testing pipeline_3D_prob_0.1_flow_0.3_2_7 pipeline\n",
      "[==========                                        ] 21.54%\n",
      "Testing pipeline_3D_prob_0.1_flow_0.3_3_0 pipeline\n",
      "[==========                                        ] 21.63%\n",
      "Testing pipeline_3D_prob_0.1_flow_0.3_3_1 pipeline\n",
      "[==========                                        ] 21.73%\n",
      "Testing pipeline_3D_prob_0.1_flow_0.3_3_2 pipeline\n",
      "[==========                                        ] 21.83%\n",
      "Testing pipeline_3D_prob_0.1_flow_0.3_3_3 pipeline\n",
      "[==========                                        ] 21.92%\n",
      "Testing pipeline_3D_prob_0.1_flow_0.3_3_4 pipeline\n",
      "[===========                                       ] 22.02%\n",
      "Testing pipeline_3D_prob_0.1_flow_0.3_3_5 pipeline\n",
      "[===========                                       ] 22.12%\n",
      "Testing pipeline_3D_prob_0.1_flow_0.3_3_6 pipeline\n",
      "[===========                                       ] 22.21%\n",
      "Testing pipeline_3D_prob_0.1_flow_0.3_3_7 pipeline\n",
      "[===========                                       ] 22.31%\n",
      "Testing pipeline_3D_prob_0.1_flow_0.3_4_0 pipeline\n",
      "[===========                                       ] 22.40%\n",
      "Testing pipeline_3D_prob_0.1_flow_0.3_4_1 pipeline\n",
      "[===========                                       ] 22.50%\n",
      "Testing pipeline_3D_prob_0.1_flow_0.3_4_2 pipeline\n",
      "[===========                                       ] 22.60%\n",
      "Testing pipeline_3D_prob_0.1_flow_0.3_4_3 pipeline\n",
      "[===========                                       ] 22.69%\n",
      "Testing pipeline_3D_prob_0.1_flow_0.3_4_4 pipeline\n",
      "[===========                                       ] 22.79%\n",
      "Testing pipeline_3D_prob_0.1_flow_0.3_4_5 pipeline\n",
      "[===========                                       ] 22.88%\n",
      "Testing pipeline_3D_prob_0.1_flow_0.3_4_6 pipeline\n",
      "[===========                                       ] 22.98%\n",
      "Testing pipeline_3D_prob_0.1_flow_0.3_4_7 pipeline\n",
      "[===========                                       ] 23.08%\n",
      "Testing pipeline_3D_prob_0.1_flow_0.5_0_0 pipeline\n",
      "[===========                                       ] 23.17%\n",
      "Testing pipeline_3D_prob_0.1_flow_0.5_0_1 pipeline\n",
      "[===========                                       ] 23.27%\n",
      "Testing pipeline_3D_prob_0.1_flow_0.5_0_2 pipeline\n",
      "[===========                                       ] 23.37%\n",
      "Testing pipeline_3D_prob_0.1_flow_0.5_0_3 pipeline\n",
      "[===========                                       ] 23.46%\n",
      "Testing pipeline_3D_prob_0.1_flow_0.5_0_4 pipeline\n",
      "[===========                                       ] 23.56%\n",
      "Testing pipeline_3D_prob_0.1_flow_0.5_0_5 pipeline\n",
      "[===========                                       ] 23.65%\n",
      "Testing pipeline_3D_prob_0.1_flow_0.5_0_6 pipeline\n",
      "[===========                                       ] 23.75%\n",
      "Testing pipeline_3D_prob_0.1_flow_0.5_0_7 pipeline\n",
      "[===========                                       ] 23.85%\n",
      "Testing pipeline_3D_prob_0.1_flow_0.5_1_0 pipeline\n",
      "[===========                                       ] 23.94%\n",
      "Testing pipeline_3D_prob_0.1_flow_0.5_1_1 pipeline\n",
      "[============                                      ] 24.04%\n",
      "Testing pipeline_3D_prob_0.1_flow_0.5_1_2 pipeline\n",
      "[============                                      ] 24.13%\n",
      "Testing pipeline_3D_prob_0.1_flow_0.5_1_3 pipeline\n",
      "[============                                      ] 24.23%\n",
      "Testing pipeline_3D_prob_0.1_flow_0.5_1_4 pipeline\n",
      "[============                                      ] 24.33%\n",
      "Testing pipeline_3D_prob_0.1_flow_0.5_1_5 pipeline\n",
      "[============                                      ] 24.42%\n",
      "Testing pipeline_3D_prob_0.1_flow_0.5_1_6 pipeline\n",
      "[============                                      ] 24.52%\n",
      "Testing pipeline_3D_prob_0.1_flow_0.5_1_7 pipeline\n",
      "[============                                      ] 24.62%\n",
      "Testing pipeline_3D_prob_0.1_flow_0.5_2_0 pipeline\n",
      "[============                                      ] 24.71%\n",
      "Testing pipeline_3D_prob_0.1_flow_0.5_2_1 pipeline\n",
      "[============                                      ] 24.81%\n",
      "Testing pipeline_3D_prob_0.1_flow_0.5_2_2 pipeline\n",
      "[============                                      ] 24.90%\n",
      "Testing pipeline_3D_prob_0.1_flow_0.5_2_3 pipeline\n",
      "[============                                      ] 25.00%\n",
      "Testing pipeline_3D_prob_0.1_flow_0.5_2_4 pipeline\n",
      "[============                                      ] 25.10%\n",
      "Testing pipeline_3D_prob_0.1_flow_0.5_2_5 pipeline\n",
      "[============                                      ] 25.19%\n",
      "Testing pipeline_3D_prob_0.1_flow_0.5_2_6 pipeline\n",
      "[============                                      ] 25.29%\n",
      "Testing pipeline_3D_prob_0.1_flow_0.5_2_7 pipeline\n",
      "[============                                      ] 25.38%\n",
      "Testing pipeline_3D_prob_0.1_flow_0.5_3_0 pipeline\n",
      "[============                                      ] 25.48%\n",
      "Testing pipeline_3D_prob_0.1_flow_0.5_3_1 pipeline\n",
      "[============                                      ] 25.58%\n",
      "Testing pipeline_3D_prob_0.1_flow_0.5_3_2 pipeline\n",
      "[============                                      ] 25.67%\n",
      "Testing pipeline_3D_prob_0.1_flow_0.5_3_3 pipeline\n",
      "[============                                      ] 25.77%\n",
      "Testing pipeline_3D_prob_0.1_flow_0.5_3_4 pipeline\n",
      "[============                                      ] 25.87%\n",
      "Testing pipeline_3D_prob_0.1_flow_0.5_3_5 pipeline\n",
      "[============                                      ] 25.96%\n",
      "Testing pipeline_3D_prob_0.1_flow_0.5_3_6 pipeline\n",
      "[=============                                     ] 26.06%\n",
      "Testing pipeline_3D_prob_0.1_flow_0.5_3_7 pipeline\n",
      "[=============                                     ] 26.15%\n",
      "Testing pipeline_3D_prob_0.1_flow_0.5_4_0 pipeline\n",
      "[=============                                     ] 26.25%\n",
      "Testing pipeline_3D_prob_0.1_flow_0.5_4_1 pipeline\n",
      "[=============                                     ] 26.35%\n",
      "Testing pipeline_3D_prob_0.1_flow_0.5_4_2 pipeline\n",
      "[=============                                     ] 26.44%\n",
      "Testing pipeline_3D_prob_0.1_flow_0.5_4_3 pipeline\n",
      "[=============                                     ] 26.54%\n",
      "Testing pipeline_3D_prob_0.1_flow_0.5_4_4 pipeline\n",
      "[=============                                     ] 26.63%\n",
      "Testing pipeline_3D_prob_0.1_flow_0.5_4_5 pipeline\n",
      "[=============                                     ] 26.73%\n",
      "Testing pipeline_3D_prob_0.1_flow_0.5_4_6 pipeline\n",
      "[=============                                     ] 26.83%\n",
      "Testing pipeline_3D_prob_0.1_flow_0.5_4_7 pipeline\n",
      "[=============                                     ] 26.92%\n",
      "Testing pipeline_3D_prob_0.1_flow_0.6_0_0 pipeline\n",
      "[=============                                     ] 27.02%\n",
      "Testing pipeline_3D_prob_0.1_flow_0.6_0_1 pipeline\n",
      "[=============                                     ] 27.12%\n",
      "Testing pipeline_3D_prob_0.1_flow_0.6_0_2 pipeline\n",
      "[=============                                     ] 27.21%\n",
      "Testing pipeline_3D_prob_0.1_flow_0.6_0_3 pipeline\n",
      "[=============                                     ] 27.31%\n",
      "Testing pipeline_3D_prob_0.1_flow_0.6_0_4 pipeline\n",
      "[=============                                     ] 27.40%\n",
      "Testing pipeline_3D_prob_0.1_flow_0.6_0_5 pipeline\n",
      "[=============                                     ] 27.50%\n",
      "Testing pipeline_3D_prob_0.1_flow_0.6_0_6 pipeline\n",
      "[=============                                     ] 27.60%\n",
      "Testing pipeline_3D_prob_0.1_flow_0.6_0_7 pipeline\n",
      "[=============                                     ] 27.69%\n",
      "Testing pipeline_3D_prob_0.1_flow_0.6_1_0 pipeline\n",
      "[=============                                     ] 27.79%\n",
      "Testing pipeline_3D_prob_0.1_flow_0.6_1_1 pipeline\n",
      "[=============                                     ] 27.88%\n",
      "Testing pipeline_3D_prob_0.1_flow_0.6_1_2 pipeline\n",
      "[=============                                     ] 27.98%\n",
      "Testing pipeline_3D_prob_0.1_flow_0.6_1_3 pipeline\n",
      "[==============                                    ] 28.08%\n",
      "Testing pipeline_3D_prob_0.1_flow_0.6_1_4 pipeline\n",
      "[==============                                    ] 28.17%\n",
      "Testing pipeline_3D_prob_0.1_flow_0.6_1_5 pipeline\n",
      "[==============                                    ] 28.27%\n",
      "Testing pipeline_3D_prob_0.1_flow_0.6_1_6 pipeline\n",
      "[==============                                    ] 28.37%\n",
      "Testing pipeline_3D_prob_0.1_flow_0.6_1_7 pipeline\n",
      "[==============                                    ] 28.46%\n",
      "Testing pipeline_3D_prob_0.1_flow_0.6_2_0 pipeline\n",
      "[==============                                    ] 28.56%\n",
      "Testing pipeline_3D_prob_0.1_flow_0.6_2_1 pipeline\n",
      "[==============                                    ] 28.65%\n",
      "Testing pipeline_3D_prob_0.1_flow_0.6_2_2 pipeline\n",
      "[==============                                    ] 28.75%\n",
      "Testing pipeline_3D_prob_0.1_flow_0.6_2_3 pipeline\n",
      "[==============                                    ] 28.85%\n",
      "Testing pipeline_3D_prob_0.1_flow_0.6_2_4 pipeline\n",
      "[==============                                    ] 28.94%\n",
      "Testing pipeline_3D_prob_0.1_flow_0.6_2_5 pipeline\n",
      "[==============                                    ] 29.04%\n",
      "Testing pipeline_3D_prob_0.1_flow_0.6_2_6 pipeline\n",
      "[==============                                    ] 29.13%\n",
      "Testing pipeline_3D_prob_0.1_flow_0.6_2_7 pipeline\n",
      "[==============                                    ] 29.23%\n",
      "Testing pipeline_3D_prob_0.1_flow_0.6_3_0 pipeline\n",
      "[==============                                    ] 29.33%\n",
      "Testing pipeline_3D_prob_0.1_flow_0.6_3_1 pipeline\n",
      "[==============                                    ] 29.42%\n",
      "Testing pipeline_3D_prob_0.1_flow_0.6_3_2 pipeline\n",
      "[==============                                    ] 29.52%\n",
      "Testing pipeline_3D_prob_0.1_flow_0.6_3_3 pipeline\n",
      "[==============                                    ] 29.62%\n",
      "Testing pipeline_3D_prob_0.1_flow_0.6_3_4 pipeline\n",
      "[==============                                    ] 29.71%\n",
      "Testing pipeline_3D_prob_0.1_flow_0.6_3_5 pipeline\n",
      "[==============                                    ] 29.81%\n",
      "Testing pipeline_3D_prob_0.1_flow_0.6_3_6 pipeline\n",
      "[==============                                    ] 29.90%\n",
      "Testing pipeline_3D_prob_0.1_flow_0.6_3_7 pipeline\n",
      "[===============                                   ] 30.00%\n",
      "Testing pipeline_3D_prob_0.1_flow_0.6_4_0 pipeline\n",
      "[===============                                   ] 30.10%\n",
      "Testing pipeline_3D_prob_0.1_flow_0.6_4_1 pipeline\n",
      "[===============                                   ] 30.19%\n",
      "Testing pipeline_3D_prob_0.1_flow_0.6_4_2 pipeline\n",
      "[===============                                   ] 30.29%\n",
      "Testing pipeline_3D_prob_0.1_flow_0.6_4_3 pipeline\n",
      "[===============                                   ] 30.38%\n",
      "Testing pipeline_3D_prob_0.1_flow_0.6_4_4 pipeline\n",
      "[===============                                   ] 30.48%\n",
      "Testing pipeline_3D_prob_0.1_flow_0.6_4_5 pipeline\n",
      "[===============                                   ] 30.58%\n",
      "Testing pipeline_3D_prob_0.1_flow_0.6_4_6 pipeline\n",
      "[===============                                   ] 30.67%\n",
      "Testing pipeline_3D_prob_0.1_flow_0.6_4_7 pipeline\n",
      "[===============                                   ] 30.77%\n",
      "Testing pipeline_3D_prob_0.3_flow_0.2_0_0 pipeline\n",
      "[===============                                   ] 30.87%\n",
      "Testing pipeline_3D_prob_0.3_flow_0.2_0_1 pipeline\n",
      "[===============                                   ] 30.96%\n",
      "Testing pipeline_3D_prob_0.3_flow_0.2_0_2 pipeline\n",
      "[===============                                   ] 31.06%\n",
      "Testing pipeline_3D_prob_0.3_flow_0.2_0_3 pipeline\n",
      "[===============                                   ] 31.15%\n",
      "Testing pipeline_3D_prob_0.3_flow_0.2_0_4 pipeline\n",
      "[===============                                   ] 31.25%\n",
      "Testing pipeline_3D_prob_0.3_flow_0.2_0_5 pipeline\n",
      "[===============                                   ] 31.35%\n",
      "Testing pipeline_3D_prob_0.3_flow_0.2_0_6 pipeline\n",
      "[===============                                   ] 31.44%\n",
      "Testing pipeline_3D_prob_0.3_flow_0.2_0_7 pipeline\n",
      "[===============                                   ] 31.54%\n",
      "Testing pipeline_3D_prob_0.3_flow_0.2_1_0 pipeline\n",
      "[===============                                   ] 31.63%\n",
      "Testing pipeline_3D_prob_0.3_flow_0.2_1_1 pipeline\n",
      "[===============                                   ] 31.73%\n",
      "Testing pipeline_3D_prob_0.3_flow_0.2_1_2 pipeline\n",
      "[===============                                   ] 31.83%\n",
      "Testing pipeline_3D_prob_0.3_flow_0.2_1_3 pipeline\n",
      "[===============                                   ] 31.92%\n",
      "Testing pipeline_3D_prob_0.3_flow_0.2_1_4 pipeline\n",
      "[================                                  ] 32.02%\n",
      "Testing pipeline_3D_prob_0.3_flow_0.2_1_5 pipeline\n",
      "[================                                  ] 32.12%\n",
      "Testing pipeline_3D_prob_0.3_flow_0.2_1_6 pipeline\n",
      "[================                                  ] 32.21%\n",
      "Testing pipeline_3D_prob_0.3_flow_0.2_1_7 pipeline\n",
      "[================                                  ] 32.31%\n",
      "Testing pipeline_3D_prob_0.3_flow_0.2_2_0 pipeline\n",
      "[================                                  ] 32.40%\n",
      "Testing pipeline_3D_prob_0.3_flow_0.2_2_1 pipeline\n",
      "[================                                  ] 32.50%\n",
      "Testing pipeline_3D_prob_0.3_flow_0.2_2_2 pipeline\n",
      "[================                                  ] 32.60%\n",
      "Testing pipeline_3D_prob_0.3_flow_0.2_2_3 pipeline\n",
      "[================                                  ] 32.69%\n",
      "Testing pipeline_3D_prob_0.3_flow_0.2_2_4 pipeline\n",
      "[================                                  ] 32.79%\n",
      "Testing pipeline_3D_prob_0.3_flow_0.2_2_5 pipeline\n",
      "[================                                  ] 32.88%\n",
      "Testing pipeline_3D_prob_0.3_flow_0.2_2_6 pipeline\n",
      "[================                                  ] 32.98%\n",
      "Testing pipeline_3D_prob_0.3_flow_0.2_2_7 pipeline\n",
      "[================                                  ] 33.08%\n",
      "Testing pipeline_3D_prob_0.3_flow_0.2_3_0 pipeline\n",
      "[================                                  ] 33.17%\n",
      "Testing pipeline_3D_prob_0.3_flow_0.2_3_1 pipeline\n",
      "[================                                  ] 33.27%\n",
      "Testing pipeline_3D_prob_0.3_flow_0.2_3_2 pipeline\n",
      "[================                                  ] 33.37%\n",
      "Testing pipeline_3D_prob_0.3_flow_0.2_3_3 pipeline\n",
      "[================                                  ] 33.46%\n",
      "Testing pipeline_3D_prob_0.3_flow_0.2_3_4 pipeline\n",
      "[================                                  ] 33.56%\n",
      "Testing pipeline_3D_prob_0.3_flow_0.2_3_5 pipeline\n",
      "[================                                  ] 33.65%\n",
      "Testing pipeline_3D_prob_0.3_flow_0.2_3_6 pipeline\n",
      "[================                                  ] 33.75%\n",
      "Testing pipeline_3D_prob_0.3_flow_0.2_3_7 pipeline\n",
      "[================                                  ] 33.85%\n",
      "Testing pipeline_3D_prob_0.3_flow_0.2_4_0 pipeline\n",
      "[================                                  ] 33.94%\n",
      "Testing pipeline_3D_prob_0.3_flow_0.2_4_1 pipeline\n",
      "[=================                                 ] 34.04%\n",
      "Testing pipeline_3D_prob_0.3_flow_0.2_4_2 pipeline\n",
      "[=================                                 ] 34.13%\n",
      "Testing pipeline_3D_prob_0.3_flow_0.2_4_3 pipeline\n",
      "[=================                                 ] 34.23%\n",
      "Testing pipeline_3D_prob_0.3_flow_0.2_4_4 pipeline\n",
      "[=================                                 ] 34.33%\n",
      "Testing pipeline_3D_prob_0.3_flow_0.2_4_5 pipeline\n",
      "[=================                                 ] 34.42%\n",
      "Testing pipeline_3D_prob_0.3_flow_0.2_4_6 pipeline\n",
      "[=================                                 ] 34.52%\n",
      "Testing pipeline_3D_prob_0.3_flow_0.2_4_7 pipeline\n",
      "[=================                                 ] 34.62%\n",
      "Testing pipeline_3D_prob_0.3_flow_0.3_0_0 pipeline\n",
      "[=================                                 ] 34.71%\n",
      "Testing pipeline_3D_prob_0.3_flow_0.3_0_1 pipeline\n",
      "[=================                                 ] 34.81%\n",
      "Testing pipeline_3D_prob_0.3_flow_0.3_0_2 pipeline\n",
      "[=================                                 ] 34.90%\n",
      "Testing pipeline_3D_prob_0.3_flow_0.3_0_3 pipeline\n",
      "[=================                                 ] 35.00%\n",
      "Testing pipeline_3D_prob_0.3_flow_0.3_0_4 pipeline\n",
      "[=================                                 ] 35.10%\n",
      "Testing pipeline_3D_prob_0.3_flow_0.3_0_5 pipeline\n",
      "[=================                                 ] 35.19%\n",
      "Testing pipeline_3D_prob_0.3_flow_0.3_0_6 pipeline\n",
      "[=================                                 ] 35.29%\n",
      "Testing pipeline_3D_prob_0.3_flow_0.3_0_7 pipeline\n",
      "[=================                                 ] 35.38%\n",
      "Testing pipeline_3D_prob_0.3_flow_0.3_1_0 pipeline\n",
      "[=================                                 ] 35.48%\n",
      "Testing pipeline_3D_prob_0.3_flow_0.3_1_1 pipeline\n",
      "[=================                                 ] 35.58%\n",
      "Testing pipeline_3D_prob_0.3_flow_0.3_1_2 pipeline\n",
      "[=================                                 ] 35.67%\n",
      "Testing pipeline_3D_prob_0.3_flow_0.3_1_3 pipeline\n",
      "[=================                                 ] 35.77%\n",
      "Testing pipeline_3D_prob_0.3_flow_0.3_1_4 pipeline\n",
      "[=================                                 ] 35.87%\n",
      "Testing pipeline_3D_prob_0.3_flow_0.3_1_5 pipeline\n",
      "[=================                                 ] 35.96%\n",
      "Testing pipeline_3D_prob_0.3_flow_0.3_1_6 pipeline\n",
      "[==================                                ] 36.06%\n",
      "Testing pipeline_3D_prob_0.3_flow_0.3_1_7 pipeline\n",
      "[==================                                ] 36.15%\n",
      "Testing pipeline_3D_prob_0.3_flow_0.3_2_0 pipeline\n",
      "[==================                                ] 36.25%\n",
      "Testing pipeline_3D_prob_0.3_flow_0.3_2_1 pipeline\n",
      "[==================                                ] 36.35%\n",
      "Testing pipeline_3D_prob_0.3_flow_0.3_2_2 pipeline\n",
      "[==================                                ] 36.44%\n",
      "Testing pipeline_3D_prob_0.3_flow_0.3_2_3 pipeline\n",
      "[==================                                ] 36.54%\n",
      "Testing pipeline_3D_prob_0.3_flow_0.3_2_4 pipeline\n",
      "[==================                                ] 36.63%\n",
      "Testing pipeline_3D_prob_0.3_flow_0.3_2_5 pipeline\n",
      "[==================                                ] 36.73%\n",
      "Testing pipeline_3D_prob_0.3_flow_0.3_2_6 pipeline\n",
      "[==================                                ] 36.83%\n",
      "Testing pipeline_3D_prob_0.3_flow_0.3_2_7 pipeline\n",
      "[==================                                ] 36.92%\n",
      "Testing pipeline_3D_prob_0.3_flow_0.3_3_0 pipeline\n",
      "[==================                                ] 37.02%\n",
      "Testing pipeline_3D_prob_0.3_flow_0.3_3_1 pipeline\n",
      "[==================                                ] 37.12%\n",
      "Testing pipeline_3D_prob_0.3_flow_0.3_3_2 pipeline\n",
      "[==================                                ] 37.21%\n",
      "Testing pipeline_3D_prob_0.3_flow_0.3_3_3 pipeline\n",
      "[==================                                ] 37.31%\n",
      "Testing pipeline_3D_prob_0.3_flow_0.3_3_4 pipeline\n",
      "[==================                                ] 37.40%\n",
      "Testing pipeline_3D_prob_0.3_flow_0.3_3_5 pipeline\n",
      "[==================                                ] 37.50%\n",
      "Testing pipeline_3D_prob_0.3_flow_0.3_3_6 pipeline\n",
      "[==================                                ] 37.60%\n",
      "Testing pipeline_3D_prob_0.3_flow_0.3_3_7 pipeline\n",
      "[==================                                ] 37.69%\n",
      "Testing pipeline_3D_prob_0.3_flow_0.3_4_0 pipeline\n",
      "[==================                                ] 37.79%\n",
      "Testing pipeline_3D_prob_0.3_flow_0.3_4_1 pipeline\n",
      "[==================                                ] 37.88%\n",
      "Testing pipeline_3D_prob_0.3_flow_0.3_4_2 pipeline\n",
      "[==================                                ] 37.98%\n",
      "Testing pipeline_3D_prob_0.3_flow_0.3_4_3 pipeline\n",
      "[===================                               ] 38.08%\n",
      "Testing pipeline_3D_prob_0.3_flow_0.3_4_4 pipeline\n",
      "[===================                               ] 38.17%\n",
      "Testing pipeline_3D_prob_0.3_flow_0.3_4_5 pipeline\n",
      "[===================                               ] 38.27%\n",
      "Testing pipeline_3D_prob_0.3_flow_0.3_4_6 pipeline\n",
      "[===================                               ] 38.37%\n",
      "Testing pipeline_3D_prob_0.3_flow_0.3_4_7 pipeline\n",
      "[===================                               ] 38.46%\n",
      "Testing pipeline_3D_prob_0.3_flow_0.5_0_0 pipeline\n",
      "[===================                               ] 38.56%\n",
      "Testing pipeline_3D_prob_0.3_flow_0.5_0_1 pipeline\n",
      "[===================                               ] 38.65%\n",
      "Testing pipeline_3D_prob_0.3_flow_0.5_0_2 pipeline\n",
      "[===================                               ] 38.75%\n",
      "Testing pipeline_3D_prob_0.3_flow_0.5_0_3 pipeline\n",
      "[===================                               ] 38.85%\n",
      "Testing pipeline_3D_prob_0.3_flow_0.5_0_4 pipeline\n",
      "[===================                               ] 38.94%\n",
      "Testing pipeline_3D_prob_0.3_flow_0.5_0_5 pipeline\n",
      "[===================                               ] 39.04%\n",
      "Testing pipeline_3D_prob_0.3_flow_0.5_0_6 pipeline\n",
      "[===================                               ] 39.13%\n",
      "Testing pipeline_3D_prob_0.3_flow_0.5_0_7 pipeline\n",
      "[===================                               ] 39.23%\n",
      "Testing pipeline_3D_prob_0.3_flow_0.5_1_0 pipeline\n",
      "[===================                               ] 39.33%\n",
      "Testing pipeline_3D_prob_0.3_flow_0.5_1_1 pipeline\n",
      "[===================                               ] 39.42%\n",
      "Testing pipeline_3D_prob_0.3_flow_0.5_1_2 pipeline\n",
      "[===================                               ] 39.52%\n",
      "Testing pipeline_3D_prob_0.3_flow_0.5_1_3 pipeline\n",
      "[===================                               ] 39.62%\n",
      "Testing pipeline_3D_prob_0.3_flow_0.5_1_4 pipeline\n",
      "[===================                               ] 39.71%\n",
      "Testing pipeline_3D_prob_0.3_flow_0.5_1_5 pipeline\n",
      "[===================                               ] 39.81%\n",
      "Testing pipeline_3D_prob_0.3_flow_0.5_1_6 pipeline\n",
      "[===================                               ] 39.90%\n",
      "Testing pipeline_3D_prob_0.3_flow_0.5_1_7 pipeline\n",
      "[====================                              ] 40.00%\n",
      "Testing pipeline_3D_prob_0.3_flow_0.5_2_0 pipeline\n",
      "[====================                              ] 40.10%\n",
      "Testing pipeline_3D_prob_0.3_flow_0.5_2_1 pipeline\n",
      "[====================                              ] 40.19%\n",
      "Testing pipeline_3D_prob_0.3_flow_0.5_2_2 pipeline\n",
      "[====================                              ] 40.29%\n",
      "Testing pipeline_3D_prob_0.3_flow_0.5_2_3 pipeline\n",
      "[====================                              ] 40.38%\n",
      "Testing pipeline_3D_prob_0.3_flow_0.5_2_4 pipeline\n",
      "[====================                              ] 40.48%\n",
      "Testing pipeline_3D_prob_0.3_flow_0.5_2_5 pipeline\n",
      "[====================                              ] 40.58%\n",
      "Testing pipeline_3D_prob_0.3_flow_0.5_2_6 pipeline\n",
      "[====================                              ] 40.67%\n",
      "Testing pipeline_3D_prob_0.3_flow_0.5_2_7 pipeline\n",
      "[====================                              ] 40.77%\n",
      "Testing pipeline_3D_prob_0.3_flow_0.5_3_0 pipeline\n",
      "[====================                              ] 40.87%\n",
      "Testing pipeline_3D_prob_0.3_flow_0.5_3_1 pipeline\n",
      "[====================                              ] 40.96%\n",
      "Testing pipeline_3D_prob_0.3_flow_0.5_3_2 pipeline\n",
      "[====================                              ] 41.06%\n",
      "Testing pipeline_3D_prob_0.3_flow_0.5_3_3 pipeline\n",
      "[====================                              ] 41.15%\n",
      "Testing pipeline_3D_prob_0.3_flow_0.5_3_4 pipeline\n",
      "[====================                              ] 41.25%\n",
      "Testing pipeline_3D_prob_0.3_flow_0.5_3_5 pipeline\n",
      "[====================                              ] 41.35%\n",
      "Testing pipeline_3D_prob_0.3_flow_0.5_3_6 pipeline\n",
      "[====================                              ] 41.44%\n",
      "Testing pipeline_3D_prob_0.3_flow_0.5_3_7 pipeline\n",
      "[====================                              ] 41.54%\n",
      "Testing pipeline_3D_prob_0.3_flow_0.5_4_0 pipeline\n",
      "[====================                              ] 41.63%\n",
      "Testing pipeline_3D_prob_0.3_flow_0.5_4_1 pipeline\n",
      "[====================                              ] 41.73%\n",
      "Testing pipeline_3D_prob_0.3_flow_0.5_4_2 pipeline\n",
      "[====================                              ] 41.83%\n",
      "Testing pipeline_3D_prob_0.3_flow_0.5_4_3 pipeline\n",
      "[====================                              ] 41.92%\n",
      "Testing pipeline_3D_prob_0.3_flow_0.5_4_4 pipeline\n",
      "[=====================                             ] 42.02%\n",
      "Testing pipeline_3D_prob_0.3_flow_0.5_4_5 pipeline\n",
      "[=====================                             ] 42.12%\n",
      "Testing pipeline_3D_prob_0.3_flow_0.5_4_6 pipeline\n",
      "[=====================                             ] 42.21%\n",
      "Testing pipeline_3D_prob_0.3_flow_0.5_4_7 pipeline\n",
      "[=====================                             ] 42.31%\n",
      "Testing pipeline_3D_prob_0.3_flow_0.6_0_0 pipeline\n",
      "[=====================                             ] 42.40%\n",
      "Testing pipeline_3D_prob_0.3_flow_0.6_0_1 pipeline\n",
      "[=====================                             ] 42.50%\n",
      "Testing pipeline_3D_prob_0.3_flow_0.6_0_2 pipeline\n",
      "[=====================                             ] 42.60%\n",
      "Testing pipeline_3D_prob_0.3_flow_0.6_0_3 pipeline\n",
      "[=====================                             ] 42.69%\n",
      "Testing pipeline_3D_prob_0.3_flow_0.6_0_4 pipeline\n",
      "[=====================                             ] 42.79%\n",
      "Testing pipeline_3D_prob_0.3_flow_0.6_0_5 pipeline\n",
      "[=====================                             ] 42.88%\n",
      "Testing pipeline_3D_prob_0.3_flow_0.6_0_6 pipeline\n",
      "[=====================                             ] 42.98%\n",
      "Testing pipeline_3D_prob_0.3_flow_0.6_0_7 pipeline\n",
      "[=====================                             ] 43.08%\n",
      "Testing pipeline_3D_prob_0.3_flow_0.6_1_0 pipeline\n",
      "[=====================                             ] 43.17%\n",
      "Testing pipeline_3D_prob_0.3_flow_0.6_1_1 pipeline\n",
      "[=====================                             ] 43.27%\n",
      "Testing pipeline_3D_prob_0.3_flow_0.6_1_2 pipeline\n",
      "[=====================                             ] 43.37%\n",
      "Testing pipeline_3D_prob_0.3_flow_0.6_1_3 pipeline\n",
      "[=====================                             ] 43.46%\n",
      "Testing pipeline_3D_prob_0.3_flow_0.6_1_4 pipeline\n",
      "[=====================                             ] 43.56%\n",
      "Testing pipeline_3D_prob_0.3_flow_0.6_1_5 pipeline\n",
      "[=====================                             ] 43.65%\n",
      "Testing pipeline_3D_prob_0.3_flow_0.6_1_6 pipeline\n",
      "[=====================                             ] 43.75%\n",
      "Testing pipeline_3D_prob_0.3_flow_0.6_1_7 pipeline\n",
      "[=====================                             ] 43.85%\n",
      "Testing pipeline_3D_prob_0.3_flow_0.6_2_0 pipeline\n",
      "[=====================                             ] 43.94%\n",
      "Testing pipeline_3D_prob_0.3_flow_0.6_2_1 pipeline\n",
      "[======================                            ] 44.04%\n",
      "Testing pipeline_3D_prob_0.3_flow_0.6_2_2 pipeline\n",
      "[======================                            ] 44.13%\n",
      "Testing pipeline_3D_prob_0.3_flow_0.6_2_3 pipeline\n",
      "[======================                            ] 44.23%\n",
      "Testing pipeline_3D_prob_0.3_flow_0.6_2_4 pipeline\n",
      "[======================                            ] 44.33%\n",
      "Testing pipeline_3D_prob_0.3_flow_0.6_2_5 pipeline\n",
      "[======================                            ] 44.42%\n",
      "Testing pipeline_3D_prob_0.3_flow_0.6_2_6 pipeline\n",
      "[======================                            ] 44.52%\n",
      "Testing pipeline_3D_prob_0.3_flow_0.6_2_7 pipeline\n",
      "[======================                            ] 44.62%\n",
      "Testing pipeline_3D_prob_0.3_flow_0.6_3_0 pipeline\n",
      "[======================                            ] 44.71%\n",
      "Testing pipeline_3D_prob_0.3_flow_0.6_3_1 pipeline\n",
      "[======================                            ] 44.81%\n",
      "Testing pipeline_3D_prob_0.3_flow_0.6_3_2 pipeline\n",
      "[======================                            ] 44.90%\n",
      "Testing pipeline_3D_prob_0.3_flow_0.6_3_3 pipeline\n",
      "[======================                            ] 45.00%\n",
      "Testing pipeline_3D_prob_0.3_flow_0.6_3_4 pipeline\n",
      "[======================                            ] 45.10%\n",
      "Testing pipeline_3D_prob_0.3_flow_0.6_3_5 pipeline\n",
      "[======================                            ] 45.19%\n",
      "Testing pipeline_3D_prob_0.3_flow_0.6_3_6 pipeline\n",
      "[======================                            ] 45.29%\n",
      "Testing pipeline_3D_prob_0.3_flow_0.6_3_7 pipeline\n",
      "[======================                            ] 45.38%\n",
      "Testing pipeline_3D_prob_0.3_flow_0.6_4_0 pipeline\n",
      "[======================                            ] 45.48%\n",
      "Testing pipeline_3D_prob_0.3_flow_0.6_4_1 pipeline\n",
      "[======================                            ] 45.58%\n",
      "Testing pipeline_3D_prob_0.3_flow_0.6_4_2 pipeline\n",
      "[======================                            ] 45.67%\n",
      "Testing pipeline_3D_prob_0.3_flow_0.6_4_3 pipeline\n",
      "[======================                            ] 45.77%\n",
      "Testing pipeline_3D_prob_0.3_flow_0.6_4_4 pipeline\n",
      "[======================                            ] 45.87%\n",
      "Testing pipeline_3D_prob_0.3_flow_0.6_4_5 pipeline\n",
      "[======================                            ] 45.96%\n",
      "Testing pipeline_3D_prob_0.3_flow_0.6_4_6 pipeline\n",
      "[=======================                           ] 46.06%\n",
      "Testing pipeline_3D_prob_0.3_flow_0.6_4_7 pipeline\n",
      "[=======================                           ] 46.15%\n",
      "Testing pipeline_3D_prob_0.4_flow_0.2_0_0 pipeline\n",
      "[=======================                           ] 46.25%\n",
      "Testing pipeline_3D_prob_0.4_flow_0.2_0_1 pipeline\n",
      "[=======================                           ] 46.35%\n",
      "Testing pipeline_3D_prob_0.4_flow_0.2_0_2 pipeline\n",
      "[=======================                           ] 46.44%\n",
      "Testing pipeline_3D_prob_0.4_flow_0.2_0_3 pipeline\n",
      "[=======================                           ] 46.54%\n",
      "Testing pipeline_3D_prob_0.4_flow_0.2_0_4 pipeline\n",
      "[=======================                           ] 46.63%\n",
      "Testing pipeline_3D_prob_0.4_flow_0.2_0_5 pipeline\n",
      "[=======================                           ] 46.73%\n",
      "Testing pipeline_3D_prob_0.4_flow_0.2_0_6 pipeline\n",
      "[=======================                           ] 46.83%\n",
      "Testing pipeline_3D_prob_0.4_flow_0.2_0_7 pipeline\n",
      "[=======================                           ] 46.92%\n",
      "Testing pipeline_3D_prob_0.4_flow_0.2_1_0 pipeline\n",
      "[=======================                           ] 47.02%\n",
      "Testing pipeline_3D_prob_0.4_flow_0.2_1_1 pipeline\n",
      "[=======================                           ] 47.12%\n",
      "Testing pipeline_3D_prob_0.4_flow_0.2_1_2 pipeline\n",
      "[=======================                           ] 47.21%\n",
      "Testing pipeline_3D_prob_0.4_flow_0.2_1_3 pipeline\n",
      "[=======================                           ] 47.31%\n",
      "Testing pipeline_3D_prob_0.4_flow_0.2_1_4 pipeline\n",
      "[=======================                           ] 47.40%\n",
      "Testing pipeline_3D_prob_0.4_flow_0.2_1_5 pipeline\n",
      "[=======================                           ] 47.50%\n",
      "Testing pipeline_3D_prob_0.4_flow_0.2_1_6 pipeline\n",
      "[=======================                           ] 47.60%\n",
      "Testing pipeline_3D_prob_0.4_flow_0.2_1_7 pipeline\n",
      "[=======================                           ] 47.69%\n",
      "Testing pipeline_3D_prob_0.4_flow_0.2_2_0 pipeline\n",
      "[=======================                           ] 47.79%\n",
      "Testing pipeline_3D_prob_0.4_flow_0.2_2_1 pipeline\n",
      "[=======================                           ] 47.88%\n",
      "Testing pipeline_3D_prob_0.4_flow_0.2_2_2 pipeline\n",
      "[=======================                           ] 47.98%\n",
      "Testing pipeline_3D_prob_0.4_flow_0.2_2_3 pipeline\n",
      "[========================                          ] 48.08%\n",
      "Testing pipeline_3D_prob_0.4_flow_0.2_2_4 pipeline\n",
      "[========================                          ] 48.17%\n",
      "Testing pipeline_3D_prob_0.4_flow_0.2_2_5 pipeline\n",
      "[========================                          ] 48.27%\n",
      "Testing pipeline_3D_prob_0.4_flow_0.2_2_6 pipeline\n",
      "[========================                          ] 48.37%\n",
      "Testing pipeline_3D_prob_0.4_flow_0.2_2_7 pipeline\n",
      "[========================                          ] 48.46%\n",
      "Testing pipeline_3D_prob_0.4_flow_0.2_3_0 pipeline\n",
      "[========================                          ] 48.56%\n",
      "Testing pipeline_3D_prob_0.4_flow_0.2_3_1 pipeline\n",
      "[========================                          ] 48.65%\n",
      "Testing pipeline_3D_prob_0.4_flow_0.2_3_2 pipeline\n",
      "[========================                          ] 48.75%\n",
      "Testing pipeline_3D_prob_0.4_flow_0.2_3_3 pipeline\n",
      "[========================                          ] 48.85%\n",
      "Testing pipeline_3D_prob_0.4_flow_0.2_3_4 pipeline\n",
      "[========================                          ] 48.94%\n",
      "Testing pipeline_3D_prob_0.4_flow_0.2_3_5 pipeline\n",
      "[========================                          ] 49.04%\n",
      "Testing pipeline_3D_prob_0.4_flow_0.2_3_6 pipeline\n",
      "[========================                          ] 49.13%\n",
      "Testing pipeline_3D_prob_0.4_flow_0.2_3_7 pipeline\n",
      "[========================                          ] 49.23%\n",
      "Testing pipeline_3D_prob_0.4_flow_0.2_4_0 pipeline\n",
      "[========================                          ] 49.33%\n",
      "Testing pipeline_3D_prob_0.4_flow_0.2_4_1 pipeline\n",
      "[========================                          ] 49.42%\n",
      "Testing pipeline_3D_prob_0.4_flow_0.2_4_2 pipeline\n",
      "[========================                          ] 49.52%\n",
      "Testing pipeline_3D_prob_0.4_flow_0.2_4_3 pipeline\n",
      "[========================                          ] 49.62%\n",
      "Testing pipeline_3D_prob_0.4_flow_0.2_4_4 pipeline\n",
      "[========================                          ] 49.71%\n",
      "Testing pipeline_3D_prob_0.4_flow_0.2_4_5 pipeline\n",
      "[========================                          ] 49.81%\n",
      "Testing pipeline_3D_prob_0.4_flow_0.2_4_6 pipeline\n",
      "[========================                          ] 49.90%\n",
      "Testing pipeline_3D_prob_0.4_flow_0.2_4_7 pipeline\n",
      "[=========================                         ] 50.00%\n",
      "Testing pipeline_3D_prob_0.4_flow_0.3_0_0 pipeline\n",
      "[=========================                         ] 50.10%\n",
      "Testing pipeline_3D_prob_0.4_flow_0.3_0_1 pipeline\n",
      "[=========================                         ] 50.19%\n",
      "Testing pipeline_3D_prob_0.4_flow_0.3_0_2 pipeline\n",
      "[=========================                         ] 50.29%\n",
      "Testing pipeline_3D_prob_0.4_flow_0.3_0_3 pipeline\n",
      "[=========================                         ] 50.38%\n",
      "Testing pipeline_3D_prob_0.4_flow_0.3_0_4 pipeline\n",
      "[=========================                         ] 50.48%\n",
      "Testing pipeline_3D_prob_0.4_flow_0.3_0_5 pipeline\n",
      "[=========================                         ] 50.58%\n",
      "Testing pipeline_3D_prob_0.4_flow_0.3_0_6 pipeline\n",
      "[=========================                         ] 50.67%\n",
      "Testing pipeline_3D_prob_0.4_flow_0.3_0_7 pipeline\n",
      "[=========================                         ] 50.77%\n",
      "Testing pipeline_3D_prob_0.4_flow_0.3_1_0 pipeline\n",
      "[=========================                         ] 50.87%\n",
      "Testing pipeline_3D_prob_0.4_flow_0.3_1_1 pipeline\n",
      "[=========================                         ] 50.96%\n",
      "Testing pipeline_3D_prob_0.4_flow_0.3_1_2 pipeline\n",
      "[=========================                         ] 51.06%\n",
      "Testing pipeline_3D_prob_0.4_flow_0.3_1_3 pipeline\n",
      "[=========================                         ] 51.15%\n",
      "Testing pipeline_3D_prob_0.4_flow_0.3_1_4 pipeline\n",
      "[=========================                         ] 51.25%\n",
      "Testing pipeline_3D_prob_0.4_flow_0.3_1_5 pipeline\n",
      "[=========================                         ] 51.35%\n",
      "Testing pipeline_3D_prob_0.4_flow_0.3_1_6 pipeline\n",
      "[=========================                         ] 51.44%\n",
      "Testing pipeline_3D_prob_0.4_flow_0.3_1_7 pipeline\n",
      "[=========================                         ] 51.54%\n",
      "Testing pipeline_3D_prob_0.4_flow_0.3_2_0 pipeline\n",
      "[=========================                         ] 51.63%\n",
      "Testing pipeline_3D_prob_0.4_flow_0.3_2_1 pipeline\n",
      "[=========================                         ] 51.73%\n",
      "Testing pipeline_3D_prob_0.4_flow_0.3_2_2 pipeline\n",
      "[=========================                         ] 51.83%\n",
      "Testing pipeline_3D_prob_0.4_flow_0.3_2_3 pipeline\n",
      "[=========================                         ] 51.92%\n",
      "Testing pipeline_3D_prob_0.4_flow_0.3_2_4 pipeline\n",
      "[==========================                        ] 52.02%\n",
      "Testing pipeline_3D_prob_0.4_flow_0.3_2_5 pipeline\n",
      "[==========================                        ] 52.12%\n",
      "Testing pipeline_3D_prob_0.4_flow_0.3_2_6 pipeline\n",
      "[==========================                        ] 52.21%\n",
      "Testing pipeline_3D_prob_0.4_flow_0.3_2_7 pipeline\n",
      "[==========================                        ] 52.31%\n",
      "Testing pipeline_3D_prob_0.4_flow_0.3_3_0 pipeline\n",
      "[==========================                        ] 52.40%\n",
      "Testing pipeline_3D_prob_0.4_flow_0.3_3_1 pipeline\n",
      "[==========================                        ] 52.50%\n",
      "Testing pipeline_3D_prob_0.4_flow_0.3_3_2 pipeline\n",
      "[==========================                        ] 52.60%\n",
      "Testing pipeline_3D_prob_0.4_flow_0.3_3_3 pipeline\n",
      "[==========================                        ] 52.69%\n",
      "Testing pipeline_3D_prob_0.4_flow_0.3_3_4 pipeline\n",
      "[==========================                        ] 52.79%\n",
      "Testing pipeline_3D_prob_0.4_flow_0.3_3_5 pipeline\n",
      "[==========================                        ] 52.88%\n",
      "Testing pipeline_3D_prob_0.4_flow_0.3_3_6 pipeline\n",
      "[==========================                        ] 52.98%\n",
      "Testing pipeline_3D_prob_0.4_flow_0.3_3_7 pipeline\n",
      "[==========================                        ] 53.08%\n",
      "Testing pipeline_3D_prob_0.4_flow_0.3_4_0 pipeline\n",
      "[==========================                        ] 53.17%\n",
      "Testing pipeline_3D_prob_0.4_flow_0.3_4_1 pipeline\n",
      "[==========================                        ] 53.27%\n",
      "Testing pipeline_3D_prob_0.4_flow_0.3_4_2 pipeline\n",
      "[==========================                        ] 53.37%\n",
      "Testing pipeline_3D_prob_0.4_flow_0.3_4_3 pipeline\n",
      "[==========================                        ] 53.46%\n",
      "Testing pipeline_3D_prob_0.4_flow_0.3_4_4 pipeline\n",
      "[==========================                        ] 53.56%\n",
      "Testing pipeline_3D_prob_0.4_flow_0.3_4_5 pipeline\n",
      "[==========================                        ] 53.65%\n",
      "Testing pipeline_3D_prob_0.4_flow_0.3_4_6 pipeline\n",
      "[==========================                        ] 53.75%\n",
      "Testing pipeline_3D_prob_0.4_flow_0.3_4_7 pipeline\n",
      "[==========================                        ] 53.85%\n",
      "Testing pipeline_3D_prob_0.4_flow_0.5_0_0 pipeline\n",
      "[==========================                        ] 53.94%\n",
      "Testing pipeline_3D_prob_0.4_flow_0.5_0_1 pipeline\n",
      "[===========================                       ] 54.04%\n",
      "Testing pipeline_3D_prob_0.4_flow_0.5_0_2 pipeline\n",
      "[===========================                       ] 54.13%\n",
      "Testing pipeline_3D_prob_0.4_flow_0.5_0_3 pipeline\n",
      "[===========================                       ] 54.23%\n",
      "Testing pipeline_3D_prob_0.4_flow_0.5_0_4 pipeline\n",
      "[===========================                       ] 54.33%\n",
      "Testing pipeline_3D_prob_0.4_flow_0.5_0_5 pipeline\n",
      "[===========================                       ] 54.42%\n",
      "Testing pipeline_3D_prob_0.4_flow_0.5_0_6 pipeline\n",
      "[===========================                       ] 54.52%\n",
      "Testing pipeline_3D_prob_0.4_flow_0.5_0_7 pipeline\n",
      "[===========================                       ] 54.62%\n",
      "Testing pipeline_3D_prob_0.4_flow_0.5_1_0 pipeline\n",
      "[===========================                       ] 54.71%\n",
      "Testing pipeline_3D_prob_0.4_flow_0.5_1_1 pipeline\n",
      "[===========================                       ] 54.81%\n",
      "Testing pipeline_3D_prob_0.4_flow_0.5_1_2 pipeline\n",
      "[===========================                       ] 54.90%\n",
      "Testing pipeline_3D_prob_0.4_flow_0.5_1_3 pipeline\n",
      "[===========================                       ] 55.00%\n",
      "Testing pipeline_3D_prob_0.4_flow_0.5_1_4 pipeline\n",
      "[===========================                       ] 55.10%\n",
      "Testing pipeline_3D_prob_0.4_flow_0.5_1_5 pipeline\n",
      "[===========================                       ] 55.19%\n",
      "Testing pipeline_3D_prob_0.4_flow_0.5_1_6 pipeline\n",
      "[===========================                       ] 55.29%\n",
      "Testing pipeline_3D_prob_0.4_flow_0.5_1_7 pipeline\n",
      "[===========================                       ] 55.38%\n",
      "Testing pipeline_3D_prob_0.4_flow_0.5_2_0 pipeline\n",
      "[===========================                       ] 55.48%\n",
      "Testing pipeline_3D_prob_0.4_flow_0.5_2_1 pipeline\n",
      "[===========================                       ] 55.58%\n",
      "Testing pipeline_3D_prob_0.4_flow_0.5_2_2 pipeline\n",
      "[===========================                       ] 55.67%\n",
      "Testing pipeline_3D_prob_0.4_flow_0.5_2_3 pipeline\n",
      "[===========================                       ] 55.77%\n",
      "Testing pipeline_3D_prob_0.4_flow_0.5_2_4 pipeline\n",
      "[===========================                       ] 55.87%\n",
      "Testing pipeline_3D_prob_0.4_flow_0.5_2_5 pipeline\n",
      "[===========================                       ] 55.96%\n",
      "Testing pipeline_3D_prob_0.4_flow_0.5_2_6 pipeline\n",
      "[============================                      ] 56.06%\n",
      "Testing pipeline_3D_prob_0.4_flow_0.5_2_7 pipeline\n",
      "[============================                      ] 56.15%\n",
      "Testing pipeline_3D_prob_0.4_flow_0.5_3_0 pipeline\n",
      "[============================                      ] 56.25%\n",
      "Testing pipeline_3D_prob_0.4_flow_0.5_3_1 pipeline\n",
      "[============================                      ] 56.35%\n",
      "Testing pipeline_3D_prob_0.4_flow_0.5_3_2 pipeline\n",
      "[============================                      ] 56.44%\n",
      "Testing pipeline_3D_prob_0.4_flow_0.5_3_3 pipeline\n",
      "[============================                      ] 56.54%\n",
      "Testing pipeline_3D_prob_0.4_flow_0.5_3_4 pipeline\n",
      "[============================                      ] 56.63%\n",
      "Testing pipeline_3D_prob_0.4_flow_0.5_3_5 pipeline\n",
      "[============================                      ] 56.73%\n",
      "Testing pipeline_3D_prob_0.4_flow_0.5_3_6 pipeline\n",
      "[============================                      ] 56.83%\n",
      "Testing pipeline_3D_prob_0.4_flow_0.5_3_7 pipeline\n",
      "[============================                      ] 56.92%\n",
      "Testing pipeline_3D_prob_0.4_flow_0.5_4_0 pipeline\n",
      "[============================                      ] 57.02%\n",
      "Testing pipeline_3D_prob_0.4_flow_0.5_4_1 pipeline\n",
      "[============================                      ] 57.12%\n",
      "Testing pipeline_3D_prob_0.4_flow_0.5_4_2 pipeline\n",
      "[============================                      ] 57.21%\n",
      "Testing pipeline_3D_prob_0.4_flow_0.5_4_3 pipeline\n",
      "[============================                      ] 57.31%\n",
      "Testing pipeline_3D_prob_0.4_flow_0.5_4_4 pipeline\n",
      "[============================                      ] 57.40%\n",
      "Testing pipeline_3D_prob_0.4_flow_0.5_4_5 pipeline\n",
      "[============================                      ] 57.50%\n",
      "Testing pipeline_3D_prob_0.4_flow_0.5_4_6 pipeline\n",
      "[============================                      ] 57.60%\n",
      "Testing pipeline_3D_prob_0.4_flow_0.5_4_7 pipeline\n",
      "[============================                      ] 57.69%\n",
      "Testing pipeline_3D_prob_0.4_flow_0.6_0_0 pipeline\n",
      "[============================                      ] 57.79%\n",
      "Testing pipeline_3D_prob_0.4_flow_0.6_0_1 pipeline\n",
      "[============================                      ] 57.88%\n",
      "Testing pipeline_3D_prob_0.4_flow_0.6_0_2 pipeline\n",
      "[============================                      ] 57.98%\n",
      "Testing pipeline_3D_prob_0.4_flow_0.6_0_3 pipeline\n",
      "[=============================                     ] 58.08%\n",
      "Testing pipeline_3D_prob_0.4_flow_0.6_0_4 pipeline\n",
      "[=============================                     ] 58.17%\n",
      "Testing pipeline_3D_prob_0.4_flow_0.6_0_5 pipeline\n",
      "[=============================                     ] 58.27%\n",
      "Testing pipeline_3D_prob_0.4_flow_0.6_0_6 pipeline\n",
      "[=============================                     ] 58.37%\n",
      "Testing pipeline_3D_prob_0.4_flow_0.6_0_7 pipeline\n",
      "[=============================                     ] 58.46%\n",
      "Testing pipeline_3D_prob_0.4_flow_0.6_1_0 pipeline\n",
      "[=============================                     ] 58.56%\n",
      "Testing pipeline_3D_prob_0.4_flow_0.6_1_1 pipeline\n",
      "[=============================                     ] 58.65%\n",
      "Testing pipeline_3D_prob_0.4_flow_0.6_1_2 pipeline\n",
      "[=============================                     ] 58.75%\n",
      "Testing pipeline_3D_prob_0.4_flow_0.6_1_3 pipeline\n",
      "[=============================                     ] 58.85%\n",
      "Testing pipeline_3D_prob_0.4_flow_0.6_1_4 pipeline\n",
      "[=============================                     ] 58.94%\n",
      "Testing pipeline_3D_prob_0.4_flow_0.6_1_5 pipeline\n",
      "[=============================                     ] 59.04%\n",
      "Testing pipeline_3D_prob_0.4_flow_0.6_1_6 pipeline\n",
      "[=============================                     ] 59.13%\n",
      "Testing pipeline_3D_prob_0.4_flow_0.6_1_7 pipeline\n",
      "[=============================                     ] 59.23%\n",
      "Testing pipeline_3D_prob_0.4_flow_0.6_2_0 pipeline\n",
      "[=============================                     ] 59.33%\n",
      "Testing pipeline_3D_prob_0.4_flow_0.6_2_1 pipeline\n",
      "[=============================                     ] 59.42%\n",
      "Testing pipeline_3D_prob_0.4_flow_0.6_2_2 pipeline\n",
      "[=============================                     ] 59.52%\n",
      "Testing pipeline_3D_prob_0.4_flow_0.6_2_3 pipeline\n",
      "[=============================                     ] 59.62%\n",
      "Testing pipeline_3D_prob_0.4_flow_0.6_2_4 pipeline\n",
      "[=============================                     ] 59.71%\n",
      "Testing pipeline_3D_prob_0.4_flow_0.6_2_5 pipeline\n",
      "[=============================                     ] 59.81%\n",
      "Testing pipeline_3D_prob_0.4_flow_0.6_2_6 pipeline\n",
      "[=============================                     ] 59.90%\n",
      "Testing pipeline_3D_prob_0.4_flow_0.6_2_7 pipeline\n",
      "[==============================                    ] 60.00%\n",
      "Testing pipeline_3D_prob_0.4_flow_0.6_3_0 pipeline\n",
      "[==============================                    ] 60.10%\n",
      "Testing pipeline_3D_prob_0.4_flow_0.6_3_1 pipeline\n",
      "[==============================                    ] 60.19%\n",
      "Testing pipeline_3D_prob_0.4_flow_0.6_3_2 pipeline\n",
      "[==============================                    ] 60.29%\n",
      "Testing pipeline_3D_prob_0.4_flow_0.6_3_3 pipeline\n",
      "[==============================                    ] 60.38%\n",
      "Testing pipeline_3D_prob_0.4_flow_0.6_3_4 pipeline\n",
      "[==============================                    ] 60.48%\n",
      "Testing pipeline_3D_prob_0.4_flow_0.6_3_5 pipeline\n",
      "[==============================                    ] 60.58%\n",
      "Testing pipeline_3D_prob_0.4_flow_0.6_3_6 pipeline\n",
      "[==============================                    ] 60.67%\n",
      "Testing pipeline_3D_prob_0.4_flow_0.6_3_7 pipeline\n",
      "[==============================                    ] 60.77%\n",
      "Testing pipeline_3D_prob_0.4_flow_0.6_4_0 pipeline\n",
      "[==============================                    ] 60.87%\n",
      "Testing pipeline_3D_prob_0.4_flow_0.6_4_1 pipeline\n",
      "[==============================                    ] 60.96%\n",
      "Testing pipeline_3D_prob_0.4_flow_0.6_4_2 pipeline\n",
      "[==============================                    ] 61.06%\n",
      "Testing pipeline_3D_prob_0.4_flow_0.6_4_3 pipeline\n",
      "[==============================                    ] 61.15%\n",
      "Testing pipeline_3D_prob_0.4_flow_0.6_4_4 pipeline\n",
      "[==============================                    ] 61.25%\n",
      "Testing pipeline_3D_prob_0.4_flow_0.6_4_5 pipeline\n",
      "[==============================                    ] 61.35%\n",
      "Testing pipeline_3D_prob_0.4_flow_0.6_4_6 pipeline\n",
      "[==============================                    ] 61.44%\n",
      "Testing pipeline_3D_prob_0.4_flow_0.6_4_7 pipeline\n",
      "[==============================                    ] 61.54%\n",
      "Testing pipeline_2D_thr_0.2_flow_0.2_0_0 pipeline\n"
     ]
    },
    {
     "name": "stderr",
     "output_type": "stream",
     "text": [
      "100%|██████████| 19/19 [00:00<00:00, 24.07it/s]\n"
     ]
    },
    {
     "name": "stdout",
     "output_type": "stream",
     "text": [
      "[==============================                    ] 61.63%\n",
      "Testing pipeline_2D_thr_0.2_flow_0.2_0_1 pipeline\n"
     ]
    },
    {
     "name": "stderr",
     "output_type": "stream",
     "text": [
      "100%|██████████| 19/19 [00:00<00:00, 3725.13it/s]\n"
     ]
    },
    {
     "name": "stdout",
     "output_type": "stream",
     "text": [
      "Number of cells after linking: 139\n",
      "[==============================                    ] 61.73%\n",
      "Testing pipeline_2D_thr_0.2_flow_0.2_0_2 pipeline\n"
     ]
    },
    {
     "name": "stderr",
     "output_type": "stream",
     "text": [
      "100%|██████████| 19/19 [00:00<00:00, 4185.93it/s]\n"
     ]
    },
    {
     "name": "stdout",
     "output_type": "stream",
     "text": [
      "[==============================                    ] 61.83%\n",
      "Testing pipeline_2D_thr_0.2_flow_0.2_0_3 pipeline\n"
     ]
    },
    {
     "name": "stderr",
     "output_type": "stream",
     "text": [
      "100%|██████████| 19/19 [00:00<00:00, 3582.14it/s]"
     ]
    },
    {
     "name": "stdout",
     "output_type": "stream",
     "text": [
      "[==============================                    ] 61.92%"
     ]
    },
    {
     "name": "stderr",
     "output_type": "stream",
     "text": [
      "\n"
     ]
    },
    {
     "name": "stdout",
     "output_type": "stream",
     "text": [
      "\n",
      "Testing pipeline_2D_thr_0.2_flow_0.2_1_0 pipeline\n"
     ]
    },
    {
     "name": "stderr",
     "output_type": "stream",
     "text": [
      "100%|██████████| 19/19 [00:00<00:00, 3517.78it/s]\n"
     ]
    },
    {
     "name": "stdout",
     "output_type": "stream",
     "text": [
      "[===============================                   ] 62.02%\n",
      "Testing pipeline_2D_thr_0.2_flow_0.2_1_1 pipeline\n"
     ]
    },
    {
     "name": "stderr",
     "output_type": "stream",
     "text": [
      "100%|██████████| 19/19 [00:00<00:00, 3443.15it/s]\n"
     ]
    },
    {
     "name": "stdout",
     "output_type": "stream",
     "text": [
      "Number of cells after linking: 132\n",
      "[===============================                   ] 62.12%\n",
      "Testing pipeline_2D_thr_0.2_flow_0.2_1_2 pipeline\n"
     ]
    },
    {
     "name": "stderr",
     "output_type": "stream",
     "text": [
      "100%|██████████| 19/19 [00:00<00:00, 2634.35it/s]\n"
     ]
    },
    {
     "name": "stdout",
     "output_type": "stream",
     "text": [
      "[===============================                   ] 62.21%\n",
      "Testing pipeline_2D_thr_0.2_flow_0.2_1_3 pipeline\n"
     ]
    },
    {
     "name": "stderr",
     "output_type": "stream",
     "text": [
      "100%|██████████| 19/19 [00:00<00:00, 4046.50it/s]"
     ]
    },
    {
     "name": "stdout",
     "output_type": "stream",
     "text": [
      "[===============================                   ] 62.31%"
     ]
    },
    {
     "name": "stderr",
     "output_type": "stream",
     "text": [
      "\n"
     ]
    },
    {
     "name": "stdout",
     "output_type": "stream",
     "text": [
      "\n",
      "Testing pipeline_2D_thr_0.2_flow_0.2_2_0 pipeline\n"
     ]
    },
    {
     "name": "stderr",
     "output_type": "stream",
     "text": [
      "100%|██████████| 19/19 [00:00<00:00, 3656.26it/s]\n"
     ]
    },
    {
     "name": "stdout",
     "output_type": "stream",
     "text": [
      "[===============================                   ] 62.40%\n",
      "Testing pipeline_2D_thr_0.2_flow_0.2_2_1 pipeline\n"
     ]
    },
    {
     "name": "stderr",
     "output_type": "stream",
     "text": [
      "100%|██████████| 19/19 [00:00<00:00, 3549.11it/s]\n"
     ]
    },
    {
     "name": "stdout",
     "output_type": "stream",
     "text": [
      "Number of cells after linking: 130\n",
      "[===============================                   ] 62.50%\n",
      "Testing pipeline_2D_thr_0.2_flow_0.2_2_2 pipeline\n"
     ]
    },
    {
     "name": "stderr",
     "output_type": "stream",
     "text": [
      "100%|██████████| 19/19 [00:00<00:00, 3616.76it/s]\n"
     ]
    },
    {
     "name": "stdout",
     "output_type": "stream",
     "text": [
      "[===============================                   ] 62.60%\n",
      "Testing pipeline_2D_thr_0.2_flow_0.2_2_3 pipeline\n"
     ]
    },
    {
     "name": "stderr",
     "output_type": "stream",
     "text": [
      "100%|██████████| 19/19 [00:00<00:00, 3495.87it/s]"
     ]
    },
    {
     "name": "stdout",
     "output_type": "stream",
     "text": [
      "[===============================                   ] 62.69%"
     ]
    },
    {
     "name": "stderr",
     "output_type": "stream",
     "text": [
      "\n"
     ]
    },
    {
     "name": "stdout",
     "output_type": "stream",
     "text": [
      "\n",
      "Testing pipeline_2D_thr_0.2_flow_0.2_3_0 pipeline\n"
     ]
    },
    {
     "name": "stderr",
     "output_type": "stream",
     "text": [
      "100%|██████████| 19/19 [00:00<00:00, 3690.29it/s]\n"
     ]
    },
    {
     "name": "stdout",
     "output_type": "stream",
     "text": [
      "[===============================                   ] 62.79%\n",
      "Testing pipeline_2D_thr_0.2_flow_0.2_3_1 pipeline\n"
     ]
    },
    {
     "name": "stderr",
     "output_type": "stream",
     "text": [
      "100%|██████████| 19/19 [00:00<00:00, 3732.81it/s]\n"
     ]
    },
    {
     "name": "stdout",
     "output_type": "stream",
     "text": [
      "Number of cells after linking: 127\n",
      "[===============================                   ] 62.88%\n",
      "Testing pipeline_2D_thr_0.2_flow_0.2_3_2 pipeline\n"
     ]
    },
    {
     "name": "stderr",
     "output_type": "stream",
     "text": [
      "100%|██████████| 19/19 [00:00<00:00, 3361.95it/s]\n"
     ]
    },
    {
     "name": "stdout",
     "output_type": "stream",
     "text": [
      "[===============================                   ] 62.98%\n",
      "Testing pipeline_2D_thr_0.2_flow_0.2_3_3 pipeline\n"
     ]
    },
    {
     "name": "stderr",
     "output_type": "stream",
     "text": [
      "100%|██████████| 19/19 [00:00<00:00, 3474.83it/s]"
     ]
    },
    {
     "name": "stdout",
     "output_type": "stream",
     "text": [
      "[===============================                   ] 63.08%"
     ]
    },
    {
     "name": "stderr",
     "output_type": "stream",
     "text": [
      "\n"
     ]
    },
    {
     "name": "stdout",
     "output_type": "stream",
     "text": [
      "\n",
      "Testing pipeline_2D_thr_0.2_flow_0.2_4_0 pipeline\n"
     ]
    },
    {
     "name": "stderr",
     "output_type": "stream",
     "text": [
      "100%|██████████| 19/19 [00:00<00:00, 3773.11it/s]\n"
     ]
    },
    {
     "name": "stdout",
     "output_type": "stream",
     "text": [
      "[===============================                   ] 63.17%\n",
      "Testing pipeline_2D_thr_0.2_flow_0.2_4_1 pipeline\n"
     ]
    },
    {
     "name": "stderr",
     "output_type": "stream",
     "text": [
      "100%|██████████| 19/19 [00:00<00:00, 3612.50it/s]\n"
     ]
    },
    {
     "name": "stdout",
     "output_type": "stream",
     "text": [
      "Number of cells after linking: 134\n",
      "[===============================                   ] 63.27%\n",
      "Testing pipeline_2D_thr_0.2_flow_0.2_4_2 pipeline\n"
     ]
    },
    {
     "name": "stderr",
     "output_type": "stream",
     "text": [
      "100%|██████████| 19/19 [00:00<00:00, 4079.44it/s]\n"
     ]
    },
    {
     "name": "stdout",
     "output_type": "stream",
     "text": [
      "[===============================                   ] 63.37%\n",
      "Testing pipeline_2D_thr_0.2_flow_0.2_4_3 pipeline\n"
     ]
    },
    {
     "name": "stderr",
     "output_type": "stream",
     "text": [
      "100%|██████████| 19/19 [00:00<00:00, 3887.78it/s]"
     ]
    },
    {
     "name": "stdout",
     "output_type": "stream",
     "text": [
      "[===============================                   ] 63.46%"
     ]
    },
    {
     "name": "stderr",
     "output_type": "stream",
     "text": [
      "\n"
     ]
    },
    {
     "name": "stdout",
     "output_type": "stream",
     "text": [
      "\n",
      "Testing pipeline_2D_thr_0.2_flow_0.3_0_0 pipeline\n"
     ]
    },
    {
     "name": "stderr",
     "output_type": "stream",
     "text": [
      "100%|██████████| 19/19 [00:00<00:00, 3709.18it/s]\n"
     ]
    },
    {
     "name": "stdout",
     "output_type": "stream",
     "text": [
      "[===============================                   ] 63.56%\n",
      "Testing pipeline_2D_thr_0.2_flow_0.3_0_1 pipeline\n"
     ]
    },
    {
     "name": "stderr",
     "output_type": "stream",
     "text": [
      "100%|██████████| 19/19 [00:00<00:00, 3786.55it/s]\n"
     ]
    },
    {
     "name": "stdout",
     "output_type": "stream",
     "text": [
      "Number of cells after linking: 139\n",
      "[===============================                   ] 63.65%\n",
      "Testing pipeline_2D_thr_0.2_flow_0.3_0_2 pipeline\n"
     ]
    },
    {
     "name": "stderr",
     "output_type": "stream",
     "text": [
      "100%|██████████| 19/19 [00:00<00:00, 3700.57it/s]\n"
     ]
    },
    {
     "name": "stdout",
     "output_type": "stream",
     "text": [
      "[===============================                   ] 63.75%\n",
      "Testing pipeline_2D_thr_0.2_flow_0.3_0_3 pipeline\n"
     ]
    },
    {
     "name": "stderr",
     "output_type": "stream",
     "text": [
      "100%|██████████| 19/19 [00:00<00:00, 2746.10it/s]"
     ]
    },
    {
     "name": "stdout",
     "output_type": "stream",
     "text": [
      "[===============================                   ] 63.85%"
     ]
    },
    {
     "name": "stderr",
     "output_type": "stream",
     "text": [
      "\n"
     ]
    },
    {
     "name": "stdout",
     "output_type": "stream",
     "text": [
      "\n",
      "Testing pipeline_2D_thr_0.2_flow_0.3_1_0 pipeline\n"
     ]
    },
    {
     "name": "stderr",
     "output_type": "stream",
     "text": [
      "100%|██████████| 19/19 [00:00<00:00, 3714.20it/s]\n"
     ]
    },
    {
     "name": "stdout",
     "output_type": "stream",
     "text": [
      "[===============================                   ] 63.94%\n",
      "Testing pipeline_2D_thr_0.2_flow_0.3_1_1 pipeline\n"
     ]
    },
    {
     "name": "stderr",
     "output_type": "stream",
     "text": [
      "100%|██████████| 19/19 [00:00<00:00, 3700.05it/s]\n"
     ]
    },
    {
     "name": "stdout",
     "output_type": "stream",
     "text": [
      "Number of cells after linking: 132\n",
      "[================================                  ] 64.04%\n",
      "Testing pipeline_2D_thr_0.2_flow_0.3_1_2 pipeline\n"
     ]
    },
    {
     "name": "stderr",
     "output_type": "stream",
     "text": [
      "100%|██████████| 19/19 [00:00<00:00, 3680.74it/s]\n"
     ]
    },
    {
     "name": "stdout",
     "output_type": "stream",
     "text": [
      "[================================                  ] 64.13%\n",
      "Testing pipeline_2D_thr_0.2_flow_0.3_1_3 pipeline\n"
     ]
    },
    {
     "name": "stderr",
     "output_type": "stream",
     "text": [
      "100%|██████████| 19/19 [00:00<00:00, 3562.92it/s]"
     ]
    },
    {
     "name": "stdout",
     "output_type": "stream",
     "text": [
      "[================================                  ] 64.23%"
     ]
    },
    {
     "name": "stderr",
     "output_type": "stream",
     "text": [
      "\n"
     ]
    },
    {
     "name": "stdout",
     "output_type": "stream",
     "text": [
      "\n",
      "Testing pipeline_2D_thr_0.2_flow_0.3_2_0 pipeline\n"
     ]
    },
    {
     "name": "stderr",
     "output_type": "stream",
     "text": [
      "100%|██████████| 19/19 [00:00<00:00, 3674.46it/s]\n"
     ]
    },
    {
     "name": "stdout",
     "output_type": "stream",
     "text": [
      "[================================                  ] 64.33%\n",
      "Testing pipeline_2D_thr_0.2_flow_0.3_2_1 pipeline\n"
     ]
    },
    {
     "name": "stderr",
     "output_type": "stream",
     "text": [
      "100%|██████████| 19/19 [00:00<00:00, 3732.99it/s]\n"
     ]
    },
    {
     "name": "stdout",
     "output_type": "stream",
     "text": [
      "Number of cells after linking: 130\n",
      "[================================                  ] 64.42%\n",
      "Testing pipeline_2D_thr_0.2_flow_0.3_2_2 pipeline\n"
     ]
    },
    {
     "name": "stderr",
     "output_type": "stream",
     "text": [
      "100%|██████████| 19/19 [00:00<00:00, 3828.02it/s]\n"
     ]
    },
    {
     "name": "stdout",
     "output_type": "stream",
     "text": [
      "[================================                  ] 64.52%\n",
      "Testing pipeline_2D_thr_0.2_flow_0.3_2_3 pipeline\n"
     ]
    },
    {
     "name": "stderr",
     "output_type": "stream",
     "text": [
      "100%|██████████| 19/19 [00:00<00:00, 2576.19it/s]"
     ]
    },
    {
     "name": "stdout",
     "output_type": "stream",
     "text": [
      "[================================                  ] 64.62%"
     ]
    },
    {
     "name": "stderr",
     "output_type": "stream",
     "text": [
      "\n"
     ]
    },
    {
     "name": "stdout",
     "output_type": "stream",
     "text": [
      "\n",
      "Testing pipeline_2D_thr_0.2_flow_0.3_3_0 pipeline\n"
     ]
    },
    {
     "name": "stderr",
     "output_type": "stream",
     "text": [
      "100%|██████████| 19/19 [00:00<00:00, 3435.88it/s]\n"
     ]
    },
    {
     "name": "stdout",
     "output_type": "stream",
     "text": [
      "[================================                  ] 64.71%\n",
      "Testing pipeline_2D_thr_0.2_flow_0.3_3_1 pipeline\n"
     ]
    },
    {
     "name": "stderr",
     "output_type": "stream",
     "text": [
      "100%|██████████| 19/19 [00:00<00:00, 3624.33it/s]\n"
     ]
    },
    {
     "name": "stdout",
     "output_type": "stream",
     "text": [
      "Number of cells after linking: 127\n",
      "[================================                  ] 64.81%\n",
      "Testing pipeline_2D_thr_0.2_flow_0.3_3_2 pipeline\n"
     ]
    },
    {
     "name": "stderr",
     "output_type": "stream",
     "text": [
      "100%|██████████| 19/19 [00:00<00:00, 3705.04it/s]\n"
     ]
    },
    {
     "name": "stdout",
     "output_type": "stream",
     "text": [
      "[================================                  ] 64.90%\n",
      "Testing pipeline_2D_thr_0.2_flow_0.3_3_3 pipeline\n"
     ]
    },
    {
     "name": "stderr",
     "output_type": "stream",
     "text": [
      "100%|██████████| 19/19 [00:00<00:00, 3521.20it/s]"
     ]
    },
    {
     "name": "stdout",
     "output_type": "stream",
     "text": [
      "[================================                  ] 65.00%"
     ]
    },
    {
     "name": "stderr",
     "output_type": "stream",
     "text": [
      "\n"
     ]
    },
    {
     "name": "stdout",
     "output_type": "stream",
     "text": [
      "\n",
      "Testing pipeline_2D_thr_0.2_flow_0.3_4_0 pipeline\n"
     ]
    },
    {
     "name": "stderr",
     "output_type": "stream",
     "text": [
      "100%|██████████| 19/19 [00:00<00:00, 3542.64it/s]\n"
     ]
    },
    {
     "name": "stdout",
     "output_type": "stream",
     "text": [
      "[================================                  ] 65.10%\n",
      "Testing pipeline_2D_thr_0.2_flow_0.3_4_1 pipeline\n"
     ]
    },
    {
     "name": "stderr",
     "output_type": "stream",
     "text": [
      "100%|██████████| 19/19 [00:00<00:00, 3933.26it/s]\n"
     ]
    },
    {
     "name": "stdout",
     "output_type": "stream",
     "text": [
      "Number of cells after linking: 134\n",
      "[================================                  ] 65.19%\n",
      "Testing pipeline_2D_thr_0.2_flow_0.3_4_2 pipeline\n"
     ]
    },
    {
     "name": "stderr",
     "output_type": "stream",
     "text": [
      "100%|██████████| 19/19 [00:00<00:00, 4157.98it/s]\n"
     ]
    },
    {
     "name": "stdout",
     "output_type": "stream",
     "text": [
      "[================================                  ] 65.29%\n",
      "Testing pipeline_2D_thr_0.2_flow_0.3_4_3 pipeline\n"
     ]
    },
    {
     "name": "stderr",
     "output_type": "stream",
     "text": [
      "100%|██████████| 19/19 [00:00<00:00, 3698.17it/s]"
     ]
    },
    {
     "name": "stdout",
     "output_type": "stream",
     "text": [
      "[================================                  ] 65.38%"
     ]
    },
    {
     "name": "stderr",
     "output_type": "stream",
     "text": [
      "\n"
     ]
    },
    {
     "name": "stdout",
     "output_type": "stream",
     "text": [
      "\n",
      "Testing pipeline_2D_thr_0.2_flow_0.5_0_0 pipeline\n"
     ]
    },
    {
     "name": "stderr",
     "output_type": "stream",
     "text": [
      "100%|██████████| 19/19 [00:00<00:00, 3842.60it/s]\n"
     ]
    },
    {
     "name": "stdout",
     "output_type": "stream",
     "text": [
      "[================================                  ] 65.48%\n",
      "Testing pipeline_2D_thr_0.2_flow_0.5_0_1 pipeline\n"
     ]
    },
    {
     "name": "stderr",
     "output_type": "stream",
     "text": [
      "100%|██████████| 19/19 [00:00<00:00, 3741.22it/s]\n"
     ]
    },
    {
     "name": "stdout",
     "output_type": "stream",
     "text": [
      "Number of cells after linking: 139\n",
      "[================================                  ] 65.58%\n",
      "Testing pipeline_2D_thr_0.2_flow_0.5_0_2 pipeline\n"
     ]
    },
    {
     "name": "stderr",
     "output_type": "stream",
     "text": [
      "100%|██████████| 19/19 [00:00<00:00, 4295.13it/s]\n"
     ]
    },
    {
     "name": "stdout",
     "output_type": "stream",
     "text": [
      "[================================                  ] 65.67%\n",
      "Testing pipeline_2D_thr_0.2_flow_0.5_0_3 pipeline\n"
     ]
    },
    {
     "name": "stderr",
     "output_type": "stream",
     "text": [
      "100%|██████████| 19/19 [00:00<00:00, 3827.65it/s]"
     ]
    },
    {
     "name": "stdout",
     "output_type": "stream",
     "text": [
      "[================================                  ] 65.77%"
     ]
    },
    {
     "name": "stderr",
     "output_type": "stream",
     "text": [
      "\n"
     ]
    },
    {
     "name": "stdout",
     "output_type": "stream",
     "text": [
      "\n",
      "Testing pipeline_2D_thr_0.2_flow_0.5_1_0 pipeline\n"
     ]
    },
    {
     "name": "stderr",
     "output_type": "stream",
     "text": [
      "100%|██████████| 19/19 [00:00<00:00, 3811.91it/s]\n"
     ]
    },
    {
     "name": "stdout",
     "output_type": "stream",
     "text": [
      "[================================                  ] 65.87%\n",
      "Testing pipeline_2D_thr_0.2_flow_0.5_1_1 pipeline\n"
     ]
    },
    {
     "name": "stderr",
     "output_type": "stream",
     "text": [
      "100%|██████████| 19/19 [00:00<00:00, 3595.39it/s]\n"
     ]
    },
    {
     "name": "stdout",
     "output_type": "stream",
     "text": [
      "Number of cells after linking: 132\n",
      "[================================                  ] 65.96%\n",
      "Testing pipeline_2D_thr_0.2_flow_0.5_1_2 pipeline\n"
     ]
    },
    {
     "name": "stderr",
     "output_type": "stream",
     "text": [
      "100%|██████████| 19/19 [00:00<00:00, 3459.90it/s]\n"
     ]
    },
    {
     "name": "stdout",
     "output_type": "stream",
     "text": [
      "[=================================                 ] 66.06%\n",
      "Testing pipeline_2D_thr_0.2_flow_0.5_1_3 pipeline\n"
     ]
    },
    {
     "name": "stderr",
     "output_type": "stream",
     "text": [
      "100%|██████████| 19/19 [00:00<00:00, 3486.38it/s]"
     ]
    },
    {
     "name": "stdout",
     "output_type": "stream",
     "text": [
      "[=================================                 ] 66.15%"
     ]
    },
    {
     "name": "stderr",
     "output_type": "stream",
     "text": [
      "\n"
     ]
    },
    {
     "name": "stdout",
     "output_type": "stream",
     "text": [
      "\n",
      "Testing pipeline_2D_thr_0.2_flow_0.5_2_0 pipeline\n"
     ]
    },
    {
     "name": "stderr",
     "output_type": "stream",
     "text": [
      "100%|██████████| 19/19 [00:00<00:00, 3723.57it/s]\n"
     ]
    },
    {
     "name": "stdout",
     "output_type": "stream",
     "text": [
      "[=================================                 ] 66.25%\n",
      "Testing pipeline_2D_thr_0.2_flow_0.5_2_1 pipeline\n"
     ]
    },
    {
     "name": "stderr",
     "output_type": "stream",
     "text": [
      "100%|██████████| 19/19 [00:00<00:00, 3735.79it/s]\n"
     ]
    },
    {
     "name": "stdout",
     "output_type": "stream",
     "text": [
      "Number of cells after linking: 130\n",
      "[=================================                 ] 66.35%\n",
      "Testing pipeline_2D_thr_0.2_flow_0.5_2_2 pipeline\n"
     ]
    },
    {
     "name": "stderr",
     "output_type": "stream",
     "text": [
      "100%|██████████| 19/19 [00:00<00:00, 3625.98it/s]\n"
     ]
    },
    {
     "name": "stdout",
     "output_type": "stream",
     "text": [
      "[=================================                 ] 66.44%\n",
      "Testing pipeline_2D_thr_0.2_flow_0.5_2_3 pipeline\n"
     ]
    },
    {
     "name": "stderr",
     "output_type": "stream",
     "text": [
      "100%|██████████| 19/19 [00:00<00:00, 3552.75it/s]"
     ]
    },
    {
     "name": "stdout",
     "output_type": "stream",
     "text": [
      "[=================================                 ] 66.54%"
     ]
    },
    {
     "name": "stderr",
     "output_type": "stream",
     "text": [
      "\n"
     ]
    },
    {
     "name": "stdout",
     "output_type": "stream",
     "text": [
      "\n",
      "Testing pipeline_2D_thr_0.2_flow_0.5_3_0 pipeline\n"
     ]
    },
    {
     "name": "stderr",
     "output_type": "stream",
     "text": [
      "100%|██████████| 19/19 [00:00<00:00, 4095.58it/s]\n"
     ]
    },
    {
     "name": "stdout",
     "output_type": "stream",
     "text": [
      "[=================================                 ] 66.63%\n",
      "Testing pipeline_2D_thr_0.2_flow_0.5_3_1 pipeline\n"
     ]
    },
    {
     "name": "stderr",
     "output_type": "stream",
     "text": [
      "100%|██████████| 19/19 [00:00<00:00, 3626.14it/s]\n"
     ]
    },
    {
     "name": "stdout",
     "output_type": "stream",
     "text": [
      "Number of cells after linking: 127\n",
      "[=================================                 ] 66.73%\n",
      "Testing pipeline_2D_thr_0.2_flow_0.5_3_2 pipeline\n"
     ]
    },
    {
     "name": "stderr",
     "output_type": "stream",
     "text": [
      "100%|██████████| 19/19 [00:00<00:00, 2821.95it/s]\n"
     ]
    },
    {
     "name": "stdout",
     "output_type": "stream",
     "text": [
      "[=================================                 ] 66.83%\n",
      "Testing pipeline_2D_thr_0.2_flow_0.5_3_3 pipeline\n"
     ]
    },
    {
     "name": "stderr",
     "output_type": "stream",
     "text": [
      "100%|██████████| 19/19 [00:00<00:00, 3602.70it/s]"
     ]
    },
    {
     "name": "stdout",
     "output_type": "stream",
     "text": [
      "[=================================                 ] 66.92%"
     ]
    },
    {
     "name": "stderr",
     "output_type": "stream",
     "text": [
      "\n"
     ]
    },
    {
     "name": "stdout",
     "output_type": "stream",
     "text": [
      "\n",
      "Testing pipeline_2D_thr_0.2_flow_0.5_4_0 pipeline\n"
     ]
    },
    {
     "name": "stderr",
     "output_type": "stream",
     "text": [
      "100%|██████████| 19/19 [00:00<00:00, 3792.86it/s]\n"
     ]
    },
    {
     "name": "stdout",
     "output_type": "stream",
     "text": [
      "[=================================                 ] 67.02%\n",
      "Testing pipeline_2D_thr_0.2_flow_0.5_4_1 pipeline\n"
     ]
    },
    {
     "name": "stderr",
     "output_type": "stream",
     "text": [
      "100%|██████████| 19/19 [00:00<00:00, 4438.42it/s]\n"
     ]
    },
    {
     "name": "stdout",
     "output_type": "stream",
     "text": [
      "Number of cells after linking: 134\n",
      "[=================================                 ] 67.12%\n",
      "Testing pipeline_2D_thr_0.2_flow_0.5_4_2 pipeline\n"
     ]
    },
    {
     "name": "stderr",
     "output_type": "stream",
     "text": [
      "100%|██████████| 19/19 [00:00<00:00, 3837.24it/s]\n"
     ]
    },
    {
     "name": "stdout",
     "output_type": "stream",
     "text": [
      "[=================================                 ] 67.21%\n",
      "Testing pipeline_2D_thr_0.2_flow_0.5_4_3 pipeline\n"
     ]
    },
    {
     "name": "stderr",
     "output_type": "stream",
     "text": [
      "100%|██████████| 19/19 [00:00<00:00, 3687.90it/s]"
     ]
    },
    {
     "name": "stdout",
     "output_type": "stream",
     "text": [
      "[=================================                 ] 67.31%"
     ]
    },
    {
     "name": "stderr",
     "output_type": "stream",
     "text": [
      "\n"
     ]
    },
    {
     "name": "stdout",
     "output_type": "stream",
     "text": [
      "\n",
      "Testing pipeline_2D_thr_0.2_flow_0.6_0_0 pipeline\n"
     ]
    },
    {
     "name": "stderr",
     "output_type": "stream",
     "text": [
      "100%|██████████| 19/19 [00:00<00:00, 3753.20it/s]\n"
     ]
    },
    {
     "name": "stdout",
     "output_type": "stream",
     "text": [
      "[=================================                 ] 67.40%\n",
      "Testing pipeline_2D_thr_0.2_flow_0.6_0_1 pipeline\n"
     ]
    },
    {
     "name": "stderr",
     "output_type": "stream",
     "text": [
      "100%|██████████| 19/19 [00:00<00:00, 3788.71it/s]\n"
     ]
    },
    {
     "name": "stdout",
     "output_type": "stream",
     "text": [
      "Number of cells after linking: 139\n",
      "[=================================                 ] 67.50%\n",
      "Testing pipeline_2D_thr_0.2_flow_0.6_0_2 pipeline\n"
     ]
    },
    {
     "name": "stderr",
     "output_type": "stream",
     "text": [
      "100%|██████████| 19/19 [00:00<00:00, 3971.88it/s]\n"
     ]
    },
    {
     "name": "stdout",
     "output_type": "stream",
     "text": [
      "[=================================                 ] 67.60%\n",
      "Testing pipeline_2D_thr_0.2_flow_0.6_0_3 pipeline\n"
     ]
    },
    {
     "name": "stderr",
     "output_type": "stream",
     "text": [
      "100%|██████████| 19/19 [00:00<00:00, 3596.36it/s]"
     ]
    },
    {
     "name": "stdout",
     "output_type": "stream",
     "text": [
      "[=================================                 ] 67.69%"
     ]
    },
    {
     "name": "stderr",
     "output_type": "stream",
     "text": [
      "\n"
     ]
    },
    {
     "name": "stdout",
     "output_type": "stream",
     "text": [
      "\n",
      "Testing pipeline_2D_thr_0.2_flow_0.6_1_0 pipeline\n"
     ]
    },
    {
     "name": "stderr",
     "output_type": "stream",
     "text": [
      "100%|██████████| 19/19 [00:00<00:00, 3771.14it/s]\n"
     ]
    },
    {
     "name": "stdout",
     "output_type": "stream",
     "text": [
      "[=================================                 ] 67.79%\n",
      "Testing pipeline_2D_thr_0.2_flow_0.6_1_1 pipeline\n"
     ]
    },
    {
     "name": "stderr",
     "output_type": "stream",
     "text": [
      "100%|██████████| 19/19 [00:00<00:00, 3562.60it/s]\n"
     ]
    },
    {
     "name": "stdout",
     "output_type": "stream",
     "text": [
      "Number of cells after linking: 132\n",
      "[=================================                 ] 67.88%\n",
      "Testing pipeline_2D_thr_0.2_flow_0.6_1_2 pipeline\n"
     ]
    },
    {
     "name": "stderr",
     "output_type": "stream",
     "text": [
      "100%|██████████| 19/19 [00:00<00:00, 3649.56it/s]\n"
     ]
    },
    {
     "name": "stdout",
     "output_type": "stream",
     "text": [
      "[=================================                 ] 67.98%\n",
      "Testing pipeline_2D_thr_0.2_flow_0.6_1_3 pipeline\n"
     ]
    },
    {
     "name": "stderr",
     "output_type": "stream",
     "text": [
      "100%|██████████| 19/19 [00:00<00:00, 3665.68it/s]"
     ]
    },
    {
     "name": "stdout",
     "output_type": "stream",
     "text": [
      "[==================================                ] 68.08%"
     ]
    },
    {
     "name": "stderr",
     "output_type": "stream",
     "text": [
      "\n"
     ]
    },
    {
     "name": "stdout",
     "output_type": "stream",
     "text": [
      "\n",
      "Testing pipeline_2D_thr_0.2_flow_0.6_2_0 pipeline\n"
     ]
    },
    {
     "name": "stderr",
     "output_type": "stream",
     "text": [
      "100%|██████████| 19/19 [00:00<00:00, 3400.40it/s]\n"
     ]
    },
    {
     "name": "stdout",
     "output_type": "stream",
     "text": [
      "[==================================                ] 68.17%\n",
      "Testing pipeline_2D_thr_0.2_flow_0.6_2_1 pipeline\n"
     ]
    },
    {
     "name": "stderr",
     "output_type": "stream",
     "text": [
      "100%|██████████| 19/19 [00:00<00:00, 3838.72it/s]\n"
     ]
    },
    {
     "name": "stdout",
     "output_type": "stream",
     "text": [
      "Number of cells after linking: 130\n",
      "[==================================                ] 68.27%\n",
      "Testing pipeline_2D_thr_0.2_flow_0.6_2_2 pipeline\n"
     ]
    },
    {
     "name": "stderr",
     "output_type": "stream",
     "text": [
      "100%|██████████| 19/19 [00:00<00:00, 3743.86it/s]\n"
     ]
    },
    {
     "name": "stdout",
     "output_type": "stream",
     "text": [
      "[==================================                ] 68.37%\n",
      "Testing pipeline_2D_thr_0.2_flow_0.6_2_3 pipeline\n"
     ]
    },
    {
     "name": "stderr",
     "output_type": "stream",
     "text": [
      "100%|██████████| 19/19 [00:00<00:00, 3711.25it/s]"
     ]
    },
    {
     "name": "stdout",
     "output_type": "stream",
     "text": [
      "[==================================                ] 68.46%"
     ]
    },
    {
     "name": "stderr",
     "output_type": "stream",
     "text": [
      "\n"
     ]
    },
    {
     "name": "stdout",
     "output_type": "stream",
     "text": [
      "\n",
      "Testing pipeline_2D_thr_0.2_flow_0.6_3_0 pipeline\n"
     ]
    },
    {
     "name": "stderr",
     "output_type": "stream",
     "text": [
      "100%|██████████| 19/19 [00:00<00:00, 3732.99it/s]\n"
     ]
    },
    {
     "name": "stdout",
     "output_type": "stream",
     "text": [
      "[==================================                ] 68.56%\n",
      "Testing pipeline_2D_thr_0.2_flow_0.6_3_1 pipeline\n"
     ]
    },
    {
     "name": "stderr",
     "output_type": "stream",
     "text": [
      "100%|██████████| 19/19 [00:00<00:00, 3516.54it/s]\n"
     ]
    },
    {
     "name": "stdout",
     "output_type": "stream",
     "text": [
      "Number of cells after linking: 127\n",
      "[==================================                ] 68.65%\n",
      "Testing pipeline_2D_thr_0.2_flow_0.6_3_2 pipeline\n"
     ]
    },
    {
     "name": "stderr",
     "output_type": "stream",
     "text": [
      "100%|██████████| 19/19 [00:00<00:00, 4143.49it/s]\n"
     ]
    },
    {
     "name": "stdout",
     "output_type": "stream",
     "text": [
      "[==================================                ] 68.75%\n",
      "Testing pipeline_2D_thr_0.2_flow_0.6_3_3 pipeline\n"
     ]
    },
    {
     "name": "stderr",
     "output_type": "stream",
     "text": [
      "100%|██████████| 19/19 [00:00<00:00, 3483.95it/s]"
     ]
    },
    {
     "name": "stdout",
     "output_type": "stream",
     "text": [
      "[==================================                ] 68.85%"
     ]
    },
    {
     "name": "stderr",
     "output_type": "stream",
     "text": [
      "\n"
     ]
    },
    {
     "name": "stdout",
     "output_type": "stream",
     "text": [
      "\n",
      "Testing pipeline_2D_thr_0.2_flow_0.6_4_0 pipeline\n"
     ]
    },
    {
     "name": "stderr",
     "output_type": "stream",
     "text": [
      "100%|██████████| 19/19 [00:00<00:00, 3840.57it/s]\n"
     ]
    },
    {
     "name": "stdout",
     "output_type": "stream",
     "text": [
      "[==================================                ] 68.94%\n",
      "Testing pipeline_2D_thr_0.2_flow_0.6_4_1 pipeline\n"
     ]
    },
    {
     "name": "stderr",
     "output_type": "stream",
     "text": [
      "100%|██████████| 19/19 [00:00<00:00, 3428.34it/s]\n"
     ]
    },
    {
     "name": "stdout",
     "output_type": "stream",
     "text": [
      "Number of cells after linking: 134\n",
      "[==================================                ] 69.04%\n",
      "Testing pipeline_2D_thr_0.2_flow_0.6_4_2 pipeline\n"
     ]
    },
    {
     "name": "stderr",
     "output_type": "stream",
     "text": [
      "100%|██████████| 19/19 [00:00<00:00, 4211.37it/s]\n"
     ]
    },
    {
     "name": "stdout",
     "output_type": "stream",
     "text": [
      "[==================================                ] 69.13%\n",
      "Testing pipeline_2D_thr_0.2_flow_0.6_4_3 pipeline\n"
     ]
    },
    {
     "name": "stderr",
     "output_type": "stream",
     "text": [
      "100%|██████████| 19/19 [00:00<00:00, 3748.44it/s]"
     ]
    },
    {
     "name": "stdout",
     "output_type": "stream",
     "text": [
      "[==================================                ] 69.23%"
     ]
    },
    {
     "name": "stderr",
     "output_type": "stream",
     "text": [
      "\n"
     ]
    },
    {
     "name": "stdout",
     "output_type": "stream",
     "text": [
      "\n",
      "Testing pipeline_2D_thr_0.3_flow_0.2_0_0 pipeline\n"
     ]
    },
    {
     "name": "stderr",
     "output_type": "stream",
     "text": [
      "100%|██████████| 19/19 [00:00<00:00, 4028.30it/s]\n"
     ]
    },
    {
     "name": "stdout",
     "output_type": "stream",
     "text": [
      "[==================================                ] 69.33%\n",
      "Testing pipeline_2D_thr_0.3_flow_0.2_0_1 pipeline\n"
     ]
    },
    {
     "name": "stderr",
     "output_type": "stream",
     "text": [
      "100%|██████████| 19/19 [00:00<00:00, 3586.33it/s]\n"
     ]
    },
    {
     "name": "stdout",
     "output_type": "stream",
     "text": [
      "Number of cells after linking: 139\n",
      "[==================================                ] 69.42%\n",
      "Testing pipeline_2D_thr_0.3_flow_0.2_0_2 pipeline\n"
     ]
    },
    {
     "name": "stderr",
     "output_type": "stream",
     "text": [
      "100%|██████████| 19/19 [00:00<00:00, 4178.91it/s]\n"
     ]
    },
    {
     "name": "stdout",
     "output_type": "stream",
     "text": [
      "[==================================                ] 69.52%\n",
      "Testing pipeline_2D_thr_0.3_flow_0.2_0_3 pipeline\n"
     ]
    },
    {
     "name": "stderr",
     "output_type": "stream",
     "text": [
      "100%|██████████| 19/19 [00:00<00:00, 3852.82it/s]"
     ]
    },
    {
     "name": "stdout",
     "output_type": "stream",
     "text": [
      "[==================================                ] 69.62%"
     ]
    },
    {
     "name": "stderr",
     "output_type": "stream",
     "text": [
      "\n"
     ]
    },
    {
     "name": "stdout",
     "output_type": "stream",
     "text": [
      "\n",
      "Testing pipeline_2D_thr_0.3_flow_0.2_1_0 pipeline\n"
     ]
    },
    {
     "name": "stderr",
     "output_type": "stream",
     "text": [
      "100%|██████████| 19/19 [00:00<00:00, 3991.37it/s]\n"
     ]
    },
    {
     "name": "stdout",
     "output_type": "stream",
     "text": [
      "[==================================                ] 69.71%\n",
      "Testing pipeline_2D_thr_0.3_flow_0.2_1_1 pipeline\n"
     ]
    },
    {
     "name": "stderr",
     "output_type": "stream",
     "text": [
      "100%|██████████| 19/19 [00:00<00:00, 3506.02it/s]\n"
     ]
    },
    {
     "name": "stdout",
     "output_type": "stream",
     "text": [
      "Number of cells after linking: 132\n",
      "[==================================                ] 69.81%\n",
      "Testing pipeline_2D_thr_0.3_flow_0.2_1_2 pipeline\n"
     ]
    },
    {
     "name": "stderr",
     "output_type": "stream",
     "text": [
      "100%|██████████| 19/19 [00:00<00:00, 3582.14it/s]\n"
     ]
    },
    {
     "name": "stdout",
     "output_type": "stream",
     "text": [
      "[==================================                ] 69.90%\n",
      "Testing pipeline_2D_thr_0.3_flow_0.2_1_3 pipeline\n"
     ]
    },
    {
     "name": "stderr",
     "output_type": "stream",
     "text": [
      "100%|██████████| 19/19 [00:00<00:00, 4014.09it/s]"
     ]
    },
    {
     "name": "stdout",
     "output_type": "stream",
     "text": [
      "[===================================               ] 70.00%"
     ]
    },
    {
     "name": "stderr",
     "output_type": "stream",
     "text": [
      "\n"
     ]
    },
    {
     "name": "stdout",
     "output_type": "stream",
     "text": [
      "\n",
      "Testing pipeline_2D_thr_0.3_flow_0.2_2_0 pipeline\n"
     ]
    },
    {
     "name": "stderr",
     "output_type": "stream",
     "text": [
      "100%|██████████| 19/19 [00:00<00:00, 3618.24it/s]\n"
     ]
    },
    {
     "name": "stdout",
     "output_type": "stream",
     "text": [
      "[===================================               ] 70.10%\n",
      "Testing pipeline_2D_thr_0.3_flow_0.2_2_1 pipeline\n"
     ]
    },
    {
     "name": "stderr",
     "output_type": "stream",
     "text": [
      "100%|██████████| 19/19 [00:00<00:00, 4175.62it/s]\n"
     ]
    },
    {
     "name": "stdout",
     "output_type": "stream",
     "text": [
      "Number of cells after linking: 130\n",
      "[===================================               ] 70.19%\n",
      "Testing pipeline_2D_thr_0.3_flow_0.2_2_2 pipeline\n"
     ]
    },
    {
     "name": "stderr",
     "output_type": "stream",
     "text": [
      "100%|██████████| 19/19 [00:00<00:00, 2680.70it/s]\n"
     ]
    },
    {
     "name": "stdout",
     "output_type": "stream",
     "text": [
      "[===================================               ] 70.29%\n",
      "Testing pipeline_2D_thr_0.3_flow_0.2_2_3 pipeline\n"
     ]
    },
    {
     "name": "stderr",
     "output_type": "stream",
     "text": [
      "100%|██████████| 19/19 [00:00<00:00, 3450.61it/s]"
     ]
    },
    {
     "name": "stdout",
     "output_type": "stream",
     "text": [
      "[===================================               ] 70.38%"
     ]
    },
    {
     "name": "stderr",
     "output_type": "stream",
     "text": [
      "\n"
     ]
    },
    {
     "name": "stdout",
     "output_type": "stream",
     "text": [
      "\n",
      "Testing pipeline_2D_thr_0.3_flow_0.2_3_0 pipeline\n"
     ]
    },
    {
     "name": "stderr",
     "output_type": "stream",
     "text": [
      "100%|██████████| 19/19 [00:00<00:00, 3973.46it/s]\n"
     ]
    },
    {
     "name": "stdout",
     "output_type": "stream",
     "text": [
      "[===================================               ] 70.48%\n",
      "Testing pipeline_2D_thr_0.3_flow_0.2_3_1 pipeline\n"
     ]
    },
    {
     "name": "stderr",
     "output_type": "stream",
     "text": [
      "100%|██████████| 19/19 [00:00<00:00, 3548.32it/s]\n"
     ]
    },
    {
     "name": "stdout",
     "output_type": "stream",
     "text": [
      "Number of cells after linking: 127\n",
      "[===================================               ] 70.58%\n",
      "Testing pipeline_2D_thr_0.3_flow_0.2_3_2 pipeline\n"
     ]
    },
    {
     "name": "stderr",
     "output_type": "stream",
     "text": [
      "100%|██████████| 19/19 [00:00<00:00, 3539.34it/s]\n"
     ]
    },
    {
     "name": "stdout",
     "output_type": "stream",
     "text": [
      "[===================================               ] 70.67%\n",
      "Testing pipeline_2D_thr_0.3_flow_0.2_3_3 pipeline\n"
     ]
    },
    {
     "name": "stderr",
     "output_type": "stream",
     "text": [
      "100%|██████████| 19/19 [00:00<00:00, 3777.58it/s]"
     ]
    },
    {
     "name": "stdout",
     "output_type": "stream",
     "text": [
      "[===================================               ] 70.77%"
     ]
    },
    {
     "name": "stderr",
     "output_type": "stream",
     "text": [
      "\n"
     ]
    },
    {
     "name": "stdout",
     "output_type": "stream",
     "text": [
      "\n",
      "Testing pipeline_2D_thr_0.3_flow_0.2_4_0 pipeline\n"
     ]
    },
    {
     "name": "stderr",
     "output_type": "stream",
     "text": [
      "100%|██████████| 19/19 [00:00<00:00, 4190.55it/s]\n"
     ]
    },
    {
     "name": "stdout",
     "output_type": "stream",
     "text": [
      "[===================================               ] 70.87%\n",
      "Testing pipeline_2D_thr_0.3_flow_0.2_4_1 pipeline\n"
     ]
    },
    {
     "name": "stderr",
     "output_type": "stream",
     "text": [
      "100%|██████████| 19/19 [00:00<00:00, 4313.73it/s]\n"
     ]
    },
    {
     "name": "stdout",
     "output_type": "stream",
     "text": [
      "Number of cells after linking: 134\n",
      "[===================================               ] 70.96%\n",
      "Testing pipeline_2D_thr_0.3_flow_0.2_4_2 pipeline\n"
     ]
    },
    {
     "name": "stderr",
     "output_type": "stream",
     "text": [
      "100%|██████████| 19/19 [00:00<00:00, 4334.84it/s]\n"
     ]
    },
    {
     "name": "stdout",
     "output_type": "stream",
     "text": [
      "[===================================               ] 71.06%\n",
      "Testing pipeline_2D_thr_0.3_flow_0.2_4_3 pipeline\n"
     ]
    },
    {
     "name": "stderr",
     "output_type": "stream",
     "text": [
      "100%|██████████| 19/19 [00:00<00:00, 3838.53it/s]"
     ]
    },
    {
     "name": "stdout",
     "output_type": "stream",
     "text": [
      "[===================================               ] 71.15%"
     ]
    },
    {
     "name": "stderr",
     "output_type": "stream",
     "text": [
      "\n"
     ]
    },
    {
     "name": "stdout",
     "output_type": "stream",
     "text": [
      "\n",
      "Testing pipeline_2D_thr_0.3_flow_0.3_0_0 pipeline\n"
     ]
    },
    {
     "name": "stderr",
     "output_type": "stream",
     "text": [
      "100%|██████████| 19/19 [00:00<00:00, 3779.01it/s]\n"
     ]
    },
    {
     "name": "stdout",
     "output_type": "stream",
     "text": [
      "[===================================               ] 71.25%\n",
      "Testing pipeline_2D_thr_0.3_flow_0.3_0_1 pipeline\n"
     ]
    },
    {
     "name": "stderr",
     "output_type": "stream",
     "text": [
      "100%|██████████| 19/19 [00:00<00:00, 3994.38it/s]\n"
     ]
    },
    {
     "name": "stdout",
     "output_type": "stream",
     "text": [
      "Number of cells after linking: 139\n",
      "[===================================               ] 71.35%\n",
      "Testing pipeline_2D_thr_0.3_flow_0.3_0_2 pipeline\n"
     ]
    },
    {
     "name": "stderr",
     "output_type": "stream",
     "text": [
      "100%|██████████| 19/19 [00:00<00:00, 4160.58it/s]\n"
     ]
    },
    {
     "name": "stdout",
     "output_type": "stream",
     "text": [
      "[===================================               ] 71.44%\n",
      "Testing pipeline_2D_thr_0.3_flow_0.3_0_3 pipeline\n"
     ]
    },
    {
     "name": "stderr",
     "output_type": "stream",
     "text": [
      "100%|██████████| 19/19 [00:00<00:00, 4126.33it/s]"
     ]
    },
    {
     "name": "stdout",
     "output_type": "stream",
     "text": [
      "[===================================               ] 71.54%"
     ]
    },
    {
     "name": "stderr",
     "output_type": "stream",
     "text": [
      "\n"
     ]
    },
    {
     "name": "stdout",
     "output_type": "stream",
     "text": [
      "\n",
      "Testing pipeline_2D_thr_0.3_flow_0.3_1_0 pipeline\n"
     ]
    },
    {
     "name": "stderr",
     "output_type": "stream",
     "text": [
      "100%|██████████| 19/19 [00:00<00:00, 3650.90it/s]\n"
     ]
    },
    {
     "name": "stdout",
     "output_type": "stream",
     "text": [
      "[===================================               ] 71.63%\n",
      "Testing pipeline_2D_thr_0.3_flow_0.3_1_1 pipeline\n"
     ]
    },
    {
     "name": "stderr",
     "output_type": "stream",
     "text": [
      "100%|██████████| 19/19 [00:00<00:00, 3761.71it/s]\n"
     ]
    },
    {
     "name": "stdout",
     "output_type": "stream",
     "text": [
      "Number of cells after linking: 132\n",
      "[===================================               ] 71.73%\n",
      "Testing pipeline_2D_thr_0.3_flow_0.3_1_2 pipeline\n"
     ]
    },
    {
     "name": "stderr",
     "output_type": "stream",
     "text": [
      "100%|██████████| 19/19 [00:00<00:00, 2584.63it/s]\n"
     ]
    },
    {
     "name": "stdout",
     "output_type": "stream",
     "text": [
      "[===================================               ] 71.83%\n",
      "Testing pipeline_2D_thr_0.3_flow_0.3_1_3 pipeline\n"
     ]
    },
    {
     "name": "stderr",
     "output_type": "stream",
     "text": [
      "100%|██████████| 19/19 [00:00<00:00, 4067.77it/s]"
     ]
    },
    {
     "name": "stdout",
     "output_type": "stream",
     "text": [
      "[===================================               ] 71.92%"
     ]
    },
    {
     "name": "stderr",
     "output_type": "stream",
     "text": [
      "\n"
     ]
    },
    {
     "name": "stdout",
     "output_type": "stream",
     "text": [
      "\n",
      "Testing pipeline_2D_thr_0.3_flow_0.3_2_0 pipeline\n"
     ]
    },
    {
     "name": "stderr",
     "output_type": "stream",
     "text": [
      "100%|██████████| 19/19 [00:00<00:00, 3725.66it/s]\n"
     ]
    },
    {
     "name": "stdout",
     "output_type": "stream",
     "text": [
      "[====================================              ] 72.02%\n",
      "Testing pipeline_2D_thr_0.3_flow_0.3_2_1 pipeline\n"
     ]
    },
    {
     "name": "stderr",
     "output_type": "stream",
     "text": [
      "100%|██████████| 19/19 [00:00<00:00, 3553.07it/s]\n"
     ]
    },
    {
     "name": "stdout",
     "output_type": "stream",
     "text": [
      "Number of cells after linking: 130\n",
      "[====================================              ] 72.12%\n",
      "Testing pipeline_2D_thr_0.3_flow_0.3_2_2 pipeline\n"
     ]
    },
    {
     "name": "stderr",
     "output_type": "stream",
     "text": [
      "100%|██████████| 19/19 [00:00<00:00, 3104.47it/s]\n"
     ]
    },
    {
     "name": "stdout",
     "output_type": "stream",
     "text": [
      "[====================================              ] 72.21%\n",
      "Testing pipeline_2D_thr_0.3_flow_0.3_2_3 pipeline\n"
     ]
    },
    {
     "name": "stderr",
     "output_type": "stream",
     "text": [
      "100%|██████████| 19/19 [00:00<00:00, 3735.09it/s]"
     ]
    },
    {
     "name": "stdout",
     "output_type": "stream",
     "text": [
      "[====================================              ] 72.31%"
     ]
    },
    {
     "name": "stderr",
     "output_type": "stream",
     "text": [
      "\n"
     ]
    },
    {
     "name": "stdout",
     "output_type": "stream",
     "text": [
      "\n",
      "Testing pipeline_2D_thr_0.3_flow_0.3_3_0 pipeline\n"
     ]
    },
    {
     "name": "stderr",
     "output_type": "stream",
     "text": [
      "100%|██████████| 19/19 [00:00<00:00, 3473.01it/s]\n"
     ]
    },
    {
     "name": "stdout",
     "output_type": "stream",
     "text": [
      "[====================================              ] 72.40%\n",
      "Testing pipeline_2D_thr_0.3_flow_0.3_3_1 pipeline\n"
     ]
    },
    {
     "name": "stderr",
     "output_type": "stream",
     "text": [
      "100%|██████████| 19/19 [00:00<00:00, 3336.06it/s]\n"
     ]
    },
    {
     "name": "stdout",
     "output_type": "stream",
     "text": [
      "Number of cells after linking: 127\n",
      "[====================================              ] 72.50%\n",
      "Testing pipeline_2D_thr_0.3_flow_0.3_3_2 pipeline\n"
     ]
    },
    {
     "name": "stderr",
     "output_type": "stream",
     "text": [
      "100%|██████████| 19/19 [00:00<00:00, 3472.86it/s]\n"
     ]
    },
    {
     "name": "stdout",
     "output_type": "stream",
     "text": [
      "[====================================              ] 72.60%\n",
      "Testing pipeline_2D_thr_0.3_flow_0.3_3_3 pipeline\n"
     ]
    },
    {
     "name": "stderr",
     "output_type": "stream",
     "text": [
      "100%|██████████| 19/19 [00:00<00:00, 3456.89it/s]"
     ]
    },
    {
     "name": "stdout",
     "output_type": "stream",
     "text": [
      "[====================================              ] 72.69%"
     ]
    },
    {
     "name": "stderr",
     "output_type": "stream",
     "text": [
      "\n"
     ]
    },
    {
     "name": "stdout",
     "output_type": "stream",
     "text": [
      "\n",
      "Testing pipeline_2D_thr_0.3_flow_0.3_4_0 pipeline\n"
     ]
    },
    {
     "name": "stderr",
     "output_type": "stream",
     "text": [
      "100%|██████████| 19/19 [00:00<00:00, 3761.00it/s]\n"
     ]
    },
    {
     "name": "stdout",
     "output_type": "stream",
     "text": [
      "[====================================              ] 72.79%\n",
      "Testing pipeline_2D_thr_0.3_flow_0.3_4_1 pipeline\n"
     ]
    },
    {
     "name": "stderr",
     "output_type": "stream",
     "text": [
      "100%|██████████| 19/19 [00:00<00:00, 3670.74it/s]\n"
     ]
    },
    {
     "name": "stdout",
     "output_type": "stream",
     "text": [
      "Number of cells after linking: 134\n",
      "[====================================              ] 72.88%\n",
      "Testing pipeline_2D_thr_0.3_flow_0.3_4_2 pipeline\n"
     ]
    },
    {
     "name": "stderr",
     "output_type": "stream",
     "text": [
      "100%|██████████| 19/19 [00:00<00:00, 2821.65it/s]\n"
     ]
    },
    {
     "name": "stdout",
     "output_type": "stream",
     "text": [
      "[====================================              ] 72.98%\n",
      "Testing pipeline_2D_thr_0.3_flow_0.3_4_3 pipeline\n"
     ]
    },
    {
     "name": "stderr",
     "output_type": "stream",
     "text": [
      "100%|██████████| 19/19 [00:00<00:00, 3836.50it/s]"
     ]
    },
    {
     "name": "stdout",
     "output_type": "stream",
     "text": [
      "[====================================              ] 73.08%"
     ]
    },
    {
     "name": "stderr",
     "output_type": "stream",
     "text": [
      "\n"
     ]
    },
    {
     "name": "stdout",
     "output_type": "stream",
     "text": [
      "\n",
      "Testing pipeline_2D_thr_0.3_flow_0.5_0_0 pipeline\n"
     ]
    },
    {
     "name": "stderr",
     "output_type": "stream",
     "text": [
      "100%|██████████| 19/19 [00:00<00:00, 3481.36it/s]\n"
     ]
    },
    {
     "name": "stdout",
     "output_type": "stream",
     "text": [
      "[====================================              ] 73.17%\n",
      "Testing pipeline_2D_thr_0.3_flow_0.5_0_1 pipeline\n"
     ]
    },
    {
     "name": "stderr",
     "output_type": "stream",
     "text": [
      "100%|██████████| 19/19 [00:00<00:00, 3573.30it/s]\n"
     ]
    },
    {
     "name": "stdout",
     "output_type": "stream",
     "text": [
      "Number of cells after linking: 139\n",
      "[====================================              ] 73.27%\n",
      "Testing pipeline_2D_thr_0.3_flow_0.5_0_2 pipeline\n"
     ]
    },
    {
     "name": "stderr",
     "output_type": "stream",
     "text": [
      "100%|██████████| 19/19 [00:00<00:00, 3815.38it/s]\n"
     ]
    },
    {
     "name": "stdout",
     "output_type": "stream",
     "text": [
      "[====================================              ] 73.37%\n",
      "Testing pipeline_2D_thr_0.3_flow_0.5_0_3 pipeline\n"
     ]
    },
    {
     "name": "stderr",
     "output_type": "stream",
     "text": [
      "100%|██████████| 19/19 [00:00<00:00, 3783.14it/s]"
     ]
    },
    {
     "name": "stdout",
     "output_type": "stream",
     "text": [
      "[====================================              ] 73.46%"
     ]
    },
    {
     "name": "stderr",
     "output_type": "stream",
     "text": [
      "\n"
     ]
    },
    {
     "name": "stdout",
     "output_type": "stream",
     "text": [
      "\n",
      "Testing pipeline_2D_thr_0.3_flow_0.5_1_0 pipeline\n"
     ]
    },
    {
     "name": "stderr",
     "output_type": "stream",
     "text": [
      "100%|██████████| 19/19 [00:00<00:00, 3879.46it/s]\n"
     ]
    },
    {
     "name": "stdout",
     "output_type": "stream",
     "text": [
      "[====================================              ] 73.56%\n",
      "Testing pipeline_2D_thr_0.3_flow_0.5_1_1 pipeline\n"
     ]
    },
    {
     "name": "stderr",
     "output_type": "stream",
     "text": [
      "100%|██████████| 19/19 [00:00<00:00, 3622.52it/s]\n"
     ]
    },
    {
     "name": "stdout",
     "output_type": "stream",
     "text": [
      "Number of cells after linking: 132\n",
      "[====================================              ] 73.65%\n",
      "Testing pipeline_2D_thr_0.3_flow_0.5_1_2 pipeline\n"
     ]
    },
    {
     "name": "stderr",
     "output_type": "stream",
     "text": [
      "100%|██████████| 19/19 [00:00<00:00, 3909.33it/s]\n"
     ]
    },
    {
     "name": "stdout",
     "output_type": "stream",
     "text": [
      "[====================================              ] 73.75%\n",
      "Testing pipeline_2D_thr_0.3_flow_0.5_1_3 pipeline\n"
     ]
    },
    {
     "name": "stderr",
     "output_type": "stream",
     "text": [
      "100%|██████████| 19/19 [00:00<00:00, 3651.06it/s]"
     ]
    },
    {
     "name": "stdout",
     "output_type": "stream",
     "text": [
      "[====================================              ] 73.85%"
     ]
    },
    {
     "name": "stderr",
     "output_type": "stream",
     "text": [
      "\n"
     ]
    },
    {
     "name": "stdout",
     "output_type": "stream",
     "text": [
      "\n",
      "Testing pipeline_2D_thr_0.3_flow_0.5_2_0 pipeline\n"
     ]
    },
    {
     "name": "stderr",
     "output_type": "stream",
     "text": [
      "100%|██████████| 19/19 [00:00<00:00, 3731.76it/s]\n"
     ]
    },
    {
     "name": "stdout",
     "output_type": "stream",
     "text": [
      "[====================================              ] 73.94%\n",
      "Testing pipeline_2D_thr_0.3_flow_0.5_2_1 pipeline\n"
     ]
    },
    {
     "name": "stderr",
     "output_type": "stream",
     "text": [
      "100%|██████████| 19/19 [00:00<00:00, 3857.30it/s]\n"
     ]
    },
    {
     "name": "stdout",
     "output_type": "stream",
     "text": [
      "Number of cells after linking: 130\n",
      "[=====================================             ] 74.04%\n",
      "Testing pipeline_2D_thr_0.3_flow_0.5_2_2 pipeline\n"
     ]
    },
    {
     "name": "stderr",
     "output_type": "stream",
     "text": [
      "100%|██████████| 19/19 [00:00<00:00, 3517.93it/s]\n"
     ]
    },
    {
     "name": "stdout",
     "output_type": "stream",
     "text": [
      "[=====================================             ] 74.13%\n",
      "Testing pipeline_2D_thr_0.3_flow_0.5_2_3 pipeline\n"
     ]
    },
    {
     "name": "stderr",
     "output_type": "stream",
     "text": [
      "100%|██████████| 19/19 [00:00<00:00, 3487.61it/s]"
     ]
    },
    {
     "name": "stdout",
     "output_type": "stream",
     "text": [
      "[=====================================             ] 74.23%"
     ]
    },
    {
     "name": "stderr",
     "output_type": "stream",
     "text": [
      "\n"
     ]
    },
    {
     "name": "stdout",
     "output_type": "stream",
     "text": [
      "\n",
      "Testing pipeline_2D_thr_0.3_flow_0.5_3_0 pipeline\n"
     ]
    },
    {
     "name": "stderr",
     "output_type": "stream",
     "text": [
      "100%|██████████| 19/19 [00:00<00:00, 3684.66it/s]\n"
     ]
    },
    {
     "name": "stdout",
     "output_type": "stream",
     "text": [
      "[=====================================             ] 74.33%\n",
      "Testing pipeline_2D_thr_0.3_flow_0.5_3_1 pipeline\n"
     ]
    },
    {
     "name": "stderr",
     "output_type": "stream",
     "text": [
      "100%|██████████| 19/19 [00:00<00:00, 3451.06it/s]\n"
     ]
    },
    {
     "name": "stdout",
     "output_type": "stream",
     "text": [
      "Number of cells after linking: 127\n",
      "[=====================================             ] 74.42%\n",
      "Testing pipeline_2D_thr_0.3_flow_0.5_3_2 pipeline\n"
     ]
    },
    {
     "name": "stderr",
     "output_type": "stream",
     "text": [
      "100%|██████████| 19/19 [00:00<00:00, 3574.74it/s]\n"
     ]
    },
    {
     "name": "stdout",
     "output_type": "stream",
     "text": [
      "[=====================================             ] 74.52%\n",
      "Testing pipeline_2D_thr_0.3_flow_0.5_3_3 pipeline\n"
     ]
    },
    {
     "name": "stderr",
     "output_type": "stream",
     "text": [
      "100%|██████████| 19/19 [00:00<00:00, 3942.02it/s]"
     ]
    },
    {
     "name": "stdout",
     "output_type": "stream",
     "text": [
      "[=====================================             ] 74.62%"
     ]
    },
    {
     "name": "stderr",
     "output_type": "stream",
     "text": [
      "\n"
     ]
    },
    {
     "name": "stdout",
     "output_type": "stream",
     "text": [
      "\n",
      "Testing pipeline_2D_thr_0.3_flow_0.5_4_0 pipeline\n"
     ]
    },
    {
     "name": "stderr",
     "output_type": "stream",
     "text": [
      "100%|██████████| 19/19 [00:00<00:00, 3593.28it/s]\n"
     ]
    },
    {
     "name": "stdout",
     "output_type": "stream",
     "text": [
      "[=====================================             ] 74.71%\n",
      "Testing pipeline_2D_thr_0.3_flow_0.5_4_1 pipeline\n"
     ]
    },
    {
     "name": "stderr",
     "output_type": "stream",
     "text": [
      "100%|██████████| 19/19 [00:00<00:00, 4217.84it/s]\n"
     ]
    },
    {
     "name": "stdout",
     "output_type": "stream",
     "text": [
      "Number of cells after linking: 134\n",
      "[=====================================             ] 74.81%\n",
      "Testing pipeline_2D_thr_0.3_flow_0.5_4_2 pipeline\n"
     ]
    },
    {
     "name": "stderr",
     "output_type": "stream",
     "text": [
      "100%|██████████| 19/19 [00:00<00:00, 3575.71it/s]\n"
     ]
    },
    {
     "name": "stdout",
     "output_type": "stream",
     "text": [
      "[=====================================             ] 74.90%\n",
      "Testing pipeline_2D_thr_0.3_flow_0.5_4_3 pipeline\n"
     ]
    },
    {
     "name": "stderr",
     "output_type": "stream",
     "text": [
      "100%|██████████| 19/19 [00:00<00:00, 4186.81it/s]"
     ]
    },
    {
     "name": "stdout",
     "output_type": "stream",
     "text": [
      "[=====================================             ] 75.00%"
     ]
    },
    {
     "name": "stderr",
     "output_type": "stream",
     "text": [
      "\n"
     ]
    },
    {
     "name": "stdout",
     "output_type": "stream",
     "text": [
      "\n",
      "Testing pipeline_2D_thr_0.3_flow_0.6_0_0 pipeline\n"
     ]
    },
    {
     "name": "stderr",
     "output_type": "stream",
     "text": [
      "100%|██████████| 19/19 [00:00<00:00, 4236.67it/s]\n"
     ]
    },
    {
     "name": "stdout",
     "output_type": "stream",
     "text": [
      "[=====================================             ] 75.10%\n",
      "Testing pipeline_2D_thr_0.3_flow_0.6_0_1 pipeline\n"
     ]
    },
    {
     "name": "stderr",
     "output_type": "stream",
     "text": [
      "100%|██████████| 19/19 [00:00<00:00, 3836.68it/s]\n"
     ]
    },
    {
     "name": "stdout",
     "output_type": "stream",
     "text": [
      "Number of cells after linking: 139\n",
      "[=====================================             ] 75.19%\n",
      "Testing pipeline_2D_thr_0.3_flow_0.6_0_2 pipeline\n"
     ]
    },
    {
     "name": "stderr",
     "output_type": "stream",
     "text": [
      "100%|██████████| 19/19 [00:00<00:00, 3697.65it/s]\n"
     ]
    },
    {
     "name": "stdout",
     "output_type": "stream",
     "text": [
      "[=====================================             ] 75.29%\n",
      "Testing pipeline_2D_thr_0.3_flow_0.6_0_3 pipeline\n"
     ]
    },
    {
     "name": "stderr",
     "output_type": "stream",
     "text": [
      "100%|██████████| 19/19 [00:00<00:00, 3740.52it/s]"
     ]
    },
    {
     "name": "stdout",
     "output_type": "stream",
     "text": [
      "[=====================================             ] 75.38%"
     ]
    },
    {
     "name": "stderr",
     "output_type": "stream",
     "text": [
      "\n"
     ]
    },
    {
     "name": "stdout",
     "output_type": "stream",
     "text": [
      "\n",
      "Testing pipeline_2D_thr_0.3_flow_0.6_1_0 pipeline\n"
     ]
    },
    {
     "name": "stderr",
     "output_type": "stream",
     "text": [
      "100%|██████████| 19/19 [00:00<00:00, 3531.81it/s]\n"
     ]
    },
    {
     "name": "stdout",
     "output_type": "stream",
     "text": [
      "[=====================================             ] 75.48%\n",
      "Testing pipeline_2D_thr_0.3_flow_0.6_1_1 pipeline\n"
     ]
    },
    {
     "name": "stderr",
     "output_type": "stream",
     "text": [
      "100%|██████████| 19/19 [00:00<00:00, 3679.21it/s]\n"
     ]
    },
    {
     "name": "stdout",
     "output_type": "stream",
     "text": [
      "Number of cells after linking: 132\n",
      "[=====================================             ] 75.58%\n",
      "Testing pipeline_2D_thr_0.3_flow_0.6_1_2 pipeline\n"
     ]
    },
    {
     "name": "stderr",
     "output_type": "stream",
     "text": [
      "100%|██████████| 19/19 [00:00<00:00, 4103.59it/s]\n"
     ]
    },
    {
     "name": "stdout",
     "output_type": "stream",
     "text": [
      "[=====================================             ] 75.67%\n",
      "Testing pipeline_2D_thr_0.3_flow_0.6_1_3 pipeline\n"
     ]
    },
    {
     "name": "stderr",
     "output_type": "stream",
     "text": [
      "100%|██████████| 19/19 [00:00<00:00, 3692.00it/s]"
     ]
    },
    {
     "name": "stdout",
     "output_type": "stream",
     "text": [
      "[=====================================             ] 75.77%"
     ]
    },
    {
     "name": "stderr",
     "output_type": "stream",
     "text": [
      "\n"
     ]
    },
    {
     "name": "stdout",
     "output_type": "stream",
     "text": [
      "\n",
      "Testing pipeline_2D_thr_0.3_flow_0.6_2_0 pipeline\n"
     ]
    },
    {
     "name": "stderr",
     "output_type": "stream",
     "text": [
      "100%|██████████| 19/19 [00:00<00:00, 2609.08it/s]\n"
     ]
    },
    {
     "name": "stdout",
     "output_type": "stream",
     "text": [
      "[=====================================             ] 75.87%\n",
      "Testing pipeline_2D_thr_0.3_flow_0.6_2_1 pipeline\n"
     ]
    },
    {
     "name": "stderr",
     "output_type": "stream",
     "text": [
      "100%|██████████| 19/19 [00:00<00:00, 4112.27it/s]\n"
     ]
    },
    {
     "name": "stdout",
     "output_type": "stream",
     "text": [
      "Number of cells after linking: 130\n",
      "[=====================================             ] 75.96%\n",
      "Testing pipeline_2D_thr_0.3_flow_0.6_2_2 pipeline\n"
     ]
    },
    {
     "name": "stderr",
     "output_type": "stream",
     "text": [
      "100%|██████████| 19/19 [00:00<00:00, 3710.22it/s]\n"
     ]
    },
    {
     "name": "stdout",
     "output_type": "stream",
     "text": [
      "[======================================            ] 76.06%\n",
      "Testing pipeline_2D_thr_0.3_flow_0.6_2_3 pipeline\n"
     ]
    },
    {
     "name": "stderr",
     "output_type": "stream",
     "text": [
      "100%|██████████| 19/19 [00:00<00:00, 2704.44it/s]"
     ]
    },
    {
     "name": "stdout",
     "output_type": "stream",
     "text": [
      "[======================================            ] 76.15%"
     ]
    },
    {
     "name": "stderr",
     "output_type": "stream",
     "text": [
      "\n"
     ]
    },
    {
     "name": "stdout",
     "output_type": "stream",
     "text": [
      "\n",
      "Testing pipeline_2D_thr_0.3_flow_0.6_3_0 pipeline\n"
     ]
    },
    {
     "name": "stderr",
     "output_type": "stream",
     "text": [
      "100%|██████████| 19/19 [00:00<00:00, 3627.46it/s]\n"
     ]
    },
    {
     "name": "stdout",
     "output_type": "stream",
     "text": [
      "[======================================            ] 76.25%\n",
      "Testing pipeline_2D_thr_0.3_flow_0.6_3_1 pipeline\n"
     ]
    },
    {
     "name": "stderr",
     "output_type": "stream",
     "text": [
      "100%|██████████| 19/19 [00:00<00:00, 3429.23it/s]\n"
     ]
    },
    {
     "name": "stdout",
     "output_type": "stream",
     "text": [
      "Number of cells after linking: 127\n",
      "[======================================            ] 76.35%\n",
      "Testing pipeline_2D_thr_0.3_flow_0.6_3_2 pipeline\n"
     ]
    },
    {
     "name": "stderr",
     "output_type": "stream",
     "text": [
      "100%|██████████| 19/19 [00:00<00:00, 3610.70it/s]\n"
     ]
    },
    {
     "name": "stdout",
     "output_type": "stream",
     "text": [
      "[======================================            ] 76.44%\n",
      "Testing pipeline_2D_thr_0.3_flow_0.6_3_3 pipeline\n"
     ]
    },
    {
     "name": "stderr",
     "output_type": "stream",
     "text": [
      "100%|██████████| 19/19 [00:00<00:00, 3631.93it/s]"
     ]
    },
    {
     "name": "stdout",
     "output_type": "stream",
     "text": [
      "[======================================            ] 76.54%"
     ]
    },
    {
     "name": "stderr",
     "output_type": "stream",
     "text": [
      "\n"
     ]
    },
    {
     "name": "stdout",
     "output_type": "stream",
     "text": [
      "\n",
      "Testing pipeline_2D_thr_0.3_flow_0.6_4_0 pipeline\n"
     ]
    },
    {
     "name": "stderr",
     "output_type": "stream",
     "text": [
      "100%|██████████| 19/19 [00:00<00:00, 3750.55it/s]\n"
     ]
    },
    {
     "name": "stdout",
     "output_type": "stream",
     "text": [
      "[======================================            ] 76.63%\n",
      "Testing pipeline_2D_thr_0.3_flow_0.6_4_1 pipeline\n"
     ]
    },
    {
     "name": "stderr",
     "output_type": "stream",
     "text": [
      "100%|██████████| 19/19 [00:00<00:00, 3711.25it/s]\n"
     ]
    },
    {
     "name": "stdout",
     "output_type": "stream",
     "text": [
      "Number of cells after linking: 134\n",
      "[======================================            ] 76.73%\n",
      "Testing pipeline_2D_thr_0.3_flow_0.6_4_2 pipeline\n"
     ]
    },
    {
     "name": "stderr",
     "output_type": "stream",
     "text": [
      "100%|██████████| 19/19 [00:00<00:00, 3048.19it/s]\n"
     ]
    },
    {
     "name": "stdout",
     "output_type": "stream",
     "text": [
      "[======================================            ] 76.83%\n",
      "Testing pipeline_2D_thr_0.3_flow_0.6_4_3 pipeline\n"
     ]
    },
    {
     "name": "stderr",
     "output_type": "stream",
     "text": [
      "100%|██████████| 19/19 [00:00<00:00, 3893.48it/s]"
     ]
    },
    {
     "name": "stdout",
     "output_type": "stream",
     "text": [
      "[======================================            ] 76.92%"
     ]
    },
    {
     "name": "stderr",
     "output_type": "stream",
     "text": [
      "\n"
     ]
    },
    {
     "name": "stdout",
     "output_type": "stream",
     "text": [
      "\n",
      "Testing pipeline_2D_thr_0.4_flow_0.2_0_0 pipeline\n"
     ]
    },
    {
     "name": "stderr",
     "output_type": "stream",
     "text": [
      "100%|██████████| 19/19 [00:00<00:00, 3795.93it/s]\n"
     ]
    },
    {
     "name": "stdout",
     "output_type": "stream",
     "text": [
      "[======================================            ] 77.02%\n",
      "Testing pipeline_2D_thr_0.4_flow_0.2_0_1 pipeline\n"
     ]
    },
    {
     "name": "stderr",
     "output_type": "stream",
     "text": [
      "100%|██████████| 19/19 [00:00<00:00, 3577.47it/s]\n"
     ]
    },
    {
     "name": "stdout",
     "output_type": "stream",
     "text": [
      "Number of cells after linking: 139\n",
      "[======================================            ] 77.12%\n",
      "Testing pipeline_2D_thr_0.4_flow_0.2_0_2 pipeline\n"
     ]
    },
    {
     "name": "stderr",
     "output_type": "stream",
     "text": [
      "100%|██████████| 19/19 [00:00<00:00, 3896.72it/s]\n"
     ]
    },
    {
     "name": "stdout",
     "output_type": "stream",
     "text": [
      "[======================================            ] 77.21%\n",
      "Testing pipeline_2D_thr_0.4_flow_0.2_0_3 pipeline\n"
     ]
    },
    {
     "name": "stderr",
     "output_type": "stream",
     "text": [
      "100%|██████████| 19/19 [00:00<00:00, 4275.54it/s]"
     ]
    },
    {
     "name": "stdout",
     "output_type": "stream",
     "text": [
      "[======================================            ] 77.31%"
     ]
    },
    {
     "name": "stderr",
     "output_type": "stream",
     "text": [
      "\n"
     ]
    },
    {
     "name": "stdout",
     "output_type": "stream",
     "text": [
      "\n",
      "Testing pipeline_2D_thr_0.4_flow_0.2_1_0 pipeline\n"
     ]
    },
    {
     "name": "stderr",
     "output_type": "stream",
     "text": [
      "100%|██████████| 19/19 [00:00<00:00, 2533.11it/s]\n"
     ]
    },
    {
     "name": "stdout",
     "output_type": "stream",
     "text": [
      "[======================================            ] 77.40%\n",
      "Testing pipeline_2D_thr_0.4_flow_0.2_1_1 pipeline\n"
     ]
    },
    {
     "name": "stderr",
     "output_type": "stream",
     "text": [
      "100%|██████████| 19/19 [00:00<00:00, 3512.20it/s]\n"
     ]
    },
    {
     "name": "stdout",
     "output_type": "stream",
     "text": [
      "Number of cells after linking: 132\n",
      "[======================================            ] 77.50%\n",
      "Testing pipeline_2D_thr_0.4_flow_0.2_1_2 pipeline\n"
     ]
    },
    {
     "name": "stderr",
     "output_type": "stream",
     "text": [
      "100%|██████████| 19/19 [00:00<00:00, 3754.80it/s]\n"
     ]
    },
    {
     "name": "stdout",
     "output_type": "stream",
     "text": [
      "[======================================            ] 77.60%\n",
      "Testing pipeline_2D_thr_0.4_flow_0.2_1_3 pipeline\n"
     ]
    },
    {
     "name": "stderr",
     "output_type": "stream",
     "text": [
      "100%|██████████| 19/19 [00:00<00:00, 4069.02it/s]"
     ]
    },
    {
     "name": "stdout",
     "output_type": "stream",
     "text": [
      "[======================================            ] 77.69%"
     ]
    },
    {
     "name": "stderr",
     "output_type": "stream",
     "text": [
      "\n"
     ]
    },
    {
     "name": "stdout",
     "output_type": "stream",
     "text": [
      "\n",
      "Testing pipeline_2D_thr_0.4_flow_0.2_2_0 pipeline\n"
     ]
    },
    {
     "name": "stderr",
     "output_type": "stream",
     "text": [
      "100%|██████████| 19/19 [00:00<00:00, 3502.32it/s]\n"
     ]
    },
    {
     "name": "stdout",
     "output_type": "stream",
     "text": [
      "[======================================            ] 77.79%\n",
      "Testing pipeline_2D_thr_0.4_flow_0.2_2_1 pipeline\n"
     ]
    },
    {
     "name": "stderr",
     "output_type": "stream",
     "text": [
      "100%|██████████| 19/19 [00:00<00:00, 3560.69it/s]\n"
     ]
    },
    {
     "name": "stdout",
     "output_type": "stream",
     "text": [
      "Number of cells after linking: 130\n",
      "[======================================            ] 77.88%\n",
      "Testing pipeline_2D_thr_0.4_flow_0.2_2_2 pipeline\n"
     ]
    },
    {
     "name": "stderr",
     "output_type": "stream",
     "text": [
      "100%|██████████| 19/19 [00:00<00:00, 3632.59it/s]\n"
     ]
    },
    {
     "name": "stdout",
     "output_type": "stream",
     "text": [
      "[======================================            ] 77.98%\n",
      "Testing pipeline_2D_thr_0.4_flow_0.2_2_3 pipeline\n"
     ]
    },
    {
     "name": "stderr",
     "output_type": "stream",
     "text": [
      "100%|██████████| 19/19 [00:00<00:00, 3612.50it/s]"
     ]
    },
    {
     "name": "stdout",
     "output_type": "stream",
     "text": [
      "[=======================================           ] 78.08%"
     ]
    },
    {
     "name": "stderr",
     "output_type": "stream",
     "text": [
      "\n"
     ]
    },
    {
     "name": "stdout",
     "output_type": "stream",
     "text": [
      "\n",
      "Testing pipeline_2D_thr_0.4_flow_0.2_3_0 pipeline\n"
     ]
    },
    {
     "name": "stderr",
     "output_type": "stream",
     "text": [
      "100%|██████████| 19/19 [00:00<00:00, 4042.81it/s]\n"
     ]
    },
    {
     "name": "stdout",
     "output_type": "stream",
     "text": [
      "[=======================================           ] 78.17%\n",
      "Testing pipeline_2D_thr_0.4_flow_0.2_3_1 pipeline\n"
     ]
    },
    {
     "name": "stderr",
     "output_type": "stream",
     "text": [
      "100%|██████████| 19/19 [00:00<00:00, 3593.12it/s]\n"
     ]
    },
    {
     "name": "stdout",
     "output_type": "stream",
     "text": [
      "Number of cells after linking: 127\n",
      "[=======================================           ] 78.27%\n",
      "Testing pipeline_2D_thr_0.4_flow_0.2_3_2 pipeline\n"
     ]
    },
    {
     "name": "stderr",
     "output_type": "stream",
     "text": [
      "100%|██████████| 19/19 [00:00<00:00, 3423.77it/s]\n"
     ]
    },
    {
     "name": "stdout",
     "output_type": "stream",
     "text": [
      "[=======================================           ] 78.37%\n",
      "Testing pipeline_2D_thr_0.4_flow_0.2_3_3 pipeline\n"
     ]
    },
    {
     "name": "stderr",
     "output_type": "stream",
     "text": [
      "100%|██████████| 19/19 [00:00<00:00, 3541.38it/s]"
     ]
    },
    {
     "name": "stdout",
     "output_type": "stream",
     "text": [
      "[=======================================           ] 78.46%"
     ]
    },
    {
     "name": "stderr",
     "output_type": "stream",
     "text": [
      "\n"
     ]
    },
    {
     "name": "stdout",
     "output_type": "stream",
     "text": [
      "\n",
      "Testing pipeline_2D_thr_0.4_flow_0.2_4_0 pipeline\n"
     ]
    },
    {
     "name": "stderr",
     "output_type": "stream",
     "text": [
      "100%|██████████| 19/19 [00:00<00:00, 3580.53it/s]\n"
     ]
    },
    {
     "name": "stdout",
     "output_type": "stream",
     "text": [
      "[=======================================           ] 78.56%\n",
      "Testing pipeline_2D_thr_0.4_flow_0.2_4_1 pipeline\n"
     ]
    },
    {
     "name": "stderr",
     "output_type": "stream",
     "text": [
      "100%|██████████| 19/19 [00:00<00:00, 2700.50it/s]\n"
     ]
    },
    {
     "name": "stdout",
     "output_type": "stream",
     "text": [
      "Number of cells after linking: 134\n",
      "[=======================================           ] 78.65%\n",
      "Testing pipeline_2D_thr_0.4_flow_0.2_4_2 pipeline\n"
     ]
    },
    {
     "name": "stderr",
     "output_type": "stream",
     "text": [
      "100%|██████████| 19/19 [00:00<00:00, 3799.37it/s]\n"
     ]
    },
    {
     "name": "stdout",
     "output_type": "stream",
     "text": [
      "[=======================================           ] 78.75%\n",
      "Testing pipeline_2D_thr_0.4_flow_0.2_4_3 pipeline\n"
     ]
    },
    {
     "name": "stderr",
     "output_type": "stream",
     "text": [
      "100%|██████████| 19/19 [00:00<00:00, 2979.13it/s]"
     ]
    },
    {
     "name": "stdout",
     "output_type": "stream",
     "text": [
      "[=======================================           ] 78.85%"
     ]
    },
    {
     "name": "stderr",
     "output_type": "stream",
     "text": [
      "\n"
     ]
    },
    {
     "name": "stdout",
     "output_type": "stream",
     "text": [
      "\n",
      "Testing pipeline_2D_thr_0.4_flow_0.3_0_0 pipeline\n"
     ]
    },
    {
     "name": "stderr",
     "output_type": "stream",
     "text": [
      "100%|██████████| 19/19 [00:00<00:00, 4095.16it/s]\n"
     ]
    },
    {
     "name": "stdout",
     "output_type": "stream",
     "text": [
      "[=======================================           ] 78.94%\n",
      "Testing pipeline_2D_thr_0.4_flow_0.3_0_1 pipeline\n"
     ]
    },
    {
     "name": "stderr",
     "output_type": "stream",
     "text": [
      "100%|██████████| 19/19 [00:00<00:00, 3813.00it/s]\n"
     ]
    },
    {
     "name": "stdout",
     "output_type": "stream",
     "text": [
      "Number of cells after linking: 139\n",
      "[=======================================           ] 79.04%\n",
      "Testing pipeline_2D_thr_0.4_flow_0.3_0_2 pipeline\n"
     ]
    },
    {
     "name": "stderr",
     "output_type": "stream",
     "text": [
      "100%|██████████| 19/19 [00:00<00:00, 3618.57it/s]\n"
     ]
    },
    {
     "name": "stdout",
     "output_type": "stream",
     "text": [
      "[=======================================           ] 79.13%\n",
      "Testing pipeline_2D_thr_0.4_flow_0.3_0_3 pipeline\n"
     ]
    },
    {
     "name": "stderr",
     "output_type": "stream",
     "text": [
      "100%|██████████| 19/19 [00:00<00:00, 2766.79it/s]"
     ]
    },
    {
     "name": "stdout",
     "output_type": "stream",
     "text": [
      "[=======================================           ] 79.23%"
     ]
    },
    {
     "name": "stderr",
     "output_type": "stream",
     "text": [
      "\n"
     ]
    },
    {
     "name": "stdout",
     "output_type": "stream",
     "text": [
      "\n",
      "Testing pipeline_2D_thr_0.4_flow_0.3_1_0 pipeline\n"
     ]
    },
    {
     "name": "stderr",
     "output_type": "stream",
     "text": [
      "100%|██████████| 19/19 [00:00<00:00, 3607.76it/s]\n"
     ]
    },
    {
     "name": "stdout",
     "output_type": "stream",
     "text": [
      "[=======================================           ] 79.33%\n",
      "Testing pipeline_2D_thr_0.4_flow_0.3_1_1 pipeline\n"
     ]
    },
    {
     "name": "stderr",
     "output_type": "stream",
     "text": [
      "100%|██████████| 19/19 [00:00<00:00, 3423.33it/s]\n"
     ]
    },
    {
     "name": "stdout",
     "output_type": "stream",
     "text": [
      "Number of cells after linking: 132\n",
      "[=======================================           ] 79.42%\n",
      "Testing pipeline_2D_thr_0.4_flow_0.3_1_2 pipeline\n"
     ]
    },
    {
     "name": "stderr",
     "output_type": "stream",
     "text": [
      "100%|██████████| 19/19 [00:00<00:00, 4056.59it/s]\n"
     ]
    },
    {
     "name": "stdout",
     "output_type": "stream",
     "text": [
      "[=======================================           ] 79.52%\n",
      "Testing pipeline_2D_thr_0.4_flow_0.3_1_3 pipeline\n"
     ]
    },
    {
     "name": "stderr",
     "output_type": "stream",
     "text": [
      "100%|██████████| 19/19 [00:00<00:00, 3960.04it/s]"
     ]
    },
    {
     "name": "stdout",
     "output_type": "stream",
     "text": [
      "[=======================================           ] 79.62%"
     ]
    },
    {
     "name": "stderr",
     "output_type": "stream",
     "text": [
      "\n"
     ]
    },
    {
     "name": "stdout",
     "output_type": "stream",
     "text": [
      "\n",
      "Testing pipeline_2D_thr_0.4_flow_0.3_2_0 pipeline\n"
     ]
    },
    {
     "name": "stderr",
     "output_type": "stream",
     "text": [
      "100%|██████████| 19/19 [00:00<00:00, 4068.40it/s]\n"
     ]
    },
    {
     "name": "stdout",
     "output_type": "stream",
     "text": [
      "[=======================================           ] 79.71%\n",
      "Testing pipeline_2D_thr_0.4_flow_0.3_2_1 pipeline\n"
     ]
    },
    {
     "name": "stderr",
     "output_type": "stream",
     "text": [
      "100%|██████████| 19/19 [00:00<00:00, 3953.95it/s]\n"
     ]
    },
    {
     "name": "stdout",
     "output_type": "stream",
     "text": [
      "Number of cells after linking: 130\n",
      "[=======================================           ] 79.81%\n",
      "Testing pipeline_2D_thr_0.4_flow_0.3_2_2 pipeline\n"
     ]
    },
    {
     "name": "stderr",
     "output_type": "stream",
     "text": [
      "100%|██████████| 19/19 [00:00<00:00, 3556.08it/s]\n"
     ]
    },
    {
     "name": "stdout",
     "output_type": "stream",
     "text": [
      "[=======================================           ] 79.90%\n",
      "Testing pipeline_2D_thr_0.4_flow_0.3_2_3 pipeline\n"
     ]
    },
    {
     "name": "stderr",
     "output_type": "stream",
     "text": [
      "100%|██████████| 19/19 [00:00<00:00, 4157.76it/s]"
     ]
    },
    {
     "name": "stdout",
     "output_type": "stream",
     "text": [
      "[========================================          ] 80.00%"
     ]
    },
    {
     "name": "stderr",
     "output_type": "stream",
     "text": [
      "\n"
     ]
    },
    {
     "name": "stdout",
     "output_type": "stream",
     "text": [
      "\n",
      "Testing pipeline_2D_thr_0.4_flow_0.3_3_0 pipeline\n"
     ]
    },
    {
     "name": "stderr",
     "output_type": "stream",
     "text": [
      "100%|██████████| 19/19 [00:00<00:00, 3691.31it/s]\n"
     ]
    },
    {
     "name": "stdout",
     "output_type": "stream",
     "text": [
      "[========================================          ] 80.10%\n",
      "Testing pipeline_2D_thr_0.4_flow_0.3_3_1 pipeline\n"
     ]
    },
    {
     "name": "stderr",
     "output_type": "stream",
     "text": [
      "100%|██████████| 19/19 [00:00<00:00, 3276.53it/s]\n"
     ]
    },
    {
     "name": "stdout",
     "output_type": "stream",
     "text": [
      "Number of cells after linking: 127\n",
      "[========================================          ] 80.19%\n",
      "Testing pipeline_2D_thr_0.4_flow_0.3_3_2 pipeline\n"
     ]
    },
    {
     "name": "stderr",
     "output_type": "stream",
     "text": [
      "100%|██████████| 19/19 [00:00<00:00, 3821.23it/s]\n"
     ]
    },
    {
     "name": "stdout",
     "output_type": "stream",
     "text": [
      "[========================================          ] 80.29%\n",
      "Testing pipeline_2D_thr_0.4_flow_0.3_3_3 pipeline\n"
     ]
    },
    {
     "name": "stderr",
     "output_type": "stream",
     "text": [
      "100%|██████████| 19/19 [00:00<00:00, 3528.84it/s]"
     ]
    },
    {
     "name": "stdout",
     "output_type": "stream",
     "text": [
      "[========================================          ] 80.38%"
     ]
    },
    {
     "name": "stderr",
     "output_type": "stream",
     "text": [
      "\n"
     ]
    },
    {
     "name": "stdout",
     "output_type": "stream",
     "text": [
      "\n",
      "Testing pipeline_2D_thr_0.4_flow_0.3_4_0 pipeline\n"
     ]
    },
    {
     "name": "stderr",
     "output_type": "stream",
     "text": [
      "100%|██████████| 19/19 [00:00<00:00, 3788.35it/s]\n"
     ]
    },
    {
     "name": "stdout",
     "output_type": "stream",
     "text": [
      "[========================================          ] 80.48%\n",
      "Testing pipeline_2D_thr_0.4_flow_0.3_4_1 pipeline\n"
     ]
    },
    {
     "name": "stderr",
     "output_type": "stream",
     "text": [
      "100%|██████████| 19/19 [00:00<00:00, 3662.98it/s]\n"
     ]
    },
    {
     "name": "stdout",
     "output_type": "stream",
     "text": [
      "Number of cells after linking: 134\n",
      "[========================================          ] 80.58%\n",
      "Testing pipeline_2D_thr_0.4_flow_0.3_4_2 pipeline\n"
     ]
    },
    {
     "name": "stderr",
     "output_type": "stream",
     "text": [
      "100%|██████████| 19/19 [00:00<00:00, 3748.08it/s]\n"
     ]
    },
    {
     "name": "stdout",
     "output_type": "stream",
     "text": [
      "[========================================          ] 80.67%\n",
      "Testing pipeline_2D_thr_0.4_flow_0.3_4_3 pipeline\n"
     ]
    },
    {
     "name": "stderr",
     "output_type": "stream",
     "text": [
      "100%|██████████| 19/19 [00:00<00:00, 3569.94it/s]"
     ]
    },
    {
     "name": "stdout",
     "output_type": "stream",
     "text": [
      "[========================================          ] 80.77%"
     ]
    },
    {
     "name": "stderr",
     "output_type": "stream",
     "text": [
      "\n"
     ]
    },
    {
     "name": "stdout",
     "output_type": "stream",
     "text": [
      "\n",
      "Testing pipeline_2D_thr_0.4_flow_0.5_0_0 pipeline\n"
     ]
    },
    {
     "name": "stderr",
     "output_type": "stream",
     "text": [
      "100%|██████████| 19/19 [00:00<00:00, 3772.57it/s]\n"
     ]
    },
    {
     "name": "stdout",
     "output_type": "stream",
     "text": [
      "[========================================          ] 80.87%\n",
      "Testing pipeline_2D_thr_0.4_flow_0.5_0_1 pipeline\n"
     ]
    },
    {
     "name": "stderr",
     "output_type": "stream",
     "text": [
      "100%|██████████| 19/19 [00:00<00:00, 3973.07it/s]\n"
     ]
    },
    {
     "name": "stdout",
     "output_type": "stream",
     "text": [
      "Number of cells after linking: 139\n",
      "[========================================          ] 80.96%\n",
      "Testing pipeline_2D_thr_0.4_flow_0.5_0_2 pipeline\n"
     ]
    },
    {
     "name": "stderr",
     "output_type": "stream",
     "text": [
      "100%|██████████| 19/19 [00:00<00:00, 3669.22it/s]\n"
     ]
    },
    {
     "name": "stdout",
     "output_type": "stream",
     "text": [
      "[========================================          ] 81.06%\n",
      "Testing pipeline_2D_thr_0.4_flow_0.5_0_3 pipeline\n"
     ]
    },
    {
     "name": "stderr",
     "output_type": "stream",
     "text": [
      "100%|██████████| 19/19 [00:00<00:00, 4286.81it/s]"
     ]
    },
    {
     "name": "stdout",
     "output_type": "stream",
     "text": [
      "[========================================          ] 81.15%"
     ]
    },
    {
     "name": "stderr",
     "output_type": "stream",
     "text": [
      "\n"
     ]
    },
    {
     "name": "stdout",
     "output_type": "stream",
     "text": [
      "\n",
      "Testing pipeline_2D_thr_0.4_flow_0.5_1_0 pipeline\n"
     ]
    },
    {
     "name": "stderr",
     "output_type": "stream",
     "text": [
      "100%|██████████| 19/19 [00:00<00:00, 3548.48it/s]\n"
     ]
    },
    {
     "name": "stdout",
     "output_type": "stream",
     "text": [
      "[========================================          ] 81.25%\n",
      "Testing pipeline_2D_thr_0.4_flow_0.5_1_1 pipeline\n"
     ]
    },
    {
     "name": "stderr",
     "output_type": "stream",
     "text": [
      "100%|██████████| 19/19 [00:00<00:00, 4038.91it/s]\n"
     ]
    },
    {
     "name": "stdout",
     "output_type": "stream",
     "text": [
      "Number of cells after linking: 132\n",
      "[========================================          ] 81.35%\n",
      "Testing pipeline_2D_thr_0.4_flow_0.5_1_2 pipeline\n"
     ]
    },
    {
     "name": "stderr",
     "output_type": "stream",
     "text": [
      "100%|██████████| 19/19 [00:00<00:00, 3671.59it/s]\n"
     ]
    },
    {
     "name": "stdout",
     "output_type": "stream",
     "text": [
      "[========================================          ] 81.44%\n",
      "Testing pipeline_2D_thr_0.4_flow_0.5_1_3 pipeline\n"
     ]
    },
    {
     "name": "stderr",
     "output_type": "stream",
     "text": [
      "100%|██████████| 19/19 [00:00<00:00, 3915.29it/s]"
     ]
    },
    {
     "name": "stdout",
     "output_type": "stream",
     "text": [
      "[========================================          ] 81.54%"
     ]
    },
    {
     "name": "stderr",
     "output_type": "stream",
     "text": [
      "\n"
     ]
    },
    {
     "name": "stdout",
     "output_type": "stream",
     "text": [
      "\n",
      "Testing pipeline_2D_thr_0.4_flow_0.5_2_0 pipeline\n"
     ]
    },
    {
     "name": "stderr",
     "output_type": "stream",
     "text": [
      "100%|██████████| 19/19 [00:00<00:00, 3539.34it/s]\n"
     ]
    },
    {
     "name": "stdout",
     "output_type": "stream",
     "text": [
      "[========================================          ] 81.63%\n",
      "Testing pipeline_2D_thr_0.4_flow_0.5_2_1 pipeline\n"
     ]
    },
    {
     "name": "stderr",
     "output_type": "stream",
     "text": [
      "100%|██████████| 19/19 [00:00<00:00, 3608.25it/s]\n"
     ]
    },
    {
     "name": "stdout",
     "output_type": "stream",
     "text": [
      "Number of cells after linking: 130\n",
      "[========================================          ] 81.73%\n",
      "Testing pipeline_2D_thr_0.4_flow_0.5_2_2 pipeline\n"
     ]
    },
    {
     "name": "stderr",
     "output_type": "stream",
     "text": [
      "100%|██████████| 19/19 [00:00<00:00, 3869.66it/s]\n"
     ]
    },
    {
     "name": "stdout",
     "output_type": "stream",
     "text": [
      "[========================================          ] 81.83%\n",
      "Testing pipeline_2D_thr_0.4_flow_0.5_2_3 pipeline\n"
     ]
    },
    {
     "name": "stderr",
     "output_type": "stream",
     "text": [
      "100%|██████████| 19/19 [00:00<00:00, 4071.72it/s]"
     ]
    },
    {
     "name": "stdout",
     "output_type": "stream",
     "text": [
      "[========================================          ] 81.92%"
     ]
    },
    {
     "name": "stderr",
     "output_type": "stream",
     "text": [
      "\n"
     ]
    },
    {
     "name": "stdout",
     "output_type": "stream",
     "text": [
      "\n",
      "Testing pipeline_2D_thr_0.4_flow_0.5_3_0 pipeline\n"
     ]
    },
    {
     "name": "stderr",
     "output_type": "stream",
     "text": [
      "100%|██████████| 19/19 [00:00<00:00, 3694.57it/s]\n"
     ]
    },
    {
     "name": "stdout",
     "output_type": "stream",
     "text": [
      "[=========================================         ] 82.02%\n",
      "Testing pipeline_2D_thr_0.4_flow_0.5_3_1 pipeline\n"
     ]
    },
    {
     "name": "stderr",
     "output_type": "stream",
     "text": [
      "100%|██████████| 19/19 [00:00<00:00, 3406.80it/s]\n"
     ]
    },
    {
     "name": "stdout",
     "output_type": "stream",
     "text": [
      "Number of cells after linking: 127\n",
      "[=========================================         ] 82.12%\n",
      "Testing pipeline_2D_thr_0.4_flow_0.5_3_2 pipeline\n"
     ]
    },
    {
     "name": "stderr",
     "output_type": "stream",
     "text": [
      "100%|██████████| 19/19 [00:00<00:00, 3860.47it/s]\n"
     ]
    },
    {
     "name": "stdout",
     "output_type": "stream",
     "text": [
      "[=========================================         ] 82.21%\n",
      "Testing pipeline_2D_thr_0.4_flow_0.5_3_3 pipeline\n"
     ]
    },
    {
     "name": "stderr",
     "output_type": "stream",
     "text": [
      "100%|██████████| 19/19 [00:00<00:00, 4159.50it/s]"
     ]
    },
    {
     "name": "stdout",
     "output_type": "stream",
     "text": [
      "[=========================================         ] 82.31%"
     ]
    },
    {
     "name": "stderr",
     "output_type": "stream",
     "text": [
      "\n"
     ]
    },
    {
     "name": "stdout",
     "output_type": "stream",
     "text": [
      "\n",
      "Testing pipeline_2D_thr_0.4_flow_0.5_4_0 pipeline\n"
     ]
    },
    {
     "name": "stderr",
     "output_type": "stream",
     "text": [
      "100%|██████████| 19/19 [00:00<00:00, 2784.67it/s]\n"
     ]
    },
    {
     "name": "stdout",
     "output_type": "stream",
     "text": [
      "[=========================================         ] 82.40%\n",
      "Testing pipeline_2D_thr_0.4_flow_0.5_4_1 pipeline\n"
     ]
    },
    {
     "name": "stderr",
     "output_type": "stream",
     "text": [
      "100%|██████████| 19/19 [00:00<00:00, 3832.44it/s]\n"
     ]
    },
    {
     "name": "stdout",
     "output_type": "stream",
     "text": [
      "Number of cells after linking: 134\n",
      "[=========================================         ] 82.50%\n",
      "Testing pipeline_2D_thr_0.4_flow_0.5_4_2 pipeline\n"
     ]
    },
    {
     "name": "stderr",
     "output_type": "stream",
     "text": [
      "100%|██████████| 19/19 [00:00<00:00, 2609.17it/s]\n"
     ]
    },
    {
     "name": "stdout",
     "output_type": "stream",
     "text": [
      "[=========================================         ] 82.60%\n",
      "Testing pipeline_2D_thr_0.4_flow_0.5_4_3 pipeline\n"
     ]
    },
    {
     "name": "stderr",
     "output_type": "stream",
     "text": [
      "100%|██████████| 19/19 [00:00<00:00, 3719.92it/s]"
     ]
    },
    {
     "name": "stdout",
     "output_type": "stream",
     "text": [
      "[=========================================         ] 82.69%"
     ]
    },
    {
     "name": "stderr",
     "output_type": "stream",
     "text": [
      "\n"
     ]
    },
    {
     "name": "stdout",
     "output_type": "stream",
     "text": [
      "\n",
      "Testing pipeline_2D_thr_0.4_flow_0.6_0_0 pipeline\n"
     ]
    },
    {
     "name": "stderr",
     "output_type": "stream",
     "text": [
      "100%|██████████| 19/19 [00:00<00:00, 2995.14it/s]\n"
     ]
    },
    {
     "name": "stdout",
     "output_type": "stream",
     "text": [
      "[=========================================         ] 82.79%\n",
      "Testing pipeline_2D_thr_0.4_flow_0.6_0_1 pipeline\n"
     ]
    },
    {
     "name": "stderr",
     "output_type": "stream",
     "text": [
      "100%|██████████| 19/19 [00:00<00:00, 3739.47it/s]\n"
     ]
    },
    {
     "name": "stdout",
     "output_type": "stream",
     "text": [
      "Number of cells after linking: 139\n",
      "[=========================================         ] 82.88%\n",
      "Testing pipeline_2D_thr_0.4_flow_0.6_0_2 pipeline\n"
     ]
    },
    {
     "name": "stderr",
     "output_type": "stream",
     "text": [
      "100%|██████████| 19/19 [00:00<00:00, 3674.97it/s]\n"
     ]
    },
    {
     "name": "stdout",
     "output_type": "stream",
     "text": [
      "[=========================================         ] 82.98%\n",
      "Testing pipeline_2D_thr_0.4_flow_0.6_0_3 pipeline\n"
     ]
    },
    {
     "name": "stderr",
     "output_type": "stream",
     "text": [
      "100%|██████████| 19/19 [00:00<00:00, 4169.29it/s]"
     ]
    },
    {
     "name": "stdout",
     "output_type": "stream",
     "text": [
      "[=========================================         ] 83.08%"
     ]
    },
    {
     "name": "stderr",
     "output_type": "stream",
     "text": [
      "\n"
     ]
    },
    {
     "name": "stdout",
     "output_type": "stream",
     "text": [
      "\n",
      "Testing pipeline_2D_thr_0.4_flow_0.6_1_0 pipeline\n"
     ]
    },
    {
     "name": "stderr",
     "output_type": "stream",
     "text": [
      "100%|██████████| 19/19 [00:00<00:00, 3683.30it/s]\n"
     ]
    },
    {
     "name": "stdout",
     "output_type": "stream",
     "text": [
      "[=========================================         ] 83.17%\n",
      "Testing pipeline_2D_thr_0.4_flow_0.6_1_1 pipeline\n"
     ]
    },
    {
     "name": "stderr",
     "output_type": "stream",
     "text": [
      "100%|██████████| 19/19 [00:00<00:00, 3598.96it/s]\n"
     ]
    },
    {
     "name": "stdout",
     "output_type": "stream",
     "text": [
      "Number of cells after linking: 132\n",
      "[=========================================         ] 83.27%\n",
      "Testing pipeline_2D_thr_0.4_flow_0.6_1_2 pipeline\n"
     ]
    },
    {
     "name": "stderr",
     "output_type": "stream",
     "text": [
      "100%|██████████| 19/19 [00:00<00:00, 4036.66it/s]\n"
     ]
    },
    {
     "name": "stdout",
     "output_type": "stream",
     "text": [
      "[=========================================         ] 83.37%\n",
      "Testing pipeline_2D_thr_0.4_flow_0.6_1_3 pipeline\n"
     ]
    },
    {
     "name": "stderr",
     "output_type": "stream",
     "text": [
      "100%|██████████| 19/19 [00:00<00:00, 2865.27it/s]"
     ]
    },
    {
     "name": "stdout",
     "output_type": "stream",
     "text": [
      "[=========================================         ] 83.46%"
     ]
    },
    {
     "name": "stderr",
     "output_type": "stream",
     "text": [
      "\n"
     ]
    },
    {
     "name": "stdout",
     "output_type": "stream",
     "text": [
      "\n",
      "Testing pipeline_2D_thr_0.4_flow_0.6_2_0 pipeline\n"
     ]
    },
    {
     "name": "stderr",
     "output_type": "stream",
     "text": [
      "100%|██████████| 19/19 [00:00<00:00, 3806.99it/s]\n"
     ]
    },
    {
     "name": "stdout",
     "output_type": "stream",
     "text": [
      "[=========================================         ] 83.56%\n",
      "Testing pipeline_2D_thr_0.4_flow_0.6_2_1 pipeline\n"
     ]
    },
    {
     "name": "stderr",
     "output_type": "stream",
     "text": [
      "100%|██████████| 19/19 [00:00<00:00, 3608.58it/s]\n"
     ]
    },
    {
     "name": "stdout",
     "output_type": "stream",
     "text": [
      "Number of cells after linking: 130\n",
      "[=========================================         ] 83.65%\n",
      "Testing pipeline_2D_thr_0.4_flow_0.6_2_2 pipeline\n"
     ]
    },
    {
     "name": "stderr",
     "output_type": "stream",
     "text": [
      "100%|██████████| 19/19 [00:00<00:00, 4093.69it/s]\n"
     ]
    },
    {
     "name": "stdout",
     "output_type": "stream",
     "text": [
      "[=========================================         ] 83.75%\n",
      "Testing pipeline_2D_thr_0.4_flow_0.6_2_3 pipeline\n"
     ]
    },
    {
     "name": "stderr",
     "output_type": "stream",
     "text": [
      "100%|██████████| 19/19 [00:00<00:00, 3563.24it/s]"
     ]
    },
    {
     "name": "stdout",
     "output_type": "stream",
     "text": [
      "[=========================================         ] 83.85%"
     ]
    },
    {
     "name": "stderr",
     "output_type": "stream",
     "text": [
      "\n"
     ]
    },
    {
     "name": "stdout",
     "output_type": "stream",
     "text": [
      "\n",
      "Testing pipeline_2D_thr_0.4_flow_0.6_3_0 pipeline\n"
     ]
    },
    {
     "name": "stderr",
     "output_type": "stream",
     "text": [
      "100%|██████████| 19/19 [00:00<00:00, 3155.86it/s]\n"
     ]
    },
    {
     "name": "stdout",
     "output_type": "stream",
     "text": [
      "[=========================================         ] 83.94%\n",
      "Testing pipeline_2D_thr_0.4_flow_0.6_3_1 pipeline\n"
     ]
    },
    {
     "name": "stderr",
     "output_type": "stream",
     "text": [
      "100%|██████████| 19/19 [00:00<00:00, 3522.13it/s]\n"
     ]
    },
    {
     "name": "stdout",
     "output_type": "stream",
     "text": [
      "Number of cells after linking: 127\n",
      "[==========================================        ] 84.04%\n",
      "Testing pipeline_2D_thr_0.4_flow_0.6_3_2 pipeline\n"
     ]
    },
    {
     "name": "stderr",
     "output_type": "stream",
     "text": [
      "100%|██████████| 19/19 [00:00<00:00, 3719.92it/s]\n"
     ]
    },
    {
     "name": "stdout",
     "output_type": "stream",
     "text": [
      "[==========================================        ] 84.13%\n",
      "Testing pipeline_2D_thr_0.4_flow_0.6_3_3 pipeline\n"
     ]
    },
    {
     "name": "stderr",
     "output_type": "stream",
     "text": [
      "100%|██████████| 19/19 [00:00<00:00, 3718.88it/s]"
     ]
    },
    {
     "name": "stdout",
     "output_type": "stream",
     "text": [
      "[==========================================        ] 84.23%"
     ]
    },
    {
     "name": "stderr",
     "output_type": "stream",
     "text": [
      "\n"
     ]
    },
    {
     "name": "stdout",
     "output_type": "stream",
     "text": [
      "\n",
      "Testing pipeline_2D_thr_0.4_flow_0.6_4_0 pipeline\n"
     ]
    },
    {
     "name": "stderr",
     "output_type": "stream",
     "text": [
      "100%|██████████| 19/19 [00:00<00:00, 3666.01it/s]\n"
     ]
    },
    {
     "name": "stdout",
     "output_type": "stream",
     "text": [
      "[==========================================        ] 84.33%\n",
      "Testing pipeline_2D_thr_0.4_flow_0.6_4_1 pipeline\n"
     ]
    },
    {
     "name": "stderr",
     "output_type": "stream",
     "text": [
      "100%|██████████| 19/19 [00:00<00:00, 3728.79it/s]\n"
     ]
    },
    {
     "name": "stdout",
     "output_type": "stream",
     "text": [
      "Number of cells after linking: 134\n",
      "[==========================================        ] 84.42%\n",
      "Testing pipeline_2D_thr_0.4_flow_0.6_4_2 pipeline\n"
     ]
    },
    {
     "name": "stderr",
     "output_type": "stream",
     "text": [
      "100%|██████████| 19/19 [00:00<00:00, 3748.08it/s]\n"
     ]
    },
    {
     "name": "stdout",
     "output_type": "stream",
     "text": [
      "[==========================================        ] 84.52%\n",
      "Testing pipeline_2D_thr_0.4_flow_0.6_4_3 pipeline\n"
     ]
    },
    {
     "name": "stderr",
     "output_type": "stream",
     "text": [
      "100%|██████████| 19/19 [00:00<00:00, 3824.72it/s]"
     ]
    },
    {
     "name": "stdout",
     "output_type": "stream",
     "text": [
      "[==========================================        ] 84.62%"
     ]
    },
    {
     "name": "stderr",
     "output_type": "stream",
     "text": [
      "\n"
     ]
    },
    {
     "name": "stdout",
     "output_type": "stream",
     "text": [
      "\n",
      "Testing pipeline_2D_thr_0.5_flow_0.2_0_0 pipeline\n"
     ]
    },
    {
     "name": "stderr",
     "output_type": "stream",
     "text": [
      "100%|██████████| 19/19 [00:00<00:00, 3424.22it/s]\n"
     ]
    },
    {
     "name": "stdout",
     "output_type": "stream",
     "text": [
      "[==========================================        ] 84.71%\n",
      "Testing pipeline_2D_thr_0.5_flow_0.2_0_1 pipeline\n"
     ]
    },
    {
     "name": "stderr",
     "output_type": "stream",
     "text": [
      "100%|██████████| 19/19 [00:00<00:00, 3500.17it/s]\n"
     ]
    },
    {
     "name": "stdout",
     "output_type": "stream",
     "text": [
      "Number of cells after linking: 139\n",
      "[==========================================        ] 84.81%\n",
      "Testing pipeline_2D_thr_0.5_flow_0.2_0_2 pipeline\n"
     ]
    },
    {
     "name": "stderr",
     "output_type": "stream",
     "text": [
      "100%|██████████| 19/19 [00:00<00:00, 2769.48it/s]\n"
     ]
    },
    {
     "name": "stdout",
     "output_type": "stream",
     "text": [
      "[==========================================        ] 84.90%\n",
      "Testing pipeline_2D_thr_0.5_flow_0.2_0_3 pipeline\n"
     ]
    },
    {
     "name": "stderr",
     "output_type": "stream",
     "text": [
      "100%|██████████| 19/19 [00:00<00:00, 3612.17it/s]"
     ]
    },
    {
     "name": "stdout",
     "output_type": "stream",
     "text": [
      "[==========================================        ] 85.00%"
     ]
    },
    {
     "name": "stderr",
     "output_type": "stream",
     "text": [
      "\n"
     ]
    },
    {
     "name": "stdout",
     "output_type": "stream",
     "text": [
      "\n",
      "Testing pipeline_2D_thr_0.5_flow_0.2_1_0 pipeline\n"
     ]
    },
    {
     "name": "stderr",
     "output_type": "stream",
     "text": [
      "100%|██████████| 19/19 [00:00<00:00, 3902.63it/s]\n"
     ]
    },
    {
     "name": "stdout",
     "output_type": "stream",
     "text": [
      "[==========================================        ] 85.10%\n",
      "Testing pipeline_2D_thr_0.5_flow_0.2_1_1 pipeline\n"
     ]
    },
    {
     "name": "stderr",
     "output_type": "stream",
     "text": [
      "100%|██████████| 19/19 [00:00<00:00, 3464.86it/s]\n"
     ]
    },
    {
     "name": "stdout",
     "output_type": "stream",
     "text": [
      "Number of cells after linking: 133\n",
      "[==========================================        ] 85.19%\n",
      "Testing pipeline_2D_thr_0.5_flow_0.2_1_2 pipeline\n"
     ]
    },
    {
     "name": "stderr",
     "output_type": "stream",
     "text": [
      "100%|██████████| 19/19 [00:00<00:00, 3809.36it/s]\n"
     ]
    },
    {
     "name": "stdout",
     "output_type": "stream",
     "text": [
      "[==========================================        ] 85.29%\n",
      "Testing pipeline_2D_thr_0.5_flow_0.2_1_3 pipeline\n"
     ]
    },
    {
     "name": "stderr",
     "output_type": "stream",
     "text": [
      "100%|██████████| 19/19 [00:00<00:00, 3845.94it/s]"
     ]
    },
    {
     "name": "stdout",
     "output_type": "stream",
     "text": [
      "[==========================================        ] 85.38%"
     ]
    },
    {
     "name": "stderr",
     "output_type": "stream",
     "text": [
      "\n"
     ]
    },
    {
     "name": "stdout",
     "output_type": "stream",
     "text": [
      "\n",
      "Testing pipeline_2D_thr_0.5_flow_0.2_2_0 pipeline\n"
     ]
    },
    {
     "name": "stderr",
     "output_type": "stream",
     "text": [
      "100%|██████████| 19/19 [00:00<00:00, 2806.05it/s]\n"
     ]
    },
    {
     "name": "stdout",
     "output_type": "stream",
     "text": [
      "[==========================================        ] 85.48%\n",
      "Testing pipeline_2D_thr_0.5_flow_0.2_2_1 pipeline\n"
     ]
    },
    {
     "name": "stderr",
     "output_type": "stream",
     "text": [
      "100%|██████████| 19/19 [00:00<00:00, 3434.55it/s]\n"
     ]
    },
    {
     "name": "stdout",
     "output_type": "stream",
     "text": [
      "Number of cells after linking: 130\n",
      "[==========================================        ] 85.58%\n",
      "Testing pipeline_2D_thr_0.5_flow_0.2_2_2 pipeline\n"
     ]
    },
    {
     "name": "stderr",
     "output_type": "stream",
     "text": [
      "100%|██████████| 19/19 [00:00<00:00, 3568.66it/s]\n"
     ]
    },
    {
     "name": "stdout",
     "output_type": "stream",
     "text": [
      "[==========================================        ] 85.67%\n",
      "Testing pipeline_2D_thr_0.5_flow_0.2_2_3 pipeline\n"
     ]
    },
    {
     "name": "stderr",
     "output_type": "stream",
     "text": [
      "100%|██████████| 19/19 [00:00<00:00, 3433.21it/s]"
     ]
    },
    {
     "name": "stdout",
     "output_type": "stream",
     "text": [
      "[==========================================        ] 85.77%"
     ]
    },
    {
     "name": "stderr",
     "output_type": "stream",
     "text": [
      "\n"
     ]
    },
    {
     "name": "stdout",
     "output_type": "stream",
     "text": [
      "\n",
      "Testing pipeline_2D_thr_0.5_flow_0.2_3_0 pipeline\n"
     ]
    },
    {
     "name": "stderr",
     "output_type": "stream",
     "text": [
      "100%|██████████| 19/19 [00:00<00:00, 2648.62it/s]\n"
     ]
    },
    {
     "name": "stdout",
     "output_type": "stream",
     "text": [
      "[==========================================        ] 85.87%\n",
      "Testing pipeline_2D_thr_0.5_flow_0.2_3_1 pipeline\n"
     ]
    },
    {
     "name": "stderr",
     "output_type": "stream",
     "text": [
      "100%|██████████| 19/19 [00:00<00:00, 3417.90it/s]\n"
     ]
    },
    {
     "name": "stdout",
     "output_type": "stream",
     "text": [
      "Number of cells after linking: 127\n",
      "[==========================================        ] 85.96%\n",
      "Testing pipeline_2D_thr_0.5_flow_0.2_3_2 pipeline\n"
     ]
    },
    {
     "name": "stderr",
     "output_type": "stream",
     "text": [
      "100%|██████████| 19/19 [00:00<00:00, 3782.96it/s]\n"
     ]
    },
    {
     "name": "stdout",
     "output_type": "stream",
     "text": [
      "[===========================================       ] 86.06%\n",
      "Testing pipeline_2D_thr_0.5_flow_0.2_3_3 pipeline\n"
     ]
    },
    {
     "name": "stderr",
     "output_type": "stream",
     "text": [
      "100%|██████████| 19/19 [00:00<00:00, 3634.25it/s]"
     ]
    },
    {
     "name": "stdout",
     "output_type": "stream",
     "text": [
      "[===========================================       ] 86.15%"
     ]
    },
    {
     "name": "stderr",
     "output_type": "stream",
     "text": [
      "\n"
     ]
    },
    {
     "name": "stdout",
     "output_type": "stream",
     "text": [
      "\n",
      "Testing pipeline_2D_thr_0.5_flow_0.2_4_0 pipeline\n"
     ]
    },
    {
     "name": "stderr",
     "output_type": "stream",
     "text": [
      "100%|██████████| 19/19 [00:00<00:00, 3637.07it/s]\n"
     ]
    },
    {
     "name": "stdout",
     "output_type": "stream",
     "text": [
      "[===========================================       ] 86.25%\n",
      "Testing pipeline_2D_thr_0.5_flow_0.2_4_1 pipeline\n"
     ]
    },
    {
     "name": "stderr",
     "output_type": "stream",
     "text": [
      "100%|██████████| 19/19 [00:00<00:00, 4074.85it/s]\n"
     ]
    },
    {
     "name": "stdout",
     "output_type": "stream",
     "text": [
      "Number of cells after linking: 134\n",
      "[===========================================       ] 86.35%\n",
      "Testing pipeline_2D_thr_0.5_flow_0.2_4_2 pipeline\n"
     ]
    },
    {
     "name": "stderr",
     "output_type": "stream",
     "text": [
      "100%|██████████| 19/19 [00:00<00:00, 3636.74it/s]\n"
     ]
    },
    {
     "name": "stdout",
     "output_type": "stream",
     "text": [
      "[===========================================       ] 86.44%\n",
      "Testing pipeline_2D_thr_0.5_flow_0.2_4_3 pipeline\n"
     ]
    },
    {
     "name": "stderr",
     "output_type": "stream",
     "text": [
      "100%|██████████| 19/19 [00:00<00:00, 3881.72it/s]"
     ]
    },
    {
     "name": "stdout",
     "output_type": "stream",
     "text": [
      "[===========================================       ] 86.54%"
     ]
    },
    {
     "name": "stderr",
     "output_type": "stream",
     "text": [
      "\n"
     ]
    },
    {
     "name": "stdout",
     "output_type": "stream",
     "text": [
      "\n",
      "Testing pipeline_2D_thr_0.5_flow_0.3_0_0 pipeline\n"
     ]
    },
    {
     "name": "stderr",
     "output_type": "stream",
     "text": [
      "100%|██████████| 19/19 [00:00<00:00, 3718.53it/s]\n"
     ]
    },
    {
     "name": "stdout",
     "output_type": "stream",
     "text": [
      "[===========================================       ] 86.63%\n",
      "Testing pipeline_2D_thr_0.5_flow_0.3_0_1 pipeline\n"
     ]
    },
    {
     "name": "stderr",
     "output_type": "stream",
     "text": [
      "100%|██████████| 19/19 [00:00<00:00, 3622.35it/s]\n"
     ]
    },
    {
     "name": "stdout",
     "output_type": "stream",
     "text": [
      "Number of cells after linking: 139\n",
      "[===========================================       ] 86.73%\n",
      "Testing pipeline_2D_thr_0.5_flow_0.3_0_2 pipeline\n"
     ]
    },
    {
     "name": "stderr",
     "output_type": "stream",
     "text": [
      "100%|██████████| 19/19 [00:00<00:00, 3687.90it/s]\n"
     ]
    },
    {
     "name": "stdout",
     "output_type": "stream",
     "text": [
      "[===========================================       ] 86.83%\n",
      "Testing pipeline_2D_thr_0.5_flow_0.3_0_3 pipeline\n"
     ]
    },
    {
     "name": "stderr",
     "output_type": "stream",
     "text": [
      "100%|██████████| 19/19 [00:00<00:00, 2809.41it/s]"
     ]
    },
    {
     "name": "stdout",
     "output_type": "stream",
     "text": [
      "[===========================================       ] 86.92%"
     ]
    },
    {
     "name": "stderr",
     "output_type": "stream",
     "text": [
      "\n"
     ]
    },
    {
     "name": "stdout",
     "output_type": "stream",
     "text": [
      "\n",
      "Testing pipeline_2D_thr_0.5_flow_0.3_1_0 pipeline\n"
     ]
    },
    {
     "name": "stderr",
     "output_type": "stream",
     "text": [
      "100%|██████████| 19/19 [00:00<00:00, 3688.41it/s]\n"
     ]
    },
    {
     "name": "stdout",
     "output_type": "stream",
     "text": [
      "[===========================================       ] 87.02%\n",
      "Testing pipeline_2D_thr_0.5_flow_0.3_1_1 pipeline\n"
     ]
    },
    {
     "name": "stderr",
     "output_type": "stream",
     "text": [
      "100%|██████████| 19/19 [00:00<00:00, 3498.17it/s]\n"
     ]
    },
    {
     "name": "stdout",
     "output_type": "stream",
     "text": [
      "Number of cells after linking: 133\n",
      "[===========================================       ] 87.12%\n",
      "Testing pipeline_2D_thr_0.5_flow_0.3_1_2 pipeline\n"
     ]
    },
    {
     "name": "stderr",
     "output_type": "stream",
     "text": [
      "100%|██████████| 19/19 [00:00<00:00, 2916.87it/s]\n"
     ]
    },
    {
     "name": "stdout",
     "output_type": "stream",
     "text": [
      "[===========================================       ] 87.21%\n",
      "Testing pipeline_2D_thr_0.5_flow_0.3_1_3 pipeline\n"
     ]
    },
    {
     "name": "stderr",
     "output_type": "stream",
     "text": [
      "100%|██████████| 19/19 [00:00<00:00, 3527.90it/s]"
     ]
    },
    {
     "name": "stdout",
     "output_type": "stream",
     "text": [
      "[===========================================       ] 87.31%"
     ]
    },
    {
     "name": "stderr",
     "output_type": "stream",
     "text": [
      "\n"
     ]
    },
    {
     "name": "stdout",
     "output_type": "stream",
     "text": [
      "\n",
      "Testing pipeline_2D_thr_0.5_flow_0.3_2_0 pipeline\n"
     ]
    },
    {
     "name": "stderr",
     "output_type": "stream",
     "text": [
      "100%|██████████| 19/19 [00:00<00:00, 2907.40it/s]\n"
     ]
    },
    {
     "name": "stdout",
     "output_type": "stream",
     "text": [
      "[===========================================       ] 87.40%\n",
      "Testing pipeline_2D_thr_0.5_flow_0.3_2_1 pipeline\n"
     ]
    },
    {
     "name": "stderr",
     "output_type": "stream",
     "text": [
      "100%|██████████| 19/19 [00:00<00:00, 2492.94it/s]\n"
     ]
    },
    {
     "name": "stdout",
     "output_type": "stream",
     "text": [
      "Number of cells after linking: 130\n",
      "[===========================================       ] 87.50%\n",
      "Testing pipeline_2D_thr_0.5_flow_0.3_2_2 pipeline\n"
     ]
    },
    {
     "name": "stderr",
     "output_type": "stream",
     "text": [
      "100%|██████████| 19/19 [00:00<00:00, 2749.04it/s]\n"
     ]
    },
    {
     "name": "stdout",
     "output_type": "stream",
     "text": [
      "[===========================================       ] 87.60%\n",
      "Testing pipeline_2D_thr_0.5_flow_0.3_2_3 pipeline\n"
     ]
    },
    {
     "name": "stderr",
     "output_type": "stream",
     "text": [
      "100%|██████████| 19/19 [00:00<00:00, 2751.60it/s]"
     ]
    },
    {
     "name": "stdout",
     "output_type": "stream",
     "text": [
      "[===========================================       ] 87.69%"
     ]
    },
    {
     "name": "stderr",
     "output_type": "stream",
     "text": [
      "\n"
     ]
    },
    {
     "name": "stdout",
     "output_type": "stream",
     "text": [
      "\n",
      "Testing pipeline_2D_thr_0.5_flow_0.3_3_0 pipeline\n"
     ]
    },
    {
     "name": "stderr",
     "output_type": "stream",
     "text": [
      "100%|██████████| 19/19 [00:00<00:00, 3390.13it/s]\n"
     ]
    },
    {
     "name": "stdout",
     "output_type": "stream",
     "text": [
      "[===========================================       ] 87.79%\n",
      "Testing pipeline_2D_thr_0.5_flow_0.3_3_1 pipeline\n"
     ]
    },
    {
     "name": "stderr",
     "output_type": "stream",
     "text": [
      "100%|██████████| 19/19 [00:00<00:00, 3693.71it/s]\n"
     ]
    },
    {
     "name": "stdout",
     "output_type": "stream",
     "text": [
      "Number of cells after linking: 127\n",
      "[===========================================       ] 87.88%\n",
      "Testing pipeline_2D_thr_0.5_flow_0.3_3_2 pipeline\n"
     ]
    },
    {
     "name": "stderr",
     "output_type": "stream",
     "text": [
      "100%|██████████| 19/19 [00:00<00:00, 3430.70it/s]\n"
     ]
    },
    {
     "name": "stdout",
     "output_type": "stream",
     "text": [
      "[===========================================       ] 87.98%\n",
      "Testing pipeline_2D_thr_0.5_flow_0.3_3_3 pipeline\n"
     ]
    },
    {
     "name": "stderr",
     "output_type": "stream",
     "text": [
      "100%|██████████| 19/19 [00:00<00:00, 3364.79it/s]"
     ]
    },
    {
     "name": "stdout",
     "output_type": "stream",
     "text": [
      "[============================================      ] 88.08%"
     ]
    },
    {
     "name": "stderr",
     "output_type": "stream",
     "text": [
      "\n"
     ]
    },
    {
     "name": "stdout",
     "output_type": "stream",
     "text": [
      "\n",
      "Testing pipeline_2D_thr_0.5_flow_0.3_4_0 pipeline\n"
     ]
    },
    {
     "name": "stderr",
     "output_type": "stream",
     "text": [
      "100%|██████████| 19/19 [00:00<00:00, 3554.65it/s]\n"
     ]
    },
    {
     "name": "stdout",
     "output_type": "stream",
     "text": [
      "[============================================      ] 88.17%\n",
      "Testing pipeline_2D_thr_0.5_flow_0.3_4_1 pipeline\n"
     ]
    },
    {
     "name": "stderr",
     "output_type": "stream",
     "text": [
      "100%|██████████| 19/19 [00:00<00:00, 2645.63it/s]\n"
     ]
    },
    {
     "name": "stdout",
     "output_type": "stream",
     "text": [
      "Number of cells after linking: 134\n",
      "[============================================      ] 88.27%\n",
      "Testing pipeline_2D_thr_0.5_flow_0.3_4_2 pipeline\n"
     ]
    },
    {
     "name": "stderr",
     "output_type": "stream",
     "text": [
      "100%|██████████| 19/19 [00:00<00:00, 4112.91it/s]\n"
     ]
    },
    {
     "name": "stdout",
     "output_type": "stream",
     "text": [
      "[============================================      ] 88.37%\n",
      "Testing pipeline_2D_thr_0.5_flow_0.3_4_3 pipeline\n"
     ]
    },
    {
     "name": "stderr",
     "output_type": "stream",
     "text": [
      "100%|██████████| 19/19 [00:00<00:00, 3705.04it/s]"
     ]
    },
    {
     "name": "stdout",
     "output_type": "stream",
     "text": [
      "[============================================      ] 88.46%"
     ]
    },
    {
     "name": "stderr",
     "output_type": "stream",
     "text": [
      "\n"
     ]
    },
    {
     "name": "stdout",
     "output_type": "stream",
     "text": [
      "\n",
      "Testing pipeline_2D_thr_0.5_flow_0.5_0_0 pipeline\n"
     ]
    },
    {
     "name": "stderr",
     "output_type": "stream",
     "text": [
      "100%|██████████| 19/19 [00:00<00:00, 3298.64it/s]\n"
     ]
    },
    {
     "name": "stdout",
     "output_type": "stream",
     "text": [
      "[============================================      ] 88.56%\n",
      "Testing pipeline_2D_thr_0.5_flow_0.5_0_1 pipeline\n"
     ]
    },
    {
     "name": "stderr",
     "output_type": "stream",
     "text": [
      "100%|██████████| 19/19 [00:00<00:00, 3381.50it/s]\n"
     ]
    },
    {
     "name": "stdout",
     "output_type": "stream",
     "text": [
      "Number of cells after linking: 139\n",
      "[============================================      ] 88.65%\n",
      "Testing pipeline_2D_thr_0.5_flow_0.5_0_2 pipeline\n"
     ]
    },
    {
     "name": "stderr",
     "output_type": "stream",
     "text": [
      "100%|██████████| 19/19 [00:00<00:00, 2546.47it/s]\n"
     ]
    },
    {
     "name": "stdout",
     "output_type": "stream",
     "text": [
      "[============================================      ] 88.75%\n",
      "Testing pipeline_2D_thr_0.5_flow_0.5_0_3 pipeline\n"
     ]
    },
    {
     "name": "stderr",
     "output_type": "stream",
     "text": [
      "100%|██████████| 19/19 [00:00<00:00, 3579.08it/s]"
     ]
    },
    {
     "name": "stdout",
     "output_type": "stream",
     "text": [
      "[============================================      ] 88.85%"
     ]
    },
    {
     "name": "stderr",
     "output_type": "stream",
     "text": [
      "\n"
     ]
    },
    {
     "name": "stdout",
     "output_type": "stream",
     "text": [
      "\n",
      "Testing pipeline_2D_thr_0.5_flow_0.5_1_0 pipeline\n"
     ]
    },
    {
     "name": "stderr",
     "output_type": "stream",
     "text": [
      "100%|██████████| 19/19 [00:00<00:00, 2505.09it/s]\n"
     ]
    },
    {
     "name": "stdout",
     "output_type": "stream",
     "text": [
      "[============================================      ] 88.94%\n",
      "Testing pipeline_2D_thr_0.5_flow_0.5_1_1 pipeline\n"
     ]
    },
    {
     "name": "stderr",
     "output_type": "stream",
     "text": [
      "100%|██████████| 19/19 [00:00<00:00, 3415.26it/s]\n"
     ]
    },
    {
     "name": "stdout",
     "output_type": "stream",
     "text": [
      "Number of cells after linking: 133\n",
      "[============================================      ] 89.04%\n",
      "Testing pipeline_2D_thr_0.5_flow_0.5_1_2 pipeline\n"
     ]
    },
    {
     "name": "stderr",
     "output_type": "stream",
     "text": [
      "100%|██████████| 19/19 [00:00<00:00, 2916.87it/s]\n"
     ]
    },
    {
     "name": "stdout",
     "output_type": "stream",
     "text": [
      "[============================================      ] 89.13%\n",
      "Testing pipeline_2D_thr_0.5_flow_0.5_1_3 pipeline\n"
     ]
    },
    {
     "name": "stderr",
     "output_type": "stream",
     "text": [
      "100%|██████████| 19/19 [00:00<00:00, 3420.84it/s]"
     ]
    },
    {
     "name": "stdout",
     "output_type": "stream",
     "text": [
      "[============================================      ] 89.23%"
     ]
    },
    {
     "name": "stderr",
     "output_type": "stream",
     "text": [
      "\n"
     ]
    },
    {
     "name": "stdout",
     "output_type": "stream",
     "text": [
      "\n",
      "Testing pipeline_2D_thr_0.5_flow_0.5_2_0 pipeline\n"
     ]
    },
    {
     "name": "stderr",
     "output_type": "stream",
     "text": [
      "100%|██████████| 19/19 [00:00<00:00, 2729.45it/s]\n"
     ]
    },
    {
     "name": "stdout",
     "output_type": "stream",
     "text": [
      "[============================================      ] 89.33%\n",
      "Testing pipeline_2D_thr_0.5_flow_0.5_2_1 pipeline\n"
     ]
    },
    {
     "name": "stderr",
     "output_type": "stream",
     "text": [
      "100%|██████████| 19/19 [00:00<00:00, 3283.55it/s]\n"
     ]
    },
    {
     "name": "stdout",
     "output_type": "stream",
     "text": [
      "Number of cells after linking: 130\n",
      "[============================================      ] 89.42%\n",
      "Testing pipeline_2D_thr_0.5_flow_0.5_2_2 pipeline\n"
     ]
    },
    {
     "name": "stderr",
     "output_type": "stream",
     "text": [
      "100%|██████████| 19/19 [00:00<00:00, 3385.38it/s]\n"
     ]
    },
    {
     "name": "stdout",
     "output_type": "stream",
     "text": [
      "[============================================      ] 89.52%\n",
      "Testing pipeline_2D_thr_0.5_flow_0.5_2_3 pipeline\n"
     ]
    },
    {
     "name": "stderr",
     "output_type": "stream",
     "text": [
      "100%|██████████| 19/19 [00:00<00:00, 3616.11it/s]"
     ]
    },
    {
     "name": "stdout",
     "output_type": "stream",
     "text": [
      "[============================================      ] 89.62%"
     ]
    },
    {
     "name": "stderr",
     "output_type": "stream",
     "text": [
      "\n"
     ]
    },
    {
     "name": "stdout",
     "output_type": "stream",
     "text": [
      "\n",
      "Testing pipeline_2D_thr_0.5_flow_0.5_3_0 pipeline\n"
     ]
    },
    {
     "name": "stderr",
     "output_type": "stream",
     "text": [
      "100%|██████████| 19/19 [00:00<00:00, 3767.04it/s]\n"
     ]
    },
    {
     "name": "stdout",
     "output_type": "stream",
     "text": [
      "[============================================      ] 89.71%\n",
      "Testing pipeline_2D_thr_0.5_flow_0.5_3_1 pipeline\n"
     ]
    },
    {
     "name": "stderr",
     "output_type": "stream",
     "text": [
      "100%|██████████| 19/19 [00:00<00:00, 3513.75it/s]\n"
     ]
    },
    {
     "name": "stdout",
     "output_type": "stream",
     "text": [
      "Number of cells after linking: 127\n",
      "[============================================      ] 89.81%\n",
      "Testing pipeline_2D_thr_0.5_flow_0.5_3_2 pipeline\n"
     ]
    },
    {
     "name": "stderr",
     "output_type": "stream",
     "text": [
      "100%|██████████| 19/19 [00:00<00:00, 3692.85it/s]\n"
     ]
    },
    {
     "name": "stdout",
     "output_type": "stream",
     "text": [
      "[============================================      ] 89.90%\n",
      "Testing pipeline_2D_thr_0.5_flow_0.5_3_3 pipeline\n"
     ]
    },
    {
     "name": "stderr",
     "output_type": "stream",
     "text": [
      "100%|██████████| 19/19 [00:00<00:00, 3647.89it/s]"
     ]
    },
    {
     "name": "stdout",
     "output_type": "stream",
     "text": [
      "[=============================================     ] 90.00%"
     ]
    },
    {
     "name": "stderr",
     "output_type": "stream",
     "text": [
      "\n"
     ]
    },
    {
     "name": "stdout",
     "output_type": "stream",
     "text": [
      "\n",
      "Testing pipeline_2D_thr_0.5_flow_0.5_4_0 pipeline\n"
     ]
    },
    {
     "name": "stderr",
     "output_type": "stream",
     "text": [
      "100%|██████████| 19/19 [00:00<00:00, 3879.27it/s]\n"
     ]
    },
    {
     "name": "stdout",
     "output_type": "stream",
     "text": [
      "[=============================================     ] 90.10%\n",
      "Testing pipeline_2D_thr_0.5_flow_0.5_4_1 pipeline\n"
     ]
    },
    {
     "name": "stderr",
     "output_type": "stream",
     "text": [
      "100%|██████████| 19/19 [00:00<00:00, 3532.75it/s]\n"
     ]
    },
    {
     "name": "stdout",
     "output_type": "stream",
     "text": [
      "Number of cells after linking: 134\n",
      "[=============================================     ] 90.19%\n",
      "Testing pipeline_2D_thr_0.5_flow_0.5_4_2 pipeline\n"
     ]
    },
    {
     "name": "stderr",
     "output_type": "stream",
     "text": [
      "100%|██████████| 19/19 [00:00<00:00, 3721.65it/s]\n"
     ]
    },
    {
     "name": "stdout",
     "output_type": "stream",
     "text": [
      "[=============================================     ] 90.29%\n",
      "Testing pipeline_2D_thr_0.5_flow_0.5_4_3 pipeline\n"
     ]
    },
    {
     "name": "stderr",
     "output_type": "stream",
     "text": [
      "100%|██████████| 19/19 [00:00<00:00, 3285.04it/s]"
     ]
    },
    {
     "name": "stdout",
     "output_type": "stream",
     "text": [
      "[=============================================     ] 90.38%"
     ]
    },
    {
     "name": "stderr",
     "output_type": "stream",
     "text": [
      "\n"
     ]
    },
    {
     "name": "stdout",
     "output_type": "stream",
     "text": [
      "\n",
      "Testing pipeline_2D_thr_0.5_flow_0.6_0_0 pipeline\n"
     ]
    },
    {
     "name": "stderr",
     "output_type": "stream",
     "text": [
      "100%|██████████| 19/19 [00:00<00:00, 3353.75it/s]\n"
     ]
    },
    {
     "name": "stdout",
     "output_type": "stream",
     "text": [
      "[=============================================     ] 90.48%\n",
      "Testing pipeline_2D_thr_0.5_flow_0.6_0_1 pipeline\n"
     ]
    },
    {
     "name": "stderr",
     "output_type": "stream",
     "text": [
      "100%|██████████| 19/19 [00:00<00:00, 3612.99it/s]\n"
     ]
    },
    {
     "name": "stdout",
     "output_type": "stream",
     "text": [
      "Number of cells after linking: 139\n",
      "[=============================================     ] 90.58%\n",
      "Testing pipeline_2D_thr_0.5_flow_0.6_0_2 pipeline\n"
     ]
    },
    {
     "name": "stderr",
     "output_type": "stream",
     "text": [
      "100%|██████████| 19/19 [00:00<00:00, 3754.80it/s]\n"
     ]
    },
    {
     "name": "stdout",
     "output_type": "stream",
     "text": [
      "[=============================================     ] 90.67%\n",
      "Testing pipeline_2D_thr_0.5_flow_0.6_0_3 pipeline\n"
     ]
    },
    {
     "name": "stderr",
     "output_type": "stream",
     "text": [
      "100%|██████████| 19/19 [00:00<00:00, 3492.04it/s]"
     ]
    },
    {
     "name": "stdout",
     "output_type": "stream",
     "text": [
      "[=============================================     ] 90.77%"
     ]
    },
    {
     "name": "stderr",
     "output_type": "stream",
     "text": [
      "\n"
     ]
    },
    {
     "name": "stdout",
     "output_type": "stream",
     "text": [
      "\n",
      "Testing pipeline_2D_thr_0.5_flow_0.6_1_0 pipeline\n"
     ]
    },
    {
     "name": "stderr",
     "output_type": "stream",
     "text": [
      "100%|██████████| 19/19 [00:00<00:00, 3112.84it/s]\n"
     ]
    },
    {
     "name": "stdout",
     "output_type": "stream",
     "text": [
      "[=============================================     ] 90.87%\n",
      "Testing pipeline_2D_thr_0.5_flow_0.6_1_1 pipeline\n"
     ]
    },
    {
     "name": "stderr",
     "output_type": "stream",
     "text": [
      "100%|██████████| 19/19 [00:00<00:00, 3183.72it/s]\n"
     ]
    },
    {
     "name": "stdout",
     "output_type": "stream",
     "text": [
      "Number of cells after linking: 133\n",
      "[=============================================     ] 90.96%\n",
      "Testing pipeline_2D_thr_0.5_flow_0.6_1_2 pipeline\n"
     ]
    },
    {
     "name": "stderr",
     "output_type": "stream",
     "text": [
      "100%|██████████| 19/19 [00:00<00:00, 3491.43it/s]\n"
     ]
    },
    {
     "name": "stdout",
     "output_type": "stream",
     "text": [
      "[=============================================     ] 91.06%\n",
      "Testing pipeline_2D_thr_0.5_flow_0.6_1_3 pipeline\n"
     ]
    },
    {
     "name": "stderr",
     "output_type": "stream",
     "text": [
      "100%|██████████| 19/19 [00:00<00:00, 3645.72it/s]"
     ]
    },
    {
     "name": "stdout",
     "output_type": "stream",
     "text": [
      "[=============================================     ] 91.15%"
     ]
    },
    {
     "name": "stderr",
     "output_type": "stream",
     "text": [
      "\n"
     ]
    },
    {
     "name": "stdout",
     "output_type": "stream",
     "text": [
      "\n",
      "Testing pipeline_2D_thr_0.5_flow_0.6_2_0 pipeline\n"
     ]
    },
    {
     "name": "stderr",
     "output_type": "stream",
     "text": [
      "100%|██████████| 19/19 [00:00<00:00, 3321.60it/s]\n"
     ]
    },
    {
     "name": "stdout",
     "output_type": "stream",
     "text": [
      "[=============================================     ] 91.25%\n",
      "Testing pipeline_2D_thr_0.5_flow_0.6_2_1 pipeline\n"
     ]
    },
    {
     "name": "stderr",
     "output_type": "stream",
     "text": [
      "100%|██████████| 19/19 [00:00<00:00, 3400.98it/s]\n"
     ]
    },
    {
     "name": "stdout",
     "output_type": "stream",
     "text": [
      "Number of cells after linking: 130\n",
      "[=============================================     ] 91.35%\n",
      "Testing pipeline_2D_thr_0.5_flow_0.6_2_2 pipeline\n"
     ]
    },
    {
     "name": "stderr",
     "output_type": "stream",
     "text": [
      "100%|██████████| 19/19 [00:00<00:00, 3462.00it/s]\n"
     ]
    },
    {
     "name": "stdout",
     "output_type": "stream",
     "text": [
      "[=============================================     ] 91.44%\n",
      "Testing pipeline_2D_thr_0.5_flow_0.6_2_3 pipeline\n"
     ]
    },
    {
     "name": "stderr",
     "output_type": "stream",
     "text": [
      "100%|██████████| 19/19 [00:00<00:00, 3848.91it/s]"
     ]
    },
    {
     "name": "stdout",
     "output_type": "stream",
     "text": [
      "[=============================================     ] 91.54%"
     ]
    },
    {
     "name": "stderr",
     "output_type": "stream",
     "text": [
      "\n"
     ]
    },
    {
     "name": "stdout",
     "output_type": "stream",
     "text": [
      "\n",
      "Testing pipeline_2D_thr_0.5_flow_0.6_3_0 pipeline\n"
     ]
    },
    {
     "name": "stderr",
     "output_type": "stream",
     "text": [
      "100%|██████████| 19/19 [00:00<00:00, 3591.98it/s]\n"
     ]
    },
    {
     "name": "stdout",
     "output_type": "stream",
     "text": [
      "[=============================================     ] 91.63%\n",
      "Testing pipeline_2D_thr_0.5_flow_0.6_3_1 pipeline\n"
     ]
    },
    {
     "name": "stderr",
     "output_type": "stream",
     "text": [
      "100%|██████████| 19/19 [00:00<00:00, 3451.95it/s]\n"
     ]
    },
    {
     "name": "stdout",
     "output_type": "stream",
     "text": [
      "Number of cells after linking: 127\n",
      "[=============================================     ] 91.73%\n",
      "Testing pipeline_2D_thr_0.5_flow_0.6_3_2 pipeline\n"
     ]
    },
    {
     "name": "stderr",
     "output_type": "stream",
     "text": [
      "100%|██████████| 19/19 [00:00<00:00, 2551.85it/s]\n"
     ]
    },
    {
     "name": "stdout",
     "output_type": "stream",
     "text": [
      "[=============================================     ] 91.83%\n",
      "Testing pipeline_2D_thr_0.5_flow_0.6_3_3 pipeline\n"
     ]
    },
    {
     "name": "stderr",
     "output_type": "stream",
     "text": [
      "100%|██████████| 19/19 [00:00<00:00, 3771.14it/s]"
     ]
    },
    {
     "name": "stdout",
     "output_type": "stream",
     "text": [
      "[=============================================     ] 91.92%"
     ]
    },
    {
     "name": "stderr",
     "output_type": "stream",
     "text": [
      "\n"
     ]
    },
    {
     "name": "stdout",
     "output_type": "stream",
     "text": [
      "\n",
      "Testing pipeline_2D_thr_0.5_flow_0.6_4_0 pipeline\n"
     ]
    },
    {
     "name": "stderr",
     "output_type": "stream",
     "text": [
      "100%|██████████| 19/19 [00:00<00:00, 3912.79it/s]\n"
     ]
    },
    {
     "name": "stdout",
     "output_type": "stream",
     "text": [
      "[==============================================    ] 92.02%\n",
      "Testing pipeline_2D_thr_0.5_flow_0.6_4_1 pipeline\n"
     ]
    },
    {
     "name": "stderr",
     "output_type": "stream",
     "text": [
      "100%|██████████| 19/19 [00:00<00:00, 3606.45it/s]\n"
     ]
    },
    {
     "name": "stdout",
     "output_type": "stream",
     "text": [
      "Number of cells after linking: 134\n",
      "[==============================================    ] 92.12%\n",
      "Testing pipeline_2D_thr_0.5_flow_0.6_4_2 pipeline\n"
     ]
    },
    {
     "name": "stderr",
     "output_type": "stream",
     "text": [
      "100%|██████████| 19/19 [00:00<00:00, 2950.67it/s]\n"
     ]
    },
    {
     "name": "stdout",
     "output_type": "stream",
     "text": [
      "[==============================================    ] 92.21%\n",
      "Testing pipeline_2D_thr_0.5_flow_0.6_4_3 pipeline\n"
     ]
    },
    {
     "name": "stderr",
     "output_type": "stream",
     "text": [
      "100%|██████████| 19/19 [00:00<00:00, 3600.59it/s]"
     ]
    },
    {
     "name": "stdout",
     "output_type": "stream",
     "text": [
      "[==============================================    ] 92.31%"
     ]
    },
    {
     "name": "stderr",
     "output_type": "stream",
     "text": [
      "\n"
     ]
    },
    {
     "name": "stdout",
     "output_type": "stream",
     "text": [
      "\n",
      "Testing pipeline_2D_thr_0.6_flow_0.2_0_0 pipeline\n"
     ]
    },
    {
     "name": "stderr",
     "output_type": "stream",
     "text": [
      "100%|██████████| 19/19 [00:00<00:00, 2452.51it/s]\n"
     ]
    },
    {
     "name": "stdout",
     "output_type": "stream",
     "text": [
      "[==============================================    ] 92.40%\n",
      "Testing pipeline_2D_thr_0.6_flow_0.2_0_1 pipeline\n"
     ]
    },
    {
     "name": "stderr",
     "output_type": "stream",
     "text": [
      "100%|██████████| 19/19 [00:00<00:00, 2690.29it/s]\n"
     ]
    },
    {
     "name": "stdout",
     "output_type": "stream",
     "text": [
      "Number of cells after linking: 139\n",
      "[==============================================    ] 92.50%\n",
      "Testing pipeline_2D_thr_0.6_flow_0.2_0_2 pipeline\n"
     ]
    },
    {
     "name": "stderr",
     "output_type": "stream",
     "text": [
      "100%|██████████| 19/19 [00:00<00:00, 3377.92it/s]\n"
     ]
    },
    {
     "name": "stdout",
     "output_type": "stream",
     "text": [
      "[==============================================    ] 92.60%\n",
      "Testing pipeline_2D_thr_0.6_flow_0.2_0_3 pipeline\n"
     ]
    },
    {
     "name": "stderr",
     "output_type": "stream",
     "text": [
      "100%|██████████| 19/19 [00:00<00:00, 3263.78it/s]"
     ]
    },
    {
     "name": "stdout",
     "output_type": "stream",
     "text": [
      "[==============================================    ] 92.69%"
     ]
    },
    {
     "name": "stderr",
     "output_type": "stream",
     "text": [
      "\n"
     ]
    },
    {
     "name": "stdout",
     "output_type": "stream",
     "text": [
      "\n",
      "Testing pipeline_2D_thr_0.6_flow_0.2_1_0 pipeline\n"
     ]
    },
    {
     "name": "stderr",
     "output_type": "stream",
     "text": [
      "100%|██████████| 19/19 [00:00<00:00, 3267.80it/s]\n"
     ]
    },
    {
     "name": "stdout",
     "output_type": "stream",
     "text": [
      "[==============================================    ] 92.79%\n",
      "Testing pipeline_2D_thr_0.6_flow_0.2_1_1 pipeline\n"
     ]
    },
    {
     "name": "stderr",
     "output_type": "stream",
     "text": [
      "100%|██████████| 19/19 [00:00<00:00, 3053.09it/s]\n"
     ]
    },
    {
     "name": "stdout",
     "output_type": "stream",
     "text": [
      "Number of cells after linking: 133\n",
      "[==============================================    ] 92.88%\n",
      "Testing pipeline_2D_thr_0.6_flow_0.2_1_2 pipeline\n"
     ]
    },
    {
     "name": "stderr",
     "output_type": "stream",
     "text": [
      "100%|██████████| 19/19 [00:00<00:00, 3065.42it/s]\n"
     ]
    },
    {
     "name": "stdout",
     "output_type": "stream",
     "text": [
      "[==============================================    ] 92.98%\n",
      "Testing pipeline_2D_thr_0.6_flow_0.2_1_3 pipeline\n"
     ]
    },
    {
     "name": "stderr",
     "output_type": "stream",
     "text": [
      "100%|██████████| 19/19 [00:00<00:00, 3460.35it/s]"
     ]
    },
    {
     "name": "stdout",
     "output_type": "stream",
     "text": [
      "[==============================================    ] 93.08%"
     ]
    },
    {
     "name": "stderr",
     "output_type": "stream",
     "text": [
      "\n"
     ]
    },
    {
     "name": "stdout",
     "output_type": "stream",
     "text": [
      "\n",
      "Testing pipeline_2D_thr_0.6_flow_0.2_2_0 pipeline\n"
     ]
    },
    {
     "name": "stderr",
     "output_type": "stream",
     "text": [
      "100%|██████████| 19/19 [00:00<00:00, 2739.77it/s]\n"
     ]
    },
    {
     "name": "stdout",
     "output_type": "stream",
     "text": [
      "[==============================================    ] 93.17%\n",
      "Testing pipeline_2D_thr_0.6_flow_0.2_2_1 pipeline\n"
     ]
    },
    {
     "name": "stderr",
     "output_type": "stream",
     "text": [
      "100%|██████████| 19/19 [00:00<00:00, 3217.92it/s]\n"
     ]
    },
    {
     "name": "stdout",
     "output_type": "stream",
     "text": [
      "Number of cells after linking: 130\n",
      "[==============================================    ] 93.27%\n",
      "Testing pipeline_2D_thr_0.6_flow_0.2_2_2 pipeline\n"
     ]
    },
    {
     "name": "stderr",
     "output_type": "stream",
     "text": [
      "100%|██████████| 19/19 [00:00<00:00, 3272.76it/s]\n"
     ]
    },
    {
     "name": "stdout",
     "output_type": "stream",
     "text": [
      "[==============================================    ] 93.37%\n",
      "Testing pipeline_2D_thr_0.6_flow_0.2_2_3 pipeline\n"
     ]
    },
    {
     "name": "stderr",
     "output_type": "stream",
     "text": [
      "100%|██████████| 19/19 [00:00<00:00, 2344.01it/s]"
     ]
    },
    {
     "name": "stdout",
     "output_type": "stream",
     "text": [
      "[==============================================    ] 93.46%"
     ]
    },
    {
     "name": "stderr",
     "output_type": "stream",
     "text": [
      "\n"
     ]
    },
    {
     "name": "stdout",
     "output_type": "stream",
     "text": [
      "\n",
      "Testing pipeline_2D_thr_0.6_flow_0.2_3_0 pipeline\n"
     ]
    },
    {
     "name": "stderr",
     "output_type": "stream",
     "text": [
      "100%|██████████| 19/19 [00:00<00:00, 3437.21it/s]\n"
     ]
    },
    {
     "name": "stdout",
     "output_type": "stream",
     "text": [
      "[==============================================    ] 93.56%\n",
      "Testing pipeline_2D_thr_0.6_flow_0.2_3_1 pipeline\n"
     ]
    },
    {
     "name": "stderr",
     "output_type": "stream",
     "text": [
      "100%|██████████| 19/19 [00:00<00:00, 3606.13it/s]\n"
     ]
    },
    {
     "name": "stdout",
     "output_type": "stream",
     "text": [
      "Number of cells after linking: 127\n",
      "[==============================================    ] 93.65%\n",
      "Testing pipeline_2D_thr_0.6_flow_0.2_3_2 pipeline\n"
     ]
    },
    {
     "name": "stderr",
     "output_type": "stream",
     "text": [
      "100%|██████████| 19/19 [00:00<00:00, 3233.19it/s]\n"
     ]
    },
    {
     "name": "stdout",
     "output_type": "stream",
     "text": [
      "[==============================================    ] 93.75%\n",
      "Testing pipeline_2D_thr_0.6_flow_0.2_3_3 pipeline\n"
     ]
    },
    {
     "name": "stderr",
     "output_type": "stream",
     "text": [
      "100%|██████████| 19/19 [00:00<00:00, 3241.35it/s]"
     ]
    },
    {
     "name": "stdout",
     "output_type": "stream",
     "text": [
      "[==============================================    ] 93.85%"
     ]
    },
    {
     "name": "stderr",
     "output_type": "stream",
     "text": [
      "\n"
     ]
    },
    {
     "name": "stdout",
     "output_type": "stream",
     "text": [
      "\n",
      "Testing pipeline_2D_thr_0.6_flow_0.2_4_0 pipeline\n"
     ]
    },
    {
     "name": "stderr",
     "output_type": "stream",
     "text": [
      "100%|██████████| 19/19 [00:00<00:00, 3292.10it/s]\n"
     ]
    },
    {
     "name": "stdout",
     "output_type": "stream",
     "text": [
      "[==============================================    ] 93.94%\n",
      "Testing pipeline_2D_thr_0.6_flow_0.2_4_1 pipeline\n"
     ]
    },
    {
     "name": "stderr",
     "output_type": "stream",
     "text": [
      "100%|██████████| 19/19 [00:00<00:00, 3379.63it/s]\n"
     ]
    },
    {
     "name": "stdout",
     "output_type": "stream",
     "text": [
      "Number of cells after linking: 134\n",
      "[===============================================   ] 94.04%\n",
      "Testing pipeline_2D_thr_0.6_flow_0.2_4_2 pipeline\n"
     ]
    },
    {
     "name": "stderr",
     "output_type": "stream",
     "text": [
      "100%|██████████| 19/19 [00:00<00:00, 3309.60it/s]\n"
     ]
    },
    {
     "name": "stdout",
     "output_type": "stream",
     "text": [
      "[===============================================   ] 94.13%\n",
      "Testing pipeline_2D_thr_0.6_flow_0.2_4_3 pipeline\n"
     ]
    },
    {
     "name": "stderr",
     "output_type": "stream",
     "text": [
      "100%|██████████| 19/19 [00:00<00:00, 3326.17it/s]"
     ]
    },
    {
     "name": "stdout",
     "output_type": "stream",
     "text": [
      "[===============================================   ] 94.23%"
     ]
    },
    {
     "name": "stderr",
     "output_type": "stream",
     "text": [
      "\n"
     ]
    },
    {
     "name": "stdout",
     "output_type": "stream",
     "text": [
      "\n",
      "Testing pipeline_2D_thr_0.6_flow_0.3_0_0 pipeline\n"
     ]
    },
    {
     "name": "stderr",
     "output_type": "stream",
     "text": [
      "100%|██████████| 19/19 [00:00<00:00, 3237.00it/s]\n"
     ]
    },
    {
     "name": "stdout",
     "output_type": "stream",
     "text": [
      "[===============================================   ] 94.33%\n",
      "Testing pipeline_2D_thr_0.6_flow_0.3_0_1 pipeline\n"
     ]
    },
    {
     "name": "stderr",
     "output_type": "stream",
     "text": [
      "100%|██████████| 19/19 [00:00<00:00, 3679.89it/s]\n"
     ]
    },
    {
     "name": "stdout",
     "output_type": "stream",
     "text": [
      "Number of cells after linking: 139\n",
      "[===============================================   ] 94.42%\n",
      "Testing pipeline_2D_thr_0.6_flow_0.3_0_2 pipeline\n"
     ]
    },
    {
     "name": "stderr",
     "output_type": "stream",
     "text": [
      "100%|██████████| 19/19 [00:00<00:00, 3424.51it/s]\n"
     ]
    },
    {
     "name": "stdout",
     "output_type": "stream",
     "text": [
      "[===============================================   ] 94.52%\n",
      "Testing pipeline_2D_thr_0.6_flow_0.3_0_3 pipeline\n"
     ]
    },
    {
     "name": "stderr",
     "output_type": "stream",
     "text": [
      "100%|██████████| 19/19 [00:00<00:00, 2576.77it/s]"
     ]
    },
    {
     "name": "stdout",
     "output_type": "stream",
     "text": [
      "[===============================================   ] 94.62%"
     ]
    },
    {
     "name": "stderr",
     "output_type": "stream",
     "text": [
      "\n"
     ]
    },
    {
     "name": "stdout",
     "output_type": "stream",
     "text": [
      "\n",
      "Testing pipeline_2D_thr_0.6_flow_0.3_1_0 pipeline\n"
     ]
    },
    {
     "name": "stderr",
     "output_type": "stream",
     "text": [
      "100%|██████████| 19/19 [00:00<00:00, 3202.53it/s]\n"
     ]
    },
    {
     "name": "stdout",
     "output_type": "stream",
     "text": [
      "[===============================================   ] 94.71%\n",
      "Testing pipeline_2D_thr_0.6_flow_0.3_1_1 pipeline\n"
     ]
    },
    {
     "name": "stderr",
     "output_type": "stream",
     "text": [
      "100%|██████████| 19/19 [00:00<00:00, 3103.14it/s]\n"
     ]
    },
    {
     "name": "stdout",
     "output_type": "stream",
     "text": [
      "Number of cells after linking: 133\n",
      "[===============================================   ] 94.81%\n",
      "Testing pipeline_2D_thr_0.6_flow_0.3_1_2 pipeline\n"
     ]
    },
    {
     "name": "stderr",
     "output_type": "stream",
     "text": [
      "100%|██████████| 19/19 [00:00<00:00, 3598.31it/s]\n"
     ]
    },
    {
     "name": "stdout",
     "output_type": "stream",
     "text": [
      "[===============================================   ] 94.90%\n",
      "Testing pipeline_2D_thr_0.6_flow_0.3_1_3 pipeline\n"
     ]
    },
    {
     "name": "stderr",
     "output_type": "stream",
     "text": [
      "100%|██████████| 19/19 [00:00<00:00, 3639.06it/s]"
     ]
    },
    {
     "name": "stdout",
     "output_type": "stream",
     "text": [
      "[===============================================   ] 95.00%"
     ]
    },
    {
     "name": "stderr",
     "output_type": "stream",
     "text": [
      "\n"
     ]
    },
    {
     "name": "stdout",
     "output_type": "stream",
     "text": [
      "\n",
      "Testing pipeline_2D_thr_0.6_flow_0.3_2_0 pipeline\n"
     ]
    },
    {
     "name": "stderr",
     "output_type": "stream",
     "text": [
      "100%|██████████| 19/19 [00:00<00:00, 3365.93it/s]\n"
     ]
    },
    {
     "name": "stdout",
     "output_type": "stream",
     "text": [
      "[===============================================   ] 95.10%\n",
      "Testing pipeline_2D_thr_0.6_flow_0.3_2_1 pipeline\n"
     ]
    },
    {
     "name": "stderr",
     "output_type": "stream",
     "text": [
      "100%|██████████| 19/19 [00:00<00:00, 3232.01it/s]\n"
     ]
    },
    {
     "name": "stdout",
     "output_type": "stream",
     "text": [
      "Number of cells after linking: 130\n",
      "[===============================================   ] 95.19%\n",
      "Testing pipeline_2D_thr_0.6_flow_0.3_2_2 pipeline\n"
     ]
    },
    {
     "name": "stderr",
     "output_type": "stream",
     "text": [
      "100%|██████████| 19/19 [00:00<00:00, 3290.47it/s]\n"
     ]
    },
    {
     "name": "stdout",
     "output_type": "stream",
     "text": [
      "[===============================================   ] 95.29%\n",
      "Testing pipeline_2D_thr_0.6_flow_0.3_2_3 pipeline\n"
     ]
    },
    {
     "name": "stderr",
     "output_type": "stream",
     "text": [
      "100%|██████████| 19/19 [00:00<00:00, 3607.27it/s]"
     ]
    },
    {
     "name": "stdout",
     "output_type": "stream",
     "text": [
      "[===============================================   ] 95.38%"
     ]
    },
    {
     "name": "stderr",
     "output_type": "stream",
     "text": [
      "\n"
     ]
    },
    {
     "name": "stdout",
     "output_type": "stream",
     "text": [
      "\n",
      "Testing pipeline_2D_thr_0.6_flow_0.3_3_0 pipeline\n"
     ]
    },
    {
     "name": "stderr",
     "output_type": "stream",
     "text": [
      "100%|██████████| 19/19 [00:00<00:00, 3581.01it/s]\n"
     ]
    },
    {
     "name": "stdout",
     "output_type": "stream",
     "text": [
      "[===============================================   ] 95.48%\n",
      "Testing pipeline_2D_thr_0.6_flow_0.3_3_1 pipeline\n"
     ]
    },
    {
     "name": "stderr",
     "output_type": "stream",
     "text": [
      "100%|██████████| 19/19 [00:00<00:00, 2350.51it/s]\n"
     ]
    },
    {
     "name": "stdout",
     "output_type": "stream",
     "text": [
      "Number of cells after linking: 127\n",
      "[===============================================   ] 95.58%\n",
      "Testing pipeline_2D_thr_0.6_flow_0.3_3_2 pipeline\n"
     ]
    },
    {
     "name": "stderr",
     "output_type": "stream",
     "text": [
      "100%|██████████| 19/19 [00:00<00:00, 2738.27it/s]\n"
     ]
    },
    {
     "name": "stdout",
     "output_type": "stream",
     "text": [
      "[===============================================   ] 95.67%\n",
      "Testing pipeline_2D_thr_0.6_flow_0.3_3_3 pipeline\n"
     ]
    },
    {
     "name": "stderr",
     "output_type": "stream",
     "text": [
      "100%|██████████| 19/19 [00:00<00:00, 3223.65it/s]"
     ]
    },
    {
     "name": "stdout",
     "output_type": "stream",
     "text": [
      "[===============================================   ] 95.77%"
     ]
    },
    {
     "name": "stderr",
     "output_type": "stream",
     "text": [
      "\n"
     ]
    },
    {
     "name": "stdout",
     "output_type": "stream",
     "text": [
      "\n",
      "Testing pipeline_2D_thr_0.6_flow_0.3_4_0 pipeline\n"
     ]
    },
    {
     "name": "stderr",
     "output_type": "stream",
     "text": [
      "100%|██████████| 19/19 [00:00<00:00, 3300.14it/s]\n"
     ]
    },
    {
     "name": "stdout",
     "output_type": "stream",
     "text": [
      "[===============================================   ] 95.87%\n",
      "Testing pipeline_2D_thr_0.6_flow_0.3_4_1 pipeline\n"
     ]
    },
    {
     "name": "stderr",
     "output_type": "stream",
     "text": [
      "100%|██████████| 19/19 [00:00<00:00, 3452.55it/s]\n"
     ]
    },
    {
     "name": "stdout",
     "output_type": "stream",
     "text": [
      "Number of cells after linking: 134\n",
      "[===============================================   ] 95.96%\n",
      "Testing pipeline_2D_thr_0.6_flow_0.3_4_2 pipeline\n"
     ]
    },
    {
     "name": "stderr",
     "output_type": "stream",
     "text": [
      "100%|██████████| 19/19 [00:00<00:00, 3768.11it/s]\n"
     ]
    },
    {
     "name": "stdout",
     "output_type": "stream",
     "text": [
      "[================================================  ] 96.06%\n",
      "Testing pipeline_2D_thr_0.6_flow_0.3_4_3 pipeline\n"
     ]
    },
    {
     "name": "stderr",
     "output_type": "stream",
     "text": [
      "100%|██████████| 19/19 [00:00<00:00, 3717.83it/s]\n"
     ]
    },
    {
     "name": "stdout",
     "output_type": "stream",
     "text": [
      "[================================================  ] 96.15%\n",
      "Testing pipeline_2D_thr_0.6_flow_0.5_0_0 pipeline\n"
     ]
    },
    {
     "name": "stderr",
     "output_type": "stream",
     "text": [
      "100%|██████████| 19/19 [00:00<00:00, 3215.32it/s]\n"
     ]
    },
    {
     "name": "stdout",
     "output_type": "stream",
     "text": [
      "[================================================  ] 96.25%\n",
      "Testing pipeline_2D_thr_0.6_flow_0.5_0_1 pipeline\n"
     ]
    },
    {
     "name": "stderr",
     "output_type": "stream",
     "text": [
      "100%|██████████| 19/19 [00:00<00:00, 3681.42it/s]\n"
     ]
    },
    {
     "name": "stdout",
     "output_type": "stream",
     "text": [
      "Number of cells after linking: 139\n",
      "[================================================  ] 96.35%\n",
      "Testing pipeline_2D_thr_0.6_flow_0.5_0_2 pipeline\n"
     ]
    },
    {
     "name": "stderr",
     "output_type": "stream",
     "text": [
      "100%|██████████| 19/19 [00:00<00:00, 3348.11it/s]\n"
     ]
    },
    {
     "name": "stdout",
     "output_type": "stream",
     "text": [
      "[================================================  ] 96.44%\n",
      "Testing pipeline_2D_thr_0.6_flow_0.5_0_3 pipeline\n"
     ]
    },
    {
     "name": "stderr",
     "output_type": "stream",
     "text": [
      "100%|██████████| 19/19 [00:00<00:00, 3689.95it/s]"
     ]
    },
    {
     "name": "stdout",
     "output_type": "stream",
     "text": [
      "[================================================  ] 96.54%"
     ]
    },
    {
     "name": "stderr",
     "output_type": "stream",
     "text": [
      "\n"
     ]
    },
    {
     "name": "stdout",
     "output_type": "stream",
     "text": [
      "\n",
      "Testing pipeline_2D_thr_0.6_flow_0.5_1_0 pipeline\n"
     ]
    },
    {
     "name": "stderr",
     "output_type": "stream",
     "text": [
      "100%|██████████| 19/19 [00:00<00:00, 3367.92it/s]\n"
     ]
    },
    {
     "name": "stdout",
     "output_type": "stream",
     "text": [
      "[================================================  ] 96.63%\n",
      "Testing pipeline_2D_thr_0.6_flow_0.5_1_1 pipeline\n"
     ]
    },
    {
     "name": "stderr",
     "output_type": "stream",
     "text": [
      "100%|██████████| 19/19 [00:00<00:00, 3409.42it/s]\n"
     ]
    },
    {
     "name": "stdout",
     "output_type": "stream",
     "text": [
      "Number of cells after linking: 133\n",
      "[================================================  ] 96.73%\n",
      "Testing pipeline_2D_thr_0.6_flow_0.5_1_2 pipeline\n"
     ]
    },
    {
     "name": "stderr",
     "output_type": "stream",
     "text": [
      "100%|██████████| 19/19 [00:00<00:00, 3358.55it/s]\n"
     ]
    },
    {
     "name": "stdout",
     "output_type": "stream",
     "text": [
      "[================================================  ] 96.83%\n",
      "Testing pipeline_2D_thr_0.6_flow_0.5_1_3 pipeline\n"
     ]
    },
    {
     "name": "stderr",
     "output_type": "stream",
     "text": [
      "100%|██████████| 19/19 [00:00<00:00, 3318.28it/s]"
     ]
    },
    {
     "name": "stdout",
     "output_type": "stream",
     "text": [
      "[================================================  ] 96.92%"
     ]
    },
    {
     "name": "stderr",
     "output_type": "stream",
     "text": [
      "\n"
     ]
    },
    {
     "name": "stdout",
     "output_type": "stream",
     "text": [
      "\n",
      "Testing pipeline_2D_thr_0.6_flow_0.5_2_0 pipeline\n"
     ]
    },
    {
     "name": "stderr",
     "output_type": "stream",
     "text": [
      "100%|██████████| 19/19 [00:00<00:00, 3205.75it/s]\n"
     ]
    },
    {
     "name": "stdout",
     "output_type": "stream",
     "text": [
      "[================================================  ] 97.02%\n",
      "Testing pipeline_2D_thr_0.6_flow_0.5_2_1 pipeline\n"
     ]
    },
    {
     "name": "stderr",
     "output_type": "stream",
     "text": [
      "100%|██████████| 19/19 [00:00<00:00, 3181.56it/s]\n"
     ]
    },
    {
     "name": "stdout",
     "output_type": "stream",
     "text": [
      "Number of cells after linking: 130\n",
      "[================================================  ] 97.12%\n",
      "Testing pipeline_2D_thr_0.6_flow_0.5_2_2 pipeline\n"
     ]
    },
    {
     "name": "stderr",
     "output_type": "stream",
     "text": [
      "100%|██████████| 19/19 [00:00<00:00, 3202.66it/s]\n"
     ]
    },
    {
     "name": "stdout",
     "output_type": "stream",
     "text": [
      "[================================================  ] 97.21%\n",
      "Testing pipeline_2D_thr_0.6_flow_0.5_2_3 pipeline\n"
     ]
    },
    {
     "name": "stderr",
     "output_type": "stream",
     "text": [
      "100%|██████████| 19/19 [00:00<00:00, 3137.84it/s]"
     ]
    },
    {
     "name": "stdout",
     "output_type": "stream",
     "text": [
      "[================================================  ] 97.31%"
     ]
    },
    {
     "name": "stderr",
     "output_type": "stream",
     "text": [
      "\n"
     ]
    },
    {
     "name": "stdout",
     "output_type": "stream",
     "text": [
      "\n",
      "Testing pipeline_2D_thr_0.6_flow_0.5_3_0 pipeline\n"
     ]
    },
    {
     "name": "stderr",
     "output_type": "stream",
     "text": [
      "100%|██████████| 19/19 [00:00<00:00, 3068.85it/s]\n"
     ]
    },
    {
     "name": "stdout",
     "output_type": "stream",
     "text": [
      "[================================================  ] 97.40%\n",
      "Testing pipeline_2D_thr_0.6_flow_0.5_3_1 pipeline\n"
     ]
    },
    {
     "name": "stderr",
     "output_type": "stream",
     "text": [
      "100%|██████████| 19/19 [00:00<00:00, 3092.30it/s]\n"
     ]
    },
    {
     "name": "stdout",
     "output_type": "stream",
     "text": [
      "Number of cells after linking: 127\n",
      "[================================================  ] 97.50%\n",
      "Testing pipeline_2D_thr_0.6_flow_0.5_3_2 pipeline\n"
     ]
    },
    {
     "name": "stderr",
     "output_type": "stream",
     "text": [
      "100%|██████████| 19/19 [00:00<00:00, 2570.37it/s]\n"
     ]
    },
    {
     "name": "stdout",
     "output_type": "stream",
     "text": [
      "[================================================  ] 97.60%\n",
      "Testing pipeline_2D_thr_0.6_flow_0.5_3_3 pipeline\n"
     ]
    },
    {
     "name": "stderr",
     "output_type": "stream",
     "text": [
      "100%|██████████| 19/19 [00:00<00:00, 2416.95it/s]"
     ]
    },
    {
     "name": "stdout",
     "output_type": "stream",
     "text": [
      "[================================================  ] 97.69%"
     ]
    },
    {
     "name": "stderr",
     "output_type": "stream",
     "text": [
      "\n"
     ]
    },
    {
     "name": "stdout",
     "output_type": "stream",
     "text": [
      "\n",
      "Testing pipeline_2D_thr_0.6_flow_0.5_4_0 pipeline\n"
     ]
    },
    {
     "name": "stderr",
     "output_type": "stream",
     "text": [
      "100%|██████████| 19/19 [00:00<00:00, 3464.71it/s]\n"
     ]
    },
    {
     "name": "stdout",
     "output_type": "stream",
     "text": [
      "[================================================  ] 97.79%\n",
      "Testing pipeline_2D_thr_0.6_flow_0.5_4_1 pipeline\n"
     ]
    },
    {
     "name": "stderr",
     "output_type": "stream",
     "text": [
      "100%|██████████| 19/19 [00:00<00:00, 3280.98it/s]\n"
     ]
    },
    {
     "name": "stdout",
     "output_type": "stream",
     "text": [
      "Number of cells after linking: 134\n",
      "[================================================  ] 97.88%\n",
      "Testing pipeline_2D_thr_0.6_flow_0.5_4_2 pipeline\n"
     ]
    },
    {
     "name": "stderr",
     "output_type": "stream",
     "text": [
      "100%|██████████| 19/19 [00:00<00:00, 3170.93it/s]\n"
     ]
    },
    {
     "name": "stdout",
     "output_type": "stream",
     "text": [
      "[================================================  ] 97.98%\n",
      "Testing pipeline_2D_thr_0.6_flow_0.5_4_3 pipeline\n"
     ]
    },
    {
     "name": "stderr",
     "output_type": "stream",
     "text": [
      "100%|██████████| 19/19 [00:00<00:00, 3647.22it/s]"
     ]
    },
    {
     "name": "stdout",
     "output_type": "stream",
     "text": [
      "[================================================= ] 98.08%"
     ]
    },
    {
     "name": "stderr",
     "output_type": "stream",
     "text": [
      "\n"
     ]
    },
    {
     "name": "stdout",
     "output_type": "stream",
     "text": [
      "\n",
      "Testing pipeline_2D_thr_0.6_flow_0.6_0_0 pipeline\n"
     ]
    },
    {
     "name": "stderr",
     "output_type": "stream",
     "text": [
      "100%|██████████| 19/19 [00:00<00:00, 3709.18it/s]\n"
     ]
    },
    {
     "name": "stdout",
     "output_type": "stream",
     "text": [
      "[================================================= ] 98.17%\n",
      "Testing pipeline_2D_thr_0.6_flow_0.6_0_1 pipeline\n"
     ]
    },
    {
     "name": "stderr",
     "output_type": "stream",
     "text": [
      "100%|██████████| 19/19 [00:00<00:00, 3352.90it/s]\n"
     ]
    },
    {
     "name": "stdout",
     "output_type": "stream",
     "text": [
      "Number of cells after linking: 139\n",
      "[================================================= ] 98.27%\n",
      "Testing pipeline_2D_thr_0.6_flow_0.6_0_2 pipeline\n"
     ]
    },
    {
     "name": "stderr",
     "output_type": "stream",
     "text": [
      "100%|██████████| 19/19 [00:00<00:00, 3639.23it/s]\n"
     ]
    },
    {
     "name": "stdout",
     "output_type": "stream",
     "text": [
      "[================================================= ] 98.37%\n",
      "Testing pipeline_2D_thr_0.6_flow_0.6_0_3 pipeline\n"
     ]
    },
    {
     "name": "stderr",
     "output_type": "stream",
     "text": [
      "100%|██████████| 19/19 [00:00<00:00, 3268.20it/s]"
     ]
    },
    {
     "name": "stdout",
     "output_type": "stream",
     "text": [
      "[================================================= ] 98.46%"
     ]
    },
    {
     "name": "stderr",
     "output_type": "stream",
     "text": [
      "\n"
     ]
    },
    {
     "name": "stdout",
     "output_type": "stream",
     "text": [
      "\n",
      "Testing pipeline_2D_thr_0.6_flow_0.6_1_0 pipeline\n"
     ]
    },
    {
     "name": "stderr",
     "output_type": "stream",
     "text": [
      "100%|██████████| 19/19 [00:00<00:00, 3399.67it/s]\n"
     ]
    },
    {
     "name": "stdout",
     "output_type": "stream",
     "text": [
      "[================================================= ] 98.56%\n",
      "Testing pipeline_2D_thr_0.6_flow_0.6_1_1 pipeline\n"
     ]
    },
    {
     "name": "stderr",
     "output_type": "stream",
     "text": [
      "100%|██████████| 19/19 [00:00<00:00, 2393.00it/s]\n"
     ]
    },
    {
     "name": "stdout",
     "output_type": "stream",
     "text": [
      "Number of cells after linking: 133\n",
      "[================================================= ] 98.65%\n",
      "Testing pipeline_2D_thr_0.6_flow_0.6_1_2 pipeline\n"
     ]
    },
    {
     "name": "stderr",
     "output_type": "stream",
     "text": [
      "100%|██████████| 19/19 [00:00<00:00, 3532.12it/s]\n"
     ]
    },
    {
     "name": "stdout",
     "output_type": "stream",
     "text": [
      "[================================================= ] 98.75%\n",
      "Testing pipeline_2D_thr_0.6_flow_0.6_1_3 pipeline\n"
     ]
    },
    {
     "name": "stderr",
     "output_type": "stream",
     "text": [
      "100%|██████████| 19/19 [00:00<00:00, 3711.08it/s]"
     ]
    },
    {
     "name": "stdout",
     "output_type": "stream",
     "text": [
      "[================================================= ] 98.85%"
     ]
    },
    {
     "name": "stderr",
     "output_type": "stream",
     "text": [
      "\n"
     ]
    },
    {
     "name": "stdout",
     "output_type": "stream",
     "text": [
      "\n",
      "Testing pipeline_2D_thr_0.6_flow_0.6_2_0 pipeline\n"
     ]
    },
    {
     "name": "stderr",
     "output_type": "stream",
     "text": [
      "100%|██████████| 19/19 [00:00<00:00, 3234.77it/s]\n"
     ]
    },
    {
     "name": "stdout",
     "output_type": "stream",
     "text": [
      "[================================================= ] 98.94%\n",
      "Testing pipeline_2D_thr_0.6_flow_0.6_2_1 pipeline\n"
     ]
    },
    {
     "name": "stderr",
     "output_type": "stream",
     "text": [
      "100%|██████████| 19/19 [00:00<00:00, 3082.26it/s]\n"
     ]
    },
    {
     "name": "stdout",
     "output_type": "stream",
     "text": [
      "Number of cells after linking: 130\n",
      "[================================================= ] 99.04%\n",
      "Testing pipeline_2D_thr_0.6_flow_0.6_2_2 pipeline\n"
     ]
    },
    {
     "name": "stderr",
     "output_type": "stream",
     "text": [
      "100%|██████████| 19/19 [00:00<00:00, 3693.20it/s]\n"
     ]
    },
    {
     "name": "stdout",
     "output_type": "stream",
     "text": [
      "[================================================= ] 99.13%\n",
      "Testing pipeline_2D_thr_0.6_flow_0.6_2_3 pipeline\n"
     ]
    },
    {
     "name": "stderr",
     "output_type": "stream",
     "text": [
      "100%|██████████| 19/19 [00:00<00:00, 3283.14it/s]"
     ]
    },
    {
     "name": "stdout",
     "output_type": "stream",
     "text": [
      "[================================================= ] 99.23%"
     ]
    },
    {
     "name": "stderr",
     "output_type": "stream",
     "text": [
      "\n"
     ]
    },
    {
     "name": "stdout",
     "output_type": "stream",
     "text": [
      "\n",
      "Testing pipeline_2D_thr_0.6_flow_0.6_3_0 pipeline\n"
     ]
    },
    {
     "name": "stderr",
     "output_type": "stream",
     "text": [
      "100%|██████████| 19/19 [00:00<00:00, 3468.03it/s]\n"
     ]
    },
    {
     "name": "stdout",
     "output_type": "stream",
     "text": [
      "[================================================= ] 99.33%\n",
      "Testing pipeline_2D_thr_0.6_flow_0.6_3_1 pipeline\n"
     ]
    },
    {
     "name": "stderr",
     "output_type": "stream",
     "text": [
      "100%|██████████| 19/19 [00:00<00:00, 3198.03it/s]\n"
     ]
    },
    {
     "name": "stdout",
     "output_type": "stream",
     "text": [
      "Number of cells after linking: 127\n",
      "[================================================= ] 99.42%\n",
      "Testing pipeline_2D_thr_0.6_flow_0.6_3_2 pipeline\n"
     ]
    },
    {
     "name": "stderr",
     "output_type": "stream",
     "text": [
      "100%|██████████| 19/19 [00:00<00:00, 3163.63it/s]\n"
     ]
    },
    {
     "name": "stdout",
     "output_type": "stream",
     "text": [
      "[================================================= ] 99.52%\n",
      "Testing pipeline_2D_thr_0.6_flow_0.6_3_3 pipeline\n"
     ]
    },
    {
     "name": "stderr",
     "output_type": "stream",
     "text": [
      "100%|██████████| 19/19 [00:00<00:00, 3280.31it/s]"
     ]
    },
    {
     "name": "stdout",
     "output_type": "stream",
     "text": [
      "[================================================= ] 99.62%"
     ]
    },
    {
     "name": "stderr",
     "output_type": "stream",
     "text": [
      "\n"
     ]
    },
    {
     "name": "stdout",
     "output_type": "stream",
     "text": [
      "\n",
      "Testing pipeline_2D_thr_0.6_flow_0.6_4_0 pipeline\n"
     ]
    },
    {
     "name": "stderr",
     "output_type": "stream",
     "text": [
      "100%|██████████| 19/19 [00:00<00:00, 3427.16it/s]\n"
     ]
    },
    {
     "name": "stdout",
     "output_type": "stream",
     "text": [
      "[================================================= ] 99.71%\n",
      "Testing pipeline_2D_thr_0.6_flow_0.6_4_1 pipeline\n"
     ]
    },
    {
     "name": "stderr",
     "output_type": "stream",
     "text": [
      "100%|██████████| 19/19 [00:00<00:00, 3420.98it/s]\n"
     ]
    },
    {
     "name": "stdout",
     "output_type": "stream",
     "text": [
      "Number of cells after linking: 134\n",
      "[================================================= ] 99.81%\n",
      "Testing pipeline_2D_thr_0.6_flow_0.6_4_2 pipeline\n"
     ]
    },
    {
     "name": "stderr",
     "output_type": "stream",
     "text": [
      "100%|██████████| 19/19 [00:00<00:00, 3296.04it/s]\n"
     ]
    },
    {
     "name": "stdout",
     "output_type": "stream",
     "text": [
      "[================================================= ] 99.90%\n",
      "Testing pipeline_2D_thr_0.6_flow_0.6_4_3 pipeline\n"
     ]
    },
    {
     "name": "stderr",
     "output_type": "stream",
     "text": [
      "100%|██████████| 19/19 [00:00<00:00, 3369.20it/s]"
     ]
    },
    {
     "name": "stdout",
     "output_type": "stream",
     "text": [
      "[==================================================] 100.00%\n"
     ]
    },
    {
     "name": "stderr",
     "output_type": "stream",
     "text": [
      "\n"
     ]
    }
   ],
   "execution_count": 6
  },
  {
   "metadata": {
    "ExecuteTime": {
     "end_time": "2024-10-08T14:19:46.595381Z",
     "start_time": "2024-10-08T14:19:46.592966Z"
    }
   },
   "cell_type": "code",
   "source": "",
   "id": "706ef083b8dca7b6",
   "outputs": [],
   "execution_count": 6
  }
 ],
 "metadata": {
  "kernelspec": {
   "display_name": "Python 3",
   "language": "python",
   "name": "python3"
  },
  "language_info": {
   "codemirror_mode": {
    "name": "ipython",
    "version": 2
   },
   "file_extension": ".py",
   "mimetype": "text/x-python",
   "name": "python",
   "nbconvert_exporter": "python",
   "pygments_lexer": "ipython2",
   "version": "2.7.6"
  }
 },
 "nbformat": 4,
 "nbformat_minor": 5
}
