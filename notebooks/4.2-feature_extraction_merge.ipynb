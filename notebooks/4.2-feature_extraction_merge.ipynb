{
 "cells": [
  {
   "cell_type": "code",
   "id": "initial_id",
   "metadata": {
    "collapsed": true,
    "ExecuteTime": {
     "end_time": "2024-08-28T16:44:57.353116Z",
     "start_time": "2024-08-28T16:44:53.518886Z"
    }
   },
   "source": [
    "import cv2\n",
    "# Standard packages\n",
    "from skimage import morphology\n",
    "\n",
    "import numpy as np\n",
    "import pandas as pd\n",
    "import cv2\n",
    "\n",
    "import plotly.graph_objects as go\n",
    "import matplotlib.pyplot as plt\n",
    "\n",
    "import SimpleITK as sitk\n",
    "import porespy as ps\n",
    "from radiomics import featureextractor, shape, firstorder, glcm, glrlm\n",
    "\n",
    "from collections import Counter\n",
    "\n",
    "from multiprocessing import Pool\n",
    "\n",
    "# Custom packages\n",
    "import auxiliary.values as v\n",
    "from filtering import cardiac_region as cr\n",
    "from auxiliary.data.dataset_ht import HtDataset\n",
    "from auxiliary.utils.colors import bcolors as c\n",
    "from auxiliary.data import imaging"
   ],
   "outputs": [],
   "execution_count": 1
  },
  {
   "metadata": {
    "ExecuteTime": {
     "end_time": "2024-08-28T16:47:00.291472Z",
     "start_time": "2024-08-28T16:44:57.822365Z"
    }
   },
   "cell_type": "code",
   "source": [
    "specimen = '0806_E6'\n",
    "tissue = 'myocardium'\n",
    "\n",
    "ds = HtDataset()\n",
    "path_nu_feat = ds.read_features(specimen, 'Nuclei', tissue)\n",
    "path_mem_feat = ds.read_features(specimen, 'Membrane', tissue)\n",
    "\n",
    "path_nu_img, _ = ds.read_specimen(specimen, 'Nuclei', 'Segmentation', verbose=1)\n",
    "path_mem_img, _ = ds.read_specimen(specimen, 'Membrane', 'Segmentation', verbose=1)\n",
    "path_lines, _ = ds.read_line(specimen, verbose=1)\n",
    "\n",
    "lines = imaging.read_image(path_lines, verbose=1)\n",
    "nuclei = imaging.read_image(path_nu_img, verbose=1)\n",
    "nuclei = cr.filter_by_tissue(nuclei, lines, tissue, dilate=1, verbose=1)\n",
    "\n",
    "membrane = imaging.read_image(path_mem_img, verbose=1)\n",
    "membrane = cr.filter_by_tissue(membrane, lines, tissue, dilate=1, verbose=1)\n",
    "\n",
    "feat_nu = pd.read_csv(path_nu_feat)\n",
    "feat_mem = pd.read_csv(path_mem_feat)\n",
    "\n",
    "print(len(feat_nu), len(feat_mem))"
   ],
   "id": "bf170c524cfe0362",
   "outputs": [
    {
     "name": "stdout",
     "output_type": "stream",
     "text": [
      "\t\u001B[92mFound\u001B[0m: 20190806_E6_nuclei_mask_None.nii.gz\n",
      "\t\u001B[92mFound\u001B[0m: 20190806_E6_mGFP_XYZ_predictions_GASP.nii.gz\n",
      "\t\u001B[92mFound\u001B[0m: line_20190806_E6.nii.gz\n",
      "\u001B[94mReading NIfTI\u001B[0m: /run/user/1003/gvfs/smb-share:server=tierra.cnic.es,share=sc/LAB_MT/LAB/Ignacio/Gr4/Segmentation/LinesTissue/line_20190806_E6.nii.gz\n",
      "\u001B[94mReading NIfTI\u001B[0m: /run/user/1003/gvfs/smb-share:server=tierra.cnic.es,share=sc/LAB_MT/LAB/Ignacio/Gr4/Segmentation/Nuclei/20190806_E6_nuclei_mask_None.nii.gz\n",
      "\u001B[94mFiltering image by tissue\u001B[0m: myocardium...\n",
      "\u001B[1mDilating mask\u001B[0m: (3x3) 1 times...\n",
      "[==================================================] 100.00%\n",
      "\u001B[94mReading NIfTI\u001B[0m: /run/user/1003/gvfs/smb-share:server=tierra.cnic.es,share=sc/LAB_MT/LAB/Ignacio/Gr4/Segmentation/Membrane/20190806_E6_mGFP_XYZ_predictions_GASP.nii.gz\n",
      "\u001B[94mFiltering image by tissue\u001B[0m: myocardium...\n",
      "\u001B[1mDilating mask\u001B[0m: (3x3) 1 times...\n",
      "[==================================================] 100.00%\n",
      "1752 1656\n"
     ]
    }
   ],
   "execution_count": 2
  },
  {
   "metadata": {
    "ExecuteTime": {
     "end_time": "2024-08-28T16:47:06.656782Z",
     "start_time": "2024-08-28T16:47:06.590745Z"
    }
   },
   "cell_type": "code",
   "source": [
    "feat_nu = pd.read_csv(path_nu_feat)\n",
    "feat_mem = pd.read_csv(path_mem_feat)\n",
    "\n",
    "print(len(feat_nu), len(feat_mem))"
   ],
   "id": "71396b7c2ae73d11",
   "outputs": [
    {
     "name": "stdout",
     "output_type": "stream",
     "text": [
      "1752 1656\n"
     ]
    }
   ],
   "execution_count": 3
  },
  {
   "metadata": {},
   "cell_type": "markdown",
   "source": "Count number of nuclei inside each membrane\n",
   "id": "1fe734a5a2a2c652"
  },
  {
   "metadata": {
    "ExecuteTime": {
     "end_time": "2024-08-28T16:47:21.399366Z",
     "start_time": "2024-08-28T16:47:18.319543Z"
    }
   },
   "cell_type": "code",
   "source": [
    "# Add to feat_mem columns: 'nuclei_count', 'nuclei_ids' (All values as NaN)\n",
    "feat_mem['nuclei_count'] = 0\n",
    "feat_mem['nuclei_ids'] = np.nan\n",
    "feat_mem['nuclei_ids'] = feat_mem['nuclei_ids'].astype(object)\n",
    "\n",
    "# Add to feat_nu columns: 'membrane_id' (All values as NaN)\n",
    "feat_nu['membrane_id'] = np.nan\n",
    "\n",
    "for i in range(len(feat_nu)):\n",
    "    centroids = feat_nu.loc[i, 'centroids']\n",
    "    centroids = centroids.replace('[', '').replace(']', '').replace(',', ' ').split()\n",
    "    x, y, z = int(centroids[0]), int(centroids[1]), int(centroids[2])\n",
    "\n",
    "    cell_id = feat_nu.loc[i, 'original_labels']\n",
    "        \n",
    "    if membrane[x, y, z]:\n",
    "        # Add membrane to nuclei\n",
    "        feat_nu.loc[i, 'membrane_id'] = membrane[x, y, z]\n",
    "        \n",
    "        # Add nuclei to membrane\n",
    "        # Check if membrane exists\n",
    "        if not feat_mem.loc[feat_mem.original_labels == membrane[x, y, z], 'nuclei_count'].empty:\n",
    "            current_id = feat_mem.loc[feat_mem.original_labels == membrane[x, y, z], 'nuclei_ids'].values[0]\n",
    "            \n",
    "            if np.any(pd.isna(current_id)):\n",
    "                feat_mem.loc[feat_mem.original_labels == membrane[x, y, z], 'nuclei_ids'] = str(cell_id)\n",
    "            else:\n",
    "                # check if cell_id is already in nuclei_ids\n",
    "                if str(cell_id) in current_id.split(', '):\n",
    "                    continue\n",
    "                new_id = f'{current_id}, {cell_id}'\n",
    "                feat_mem.loc[feat_mem.original_labels == membrane[x, y, z], 'nuclei_ids'] = new_id\n",
    "                \n",
    "            feat_mem.loc[feat_mem.original_labels == membrane[x, y, z], 'nuclei_count'] += 1\n",
    "    "
   ],
   "id": "ebd724bc90872e32",
   "outputs": [],
   "execution_count": 4
  },
  {
   "metadata": {
    "ExecuteTime": {
     "end_time": "2024-08-28T16:47:28.289448Z",
     "start_time": "2024-08-28T16:47:28.099177Z"
    }
   },
   "cell_type": "code",
   "source": [
    "# Histogram of nuclei count inside membrane\n",
    "plt.hist(feat_mem.nuclei_count, bins=range(0, 10))\n",
    "plt.show()\n",
    "\n",
    "# Percentage of membranes with 3 or more nuclei\n",
    "print((feat_mem.nuclei_count >= 3).sum() / len(feat_mem) * 100)\n",
    "\n",
    "# percentage of nuclei assigned to membrane\n",
    "# number of nan values in membrane_ids / total number of nuclei\n",
    "print((feat_nu.membrane_id.isna().sum() / len(feat_nu)) * 100)\n",
    "\n",
    "# percentage of membrane assigned to nuclei\n",
    "# number of nan values in nuclei_ids / total number of membrane\n",
    "print((feat_mem.nuclei_ids.isna().sum() / len(feat_mem)) * 100)"
   ],
   "id": "ed6bf5dde37dc14c",
   "outputs": [
    {
     "data": {
      "text/plain": [
       "<Figure size 640x480 with 1 Axes>"
      ],
      "image/png": "[encoded data removed]"
     },
     "metadata": {},
     "output_type": "display_data"
    },
    {
     "name": "stdout",
     "output_type": "stream",
     "text": [
      "0.5434782608695652\n",
      "16.552511415525114\n",
      "24.75845410628019\n"
     ]
    }
   ],
   "execution_count": 5
  },
  {
   "metadata": {
    "ExecuteTime": {
     "end_time": "2024-08-28T16:48:42.946754Z",
     "start_time": "2024-08-28T16:48:10.798529Z"
    }
   },
   "cell_type": "code",
   "source": [
    "feat_mem_3_more = feat_mem[feat_mem.nuclei_count >= 3]\n",
    "\n",
    "for count, i in enumerate(feat_mem_3_more.index):\n",
    "    if count > 0:\n",
    "        break\n",
    "    centroids = feat_mem_3_more.loc[i, 'centroids'].replace('[', '').replace(']', '').replace(',', ' ').split()\n",
    "    x, y, z = int(centroids[0]), int(centroids[1]), int(centroids[2])\n",
    "    \n",
    "    mem_id = feat_mem_3_more.loc[i, 'original_labels']\n",
    "    nu_ids = feat_mem_3_more.loc[i, 'nuclei_ids'].split(', ')\n",
    "    \n",
    "    print(x, y, z, mem_id, nu_ids)\n",
    "    \n",
    "    mask_mem = membrane[x-25:x+25, y-25:y+25, z-10:z+10]\n",
    "    mask_mem = np.where(mask_mem == mem_id, 255, 0)\n",
    "    \n",
    "    mask_nuclei = nuclei[x-25:x+25, y-25:y+25, z-10:z+10]\n",
    "    for nu_id in nu_ids:\n",
    "        mask_nuclei += np.where(mask_nuclei == int(float(nu_id)), 255, 0)\n",
    "        \n",
    "    for z in range(mask_mem.shape[-1]):\n",
    "        cv2.imshow(\n",
    "            'membrane and nuclei',\n",
    "            np.hstack([\n",
    "                mask_mem[..., z].astype(np.uint8), \n",
    "                mask_nuclei[..., z].astype(np.uint8),\n",
    "                cv2.bitwise_and(mask_mem[..., z].astype(np.uint8), mask_nuclei[..., z].astype(np.uint8))\n",
    "            ])\n",
    "        )\n",
    "        cv2.waitKey(0)\n",
    "        cv2.destroyAllWindows()\n",
    "    "
   ],
   "id": "80870fdc95a06ca4",
   "outputs": [
    {
     "name": "stdout",
     "output_type": "stream",
     "text": [
      "118 517 185 1358.0 ['4278.0', '4497.0', '4025.0']\n"
     ]
    }
   ],
   "execution_count": 6
  },
  {
   "metadata": {
    "ExecuteTime": {
     "end_time": "2024-08-26T12:48:01.125186Z",
     "start_time": "2024-08-26T12:48:01.072459Z"
    }
   },
   "cell_type": "code",
   "source": [
    "\n",
    "# for i in range(len(feat_mem)):\n",
    "#     # if i > 10:\n",
    "#     #     break\n",
    "#     # Get props\n",
    "#     centroids = feat_mem.loc[i, 'centroids']\n",
    "#     centroids = centroids.replace('[', '').replace(']', '').replace(',', ' ').split()\n",
    "#     x, y, z = int(centroids[0]), int(centroids[1]), int(centroids[2])\n",
    "# \n",
    "#     cell_id = feat_mem.loc[i, 'original_labels']\n",
    "#     \n",
    "#     if cell_id != 7367:\n",
    "#         continue\n",
    "#     \n",
    "#     print(cell_id, x, y, z)\n",
    "#     \n",
    "#     # Crop 3d membrane around the centroid | Dilate | same for nuclei\n",
    "#     mem_crop = membrane[x-25:x+25, y-25:y+25, z-10:z+10]\n",
    "#     mem_crop = np.where(mem_crop == cell_id, 255, 0)\n",
    "#     mem_crop = np.swapaxes(np.swapaxes([\n",
    "#         cv2.dilate(mem_crop[..., z].astype(np.uint8), np.ones((3, 3)), iterations=1)\n",
    "#         for z in range(mem_crop.shape[-1])\n",
    "#     ], 0, 1), 1, 2)\n",
    "#     \n",
    "#     # Remove empty z-slices\n",
    "#     non_empty_slices = [z for z in range(mem_crop.shape[-1]) if np.any(mem_crop[..., z])]\n",
    "#     mem_crop = mem_crop[..., non_empty_slices]\n",
    "#     \n",
    "#     # Nuclei\n",
    "#     nu_crop = nuclei[x-25:x+25, y-25:y+25, z-10:z+10]\n",
    "#     nu_crop = np.where(mem_crop == 0, 0, nu_crop)\n",
    "#     nu_crop = nu_crop[..., non_empty_slices]\n",
    "#     \n",
    "#     nu_in_mem_pix_count = [\n",
    "#         np.sum(nu_crop == u)\n",
    "#         for u in np.unique(nu_crop)\n",
    "#         if u != 0\n",
    "#     ]\n",
    "#     print(np.unique(nu_crop)[1:])\n",
    "#     print(nu_in_mem_pix_count)\n",
    "#     \n",
    "#     # Intersection | mask | sum\n",
    "#     intersection = np.logical_and(mem_crop, nu_crop)\n",
    "#     inter_sum = np.sum(intersection)\n",
    "#     \n",
    "#     # Union | mask | sum\n",
    "#     union = np.logical_or(mem_crop, nu_crop)\n",
    "#     union_sum = np.sum(union)\n",
    "#     \n",
    "#     print(inter_sum, union_sum)\n",
    "#     \n",
    "#     # for j in range(mem_crop.shape[-1]):\n",
    "#     #     cv2.imshow('mem', np.hstack([\n",
    "#     #         mem_crop[..., j].astype(np.uint8), \n",
    "#     #         nu_crop[..., j].astype(np.uint8)\n",
    "#     #     ]))\n",
    "#     #     cv2.waitKey(0)\n",
    "#     #     cv2.destroyAllWindows()\n",
    "#     \n",
    "#     # if 0 sums -> no nuclei inside membrane\n",
    "#     if inter_sum == 0:\n",
    "#         continue\n",
    "#         \n",
    "#     # Overlap percentage\n",
    "#     overlap = inter_sum / union_sum\n",
    "#     print(cell_id, x, y, z)\n",
    "#     print(inter_sum, union_sum)\n",
    "#     print(overlap)\n",
    "#     \n",
    "#     "
   ],
   "id": "dbc0f98d92102db7",
   "outputs": [],
   "execution_count": 46
  },
  {
   "metadata": {
    "ExecuteTime": {
     "end_time": "2024-08-23T08:05:23.252330Z",
     "start_time": "2024-08-23T08:05:23.226687Z"
    }
   },
   "cell_type": "code",
   "source": [
    "# feat_nu = pd.DataFrame(\n",
    "#     columns=['x', 'y', 'z', 'volume', 'label', 'cell_in_props'],\n",
    "#     data=[\n",
    "#         [int(x), int(y), int(z), vol, label] \n",
    "#         for (x, y, z), vol, label\n",
    "#         in zip(\n",
    "#             list(map(\n",
    "#                 lambda aux: aux.replace('[', '').replace(']', '').replace(',', ' ').split(), \n",
    "#                 nuclei.centroids\n",
    "#             )),\n",
    "#             nuclei.volumes,\n",
    "#             nuclei.original_labels\n",
    "#         )\n",
    "#     ]\n",
    "# )\n",
    "# \n",
    "# feat_mem = pd.DataFrame(\n",
    "#     columns=['x', 'y', 'z', 'volume', 'label', 'cell_in_props'],\n",
    "#     data=[\n",
    "#         [int(x), int(y), int(z), vol, label] \n",
    "#         for (x, y, z), vol, label\n",
    "#         in zip(\n",
    "#             list(map(\n",
    "#                 lambda aux: aux.replace('[', '').replace(']', '').replace(',', ' ').split(), \n",
    "#                 membrane.centroids\n",
    "#             )),\n",
    "#             membrane.volumes,\n",
    "#             membrane.original_labels\n",
    "#         )\n",
    "#     ]\n",
    "# )"
   ],
   "id": "8c07085e792bdb90",
   "outputs": [],
   "execution_count": 40
  }
 ],
 "metadata": {
  "kernelspec": {
   "display_name": "Python 3",
   "language": "python",
   "name": "python3"
  },
  "language_info": {
   "codemirror_mode": {
    "name": "ipython",
    "version": 2
   },
   "file_extension": ".py",
   "mimetype": "text/x-python",
   "name": "python",
   "nbconvert_exporter": "python",
   "pygments_lexer": "ipython2",
   "version": "2.7.6"
  }
 },
 "nbformat": 4,
 "nbformat_minor": 5
}
