{
 "cells": [
  {
   "cell_type": "code",
   "id": "initial_id",
   "metadata": {
    "collapsed": true,
    "ExecuteTime": {
     "end_time": "2024-08-22T16:28:26.247581Z",
     "start_time": "2024-08-22T16:28:26.228233Z"
    }
   },
   "source": [
    "# Standard packages\n",
    "from skimage import morphology\n",
    "\n",
    "import numpy as np\n",
    "import pandas as pd\n",
    "\n",
    "import plotly.graph_objects as go\n",
    "\n",
    "import SimpleITK as sitk\n",
    "import porespy as ps\n",
    "from radiomics import featureextractor, shape, firstorder, glcm, glrlm\n",
    "\n",
    "from collections import Counter\n",
    "\n",
    "from multiprocessing import Pool\n",
    "\n",
    "# Custom packages\n",
    "import auxiliary.values as v\n",
    "from filtering import cardiac_region as cr\n",
    "from auxiliary.data.dataset_ht import HtDataset\n",
    "from auxiliary.utils.colors import bcolors as c\n",
    "from auxiliary.data import imaging"
   ],
   "outputs": [],
   "execution_count": 20
  },
  {
   "metadata": {
    "ExecuteTime": {
     "end_time": "2024-08-23T08:18:59.521504Z",
     "start_time": "2024-08-23T08:16:56.784043Z"
    }
   },
   "cell_type": "code",
   "source": [
    "specimen = '0806_E6'\n",
    "tissue = 'myocardium'\n",
    "\n",
    "ds = HtDataset()\n",
    "path_nu_feat = ds.read_features(specimen, 'Nuclei', tissue)\n",
    "path_mem_feat = ds.read_features(specimen, 'Membrane', tissue)\n",
    "\n",
    "path_nu_img, _ = ds.read_specimen(specimen, 'Nuclei', 'Segmentation', verbose=1)\n",
    "path_mem_img, _ = ds.read_specimen(specimen, 'Membrane', 'Segmentation', verbose=1)\n",
    "path_lines, _ = ds.read_line(specimen, verbose=1)\n",
    "\n",
    "lines = imaging.read_image(path_lines, verbose=1)\n",
    "nuclei = imaging.read_image(path_nu_img, verbose=1)\n",
    "nuclei = cr.filter_by_tissue(nuclei, lines, tissue, dilate=1, verbose=1)\n",
    "\n",
    "membrane = imaging.read_image(path_mem_img, verbose=1)\n",
    "membrane = cr.filter_by_tissue(membrane, lines, tissue, dilate=1, verbose=1)\n",
    "\n",
    "feat_nu = pd.read_csv(path_nu_feat)\n",
    "feat_mem = pd.read_csv(path_mem_feat)\n",
    "\n",
    "print(len(feat_nu), len(feat_mem))"
   ],
   "id": "bf170c524cfe0362",
   "outputs": [
    {
     "name": "stdout",
     "output_type": "stream",
     "text": [
      "\t\u001B[92mFound\u001B[0m: 20190806_E6_mask_myocardium_splanchnic.nii.gz\n",
      "\t\u001B[92mFound\u001B[0m: 20190806_E6_mGFP_XYZ_predictions_GASP.nii.gz\n",
      "\t\u001B[92mFound\u001B[0m: line_20190806_E6.nii.gz\n",
      "\u001B[94mReading NIfTI\u001B[0m: /run/user/1003/gvfs/smb-share:server=tierra.cnic.es,share=sc/LAB_MT/LAB/Ignacio/Gr4/Segmentation/LinesTissue/line_20190806_E6.nii.gz\n",
      "\u001B[94mReading NIfTI\u001B[0m: /run/user/1003/gvfs/smb-share:server=tierra.cnic.es,share=sc/LAB_MT/LAB/Ignacio/Gr4/Segmentation/Nuclei/20190806_E6_mask_myocardium_splanchnic.nii.gz\n",
      "\u001B[94mFiltering image by tissue\u001B[0m: myocardium...\n",
      "\u001B[1mDilating mask\u001B[0m: (3x3) 1 times...\n",
      "[==================================================] 100.00%\n",
      "\u001B[94mReading NIfTI\u001B[0m: /run/user/1003/gvfs/smb-share:server=tierra.cnic.es,share=sc/LAB_MT/LAB/Ignacio/Gr4/Segmentation/Membrane/20190806_E6_mGFP_XYZ_predictions_GASP.nii.gz\n",
      "\u001B[94mFiltering image by tissue\u001B[0m: myocardium...\n",
      "\u001B[1mDilating mask\u001B[0m: (3x3) 1 times...\n",
      "[==================================================] 100.00%\n",
      "2578 1656\n"
     ]
    }
   ],
   "execution_count": 45
  },
  {
   "metadata": {},
   "cell_type": "markdown",
   "source": "Count number of nuclei inside each membrane",
   "id": "87642aab31d3947e"
  },
  {
   "metadata": {
    "ExecuteTime": {
     "end_time": "2024-08-23T08:05:23.252330Z",
     "start_time": "2024-08-23T08:05:23.226687Z"
    }
   },
   "cell_type": "code",
   "source": [
    "# feat_nu = pd.DataFrame(\n",
    "#     columns=['x', 'y', 'z', 'volume', 'label', 'cell_in_props'],\n",
    "#     data=[\n",
    "#         [int(x), int(y), int(z), vol, label] \n",
    "#         for (x, y, z), vol, label\n",
    "#         in zip(\n",
    "#             list(map(\n",
    "#                 lambda aux: aux.replace('[', '').replace(']', '').replace(',', ' ').split(), \n",
    "#                 nuclei.centroids\n",
    "#             )),\n",
    "#             nuclei.volumes,\n",
    "#             nuclei.original_labels\n",
    "#         )\n",
    "#     ]\n",
    "# )\n",
    "# \n",
    "# feat_mem = pd.DataFrame(\n",
    "#     columns=['x', 'y', 'z', 'volume', 'label', 'cell_in_props'],\n",
    "#     data=[\n",
    "#         [int(x), int(y), int(z), vol, label] \n",
    "#         for (x, y, z), vol, label\n",
    "#         in zip(\n",
    "#             list(map(\n",
    "#                 lambda aux: aux.replace('[', '').replace(']', '').replace(',', ' ').split(), \n",
    "#                 membrane.centroids\n",
    "#             )),\n",
    "#             membrane.volumes,\n",
    "#             membrane.original_labels\n",
    "#         )\n",
    "#     ]\n",
    "# )"
   ],
   "id": "8c07085e792bdb90",
   "outputs": [],
   "execution_count": 40
  }
 ],
 "metadata": {
  "kernelspec": {
   "display_name": "Python 3",
   "language": "python",
   "name": "python3"
  },
  "language_info": {
   "codemirror_mode": {
    "name": "ipython",
    "version": 2
   },
   "file_extension": ".py",
   "mimetype": "text/x-python",
   "name": "python",
   "nbconvert_exporter": "python",
   "pygments_lexer": "ipython2",
   "version": "2.7.6"
  }
 },
 "nbformat": 4,
 "nbformat_minor": 5
}
