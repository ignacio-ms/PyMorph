{
 "cells": [
  {
   "cell_type": "code",
   "id": "initial_id",
   "metadata": {
    "collapsed": true,
    "ExecuteTime": {
     "end_time": "2024-08-02T10:04:57.709102Z",
     "start_time": "2024-08-02T10:04:57.705429Z"
    }
   },
   "source": [
    "from auxiliary import values as v\n",
    "from auxiliary.data.dataset_ht import HtDataset\n",
    "from auxiliary.data import imaging\n",
    "\n",
    "import nibabel as nib\n",
    "import numpy as np"
   ],
   "outputs": [],
   "execution_count": 4
  },
  {
   "metadata": {
    "ExecuteTime": {
     "end_time": "2024-08-02T10:03:15.563159Z",
     "start_time": "2024-08-02T10:03:15.560228Z"
    }
   },
   "cell_type": "code",
   "source": [
    "img_path = v.data_path + 'Gr4/RawImages/Nuclei/20190806_E6_DAPI_decon_0.5.nii.gz'\n",
    "img_path_out = img_path.replace('Gr4', 'CellposeClusterTest')"
   ],
   "id": "ceec630b8ec56f60",
   "outputs": [],
   "execution_count": 2
  },
  {
   "metadata": {
    "ExecuteTime": {
     "end_time": "2024-08-02T10:03:21.006677Z",
     "start_time": "2024-08-02T10:03:15.564806Z"
    }
   },
   "cell_type": "code",
   "source": [
    "img = imaging.read_image(img_path, verbose=1)\n",
    "print(img.shape)\n",
    "img = imaging.crop(img, 230, 650, 230, 650, 180, 340)\n",
    "print(img.shape)"
   ],
   "id": "b0f7dad0a2e03cab",
   "outputs": [
    {
     "name": "stdout",
     "output_type": "stream",
     "text": [
      "\u001B[94mReading NIfTI\u001B[0m: /run/user/1003/gvfs/smb-share:server=tierra.cnic.es,share=sc/LAB_MT/LAB/Ignacio/Gr4/RawImages/Nuclei/20190806_E6_DAPI_decon_0.5.nii.gz\n",
      "(1024, 1024, 548)\n",
      "(420, 420, 160)\n"
     ]
    }
   ],
   "execution_count": 3
  },
  {
   "metadata": {
    "ExecuteTime": {
     "end_time": "2024-08-02T10:05:02.557467Z",
     "start_time": "2024-08-02T10:05:00.333909Z"
    }
   },
   "cell_type": "code",
   "source": "nib.save(nib.Nifti1Image(img, np.eye(4)), img_path_out)",
   "id": "44b0e9bd356a9b59",
   "outputs": [],
   "execution_count": 5
  }
 ],
 "metadata": {
  "kernelspec": {
   "display_name": "Python 3",
   "language": "python",
   "name": "python3"
  },
  "language_info": {
   "codemirror_mode": {
    "name": "ipython",
    "version": 2
   },
   "file_extension": ".py",
   "mimetype": "text/x-python",
   "name": "python",
   "nbconvert_exporter": "python",
   "pygments_lexer": "ipython2",
   "version": "2.7.6"
  }
 },
 "nbformat": 4,
 "nbformat_minor": 5
}
