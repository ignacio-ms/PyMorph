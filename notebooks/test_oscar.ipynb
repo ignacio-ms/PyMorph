{
 "cells": [
  {
   "cell_type": "code",
   "id": "initial_id",
   "metadata": {
    "collapsed": true,
    "ExecuteTime": {
     "end_time": "2024-12-03T11:11:53.928417Z",
     "start_time": "2024-12-03T11:11:53.903140Z"
    }
   },
   "source": [
    "# Standard libraries\n",
    "from cellpose import models, core, plot, utils, denoise\n",
    "from glob import glob\n",
    "\n",
    "from skimage import exposure, measure\n",
    "\n",
    "import numpy as np\n",
    "import matplotlib.pyplot as plt\n",
    "import cv2\n",
    "\n",
    "# Custom packages\n",
    "from auxiliary.data.dataset_ht import HtDataset\n",
    "from auxiliary.data.imaging import read_nii\n",
    "from auxiliary.data import imaging  \n",
    "\n",
    "# Configurations\n",
    "use_gpu = core.use_gpu()\n",
    "print(f\"GPU activated: {use_gpu}\")\n",
    "\n",
    "from cellpose.io import logger_setup\n",
    "logger_setup();"
   ],
   "outputs": [
    {
     "name": "stdout",
     "output_type": "stream",
     "text": [
      "2024-12-03 12:11:53,924 [INFO] ** TORCH CUDA version installed and working. **\n",
      "GPU activated: True\n",
      "2024-12-03 12:11:53,926 [INFO] WRITING LOG OUTPUT TO /home/imarcoss/.cellpose/run.log\n",
      "2024-12-03 12:11:53,926 [INFO] \n",
      "cellpose version: \t3.0.10 \n",
      "platform:       \tlinux \n",
      "python version: \t3.11.0 \n",
      "torch version:  \t2.4.0+cu121\n"
     ]
    }
   ],
   "execution_count": 14
  },
  {
   "metadata": {
    "ExecuteTime": {
     "end_time": "2024-12-03T11:04:40.073658Z",
     "start_time": "2024-12-03T11:04:13.330009Z"
    }
   },
   "cell_type": "code",
   "source": [
    "# paht = glob(f'/run/user/1003/gvfs/smb-share:server=tierra.cnic.es,share=sc/LAB_MT/LAB/Oscar/PROJECT_transition_zone/Paper/Data/Colum_FGFinh_MeisDKO/MeisdKO_WT_BCat_Columnarity/test_plantseg/cropped/Normalized_images/denoise/*.tif')\n",
    "\n",
    "paht = [f'/run/user/1003/gvfs/smb-share:server=tierra.cnic.es,share=sc/LAB_MT/LAB/Oscar/PROJECT_transition_zone/Paper/Data/Colum_FGFinh_MeisDKO/MeisdKO_WT_BCat_Columnarity/test_plantseg/cropped_denoised/Normalized/C4-MeisDKO_Par3488_PhallRhod_Bcat647_17_11_23.lif - Series001_cropped.tif']\n",
    "\n",
    "\n",
    "imgs = list(map(imaging.read_image, paht))"
   ],
   "id": "e73d92cf027e7ad1",
   "outputs": [],
   "execution_count": 11
  },
  {
   "metadata": {
    "ExecuteTime": {
     "end_time": "2024-12-03T09:13:54.542587Z",
     "start_time": "2024-12-03T09:13:54.540566Z"
    }
   },
   "cell_type": "code",
   "source": "",
   "id": "c7636f4ff328ae2b",
   "outputs": [],
   "execution_count": 2
  },
  {
   "metadata": {
    "ExecuteTime": {
     "end_time": "2024-12-03T11:04:40.349169Z",
     "start_time": "2024-12-03T11:04:40.075528Z"
    }
   },
   "cell_type": "code",
   "source": "[print(np.array(img).shape) for img in imgs]",
   "id": "6b2637102aa19f47",
   "outputs": [
    {
     "name": "stdout",
     "output_type": "stream",
     "text": [
      "(1614, 954, 94)\n"
     ]
    },
    {
     "data": {
      "text/plain": [
       "[None]"
      ]
     },
     "execution_count": 12,
     "metadata": {},
     "output_type": "execute_result"
    }
   ],
   "execution_count": 12
  },
  {
   "metadata": {
    "ExecuteTime": {
     "end_time": "2024-12-03T11:05:15.755256Z",
     "start_time": "2024-12-03T11:04:42.102074Z"
    }
   },
   "cell_type": "code",
   "source": [
    "denoised = []\n",
    "for i, img in enumerate(imgs):    \n",
    "    model = denoise.DenoiseModel(\n",
    "        gpu=use_gpu,\n",
    "        model_type=\"denoise_cyto3\",\n",
    "    )\n",
    "    \n",
    "    img = np.array(img)\n",
    "    den = np.swapaxes(np.swapaxes([\n",
    "        np.array(model.eval(\n",
    "            img[..., z], channels=[0, 0], diameter=40, z_axis=2\n",
    "        )) for z in range(img.shape[-1])\n",
    "    ], 0, 2), 0, 1)\n",
    "    \n",
    "    if den.ndim == 4:\n",
    "        den = den[..., 0]\n",
    "    \n",
    "    imaging.save_prediction(den, paht[i].replace('.tif', '_denoised.tif'), 'XYZ', verbose=1)"
   ],
   "id": "7c4d0ccf72db49a5",
   "outputs": [
    {
     "name": "stdout",
     "output_type": "stream",
     "text": [
      "2024-12-03 12:04:42,113 [INFO] >> denoise_cyto3 << model set to be used\n",
      "2024-12-03 12:04:42,133 [INFO] ** TORCH CUDA version installed and working. **\n",
      "2024-12-03 12:04:42,134 [INFO] >>>> using GPU\n",
      "2024-12-03 12:04:42,309 [INFO] >>>> model diam_mean =  30.000 (ROIs rescaled to this size during training)\n",
      "\n",
      "\u001B[92mSaving prediction\u001B[0m: /run/user/1003/gvfs/smb-share:server=tierra.cnic.es,share=sc/LAB_MT/LAB/Oscar/PROJECT_transition_zone/Paper/Data/Colum_FGFinh_MeisDKO/MeisdKO_WT_BCat_Columnarity/test_plantseg/cropped_denoised/Normalized/C4-MeisDKO_Par3488_PhallRhod_Bcat647_17_11_23.lif - Series001_cropped_denoised.tif\n"
     ]
    }
   ],
   "execution_count": 13
  },
  {
   "metadata": {},
   "cell_type": "code",
   "outputs": [],
   "execution_count": null,
   "source": "",
   "id": "8a76765f0821a04c"
  },
  {
   "metadata": {
    "ExecuteTime": {
     "end_time": "2024-12-03T11:19:57.899632Z",
     "start_time": "2024-12-03T11:19:52.486410Z"
    }
   },
   "cell_type": "code",
   "source": [
    "paht = glob(f'/run/user/1003/gvfs/smb-share:server=tierra.cnic.es,share=sc/LAB_MT/LAB/Oscar/PROJECT_transition_zone/Paper/Data/Colum_FGFinh_MeisDKO/MeisdKO_WT_BCat_Columnarity/test_plantseg/GASP/*.tiff')\n",
    "\n",
    "\n",
    "imgs = list(map(imaging.read_image, paht))\n",
    "[print(np.array(img).shape) for img in imgs]"
   ],
   "id": "c89e9bca23ac05f1",
   "outputs": [
    {
     "name": "stdout",
     "output_type": "stream",
     "text": [
      "(1614, 954, 94)\n",
      "(1614, 954, 94)\n",
      "(1614, 954, 94)\n",
      "(1614, 954, 94)\n",
      "(1614, 954, 94)\n",
      "(1614, 954, 94)\n"
     ]
    },
    {
     "data": {
      "text/plain": [
       "[None, None, None, None, None, None]"
      ]
     },
     "execution_count": 17,
     "metadata": {},
     "output_type": "execute_result"
    }
   ],
   "execution_count": 17
  },
  {
   "metadata": {
    "ExecuteTime": {
     "end_time": "2024-12-03T11:22:06.995556Z",
     "start_time": "2024-12-03T11:20:12.275234Z"
    }
   },
   "cell_type": "code",
   "source": [
    "for i, img in enumerate(imgs):\n",
    "    img = np.array(img)\n",
    "    labeled = measure.label(img)\n",
    "    sizes = np.bincount(labeled.ravel())\n",
    "    \n",
    "    # Exclude bck\n",
    "    sizes[0] = 0\n",
    "    \n",
    "    large_labels = np.where(sizes > 21000)[0]\n",
    "    large_mask = np.isin(labeled, large_labels)\n",
    "    \n",
    "    img[large_mask] = 0\n",
    "    \n",
    "    aux = paht[i].split('/')\n",
    "    name = aux[-1].replace('.tif', '_filtered.tif')\n",
    "    path = '/'.join(aux[:-1])\n",
    "    \n",
    "    imaging.save_prediction(\n",
    "        img, f'{path}/Filtered/{name}', \n",
    "        'XYZ', verbose=1\n",
    "    )"
   ],
   "id": "7c4be950d3855fcf",
   "outputs": [
    {
     "name": "stdout",
     "output_type": "stream",
     "text": [
      "\n",
      "\u001B[92mSaving prediction\u001B[0m: /run/user/1003/gvfs/smb-share:server=tierra.cnic.es,share=sc/LAB_MT/LAB/Oscar/PROJECT_transition_zone/Paper/Data/Colum_FGFinh_MeisDKO/MeisdKO_WT_BCat_Columnarity/test_plantseg/GASP/Filtered/C2-MeisDKO_denoised_filtered.tiff\n",
      "\n",
      "\u001B[92mSaving prediction\u001B[0m: /run/user/1003/gvfs/smb-share:server=tierra.cnic.es,share=sc/LAB_MT/LAB/Oscar/PROJECT_transition_zone/Paper/Data/Colum_FGFinh_MeisDKO/MeisdKO_WT_BCat_Columnarity/test_plantseg/GASP/Filtered/C2-EZ_denoised_filtered.tiff\n",
      "\n",
      "\u001B[92mSaving prediction\u001B[0m: /run/user/1003/gvfs/smb-share:server=tierra.cnic.es,share=sc/LAB_MT/LAB/Oscar/PROJECT_transition_zone/Paper/Data/Colum_FGFinh_MeisDKO/MeisdKO_WT_BCat_Columnarity/test_plantseg/GASP/Filtered/C4-EZ_denoised_filtered.tiff\n",
      "\n",
      "\u001B[92mSaving prediction\u001B[0m: /run/user/1003/gvfs/smb-share:server=tierra.cnic.es,share=sc/LAB_MT/LAB/Oscar/PROJECT_transition_zone/Paper/Data/Colum_FGFinh_MeisDKO/MeisdKO_WT_BCat_Columnarity/test_plantseg/GASP/Filtered/C4-MeisDKO_denoised_filtered.tiff\n",
      "\n",
      "\u001B[92mSaving prediction\u001B[0m: /run/user/1003/gvfs/smb-share:server=tierra.cnic.es,share=sc/LAB_MT/LAB/Oscar/PROJECT_transition_zone/Paper/Data/Colum_FGFinh_MeisDKO/MeisdKO_WT_BCat_Columnarity/test_plantseg/GASP/Filtered/C2-C4_EZ_denoised_filtered.tiff\n",
      "\n",
      "\u001B[92mSaving prediction\u001B[0m: /run/user/1003/gvfs/smb-share:server=tierra.cnic.es,share=sc/LAB_MT/LAB/Oscar/PROJECT_transition_zone/Paper/Data/Colum_FGFinh_MeisDKO/MeisdKO_WT_BCat_Columnarity/test_plantseg/GASP/Filtered/C2-C4-MeisDKO_denoised_filtered.tiff\n"
     ]
    }
   ],
   "execution_count": 19
  }
 ],
 "metadata": {
  "kernelspec": {
   "display_name": "Python 3",
   "language": "python",
   "name": "python3"
  },
  "language_info": {
   "codemirror_mode": {
    "name": "ipython",
    "version": 2
   },
   "file_extension": ".py",
   "mimetype": "text/x-python",
   "name": "python",
   "nbconvert_exporter": "python",
   "pygments_lexer": "ipython2",
   "version": "2.7.6"
  }
 },
 "nbformat": 4,
 "nbformat_minor": 5
}
