{
 "cells": [
  {
   "cell_type": "code",
   "id": "initial_id",
   "metadata": {
    "collapsed": true,
    "ExecuteTime": {
     "end_time": "2024-12-04T12:38:31.353634Z",
     "start_time": "2024-12-04T12:38:26.185310Z"
    }
   },
   "source": [
    "# Standard libraries\n",
    "from cellpose import models, core, plot, utils, denoise\n",
    "from glob import glob\n",
    "\n",
    "from skimage import exposure, measure\n",
    "\n",
    "import numpy as np\n",
    "import matplotlib.pyplot as plt\n",
    "import cv2\n",
    "\n",
    "# Custom packages\n",
    "from util.data.dataset_ht import HtDataset\n",
    "from util.data.imaging import read_nii\n",
    "from util.data import imaging  \n",
    "\n",
    "# Configurations\n",
    "use_gpu = core.use_gpu()\n",
    "print(f\"GPU activated: {use_gpu}\")\n",
    "\n",
    "from cellpose.io import logger_setup\n",
    "logger_setup();"
   ],
   "outputs": [
    {
     "name": "stdout",
     "output_type": "stream",
     "text": [
      "GPU activated: False\n",
      "2024-12-04 13:38:31,349 [INFO] WRITING LOG OUTPUT TO /home/imarcoss/.cellpose/run.log\n",
      "2024-12-04 13:38:31,350 [INFO] \n",
      "cellpose version: \t3.0.10 \n",
      "platform:       \tlinux \n",
      "python version: \t3.10.14 \n",
      "torch version:  \t2.3.1\n"
     ]
    }
   ],
   "execution_count": 2
  },
  {
   "metadata": {
    "ExecuteTime": {
     "end_time": "2024-12-03T15:59:45.142194Z",
     "start_time": "2024-12-03T15:58:56.213305Z"
    }
   },
   "cell_type": "code",
   "source": [
    "paht = glob(f'/run/user/1003/gvfs/smb-share:server=tierra.cnic.es,share=sc/LAB_MT/LAB/Oscar/PROJECT_transition_zone/Paper/Data/Colum_FGFinh_MeisDKO/MeisdKO_WT_BCat_Columnarity/test_plantseg/cropped_denoised/Normalized/*.tif')\n",
    "\n",
    "imgs = list(map(imaging.read_image, paht))"
   ],
   "id": "e73d92cf027e7ad1",
   "outputs": [],
   "execution_count": 2
  },
  {
   "metadata": {
    "ExecuteTime": {
     "end_time": "2024-12-03T15:59:45.146417Z",
     "start_time": "2024-12-03T15:59:45.143740Z"
    }
   },
   "cell_type": "code",
   "source": "",
   "id": "c7636f4ff328ae2b",
   "outputs": [],
   "execution_count": 2
  },
  {
   "metadata": {
    "ExecuteTime": {
     "end_time": "2024-12-03T15:59:45.536011Z",
     "start_time": "2024-12-03T15:59:45.149096Z"
    }
   },
   "cell_type": "code",
   "source": "[print(np.array(img).shape) for img in imgs]",
   "id": "6b2637102aa19f47",
   "outputs": [
    {
     "name": "stdout",
     "output_type": "stream",
     "text": [
      "(1821, 927, 276)\n",
      "(1161, 705, 305)\n",
      "(1161, 705, 305)\n",
      "(1821, 927, 276)\n"
     ]
    },
    {
     "data": {
      "text/plain": [
       "[None, None, None, None]"
      ]
     },
     "execution_count": 3,
     "metadata": {},
     "output_type": "execute_result"
    }
   ],
   "execution_count": 3
  },
  {
   "metadata": {
    "ExecuteTime": {
     "end_time": "2024-12-03T16:05:59.852505Z",
     "start_time": "2024-12-03T16:00:01.602171Z"
    }
   },
   "cell_type": "code",
   "source": [
    "for i, img in enumerate(imgs):    \n",
    "    model = denoise.DenoiseModel(\n",
    "        gpu=use_gpu,\n",
    "        model_type=\"denoise_cyto3\",\n",
    "    )\n",
    "    \n",
    "    img = np.array(img)\n",
    "    den = np.swapaxes(np.swapaxes([\n",
    "        np.array(model.eval(\n",
    "            img[..., z], channels=[0, 0], diameter=40,\n",
    "        )) for z in range(img.shape[-1])\n",
    "    ], 0, 2), 0, 1)\n",
    "    \n",
    "    if den.ndim == 4:\n",
    "        den = den[..., 0]\n",
    "    \n",
    "    imaging.save_prediction(den, paht[i].replace('.tif', '_denoised.tif'), 'XYZ', verbose=1)"
   ],
   "id": "7c4d0ccf72db49a5",
   "outputs": [
    {
     "name": "stdout",
     "output_type": "stream",
     "text": [
      "2024-12-03 17:00:01,607 [INFO] >> denoise_cyto3 << model set to be used\n",
      "2024-12-03 17:00:01,629 [INFO] ** TORCH CUDA version installed and working. **\n",
      "2024-12-03 17:00:01,630 [INFO] >>>> using GPU\n",
      "2024-12-03 17:00:01,845 [INFO] >>>> model diam_mean =  30.000 (ROIs rescaled to this size during training)\n"
     ]
    },
    {
     "name": "stderr",
     "output_type": "stream",
     "text": [
      "/home/imarcoss/mambaforge/envs/cellpose/lib/python3.11/site-packages/cellpose/resnet_torch.py:276: FutureWarning: You are using `torch.load` with `weights_only=False` (the current default value), which uses the default pickle module implicitly. It is possible to construct malicious pickle data which will execute arbitrary code during unpickling (See https://github.com/pytorch/pytorch/blob/main/SECURITY.md#untrusted-models for more details). In a future release, the default value for `weights_only` will be flipped to `True`. This limits the functions that could be executed during unpickling. Arbitrary objects will no longer be allowed to be loaded via this mode unless they are explicitly allowlisted by the user via `torch.serialization.add_safe_globals`. We recommend you start setting `weights_only=True` for any use case where you don't have full control of the loaded file. Please open an issue on GitHub for any issues related to this experimental feature.\n",
      "  state_dict = torch.load(filename, map_location=device)\n"
     ]
    },
    {
     "name": "stdout",
     "output_type": "stream",
     "text": [
      "\n",
      "\u001B[92mSaving prediction\u001B[0m: /run/user/1003/gvfs/smb-share:server=tierra.cnic.es,share=sc/LAB_MT/LAB/Oscar/PROJECT_transition_zone/Paper/Data/Colum_FGFinh_MeisDKO/MeisdKO_WT_BCat_Columnarity/test_plantseg/cropped_denoised/Normalized/C4-EZ_denoised.tif\n",
      "2024-12-03 17:01:57,602 [INFO] >> denoise_cyto3 << model set to be used\n",
      "2024-12-03 17:01:57,622 [INFO] ** TORCH CUDA version installed and working. **\n",
      "2024-12-03 17:01:57,624 [INFO] >>>> using GPU\n",
      "2024-12-03 17:01:57,812 [INFO] >>>> model diam_mean =  30.000 (ROIs rescaled to this size during training)\n",
      "\n",
      "\u001B[92mSaving prediction\u001B[0m: /run/user/1003/gvfs/smb-share:server=tierra.cnic.es,share=sc/LAB_MT/LAB/Oscar/PROJECT_transition_zone/Paper/Data/Colum_FGFinh_MeisDKO/MeisdKO_WT_BCat_Columnarity/test_plantseg/cropped_denoised/Normalized/C4_MeisDKO_denoised.tif\n",
      "2024-12-03 17:02:56,867 [INFO] >> denoise_cyto3 << model set to be used\n",
      "2024-12-03 17:02:56,873 [INFO] ** TORCH CUDA version installed and working. **\n",
      "2024-12-03 17:02:56,873 [INFO] >>>> using GPU\n",
      "2024-12-03 17:02:57,045 [INFO] >>>> model diam_mean =  30.000 (ROIs rescaled to this size during training)\n",
      "\n",
      "\u001B[92mSaving prediction\u001B[0m: /run/user/1003/gvfs/smb-share:server=tierra.cnic.es,share=sc/LAB_MT/LAB/Oscar/PROJECT_transition_zone/Paper/Data/Colum_FGFinh_MeisDKO/MeisdKO_WT_BCat_Columnarity/test_plantseg/cropped_denoised/Normalized/C2_MeisDKO_denoised.tif\n",
      "2024-12-03 17:03:56,600 [INFO] >> denoise_cyto3 << model set to be used\n",
      "2024-12-03 17:03:56,601 [INFO] ** TORCH CUDA version installed and working. **\n",
      "2024-12-03 17:03:56,603 [INFO] >>>> using GPU\n",
      "2024-12-03 17:03:56,768 [INFO] >>>> model diam_mean =  30.000 (ROIs rescaled to this size during training)\n",
      "\n",
      "\u001B[92mSaving prediction\u001B[0m: /run/user/1003/gvfs/smb-share:server=tierra.cnic.es,share=sc/LAB_MT/LAB/Oscar/PROJECT_transition_zone/Paper/Data/Colum_FGFinh_MeisDKO/MeisdKO_WT_BCat_Columnarity/test_plantseg/cropped_denoised/Normalized/C2-EZ_denoised.tif\n"
     ]
    }
   ],
   "execution_count": 4
  },
  {
   "metadata": {},
   "cell_type": "code",
   "outputs": [],
   "execution_count": null,
   "source": "",
   "id": "8a76765f0821a04c"
  },
  {
   "metadata": {},
   "cell_type": "code",
   "outputs": [],
   "execution_count": null,
   "source": "",
   "id": "4648f1a7df81bd7b"
  },
  {
   "metadata": {
    "ExecuteTime": {
     "end_time": "2024-12-04T08:51:26.430893Z",
     "start_time": "2024-12-04T08:49:27.005876Z"
    }
   },
   "cell_type": "code",
   "source": [
    "paht = glob(f'/run/user/1003/gvfs/smb-share:server=tierra.cnic.es,share=sc/LAB_MT/LAB/Oscar/PROJECT_transition_zone/Paper/Data/Colum_FGFinh_MeisDKO/MeisdKO_WT_BCat_Columnarity/test_plantseg/cropped_denoised/Normalized/CellposeDenoise/*.tif')\n",
    "\n",
    "imgs = list(map(imaging.read_image, paht))\n",
    "[print(np.array(img).shape) for img in imgs]"
   ],
   "id": "9626c75711fe3b40",
   "outputs": [
    {
     "name": "stdout",
     "output_type": "stream",
     "text": [
      "(1821, 927, 276)\n",
      "(1161, 705, 305)\n",
      "(1821, 927, 276)\n",
      "(1161, 705, 305)\n"
     ]
    },
    {
     "data": {
      "text/plain": [
       "[None, None, None, None]"
      ]
     },
     "execution_count": 2,
     "metadata": {},
     "output_type": "execute_result"
    }
   ],
   "execution_count": 2
  },
  {
   "metadata": {
    "ExecuteTime": {
     "end_time": "2024-12-04T09:04:33.142730Z",
     "start_time": "2024-12-04T08:51:26.432297Z"
    }
   },
   "cell_type": "code",
   "source": [
    "from skimage.restoration import denoise_bilateral\n",
    "\n",
    "\n",
    "for i, img in enumerate(imgs):        \n",
    "    img = np.array(img)\n",
    "    den = np.swapaxes(np.swapaxes([\n",
    "        denoise_bilateral(\n",
    "            img[..., z], sigma_color=None, \n",
    "            sigma_spatial=25, win_size=7\n",
    "        ) for z in range(img.shape[-1])\n",
    "    ], 0, 2), 0, 1)\n",
    "    \n",
    "    out_aux = paht[i].split('/')\n",
    "    name = out_aux[-1].replace('.tif', '_denoised.tif')\n",
    "    out_aux[-1] = 'CellposeDenoise+Bilateral/' + name\n",
    "    del out_aux[-2]\n",
    "    out = '/'.join(out_aux)\n",
    "    imaging.save_prediction(\n",
    "        den, out, \n",
    "        'XYZ', verbose=1\n",
    "    )"
   ],
   "id": "b62b0f18116e84a7",
   "outputs": [
    {
     "name": "stdout",
     "output_type": "stream",
     "text": [
      "\n",
      "\u001B[92mSaving prediction\u001B[0m: /run/user/1003/gvfs/smb-share:server=tierra.cnic.es,share=sc/LAB_MT/LAB/Oscar/PROJECT_transition_zone/Paper/Data/Colum_FGFinh_MeisDKO/MeisdKO_WT_BCat_Columnarity/test_plantseg/cropped_denoised/Normalized/CellposeDenoise+Bilateral/C4-EZ_denoised_denoised.tif\n",
      "\n",
      "\u001B[92mSaving prediction\u001B[0m: /run/user/1003/gvfs/smb-share:server=tierra.cnic.es,share=sc/LAB_MT/LAB/Oscar/PROJECT_transition_zone/Paper/Data/Colum_FGFinh_MeisDKO/MeisdKO_WT_BCat_Columnarity/test_plantseg/cropped_denoised/Normalized/CellposeDenoise+Bilateral/C2_MeisDKO_denoised_denoised.tif\n",
      "\n",
      "\u001B[92mSaving prediction\u001B[0m: /run/user/1003/gvfs/smb-share:server=tierra.cnic.es,share=sc/LAB_MT/LAB/Oscar/PROJECT_transition_zone/Paper/Data/Colum_FGFinh_MeisDKO/MeisdKO_WT_BCat_Columnarity/test_plantseg/cropped_denoised/Normalized/CellposeDenoise+Bilateral/C2-EZ_denoised_denoised.tif\n",
      "\n",
      "\u001B[92mSaving prediction\u001B[0m: /run/user/1003/gvfs/smb-share:server=tierra.cnic.es,share=sc/LAB_MT/LAB/Oscar/PROJECT_transition_zone/Paper/Data/Colum_FGFinh_MeisDKO/MeisdKO_WT_BCat_Columnarity/test_plantseg/cropped_denoised/Normalized/CellposeDenoise+Bilateral/C4_MeisDKO_denoised_denoised.tif\n"
     ]
    }
   ],
   "execution_count": 3
  },
  {
   "metadata": {},
   "cell_type": "code",
   "outputs": [],
   "execution_count": null,
   "source": "",
   "id": "b57f86ee8a7cb644"
  },
  {
   "metadata": {},
   "cell_type": "code",
   "outputs": [],
   "execution_count": null,
   "source": "",
   "id": "bae7c17fecf29d71"
  },
  {
   "metadata": {
    "ExecuteTime": {
     "end_time": "2024-12-04T16:38:39.271334Z",
     "start_time": "2024-12-04T16:38:37.348837Z"
    }
   },
   "cell_type": "code",
   "source": [
    "paht = glob(f'/run/user/1003/gvfs/smb-share:server=tierra.cnic.es,share=sc/LAB_MT/LAB/Oscar/PROJECT_transition_zone/Paper/Data/Colum_FGFinh_MeisDKO/MeisdKO_WT_BCat_Columnarity/test_plantseg/cropped_denoised/Normalized/CellposeDenoise/PreProcessing/confocal_3D_unet_sa_meristem_cells/GASP/PostProcessing/C4xC2_MeisDKO_denoised(16)_predictions_gasp_average.tiff')\n",
    "\n",
    "\n",
    "imgs = list(map(imaging.read_image, paht))\n",
    "[print(np.array(img).shape) for img in imgs]"
   ],
   "id": "c89e9bca23ac05f1",
   "outputs": [
    {
     "name": "stdout",
     "output_type": "stream",
     "text": [
      "(1161, 705, 305)\n"
     ]
    },
    {
     "data": {
      "text/plain": [
       "[None]"
      ]
     },
     "execution_count": 9,
     "metadata": {},
     "output_type": "execute_result"
    }
   ],
   "execution_count": 9
  },
  {
   "metadata": {
    "ExecuteTime": {
     "end_time": "2024-12-04T16:39:32.740743Z",
     "start_time": "2024-12-04T16:38:40.423675Z"
    }
   },
   "cell_type": "code",
   "source": [
    "for i, img in enumerate(imgs):\n",
    "    img = np.array(img)\n",
    "    labeled = measure.label(img)\n",
    "    sizes = np.bincount(labeled.ravel())\n",
    "    \n",
    "    # Exclude bck\n",
    "    sizes[0] = 0\n",
    "    \n",
    "    large_labels = np.where(sizes > 55000)[0]\n",
    "    large_mask = np.isin(labeled, large_labels)\n",
    "    \n",
    "    img[large_mask] = 0\n",
    "    \n",
    "    aux = paht[i].split('/')\n",
    "    name = aux[-1].replace('.tif', '_filtered.tif')\n",
    "    path = '/'.join(aux[:-1])\n",
    "    \n",
    "    imaging.save_prediction(\n",
    "        img, f'{path}/Filtered/{name}', \n",
    "        'XYZ', verbose=1\n",
    "    )"
   ],
   "id": "7c4be950d3855fcf",
   "outputs": [
    {
     "name": "stdout",
     "output_type": "stream",
     "text": [
      "\n",
      "\u001B[92mSaving prediction\u001B[0m: /run/user/1003/gvfs/smb-share:server=tierra.cnic.es,share=sc/LAB_MT/LAB/Oscar/PROJECT_transition_zone/Paper/Data/Colum_FGFinh_MeisDKO/MeisdKO_WT_BCat_Columnarity/test_plantseg/cropped_denoised/Normalized/CellposeDenoise/PreProcessing/confocal_3D_unet_sa_meristem_cells/GASP/PostProcessing/Filtered/C4xC2_MeisDKO_denoised(16)_predictions_gasp_average_filtered.tiff\n"
     ]
    }
   ],
   "execution_count": 10
  }
 ],
 "metadata": {
  "kernelspec": {
   "display_name": "Python 3",
   "language": "python",
   "name": "python3"
  },
  "language_info": {
   "codemirror_mode": {
    "name": "ipython",
    "version": 2
   },
   "file_extension": ".py",
   "mimetype": "text/x-python",
   "name": "python",
   "nbconvert_exporter": "python",
   "pygments_lexer": "ipython2",
   "version": "2.7.6"
  }
 },
 "nbformat": 4,
 "nbformat_minor": 5
}
