{
 "cells": [
  {
   "metadata": {
    "ExecuteTime": {
     "end_time": "2024-10-29T14:36:28.801045Z",
     "start_time": "2024-10-29T14:36:26.286859Z"
    }
   },
   "cell_type": "code",
   "source": [
    "import numpy as np\n",
    "import open3d as o3d\n",
    "import trimesh\n",
    "import pyrender\n",
    "\n",
    "import json\n",
    "\n",
    "from auxiliary import values as v"
   ],
   "id": "baed466359fe53e3",
   "outputs": [
    {
     "name": "stdout",
     "output_type": "stream",
     "text": [
      "Jupyter environment detected. Enabling Open3D WebVisualizer.\n",
      "[Open3D INFO] WebRTC GUI backend enabled.\n",
      "[Open3D INFO] WebRTCWindowSystem: HTTP handshake server disabled.\n"
     ]
    }
   ],
   "execution_count": 1
  },
  {
   "metadata": {
    "ExecuteTime": {
     "end_time": "2024-10-28T17:15:33.744328Z",
     "start_time": "2024-10-28T17:15:33.741684Z"
    }
   },
   "cell_type": "code",
   "source": [
    "group = 'Gr4'\n",
    "specimens = v.specimens[group]"
   ],
   "id": "initial_id",
   "outputs": [],
   "execution_count": 3
  },
  {
   "metadata": {},
   "cell_type": "code",
   "outputs": [],
   "execution_count": null,
   "source": "",
   "id": "db37345e42874057"
  },
  {
   "metadata": {},
   "cell_type": "code",
   "outputs": [],
   "execution_count": null,
   "source": "",
   "id": "394e64ae407f922"
  },
  {
   "metadata": {},
   "cell_type": "code",
   "outputs": [],
   "execution_count": null,
   "source": "",
   "id": "4251213ac572a9fc"
  },
  {
   "metadata": {},
   "cell_type": "markdown",
   "source": "Without Landmarks",
   "id": "234e2c025a8b8352"
  },
  {
   "metadata": {
    "ExecuteTime": {
     "end_time": "2024-10-28T17:47:29.080505Z",
     "start_time": "2024-10-28T17:45:49.766590Z"
    }
   },
   "cell_type": "code",
   "source": [
    "source_path = v.data_path + f'{group}/3DShape/Tissue/myocardium/2019{specimens[0]}Shape.ply'\n",
    "target_path = v.data_path + f'{group}/3DShape/Tissue/myocardium/2019{specimens[1]}Shape.ply'\n",
    "\n",
    "# source_path = v.data_path + f'Gr1/3DShape/Tissue/myocardium/20190208_E2Shape.ply'\n",
    "# target_path = v.data_path + f'Gr1/3DShape/Membrane/myocardium/20190208_E2_myocardium.ply'\n",
    "\n",
    "source_mesh = o3d.io.read_triangle_mesh(source_path)\n",
    "target_mesh = o3d.io.read_triangle_mesh(target_path)\n",
    "\n",
    "source_pcd = source_mesh.sample_points_uniformly(number_of_points=10000)\n",
    "target_pcd = target_mesh.sample_points_uniformly(number_of_points=10000)\n",
    "\n",
    "source_pcd.scale(1 / np.max(source_pcd.get_max_bound() - source_pcd.get_min_bound()), center=source_pcd.get_center())\n",
    "target_pcd.scale(1 / np.max(target_pcd.get_max_bound() - target_pcd.get_min_bound()), center=target_pcd.get_center())\n",
    "\n",
    "# Normals estimation\n",
    "radius_normal = 0.2\n",
    "source_pcd.estimate_normals(o3d.geometry.KDTreeSearchParamHybrid(radius=radius_normal, max_nn=30))\n",
    "target_pcd.estimate_normals(o3d.geometry.KDTreeSearchParamHybrid(radius=radius_normal, max_nn=30))\n",
    "\n",
    "# FPFH features computation\n",
    "radius_feature = 0.5\n",
    "fpfh_source = o3d.pipelines.registration.compute_fpfh_feature(source_pcd, o3d.geometry.KDTreeSearchParamHybrid(radius=radius_feature, max_nn=100))\n",
    "fpfh_target = o3d.pipelines.registration.compute_fpfh_feature(target_pcd, o3d.geometry.KDTreeSearchParamHybrid(radius=radius_feature, max_nn=100))\n",
    "\n",
    "# RANSAC registration\n",
    "best_fitness = -np.inf\n",
    "best_transformation = np.eye(4)\n",
    "num_trials = 20\n",
    "ransac_n = 4\n",
    "threshold = 0.1\n",
    "\n",
    "for i in range(num_trials):\n",
    "    ransac_result = o3d.pipelines.registration.registration_ransac_based_on_feature_matching(\n",
    "        target_pcd, source_pcd, fpfh_target, fpfh_source, mutual_filter=False, max_correspondence_distance=threshold,\n",
    "        estimation_method=o3d.pipelines.registration.TransformationEstimationPointToPoint(False),\n",
    "        ransac_n=ransac_n,\n",
    "        checkers=[o3d.pipelines.registration.CorrespondenceCheckerBasedOnEdgeLength(0.9),\n",
    "                  o3d.pipelines.registration.CorrespondenceCheckerBasedOnDistance(threshold)],\n",
    "        criteria=o3d.pipelines.registration.RANSACConvergenceCriteria(4000000, 500)\n",
    "    )\n",
    "\n",
    "    if ransac_result.fitness > best_fitness:\n",
    "        best_fitness = ransac_result.fitness\n",
    "        best_transformation = ransac_result.transformation\n",
    "        \n",
    "print(best_transformation)\n",
    "print(best_fitness)\n",
    "\n",
    "target_pcd.transform(best_transformation)\n",
    "target_mesh.transform(best_transformation)\n",
    "\n",
    "o3d.visualization.draw_geometries([source_pcd, target_pcd])\n",
    "o3d.visualization.draw_geometries([source_mesh, target_mesh])"
   ],
   "id": "b3c4b3a0f007b0ad",
   "outputs": [
    {
     "name": "stdout",
     "output_type": "stream",
     "text": [
      "[[ 9.90157908e-01 -1.35502221e-01 -3.50209206e-02 -1.29102790e+02]\n",
      " [ 1.27461516e-01  9.76425398e-01 -1.74203916e-01 -7.74526874e+01]\n",
      " [ 5.78003339e-02  1.68025566e-01  9.84086648e-01 -1.15501098e+02]\n",
      " [ 0.00000000e+00  0.00000000e+00  0.00000000e+00  1.00000000e+00]]\n",
      "0.9274\n"
     ]
    }
   ],
   "execution_count": 24
  },
  {
   "metadata": {
    "ExecuteTime": {
     "end_time": "2024-10-28T17:23:13.638694Z",
     "start_time": "2024-10-28T17:23:09.381514Z"
    }
   },
   "cell_type": "code",
   "source": "o3d.visualization.draw_geometries([source_mesh, target_mesh])",
   "id": "5a2d39d1512dcf9a",
   "outputs": [],
   "execution_count": 15
  },
  {
   "metadata": {},
   "cell_type": "code",
   "outputs": [],
   "execution_count": null,
   "source": "",
   "id": "3d7e4d95e59aa0f0"
  },
  {
   "metadata": {},
   "cell_type": "code",
   "outputs": [],
   "execution_count": null,
   "source": "",
   "id": "ea4c5ba439b69051"
  },
  {
   "metadata": {
    "ExecuteTime": {
     "end_time": "2024-10-28T16:36:14.074776Z",
     "start_time": "2024-10-28T16:36:14.071846Z"
    }
   },
   "cell_type": "code",
   "source": "",
   "id": "d8821a2c6aa47420",
   "outputs": [],
   "execution_count": 103
  },
  {
   "metadata": {},
   "cell_type": "markdown",
   "source": "With Landmarks",
   "id": "dc1e77f410e9dfdb"
  },
  {
   "metadata": {},
   "cell_type": "code",
   "outputs": [],
   "execution_count": null,
   "source": "",
   "id": "b4b80f157e596375"
  },
  {
   "metadata": {},
   "cell_type": "code",
   "outputs": [],
   "execution_count": null,
   "source": "",
   "id": "fbfd0322d855240a"
  },
  {
   "metadata": {},
   "cell_type": "code",
   "outputs": [],
   "execution_count": null,
   "source": "",
   "id": "15cea203ac883a07"
  },
  {
   "metadata": {},
   "cell_type": "markdown",
   "source": "Center origin",
   "id": "634bca6f7b02831d"
  },
  {
   "metadata": {
    "ExecuteTime": {
     "end_time": "2024-10-29T09:50:15.785215Z",
     "start_time": "2024-10-29T09:50:15.032981Z"
    }
   },
   "cell_type": "code",
   "source": [
    "group = 'Gr4'\n",
    "specimens = v.specimens[group]\n",
    "\n",
    "meshes = []\n",
    "for specimen in specimens:\n",
    "    path = v.data_path + f'{group}/3DShape/Tissue/myocardium/2019{specimen}Shape.ply'\n",
    "    mesh = o3d.io.read_triangle_mesh(path)\n",
    "    meshes.append(mesh)"
   ],
   "id": "e5e5a0018734839b",
   "outputs": [],
   "execution_count": 3
  },
  {
   "metadata": {
    "ExecuteTime": {
     "end_time": "2024-10-29T09:51:29.042935Z",
     "start_time": "2024-10-29T09:51:19.562274Z"
    }
   },
   "cell_type": "code",
   "source": "o3d.visualization.draw_geometries(meshes)",
   "id": "c0c222045f8a179a",
   "outputs": [],
   "execution_count": 4
  },
  {
   "metadata": {
    "ExecuteTime": {
     "end_time": "2024-10-29T09:51:48.794103Z",
     "start_time": "2024-10-29T09:51:48.783069Z"
    }
   },
   "cell_type": "code",
   "source": [
    "centered_meshes = []\n",
    "\n",
    "for mesh in meshes:\n",
    "    mesh_center = mesh.get_center()\n",
    "    \n",
    "    # Move mesh to origin\n",
    "    trans2origin = np.eye(4)\n",
    "    trans2origin[:3, 3] = -mesh_center\n",
    "    \n",
    "    mesh.transform(trans2origin)\n",
    "    centered_meshes.append(mesh)"
   ],
   "id": "4b50780652ee29e4",
   "outputs": [],
   "execution_count": 5
  },
  {
   "metadata": {
    "ExecuteTime": {
     "end_time": "2024-10-29T09:52:34.887774Z",
     "start_time": "2024-10-29T09:51:56.731716Z"
    }
   },
   "cell_type": "code",
   "source": "o3d.visualization.draw_geometries(centered_meshes)",
   "id": "9d7cb26b19c14b82",
   "outputs": [],
   "execution_count": 6
  },
  {
   "metadata": {},
   "cell_type": "code",
   "outputs": [],
   "execution_count": null,
   "source": "",
   "id": "f2bbb4f7473313b6"
  },
  {
   "metadata": {},
   "cell_type": "code",
   "outputs": [],
   "execution_count": null,
   "source": "",
   "id": "5e55ff2fa0f4f865"
  },
  {
   "metadata": {},
   "cell_type": "markdown",
   "source": "Pipeline",
   "id": "3bf8b15a6a2f0faf"
  },
  {
   "metadata": {
    "ExecuteTime": {
     "end_time": "2024-10-29T11:24:49.271368Z",
     "start_time": "2024-10-29T11:24:49.267444Z"
    }
   },
   "cell_type": "code",
   "source": [
    "group = 'Gr4'\n",
    "tissue = 'myocardium'"
   ],
   "id": "ca3d1beb77832e91",
   "outputs": [],
   "execution_count": 2
  },
  {
   "metadata": {
    "ExecuteTime": {
     "end_time": "2024-10-29T11:24:49.865984Z",
     "start_time": "2024-10-29T11:24:49.851886Z"
    }
   },
   "cell_type": "code",
   "source": [
    "import json\n",
    "\n",
    "\n",
    "class MeshRegistration:\n",
    "    def __init__(self, group='Gr4'):\n",
    "        self.group = group\n",
    "        self.specimens = v.specimens[group]\n",
    "        \n",
    "        self.tissue_meshes_myo = []\n",
    "        self.cells_meshes_myo = []\n",
    "        self.nuclei_meshes_myo = []\n",
    "        \n",
    "        self.tissue_meshes_spl = []\n",
    "        self.cells_meshes_spl = []\n",
    "        self.nuclei_meshes_spl = []\n",
    "        \n",
    "        self.landmarks = []\n",
    "        \n",
    "        self.load_meshes()\n",
    "        \n",
    "    def load_meshes(self):\n",
    "        for specimen in self.specimens:\n",
    "            tissue_path_myo = v.data_path + f'{self.group}/3DShape/Tissue/myocardium/2019{specimen}Shape.ply'\n",
    "            cells_path_myo = v.data_path + f'{self.group}/3DShape/Membrane/myocardium/2019{specimen}_myocardium.ply'\n",
    "            nuclei_path_myo = v.data_path + f'{self.group}/3DShape/Nuclei/myocardium/2019{specimen}_myocardium.ply'\n",
    "            \n",
    "            tissue_path_spl = v.data_path + f'{self.group}/3DShape/Tissue/splanchnic/2019{specimen}Shape.ply'\n",
    "            cells_path_spl = v.data_path + f'{self.group}/3DShape/Membrane/splanchnic/2019{specimen}_splanchnic.ply'\n",
    "            nuclei_path_spl = v.data_path + f'{self.group}/3DShape/Nuclei/splanchnic/2019{specimen}_splanchnic.ply'\n",
    "\n",
    "            tissue_mesh_myo = o3d.io.read_triangle_mesh(tissue_path_myo)\n",
    "            cells_mesh_myo = o3d.io.read_triangle_mesh(cells_path_myo)\n",
    "            nuclei_mesh_myo = o3d.io.read_triangle_mesh(nuclei_path_myo)\n",
    "            \n",
    "            tissue_mesh_spl = o3d.io.read_triangle_mesh(tissue_path_spl)\n",
    "            cells_mesh_spl = o3d.io.read_triangle_mesh(cells_path_spl)\n",
    "            nuclei_mesh_spl = o3d.io.read_triangle_mesh(nuclei_path_spl)\n",
    "\n",
    "            self.tissue_meshes_myo.append(tissue_mesh_myo)\n",
    "            self.cells_meshes_myo.append(cells_mesh_myo)\n",
    "            self.nuclei_meshes_myo.append(nuclei_mesh_myo)\n",
    "            \n",
    "            self.tissue_meshes_spl.append(tissue_mesh_spl)\n",
    "            self.cells_meshes_spl.append(cells_mesh_spl)\n",
    "            self.nuclei_meshes_spl.append(nuclei_mesh_spl)\n",
    "            \n",
    "            land_path = v.data_path + f'Landmarks/2019{specimen}_key_points.json'\n",
    "            with open(land_path, 'r') as f:\n",
    "                key_points = json.load(f)\n",
    "                self.landmarks.append({\n",
    "                    'myo_myo': {\n",
    "                        name: key_points[name] \n",
    "                        for name in v.myo_myo_landmark_names \n",
    "                        if name in key_points\n",
    "                    },\n",
    "                    'spl_spl': {\n",
    "                        name: key_points[name] \n",
    "                        for name in v.spl_spl_landmark_names \n",
    "                        if name in key_points\n",
    "                    },\n",
    "                    'myo_spl': {\n",
    "                        name: key_points[name] \n",
    "                        for name in v.myo_spl_landmark_names \n",
    "                        if name in key_points\n",
    "                    },\n",
    "                })\n",
    "            \n",
    "            assert len(self.tissue_meshes_myo) == len(self.cells_meshes_myo) == len(self.nuclei_meshes_myo), f'Meshes not loaded correctly, tissue: {len(self.tissue_meshes_myo)}, cells: {len(self.cells_meshes_myo)}, nuclei: {len(self.nuclei_meshes_myo)}'\n",
    "        \n",
    "    def normalize_mesh_scale(self, mesh_idx, target_scale=1.0, tissue='myocardium'):\n",
    "        if tissue == 'myocardium':\n",
    "            tissue_mesh = self.tissue_meshes_myo[mesh_idx]\n",
    "            cells_mesh = self.cells_meshes_myo[mesh_idx]\n",
    "            nuclei_mesh = self.nuclei_meshes_myo[mesh_idx]\n",
    "        else:\n",
    "            tissue_mesh = self.tissue_meshes_spl[mesh_idx]\n",
    "            cells_mesh = self.cells_meshes_spl[mesh_idx]\n",
    "            nuclei_mesh = self.nuclei_meshes_spl[mesh_idx]\n",
    "        \n",
    "        bbox = tissue_mesh.get_axis_aligned_bounding_box()\n",
    "        max_extent = np.max(bbox.get_extent())\n",
    "        scale_factor = target_scale / max_extent\n",
    "        \n",
    "        center = tissue_mesh.get_center()\n",
    "        tissue_mesh.scale(scale_factor, center=center)\n",
    "        cells_mesh.scale(scale_factor, center=center)\n",
    "        nuclei_mesh.scale(scale_factor, center=center)\n",
    "    \n",
    "    def center_mesh_at_origin(self, mesh_idx, tissue='myocardium'):\n",
    "        if tissue == 'myocardium':\n",
    "            tissue_mesh = self.tissue_meshes_myo[mesh_idx]\n",
    "            cells_mesh = self.cells_meshes_myo[mesh_idx]\n",
    "            nuclei_mesh = self.nuclei_meshes_myo[mesh_idx]\n",
    "        else:\n",
    "            tissue_mesh = self.tissue_meshes_spl[mesh_idx]\n",
    "            cells_mesh = self.cells_meshes_spl[mesh_idx]\n",
    "            nuclei_mesh = self.nuclei_meshes_spl[mesh_idx]\n",
    "        \n",
    "        centroid = tissue_mesh.get_center()\n",
    "        \n",
    "        tissue_mesh.translate(-centroid)\n",
    "        cells_mesh.translate(-centroid)\n",
    "        nuclei_mesh.translate(-centroid)\n",
    "        "
   ],
   "id": "e014870c3c63326b",
   "outputs": [],
   "execution_count": 3
  },
  {
   "metadata": {
    "ExecuteTime": {
     "end_time": "2024-10-29T11:15:08.697713Z",
     "start_time": "2024-10-29T11:15:08.689044Z"
    }
   },
   "cell_type": "code",
   "source": [
    "def show(mr):        \n",
    "    for mesh in mr.tissue_meshes_myo + mr.tissue_meshes_spl:\n",
    "        mesh.paint_uniform_color([1.0, 0.0, 0.0])  # Red color for tissues\n",
    "    \n",
    "    for mesh in mr.cells_meshes_myo + mr.cells_meshes_spl:\n",
    "        mesh.paint_uniform_color([0.0, 1.0, 0.0])  # Green color for cells\n",
    "    \n",
    "    for mesh in mr.nuclei_meshes_myo + mr.nuclei_meshes_spl:\n",
    "        mesh.paint_uniform_color([0.0, 0.0, 1.0])  # Blue color for nuclei\n",
    "        \n",
    "    all_meshes = mr.tissue_meshes_myo + mr.cells_meshes_myo + mr.nuclei_meshes_myo + mr.tissue_meshes_spl + mr.cells_meshes_spl + mr.nuclei_meshes_spl\n",
    "\n",
    "    # Compute normals for shading\n",
    "    for mesh in all_meshes:\n",
    "        mesh.compute_vertex_normals()\n",
    "        \n",
    "    o3d.visualization.draw_geometries(all_meshes)"
   ],
   "id": "897985a20cd068c",
   "outputs": [],
   "execution_count": 3
  },
  {
   "metadata": {
    "ExecuteTime": {
     "end_time": "2024-10-29T11:25:39.389537Z",
     "start_time": "2024-10-29T11:24:52.285345Z"
    }
   },
   "cell_type": "code",
   "source": "mr = MeshRegistration(group='Gr4')",
   "id": "8fb19a93ecf0bb7a",
   "outputs": [],
   "execution_count": 4
  },
  {
   "metadata": {},
   "cell_type": "code",
   "outputs": [],
   "execution_count": null,
   "source": "",
   "id": "8b6e53e1c4c765ea"
  },
  {
   "metadata": {
    "ExecuteTime": {
     "end_time": "2024-10-29T11:55:33.165951Z",
     "start_time": "2024-10-29T11:55:30.913907Z"
    }
   },
   "cell_type": "code",
   "source": [
    "idx = 0\n",
    "\n",
    "t_m = mr.tissue_meshes_myo[idx] \n",
    "t_m.paint_uniform_color([1.0, 0.0, 0.0])\n",
    "t_m.compute_vertex_normals()\n",
    "\n",
    "t_s = mr.tissue_meshes_spl[idx]\n",
    "t_s.paint_uniform_color([0.0, 1.0, 0.0])\n",
    "t_s.compute_vertex_normals()\n",
    "\n",
    "l_m = mr.landmarks[idx]['myo_myo'] \n",
    "l_s = mr.landmarks[idx]['spl_spl']\n",
    "\n",
    "# create empty mesh\n",
    "l = o3d.geometry.TriangleMesh()\n",
    "\n",
    "for name, point in list(l_m.items()) + list(l_s.items()):\n",
    "    p = o3d.geometry.TriangleMesh.create_sphere(radius=7)\n",
    "    p.paint_uniform_color([0.0, 0.0, 1.0])\n",
    "    p.translate(point)\n",
    "    l += p\n",
    "    \n",
    "o3d.visualization.draw_geometries([t_m, t_s, l])"
   ],
   "id": "310069c513e23f46",
   "outputs": [],
   "execution_count": 22
  },
  {
   "metadata": {},
   "cell_type": "code",
   "outputs": [],
   "execution_count": null,
   "source": "",
   "id": "2f53437a73198eae"
  },
  {
   "metadata": {
    "ExecuteTime": {
     "end_time": "2024-10-29T16:07:39.649693Z",
     "start_time": "2024-10-29T16:07:22.209375Z"
    }
   },
   "cell_type": "code",
   "source": [
    "gr = 'Gr4'\n",
    "specimens = v.specimens[gr]\n",
    "\n",
    "spec_idx = 0\n",
    "s = specimens[spec_idx]\n",
    "\n",
    "myo_path = v.data_path + f'{gr}/3DShape/Tissue/myocardium/2019{s}Shape.ply'\n",
    "spl_path = v.data_path + f'{gr}/3DShape/Tissue/splanchnic/2019{s}Shape.ply'\n",
    "\n",
    "myo_cells_path = v.data_path + f'{gr}/3DShape/Membrane/myocardium/2019{s}_myocardium.ply'\n",
    "spl_cells_path = v.data_path + f'{gr}/3DShape/Membrane/splanchnic/2019{s}_splanchnic.ply'\n",
    "\n",
    "myo_mesh = o3d.io.read_triangle_mesh(myo_path)\n",
    "spl_mesh = o3d.io.read_triangle_mesh(spl_path)\n",
    "\n",
    "myo_cells_mesh = o3d.io.read_triangle_mesh(myo_cells_path)\n",
    "spl_cells_mesh = o3d.io.read_triangle_mesh(spl_cells_path)\n",
    "\n",
    "myo_mesh.paint_uniform_color([1.0, 0.0, 0.0])\n",
    "spl_mesh.paint_uniform_color([0.0, 1.0, 0.0])\n",
    "\n",
    "myo_cells_mesh.paint_uniform_color([1.0, 0.0, 0.0])\n",
    "spl_cells_mesh.paint_uniform_color([0.0, 1.0, 0.0])\n",
    "\n",
    "myo_mesh.compute_vertex_normals()\n",
    "spl_mesh.compute_vertex_normals()\n",
    "\n",
    "myo_cells_mesh.compute_vertex_normals()\n",
    "spl_cells_mesh.compute_vertex_normals()\n",
    "\n",
    "land_path = v.data_path + f'Landmarks/2019{s}_key_points.json'\n",
    "with open(land_path, 'r') as f:\n",
    "    key_points = json.load(f)\n",
    "    myo_landmarks = {\n",
    "        name: key_points[name] \n",
    "        for name in v.myo_myo_landmark_names \n",
    "        if name in key_points\n",
    "    }\n",
    "    spl_landmarks = {\n",
    "        name: key_points[name] \n",
    "        for name in v.spl_spl_landmark_names \n",
    "        if name in key_points\n",
    "    }\n",
    "    common_landmarks = {\n",
    "        name: key_points[name]\n",
    "        for name in v.myo_spl_landmark_names\n",
    "        if name in key_points\n",
    "    }\n",
    "    \n",
    "l_m = o3d.geometry.TriangleMesh()\n",
    "\n",
    "for name, point in myo_landmarks.items():\n",
    "    p = o3d.geometry.TriangleMesh.create_sphere(radius=7)\n",
    "    p.paint_uniform_color([1.0, 0.0, 1.0])\n",
    "    p.translate(point)\n",
    "    l_m += p\n",
    "    \n",
    "l_s = o3d.geometry.TriangleMesh()\n",
    "\n",
    "for name, point in spl_landmarks.items():\n",
    "    p = o3d.geometry.TriangleMesh.create_sphere(radius=7)\n",
    "    p.paint_uniform_color([1.0, 1.0, 0.0])\n",
    "    p.translate(point)\n",
    "    l_s += p\n",
    "    \n",
    "o3d.visualization.draw_geometries([\n",
    "    myo_mesh, spl_mesh, \n",
    "    # myo_cells_mesh, spl_cells_mesh,\n",
    "    l_m, l_s\n",
    "])\n",
    "\n",
    "print(gr, s)"
   ],
   "id": "ee50796de84eeb2",
   "outputs": [
    {
     "name": "stdout",
     "output_type": "stream",
     "text": [
      "Gr4 0521_E1\n"
     ]
    }
   ],
   "execution_count": 368
  },
  {
   "metadata": {
    "ExecuteTime": {
     "end_time": "2024-10-29T15:58:11.285250Z",
     "start_time": "2024-10-29T15:58:01.248519Z"
    }
   },
   "cell_type": "code",
   "source": [
    "import math\n",
    "\n",
    "center = myo_mesh.get_center()\n",
    "\n",
    "mirror = np.array(\n",
    "    [[1, 0, 0, 0],\n",
    "     [0, -1, 0, 0], # 60 \n",
    "     [0, 0, 1, 0],\n",
    "     [0, 0, 0, 1]]\n",
    ")\n",
    "\n",
    "rotation_angle = math.radians(20)  # Example: 15 degrees\n",
    "\n",
    "# Create the rotation matrix for rotating around the Z-axis\n",
    "# mirror = np.array([\n",
    "#     [math.cos(rotation_angle), -math.sin(rotation_angle), 0, 0],\n",
    "#     [math.sin(rotation_angle),  math.cos(rotation_angle), 0, 0],\n",
    "#     [0, 0, 1, 0],\n",
    "#     [0, 0, 0, 1]\n",
    "# ])\n",
    "\n",
    "# # Create the rotation matrix for rotating around the Y-axis\n",
    "# mirror = np.array([\n",
    "#     [math.cos(rotation_angle), 0, math.sin(rotation_angle), 0],\n",
    "#     [0, 1, 0, 0],\n",
    "#     [-math.sin(rotation_angle), 0, math.cos(rotation_angle), 0],\n",
    "#     [0, 0, 0, 1]\n",
    "# ])\n",
    "\n",
    "# Create the rotation matrix for rotating around the X-axis\n",
    "# mirror = np.array([\n",
    "#     [1, 0, 0, 0],\n",
    "#     [0, math.cos(rotation_angle), -math.sin(rotation_angle), 0],\n",
    "#     [0, math.sin(rotation_angle), math.cos(rotation_angle), 0],\n",
    "#     [0, 0, 0, 1]\n",
    "# ])\n",
    "\n",
    "trans2origin = np.eye(4)\n",
    "trans2origin[:3, 3] = -center\n",
    "\n",
    "back2center = np.eye(4)\n",
    "back2center[:3, 3] = center\n",
    "\n",
    "trans = back2center @ mirror @ trans2origin\n",
    "\n",
    "myo_mesh.transform(trans)\n",
    "spl_mesh.transform(trans)\n",
    "\n",
    "o3d.visualization.draw_geometries([\n",
    "    myo_mesh, spl_mesh, \n",
    "    # myo_cells_mesh, spl_cells_mesh,\n",
    "    l_m, l_s\n",
    "])"
   ],
   "id": "b6776f5108eb207b",
   "outputs": [],
   "execution_count": 363
  },
  {
   "metadata": {
    "ExecuteTime": {
     "end_time": "2024-10-29T15:58:15.625623Z",
     "start_time": "2024-10-29T15:58:13.121854Z"
    }
   },
   "cell_type": "code",
   "source": [
    "o3d.visualization.draw_geometries([\n",
    "    myo_mesh, spl_mesh, \n",
    "    myo_cells_mesh, spl_cells_mesh,\n",
    "    l_m, l_s\n",
    "])"
   ],
   "id": "6fe460902b7ebdae",
   "outputs": [],
   "execution_count": 364
  },
  {
   "metadata": {},
   "cell_type": "code",
   "outputs": [],
   "execution_count": null,
   "source": "",
   "id": "4bddcc9e4518b633"
  },
  {
   "metadata": {
    "ExecuteTime": {
     "end_time": "2024-10-29T13:58:35.319064Z",
     "start_time": "2024-10-29T13:57:47.030539Z"
    }
   },
   "cell_type": "code",
   "source": [
    "# center = myo_cells_mesh.get_center()\n",
    "# \n",
    "# mirror = np.array(\n",
    "#     [[1, 0, 0, 10],\n",
    "#      [0, 1, 0, 0], # 60 \n",
    "#      [0, 0, 1, 0],\n",
    "#      [0, 0, 0, 1]]\n",
    "# )\n",
    "# \n",
    "# trans2origin = np.eye(4)\n",
    "# trans2origin[:3, 3] = -center\n",
    "# \n",
    "# back2center = np.eye(4)\n",
    "# back2center[:3, 3] = center\n",
    "# \n",
    "# trans = back2center @ mirror @ trans2origin\n",
    "# \n",
    "# myo_cells_mesh.transform(trans)\n",
    "# spl_cells_mesh.transform(trans)\n",
    "# \n",
    "# o3d.visualization.draw_geometries([\n",
    "#     myo_mesh, spl_mesh, \n",
    "#     myo_cells_mesh, spl_cells_mesh,\n",
    "#     l_m, l_s\n",
    "# ])"
   ],
   "id": "d9d1b583e82361cb",
   "outputs": [],
   "execution_count": 72
  },
  {
   "metadata": {},
   "cell_type": "code",
   "outputs": [],
   "execution_count": null,
   "source": "",
   "id": "aa5189662a0082ad"
  },
  {
   "metadata": {
    "ExecuteTime": {
     "end_time": "2024-10-29T15:58:17.549196Z",
     "start_time": "2024-10-29T15:58:17.330691Z"
    }
   },
   "cell_type": "code",
   "source": [
    "o3d.io.write_triangle_mesh(myo_path, myo_mesh)\n",
    "o3d.io.write_triangle_mesh(spl_path, spl_mesh)"
   ],
   "id": "49139599a4010580",
   "outputs": [
    {
     "data": {
      "text/plain": [
       "True"
      ]
     },
     "execution_count": 365,
     "metadata": {},
     "output_type": "execute_result"
    }
   ],
   "execution_count": 365
  },
  {
   "metadata": {},
   "cell_type": "code",
   "outputs": [],
   "execution_count": null,
   "source": "",
   "id": "d934e23f1f9d0aff"
  },
  {
   "metadata": {
    "ExecuteTime": {
     "end_time": "2024-10-29T13:58:47.853446Z",
     "start_time": "2024-10-29T13:58:46.295712Z"
    }
   },
   "cell_type": "code",
   "source": [
    "# o3d.io.write_triangle_mesh(myo_cells_path, myo_cells_mesh)\n",
    "# o3d.io.write_triangle_mesh(spl_cells_path, spl_cells_mesh)"
   ],
   "id": "ffdcb87928ceb659",
   "outputs": [
    {
     "data": {
      "text/plain": [
       "True"
      ]
     },
     "execution_count": 74,
     "metadata": {},
     "output_type": "execute_result"
    }
   ],
   "execution_count": 74
  },
  {
   "metadata": {},
   "cell_type": "code",
   "outputs": [],
   "execution_count": null,
   "source": "",
   "id": "b5925747fe3cc1e8"
  },
  {
   "metadata": {
    "ExecuteTime": {
     "end_time": "2024-10-29T10:49:39.357993Z",
     "start_time": "2024-10-29T10:49:39.310318Z"
    }
   },
   "cell_type": "code",
   "source": [
    "for i in range(len(mr.specimens)):\n",
    "    for tissue in ['myocardium', 'splanchnic']:\n",
    "        mr.normalize_mesh_scale(i, tissue=tissue)\n",
    "        mr.center_mesh_at_origin(i, tissue=tissue)\n",
    "    "
   ],
   "id": "838573ba4173a2d1",
   "outputs": [],
   "execution_count": 22
  },
  {
   "metadata": {
    "ExecuteTime": {
     "end_time": "2024-10-29T10:50:21.913671Z",
     "start_time": "2024-10-29T10:49:47.671204Z"
    }
   },
   "cell_type": "code",
   "source": "show(mr)",
   "id": "a3b6a7dff67bc9ec",
   "outputs": [],
   "execution_count": 24
  },
  {
   "metadata": {},
   "cell_type": "code",
   "outputs": [],
   "execution_count": null,
   "source": "",
   "id": "7944646f81cd67d5"
  }
 ],
 "metadata": {
  "kernelspec": {
   "display_name": "Python 3",
   "language": "python",
   "name": "python3"
  },
  "language_info": {
   "codemirror_mode": {
    "name": "ipython",
    "version": 2
   },
   "file_extension": ".py",
   "mimetype": "text/x-python",
   "name": "python",
   "nbconvert_exporter": "python",
   "pygments_lexer": "ipython2",
   "version": "2.7.6"
  }
 },
 "nbformat": 4,
 "nbformat_minor": 5
}
