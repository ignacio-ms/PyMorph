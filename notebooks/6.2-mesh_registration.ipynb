{
 "cells": [
  {
   "metadata": {
    "ExecuteTime": {
     "end_time": "2024-10-28T17:15:33.739757Z",
     "start_time": "2024-10-28T17:15:30.625472Z"
    }
   },
   "cell_type": "code",
   "source": [
    "import numpy as np\n",
    "import open3d as o3d\n",
    "import trimesh\n",
    "import pyrender\n",
    "\n",
    "from auxiliary import values as v"
   ],
   "id": "baed466359fe53e3",
   "outputs": [
    {
     "name": "stdout",
     "output_type": "stream",
     "text": [
      "Jupyter environment detected. Enabling Open3D WebVisualizer.\n",
      "[Open3D INFO] WebRTC GUI backend enabled.\n",
      "[Open3D INFO] WebRTCWindowSystem: HTTP handshake server disabled.\n"
     ]
    }
   ],
   "execution_count": 2
  },
  {
   "metadata": {
    "ExecuteTime": {
     "end_time": "2024-10-28T17:15:33.744328Z",
     "start_time": "2024-10-28T17:15:33.741684Z"
    }
   },
   "cell_type": "code",
   "source": [
    "group = 'Gr4'\n",
    "specimens = v.specimens[group]"
   ],
   "id": "initial_id",
   "outputs": [],
   "execution_count": 3
  },
  {
   "metadata": {},
   "cell_type": "markdown",
   "source": "Without Landmarks",
   "id": "234e2c025a8b8352"
  },
  {
   "metadata": {
    "ExecuteTime": {
     "end_time": "2024-10-28T17:47:29.080505Z",
     "start_time": "2024-10-28T17:45:49.766590Z"
    }
   },
   "cell_type": "code",
   "source": [
    "source_path = v.data_path + f'{group}/3DShape/Tissue/myocardium/2019{specimens[0]}Shape.ply'\n",
    "target_path = v.data_path + f'{group}/3DShape/Tissue/myocardium/2019{specimens[1]}Shape.ply'\n",
    "\n",
    "# source_path = v.data_path + f'Gr1/3DShape/Tissue/myocardium/20190208_E2Shape.ply'\n",
    "# target_path = v.data_path + f'Gr1/3DShape/Membrane/myocardium/20190208_E2_myocardium.ply'\n",
    "\n",
    "source_mesh = o3d.io.read_triangle_mesh(source_path)\n",
    "target_mesh = o3d.io.read_triangle_mesh(target_path)\n",
    "\n",
    "source_pcd = source_mesh.sample_points_uniformly(number_of_points=10000)\n",
    "target_pcd = target_mesh.sample_points_uniformly(number_of_points=10000)\n",
    "\n",
    "source_pcd.scale(1 / np.max(source_pcd.get_max_bound() - source_pcd.get_min_bound()), center=source_pcd.get_center())\n",
    "target_pcd.scale(1 / np.max(target_pcd.get_max_bound() - target_pcd.get_min_bound()), center=target_pcd.get_center())\n",
    "\n",
    "# Normals estimation\n",
    "radius_normal = 0.2\n",
    "source_pcd.estimate_normals(o3d.geometry.KDTreeSearchParamHybrid(radius=radius_normal, max_nn=30))\n",
    "target_pcd.estimate_normals(o3d.geometry.KDTreeSearchParamHybrid(radius=radius_normal, max_nn=30))\n",
    "\n",
    "# FPFH features computation\n",
    "radius_feature = 0.5\n",
    "fpfh_source = o3d.pipelines.registration.compute_fpfh_feature(source_pcd, o3d.geometry.KDTreeSearchParamHybrid(radius=radius_feature, max_nn=100))\n",
    "fpfh_target = o3d.pipelines.registration.compute_fpfh_feature(target_pcd, o3d.geometry.KDTreeSearchParamHybrid(radius=radius_feature, max_nn=100))\n",
    "\n",
    "# RANSAC registration\n",
    "best_fitness = -np.inf\n",
    "best_transformation = np.eye(4)\n",
    "num_trials = 20\n",
    "ransac_n = 4\n",
    "threshold = 0.1\n",
    "\n",
    "for i in range(num_trials):\n",
    "    ransac_result = o3d.pipelines.registration.registration_ransac_based_on_feature_matching(\n",
    "        target_pcd, source_pcd, fpfh_target, fpfh_source, mutual_filter=False, max_correspondence_distance=threshold,\n",
    "        estimation_method=o3d.pipelines.registration.TransformationEstimationPointToPoint(False),\n",
    "        ransac_n=ransac_n,\n",
    "        checkers=[o3d.pipelines.registration.CorrespondenceCheckerBasedOnEdgeLength(0.9),\n",
    "                  o3d.pipelines.registration.CorrespondenceCheckerBasedOnDistance(threshold)],\n",
    "        criteria=o3d.pipelines.registration.RANSACConvergenceCriteria(4000000, 500)\n",
    "    )\n",
    "\n",
    "    if ransac_result.fitness > best_fitness:\n",
    "        best_fitness = ransac_result.fitness\n",
    "        best_transformation = ransac_result.transformation\n",
    "        \n",
    "print(best_transformation)\n",
    "print(best_fitness)\n",
    "\n",
    "target_pcd.transform(best_transformation)\n",
    "target_mesh.transform(best_transformation)\n",
    "\n",
    "o3d.visualization.draw_geometries([source_pcd, target_pcd])\n",
    "o3d.visualization.draw_geometries([source_mesh, target_mesh])"
   ],
   "id": "b3c4b3a0f007b0ad",
   "outputs": [
    {
     "name": "stdout",
     "output_type": "stream",
     "text": [
      "[[ 9.90157908e-01 -1.35502221e-01 -3.50209206e-02 -1.29102790e+02]\n",
      " [ 1.27461516e-01  9.76425398e-01 -1.74203916e-01 -7.74526874e+01]\n",
      " [ 5.78003339e-02  1.68025566e-01  9.84086648e-01 -1.15501098e+02]\n",
      " [ 0.00000000e+00  0.00000000e+00  0.00000000e+00  1.00000000e+00]]\n",
      "0.9274\n"
     ]
    }
   ],
   "execution_count": 24
  },
  {
   "metadata": {
    "ExecuteTime": {
     "end_time": "2024-10-28T17:23:13.638694Z",
     "start_time": "2024-10-28T17:23:09.381514Z"
    }
   },
   "cell_type": "code",
   "source": "o3d.visualization.draw_geometries([source_mesh, target_mesh])",
   "id": "5a2d39d1512dcf9a",
   "outputs": [],
   "execution_count": 15
  },
  {
   "metadata": {},
   "cell_type": "code",
   "outputs": [],
   "execution_count": null,
   "source": "",
   "id": "3d7e4d95e59aa0f0"
  },
  {
   "metadata": {},
   "cell_type": "code",
   "outputs": [],
   "execution_count": null,
   "source": "",
   "id": "ea4c5ba439b69051"
  },
  {
   "metadata": {
    "ExecuteTime": {
     "end_time": "2024-10-28T16:36:14.074776Z",
     "start_time": "2024-10-28T16:36:14.071846Z"
    }
   },
   "cell_type": "code",
   "source": "",
   "id": "d8821a2c6aa47420",
   "outputs": [],
   "execution_count": 103
  },
  {
   "metadata": {},
   "cell_type": "markdown",
   "source": "With Landmarks",
   "id": "dc1e77f410e9dfdb"
  },
  {
   "metadata": {},
   "cell_type": "code",
   "outputs": [],
   "execution_count": null,
   "source": "",
   "id": "b4b80f157e596375"
  }
 ],
 "metadata": {
  "kernelspec": {
   "display_name": "Python 3",
   "language": "python",
   "name": "python3"
  },
  "language_info": {
   "codemirror_mode": {
    "name": "ipython",
    "version": 2
   },
   "file_extension": ".py",
   "mimetype": "text/x-python",
   "name": "python",
   "nbconvert_exporter": "python",
   "pygments_lexer": "ipython2",
   "version": "2.7.6"
  }
 },
 "nbformat": 4,
 "nbformat_minor": 5
}
