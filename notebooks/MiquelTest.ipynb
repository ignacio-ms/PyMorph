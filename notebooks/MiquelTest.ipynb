{
 "cells": [
  {
   "cell_type": "code",
   "id": "initial_id",
   "metadata": {
    "collapsed": true,
    "ExecuteTime": {
     "end_time": "2025-04-30T09:00:00.976670Z",
     "start_time": "2025-04-30T09:00:00.487786Z"
    }
   },
   "source": [
    "import numpy as np\n",
    "\n",
    "import os\n",
    "\n",
    "from scipy import ndimage\n",
    "import mcubes\n",
    "import trimesh\n",
    "from scipy.ndimage import zoom\n",
    "from plyfile import PlyData, PlyElement\n",
    "\n",
    "\n",
    "import warnings\n",
    "warnings.filterwarnings(\"ignore\", category=DeprecationWarning)"
   ],
   "outputs": [],
   "execution_count": 1
  },
  {
   "metadata": {
    "ExecuteTime": {
     "end_time": "2025-04-30T09:00:52.061261Z",
     "start_time": "2025-04-30T09:00:52.010972Z"
    }
   },
   "cell_type": "code",
   "source": [
    "path = 'run/user/1003/gvfs/smb-share:server=tierra.cnic.es,share=sc/LAB_MT/RESULTADOS/U_Bioinformatica/Morena/MeisdKO_WT_mTmG_Columnarity/results/mesh/cells/CE1.ply'\n",
    "\n",
    "mesh = trimesh.load(path)"
   ],
   "id": "5f4641a892767b9d",
   "outputs": [
    {
     "ename": "ValueError",
     "evalue": "string is not a file: run/user/1003/gvfs/smb-share:server=tierra.cnic.es,share=sc/LAB_MT/RESULTADOS/U_Bioinformatica/Morena/MeisdKO_WT_mTmG_Columnarity/results/mesh/cells/CE1.ply",
     "output_type": "error",
     "traceback": [
      "\u001B[0;31m---------------------------------------------------------------------------\u001B[0m",
      "\u001B[0;31mValueError\u001B[0m                                Traceback (most recent call last)",
      "Cell \u001B[0;32mIn[5], line 3\u001B[0m\n\u001B[1;32m      1\u001B[0m path \u001B[38;5;241m=\u001B[39m \u001B[38;5;124m'\u001B[39m\u001B[38;5;124mrun/user/1003/gvfs/smb-share:server=tierra.cnic.es,share=sc/LAB_MT/RESULTADOS/U_Bioinformatica/Morena/MeisdKO_WT_mTmG_Columnarity/results/mesh/cells/CE1.ply\u001B[39m\u001B[38;5;124m'\u001B[39m\n\u001B[0;32m----> 3\u001B[0m mesh \u001B[38;5;241m=\u001B[39m \u001B[43mtrimesh\u001B[49m\u001B[38;5;241;43m.\u001B[39;49m\u001B[43mload\u001B[49m\u001B[43m(\u001B[49m\u001B[43mpath\u001B[49m\u001B[43m)\u001B[49m\n",
      "File \u001B[0;32m~/mambaforge/envs/py310ml/lib/python3.10/site-packages/trimesh/exchange/load.py:114\u001B[0m, in \u001B[0;36mload\u001B[0;34m(file_obj, file_type, resolver, force, **kwargs)\u001B[0m\n\u001B[1;32m    105\u001B[0m     \u001B[38;5;28;01mreturn\u001B[39;00m file_obj\n\u001B[1;32m    107\u001B[0m \u001B[38;5;66;03m# parse the file arguments into clean loadable form\u001B[39;00m\n\u001B[1;32m    108\u001B[0m (\n\u001B[1;32m    109\u001B[0m     file_obj,  \u001B[38;5;66;03m# file- like object\u001B[39;00m\n\u001B[1;32m    110\u001B[0m     file_type,  \u001B[38;5;66;03m# str, what kind of file\u001B[39;00m\n\u001B[1;32m    111\u001B[0m     metadata,  \u001B[38;5;66;03m# dict, any metadata from file name\u001B[39;00m\n\u001B[1;32m    112\u001B[0m     opened,  \u001B[38;5;66;03m# bool, did we open the file ourselves\u001B[39;00m\n\u001B[1;32m    113\u001B[0m     resolver,  \u001B[38;5;66;03m# object to load referenced resources\u001B[39;00m\n\u001B[0;32m--> 114\u001B[0m ) \u001B[38;5;241m=\u001B[39m \u001B[43m_parse_file_args\u001B[49m\u001B[43m(\u001B[49m\u001B[43mfile_obj\u001B[49m\u001B[38;5;241;43m=\u001B[39;49m\u001B[43mfile_obj\u001B[49m\u001B[43m,\u001B[49m\u001B[43m \u001B[49m\u001B[43mfile_type\u001B[49m\u001B[38;5;241;43m=\u001B[39;49m\u001B[43mfile_type\u001B[49m\u001B[43m,\u001B[49m\u001B[43m \u001B[49m\u001B[43mresolver\u001B[49m\u001B[38;5;241;43m=\u001B[39;49m\u001B[43mresolver\u001B[49m\u001B[43m)\u001B[49m\n\u001B[1;32m    116\u001B[0m \u001B[38;5;28;01mtry\u001B[39;00m:\n\u001B[1;32m    117\u001B[0m     \u001B[38;5;28;01mif\u001B[39;00m \u001B[38;5;28misinstance\u001B[39m(file_obj, \u001B[38;5;28mdict\u001B[39m):\n\u001B[1;32m    118\u001B[0m         \u001B[38;5;66;03m# if we've been passed a dict treat it as kwargs\u001B[39;00m\n",
      "File \u001B[0;32m~/mambaforge/envs/py310ml/lib/python3.10/site-packages/trimesh/exchange/load.py:612\u001B[0m, in \u001B[0;36m_parse_file_args\u001B[0;34m(file_obj, file_type, resolver, **kwargs)\u001B[0m\n\u001B[1;32m    610\u001B[0m             \u001B[38;5;28;01mraise\u001B[39;00m \u001B[38;5;167;01mValueError\u001B[39;00m(\u001B[38;5;124mf\u001B[39m\u001B[38;5;124m\"\u001B[39m\u001B[38;5;124muse load_remote to load URL: \u001B[39m\u001B[38;5;132;01m{\u001B[39;00mfile_obj\u001B[38;5;132;01m}\u001B[39;00m\u001B[38;5;124m\"\u001B[39m)\n\u001B[1;32m    611\u001B[0m         \u001B[38;5;28;01melif\u001B[39;00m file_type \u001B[38;5;129;01mis\u001B[39;00m \u001B[38;5;28;01mNone\u001B[39;00m:\n\u001B[0;32m--> 612\u001B[0m             \u001B[38;5;28;01mraise\u001B[39;00m \u001B[38;5;167;01mValueError\u001B[39;00m(\u001B[38;5;124mf\u001B[39m\u001B[38;5;124m\"\u001B[39m\u001B[38;5;124mstring is not a file: \u001B[39m\u001B[38;5;132;01m{\u001B[39;00mfile_obj\u001B[38;5;132;01m}\u001B[39;00m\u001B[38;5;124m\"\u001B[39m)\n\u001B[1;32m    614\u001B[0m \u001B[38;5;28;01mif\u001B[39;00m file_type \u001B[38;5;129;01mis\u001B[39;00m \u001B[38;5;28;01mNone\u001B[39;00m:\n\u001B[1;32m    615\u001B[0m     file_type \u001B[38;5;241m=\u001B[39m file_obj\u001B[38;5;241m.\u001B[39m\u001B[38;5;18m__class__\u001B[39m\u001B[38;5;241m.\u001B[39m\u001B[38;5;18m__name__\u001B[39m\n",
      "\u001B[0;31mValueError\u001B[0m: string is not a file: run/user/1003/gvfs/smb-share:server=tierra.cnic.es,share=sc/LAB_MT/RESULTADOS/U_Bioinformatica/Morena/MeisdKO_WT_mTmG_Columnarity/results/mesh/cells/CE1.ply"
     ]
    }
   ],
   "execution_count": 5
  },
  {
   "metadata": {},
   "cell_type": "code",
   "outputs": [],
   "execution_count": null,
   "source": "",
   "id": "6c7a06e9edc7e41e"
  },
  {
   "cell_type": "code",
   "execution_count": 51,
   "id": "ddbf1391d3d6fc56",
   "metadata": {
    "ExecuteTime": {
     "end_time": "2024-10-30T17:23:32.250488Z",
     "start_time": "2024-10-30T17:23:32.208458Z"
    }
   },
   "outputs": [],
   "source": [
    "def median_3d_array(img, disk_size=3):\n",
    "    \"\"\"\n",
    "    Apply a median filter to a 3D image. (Stack by stack)\n",
    "    :param img: Input 3D image\n",
    "    :param disk_size: Size of the disk structuring element\n",
    "    :return: Image with median filter applied\n",
    "    \"\"\"\n",
    "    from skimage import morphology\n",
    "    \n",
    "    \n",
    "    if len(img.shape) == 4:\n",
    "        img = img[:, :, :, 0]\n",
    "    # return ndimage.median_filter(img, size=disk_size)\n",
    "    return morphology.binary_closing(img, morphology.ball(disk_size))\n",
    "    \n",
    "\n",
    "def post_process(mesh):\n",
    "    \"\"\"\n",
    "    Post-process a mesh to ensure it is watertight.\n",
    "    \"\"\"\n",
    "    # if not isinstance(mesh, trimesh.Trimesh):\n",
    "    #     mesh = trimesh.Trimesh(vertices=mesh['vertices'], faces=mesh['faces'])\n",
    "    \n",
    "    mesh.remove_degenerate_faces()\n",
    "    mesh.remove_duplicate_faces()\n",
    "    mesh.remove_infinite_values()\n",
    "    mesh.remove_unreferenced_vertices()\n",
    "    \n",
    "    max_iters = 10\n",
    "    is_watertight = mesh.is_watertight\n",
    "    while not is_watertight and max_iters > 0:\n",
    "        mesh.fill_holes()\n",
    "        \n",
    "        is_watertight = mesh.is_watertight\n",
    "        max_iters -= 1\n",
    "    return mesh\n",
    "\n",
    "\n",
    "def marching_cubes(img, metadata, n_faces=10000):\n",
    "    \"\"\"\n",
    "    Generate a mesh from a binary image using the marching cubes algorithm.\n",
    "    :param img: Input binary 3D image\n",
    "    :param metadata: Metadata containing the resolution of the image\n",
    "    :param n_faces: Number of faces of the mesh\n",
    "    :return: Dictionary containing the vertices, faces and normals of the mesh\n",
    "    \"\"\"\n",
    "    add = 10\n",
    "    img = median_3d_array(img, disk_size=5)\n",
    "    aux = np.zeros(np.array(img.shape) + add, dtype=np.uint8)\n",
    "    aux[\n",
    "        add // 2: -add // 2,\n",
    "        add // 2: -add // 2,\n",
    "        add // 2: -add // 2\n",
    "    ] = img\n",
    "    \n",
    "    vert, trian = mcubes.marching_cubes(mcubes.smooth(aux), 0)\n",
    "    assert len(vert) > 0 and len(trian) > 0, 'No mesh was generated'\n",
    "    \n",
    "    \n",
    "    vert -= vert.mean(axis=0)\n",
    "    vert *= np.array([metadata['x_res'], metadata['y_res'], metadata['z_res']])\n",
    "    \n",
    "    mesh = trimesh.Trimesh(vert, trian, process=False)\n",
    "    \n",
    "    mesh = mesh.simplify_quadratic_decimation(n_faces)\n",
    "    trimesh.smoothing.filter_laplacian(\n",
    "        mesh, lamb=0.6, iterations=15,\n",
    "        volume_constraint=False\n",
    "    )\n",
    "    \n",
    "    mesh = post_process(mesh)\n",
    "    \n",
    "    normals = mesh.vertex_normals\n",
    "    return {\n",
    "        'vertices': mesh.vertices,\n",
    "        'faces': mesh.faces,\n",
    "        'normals': normals\n",
    "    }\n",
    "    \n",
    "    \n",
    "def run(img_path, path_out, metadata, n_faces=10000):\n",
    "    img = imaging.read_image(img_path, axes='XYZ', verbose=1)\n",
    "    \n",
    "    # Convert binary \n",
    "    img = img > 0\n",
    "    \n",
    "    mesh_data = marching_cubes(img, metadata, n_faces)\n",
    "    assert mesh_data is not None, 'No mesh was generated'\n",
    "    \n",
    "    vertices = mesh_data['vertices']\n",
    "    faces = mesh_data['faces']\n",
    "    normals = mesh_data['normals']\n",
    "    \n",
    "    vertex_dtype = [\n",
    "        ('x', 'f4'), ('y', 'f4'), ('z', 'f4'),\n",
    "        ('nx', 'f4'), ('ny', 'f4'), ('nz', 'f4')\n",
    "    ]\n",
    "    vertex_data = np.empty(len(vertices), dtype=vertex_dtype)\n",
    "    vertex_data['x'] = vertices[:, 0]\n",
    "    vertex_data['y'] = vertices[:, 1]\n",
    "    vertex_data['z'] = vertices[:, 2]\n",
    "    vertex_data['nx'] = normals[:, 0]\n",
    "    vertex_data['ny'] = normals[:, 1]\n",
    "    vertex_data['nz'] = normals[:, 2]\n",
    "    \n",
    "    face_dtype = [('vertex_indices', 'i4', (3,))]\n",
    "    face_data = np.empty(len(faces), dtype=face_dtype)\n",
    "    face_data['vertex_indices'] = faces\n",
    "    \n",
    "    # Create PlyElement objects\n",
    "    vertex_element = PlyElement.describe(vertex_data, 'vertex')\n",
    "    face_element = PlyElement.describe(face_data, 'face')\n",
    "    \n",
    "    # Write the PLY file using plyfile\n",
    "    mesh = PlyData([vertex_element, face_element], text=True)\n",
    "    \n",
    "    mesh.write(path_out)\n",
    "    print('Mesh saved to:', path_out)"
   ]
  },
  {
   "cell_type": "code",
   "execution_count": 52,
   "id": "cea66153951aa096",
   "metadata": {
    "ExecuteTime": {
     "end_time": "2024-10-30T17:27:50.324241Z",
     "start_time": "2024-10-30T17:23:32.743993Z"
    }
   },
   "outputs": [
    {
     "name": "stdout",
     "output_type": "stream",
     "text": [
      "\u001B[94mReading TIFF\u001B[0m: /run/user/1003/gvfs/smb-share:server=tierra.cnic.es,share=sc/LAB_MT/LAB/Ignacio/auxiliary/Miquel_Test/E47_SHF_segmentation.tif\n",
      "Mesh saved to: /run/user/1003/gvfs/smb-share:server=tierra.cnic.es,share=sc/LAB_MT/LAB/Ignacio/auxiliary/Miquel_Test/E47_SHF_mesh.ply\n"
     ]
    }
   ],
   "source": [
    "img_path = \"S:\\LAB_MT\\LAB\\Oscar\\PROJECT_transition_zone\\Paper\\Data\\FISH_WT\\sequence_selected_15embryosE7.8-E8.1\\binary_segmentation\\\"\n",
    "path_out = img_path.replace('_segmentation.tif', '_mesh.ply')\n",
    "\n",
    "metadata = {\n",
    "    'x_res' : 0.56, \n",
    "    'y_res' : 0.56, \n",
    "    'z_res' : 3\n",
    "}\n",
    "\n",
    "run(img_path, path_out, metadata)"
   ]
  },
  {
   "cell_type": "code",
   "execution_count": null,
   "id": "a9b788658316036b",
   "metadata": {},
   "outputs": [],
   "source": []
  }
 ],
 "metadata": {
  "kernelspec": {
   "display_name": "Python 3",
   "language": "python",
   "name": "python3"
  },
  "language_info": {
   "codemirror_mode": {
    "name": "ipython",
    "version": 2
   },
   "file_extension": ".py",
   "mimetype": "text/x-python",
   "name": "python",
   "nbconvert_exporter": "python",
   "pygments_lexer": "ipython2",
   "version": "2.7.6"
  }
 },
 "nbformat": 4,
 "nbformat_minor": 5
}
