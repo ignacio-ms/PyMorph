{
 "cells": [
  {
   "cell_type": "code",
   "id": "initial_id",
   "metadata": {
    "collapsed": true,
    "ExecuteTime": {
     "end_time": "2024-10-30T16:08:04.717670Z",
     "start_time": "2024-10-30T16:08:03.492514Z"
    }
   },
   "source": [
    "import ast\n",
    "import numpy as np\n",
    "import pandas as pd\n",
    "\n",
    "import os\n",
    "import shutil\n",
    "import tarfile\n",
    "\n",
    "import cv2\n",
    "import skimage\n",
    "import scipy.ndimage\n",
    "import napari\n",
    "\n",
    "from scipy import ndimage\n",
    "import mcubes\n",
    "import trimesh\n",
    "from scipy.ndimage import zoom\n",
    "from plyfile import PlyData, PlyElement \n",
    "\n",
    "from auxiliary import values as v\n",
    "from auxiliary.data.dataset_ht import HtDataset\n",
    "from auxiliary.data import imaging\n",
    "\n",
    "import warnings\n",
    "warnings.filterwarnings(\"ignore\", category=DeprecationWarning)"
   ],
   "outputs": [],
   "execution_count": 1
  },
  {
   "metadata": {
    "ExecuteTime": {
     "end_time": "2024-10-30T16:08:08.933817Z",
     "start_time": "2024-10-30T16:08:04.719839Z"
    }
   },
   "cell_type": "code",
   "source": [
    "img_path = v.data_path + 'auxiliary/Jyothy_Test/em17.5.tif'\n",
    "img = skimage.io.imread(img_path)\n",
    "\n",
    "viewer, img_layer = napari.imshow(img, name='Image_r')"
   ],
   "id": "9d3346e2ae7de6f9",
   "outputs": [],
   "execution_count": 2
  },
  {
   "metadata": {
    "ExecuteTime": {
     "end_time": "2024-10-30T16:25:05.802493Z",
     "start_time": "2024-10-30T16:25:05.027218Z"
    }
   },
   "cell_type": "code",
   "source": [
    "r, g, b = cv2.split(img)\n",
    "\n",
    "g = cv2.normalize(g, None, 0, 255, cv2.NORM_MINMAX).astype(np.uint8)\n",
    "g = cv2.bilateralFilter(g, 5, 75, 75)\n",
    "g = (g / 255.0).astype(np.float32)\n",
    "\n",
    "r = cv2.normalize(r, None, 0, 255, cv2.NORM_MINMAX).astype(np.uint8)\n",
    "r = cv2.bilateralFilter(r, 5, 75, 75)\n",
    "r = (r / 255.0).astype(np.float32)\n",
    "\n",
    "pre_g_layer = viewer.add_image(g, name='Preprocessed Image g')\n",
    "pre_b_layer = viewer.add_image(r, name='Preprocessed Image b')"
   ],
   "id": "e47bf47cf80d875e",
   "outputs": [],
   "execution_count": 8
  },
  {
   "metadata": {
    "ExecuteTime": {
     "end_time": "2024-10-30T16:08:09.556644Z",
     "start_time": "2024-10-30T16:08:09.553641Z"
    }
   },
   "cell_type": "code",
   "source": [
    "# cv2.imshow('image', img)\n",
    "# cv2.waitKey(0)\n",
    "# cv2.destroyAllWindows()\n",
    "\n"
   ],
   "id": "6e50b7038e468d18",
   "outputs": [],
   "execution_count": 4
  },
  {
   "metadata": {
    "ExecuteTime": {
     "end_time": "2024-10-30T16:08:09.560427Z",
     "start_time": "2024-10-30T16:08:09.558185Z"
    }
   },
   "cell_type": "code",
   "source": "",
   "id": "a00cf83ee868e70e",
   "outputs": [],
   "execution_count": 4
  },
  {
   "metadata": {
    "ExecuteTime": {
     "end_time": "2024-10-30T16:08:15.364882Z",
     "start_time": "2024-10-30T16:08:09.561822Z"
    }
   },
   "cell_type": "code",
   "source": [
    "from nuclei_segmentation import my_cellpose as cp\n",
    "\n",
    "\n",
    "model = cp.load_model(model_type='cyto3')"
   ],
   "id": "fb51ab9a69bee35a",
   "outputs": [
    {
     "name": "stdout",
     "output_type": "stream",
     "text": [
      "GPU activated: False\n",
      "\u001B[94mLoading model\u001B[0m: cyto3\n"
     ]
    }
   ],
   "execution_count": 5
  },
  {
   "metadata": {
    "ExecuteTime": {
     "start_time": "2024-10-30T16:26:23.964896Z"
    }
   },
   "cell_type": "code",
   "source": [
    "masks, flows, styles, _ = model.eval(\n",
    "    [g, r, None], \n",
    "    normalize=False,\n",
    "    channels=[0, 1],\n",
    ")\n",
    "\n",
    "print(masks.shape, masks.dtype)\n",
    "print(np.unique(masks))"
   ],
   "id": "ca8748e87b07e2d2",
   "outputs": [],
   "execution_count": null
  },
  {
   "metadata": {
    "ExecuteTime": {
     "end_time": "2024-10-30T16:19:45.239662Z",
     "start_time": "2024-10-30T16:19:45.237501Z"
    }
   },
   "cell_type": "code",
   "source": [
    "# cv2.imshow('image', np.hstack([img, masks]))\n",
    "# cv2.waitKey(0)\n",
    "# cv2.destroyAllWindows()\n",
    "\n",
    "mask_layer = viewer.add_image(masks, name='Masks', blending='additive')"
   ],
   "id": "e04e49b8a4f1f2bb",
   "outputs": [],
   "execution_count": null
  }
 ],
 "metadata": {
  "kernelspec": {
   "display_name": "Python 3",
   "language": "python",
   "name": "python3"
  },
  "language_info": {
   "codemirror_mode": {
    "name": "ipython",
    "version": 2
   },
   "file_extension": ".py",
   "mimetype": "text/x-python",
   "name": "python",
   "nbconvert_exporter": "python",
   "pygments_lexer": "ipython2",
   "version": "2.7.6"
  }
 },
 "nbformat": 4,
 "nbformat_minor": 5
}
