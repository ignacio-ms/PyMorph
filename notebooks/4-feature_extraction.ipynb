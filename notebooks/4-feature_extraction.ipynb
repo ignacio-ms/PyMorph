{
 "cells": [
  {
   "cell_type": "code",
   "id": "initial_id",
   "metadata": {
    "collapsed": true,
    "ExecuteTime": {
     "end_time": "2024-07-24T15:32:04.721186Z",
     "start_time": "2024-07-24T15:32:01.941816Z"
    }
   },
   "source": [
    "# Standard packages\n",
    "from skimage import morphology\n",
    "\n",
    "import numpy as np\n",
    "import pandas as pd\n",
    "\n",
    "import SimpleITK as sitk\n",
    "import porespy as ps\n",
    "from radiomics import featureextractor, shape\n",
    "\n",
    "# Custom packages\n",
    "import auxiliary.values as v\n",
    "from auxiliary.data.dataset_ht import HtDataset\n",
    "from auxiliary.utils.colors import bcolors as c\n",
    "from auxiliary.data import imaging"
   ],
   "outputs": [],
   "execution_count": 1
  },
  {
   "metadata": {
    "ExecuteTime": {
     "end_time": "2024-07-24T15:07:04.359123Z",
     "start_time": "2024-07-24T15:07:04.196300Z"
    }
   },
   "cell_type": "code",
   "source": [
    "ds = HtDataset()\n",
    "specimens, out_paths = ds.check_features(verbose=1)"
   ],
   "id": "837f61427a08510a",
   "outputs": [
    {
     "name": "stdout",
     "output_type": "stream",
     "text": [
      "\u001B[94mGroup\u001B[0m: Gr1\n",
      "\t\u001B[92mFound\u001B[0m: 20190521_E2_cell_properties_radiomics.csv\n",
      "\t\u001B[92mFound\u001B[0m: 20190521_E4_cell_properties_radiomics.csv\n",
      "\t\u001B[92mFound\u001B[0m: 20190504_E1_cell_properties_radiomics.csv\n",
      "\t\u001B[92mFound\u001B[0m: 20190806_E5_cell_properties_radiomics.csv\n",
      "\t\u001B[92mFound\u001B[0m: 20190208_E2_cell_properties_radiomics.csv\n",
      "\u001B[94mGroup\u001B[0m: Gr2\n",
      "\t\u001B[92mFound\u001B[0m: 20190209_E1_cell_properties_radiomics.csv\n",
      "\t\u001B[92mFound\u001B[0m: 20190516_E2_cell_properties_radiomics.csv\n",
      "\t\u001B[92mFound\u001B[0m: 20190208_E3_cell_properties_radiomics.csv\n",
      "\t\u001B[92mFound\u001B[0m: 20190520_E2_cell_properties_radiomics.csv\n",
      "\t\u001B[92mFound\u001B[0m: 20190503_E1_cell_properties_radiomics.csv\n",
      "\u001B[94mGroup\u001B[0m: Gr3\n",
      "\t\u001B[92mFound\u001B[0m: 20190308_E3_cell_properties_radiomics.csv\n",
      "\t\u001B[92mFound\u001B[0m: 20190516_E3_cell_properties_radiomics.csv\n",
      "\t\u001B[92mFound\u001B[0m: 20190503_E2_cell_properties_radiomics.csv\n",
      "\t\u001B[92mFound\u001B[0m: 20190209_E2_cell_properties_radiomics.csv\n",
      "\u001B[94mGroup\u001B[0m: Gr4\n",
      "\t\u001B[92mFound\u001B[0m: 20190806_E4_cell_properties_radiomics.csv\n",
      "\t\u001B[92mFound\u001B[0m: 20190523_E1_cell_properties_radiomics.csv\n",
      "\t\u001B[92mFound\u001B[0m: 20190521_E1_cell_properties_radiomics.csv\n",
      "\t\u001B[92mFound\u001B[0m: 20190806_E3_cell_properties_radiomics.csv\n",
      "\t\u001B[92mFound\u001B[0m: 20190806_E6_cell_properties_radiomics.csv\n",
      "\u001B[94mGroup\u001B[0m: Gr5\n",
      "\t\u001B[92mFound\u001B[0m: 20190401_E3_cell_properties_radiomics.csv\n",
      "\t\u001B[91mMissing features\u001B[0m: 0123_E1\n",
      "\t\u001B[91mMissing features\u001B[0m: 0518_E3\n",
      "\t\u001B[91mMissing features\u001B[0m: 0521_E3\n",
      "\t\u001B[91mMissing features\u001B[0m: 0122_E1\n",
      "\u001B[94mGroup\u001B[0m: Gr6\n",
      "\t\u001B[92mFound\u001B[0m: 20190806_E1_cell_properties_radiomics.csv\n",
      "\t\u001B[92mFound\u001B[0m: 20190502_E1_cell_properties_radiomics.csv\n",
      "\t\u001B[92mFound\u001B[0m: 20190308_E2_cell_properties_radiomics.csv\n",
      "\t\u001B[92mFound\u001B[0m: 20190806_E2_cell_properties_radiomics.csv\n",
      "\t\u001B[92mFound\u001B[0m: 20190401_E1_cell_properties_radiomics.csv\n",
      "\t\u001B[92mFound\u001B[0m: 20190517_E2_cell_properties_radiomics.csv\n",
      "\t\u001B[92mFound\u001B[0m: 20190401_E2_cell_properties_radiomics.csv\n",
      "\u001B[94mGroup\u001B[0m: Gr7\n",
      "\t\u001B[92mFound\u001B[0m: 20190404_E2_cell_properties_radiomics.csv\n",
      "\t\u001B[91mMissing features\u001B[0m: 0517_E4\n",
      "\t\u001B[91mMissing features\u001B[0m: 0516_E5\n",
      "\t\u001B[91mMissing features\u001B[0m: 0308_E4\n",
      "\t\u001B[91mMissing features\u001B[0m: 0403_E2\n",
      "\u001B[94mGroup\u001B[0m: Gr8\n",
      "\t\u001B[91mMissing features\u001B[0m: 0518_E2\n",
      "\t\u001B[91mMissing features\u001B[0m: 0402_E2\n",
      "\t\u001B[91mMissing features\u001B[0m: 0402_E1\n",
      "\t\u001B[91mMissing features\u001B[0m: 0517_E1\n",
      "\t\u001B[91mMissing features\u001B[0m: 0516_E4\n",
      "\u001B[94mGroup\u001B[0m: Gr9\n",
      "\t\u001B[91mMissing features\u001B[0m: 0119_E1\n",
      "\t\u001B[91mMissing features\u001B[0m: 0515_E2\n",
      "\t\u001B[91mMissing features\u001B[0m: 0520_E5\n",
      "\t\u001B[91mMissing features\u001B[0m: 0404_E1\n",
      "\t\u001B[91mMissing features\u001B[0m: 0518_E1\n",
      "\t\u001B[91mMissing features\u001B[0m: 0520_E1\n",
      "\t\u001B[91mMissing features\u001B[0m: 0516_E1\n",
      "\u001B[94mGroup\u001B[0m: Gr10\n",
      "\t\u001B[91mMissing features\u001B[0m: 0520_E4\n",
      "\t\u001B[91mMissing features\u001B[0m: 0515_E1\n",
      "\u001B[94mGroup\u001B[0m: Gr11\n",
      "\t\u001B[91mMissing features\u001B[0m: 0515_E3\n"
     ]
    }
   ],
   "execution_count": 8
  },
  {
   "metadata": {
    "ExecuteTime": {
     "end_time": "2024-07-24T15:07:07.739097Z",
     "start_time": "2024-07-24T15:07:07.325656Z"
    }
   },
   "cell_type": "code",
   "source": "ds.read_img_paths(type='RawImages', verbose=1)",
   "id": "9f3633ce7da0bbda",
   "outputs": [
    {
     "name": "stdout",
     "output_type": "stream",
     "text": [
      "\u001B[92mRaw Images - Nuclei\u001B[0m: 49\n",
      "\u001B[92mRaw Images - Membrane\u001B[0m: 46\n"
     ]
    }
   ],
   "execution_count": 9
  },
  {
   "metadata": {
    "ExecuteTime": {
     "end_time": "2024-07-24T15:07:08.117904Z",
     "start_time": "2024-07-24T15:07:07.740637Z"
    }
   },
   "cell_type": "code",
   "source": "ds.read_img_paths(type='Segmentation', verbose=1)",
   "id": "638051ec8f21ac07",
   "outputs": [
    {
     "name": "stdout",
     "output_type": "stream",
     "text": [
      "\u001B[91mNo directory\u001B[0m: /run/user/1003/gvfs/smb-share:server=tierra.cnic.es,share=sc/LAB_MT/LAB/Ignacio/Gr11/Segmentation/Nuclei\n",
      "\u001B[91mNo directory\u001B[0m: /run/user/1003/gvfs/smb-share:server=tierra.cnic.es,share=sc/LAB_MT/LAB/Ignacio/Gr11/Segmentation/Membrane\n",
      "\u001B[92mSegmented - Nuclei\u001B[0m: 34\n",
      "\u001B[92mSegmented - Membrane\u001B[0m: 31\n"
     ]
    }
   ],
   "execution_count": 10
  },
  {
   "metadata": {
    "ExecuteTime": {
     "end_time": "2024-07-24T15:07:28.272234Z",
     "start_time": "2024-07-24T15:07:09.598773Z"
    }
   },
   "cell_type": "code",
   "source": [
    "for s in ['0517_E1']:  # specimens\n",
    "    print(f'{c.OKBLUE}Specimen:{c.ENDC} {s}')\n",
    "    \n",
    "    # path_raw_nuclei, _ = ds.read_specimen(s, level='Nuclei', type='RawImages', verbose=1)\n",
    "    # raw_nuclei = imaging.read_image(path_raw_nuclei)\n",
    "    # path_seg_nuclei, _ = ds.read_specimen(s, level='Nuclei', type='Segmentation', verbose=1)\n",
    "    # seg_nuclei = imaging.read_image(path_seg_nuclei)\n",
    "    \n",
    "    path_raw_membrane, _ = ds.read_specimen(s, level='Membrane', type='RawImages', verbose=1)\n",
    "    raw_membrane = imaging.read_image(path_raw_membrane)\n",
    "\n",
    "    path_seg_membrane, _ = ds.read_specimen(s, level='Membrane', type='Segmentation', verbose=1)\n",
    "    seg_membrane = imaging.read_image(path_seg_membrane)\n",
    "    \n",
    "    path_line, _ = ds.read_line(s, verbose=1)\n",
    "    line = imaging.read_image(path_line)"
   ],
   "id": "a16988e1b9d0efc3",
   "outputs": [
    {
     "name": "stdout",
     "output_type": "stream",
     "text": [
      "\u001B[94mSpecimen:\u001B[0m 0517_E1\n",
      "\t\u001B[92mFound\u001B[0m: 20190517_E1_mGFP_decon_0.5.nii.gz\n",
      "\t\u001B[92mFound\u001B[0m: 20190517_E1_mGFP_XYZ_predictions_GASP.nii.gz\n",
      "\t\u001B[92mFound\u001B[0m: line_20190517_E1.nii.gz\n"
     ]
    }
   ],
   "execution_count": 11
  },
  {
   "metadata": {
    "ExecuteTime": {
     "end_time": "2024-07-24T15:07:48.046740Z",
     "start_time": "2024-07-24T15:07:48.018734Z"
    }
   },
   "cell_type": "code",
   "source": [
    "props_mem = ps.metrics.regionprops_3D(morphology.label(seg_membrane))\n",
    "print(props_mem)"
   ],
   "id": "f9482e6583ffc00e",
   "outputs": [
    {
     "ename": "NameError",
     "evalue": "name 'ps' is not defined",
     "output_type": "error",
     "traceback": [
      "\u001B[0;31m---------------------------------------------------------------------------\u001B[0m",
      "\u001B[0;31mNameError\u001B[0m                                 Traceback (most recent call last)",
      "Cell \u001B[0;32mIn[12], line 1\u001B[0m\n\u001B[0;32m----> 1\u001B[0m props_mem \u001B[38;5;241m=\u001B[39m \u001B[43mps\u001B[49m\u001B[38;5;241m.\u001B[39mmetrics\u001B[38;5;241m.\u001B[39mregionprops_3D(morphology\u001B[38;5;241m.\u001B[39mlabel(seg_membrane))\n\u001B[1;32m      2\u001B[0m \u001B[38;5;28mprint\u001B[39m(props_mem)\n",
      "\u001B[0;31mNameError\u001B[0m: name 'ps' is not defined"
     ]
    }
   ],
   "execution_count": 12
  }
 ],
 "metadata": {
  "kernelspec": {
   "display_name": "Python 3",
   "language": "python",
   "name": "python3"
  },
  "language_info": {
   "codemirror_mode": {
    "name": "ipython",
    "version": 2
   },
   "file_extension": ".py",
   "mimetype": "text/x-python",
   "name": "python",
   "nbconvert_exporter": "python",
   "pygments_lexer": "ipython2",
   "version": "2.7.6"
  }
 },
 "nbformat": 4,
 "nbformat_minor": 5
}
