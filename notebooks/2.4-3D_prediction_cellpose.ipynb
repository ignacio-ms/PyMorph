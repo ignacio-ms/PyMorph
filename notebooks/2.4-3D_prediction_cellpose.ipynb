{
 "cells": [
  {
   "metadata": {},
   "cell_type": "markdown",
   "source": "Libraries",
   "id": "5a87a52086050a6a"
  },
  {
   "cell_type": "code",
   "id": "initial_id",
   "metadata": {
    "collapsed": true,
    "ExecuteTime": {
     "end_time": "2024-07-19T13:48:32.892626Z",
     "start_time": "2024-07-19T13:48:27.811106Z"
    }
   },
   "source": [
    "# Standard libraries\n",
    "from cellpose import models, core, plot, utils\n",
    "import nibabel as nib\n",
    "\n",
    "import cv2\n",
    "import numpy as np\n",
    "import matplotlib.pyplot as plt\n",
    "\n",
    "# Custom packages\n",
    "from auxiliary.datasets import HtDataset\n",
    "from auxiliary.imaging import read_nii\n",
    "\n",
    "# Configurations\n",
    "use_gpu = core.use_gpu()\n",
    "print(f\"GPU activated: {use_gpu}\")\n",
    "\n",
    "from cellpose.io import logger_setup\n",
    "logger_setup();"
   ],
   "outputs": [
    {
     "name": "stdout",
     "output_type": "stream",
     "text": [
      "GPU activated: True\n",
      "2024-07-19 15:48:32,888 [INFO] WRITING LOG OUTPUT TO /home/imarcoss/.cellpose/run.log\n",
      "2024-07-19 15:48:32,889 [INFO] \n",
      "cellpose version: \t3.0.10 \n",
      "platform:       \tlinux \n",
      "python version: \t3.10.14 \n",
      "torch version:  \t2.3.1+cu118\n"
     ]
    }
   ],
   "execution_count": 1
  },
  {
   "metadata": {
    "ExecuteTime": {
     "end_time": "2024-07-19T13:48:50.922399Z",
     "start_time": "2024-07-19T13:48:50.666907Z"
    }
   },
   "cell_type": "code",
   "source": [
    "ds = HtDataset()\n",
    "ds.check_specimens()\n",
    "\n",
    "img_idx = 0\n",
    "img_path = ds.missing_nuclei[img_idx]\n",
    "img_path_out = ds.missing_nuclei_out[img_idx]\n",
    "\n",
    "img = read_nii(img_path)\n",
    "print(img.shape)"
   ],
   "id": "7e1f498e17f9781",
   "outputs": [
    {
     "ename": "AttributeError",
     "evalue": "'HtDataset' object has no attribute 'specimens'",
     "output_type": "error",
     "traceback": [
      "\u001B[0;31m---------------------------------------------------------------------------\u001B[0m",
      "\u001B[0;31mAttributeError\u001B[0m                            Traceback (most recent call last)",
      "Cell \u001B[0;32mIn[2], line 2\u001B[0m\n\u001B[1;32m      1\u001B[0m ds \u001B[38;5;241m=\u001B[39m HtDataset()\n\u001B[0;32m----> 2\u001B[0m \u001B[43mds\u001B[49m\u001B[38;5;241;43m.\u001B[39;49m\u001B[43mcheck_specimens\u001B[49m\u001B[43m(\u001B[49m\u001B[43m)\u001B[49m\n\u001B[1;32m      4\u001B[0m img_idx \u001B[38;5;241m=\u001B[39m \u001B[38;5;241m0\u001B[39m\n\u001B[1;32m      5\u001B[0m img_path \u001B[38;5;241m=\u001B[39m ds\u001B[38;5;241m.\u001B[39mmissing_nuclei[img_idx]\n",
      "File \u001B[0;32m~/ht_morphogenesis/auxiliary/datasets.py:81\u001B[0m, in \u001B[0;36mHtDataset.check_specimens\u001B[0;34m(self, verbose)\u001B[0m\n\u001B[1;32m     78\u001B[0m todo_membrane, todo_membrane_out \u001B[38;5;241m=\u001B[39m [], []\n\u001B[1;32m     79\u001B[0m todo_nuclei, todo_nuclei_out \u001B[38;5;241m=\u001B[39m [], []\n\u001B[0;32m---> 81\u001B[0m \u001B[38;5;28;01mfor\u001B[39;00m group \u001B[38;5;129;01min\u001B[39;00m \u001B[38;5;28;43mself\u001B[39;49m\u001B[38;5;241;43m.\u001B[39;49m\u001B[43mspecimens\u001B[49m\u001B[38;5;241m.\u001B[39mkeys():\n\u001B[1;32m     82\u001B[0m     \u001B[38;5;28;01mif\u001B[39;00m verbose:\n\u001B[1;32m     83\u001B[0m         \u001B[38;5;28mprint\u001B[39m(\u001B[38;5;124mf\u001B[39m\u001B[38;5;124m'\u001B[39m\u001B[38;5;132;01m{\u001B[39;00mc\u001B[38;5;241m.\u001B[39mOKBLUE\u001B[38;5;132;01m}\u001B[39;00m\u001B[38;5;124mGroup\u001B[39m\u001B[38;5;132;01m{\u001B[39;00mc\u001B[38;5;241m.\u001B[39mENDC\u001B[38;5;132;01m}\u001B[39;00m\u001B[38;5;124m: \u001B[39m\u001B[38;5;132;01m{\u001B[39;00mgroup\u001B[38;5;132;01m}\u001B[39;00m\u001B[38;5;124m'\u001B[39m)\n",
      "\u001B[0;31mAttributeError\u001B[0m: 'HtDataset' object has no attribute 'specimens'"
     ]
    }
   ],
   "execution_count": 2
  },
  {
   "metadata": {},
   "cell_type": "code",
   "outputs": [],
   "execution_count": null,
   "source": "model = models.Cellpose(gpu=use_gpu, model_type='nuclei')",
   "id": "9a0b6795a5db78c8"
  },
  {
   "metadata": {
    "ExecuteTime": {
     "end_time": "2024-07-19T09:22:51.084217Z",
     "start_time": "2024-07-19T09:22:44.429673Z"
    }
   },
   "cell_type": "code",
   "source": "img_equalized = cv2.equalizeHist(img)",
   "id": "50cef9c89051e1ca",
   "outputs": [],
   "execution_count": 10
  },
  {
   "metadata": {
    "jupyter": {
     "is_executing": true
    },
    "ExecuteTime": {
     "start_time": "2024-07-19T09:23:19.418377Z"
    }
   },
   "cell_type": "code",
   "source": [
    "for i in [100, 270, 400]:\n",
    "    cv2.imshow('image', img[:, :, i])\n",
    "    cv2.waitKey(0)\n",
    "    cv2.destroyAllWindows()\n",
    "    \n",
    "for i in [100, 270, 400]:\n",
    "    cv2.imshow('image', img_equalized[:, :, i])\n",
    "    cv2.waitKey(0)\n",
    "    cv2.destroyAllWindows()"
   ],
   "id": "76c75597916fb194",
   "outputs": [],
   "execution_count": null
  },
  {
   "metadata": {},
   "cell_type": "code",
   "outputs": [],
   "execution_count": null,
   "source": [
    "masks, flows, styles, diams = model.eval(\n",
    "    img_equalized, diameter=25, channels=[0, 0], \n",
    "    do_3D=True, normalize=True\n",
    ")\n",
    "\n",
    "# masks_stitched, flows_stitched, styles_stitched, _ = model.eval(\n",
    "# img_equalized, channels=[0, 0], diameter=25, do_3D=False, \n",
    "# stitch_threshold=0.5, normalize = True\n",
    "# )"
   ],
   "id": "807c3cb187d6c259"
  },
  {
   "metadata": {},
   "cell_type": "code",
   "outputs": [],
   "execution_count": null,
   "source": [
    "plt.figure(figsize=(12, 6))\n",
    "\n",
    "for i, iplane in [100, 270, 400]:\n",
    "  img0 = plot.image_to_rgb(img_equalized[iplane, [1, 0]].copy(), channels=[0, 0])\n",
    "  \n",
    "  plt.subplot(1,8,i+1)\n",
    "  \n",
    "  outlines = utils.masks_to_outlines(masks[iplane])\n",
    "  outX, outY = np.nonzero(outlines)\n",
    "  imgout= img0.copy()\n",
    "  imgout[outX, outY] = np.array([255,75,75])\n",
    "  \n",
    "  plt.imshow(imgout)\n",
    "  plt.title('iplane = %d'%iplane)"
   ],
   "id": "2875454b600404c8"
  }
 ],
 "metadata": {
  "kernelspec": {
   "display_name": "Python 3",
   "language": "python",
   "name": "python3"
  },
  "language_info": {
   "codemirror_mode": {
    "name": "ipython",
    "version": 2
   },
   "file_extension": ".py",
   "mimetype": "text/x-python",
   "name": "python",
   "nbconvert_exporter": "python",
   "pygments_lexer": "ipython2",
   "version": "2.7.6"
  }
 },
 "nbformat": 4,
 "nbformat_minor": 5
}
