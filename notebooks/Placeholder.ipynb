{
 "cells": [
  {
   "metadata": {
    "ExecuteTime": {
     "end_time": "2024-10-11T10:27:17.842382Z",
     "start_time": "2024-10-11T10:27:17.839313Z"
    }
   },
   "cell_type": "code",
   "source": [
    "import ast\n",
    "import numpy as np\n",
    "import pandas as pd\n",
    "\n",
    "import tensorflow as tf\n",
    "\n",
    "from auxiliary import values as v"
   ],
   "id": "7598414c5a01fc4f",
   "outputs": [],
   "execution_count": 7
  },
  {
   "cell_type": "code",
   "id": "initial_id",
   "metadata": {
    "collapsed": true,
    "ExecuteTime": {
     "end_time": "2024-10-11T10:20:26.194740Z",
     "start_time": "2024-10-11T10:20:26.178796Z"
    }
   },
   "source": [
    "def get_label(label):\n",
    "    if isinstance(label, str):\n",
    "        # Safely parse the label string to a list\n",
    "        label = ast.literal_eval(label)\n",
    "    label = np.array(label, dtype=np.float32)\n",
    "    return label\n",
    "\n",
    "print(get_label('[0.9, 0.05, 0.05]'))"
   ],
   "outputs": [
    {
     "name": "stdout",
     "output_type": "stream",
     "text": [
      "[0.9  0.05 0.05]\n"
     ]
    }
   ],
   "execution_count": 4
  },
  {
   "metadata": {
    "ExecuteTime": {
     "end_time": "2024-10-11T10:32:06.916131Z",
     "start_time": "2024-10-11T10:32:06.911656Z"
    }
   },
   "cell_type": "code",
   "source": [
    "def oh(idx):\n",
    "    return list(tf.one_hot(np.int16(idx), 3, dtype=tf.int16).numpy())"
   ],
   "id": "73cdbebe3b99f4ad",
   "outputs": [],
   "execution_count": 16
  },
  {
   "metadata": {
    "ExecuteTime": {
     "end_time": "2024-10-11T10:33:20.893664Z",
     "start_time": "2024-10-11T10:33:20.795628Z"
    }
   },
   "cell_type": "code",
   "source": [
    "\n",
    "for t in ['train', 'test', 'val']:\n",
    "    path = v.data_path + f'CellDivision/undersampled/{t}.csv'\n",
    "    data = pd.read_csv(path)\n",
    "    \n",
    "    data.columns = ['image', 'label']\n",
    "    data['label'] = data['label'].apply(oh)\n",
    "    data.to_csv(path, index=False)"
   ],
   "id": "9690ff25b414f903",
   "outputs": [
    {
     "name": "stdout",
     "output_type": "stream",
     "text": [
      "0      [0.0, 0.0, 1.0]\n",
      "1      [0.0, 1.0, 0.0]\n",
      "2      [0.0, 0.0, 1.0]\n",
      "3      [0.0, 0.0, 1.0]\n",
      "4      [1.0, 0.0, 0.0]\n",
      "            ...       \n",
      "398    [0.0, 0.0, 1.0]\n",
      "399    [1.0, 0.0, 0.0]\n",
      "400    [1.0, 0.0, 0.0]\n",
      "401    [0.0, 0.0, 1.0]\n",
      "402    [0.0, 1.0, 0.0]\n",
      "Name: label, Length: 403, dtype: object\n"
     ]
    }
   ],
   "execution_count": 19
  }
 ],
 "metadata": {
  "kernelspec": {
   "display_name": "Python 3",
   "language": "python",
   "name": "python3"
  },
  "language_info": {
   "codemirror_mode": {
    "name": "ipython",
    "version": 2
   },
   "file_extension": ".py",
   "mimetype": "text/x-python",
   "name": "python",
   "nbconvert_exporter": "python",
   "pygments_lexer": "ipython2",
   "version": "2.7.6"
  }
 },
 "nbformat": 4,
 "nbformat_minor": 5
}
