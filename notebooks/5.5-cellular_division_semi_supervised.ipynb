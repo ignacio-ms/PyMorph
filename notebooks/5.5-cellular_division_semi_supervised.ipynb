{
 "cells": [
  {
   "cell_type": "code",
   "id": "initial_id",
   "metadata": {
    "collapsed": true,
    "ExecuteTime": {
     "end_time": "2024-08-14T11:40:51.894728Z",
     "start_time": "2024-08-14T11:40:47.739412Z"
    }
   },
   "source": [
    "import pandas as pd\n",
    "\n",
    "import tensorflow as tf\n",
    "import json\n",
    "import numpy as np\n",
    "import pandas as pd\n",
    "import cv2\n",
    "\n",
    "import matplotlib.pyplot as plt\n",
    "import seaborn as sns\n",
    "\n",
    "from cell_division.nets.transfer_learning import CNN\n",
    "from auxiliary.data.dataset_cell import CellDataset\n",
    "from auxiliary.data.dataset_unlabeled import UnlabeledDataset\n",
    "from auxiliary import values as v\n",
    "from auxiliary.utils.colors import bcolors as c\n",
    "from auxiliary.utils import visualizer as vis\n",
    "\n",
    "from sklearn.metrics import classification_report, confusion_matrix\n",
    "from tensorflow.keras.losses import CategoricalCrossentropy\n",
    "from tensorflow.keras.layers import GlobalAveragePooling2D\n",
    "from cell_division.nets.custom_layers import (\n",
    "    w_cel_loss, \n",
    "    focal_loss,\n",
    "    ExtendedLSEPooling,\n",
    "    extended_w_cel_loss,\n",
    "    LSEPooling\n",
    ")\n",
    "\n",
    "from cell_division.nets.cam import GradCAM, overlay_heatmap, CAM, GradCAMpp\n",
    "from cell_division.semi_supervised import semi_supervised_learning as SSL\n",
    "\n",
    "# GPU config\n",
    "from auxiliary.utils.timer import LoadingBar\n",
    "from auxiliary.gpu.gpu_tf import (\n",
    "    increase_gpu_memory, \n",
    "    set_gpu_allocator, \n",
    "    clear_session\n",
    ")\n",
    "\n",
    "increase_gpu_memory()\n",
    "# set_gpu_allocator()"
   ],
   "outputs": [
    {
     "ename": "ValueError",
     "evalue": "Cannot set memory growth on device when virtual devices configured",
     "output_type": "error",
     "traceback": [
      "\u001B[0;31m---------------------------------------------------------------------------\u001B[0m",
      "\u001B[0;31mValueError\u001B[0m                                Traceback (most recent call last)",
      "Cell \u001B[0;32mIn[1], line 41\u001B[0m\n\u001B[1;32m     34\u001B[0m \u001B[38;5;28;01mfrom\u001B[39;00m \u001B[38;5;21;01mauxiliary\u001B[39;00m\u001B[38;5;21;01m.\u001B[39;00m\u001B[38;5;21;01mutils\u001B[39;00m\u001B[38;5;21;01m.\u001B[39;00m\u001B[38;5;21;01mtimer\u001B[39;00m \u001B[38;5;28;01mimport\u001B[39;00m LoadingBar\n\u001B[1;32m     35\u001B[0m \u001B[38;5;28;01mfrom\u001B[39;00m \u001B[38;5;21;01mauxiliary\u001B[39;00m\u001B[38;5;21;01m.\u001B[39;00m\u001B[38;5;21;01mgpu\u001B[39;00m\u001B[38;5;21;01m.\u001B[39;00m\u001B[38;5;21;01mgpu_tf\u001B[39;00m \u001B[38;5;28;01mimport\u001B[39;00m (\n\u001B[1;32m     36\u001B[0m     increase_gpu_memory, \n\u001B[1;32m     37\u001B[0m     set_gpu_allocator, \n\u001B[1;32m     38\u001B[0m     clear_session\n\u001B[1;32m     39\u001B[0m )\n\u001B[0;32m---> 41\u001B[0m \u001B[43mincrease_gpu_memory\u001B[49m\u001B[43m(\u001B[49m\u001B[43m)\u001B[49m\n\u001B[1;32m     42\u001B[0m \u001B[38;5;66;03m# set_gpu_allocator()\u001B[39;00m\n",
      "File \u001B[0;32m~/ht_morphogenesis/auxiliary/gpu/gpu_tf.py:15\u001B[0m, in \u001B[0;36mincrease_gpu_memory\u001B[0;34m(limit)\u001B[0m\n\u001B[1;32m     13\u001B[0m \u001B[38;5;28;01mtry\u001B[39;00m:\n\u001B[1;32m     14\u001B[0m     \u001B[38;5;28;01mfor\u001B[39;00m gpu \u001B[38;5;129;01min\u001B[39;00m gpus:\n\u001B[0;32m---> 15\u001B[0m         \u001B[43mtf\u001B[49m\u001B[38;5;241;43m.\u001B[39;49m\u001B[43mconfig\u001B[49m\u001B[38;5;241;43m.\u001B[39;49m\u001B[43mexperimental\u001B[49m\u001B[38;5;241;43m.\u001B[39;49m\u001B[43mset_memory_growth\u001B[49m\u001B[43m(\u001B[49m\u001B[43mgpu\u001B[49m\u001B[43m,\u001B[49m\u001B[43m \u001B[49m\u001B[38;5;28;43;01mTrue\u001B[39;49;00m\u001B[43m)\u001B[49m\n\u001B[1;32m     16\u001B[0m         tf\u001B[38;5;241m.\u001B[39mconfig\u001B[38;5;241m.\u001B[39mexperimental\u001B[38;5;241m.\u001B[39mset_virtual_device_configuration(\n\u001B[1;32m     17\u001B[0m             gpu,\n\u001B[1;32m     18\u001B[0m             [tf\u001B[38;5;241m.\u001B[39mconfig\u001B[38;5;241m.\u001B[39mexperimental\u001B[38;5;241m.\u001B[39mVirtualDeviceConfiguration(memory_limit\u001B[38;5;241m=\u001B[39mlimit)]\n\u001B[1;32m     19\u001B[0m         )\n\u001B[1;32m     20\u001B[0m \u001B[38;5;28;01mexcept\u001B[39;00m \u001B[38;5;167;01mRuntimeError\u001B[39;00m \u001B[38;5;28;01mas\u001B[39;00m e:\n",
      "File \u001B[0;32m~/mambaforge/envs/py310ml/lib/python3.10/site-packages/tensorflow/python/framework/config.py:713\u001B[0m, in \u001B[0;36mset_memory_growth\u001B[0;34m(device, enable)\u001B[0m\n\u001B[1;32m    688\u001B[0m \u001B[38;5;129m@tf_export\u001B[39m(\u001B[38;5;124m'\u001B[39m\u001B[38;5;124mconfig.experimental.set_memory_growth\u001B[39m\u001B[38;5;124m'\u001B[39m)\n\u001B[1;32m    689\u001B[0m \u001B[38;5;28;01mdef\u001B[39;00m \u001B[38;5;21mset_memory_growth\u001B[39m(device, enable):\n\u001B[1;32m    690\u001B[0m \u001B[38;5;250m  \u001B[39m\u001B[38;5;124;03m\"\"\"Set if memory growth should be enabled for a `PhysicalDevice`.\u001B[39;00m\n\u001B[1;32m    691\u001B[0m \n\u001B[1;32m    692\u001B[0m \u001B[38;5;124;03m  If memory growth is enabled for a `PhysicalDevice`, the runtime initialization\u001B[39;00m\n\u001B[0;32m   (...)\u001B[0m\n\u001B[1;32m    711\u001B[0m \u001B[38;5;124;03m    RuntimeError: Runtime is already initialized.\u001B[39;00m\n\u001B[1;32m    712\u001B[0m \u001B[38;5;124;03m  \"\"\"\u001B[39;00m\n\u001B[0;32m--> 713\u001B[0m   \u001B[43mcontext\u001B[49m\u001B[38;5;241;43m.\u001B[39;49m\u001B[43mcontext\u001B[49m\u001B[43m(\u001B[49m\u001B[43m)\u001B[49m\u001B[38;5;241;43m.\u001B[39;49m\u001B[43mset_memory_growth\u001B[49m\u001B[43m(\u001B[49m\u001B[43mdevice\u001B[49m\u001B[43m,\u001B[49m\u001B[43m \u001B[49m\u001B[43menable\u001B[49m\u001B[43m)\u001B[49m\n",
      "File \u001B[0;32m~/mambaforge/envs/py310ml/lib/python3.10/site-packages/tensorflow/python/eager/context.py:1577\u001B[0m, in \u001B[0;36mContext.set_memory_growth\u001B[0;34m(self, dev, enable)\u001B[0m\n\u001B[1;32m   1574\u001B[0m   \u001B[38;5;28;01mraise\u001B[39;00m \u001B[38;5;167;01mValueError\u001B[39;00m(\u001B[38;5;124m\"\u001B[39m\u001B[38;5;124mUnrecognized device: \u001B[39m\u001B[38;5;132;01m%s\u001B[39;00m\u001B[38;5;124m\"\u001B[39m \u001B[38;5;241m%\u001B[39m \u001B[38;5;28mrepr\u001B[39m(dev))\n\u001B[1;32m   1576\u001B[0m \u001B[38;5;28;01mif\u001B[39;00m dev \u001B[38;5;129;01min\u001B[39;00m \u001B[38;5;28mself\u001B[39m\u001B[38;5;241m.\u001B[39m_virtual_device_map:\n\u001B[0;32m-> 1577\u001B[0m   \u001B[38;5;28;01mraise\u001B[39;00m \u001B[38;5;167;01mValueError\u001B[39;00m(\n\u001B[1;32m   1578\u001B[0m       \u001B[38;5;124m\"\u001B[39m\u001B[38;5;124mCannot set memory growth on device when virtual devices configured\u001B[39m\u001B[38;5;124m\"\u001B[39m)\n\u001B[1;32m   1580\u001B[0m \u001B[38;5;28;01mif\u001B[39;00m dev\u001B[38;5;241m.\u001B[39mdevice_type \u001B[38;5;241m!=\u001B[39m \u001B[38;5;124m\"\u001B[39m\u001B[38;5;124mGPU\u001B[39m\u001B[38;5;124m\"\u001B[39m:\n\u001B[1;32m   1581\u001B[0m   \u001B[38;5;28;01mraise\u001B[39;00m \u001B[38;5;167;01mValueError\u001B[39;00m(\u001B[38;5;124m\"\u001B[39m\u001B[38;5;124mCannot set memory growth on non-GPU devices\u001B[39m\u001B[38;5;124m\"\u001B[39m)\n",
      "\u001B[0;31mValueError\u001B[0m: Cannot set memory growth on device when virtual devices configured"
     ]
    }
   ],
   "execution_count": 1
  },
  {
   "metadata": {
    "ExecuteTime": {
     "end_time": "2024-08-14T11:40:53.327191Z",
     "start_time": "2024-08-14T11:40:53.321459Z"
    }
   },
   "cell_type": "code",
   "source": [
    "img_dir = v.data_path + 'CellDivision/images_nuclei/'\n",
    "img_dir_unlabeled = v.data_path + 'CellDivision/images_unlabeled/'\n",
    "\n",
    "label_train_dir = v.data_path + 'CellDivision/undersampled/train.csv'\n",
    "label_test_dir = v.data_path + 'CellDivision/undersampled/test.csv'\n",
    "label_val_dir = v.data_path + 'CellDivision/undersampled/val.csv'\n",
    "\n",
    "INPUT_SHAPE = (100, 100, 3)\n",
    "BATCH_SIZE = 128"
   ],
   "id": "a1afd82f2525feb7",
   "outputs": [],
   "execution_count": 2
  },
  {
   "metadata": {
    "ExecuteTime": {
     "end_time": "2024-08-14T11:40:56.286981Z",
     "start_time": "2024-08-14T11:40:54.167454Z"
    }
   },
   "cell_type": "code",
   "source": [
    "train_generator = CellDataset(\n",
    "    img_dir, \n",
    "    label_train_dir,\n",
    "    batch_size=BATCH_SIZE,\n",
    "    resize=INPUT_SHAPE[:2]\n",
    ")\n",
    "\n",
    "val_generator = CellDataset(\n",
    "    img_dir, \n",
    "    label_val_dir,\n",
    "    batch_size=BATCH_SIZE,\n",
    "    resize=INPUT_SHAPE[:2]\n",
    ")\n",
    "\n",
    "test_generator = CellDataset(\n",
    "    img_dir, \n",
    "    label_test_dir,\n",
    "    batch_size=BATCH_SIZE,\n",
    "    resize=INPUT_SHAPE[:2]\n",
    ")\n",
    "\n",
    "unlabeled_generator = UnlabeledDataset(\n",
    "    img_dir_unlabeled,\n",
    "    batch_size=1,\n",
    "    resize=INPUT_SHAPE[:2]\n",
    ")"
   ],
   "id": "64e98694d41986fe",
   "outputs": [],
   "execution_count": 3
  },
  {
   "metadata": {
    "ExecuteTime": {
     "end_time": "2024-08-14T11:40:58.196100Z",
     "start_time": "2024-08-14T11:40:57.079884Z"
    }
   },
   "cell_type": "code",
   "source": [
    "model = CNN(\n",
    "    base=tf.keras.applications.VGG16,\n",
    "    input_shape=INPUT_SHAPE,\n",
    "    n_classes=3\n",
    ")\n",
    "model.build_top(activation='softmax', b_type='CAM', pooling=ExtendedLSEPooling)\n",
    "model.compile(\n",
    "    lr=.001,\n",
    "    loss=extended_w_cel_loss()\n",
    ")"
   ],
   "id": "3747c34497d9ef9e",
   "outputs": [],
   "execution_count": 4
  },
  {
   "metadata": {
    "jupyter": {
     "is_executing": true
    },
    "ExecuteTime": {
     "start_time": "2024-08-14T11:47:30.471916Z"
    }
   },
   "cell_type": "code",
   "source": [
    "model = SSL(\n",
    "    model, \n",
    "    train_generator, val_generator, test_generator,\n",
    "    unlabeled_generator,\n",
    "    max_iter=10,\n",
    "    verbose=1\n",
    ")\n",
    "model.model.save('../models/cellular_division_models/vgg16_semi.h5')"
   ],
   "id": "97d72a54693578ac",
   "outputs": [
    {
     "name": "stdout",
     "output_type": "stream",
     "text": [
      "\u001B[92mIteration:\u001B[0m 1\n",
      "\t\u001B[94mPre-training...\u001B[0m\n",
      "Epoch 1/100\n",
      "4/4 [==============================] - 11s 3s/step - loss: 1.2200 - auc: 0.9249 - val_loss: 1.1342 - val_auc: 0.8701 - lr: 1.0000e-07\n",
      "Epoch 2/100\n",
      "4/4 [==============================] - 11s 3s/step - loss: 1.2191 - auc: 0.9213 - val_loss: 1.1211 - val_auc: 0.8782 - lr: 1.0000e-07\n",
      "Epoch 3/100\n",
      "4/4 [==============================] - 11s 3s/step - loss: 1.3280 - auc: 0.9216 - val_loss: 1.1080 - val_auc: 0.8853 - lr: 1.0000e-07\n",
      "Epoch 4/100\n",
      "4/4 [==============================] - ETA: 0s - loss: 1.2867 - auc: 0.9239\n",
      "Epoch 4: ReduceLROnPlateau reducing learning rate to 1.000000082740371e-08.\n",
      "4/4 [==============================] - 11s 3s/step - loss: 1.2867 - auc: 0.9239 - val_loss: 1.0947 - val_auc: 0.8922 - lr: 1.0000e-07\n",
      "Epoch 5/100\n",
      "4/4 [==============================] - 12s 3s/step - loss: 1.1158 - auc: 0.9315 - val_loss: 1.0813 - val_auc: 0.8983 - lr: 1.0000e-08\n",
      "Epoch 6/100\n",
      "4/4 [==============================] - 12s 4s/step - loss: 1.2693 - auc: 0.9208 - val_loss: 1.0678 - val_auc: 0.9032 - lr: 1.0000e-08\n",
      "Epoch 7/100\n",
      "4/4 [==============================] - ETA: 0s - loss: 1.4249 - auc: 0.9088\n",
      "Epoch 7: ReduceLROnPlateau reducing learning rate to 1.000000082740371e-09.\n",
      "4/4 [==============================] - 11s 3s/step - loss: 1.4249 - auc: 0.9088 - val_loss: 1.0542 - val_auc: 0.9075 - lr: 1.0000e-08\n",
      "Epoch 8/100\n",
      "4/4 [==============================] - 12s 3s/step - loss: 1.4196 - auc: 0.9099 - val_loss: 1.0406 - val_auc: 0.9111 - lr: 1.0000e-09\n",
      "Epoch 9/100\n",
      "4/4 [==============================] - 11s 3s/step - loss: 1.3448 - auc: 0.9233 - val_loss: 1.0269 - val_auc: 0.9145 - lr: 1.0000e-09\n",
      "Epoch 10/100\n",
      "4/4 [==============================] - ETA: 0s - loss: 1.4026 - auc: 0.9076\n",
      "Epoch 10: ReduceLROnPlateau reducing learning rate to 1.000000082740371e-10.\n",
      "4/4 [==============================] - 11s 3s/step - loss: 1.4026 - auc: 0.9076 - val_loss: 1.0132 - val_auc: 0.9176 - lr: 1.0000e-09\n",
      "Epoch 11/100\n",
      "4/4 [==============================] - 12s 3s/step - loss: 1.0398 - auc: 0.9402 - val_loss: 0.9995 - val_auc: 0.9201 - lr: 1.0000e-10\n",
      "Epoch 12/100\n",
      "4/4 [==============================] - 11s 3s/step - loss: 1.3216 - auc: 0.9266 - val_loss: 0.9859 - val_auc: 0.9213 - lr: 1.0000e-10\n",
      "Epoch 13/100\n",
      "4/4 [==============================] - ETA: 0s - loss: 1.2455 - auc: 0.9238\n",
      "Epoch 13: ReduceLROnPlateau reducing learning rate to 1.000000082740371e-11.\n",
      "4/4 [==============================] - 12s 3s/step - loss: 1.2455 - auc: 0.9238 - val_loss: 0.9723 - val_auc: 0.9237 - lr: 1.0000e-10\n",
      "Epoch 14/100\n",
      "4/4 [==============================] - 12s 3s/step - loss: 1.1912 - auc: 0.9304 - val_loss: 0.9588 - val_auc: 0.9251 - lr: 1.0000e-11\n",
      "Epoch 15/100\n",
      "4/4 [==============================] - 11s 3s/step - loss: 1.2031 - auc: 0.9266 - val_loss: 0.9454 - val_auc: 0.9253 - lr: 1.0000e-11\n",
      "Epoch 16/100\n",
      "4/4 [==============================] - ETA: 0s - loss: 1.3643 - auc: 0.9142\n",
      "Epoch 16: ReduceLROnPlateau reducing learning rate to 1.000000082740371e-12.\n",
      "4/4 [==============================] - 12s 4s/step - loss: 1.3643 - auc: 0.9142 - val_loss: 0.9322 - val_auc: 0.9259 - lr: 1.0000e-11\n",
      "Epoch 17/100\n",
      "4/4 [==============================] - 12s 3s/step - loss: 1.2010 - auc: 0.9284 - val_loss: 0.9191 - val_auc: 0.9271 - lr: 1.0000e-12\n",
      "Epoch 18/100\n",
      "4/4 [==============================] - 11s 3s/step - loss: 1.2143 - auc: 0.9332 - val_loss: 0.9063 - val_auc: 0.9283 - lr: 1.0000e-12\n",
      "Epoch 19/100\n",
      "4/4 [==============================] - ETA: 0s - loss: 1.3155 - auc: 0.9199\n",
      "Epoch 19: ReduceLROnPlateau reducing learning rate to 1.0000001044244145e-13.\n",
      "4/4 [==============================] - 11s 3s/step - loss: 1.3155 - auc: 0.9199 - val_loss: 0.8937 - val_auc: 0.9302 - lr: 1.0000e-12\n",
      "Epoch 20/100\n",
      "4/4 [==============================] - 11s 3s/step - loss: 1.2968 - auc: 0.9243 - val_loss: 0.8814 - val_auc: 0.9310 - lr: 1.0000e-13\n",
      "Epoch 21/100\n",
      "4/4 [==============================] - 12s 3s/step - loss: 1.2093 - auc: 0.9236 - val_loss: 0.8694 - val_auc: 0.9314 - lr: 1.0000e-13\n",
      "Epoch 22/100\n",
      "4/4 [==============================] - ETA: 0s - loss: 1.3772 - auc: 0.9178\n",
      "Epoch 22: ReduceLROnPlateau reducing learning rate to 1.0000001179769417e-14.\n",
      "4/4 [==============================] - 11s 3s/step - loss: 1.3772 - auc: 0.9178 - val_loss: 0.8578 - val_auc: 0.9319 - lr: 1.0000e-13\n",
      "Epoch 23/100\n",
      "4/4 [==============================] - 11s 4s/step - loss: 1.3078 - auc: 0.9220 - val_loss: 0.8465 - val_auc: 0.9319 - lr: 1.0000e-14\n",
      "Epoch 24/100\n",
      "4/4 [==============================] - 11s 3s/step - loss: 1.3636 - auc: 0.9171 - val_loss: 0.8356 - val_auc: 0.9319 - lr: 1.0000e-14\n",
      "Epoch 25/100\n",
      "4/4 [==============================] - ETA: 0s - loss: 1.3115 - auc: 0.9208\n",
      "Epoch 25: ReduceLROnPlateau reducing learning rate to 1.0000001518582595e-15.\n",
      "4/4 [==============================] - 11s 3s/step - loss: 1.3115 - auc: 0.9208 - val_loss: 0.8251 - val_auc: 0.9322 - lr: 1.0000e-14\n",
      "Epoch 26/100\n",
      "4/4 [==============================] - 11s 3s/step - loss: 1.2380 - auc: 0.9220 - val_loss: 0.8150 - val_auc: 0.9329 - lr: 1.0000e-15\n",
      "Epoch 27/100\n",
      "4/4 [==============================] - 11s 3s/step - loss: 1.1692 - auc: 0.9240 - val_loss: 0.8053 - val_auc: 0.9329 - lr: 1.0000e-15\n",
      "Epoch 28/100\n",
      "4/4 [==============================] - ETA: 0s - loss: 0.9522 - auc: 0.9437\n",
      "Epoch 28: ReduceLROnPlateau reducing learning rate to 1.0000001095066122e-16.\n",
      "4/4 [==============================] - 11s 4s/step - loss: 0.9522 - auc: 0.9437 - val_loss: 0.7961 - val_auc: 0.9333 - lr: 1.0000e-15\n",
      "Epoch 29/100\n",
      "4/4 [==============================] - 11s 3s/step - loss: 1.1603 - auc: 0.9287 - val_loss: 0.7874 - val_auc: 0.9332 - lr: 1.0000e-16\n",
      "Epoch 30/100\n",
      "4/4 [==============================] - 11s 3s/step - loss: 1.2592 - auc: 0.9248 - val_loss: 0.7791 - val_auc: 0.9332 - lr: 1.0000e-16\n",
      "Epoch 31/100\n",
      "4/4 [==============================] - ETA: 0s - loss: 1.2265 - auc: 0.9275\n",
      "Epoch 31: ReduceLROnPlateau reducing learning rate to 1.0000000830368326e-17.\n",
      "4/4 [==============================] - 11s 3s/step - loss: 1.2265 - auc: 0.9275 - val_loss: 0.7713 - val_auc: 0.9333 - lr: 1.0000e-16\n",
      "Epoch 32/100\n",
      "4/4 [==============================] - 11s 3s/step - loss: 1.2856 - auc: 0.9238 - val_loss: 0.7641 - val_auc: 0.9334 - lr: 1.0000e-17\n",
      "Epoch 33/100\n",
      "4/4 [==============================] - 12s 3s/step - loss: 1.2616 - auc: 0.9197 - val_loss: 0.7573 - val_auc: 0.9332 - lr: 1.0000e-17\n",
      "Epoch 34/100\n",
      "4/4 [==============================] - ETA: 0s - loss: 1.3658 - auc: 0.9155\n",
      "Epoch 34: ReduceLROnPlateau reducing learning rate to 1.0000000664932204e-18.\n",
      "4/4 [==============================] - 11s 3s/step - loss: 1.3658 - auc: 0.9155 - val_loss: 0.7509 - val_auc: 0.9331 - lr: 1.0000e-17\n",
      "Epoch 35/100\n",
      "4/4 [==============================] - 12s 4s/step - loss: 1.1785 - auc: 0.9322 - val_loss: 0.7451 - val_auc: 0.9334 - lr: 1.0000e-18\n",
      "Epoch 36/100\n",
      "4/4 [==============================] - 11s 4s/step - loss: 1.2384 - auc: 0.9276 - val_loss: 0.7398 - val_auc: 0.9336 - lr: 1.0000e-18\n",
      "Epoch 37/100\n",
      "4/4 [==============================] - ETA: 0s - loss: 1.4884 - auc: 0.9035\n",
      "Epoch 37: ReduceLROnPlateau reducing learning rate to 1.000000045813705e-19.\n",
      "4/4 [==============================] - 11s 4s/step - loss: 1.4884 - auc: 0.9035 - val_loss: 0.7349 - val_auc: 0.9335 - lr: 1.0000e-18\n",
      "Epoch 38/100\n",
      "4/4 [==============================] - 11s 3s/step - loss: 1.3189 - auc: 0.9188 - val_loss: 0.7305 - val_auc: 0.9336 - lr: 1.0000e-19\n",
      "Epoch 39/100\n",
      "4/4 [==============================] - 11s 3s/step - loss: 1.1906 - auc: 0.9229 - val_loss: 0.7266 - val_auc: 0.9334 - lr: 1.0000e-19\n",
      "Epoch 40/100\n",
      "4/4 [==============================] - ETA: 0s - loss: 1.3231 - auc: 0.9236\n",
      "Epoch 40: ReduceLROnPlateau reducing learning rate to 1.000000032889008e-20.\n",
      "4/4 [==============================] - 12s 3s/step - loss: 1.3231 - auc: 0.9236 - val_loss: 0.7232 - val_auc: 0.9332 - lr: 1.0000e-19\n",
      "Epoch 41/100\n",
      "4/4 [==============================] - ETA: 0s - loss: 1.2658 - auc: 0.9235Restoring model weights from the end of the best epoch: 36.\n",
      "4/4 [==============================] - 11s 3s/step - loss: 1.2658 - auc: 0.9235 - val_loss: 0.7202 - val_auc: 0.9328 - lr: 1.0000e-20\n",
      "Epoch 41: early stopping\n",
      "\t\t\u001B[94mModel trained:\u001B[0m\n",
      "\t\t\u001B[1mEvaluating...\u001B[0m\n",
      "4/4 [==============================] - 9s 2s/step - loss: 0.6571 - auc: 0.9623\n",
      "\t\t\u001B[1mTrain AUC:\u001B[0m 0.9622939229011536\n",
      "1/1 [==============================] - 2s 2s/step - loss: 0.7398 - auc: 0.9336\n",
      "\t\t\u001B[1mValidation AUC:\u001B[0m 0.9336313605308533\n",
      "1/1 [==============================] - 5s 5s/step - loss: 0.7360 - auc: 0.9369\n",
      "\t\t\u001B[1mTest AUC:\u001B[0m 0.9368993639945984\n",
      "\t\u001B[94mPseudo-labeling...\u001B[0m\n"
     ]
    }
   ],
   "execution_count": null
  },
  {
   "metadata": {},
   "cell_type": "code",
   "source": "model.model.evaluate(test_generator)",
   "id": "66c309c011581255",
   "outputs": [],
   "execution_count": null
  },
  {
   "metadata": {},
   "cell_type": "code",
   "source": [
    "pred = model.model.predict(test_generator).round().astype(int)\n",
    "\n",
    "print(\n",
    "    classification_report(\n",
    "        test_generator.img_labels, [test_generator.oh2class(p) for p in pred], \n",
    "        target_names=test_generator.CLASS_NAMES,\n",
    "        zero_division=0\n",
    "    )\n",
    ")"
   ],
   "id": "51f9244aff993af4",
   "outputs": [],
   "execution_count": null
  },
  {
   "metadata": {},
   "cell_type": "code",
   "source": [
    "cf_matrix = confusion_matrix(\n",
    "   test_generator.img_labels, [test_generator.oh2class(p) for p in pred]\n",
    ")\n",
    "\n",
    "plt.figure(figsize=(12, 12))\n",
    "vis.plot_confusion_matrix(cf_matrix)"
   ],
   "id": "3afeb6e8548cffd6",
   "outputs": [],
   "execution_count": null
  }
 ],
 "metadata": {
  "kernelspec": {
   "display_name": "Python 3",
   "language": "python",
   "name": "python3"
  },
  "language_info": {
   "codemirror_mode": {
    "name": "ipython",
    "version": 2
   },
   "file_extension": ".py",
   "mimetype": "text/x-python",
   "name": "python",
   "nbconvert_exporter": "python",
   "pygments_lexer": "ipython2",
   "version": "2.7.6"
  }
 },
 "nbformat": 4,
 "nbformat_minor": 5
}
