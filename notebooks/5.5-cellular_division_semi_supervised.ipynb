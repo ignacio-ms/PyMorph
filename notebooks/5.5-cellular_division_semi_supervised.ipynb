{
 "cells": [
  {
   "cell_type": "code",
   "id": "initial_id",
   "metadata": {
    "collapsed": true,
    "ExecuteTime": {
     "end_time": "2024-08-09T16:12:37.007243Z",
     "start_time": "2024-08-09T16:12:34.200658Z"
    }
   },
   "source": [
    "import pandas as pd\n",
    "\n",
    "import tensorflow as tf\n",
    "import json\n",
    "import numpy as np\n",
    "import pandas as pd\n",
    "import cv2\n",
    "\n",
    "import matplotlib.pyplot as plt\n",
    "import seaborn as sns\n",
    "\n",
    "from cell_division.nets.transfer_learning import CNN\n",
    "from auxiliary.data.dataset_cell import CellDataset\n",
    "from auxiliary.data.dataset_unlabeled import UnlabeledDataset\n",
    "from auxiliary import values as v\n",
    "from auxiliary.utils.colors import bcolors as c\n",
    "from auxiliary.utils import visualizer as vis\n",
    "\n",
    "from sklearn.metrics import classification_report, confusion_matrix\n",
    "from tensorflow.keras.losses import CategoricalCrossentropy\n",
    "from tensorflow.keras.layers import GlobalAveragePooling2D\n",
    "from cell_division.nets.custom_layers import (\n",
    "    w_cel_loss, \n",
    "    focal_loss,\n",
    "    ExtendedLSEPooling,\n",
    "    extended_w_cel_loss,\n",
    "    LSEPooling\n",
    ")\n",
    "\n",
    "from cell_division.nets.cam import GradCAM, overlay_heatmap, CAM, GradCAMpp\n",
    "from cell_division.semi_supervised import semi_supervised_learning as SSL\n",
    "\n",
    "# GPU config\n",
    "from auxiliary.utils.timer import LoadingBar\n",
    "from auxiliary.gpu.gpu_tf import (\n",
    "    increase_gpu_memory, \n",
    "    set_gpu_allocator, \n",
    "    clear_session\n",
    ")\n",
    "\n",
    "increase_gpu_memory()\n",
    "set_gpu_allocator()"
   ],
   "outputs": [
    {
     "ename": "ValueError",
     "evalue": "Cannot set memory growth on device when virtual devices configured",
     "output_type": "error",
     "traceback": [
      "\u001B[0;31m---------------------------------------------------------------------------\u001B[0m",
      "\u001B[0;31mValueError\u001B[0m                                Traceback (most recent call last)",
      "Cell \u001B[0;32mIn[1], line 41\u001B[0m\n\u001B[1;32m     34\u001B[0m \u001B[38;5;28;01mfrom\u001B[39;00m \u001B[38;5;21;01mauxiliary\u001B[39;00m\u001B[38;5;21;01m.\u001B[39;00m\u001B[38;5;21;01mutils\u001B[39;00m\u001B[38;5;21;01m.\u001B[39;00m\u001B[38;5;21;01mtimer\u001B[39;00m \u001B[38;5;28;01mimport\u001B[39;00m LoadingBar\n\u001B[1;32m     35\u001B[0m \u001B[38;5;28;01mfrom\u001B[39;00m \u001B[38;5;21;01mauxiliary\u001B[39;00m\u001B[38;5;21;01m.\u001B[39;00m\u001B[38;5;21;01mgpu\u001B[39;00m\u001B[38;5;21;01m.\u001B[39;00m\u001B[38;5;21;01mgpu_tf\u001B[39;00m \u001B[38;5;28;01mimport\u001B[39;00m (\n\u001B[1;32m     36\u001B[0m     increase_gpu_memory, \n\u001B[1;32m     37\u001B[0m     set_gpu_allocator, \n\u001B[1;32m     38\u001B[0m     clear_session\n\u001B[1;32m     39\u001B[0m )\n\u001B[0;32m---> 41\u001B[0m \u001B[43mincrease_gpu_memory\u001B[49m\u001B[43m(\u001B[49m\u001B[43m)\u001B[49m\n\u001B[1;32m     42\u001B[0m set_gpu_allocator()\n",
      "File \u001B[0;32m~/ht_morphogenesis/auxiliary/gpu/gpu_tf.py:15\u001B[0m, in \u001B[0;36mincrease_gpu_memory\u001B[0;34m(limit)\u001B[0m\n\u001B[1;32m     13\u001B[0m \u001B[38;5;28;01mtry\u001B[39;00m:\n\u001B[1;32m     14\u001B[0m     \u001B[38;5;28;01mfor\u001B[39;00m gpu \u001B[38;5;129;01min\u001B[39;00m gpus:\n\u001B[0;32m---> 15\u001B[0m         \u001B[43mtf\u001B[49m\u001B[38;5;241;43m.\u001B[39;49m\u001B[43mconfig\u001B[49m\u001B[38;5;241;43m.\u001B[39;49m\u001B[43mexperimental\u001B[49m\u001B[38;5;241;43m.\u001B[39;49m\u001B[43mset_memory_growth\u001B[49m\u001B[43m(\u001B[49m\u001B[43mgpu\u001B[49m\u001B[43m,\u001B[49m\u001B[43m \u001B[49m\u001B[38;5;28;43;01mTrue\u001B[39;49;00m\u001B[43m)\u001B[49m\n\u001B[1;32m     16\u001B[0m         tf\u001B[38;5;241m.\u001B[39mconfig\u001B[38;5;241m.\u001B[39mexperimental\u001B[38;5;241m.\u001B[39mset_virtual_device_configuration(\n\u001B[1;32m     17\u001B[0m             gpu,\n\u001B[1;32m     18\u001B[0m             [tf\u001B[38;5;241m.\u001B[39mconfig\u001B[38;5;241m.\u001B[39mexperimental\u001B[38;5;241m.\u001B[39mVirtualDeviceConfiguration(memory_limit\u001B[38;5;241m=\u001B[39mlimit)]\n\u001B[1;32m     19\u001B[0m         )\n\u001B[1;32m     20\u001B[0m \u001B[38;5;28;01mexcept\u001B[39;00m \u001B[38;5;167;01mRuntimeError\u001B[39;00m \u001B[38;5;28;01mas\u001B[39;00m e:\n",
      "File \u001B[0;32m~/mambaforge/envs/py310ml/lib/python3.10/site-packages/tensorflow/python/framework/config.py:713\u001B[0m, in \u001B[0;36mset_memory_growth\u001B[0;34m(device, enable)\u001B[0m\n\u001B[1;32m    688\u001B[0m \u001B[38;5;129m@tf_export\u001B[39m(\u001B[38;5;124m'\u001B[39m\u001B[38;5;124mconfig.experimental.set_memory_growth\u001B[39m\u001B[38;5;124m'\u001B[39m)\n\u001B[1;32m    689\u001B[0m \u001B[38;5;28;01mdef\u001B[39;00m \u001B[38;5;21mset_memory_growth\u001B[39m(device, enable):\n\u001B[1;32m    690\u001B[0m \u001B[38;5;250m  \u001B[39m\u001B[38;5;124;03m\"\"\"Set if memory growth should be enabled for a `PhysicalDevice`.\u001B[39;00m\n\u001B[1;32m    691\u001B[0m \n\u001B[1;32m    692\u001B[0m \u001B[38;5;124;03m  If memory growth is enabled for a `PhysicalDevice`, the runtime initialization\u001B[39;00m\n\u001B[0;32m   (...)\u001B[0m\n\u001B[1;32m    711\u001B[0m \u001B[38;5;124;03m    RuntimeError: Runtime is already initialized.\u001B[39;00m\n\u001B[1;32m    712\u001B[0m \u001B[38;5;124;03m  \"\"\"\u001B[39;00m\n\u001B[0;32m--> 713\u001B[0m   \u001B[43mcontext\u001B[49m\u001B[38;5;241;43m.\u001B[39;49m\u001B[43mcontext\u001B[49m\u001B[43m(\u001B[49m\u001B[43m)\u001B[49m\u001B[38;5;241;43m.\u001B[39;49m\u001B[43mset_memory_growth\u001B[49m\u001B[43m(\u001B[49m\u001B[43mdevice\u001B[49m\u001B[43m,\u001B[49m\u001B[43m \u001B[49m\u001B[43menable\u001B[49m\u001B[43m)\u001B[49m\n",
      "File \u001B[0;32m~/mambaforge/envs/py310ml/lib/python3.10/site-packages/tensorflow/python/eager/context.py:1577\u001B[0m, in \u001B[0;36mContext.set_memory_growth\u001B[0;34m(self, dev, enable)\u001B[0m\n\u001B[1;32m   1574\u001B[0m   \u001B[38;5;28;01mraise\u001B[39;00m \u001B[38;5;167;01mValueError\u001B[39;00m(\u001B[38;5;124m\"\u001B[39m\u001B[38;5;124mUnrecognized device: \u001B[39m\u001B[38;5;132;01m%s\u001B[39;00m\u001B[38;5;124m\"\u001B[39m \u001B[38;5;241m%\u001B[39m \u001B[38;5;28mrepr\u001B[39m(dev))\n\u001B[1;32m   1576\u001B[0m \u001B[38;5;28;01mif\u001B[39;00m dev \u001B[38;5;129;01min\u001B[39;00m \u001B[38;5;28mself\u001B[39m\u001B[38;5;241m.\u001B[39m_virtual_device_map:\n\u001B[0;32m-> 1577\u001B[0m   \u001B[38;5;28;01mraise\u001B[39;00m \u001B[38;5;167;01mValueError\u001B[39;00m(\n\u001B[1;32m   1578\u001B[0m       \u001B[38;5;124m\"\u001B[39m\u001B[38;5;124mCannot set memory growth on device when virtual devices configured\u001B[39m\u001B[38;5;124m\"\u001B[39m)\n\u001B[1;32m   1580\u001B[0m \u001B[38;5;28;01mif\u001B[39;00m dev\u001B[38;5;241m.\u001B[39mdevice_type \u001B[38;5;241m!=\u001B[39m \u001B[38;5;124m\"\u001B[39m\u001B[38;5;124mGPU\u001B[39m\u001B[38;5;124m\"\u001B[39m:\n\u001B[1;32m   1581\u001B[0m   \u001B[38;5;28;01mraise\u001B[39;00m \u001B[38;5;167;01mValueError\u001B[39;00m(\u001B[38;5;124m\"\u001B[39m\u001B[38;5;124mCannot set memory growth on non-GPU devices\u001B[39m\u001B[38;5;124m\"\u001B[39m)\n",
      "\u001B[0;31mValueError\u001B[0m: Cannot set memory growth on device when virtual devices configured"
     ]
    }
   ],
   "execution_count": 1
  },
  {
   "metadata": {
    "ExecuteTime": {
     "end_time": "2024-08-09T16:12:37.869816Z",
     "start_time": "2024-08-09T16:12:37.864326Z"
    }
   },
   "cell_type": "code",
   "source": [
    "img_dir = v.data_path + 'CellDivision/images_nuclei/'\n",
    "img_dir_unlabeled = v.data_path + 'CellDivision/images_unlabeled/'\n",
    "\n",
    "label_train_dir = v.data_path + 'CellDivision/undersampled/train.csv'\n",
    "label_test_dir = v.data_path + 'CellDivision/undersampled/test.csv'\n",
    "label_val_dir = v.data_path + 'CellDivision/undersampled/val.csv'\n",
    "\n",
    "INPUT_SHAPE = (100, 100, 3)\n",
    "BATCH_SIZE = 64"
   ],
   "id": "a1afd82f2525feb7",
   "outputs": [],
   "execution_count": 2
  },
  {
   "metadata": {
    "ExecuteTime": {
     "end_time": "2024-08-09T16:12:39.889068Z",
     "start_time": "2024-08-09T16:12:38.430608Z"
    }
   },
   "cell_type": "code",
   "source": [
    "train_generator = CellDataset(\n",
    "    img_dir, \n",
    "    label_train_dir,\n",
    "    batch_size=BATCH_SIZE,\n",
    "    resize=INPUT_SHAPE[:2]\n",
    ")\n",
    "\n",
    "val_generator = CellDataset(\n",
    "    img_dir, \n",
    "    label_val_dir,\n",
    "    batch_size=BATCH_SIZE,\n",
    "    resize=INPUT_SHAPE[:2]\n",
    ")\n",
    "\n",
    "test_generator = CellDataset(\n",
    "    img_dir, \n",
    "    label_test_dir,\n",
    "    batch_size=BATCH_SIZE,\n",
    "    resize=INPUT_SHAPE[:2]\n",
    ")\n",
    "\n",
    "unlabeled_generator = UnlabeledDataset(\n",
    "    img_dir_unlabeled,\n",
    "    batch_size=1,\n",
    "    resize=INPUT_SHAPE[:2]\n",
    ")"
   ],
   "id": "64e98694d41986fe",
   "outputs": [],
   "execution_count": 3
  },
  {
   "metadata": {
    "ExecuteTime": {
     "end_time": "2024-08-09T16:12:40.555531Z",
     "start_time": "2024-08-09T16:12:39.890838Z"
    }
   },
   "cell_type": "code",
   "source": [
    "model = CNN(\n",
    "    base=tf.keras.applications.VGG16,\n",
    "    input_shape=INPUT_SHAPE,\n",
    "    n_classes=3\n",
    ")\n",
    "model.build_top(activation='softmax', b_type='CAM', pooling=ExtendedLSEPooling)\n",
    "model.compile(\n",
    "    lr=.001,\n",
    "    loss=extended_w_cel_loss()\n",
    ")"
   ],
   "id": "3747c34497d9ef9e",
   "outputs": [],
   "execution_count": 4
  },
  {
   "metadata": {
    "jupyter": {
     "is_executing": true
    },
    "ExecuteTime": {
     "start_time": "2024-08-12T07:33:33.432007Z"
    }
   },
   "cell_type": "code",
   "source": [
    "model = SSL(\n",
    "    model, \n",
    "    train_generator, val_generator, test_generator,\n",
    "    unlabeled_generator,\n",
    "    max_iter=20,\n",
    "    verbose=1\n",
    ")\n",
    "model.model.save('../models/cellular_division_models/vgg16_semi.h5')"
   ],
   "id": "97d72a54693578ac",
   "outputs": [
    {
     "name": "stdout",
     "output_type": "stream",
     "text": [
      "\u001B[92mIteration:\u001B[0m 1\n",
      "\t\u001B[94mPre-training...\u001B[0m\n",
      "Epoch 1/100\n",
      "7/7 [==============================] - 19s 3s/step - loss: 1.0340 - auc: 0.9340 - val_loss: 0.7742 - val_auc: 0.9515 - lr: 1.0000e-14\n",
      "Epoch 2/100\n",
      "7/7 [==============================] - 11s 2s/step - loss: 0.9560 - auc: 0.9308 - val_loss: 0.7572 - val_auc: 0.9515 - lr: 1.0000e-14\n",
      "Epoch 3/100\n",
      "7/7 [==============================] - 11s 2s/step - loss: 1.2635 - auc: 0.9231 - val_loss: 0.7413 - val_auc: 0.9513 - lr: 1.0000e-14\n",
      "Epoch 4/100\n",
      "7/7 [==============================] - 11s 2s/step - loss: 1.2855 - auc: 0.9195 - val_loss: 0.7265 - val_auc: 0.9513 - lr: 1.0000e-14\n",
      "Epoch 5/100\n",
      "7/7 [==============================] - 11s 2s/step - loss: 1.2112 - auc: 0.9236 - val_loss: 0.7127 - val_auc: 0.9510 - lr: 1.0000e-14\n",
      "Epoch 6/100\n",
      "7/7 [==============================] - ETA: 0s - loss: 1.2465 - auc: 0.9171Restoring model weights from the end of the best epoch: 1.\n",
      "7/7 [==============================] - 11s 2s/step - loss: 1.2465 - auc: 0.9171 - val_loss: 0.7001 - val_auc: 0.9507 - lr: 1.0000e-14\n",
      "Epoch 6: early stopping\n",
      "\t\t\u001B[94mModel trained:\u001B[0m\n",
      "\t\t\u001B[1mEvaluating...\u001B[0m\n",
      "7/7 [==============================] - 9s 1s/step - loss: 0.7398 - auc: 0.9662\n",
      "\t\t\u001B[1mTrain AUC:\u001B[0m 0.9662057161331177\n",
      "2/2 [==============================] - 2s 785ms/step - loss: 0.7742 - auc: 0.9515\n",
      "\t\t\u001B[1mValidation AUC:\u001B[0m 0.9514850378036499\n",
      "2/2 [==============================] - 4s 3s/step - loss: 0.8054 - auc: 0.9337\n",
      "\t\t\u001B[1mTest AUC:\u001B[0m 0.9337219595909119\n",
      "\t\u001B[94mPseudo-labeling...\u001B[0m\n"
     ]
    }
   ],
   "execution_count": null
  },
  {
   "metadata": {},
   "cell_type": "code",
   "source": "model.model.evaluate(test_generator)",
   "id": "66c309c011581255",
   "outputs": [],
   "execution_count": null
  },
  {
   "metadata": {},
   "cell_type": "code",
   "source": [
    "pred = model.model.predict(test_generator).round().astype(int)\n",
    "\n",
    "print(\n",
    "    classification_report(\n",
    "        test_generator.img_labels, [test_generator.oh2class(p) for p in pred], \n",
    "        target_names=test_generator.CLASS_NAMES,\n",
    "        zero_division=0\n",
    "    )\n",
    ")"
   ],
   "id": "51f9244aff993af4",
   "outputs": [],
   "execution_count": null
  },
  {
   "metadata": {},
   "cell_type": "code",
   "source": [
    "cf_matrix = confusion_matrix(\n",
    "   test_generator.img_labels, [test_generator.oh2class(p) for p in pred]\n",
    ")\n",
    "\n",
    "plt.figure(figsize=(12, 12))\n",
    "vis.plot_confusion_matrix(cf_matrix)"
   ],
   "id": "3afeb6e8548cffd6",
   "outputs": [],
   "execution_count": null
  }
 ],
 "metadata": {
  "kernelspec": {
   "display_name": "Python 3",
   "language": "python",
   "name": "python3"
  },
  "language_info": {
   "codemirror_mode": {
    "name": "ipython",
    "version": 2
   },
   "file_extension": ".py",
   "mimetype": "text/x-python",
   "name": "python",
   "nbconvert_exporter": "python",
   "pygments_lexer": "ipython2",
   "version": "2.7.6"
  }
 },
 "nbformat": 4,
 "nbformat_minor": 5
}
