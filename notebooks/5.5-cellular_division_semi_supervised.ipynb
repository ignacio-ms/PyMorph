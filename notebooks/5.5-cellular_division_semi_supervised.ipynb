{
 "cells": [
  {
   "cell_type": "code",
   "id": "initial_id",
   "metadata": {
    "collapsed": true,
    "ExecuteTime": {
     "end_time": "2024-08-14T07:53:48.574671Z",
     "start_time": "2024-08-14T07:53:43.581433Z"
    }
   },
   "source": [
    "import pandas as pd\n",
    "\n",
    "import tensorflow as tf\n",
    "import json\n",
    "import numpy as np\n",
    "import pandas as pd\n",
    "import cv2\n",
    "\n",
    "import matplotlib.pyplot as plt\n",
    "import seaborn as sns\n",
    "\n",
    "from cell_division.nets.transfer_learning import CNN\n",
    "from auxiliary.data.dataset_cell import CellDataset\n",
    "from auxiliary.data.dataset_unlabeled import UnlabeledDataset\n",
    "from auxiliary import values as v\n",
    "from auxiliary.utils.colors import bcolors as c\n",
    "from auxiliary.utils import visualizer as vis\n",
    "\n",
    "from sklearn.metrics import classification_report, confusion_matrix\n",
    "from tensorflow.keras.losses import CategoricalCrossentropy\n",
    "from tensorflow.keras.layers import GlobalAveragePooling2D\n",
    "from cell_division.nets.custom_layers import (\n",
    "    w_cel_loss, \n",
    "    focal_loss,\n",
    "    ExtendedLSEPooling,\n",
    "    extended_w_cel_loss,\n",
    "    LSEPooling\n",
    ")\n",
    "\n",
    "from cell_division.nets.cam import GradCAM, overlay_heatmap, CAM, GradCAMpp\n",
    "from cell_division.semi_supervised import semi_supervised_learning as SSL\n",
    "\n",
    "# GPU config\n",
    "from auxiliary.utils.timer import LoadingBar\n",
    "from auxiliary.gpu.gpu_tf import (\n",
    "    increase_gpu_memory, \n",
    "    set_gpu_allocator, \n",
    "    clear_session\n",
    ")\n",
    "\n",
    "increase_gpu_memory()\n",
    "# set_gpu_allocator()"
   ],
   "outputs": [
    {
     "ename": "ValueError",
     "evalue": "Cannot set memory growth on device when virtual devices configured",
     "output_type": "error",
     "traceback": [
      "\u001B[0;31m---------------------------------------------------------------------------\u001B[0m",
      "\u001B[0;31mValueError\u001B[0m                                Traceback (most recent call last)",
      "Cell \u001B[0;32mIn[1], line 41\u001B[0m\n\u001B[1;32m     34\u001B[0m \u001B[38;5;28;01mfrom\u001B[39;00m \u001B[38;5;21;01mauxiliary\u001B[39;00m\u001B[38;5;21;01m.\u001B[39;00m\u001B[38;5;21;01mutils\u001B[39;00m\u001B[38;5;21;01m.\u001B[39;00m\u001B[38;5;21;01mtimer\u001B[39;00m \u001B[38;5;28;01mimport\u001B[39;00m LoadingBar\n\u001B[1;32m     35\u001B[0m \u001B[38;5;28;01mfrom\u001B[39;00m \u001B[38;5;21;01mauxiliary\u001B[39;00m\u001B[38;5;21;01m.\u001B[39;00m\u001B[38;5;21;01mgpu\u001B[39;00m\u001B[38;5;21;01m.\u001B[39;00m\u001B[38;5;21;01mgpu_tf\u001B[39;00m \u001B[38;5;28;01mimport\u001B[39;00m (\n\u001B[1;32m     36\u001B[0m     increase_gpu_memory, \n\u001B[1;32m     37\u001B[0m     set_gpu_allocator, \n\u001B[1;32m     38\u001B[0m     clear_session\n\u001B[1;32m     39\u001B[0m )\n\u001B[0;32m---> 41\u001B[0m \u001B[43mincrease_gpu_memory\u001B[49m\u001B[43m(\u001B[49m\u001B[43m)\u001B[49m\n\u001B[1;32m     42\u001B[0m \u001B[38;5;66;03m# set_gpu_allocator()\u001B[39;00m\n",
      "File \u001B[0;32m~/ht_morphogenesis/auxiliary/gpu/gpu_tf.py:15\u001B[0m, in \u001B[0;36mincrease_gpu_memory\u001B[0;34m(limit)\u001B[0m\n\u001B[1;32m     13\u001B[0m \u001B[38;5;28;01mtry\u001B[39;00m:\n\u001B[1;32m     14\u001B[0m     \u001B[38;5;28;01mfor\u001B[39;00m gpu \u001B[38;5;129;01min\u001B[39;00m gpus:\n\u001B[0;32m---> 15\u001B[0m         \u001B[43mtf\u001B[49m\u001B[38;5;241;43m.\u001B[39;49m\u001B[43mconfig\u001B[49m\u001B[38;5;241;43m.\u001B[39;49m\u001B[43mexperimental\u001B[49m\u001B[38;5;241;43m.\u001B[39;49m\u001B[43mset_memory_growth\u001B[49m\u001B[43m(\u001B[49m\u001B[43mgpu\u001B[49m\u001B[43m,\u001B[49m\u001B[43m \u001B[49m\u001B[38;5;28;43;01mTrue\u001B[39;49;00m\u001B[43m)\u001B[49m\n\u001B[1;32m     16\u001B[0m         tf\u001B[38;5;241m.\u001B[39mconfig\u001B[38;5;241m.\u001B[39mexperimental\u001B[38;5;241m.\u001B[39mset_virtual_device_configuration(\n\u001B[1;32m     17\u001B[0m             gpu,\n\u001B[1;32m     18\u001B[0m             [tf\u001B[38;5;241m.\u001B[39mconfig\u001B[38;5;241m.\u001B[39mexperimental\u001B[38;5;241m.\u001B[39mVirtualDeviceConfiguration(memory_limit\u001B[38;5;241m=\u001B[39mlimit)]\n\u001B[1;32m     19\u001B[0m         )\n\u001B[1;32m     20\u001B[0m \u001B[38;5;28;01mexcept\u001B[39;00m \u001B[38;5;167;01mRuntimeError\u001B[39;00m \u001B[38;5;28;01mas\u001B[39;00m e:\n",
      "File \u001B[0;32m~/mambaforge/envs/py310ml/lib/python3.10/site-packages/tensorflow/python/framework/config.py:713\u001B[0m, in \u001B[0;36mset_memory_growth\u001B[0;34m(device, enable)\u001B[0m\n\u001B[1;32m    688\u001B[0m \u001B[38;5;129m@tf_export\u001B[39m(\u001B[38;5;124m'\u001B[39m\u001B[38;5;124mconfig.experimental.set_memory_growth\u001B[39m\u001B[38;5;124m'\u001B[39m)\n\u001B[1;32m    689\u001B[0m \u001B[38;5;28;01mdef\u001B[39;00m \u001B[38;5;21mset_memory_growth\u001B[39m(device, enable):\n\u001B[1;32m    690\u001B[0m \u001B[38;5;250m  \u001B[39m\u001B[38;5;124;03m\"\"\"Set if memory growth should be enabled for a `PhysicalDevice`.\u001B[39;00m\n\u001B[1;32m    691\u001B[0m \n\u001B[1;32m    692\u001B[0m \u001B[38;5;124;03m  If memory growth is enabled for a `PhysicalDevice`, the runtime initialization\u001B[39;00m\n\u001B[0;32m   (...)\u001B[0m\n\u001B[1;32m    711\u001B[0m \u001B[38;5;124;03m    RuntimeError: Runtime is already initialized.\u001B[39;00m\n\u001B[1;32m    712\u001B[0m \u001B[38;5;124;03m  \"\"\"\u001B[39;00m\n\u001B[0;32m--> 713\u001B[0m   \u001B[43mcontext\u001B[49m\u001B[38;5;241;43m.\u001B[39;49m\u001B[43mcontext\u001B[49m\u001B[43m(\u001B[49m\u001B[43m)\u001B[49m\u001B[38;5;241;43m.\u001B[39;49m\u001B[43mset_memory_growth\u001B[49m\u001B[43m(\u001B[49m\u001B[43mdevice\u001B[49m\u001B[43m,\u001B[49m\u001B[43m \u001B[49m\u001B[43menable\u001B[49m\u001B[43m)\u001B[49m\n",
      "File \u001B[0;32m~/mambaforge/envs/py310ml/lib/python3.10/site-packages/tensorflow/python/eager/context.py:1577\u001B[0m, in \u001B[0;36mContext.set_memory_growth\u001B[0;34m(self, dev, enable)\u001B[0m\n\u001B[1;32m   1574\u001B[0m   \u001B[38;5;28;01mraise\u001B[39;00m \u001B[38;5;167;01mValueError\u001B[39;00m(\u001B[38;5;124m\"\u001B[39m\u001B[38;5;124mUnrecognized device: \u001B[39m\u001B[38;5;132;01m%s\u001B[39;00m\u001B[38;5;124m\"\u001B[39m \u001B[38;5;241m%\u001B[39m \u001B[38;5;28mrepr\u001B[39m(dev))\n\u001B[1;32m   1576\u001B[0m \u001B[38;5;28;01mif\u001B[39;00m dev \u001B[38;5;129;01min\u001B[39;00m \u001B[38;5;28mself\u001B[39m\u001B[38;5;241m.\u001B[39m_virtual_device_map:\n\u001B[0;32m-> 1577\u001B[0m   \u001B[38;5;28;01mraise\u001B[39;00m \u001B[38;5;167;01mValueError\u001B[39;00m(\n\u001B[1;32m   1578\u001B[0m       \u001B[38;5;124m\"\u001B[39m\u001B[38;5;124mCannot set memory growth on device when virtual devices configured\u001B[39m\u001B[38;5;124m\"\u001B[39m)\n\u001B[1;32m   1580\u001B[0m \u001B[38;5;28;01mif\u001B[39;00m dev\u001B[38;5;241m.\u001B[39mdevice_type \u001B[38;5;241m!=\u001B[39m \u001B[38;5;124m\"\u001B[39m\u001B[38;5;124mGPU\u001B[39m\u001B[38;5;124m\"\u001B[39m:\n\u001B[1;32m   1581\u001B[0m   \u001B[38;5;28;01mraise\u001B[39;00m \u001B[38;5;167;01mValueError\u001B[39;00m(\u001B[38;5;124m\"\u001B[39m\u001B[38;5;124mCannot set memory growth on non-GPU devices\u001B[39m\u001B[38;5;124m\"\u001B[39m)\n",
      "\u001B[0;31mValueError\u001B[0m: Cannot set memory growth on device when virtual devices configured"
     ]
    }
   ],
   "execution_count": 1
  },
  {
   "metadata": {
    "ExecuteTime": {
     "end_time": "2024-08-14T07:53:49.356058Z",
     "start_time": "2024-08-14T07:53:49.350730Z"
    }
   },
   "cell_type": "code",
   "source": [
    "img_dir = v.data_path + 'CellDivision/images_nuclei/'\n",
    "img_dir_unlabeled = v.data_path + 'CellDivision/images_unlabeled/'\n",
    "\n",
    "label_train_dir = v.data_path + 'CellDivision/undersampled/train.csv'\n",
    "label_test_dir = v.data_path + 'CellDivision/undersampled/test.csv'\n",
    "label_val_dir = v.data_path + 'CellDivision/undersampled/val.csv'\n",
    "\n",
    "INPUT_SHAPE = (100, 100, 3)\n",
    "BATCH_SIZE = 64"
   ],
   "id": "a1afd82f2525feb7",
   "outputs": [],
   "execution_count": 2
  },
  {
   "metadata": {
    "ExecuteTime": {
     "end_time": "2024-08-14T07:53:55.802326Z",
     "start_time": "2024-08-14T07:53:50.881141Z"
    }
   },
   "cell_type": "code",
   "source": [
    "train_generator = CellDataset(\n",
    "    img_dir, \n",
    "    label_train_dir,\n",
    "    batch_size=BATCH_SIZE,\n",
    "    resize=INPUT_SHAPE[:2]\n",
    ")\n",
    "\n",
    "val_generator = CellDataset(\n",
    "    img_dir, \n",
    "    label_val_dir,\n",
    "    batch_size=BATCH_SIZE,\n",
    "    resize=INPUT_SHAPE[:2]\n",
    ")\n",
    "\n",
    "test_generator = CellDataset(\n",
    "    img_dir, \n",
    "    label_test_dir,\n",
    "    batch_size=BATCH_SIZE,\n",
    "    resize=INPUT_SHAPE[:2]\n",
    ")\n",
    "\n",
    "unlabeled_generator = UnlabeledDataset(\n",
    "    img_dir_unlabeled,\n",
    "    batch_size=1,\n",
    "    resize=INPUT_SHAPE[:2]\n",
    ")"
   ],
   "id": "64e98694d41986fe",
   "outputs": [],
   "execution_count": 3
  },
  {
   "metadata": {
    "ExecuteTime": {
     "end_time": "2024-08-14T07:53:57.532886Z",
     "start_time": "2024-08-14T07:53:56.488489Z"
    }
   },
   "cell_type": "code",
   "source": [
    "model = CNN(\n",
    "    base=tf.keras.applications.VGG16,\n",
    "    input_shape=INPUT_SHAPE,\n",
    "    n_classes=3\n",
    ")\n",
    "model.build_top(activation='softmax', b_type='CAM', pooling=ExtendedLSEPooling)\n",
    "model.compile(\n",
    "    lr=.001,\n",
    "    loss=extended_w_cel_loss()\n",
    ")"
   ],
   "id": "3747c34497d9ef9e",
   "outputs": [],
   "execution_count": 4
  },
  {
   "metadata": {
    "ExecuteTime": {
     "end_time": "2024-08-13T16:48:19.966985Z",
     "start_time": "2024-08-13T13:56:04.184441Z"
    }
   },
   "cell_type": "code",
   "source": [
    "model = SSL(\n",
    "    model, \n",
    "    train_generator, val_generator, test_generator,\n",
    "    unlabeled_generator,\n",
    "    max_iter=10,\n",
    "    verbose=1\n",
    ")\n",
    "model.model.save('../models/cellular_division_models/vgg16_semi.h5')"
   ],
   "id": "97d72a54693578ac",
   "outputs": [
    {
     "name": "stdout",
     "output_type": "stream",
     "text": [
      "\u001B[92mIteration:\u001B[0m 1\n",
      "\t\u001B[94mPre-training...\u001B[0m\n",
      "Epoch 1/100\n",
      "7/7 [==============================] - 11s 2s/step - loss: 0.9240 - auc: 0.9477 - val_loss: 1.2188 - val_auc: 0.7783 - lr: 1.0000e-04\n",
      "Epoch 2/100\n",
      "7/7 [==============================] - 11s 2s/step - loss: 1.0591 - auc: 0.9407 - val_loss: 1.1991 - val_auc: 0.7918 - lr: 1.0000e-04\n",
      "Epoch 3/100\n",
      "7/7 [==============================] - 10s 2s/step - loss: 0.8943 - auc: 0.9462 - val_loss: 1.1802 - val_auc: 0.8050 - lr: 1.0000e-04\n",
      "Epoch 4/100\n",
      "7/7 [==============================] - ETA: 0s - loss: 0.9026 - auc: 0.9442\n",
      "Epoch 4: ReduceLROnPlateau reducing learning rate to 1.0000000474974514e-05.\n",
      "7/7 [==============================] - 10s 2s/step - loss: 0.9026 - auc: 0.9442 - val_loss: 1.1533 - val_auc: 0.8213 - lr: 1.0000e-04\n",
      "Epoch 5/100\n",
      "7/7 [==============================] - 10s 2s/step - loss: 1.0850 - auc: 0.9334 - val_loss: 1.1299 - val_auc: 0.8326 - lr: 1.0000e-05\n",
      "Epoch 6/100\n",
      "7/7 [==============================] - 11s 2s/step - loss: 0.8150 - auc: 0.9513 - val_loss: 1.1058 - val_auc: 0.8427 - lr: 1.0000e-05\n",
      "Epoch 7/100\n",
      "7/7 [==============================] - ETA: 0s - loss: 0.8604 - auc: 0.9495\n",
      "Epoch 7: ReduceLROnPlateau reducing learning rate to 1.0000000656873453e-06.\n",
      "7/7 [==============================] - 11s 2s/step - loss: 0.8604 - auc: 0.9495 - val_loss: 1.0814 - val_auc: 0.8529 - lr: 1.0000e-05\n",
      "Epoch 8/100\n",
      "7/7 [==============================] - 11s 2s/step - loss: 0.9408 - auc: 0.9445 - val_loss: 1.0570 - val_auc: 0.8616 - lr: 1.0000e-06\n",
      "Epoch 9/100\n",
      "7/7 [==============================] - 11s 2s/step - loss: 0.9556 - auc: 0.9411 - val_loss: 1.0323 - val_auc: 0.8724 - lr: 1.0000e-06\n",
      "Epoch 10/100\n",
      "7/7 [==============================] - ETA: 0s - loss: 1.0342 - auc: 0.9369\n",
      "Epoch 10: ReduceLROnPlateau reducing learning rate to 1.0000001111620805e-07.\n",
      "7/7 [==============================] - 11s 2s/step - loss: 1.0342 - auc: 0.9369 - val_loss: 1.0075 - val_auc: 0.8829 - lr: 1.0000e-06\n",
      "Epoch 11/100\n",
      "7/7 [==============================] - 11s 2s/step - loss: 0.9494 - auc: 0.9410 - val_loss: 0.9825 - val_auc: 0.8926 - lr: 1.0000e-07\n",
      "Epoch 12/100\n",
      "7/7 [==============================] - 11s 2s/step - loss: 0.9910 - auc: 0.9465 - val_loss: 0.9576 - val_auc: 0.9020 - lr: 1.0000e-07\n",
      "Epoch 13/100\n",
      "7/7 [==============================] - ETA: 0s - loss: 0.8756 - auc: 0.9460\n",
      "Epoch 13: ReduceLROnPlateau reducing learning rate to 1.000000082740371e-08.\n",
      "7/7 [==============================] - 11s 2s/step - loss: 0.8756 - auc: 0.9460 - val_loss: 0.9328 - val_auc: 0.9106 - lr: 1.0000e-07\n",
      "Epoch 14/100\n",
      "7/7 [==============================] - 12s 2s/step - loss: 0.9292 - auc: 0.9377 - val_loss: 0.9083 - val_auc: 0.9171 - lr: 1.0000e-08\n",
      "Epoch 15/100\n",
      "7/7 [==============================] - 11s 2s/step - loss: 0.8451 - auc: 0.9451 - val_loss: 0.8842 - val_auc: 0.9242 - lr: 1.0000e-08\n",
      "Epoch 16/100\n",
      "7/7 [==============================] - ETA: 0s - loss: 0.8280 - auc: 0.9476\n",
      "Epoch 16: ReduceLROnPlateau reducing learning rate to 1.000000082740371e-09.\n",
      "7/7 [==============================] - 12s 2s/step - loss: 0.8280 - auc: 0.9476 - val_loss: 0.8606 - val_auc: 0.9293 - lr: 1.0000e-08\n",
      "Epoch 17/100\n",
      "7/7 [==============================] - 12s 2s/step - loss: 1.1112 - auc: 0.9295 - val_loss: 0.8377 - val_auc: 0.9337 - lr: 1.0000e-09\n",
      "Epoch 18/100\n",
      "7/7 [==============================] - 11s 2s/step - loss: 1.0125 - auc: 0.9385 - val_loss: 0.8156 - val_auc: 0.9371 - lr: 1.0000e-09\n",
      "Epoch 19/100\n",
      "7/7 [==============================] - ETA: 0s - loss: 0.8852 - auc: 0.9508\n",
      "Epoch 19: ReduceLROnPlateau reducing learning rate to 1.000000082740371e-10.\n",
      "7/7 [==============================] - 12s 2s/step - loss: 0.8852 - auc: 0.9508 - val_loss: 0.7945 - val_auc: 0.9402 - lr: 1.0000e-09\n",
      "Epoch 20/100\n",
      "7/7 [==============================] - 11s 2s/step - loss: 0.9695 - auc: 0.9438 - val_loss: 0.7744 - val_auc: 0.9424 - lr: 1.0000e-10\n",
      "Epoch 21/100\n",
      "7/7 [==============================] - 12s 2s/step - loss: 0.9424 - auc: 0.9433 - val_loss: 0.7553 - val_auc: 0.9443 - lr: 1.0000e-10\n",
      "Epoch 22/100\n",
      "7/7 [==============================] - ETA: 0s - loss: 0.9025 - auc: 0.9473\n",
      "Epoch 22: ReduceLROnPlateau reducing learning rate to 1.000000082740371e-11.\n",
      "7/7 [==============================] - 12s 2s/step - loss: 0.9025 - auc: 0.9473 - val_loss: 0.7373 - val_auc: 0.9462 - lr: 1.0000e-10\n",
      "Epoch 23/100\n",
      "7/7 [==============================] - 11s 2s/step - loss: 0.9710 - auc: 0.9416 - val_loss: 0.7205 - val_auc: 0.9474 - lr: 1.0000e-11\n",
      "Epoch 24/100\n",
      "7/7 [==============================] - 11s 2s/step - loss: 0.9897 - auc: 0.9377 - val_loss: 0.7049 - val_auc: 0.9483 - lr: 1.0000e-11\n",
      "Epoch 25/100\n",
      "7/7 [==============================] - ETA: 0s - loss: 0.8569 - auc: 0.9509\n",
      "Epoch 25: ReduceLROnPlateau reducing learning rate to 1.000000082740371e-12.\n",
      "7/7 [==============================] - 12s 2s/step - loss: 0.8569 - auc: 0.9509 - val_loss: 0.6905 - val_auc: 0.9493 - lr: 1.0000e-11\n",
      "Epoch 26/100\n",
      "7/7 [==============================] - 12s 2s/step - loss: 0.9221 - auc: 0.9377 - val_loss: 0.6773 - val_auc: 0.9499 - lr: 1.0000e-12\n",
      "Epoch 27/100\n",
      "7/7 [==============================] - 12s 2s/step - loss: 0.9170 - auc: 0.9485 - val_loss: 0.6653 - val_auc: 0.9498 - lr: 1.0000e-12\n",
      "Epoch 28/100\n",
      "7/7 [==============================] - ETA: 0s - loss: 1.0685 - auc: 0.9311\n",
      "Epoch 28: ReduceLROnPlateau reducing learning rate to 1.0000001044244145e-13.\n",
      "7/7 [==============================] - 12s 2s/step - loss: 1.0685 - auc: 0.9311 - val_loss: 0.6545 - val_auc: 0.9504 - lr: 1.0000e-12\n",
      "Epoch 29/100\n",
      "7/7 [==============================] - 12s 2s/step - loss: 0.9675 - auc: 0.9424 - val_loss: 0.6449 - val_auc: 0.9507 - lr: 1.0000e-13\n",
      "Epoch 30/100\n",
      "7/7 [==============================] - 11s 2s/step - loss: 0.9396 - auc: 0.9406 - val_loss: 0.6364 - val_auc: 0.9507 - lr: 1.0000e-13\n",
      "Epoch 31/100\n",
      "7/7 [==============================] - ETA: 0s - loss: 0.9371 - auc: 0.9463\n",
      "Epoch 31: ReduceLROnPlateau reducing learning rate to 1.0000001179769417e-14.\n",
      "7/7 [==============================] - 12s 2s/step - loss: 0.9371 - auc: 0.9463 - val_loss: 0.6291 - val_auc: 0.9511 - lr: 1.0000e-13\n",
      "Epoch 32/100\n",
      "7/7 [==============================] - 12s 2s/step - loss: 1.0970 - auc: 0.9302 - val_loss: 0.6228 - val_auc: 0.9509 - lr: 1.0000e-14\n",
      "Epoch 33/100\n",
      "7/7 [==============================] - 12s 2s/step - loss: 1.0031 - auc: 0.9408 - val_loss: 0.6176 - val_auc: 0.9508 - lr: 1.0000e-14\n",
      "Epoch 34/100\n",
      "7/7 [==============================] - ETA: 0s - loss: 0.7774 - auc: 0.9576\n",
      "Epoch 34: ReduceLROnPlateau reducing learning rate to 1.0000001518582595e-15.\n",
      "7/7 [==============================] - 12s 2s/step - loss: 0.7774 - auc: 0.9576 - val_loss: 0.6133 - val_auc: 0.9509 - lr: 1.0000e-14\n",
      "Epoch 35/100\n",
      "7/7 [==============================] - 12s 2s/step - loss: 1.1014 - auc: 0.9324 - val_loss: 0.6101 - val_auc: 0.9505 - lr: 1.0000e-15\n",
      "Epoch 36/100\n",
      "7/7 [==============================] - ETA: 0s - loss: 0.9693 - auc: 0.9429Restoring model weights from the end of the best epoch: 31.\n",
      "7/7 [==============================] - 11s 2s/step - loss: 0.9693 - auc: 0.9429 - val_loss: 0.6077 - val_auc: 0.9504 - lr: 1.0000e-15\n",
      "Epoch 36: early stopping\n",
      "\t\t\u001B[94mModel trained:\u001B[0m\n",
      "\t\t\u001B[1mEvaluating...\u001B[0m\n",
      "7/7 [==============================] - 10s 1s/step - loss: 0.5431 - auc: 0.9707\n",
      "\t\t\u001B[1mTrain AUC:\u001B[0m 0.9707289934158325\n",
      "2/2 [==============================] - 2s 783ms/step - loss: 0.6291 - auc: 0.9511\n",
      "\t\t\u001B[1mValidation AUC:\u001B[0m 0.9511245489120483\n",
      "2/2 [==============================] - 5s 3s/step - loss: 0.6904 - auc: 0.9360\n",
      "\t\t\u001B[1mTest AUC:\u001B[0m 0.9360313415527344\n",
      "\t\u001B[94mPseudo-labeling...\u001B[0m\n",
      "\u001B[94mPseudo-labeling results\u001B[0m\n",
      "Pseudo-labels: 30776\n",
      "Pseudo-labels distribution: [ 1007   150 29619]\n",
      "\u001B[94mUndersampling results\u001B[0m\n",
      "Pseudo-labels: 450\n",
      "Pseudo-labels distribution: [150 150 150]\n",
      "\u001B[94mSplitting pseudo-labeled images into 2D slices...\u001B[0m\n"
     ]
    },
    {
     "ename": "IndexError",
     "evalue": "tuple index out of range",
     "output_type": "error",
     "traceback": [
      "\u001B[0;31m---------------------------------------------------------------------------\u001B[0m",
      "\u001B[0;31mIndexError\u001B[0m                                Traceback (most recent call last)",
      "Cell \u001B[0;32mIn[9], line 1\u001B[0m\n\u001B[0;32m----> 1\u001B[0m model \u001B[38;5;241m=\u001B[39m \u001B[43mSSL\u001B[49m\u001B[43m(\u001B[49m\n\u001B[1;32m      2\u001B[0m \u001B[43m    \u001B[49m\u001B[43mmodel\u001B[49m\u001B[43m,\u001B[49m\u001B[43m \u001B[49m\n\u001B[1;32m      3\u001B[0m \u001B[43m    \u001B[49m\u001B[43mtrain_generator\u001B[49m\u001B[43m,\u001B[49m\u001B[43m \u001B[49m\u001B[43mval_generator\u001B[49m\u001B[43m,\u001B[49m\u001B[43m \u001B[49m\u001B[43mtest_generator\u001B[49m\u001B[43m,\u001B[49m\n\u001B[1;32m      4\u001B[0m \u001B[43m    \u001B[49m\u001B[43munlabeled_generator\u001B[49m\u001B[43m,\u001B[49m\n\u001B[1;32m      5\u001B[0m \u001B[43m    \u001B[49m\u001B[43mmax_iter\u001B[49m\u001B[38;5;241;43m=\u001B[39;49m\u001B[38;5;241;43m10\u001B[39;49m\u001B[43m,\u001B[49m\n\u001B[1;32m      6\u001B[0m \u001B[43m    \u001B[49m\u001B[43mverbose\u001B[49m\u001B[38;5;241;43m=\u001B[39;49m\u001B[38;5;241;43m1\u001B[39;49m\n\u001B[1;32m      7\u001B[0m \u001B[43m)\u001B[49m\n\u001B[1;32m      8\u001B[0m model\u001B[38;5;241m.\u001B[39mmodel\u001B[38;5;241m.\u001B[39msave(\u001B[38;5;124m'\u001B[39m\u001B[38;5;124m../models/cellular_division_models/vgg16_semi.h5\u001B[39m\u001B[38;5;124m'\u001B[39m)\n",
      "File \u001B[0;32m~/ht_morphogenesis/cell_division/semi_supervised.py:300\u001B[0m, in \u001B[0;36msemi_supervised_learning\u001B[0;34m(model, train, val, test, unlabeled, max_iter, batch_size, verbose)\u001B[0m\n\u001B[1;32m    297\u001B[0m         \u001B[38;5;28mprint\u001B[39m(\u001B[38;5;124mf\u001B[39m\u001B[38;5;124m'\u001B[39m\u001B[38;5;130;01m\\t\u001B[39;00m\u001B[38;5;132;01m{\u001B[39;00mc\u001B[38;5;241m.\u001B[39mOKBLUE\u001B[38;5;132;01m}\u001B[39;00m\u001B[38;5;124mPseudo-labeling...\u001B[39m\u001B[38;5;132;01m{\u001B[39;00mc\u001B[38;5;241m.\u001B[39mENDC\u001B[38;5;132;01m}\u001B[39;00m\u001B[38;5;124m'\u001B[39m)\n\u001B[1;32m    299\u001B[0m     pseudo_labeling(model, unlabeled, verbose\u001B[38;5;241m=\u001B[39mverbose)\n\u001B[0;32m--> 300\u001B[0m     split_pseudo_labeled_images(verbose\u001B[38;5;241m=\u001B[39mverbose)\n\u001B[1;32m    301\u001B[0m     train \u001B[38;5;241m=\u001B[39m merge_datasets(train)\n\u001B[1;32m    303\u001B[0m \u001B[38;5;28;01mreturn\u001B[39;00m model\n",
      "File \u001B[0;32m~/ht_morphogenesis/cell_division/semi_supervised.py:200\u001B[0m, in \u001B[0;36msplit_pseudo_labeled_images\u001B[0;34m(data_path, pseudo_labels_file, verbose)\u001B[0m\n\u001B[1;32m    198\u001B[0m \u001B[38;5;28;01mfor\u001B[39;00m idx, row \u001B[38;5;129;01min\u001B[39;00m df\u001B[38;5;241m.\u001B[39miterrows():\n\u001B[1;32m    199\u001B[0m     img \u001B[38;5;241m=\u001B[39m cv2\u001B[38;5;241m.\u001B[39mimread(img_path \u001B[38;5;241m+\u001B[39m row[\u001B[38;5;124m'\u001B[39m\u001B[38;5;124mid\u001B[39m\u001B[38;5;124m'\u001B[39m], cv2\u001B[38;5;241m.\u001B[39mIMREAD_GRAYSCALE)\n\u001B[0;32m--> 200\u001B[0m     \u001B[38;5;28;01mfor\u001B[39;00m z \u001B[38;5;129;01min\u001B[39;00m \u001B[38;5;28mrange\u001B[39m(\u001B[43mimg\u001B[49m\u001B[38;5;241;43m.\u001B[39;49m\u001B[43mshape\u001B[49m\u001B[43m[\u001B[49m\u001B[38;5;241;43m2\u001B[39;49m\u001B[43m]\u001B[49m):\n\u001B[1;32m    201\u001B[0m         imaging\u001B[38;5;241m.\u001B[39msave_prediction(\n\u001B[1;32m    202\u001B[0m             img[\u001B[38;5;241m.\u001B[39m\u001B[38;5;241m.\u001B[39m\u001B[38;5;241m.\u001B[39m, z],\n\u001B[1;32m    203\u001B[0m             new_path \u001B[38;5;241m+\u001B[39m \u001B[38;5;124mf\u001B[39m\u001B[38;5;124m'\u001B[39m\u001B[38;5;132;01m{\u001B[39;00mrow[\u001B[38;5;124m\"\u001B[39m\u001B[38;5;124mid\u001B[39m\u001B[38;5;124m\"\u001B[39m]\u001B[38;5;241m.\u001B[39mreplace(\u001B[38;5;124m\"\u001B[39m\u001B[38;5;124m.tif\u001B[39m\u001B[38;5;124m\"\u001B[39m,\u001B[38;5;250m \u001B[39m\u001B[38;5;124m\"\u001B[39m\u001B[38;5;124m\"\u001B[39m)\u001B[38;5;132;01m}\u001B[39;00m\u001B[38;5;124m_\u001B[39m\u001B[38;5;132;01m{\u001B[39;00mz\u001B[38;5;132;01m}\u001B[39;00m\u001B[38;5;124m.tif\u001B[39m\u001B[38;5;124m'\u001B[39m,\n\u001B[1;32m    204\u001B[0m             )\n\u001B[1;32m    205\u001B[0m         new_df \u001B[38;5;241m=\u001B[39m new_df\u001B[38;5;241m.\u001B[39mappend({\n\u001B[1;32m    206\u001B[0m             \u001B[38;5;124m'\u001B[39m\u001B[38;5;124mid\u001B[39m\u001B[38;5;124m'\u001B[39m: \u001B[38;5;124mf\u001B[39m\u001B[38;5;124m'\u001B[39m\u001B[38;5;132;01m{\u001B[39;00mrow[\u001B[38;5;124m\"\u001B[39m\u001B[38;5;124mid\u001B[39m\u001B[38;5;124m\"\u001B[39m]\u001B[38;5;241m.\u001B[39mreplace(\u001B[38;5;124m\"\u001B[39m\u001B[38;5;124m.tif\u001B[39m\u001B[38;5;124m\"\u001B[39m,\u001B[38;5;250m \u001B[39m\u001B[38;5;124m\"\u001B[39m\u001B[38;5;124m\"\u001B[39m)\u001B[38;5;132;01m}\u001B[39;00m\u001B[38;5;124m_\u001B[39m\u001B[38;5;132;01m{\u001B[39;00mz\u001B[38;5;132;01m}\u001B[39;00m\u001B[38;5;124m.tif\u001B[39m\u001B[38;5;124m'\u001B[39m,\n\u001B[1;32m    207\u001B[0m             \u001B[38;5;124m'\u001B[39m\u001B[38;5;124mlabel\u001B[39m\u001B[38;5;124m'\u001B[39m: row[\u001B[38;5;124m'\u001B[39m\u001B[38;5;124mlabel\u001B[39m\u001B[38;5;124m'\u001B[39m]}\n\u001B[1;32m    208\u001B[0m             , ignore_index\u001B[38;5;241m=\u001B[39m\u001B[38;5;28;01mTrue\u001B[39;00m\n\u001B[1;32m    209\u001B[0m         )\n",
      "\u001B[0;31mIndexError\u001B[0m: tuple index out of range"
     ]
    }
   ],
   "execution_count": 9
  },
  {
   "metadata": {},
   "cell_type": "code",
   "source": "model.model.evaluate(test_generator)",
   "id": "66c309c011581255",
   "outputs": [],
   "execution_count": null
  },
  {
   "metadata": {},
   "cell_type": "code",
   "source": [
    "pred = model.model.predict(test_generator).round().astype(int)\n",
    "\n",
    "print(\n",
    "    classification_report(\n",
    "        test_generator.img_labels, [test_generator.oh2class(p) for p in pred], \n",
    "        target_names=test_generator.CLASS_NAMES,\n",
    "        zero_division=0\n",
    "    )\n",
    ")"
   ],
   "id": "51f9244aff993af4",
   "outputs": [],
   "execution_count": null
  },
  {
   "metadata": {},
   "cell_type": "code",
   "source": [
    "cf_matrix = confusion_matrix(\n",
    "   test_generator.img_labels, [test_generator.oh2class(p) for p in pred]\n",
    ")\n",
    "\n",
    "plt.figure(figsize=(12, 12))\n",
    "vis.plot_confusion_matrix(cf_matrix)"
   ],
   "id": "3afeb6e8548cffd6",
   "outputs": [],
   "execution_count": null
  }
 ],
 "metadata": {
  "kernelspec": {
   "display_name": "Python 3",
   "language": "python",
   "name": "python3"
  },
  "language_info": {
   "codemirror_mode": {
    "name": "ipython",
    "version": 2
   },
   "file_extension": ".py",
   "mimetype": "text/x-python",
   "name": "python",
   "nbconvert_exporter": "python",
   "pygments_lexer": "ipython2",
   "version": "2.7.6"
  }
 },
 "nbformat": 4,
 "nbformat_minor": 5
}
