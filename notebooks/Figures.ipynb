{
 "cells": [
  {
   "cell_type": "code",
   "id": "initial_id",
   "metadata": {
    "collapsed": true,
    "ExecuteTime": {
     "end_time": "2024-12-06T18:48:51.877584Z",
     "start_time": "2024-12-06T18:48:39.246329Z"
    }
   },
   "source": [
    "import ast\n",
    "\n",
    "import matplotlib.pyplot as plt\n",
    "import numpy as np\n",
    "import pandas as pd\n",
    "\n",
    "import os\n",
    "import shutil\n",
    "import tarfile\n",
    "\n",
    "import tensorflow as tf\n",
    "\n",
    "from auxiliary import values as v\n",
    "from auxiliary.data.dataset_ht import find_group\n",
    "\n",
    "import napari\n",
    "from auxiliary.data.dataset_nuclei import NucleiDataset\n",
    "from auxiliary.data.dataset_ht import HtDataset, find_group\n",
    "from auxiliary.data import imaging\n",
    "\n",
    "from nuclei_segmentation.processing.preprocessing import Preprocessing\n",
    "from filtering import cardiac_region as cr"
   ],
   "outputs": [],
   "execution_count": 1
  },
  {
   "metadata": {
    "ExecuteTime": {
     "end_time": "2024-12-06T18:48:56.095120Z",
     "start_time": "2024-12-06T18:48:51.879851Z"
    }
   },
   "cell_type": "code",
   "source": [
    "s = '0401_E3'\n",
    "\n",
    "ds = HtDataset()\n",
    "\n",
    "# nuclei_raw_path, _ = ds.read_specimen(s, 'Nuclei', 'Segmentation', verbose=1)\n",
    "# nuclei_raw = imaging.read_image(nuclei_raw_path)\n",
    "\n",
    "# mem_raw_path, _ = ds.read_specimen(s, 'Membrane', 'RawImages', verbose=1)\n",
    "# mem_raw = imaging.read_image(mem_raw_path)\n",
    "\n",
    "lines, _ = ds.read_line(s, verbose=1)\n",
    "lines = imaging.read_image(lines)"
   ],
   "id": "ffea34947f85e236",
   "outputs": [
    {
     "name": "stdout",
     "output_type": "stream",
     "text": [
      "\t\u001B[92mFound\u001B[0m: line_20190806_E4.nii.gz\n"
     ]
    }
   ],
   "execution_count": 2
  },
  {
   "metadata": {},
   "cell_type": "code",
   "outputs": [],
   "execution_count": null,
   "source": [
    "myo_line = np.where(lines == 1, 1, 0)\n",
    "imaging.save_nii(myo_line.astype(np.int32), 'myo_line.nii.gz')"
   ],
   "id": "9be37fa67df54dd6"
  },
  {
   "metadata": {
    "ExecuteTime": {
     "end_time": "2024-12-06T18:48:56.102293Z",
     "start_time": "2024-12-06T18:48:56.097024Z"
    }
   },
   "cell_type": "code",
   "source": [
    "\n",
    "# aux = cr.filter_by_tissue(nuclei_raw, lines, 'myocardium', 2, 3, 1)\n",
    "# imaging.save_nii(aux, 'myo.nii.gz')"
   ],
   "id": "220e2803dc43b8ef",
   "outputs": [],
   "execution_count": 3
  },
  {
   "metadata": {
    "ExecuteTime": {
     "end_time": "2024-12-06T18:48:56.111603Z",
     "start_time": "2024-12-06T18:48:56.106106Z"
    }
   },
   "cell_type": "code",
   "source": [
    "from scipy.ndimage import rotate\n",
    "\n",
    "# lines_rot = rotate(lines, 90, axes=(0, 2))\n",
    "lines_rot = lines"
   ],
   "id": "3a9a08a67e6bdb71",
   "outputs": [],
   "execution_count": 4
  },
  {
   "metadata": {
    "ExecuteTime": {
     "end_time": "2024-12-06T18:48:56.116951Z",
     "start_time": "2024-12-06T18:48:56.113444Z"
    }
   },
   "cell_type": "code",
   "source": "",
   "id": "ea86a962625be501",
   "outputs": [],
   "execution_count": 4
  },
  {
   "metadata": {
    "ExecuteTime": {
     "end_time": "2024-12-06T18:49:03.795003Z",
     "start_time": "2024-12-06T18:48:56.119064Z"
    }
   },
   "cell_type": "code",
   "source": [
    "myo_line = np.where(lines_rot == 1, 1, 0)\n",
    "spl_line = np.where(lines_rot == 5, 1, 0)\n",
    "some_line = np.where(lines_rot == 4, 1, 0)\n",
    "prox_line = np.where(lines_rot == 6, 1, 0)"
   ],
   "id": "c05c0d770824ba98",
   "outputs": [],
   "execution_count": 5
  },
  {
   "metadata": {
    "ExecuteTime": {
     "end_time": "2024-12-06T18:49:03.801511Z",
     "start_time": "2024-12-06T18:49:03.796703Z"
    }
   },
   "cell_type": "code",
   "source": [
    "# imaging.save_nii(myo_line.astype(np.int8), 'myo_line.nii.gz')\n",
    "# imaging.save_nii(spl_line.astype(np.int8), 'spl_line.nii.gz')\n",
    "# imaging.save_nii(some_line.astype(np.int8), 'some_line.nii.gz')\n",
    "# imaging.save_nii(prox_line.astype(np.int8), 'prox_line.nii.gz')"
   ],
   "id": "17bd1cb440b0390d",
   "outputs": [],
   "execution_count": 6
  },
  {
   "metadata": {
    "ExecuteTime": {
     "end_time": "2024-12-06T18:49:03.809214Z",
     "start_time": "2024-12-06T18:49:03.803452Z"
    }
   },
   "cell_type": "code",
   "source": [
    "# pp = Preprocessing([\n",
    "#     # 'isotropy',\n",
    "#     'norm_percentile',\n",
    "#     'bilateral',\n",
    "# ])\n",
    "\n",
    "# nuclei = pp.run(nuclei_raw_path, verbose=1)\n",
    "# mem = pp.run(mem_raw_path, verbose=1)"
   ],
   "id": "3acd6c5b32173ade",
   "outputs": [],
   "execution_count": 7
  },
  {
   "metadata": {
    "ExecuteTime": {
     "end_time": "2024-12-06T18:49:10.216382Z",
     "start_time": "2024-12-06T18:49:03.811009Z"
    }
   },
   "cell_type": "code",
   "source": [
    "viewer = napari.Viewer()\n",
    "# viewer.add_image(nuclei, name='Nuclei', colormap='blue')\n",
    "# viewer.add_image(mem, name='Membrane', colormap='green')"
   ],
   "id": "a2494afd6f67a325",
   "outputs": [],
   "execution_count": 8
  },
  {
   "metadata": {
    "ExecuteTime": {
     "end_time": "2024-12-06T18:49:11.109185Z",
     "start_time": "2024-12-06T18:49:10.221017Z"
    }
   },
   "cell_type": "code",
   "source": "viewer.add_image(myo_line, name='Myocardium', colormap='blue')",
   "id": "9c5fe5292750f146",
   "outputs": [
    {
     "data": {
      "text/plain": [
       "<Image layer 'Myocardium' at 0x76349ff6f6d0>"
      ]
     },
     "execution_count": 9,
     "metadata": {},
     "output_type": "execute_result"
    }
   ],
   "execution_count": 9
  },
  {
   "metadata": {
    "ExecuteTime": {
     "end_time": "2024-12-06T18:49:11.433288Z",
     "start_time": "2024-12-06T18:49:11.111818Z"
    }
   },
   "cell_type": "code",
   "source": [
    "\n",
    "viewer.add_image(spl_line, name='Splanchnic', colormap='pink')"
   ],
   "id": "a83163e31e0d30e7",
   "outputs": [
    {
     "data": {
      "text/plain": [
       "<Image layer 'Splanchnic' at 0x76349d7f0310>"
      ]
     },
     "execution_count": 10,
     "metadata": {},
     "output_type": "execute_result"
    }
   ],
   "execution_count": 10
  },
  {
   "metadata": {
    "ExecuteTime": {
     "end_time": "2024-12-06T18:49:11.797303Z",
     "start_time": "2024-12-06T18:49:11.436272Z"
    }
   },
   "cell_type": "code",
   "source": [
    "\n",
    "viewer.add_image(some_line, name='Somatic', colormap='purple')"
   ],
   "id": "8ef130dcd4fd4ff5",
   "outputs": [
    {
     "data": {
      "text/plain": [
       "<Image layer 'Somatic' at 0x76349c18a3b0>"
      ]
     },
     "execution_count": 11,
     "metadata": {},
     "output_type": "execute_result"
    }
   ],
   "execution_count": 11
  },
  {
   "metadata": {
    "ExecuteTime": {
     "end_time": "2024-12-06T18:49:12.073424Z",
     "start_time": "2024-12-06T18:49:11.799141Z"
    }
   },
   "cell_type": "code",
   "source": [
    "\n",
    "viewer.add_image(prox_line, name='Proximal', colormap='green')"
   ],
   "id": "f7da059118ae42f3",
   "outputs": [
    {
     "data": {
      "text/plain": [
       "<Image layer 'Proximal' at 0x76349c0f4400>"
      ]
     },
     "execution_count": 12,
     "metadata": {},
     "output_type": "execute_result"
    }
   ],
   "execution_count": 12
  },
  {
   "metadata": {},
   "cell_type": "code",
   "source": [
    "# imaging.save_nii(myo_line.astype(np.uint8), 'myo_line.nii')\n",
    "# imaging.save_nii(spl_line.astype(np.uint8), 'spl_line.nii')\n",
    "# imaging.save_nii(some_line.astype(np.uint8), 'some_line.nii')\n",
    "# imaging.save_nii(prox_line.astype(np.uint8), 'prox_line.nii')\n",
    "\n",
    "# imaging.save_nii(nuclei.astype(np.float32), 'nuclei.nii')\n",
    "# imaging.save_nii(mem.astype(np.float32), 'membrane.nii')"
   ],
   "id": "c9f8ae45b276d969",
   "outputs": [],
   "execution_count": null
  }
 ],
 "metadata": {
  "kernelspec": {
   "display_name": "Python 3",
   "language": "python",
   "name": "python3"
  },
  "language_info": {
   "codemirror_mode": {
    "name": "ipython",
    "version": 2
   },
   "file_extension": ".py",
   "mimetype": "text/x-python",
   "name": "python",
   "nbconvert_exporter": "python",
   "pygments_lexer": "ipython2",
   "version": "2.7.6"
  }
 },
 "nbformat": 4,
 "nbformat_minor": 5
}
