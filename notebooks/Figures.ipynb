{
 "cells": [
  {
   "cell_type": "code",
   "id": "initial_id",
   "metadata": {
    "collapsed": true,
    "ExecuteTime": {
     "end_time": "2024-11-08T14:43:01.406842Z",
     "start_time": "2024-11-08T14:42:56.835025Z"
    }
   },
   "source": [
    "import ast\n",
    "\n",
    "import matplotlib.pyplot as plt\n",
    "import numpy as np\n",
    "import pandas as pd\n",
    "\n",
    "import os\n",
    "import shutil\n",
    "import tarfile\n",
    "\n",
    "import tensorflow as tf\n",
    "\n",
    "from auxiliary import values as v\n",
    "from auxiliary.data.dataset_ht import find_group\n",
    "\n",
    "import napari\n",
    "from auxiliary.data.dataset_nuclei import NucleiDataset\n",
    "from auxiliary.data.dataset_ht import HtDataset, find_group\n",
    "from auxiliary.data import imaging\n",
    "\n",
    "from nuclei_segmentation.processing.preprocessing import Preprocessing\n",
    "from filtering import cardiac_region as cr"
   ],
   "outputs": [],
   "execution_count": 1
  },
  {
   "metadata": {
    "ExecuteTime": {
     "end_time": "2024-11-08T14:43:04.819014Z",
     "start_time": "2024-11-08T14:43:01.409033Z"
    }
   },
   "cell_type": "code",
   "source": [
    "s = '0806_E4'\n",
    "\n",
    "ds = HtDataset()\n",
    "\n",
    "nuclei_raw_path, _ = ds.read_specimen(s, 'Nuclei', 'RawImages', verbose=1)\n",
    "# nuclei_raw = imaging.read_image(nuclei_raw_path)\n",
    "\n",
    "mem_raw_path, _ = ds.read_specimen(s, 'Membrane', 'RawImages', verbose=1)\n",
    "# mem_raw = imaging.read_image(mem_raw_path)\n",
    "\n",
    "lines, _ = ds.read_line(s, verbose=1)\n",
    "lines = imaging.read_image(lines)\n",
    "\n"
   ],
   "id": "220e2803dc43b8ef",
   "outputs": [
    {
     "name": "stdout",
     "output_type": "stream",
     "text": [
      "\t\u001B[92mFound\u001B[0m: 20190806_E4_DAPI_decon_0.5.nii.gz\n",
      "\t\u001B[92mFound\u001B[0m: 20190806_E4_mGFP_decon_0.5.nii.gz\n",
      "\t\u001B[92mFound\u001B[0m: line_20190806_E4.nii.gz\n"
     ]
    }
   ],
   "execution_count": 2
  },
  {
   "metadata": {
    "ExecuteTime": {
     "end_time": "2024-11-08T14:45:48.283469Z",
     "start_time": "2024-11-08T14:44:06.268799Z"
    }
   },
   "cell_type": "code",
   "source": [
    "from scipy.ndimage import rotate\n",
    "\n",
    "lines_rot = rotate(lines, 90, axes=(0, 2))"
   ],
   "id": "3a9a08a67e6bdb71",
   "outputs": [],
   "execution_count": null
  },
  {
   "metadata": {
    "ExecuteTime": {
     "end_time": "2024-11-08T14:56:03.462694Z",
     "start_time": "2024-11-08T14:55:59.652996Z"
    }
   },
   "cell_type": "code",
   "source": [
    "myo_line = np.where(lines_rot == 1, 1, 0)\n",
    "spl_line = np.where(lines_rot == 5, 1, 0)"
   ],
   "id": "c05c0d770824ba98",
   "outputs": [],
   "execution_count": 8
  },
  {
   "metadata": {
    "ExecuteTime": {
     "end_time": "2024-11-08T14:59:00.738354Z",
     "start_time": "2024-11-08T14:56:03.466446Z"
    }
   },
   "cell_type": "code",
   "source": [
    "pp = Preprocessing([\n",
    "    'isotropy',\n",
    "    'norm_percentile',\n",
    "    'bilateral',\n",
    "])\n",
    "\n",
    "nuclei = pp.run(nuclei_raw_path, verbose=1)\n",
    "mem = pp.run(mem_raw_path, verbose=1)"
   ],
   "id": "3acd6c5b32173ade",
   "outputs": [
    {
     "name": "stdout",
     "output_type": "stream",
     "text": [
      "\u001B[94mReading NIfTI\u001B[0m: /run/user/1003/gvfs/smb-share:server=tierra.cnic.es,share=sc/LAB_MT/LAB/Ignacio/Gr4/RawImages/Nuclei/20190806_E4_DAPI_decon_0.5.nii.gz\n",
      "\u001B[92mRunning step\u001B[0m: isotropy\n",
      "\t\u001B[94mImage resolution\u001B[0m: \n",
      "\tX: 0.8503159880638123 um/px\n",
      "\tY: 0.8503159880638123 um/px\n",
      "\tZ: 0.799049973487854 um/px\n",
      "\tResampling factor: 0.9397094249725342\n",
      "\tOriginal shape: (538, 1024, 1024)\n",
      "\tResampled shape: (506, 1024, 1024)\n",
      "\u001B[92mRunning step\u001B[0m: norm_percentile\n",
      "\u001B[92mRunning step\u001B[0m: bilateral\n",
      "\u001B[94mReading NIfTI\u001B[0m: /run/user/1003/gvfs/smb-share:server=tierra.cnic.es,share=sc/LAB_MT/LAB/Ignacio/Gr4/RawImages/Membrane/20190806_E4_mGFP_decon_0.5.nii.gz\n",
      "\u001B[92mRunning step\u001B[0m: isotropy\n",
      "\t\u001B[94mImage resolution\u001B[0m: \n",
      "\tX: 0.8503159880638123 um/px\n",
      "\tY: 0.8503159880638123 um/px\n",
      "\tZ: 0.799049973487854 um/px\n",
      "\tResampling factor: 0.9397094249725342\n",
      "\tOriginal shape: (538, 1024, 1024)\n",
      "\tResampled shape: (506, 1024, 1024)\n",
      "\u001B[92mRunning step\u001B[0m: norm_percentile\n",
      "\u001B[92mRunning step\u001B[0m: bilateral\n"
     ]
    }
   ],
   "execution_count": 9
  },
  {
   "metadata": {
    "ExecuteTime": {
     "end_time": "2024-11-08T14:59:06.852015Z",
     "start_time": "2024-11-08T14:59:00.739687Z"
    }
   },
   "cell_type": "code",
   "source": [
    "viewer = napari.Viewer()\n",
    "viewer.add_image(nuclei, name='Nuclei', colormap='blue')\n",
    "viewer.add_image(mem, name='Membrane', colormap='green')"
   ],
   "id": "a2494afd6f67a325",
   "outputs": [
    {
     "data": {
      "text/plain": [
       "<Image layer 'Membrane' at 0x7fb4ea14b820>"
      ]
     },
     "execution_count": 10,
     "metadata": {},
     "output_type": "execute_result"
    }
   ],
   "execution_count": 10
  },
  {
   "metadata": {
    "ExecuteTime": {
     "end_time": "2024-11-08T14:59:07.498584Z",
     "start_time": "2024-11-08T14:59:06.855884Z"
    }
   },
   "cell_type": "code",
   "source": [
    "viewer.add_image(myo_line, name='Myocardium', colormap='red')\n",
    "viewer.add_image(spl_line, name='Splanchnic', colormap='yellow')"
   ],
   "id": "f7da059118ae42f3",
   "outputs": [
    {
     "data": {
      "text/plain": [
       "<Image layer 'Splanchnic' at 0x7fb4e3f932b0>"
      ]
     },
     "execution_count": 11,
     "metadata": {},
     "output_type": "execute_result"
    }
   ],
   "execution_count": 11
  },
  {
   "metadata": {
    "ExecuteTime": {
     "end_time": "2024-11-08T15:12:45.460357Z",
     "start_time": "2024-11-08T15:11:21.001716Z"
    }
   },
   "cell_type": "code",
   "source": "lines_rot = rotate(lines, 90, axes=(0, 2))",
   "id": "26d80c5734c7be32",
   "outputs": [],
   "execution_count": null
  },
  {
   "metadata": {
    "jupyter": {
     "is_executing": true
    },
    "ExecuteTime": {
     "start_time": "2024-11-08T15:38:15.513609Z"
    }
   },
   "cell_type": "code",
   "source": [
    "\n",
    "myo_line = np.where(lines_rot == 1, 1, 0)\n",
    "spl_line = np.where(lines_rot == 5, 1, 0)\n",
    "some_line = np.where(lines_rot == 4, 1, 0)\n",
    "prox_line = np.where(lines_rot == 6, 1, 0)"
   ],
   "id": "fd1dfe2bc3c5e92b",
   "outputs": [],
   "execution_count": null
  },
  {
   "metadata": {
    "ExecuteTime": {
     "end_time": "2024-11-08T15:13:47.376512Z",
     "start_time": "2024-11-08T15:13:46.957576Z"
    }
   },
   "cell_type": "code",
   "source": [
    "# viewer.add_image(myo_line, name='Myocardium', colormap='red')\n",
    "# viewer.add_image(spl_line, name='Splanchnic', colormap='blue')\n",
    "viewer.add_image(some_line, name='Somatic', colormap='green')\n",
    "viewer.add_image(prox_line, name='Proximal', colormap='yellow')"
   ],
   "id": "c9f8ae45b276d969",
   "outputs": [
    {
     "data": {
      "text/plain": [
       "<Image layer 'Splanchnic' at 0x7fb521592f50>"
      ]
     },
     "execution_count": 13,
     "metadata": {},
     "output_type": "execute_result"
    }
   ],
   "execution_count": 13
  }
 ],
 "metadata": {
  "kernelspec": {
   "display_name": "Python 3",
   "language": "python",
   "name": "python3"
  },
  "language_info": {
   "codemirror_mode": {
    "name": "ipython",
    "version": 2
   },
   "file_extension": ".py",
   "mimetype": "text/x-python",
   "name": "python",
   "nbconvert_exporter": "python",
   "pygments_lexer": "ipython2",
   "version": "2.7.6"
  }
 },
 "nbformat": 4,
 "nbformat_minor": 5
}
