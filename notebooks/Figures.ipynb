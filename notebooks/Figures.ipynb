{
 "cells": [
  {
   "cell_type": "code",
   "id": "initial_id",
   "metadata": {
    "collapsed": true,
    "ExecuteTime": {
     "end_time": "2024-12-19T09:36:27.821145Z",
     "start_time": "2024-12-19T09:36:24.987396Z"
    }
   },
   "source": [
    "import ast\n",
    "\n",
    "import matplotlib.pyplot as plt\n",
    "import numpy as np\n",
    "import pandas as pd\n",
    "\n",
    "import os\n",
    "import shutil\n",
    "import tarfile\n",
    "\n",
    "import tensorflow as tf\n",
    "\n",
    "from auxiliary import values as v\n",
    "from auxiliary.data.dataset_ht import find_group\n",
    "\n",
    "import napari\n",
    "from auxiliary.data.dataset_nuclei import NucleiDataset\n",
    "from auxiliary.data.dataset_ht import HtDataset, find_group\n",
    "from auxiliary.data import imaging\n",
    "\n",
    "from nuclei_segmentation.processing.preprocessing import Preprocessing\n",
    "from filtering import cardiac_region as cr"
   ],
   "outputs": [],
   "execution_count": 1
  },
  {
   "metadata": {},
   "cell_type": "markdown",
   "source": "NO. Cells/nucleis per specimen and per group",
   "id": "1ee4e3917367d3dd"
  },
  {
   "metadata": {
    "ExecuteTime": {
     "end_time": "2024-12-19T09:39:46.987198Z",
     "start_time": "2024-12-19T09:39:15.866048Z"
    }
   },
   "cell_type": "code",
   "source": [
    "import matplotlib.pyplot as plt\n",
    "import numpy as np\n",
    "from auxiliary import values as v\n",
    "from auxiliary.data.dataset_ht import HtDataset, find_group\n",
    "\n",
    "nuclei = {}\n",
    "membranes = {}\n",
    "no_specs = {}\n",
    "\n",
    "for s in v.specimens_list:\n",
    "    gr = find_group(s)\n",
    "    print(s, gr)\n",
    "    try:\n",
    "        ds = HtDataset(data_path=v.data_path) #  + 'auxiliary/'\n",
    "        \n",
    "        features_mem = ds.get_features(s, 'Membrane', 'myocardium', verbose=1, filtered=True)\n",
    "        features_nu = ds.get_features(s, 'Nuclei', 'myocardium', verbose=1, filtered=True)\n",
    "        \n",
    "        # Check if the specimen's group is already in the dictionary\n",
    "        if gr not in nuclei:\n",
    "            nuclei[gr] = len(features_nu)\n",
    "            membranes[gr] =len(features_mem)\n",
    "            no_specs[gr] = 1\n",
    "            \n",
    "        else:\n",
    "            # Avergage\n",
    "            nuclei[gr] += len(features_nu)\n",
    "            membranes[gr] += len(features_mem)\n",
    "            no_specs[gr] += 1\n",
    "    except Exception as e:\n",
    "        print(e)\n",
    "        continue\n",
    "        \n",
    "# Average\n",
    "for k in nuclei.keys():\n",
    "    nuclei[k] /= no_specs[k]\n",
    "    membranes[k] /= no_specs[k]\n",
    "\n",
    "plt.plot(nuclei.keys(), nuclei.values(), label='Nuclei')\n",
    "plt.plot(membranes.keys(), membranes.values(), label='Membranes')\n",
    "plt.legend()\n",
    "plt.show()    \n",
    "    "
   ],
   "id": "21a06c606dcc4b86",
   "outputs": [
    {
     "name": "stdout",
     "output_type": "stream",
     "text": [
      "0806_E5 Gr1\n",
      "\t\u001B[92mFound\u001B[0m: 20190806_E5_cell_properties_radiomics_Membrane_myocardium_filtered.csv\n",
      "\t\u001B[92mFound\u001B[0m: 20190806_E5_cell_properties_radiomics_Nuclei_myocardium_filtered.csv\n",
      "0504_E1 Gr1\n",
      "\t\u001B[92mFound\u001B[0m: 20190504_E1_cell_properties_radiomics_Membrane_myocardium_filtered.csv\n",
      "\t\u001B[92mFound\u001B[0m: 20190504_E1_cell_properties_radiomics_Nuclei_myocardium_filtered.csv\n",
      "0208_E2 Gr1\n",
      "\t\u001B[91mNo directory\u001B[0m: /run/user/1003/gvfs/smb-share:server=tierra.cnic.es,share=sc/LAB_MT/LAB/Ignacio/Gr11/Features/Filtered\n",
      "No specimen found: 0208_E2 (Get features) [Membrane - myocardium]\n",
      "0521_E4 Gr1\n",
      "\t\u001B[92mFound\u001B[0m: 20190521_E4_cell_properties_radiomics_Membrane_myocardium_filtered.csv\n",
      "\t\u001B[92mFound\u001B[0m: 20190521_E4_cell_properties_radiomics_Nuclei_myocardium_filtered.csv\n",
      "0521_E2 Gr1\n",
      "\t\u001B[91mNo directory\u001B[0m: /run/user/1003/gvfs/smb-share:server=tierra.cnic.es,share=sc/LAB_MT/LAB/Ignacio/Gr11/Features/Filtered\n",
      "No specimen found: 0521_E2 (Get features) [Membrane - myocardium]\n",
      "0516_E2 Gr2\n",
      "\t\u001B[92mFound\u001B[0m: 20190516_E2_cell_properties_radiomics_Membrane_myocardium_filtered.csv\n",
      "\t\u001B[92mFound\u001B[0m: 20190516_E2_cell_properties_radiomics_Nuclei_myocardium_filtered.csv\n",
      "0503_E1 Gr2\n",
      "\t\u001B[92mFound\u001B[0m: 20190503_E1_cell_properties_radiomics_Membrane_myocardium_filtered.csv\n",
      "\t\u001B[92mFound\u001B[0m: 20190503_E1_cell_properties_radiomics_Nuclei_myocardium_filtered.csv\n",
      "0209_E1 Gr2\n",
      "\t\u001B[92mFound\u001B[0m: 20190209_E1_cell_properties_radiomics_Membrane_myocardium_filtered.csv\n",
      "\t\u001B[92mFound\u001B[0m: 20190209_E1_cell_properties_radiomics_Nuclei_myocardium_filtered.csv\n",
      "0520_E2 Gr2\n",
      "\t\u001B[92mFound\u001B[0m: 20190520_E2_cell_properties_radiomics_Membrane_myocardium_filtered.csv\n",
      "\t\u001B[92mFound\u001B[0m: 20190520_E2_cell_properties_radiomics_Nuclei_myocardium_filtered.csv\n",
      "0208_E3 Gr2\n",
      "\t\u001B[92mFound\u001B[0m: 20190208_E3_cell_properties_radiomics_Membrane_myocardium_filtered.csv\n",
      "\t\u001B[92mFound\u001B[0m: 20190208_E3_cell_properties_radiomics_Nuclei_myocardium_filtered.csv\n",
      "0209_E2 Gr3\n",
      "\t\u001B[92mFound\u001B[0m: 20190209_E2_cell_properties_radiomics_Membrane_myocardium_filtered.csv\n",
      "\t\u001B[92mFound\u001B[0m: 20190209_E2_cell_properties_radiomics_Nuclei_myocardium_filtered.csv\n",
      "0308_E3 Gr3\n",
      "\t\u001B[91mNo directory\u001B[0m: /run/user/1003/gvfs/smb-share:server=tierra.cnic.es,share=sc/LAB_MT/LAB/Ignacio/Gr11/Features/Filtered\n",
      "No specimen found: 0308_E3 (Get features) [Membrane - myocardium]\n",
      "0503_E2 Gr3\n",
      "\t\u001B[92mFound\u001B[0m: 20190503_E2_cell_properties_radiomics_Membrane_myocardium_filtered.csv\n",
      "\t\u001B[92mFound\u001B[0m: 20190503_E2_cell_properties_radiomics_Nuclei_myocardium_filtered.csv\n",
      "0516_E3 Gr3\n",
      "\t\u001B[92mFound\u001B[0m: 20190516_E3_cell_properties_radiomics_Membrane_myocardium_filtered.csv\n",
      "\t\u001B[92mFound\u001B[0m: 20190516_E3_cell_properties_radiomics_Nuclei_myocardium_filtered.csv\n",
      "0521_E1 Gr4\n",
      "\t\u001B[92mFound\u001B[0m: 20190521_E1_cell_properties_radiomics_Membrane_myocardium_filtered.csv\n",
      "\t\u001B[92mFound\u001B[0m: 20190521_E1_cell_properties_radiomics_Nuclei_myocardium_filtered.csv\n",
      "0523_E1 Gr4\n",
      "\t\u001B[92mFound\u001B[0m: 20190523_E1_cell_properties_radiomics_Membrane_myocardium_filtered.csv\n",
      "\t\u001B[92mFound\u001B[0m: 20190523_E1_cell_properties_radiomics_Nuclei_myocardium_filtered.csv\n",
      "0806_E3 Gr4\n",
      "\t\u001B[92mFound\u001B[0m: 20190806_E3_cell_properties_radiomics_Membrane_myocardium_filtered.csv\n",
      "\t\u001B[92mFound\u001B[0m: 20190806_E3_cell_properties_radiomics_Nuclei_myocardium_filtered.csv\n",
      "0806_E4 Gr4\n",
      "\t\u001B[92mFound\u001B[0m: 20190806_E4_cell_properties_radiomics_Membrane_myocardium_filtered.csv\n",
      "\t\u001B[92mFound\u001B[0m: 20190806_E4_cell_properties_radiomics_Nuclei_myocardium_filtered.csv\n",
      "0806_E6 Gr4\n",
      "\t\u001B[92mFound\u001B[0m: 20190806_E6_cell_properties_radiomics_Membrane_myocardium_filtered.csv\n",
      "\t\u001B[92mFound\u001B[0m: 20190806_E6_cell_properties_radiomics_Nuclei_myocardium_filtered.csv\n",
      "0401_E3 Gr5\n",
      "\t\u001B[92mFound\u001B[0m: 20190401_E3_cell_properties_radiomics_Membrane_myocardium_filtered.csv\n",
      "\t\u001B[92mFound\u001B[0m: 20190401_E3_cell_properties_radiomics_Nuclei_myocardium_filtered.csv\n",
      "0123_E1 Gr5\n",
      "\t\u001B[91mNo directory\u001B[0m: /run/user/1003/gvfs/smb-share:server=tierra.cnic.es,share=sc/LAB_MT/LAB/Ignacio/Gr11/Features/Filtered\n",
      "No specimen found: 0123_E1 (Get features) [Membrane - myocardium]\n",
      "0122_E1 Gr5\n",
      "\t\u001B[91mNo directory\u001B[0m: /run/user/1003/gvfs/smb-share:server=tierra.cnic.es,share=sc/LAB_MT/LAB/Ignacio/Gr11/Features/Filtered\n",
      "No specimen found: 0122_E1 (Get features) [Membrane - myocardium]\n",
      "0518_E3 Gr5\n",
      "\t\u001B[92mFound\u001B[0m: 20190518_E3_cell_properties_radiomics_Membrane_myocardium_filtered.csv\n",
      "\t\u001B[92mFound\u001B[0m: 20190518_E3_cell_properties_radiomics_Nuclei_myocardium_filtered.csv\n",
      "0521_E3 Gr5\n",
      "\t\u001B[92mFound\u001B[0m: 20190521_E3_cell_properties_radiomics_Membrane_myocardium_filtered.csv\n",
      "\t\u001B[92mFound\u001B[0m: 20190521_E3_cell_properties_radiomics_Nuclei_myocardium_filtered.csv\n",
      "0308_E2 Gr6\n",
      "\t\u001B[92mFound\u001B[0m: 20190308_E2_cell_properties_radiomics_Membrane_myocardium_filtered.csv\n",
      "\t\u001B[92mFound\u001B[0m: 20190308_E2_cell_properties_radiomics_Nuclei_myocardium_filtered.csv\n",
      "0401_E1 Gr6\n",
      "\t\u001B[92mFound\u001B[0m: 20190401_E1_cell_properties_radiomics_Membrane_myocardium_filtered.csv\n",
      "\t\u001B[92mFound\u001B[0m: 20190401_E1_cell_properties_radiomics_Nuclei_myocardium_filtered.csv\n",
      "0401_E2 Gr6\n",
      "\t\u001B[92mFound\u001B[0m: 20190401_E2_cell_properties_radiomics_Membrane_myocardium_filtered.csv\n",
      "\t\u001B[92mFound\u001B[0m: 20190401_E2_cell_properties_radiomics_Nuclei_myocardium_filtered.csv\n",
      "0502_E1 Gr6\n",
      "\t\u001B[92mFound\u001B[0m: 20190502_E1_cell_properties_radiomics_Membrane_myocardium_filtered.csv\n",
      "\t\u001B[92mFound\u001B[0m: 20190502_E1_cell_properties_radiomics_Nuclei_myocardium_filtered.csv\n",
      "0517_E2 Gr6\n",
      "\t\u001B[92mFound\u001B[0m: 20190517_E2_cell_properties_radiomics_Membrane_myocardium_filtered.csv\n",
      "\t\u001B[92mFound\u001B[0m: 20190517_E2_cell_properties_radiomics_Nuclei_myocardium_filtered.csv\n",
      "0806_E1 Gr6\n",
      "\t\u001B[92mFound\u001B[0m: 20190806_E1_cell_properties_radiomics_Membrane_myocardium_filtered.csv\n",
      "\t\u001B[92mFound\u001B[0m: 20190806_E1_cell_properties_radiomics_Nuclei_myocardium_filtered.csv\n",
      "0806_E2 Gr6\n",
      "\t\u001B[92mFound\u001B[0m: 20190806_E2_cell_properties_radiomics_Membrane_myocardium_filtered.csv\n",
      "\t\u001B[92mFound\u001B[0m: 20190806_E2_cell_properties_radiomics_Nuclei_myocardium_filtered.csv\n",
      "0308_E4 Gr7\n",
      "\t\u001B[92mFound\u001B[0m: 20190308_E4_cell_properties_radiomics_Membrane_myocardium_filtered.csv\n",
      "\t\u001B[92mFound\u001B[0m: 20190308_E4_cell_properties_radiomics_Nuclei_myocardium_filtered.csv\n",
      "0403_E2 Gr7\n",
      "\t\u001B[92mFound\u001B[0m: 20190403_E2_cell_properties_radiomics_Membrane_myocardium_filtered.csv\n",
      "\t\u001B[92mFound\u001B[0m: 20190403_E2_cell_properties_radiomics_Nuclei_myocardium_filtered.csv\n",
      "0404_E2 Gr7\n",
      "\t\u001B[92mFound\u001B[0m: 20190404_E2_cell_properties_radiomics_Membrane_myocardium_filtered.csv\n",
      "\t\u001B[92mFound\u001B[0m: 20190404_E2_cell_properties_radiomics_Nuclei_myocardium_filtered.csv\n",
      "0516_E5 Gr7\n",
      "\t\u001B[92mFound\u001B[0m: 20190516_E5_cell_properties_radiomics_Membrane_myocardium_filtered.csv\n",
      "\t\u001B[92mFound\u001B[0m: 20190516_E5_cell_properties_radiomics_Nuclei_myocardium_filtered.csv\n",
      "0517_E4 Gr7\n",
      "\t\u001B[92mFound\u001B[0m: 20190517_E4_cell_properties_radiomics_Membrane_myocardium_filtered.csv\n",
      "\t\u001B[92mFound\u001B[0m: 20190517_E4_cell_properties_radiomics_Nuclei_myocardium_filtered.csv\n",
      "0402_E1 Gr8\n",
      "\t\u001B[91mNo directory\u001B[0m: /run/user/1003/gvfs/smb-share:server=tierra.cnic.es,share=sc/LAB_MT/LAB/Ignacio/Gr11/Features/Filtered\n",
      "No specimen found: 0402_E1 (Get features) [Membrane - myocardium]\n",
      "0402_E2 Gr8\n",
      "\t\u001B[92mFound\u001B[0m: 20190402_E2_cell_properties_radiomics_Membrane_myocardium_filtered.csv\n",
      "\t\u001B[92mFound\u001B[0m: 20190402_E2_cell_properties_radiomics_Nuclei_myocardium_filtered.csv\n",
      "0516_E4 Gr8\n",
      "\t\u001B[92mFound\u001B[0m: 20190516_E4_cell_properties_radiomics_Membrane_myocardium_filtered.csv\n",
      "\t\u001B[92mFound\u001B[0m: 20190516_E4_cell_properties_radiomics_Nuclei_myocardium_filtered.csv\n",
      "0517_E1 Gr8\n",
      "\t\u001B[92mFound\u001B[0m: 20190517_E1_cell_properties_radiomics_Membrane_myocardium_filtered.csv\n",
      "\t\u001B[92mFound\u001B[0m: 20190517_E1_cell_properties_radiomics_Nuclei_myocardium_filtered.csv\n",
      "0518_E2 Gr8\n",
      "\t\u001B[92mFound\u001B[0m: 20190518_E2_cell_properties_radiomics_Membrane_myocardium_filtered.csv\n",
      "\t\u001B[92mFound\u001B[0m: 20190518_E2_cell_properties_radiomics_Nuclei_myocardium_filtered.csv\n",
      "0119_E1 Gr9\n",
      "\t\u001B[92mFound\u001B[0m: 20190119_E1_cell_properties_radiomics_Membrane_myocardium_filtered.csv\n",
      "\t\u001B[92mFound\u001B[0m: 20190119_E1_cell_properties_radiomics_Nuclei_myocardium_filtered.csv\n",
      "0404_E1 Gr9\n",
      "\t\u001B[92mFound\u001B[0m: 20190404_E1_cell_properties_radiomics_Membrane_myocardium_filtered.csv\n",
      "\t\u001B[92mFound\u001B[0m: 20190404_E1_cell_properties_radiomics_Nuclei_myocardium_filtered.csv\n",
      "0515_E2 Gr9\n",
      "\t\u001B[92mFound\u001B[0m: 20190515_E2_cell_properties_radiomics_Membrane_myocardium_filtered.csv\n",
      "\t\u001B[92mFound\u001B[0m: 20190515_E2_cell_properties_radiomics_Nuclei_myocardium_filtered.csv\n",
      "0516_E1 Gr9\n",
      "\t\u001B[92mFound\u001B[0m: 20190516_E1_cell_properties_radiomics_Membrane_myocardium_filtered.csv\n",
      "\t\u001B[92mFound\u001B[0m: 20190516_E1_cell_properties_radiomics_Nuclei_myocardium_filtered.csv\n",
      "0518_E1 Gr9\n",
      "\t\u001B[92mFound\u001B[0m: 20190518_E1_cell_properties_radiomics_Membrane_myocardium_filtered.csv\n",
      "\t\u001B[92mFound\u001B[0m: 20190518_E1_cell_properties_radiomics_Nuclei_myocardium_filtered.csv\n",
      "0520_E1 Gr9\n",
      "\t\u001B[92mFound\u001B[0m: 20190520_E1_cell_properties_radiomics_Membrane_myocardium_filtered.csv\n",
      "\t\u001B[92mFound\u001B[0m: 20190520_E1_cell_properties_radiomics_Nuclei_myocardium_filtered.csv\n",
      "0520_E5 Gr9\n",
      "\t\u001B[92mFound\u001B[0m: 20190520_E5_cell_properties_radiomics_Membrane_myocardium_filtered.csv\n",
      "\t\u001B[92mFound\u001B[0m: 20190520_E5_cell_properties_radiomics_Nuclei_myocardium_filtered.csv\n",
      "0515_E1 Gr10\n",
      "\t\u001B[92mFound\u001B[0m: 20190515_E1_cell_properties_radiomics_Membrane_myocardium_filtered.csv\n",
      "\t\u001B[92mFound\u001B[0m: 20190515_E1_cell_properties_radiomics_Nuclei_myocardium_filtered.csv\n",
      "0520_E4 Gr10\n",
      "\t\u001B[91mNo directory\u001B[0m: /run/user/1003/gvfs/smb-share:server=tierra.cnic.es,share=sc/LAB_MT/LAB/Ignacio/Gr11/Features/Filtered\n",
      "No specimen found: 0520_E4 (Get features) [Membrane - myocardium]\n",
      "0515_E3 Gr11\n",
      "\t\u001B[91mNo directory\u001B[0m: /run/user/1003/gvfs/smb-share:server=tierra.cnic.es,share=sc/LAB_MT/LAB/Ignacio/Gr11/Features/Filtered\n",
      "No specimen found: 0515_E3 (Get features) [Membrane - myocardium]\n"
     ]
    },
    {
     "data": {
      "text/plain": [
       "<Figure size 640x480 with 1 Axes>"
      ],
      "image/png": "[encoded data removed]"
     },
     "metadata": {},
     "output_type": "display_data"
    }
   ],
   "execution_count": 3
  },
  {
   "metadata": {},
   "cell_type": "code",
   "outputs": [],
   "execution_count": null,
   "source": "",
   "id": "c5050106abd8281"
  },
  {
   "metadata": {},
   "cell_type": "code",
   "outputs": [],
   "execution_count": null,
   "source": "",
   "id": "7304144d5b4bfd95"
  },
  {
   "metadata": {
    "ExecuteTime": {
     "end_time": "2024-12-06T18:48:56.095120Z",
     "start_time": "2024-12-06T18:48:51.879851Z"
    }
   },
   "cell_type": "code",
   "source": [
    "s = '0401_E3'\n",
    "\n",
    "ds = HtDataset()\n",
    "\n",
    "# nuclei_raw_path, _ = ds.read_specimen(s, 'Nuclei', 'Segmentation', verbose=1)\n",
    "# nuclei_raw = imaging.read_image(nuclei_raw_path)\n",
    "\n",
    "# mem_raw_path, _ = ds.read_specimen(s, 'Membrane', 'RawImages', verbose=1)\n",
    "# mem_raw = imaging.read_image(mem_raw_path)\n",
    "\n",
    "lines, _ = ds.read_line(s, verbose=1)\n",
    "lines = imaging.read_image(lines)"
   ],
   "id": "ffea34947f85e236",
   "outputs": [
    {
     "name": "stdout",
     "output_type": "stream",
     "text": [
      "\t\u001B[92mFound\u001B[0m: line_20190806_E4.nii.gz\n"
     ]
    }
   ],
   "execution_count": 2
  },
  {
   "metadata": {},
   "cell_type": "code",
   "outputs": [],
   "execution_count": null,
   "source": [
    "myo_line = np.where(lines == 1, 1, 0)\n",
    "imaging.save_nii(myo_line.astype(np.int32), 'myo_line.nii.gz')"
   ],
   "id": "9be37fa67df54dd6"
  },
  {
   "metadata": {
    "ExecuteTime": {
     "end_time": "2024-12-06T18:48:56.102293Z",
     "start_time": "2024-12-06T18:48:56.097024Z"
    }
   },
   "cell_type": "code",
   "source": [
    "\n",
    "# aux = cr.filter_by_tissue(nuclei_raw, lines, 'myocardium', 2, 3, 1)\n",
    "# imaging.save_nii(aux, 'myo.nii.gz')"
   ],
   "id": "220e2803dc43b8ef",
   "outputs": [],
   "execution_count": 3
  },
  {
   "metadata": {
    "ExecuteTime": {
     "end_time": "2024-12-06T18:48:56.111603Z",
     "start_time": "2024-12-06T18:48:56.106106Z"
    }
   },
   "cell_type": "code",
   "source": [
    "from scipy.ndimage import rotate\n",
    "\n",
    "# lines_rot = rotate(lines, 90, axes=(0, 2))\n",
    "lines_rot = lines"
   ],
   "id": "3a9a08a67e6bdb71",
   "outputs": [],
   "execution_count": 4
  },
  {
   "metadata": {
    "ExecuteTime": {
     "end_time": "2024-12-06T18:48:56.116951Z",
     "start_time": "2024-12-06T18:48:56.113444Z"
    }
   },
   "cell_type": "code",
   "source": "",
   "id": "ea86a962625be501",
   "outputs": [],
   "execution_count": 4
  },
  {
   "metadata": {
    "ExecuteTime": {
     "end_time": "2024-12-06T18:49:03.795003Z",
     "start_time": "2024-12-06T18:48:56.119064Z"
    }
   },
   "cell_type": "code",
   "source": [
    "myo_line = np.where(lines_rot == 1, 1, 0)\n",
    "spl_line = np.where(lines_rot == 5, 1, 0)\n",
    "some_line = np.where(lines_rot == 4, 1, 0)\n",
    "prox_line = np.where(lines_rot == 6, 1, 0)"
   ],
   "id": "c05c0d770824ba98",
   "outputs": [],
   "execution_count": 5
  },
  {
   "metadata": {
    "ExecuteTime": {
     "end_time": "2024-12-06T18:49:03.801511Z",
     "start_time": "2024-12-06T18:49:03.796703Z"
    }
   },
   "cell_type": "code",
   "source": [
    "# imaging.save_nii(myo_line.astype(np.int8), 'myo_line.nii.gz')\n",
    "# imaging.save_nii(spl_line.astype(np.int8), 'spl_line.nii.gz')\n",
    "# imaging.save_nii(some_line.astype(np.int8), 'some_line.nii.gz')\n",
    "# imaging.save_nii(prox_line.astype(np.int8), 'prox_line.nii.gz')"
   ],
   "id": "17bd1cb440b0390d",
   "outputs": [],
   "execution_count": 6
  },
  {
   "metadata": {
    "ExecuteTime": {
     "end_time": "2024-12-06T18:49:03.809214Z",
     "start_time": "2024-12-06T18:49:03.803452Z"
    }
   },
   "cell_type": "code",
   "source": [
    "# pp = Preprocessing([\n",
    "#     # 'isotropy',\n",
    "#     'norm_percentile',\n",
    "#     'bilateral',\n",
    "# ])\n",
    "\n",
    "# nuclei = pp.run(nuclei_raw_path, verbose=1)\n",
    "# mem = pp.run(mem_raw_path, verbose=1)"
   ],
   "id": "3acd6c5b32173ade",
   "outputs": [],
   "execution_count": 7
  },
  {
   "metadata": {
    "ExecuteTime": {
     "end_time": "2024-12-06T18:49:10.216382Z",
     "start_time": "2024-12-06T18:49:03.811009Z"
    }
   },
   "cell_type": "code",
   "source": [
    "viewer = napari.Viewer()\n",
    "# viewer.add_image(nuclei, name='Nuclei', colormap='blue')\n",
    "# viewer.add_image(mem, name='Membrane', colormap='green')"
   ],
   "id": "a2494afd6f67a325",
   "outputs": [],
   "execution_count": 8
  },
  {
   "metadata": {
    "ExecuteTime": {
     "end_time": "2024-12-06T18:49:11.109185Z",
     "start_time": "2024-12-06T18:49:10.221017Z"
    }
   },
   "cell_type": "code",
   "source": "viewer.add_image(myo_line, name='Myocardium', colormap='blue')",
   "id": "9c5fe5292750f146",
   "outputs": [
    {
     "data": {
      "text/plain": [
       "<Image layer 'Myocardium' at 0x76349ff6f6d0>"
      ]
     },
     "execution_count": 9,
     "metadata": {},
     "output_type": "execute_result"
    }
   ],
   "execution_count": 9
  },
  {
   "metadata": {
    "ExecuteTime": {
     "end_time": "2024-12-06T18:49:11.433288Z",
     "start_time": "2024-12-06T18:49:11.111818Z"
    }
   },
   "cell_type": "code",
   "source": [
    "\n",
    "viewer.add_image(spl_line, name='Splanchnic', colormap='pink')"
   ],
   "id": "a83163e31e0d30e7",
   "outputs": [
    {
     "data": {
      "text/plain": [
       "<Image layer 'Splanchnic' at 0x76349d7f0310>"
      ]
     },
     "execution_count": 10,
     "metadata": {},
     "output_type": "execute_result"
    }
   ],
   "execution_count": 10
  },
  {
   "metadata": {
    "ExecuteTime": {
     "end_time": "2024-12-06T18:49:11.797303Z",
     "start_time": "2024-12-06T18:49:11.436272Z"
    }
   },
   "cell_type": "code",
   "source": [
    "\n",
    "viewer.add_image(some_line, name='Somatic', colormap='purple')"
   ],
   "id": "8ef130dcd4fd4ff5",
   "outputs": [
    {
     "data": {
      "text/plain": [
       "<Image layer 'Somatic' at 0x76349c18a3b0>"
      ]
     },
     "execution_count": 11,
     "metadata": {},
     "output_type": "execute_result"
    }
   ],
   "execution_count": 11
  },
  {
   "metadata": {
    "ExecuteTime": {
     "end_time": "2024-12-06T18:49:12.073424Z",
     "start_time": "2024-12-06T18:49:11.799141Z"
    }
   },
   "cell_type": "code",
   "source": [
    "\n",
    "viewer.add_image(prox_line, name='Proximal', colormap='green')"
   ],
   "id": "f7da059118ae42f3",
   "outputs": [
    {
     "data": {
      "text/plain": [
       "<Image layer 'Proximal' at 0x76349c0f4400>"
      ]
     },
     "execution_count": 12,
     "metadata": {},
     "output_type": "execute_result"
    }
   ],
   "execution_count": 12
  },
  {
   "metadata": {},
   "cell_type": "code",
   "source": [
    "# imaging.save_nii(myo_line.astype(np.uint8), 'myo_line.nii')\n",
    "# imaging.save_nii(spl_line.astype(np.uint8), 'spl_line.nii')\n",
    "# imaging.save_nii(some_line.astype(np.uint8), 'some_line.nii')\n",
    "# imaging.save_nii(prox_line.astype(np.uint8), 'prox_line.nii')\n",
    "\n",
    "# imaging.save_nii(nuclei.astype(np.float32), 'nuclei.nii')\n",
    "# imaging.save_nii(mem.astype(np.float32), 'membrane.nii')"
   ],
   "id": "c9f8ae45b276d969",
   "outputs": [],
   "execution_count": null
  }
 ],
 "metadata": {
  "kernelspec": {
   "display_name": "Python 3",
   "language": "python",
   "name": "python3"
  },
  "language_info": {
   "codemirror_mode": {
    "name": "ipython",
    "version": 2
   },
   "file_extension": ".py",
   "mimetype": "text/x-python",
   "name": "python",
   "nbconvert_exporter": "python",
   "pygments_lexer": "ipython2",
   "version": "2.7.6"
  }
 },
 "nbformat": 4,
 "nbformat_minor": 5
}
