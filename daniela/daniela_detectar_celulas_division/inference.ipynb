{
 "cells": [
  {
   "cell_type": "code",
   "execution_count": 1,
   "id": "1a3d0aa0",
   "metadata": {},
   "outputs": [
    {
     "name": "stderr",
     "output_type": "stream",
     "text": [
      "Using TensorFlow backend.\n"
     ]
    }
   ],
   "source": [
    "from mrcnn import utils\n",
    "import mrcnn.model as modellib\n",
    "from mrcnn import visualize\n",
    "from mrcnn.model import log\n",
    "import os\n",
    "from mrcnn.config import Config\n",
    "from PIL import Image\n",
    "import numpy as np\n",
    "import matplotlib.pyplot as plt\n",
    "import nibabel as nib\n",
    "import cv2\n",
    "import pickle\n",
    "from PIL import Image\n",
    "from itertools import product\n",
    "from skimage.segmentation import find_boundaries\n",
    "import pandas as pd"
   ]
  },
  {
   "cell_type": "code",
   "execution_count": 2,
   "id": "952fc173",
   "metadata": {},
   "outputs": [],
   "source": [
    "import sys\n",
    "import importlib"
   ]
  },
  {
   "cell_type": "code",
   "execution_count": 3,
   "id": "375e797d",
   "metadata": {},
   "outputs": [],
   "source": [
    "sys.path.insert(1, \"/Users/dvarelat/Documents/MASTER/TFM/methods\")\n",
    "import cardiac_region\n",
    "importlib.reload(cardiac_region)\n",
    "import cardiac_region as c"
   ]
  },
  {
   "cell_type": "code",
   "execution_count": 27,
   "id": "3a1a0d9d",
   "metadata": {},
   "outputs": [],
   "source": [
    "class CaseConfig(Config):\n",
    "    \"\"\"Configuration for training on the toy  dataset.\n",
    "    Derives from the base Config class and overrides some values.\n",
    "    \"\"\"\n",
    "\n",
    "    # Set batch size to 1 since we'll be running inference on\n",
    "    # one image at a time. Batch size = GPU_COUNT * IMAGES_PER_GPU\n",
    "    GPU_COUNT = 1\n",
    "    IMAGES_PER_GPU = 1\n",
    "    NAME = \"testing\"\n",
    "    # Number of classes (including background)\n",
    "    NUM_CLASSES = 1 + 1  # Background + balloon\n",
    "\n",
    "    # Number of training steps per epoch\n",
    "    # STEPS_PER_EPOCH = 1000\n",
    "\n",
    "    # Skip detections with < 70% confidence\n",
    "    DETECTION_MIN_CONFIDENCE = 0.7\n",
    "\n",
    "    # 3 si son imagenes en RGB\n",
    "    # IMAGE_CHANNEL_COUNT = 1\n",
    "\n",
    "    IMAGE_MAX_DIM = 256\n",
    "    IMAGE_MIN_DIM = 64\n",
    "\n",
    "    # El numero de objetos maximo de objetos que se pueden encontrar en una imagen\n",
    "    TRAIN_ROIS_PER_IMAGE = 256\n",
    "\n",
    "    RPN_ANCHOR_SCALES = (8, 16, 32, 64, 128)\n",
    "\n",
    "    MAX_GT_INSTANCES = 256\n",
    "\n",
    "    POST_NMS_ROIS_INFERENCE = 2048\n",
    "    POST_NMS_ROIS_TRAINING = 2048\n",
    "    RPN_NMS_THRESHOLD = 0.8"
   ]
  },
  {
   "cell_type": "code",
   "execution_count": 28,
   "id": "763b20e1",
   "metadata": {},
   "outputs": [
    {
     "name": "stdout",
     "output_type": "stream",
     "text": [
      "\n",
      "Configurations:\n",
      "BACKBONE                       resnet101\n",
      "BACKBONE_STRIDES               [4, 8, 16, 32, 64]\n",
      "BATCH_SIZE                     1\n",
      "BBOX_STD_DEV                   [0.1 0.1 0.2 0.2]\n",
      "COMPUTE_BACKBONE_SHAPE         None\n",
      "DETECTION_MAX_INSTANCES        100\n",
      "DETECTION_MIN_CONFIDENCE       0.7\n",
      "DETECTION_NMS_THRESHOLD        0.3\n",
      "FPN_CLASSIF_FC_LAYERS_SIZE     1024\n",
      "GPU_COUNT                      1\n",
      "GRADIENT_CLIP_NORM             5.0\n",
      "IMAGES_PER_GPU                 1\n",
      "IMAGE_CHANNEL_COUNT            3\n",
      "IMAGE_MAX_DIM                  256\n",
      "IMAGE_META_SIZE                14\n",
      "IMAGE_MIN_DIM                  64\n",
      "IMAGE_MIN_SCALE                0\n",
      "IMAGE_RESIZE_MODE              square\n",
      "IMAGE_SHAPE                    [256 256   3]\n",
      "LEARNING_MOMENTUM              0.9\n",
      "LEARNING_RATE                  0.001\n",
      "LOSS_WEIGHTS                   {'rpn_class_loss': 1.0, 'rpn_bbox_loss': 1.0, 'mrcnn_class_loss': 1.0, 'mrcnn_bbox_loss': 1.0, 'mrcnn_mask_loss': 1.0}\n",
      "MASK_POOL_SIZE                 14\n",
      "MASK_SHAPE                     [28, 28]\n",
      "MAX_GT_INSTANCES               256\n",
      "MEAN_PIXEL                     [123.7 116.8 103.9]\n",
      "MINI_MASK_SHAPE                (56, 56)\n",
      "NAME                           testing\n",
      "NUM_CLASSES                    2\n",
      "POOL_SIZE                      7\n",
      "POST_NMS_ROIS_INFERENCE        2048\n",
      "POST_NMS_ROIS_TRAINING         2048\n",
      "PRE_NMS_LIMIT                  6000\n",
      "ROI_POSITIVE_RATIO             0.33\n",
      "RPN_ANCHOR_RATIOS              [0.5, 1, 2]\n",
      "RPN_ANCHOR_SCALES              (8, 16, 32, 64, 128)\n",
      "RPN_ANCHOR_STRIDE              1\n",
      "RPN_BBOX_STD_DEV               [0.1 0.1 0.2 0.2]\n",
      "RPN_NMS_THRESHOLD              0.8\n",
      "RPN_TRAIN_ANCHORS_PER_IMAGE    256\n",
      "STEPS_PER_EPOCH                1000\n",
      "TOP_DOWN_PYRAMID_SIZE          256\n",
      "TRAIN_BN                       False\n",
      "TRAIN_ROIS_PER_IMAGE           256\n",
      "USE_MINI_MASK                  True\n",
      "USE_RPN_ROIS                   True\n",
      "VALIDATION_STEPS               50\n",
      "WEIGHT_DECAY                   0.0001\n",
      "\n",
      "\n",
      "None\n"
     ]
    }
   ],
   "source": [
    "m = \"mask_rcnn_dapidv_all_0100.h5\"\n",
    "MODEL_DIR = \"logs\"\n",
    "config = CaseConfig()\n",
    "print(config.display())"
   ]
  },
  {
   "cell_type": "markdown",
   "id": "56faebf0",
   "metadata": {},
   "source": [
    "# LOAD ISAAC MODEL"
   ]
  },
  {
   "cell_type": "code",
   "execution_count": 29,
   "id": "f568cea0",
   "metadata": {},
   "outputs": [
    {
     "name": "stdout",
     "output_type": "stream",
     "text": [
      "WARNING:tensorflow:From /opt/miniconda3/envs/mask36/lib/python3.6/site-packages/tensorflow_core/python/ops/resource_variable_ops.py:1630: calling BaseResourceVariable.__init__ (from tensorflow.python.ops.resource_variable_ops) with constraint is deprecated and will be removed in a future version.\n",
      "Instructions for updating:\n",
      "If using Keras pass *_constraint arguments to layers.\n",
      "WARNING:tensorflow:From /opt/miniconda3/envs/mask36/lib/python3.6/site-packages/keras/backend/tensorflow_backend.py:4070: The name tf.nn.max_pool is deprecated. Please use tf.nn.max_pool2d instead.\n",
      "\n",
      "WARNING:tensorflow:From /opt/miniconda3/envs/mask36/lib/python3.6/site-packages/mask_rcnn-2.1-py3.6.egg/mrcnn/model.py:341: The name tf.log is deprecated. Please use tf.math.log instead.\n",
      "\n",
      "WARNING:tensorflow:From /opt/miniconda3/envs/mask36/lib/python3.6/site-packages/mask_rcnn-2.1-py3.6.egg/mrcnn/model.py:399: where (from tensorflow.python.ops.array_ops) is deprecated and will be removed in a future version.\n",
      "Instructions for updating:\n",
      "Use tf.where in 2.0, which has the same broadcast rule as np.where\n",
      "WARNING:tensorflow:From /opt/miniconda3/envs/mask36/lib/python3.6/site-packages/mask_rcnn-2.1-py3.6.egg/mrcnn/model.py:423: calling crop_and_resize_v1 (from tensorflow.python.ops.image_ops_impl) with box_ind is deprecated and will be removed in a future version.\n",
      "Instructions for updating:\n",
      "box_ind is deprecated, use box_indices instead\n",
      "WARNING:tensorflow:From /opt/miniconda3/envs/mask36/lib/python3.6/site-packages/mask_rcnn-2.1-py3.6.egg/mrcnn/model.py:720: The name tf.sets.set_intersection is deprecated. Please use tf.sets.intersection instead.\n",
      "\n",
      "WARNING:tensorflow:From /opt/miniconda3/envs/mask36/lib/python3.6/site-packages/mask_rcnn-2.1-py3.6.egg/mrcnn/model.py:722: The name tf.sparse_tensor_to_dense is deprecated. Please use tf.sparse.to_dense instead.\n",
      "\n",
      "WARNING:tensorflow:From /opt/miniconda3/envs/mask36/lib/python3.6/site-packages/mask_rcnn-2.1-py3.6.egg/mrcnn/model.py:772: to_float (from tensorflow.python.ops.math_ops) is deprecated and will be removed in a future version.\n",
      "Instructions for updating:\n",
      "Use `tf.cast` instead.\n"
     ]
    }
   ],
   "source": [
    "model = modellib.MaskRCNN(mode=\"inference\", model_dir=MODEL_DIR, config=config)\n",
    "model.load_weights(m, by_name=True)"
   ]
  },
  {
   "cell_type": "code",
   "execution_count": 42,
   "id": "611f8746",
   "metadata": {},
   "outputs": [
    {
     "data": {
      "text/plain": [
       "(1024, 1024, 413)"
      ]
     },
     "execution_count": 42,
     "metadata": {},
     "output_type": "execute_result"
    }
   ],
   "source": [
    "folder = \"/Users/dvarelat/Documents/MASTER/TFM/DATA/DECON_05/DAPI\"\n",
    "imarray = nib.load(os.path.join(folder, '20190504_E1_DAPI_decon_0.5.nii.gz')).get_fdata() \n",
    "imarray = imarray[:,:,:,0]\n",
    "imarray.shape"
   ]
  },
  {
   "cell_type": "code",
   "execution_count": 35,
   "id": "2a65a6ba",
   "metadata": {},
   "outputs": [
    {
     "data": {
      "text/plain": [
       "(1024, 1024)"
      ]
     },
     "execution_count": 35,
     "metadata": {},
     "output_type": "execute_result"
    }
   ],
   "source": [
    "slice_ = imarray[:,:,18,0].astype(\"uint16\")\n",
    "slice_.shape"
   ]
  },
  {
   "cell_type": "code",
   "execution_count": 38,
   "id": "24dc38f2",
   "metadata": {},
   "outputs": [],
   "source": [
    "def tile(img, d):\n",
    "    w, h, c = img.shape\n",
    "    grid = product(range(0, h-h%d, d), range(0, w-w%d, d))\n",
    "    l = []\n",
    "    for i, j in grid:\n",
    "        box = (j, i, j+d, i+d)\n",
    "        l.append(box)\n",
    "        #l.append(img.crop(box)) \n",
    "    crops = {}\n",
    "    for u,x in enumerate(l):\n",
    "        crops[\"{}_{}_{}_{}\".format(x[0],x[2],x[1],x[3])] = img[x[0]:x[2], x[1]:x[3]]\n",
    "    return crops"
   ]
  },
  {
   "cell_type": "code",
   "execution_count": 46,
   "id": "66bf7390",
   "metadata": {},
   "outputs": [
    {
     "data": {
      "text/plain": [
       "dict_keys(['0_256_0_256', '256_512_0_256', '512_768_0_256', '768_1024_0_256', '0_256_256_512', '256_512_256_512', '512_768_256_512', '768_1024_256_512', '0_256_512_768', '256_512_512_768', '512_768_512_768', '768_1024_512_768', '0_256_768_1024', '256_512_768_1024', '512_768_768_1024', '768_1024_768_1024'])"
      ]
     },
     "execution_count": 46,
     "metadata": {},
     "output_type": "execute_result"
    }
   ],
   "source": [
    "crops = tile(imarray, 256)\n",
    "crops.keys()"
   ]
  },
  {
   "cell_type": "code",
   "execution_count": null,
   "id": "fa33469b",
   "metadata": {},
   "outputs": [],
   "source": []
  },
  {
   "cell_type": "code",
   "execution_count": null,
   "id": "9dbd9fac",
   "metadata": {},
   "outputs": [],
   "source": []
  },
  {
   "cell_type": "code",
   "execution_count": 211,
   "id": "6c0b4ad0",
   "metadata": {},
   "outputs": [],
   "source": []
  },
  {
   "cell_type": "code",
   "execution_count": null,
   "id": "f3b143fa",
   "metadata": {},
   "outputs": [],
   "source": []
  },
  {
   "cell_type": "code",
   "execution_count": null,
   "id": "e178db66",
   "metadata": {},
   "outputs": [],
   "source": []
  },
  {
   "cell_type": "markdown",
   "id": "d550d196",
   "metadata": {},
   "source": [
    "## CREATE LIST PICKLE OF PRED"
   ]
  },
  {
   "cell_type": "code",
   "execution_count": 47,
   "id": "293aaaa4",
   "metadata": {},
   "outputs": [
    {
     "data": {
      "text/plain": [
       "(1024, 1024, 413)"
      ]
     },
     "execution_count": 47,
     "metadata": {},
     "output_type": "execute_result"
    }
   ],
   "source": [
    "imarray.shape"
   ]
  },
  {
   "cell_type": "code",
   "execution_count": null,
   "id": "f72f609d",
   "metadata": {},
   "outputs": [],
   "source": [
    "results = []\n",
    "image = cv2.cvtColor(imarray[:,:,i].astype(\"uint16\"), cv2.COLOR_GRAY2RGB)\n",
    "for i in range(18, 256): ## recorrer slices según margenes lines\n",
    "    print(i)\n",
    "    s = cv2.cvtColor(imarray[:,:,i].astype(\"uint16\"), cv2.COLOR_GRAY2RGB)\n",
    "    crops = tile(s, 256)\n",
    "    res_crops = []\n",
    "    for c in crops.keys():\n",
    "        r = model.detect([crops[c]], verbose=0)\n",
    "        res_crops.append(r[0])\n",
    "        print(c)\n",
    "    results.append(res_crops)\n",
    "## este results es el pickle "
   ]
  },
  {
   "cell_type": "code",
   "execution_count": null,
   "id": "89af16a4",
   "metadata": {},
   "outputs": [],
   "source": []
  },
  {
   "cell_type": "code",
   "execution_count": null,
   "id": "dbd46711",
   "metadata": {},
   "outputs": [],
   "source": []
  },
  {
   "cell_type": "markdown",
   "id": "61c7ba39",
   "metadata": {},
   "source": [
    "## predecir un slice"
   ]
  },
  {
   "cell_type": "code",
   "execution_count": 61,
   "id": "497dab51",
   "metadata": {},
   "outputs": [
    {
     "name": "stdout",
     "output_type": "stream",
     "text": [
      "0_256_0_256\n",
      "256_512_0_256\n",
      "512_768_0_256\n",
      "768_1024_0_256\n",
      "0_256_256_512\n",
      "256_512_256_512\n",
      "512_768_256_512\n",
      "768_1024_256_512\n",
      "0_256_512_768\n",
      "256_512_512_768\n",
      "512_768_512_768\n",
      "768_1024_512_768\n",
      "0_256_768_1024\n",
      "256_512_768_1024\n",
      "512_768_768_1024\n",
      "768_1024_768_1024\n"
     ]
    }
   ],
   "source": [
    "s = cv2.cvtColor(mask_nuclei[:,:, 100].astype(\"uint16\"), cv2.COLOR_GRAY2RGB)\n",
    "crops = tile(s, 256)\n",
    "res_crops = []\n",
    "for c in crops.keys():\n",
    "    r = model.detect([crops[c]], verbose=0)\n",
    "    res_crops.append(r[0])\n",
    "    print(c)"
   ]
  },
  {
   "cell_type": "code",
   "execution_count": 62,
   "id": "fc33843b",
   "metadata": {},
   "outputs": [
    {
     "data": {
      "text/plain": [
       "dict_keys(['256_512_0_256', '256_512_256_512', '256_512_512_768', '512_768_512_768'])"
      ]
     },
     "execution_count": 62,
     "metadata": {},
     "output_type": "execute_result"
    }
   ],
   "source": [
    "### para un slice\n",
    "R = [i for i,r in enumerate(res_crops) if r[\"masks\"].shape[2] != 0 ]\n",
    "results_good = {list(crops.keys())[i]:res_crops[i] for i in R}\n",
    "results_good.keys()"
   ]
  },
  {
   "cell_type": "markdown",
   "id": "338d1c59",
   "metadata": {},
   "source": [
    "## REVISAR POR CROPS"
   ]
  },
  {
   "cell_type": "code",
   "execution_count": 56,
   "id": "2636a992",
   "metadata": {},
   "outputs": [
    {
     "ename": "KeyError",
     "evalue": "'0_256_512_768'",
     "output_type": "error",
     "traceback": [
      "\u001B[0;31m---------------------------------------------------------------------------\u001B[0m",
      "\u001B[0;31mKeyError\u001B[0m                                  Traceback (most recent call last)",
      "\u001B[0;32m<ipython-input-56-f011b55e4d40>\u001B[0m in \u001B[0;36m<module>\u001B[0;34m\u001B[0m\n\u001B[1;32m      1\u001B[0m \u001B[0mk\u001B[0m \u001B[0;34m=\u001B[0m\u001B[0;34m'0_256_512_768'\u001B[0m\u001B[0;34m\u001B[0m\u001B[0;34m\u001B[0m\u001B[0m\n\u001B[0;32m----> 2\u001B[0;31m \u001B[0mx\u001B[0m \u001B[0;34m=\u001B[0m \u001B[0mresults_good\u001B[0m\u001B[0;34m[\u001B[0m\u001B[0mk\u001B[0m\u001B[0;34m]\u001B[0m\u001B[0;34m[\u001B[0m\u001B[0;34m\"masks\"\u001B[0m\u001B[0;34m]\u001B[0m\u001B[0;34m\u001B[0m\u001B[0;34m\u001B[0m\u001B[0m\n\u001B[0m\u001B[1;32m      3\u001B[0m \u001B[0;32mif\u001B[0m \u001B[0mx\u001B[0m\u001B[0;34m.\u001B[0m\u001B[0mshape\u001B[0m\u001B[0;34m[\u001B[0m\u001B[0;36m2\u001B[0m\u001B[0;34m]\u001B[0m \u001B[0;34m>\u001B[0m\u001B[0;36m1\u001B[0m \u001B[0;34m:\u001B[0m\u001B[0;34m\u001B[0m\u001B[0;34m\u001B[0m\u001B[0m\n\u001B[1;32m      4\u001B[0m     \u001B[0mprint\u001B[0m\u001B[0;34m(\u001B[0m\u001B[0mx\u001B[0m\u001B[0;34m.\u001B[0m\u001B[0mshape\u001B[0m\u001B[0;34m)\u001B[0m\u001B[0;34m\u001B[0m\u001B[0;34m\u001B[0m\u001B[0m\n\u001B[1;32m      5\u001B[0m     \u001B[0mx\u001B[0m \u001B[0;34m=\u001B[0m \u001B[0mnp\u001B[0m\u001B[0;34m.\u001B[0m\u001B[0msum\u001B[0m\u001B[0;34m(\u001B[0m\u001B[0mresults_good\u001B[0m\u001B[0;34m[\u001B[0m\u001B[0mk\u001B[0m\u001B[0;34m]\u001B[0m\u001B[0;34m[\u001B[0m\u001B[0;34m\"masks\"\u001B[0m\u001B[0;34m]\u001B[0m\u001B[0;34m,\u001B[0m \u001B[0maxis\u001B[0m\u001B[0;34m=\u001B[0m\u001B[0;36m2\u001B[0m\u001B[0;34m)\u001B[0m\u001B[0;34m\u001B[0m\u001B[0;34m\u001B[0m\u001B[0m\n",
      "\u001B[0;31mKeyError\u001B[0m: '0_256_512_768'"
     ]
    }
   ],
   "source": [
    "k ='0_256_512_768'\n",
    "x = results_good[k][\"masks\"]\n",
    "if x.shape[2] >1 :\n",
    "    print(x.shape)\n",
    "    x = np.sum(results_good[k][\"masks\"], axis=2)\n",
    "    x = x.reshape((256, 256))\n",
    "print(x.shape)"
   ]
  },
  {
   "cell_type": "code",
   "execution_count": 352,
   "id": "7e942955",
   "metadata": {},
   "outputs": [
    {
     "name": "stdout",
     "output_type": "stream",
     "text": [
      "(256, 256)\n"
     ]
    },
    {
     "data": {
      "image/png": "[encoded data removed]",
      "text/plain": [
       "<Figure size 3600x3600 with 3 Axes>"
      ]
     },
     "metadata": {
      "needs_background": "light"
     },
     "output_type": "display_data"
    }
   ],
   "source": [
    "CROP  = cv2.cvtColor(crops[k], cv2.COLOR_BGR2GRAY)\n",
    "mask = np.where(x == 1, 1,0)\n",
    "print(mask.shape)\n",
    "plt.figure(figsize=(50,50)) \n",
    "plots = [CROP, x, (CROP*mask)]\n",
    "for i in range(len(plots)):\n",
    "    plt.subplot(1,len(plots), i+1)\n",
    "    plt.imshow(plots[i])"
   ]
  },
  {
   "cell_type": "markdown",
   "id": "cf17e833",
   "metadata": {},
   "source": [
    "## revisar Todo el slice"
   ]
  },
  {
   "cell_type": "code",
   "execution_count": 63,
   "id": "0043f9aa",
   "metadata": {},
   "outputs": [
    {
     "name": "stdout",
     "output_type": "stream",
     "text": [
      "(256, 256, 2)\n",
      "(256, 256)\n",
      "(256, 256)\n",
      "(256, 256, 3)\n",
      "(256, 256)\n",
      "(256, 256)\n",
      "(256, 256, 3)\n",
      "(256, 256)\n",
      "(256, 256)\n",
      "(256, 256, 2)\n",
      "(256, 256)\n",
      "(256, 256)\n"
     ]
    }
   ],
   "source": [
    "prediction = np.zeros((1024,1024))\n",
    "for k in results_good.keys():\n",
    "    x = results_good[k][\"masks\"]\n",
    "    if x.shape[2] >1 :\n",
    "        print(x.shape)\n",
    "        x = np.sum(results_good[k][\"masks\"], axis=2)\n",
    "    x = x.reshape((256, 256))     \n",
    "    print(x.shape)\n",
    "    kk = k.split(\"_\")\n",
    "    kk = [int(i) for i in kk]\n",
    "    print(prediction[kk[0]:kk[1], kk[2]:kk[3]].shape)\n",
    "    prediction[kk[0]:kk[1], kk[2]:kk[3]] = x"
   ]
  },
  {
   "cell_type": "code",
   "execution_count": 64,
   "id": "f8b8d6dd",
   "metadata": {},
   "outputs": [
    {
     "data": {
      "image/png": "[encoded data removed]",
      "text/plain": [
       "<Figure size 3600x3600 with 3 Axes>"
      ]
     },
     "metadata": {
      "needs_background": "light"
     },
     "output_type": "display_data"
    }
   ],
   "source": [
    "plt.figure(figsize=(50,50)) \n",
    "sgray = cv2.cvtColor(s, cv2.COLOR_BGR2GRAY)\n",
    "plots = [sgray, prediction, (sgray*prediction)]\n",
    "for i in range(len(plots)):\n",
    "    plt.subplot(1,len(plots), i+1)\n",
    "    plt.imshow(plots[i])"
   ]
  },
  {
   "cell_type": "code",
   "execution_count": null,
   "id": "99181439",
   "metadata": {},
   "outputs": [],
   "source": []
  },
  {
   "cell_type": "code",
   "execution_count": null,
   "id": "d4537cdb",
   "metadata": {},
   "outputs": [],
   "source": []
  },
  {
   "cell_type": "markdown",
   "id": "8474d3cb",
   "metadata": {},
   "source": [
    "# FULL INFERENCE"
   ]
  },
  {
   "cell_type": "code",
   "execution_count": 4,
   "id": "e0d003b6",
   "metadata": {},
   "outputs": [],
   "source": [
    "inf = \"/Users/dvarelat/Documents/MASTER/TFM/methods/division/INFERENCE/20190504_E1_inference.pkl\"\n",
    "file =\"/Users/dvarelat/Documents/MASTER/TFM/DATA/DECON_05/DAPI/20190504_E1_DAPI_decon_0.5.nii.gz\""
   ]
  },
  {
   "cell_type": "code",
   "execution_count": 5,
   "id": "7eccca7a",
   "metadata": {},
   "outputs": [
    {
     "data": {
      "text/plain": [
       "(1024, 1024, 413, 1)"
      ]
     },
     "execution_count": 5,
     "metadata": {},
     "output_type": "execute_result"
    }
   ],
   "source": [
    "imarray = nib.load(file).get_fdata() \n",
    "imarray.shape"
   ]
  },
  {
   "cell_type": "code",
   "execution_count": null,
   "id": "a2ea01e6",
   "metadata": {},
   "outputs": [],
   "source": []
  },
  {
   "cell_type": "code",
   "execution_count": 12,
   "id": "48f0cc07",
   "metadata": {},
   "outputs": [],
   "source": [
    "w, h = 1024, 1024\n",
    "d = 256\n",
    "grid = product(range(0, h-h%d, d), range(0, w-w%d, d))\n",
    "keys = []\n",
    "for i, j in grid:\n",
    "    box = (j, i, j+d, i+d)\n",
    "    keys.append(\"{}_{}_{}_{}\".format(box[0],box[2],box[1],box[3]))"
   ]
  },
  {
   "cell_type": "code",
   "execution_count": 6,
   "id": "25ec8b20",
   "metadata": {},
   "outputs": [],
   "source": [
    "with open(inf, 'rb') as f:\n",
    "    list_inf = pickle.load(f)"
   ]
  },
  {
   "cell_type": "code",
   "execution_count": 7,
   "id": "e25b507e",
   "metadata": {},
   "outputs": [
    {
     "data": {
      "text/plain": [
       "238"
      ]
     },
     "execution_count": 7,
     "metadata": {},
     "output_type": "execute_result"
    }
   ],
   "source": [
    "len(list_inf)"
   ]
  },
  {
   "cell_type": "code",
   "execution_count": 62,
   "id": "008eaefc",
   "metadata": {},
   "outputs": [
    {
     "name": "stdout",
     "output_type": "stream",
     "text": [
      "168\n"
     ]
    },
    {
     "data": {
      "text/plain": [
       "(1024, 1024)"
      ]
     },
     "execution_count": 62,
     "metadata": {},
     "output_type": "execute_result"
    }
   ],
   "source": [
    "z = 150\n",
    "zreal = z + zini\n",
    "print(zreal)\n",
    "res_crops = list_inf[z] # de un solo slice\n",
    "sgray = imarray[:,:,zreal,0].astype(\"uint16\")\n",
    "sgray.shape"
   ]
  },
  {
   "cell_type": "code",
   "execution_count": 63,
   "id": "aea4a7d4",
   "metadata": {},
   "outputs": [
    {
     "data": {
      "text/plain": [
       "dict_keys(['0_256_0_256', '256_512_0_256', '512_768_0_256', '768_1024_0_256', '0_256_256_512', '256_512_256_512', '512_768_256_512', '768_1024_256_512', '0_256_512_768', '256_512_512_768', '512_768_512_768', '0_256_768_1024', '256_512_768_1024', '512_768_768_1024', '768_1024_768_1024'])"
      ]
     },
     "execution_count": 63,
     "metadata": {},
     "output_type": "execute_result"
    }
   ],
   "source": [
    "R = [i for i,r in enumerate(res_crops) if r[\"masks\"].shape[2] != 0 ]\n",
    "results_good = {keys[i]:res_crops[i] for i in R}\n",
    "results_good.keys()"
   ]
  },
  {
   "cell_type": "code",
   "execution_count": 87,
   "id": "7d486645",
   "metadata": {},
   "outputs": [
    {
     "name": "stdout",
     "output_type": "stream",
     "text": [
      "0_256_0_256\n",
      "256_512_0_256\n",
      "512_768_0_256\n",
      "768_1024_0_256\n",
      "0_256_256_512\n",
      "256_512_256_512\n",
      "512_768_256_512\n",
      "768_1024_256_512\n",
      "0_256_512_768\n",
      "256_512_512_768\n",
      "512_768_512_768\n",
      "0_256_768_1024\n",
      "256_512_768_1024\n",
      "512_768_768_1024\n",
      "768_1024_768_1024\n"
     ]
    }
   ],
   "source": [
    "prediction = np.zeros((1024,1024))\n",
    "for k in results_good.keys():\n",
    "    print(k)\n",
    "    x = results_good[k][\"masks\"]\n",
    "    if x.shape[2] >1 :\n",
    "        x = np.sum(results_good[k][\"masks\"], axis=2)\n",
    "    x = x.reshape((256, 256))     \n",
    "    kk = k.split(\"_\")\n",
    "    kk = [int(i) for i in kk]\n",
    "    prediction[kk[0]:kk[1], kk[2]:kk[3]] = x"
   ]
  },
  {
   "cell_type": "code",
   "execution_count": null,
   "id": "488ee1bd",
   "metadata": {},
   "outputs": [],
   "source": [
    "plt.figure(figsize=(50,50)) \n",
    "plots = [sgray, prediction, (sgray*prediction) , sgray + 100*find_boundaries(prediction)]\n",
    "for i in range(len(plots)):\n",
    "    plt.subplot(1,len(plots), i+1)\n",
    "    plt.imshow(plots[i])"
   ]
  },
  {
   "cell_type": "markdown",
   "id": "9073e05c",
   "metadata": {},
   "source": [
    "# create prediction mask"
   ]
  },
  {
   "cell_type": "code",
   "execution_count": 10,
   "id": "66b58b45",
   "metadata": {},
   "outputs": [
    {
     "name": "stdout",
     "output_type": "stream",
     "text": [
      "(1024, 1024, 413, 1)\n"
     ]
    }
   ],
   "source": [
    "print(imarray.shape)\n",
    "zini = 18\n",
    "zfin = 256"
   ]
  },
  {
   "cell_type": "code",
   "execution_count": 13,
   "id": "8536dbd7",
   "metadata": {},
   "outputs": [
    {
     "name": "stdout",
     "output_type": "stream",
     "text": [
      "0\n",
      "(1024, 1024)\n",
      "[]\n",
      "..........\n",
      "1\n",
      "(1024, 1024)\n",
      "[]\n",
      "..........\n",
      "2\n",
      "(1024, 1024)\n",
      "[]\n",
      "..........\n",
      "3\n",
      "(1024, 1024)\n",
      "[]\n",
      "..........\n",
      "4\n",
      "(1024, 1024)\n",
      "[]\n",
      "..........\n",
      "5\n",
      "(1024, 1024)\n",
      "[]\n",
      "..........\n",
      "6\n",
      "(1024, 1024)\n",
      "[]\n",
      "..........\n",
      "7\n",
      "(1024, 1024)\n",
      "[]\n",
      "..........\n",
      "8\n",
      "(1024, 1024)\n",
      "[]\n",
      "..........\n",
      "9\n",
      "(1024, 1024)\n",
      "[]\n",
      "..........\n",
      "10\n",
      "(1024, 1024)\n",
      "[4]\n",
      "..........\n",
      "11\n",
      "(1024, 1024)\n",
      "[4, 9]\n",
      "..........\n",
      "12\n",
      "(1024, 1024)\n",
      "[4, 9]\n",
      "..........\n",
      "13\n",
      "(1024, 1024)\n",
      "[4, 9]\n",
      "..........\n",
      "14\n",
      "(1024, 1024)\n",
      "[4, 9, 13]\n",
      "..........\n",
      "15\n",
      "(1024, 1024)\n",
      "[4]\n",
      "..........\n",
      "16\n",
      "(1024, 1024)\n",
      "[4]\n",
      "..........\n",
      "17\n",
      "(1024, 1024)\n",
      "[4]\n",
      "..........\n",
      "18\n",
      "(1024, 1024)\n",
      "[4, 9]\n",
      "..........\n",
      "19\n",
      "(1024, 1024)\n",
      "[9]\n",
      "..........\n",
      "20\n",
      "(1024, 1024)\n",
      "[]\n",
      "..........\n",
      "21\n",
      "(1024, 1024)\n",
      "[]\n",
      "..........\n",
      "22\n",
      "(1024, 1024)\n",
      "[]\n",
      "..........\n",
      "23\n",
      "(1024, 1024)\n",
      "[9]\n",
      "..........\n",
      "24\n",
      "(1024, 1024)\n",
      "[9, 13]\n",
      "..........\n",
      "25\n",
      "(1024, 1024)\n",
      "[13]\n",
      "..........\n",
      "26\n",
      "(1024, 1024)\n",
      "[9, 13]\n",
      "..........\n",
      "27\n",
      "(1024, 1024)\n",
      "[]\n",
      "..........\n",
      "28\n",
      "(1024, 1024)\n",
      "[9, 13]\n",
      "..........\n",
      "29\n",
      "(1024, 1024)\n",
      "[13]\n",
      "..........\n",
      "30\n",
      "(1024, 1024)\n",
      "[13]\n",
      "..........\n",
      "31\n",
      "(1024, 1024)\n",
      "[9, 13]\n",
      "..........\n",
      "32\n",
      "(1024, 1024)\n",
      "[5, 9, 13, 14]\n",
      "..........\n",
      "33\n",
      "(1024, 1024)\n",
      "[5, 13]\n",
      "..........\n",
      "34\n",
      "(1024, 1024)\n",
      "[5, 9, 13]\n",
      "..........\n",
      "35\n",
      "(1024, 1024)\n",
      "[5, 9]\n",
      "..........\n",
      "36\n",
      "(1024, 1024)\n",
      "[9]\n",
      "..........\n",
      "37\n",
      "(1024, 1024)\n",
      "[5, 9]\n",
      "..........\n",
      "38\n",
      "(1024, 1024)\n",
      "[9]\n",
      "..........\n",
      "39\n",
      "(1024, 1024)\n",
      "[1, 5, 9, 13, 14]\n",
      "..........\n",
      "40\n",
      "(1024, 1024)\n",
      "[1, 5, 9, 13, 14]\n",
      "..........\n",
      "41\n",
      "(1024, 1024)\n",
      "[1, 5, 9, 14]\n",
      "..........\n",
      "42\n",
      "(1024, 1024)\n",
      "[1, 5, 9, 14]\n",
      "..........\n",
      "43\n",
      "(1024, 1024)\n",
      "[1, 5, 9, 14]\n",
      "..........\n",
      "44\n",
      "(1024, 1024)\n",
      "[1, 5, 9, 13, 14]\n",
      "..........\n",
      "45\n",
      "(1024, 1024)\n",
      "[1, 5, 9, 14]\n",
      "..........\n",
      "46\n",
      "(1024, 1024)\n",
      "[1, 5, 9]\n",
      "..........\n",
      "47\n",
      "(1024, 1024)\n",
      "[1, 5, 9]\n",
      "..........\n",
      "48\n",
      "(1024, 1024)\n",
      "[9]\n",
      "..........\n",
      "49\n",
      "(1024, 1024)\n",
      "[5, 9, 14]\n",
      "..........\n",
      "50\n",
      "(1024, 1024)\n",
      "[5, 9, 13]\n",
      "..........\n",
      "51\n",
      "(1024, 1024)\n",
      "[5, 9, 13]\n",
      "..........\n",
      "52\n",
      "(1024, 1024)\n",
      "[5, 9, 13]\n",
      "..........\n",
      "53\n",
      "(1024, 1024)\n",
      "[5, 9, 13]\n",
      "..........\n",
      "54\n",
      "(1024, 1024)\n",
      "[5, 9]\n",
      "..........\n",
      "55\n",
      "(1024, 1024)\n",
      "[5, 9, 13]\n",
      "..........\n",
      "56\n",
      "(1024, 1024)\n",
      "[5, 9, 13]\n",
      "..........\n",
      "57\n",
      "(1024, 1024)\n",
      "[5, 13, 14]\n",
      "..........\n",
      "58\n",
      "(1024, 1024)\n",
      "[5, 9, 10, 14]\n",
      "..........\n",
      "59\n",
      "(1024, 1024)\n",
      "[5, 9, 10]\n",
      "..........\n",
      "60\n",
      "(1024, 1024)\n",
      "[1, 5, 9, 10]\n",
      "..........\n",
      "61\n",
      "(1024, 1024)\n",
      "[1, 5, 9, 10, 13, 14]\n",
      "..........\n",
      "62\n",
      "(1024, 1024)\n",
      "[1, 5, 9, 10, 13, 14]\n",
      "..........\n",
      "63\n",
      "(1024, 1024)\n",
      "[1, 5, 9, 10, 13, 14]\n",
      "..........\n",
      "64\n",
      "(1024, 1024)\n",
      "[1, 5, 9, 10, 13, 14]\n",
      "..........\n",
      "65\n",
      "(1024, 1024)\n",
      "[5, 9, 10, 13, 14]\n",
      "..........\n",
      "66\n",
      "(1024, 1024)\n",
      "[5, 9, 10, 13, 14]\n",
      "..........\n",
      "67\n",
      "(1024, 1024)\n",
      "[9, 10, 14]\n",
      "..........\n",
      "68\n",
      "(1024, 1024)\n",
      "[5, 9, 10, 14]\n",
      "..........\n",
      "69\n",
      "(1024, 1024)\n",
      "[1, 5, 9, 10, 13]\n",
      "..........\n",
      "70\n",
      "(1024, 1024)\n",
      "[5, 9, 10]\n",
      "..........\n",
      "71\n",
      "(1024, 1024)\n",
      "[5, 9]\n",
      "..........\n",
      "72\n",
      "(1024, 1024)\n",
      "[1, 5, 9, 14]\n",
      "..........\n",
      "73\n",
      "(1024, 1024)\n",
      "[1, 9, 10, 14]\n",
      "..........\n",
      "74\n",
      "(1024, 1024)\n",
      "[5, 9, 10, 14]\n",
      "..........\n",
      "75\n",
      "(1024, 1024)\n",
      "[0, 5, 9, 14]\n",
      "..........\n",
      "76\n",
      "(1024, 1024)\n",
      "[0, 5, 9, 14]\n",
      "..........\n",
      "77\n",
      "(1024, 1024)\n",
      "[0, 1, 5, 9, 14]\n",
      "..........\n",
      "78\n",
      "(1024, 1024)\n",
      "[0, 1, 5, 9, 10, 14]\n",
      "..........\n",
      "79\n",
      "(1024, 1024)\n",
      "[0, 1, 5, 9, 14]\n",
      "..........\n",
      "80\n",
      "(1024, 1024)\n",
      "[1, 5, 9, 10]\n",
      "..........\n",
      "81\n",
      "(1024, 1024)\n",
      "[5, 9, 10, 14]\n",
      "..........\n",
      "82\n",
      "(1024, 1024)\n",
      "[1, 5, 9, 10]\n",
      "..........\n",
      "83\n",
      "(1024, 1024)\n",
      "[1, 5, 9, 10, 13]\n",
      "..........\n",
      "84\n",
      "(1024, 1024)\n",
      "[1, 5, 9, 13]\n",
      "..........\n",
      "85\n",
      "(1024, 1024)\n",
      "[1, 5, 9, 13]\n",
      "..........\n",
      "86\n",
      "(1024, 1024)\n",
      "[1, 5, 9, 13, 14]\n",
      "..........\n",
      "87\n",
      "(1024, 1024)\n",
      "[1, 5, 9, 14]\n",
      "..........\n",
      "88\n",
      "(1024, 1024)\n",
      "[1, 5, 9, 10, 14]\n",
      "..........\n",
      "89\n",
      "(1024, 1024)\n",
      "[1, 5, 9, 10, 14]\n",
      "..........\n",
      "90\n",
      "(1024, 1024)\n",
      "[1, 5, 9, 10, 14]\n",
      "..........\n",
      "91\n",
      "(1024, 1024)\n",
      "[5, 9, 10, 14]\n",
      "..........\n",
      "92\n",
      "(1024, 1024)\n",
      "[5, 10]\n",
      "..........\n",
      "93\n",
      "(1024, 1024)\n",
      "[5, 9, 10]\n",
      "..........\n",
      "94\n",
      "(1024, 1024)\n",
      "[5, 9, 10, 14]\n",
      "..........\n",
      "95\n",
      "(1024, 1024)\n",
      "[1, 5, 9, 10, 14]\n",
      "..........\n",
      "96\n",
      "(1024, 1024)\n",
      "[1, 5, 9, 10, 14]\n",
      "..........\n",
      "97\n",
      "(1024, 1024)\n",
      "[5, 9, 10, 14]\n",
      "..........\n",
      "98\n",
      "(1024, 1024)\n",
      "[1, 5, 9, 10, 14]\n",
      "..........\n",
      "99\n",
      "(1024, 1024)\n",
      "[1, 5, 9]\n",
      "..........\n",
      "100\n",
      "(1024, 1024)\n",
      "[1, 5, 9]\n",
      "..........\n",
      "101\n",
      "(1024, 1024)\n",
      "[1, 5, 9, 13, 14]\n",
      "..........\n",
      "102\n",
      "(1024, 1024)\n",
      "[5, 9, 13, 14]\n",
      "..........\n",
      "103\n",
      "(1024, 1024)\n",
      "[1, 5, 9, 14]\n",
      "..........\n",
      "104\n",
      "(1024, 1024)\n",
      "[1, 5, 9, 14]\n",
      "..........\n",
      "105\n",
      "(1024, 1024)\n",
      "[1, 5, 8, 9, 13, 14]\n",
      "..........\n",
      "106\n",
      "(1024, 1024)\n",
      "[5, 8, 9, 10, 13, 14]\n",
      "..........\n",
      "107\n",
      "(1024, 1024)\n",
      "[1, 5, 8, 9, 10, 13, 14]\n",
      "..........\n",
      "108\n",
      "(1024, 1024)\n",
      "[1, 5, 8, 9, 10, 13, 14]\n",
      "..........\n",
      "109\n",
      "(1024, 1024)\n",
      "[1, 5, 9, 10, 13, 14]\n",
      "..........\n",
      "110\n",
      "(1024, 1024)\n",
      "[1, 5, 9, 10, 13, 14]\n",
      "..........\n",
      "111\n",
      "(1024, 1024)\n",
      "[1, 5, 9, 10, 13, 14]\n",
      "..........\n",
      "112\n",
      "(1024, 1024)\n",
      "[1, 5, 9, 10, 13, 14]\n",
      "..........\n",
      "113\n",
      "(1024, 1024)\n",
      "[1, 5, 9, 10, 13, 14]\n",
      "..........\n",
      "114\n",
      "(1024, 1024)\n",
      "[5, 9, 10, 14]\n",
      "..........\n",
      "115\n",
      "(1024, 1024)\n",
      "[1, 5, 10, 14]\n",
      "..........\n",
      "116\n",
      "(1024, 1024)\n",
      "[1, 5, 9, 10, 14]\n",
      "..........\n",
      "117\n",
      "(1024, 1024)\n",
      "[1, 5, 9, 10, 14]\n",
      "..........\n",
      "118\n",
      "(1024, 1024)\n",
      "[1, 5, 8, 10, 14]\n",
      "..........\n",
      "119\n",
      "(1024, 1024)\n",
      "[1, 5, 9, 10, 14]\n",
      "..........\n",
      "120\n",
      "(1024, 1024)\n",
      "[5, 9, 10, 14]\n",
      "..........\n",
      "121\n",
      "(1024, 1024)\n",
      "[1, 5, 8, 9, 10, 14]\n",
      "..........\n",
      "122\n",
      "(1024, 1024)\n",
      "[1, 5, 9, 10, 14]\n",
      "..........\n",
      "123\n",
      "(1024, 1024)\n",
      "[1, 5, 10, 14]\n",
      "..........\n",
      "124\n",
      "(1024, 1024)\n",
      "[1, 5, 9, 10]\n",
      "..........\n",
      "125\n",
      "(1024, 1024)\n",
      "[1, 5, 9]\n",
      "..........\n",
      "126\n",
      "(1024, 1024)\n",
      "[1, 5, 9]\n",
      "..........\n",
      "127\n",
      "(1024, 1024)\n",
      "[1, 5, 9]\n",
      "..........\n",
      "128\n",
      "(1024, 1024)\n",
      "[1, 5, 9, 10]\n",
      "..........\n",
      "129\n",
      "(1024, 1024)\n",
      "[1, 2, 5, 9]\n",
      "..........\n",
      "130\n",
      "(1024, 1024)\n",
      "[1, 5, 9]\n",
      "..........\n",
      "131\n",
      "(1024, 1024)\n",
      "[1, 9]\n",
      "..........\n",
      "132\n",
      "(1024, 1024)\n",
      "[1, 5, 9]\n",
      "..........\n",
      "133\n",
      "(1024, 1024)\n",
      "[1, 5, 9, 10]\n",
      "..........\n",
      "134\n",
      "(1024, 1024)\n",
      "[1, 2, 5, 10]\n",
      "..........\n",
      "135\n",
      "(1024, 1024)\n",
      "[1, 5, 10]\n",
      "..........\n",
      "136\n",
      "(1024, 1024)\n",
      "[1, 2]\n",
      "..........\n",
      "137\n",
      "(1024, 1024)\n",
      "[1, 2, 10]\n",
      "..........\n",
      "138\n",
      "(1024, 1024)\n",
      "[1, 10]\n",
      "..........\n",
      "139\n",
      "(1024, 1024)\n",
      "[1, 5, 10]\n",
      "..........\n",
      "140\n",
      "(1024, 1024)\n",
      "[1, 5, 9, 10]\n",
      "..........\n",
      "141\n",
      "(1024, 1024)\n",
      "[1, 5, 9, 10]\n",
      "..........\n",
      "142\n",
      "(1024, 1024)\n",
      "[1, 5, 10]\n",
      "..........\n",
      "143\n",
      "(1024, 1024)\n",
      "[1, 9, 10]\n",
      "..........\n",
      "144\n",
      "(1024, 1024)\n",
      "[1, 10]\n",
      "..........\n",
      "145\n",
      "(1024, 1024)\n",
      "[1, 2, 9, 10]\n",
      "..........\n",
      "146\n",
      "(1024, 1024)\n",
      "[1, 2, 6, 9, 10]\n",
      "..........\n",
      "147\n",
      "(1024, 1024)\n",
      "[1, 2, 9, 10]\n",
      "..........\n",
      "148\n",
      "(1024, 1024)\n",
      "[1, 2, 4, 9, 10]\n",
      "..........\n",
      "149\n",
      "(1024, 1024)\n",
      "[1, 2, 4, 9, 10]\n",
      "..........\n",
      "150\n",
      "(1024, 1024)\n",
      "[1, 2, 5, 6, 9, 10]\n",
      "..........\n",
      "151\n",
      "(1024, 1024)\n",
      "[1, 2, 5, 9, 10]\n",
      "..........\n",
      "152\n",
      "(1024, 1024)\n",
      "[1, 2, 5, 10]\n",
      "..........\n",
      "153\n",
      "(1024, 1024)\n",
      "[1, 2, 5, 10]\n",
      "..........\n",
      "154\n",
      "(1024, 1024)\n",
      "[1, 2, 5, 10]\n",
      "..........\n",
      "155\n",
      "(1024, 1024)\n",
      "[1, 2, 5, 9, 10]\n",
      "..........\n",
      "156\n",
      "(1024, 1024)\n",
      "[1, 2, 5, 9, 10]\n",
      "..........\n",
      "157\n",
      "(1024, 1024)\n",
      "[1, 2, 9]\n",
      "..........\n",
      "158\n",
      "(1024, 1024)\n",
      "[1, 2, 9, 10]\n",
      "..........\n",
      "159\n",
      "(1024, 1024)\n",
      "[1, 2, 10]\n",
      "..........\n",
      "160\n",
      "(1024, 1024)\n",
      "[1, 2, 5, 6, 10]\n",
      "..........\n",
      "161\n",
      "(1024, 1024)\n",
      "[1, 2, 5, 6, 9]\n",
      "..........\n",
      "162\n",
      "(1024, 1024)\n",
      "[1, 2, 5, 6]\n",
      "..........\n",
      "163\n",
      "(1024, 1024)\n",
      "[1, 2, 5, 6, 10]\n",
      "..........\n",
      "164\n",
      "(1024, 1024)\n",
      "[1, 2, 6, 10]\n",
      "..........\n",
      "165\n",
      "(1024, 1024)\n",
      "[1, 2, 6, 10]\n",
      "..........\n",
      "166\n",
      "(1024, 1024)\n",
      "[1, 2, 4, 5, 6, 10]\n",
      "..........\n",
      "167\n",
      "(1024, 1024)\n",
      "[1, 2, 4, 10]\n",
      "..........\n",
      "168\n",
      "(1024, 1024)\n",
      "[1, 10]\n",
      "..........\n",
      "169\n",
      "(1024, 1024)\n",
      "[1, 2, 5, 9, 10]\n",
      "..........\n",
      "170\n",
      "(1024, 1024)\n",
      "[1, 2, 5, 6, 9, 10]\n",
      "..........\n",
      "171\n",
      "(1024, 1024)\n",
      "[1, 2, 5, 9, 10]\n",
      "..........\n",
      "172\n",
      "(1024, 1024)\n",
      "[2, 6, 9, 10]\n",
      "..........\n",
      "173\n",
      "(1024, 1024)\n",
      "[2, 9, 10]\n",
      "..........\n",
      "174\n",
      "(1024, 1024)\n",
      "[1, 2, 6, 9, 10]\n",
      "..........\n",
      "175\n",
      "(1024, 1024)\n",
      "[1, 2, 5, 6, 9, 10]\n",
      "..........\n",
      "176\n",
      "(1024, 1024)\n",
      "[1, 2, 5, 6, 9, 10]\n",
      "..........\n",
      "177\n",
      "(1024, 1024)\n",
      "[1, 2, 5, 6, 9, 10]\n",
      "..........\n",
      "178\n",
      "(1024, 1024)\n",
      "[1, 2, 5, 6, 9, 10]\n",
      "..........\n",
      "179\n",
      "(1024, 1024)\n",
      "[1, 2, 5, 6, 9]\n",
      "..........\n",
      "180\n",
      "(1024, 1024)\n",
      "[1, 2, 5, 6, 9]\n",
      "..........\n",
      "181\n",
      "(1024, 1024)\n",
      "[1, 2, 6, 9]\n",
      "..........\n",
      "182\n",
      "(1024, 1024)\n",
      "[1, 2, 5, 6, 9, 10]\n",
      "..........\n",
      "183\n",
      "(1024, 1024)\n",
      "[1, 2, 6, 9, 10]\n",
      "..........\n",
      "184\n",
      "(1024, 1024)\n",
      "[1, 2, 6, 10]\n",
      "..........\n",
      "185\n",
      "(1024, 1024)\n",
      "[1, 2, 5, 9, 10]\n",
      "..........\n",
      "186\n",
      "(1024, 1024)\n",
      "[2, 10]\n",
      "..........\n",
      "187\n",
      "(1024, 1024)\n",
      "[10]\n",
      "..........\n",
      "188\n",
      "(1024, 1024)\n",
      "[2, 6, 10, 13]\n",
      "..........\n",
      "189\n",
      "(1024, 1024)\n",
      "[2, 5, 10]\n",
      "..........\n",
      "190\n",
      "(1024, 1024)\n",
      "[1, 2, 5, 6, 9, 10, 13]\n",
      "..........\n",
      "191\n",
      "(1024, 1024)\n",
      "[1, 2, 6, 9, 10, 13]\n",
      "..........\n",
      "192\n",
      "(1024, 1024)\n",
      "[2, 5, 6, 9, 10]\n",
      "..........\n",
      "193\n",
      "(1024, 1024)\n",
      "[2, 5, 6, 10]\n",
      "..........\n",
      "194\n",
      "(1024, 1024)\n",
      "[2, 5, 6, 10, 13]\n",
      "..........\n",
      "195\n",
      "(1024, 1024)\n",
      "[2, 6, 10, 13]\n",
      "..........\n",
      "196\n",
      "(1024, 1024)\n",
      "[2, 5, 6, 9, 10, 13]\n",
      "..........\n",
      "197\n",
      "(1024, 1024)\n",
      "[1, 2, 6, 9, 10, 13]\n",
      "..........\n",
      "198\n",
      "(1024, 1024)\n",
      "[1, 2, 5, 6, 9, 10, 13]\n",
      "..........\n",
      "199\n",
      "(1024, 1024)\n",
      "[1, 2, 5, 6, 9, 10, 13]\n",
      "..........\n",
      "200\n",
      "(1024, 1024)\n",
      "[1, 2, 5, 6, 9, 10, 13]\n",
      "..........\n",
      "201\n",
      "(1024, 1024)\n",
      "[2, 5, 6, 9, 10, 13]\n",
      "..........\n",
      "202\n",
      "(1024, 1024)\n",
      "[1, 2, 5, 6, 9, 10, 13]\n",
      "..........\n",
      "203\n",
      "(1024, 1024)\n",
      "[1, 5, 6, 9, 10, 13]\n",
      "..........\n",
      "204\n",
      "(1024, 1024)\n",
      "[1, 5, 6, 9, 10, 13]\n",
      "..........\n",
      "205\n",
      "(1024, 1024)\n",
      "[1, 6, 9, 10, 13]\n",
      "..........\n",
      "206\n",
      "(1024, 1024)\n",
      "[2, 5, 6, 10, 13]\n",
      "..........\n",
      "207\n",
      "(1024, 1024)\n",
      "[5, 6, 10, 13]\n",
      "..........\n",
      "208\n",
      "(1024, 1024)\n",
      "[2, 5, 6, 10, 13]\n",
      "..........\n",
      "209\n"
     ]
    },
    {
     "name": "stdout",
     "output_type": "stream",
     "text": [
      "(1024, 1024)\n",
      "[2, 5, 6, 9, 10, 13]\n",
      "..........\n",
      "210\n",
      "(1024, 1024)\n",
      "[2, 6, 9, 10, 13]\n",
      "..........\n",
      "211\n",
      "(1024, 1024)\n",
      "[2, 5, 6, 9]\n",
      "..........\n",
      "212\n",
      "(1024, 1024)\n",
      "[2, 6, 9, 10]\n",
      "..........\n",
      "213\n",
      "(1024, 1024)\n",
      "[2, 5, 6, 9, 10]\n",
      "..........\n",
      "214\n",
      "(1024, 1024)\n",
      "[2, 5, 6, 9, 10]\n",
      "..........\n",
      "215\n",
      "(1024, 1024)\n",
      "[2, 5, 6, 9, 10]\n",
      "..........\n",
      "216\n",
      "(1024, 1024)\n",
      "[2, 5, 6, 9, 10]\n",
      "..........\n",
      "217\n",
      "(1024, 1024)\n",
      "[5, 6, 9, 10]\n",
      "..........\n",
      "218\n",
      "(1024, 1024)\n",
      "[2, 5, 6, 9, 10]\n",
      "..........\n",
      "219\n",
      "(1024, 1024)\n",
      "[2, 5, 6, 9, 10, 13]\n",
      "..........\n",
      "220\n",
      "(1024, 1024)\n",
      "[5, 6, 9, 10, 13]\n",
      "..........\n",
      "221\n",
      "(1024, 1024)\n",
      "[2, 6, 9, 10]\n",
      "..........\n",
      "222\n",
      "(1024, 1024)\n",
      "[2, 6, 9, 10, 13]\n",
      "..........\n",
      "223\n",
      "(1024, 1024)\n",
      "[2, 5, 6, 10]\n",
      "..........\n",
      "224\n",
      "(1024, 1024)\n",
      "[2, 5, 6, 10]\n",
      "..........\n",
      "225\n",
      "(1024, 1024)\n",
      "[2, 6, 9, 10]\n",
      "..........\n",
      "226\n",
      "(1024, 1024)\n",
      "[2, 5, 6, 10]\n",
      "..........\n",
      "227\n",
      "(1024, 1024)\n",
      "[2, 5, 6, 10]\n",
      "..........\n",
      "228\n",
      "(1024, 1024)\n",
      "[]\n",
      "..........\n",
      "229\n",
      "(1024, 1024)\n",
      "[]\n",
      "..........\n",
      "230\n",
      "(1024, 1024)\n",
      "[]\n",
      "..........\n",
      "231\n",
      "(1024, 1024)\n",
      "[]\n",
      "..........\n",
      "232\n",
      "(1024, 1024)\n",
      "[]\n",
      "..........\n",
      "233\n",
      "(1024, 1024)\n",
      "[]\n",
      "..........\n",
      "234\n",
      "(1024, 1024)\n",
      "[]\n",
      "..........\n",
      "235\n",
      "(1024, 1024)\n",
      "[]\n",
      "..........\n",
      "236\n",
      "(1024, 1024)\n",
      "[]\n",
      "..........\n",
      "237\n",
      "(1024, 1024)\n",
      "[]\n",
      "..........\n"
     ]
    }
   ],
   "source": [
    "list_masks = []\n",
    "for z in range(len(list_inf)):\n",
    "    print(z)\n",
    "    zreal = z + zini\n",
    "    sgray = imarray[:,:,zreal,0].astype(\"uint16\")\n",
    "    print(sgray.shape)\n",
    "    res_crops = list_inf[z]\n",
    "    R = [i for i,r in enumerate(res_crops) if r[\"masks\"].shape[2] != 0 ]\n",
    "    print(R)\n",
    "    results_good = {keys[i]:res_crops[i] for i in R}\n",
    "    prediction = np.zeros((1024,1024))\n",
    "    for k in results_good.keys():\n",
    "        x = results_good[k][\"masks\"]\n",
    "        if x.shape[2] >1 :\n",
    "            x = np.sum(results_good[k][\"masks\"], axis=2)\n",
    "        x = x.reshape((256, 256)) \n",
    "        kk = k.split(\"_\")\n",
    "        kk = [int(i) for i in kk]\n",
    "        prediction[kk[0]:kk[1], kk[2]:kk[3]] = x\n",
    "    list_masks.append(prediction)\n",
    "    print(\"..........\")"
   ]
  },
  {
   "cell_type": "code",
   "execution_count": 14,
   "id": "d31570d9",
   "metadata": {},
   "outputs": [],
   "source": [
    "full_list_masks= [np.zeros((1024,1024)) for i in range(zini)] + list_masks + [np.zeros((1024,1024)) for i in range(imarray.shape[2] - zfin)]"
   ]
  },
  {
   "cell_type": "code",
   "execution_count": 15,
   "id": "ed313837",
   "metadata": {},
   "outputs": [
    {
     "data": {
      "text/plain": [
       "(1024, 1024, 413)"
      ]
     },
     "execution_count": 15,
     "metadata": {},
     "output_type": "execute_result"
    }
   ],
   "source": [
    "pred_div = np.swapaxes(np.swapaxes(np.array(full_list_masks), 0, 2), 0, 1)\n",
    "pred_div.shape"
   ]
  },
  {
   "cell_type": "code",
   "execution_count": 16,
   "id": "0b6eed2c",
   "metadata": {},
   "outputs": [],
   "source": [
    "c.saveNifti(pred_div, {\"x_res\":0,\"y_res\":0, \"z_res\":0}, \n",
    "            f\"/Users/dvarelat/Documents/MASTER/TFM/methods/division/INFERENCE/20190504_E1_predmask.nii.gz\")"
   ]
  },
  {
   "cell_type": "code",
   "execution_count": null,
   "id": "98aac0f7",
   "metadata": {},
   "outputs": [],
   "source": []
  },
  {
   "cell_type": "code",
   "execution_count": 156,
   "id": "c9f31329",
   "metadata": {},
   "outputs": [],
   "source": []
  },
  {
   "cell_type": "code",
   "execution_count": null,
   "id": "0e081f00",
   "metadata": {},
   "outputs": [],
   "source": []
  },
  {
   "cell_type": "code",
   "execution_count": 65,
   "id": "fc8f28d6",
   "metadata": {},
   "outputs": [],
   "source": [
    "prediction_mask = prediction"
   ]
  },
  {
   "cell_type": "markdown",
   "id": "ee893ba0",
   "metadata": {},
   "source": [
    "# Find membranes"
   ]
  },
  {
   "cell_type": "code",
   "execution_count": 6,
   "id": "a7fb59e3",
   "metadata": {},
   "outputs": [],
   "source": []
  },
  {
   "cell_type": "code",
   "execution_count": 10,
   "id": "36289816",
   "metadata": {},
   "outputs": [],
   "source": []
  },
  {
   "cell_type": "code",
   "execution_count": null,
   "id": "8682a334",
   "metadata": {},
   "outputs": [],
   "source": []
  },
  {
   "cell_type": "code",
   "execution_count": null,
   "id": "981db490",
   "metadata": {},
   "outputs": [],
   "source": []
  },
  {
   "cell_type": "code",
   "execution_count": null,
   "id": "cec3280b",
   "metadata": {},
   "outputs": [],
   "source": []
  },
  {
   "cell_type": "code",
   "execution_count": 85,
   "id": "5bd398fb",
   "metadata": {},
   "outputs": [],
   "source": []
  },
  {
   "cell_type": "code",
   "execution_count": 60,
   "id": "7d747e85",
   "metadata": {},
   "outputs": [],
   "source": []
  },
  {
   "cell_type": "code",
   "execution_count": null,
   "id": "a554cc75",
   "metadata": {},
   "outputs": [],
   "source": []
  },
  {
   "cell_type": "code",
   "execution_count": 21,
   "id": "ed6fa7c3",
   "metadata": {},
   "outputs": [],
   "source": []
  },
  {
   "cell_type": "code",
   "execution_count": null,
   "id": "0e6e091f",
   "metadata": {},
   "outputs": [],
   "source": []
  },
  {
   "cell_type": "code",
   "execution_count": null,
   "id": "2bd2de54",
   "metadata": {},
   "outputs": [],
   "source": []
  },
  {
   "cell_type": "code",
   "execution_count": 79,
   "id": "0163fa52",
   "metadata": {},
   "outputs": [],
   "source": []
  },
  {
   "cell_type": "code",
   "execution_count": null,
   "id": "55f1a7c4",
   "metadata": {},
   "outputs": [],
   "source": []
  },
  {
   "cell_type": "code",
   "execution_count": 89,
   "id": "7676c0cb",
   "metadata": {},
   "outputs": [],
   "source": []
  },
  {
   "cell_type": "code",
   "execution_count": 93,
   "id": "c49fb6cb",
   "metadata": {},
   "outputs": [],
   "source": []
  },
  {
   "cell_type": "code",
   "execution_count": null,
   "id": "30c3a965",
   "metadata": {},
   "outputs": [],
   "source": []
  },
  {
   "cell_type": "code",
   "execution_count": null,
   "id": "997b2cfa",
   "metadata": {},
   "outputs": [],
   "source": []
  },
  {
   "cell_type": "code",
   "execution_count": null,
   "id": "b01c795a",
   "metadata": {},
   "outputs": [],
   "source": []
  },
  {
   "cell_type": "code",
   "execution_count": null,
   "id": "bc677a44",
   "metadata": {},
   "outputs": [],
   "source": []
  },
  {
   "cell_type": "code",
   "execution_count": null,
   "id": "f142dde7",
   "metadata": {},
   "outputs": [],
   "source": []
  },
  {
   "cell_type": "code",
   "execution_count": null,
   "id": "c95e2e4c",
   "metadata": {},
   "outputs": [],
   "source": []
  },
  {
   "cell_type": "code",
   "execution_count": null,
   "id": "d8cf7817",
   "metadata": {},
   "outputs": [],
   "source": []
  },
  {
   "cell_type": "code",
   "execution_count": null,
   "id": "f322047e",
   "metadata": {},
   "outputs": [],
   "source": []
  },
  {
   "cell_type": "code",
   "execution_count": null,
   "id": "83f5e590",
   "metadata": {},
   "outputs": [],
   "source": []
  },
  {
   "cell_type": "code",
   "execution_count": null,
   "id": "cdcdb61b",
   "metadata": {},
   "outputs": [],
   "source": []
  },
  {
   "cell_type": "code",
   "execution_count": null,
   "id": "19c7a73c",
   "metadata": {},
   "outputs": [],
   "source": []
  },
  {
   "cell_type": "code",
   "execution_count": null,
   "id": "ca9261b1",
   "metadata": {},
   "outputs": [],
   "source": []
  },
  {
   "cell_type": "code",
   "execution_count": null,
   "id": "6b6a1e52",
   "metadata": {},
   "outputs": [],
   "source": []
  },
  {
   "cell_type": "code",
   "execution_count": null,
   "id": "871cd65f",
   "metadata": {},
   "outputs": [],
   "source": []
  },
  {
   "cell_type": "code",
   "execution_count": null,
   "id": "c1d26c95",
   "metadata": {},
   "outputs": [],
   "source": []
  },
  {
   "cell_type": "code",
   "execution_count": null,
   "id": "a7514df4",
   "metadata": {},
   "outputs": [],
   "source": []
  },
  {
   "cell_type": "code",
   "execution_count": null,
   "id": "de0227c3",
   "metadata": {},
   "outputs": [],
   "source": []
  },
  {
   "cell_type": "code",
   "execution_count": 72,
   "id": "f1656aed",
   "metadata": {},
   "outputs": [
    {
     "data": {
      "text/plain": [
       "<matplotlib.image.AxesImage at 0x7fbc8d73aba8>"
      ]
     },
     "execution_count": 72,
     "metadata": {},
     "output_type": "execute_result"
    },
    {
     "data": {
      "image/png": "[encoded data removed]",
      "text/plain": [
       "<Figure size 1440x1440 with 1 Axes>"
      ]
     },
     "metadata": {
      "needs_background": "light"
     },
     "output_type": "display_data"
    }
   ],
   "source": [
    "plt.figure(figsize=(20,20)) \n",
    "plt.imshow(mask_nuclei[:,:,100] + 100*find_boundaries(prediction_mask))"
   ]
  },
  {
   "cell_type": "code",
   "execution_count": null,
   "id": "d76f0094",
   "metadata": {},
   "outputs": [],
   "source": []
  },
  {
   "cell_type": "code",
   "execution_count": null,
   "id": "5b5895db",
   "metadata": {},
   "outputs": [],
   "source": []
  },
  {
   "cell_type": "code",
   "execution_count": null,
   "id": "19915061",
   "metadata": {},
   "outputs": [],
   "source": []
  },
  {
   "cell_type": "code",
   "execution_count": null,
   "id": "1b3e4981",
   "metadata": {},
   "outputs": [],
   "source": []
  },
  {
   "cell_type": "code",
   "execution_count": null,
   "id": "d13b1a9a",
   "metadata": {},
   "outputs": [],
   "source": []
  },
  {
   "cell_type": "code",
   "execution_count": null,
   "id": "4250bfd7",
   "metadata": {},
   "outputs": [],
   "source": []
  },
  {
   "cell_type": "code",
   "execution_count": null,
   "id": "65365dea",
   "metadata": {},
   "outputs": [],
   "source": []
  },
  {
   "cell_type": "code",
   "execution_count": null,
   "id": "7b293fa1",
   "metadata": {},
   "outputs": [],
   "source": []
  },
  {
   "cell_type": "code",
   "execution_count": null,
   "id": "0fb5566e",
   "metadata": {},
   "outputs": [],
   "source": []
  },
  {
   "cell_type": "code",
   "execution_count": null,
   "id": "63dbe7ba",
   "metadata": {},
   "outputs": [],
   "source": []
  },
  {
   "cell_type": "code",
   "execution_count": null,
   "id": "85f695cf",
   "metadata": {},
   "outputs": [],
   "source": []
  },
  {
   "cell_type": "code",
   "execution_count": null,
   "id": "50a910a7",
   "metadata": {},
   "outputs": [],
   "source": []
  },
  {
   "cell_type": "code",
   "execution_count": null,
   "id": "7098731c",
   "metadata": {},
   "outputs": [],
   "source": []
  },
  {
   "cell_type": "code",
   "execution_count": null,
   "id": "42724b72",
   "metadata": {},
   "outputs": [],
   "source": []
  },
  {
   "cell_type": "code",
   "execution_count": null,
   "id": "50169263",
   "metadata": {},
   "outputs": [],
   "source": []
  },
  {
   "cell_type": "code",
   "execution_count": null,
   "id": "3d4f0b47",
   "metadata": {},
   "outputs": [],
   "source": []
  },
  {
   "cell_type": "code",
   "execution_count": null,
   "id": "2e4698be",
   "metadata": {},
   "outputs": [],
   "source": []
  },
  {
   "cell_type": "code",
   "execution_count": null,
   "id": "0919f6ce",
   "metadata": {},
   "outputs": [],
   "source": []
  },
  {
   "cell_type": "code",
   "execution_count": null,
   "id": "5edcb7a8",
   "metadata": {},
   "outputs": [],
   "source": []
  },
  {
   "cell_type": "code",
   "execution_count": null,
   "id": "47846fb5",
   "metadata": {},
   "outputs": [],
   "source": []
  },
  {
   "cell_type": "code",
   "execution_count": null,
   "id": "22700f1c",
   "metadata": {},
   "outputs": [],
   "source": []
  },
  {
   "cell_type": "code",
   "execution_count": null,
   "id": "376691df",
   "metadata": {},
   "outputs": [],
   "source": []
  },
  {
   "cell_type": "code",
   "execution_count": null,
   "id": "f3be7ebe",
   "metadata": {},
   "outputs": [],
   "source": []
  },
  {
   "cell_type": "code",
   "execution_count": null,
   "id": "fc8de87c",
   "metadata": {},
   "outputs": [],
   "source": []
  },
  {
   "cell_type": "code",
   "execution_count": null,
   "id": "8353d549",
   "metadata": {},
   "outputs": [],
   "source": []
  },
  {
   "cell_type": "code",
   "execution_count": null,
   "id": "b84ddaca",
   "metadata": {},
   "outputs": [],
   "source": []
  },
  {
   "cell_type": "code",
   "execution_count": null,
   "id": "efc0a45c",
   "metadata": {},
   "outputs": [],
   "source": []
  },
  {
   "cell_type": "code",
   "execution_count": null,
   "id": "b2222050",
   "metadata": {},
   "outputs": [],
   "source": []
  },
  {
   "cell_type": "code",
   "execution_count": null,
   "id": "c2cfb5aa",
   "metadata": {},
   "outputs": [],
   "source": []
  },
  {
   "cell_type": "code",
   "execution_count": null,
   "id": "787eeaa4",
   "metadata": {},
   "outputs": [],
   "source": []
  },
  {
   "cell_type": "code",
   "execution_count": null,
   "id": "592f9db7",
   "metadata": {},
   "outputs": [],
   "source": []
  },
  {
   "cell_type": "code",
   "execution_count": null,
   "id": "3a4db547",
   "metadata": {},
   "outputs": [],
   "source": []
  },
  {
   "cell_type": "code",
   "execution_count": null,
   "id": "7b4dce9c",
   "metadata": {},
   "outputs": [],
   "source": []
  },
  {
   "cell_type": "code",
   "execution_count": null,
   "id": "4732a478",
   "metadata": {},
   "outputs": [],
   "source": []
  },
  {
   "cell_type": "code",
   "execution_count": null,
   "id": "e0a43841",
   "metadata": {},
   "outputs": [],
   "source": []
  },
  {
   "cell_type": "code",
   "execution_count": null,
   "id": "d705bf12",
   "metadata": {},
   "outputs": [],
   "source": []
  },
  {
   "cell_type": "code",
   "execution_count": null,
   "id": "6cd68105",
   "metadata": {},
   "outputs": [],
   "source": []
  },
  {
   "cell_type": "code",
   "execution_count": null,
   "id": "358fe520",
   "metadata": {},
   "outputs": [],
   "source": []
  },
  {
   "cell_type": "code",
   "execution_count": null,
   "id": "48875537",
   "metadata": {},
   "outputs": [],
   "source": []
  },
  {
   "cell_type": "code",
   "execution_count": null,
   "id": "934c2639",
   "metadata": {},
   "outputs": [],
   "source": []
  },
  {
   "cell_type": "code",
   "execution_count": null,
   "id": "8a1b8a13",
   "metadata": {},
   "outputs": [],
   "source": []
  },
  {
   "cell_type": "code",
   "execution_count": null,
   "id": "e4afd62a",
   "metadata": {},
   "outputs": [],
   "source": []
  },
  {
   "cell_type": "code",
   "execution_count": null,
   "id": "a4f96322",
   "metadata": {},
   "outputs": [],
   "source": []
  },
  {
   "cell_type": "code",
   "execution_count": null,
   "id": "35b7e471",
   "metadata": {},
   "outputs": [],
   "source": []
  },
  {
   "cell_type": "code",
   "execution_count": null,
   "id": "25ed0a41",
   "metadata": {},
   "outputs": [],
   "source": []
  },
  {
   "cell_type": "code",
   "execution_count": null,
   "id": "2d58e3ff",
   "metadata": {},
   "outputs": [],
   "source": []
  },
  {
   "cell_type": "code",
   "execution_count": null,
   "id": "0ada2748",
   "metadata": {},
   "outputs": [],
   "source": []
  },
  {
   "cell_type": "code",
   "execution_count": null,
   "id": "538201a9",
   "metadata": {},
   "outputs": [],
   "source": []
  },
  {
   "cell_type": "code",
   "execution_count": null,
   "id": "624feee5",
   "metadata": {},
   "outputs": [],
   "source": []
  },
  {
   "cell_type": "code",
   "execution_count": null,
   "id": "563e776c",
   "metadata": {},
   "outputs": [],
   "source": []
  },
  {
   "cell_type": "code",
   "execution_count": null,
   "id": "fcd71857",
   "metadata": {},
   "outputs": [],
   "source": []
  },
  {
   "cell_type": "code",
   "execution_count": null,
   "id": "2d1a2f1a",
   "metadata": {},
   "outputs": [],
   "source": []
  },
  {
   "cell_type": "code",
   "execution_count": null,
   "id": "f22d6443",
   "metadata": {},
   "outputs": [],
   "source": []
  },
  {
   "cell_type": "code",
   "execution_count": null,
   "id": "b8844fe1",
   "metadata": {},
   "outputs": [],
   "source": []
  },
  {
   "cell_type": "code",
   "execution_count": null,
   "id": "99a9f145",
   "metadata": {},
   "outputs": [],
   "source": []
  },
  {
   "cell_type": "code",
   "execution_count": null,
   "id": "cb4e47a6",
   "metadata": {},
   "outputs": [],
   "source": []
  },
  {
   "cell_type": "code",
   "execution_count": null,
   "id": "f6556635",
   "metadata": {},
   "outputs": [],
   "source": []
  },
  {
   "cell_type": "code",
   "execution_count": null,
   "id": "86469e30",
   "metadata": {},
   "outputs": [],
   "source": []
  },
  {
   "cell_type": "code",
   "execution_count": null,
   "id": "3907c4c1",
   "metadata": {},
   "outputs": [],
   "source": []
  },
  {
   "cell_type": "code",
   "execution_count": null,
   "id": "6ae42350",
   "metadata": {},
   "outputs": [],
   "source": []
  },
  {
   "cell_type": "code",
   "execution_count": null,
   "id": "f6255252",
   "metadata": {},
   "outputs": [],
   "source": []
  },
  {
   "cell_type": "code",
   "execution_count": null,
   "id": "78b535a9",
   "metadata": {},
   "outputs": [],
   "source": []
  },
  {
   "cell_type": "code",
   "execution_count": null,
   "id": "7d21cc28",
   "metadata": {},
   "outputs": [],
   "source": []
  },
  {
   "cell_type": "code",
   "execution_count": null,
   "id": "973d2836",
   "metadata": {},
   "outputs": [],
   "source": []
  },
  {
   "cell_type": "code",
   "execution_count": null,
   "id": "1ec49ea5",
   "metadata": {},
   "outputs": [],
   "source": []
  },
  {
   "cell_type": "code",
   "execution_count": null,
   "id": "6b095705",
   "metadata": {},
   "outputs": [],
   "source": []
  },
  {
   "cell_type": "code",
   "execution_count": null,
   "id": "942dd0b3",
   "metadata": {},
   "outputs": [],
   "source": []
  },
  {
   "cell_type": "code",
   "execution_count": null,
   "id": "184c4423",
   "metadata": {},
   "outputs": [],
   "source": []
  },
  {
   "cell_type": "code",
   "execution_count": null,
   "id": "7e4f67d9",
   "metadata": {},
   "outputs": [],
   "source": []
  },
  {
   "cell_type": "code",
   "execution_count": null,
   "id": "6ae6fca4",
   "metadata": {},
   "outputs": [],
   "source": []
  },
  {
   "cell_type": "code",
   "execution_count": null,
   "id": "217498ca",
   "metadata": {},
   "outputs": [],
   "source": []
  },
  {
   "cell_type": "code",
   "execution_count": null,
   "id": "b2e92f30",
   "metadata": {},
   "outputs": [],
   "source": []
  },
  {
   "cell_type": "code",
   "execution_count": null,
   "id": "576bf85f",
   "metadata": {},
   "outputs": [],
   "source": []
  },
  {
   "cell_type": "code",
   "execution_count": null,
   "id": "9e3dc126",
   "metadata": {},
   "outputs": [],
   "source": []
  },
  {
   "cell_type": "code",
   "execution_count": null,
   "id": "2ce48e7a",
   "metadata": {},
   "outputs": [],
   "source": []
  },
  {
   "cell_type": "code",
   "execution_count": null,
   "id": "8470ec0d",
   "metadata": {},
   "outputs": [],
   "source": []
  },
  {
   "cell_type": "code",
   "execution_count": null,
   "id": "c2dd4913",
   "metadata": {},
   "outputs": [],
   "source": []
  },
  {
   "cell_type": "code",
   "execution_count": null,
   "id": "70f8ec41",
   "metadata": {},
   "outputs": [],
   "source": []
  },
  {
   "cell_type": "code",
   "execution_count": null,
   "id": "f8579d09",
   "metadata": {},
   "outputs": [],
   "source": []
  },
  {
   "cell_type": "code",
   "execution_count": null,
   "id": "8444b795",
   "metadata": {},
   "outputs": [],
   "source": []
  },
  {
   "cell_type": "code",
   "execution_count": null,
   "id": "3f6f1907",
   "metadata": {},
   "outputs": [],
   "source": []
  },
  {
   "cell_type": "code",
   "execution_count": null,
   "id": "95f248af",
   "metadata": {},
   "outputs": [],
   "source": []
  },
  {
   "cell_type": "code",
   "execution_count": null,
   "id": "21c54411",
   "metadata": {},
   "outputs": [],
   "source": []
  },
  {
   "cell_type": "code",
   "execution_count": null,
   "id": "3136f849",
   "metadata": {},
   "outputs": [],
   "source": []
  },
  {
   "cell_type": "code",
   "execution_count": 21,
   "id": "2fcc62f7",
   "metadata": {},
   "outputs": [],
   "source": []
  },
  {
   "cell_type": "code",
   "execution_count": null,
   "id": "ea84d3cf",
   "metadata": {},
   "outputs": [],
   "source": []
  },
  {
   "cell_type": "code",
   "execution_count": null,
   "id": "ec5b1c0d",
   "metadata": {},
   "outputs": [],
   "source": []
  },
  {
   "cell_type": "code",
   "execution_count": null,
   "id": "576bd4e0",
   "metadata": {},
   "outputs": [],
   "source": []
  },
  {
   "cell_type": "code",
   "execution_count": 5,
   "id": "54589943",
   "metadata": {},
   "outputs": [],
   "source": []
  },
  {
   "cell_type": "code",
   "execution_count": null,
   "id": "3274e02d",
   "metadata": {},
   "outputs": [],
   "source": []
  },
  {
   "cell_type": "code",
   "execution_count": null,
   "id": "562a29cb",
   "metadata": {},
   "outputs": [],
   "source": []
  },
  {
   "cell_type": "code",
   "execution_count": null,
   "id": "4d5cefed",
   "metadata": {},
   "outputs": [],
   "source": []
  },
  {
   "cell_type": "code",
   "execution_count": null,
   "id": "c5e232cb",
   "metadata": {},
   "outputs": [],
   "source": []
  },
  {
   "cell_type": "code",
   "execution_count": null,
   "id": "3a56664e",
   "metadata": {},
   "outputs": [],
   "source": []
  },
  {
   "cell_type": "code",
   "execution_count": 29,
   "id": "010bca8d",
   "metadata": {},
   "outputs": [],
   "source": []
  }
 ],
 "metadata": {
  "kernelspec": {
   "display_name": "mask36",
   "language": "python",
   "name": "mask36"
  },
  "language_info": {
   "codemirror_mode": {
    "name": "ipython",
    "version": 3
   },
   "file_extension": ".py",
   "mimetype": "text/x-python",
   "name": "python",
   "nbconvert_exporter": "python",
   "pygments_lexer": "ipython3",
   "version": "3.6.15"
  }
 },
 "nbformat": 4,
 "nbformat_minor": 5
}
