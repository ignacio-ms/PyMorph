{
 "cells": [
  {
   "cell_type": "code",
   "execution_count": 74,
   "id": "67ee84b5",
   "metadata": {},
   "outputs": [],
   "source": [
    "import numpy as np\n",
    "import porespy as ps\n",
    "import mcubes\n",
    "from skimage import morphology\n",
    "import nibabel as nib\n",
    "import pandas as pd\n",
    "import matplotlib.pyplot as plt\n",
    "from IPython.display import clear_output"
   ]
  },
  {
   "cell_type": "code",
   "execution_count": 161,
   "id": "e67dce72",
   "metadata": {},
   "outputs": [],
   "source": [
    "from daniela.daniela_extraction import Median3D_Array\n",
    "import sys\n",
    "import importlib\n",
    "\n",
    "sys.path.insert(1, \"/Users/dvarelat/Documents/MASTER/TFM/methods\")\n",
    "import cardiac_region\n",
    "\n",
    "importlib.reload(cardiac_region)\n",
    "import cardiac_region as c"
   ]
  },
  {
   "cell_type": "code",
   "execution_count": 13,
   "id": "9d8a93d1",
   "metadata": {},
   "outputs": [
    {
     "name": "stdout",
     "output_type": "stream",
     "text": [
      "4_20190806_E3\n"
     ]
    }
   ],
   "source": [
    "FOLDERS = [\n",
    "    \"1_20190504_E1\",\n",
    "    \"7_20190404_E2\",\n",
    "    \"10_20190520_E4\",\n",
    "    \"3_20190516_E3\",\n",
    "    \"4_20190806_E3\",\n",
    "    \"2_20190520_E2\",\n",
    "    \"5_20190401_E3\",\n",
    "     \"8_20190517_E1\",\n",
    "     \"9_20190520_E1\",\n",
    "     \"6_20190401_E1\",\n",
    "]\n",
    "folder = FOLDERS[4]\n",
    "print(folder)\n",
    "ESPECIMEN = folder.split(\"_\")[1] + \"_\" + folder.split(\"_\")[2]"
   ]
  },
  {
   "cell_type": "code",
   "execution_count": 14,
   "id": "4d9aaef5",
   "metadata": {},
   "outputs": [],
   "source": [
    "gasp = f\"/Users/dvarelat/Documents/MASTER/TFM/DATA/RESULTS/membranes/GASP_PNAS/{ESPECIMEN}_mGFP_XYZ_predictions_GASP.nii.gz\"\n",
    "FILE = f\"/Users/dvarelat/Documents/MASTER/TFM/DATA/EXTRACTION/{folder}/{ESPECIMEN}_cell_properties_radiomics.csv\"\n",
    "file_out = f\"/Users/dvarelat/Documents/MASTER/TFM/DATA/EXTRACTION/{folder}/myo/{ESPECIMEN}_ MYOmesh.pkl\"\n",
    "mesh_out = f\"/Users/dvarelat/Documents/MASTER/TFM/DATA/EXTRACTION/{folder}/myo/{ESPECIMEN}_MESH.ply\""
   ]
  },
  {
   "cell_type": "code",
   "execution_count": 18,
   "id": "d798a5ec",
   "metadata": {},
   "outputs": [
    {
     "name": "stdout",
     "output_type": "stream",
     "text": [
      "Features shape (5216, 64)\n",
      "Features MYOCARDIO (1347, 64)\n",
      "Segmentation shape (1024, 1024, 541)\n",
      "LEN PROPS\n",
      "7370\n"
     ]
    }
   ],
   "source": [
    "df_clean = pd.read_csv(FILE)\n",
    "print(f\"Features shape {df_clean.shape}\")\n",
    "# SOLO MIOCARDIO\n",
    "df_clean = df_clean[df_clean.lines == 1]\n",
    "print(f\"Features MYOCARDIO {df_clean.shape}\")\n",
    "pred_mem = nib.load(gasp).get_fdata()\n",
    "print(f\"Segmentation shape {pred_mem.shape}\")\n",
    "props = ps.metrics.regionprops_3D(morphology.label(pred_mem))\n",
    "print(f\"LEN PROPS\" {len(props)})"
   ]
  },
  {
   "cell_type": "code",
   "execution_count": 162,
   "id": "30c7797b",
   "metadata": {},
   "outputs": [],
   "source": [
    "dim_info = c.load3D_metadata(gasp)"
   ]
  },
  {
   "cell_type": "code",
   "execution_count": 20,
   "id": "c4c875df",
   "metadata": {},
   "outputs": [],
   "source": [
    "dict_label_cell = dict(\n",
    "    zip(\n",
    "        list(df_clean.original_labels),\n",
    "        list(df_clean.cell_in_props),\n",
    "    )\n",
    ")\n",
    "disk_size = 3\n",
    "meshes = []\n",
    "bad = []"
   ]
  },
  {
   "cell_type": "code",
   "execution_count": 179,
   "id": "c18b0ea5",
   "metadata": {},
   "outputs": [
    {
     "name": "stdout",
     "output_type": "stream",
     "text": [
      "2791.0\n"
     ]
    },
    {
     "data": {
      "text/plain": [
       "array([[-5.89782955, -1.34383864, -2.55995738],\n",
       "       [-5.88254061, -1.43238727, -2.55995738],\n",
       "       [-5.88254061, -1.34383864, -2.61433418],\n",
       "       ...,\n",
       "       [ 6.61517721,  2.65616136,  0.44004262],\n",
       "       [ 6.75225307,  2.65616136,  1.44004262],\n",
       "       [ 6.60137107,  2.65616136,  2.44004262]])"
      ]
     },
     "execution_count": 179,
     "metadata": {},
     "output_type": "execute_result"
    }
   ],
   "source": [
    "for i, cell_id in enumerate(list(dict_label_cell.keys())[::20]):\n",
    "    print(cell_id)\n",
    "    prop = props[dict_label_cell[cell_id]]\n",
    "    coords = prop.mask * 1\n",
    "    add = 10\n",
    "    aux = np.zeros(shape=tuple(np.asarray(coords.shape) + add), dtype=\"uint8\")\n",
    "    aux[add // 2 : -add // 2, add // 2 : -add // 2, add // 2 : -add // 2] = coords.copy()\n",
    "    coords = aux.copy()\n",
    "    coords = Median3D_Array(coords.copy(), disk_size)\n",
    "    vert, trian = mcubes.marching_cubes(mcubes.smooth(coords), 0)\n",
    "    vert -= vert.mean(axis=0)\n",
    "    #vert += prop.centroid\n",
    "    #vert += np.array([prop.slices[i].start for i in [0, 1, 2]])\n",
    "    #vert *= np.asarray([dim_info['x_res'], dim_info['y_res'], dim_info['z_res']])\n",
    "    break\n",
    "vert"
   ]
  },
  {
   "cell_type": "code",
   "execution_count": 106,
   "id": "f28d20e5",
   "metadata": {},
   "outputs": [],
   "source": [
    "cell_cords_IS = np.asarray(np.where(pred_mem == cell_id)).T\n",
    "cell_cords_aux_IS = cell_cords_IS.copy()\n",
    "cell_cords_IS -= cell_cords_IS.min(axis=0)\n",
    "cell_cords_3d_IS = np.zeros(shape=(cell_cords_IS.max(axis=0) + 1), dtype=\"uint8\")\n",
    "for cord in cell_cords_IS:\n",
    "    cell_cords_3d_IS[cord[0], cord[1], cord[2]] = 1\n",
    "aux = np.zeros(shape=tuple(np.asarray(cell_cords_3d_IS.shape) + add), dtype=\"uint8\")"
   ]
  },
  {
   "cell_type": "code",
   "execution_count": 108,
   "id": "35bc130f",
   "metadata": {},
   "outputs": [],
   "source": [
    "aux[add // 2 : -add // 2, add // 2 : -add // 2, add // 2 : -add // 2] = cell_cords_3d_IS.copy()\n",
    "cell_cords_3d = aux.copy()\n",
    "cell_cords_3d_med = Median3D_Array(cell_cords_3d.copy(), disk_size)"
   ]
  },
  {
   "cell_type": "code",
   "execution_count": 129,
   "id": "909f9e22",
   "metadata": {},
   "outputs": [
    {
     "data": {
      "text/plain": [
       "array([[-0.01528894,  6.        ,  5.        ],\n",
       "       [ 0.        ,  5.91145137,  5.        ],\n",
       "       [ 0.        ,  6.        ,  4.9456232 ],\n",
       "       ...,\n",
       "       [12.49771782, 10.        ,  8.        ],\n",
       "       [12.63479368, 10.        ,  9.        ],\n",
       "       [12.48391168, 10.        , 10.        ]])"
      ]
     },
     "execution_count": 129,
     "metadata": {},
     "output_type": "execute_result"
    }
   ],
   "source": [
    "vertices, triangles = mcubes.marching_cubes(mcubes.smooth(cell_cords_3d_med), 0)\n",
    "vertices -= np.asarray([add // 2, add // 2, add // 2])\n",
    "vertices"
   ]
  },
  {
   "cell_type": "code",
   "execution_count": 128,
   "id": "557be04f",
   "metadata": {},
   "outputs": [
    {
     "name": "stdout",
     "output_type": "stream",
     "text": [
      "[5.85453161 7.27722772 7.59786748]\n",
      "[5.85453161 7.27722772 7.59786748]\n"
     ]
    }
   ],
   "source": [
    "print(prop.centroid - np.array([prop.slices[i].start for i in [0, 1, 2]]))\n",
    "print(prop.centroid_local)"
   ]
  },
  {
   "cell_type": "code",
   "execution_count": 174,
   "id": "6d41ccae",
   "metadata": {},
   "outputs": [
    {
     "data": {
      "text/plain": [
       "array([[152, 439, 174],\n",
       "       [152, 440, 169],\n",
       "       [152, 440, 170],\n",
       "       ...,\n",
       "       [165, 444, 173],\n",
       "       [165, 444, 174],\n",
       "       [166, 444, 174]])"
      ]
     },
     "execution_count": 174,
     "metadata": {},
     "output_type": "execute_result"
    }
   ],
   "source": [
    "np.asarray(np.where(pred_mem[prop.slice] == cell_id)).T + np.array([prop.slices[i].start for i in [0, 1, 2]])"
   ]
  },
  {
   "cell_type": "code",
   "execution_count": 159,
   "id": "4c604976",
   "metadata": {},
   "outputs": [
    {
     "data": {
      "text/plain": [
       "array([[151.98471106, 440.        , 169.        ],\n",
       "       [152.        , 439.91145137, 169.        ],\n",
       "       [152.        , 440.        , 168.9456232 ],\n",
       "       ...,\n",
       "       [164.49771782, 444.        , 172.        ],\n",
       "       [164.63479368, 444.        , 173.        ],\n",
       "       [164.48391168, 444.        , 174.        ]])"
      ]
     },
     "execution_count": 159,
     "metadata": {},
     "output_type": "execute_result"
    }
   ],
   "source": [
    "vert"
   ]
  },
  {
   "cell_type": "code",
   "execution_count": 147,
   "id": "b984501f",
   "metadata": {},
   "outputs": [
    {
     "data": {
      "text/plain": [
       "array([   0., 2087., 2126., 2127., 2241., 2329., 2543., 2791., 3258.])"
      ]
     },
     "execution_count": 147,
     "metadata": {},
     "output_type": "execute_result"
    }
   ],
   "source": [
    "np.unique(pred_mem[prop.slice])"
   ]
  },
  {
   "cell_type": "code",
   "execution_count": 146,
   "id": "12413a8b",
   "metadata": {},
   "outputs": [
    {
     "data": {
      "image/png": "[encoded data removed]",
      "text/plain": [
       "<Figure size 720x720 with 4 Axes>"
      ]
     },
     "metadata": {
      "needs_background": "light"
     },
     "output_type": "display_data"
    }
   ],
   "source": [
    "for t in range(16):\n",
    "    plt.figure(figsize=(10,10)) \n",
    "    n = 1*t\n",
    "    plots = [coords[:, :, n], cell_cords_3d[:, :, n+5], cell_cords_3d_IS[:,:,n],\n",
    "            img[prop.slice][:,:,n]]\n",
    "    for i in range(len(plots)):\n",
    "        plt.subplot(1,len(plots), i+1)\n",
    "        plt.imshow(plots[i])\n",
    "    plt.show()\n",
    "    clear_output(wait=True)"
   ]
  },
  {
   "cell_type": "code",
   "execution_count": 95,
   "id": "3269cfb7",
   "metadata": {},
   "outputs": [
    {
     "data": {
      "text/plain": [
       "array([[-0.01528894,  6.        ,  5.        ],\n",
       "       [ 0.        ,  5.91145137,  5.        ],\n",
       "       [ 0.        ,  6.        ,  4.9456232 ],\n",
       "       ...,\n",
       "       [12.49771782, 10.        ,  8.        ],\n",
       "       [12.63479368, 10.        ,  9.        ],\n",
       "       [12.48391168, 10.        , 10.        ]])"
      ]
     },
     "execution_count": 95,
     "metadata": {},
     "output_type": "execute_result"
    }
   ],
   "source": [
    "vertices, triangles = mcubes.marching_cubes(mcubes.smooth(cell_cords_3d_med), 0)\n",
    "vertices"
   ]
  },
  {
   "cell_type": "code",
   "execution_count": 99,
   "id": "f559a136",
   "metadata": {},
   "outputs": [
    {
     "data": {
      "text/plain": [
       "array([[151.98471106, 440.        , 169.        ],\n",
       "       [152.        , 439.91145137, 169.        ],\n",
       "       [152.        , 440.        , 168.9456232 ],\n",
       "       ...,\n",
       "       [164.49771782, 444.        , 172.        ],\n",
       "       [164.63479368, 444.        , 173.        ],\n",
       "       [164.48391168, 444.        , 174.        ]])"
      ]
     },
     "execution_count": 99,
     "metadata": {},
     "output_type": "execute_result"
    }
   ],
   "source": [
    "vertices += cell_cords_aux_IS.min(axis=0)\n",
    "vertices"
   ]
  },
  {
   "cell_type": "code",
   "execution_count": 101,
   "id": "fe1de19b",
   "metadata": {},
   "outputs": [
    {
     "data": {
      "text/plain": [
       "array([[310.84945354, 878.27722772, 339.59786748],\n",
       "       [310.85453161, 878.27264549, 339.59786748],\n",
       "       [310.85453161, 878.27722772, 339.58723047],\n",
       "       ...,\n",
       "       [322.27093519, 885.27722772, 343.59786748],\n",
       "       [322.46827288, 885.27722772, 344.59786748],\n",
       "       [322.36382748, 885.27722772, 345.59786748]])"
      ]
     },
     "execution_count": 101,
     "metadata": {},
     "output_type": "execute_result"
    }
   ],
   "source": [
    "vert, trian = mcubes.marching_cubes(mcubes.smooth(coords_med), 0)\n",
    "vert += np.array([prop.slices[i].start for i in [0, 1, 2]])\n",
    "vert += prop.centroid\n",
    "vert"
   ]
  },
  {
   "cell_type": "code",
   "execution_count": 97,
   "id": "9bd11a6d",
   "metadata": {},
   "outputs": [
    {
     "data": {
      "text/plain": [
       "array([152, 434, 164])"
      ]
     },
     "execution_count": 97,
     "metadata": {},
     "output_type": "execute_result"
    }
   ],
   "source": [
    "cell_cords_aux_IS.min(axis=0)"
   ]
  },
  {
   "cell_type": "code",
   "execution_count": 98,
   "id": "6566ed0e",
   "metadata": {},
   "outputs": [
    {
     "data": {
      "text/plain": [
       "array([152, 434, 164])"
      ]
     },
     "execution_count": 98,
     "metadata": {},
     "output_type": "execute_result"
    }
   ],
   "source": [
    "np.array([prop.slices[i].start for i in [0, 1, 2]])"
   ]
  },
  {
   "cell_type": "code",
   "execution_count": 102,
   "id": "822c9b9f",
   "metadata": {},
   "outputs": [
    {
     "data": {
      "text/plain": [
       "(836, 3)"
      ]
     },
     "execution_count": 102,
     "metadata": {},
     "output_type": "execute_result"
    }
   ],
   "source": [
    "vert.shape"
   ]
  },
  {
   "cell_type": "code",
   "execution_count": 63,
   "id": "a363b017",
   "metadata": {},
   "outputs": [
    {
     "data": {
      "text/plain": [
       "array([[ 0,  5, 10],\n",
       "       [ 0,  6,  5],\n",
       "       [ 0,  6,  6],\n",
       "       ...,\n",
       "       [13, 10,  9],\n",
       "       [13, 10, 10],\n",
       "       [14, 10, 10]])"
      ]
     },
     "execution_count": 63,
     "metadata": {},
     "output_type": "execute_result"
    }
   ],
   "source": [
    "c = prop.coords \n",
    "c -= c.min(axis=0)\n",
    "c"
   ]
  },
  {
   "cell_type": "code",
   "execution_count": 64,
   "id": "aee78ee7",
   "metadata": {},
   "outputs": [
    {
     "data": {
      "text/plain": [
       "array([[ 0,  5, 10],\n",
       "       [ 0,  6,  5],\n",
       "       [ 0,  6,  6],\n",
       "       ...,\n",
       "       [13, 10,  9],\n",
       "       [13, 10, 10],\n",
       "       [14, 10, 10]])"
      ]
     },
     "execution_count": 64,
     "metadata": {},
     "output_type": "execute_result"
    }
   ],
   "source": [
    "cell_cords_IS"
   ]
  },
  {
   "cell_type": "code",
   "execution_count": 36,
   "id": "2a355760",
   "metadata": {},
   "outputs": [
    {
     "data": {
      "image/png": "[encoded data removed]",
      "text/plain": [
       "<Figure size 432x288 with 2 Axes>"
      ]
     },
     "metadata": {
      "needs_background": "light"
     },
     "output_type": "display_data"
    }
   ],
   "source": [
    "from scipy import ndimage, misc\n",
    "import matplotlib.pyplot as plt\n",
    "fig = plt.figure()\n",
    "plt.gray()  # show the filtered result in grayscale\n",
    "ax1 = fig.add_subplot(121)  # left side\n",
    "ax2 = fig.add_subplot(122)  # right side\n",
    "ascent = misc.ascent()\n",
    "result = ndimage.median_filter(ascent, size=20)\n",
    "ax1.imshow(ascent)\n",
    "ax2.imshow(result)\n",
    "plt.show()"
   ]
  },
  {
   "cell_type": "code",
   "execution_count": null,
   "id": "b4be6a84",
   "metadata": {},
   "outputs": [],
   "source": []
  },
  {
   "cell_type": "code",
   "execution_count": null,
   "id": "9e814293",
   "metadata": {},
   "outputs": [],
   "source": []
  }
 ],
 "metadata": {
  "kernelspec": {
   "display_name": "PORESPY",
   "language": "python",
   "name": "porespy"
  },
  "language_info": {
   "codemirror_mode": {
    "name": "ipython",
    "version": 3
   },
   "file_extension": ".py",
   "mimetype": "text/x-python",
   "name": "python",
   "nbconvert_exporter": "python",
   "pygments_lexer": "ipython3",
   "version": "3.8.13"
  }
 },
 "nbformat": 4,
 "nbformat_minor": 5
}
