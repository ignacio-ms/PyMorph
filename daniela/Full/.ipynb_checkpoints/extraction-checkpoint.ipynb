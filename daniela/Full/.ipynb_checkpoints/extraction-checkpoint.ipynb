{
 "cells": [
  {
   "cell_type": "code",
   "execution_count": 6,
   "id": "8409828d",
   "metadata": {},
   "outputs": [],
   "source": [
    "import yaml\n",
    "import h5py\n",
    "import numpy as np\n",
    "import sys\n",
    "import os\n",
    "import numpy as np\n",
    "import matplotlib.pyplot as plt\n",
    "from importlib import reload\n",
    "import nibabel as nib\n",
    "import pandas as pd\n",
    "from IPython.display import clear_output\n",
    "from skimage.segmentation import find_boundaries\n",
    "import napari\n",
    "from skimage import exposure, io, measure\n",
    "from skimage import color, io\n",
    "from skimage import morphology\n",
    "from skimage import measure\n",
    "from skimage.measure import regionprops, regionprops_table"
   ]
  },
  {
   "cell_type": "code",
   "execution_count": 7,
   "id": "df3faa5e",
   "metadata": {},
   "outputs": [],
   "source": [
    "gasp = \"/Users/dvarelat/Documents/MASTER/TFM/DATA/RESULTS/membranes/GASP_PNAS/20190404_E1_mGFP_CardiacRegion_0.5_XYZ_predictions_GASP.nii.gz\"\n",
    "decon05_cc = \"/Users/dvarelat/Documents/MASTER/TFM/DATA/CardiacRegion/20190404_E1/20190404_E1_mGFP_CardiacRegion_0.5.nii.gz\""
   ]
  },
  {
   "cell_type": "code",
   "execution_count": 4,
   "id": "2fcdbc7f",
   "metadata": {},
   "outputs": [
    {
     "data": {
      "text/plain": [
       "(877, 829, 526)"
      ]
     },
     "execution_count": 4,
     "metadata": {},
     "output_type": "execute_result"
    }
   ],
   "source": [
    "gasp_pred = nib.load(gasp).get_fdata()\n",
    "gasp_pred.shape"
   ]
  },
  {
   "cell_type": "code",
   "execution_count": null,
   "id": "93b200c9",
   "metadata": {},
   "outputs": [],
   "source": []
  },
  {
   "cell_type": "code",
   "execution_count": 8,
   "id": "e8e13f70",
   "metadata": {},
   "outputs": [
    {
     "data": {
      "text/plain": [
       "(877, 829, 526)"
      ]
     },
     "execution_count": 8,
     "metadata": {},
     "output_type": "execute_result"
    }
   ],
   "source": [
    "mem_decon = nib.load(decon05_cc).get_fdata()\n",
    "mem_decon = mem_decon[:,:,:,0]\n",
    "mem_decon.shape"
   ]
  },
  {
   "cell_type": "code",
   "execution_count": 11,
   "id": "fdb338fb",
   "metadata": {},
   "outputs": [],
   "source": [
    "img = morphology.label(gasp_pred)"
   ]
  },
  {
   "cell_type": "code",
   "execution_count": 13,
   "id": "8ab80550",
   "metadata": {},
   "outputs": [],
   "source": [
    "cell_vol = np.unique(img, return_counts=True)[1][1:]"
   ]
  },
  {
   "cell_type": "code",
   "execution_count": 14,
   "id": "3d03b1c7",
   "metadata": {},
   "outputs": [
    {
     "data": {
      "text/plain": [
       "11571"
      ]
     },
     "execution_count": 14,
     "metadata": {},
     "output_type": "execute_result"
    }
   ],
   "source": [
    "len(np.unique(gasp_pred))"
   ]
  },
  {
   "cell_type": "code",
   "execution_count": 21,
   "id": "8797b193",
   "metadata": {},
   "outputs": [],
   "source": [
    "boundaries = find_boundaries(gasp_pred)"
   ]
  },
  {
   "cell_type": "code",
   "execution_count": 26,
   "id": "2218b488",
   "metadata": {},
   "outputs": [
    {
     "data": {
      "text/plain": [
       "(877, 829, 526)"
      ]
     },
     "execution_count": 26,
     "metadata": {},
     "output_type": "execute_result"
    }
   ],
   "source": [
    "boundaries.astype(\"uint16\").shape"
   ]
  },
  {
   "cell_type": "code",
   "execution_count": 30,
   "id": "dd6f9112",
   "metadata": {},
   "outputs": [
    {
     "data": {
      "image/png": "[encoded data removed]",
      "text/plain": [
       "<Figure size 720x720 with 2 Axes>"
      ]
     },
     "metadata": {
      "needs_background": "light"
     },
     "output_type": "display_data"
    }
   ],
   "source": [
    "for t in range(52):\n",
    "    plt.figure(figsize=(10,10)) \n",
    "    n = 10*t\n",
    "    plots = [img[:, :, n], boundaries.astype(\"uint16\")[:, :, n]]\n",
    "    for i in range(len(plots)):\n",
    "        plt.subplot(1,len(plots), i+1)\n",
    "        plt.imshow(plots[i])\n",
    "    plt.show()\n",
    "    clear_output(wait=True)"
   ]
  },
  {
   "cell_type": "code",
   "execution_count": null,
   "id": "bbd6d105",
   "metadata": {},
   "outputs": [],
   "source": []
  },
  {
   "cell_type": "code",
   "execution_count": 32,
   "id": "973e3f6a",
   "metadata": {},
   "outputs": [],
   "source": [
    "def pixelcount(regionmask):\n",
    "    return np.sum(regionmask)"
   ]
  },
  {
   "cell_type": "markdown",
   "id": "21a04d94",
   "metadata": {},
   "source": [
    "## Extract properties"
   ]
  },
  {
   "cell_type": "code",
   "execution_count": 33,
   "id": "45b86ed0",
   "metadata": {},
   "outputs": [],
   "source": [
    "props = regionprops(img, extra_properties=(pixelcount,))"
   ]
  },
  {
   "cell_type": "code",
   "execution_count": 35,
   "id": "cbe46dd6",
   "metadata": {},
   "outputs": [
    {
     "data": {
      "text/plain": [
       "5857"
      ]
     },
     "execution_count": 35,
     "metadata": {},
     "output_type": "execute_result"
    }
   ],
   "source": [
    "props[0].pixelcount"
   ]
  },
  {
   "cell_type": "code",
   "execution_count": 38,
   "id": "c5147f84",
   "metadata": {},
   "outputs": [
    {
     "data": {
      "text/plain": [
       "5857"
      ]
     },
     "execution_count": 38,
     "metadata": {},
     "output_type": "execute_result"
    }
   ],
   "source": [
    "cell_vol[0]"
   ]
  },
  {
   "cell_type": "code",
   "execution_count": null,
   "id": "c1558ec6",
   "metadata": {},
   "outputs": [],
   "source": []
  },
  {
   "cell_type": "code",
   "execution_count": 35,
   "id": "6b20d4b7",
   "metadata": {},
   "outputs": [],
   "source": []
  },
  {
   "cell_type": "code",
   "execution_count": 39,
   "id": "0a625ce4",
   "metadata": {},
   "outputs": [],
   "source": []
  },
  {
   "cell_type": "code",
   "execution_count": null,
   "id": "ed72e779",
   "metadata": {},
   "outputs": [],
   "source": []
  },
  {
   "cell_type": "code",
   "execution_count": null,
   "id": "8ead2985",
   "metadata": {},
   "outputs": [],
   "source": []
  },
  {
   "cell_type": "markdown",
   "id": "ff4ffb63",
   "metadata": {},
   "source": [
    "## VISUALIZATION"
   ]
  },
  {
   "cell_type": "code",
   "execution_count": 128,
   "id": "acf3171e",
   "metadata": {},
   "outputs": [],
   "source": [
    "viewer = napari.view_image(np.swapaxes(np.swapaxes(mem_decon, 0, 2), 1, 2), name='orignal')"
   ]
  },
  {
   "cell_type": "code",
   "execution_count": 129,
   "id": "3702ec66",
   "metadata": {},
   "outputs": [
    {
     "data": {
      "text/plain": [
       "<Labels layer 'labeled' at 0x1cd53a4a0>"
      ]
     },
     "execution_count": 129,
     "metadata": {},
     "output_type": "execute_result"
    }
   ],
   "source": [
    "viewer.add_labels(np.swapaxes(np.swapaxes(gasp_pred, 0, 2), 1, 2).astype(\"uint16\"), name='labeled')"
   ]
  },
  {
   "cell_type": "code",
   "execution_count": 57,
   "id": "d3fec9da",
   "metadata": {},
   "outputs": [
    {
     "data": {
      "text/plain": [
       "[<Image layer 'orignal' at 0x1ae88bd60>, <Labels layer 'labeled' at 0x1be284d00>]"
      ]
     },
     "execution_count": 57,
     "metadata": {},
     "output_type": "execute_result"
    }
   ],
   "source": [
    "viewer.layers"
   ]
  },
  {
   "cell_type": "code",
   "execution_count": 62,
   "id": "e3acf857",
   "metadata": {},
   "outputs": [],
   "source": [
    "volume = (gasp_pred.astype(\"uint16\") == props[3].label).transpose(1, 2, 0)"
   ]
  },
  {
   "cell_type": "code",
   "execution_count": 64,
   "id": "8dd7ac3d",
   "metadata": {},
   "outputs": [],
   "source": [
    "verts, faces, _, values = measure.marching_cubes(volume, level=0, spacing=(1.0, 1.0, 1.0))\n"
   ]
  },
  {
   "cell_type": "code",
   "execution_count": 65,
   "id": "60258d7d",
   "metadata": {},
   "outputs": [
    {
     "name": "stdout",
     "output_type": "stream",
     "text": [
      "Surface area (total pixels): 78.77\n"
     ]
    }
   ],
   "source": [
    "surface_area_pixels = measure.mesh_surface_area(verts, faces)\n",
    "print(\"Surface area (total pixels): {:0.2f}\".format(surface_area_pixels))"
   ]
  },
  {
   "cell_type": "code",
   "execution_count": 67,
   "id": "900bcb44",
   "metadata": {},
   "outputs": [
    {
     "data": {
      "text/plain": [
       "<Surface layer 'surface [1]' at 0x1bd590df0>"
      ]
     },
     "execution_count": 67,
     "metadata": {},
     "output_type": "execute_result"
    }
   ],
   "source": [
    "viewer.add_surface((verts[:, [2, 0, 1]], faces, np.random.random(len(verts))), name='surface')"
   ]
  },
  {
   "cell_type": "markdown",
   "id": "0a76b47b",
   "metadata": {},
   "source": [
    "### VOLUMEN EN SUPERFICIE"
   ]
  },
  {
   "cell_type": "code",
   "execution_count": 39,
   "id": "a6331132",
   "metadata": {},
   "outputs": [
    {
     "data": {
      "text/plain": [
       "11570"
      ]
     },
     "execution_count": 39,
     "metadata": {},
     "output_type": "execute_result"
    }
   ],
   "source": [
    "pixelcounts = [p.pixelcount for p in props]\n",
    "len(pixelcounts)"
   ]
  },
  {
   "cell_type": "code",
   "execution_count": 118,
   "id": "384bc266",
   "metadata": {},
   "outputs": [
    {
     "data": {
      "text/plain": [
       "102001"
      ]
     },
     "execution_count": 118,
     "metadata": {},
     "output_type": "execute_result"
    }
   ],
   "source": [
    "np.max(pixelcounts)"
   ]
  },
  {
   "cell_type": "code",
   "execution_count": 105,
   "id": "18e1a3f1",
   "metadata": {},
   "outputs": [],
   "source": [
    "order_index = sorted(range(len(pixelcounts)),key=pixelcounts.__getitem__)"
   ]
  },
  {
   "cell_type": "code",
   "execution_count": 119,
   "id": "89ab72d3",
   "metadata": {},
   "outputs": [
    {
     "data": {
      "text/plain": [
       "102001"
      ]
     },
     "execution_count": 119,
     "metadata": {},
     "output_type": "execute_result"
    }
   ],
   "source": [
    "pixelcounts[6673]"
   ]
  },
  {
   "cell_type": "code",
   "execution_count": null,
   "id": "a938d5ac",
   "metadata": {},
   "outputs": [],
   "source": []
  },
  {
   "cell_type": "code",
   "execution_count": 148,
   "id": "2f0734c2",
   "metadata": {},
   "outputs": [],
   "source": []
  },
  {
   "cell_type": "code",
   "execution_count": null,
   "id": "aa4cfa45",
   "metadata": {},
   "outputs": [],
   "source": []
  },
  {
   "cell_type": "markdown",
   "id": "cfa9ea2c",
   "metadata": {},
   "source": [
    "### Inspect one cell"
   ]
  },
  {
   "cell_type": "code",
   "execution_count": 73,
   "id": "f94f3e8b",
   "metadata": {},
   "outputs": [],
   "source": [
    "label = 3350\n",
    "test_array = img.copy()\n",
    "test_array_one = np.where(test_array == label, 1, 0)"
   ]
  },
  {
   "cell_type": "code",
   "execution_count": 74,
   "id": "acafc5e3",
   "metadata": {},
   "outputs": [
    {
     "data": {
      "text/plain": [
       "(877, 829, 526)"
      ]
     },
     "execution_count": 74,
     "metadata": {},
     "output_type": "execute_result"
    }
   ],
   "source": [
    "test_array_one.shape"
   ]
  },
  {
   "cell_type": "code",
   "execution_count": 58,
   "id": "6104613e",
   "metadata": {},
   "outputs": [
    {
     "data": {
      "text/plain": [
       "array([0, 1])"
      ]
     },
     "execution_count": 58,
     "metadata": {},
     "output_type": "execute_result"
    }
   ],
   "source": [
    "np.unique(test_array_one)"
   ]
  },
  {
   "cell_type": "code",
   "execution_count": 88,
   "id": "3ab39fe0",
   "metadata": {},
   "outputs": [
    {
     "data": {
      "text/plain": [
       "(269.7841163310962, 559.2919463087248, 399.49888143176736)"
      ]
     },
     "execution_count": 88,
     "metadata": {},
     "output_type": "execute_result"
    }
   ],
   "source": [
    "props[3349].centroid"
   ]
  },
  {
   "cell_type": "code",
   "execution_count": 83,
   "id": "c1a47a55",
   "metadata": {},
   "outputs": [],
   "source": [
    "#pd.DataFrame(test_array_one[260:280, 560:570, 399])"
   ]
  },
  {
   "cell_type": "code",
   "execution_count": 82,
   "id": "0d140545",
   "metadata": {},
   "outputs": [
    {
     "data": {
      "image/png": "[encoded data removed]",
      "text/plain": [
       "<Figure size 720x720 with 1 Axes>"
      ]
     },
     "metadata": {
      "needs_background": "light"
     },
     "output_type": "display_data"
    }
   ],
   "source": [
    "for t in range(52):\n",
    "    plt.figure(figsize=(10,10)) \n",
    "    n = 10*t\n",
    "    plots = [test_array_one[200:400, 400:600, n]]\n",
    "    for i in range(len(plots)):\n",
    "        plt.subplot(1,len(plots), i+1)\n",
    "        plt.imshow(plots[i])\n",
    "    plt.show()\n",
    "    clear_output(wait=True)"
   ]
  },
  {
   "cell_type": "code",
   "execution_count": 89,
   "id": "1ef1f32e",
   "metadata": {},
   "outputs": [],
   "source": [
    "#[p.centroid for p in props[:100]]\n"
   ]
  },
  {
   "cell_type": "markdown",
   "id": "9ab10ca6",
   "metadata": {},
   "source": [
    "## Color in order"
   ]
  },
  {
   "cell_type": "code",
   "execution_count": 90,
   "id": "8ea7704b",
   "metadata": {},
   "outputs": [],
   "source": [
    "from matplotlib.colors import ListedColormap, LinearSegmentedColormap\n",
    "from matplotlib import cm"
   ]
  },
  {
   "cell_type": "code",
   "execution_count": 137,
   "id": "52b8ffbb",
   "metadata": {},
   "outputs": [
    {
     "data": {
      "image/png": "[encoded data removed]",
      "text/html": [
       "<div style=\"vertical-align: middle;\"><strong>plasma</strong> </div><div class=\"cmap\"><img alt=\"plasma colormap\" title=\"plasma\" style=\"border: 1px solid #555;\" src=\"data:image/png;base64,iVBORw0KGgoAAAANSUhEUgAAAgAAAABACAYAAABsv8+/AAAAFXRFWHRUaXRsZQBwbGFzbWEgY29sb3JtYXBGwe5cAAAAG3RFWHREZXNjcmlwdGlvbgBwbGFzbWEgY29sb3JtYXAPVva4AAAAMHRFWHRBdXRob3IATWF0cGxvdGxpYiB2My41LjEsIGh0dHBzOi8vbWF0cGxvdGxpYi5vcmf3t87PAAAAMnRFWHRTb2Z0d2FyZQBNYXRwbG90bGliIHYzLjUuMSwgaHR0cHM6Ly9tYXRwbG90bGliLm9yZ9kRUegAAAIrSURBVHic7dbBcpswFIbRK9KZbvrcfeyoixo7SAjTdPmfs3ERVwh7Jp2v/fr5u9fDj2pVVfXRt6qq2qrVx772+NzXq6q23l7/vvvZ6/J+e16fz7XF/raa39f78bltOn9Y7+NcLfY/rvvNueE92zR/vL47N123xf22X/fhery/X/fD817PPa6Pc9u2z6/mhvPfzLVtsf5u33je9F7j+1zvb9v4e/zrvm9+Tvuvv8f/n1+X++v2ufXNfc8/wMu5uvn7rObm96nh/Lvn1ul8LX73cf/0PRfnv9s3nlfL9fPvudo/z9X1/cV71uK813xd3q+3z1vsn9bP5/r0H/B43t+Pvlyv8/XV3HS/nT6nb+10vm8nzzzs+/qun4+1z+fY1y0AQAgBAACBBAAABBIAABBIAABAIAEAAIEEAAAEEgAAEEgAAEAgAQAAgQQAAAQSAAAQSAAAQCABAACBBAAABBIAABBIAABAIAEAAIEEAAAEEgAAEEgAAEAgAQAAgQQAAAQSAAAQSAAAQCABAACBBAAABBIAABBIAABAIAEAAIEEAAAEEgAAEEgAAEAgAQAAgQQAAAQSAAAQSAAAQCABAACBBAAABBIAABBIAABAIAEAAIEEAAAEEgAAEEgAAEAgAQAAgQQAAAQSAAAQSAAAQCABAACBBAAABBIAABBIAABAIAEAAIEEAAAEEgAAEEgAAEAgAQAAgQQAAAQSAAAQSAAAQCABAACBBAAABPoD2eOfh4o8xzwAAAAASUVORK5CYII=\"></div><div style=\"vertical-align: middle; max-width: 514px; display: flex; justify-content: space-between;\"><div style=\"float: left;\"><div title=\"#0d0887ff\" style=\"display: inline-block; width: 1em; height: 1em; margin: 0; vertical-align: middle; border: 1px solid #555; background-color: #0d0887ff;\"></div> under</div><div style=\"margin: 0 auto; display: inline-block;\">bad <div title=\"#00000000\" style=\"display: inline-block; width: 1em; height: 1em; margin: 0; vertical-align: middle; border: 1px solid #555; background-color: #00000000;\"></div></div><div style=\"float: right;\">over <div title=\"#f0f921ff\" style=\"display: inline-block; width: 1em; height: 1em; margin: 0; vertical-align: middle; border: 1px solid #555; background-color: #f0f921ff;\"></div></div>"
      ],
      "text/plain": [
       "<matplotlib.colors.ListedColormap at 0x1a08a8e80>"
      ]
     },
     "execution_count": 137,
     "metadata": {},
     "output_type": "execute_result"
    }
   ],
   "source": [
    "viridis = cm.get_cmap('plasma', len(pixelcounts))\n",
    "viridis"
   ]
  },
  {
   "cell_type": "code",
   "execution_count": 127,
   "id": "4ef5feda",
   "metadata": {},
   "outputs": [
    {
     "data": {
      "text/plain": [
       "11570"
      ]
     },
     "execution_count": 127,
     "metadata": {},
     "output_type": "execute_result"
    }
   ],
   "source": [
    "len(pixelcounts)"
   ]
  },
  {
   "cell_type": "code",
   "execution_count": 191,
   "id": "509f7d6e",
   "metadata": {},
   "outputs": [],
   "source": [
    "colores = viridis.colors"
   ]
  },
  {
   "cell_type": "code",
   "execution_count": 192,
   "id": "1247facf",
   "metadata": {},
   "outputs": [
    {
     "data": {
      "image/png": "[encoded data removed]",
      "text/html": [
       "<div style=\"vertical-align: middle;\"><strong>from_list</strong> </div><div class=\"cmap\"><img alt=\"from_list colormap\" title=\"from_list\" style=\"border: 1px solid #555;\" src=\"data:image/png;base64,iVBORw0KGgoAAAANSUhEUgAAAgAAAABACAYAAABsv8+/AAAAGHRFWHRUaXRsZQBmcm9tX2xpc3QgY29sb3JtYXBDL89FAAAAHnRFWHREZXNjcmlwdGlvbgBmcm9tX2xpc3QgY29sb3JtYXABtCnOAAAAMHRFWHRBdXRob3IATWF0cGxvdGxpYiB2My41LjEsIGh0dHBzOi8vbWF0cGxvdGxpYi5vcmf3t87PAAAAMnRFWHRTb2Z0d2FyZQBNYXRwbG90bGliIHYzLjUuMSwgaHR0cHM6Ly9tYXRwbG90bGliLm9yZ9kRUegAAAGSSURBVHic7dYxbsMwFAVB2ifK0XPBRKmCtH6FACM7U7mgPiiRBvbx9flxnV/Pv58veQzr59nb8mn+su9zznkOa+fZyzfcRm/nc+Psc6b3vOazv2cf55ztHo7f8Jru7DZ72cs1n/24ftnLO73nrft+/YE7z+ca9nHO2e/4tJdt9rvc8XX29r//Hmdv69fPAgD8AwIAAIIEAAAECQAACBIAABAkAAAgSAAAQJAAAIAgAQAAQQIAAIIEAAAECQAACBIAABAkAAAgSAAAQJAAAIAgAQAAQQIAAIIEAAAECQAACBIAABAkAAAgSAAAQJAAAIAgAQAAQQIAAIIEAAAECQAACBIAABAkAAAgSAAAQJAAAIAgAQAAQQIAAIIEAAAECQAACBIAABAkAAAgSAAAQJAAAIAgAQAAQQIAAIIEAAAECQAACBIAABAkAAAgSAAAQJAAAIAgAQAAQQIAAIIEAAAECQAACBIAABAkAAAgSAAAQJAAAIAgAQAAQQIAAIIEAAAECQAACBIAABAkAAAgSAAAQNAPDR8gh2fWcjEAAAAASUVORK5CYII=\"></div><div style=\"vertical-align: middle; max-width: 514px; display: flex; justify-content: space-between;\"><div style=\"float: left;\"><div title=\"#fdb130ff\" style=\"display: inline-block; width: 1em; height: 1em; margin: 0; vertical-align: middle; border: 1px solid #555; background-color: #fdb130ff;\"></div> under</div><div style=\"margin: 0 auto; display: inline-block;\">bad <div title=\"#00000000\" style=\"display: inline-block; width: 1em; height: 1em; margin: 0; vertical-align: middle; border: 1px solid #555; background-color: #00000000;\"></div></div><div style=\"float: right;\">over <div title=\"#f0f921ff\" style=\"display: inline-block; width: 1em; height: 1em; margin: 0; vertical-align: middle; border: 1px solid #555; background-color: #f0f921ff;\"></div></div>"
      ],
      "text/plain": [
       "<matplotlib.colors.ListedColormap at 0x1a0ae2380>"
      ]
     },
     "execution_count": 192,
     "metadata": {},
     "output_type": "execute_result"
    }
   ],
   "source": [
    "ListedColormap(colores[len(colores)-2000:])"
   ]
  },
  {
   "cell_type": "code",
   "execution_count": null,
   "id": "abcca736",
   "metadata": {},
   "outputs": [],
   "source": [
    "[colors_ordered[i] for i in bigger]"
   ]
  },
  {
   "cell_type": "code",
   "execution_count": 215,
   "id": "454e74f3",
   "metadata": {},
   "outputs": [
    {
     "data": {
      "image/png": "[encoded data removed]",
      "text/html": [
       "<div style=\"vertical-align: middle;\"><strong>from_list</strong> </div><div class=\"cmap\"><img alt=\"from_list colormap\" title=\"from_list\" style=\"border: 1px solid #555;\" src=\"data:image/png;base64,iVBORw0KGgoAAAANSUhEUgAAAgAAAABACAYAAABsv8+/AAAAGHRFWHRUaXRsZQBmcm9tX2xpc3QgY29sb3JtYXBDL89FAAAAHnRFWHREZXNjcmlwdGlvbgBmcm9tX2xpc3QgY29sb3JtYXABtCnOAAAAMHRFWHRBdXRob3IATWF0cGxvdGxpYiB2My41LjEsIGh0dHBzOi8vbWF0cGxvdGxpYi5vcmf3t87PAAAAMnRFWHRTb2Z0d2FyZQBNYXRwbG90bGliIHYzLjUuMSwgaHR0cHM6Ly9tYXRwbG90bGliLm9yZ9kRUegAAAEqSURBVHic7dYxAcAgAMCwMSf4F8fLx1yMo4mCnh1rz/MAACnv7QAA4H8GAACCDAAABBkAAAgyAAAQZAAAIMgAAECQAQCAIAMAAEEGAACCDAAABBkAAAgyAAAQZAAAIMgAAECQAQCAIAMAAEEGAACCDAAABBkAAAgyAAAQZAAAIMgAAECQAQCAIAMAAEEGAACCDAAABBkAAAgyAAAQZAAAIMgAAECQAQCAIAMAAEEGAACCDAAABBkAAAgyAAAQZAAAIMgAAECQAQCAIAMAAEEGAACCDAAABBkAAAgyAAAQZAAAIMgAAECQAQCAIAMAAEEGAACCDAAABBkAAAgyAAAQZAAAIMgAAECQAQCAIAMAAEEGAACCDAAABBkAAAgyAAAQZAAAIMgAAEDQBy1BA4d7tNpbAAAAAElFTkSuQmCC\"></div><div style=\"vertical-align: middle; max-width: 514px; display: flex; justify-content: space-between;\"><div style=\"float: left;\"><div title=\"#f0f921ff\" style=\"display: inline-block; width: 1em; height: 1em; margin: 0; vertical-align: middle; border: 1px solid #555; background-color: #f0f921ff;\"></div> under</div><div style=\"margin: 0 auto; display: inline-block;\">bad <div title=\"#00000000\" style=\"display: inline-block; width: 1em; height: 1em; margin: 0; vertical-align: middle; border: 1px solid #555; background-color: #00000000;\"></div></div><div style=\"float: right;\">over <div title=\"#f0f921ff\" style=\"display: inline-block; width: 1em; height: 1em; margin: 0; vertical-align: middle; border: 1px solid #555; background-color: #f0f921ff;\"></div></div>"
      ],
      "text/plain": [
       "<matplotlib.colors.ListedColormap at 0x1a05c30a0>"
      ]
     },
     "execution_count": 215,
     "metadata": {},
     "output_type": "execute_result"
    }
   ],
   "source": []
  },
  {
   "cell_type": "code",
   "execution_count": 249,
   "id": "181b8905",
   "metadata": {},
   "outputs": [],
   "source": [
    "bigger_CELLS = order_index[len(order_index)-1000:]\n"
   ]
  },
  {
   "cell_type": "code",
   "execution_count": 247,
   "id": "cf249eec",
   "metadata": {},
   "outputs": [
    {
     "data": {
      "text/plain": [
       "11569"
      ]
     },
     "execution_count": 247,
     "metadata": {},
     "output_type": "execute_result"
    }
   ],
   "source": [
    "dict_indices = dict(zip(order_index, range(len(order_index))))\n",
    "dict_indices[6673]"
   ]
  },
  {
   "cell_type": "code",
   "execution_count": null,
   "id": "715b6b00",
   "metadata": {},
   "outputs": [],
   "source": []
  },
  {
   "cell_type": "code",
   "execution_count": 250,
   "id": "eac8c738",
   "metadata": {},
   "outputs": [
    {
     "data": {
      "image/png": "[encoded data removed]",
      "text/html": [
       "<div style=\"vertical-align: middle;\"><strong>from_list</strong> </div><div class=\"cmap\"><img alt=\"from_list colormap\" title=\"from_list\" style=\"border: 1px solid #555;\" src=\"data:image/png;base64,iVBORw0KGgoAAAANSUhEUgAAAgAAAABACAYAAABsv8+/AAAAGHRFWHRUaXRsZQBmcm9tX2xpc3QgY29sb3JtYXBDL89FAAAAHnRFWHREZXNjcmlwdGlvbgBmcm9tX2xpc3QgY29sb3JtYXABtCnOAAAAMHRFWHRBdXRob3IATWF0cGxvdGxpYiB2My41LjEsIGh0dHBzOi8vbWF0cGxvdGxpYi5vcmf3t87PAAAAMnRFWHRTb2Z0d2FyZQBNYXRwbG90bGliIHYzLjUuMSwgaHR0cHM6Ly9tYXRwbG90bGliLm9yZ9kRUegAAAFpSURBVHic7dZBagQxDABBzb4l//9MnhOI95J7ICCI6arzIITHhn6+Pj/O/Div2fMszp6ZWdz9bO6+uffm/7z2vPeG3/p+zuKZzMy1d+Xa93PtPdycfX7/6K+e77XR57U3e2b1GgIA/5UAAIAgAQAAQQIAAIIEAAAECQAACBIAABAkAAAgSAAAQJAAAIAgAQAAQQIAAIIEAAAECQAACBIAABAkAAAgSAAAQJAAAIAgAQAAQQIAAIIEAAAECQAACBIAABAkAAAgSAAAQJAAAIAgAQAAQQIAAIIEAAAECQAACBIAABAkAAAgSAAAQJAAAIAgAQAAQQIAAIIEAAAECQAACBIAABAkAAAgSAAAQJAAAIAgAQAAQQIAAIIEAAAECQAACBIAABAkAAAgSAAAQJAAAIAgAQAAQQIAAIIEAAAECQAACBIAABAkAAAgSAAAQJAAAIAgAQAAQQIAAIIEAAAECQAACBIAABD0Bta4Eoeib/HAAAAAAElFTkSuQmCC\"></div><div style=\"vertical-align: middle; max-width: 514px; display: flex; justify-content: space-between;\"><div style=\"float: left;\"><div title=\"#fbd324ff\" style=\"display: inline-block; width: 1em; height: 1em; margin: 0; vertical-align: middle; border: 1px solid #555; background-color: #fbd324ff;\"></div> under</div><div style=\"margin: 0 auto; display: inline-block;\">bad <div title=\"#00000000\" style=\"display: inline-block; width: 1em; height: 1em; margin: 0; vertical-align: middle; border: 1px solid #555; background-color: #00000000;\"></div></div><div style=\"float: right;\">over <div title=\"#f0f921ff\" style=\"display: inline-block; width: 1em; height: 1em; margin: 0; vertical-align: middle; border: 1px solid #555; background-color: #f0f921ff;\"></div></div>"
      ],
      "text/plain": [
       "<matplotlib.colors.ListedColormap at 0x1a05c0520>"
      ]
     },
     "execution_count": 250,
     "metadata": {},
     "output_type": "execute_result"
    }
   ],
   "source": [
    "ListedColormap([colores[dict_indices[i]] for i in bigger_CELLS])"
   ]
  },
  {
   "cell_type": "code",
   "execution_count": 219,
   "id": "3a70afcb",
   "metadata": {},
   "outputs": [
    {
     "data": {
      "text/plain": [
       "[1078, 1187, 11102, 3038, 3753, 8166, 1904, 1971, 2114, 7060]"
      ]
     },
     "execution_count": 219,
     "metadata": {},
     "output_type": "execute_result"
    }
   ],
   "source": [
    "smaller_CELLS = order_index[:10]\n",
    "smaller_CELLS"
   ]
  },
  {
   "cell_type": "code",
   "execution_count": 220,
   "id": "297aaedd",
   "metadata": {},
   "outputs": [
    {
     "data": {
      "image/png": "[encoded data removed]",
      "text/html": [
       "<div style=\"vertical-align: middle;\"><strong>from_list</strong> </div><div class=\"cmap\"><img alt=\"from_list colormap\" title=\"from_list\" style=\"border: 1px solid #555;\" src=\"data:image/png;base64,iVBORw0KGgoAAAANSUhEUgAAAgAAAABACAYAAABsv8+/AAAAGHRFWHRUaXRsZQBmcm9tX2xpc3QgY29sb3JtYXBDL89FAAAAHnRFWHREZXNjcmlwdGlvbgBmcm9tX2xpc3QgY29sb3JtYXABtCnOAAAAMHRFWHRBdXRob3IATWF0cGxvdGxpYiB2My41LjEsIGh0dHBzOi8vbWF0cGxvdGxpYi5vcmf3t87PAAAAMnRFWHRTb2Z0d2FyZQBNYXRwbG90bGliIHYzLjUuMSwgaHR0cHM6Ly9tYXRwbG90bGliLm9yZ9kRUegAAAEpSURBVHic7daxAYAgAMAwcWHhbt7GL2RockHHjjX3eQCAlPd2AADwPwMAAEEGAACCDAAABBkAAAgyAAAQZAAAIMgAAECQAQCAIAMAAEEGAACCDAAABBkAAAgyAAAQZAAAIMgAAECQAQCAIAMAAEEGAACCDAAABBkAAAgyAAAQZAAAIMgAAECQAQCAIAMAAEEGAACCDAAABBkAAAgyAAAQZAAAIMgAAECQAQCAIAMAAEEGAACCDAAABBkAAAgyAAAQZAAAIMgAAECQAQCAIAMAAEEGAACCDAAABBkAAAgyAAAQZAAAIMgAAECQAQCAIAMAAEEGAACCDAAABBkAAAgyAAAQZAAAIMgAAECQAQCAIAMAAEEGAACCDAAABBkAAAgyAAAQZAAAIOgDqAYCGFEPHBUAAAAASUVORK5CYII=\"></div><div style=\"vertical-align: middle; max-width: 514px; display: flex; justify-content: space-between;\"><div style=\"float: left;\"><div title=\"#0d0887ff\" style=\"display: inline-block; width: 1em; height: 1em; margin: 0; vertical-align: middle; border: 1px solid #555; background-color: #0d0887ff;\"></div> under</div><div style=\"margin: 0 auto; display: inline-block;\">bad <div title=\"#00000000\" style=\"display: inline-block; width: 1em; height: 1em; margin: 0; vertical-align: middle; border: 1px solid #555; background-color: #00000000;\"></div></div><div style=\"float: right;\">over <div title=\"#0d0887ff\" style=\"display: inline-block; width: 1em; height: 1em; margin: 0; vertical-align: middle; border: 1px solid #555; background-color: #0d0887ff;\"></div></div>"
      ],
      "text/plain": [
       "<matplotlib.colors.ListedColormap at 0x1a05c2650>"
      ]
     },
     "execution_count": 220,
     "metadata": {},
     "output_type": "execute_result"
    }
   ],
   "source": [
    "ListedColormap([colores[dict_indices[i]] for i in smaller_CELLS])"
   ]
  },
  {
   "cell_type": "code",
   "execution_count": 269,
   "id": "70d26d81",
   "metadata": {},
   "outputs": [],
   "source": [
    "labels_ordered = [i+1 for i in order_index]"
   ]
  },
  {
   "cell_type": "code",
   "execution_count": 222,
   "id": "88ab9dc4",
   "metadata": {},
   "outputs": [],
   "source": [
    "colors_ordered_ind = [dict_indices[i] for i in order_index]"
   ]
  },
  {
   "cell_type": "code",
   "execution_count": 223,
   "id": "a3df7303",
   "metadata": {},
   "outputs": [],
   "source": [
    "colors_ordered = colores[colors_ordered_ind]\n",
    "colors_ordered = list(map(tuple, colors_ordered))"
   ]
  },
  {
   "cell_type": "code",
   "execution_count": 224,
   "id": "bcf57c9d",
   "metadata": {},
   "outputs": [
    {
     "data": {
      "image/png": "[encoded data removed]",
      "text/html": [
       "<div style=\"vertical-align: middle;\"><strong>from_list</strong> </div><div class=\"cmap\"><img alt=\"from_list colormap\" title=\"from_list\" style=\"border: 1px solid #555;\" src=\"data:image/png;base64,iVBORw0KGgoAAAANSUhEUgAAAgAAAABACAYAAABsv8+/AAAAGHRFWHRUaXRsZQBmcm9tX2xpc3QgY29sb3JtYXBDL89FAAAAHnRFWHREZXNjcmlwdGlvbgBmcm9tX2xpc3QgY29sb3JtYXABtCnOAAAAMHRFWHRBdXRob3IATWF0cGxvdGxpYiB2My41LjEsIGh0dHBzOi8vbWF0cGxvdGxpYi5vcmf3t87PAAAAMnRFWHRTb2Z0d2FyZQBNYXRwbG90bGliIHYzLjUuMSwgaHR0cHM6Ly9tYXRwbG90bGliLm9yZ9kRUegAAAIrSURBVHic7dbBcpswFIbRK9KZbvrcfeyoixo7SAjTdPmfs3ERVwh7Jp2v/fr5u9fDj2pVVfXRt6qq2qrVx772+NzXq6q23l7/vvvZ6/J+e16fz7XF/raa39f78bltOn9Y7+NcLfY/rvvNueE92zR/vL47N123xf22X/fhery/X/fD817PPa6Pc9u2z6/mhvPfzLVtsf5u33je9F7j+1zvb9v4e/zrvm9+Tvuvv8f/n1+X++v2ufXNfc8/wMu5uvn7rObm96nh/Lvn1ul8LX73cf/0PRfnv9s3nlfL9fPvudo/z9X1/cV71uK813xd3q+3z1vsn9bP5/r0H/B43t+Pvlyv8/XV3HS/nT6nb+10vm8nzzzs+/qun4+1z+fY1y0AQAgBAACBBAAABBIAABBIAABAIAEAAIEEAAAEEgAAEEgAAEAgAQAAgQQAAAQSAAAQSAAAQCABAACBBAAABBIAABBIAABAIAEAAIEEAAAEEgAAEEgAAEAgAQAAgQQAAAQSAAAQSAAAQCABAACBBAAABBIAABBIAABAIAEAAIEEAAAEEgAAEEgAAEAgAQAAgQQAAAQSAAAQSAAAQCABAACBBAAABBIAABBIAABAIAEAAIEEAAAEEgAAEEgAAEAgAQAAgQQAAAQSAAAQSAAAQCABAACBBAAABBIAABBIAABAIAEAAIEEAAAEEgAAEEgAAEAgAQAAgQQAAAQSAAAQSAAAQCABAACBBAAABPoD2eOfh4o8xzwAAAAASUVORK5CYII=\"></div><div style=\"vertical-align: middle; max-width: 514px; display: flex; justify-content: space-between;\"><div style=\"float: left;\"><div title=\"#0d0887ff\" style=\"display: inline-block; width: 1em; height: 1em; margin: 0; vertical-align: middle; border: 1px solid #555; background-color: #0d0887ff;\"></div> under</div><div style=\"margin: 0 auto; display: inline-block;\">bad <div title=\"#00000000\" style=\"display: inline-block; width: 1em; height: 1em; margin: 0; vertical-align: middle; border: 1px solid #555; background-color: #00000000;\"></div></div><div style=\"float: right;\">over <div title=\"#f0f921ff\" style=\"display: inline-block; width: 1em; height: 1em; margin: 0; vertical-align: middle; border: 1px solid #555; background-color: #f0f921ff;\"></div></div>"
      ],
      "text/plain": [
       "<matplotlib.colors.ListedColormap at 0x1a0bf18a0>"
      ]
     },
     "execution_count": 224,
     "metadata": {},
     "output_type": "execute_result"
    }
   ],
   "source": [
    "ListedColormap(colors_ordered)"
   ]
  },
  {
   "cell_type": "code",
   "execution_count": 228,
   "id": "6129b3e1",
   "metadata": {},
   "outputs": [],
   "source": [
    "labels_colors_order = [dict_indices[i] for i in range(len(props))]\n",
    "labels_colors_order = colores[labels_colors_order]\n",
    "labels_colors_order = list(map(tuple, labels_colors_order))"
   ]
  },
  {
   "cell_type": "code",
   "execution_count": 273,
   "id": "e61acdfd",
   "metadata": {},
   "outputs": [
    {
     "data": {
      "text/plain": [
       "[(0.994495, 0.74088, 0.166335, 1.0),\n",
       " (0.76809, 0.244817, 0.498465, 1.0),\n",
       " (0.660374, 0.134144, 0.588971, 1.0),\n",
       " (0.959276, 0.921407, 0.151566, 1.0),\n",
       " (0.605485, 0.085854, 0.622686, 1.0),\n",
       " (0.944844, 0.507658, 0.302433, 1.0),\n",
       " (0.994474, 0.722691, 0.174381, 1.0),\n",
       " (0.826588, 0.315714, 0.441316, 1.0),\n",
       " (0.447714, 0.00208, 0.66024, 1.0),\n",
       " (0.274191, 0.012109, 0.622722, 1.0)]"
      ]
     },
     "execution_count": 273,
     "metadata": {},
     "output_type": "execute_result"
    }
   ],
   "source": [
    "labels_colors_order[:10]"
   ]
  },
  {
   "cell_type": "code",
   "execution_count": 278,
   "id": "6e055ad7",
   "metadata": {},
   "outputs": [
    {
     "data": {
      "image/png": "[encoded data removed]",
      "text/html": [
       "<div style=\"vertical-align: middle;\"><strong>from_list</strong> </div><div class=\"cmap\"><img alt=\"from_list colormap\" title=\"from_list\" style=\"border: 1px solid #555;\" src=\"data:image/png;base64,iVBORw0KGgoAAAANSUhEUgAAAgAAAABACAYAAABsv8+/AAAAGHRFWHRUaXRsZQBmcm9tX2xpc3QgY29sb3JtYXBDL89FAAAAHnRFWHREZXNjcmlwdGlvbgBmcm9tX2xpc3QgY29sb3JtYXABtCnOAAAAMHRFWHRBdXRob3IATWF0cGxvdGxpYiB2My41LjEsIGh0dHBzOi8vbWF0cGxvdGxpYi5vcmf3t87PAAAAMnRFWHRTb2Z0d2FyZQBNYXRwbG90bGliIHYzLjUuMSwgaHR0cHM6Ly9tYXRwbG90bGliLm9yZ9kRUegAAAGrSURBVHic7dYhLgcAHIbh708yk92BA3AAUeUUDiDbdFGUNCObbLrJCl3BbIzmCH6273lO8MZ38XWz8Z1/4vZobzohSfL8tD6dkCTZvTuZTkiSnG8eTickSfYPLqcTkiRrW4/TCUmSh9Od6YQkydnV9nRCkuR++W06IUmy8r08nZAkeV98TSckSV4Xn9MJSZLr44vphCTJx8vqdMKvpekAAODvGQAAKGQAAKCQAQCAQgYAAAoZAAAoZAAAoJABAIBCBgAAChkAAChkAACgkAEAgEIGAAAKGQAAKGQAAKCQAQCAQgYAAAoZAAAoZAAAoJABAIBCBgAAChkAAChkAACgkAEAgEIGAAAKGQAAKGQAAKCQAQCAQgYAAAoZAAAoZAAAoJABAIBCBgAAChkAAChkAACgkAEAgEIGAAAKGQAAKGQAAKCQAQCAQgYAAAoZAAAoZAAAoJABAIBCBgAAChkAAChkAACgkAEAgEIGAAAKGQAAKGQAAKCQAQCAQgYAAAoZAAAoZAAAoJABAIBCBgAAChkAAChkAACgkAEAgEIGAAAKGQAAKGQAAKDQD78hGjeRILRnAAAAAElFTkSuQmCC\"></div><div style=\"vertical-align: middle; max-width: 514px; display: flex; justify-content: space-between;\"><div style=\"float: left;\"><div title=\"#febd2aff\" style=\"display: inline-block; width: 1em; height: 1em; margin: 0; vertical-align: middle; border: 1px solid #555; background-color: #febd2aff;\"></div> under</div><div style=\"margin: 0 auto; display: inline-block;\">bad <div title=\"#00000000\" style=\"display: inline-block; width: 1em; height: 1em; margin: 0; vertical-align: middle; border: 1px solid #555; background-color: #00000000;\"></div></div><div style=\"float: right;\">over <div title=\"#ed7a52ff\" style=\"display: inline-block; width: 1em; height: 1em; margin: 0; vertical-align: middle; border: 1px solid #555; background-color: #ed7a52ff;\"></div></div>"
      ],
      "text/plain": [
       "<matplotlib.colors.ListedColormap at 0x1a24ed6f0>"
      ]
     },
     "execution_count": 278,
     "metadata": {},
     "output_type": "execute_result"
    }
   ],
   "source": [
    "ListedColormap(labels_colors_order[:15])"
   ]
  },
  {
   "cell_type": "code",
   "execution_count": 277,
   "id": "6083fa00",
   "metadata": {},
   "outputs": [
    {
     "data": {
      "text/plain": [
       "[5857,\n",
       " 3112,\n",
       " 2750,\n",
       " 12027,\n",
       " 2604,\n",
       " 4174,\n",
       " 5636,\n",
       " 3372,\n",
       " 2119,\n",
       " 1274,\n",
       " 1505,\n",
       " 1277,\n",
       " 855,\n",
       " 4339,\n",
       " 4047]"
      ]
     },
     "execution_count": 277,
     "metadata": {},
     "output_type": "execute_result"
    }
   ],
   "source": [
    "## tamaños\n",
    "pixelcounts[0:15]"
   ]
  },
  {
   "cell_type": "code",
   "execution_count": null,
   "id": "20b98cad",
   "metadata": {},
   "outputs": [],
   "source": []
  },
  {
   "cell_type": "markdown",
   "id": "19ffa0c0",
   "metadata": {},
   "source": [
    "### inspect some cells"
   ]
  },
  {
   "cell_type": "code",
   "execution_count": 252,
   "id": "7e7634cb",
   "metadata": {},
   "outputs": [],
   "source": [
    "labels = [i+1 for i in bigger_CELLS]\n",
    "test_array = img.copy()"
   ]
  },
  {
   "cell_type": "code",
   "execution_count": 253,
   "id": "8faaa7da",
   "metadata": {},
   "outputs": [],
   "source": [
    "mask = np.isin(test_array, labels)\n",
    "mask = mask.astype(\"uint16\")"
   ]
  },
  {
   "cell_type": "code",
   "execution_count": 255,
   "id": "5453893b",
   "metadata": {},
   "outputs": [],
   "source": [
    "bound = find_boundaries(mask).astype(\"uint16\")"
   ]
  },
  {
   "cell_type": "code",
   "execution_count": null,
   "id": "f598b672",
   "metadata": {},
   "outputs": [],
   "source": []
  },
  {
   "cell_type": "code",
   "execution_count": 256,
   "id": "5ec1342f",
   "metadata": {},
   "outputs": [
    {
     "data": {
      "image/png": "[encoded data removed]",
      "text/plain": [
       "<Figure size 720x720 with 2 Axes>"
      ]
     },
     "metadata": {
      "needs_background": "light"
     },
     "output_type": "display_data"
    }
   ],
   "source": [
    "for t in range(52):\n",
    "    plt.figure(figsize=(10,10)) \n",
    "    n = 10*t\n",
    "    plots = [mask[:,:, n], bound[:,:,n]]\n",
    "    for i in range(len(plots)):\n",
    "        plt.subplot(1,len(plots), i+1)\n",
    "        plt.imshow(plots[i])\n",
    "    plt.show()\n",
    "    clear_output(wait=True)"
   ]
  },
  {
   "cell_type": "code",
   "execution_count": 259,
   "id": "fb979a60",
   "metadata": {},
   "outputs": [],
   "source": [
    "rgb_image = color.label2rgb(img, colors=labels_colors_order)"
   ]
  },
  {
   "cell_type": "code",
   "execution_count": 261,
   "id": "917f2193",
   "metadata": {},
   "outputs": [
    {
     "data": {
      "text/plain": [
       "(877, 829, 526, 3)"
      ]
     },
     "execution_count": 261,
     "metadata": {},
     "output_type": "execute_result"
    }
   ],
   "source": [
    "rgb_image.shape"
   ]
  },
  {
   "cell_type": "code",
   "execution_count": 262,
   "id": "bda34cf0",
   "metadata": {},
   "outputs": [
    {
     "data": {
      "text/plain": [
       "<matplotlib.image.AxesImage at 0x1a08fce50>"
      ]
     },
     "execution_count": 262,
     "metadata": {},
     "output_type": "execute_result"
    },
    {
     "data": {
      "image/png": "[encoded data removed]",
      "text/plain": [
       "<Figure size 432x288 with 1 Axes>"
      ]
     },
     "metadata": {
      "needs_background": "light"
     },
     "output_type": "display_data"
    }
   ],
   "source": [
    "io.imshow(rgb_image[:,:, 200,:])"
   ]
  },
  {
   "cell_type": "code",
   "execution_count": 276,
   "id": "d680b334",
   "metadata": {},
   "outputs": [
    {
     "data": {
      "image/png": "[encoded data removed]",
      "text/plain": [
       "<Figure size 720x720 with 1 Axes>"
      ]
     },
     "metadata": {
      "needs_background": "light"
     },
     "output_type": "display_data"
    }
   ],
   "source": [
    "for t in range(52):\n",
    "    plt.figure(figsize=(10,10)) \n",
    "    n = 10*t\n",
    "    plots = [rgb_image[:,:, n,:]]\n",
    "    for i in range(len(plots)):\n",
    "        plt.subplot(1,len(plots), i+1)\n",
    "        plt.imshow(plots[i])\n",
    "    plt.show()\n",
    "    clear_output(wait=True)"
   ]
  },
  {
   "cell_type": "code",
   "execution_count": null,
   "id": "625c1626",
   "metadata": {},
   "outputs": [],
   "source": [
    "#viewer.add_image(np.swapaxes(np.swapaxes(rgb_image, 0, 2), 1, 2) , name='ordered')"
   ]
  },
  {
   "cell_type": "code",
   "execution_count": 284,
   "id": "4f2d38e4",
   "metadata": {},
   "outputs": [
    {
     "data": {
      "text/plain": [
       "5857"
      ]
     },
     "execution_count": 284,
     "metadata": {},
     "output_type": "execute_result"
    }
   ],
   "source": [
    "pixelcounts[0]"
   ]
  },
  {
   "cell_type": "code",
   "execution_count": null,
   "id": "2893509b",
   "metadata": {},
   "outputs": [],
   "source": []
  },
  {
   "cell_type": "code",
   "execution_count": null,
   "id": "5e5f1984",
   "metadata": {},
   "outputs": [],
   "source": []
  }
 ],
 "metadata": {
  "kernelspec": {
   "display_name": "images",
   "language": "python",
   "name": "images"
  },
  "language_info": {
   "codemirror_mode": {
    "name": "ipython",
    "version": 3
   },
   "file_extension": ".py",
   "mimetype": "text/x-python",
   "name": "python",
   "nbconvert_exporter": "python",
   "pygments_lexer": "ipython3",
   "version": "3.10.2"
  }
 },
 "nbformat": 4,
 "nbformat_minor": 5
}
