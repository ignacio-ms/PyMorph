{
 "cells": [
  {
   "cell_type": "code",
   "execution_count": 4,
   "id": "8fe89550",
   "metadata": {},
   "outputs": [],
   "source": [
    "import h5py\n",
    "import numpy as np\n",
    "import sys\n",
    "import os\n",
    "import numpy as np\n",
    "import matplotlib.pyplot as plt\n",
    "from importlib import reload\n",
    "import nibabel as nib\n",
    "import pandas as pd\n",
    "from IPython.display import clear_output\n",
    "import importlib\n",
    "import napari\n",
    "from skimage import morphology\n",
    "from skimage.measure import regionprops, regionprops_table\n",
    "from skimage.morphology import disk, binary_dilation\n"
   ]
  },
  {
   "cell_type": "code",
   "execution_count": 5,
   "id": "8e7fba23",
   "metadata": {},
   "outputs": [],
   "source": [
    "sys.path.insert(1, \"/Users/dvarelat/Documents/MASTER/TFM/methods\")\n",
    "import cardiac_region\n",
    "importlib.reload(cardiac_region)\n",
    "import cardiac_region as c"
   ]
  },
  {
   "cell_type": "code",
   "execution_count": 6,
   "id": "three-basics",
   "metadata": {},
   "outputs": [],
   "source": [
    "ESPECIMEN = \"20190119_E1\""
   ]
  },
  {
   "cell_type": "code",
   "execution_count": 7,
   "id": "b48b2b1e",
   "metadata": {},
   "outputs": [],
   "source": [
    "CC = f\"/Users/dvarelat/Documents/MASTER/TFM/DATA/CardiacRegion/{ESPECIMEN}/{ESPECIMEN}_mGFP_CardiacRegion_0.5.nii.gz\"\n",
    "gasp = f\"/Users/dvarelat/Documents/MASTER/TFM/DATA/RESULTS/membranes/GASP_PNAS/{ESPECIMEN}_mGFP_CardiacRegion_0.5_XYZ_predictions_GASP.nii.gz\"\n",
    "linefile = F\"/Users/dvarelat/Documents/MASTER/TFM/DATA/LINES/line_{ESPECIMEN}.nii.gz\"\n",
    "decon = f\"/Users/dvarelat/Documents/MASTER/TFM/DATA/DECON_05/MGFP/{ESPECIMEN}_mGFP_decon_0.5.nii.gz\""
   ]
  },
  {
   "cell_type": "code",
   "execution_count": 8,
   "id": "clinical-strengthening",
   "metadata": {},
   "outputs": [
    {
     "data": {
      "text/plain": [
       "True"
      ]
     },
     "execution_count": 8,
     "metadata": {},
     "output_type": "execute_result"
    }
   ],
   "source": [
    "os.path.isfile(decon)"
   ]
  },
  {
   "cell_type": "code",
   "execution_count": null,
   "id": "028fb5a8",
   "metadata": {},
   "outputs": [],
   "source": []
  },
  {
   "cell_type": "code",
   "execution_count": 8,
   "id": "2b766964",
   "metadata": {},
   "outputs": [
    {
     "data": {
      "text/plain": [
       "(1024, 1024, 463)"
      ]
     },
     "execution_count": 8,
     "metadata": {},
     "output_type": "execute_result"
    }
   ],
   "source": [
    "lines = nib.load(linefile).get_fdata()\n",
    "lines.shape"
   ]
  },
  {
   "cell_type": "markdown",
   "id": "f47b3a5e",
   "metadata": {},
   "source": [
    "## cut lines file"
   ]
  },
  {
   "cell_type": "code",
   "execution_count": 9,
   "id": "733a5cb5",
   "metadata": {},
   "outputs": [
    {
     "ename": "FileNotFoundError",
     "evalue": "No such file or no access: '/Users/dvarelat/Documents/MASTER/TFM/DATA/RESULTS/membranes/GASP_PNAS/20190119_E1_mGFP_CardiacRegion_0.5_XYZ_predictions_GASP.nii.gz'",
     "output_type": "error",
     "traceback": [
      "\u001b[0;31m---------------------------------------------------------------------------\u001b[0m",
      "\u001b[0;31mFileNotFoundError\u001b[0m                         Traceback (most recent call last)",
      "File \u001b[0;32m/opt/miniconda3/envs/images/lib/python3.10/site-packages/nibabel/loadsave.py:42\u001b[0m, in \u001b[0;36mload\u001b[0;34m(filename, **kwargs)\u001b[0m\n\u001b[1;32m     41\u001b[0m \u001b[38;5;28;01mtry\u001b[39;00m:\n\u001b[0;32m---> 42\u001b[0m     stat_result \u001b[38;5;241m=\u001b[39m \u001b[43mos\u001b[49m\u001b[38;5;241;43m.\u001b[39;49m\u001b[43mstat\u001b[49m\u001b[43m(\u001b[49m\u001b[43mfilename\u001b[49m\u001b[43m)\u001b[49m\n\u001b[1;32m     43\u001b[0m \u001b[38;5;28;01mexcept\u001b[39;00m \u001b[38;5;167;01mOSError\u001b[39;00m:\n",
      "\u001b[0;31mFileNotFoundError\u001b[0m: [Errno 2] No such file or directory: '/Users/dvarelat/Documents/MASTER/TFM/DATA/RESULTS/membranes/GASP_PNAS/20190119_E1_mGFP_CardiacRegion_0.5_XYZ_predictions_GASP.nii.gz'",
      "\nDuring handling of the above exception, another exception occurred:\n",
      "\u001b[0;31mFileNotFoundError\u001b[0m                         Traceback (most recent call last)",
      "Input \u001b[0;32mIn [9]\u001b[0m, in \u001b[0;36m<module>\u001b[0;34m\u001b[0m\n\u001b[0;32m----> 1\u001b[0m pred_mem \u001b[38;5;241m=\u001b[39m \u001b[43mnib\u001b[49m\u001b[38;5;241;43m.\u001b[39;49m\u001b[43mload\u001b[49m\u001b[43m(\u001b[49m\u001b[43mgasp\u001b[49m\u001b[43m)\u001b[49m\u001b[38;5;241m.\u001b[39mget_fdata()\n\u001b[1;32m      2\u001b[0m pred_mem\u001b[38;5;241m.\u001b[39mshape\n",
      "File \u001b[0;32m/opt/miniconda3/envs/images/lib/python3.10/site-packages/nibabel/loadsave.py:44\u001b[0m, in \u001b[0;36mload\u001b[0;34m(filename, **kwargs)\u001b[0m\n\u001b[1;32m     42\u001b[0m     stat_result \u001b[38;5;241m=\u001b[39m os\u001b[38;5;241m.\u001b[39mstat(filename)\n\u001b[1;32m     43\u001b[0m \u001b[38;5;28;01mexcept\u001b[39;00m \u001b[38;5;167;01mOSError\u001b[39;00m:\n\u001b[0;32m---> 44\u001b[0m     \u001b[38;5;28;01mraise\u001b[39;00m \u001b[38;5;167;01mFileNotFoundError\u001b[39;00m(\u001b[38;5;124mf\u001b[39m\u001b[38;5;124m\"\u001b[39m\u001b[38;5;124mNo such file or no access: \u001b[39m\u001b[38;5;124m'\u001b[39m\u001b[38;5;132;01m{\u001b[39;00mfilename\u001b[38;5;132;01m}\u001b[39;00m\u001b[38;5;124m'\u001b[39m\u001b[38;5;124m\"\u001b[39m)\n\u001b[1;32m     45\u001b[0m \u001b[38;5;28;01mif\u001b[39;00m stat_result\u001b[38;5;241m.\u001b[39mst_size \u001b[38;5;241m<\u001b[39m\u001b[38;5;241m=\u001b[39m \u001b[38;5;241m0\u001b[39m:\n\u001b[1;32m     46\u001b[0m     \u001b[38;5;28;01mraise\u001b[39;00m ImageFileError(\u001b[38;5;124mf\u001b[39m\u001b[38;5;124m\"\u001b[39m\u001b[38;5;124mEmpty file: \u001b[39m\u001b[38;5;124m'\u001b[39m\u001b[38;5;132;01m{\u001b[39;00mfilename\u001b[38;5;132;01m}\u001b[39;00m\u001b[38;5;124m'\u001b[39m\u001b[38;5;124m\"\u001b[39m)\n",
      "\u001b[0;31mFileNotFoundError\u001b[0m: No such file or no access: '/Users/dvarelat/Documents/MASTER/TFM/DATA/RESULTS/membranes/GASP_PNAS/20190119_E1_mGFP_CardiacRegion_0.5_XYZ_predictions_GASP.nii.gz'"
     ]
    }
   ],
   "source": [
    "pred_mem = nib.load(gasp).get_fdata()\n",
    "pred_mem.shape"
   ]
  },
  {
   "cell_type": "code",
   "execution_count": 11,
   "id": "e4645547",
   "metadata": {},
   "outputs": [
    {
     "data": {
      "text/plain": [
       "{'x_size': 1024,\n",
       " 'y_size': 1024,\n",
       " 'z_size': 566,\n",
       " 'x_res': 0.853671,\n",
       " 'y_res': 0.853671,\n",
       " 'z_res': 0.99691}"
      ]
     },
     "execution_count": 11,
     "metadata": {},
     "output_type": "execute_result"
    }
   ],
   "source": [
    "c.load3D_metadata(linefile)"
   ]
  },
  {
   "cell_type": "code",
   "execution_count": 12,
   "id": "722a957d",
   "metadata": {},
   "outputs": [
    {
     "data": {
      "text/plain": [
       "{'x_size': 881,\n",
       " 'y_size': 900,\n",
       " 'z_size': 480,\n",
       " 'x_res': 0.853671,\n",
       " 'y_res': 0.853671,\n",
       " 'z_res': 0.99691}"
      ]
     },
     "execution_count": 12,
     "metadata": {},
     "output_type": "execute_result"
    }
   ],
   "source": [
    "c.load3D_metadata(gasp)"
   ]
  },
  {
   "cell_type": "code",
   "execution_count": 85,
   "id": "22e6cf27",
   "metadata": {},
   "outputs": [
    {
     "data": {
      "text/plain": [
       "{'x_size': 877,\n",
       " 'y_size': 829,\n",
       " 'z_size': 526,\n",
       " 'x_res': 1.0,\n",
       " 'y_res': 1.0,\n",
       " 'z_res': 1.0}"
      ]
     },
     "execution_count": 85,
     "metadata": {},
     "output_type": "execute_result"
    }
   ],
   "source": [
    "c.load3D_metadata(decon05_cc)"
   ]
  },
  {
   "cell_type": "code",
   "execution_count": 10,
   "id": "9e52597b",
   "metadata": {},
   "outputs": [
    {
     "name": "stdout",
     "output_type": "stream",
     "text": [
      "MARGIN : 10\n",
      "Line information\n",
      "{'x_size': 1024, 'y_size': 1024, 'z_size': 463, 'x_res': 0.98993, 'y_res': 0.989932, 'z_res': 0.99691}\n",
      "LINE SHAPE = (1024, 1024, 463)\n",
      "SCALING WITH DECON 05 --> 1024\n",
      "{'x_size': 1024, 'y_size': 1024, 'z_size': 463, 'x_res': 0.98993, 'y_res': 0.989932, 'z_res': 0.99691}\n"
     ]
    }
   ],
   "source": [
    "margenes = c.crop_line(linefile, linefile, escala2048=False, ma=10)"
   ]
  },
  {
   "cell_type": "code",
   "execution_count": 11,
   "id": "7db2caab",
   "metadata": {},
   "outputs": [
    {
     "data": {
      "text/plain": [
       "(array([101, 240,  40]), array([861, 952, 458]))"
      ]
     },
     "execution_count": 11,
     "metadata": {},
     "output_type": "execute_result"
    }
   ],
   "source": [
    "margenes"
   ]
  },
  {
   "cell_type": "code",
   "execution_count": 14,
   "id": "b98ce6b5",
   "metadata": {},
   "outputs": [
    {
     "name": "stdout",
     "output_type": "stream",
     "text": [
      "CROP SHAPE = (881, 900, 480)\n"
     ]
    }
   ],
   "source": [
    "cut_lines = c.crop_embryo(margenes, linefile)"
   ]
  },
  {
   "cell_type": "code",
   "execution_count": 15,
   "id": "ecac0459",
   "metadata": {},
   "outputs": [],
   "source": [
    "FILE = f\"/Users/dvarelat/Documents/MASTER/TFM/DATA/LINES/CC/line_{ESPECIMEN}_CC.nii.gz\"\n",
    "ni_img = nib.Nifti1Image(cut_lines.astype('uint16'), affine=np.eye(4))\n",
    "nib.save(ni_img, FILE)"
   ]
  },
  {
   "cell_type": "code",
   "execution_count": 10,
   "id": "6bce7c41",
   "metadata": {},
   "outputs": [
    {
     "data": {
      "image/png": "[encoded data removed]",
      "text/plain": [
       "<Figure size 720x720 with 2 Axes>"
      ]
     },
     "metadata": {
      "needs_background": "light"
     },
     "output_type": "display_data"
    }
   ],
   "source": [
    "for t in range(52):\n",
    "    plt.figure(figsize=(10,10)) \n",
    "    n = 10*t\n",
    "    plots = [pred_mem[:, :, n],cut_lines[:,:,n]]\n",
    "    for i in range(len(plots)):\n",
    "        plt.subplot(1,len(plots), i+1)\n",
    "        plt.imshow(plots[i])\n",
    "    plt.show()\n",
    "    clear_output(wait=True)"
   ]
  },
  {
   "cell_type": "code",
   "execution_count": 11,
   "id": "c87f6b29",
   "metadata": {},
   "outputs": [
    {
     "data": {
      "text/plain": [
       "array([ 0.,  1.,  4.,  5.,  6.,  9., 10., 11., 12.])"
      ]
     },
     "execution_count": 11,
     "metadata": {},
     "output_type": "execute_result"
    }
   ],
   "source": [
    "np.unique(cut_lines)"
   ]
  },
  {
   "cell_type": "code",
   "execution_count": 12,
   "id": "53c412f8",
   "metadata": {},
   "outputs": [
    {
     "data": {
      "text/plain": [
       "(877, 829, 526)"
      ]
     },
     "execution_count": 12,
     "metadata": {},
     "output_type": "execute_result"
    }
   ],
   "source": [
    "img_labels = morphology.label(pred_mem, return_num=False)\n",
    "img_labels.shape"
   ]
  },
  {
   "cell_type": "code",
   "execution_count": 13,
   "id": "5ad55f0e",
   "metadata": {},
   "outputs": [],
   "source": [
    "props = regionprops(img_labels)"
   ]
  },
  {
   "cell_type": "code",
   "execution_count": 14,
   "id": "cd689949",
   "metadata": {},
   "outputs": [
    {
     "data": {
      "text/plain": [
       "11570"
      ]
     },
     "execution_count": 14,
     "metadata": {},
     "output_type": "execute_result"
    }
   ],
   "source": [
    "len(props)"
   ]
  },
  {
   "cell_type": "code",
   "execution_count": 15,
   "id": "64a5122a",
   "metadata": {},
   "outputs": [],
   "source": [
    "centroids = [p[\"centroid\"] for p in props]\n",
    "centroids_int = [[round(i) for i in c] for c in centroids]"
   ]
  },
  {
   "cell_type": "code",
   "execution_count": 16,
   "id": "92b9d9f3",
   "metadata": {},
   "outputs": [
    {
     "data": {
      "text/plain": [
       "(877, 829, 526)"
      ]
     },
     "execution_count": 16,
     "metadata": {},
     "output_type": "execute_result"
    }
   ],
   "source": [
    "pred_mem.shape "
   ]
  },
  {
   "cell_type": "code",
   "execution_count": 30,
   "id": "8a8cea9d",
   "metadata": {},
   "outputs": [
    {
     "data": {
      "text/plain": [
       "(877, 829, 526)"
      ]
     },
     "execution_count": 30,
     "metadata": {},
     "output_type": "execute_result"
    }
   ],
   "source": [
    "centros = np.zeros(pred_mem.shape)\n",
    "centros.shape"
   ]
  },
  {
   "cell_type": "code",
   "execution_count": 29,
   "id": "590d25d5",
   "metadata": {},
   "outputs": [
    {
     "data": {
      "text/plain": [
       "11570"
      ]
     },
     "execution_count": 29,
     "metadata": {},
     "output_type": "execute_result"
    }
   ],
   "source": [
    "len(centroids_int)"
   ]
  },
  {
   "cell_type": "code",
   "execution_count": 31,
   "id": "b09d9bbf",
   "metadata": {},
   "outputs": [],
   "source": [
    "for c in centroids_int:\n",
    "    centros[c[0]-1,c[1]-1, c[2]-1] = 1"
   ]
  },
  {
   "cell_type": "code",
   "execution_count": 42,
   "id": "fa0efb71",
   "metadata": {},
   "outputs": [],
   "source": [
    "centros = binary_dilation(centros, footprint=morphology.cube(4))"
   ]
  },
  {
   "cell_type": "code",
   "execution_count": null,
   "id": "fd032001",
   "metadata": {},
   "outputs": [],
   "source": [
    "for t in range(52):\n",
    "    plt.figure(figsize=(10,10)) \n",
    "    n = 10*t\n",
    "    plots = [centros[:, :, n]]\n",
    "    for i in range(len(plots)):\n",
    "        plt.subplot(1,len(plots), i+1)\n",
    "        plt.imshow(plots[i])\n",
    "    plt.show()\n",
    "    clear_output(wait=True)"
   ]
  },
  {
   "cell_type": "code",
   "execution_count": 70,
   "id": "1bd81316",
   "metadata": {},
   "outputs": [],
   "source": [
    "labels_lines = [cut_lines[c[0],c[1],c[2]] for c in centroids_int]"
   ]
  },
  {
   "cell_type": "code",
   "execution_count": 71,
   "id": "2a2faffb",
   "metadata": {},
   "outputs": [
    {
     "data": {
      "text/plain": [
       "11570"
      ]
     },
     "execution_count": 71,
     "metadata": {},
     "output_type": "execute_result"
    }
   ],
   "source": [
    "len(labels_lines)"
   ]
  },
  {
   "cell_type": "code",
   "execution_count": 51,
   "id": "f8e939e3",
   "metadata": {},
   "outputs": [],
   "source": [
    "dict_labels_lines = dict(zip([p.label for p in props], labels_lines))\n",
    "dict_centroid_lines = dict(zip([p.label for p in props], centroids_int))"
   ]
  },
  {
   "cell_type": "code",
   "execution_count": 53,
   "id": "fbed8b3d",
   "metadata": {},
   "outputs": [
    {
     "data": {
      "text/plain": [
       "(877, 829, 526)"
      ]
     },
     "execution_count": 53,
     "metadata": {},
     "output_type": "execute_result"
    }
   ],
   "source": [
    "colors_lines = np.zeros(pred_mem.shape)\n",
    "colors_lines.shape"
   ]
  },
  {
   "cell_type": "code",
   "execution_count": null,
   "id": "23cf07b9",
   "metadata": {},
   "outputs": [],
   "source": [
    "#cells_mask = np.isin(test_array, labels)"
   ]
  },
  {
   "cell_type": "code",
   "execution_count": 72,
   "id": "762abc11",
   "metadata": {},
   "outputs": [],
   "source": [
    "copyprops = props.copy()\n",
    "copyarray = pred_mem.copy()"
   ]
  },
  {
   "cell_type": "code",
   "execution_count": 66,
   "id": "821efb86",
   "metadata": {},
   "outputs": [],
   "source": [
    "for i,p in enumerate(copyprops):\n",
    "    p.label = dict_labels_lines[i+1]"
   ]
  },
  {
   "cell_type": "code",
   "execution_count": 78,
   "id": "d1f9d628",
   "metadata": {},
   "outputs": [
    {
     "ename": "KeyboardInterrupt",
     "evalue": "",
     "output_type": "error",
     "traceback": [
      "\u001b[0;31m---------------------------------------------------------------------------\u001b[0m",
      "\u001b[0;31mKeyboardInterrupt\u001b[0m                         Traceback (most recent call last)",
      "Input \u001b[0;32mIn [78]\u001b[0m, in \u001b[0;36m<module>\u001b[0;34m\u001b[0m\n\u001b[1;32m      1\u001b[0m \u001b[38;5;28;01mfor\u001b[39;00m i \u001b[38;5;129;01min\u001b[39;00m \u001b[38;5;28mrange\u001b[39m(\u001b[38;5;28mlen\u001b[39m(props)):\n\u001b[1;32m      2\u001b[0m     \u001b[38;5;66;03m#copyarray = np.where(copyarray == i+1, labels_lines[i], copyarray) \u001b[39;00m\n\u001b[0;32m----> 3\u001b[0m     copyarray[copyarray \u001b[38;5;241m==\u001b[39m i\u001b[38;5;241m+\u001b[39m\u001b[38;5;241m1\u001b[39m] \u001b[38;5;241m=\u001b[39m labels_lines[i]\n",
      "\u001b[0;31mKeyboardInterrupt\u001b[0m: "
     ]
    }
   ],
   "source": [
    "for i in range(len(props)):\n",
    "    #copyarray = np.where(copyarray == i+1, labels_lines[i], copyarray) \n",
    "    copyarray[copyarray == i+1] = labels_lines[i]"
   ]
  },
  {
   "cell_type": "code",
   "execution_count": 76,
   "id": "b10908f1",
   "metadata": {},
   "outputs": [],
   "source": []
  },
  {
   "cell_type": "code",
   "execution_count": null,
   "id": "f76f502d",
   "metadata": {},
   "outputs": [],
   "source": []
  },
  {
   "cell_type": "markdown",
   "id": "4099b2df",
   "metadata": {},
   "source": [
    "## VISUALIZATION"
   ]
  },
  {
   "cell_type": "code",
   "execution_count": 20,
   "id": "2991b05a",
   "metadata": {},
   "outputs": [],
   "source": [
    "#viewer = napari.view_image(np.swapaxes(np.swapaxes(pred_mem, 0, 2), 1, 2))"
   ]
  },
  {
   "cell_type": "code",
   "execution_count": 21,
   "id": "5b716d55",
   "metadata": {},
   "outputs": [],
   "source": [
    "#viewer.add_image(np.swapaxes(np.swapaxes(cut_lines, 0, 2), 1, 2), name='lines')"
   ]
  },
  {
   "cell_type": "code",
   "execution_count": 2,
   "id": "62034166",
   "metadata": {},
   "outputs": [],
   "source": [
    "import os"
   ]
  },
  {
   "cell_type": "code",
   "execution_count": 6,
   "id": "22428283",
   "metadata": {},
   "outputs": [
    {
     "name": "stdout",
     "output_type": "stream",
     "text": [
      "20190404_E2\n",
      "20190520_E4\n",
      "20190516_E3\n",
      "20190806_E3\n",
      "20190520_E2\n",
      "20190401_E1\n",
      "20190401_E3\n",
      "20190517_E1\n",
      "20190520_E1\n"
     ]
    }
   ],
   "source": [
    "for j in [i.replace(\"line_\", \"\").replace(\".nii.gz\", \"\") for i in os.listdir(\"/Users/dvarelat/Documents/MASTER/TFM\") if \"line\" in i]:\n",
    "    print(j)"
   ]
  },
  {
   "cell_type": "code",
   "execution_count": 7,
   "id": "e2b56ff9",
   "metadata": {},
   "outputs": [
    {
     "data": {
      "text/plain": [
       "['20190404_E2',\n",
       " '20190520_E4',\n",
       " '20190516_E3',\n",
       " '20190806_E3',\n",
       " '20190520_E2',\n",
       " '20190401_E1',\n",
       " '20190401_E3',\n",
       " '20190517_E1',\n",
       " '20190520_E1']"
      ]
     },
     "execution_count": 7,
     "metadata": {},
     "output_type": "execute_result"
    }
   ],
   "source": [
    "[i.replace(\"line_\", \"\").replace(\".nii.gz\", \"\") for i in os.listdir(\"/Users/dvarelat/Documents/MASTER/TFM\") if \"line\" in i]"
   ]
  },
  {
   "cell_type": "code",
   "execution_count": null,
   "id": "85adf689",
   "metadata": {},
   "outputs": [],
   "source": []
  },
  {
   "cell_type": "code",
   "execution_count": null,
   "id": "ebd700ef",
   "metadata": {},
   "outputs": [],
   "source": []
  },
  {
   "cell_type": "code",
   "execution_count": null,
   "id": "a6d46657",
   "metadata": {},
   "outputs": [],
   "source": []
  },
  {
   "cell_type": "code",
   "execution_count": null,
   "id": "857b6725",
   "metadata": {},
   "outputs": [],
   "source": []
  },
  {
   "cell_type": "code",
   "execution_count": 22,
   "id": "462d5449",
   "metadata": {},
   "outputs": [],
   "source": [
    "#l"
   ]
  },
  {
   "cell_type": "code",
   "execution_count": 23,
   "id": "6224e7d9",
   "metadata": {},
   "outputs": [],
   "source": [
    "#dict_lines = dict(zip(labels, labels_lines))"
   ]
  },
  {
   "cell_type": "code",
   "execution_count": 24,
   "id": "e6fb440b",
   "metadata": {},
   "outputs": [],
   "source": [
    "#dict_lines"
   ]
  },
  {
   "cell_type": "code",
   "execution_count": 1,
   "id": "5eda0e65",
   "metadata": {},
   "outputs": [
    {
     "data": {
      "text/plain": [
       "16.666666666666668"
      ]
     },
     "execution_count": 1,
     "metadata": {},
     "output_type": "execute_result"
    }
   ],
   "source": [
    "1000/60"
   ]
  },
  {
   "cell_type": "code",
   "execution_count": null,
   "id": "c5f73a7f",
   "metadata": {},
   "outputs": [],
   "source": []
  }
 ],
 "metadata": {
  "kernelspec": {
   "display_name": "images",
   "language": "python",
   "name": "images"
  },
  "language_info": {
   "codemirror_mode": {
    "name": "ipython",
    "version": 3
   },
   "file_extension": ".py",
   "mimetype": "text/x-python",
   "name": "python",
   "nbconvert_exporter": "python",
   "pygments_lexer": "ipython3",
   "version": "3.10.2"
  }
 },
 "nbformat": 4,
 "nbformat_minor": 5
}
