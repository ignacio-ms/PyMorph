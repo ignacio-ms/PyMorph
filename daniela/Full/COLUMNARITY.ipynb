{
 "cells": [
  {
   "cell_type": "code",
   "execution_count": 1,
   "id": "990642c7",
   "metadata": {},
   "outputs": [],
   "source": [
    "import numpy as np\n",
    "import os\n",
    "import pandas as pd\n",
    "import json\n",
    "import pickle\n",
    "import sys"
   ]
  },
  {
   "cell_type": "code",
   "execution_count": 2,
   "id": "b0af9dd0",
   "metadata": {},
   "outputs": [
    {
     "data": {
      "text/plain": [
       "['0308_E2', '0401_E1', '0401_E2', '0502_E1', '0517_E2', '0806_E1', '0806_E2']"
      ]
     },
     "execution_count": 2,
     "metadata": {},
     "output_type": "execute_result"
    }
   ],
   "source": [
    "f = open(\"/Users/dvarelat/Documents/MASTER/TFM/methods/specimens.json\")\n",
    "data = json.load(f)\n",
    "\n",
    "flatten_list = [\n",
    "    element for sublist in [data[i] for i in [\"stage6\"]] for element in sublist\n",
    "]\n",
    "flatten_list"
   ]
  },
  {
   "cell_type": "code",
   "execution_count": 8,
   "id": "9343c964",
   "metadata": {},
   "outputs": [
    {
     "name": "stdout",
     "output_type": "stream",
     "text": [
      "20190806_E3\n",
      "/Users/dvarelat/Documents/MASTER/TFM/DATA/EXTRACTION/features/orientation/20190806_E3_angles_myo.csv\n",
      "20190401_E3\n",
      "/Users/dvarelat/Documents/MASTER/TFM/DATA/EXTRACTION/features/orientation/20190401_E3_angles_myo.csv\n",
      "20190401_E1\n",
      "/Users/dvarelat/Documents/MASTER/TFM/DATA/EXTRACTION/features/orientation/20190401_E1_angles_myo.csv\n"
     ]
    }
   ],
   "source": [
    "flatten_list = [\"0806_E3\", \"0401_E3\", \"0401_E1\"]\n",
    "for e in flatten_list:\n",
    "    ESPECIMEN = f\"2019{e}\"\n",
    "    print(ESPECIMEN)\n",
    "    DFFILE = f\"/Users/dvarelat/Documents/MASTER/TFM/DATA/EXTRACTION/features/orientation/{ESPECIMEN}_angles_myo.csv\"\n",
    "    df = pd.read_csv(DFFILE)\n",
    "    df[\"columnarity\"] = df.apply(lambda x: (1- x[\"Elongation2\"])*x[\"angles\"], axis=1)\n",
    "    df.to_csv(DFFILE, index=False, header=True)\n",
    "    print(DFFILE)"
   ]
  },
  {
   "cell_type": "markdown",
   "id": "439bd9c8",
   "metadata": {},
   "source": []
  },
  {
   "cell_type": "code",
   "execution_count": 6,
   "id": "cc25c910",
   "metadata": {},
   "outputs": [
    {
     "data": {
      "text/html": [
       "<div>\n",
       "<style scoped>\n",
       "    .dataframe tbody tr th:only-of-type {\n",
       "        vertical-align: middle;\n",
       "    }\n",
       "\n",
       "    .dataframe tbody tr th {\n",
       "        vertical-align: top;\n",
       "    }\n",
       "\n",
       "    .dataframe thead th {\n",
       "        text-align: right;\n",
       "    }\n",
       "</style>\n",
       "<table border=\"1\" class=\"dataframe\">\n",
       "  <thead>\n",
       "    <tr style=\"text-align: right;\">\n",
       "      <th></th>\n",
       "      <th>cell_in_props</th>\n",
       "      <th>closest_vert</th>\n",
       "      <th>angles</th>\n",
       "      <th>Elongation2</th>\n",
       "      <th>columnarity</th>\n",
       "    </tr>\n",
       "  </thead>\n",
       "  <tbody>\n",
       "    <tr>\n",
       "      <th>count</th>\n",
       "      <td>2483.000000</td>\n",
       "      <td>2483.000000</td>\n",
       "      <td>2483.000000</td>\n",
       "      <td>2483.000000</td>\n",
       "      <td>2483.000000</td>\n",
       "    </tr>\n",
       "    <tr>\n",
       "      <th>mean</th>\n",
       "      <td>4423.235199</td>\n",
       "      <td>2539.305679</td>\n",
       "      <td>0.565012</td>\n",
       "      <td>0.745334</td>\n",
       "      <td>0.146180</td>\n",
       "    </tr>\n",
       "    <tr>\n",
       "      <th>std</th>\n",
       "      <td>2117.930998</td>\n",
       "      <td>1448.973903</td>\n",
       "      <td>0.311510</td>\n",
       "      <td>0.123392</td>\n",
       "      <td>0.116733</td>\n",
       "    </tr>\n",
       "    <tr>\n",
       "      <th>min</th>\n",
       "      <td>123.000000</td>\n",
       "      <td>2.000000</td>\n",
       "      <td>0.000543</td>\n",
       "      <td>0.014810</td>\n",
       "      <td>0.000074</td>\n",
       "    </tr>\n",
       "    <tr>\n",
       "      <th>25%</th>\n",
       "      <td>3025.500000</td>\n",
       "      <td>1325.000000</td>\n",
       "      <td>0.276426</td>\n",
       "      <td>0.660795</td>\n",
       "      <td>0.051077</td>\n",
       "    </tr>\n",
       "    <tr>\n",
       "      <th>50%</th>\n",
       "      <td>4371.000000</td>\n",
       "      <td>2569.000000</td>\n",
       "      <td>0.609815</td>\n",
       "      <td>0.756822</td>\n",
       "      <td>0.118077</td>\n",
       "    </tr>\n",
       "    <tr>\n",
       "      <th>75%</th>\n",
       "      <td>5670.500000</td>\n",
       "      <td>3818.000000</td>\n",
       "      <td>0.854558</td>\n",
       "      <td>0.836424</td>\n",
       "      <td>0.214854</td>\n",
       "    </tr>\n",
       "    <tr>\n",
       "      <th>max</th>\n",
       "      <td>8749.000000</td>\n",
       "      <td>5000.000000</td>\n",
       "      <td>0.999286</td>\n",
       "      <td>0.994338</td>\n",
       "      <td>0.559709</td>\n",
       "    </tr>\n",
       "  </tbody>\n",
       "</table>\n",
       "</div>"
      ],
      "text/plain": [
       "       cell_in_props  closest_vert       angles  Elongation2  columnarity\n",
       "count    2483.000000   2483.000000  2483.000000  2483.000000  2483.000000\n",
       "mean     4423.235199   2539.305679     0.565012     0.745334     0.146180\n",
       "std      2117.930998   1448.973903     0.311510     0.123392     0.116733\n",
       "min       123.000000      2.000000     0.000543     0.014810     0.000074\n",
       "25%      3025.500000   1325.000000     0.276426     0.660795     0.051077\n",
       "50%      4371.000000   2569.000000     0.609815     0.756822     0.118077\n",
       "75%      5670.500000   3818.000000     0.854558     0.836424     0.214854\n",
       "max      8749.000000   5000.000000     0.999286     0.994338     0.559709"
      ]
     },
     "execution_count": 6,
     "metadata": {},
     "output_type": "execute_result"
    }
   ],
   "source": [
    "df.describe()"
   ]
  },
  {
   "cell_type": "code",
   "execution_count": null,
   "id": "fcde525c",
   "metadata": {},
   "outputs": [],
   "source": []
  },
  {
   "cell_type": "code",
   "execution_count": null,
   "id": "e960c908",
   "metadata": {},
   "outputs": [],
   "source": [
    "\n",
    "\n"
   ]
  }
 ],
 "metadata": {
  "kernelspec": {
   "display_name": "PORESPY",
   "language": "python",
   "name": "porespy"
  },
  "language_info": {
   "codemirror_mode": {
    "name": "ipython",
    "version": 3
   },
   "file_extension": ".py",
   "mimetype": "text/x-python",
   "name": "python",
   "nbconvert_exporter": "python",
   "pygments_lexer": "ipython3",
   "version": "3.8.13"
  }
 },
 "nbformat": 4,
 "nbformat_minor": 5
}
