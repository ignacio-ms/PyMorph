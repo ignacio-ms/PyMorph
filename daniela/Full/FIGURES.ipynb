{
 "cells": [
  {
   "cell_type": "code",
   "execution_count": 4,
   "id": "522e1314",
   "metadata": {},
   "outputs": [],
   "source": [
    "import numpy as np\n",
    "import matplotlib.pyplot as plt\n",
    "import nibabel as nib\n",
    "import pandas as pd\n",
    "from IPython.display import clear_output\n",
    "from skimage.segmentation import find_boundaries\n",
    "import os\n",
    "import sys\n",
    "import importlib\n",
    "from skimage import morphology\n",
    "from skimage.segmentation import find_boundaries\n",
    "import trimesh\n",
    "import porespy as ps\n",
    "import h5py"
   ]
  },
  {
   "cell_type": "code",
   "execution_count": 2,
   "id": "62d4bfe2",
   "metadata": {},
   "outputs": [],
   "source": [
    "sys.path.insert(1, \"/Users/dvarelat/Documents/MASTER/TFM/methods\")\n",
    "import cardiac_region\n",
    "importlib.reload(cardiac_region)\n",
    "import cardiac_region as c"
   ]
  },
  {
   "cell_type": "code",
   "execution_count": 6,
   "id": "5d826233",
   "metadata": {},
   "outputs": [],
   "source": [
    "cellpose = \"/Users/dvarelat/Documents/MASTER/TFM/DATA/RESULTS/nuclei/20190404_E2_MASK_EQ_XYZ_decon.nii.gz\"\n",
    "DFFILE = f\"/Users/dvarelat/Documents/MASTER/TFM/DATA/EXTRACTION/7_20190404_E2/cell_properties.csv\"\n",
    "mesh_myo = \"/Users/dvarelat/Documents/MASTER/TFM/lines_ply/line_20190404_E2_myo_10000.ply\" #\"/homedtic/dvarela/lines_ply/line_20190404_E2_myo_10000.ply\"\n",
    "mesh_spl = \"/Users/dvarelat/Documents/MASTER/TFM/lines_ply/line_20190404_E2_spl_10000.ply\" #\"/homedtic/dvarela/lines_ply/line_20190404_E2_spl_10000.ply\"\n",
    "gasp_mem = f\"/Users/dvarelat/Documents/MASTER/TFM/DATA/RESULTS/membranes/GASP_PNAS/20190404_E2_mGFP_XYZ_predictions_GASP.nii.gz\"\n",
    "sem = f\"/Users/dvarelat/Documents/MASTER/TFM/DATA/RESULTS/membranes/PNAS/20190404_E2_mGFP_CardiacRegion_0.5_ZXY_predictions.h5\"\n",
    "linefile = F\"/Users/dvarelat/Documents/MASTER/TFM/DATA/LINES/line_20190404_E2.nii.gz\"\n",
    "decon = \"/Users/dvarelat/Documents/MASTER/TFM/DATA/DECON_05/MGFP/20190404_E2_mGFP_decon_0.5.nii.gz\""
   ]
  },
  {
   "cell_type": "code",
   "execution_count": 8,
   "id": "d808fc34",
   "metadata": {},
   "outputs": [
    {
     "name": "stdout",
     "output_type": "stream",
     "text": [
      "(1, 432, 1020, 764)\n"
     ]
    }
   ],
   "source": [
    "pred_zxy = np.array(h5py.File(sem, \"r\")[\"predictions\"])\n",
    "print(pred_zxy.shape)\n",
    "pred_xyz = np.swapaxes(np.swapaxes(pred_zxy[0, :, :, :], 0, 2), 0, 1)\n",
    "decon05 = nib.load(decon).get_fdata()\n",
    "decon05 = decon05[:, :, :, 0]"
   ]
  },
  {
   "cell_type": "code",
   "execution_count": 9,
   "id": "ccf78079",
   "metadata": {},
   "outputs": [
    {
     "name": "stdout",
     "output_type": "stream",
     "text": [
      "MARGIN : 5\n",
      "Line information\n",
      "{'x_size': 1024, 'y_size': 1024, 'z_size': 448, 'x_res': 0.757206, 'y_res': 0.757206, 'z_res': 0.99691}\n",
      "LINE SHAPE = (1024, 1024, 448)\n",
      "SCALING WITH DECON 05 --> 1024\n",
      "{'x_size': 1024, 'y_size': 1024, 'z_size': 448, 'x_res': 0.757206, 'y_res': 0.757206, 'z_res': 0.99691}\n",
      "CROP SHAPE = (1020, 764, 432, 1)\n"
     ]
    }
   ],
   "source": [
    "margs = c.crop_line(linefile, decon, escala2048=False, ma=5)\n",
    "cut = c.crop_embryo(margs, decon)\n",
    "zeros = np.zeros(decon05.shape)\n",
    "zeros[margs[0][0] : margs[1][0], margs[0][1] : margs[1][1], margs[0][2] : margs[1][2]] = pred_xyz"
   ]
  },
  {
   "cell_type": "code",
   "execution_count": 13,
   "id": "2deffbcf",
   "metadata": {},
   "outputs": [
    {
     "data": {
      "text/plain": [
       "array([[[0., 0., 0., ..., 0., 0., 0.],\n",
       "        [0., 0., 0., ..., 0., 0., 0.],\n",
       "        [0., 0., 0., ..., 0., 0., 0.],\n",
       "        ...,\n",
       "        [0., 0., 0., ..., 0., 0., 0.],\n",
       "        [0., 0., 0., ..., 0., 0., 0.],\n",
       "        [0., 0., 0., ..., 0., 0., 0.]],\n",
       "\n",
       "       [[0., 0., 0., ..., 0., 0., 0.],\n",
       "        [0., 0., 0., ..., 0., 0., 0.],\n",
       "        [0., 0., 0., ..., 0., 0., 0.],\n",
       "        ...,\n",
       "        [0., 0., 0., ..., 0., 0., 0.],\n",
       "        [0., 0., 0., ..., 0., 0., 0.],\n",
       "        [0., 0., 0., ..., 0., 0., 0.]],\n",
       "\n",
       "       [[0., 0., 0., ..., 0., 0., 0.],\n",
       "        [0., 0., 0., ..., 0., 0., 0.],\n",
       "        [0., 0., 0., ..., 0., 0., 0.],\n",
       "        ...,\n",
       "        [0., 0., 0., ..., 0., 0., 0.],\n",
       "        [0., 0., 0., ..., 0., 0., 0.],\n",
       "        [0., 0., 0., ..., 0., 0., 0.]],\n",
       "\n",
       "       ...,\n",
       "\n",
       "       [[0., 0., 0., ..., 0., 0., 0.],\n",
       "        [0., 0., 0., ..., 0., 0., 0.],\n",
       "        [0., 0., 0., ..., 0., 0., 0.],\n",
       "        ...,\n",
       "        [0., 0., 0., ..., 0., 0., 0.],\n",
       "        [0., 0., 0., ..., 0., 0., 0.],\n",
       "        [0., 0., 0., ..., 0., 0., 0.]],\n",
       "\n",
       "       [[0., 0., 0., ..., 0., 0., 0.],\n",
       "        [0., 0., 0., ..., 0., 0., 0.],\n",
       "        [0., 0., 0., ..., 0., 0., 0.],\n",
       "        ...,\n",
       "        [0., 0., 0., ..., 0., 0., 0.],\n",
       "        [0., 0., 0., ..., 0., 0., 0.],\n",
       "        [0., 0., 0., ..., 0., 0., 0.]],\n",
       "\n",
       "       [[0., 0., 0., ..., 0., 0., 0.],\n",
       "        [0., 0., 0., ..., 0., 0., 0.],\n",
       "        [0., 0., 0., ..., 0., 0., 0.],\n",
       "        ...,\n",
       "        [0., 0., 0., ..., 0., 0., 0.],\n",
       "        [0., 0., 0., ..., 0., 0., 0.],\n",
       "        [0., 0., 0., ..., 0., 0., 0.]]])"
      ]
     },
     "execution_count": 13,
     "metadata": {},
     "output_type": "execute_result"
    }
   ],
   "source": []
  },
  {
   "cell_type": "code",
   "execution_count": 14,
   "id": "ef36c41d",
   "metadata": {},
   "outputs": [],
   "source": [
    "c.saveNifti((zeros > 0.5).astype(\"uint16\"),\n",
    "            c.load3D_metadata(decon), \n",
    "            f\"/Users/dvarelat/Documents/MASTER/TFM/DATA/RESULTS/membranes/PNAS/20190404_E2_mGFP_0.5_XYZ_predictions.nii.gz\"\n",
    "           )"
   ]
  },
  {
   "cell_type": "code",
   "execution_count": 4,
   "id": "c2621aa7",
   "metadata": {},
   "outputs": [],
   "source": [
    "myo = trimesh.load_mesh(mesh_myo, process=False)\n",
    "spl = trimesh.load_mesh(mesh_spl, process=False)\n",
    "df = pd.read_csv(DFFILE)"
   ]
  },
  {
   "cell_type": "code",
   "execution_count": 5,
   "id": "ea05848a",
   "metadata": {},
   "outputs": [
    {
     "name": "stdout",
     "output_type": "stream",
     "text": [
      "(1024, 1024, 448)\n"
     ]
    }
   ],
   "source": [
    "pred_nu = nib.load(cellpose).get_fdata()\n",
    "print(pred_nu.shape)"
   ]
  },
  {
   "cell_type": "code",
   "execution_count": 6,
   "id": "98fd3732",
   "metadata": {},
   "outputs": [
    {
     "name": "stdout",
     "output_type": "stream",
     "text": [
      "(1024, 1024, 448)\n"
     ]
    }
   ],
   "source": [
    "pred_mem = nib.load(gasp_mem).get_fdata()\n",
    "print(pred_mem.shape)"
   ]
  },
  {
   "cell_type": "code",
   "execution_count": 7,
   "id": "18d47eb8",
   "metadata": {},
   "outputs": [],
   "source": [
    "im = find_boundaries(pred_nu).astype(\"uint16\")"
   ]
  },
  {
   "cell_type": "code",
   "execution_count": 8,
   "id": "d88b065c",
   "metadata": {},
   "outputs": [],
   "source": [
    "c.saveNifti(im,\n",
    "            c.load3D_metadata(cellpose), \n",
    "            f\"/Users/dvarelat/Documents/MASTER/TFM/FIGURES/20190404_E2_cellpose_boundaries.nii.gz\")"
   ]
  },
  {
   "cell_type": "code",
   "execution_count": 15,
   "id": "71b4483a",
   "metadata": {},
   "outputs": [
    {
     "data": {
      "text/plain": [
       "179.44379568099976"
      ]
     },
     "execution_count": 15,
     "metadata": {},
     "output_type": "execute_result"
    }
   ],
   "source": [
    "c.load3D_metadata(cellpose)[\"z_res\"]*180"
   ]
  },
  {
   "cell_type": "code",
   "execution_count": 10,
   "id": "8dafb184",
   "metadata": {},
   "outputs": [
    {
     "data": {
      "text/plain": [
       "(7826, 15)"
      ]
     },
     "execution_count": 10,
     "metadata": {},
     "output_type": "execute_result"
    }
   ],
   "source": [
    "df.shape"
   ]
  },
  {
   "cell_type": "code",
   "execution_count": 11,
   "id": "024699f7",
   "metadata": {},
   "outputs": [],
   "source": [
    "dim_info = c.load3D_metadata(gasp_mem)\n",
    "vertices_location_spl = np.floor(spl.vertices / [dim_info[\"x_res\"], dim_info[\"y_res\"], dim_info[\"z_res\"]]).astype(\"uint16\")\n",
    "vertices_labels_spl = pred_mem[vertices_location_spl[:, 0], vertices_location_spl[:, 1], vertices_location_spl[:, 2]]\n"
   ]
  },
  {
   "cell_type": "code",
   "execution_count": 12,
   "id": "5a274ae2",
   "metadata": {},
   "outputs": [],
   "source": [
    "vertices_location_myo = np.floor(myo.vertices / [dim_info[\"x_res\"], dim_info[\"y_res\"], dim_info[\"z_res\"]]).astype(\"uint16\")\n",
    "vertices_labels_myo = pred_mem[vertices_location_myo[:, 0], vertices_location_myo[:, 1], vertices_location_myo[:, 2]]\n"
   ]
  },
  {
   "cell_type": "code",
   "execution_count": 13,
   "id": "e10d7399",
   "metadata": {},
   "outputs": [
    {
     "data": {
      "text/plain": [
       "(5002, 3)"
      ]
     },
     "execution_count": 13,
     "metadata": {},
     "output_type": "execute_result"
    }
   ],
   "source": [
    "myo.vertices.shape"
   ]
  },
  {
   "cell_type": "code",
   "execution_count": 16,
   "id": "c44f99ca",
   "metadata": {},
   "outputs": [],
   "source": [
    "indices_lines5_spl = list(df[df.lines == 5].cell_in_props.values)\n",
    "indices_vertices_surface_spl = list(df[df.original_labels.isin(vertices_labels_spl)].cell_in_props.values)\n",
    "\n",
    "indices_lines5_myo = list(df[df.lines == 1].cell_in_props.values)\n",
    "indices_vertices_surface_myo = list(df[df.original_labels.isin(vertices_labels_myo)].cell_in_props.values)"
   ]
  },
  {
   "cell_type": "code",
   "execution_count": 17,
   "id": "9223f3a6",
   "metadata": {},
   "outputs": [],
   "source": [
    "indices_vertices_surface_spl = [i for i in indices_vertices_surface_spl if i not in indices_vertices_surface_myo]\n",
    "#set(indices_vertices_surface_spl).intersection(set(indices_vertices_surface_myo))"
   ]
  },
  {
   "cell_type": "code",
   "execution_count": null,
   "id": "12fe89a0",
   "metadata": {},
   "outputs": [],
   "source": []
  },
  {
   "cell_type": "code",
   "execution_count": 18,
   "id": "5161d624",
   "metadata": {},
   "outputs": [],
   "source": [
    "df[\"lines2\"] = df[\"cell_in_props\"].apply(lambda x: 5 if x in indices_vertices_surface_spl else (1 if x in indices_vertices_surface_myo else 0))\n",
    "\n"
   ]
  },
  {
   "cell_type": "code",
   "execution_count": 19,
   "id": "cbf122d1",
   "metadata": {},
   "outputs": [
    {
     "data": {
      "text/html": [
       "<div>\n",
       "<style scoped>\n",
       "    .dataframe tbody tr th:only-of-type {\n",
       "        vertical-align: middle;\n",
       "    }\n",
       "\n",
       "    .dataframe tbody tr th {\n",
       "        vertical-align: top;\n",
       "    }\n",
       "\n",
       "    .dataframe thead th {\n",
       "        text-align: right;\n",
       "    }\n",
       "</style>\n",
       "<table border=\"1\" class=\"dataframe\">\n",
       "  <thead>\n",
       "    <tr style=\"text-align: right;\">\n",
       "      <th></th>\n",
       "      <th>cell_in_props</th>\n",
       "      <th>volumes</th>\n",
       "      <th>sphericities</th>\n",
       "      <th>original_labels</th>\n",
       "      <th>centroids</th>\n",
       "      <th>lines</th>\n",
       "      <th>axis_major_length</th>\n",
       "      <th>axis_minor_length</th>\n",
       "      <th>nuclei_label_cent</th>\n",
       "      <th>nuclei_cell_in_props</th>\n",
       "      <th>eigenvalues</th>\n",
       "      <th>eigenvectors</th>\n",
       "      <th>eccentricity3d</th>\n",
       "      <th>solidity</th>\n",
       "      <th>feret_diameter_max</th>\n",
       "    </tr>\n",
       "    <tr>\n",
       "      <th>lines2</th>\n",
       "      <th></th>\n",
       "      <th></th>\n",
       "      <th></th>\n",
       "      <th></th>\n",
       "      <th></th>\n",
       "      <th></th>\n",
       "      <th></th>\n",
       "      <th></th>\n",
       "      <th></th>\n",
       "      <th></th>\n",
       "      <th></th>\n",
       "      <th></th>\n",
       "      <th></th>\n",
       "      <th></th>\n",
       "      <th></th>\n",
       "    </tr>\n",
       "  </thead>\n",
       "  <tbody>\n",
       "    <tr>\n",
       "      <th>0</th>\n",
       "      <td>5260</td>\n",
       "      <td>5260</td>\n",
       "      <td>5260</td>\n",
       "      <td>5260</td>\n",
       "      <td>5260</td>\n",
       "      <td>5260</td>\n",
       "      <td>5260</td>\n",
       "      <td>5260</td>\n",
       "      <td>5260</td>\n",
       "      <td>5260</td>\n",
       "      <td>5260</td>\n",
       "      <td>5260</td>\n",
       "      <td>5260</td>\n",
       "      <td>5260</td>\n",
       "      <td>5260</td>\n",
       "    </tr>\n",
       "    <tr>\n",
       "      <th>1</th>\n",
       "      <td>1459</td>\n",
       "      <td>1459</td>\n",
       "      <td>1459</td>\n",
       "      <td>1459</td>\n",
       "      <td>1459</td>\n",
       "      <td>1459</td>\n",
       "      <td>1459</td>\n",
       "      <td>1459</td>\n",
       "      <td>1459</td>\n",
       "      <td>1459</td>\n",
       "      <td>1459</td>\n",
       "      <td>1459</td>\n",
       "      <td>1459</td>\n",
       "      <td>1459</td>\n",
       "      <td>1459</td>\n",
       "    </tr>\n",
       "    <tr>\n",
       "      <th>5</th>\n",
       "      <td>1107</td>\n",
       "      <td>1107</td>\n",
       "      <td>1107</td>\n",
       "      <td>1107</td>\n",
       "      <td>1107</td>\n",
       "      <td>1107</td>\n",
       "      <td>1107</td>\n",
       "      <td>1107</td>\n",
       "      <td>1107</td>\n",
       "      <td>1107</td>\n",
       "      <td>1107</td>\n",
       "      <td>1107</td>\n",
       "      <td>1107</td>\n",
       "      <td>1107</td>\n",
       "      <td>1107</td>\n",
       "    </tr>\n",
       "  </tbody>\n",
       "</table>\n",
       "</div>"
      ],
      "text/plain": [
       "        cell_in_props  volumes  sphericities  original_labels  centroids  \\\n",
       "lines2                                                                     \n",
       "0                5260     5260          5260             5260       5260   \n",
       "1                1459     1459          1459             1459       1459   \n",
       "5                1107     1107          1107             1107       1107   \n",
       "\n",
       "        lines  axis_major_length  axis_minor_length  nuclei_label_cent  \\\n",
       "lines2                                                                   \n",
       "0        5260               5260               5260               5260   \n",
       "1        1459               1459               1459               1459   \n",
       "5        1107               1107               1107               1107   \n",
       "\n",
       "        nuclei_cell_in_props  eigenvalues  eigenvectors  eccentricity3d  \\\n",
       "lines2                                                                    \n",
       "0                       5260         5260          5260            5260   \n",
       "1                       1459         1459          1459            1459   \n",
       "5                       1107         1107          1107            1107   \n",
       "\n",
       "        solidity  feret_diameter_max  \n",
       "lines2                                \n",
       "0           5260                5260  \n",
       "1           1459                1459  \n",
       "5           1107                1107  "
      ]
     },
     "execution_count": 19,
     "metadata": {},
     "output_type": "execute_result"
    }
   ],
   "source": [
    "df.groupby([\"lines2\"]).count()"
   ]
  },
  {
   "cell_type": "code",
   "execution_count": 20,
   "id": "d246f47d",
   "metadata": {},
   "outputs": [],
   "source": [
    "cells_labels = list(df.lines2)\n",
    "props_mem = ps.metrics.regionprops_3D(morphology.label(pred_mem))"
   ]
  },
  {
   "cell_type": "code",
   "execution_count": null,
   "id": "a9d5cba8",
   "metadata": {},
   "outputs": [],
   "source": []
  },
  {
   "cell_type": "code",
   "execution_count": 25,
   "id": "0b06b5ae",
   "metadata": {},
   "outputs": [],
   "source": [
    "im = np.zeros(shape=pred_mem.shape)\n",
    "for i,cell in enumerate(df.cell_in_props):\n",
    "    r = props_mem[cell]\n",
    "    mask = r.image\n",
    "    temp = mask * cells_labels[i]\n",
    "    s = ps.tools.bbox_to_slices(r.bbox)\n",
    "    im[s] += temp"
   ]
  },
  {
   "cell_type": "code",
   "execution_count": 26,
   "id": "6034f7a4",
   "metadata": {},
   "outputs": [],
   "source": [
    "c.saveNifti(im,\n",
    "            c.load3D_metadata(cellpose), \n",
    "            f\"/Users/dvarelat/Documents/MASTER/TFM/FIGURES/20190404_E2_myoandspl.nii.gz\")"
   ]
  },
  {
   "cell_type": "code",
   "execution_count": 46,
   "id": "aecfada3",
   "metadata": {},
   "outputs": [
    {
     "name": "stdout",
     "output_type": "stream",
     "text": [
      "1_20190504_E1\n",
      "(2637, 68)\n",
      "0.8668941979522184\n",
      "1806\n",
      "0.4898291293734744\n",
      "-------------\n",
      "2_20190520_E2\n",
      "(3299, 68)\n",
      "0.9054258866323128\n",
      "718\n",
      "0.24921902117320374\n",
      "-------------\n",
      "3_20190516_E3\n",
      "(7865, 68)\n",
      "0.7327399872854419\n",
      "5028\n",
      "0.5869032333372243\n",
      "-------------\n",
      "4_20190806_E3\n",
      "(5216, 68)\n",
      "0.8305214723926381\n",
      "3533\n",
      "0.5094448449891853\n",
      "-------------\n",
      "5_20190401_E3\n",
      "(5127, 68)\n",
      "0.8712697483908719\n",
      "3577\n",
      "0.47929786948948144\n",
      "-------------\n",
      "6_20190401_E1\n",
      "(4811, 68)\n",
      "0.7875701517356059\n",
      "2970\n",
      "0.44614691302388465\n",
      "-------------\n",
      "7_20190404_E2\n",
      "(7826, 68)\n",
      "0.7776641962688474\n",
      "5327\n",
      "0.5765775516830826\n",
      "-------------\n",
      "8_20190517_E1\n",
      "(7601, 68)\n",
      "0.8748848835679516\n",
      "5653\n",
      "0.570318805488297\n",
      "-------------\n",
      "9_20190520_E1\n",
      "(7739, 68)\n",
      "0.7937718051427833\n",
      "5086\n",
      "0.5393425238600212\n",
      "-------------\n",
      "10_20190520_E4\n",
      "(1532, 68)\n",
      "0.8289817232375979\n",
      "997\n",
      "0.26264488935721814\n",
      "-------------\n"
     ]
    }
   ],
   "source": [
    "FOLDERS = [\n",
    "    \"1_20190504_E1\",\n",
    "    \"2_20190520_E2\",\n",
    "    \"3_20190516_E3\",\n",
    "    \"4_20190806_E3\",\n",
    "    \"5_20190401_E3\",\n",
    "    '6_20190401_E1',\n",
    "    \"7_20190404_E2\",\n",
    "    \"8_20190517_E1\",\n",
    "    \"9_20190520_E1\",\n",
    "    \"10_20190520_E4\",\n",
    "]\n",
    "list_dfs_radio =[]\n",
    "for i,folder in enumerate(FOLDERS):\n",
    "    print(folder)\n",
    "    e = folder.split(\"_\")[1] + \"_\" + folder.split(\"_\")[2]\n",
    "    fr = f\"/Users/dvarelat/Documents/MASTER/TFM/DATA/EXTRACTION/{folder}/{e}_cell_properties_radiomics.csv\"\n",
    "    df = pd.read_csv(f\"/Users/dvarelat/Documents/MASTER/TFM/DATA/EXTRACTION/NUCLEI/{e}_NUCLEI_properties.csv\")\n",
    "    dfr= pd.read_csv(fr)\n",
    "    print(dfr.shape)\n",
    "    print(dfr[dfr.nuclei_cell_in_props != -1].shape[0] / dfr.shape[0])\n",
    "    print(len(set(df.original_labels.values).intersection(set([i for i in dfr.nuclei_label_cent.values if i != -1]))))\n",
    "    nucleis = len(set(df.original_labels.values).intersection(set([i for i in dfr.nuclei_label_cent.values if i != -1])))\n",
    "    print(nucleis/df.shape[0])\n",
    "    print(\"-------------\")"
   ]
  },
  {
   "cell_type": "code",
   "execution_count": 44,
   "id": "d52dbda4",
   "metadata": {},
   "outputs": [
    {
     "data": {
      "text/plain": [
       "997"
      ]
     },
     "execution_count": 44,
     "metadata": {},
     "output_type": "execute_result"
    }
   ],
   "source": [
    "len(set(df.original_labels.values).intersection(set([i for i in dfr.nuclei_label_cent.values if i != -1])))"
   ]
  },
  {
   "cell_type": "code",
   "execution_count": null,
   "id": "89747538",
   "metadata": {},
   "outputs": [],
   "source": []
  }
 ],
 "metadata": {
  "kernelspec": {
   "display_name": "PORESPY",
   "language": "python",
   "name": "porespy"
  },
  "language_info": {
   "codemirror_mode": {
    "name": "ipython",
    "version": 3
   },
   "file_extension": ".py",
   "mimetype": "text/x-python",
   "name": "python",
   "nbconvert_exporter": "python",
   "pygments_lexer": "ipython3",
   "version": "3.8.13"
  }
 },
 "nbformat": 4,
 "nbformat_minor": 5
}
