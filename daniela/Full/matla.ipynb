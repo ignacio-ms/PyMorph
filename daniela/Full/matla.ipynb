{
 "cells": [
  {
   "cell_type": "code",
   "execution_count": 1,
   "id": "sophisticated-computer",
   "metadata": {},
   "outputs": [],
   "source": [
    "import numpy as np\n",
    "import sys\n",
    "import os\n",
    "import numpy as np\n",
    "import matplotlib.pyplot as plt\n",
    "from importlib import reload\n",
    "import nibabel as nib\n",
    "import pandas as pd\n",
    "from IPython.display import clear_output\n",
    "import importlib\n",
    "from skimage import morphology\n",
    "from skimage.segmentation import find_boundaries\n",
    "import porespy as ps\n",
    "from skimage.morphology import disk, binary_dilation\n",
    "from mpl_toolkits import mplot3d\n",
    "import math\n",
    "import ast"
   ]
  },
  {
   "cell_type": "code",
   "execution_count": 3,
   "id": "b7934f28",
   "metadata": {},
   "outputs": [],
   "source": [
    "sys.path.insert(1, \"/Users/dvarelat/Documents/MASTER/TFM/methods\")\n",
    "import cardiac_region\n",
    "importlib.reload(cardiac_region)\n",
    "import cardiac_region as c"
   ]
  },
  {
   "cell_type": "code",
   "execution_count": 9,
   "id": "fbab9f0d",
   "metadata": {},
   "outputs": [],
   "source": [
    "file = \"/Users/dvarelat/Documents/MASTER/TFM/DATA/RESULTS/membranes/GASP_PNAS/20190504_E1_mGFP_XYZ_predictions_GASP.nii.gz\"\n",
    "FILE_DF = f\"/Users/dvarelat/Documents/MASTER/TFM/DATA/EXTRACTION/20190504_E1/cell_properties.csv\""
   ]
  },
  {
   "cell_type": "code",
   "execution_count": 4,
   "id": "7ae9d759",
   "metadata": {},
   "outputs": [
    {
     "data": {
      "text/plain": [
       "{'x_size': 1024,\n",
       " 'y_size': 1024,\n",
       " 'z_size': 413,\n",
       " 'x_res': 0.757206,\n",
       " 'y_res': 0.757206,\n",
       " 'z_res': 0.995703}"
      ]
     },
     "execution_count": 4,
     "metadata": {},
     "output_type": "execute_result"
    }
   ],
   "source": [
    "c.load3D_metadata(file)"
   ]
  },
  {
   "cell_type": "code",
   "execution_count": 6,
   "id": "78a6016f",
   "metadata": {},
   "outputs": [],
   "source": [
    "pred_mem = nib.load(file).get_fdata()\n",
    "img_mem = morphology.label(pred_mem)\n",
    "props_mem = ps.metrics.regionprops_3D(img_mem)"
   ]
  },
  {
   "cell_type": "code",
   "execution_count": 10,
   "id": "03a6d3de",
   "metadata": {},
   "outputs": [],
   "source": [
    "df_clean = pd.read_csv(FILE_DF)"
   ]
  },
  {
   "cell_type": "code",
   "execution_count": 11,
   "id": "05bfb603",
   "metadata": {},
   "outputs": [
    {
     "data": {
      "text/plain": [
       "3751"
      ]
     },
     "execution_count": 11,
     "metadata": {},
     "output_type": "execute_result"
    }
   ],
   "source": [
    "len(props_mem)"
   ]
  },
  {
   "cell_type": "code",
   "execution_count": 25,
   "id": "8e62566c",
   "metadata": {},
   "outputs": [
    {
     "data": {
      "text/plain": [
       "(463.64285714285717, 691.1904761904761, 184.61904761904762)"
      ]
     },
     "execution_count": 25,
     "metadata": {},
     "output_type": "execute_result"
    }
   ],
   "source": [
    "props_mem[1411].centroid"
   ]
  },
  {
   "cell_type": "code",
   "execution_count": 43,
   "id": "12b50633",
   "metadata": {},
   "outputs": [],
   "source": [
    "volumes = [p.volume for p in props_mem]\n",
    "solidities = [p.solidity for p in props_mem]"
   ]
  },
  {
   "cell_type": "code",
   "execution_count": 56,
   "id": "4a1926a4",
   "metadata": {},
   "outputs": [],
   "source": [
    "solidities = []\n",
    "feret = []\n",
    "for i in df_clean.cell_in_props:\n",
    "    solidities.append(props_mem[i].solidity)\n",
    "    feret.append(props_mem[i].feret_diameter_max)"
   ]
  },
  {
   "cell_type": "code",
   "execution_count": 57,
   "id": "e8e981ec",
   "metadata": {},
   "outputs": [],
   "source": [
    "df_clean[\"solidity\"] = solidities\n",
    "df_clean[\"feret_diameter_max\"] = feret"
   ]
  },
  {
   "cell_type": "code",
   "execution_count": 58,
   "id": "35b45f57",
   "metadata": {},
   "outputs": [
    {
     "data": {
      "text/html": [
       "<div>\n",
       "<style scoped>\n",
       "    .dataframe tbody tr th:only-of-type {\n",
       "        vertical-align: middle;\n",
       "    }\n",
       "\n",
       "    .dataframe tbody tr th {\n",
       "        vertical-align: top;\n",
       "    }\n",
       "\n",
       "    .dataframe thead th {\n",
       "        text-align: right;\n",
       "    }\n",
       "</style>\n",
       "<table border=\"1\" class=\"dataframe\">\n",
       "  <thead>\n",
       "    <tr style=\"text-align: right;\">\n",
       "      <th></th>\n",
       "      <th>cell_in_props</th>\n",
       "      <th>volumes</th>\n",
       "      <th>sphericities</th>\n",
       "      <th>original_labels</th>\n",
       "      <th>centroids</th>\n",
       "      <th>lines</th>\n",
       "      <th>axis_major_length</th>\n",
       "      <th>axis_minor_length</th>\n",
       "      <th>nuclei_label_cent</th>\n",
       "      <th>nuclei_cell_in_props</th>\n",
       "      <th>eigenvalues</th>\n",
       "      <th>eigenvectors</th>\n",
       "      <th>eccentricity3d</th>\n",
       "      <th>solidity</th>\n",
       "      <th>feret_diameter_max</th>\n",
       "    </tr>\n",
       "  </thead>\n",
       "  <tbody>\n",
       "    <tr>\n",
       "      <th>384</th>\n",
       "      <td>586</td>\n",
       "      <td>634</td>\n",
       "      <td>0.693596</td>\n",
       "      <td>162.0</td>\n",
       "      <td>[361, 423, 58]</td>\n",
       "      <td>5.0</td>\n",
       "      <td>13.926312</td>\n",
       "      <td>9.181093</td>\n",
       "      <td>-1.0</td>\n",
       "      <td>-1</td>\n",
       "      <td>[15.043, 13.912, 9.56]</td>\n",
       "      <td>[[0.135, -0.981, 0.136], [-0.984, -0.117, 0.13...</td>\n",
       "      <td>0.274</td>\n",
       "      <td>0.837517</td>\n",
       "      <td>14.866069</td>\n",
       "    </tr>\n",
       "  </tbody>\n",
       "</table>\n",
       "</div>"
      ],
      "text/plain": [
       "     cell_in_props  volumes  sphericities  original_labels       centroids  \\\n",
       "384            586      634      0.693596            162.0  [361, 423, 58]   \n",
       "\n",
       "     lines  axis_major_length  axis_minor_length  nuclei_label_cent  \\\n",
       "384    5.0          13.926312           9.181093               -1.0   \n",
       "\n",
       "     nuclei_cell_in_props             eigenvalues  \\\n",
       "384                    -1  [15.043, 13.912, 9.56]   \n",
       "\n",
       "                                          eigenvectors  eccentricity3d  \\\n",
       "384  [[0.135, -0.981, 0.136], [-0.984, -0.117, 0.13...           0.274   \n",
       "\n",
       "     solidity  feret_diameter_max  \n",
       "384  0.837517           14.866069  "
      ]
     },
     "execution_count": 58,
     "metadata": {},
     "output_type": "execute_result"
    }
   ],
   "source": [
    "df_clean[df_clean.volumes == 634]"
   ]
  },
  {
   "cell_type": "code",
   "execution_count": 59,
   "id": "13f24603",
   "metadata": {},
   "outputs": [
    {
     "data": {
      "text/plain": [
       "0.8375165125495376"
      ]
     },
     "execution_count": 59,
     "metadata": {},
     "output_type": "execute_result"
    }
   ],
   "source": [
    "props_mem[586].solidity"
   ]
  },
  {
   "cell_type": "code",
   "execution_count": 50,
   "id": "104494d3",
   "metadata": {},
   "outputs": [
    {
     "data": {
      "text/plain": [
       "13.926312123305154"
      ]
     },
     "execution_count": 50,
     "metadata": {},
     "output_type": "execute_result"
    }
   ],
   "source": [
    "props_mem[586].axis_major_length"
   ]
  },
  {
   "cell_type": "code",
   "execution_count": 51,
   "id": "dfdf5f1c",
   "metadata": {},
   "outputs": [
    {
     "data": {
      "text/plain": [
       "[15.042899731100334, 13.91173194818126, 9.560414743709984]"
      ]
     },
     "execution_count": 51,
     "metadata": {},
     "output_type": "execute_result"
    }
   ],
   "source": [
    "props_mem[586].inertia_tensor_eigvals"
   ]
  },
  {
   "cell_type": "code",
   "execution_count": 41,
   "id": "70914c90",
   "metadata": {},
   "outputs": [
    {
     "data": {
      "text/plain": [
       "array(['[15.043, 13.912, 9.56]'], dtype=object)"
      ]
     },
     "execution_count": 41,
     "metadata": {},
     "output_type": "execute_result"
    }
   ],
   "source": [
    "df_clean[df_clean.volumes == 634].eigenvalues.values"
   ]
  }
 ],
 "metadata": {
  "kernelspec": {
   "display_name": "PORESPY",
   "language": "python",
   "name": "porespy"
  },
  "language_info": {
   "codemirror_mode": {
    "name": "ipython",
    "version": 3
   },
   "file_extension": ".py",
   "mimetype": "text/x-python",
   "name": "python",
   "nbconvert_exporter": "python",
   "pygments_lexer": "ipython3",
   "version": "3.8.13"
  }
 },
 "nbformat": 4,
 "nbformat_minor": 5
}
