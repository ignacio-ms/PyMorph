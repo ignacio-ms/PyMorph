{
 "cells": [
  {
   "cell_type": "code",
   "execution_count": null,
   "id": "fe9c0218",
   "metadata": {},
   "outputs": [],
   "source": [
    "import pandas as pd\n",
    "import sys\n",
    "import os\n",
    "import logging\n",
    "import six\n",
    "from radiomics import featureextractor, getFeatureClasses\n",
    "import radiomics\n",
    "import os\n",
    "import SimpleITK as sitk\n",
    "import nibabel as nib\n",
    "from radiomics import getTestCase\n",
    "import porespy as ps\n",
    "import pandas as pd\n",
    "import numpy as np\n",
    "from skimage import morphology\n",
    "from radiomics import shape\n",
    "import pickle\n",
    "from radiomics import shape, firstorder\n",
    "import plotly.express as px"
   ]
  },
  {
   "cell_type": "code",
   "execution_count": null,
   "id": "a9a39a28",
   "metadata": {},
   "outputs": [],
   "source": [
    "sys.path.insert(1, \"/Users/dvarelat/Documents/MASTER/TFM/methods\")\n",
    "import cardiac_region\n",
    "import importlib\n",
    "importlib.reload(cardiac_region)\n",
    "import cardiac_region as c"
   ]
  },
  {
   "cell_type": "code",
   "execution_count": null,
   "id": "cecbfc9f",
   "metadata": {},
   "outputs": [],
   "source": [
    "ESPECIMEN = \"20190517_E1\""
   ]
  },
  {
   "cell_type": "code",
   "execution_count": null,
   "id": "cef5b0e5",
   "metadata": {},
   "outputs": [],
   "source": [
    "cellpose_nu = f\"/Users/dvarelat/Documents/MASTER/TFM/DATA/RESULTS/nuclei/{ESPECIMEN}_MASK_EQ_XYZ_decon.nii.gz\"\n",
    "gasp_mem = f\"/Users/dvarelat/Documents/MASTER/TFM/DATA/RESULTS/membranes/GASP_PNAS/{ESPECIMEN}_mGFP_XYZ_predictions_GASP.nii.gz\"\n",
    "pickle_div = f\"/Users/dvarelat/Documents/MASTER/TFM/methods/division/LISTS_NUCLEI/{ESPECIMEN}_list_nuclei.pkl\"\n",
    "nuclei = f\"/Users/dvarelat/Documents/MASTER/TFM/DATA/DECON_05/DAPI/{ESPECIMEN}_DAPI_decon_0.5.nii.gz\""
   ]
  },
  {
   "cell_type": "code",
   "execution_count": null,
   "id": "38ebc558",
   "metadata": {},
   "outputs": [],
   "source": [
    "DAPI = nib.load(nuclei).get_fdata()\n",
    "DAPI = DAPI[:,:,:,0]"
   ]
  },
  {
   "cell_type": "code",
   "execution_count": null,
   "id": "4410a9e1",
   "metadata": {},
   "outputs": [],
   "source": [
    "pred_nu = nib.load(cellpose_nu).get_fdata()\n",
    "pred_mem = nib.load(gasp_mem).get_fdata()"
   ]
  },
  {
   "cell_type": "code",
   "execution_count": null,
   "id": "6bc4857a",
   "metadata": {},
   "outputs": [],
   "source": [
    "mask_mem = np.where(pred_mem != 0, True, False)\n",
    "mask_on_nuclei = mask_mem * pred_nu"
   ]
  },
  {
   "cell_type": "code",
   "execution_count": null,
   "id": "55260b15",
   "metadata": {},
   "outputs": [],
   "source": [
    "props_nu = ps.metrics.regionprops_3D(morphology.label(mask_on_nuclei))\n",
    "len(props_nu)"
   ]
  },
  {
   "cell_type": "code",
   "execution_count": null,
   "id": "7784b5ec",
   "metadata": {},
   "outputs": [],
   "source": [
    "with open(pickle_div, \"rb\") as f:\n",
    "    list_div = pickle.load(f)\n",
    "len(list_div)"
   ]
  },
  {
   "cell_type": "code",
   "execution_count": null,
   "id": "e6020f0c",
   "metadata": {},
   "outputs": [],
   "source": [
    "centroids_nu = [[round(i) for i in p[\"centroid\"]] for p in props_nu]\n",
    "NU_original_labels_centroids = [pred_nu[c[0], c[1], c[2]] for c in centroids_nu]"
   ]
  },
  {
   "cell_type": "code",
   "execution_count": null,
   "id": "2dca2a0f",
   "metadata": {},
   "outputs": [],
   "source": [
    "df = pd.DataFrame(\n",
    "            {\n",
    "                \"cell_in_props\": range(len(props_nu)),\n",
    "                \"volumes\": [p.volume for p in props_nu],\n",
    "                \"original_labels\": NU_original_labels_centroids,\n",
    "                \"centroids\": centroids_nu,\n",
    "            }\n",
    "        )\n",
    "df.describe()\n",
    "print(np.median(df.volumes))\n",
    "np.mean(df.volumes)"
   ]
  },
  {
   "cell_type": "code",
   "execution_count": null,
   "id": "e7fd76d5",
   "metadata": {},
   "outputs": [],
   "source": [
    "df = df[df.original_labels != 0]\n",
    "df.describe()"
   ]
  },
  {
   "cell_type": "code",
   "execution_count": null,
   "id": "e6d9a4b1",
   "metadata": {},
   "outputs": [],
   "source": [
    "print(np.median(df.volumes))\n",
    "np.mean(df.volumes)"
   ]
  },
  {
   "cell_type": "code",
   "execution_count": null,
   "id": "2e3204bb",
   "metadata": {},
   "outputs": [],
   "source": [
    "med = np.median(df.volumes)\n",
    "print(0.2 * med)\n",
    "print(10 * med)"
   ]
  },
  {
   "cell_type": "code",
   "execution_count": null,
   "id": "ca6b601e",
   "metadata": {},
   "outputs": [],
   "source": [
    "df = df[df.volumes > 0.2 * med]\n",
    "df = df[df.volumes < 10 * med]"
   ]
  },
  {
   "cell_type": "code",
   "execution_count": null,
   "id": "69639169",
   "metadata": {},
   "outputs": [],
   "source": [
    "df.describe()"
   ]
  },
  {
   "cell_type": "code",
   "execution_count": null,
   "id": "763f7bd1",
   "metadata": {},
   "outputs": [],
   "source": []
  },
  {
   "cell_type": "code",
   "execution_count": null,
   "id": "0c630d44",
   "metadata": {},
   "outputs": [],
   "source": []
  },
  {
   "cell_type": "code",
   "execution_count": null,
   "id": "a55a611a",
   "metadata": {},
   "outputs": [],
   "source": []
  },
  {
   "cell_type": "code",
   "execution_count": null,
   "id": "ab7dd0d7",
   "metadata": {},
   "outputs": [],
   "source": [
    "dfnew = pd.DataFrame(results)\n",
    "df_ = df.merge(dfnew, left_on='cell_in_props', right_on='cell')"
   ]
  },
  {
   "cell_type": "code",
   "execution_count": null,
   "id": "f33c3d39",
   "metadata": {},
   "outputs": [],
   "source": [
    "div = [1 if i in list_div else 0 for i in list(df_.cell_in_props) ]"
   ]
  },
  {
   "cell_type": "code",
   "execution_count": null,
   "id": "2f521b05",
   "metadata": {},
   "outputs": [],
   "source": [
    "df_[\"div\"] = div"
   ]
  },
  {
   "cell_type": "code",
   "execution_count": null,
   "id": "a530b7a5",
   "metadata": {},
   "outputs": [],
   "source": [
    "df_.groupby([\"div\"]).count()"
   ]
  },
  {
   "cell_type": "code",
   "execution_count": null,
   "id": "0766a0fd",
   "metadata": {},
   "outputs": [],
   "source": [
    "df_"
   ]
  },
  {
   "cell_type": "code",
   "execution_count": null,
   "id": "96267795",
   "metadata": {},
   "outputs": [],
   "source": [
    "cols = ['Elongation', 'Flatness', 'LeastAxisLength', 'MajorAxisLength',\n",
    "       'Maximum2DDiameterColumn', 'Maximum2DDiameterRow',\n",
    "       'Maximum2DDiameterSlice', 'Maximum3DDiameter', 'MeshVolume',\n",
    "       'MinorAxisLength', 'Sphericity', 'SurfaceVolumeRatio',\n",
    "       'VoxelVolume', '10Percentile', '90Percentile', \n",
    "       'Entropy', 'InterquartileRange', 'Kurtosis', 'Maximum',\n",
    "       'MeanAbsoluteDeviation', 'Mean', 'Median', 'Minimum', 'Range',\n",
    "       'RobustMeanAbsoluteDeviation', 'RootMeanSquared', 'Skewness', 'Uniformity']"
   ]
  },
  {
   "cell_type": "code",
   "execution_count": null,
   "id": "2c1bbe0b",
   "metadata": {},
   "outputs": [],
   "source": [
    "melted = pd.melt(df_, id_vars=[\"cell\", \"div\"], \n",
    "        value_vars=cols)"
   ]
  },
  {
   "cell_type": "code",
   "execution_count": null,
   "id": "cb4f44d4",
   "metadata": {},
   "outputs": [],
   "source": []
  },
  {
   "cell_type": "code",
   "execution_count": null,
   "id": "7e3276c7",
   "metadata": {},
   "outputs": [],
   "source": [
    "fig = px.box(melted , x=\"variable\", y=\"value\", color=\"div\")\n",
    "fig.show()"
   ]
  },
  {
   "cell_type": "code",
   "execution_count": null,
   "id": "3c081197",
   "metadata": {},
   "outputs": [],
   "source": [
    "import scipy.stats as stats\n",
    "import statsmodels.api as sm\n",
    "from statsmodels.formula.api import ols"
   ]
  },
  {
   "cell_type": "code",
   "execution_count": null,
   "id": "4753b24f",
   "metadata": {},
   "outputs": [],
   "source": [
    "for c in cols:\n",
    "    print(c)\n",
    "    model = ols('value ~ C(div)', data=melted[melted.variable == c]).fit()\n",
    "    anova_table = sm.stats.anova_lm(model, typ=2)\n",
    "    print(anova_table[\"PR(>F)\"][\"C(div)\"])\n",
    "    print(\"---------\")"
   ]
  },
  {
   "cell_type": "markdown",
   "id": "397e1256",
   "metadata": {},
   "source": [
    "## ALL"
   ]
  },
  {
   "cell_type": "code",
   "execution_count": null,
   "id": "702893e5",
   "metadata": {},
   "outputs": [],
   "source": [
    "list_dfs=[]\n",
    "especimens = [\n",
    "    \"20190504_E1\",\n",
    "    \"20190404_E2\",\n",
    "    \"20190520_E4\",\n",
    "    \"20190516_E3\",\n",
    "    \"20190806_E3\",\n",
    "    \"20190520_E2\",\n",
    "    \"20190401_E3\",\n",
    "    \"20190517_E1\",\n",
    "    \"20190520_E1\",\n",
    "    \"20190401_E1\",\n",
    "]\n",
    "\n",
    "order = [1,7,10,3,4,2,5,8,9,6]\n",
    "\n",
    "for i, e in enumerate(especimens):\n",
    "    print(e)\n",
    "    f = f\"/Users/dvarelat/Documents/MASTER/TFM/DATA/EXTRACTION/NUCLEI/{e}_NUCLEI_properties.csv\"\n",
    "    df = pd.read_csv(f)\n",
    "    print(df.shape)\n",
    "    df[\"especimen\"] = e\n",
    "    #df[\"stage\"] = str(dict_order[i])\n",
    "    #df[\"stageNUMBER\"] = dict_order[i]\n",
    "    list_dfs.append(df)"
   ]
  },
  {
   "cell_type": "code",
   "execution_count": null,
   "id": "89bc5892",
   "metadata": {},
   "outputs": [],
   "source": [
    "dfall = pd.concat(list_dfs)\n",
    "print(dfall.lines.unique())"
   ]
  },
  {
   "cell_type": "code",
   "execution_count": null,
   "id": "271a67b1",
   "metadata": {},
   "outputs": [],
   "source": [
    "dict_lines = dict(zip(dfall.lines.unique(), [\"back\", \"paraxial\", \"splanchnic\", \"somatic\", \"myocardium\",\"myocardium\" , \"myocardium\" ]) ) \n",
    "dfall[\"name_lines\"] = dfall[\"lines\"].apply(lambda x: dict_lines[x])"
   ]
  },
  {
   "cell_type": "code",
   "execution_count": null,
   "id": "e846f9ea",
   "metadata": {},
   "outputs": [],
   "source": [
    "dfall.groupby([\"div\"]).count()"
   ]
  },
  {
   "cell_type": "code",
   "execution_count": null,
   "id": "44592e09",
   "metadata": {},
   "outputs": [],
   "source": []
  },
  {
   "cell_type": "code",
   "execution_count": null,
   "id": "3d2dbe52",
   "metadata": {},
   "outputs": [],
   "source": [
    "d = {}\n",
    "for i,e in enumerate(especimens):\n",
    "    print(e)\n",
    "    df = dfall[dfall.especimen == e]\n",
    "    print(df.shape)\n",
    "    d[e] = df.groupby([\"name_lines\"]).count()[\"volumes\"].to_dict()\n",
    "    d[e][\"stageNUMBER\"] = dict_order[i]\n",
    "    d[e][\"stage\"] = str(dict_order[i])\n",
    "    d[e][\"totalNum\"] = np.sum(list(df.groupby([\"name_lines\"]).count()[\"volumes\"].to_dict().values()))\n",
    "df_numbers = pd.DataFrame(d).T\n",
    "df_numbers [\"proportion myo/spl\"] = df_numbers.apply(lambda x: x[\"myocardium\"]/x[\"splanchnic\"], axis=1)\n",
    "df_numbers [\"proportion myo/total\"] = df_numbers.apply(lambda x: x[\"myocardium\"]/x[\"totalNum\"], axis=1)\n",
    "dforder_numbers = df_numbers.sort_values(by=['stageNUMBER'])"
   ]
  },
  {
   "cell_type": "code",
   "execution_count": null,
   "id": "17c0749c",
   "metadata": {},
   "outputs": [],
   "source": [
    "melted = pd.melt(dforder_numbers, id_vars=[\"stage\"], \n",
    "        value_vars=[\"back\", \"paraxial\", \"somatic\", \"splanchnic\", \"myocardium\", \"myocardium\", \"totalNum\"])\n",
    "melted.head(3)"
   ]
  },
  {
   "cell_type": "code",
   "execution_count": null,
   "id": "9feec076",
   "metadata": {},
   "outputs": [],
   "source": [
    "fig = px.line(melted, x=\"stage\", y=\"value\", color=\"variable\", markers=True)\n",
    "fig.show()"
   ]
  },
  {
   "cell_type": "code",
   "execution_count": null,
   "id": "f2c0e106",
   "metadata": {},
   "outputs": [],
   "source": [
    "fig = px.scatter(dforder_numbers, x=\"stage\", y=\"proportion myo/total\", trendline=\"ols\")\n",
    "fig.show()"
   ]
  },
  {
   "cell_type": "code",
   "execution_count": null,
   "id": "34da4997",
   "metadata": {},
   "outputs": [],
   "source": [
    "dforder = dfall.sort_values(by=['stageNUMBER'])"
   ]
  },
  {
   "cell_type": "code",
   "execution_count": null,
   "id": "abfb1e0a",
   "metadata": {},
   "outputs": [],
   "source": [
    "shape = [ 'Elongation', 'Flatness', 'LeastAxisLength', 'MajorAxisLength',\n",
    "       'Maximum2DDiameterColumn', 'Maximum2DDiameterRow',\n",
    "       'Maximum2DDiameterSlice', 'Maximum3DDiameter', 'MeshVolume',\n",
    "       'MinorAxisLength', 'Sphericity', 'SurfaceArea', 'SurfaceVolumeRatio',\n",
    "       'VoxelVolume']\n",
    "for var in shape:\n",
    "    px.box(dforder, x=\"stage\", y=var, color=\"name_lines\").show()"
   ]
  },
  {
   "cell_type": "code",
   "execution_count": null,
   "id": "c30ce9fd",
   "metadata": {},
   "outputs": [],
   "source": [
    "dfall.columns"
   ]
  },
  {
   "cell_type": "code",
   "execution_count": null,
   "id": "a2f2126d",
   "metadata": {},
   "outputs": [],
   "source": [
    "intensity = [ '10Percentile', '90Percentile', 'Energy',\n",
    "       'Entropy', 'InterquartileRange', 'Kurtosis', 'Maximum',\n",
    "       'MeanAbsoluteDeviation', 'Mean', 'Median', 'Minimum', 'Range',\n",
    "       'RobustMeanAbsoluteDeviation', 'RootMeanSquared', 'Skewness',\n",
    "       'TotalEnergy', 'Uniformity', 'Variance',]\n",
    "for var in intensity:\n",
    "    px.box(dforder, x=\"stage\", y=var, color=\"name_lines\").show()"
   ]
  },
  {
   "cell_type": "code",
   "execution_count": null,
   "id": "fe3200e7",
   "metadata": {},
   "outputs": [],
   "source": [
    "colsDIV = ['Elongation', 'Flatness', 'LeastAxisLength', 'MajorAxisLength',\n",
    "       'Maximum2DDiameterColumn', 'Maximum2DDiameterRow',\n",
    "       'Maximum2DDiameterSlice', 'Maximum3DDiameter', \n",
    "       'MinorAxisLength', 'Sphericity', 'SurfaceVolumeRatio', '10Percentile', '90Percentile', \n",
    "       'Entropy', 'InterquartileRange', 'Kurtosis', 'Maximum',\n",
    "       'MeanAbsoluteDeviation', 'Mean', 'Median', 'Minimum', 'Range',\n",
    "       'RobustMeanAbsoluteDeviation', 'RootMeanSquared', 'Skewness', 'Uniformity']\n",
    "division = pd.melt(dfall, id_vars=[\"cell\", \"div\"], \n",
    "        value_vars=colsDIV)\n",
    "fig = px.box(division , x=\"variable\", y=\"value\", color=\"div\")\n",
    "fig.show()"
   ]
  },
  {
   "cell_type": "code",
   "execution_count": null,
   "id": "afb30535",
   "metadata": {},
   "outputs": [],
   "source": [
    "73952-73795"
   ]
  },
  {
   "cell_type": "code",
   "execution_count": null,
   "id": "948a2a77",
   "metadata": {},
   "outputs": [],
   "source": []
  }
 ],
 "metadata": {
  "kernelspec": {
   "display_name": "PORESPY",
   "language": "python",
   "name": "porespy"
  },
  "language_info": {
   "codemirror_mode": {
    "name": "ipython",
    "version": 3
   },
   "file_extension": ".py",
   "mimetype": "text/x-python",
   "name": "python",
   "nbconvert_exporter": "python",
   "pygments_lexer": "ipython3",
   "version": "3.8.13"
  }
 },
 "nbformat": 4,
 "nbformat_minor": 5
}
