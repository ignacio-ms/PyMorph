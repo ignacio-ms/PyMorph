{
 "cells": [
  {
   "cell_type": "code",
   "execution_count": 1,
   "id": "closed-liverpool",
   "metadata": {},
   "outputs": [],
   "source": [
    "import numpy as np\n",
    "import sys\n",
    "import os\n",
    "import numpy as np\n",
    "import matplotlib.pyplot as plt\n",
    "from importlib import reload\n",
    "import nibabel as nib\n",
    "import pandas as pd\n",
    "from IPython.display import clear_output\n",
    "import importlib"
   ]
  },
  {
   "cell_type": "code",
   "execution_count": 11,
   "id": "sporting-ready",
   "metadata": {},
   "outputs": [],
   "source": [
    "sys.path.insert(1, \"/Users/dvarelat/Documents/MASTER/TFM/methods\")\n",
    "import cardiac_region\n",
    "importlib.reload(cardiac_region)\n",
    "import cardiac_region as c"
   ]
  },
  {
   "cell_type": "code",
   "execution_count": 36,
   "id": "demographic-console",
   "metadata": {},
   "outputs": [],
   "source": [
    "especimens = [\n",
    "    \"20190504_E1\",\n",
    "    \"20190404_E2\",\n",
    "    \"20190520_E4\",\n",
    "    \"20190516_E3\",\n",
    "    \"20190806_E3\",\n",
    "    \"20190520_E2\",\n",
    "    \"20190401_E3\",\n",
    "    \"20190517_E1\",\n",
    "    \"20190520_E1\",\n",
    "    '20190401_E1',\n",
    "]"
   ]
  },
  {
   "cell_type": "code",
   "execution_count": 141,
   "id": "stable-offer",
   "metadata": {},
   "outputs": [],
   "source": [
    "ESPECIMEN = especimens[0]"
   ]
  },
  {
   "cell_type": "code",
   "execution_count": 142,
   "id": "invisible-consensus",
   "metadata": {},
   "outputs": [],
   "source": [
    "CC = f\"/Users/dvarelat/Documents/MASTER/TFM/DATA/CardiacRegion/{ESPECIMEN}/{ESPECIMEN}_mGFP_CardiacRegion_0.5.nii.gz\"\n",
    "gasp = f\"/Users/dvarelat/Documents/MASTER/TFM/DATA/RESULTS/membranes/GASP_PNAS/{ESPECIMEN}_mGFP_CardiacRegion_0.5_XYZ_predictions_GASP.nii.gz\"\n",
    "linefile = F\"/Users/dvarelat/Documents/MASTER/TFM/DATA/LINES/line_{ESPECIMEN}.nii.gz\"\n",
    "decon = f\"/Users/dvarelat/Documents/MASTER/TFM/DATA/DECON_05/MGFP/{ESPECIMEN}_mGFP_decon_0.5.nii.gz\""
   ]
  },
  {
   "cell_type": "code",
   "execution_count": 143,
   "id": "minimal-exploration",
   "metadata": {},
   "outputs": [
    {
     "data": {
      "text/plain": [
       "(742, 871, 507)"
      ]
     },
     "execution_count": 143,
     "metadata": {},
     "output_type": "execute_result"
    }
   ],
   "source": [
    "pred_mem = nib.load(gasp).get_fdata()\n",
    "pred_mem.shape"
   ]
  },
  {
   "cell_type": "code",
   "execution_count": 144,
   "id": "widespread-repository",
   "metadata": {},
   "outputs": [
    {
     "data": {
      "text/plain": [
       "(1024, 1024, 680)"
      ]
     },
     "execution_count": 144,
     "metadata": {},
     "output_type": "execute_result"
    }
   ],
   "source": [
    "decon05 = nib.load(decon).get_fdata()\n",
    "decon05 = decon05[:,:,:,0]\n",
    "decon05.shape"
   ]
  },
  {
   "cell_type": "code",
   "execution_count": 145,
   "id": "underlying-covering",
   "metadata": {},
   "outputs": [
    {
     "data": {
      "text/plain": [
       "{'x_size': 1024,\n",
       " 'y_size': 1024,\n",
       " 'z_size': 680,\n",
       " 'x_res': 0.999612,\n",
       " 'y_res': 0.999612,\n",
       " 'z_res': 0.996177}"
      ]
     },
     "execution_count": 145,
     "metadata": {},
     "output_type": "execute_result"
    }
   ],
   "source": [
    "c.load3D_metadata(linefile)"
   ]
  },
  {
   "cell_type": "code",
   "execution_count": 146,
   "id": "induced-imaging",
   "metadata": {},
   "outputs": [
    {
     "name": "stdout",
     "output_type": "stream",
     "text": [
      "MARGIN : 5\n",
      "Line information\n",
      "{'x_size': 1024, 'y_size': 1024, 'z_size': 680, 'x_res': 0.999612, 'y_res': 0.999612, 'z_res': 0.996177}\n",
      "LINE SHAPE = (1024, 1024, 680)\n",
      "SCALING WITH DECON 05 --> 1024\n",
      "{'x_size': 1024, 'y_size': 1024, 'z_size': 680, 'x_res': 0.999612, 'y_res': 0.999612, 'z_res': 0.996177}\n"
     ]
    }
   ],
   "source": [
    "margs = c.crop_line(linefile, decon, escala2048=False, ma=5)"
   ]
  },
  {
   "cell_type": "code",
   "execution_count": 147,
   "id": "funky-astronomy",
   "metadata": {},
   "outputs": [
    {
     "name": "stdout",
     "output_type": "stream",
     "text": [
      "CROP SHAPE = (742, 871, 507, 1)\n"
     ]
    }
   ],
   "source": [
    "cut = c.crop_embryo(margs, decon)"
   ]
  },
  {
   "cell_type": "code",
   "execution_count": 148,
   "id": "athletic-cholesterol",
   "metadata": {},
   "outputs": [
    {
     "data": {
      "text/plain": [
       "(1024, 1024, 680)"
      ]
     },
     "execution_count": 148,
     "metadata": {},
     "output_type": "execute_result"
    }
   ],
   "source": [
    "zeros = np.zeros(decon05.shape)\n",
    "zeros.shape"
   ]
  },
  {
   "cell_type": "code",
   "execution_count": 149,
   "id": "usual-television",
   "metadata": {},
   "outputs": [],
   "source": [
    "zeros[margs[0][0] : margs[1][0],\n",
    "      margs[0][1] : margs[1][1],\n",
    "      margs[0][2] : margs[1][2] ] = pred_mem"
   ]
  },
  {
   "cell_type": "markdown",
   "id": "boring-kelly",
   "metadata": {},
   "source": [
    "# SAVE"
   ]
  },
  {
   "cell_type": "code",
   "execution_count": 150,
   "id": "statistical-philip",
   "metadata": {},
   "outputs": [],
   "source": [
    "new_file = f\"/Users/dvarelat/Documents/MASTER/TFM/DATA/RESULTS/membranes/GASP_PNAS/{ESPECIMEN}_mGFP_XYZ_predictions_GASP.nii.gz\"\n",
    "c.saveNifti(zeros, c.load3D_metadata(decon), new_file)"
   ]
  },
  {
   "cell_type": "markdown",
   "id": "verbal-screw",
   "metadata": {},
   "source": []
  },
  {
   "cell_type": "code",
   "execution_count": 48,
   "id": "micro-daily",
   "metadata": {},
   "outputs": [],
   "source": []
  },
  {
   "cell_type": "code",
   "execution_count": 49,
   "id": "palestinian-burton",
   "metadata": {},
   "outputs": [],
   "source": []
  },
  {
   "cell_type": "code",
   "execution_count": null,
   "id": "functional-record",
   "metadata": {},
   "outputs": [],
   "source": []
  },
  {
   "cell_type": "code",
   "execution_count": null,
   "id": "coated-diploma",
   "metadata": {},
   "outputs": [],
   "source": [
    "for t in range(50):\n",
    "    plt.figure(figsize=(10,10)) \n",
    "    n = 150 #10*t\n",
    "    print(n)\n",
    "    plots = [zeros[:, :, n], decon05[:, :, n]]\n",
    "    titles = [\"ZEROS\", \"DECON\"]\n",
    "    for i in range(len(plots)):\n",
    "        plt.subplot(1,len(plots), i+1).set_title(titles[i]) \n",
    "        plt.imshow(plots[i])\n",
    "    plt.show()\n",
    "    clear_output(wait=True)\n",
    "    break"
   ]
  },
  {
   "cell_type": "code",
   "execution_count": 12,
   "id": "everyday-slovenia",
   "metadata": {},
   "outputs": [],
   "source": [
    "#c.saveNifti(pred_mem, c.load3D_metadata(decon), gasp)"
   ]
  },
  {
   "cell_type": "code",
   "execution_count": 25,
   "id": "detected-christopher",
   "metadata": {},
   "outputs": [
    {
     "data": {
      "text/plain": [
       "(array([34, 14,  6]), array([915, 914, 486]))"
      ]
     },
     "execution_count": 25,
     "metadata": {},
     "output_type": "execute_result"
    }
   ],
   "source": [
    "margs"
   ]
  },
  {
   "cell_type": "code",
   "execution_count": null,
   "id": "indie-flush",
   "metadata": {},
   "outputs": [],
   "source": []
  }
 ],
 "metadata": {
  "kernelspec": {
   "display_name": "images",
   "language": "python",
   "name": "images"
  },
  "language_info": {
   "codemirror_mode": {
    "name": "ipython",
    "version": 3
   },
   "file_extension": ".py",
   "mimetype": "text/x-python",
   "name": "python",
   "nbconvert_exporter": "python",
   "pygments_lexer": "ipython3",
   "version": "3.10.2"
  }
 },
 "nbformat": 4,
 "nbformat_minor": 5
}
