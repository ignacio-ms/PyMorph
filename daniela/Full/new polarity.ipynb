{
 "cells": [
  {
   "cell_type": "code",
   "execution_count": 51,
   "id": "f0d7a698",
   "metadata": {},
   "outputs": [],
   "source": [
    "import trimesh\n",
    "import scipy\n",
    "import numpy as np\n",
    "import matplotlib.cm as cm\n",
    "import nibabel as nib\n",
    "import gdist\n",
    "import sys\n",
    "#import meshlabPY\n",
    "#import io_AI\n",
    "import matplotlib.pyplot as plt\n",
    "from IPython.display import clear_output\n",
    "import time\n",
    "import importlib\n",
    "import pandas as pd\n",
    "import os\n",
    "from scipy import stats\n",
    "import ast"
   ]
  },
  {
   "cell_type": "code",
   "execution_count": 10,
   "id": "caaa95ca",
   "metadata": {},
   "outputs": [],
   "source": [
    "sys.path.insert(1, \"/Users/dvarelat/Documents/MASTER/TFM/methods\")\n",
    "import cardiac_region\n",
    "importlib.reload(cardiac_region)\n",
    "import cardiac_region as c"
   ]
  },
  {
   "cell_type": "code",
   "execution_count": 3,
   "id": "28e03692",
   "metadata": {},
   "outputs": [
    {
     "name": "stdout",
     "output_type": "stream",
     "text": [
      "20190404_E2\n"
     ]
    }
   ],
   "source": [
    "folder = \"7_20190404_E2\"\n",
    "ESPECIMEN = folder.split(\"_\")[1] + \"_\" + folder.split(\"_\")[2]\n",
    "image_path = f\"/Users/dvarelat/Documents/MASTER/TFM/DATA/RESULTS/membranes/GASP_PNAS/{ESPECIMEN}_mGFP_XYZ_predictions_GASP.nii.gz\"\n",
    "DFFILE = f\"/Users/dvarelat/Documents/MASTER/TFM/DATA/EXTRACTION/{folder}/{ESPECIMEN}_cell_properties_radiomics.csv\"\n",
    "#file_mesh = f\"/Users/dvarelat/Documents/MASTER/TFM/midS/{ESPECIMEN}_myo_midS.ply\"\n",
    "file_mesh = f\"/Users/dvarelat/Documents/MASTER/TFM/midS_spl/{ESPECIMEN}_spl_midS.ply\"\n",
    "print(ESPECIMEN)"
   ]
  },
  {
   "cell_type": "code",
   "execution_count": 4,
   "id": "c83f0237",
   "metadata": {},
   "outputs": [],
   "source": [
    "df = pd.read_csv(DFFILE)"
   ]
  },
  {
   "cell_type": "code",
   "execution_count": 6,
   "id": "9ec67efa",
   "metadata": {},
   "outputs": [
    {
     "data": {
      "text/plain": [
       "(1024, 1024, 448)"
      ]
     },
     "execution_count": 6,
     "metadata": {},
     "output_type": "execute_result"
    }
   ],
   "source": [
    "proxy = nib.load(image_path)\n",
    "img   = np.asarray(proxy.get_fdata(), dtype=proxy.get_data_dtype())\n",
    "img = img.astype(\"uint16\")\n",
    "img.shape"
   ]
  },
  {
   "cell_type": "code",
   "execution_count": 11,
   "id": "47de44b9",
   "metadata": {},
   "outputs": [],
   "source": [
    "dim_info = c.load3D_metadata(image_path)"
   ]
  },
  {
   "cell_type": "code",
   "execution_count": 18,
   "id": "8d6cdc8c",
   "metadata": {},
   "outputs": [],
   "source": [
    "mesh = trimesh.load_mesh(file_mesh, process=False)\n",
    "final_number_faces = 10000\n",
    "d = 20\n",
    "mesh = mesh.simplify_quadratic_decimation(int(final_number_faces))"
   ]
  },
  {
   "cell_type": "code",
   "execution_count": 19,
   "id": "68948ae1",
   "metadata": {},
   "outputs": [
    {
     "name": "stdout",
     "output_type": "stream",
     "text": [
      "Numero de vertices 5416\n"
     ]
    },
    {
     "data": {
      "text/plain": [
       "(10000, 3)"
      ]
     },
     "execution_count": 19,
     "metadata": {},
     "output_type": "execute_result"
    }
   ],
   "source": [
    "print(f\"Numero de vertices {len(mesh.vertices)}\")\n",
    "mesh.faces.shape"
   ]
  },
  {
   "cell_type": "code",
   "execution_count": null,
   "id": "9d33e03e",
   "metadata": {},
   "outputs": [],
   "source": [
    "n_points = 9601\n",
    "points, faces = mesh_mid.sample(n_points, return_index=True)\n",
    "normal = mesh_mid.face_normals[faces]"
   ]
  },
  {
   "cell_type": "code",
   "execution_count": 20,
   "id": "d43bdefe",
   "metadata": {},
   "outputs": [
    {
     "data": {
      "text/plain": [
       "array([[ 0.34869297, -0.93509409, -0.06334241],\n",
       "       [ 0.53710192, -0.81182995, -0.22902763],\n",
       "       [ 0.56493161, -0.7164287 , -0.40936804],\n",
       "       ...,\n",
       "       [ 0.57147637, -0.7605897 , -0.30808776],\n",
       "       [ 0.63648975, -0.22667026, -0.73722547],\n",
       "       [ 0.19997481,  0.40357288,  0.89282641]])"
      ]
     },
     "execution_count": 20,
     "metadata": {},
     "output_type": "execute_result"
    }
   ],
   "source": [
    "mesh.face_normals"
   ]
  },
  {
   "cell_type": "code",
   "execution_count": 21,
   "id": "019ef173",
   "metadata": {},
   "outputs": [
    {
     "data": {
      "text/plain": [
       "TrackedArray([[5044, 1807, 1478],\n",
       "              [4087, 1509, 1073],\n",
       "              [2003, 4087, 3505],\n",
       "              ...,\n",
       "              [2328, 4957,  335],\n",
       "              [5126, 2234, 4404],\n",
       "              [1181,  992, 3931]])"
      ]
     },
     "execution_count": 21,
     "metadata": {},
     "output_type": "execute_result"
    }
   ],
   "source": [
    "mesh.faces"
   ]
  },
  {
   "cell_type": "code",
   "execution_count": 36,
   "id": "540d661d",
   "metadata": {},
   "outputs": [
    {
     "data": {
      "text/plain": [
       "array([[443, 571, 160],\n",
       "       [417, 562, 131],\n",
       "       [416, 565, 125],\n",
       "       ...,\n",
       "       [272, 499,  89],\n",
       "       [908, 376,  67],\n",
       "       [636, 817, 389]], dtype=uint16)"
      ]
     },
     "execution_count": 36,
     "metadata": {},
     "output_type": "execute_result"
    }
   ],
   "source": [
    "centers_coords = [[round(i) for i in center] for center in mesh.triangles_center]\n",
    "j_pix = np.floor(np.array(centers_coords) / [dim_info[\"x_res\"], dim_info[\"y_res\"], dim_info[\"z_res\"]]).astype(\"uint16\")\n",
    "j_pix"
   ]
  },
  {
   "cell_type": "code",
   "execution_count": 43,
   "id": "d24898c4",
   "metadata": {},
   "outputs": [
    {
     "name": "stdout",
     "output_type": "stream",
     "text": [
      "1698\n"
     ]
    },
    {
     "data": {
      "text/plain": [
       "1258"
      ]
     },
     "execution_count": 43,
     "metadata": {},
     "output_type": "execute_result"
    }
   ],
   "source": [
    "j_pixel_labels = img[j_pix[:, 0], j_pix[:, 1], j_pix[:, 2]] \n",
    "unique_labels = set(j_pixel_labels)\n",
    "print(len(unique_labels))\n",
    "len([i for i in df.original_labels if i in unique_labels])"
   ]
  },
  {
   "cell_type": "code",
   "execution_count": 44,
   "id": "82a2eb5f",
   "metadata": {},
   "outputs": [
    {
     "data": {
      "text/plain": [
       "(10000,)"
      ]
     },
     "execution_count": 44,
     "metadata": {},
     "output_type": "execute_result"
    }
   ],
   "source": [
    "j_pixel_labels.shape\n",
    "[for c in ]"
   ]
  },
  {
   "cell_type": "code",
   "execution_count": 48,
   "id": "784d679b",
   "metadata": {},
   "outputs": [
    {
     "data": {
      "text/plain": [
       "array([ 0.34869297, -0.93509409, -0.06334241])"
      ]
     },
     "execution_count": 48,
     "metadata": {},
     "output_type": "execute_result"
    }
   ],
   "source": [
    "mesh.face_normals[0]"
   ]
  },
  {
   "cell_type": "code",
   "execution_count": 49,
   "id": "295ff93d",
   "metadata": {},
   "outputs": [
    {
     "data": {
      "text/plain": [
       "array([[ 0.34869297, -0.93509409, -0.06334241],\n",
       "       [ 0.53710192, -0.81182995, -0.22902763],\n",
       "       [ 0.56493161, -0.7164287 , -0.40936804],\n",
       "       ...,\n",
       "       [ 0.57147637, -0.7605897 , -0.30808776],\n",
       "       [ 0.63648975, -0.22667026, -0.73722547],\n",
       "       [ 0.19997481,  0.40357288,  0.89282641]])"
      ]
     },
     "execution_count": 49,
     "metadata": {},
     "output_type": "execute_result"
    }
   ],
   "source": [
    "mesh.face_normals"
   ]
  },
  {
   "cell_type": "code",
   "execution_count": 50,
   "id": "b8deb7e6",
   "metadata": {},
   "outputs": [
    {
     "data": {
      "text/plain": [
       "array([6494, 5121, 5121, ..., 2980,  829,    0], dtype=uint16)"
      ]
     },
     "execution_count": 50,
     "metadata": {},
     "output_type": "execute_result"
    }
   ],
   "source": [
    "j_pixel_labels"
   ]
  },
  {
   "cell_type": "code",
   "execution_count": 55,
   "id": "774e5ac6",
   "metadata": {},
   "outputs": [],
   "source": [
    "dict_vectors = dict(zip(df.original_labels, [ast.literal_eval(i) for i in df.eigenvectors]))"
   ]
  },
  {
   "cell_type": "code",
   "execution_count": 57,
   "id": "2ab1909e",
   "metadata": {},
   "outputs": [
    {
     "data": {
      "text/plain": [
       "[[0.098, -0.005, 0.995], [0.526, 0.849, -0.048], [-0.845, 0.528, 0.085]]"
      ]
     },
     "execution_count": 57,
     "metadata": {},
     "output_type": "execute_result"
    }
   ],
   "source": [
    "dict_vectors[5121]"
   ]
  },
  {
   "cell_type": "code",
   "execution_count": null,
   "id": "af7f1f8f",
   "metadata": {},
   "outputs": [],
   "source": []
  },
  {
   "cell_type": "code",
   "execution_count": null,
   "id": "ea932b69",
   "metadata": {},
   "outputs": [],
   "source": []
  }
 ],
 "metadata": {
  "kernelspec": {
   "display_name": "PORESPY",
   "language": "python",
   "name": "porespy"
  },
  "language_info": {
   "codemirror_mode": {
    "name": "ipython",
    "version": 3
   },
   "file_extension": ".py",
   "mimetype": "text/x-python",
   "name": "python",
   "nbconvert_exporter": "python",
   "pygments_lexer": "ipython3",
   "version": "3.8.13"
  }
 },
 "nbformat": 4,
 "nbformat_minor": 5
}
