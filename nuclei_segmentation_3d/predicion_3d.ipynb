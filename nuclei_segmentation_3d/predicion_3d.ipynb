{
 "cells": [
  {
   "metadata": {},
   "cell_type": "markdown",
   "source": [
    "## 3D Prediction using StarDist\n",
    "\n",
    "Repo: https://github.com/stardist/stardist?tab=readme-ov-file\n",
    "\n",
    "## Installation"
   ],
   "id": "9508cde21b667945"
  },
  {
   "cell_type": "code",
   "id": "initial_id",
   "metadata": {
    "collapsed": true,
    "ExecuteTime": {
     "end_time": "2024-07-02T08:26:22.499095Z",
     "start_time": "2024-07-02T08:26:12.677393Z"
    }
   },
   "source": "%pip install stardist",
   "outputs": [
    {
     "name": "stdout",
     "output_type": "stream",
     "text": [
      "Collecting stardist\n",
      "  Downloading stardist-0.9.1-cp310-cp310-win_amd64.whl.metadata (21 kB)\n",
      "Collecting csbdeep>=0.8.0 (from stardist)\n",
      "  Downloading csbdeep-0.8.0-py2.py3-none-any.whl.metadata (2.4 kB)\n",
      "Requirement already satisfied: scikit-image in c:\\users\\ignac\\anaconda3\\envs\\py310ml\\lib\\site-packages (from stardist) (0.21.0)\n",
      "Collecting numba (from stardist)\n",
      "  Downloading numba-0.60.0-cp310-cp310-win_amd64.whl.metadata (2.8 kB)\n",
      "Requirement already satisfied: imageio in c:\\users\\ignac\\anaconda3\\envs\\py310ml\\lib\\site-packages (from stardist) (2.34.2)\n",
      "Requirement already satisfied: numpy in c:\\users\\ignac\\anaconda3\\envs\\py310ml\\lib\\site-packages (from csbdeep>=0.8.0->stardist) (1.26.4)\n",
      "Requirement already satisfied: scipy in c:\\users\\ignac\\anaconda3\\envs\\py310ml\\lib\\site-packages (from csbdeep>=0.8.0->stardist) (1.11.4)\n",
      "Requirement already satisfied: matplotlib in c:\\users\\ignac\\anaconda3\\envs\\py310ml\\lib\\site-packages (from csbdeep>=0.8.0->stardist) (3.8.0)\n",
      "Requirement already satisfied: six in c:\\users\\ignac\\anaconda3\\envs\\py310ml\\lib\\site-packages (from csbdeep>=0.8.0->stardist) (1.16.0)\n",
      "Requirement already satisfied: tifffile in c:\\users\\ignac\\anaconda3\\envs\\py310ml\\lib\\site-packages (from csbdeep>=0.8.0->stardist) (2024.6.18)\n",
      "Requirement already satisfied: tqdm in c:\\users\\ignac\\anaconda3\\envs\\py310ml\\lib\\site-packages (from csbdeep>=0.8.0->stardist) (4.65.0)\n",
      "Requirement already satisfied: packaging in c:\\users\\ignac\\anaconda3\\envs\\py310ml\\lib\\site-packages (from csbdeep>=0.8.0->stardist) (23.1)\n",
      "Requirement already satisfied: pillow>=8.3.2 in c:\\users\\ignac\\anaconda3\\envs\\py310ml\\lib\\site-packages (from imageio->stardist) (10.2.0)\n",
      "Collecting llvmlite<0.44,>=0.43.0dev0 (from numba->stardist)\n",
      "  Downloading llvmlite-0.43.0-cp310-cp310-win_amd64.whl.metadata (4.9 kB)\n",
      "Requirement already satisfied: networkx>=2.8 in c:\\users\\ignac\\anaconda3\\envs\\py310ml\\lib\\site-packages (from scikit-image->stardist) (3.2.1)\n",
      "Requirement already satisfied: PyWavelets>=1.1.1 in c:\\users\\ignac\\anaconda3\\envs\\py310ml\\lib\\site-packages (from scikit-image->stardist) (1.4.1)\n",
      "Requirement already satisfied: lazy_loader>=0.2 in c:\\users\\ignac\\anaconda3\\envs\\py310ml\\lib\\site-packages (from scikit-image->stardist) (0.4)\n",
      "Requirement already satisfied: contourpy>=1.0.1 in c:\\users\\ignac\\anaconda3\\envs\\py310ml\\lib\\site-packages (from matplotlib->csbdeep>=0.8.0->stardist) (1.2.0)\n",
      "Requirement already satisfied: cycler>=0.10 in c:\\users\\ignac\\anaconda3\\envs\\py310ml\\lib\\site-packages (from matplotlib->csbdeep>=0.8.0->stardist) (0.11.0)\n",
      "Requirement already satisfied: fonttools>=4.22.0 in c:\\users\\ignac\\anaconda3\\envs\\py310ml\\lib\\site-packages (from matplotlib->csbdeep>=0.8.0->stardist) (4.25.0)\n",
      "Requirement already satisfied: kiwisolver>=1.0.1 in c:\\users\\ignac\\anaconda3\\envs\\py310ml\\lib\\site-packages (from matplotlib->csbdeep>=0.8.0->stardist) (1.4.4)\n",
      "Requirement already satisfied: pyparsing>=2.3.1 in c:\\users\\ignac\\anaconda3\\envs\\py310ml\\lib\\site-packages (from matplotlib->csbdeep>=0.8.0->stardist) (3.0.9)\n",
      "Requirement already satisfied: python-dateutil>=2.7 in c:\\users\\ignac\\anaconda3\\envs\\py310ml\\lib\\site-packages (from matplotlib->csbdeep>=0.8.0->stardist) (2.8.2)\n",
      "Requirement already satisfied: colorama in c:\\users\\ignac\\anaconda3\\envs\\py310ml\\lib\\site-packages (from tqdm->csbdeep>=0.8.0->stardist) (0.4.6)\n",
      "Downloading stardist-0.9.1-cp310-cp310-win_amd64.whl (786 kB)\n",
      "   ---------------------------------------- 0.0/786.1 kB ? eta -:--:--\n",
      "   ---------- ----------------------------- 204.8/786.1 kB 4.1 MB/s eta 0:00:01\n",
      "   ---------------------------------------- 786.1/786.1 kB 9.8 MB/s eta 0:00:00\n",
      "Downloading csbdeep-0.8.0-py2.py3-none-any.whl (71 kB)\n",
      "   ---------------------------------------- 0.0/71.3 kB ? eta -:--:--\n",
      "   ---------------------------------------- 71.3/71.3 kB 3.8 MB/s eta 0:00:00\n",
      "Downloading numba-0.60.0-cp310-cp310-win_amd64.whl (2.7 MB)\n",
      "   ---------------------------------------- 0.0/2.7 MB ? eta -:--:--\n",
      "   ----------------------- ---------------- 1.6/2.7 MB 48.6 MB/s eta 0:00:01\n",
      "   ---------------------------------------- 2.7/2.7 MB 33.9 MB/s eta 0:00:00\n",
      "Downloading llvmlite-0.43.0-cp310-cp310-win_amd64.whl (28.1 MB)\n",
      "   ---------------------------------------- 0.0/28.1 MB ? eta -:--:--\n",
      "   -- ------------------------------------- 1.6/28.1 MB 52.2 MB/s eta 0:00:01\n",
      "   ----- ---------------------------------- 4.1/28.1 MB 64.9 MB/s eta 0:00:01\n",
      "   -------- ------------------------------- 6.0/28.1 MB 54.1 MB/s eta 0:00:01\n",
      "   ---------- ----------------------------- 7.6/28.1 MB 54.2 MB/s eta 0:00:01\n",
      "   ----------- ---------------------------- 7.8/28.1 MB 49.8 MB/s eta 0:00:01\n",
      "   ----------- ---------------------------- 7.9/28.1 MB 36.2 MB/s eta 0:00:01\n",
      "   ------------ --------------------------- 8.7/28.1 MB 30.8 MB/s eta 0:00:01\n",
      "   ------------- -------------------------- 9.8/28.1 MB 29.7 MB/s eta 0:00:01\n",
      "   ----------------- ---------------------- 12.4/28.1 MB 32.7 MB/s eta 0:00:01\n",
      "   -------------------- ------------------- 14.2/28.1 MB 31.2 MB/s eta 0:00:01\n",
      "   ---------------------- ----------------- 16.0/28.1 MB 31.2 MB/s eta 0:00:01\n",
      "   -------------------------- ------------- 18.4/28.1 MB 46.7 MB/s eta 0:00:01\n",
      "   ----------------------------- ---------- 20.5/28.1 MB 54.4 MB/s eta 0:00:01\n",
      "   -------------------------------- ------- 22.9/28.1 MB 50.4 MB/s eta 0:00:01\n",
      "   ------------------------------------ --- 25.3/28.1 MB 59.5 MB/s eta 0:00:01\n",
      "   ---------------------------------------  27.6/28.1 MB 59.5 MB/s eta 0:00:01\n",
      "   ---------------------------------------  28.1/28.1 MB 59.8 MB/s eta 0:00:01\n",
      "   ---------------------------------------  28.1/28.1 MB 59.8 MB/s eta 0:00:01\n",
      "   ---------------------------------------  28.1/28.1 MB 59.8 MB/s eta 0:00:01\n",
      "   ---------------------------------------  28.1/28.1 MB 59.8 MB/s eta 0:00:01\n",
      "   ---------------------------------------- 28.1/28.1 MB 31.2 MB/s eta 0:00:00\n",
      "Installing collected packages: llvmlite, numba, csbdeep, stardist\n",
      "Successfully installed csbdeep-0.8.0 llvmlite-0.43.0 numba-0.60.0 stardist-0.9.1\n",
      "Note: you may need to restart the kernel to use updated packages.\n"
     ]
    }
   ],
   "execution_count": 1
  },
  {
   "metadata": {},
   "cell_type": "markdown",
   "source": "## Libraries",
   "id": "ea68c872c88b424c"
  },
  {
   "metadata": {
    "ExecuteTime": {
     "end_time": "2024-07-02T12:03:28.667243Z",
     "start_time": "2024-07-02T12:03:20.067663Z"
    }
   },
   "cell_type": "code",
   "source": [
    "import re\n",
    "import sys\n",
    "import numpy as np\n",
    "import matplotlib.pyplot as plt\n",
    "import matplotlib\n",
    "matplotlib.rcParams['image.interpolation'] = 'none'\n",
    "%matplotlib inline\n",
    "\n",
    "from glob import glob\n",
    "import nibabel as nib\n",
    "from csbdeep.utils import Path, normalize\n",
    "from csbdeep.io import save_tiff_imagej_compatible\n",
    "\n",
    "from stardist import random_label_cmap\n",
    "from stardist.plot import render_label\n",
    "from stardist.models import StarDist3D"
   ],
   "id": "5c5e8c0d80428b8b",
   "outputs": [],
   "execution_count": 1
  },
  {
   "metadata": {},
   "cell_type": "markdown",
   "source": "### Data",
   "id": "705339edbf072fe9"
  },
  {
   "metadata": {
    "ExecuteTime": {
     "end_time": "2024-07-02T12:04:12.254593Z",
     "start_time": "2024-07-02T12:03:30.230871Z"
    }
   },
   "cell_type": "code",
   "source": [
    "X_names = sorted(glob('../data/Gr4/RawImages/Nuclei/*.nii.gz'))\n",
    "X = list(map(nib.load, X_names))\n",
    "X = [x.get_fdata() for x in X]"
   ],
   "id": "aa43ca673883b51b",
   "outputs": [],
   "execution_count": 2
  },
  {
   "metadata": {},
   "cell_type": "markdown",
   "source": "Load a previously trained model (demo model for 3D nuclei segmentation) and apply it to the data.",
   "id": "8b5b1047e5196c9e"
  },
  {
   "metadata": {
    "ExecuteTime": {
     "end_time": "2024-07-02T12:04:15.571087Z",
     "start_time": "2024-07-02T12:04:12.413228Z"
    }
   },
   "cell_type": "code",
   "source": "model = StarDist3D.from_pretrained('3D_demo')",
   "id": "8dc5faf9bc162438",
   "outputs": [
    {
     "name": "stdout",
     "output_type": "stream",
     "text": [
      "Found model '3D_demo' for 'StarDist3D'.\n",
      "Loading network weights from 'weights_best.h5'.\n",
      "Loading thresholds from 'thresholds.json'.\n",
      "Using default values: prob_thresh=0.707933, nms_thresh=0.3.\n"
     ]
    }
   ],
   "execution_count": 3
  },
  {
   "metadata": {},
   "cell_type": "markdown",
   "source": [
    "### Prediction \n",
    "\n",
    "Make sure to normalize the input image beforehand or supply a ``normalizer`` to the prediction function.\n",
    "\n",
    "Calling ``model.predict_instances`` will\n",
    "\n",
    "- predict object probabilities and star-convex polygon distances (see ``model.predict`` if you want those)\n",
    "- perform non-maximum suppression (with overlap threshold ``nms_thresh``) for polygons above object probability threshold ``prob_thresh``.\n",
    "- render all remaining polygon instances in a label image\n",
    "- return the label instances image and also the details (coordinates, etc.) of all remaining polygons"
   ],
   "id": "76c6b9fb55a34c41"
  },
  {
   "metadata": {
    "ExecuteTime": {
     "end_time": "2024-07-02T12:04:15.586277Z",
     "start_time": "2024-07-02T12:04:15.572086Z"
    }
   },
   "cell_type": "code",
   "source": "idx = 2",
   "id": "bdc2982b77a5a44f",
   "outputs": [],
   "execution_count": 4
  },
  {
   "metadata": {
    "ExecuteTime": {
     "start_time": "2024-07-02T12:04:15.590275Z"
    }
   },
   "cell_type": "code",
   "source": "labels, details = model.predict_instances(X[idx])",
   "id": "1185f8714a1c734b",
   "outputs": [],
   "execution_count": null
  },
  {
   "metadata": {},
   "cell_type": "code",
   "source": [
    "segmented_image = nib.Nifti1Image(labels, X[idx].affine)\n",
    "file_name = re.search(r'([^/\\\\]+)(?=\\.\\w+\\.\\w+$)', X_names[0]).group()\n",
    "nib.save(segmented_image, f'../data/Gr4/Predictions/Stardist/{file_name}.nii.gz')"
   ],
   "id": "a99a1c21b59b765",
   "outputs": [],
   "execution_count": null
  },
  {
   "metadata": {},
   "cell_type": "code",
   "source": [
    "plt.figure(figsize=(16,10))\n",
    "plt.subplot(121); plt.imshow(X[idx], cmap='gray'); plt.axis('off'); plt.title('Raw image')\n",
    "plt.subplot(122); plt.imshow(render_label(labels, img=X[idx])); plt.axis('off'); plt.title('Predicted labels')\n",
    "plt.tight_layout()\n",
    "plt.show()"
   ],
   "id": "220928dd424481e6",
   "outputs": [],
   "execution_count": null
  },
  {
   "metadata": {},
   "cell_type": "code",
   "outputs": [],
   "execution_count": null,
   "source": [
    "# plt.figure(figsize=(13,10))\n",
    "# z = max(0, img.shape[0] // 2 - 5)\n",
    "# plt.subplot(121)\n",
    "# plt.imshow((img if img.ndim==3 else img[...,:3])[z], clim=(0,1), cmap='gray')\n",
    "# plt.title('Raw image (XY slice)')\n",
    "# plt.axis('off')\n",
    "# plt.subplot(122)\n",
    "# plt.imshow((img if img.ndim==3 else img[...,:3])[z], clim=(0,1), cmap='gray')\n",
    "# plt.imshow(labels[z], cmap=lbl_cmap, alpha=0.5)\n",
    "# plt.title('Image and predicted labels (XY slice)')\n",
    "# plt.axis('off');"
   ],
   "id": "90a31e5d70458557"
  }
 ],
 "metadata": {
  "kernelspec": {
   "display_name": "Python 3",
   "language": "python",
   "name": "python3"
  },
  "language_info": {
   "codemirror_mode": {
    "name": "ipython",
    "version": 2
   },
   "file_extension": ".py",
   "mimetype": "text/x-python",
   "name": "python",
   "nbconvert_exporter": "python",
   "pygments_lexer": "ipython2",
   "version": "2.7.6"
  }
 },
 "nbformat": 4,
 "nbformat_minor": 5
}
