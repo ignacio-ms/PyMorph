{
 "cells": [
  {
   "metadata": {},
   "cell_type": "markdown",
   "source": [
    "## 3D Prediction using StarDist\n",
    "\n",
    "Repo: https://github.com/stardist/stardist?tab=readme-ov-file"
   ],
   "id": "9508cde21b667945"
  },
  {
   "metadata": {},
   "cell_type": "markdown",
   "source": "## Libraries",
   "id": "ea68c872c88b424c"
  },
  {
   "metadata": {
    "ExecuteTime": {
     "end_time": "2024-07-17T15:08:01.924645Z",
     "start_time": "2024-07-17T15:07:58.725785Z"
    }
   },
   "cell_type": "code",
   "source": [
    "import re\n",
    "import os\n",
    "import sys\n",
    "import numpy as np\n",
    "import matplotlib.pyplot as plt\n",
    "import matplotlib\n",
    "os.environ['TF_CPP_MIN_LOG_LEVEL'] = '2'\n",
    "matplotlib.rcParams['image.interpolation'] = 'none'\n",
    "%matplotlib inline\n",
    "\n",
    "from glob import glob\n",
    "import nibabel as nib\n",
    "from csbdeep.utils import Path, normalize\n",
    "from csbdeep.io import save_tiff_imagej_compatible\n",
    "\n",
    "from stardist import random_label_cmap\n",
    "from stardist.plot import render_label\n",
    "from stardist.models import StarDist3D\n",
    "\n",
    "# Custom packages\n",
    "from auxiliary import values as v\n",
    "from auxiliary.gpu import (\n",
    "    increase_gpu_memory, \n",
    "    set_gpu_allocator, \n",
    "    clear_session,\n",
    "    set_mixed_precision\n",
    ")\n",
    "from auxiliary import imaging \n"
   ],
   "id": "5c5e8c0d80428b8b",
   "outputs": [],
   "execution_count": 1
  },
  {
   "metadata": {},
   "cell_type": "markdown",
   "source": "### Data",
   "id": "705339edbf072fe9"
  },
  {
   "metadata": {
    "ExecuteTime": {
     "end_time": "2024-07-17T15:08:07.956323Z",
     "start_time": "2024-07-17T15:08:01.926504Z"
    }
   },
   "cell_type": "code",
   "source": [
    "img_name = '20190806_E6_DAPI_decon_0'\n",
    "img_path = v.data_path + f'/Gr4/RawImages/Nuclei/{img_name}.5.nii.gz'\n",
    "test_img = imaging.read_nii(img_path)"
   ],
   "id": "aa43ca673883b51b",
   "outputs": [],
   "execution_count": 2
  },
  {
   "metadata": {
    "ExecuteTime": {
     "end_time": "2024-07-17T15:08:24.858379Z",
     "start_time": "2024-07-17T15:08:07.958015Z"
    }
   },
   "cell_type": "code",
   "source": [
    "import cv2 \n",
    "\n",
    "test_img = test_img.astype(np.uint8).reshape(\n",
    "    test_img.shape[0], \n",
    "    test_img.shape[1], \n",
    "    test_img.shape[2]\n",
    ")\n",
    "\n",
    "# aux = np.zeros((512, 512, test_img.shape[2]))\n",
    "# for i in range(test_img.shape[2]):\n",
    "#     aux[..., i] = cv2.resize(test_img[..., i], (512, 512))\n",
    "test_img_norm = normalize(test_img, 1, 99.8, axis=(0, 1, 2))"
   ],
   "id": "bdc2982b77a5a44f",
   "outputs": [],
   "execution_count": 3
  },
  {
   "metadata": {
    "ExecuteTime": {
     "end_time": "2024-07-17T15:08:24.864666Z",
     "start_time": "2024-07-17T15:08:24.860107Z"
    }
   },
   "cell_type": "code",
   "source": "print(test_img_norm.shape)",
   "id": "a4b462593958b694",
   "outputs": [
    {
     "name": "stdout",
     "output_type": "stream",
     "text": [
      "(1024, 1024, 548)\n"
     ]
    }
   ],
   "execution_count": 4
  },
  {
   "metadata": {},
   "cell_type": "markdown",
   "source": "### Model",
   "id": "d36fc23b785acff5"
  },
  {
   "metadata": {
    "ExecuteTime": {
     "end_time": "2024-07-17T15:08:25.044886Z",
     "start_time": "2024-07-17T15:08:24.867210Z"
    }
   },
   "cell_type": "code",
   "source": [
    "# set_mixed_precision()\n",
    "increase_gpu_memory()\n",
    "set_gpu_allocator()"
   ],
   "id": "e13e8924043158ea",
   "outputs": [],
   "execution_count": 5
  },
  {
   "metadata": {
    "ExecuteTime": {
     "end_time": "2024-07-17T15:08:25.684455Z",
     "start_time": "2024-07-17T15:08:25.046328Z"
    }
   },
   "cell_type": "code",
   "source": [
    "from stardist.models import StarDist3D\n",
    "\n",
    "model_idx = 0\n",
    "model_names = [\n",
    "    'n1_stardist_96_(1.6, 1, 1)_(48, 64, 64)_(1, 1, 1)',\n",
    "    'n2_stardist_96_(1.6, 1, 1)_(48, 64, 64)_(1, 1, 1)',\n",
    "    'n3_stardist_96_(1.6, 1, 1)_(48, 64, 64)_(1, 1, 1)'\n",
    "]\n",
    "\n",
    "model_path = 'models/' + model_names[model_idx] + '/'\n",
    "model = StarDist3D(None, name=model_names[model_idx], basedir='models')"
   ],
   "id": "598cfc259fa20d94",
   "outputs": [
    {
     "name": "stdout",
     "output_type": "stream",
     "text": [
      "Loading network weights from 'weights_best.h5'.\n",
      "Loading thresholds from 'thresholds.json'.\n",
      "Using default values: prob_thresh=0.587371, nms_thresh=0.3.\n"
     ]
    }
   ],
   "execution_count": 6
  },
  {
   "metadata": {
    "ExecuteTime": {
     "end_time": "2024-07-17T15:17:33.273968Z",
     "start_time": "2024-07-17T15:17:09.282351Z"
    }
   },
   "cell_type": "code",
   "source": [
    "### Predictions and measure metrics\n",
    "import tensorflow as tf\n",
    "\n",
    "\n",
    "clear_session()\n",
    "\n",
    "tf.debugging.set_log_device_placement(True)\n",
    "strategy = tf.distribute.MirroredStrategy() \n",
    "\n",
    "with strategy.scope():\n",
    "    labels, details = model.predict_instances(test_img_norm)"
   ],
   "id": "2612c0bf6cf9888f",
   "outputs": [
    {
     "name": "stdout",
     "output_type": "stream",
     "text": [
      "INFO:tensorflow:Using MirroredStrategy with devices ('/job:localhost/replica:0/task:0/device:GPU:0', '/job:localhost/replica:0/task:0/device:GPU:1')\n"
     ]
    },
    {
     "name": "stderr",
     "output_type": "stream",
     "text": [
      "2024-07-17 17:17:33.184681: E tensorflow/compiler/xla/stream_executor/gpu/gpu_cudamallocasync_allocator.cc:306] gpu_async_0 cuMemAllocAsync failed to allocate 73551314944 bytes: CUDA error: out of memory (CUDA_ERROR_OUT_OF_MEMORY)\n",
      " Reported by CUDA: Free memory/Total memory: 3427270656/8169717760\n",
      "2024-07-17 17:17:33.184723: E tensorflow/compiler/xla/stream_executor/gpu/gpu_cudamallocasync_allocator.cc:311] Stats: Limit:                      8589934592\n",
      "InUse:                      4601438218\n",
      "MaxInUse:                   4601438227\n",
      "NumAllocs:                         150\n",
      "MaxAllocSize:               2298478592\n",
      "Reserved:                            0\n",
      "PeakReserved:                        0\n",
      "LargestFreeBlock:                    0\n",
      "\n",
      "2024-07-17 17:17:33.184738: E tensorflow/compiler/xla/stream_executor/gpu/gpu_cudamallocasync_allocator.cc:63] Histogram of current allocation: (allocation_size_in_bytes, nb_allocation_of_that_sizes), ...;\n",
      "2024-07-17 17:17:33.184746: E tensorflow/compiler/xla/stream_executor/gpu/gpu_cudamallocasync_allocator.cc:66] 1, 2\n",
      "2024-07-17 17:17:33.184752: E tensorflow/compiler/xla/stream_executor/gpu/gpu_cudamallocasync_allocator.cc:66] 4, 19\n",
      "2024-07-17 17:17:33.184758: E tensorflow/compiler/xla/stream_executor/gpu/gpu_cudamallocasync_allocator.cc:66] 8, 7\n",
      "2024-07-17 17:17:33.184763: E tensorflow/compiler/xla/stream_executor/gpu/gpu_cudamallocasync_allocator.cc:66] 128, 5\n",
      "2024-07-17 17:17:33.184769: E tensorflow/compiler/xla/stream_executor/gpu/gpu_cudamallocasync_allocator.cc:66] 256, 4\n",
      "2024-07-17 17:17:33.184775: E tensorflow/compiler/xla/stream_executor/gpu/gpu_cudamallocasync_allocator.cc:66] 384, 1\n",
      "2024-07-17 17:17:33.184781: E tensorflow/compiler/xla/stream_executor/gpu/gpu_cudamallocasync_allocator.cc:66] 512, 3\n",
      "2024-07-17 17:17:33.184786: E tensorflow/compiler/xla/stream_executor/gpu/gpu_cudamallocasync_allocator.cc:66] 1028, 1\n",
      "2024-07-17 17:17:33.184792: E tensorflow/compiler/xla/stream_executor/gpu/gpu_cudamallocasync_allocator.cc:66] 3456, 1\n",
      "2024-07-17 17:17:33.184798: E tensorflow/compiler/xla/stream_executor/gpu/gpu_cudamallocasync_allocator.cc:66] 49152, 1\n",
      "2024-07-17 17:17:33.184803: E tensorflow/compiler/xla/stream_executor/gpu/gpu_cudamallocasync_allocator.cc:66] 110592, 2\n",
      "2024-07-17 17:17:33.184809: E tensorflow/compiler/xla/stream_executor/gpu/gpu_cudamallocasync_allocator.cc:66] 221184, 3\n",
      "2024-07-17 17:17:33.184814: E tensorflow/compiler/xla/stream_executor/gpu/gpu_cudamallocasync_allocator.cc:66] 442368, 2\n",
      "2024-07-17 17:17:33.184820: E tensorflow/compiler/xla/stream_executor/gpu/gpu_cudamallocasync_allocator.cc:66] 884736, 3\n",
      "2024-07-17 17:17:33.184826: E tensorflow/compiler/xla/stream_executor/gpu/gpu_cudamallocasync_allocator.cc:66] 2298478592, 2\n",
      "2024-07-17 17:17:33.184835: E tensorflow/compiler/xla/stream_executor/gpu/gpu_cudamallocasync_allocator.cc:97] CU_MEMPOOL_ATTR_RESERVED_MEM_CURRENT: 4630511616\n",
      "2024-07-17 17:17:33.184842: E tensorflow/compiler/xla/stream_executor/gpu/gpu_cudamallocasync_allocator.cc:99] CU_MEMPOOL_ATTR_USED_MEM_CURRENT: 4601438218\n",
      "2024-07-17 17:17:33.184848: E tensorflow/compiler/xla/stream_executor/gpu/gpu_cudamallocasync_allocator.cc:100] CU_MEMPOOL_ATTR_RESERVED_MEM_HIGH: 4630511616\n",
      "2024-07-17 17:17:33.184854: E tensorflow/compiler/xla/stream_executor/gpu/gpu_cudamallocasync_allocator.cc:101] CU_MEMPOOL_ATTR_USED_MEM_HIGH: 4601438227\n"
     ]
    },
    {
     "ename": "ResourceExhaustedError",
     "evalue": "Graph execution error:\n\nDetected at node 'model/down_level_0_no_0/Conv3D' defined at (most recent call last):\n    File \"/home/imarcoss/mambaforge/envs/py310ml/lib/python3.10/threading.py\", line 973, in _bootstrap\n      self._bootstrap_inner()\n    File \"/home/imarcoss/mambaforge/envs/py310ml/lib/python3.10/threading.py\", line 1016, in _bootstrap_inner\n      self.run()\n    File \"/home/imarcoss/mambaforge/envs/py310ml/lib/python3.10/site-packages/keras/engine/training.py\", line 2143, in run_step\n      outputs = model.predict_step(data)\n    File \"/home/imarcoss/mambaforge/envs/py310ml/lib/python3.10/site-packages/keras/engine/training.py\", line 2111, in predict_step\n      return self(x, training=False)\n    File \"/home/imarcoss/mambaforge/envs/py310ml/lib/python3.10/site-packages/keras/utils/traceback_utils.py\", line 65, in error_handler\n      return fn(*args, **kwargs)\n    File \"/home/imarcoss/mambaforge/envs/py310ml/lib/python3.10/site-packages/keras/engine/training.py\", line 558, in __call__\n      return super().__call__(*args, **kwargs)\n    File \"/home/imarcoss/mambaforge/envs/py310ml/lib/python3.10/site-packages/keras/utils/traceback_utils.py\", line 65, in error_handler\n      return fn(*args, **kwargs)\n    File \"/home/imarcoss/mambaforge/envs/py310ml/lib/python3.10/site-packages/keras/engine/base_layer.py\", line 1145, in __call__\n      outputs = call_fn(inputs, *args, **kwargs)\n    File \"/home/imarcoss/mambaforge/envs/py310ml/lib/python3.10/site-packages/keras/utils/traceback_utils.py\", line 96, in error_handler\n      return fn(*args, **kwargs)\n    File \"/home/imarcoss/mambaforge/envs/py310ml/lib/python3.10/site-packages/keras/engine/functional.py\", line 512, in call\n      return self._run_internal_graph(inputs, training=training, mask=mask)\n    File \"/home/imarcoss/mambaforge/envs/py310ml/lib/python3.10/site-packages/keras/engine/functional.py\", line 669, in _run_internal_graph\n      outputs = node.layer(*args, **kwargs)\n    File \"/home/imarcoss/mambaforge/envs/py310ml/lib/python3.10/site-packages/keras/utils/traceback_utils.py\", line 65, in error_handler\n      return fn(*args, **kwargs)\n    File \"/home/imarcoss/mambaforge/envs/py310ml/lib/python3.10/site-packages/keras/engine/base_layer.py\", line 1145, in __call__\n      outputs = call_fn(inputs, *args, **kwargs)\n    File \"/home/imarcoss/mambaforge/envs/py310ml/lib/python3.10/site-packages/keras/utils/traceback_utils.py\", line 96, in error_handler\n      return fn(*args, **kwargs)\n    File \"/home/imarcoss/mambaforge/envs/py310ml/lib/python3.10/site-packages/keras/layers/convolutional/base_conv.py\", line 290, in call\n      outputs = self.convolution_op(inputs, self.kernel)\n    File \"/home/imarcoss/mambaforge/envs/py310ml/lib/python3.10/site-packages/keras/layers/convolutional/base_conv.py\", line 262, in convolution_op\n      return tf.nn.convolution(\nNode: 'model/down_level_0_no_0/Conv3D'\nDetected at node 'model/down_level_0_no_0/Conv3D' defined at (most recent call last):\n    File \"/home/imarcoss/mambaforge/envs/py310ml/lib/python3.10/threading.py\", line 973, in _bootstrap\n      self._bootstrap_inner()\n    File \"/home/imarcoss/mambaforge/envs/py310ml/lib/python3.10/threading.py\", line 1016, in _bootstrap_inner\n      self.run()\n    File \"/home/imarcoss/mambaforge/envs/py310ml/lib/python3.10/site-packages/keras/engine/training.py\", line 2143, in run_step\n      outputs = model.predict_step(data)\n    File \"/home/imarcoss/mambaforge/envs/py310ml/lib/python3.10/site-packages/keras/engine/training.py\", line 2111, in predict_step\n      return self(x, training=False)\n    File \"/home/imarcoss/mambaforge/envs/py310ml/lib/python3.10/site-packages/keras/utils/traceback_utils.py\", line 65, in error_handler\n      return fn(*args, **kwargs)\n    File \"/home/imarcoss/mambaforge/envs/py310ml/lib/python3.10/site-packages/keras/engine/training.py\", line 558, in __call__\n      return super().__call__(*args, **kwargs)\n    File \"/home/imarcoss/mambaforge/envs/py310ml/lib/python3.10/site-packages/keras/utils/traceback_utils.py\", line 65, in error_handler\n      return fn(*args, **kwargs)\n    File \"/home/imarcoss/mambaforge/envs/py310ml/lib/python3.10/site-packages/keras/engine/base_layer.py\", line 1145, in __call__\n      outputs = call_fn(inputs, *args, **kwargs)\n    File \"/home/imarcoss/mambaforge/envs/py310ml/lib/python3.10/site-packages/keras/utils/traceback_utils.py\", line 96, in error_handler\n      return fn(*args, **kwargs)\n    File \"/home/imarcoss/mambaforge/envs/py310ml/lib/python3.10/site-packages/keras/engine/functional.py\", line 512, in call\n      return self._run_internal_graph(inputs, training=training, mask=mask)\n    File \"/home/imarcoss/mambaforge/envs/py310ml/lib/python3.10/site-packages/keras/engine/functional.py\", line 669, in _run_internal_graph\n      outputs = node.layer(*args, **kwargs)\n    File \"/home/imarcoss/mambaforge/envs/py310ml/lib/python3.10/site-packages/keras/utils/traceback_utils.py\", line 65, in error_handler\n      return fn(*args, **kwargs)\n    File \"/home/imarcoss/mambaforge/envs/py310ml/lib/python3.10/site-packages/keras/engine/base_layer.py\", line 1145, in __call__\n      outputs = call_fn(inputs, *args, **kwargs)\n    File \"/home/imarcoss/mambaforge/envs/py310ml/lib/python3.10/site-packages/keras/utils/traceback_utils.py\", line 96, in error_handler\n      return fn(*args, **kwargs)\n    File \"/home/imarcoss/mambaforge/envs/py310ml/lib/python3.10/site-packages/keras/layers/convolutional/base_conv.py\", line 290, in call\n      outputs = self.convolution_op(inputs, self.kernel)\n    File \"/home/imarcoss/mambaforge/envs/py310ml/lib/python3.10/site-packages/keras/layers/convolutional/base_conv.py\", line 262, in convolution_op\n      return tf.nn.convolution(\nNode: 'model/down_level_0_no_0/Conv3D'\n2 root error(s) found.\n  (0) RESOURCE_EXHAUSTED:  OOM when allocating tensor with shape[1,32,1024,1024,548] and type float on /job:localhost/replica:0/task:0/device:GPU:0 by allocator gpu_async_0\n\t [[{{node model/down_level_0_no_0/Conv3D}}]]\nHint: If you want to see a list of allocated tensors when OOM happens, add report_tensor_allocations_upon_oom to RunOptions for current allocation info. This isn't available when running in Eager mode.\n\n\t [[replica_1/model/dist/BiasAdd/_89]]\nHint: If you want to see a list of allocated tensors when OOM happens, add report_tensor_allocations_upon_oom to RunOptions for current allocation info. This isn't available when running in Eager mode.\n\n  (1) RESOURCE_EXHAUSTED:  OOM when allocating tensor with shape[1,32,1024,1024,548] and type float on /job:localhost/replica:0/task:0/device:GPU:0 by allocator gpu_async_0\n\t [[{{node model/down_level_0_no_0/Conv3D}}]]\nHint: If you want to see a list of allocated tensors when OOM happens, add report_tensor_allocations_upon_oom to RunOptions for current allocation info. This isn't available when running in Eager mode.\n\n0 successful operations.\n0 derived errors ignored. [Op:__inference_predict_function_4858]",
     "output_type": "error",
     "traceback": [
      "\u001B[0;31m---------------------------------------------------------------------------\u001B[0m",
      "\u001B[0;31mResourceExhaustedError\u001B[0m                    Traceback (most recent call last)",
      "Cell \u001B[0;32mIn[8], line 11\u001B[0m\n\u001B[1;32m      8\u001B[0m strategy \u001B[38;5;241m=\u001B[39m tf\u001B[38;5;241m.\u001B[39mdistribute\u001B[38;5;241m.\u001B[39mMirroredStrategy() \n\u001B[1;32m     10\u001B[0m \u001B[38;5;28;01mwith\u001B[39;00m strategy\u001B[38;5;241m.\u001B[39mscope():\n\u001B[0;32m---> 11\u001B[0m     labels, details \u001B[38;5;241m=\u001B[39m \u001B[43mmodel\u001B[49m\u001B[38;5;241;43m.\u001B[39;49m\u001B[43mpredict_instances\u001B[49m\u001B[43m(\u001B[49m\u001B[43mtest_img_norm\u001B[49m\u001B[43m)\u001B[49m\n",
      "File \u001B[0;32m~/mambaforge/envs/py310ml/lib/python3.10/site-packages/stardist/models/base.py:788\u001B[0m, in \u001B[0;36mStarDistBase.predict_instances\u001B[0;34m(self, *args, **kwargs)\u001B[0m\n\u001B[1;32m    775\u001B[0m \u001B[38;5;129m@functools\u001B[39m\u001B[38;5;241m.\u001B[39mwraps(_predict_instances_generator)\n\u001B[1;32m    776\u001B[0m \u001B[38;5;28;01mdef\u001B[39;00m \u001B[38;5;21mpredict_instances\u001B[39m(\u001B[38;5;28mself\u001B[39m, \u001B[38;5;241m*\u001B[39margs, \u001B[38;5;241m*\u001B[39m\u001B[38;5;241m*\u001B[39mkwargs):\n\u001B[1;32m    777\u001B[0m     \u001B[38;5;66;03m# the reason why the actual computation happens as a generator function\u001B[39;00m\n\u001B[0;32m   (...)\u001B[0m\n\u001B[1;32m    785\u001B[0m \n\u001B[1;32m    786\u001B[0m     \u001B[38;5;66;03m# return last \"yield\"ed value of generator\u001B[39;00m\n\u001B[1;32m    787\u001B[0m     r \u001B[38;5;241m=\u001B[39m \u001B[38;5;28;01mNone\u001B[39;00m\n\u001B[0;32m--> 788\u001B[0m     \u001B[38;5;28;01mfor\u001B[39;00m r \u001B[38;5;129;01min\u001B[39;00m \u001B[38;5;28mself\u001B[39m\u001B[38;5;241m.\u001B[39m_predict_instances_generator(\u001B[38;5;241m*\u001B[39margs, \u001B[38;5;241m*\u001B[39m\u001B[38;5;241m*\u001B[39mkwargs):\n\u001B[1;32m    789\u001B[0m         \u001B[38;5;28;01mpass\u001B[39;00m\n\u001B[1;32m    790\u001B[0m     \u001B[38;5;28;01mreturn\u001B[39;00m r\n",
      "File \u001B[0;32m~/mambaforge/envs/py310ml/lib/python3.10/site-packages/stardist/models/base.py:740\u001B[0m, in \u001B[0;36mStarDistBase._predict_instances_generator\u001B[0;34m(self, img, axes, normalizer, sparse, prob_thresh, nms_thresh, scale, n_tiles, show_tile_progress, verbose, return_labels, predict_kwargs, nms_kwargs, overlap_label, return_predict)\u001B[0m\n\u001B[1;32m    738\u001B[0m res \u001B[38;5;241m=\u001B[39m \u001B[38;5;28;01mNone\u001B[39;00m\n\u001B[1;32m    739\u001B[0m \u001B[38;5;28;01mif\u001B[39;00m sparse:\n\u001B[0;32m--> 740\u001B[0m     \u001B[38;5;28;01mfor\u001B[39;00m res \u001B[38;5;129;01min\u001B[39;00m \u001B[38;5;28mself\u001B[39m\u001B[38;5;241m.\u001B[39m_predict_sparse_generator(img, axes\u001B[38;5;241m=\u001B[39maxes, normalizer\u001B[38;5;241m=\u001B[39mnormalizer, n_tiles\u001B[38;5;241m=\u001B[39mn_tiles,\n\u001B[1;32m    741\u001B[0m                                               prob_thresh\u001B[38;5;241m=\u001B[39mprob_thresh, show_tile_progress\u001B[38;5;241m=\u001B[39mshow_tile_progress, \u001B[38;5;241m*\u001B[39m\u001B[38;5;241m*\u001B[39mpredict_kwargs):\n\u001B[1;32m    742\u001B[0m         \u001B[38;5;28;01mif\u001B[39;00m res \u001B[38;5;129;01mis\u001B[39;00m \u001B[38;5;28;01mNone\u001B[39;00m:\n\u001B[1;32m    743\u001B[0m             \u001B[38;5;28;01myield\u001B[39;00m \u001B[38;5;124m'\u001B[39m\u001B[38;5;124mtile\u001B[39m\u001B[38;5;124m'\u001B[39m  \u001B[38;5;66;03m# yield 'tile' each time a tile has been processed\u001B[39;00m\n",
      "File \u001B[0;32m~/mambaforge/envs/py310ml/lib/python3.10/site-packages/stardist/models/base.py:603\u001B[0m, in \u001B[0;36mStarDistBase._predict_sparse_generator\u001B[0;34m(self, img, prob_thresh, axes, normalizer, n_tiles, show_tile_progress, b, **predict_kwargs)\u001B[0m\n\u001B[1;32m    599\u001B[0m         \u001B[38;5;28;01myield\u001B[39;00m  \u001B[38;5;66;03m# yield None after each processed tile\u001B[39;00m\n\u001B[1;32m    601\u001B[0m \u001B[38;5;28;01melse\u001B[39;00m:\n\u001B[1;32m    602\u001B[0m     \u001B[38;5;66;03m# predict_direct -> prob, dist, [prob_class if multi_class]\u001B[39;00m\n\u001B[0;32m--> 603\u001B[0m     results \u001B[38;5;241m=\u001B[39m \u001B[43mpredict_direct\u001B[49m\u001B[43m(\u001B[49m\u001B[43mx\u001B[49m\u001B[43m)\u001B[49m\n\u001B[1;32m    604\u001B[0m     prob, dist \u001B[38;5;241m=\u001B[39m results[:\u001B[38;5;241m2\u001B[39m]\n\u001B[1;32m    605\u001B[0m     prob, dist \u001B[38;5;241m=\u001B[39m _prep(prob, dist)\n",
      "File \u001B[0;32m~/mambaforge/envs/py310ml/lib/python3.10/site-packages/stardist/models/base.py:409\u001B[0m, in \u001B[0;36mStarDistBase._predict_setup.<locals>.predict_direct\u001B[0;34m(x)\u001B[0m\n\u001B[1;32m    408\u001B[0m \u001B[38;5;28;01mdef\u001B[39;00m \u001B[38;5;21mpredict_direct\u001B[39m(x):\n\u001B[0;32m--> 409\u001B[0m     ys \u001B[38;5;241m=\u001B[39m \u001B[38;5;28;43mself\u001B[39;49m\u001B[38;5;241;43m.\u001B[39;49m\u001B[43mkeras_model\u001B[49m\u001B[38;5;241;43m.\u001B[39;49m\u001B[43mpredict\u001B[49m\u001B[43m(\u001B[49m\u001B[43mx\u001B[49m\u001B[43m[\u001B[49m\u001B[43mnp\u001B[49m\u001B[38;5;241;43m.\u001B[39;49m\u001B[43mnewaxis\u001B[49m\u001B[43m]\u001B[49m\u001B[43m,\u001B[49m\u001B[43m \u001B[49m\u001B[38;5;241;43m*\u001B[39;49m\u001B[38;5;241;43m*\u001B[39;49m\u001B[43mpredict_kwargs\u001B[49m\u001B[43m)\u001B[49m\n\u001B[1;32m    410\u001B[0m     \u001B[38;5;28;01mreturn\u001B[39;00m \u001B[38;5;28mtuple\u001B[39m(y[\u001B[38;5;241m0\u001B[39m] \u001B[38;5;28;01mfor\u001B[39;00m y \u001B[38;5;129;01min\u001B[39;00m ys)\n",
      "File \u001B[0;32m~/mambaforge/envs/py310ml/lib/python3.10/site-packages/keras/utils/traceback_utils.py:70\u001B[0m, in \u001B[0;36mfilter_traceback.<locals>.error_handler\u001B[0;34m(*args, **kwargs)\u001B[0m\n\u001B[1;32m     67\u001B[0m     filtered_tb \u001B[38;5;241m=\u001B[39m _process_traceback_frames(e\u001B[38;5;241m.\u001B[39m__traceback__)\n\u001B[1;32m     68\u001B[0m     \u001B[38;5;66;03m# To get the full stack trace, call:\u001B[39;00m\n\u001B[1;32m     69\u001B[0m     \u001B[38;5;66;03m# `tf.debugging.disable_traceback_filtering()`\u001B[39;00m\n\u001B[0;32m---> 70\u001B[0m     \u001B[38;5;28;01mraise\u001B[39;00m e\u001B[38;5;241m.\u001B[39mwith_traceback(filtered_tb) \u001B[38;5;28;01mfrom\u001B[39;00m \u001B[38;5;28;01mNone\u001B[39;00m\n\u001B[1;32m     71\u001B[0m \u001B[38;5;28;01mfinally\u001B[39;00m:\n\u001B[1;32m     72\u001B[0m     \u001B[38;5;28;01mdel\u001B[39;00m filtered_tb\n",
      "File \u001B[0;32m~/mambaforge/envs/py310ml/lib/python3.10/site-packages/tensorflow/python/eager/execute.py:52\u001B[0m, in \u001B[0;36mquick_execute\u001B[0;34m(op_name, num_outputs, inputs, attrs, ctx, name)\u001B[0m\n\u001B[1;32m     50\u001B[0m \u001B[38;5;28;01mtry\u001B[39;00m:\n\u001B[1;32m     51\u001B[0m   ctx\u001B[38;5;241m.\u001B[39mensure_initialized()\n\u001B[0;32m---> 52\u001B[0m   tensors \u001B[38;5;241m=\u001B[39m pywrap_tfe\u001B[38;5;241m.\u001B[39mTFE_Py_Execute(ctx\u001B[38;5;241m.\u001B[39m_handle, device_name, op_name,\n\u001B[1;32m     53\u001B[0m                                       inputs, attrs, num_outputs)\n\u001B[1;32m     54\u001B[0m \u001B[38;5;28;01mexcept\u001B[39;00m core\u001B[38;5;241m.\u001B[39m_NotOkStatusException \u001B[38;5;28;01mas\u001B[39;00m e:\n\u001B[1;32m     55\u001B[0m   \u001B[38;5;28;01mif\u001B[39;00m name \u001B[38;5;129;01mis\u001B[39;00m \u001B[38;5;129;01mnot\u001B[39;00m \u001B[38;5;28;01mNone\u001B[39;00m:\n",
      "\u001B[0;31mResourceExhaustedError\u001B[0m: Graph execution error:\n\nDetected at node 'model/down_level_0_no_0/Conv3D' defined at (most recent call last):\n    File \"/home/imarcoss/mambaforge/envs/py310ml/lib/python3.10/threading.py\", line 973, in _bootstrap\n      self._bootstrap_inner()\n    File \"/home/imarcoss/mambaforge/envs/py310ml/lib/python3.10/threading.py\", line 1016, in _bootstrap_inner\n      self.run()\n    File \"/home/imarcoss/mambaforge/envs/py310ml/lib/python3.10/site-packages/keras/engine/training.py\", line 2143, in run_step\n      outputs = model.predict_step(data)\n    File \"/home/imarcoss/mambaforge/envs/py310ml/lib/python3.10/site-packages/keras/engine/training.py\", line 2111, in predict_step\n      return self(x, training=False)\n    File \"/home/imarcoss/mambaforge/envs/py310ml/lib/python3.10/site-packages/keras/utils/traceback_utils.py\", line 65, in error_handler\n      return fn(*args, **kwargs)\n    File \"/home/imarcoss/mambaforge/envs/py310ml/lib/python3.10/site-packages/keras/engine/training.py\", line 558, in __call__\n      return super().__call__(*args, **kwargs)\n    File \"/home/imarcoss/mambaforge/envs/py310ml/lib/python3.10/site-packages/keras/utils/traceback_utils.py\", line 65, in error_handler\n      return fn(*args, **kwargs)\n    File \"/home/imarcoss/mambaforge/envs/py310ml/lib/python3.10/site-packages/keras/engine/base_layer.py\", line 1145, in __call__\n      outputs = call_fn(inputs, *args, **kwargs)\n    File \"/home/imarcoss/mambaforge/envs/py310ml/lib/python3.10/site-packages/keras/utils/traceback_utils.py\", line 96, in error_handler\n      return fn(*args, **kwargs)\n    File \"/home/imarcoss/mambaforge/envs/py310ml/lib/python3.10/site-packages/keras/engine/functional.py\", line 512, in call\n      return self._run_internal_graph(inputs, training=training, mask=mask)\n    File \"/home/imarcoss/mambaforge/envs/py310ml/lib/python3.10/site-packages/keras/engine/functional.py\", line 669, in _run_internal_graph\n      outputs = node.layer(*args, **kwargs)\n    File \"/home/imarcoss/mambaforge/envs/py310ml/lib/python3.10/site-packages/keras/utils/traceback_utils.py\", line 65, in error_handler\n      return fn(*args, **kwargs)\n    File \"/home/imarcoss/mambaforge/envs/py310ml/lib/python3.10/site-packages/keras/engine/base_layer.py\", line 1145, in __call__\n      outputs = call_fn(inputs, *args, **kwargs)\n    File \"/home/imarcoss/mambaforge/envs/py310ml/lib/python3.10/site-packages/keras/utils/traceback_utils.py\", line 96, in error_handler\n      return fn(*args, **kwargs)\n    File \"/home/imarcoss/mambaforge/envs/py310ml/lib/python3.10/site-packages/keras/layers/convolutional/base_conv.py\", line 290, in call\n      outputs = self.convolution_op(inputs, self.kernel)\n    File \"/home/imarcoss/mambaforge/envs/py310ml/lib/python3.10/site-packages/keras/layers/convolutional/base_conv.py\", line 262, in convolution_op\n      return tf.nn.convolution(\nNode: 'model/down_level_0_no_0/Conv3D'\nDetected at node 'model/down_level_0_no_0/Conv3D' defined at (most recent call last):\n    File \"/home/imarcoss/mambaforge/envs/py310ml/lib/python3.10/threading.py\", line 973, in _bootstrap\n      self._bootstrap_inner()\n    File \"/home/imarcoss/mambaforge/envs/py310ml/lib/python3.10/threading.py\", line 1016, in _bootstrap_inner\n      self.run()\n    File \"/home/imarcoss/mambaforge/envs/py310ml/lib/python3.10/site-packages/keras/engine/training.py\", line 2143, in run_step\n      outputs = model.predict_step(data)\n    File \"/home/imarcoss/mambaforge/envs/py310ml/lib/python3.10/site-packages/keras/engine/training.py\", line 2111, in predict_step\n      return self(x, training=False)\n    File \"/home/imarcoss/mambaforge/envs/py310ml/lib/python3.10/site-packages/keras/utils/traceback_utils.py\", line 65, in error_handler\n      return fn(*args, **kwargs)\n    File \"/home/imarcoss/mambaforge/envs/py310ml/lib/python3.10/site-packages/keras/engine/training.py\", line 558, in __call__\n      return super().__call__(*args, **kwargs)\n    File \"/home/imarcoss/mambaforge/envs/py310ml/lib/python3.10/site-packages/keras/utils/traceback_utils.py\", line 65, in error_handler\n      return fn(*args, **kwargs)\n    File \"/home/imarcoss/mambaforge/envs/py310ml/lib/python3.10/site-packages/keras/engine/base_layer.py\", line 1145, in __call__\n      outputs = call_fn(inputs, *args, **kwargs)\n    File \"/home/imarcoss/mambaforge/envs/py310ml/lib/python3.10/site-packages/keras/utils/traceback_utils.py\", line 96, in error_handler\n      return fn(*args, **kwargs)\n    File \"/home/imarcoss/mambaforge/envs/py310ml/lib/python3.10/site-packages/keras/engine/functional.py\", line 512, in call\n      return self._run_internal_graph(inputs, training=training, mask=mask)\n    File \"/home/imarcoss/mambaforge/envs/py310ml/lib/python3.10/site-packages/keras/engine/functional.py\", line 669, in _run_internal_graph\n      outputs = node.layer(*args, **kwargs)\n    File \"/home/imarcoss/mambaforge/envs/py310ml/lib/python3.10/site-packages/keras/utils/traceback_utils.py\", line 65, in error_handler\n      return fn(*args, **kwargs)\n    File \"/home/imarcoss/mambaforge/envs/py310ml/lib/python3.10/site-packages/keras/engine/base_layer.py\", line 1145, in __call__\n      outputs = call_fn(inputs, *args, **kwargs)\n    File \"/home/imarcoss/mambaforge/envs/py310ml/lib/python3.10/site-packages/keras/utils/traceback_utils.py\", line 96, in error_handler\n      return fn(*args, **kwargs)\n    File \"/home/imarcoss/mambaforge/envs/py310ml/lib/python3.10/site-packages/keras/layers/convolutional/base_conv.py\", line 290, in call\n      outputs = self.convolution_op(inputs, self.kernel)\n    File \"/home/imarcoss/mambaforge/envs/py310ml/lib/python3.10/site-packages/keras/layers/convolutional/base_conv.py\", line 262, in convolution_op\n      return tf.nn.convolution(\nNode: 'model/down_level_0_no_0/Conv3D'\n2 root error(s) found.\n  (0) RESOURCE_EXHAUSTED:  OOM when allocating tensor with shape[1,32,1024,1024,548] and type float on /job:localhost/replica:0/task:0/device:GPU:0 by allocator gpu_async_0\n\t [[{{node model/down_level_0_no_0/Conv3D}}]]\nHint: If you want to see a list of allocated tensors when OOM happens, add report_tensor_allocations_upon_oom to RunOptions for current allocation info. This isn't available when running in Eager mode.\n\n\t [[replica_1/model/dist/BiasAdd/_89]]\nHint: If you want to see a list of allocated tensors when OOM happens, add report_tensor_allocations_upon_oom to RunOptions for current allocation info. This isn't available when running in Eager mode.\n\n  (1) RESOURCE_EXHAUSTED:  OOM when allocating tensor with shape[1,32,1024,1024,548] and type float on /job:localhost/replica:0/task:0/device:GPU:0 by allocator gpu_async_0\n\t [[{{node model/down_level_0_no_0/Conv3D}}]]\nHint: If you want to see a list of allocated tensors when OOM happens, add report_tensor_allocations_upon_oom to RunOptions for current allocation info. This isn't available when running in Eager mode.\n\n0 successful operations.\n0 derived errors ignored. [Op:__inference_predict_function_4858]"
     ]
    }
   ],
   "execution_count": 8
  },
  {
   "metadata": {},
   "cell_type": "markdown",
   "source": "Save img",
   "id": "5cc40c3cf8405e98"
  },
  {
   "metadata": {},
   "cell_type": "code",
   "source": [
    "# segmented_image = nib.Nifti1Image(labels, X[idx].affine)\n",
    "# file_name = re.search(r'([^/\\\\]+)(?=\\.\\w+\\.\\w+$)', X_names[0]).group()\n",
    "# nib.save(segmented_image, f'../data/Gr4/Predictions/Stardist/{file_name}.nii.gz')"
   ],
   "id": "a99a1c21b59b765",
   "outputs": [],
   "execution_count": null
  },
  {
   "metadata": {},
   "cell_type": "markdown",
   "source": "Plots",
   "id": "3491ab66fd0e8857"
  },
  {
   "metadata": {},
   "cell_type": "code",
   "source": [
    "plt.figure(figsize=(16,10))\n",
    "plt.subplot(121); plt.imshow(test_img, cmap='gray'); plt.axis('off'); plt.title('Raw image')\n",
    "plt.subplot(122); plt.imshow(render_label(labels, img=test_img)); plt.axis('off'); plt.title('Predicted labels')\n",
    "plt.tight_layout()\n",
    "plt.show()"
   ],
   "id": "220928dd424481e6",
   "outputs": [],
   "execution_count": null
  },
  {
   "metadata": {},
   "cell_type": "code",
   "outputs": [],
   "execution_count": null,
   "source": [
    "# plt.figure(figsize=(13,10))\n",
    "# z = max(0, img.shape[0] // 2 - 5)\n",
    "# plt.subplot(121)\n",
    "# plt.imshow((img if img.ndim==3 else img[...,:3])[z], clim=(0,1), cmap='gray')\n",
    "# plt.title('Raw image (XY slice)')\n",
    "# plt.axis('off')\n",
    "# plt.subplot(122)\n",
    "# plt.imshow((img if img.ndim==3 else img[...,:3])[z], clim=(0,1), cmap='gray')\n",
    "# plt.imshow(labels[z], cmap=lbl_cmap, alpha=0.5)\n",
    "# plt.title('Image and predicted labels (XY slice)')\n",
    "# plt.axis('off');"
   ],
   "id": "90a31e5d70458557"
  }
 ],
 "metadata": {
  "kernelspec": {
   "display_name": "Python 3",
   "language": "python",
   "name": "python3"
  },
  "language_info": {
   "codemirror_mode": {
    "name": "ipython",
    "version": 2
   },
   "file_extension": ".py",
   "mimetype": "text/x-python",
   "name": "python",
   "nbconvert_exporter": "python",
   "pygments_lexer": "ipython2",
   "version": "2.7.6"
  }
 },
 "nbformat": 4,
 "nbformat_minor": 5
}
